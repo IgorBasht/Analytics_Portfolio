{
 "cells": [
  {
   "cell_type": "markdown",
   "metadata": {},
   "source": [
    "<div style=\"border:solid Purple 2px; padding: 40px\">\n",
    "\n",
    "<b>Привет, Игорь!👋\n",
    "\n",
    "Меня зовут Эльвира Нургалиева, я буду ревьюером твоего проекта. Предлагаю общаться на «ты», но если это не удобно - дай мне знать, и мы перейдем на «вы».\n",
    "\n",
    "\n",
    "Ты можешь найти мои комментарии, обозначенные <font color='green'>зеленым</font>, <font color='gold'>желтым</font> и <font color='red'>красным</font> цветами, например:\n",
    "\n",
    "\n",
    "<div class=\"alert alert-success\">\n",
    "<h2> Комментарий ревьюера 😊<a class=\"tocSkip\"> </h2>\n",
    "    \n",
    "Такими комментариями я буду помечать отлично проделаную работу😉\n",
    "</div>\n",
    "    \n",
    "<div class=\"alert alert-warning\">\n",
    "<h2> Комментарий ревьюера 🤓<a class=\"tocSkip\"> </h2>\n",
    "        \n",
    "В таких комментариях я постараюсь подсказать тебе более элегантное или легкое решение, некоторые хитрости и фишки. Части проекта, помеченные такими комментариями, можно не исправлять, но рекомендую обратить на них внимание.</div>\n",
    "\n",
    "<div class=\"alert alert-block alert-danger\">\n",
    "<h2> Комментарий ревьюера 🤔<a class=\"tocSkip\"></h2>\n",
    "    \n",
    "В случае, когда решение на отдельном шаге требует существенной переработки и внесения правок. Если ты видишь такой комментарий, значит здесть есть недочет, который следует исправить.\n",
    "</div>\n",
    "\n",
    "Ты также можешь реагировать на мои комментарии своими, выделяя их цветами и наиболее понравившимся тебе способом оформления, но явно  отличающимся от моих комментариев. Это нужно, чтобы не создавалась путаница🙃\n",
    "    \n",
    "<div class=\"alert alert-info\"> <b>Комментарий студента:</b> Например, вот так.</div>\n",
    "\n",
    "Чтобы сделать подобный блок, кликни здесь дважды и скопируй всю предыдущую строку ;)\n",
    "    \n",
    "Пожалуйста, не удаляй и не перемещай мои комментарии, они будут особенно полезны для нашей работы в случае повторной проверки проекта.</div></b>"
   ]
  },
  {
   "cell_type": "markdown",
   "metadata": {},
   "source": [
    "#  Анализ результатов A/B-теста интернет-магазина.\n",
    "\n",
    "Нужна приоритизировать гипотезы, запустить A/B-тест и проанализировать результаты.  \n",
    "  - Первый этап - изучение общий информации.\n",
    "  - Второй этап - предобработка данных.\n",
    "  - Третий этап - приоритизация гипотез.\n",
    "  - Четвертый этап - запустить A/B-тест и проверит гипотезы, анализ результатов.\n",
    "  - Пятый этап - общий вывод. \n",
    " \n",
    "Среди данных у нас есть гипотез по увеличению выручки интернет-магазина с указанными параметрами, идентификаторы заказа, идентификаторы пользователя, выручка заказа, количество пользователей. Данные разбиты на две группы A и B.\n",
    "\n"
   ]
  },
  {
   "cell_type": "markdown",
   "metadata": {},
   "source": [
    "<div class=\"alert alert-success\">\n",
    "<h2> Комментарий ревьюера 😊<a class=\"tocSkip\"> </h2>\n",
    "    \n",
    "Очень здорово, что ты начинаешь проект с такого подробного введения, так держать!\n",
    "</div>"
   ]
  },
  {
   "cell_type": "markdown",
   "metadata": {},
   "source": [
    "##   Изучение общий информации. "
   ]
  },
  {
   "cell_type": "code",
   "execution_count": 1,
   "metadata": {},
   "outputs": [],
   "source": [
    "import pandas as pd\n",
    "import datetime as dt\n",
    "import numpy as np\n",
    "import matplotlib.pyplot as plt\n",
    "from pandas.plotting import register_matplotlib_converters\n",
    "import warnings\n",
    "import scipy.stats as stats"
   ]
  },
  {
   "cell_type": "code",
   "execution_count": 2,
   "metadata": {
    "scrolled": false
   },
   "outputs": [
    {
     "data": {
      "text/html": [
       "<div>\n",
       "<style scoped>\n",
       "    .dataframe tbody tr th:only-of-type {\n",
       "        vertical-align: middle;\n",
       "    }\n",
       "\n",
       "    .dataframe tbody tr th {\n",
       "        vertical-align: top;\n",
       "    }\n",
       "\n",
       "    .dataframe thead th {\n",
       "        text-align: right;\n",
       "    }\n",
       "</style>\n",
       "<table border=\"1\" class=\"dataframe\">\n",
       "  <thead>\n",
       "    <tr style=\"text-align: right;\">\n",
       "      <th></th>\n",
       "      <th>Hypothesis</th>\n",
       "      <th>Reach</th>\n",
       "      <th>Impact</th>\n",
       "      <th>Confidence</th>\n",
       "      <th>Efforts</th>\n",
       "    </tr>\n",
       "  </thead>\n",
       "  <tbody>\n",
       "    <tr>\n",
       "      <th>0</th>\n",
       "      <td>Добавить два новых канала привлечения трафика, что позволит привлекать на 30% больше пользователей</td>\n",
       "      <td>3</td>\n",
       "      <td>10</td>\n",
       "      <td>8</td>\n",
       "      <td>6</td>\n",
       "    </tr>\n",
       "    <tr>\n",
       "      <th>1</th>\n",
       "      <td>Запустить собственную службу доставки, что сократит срок доставки заказов</td>\n",
       "      <td>2</td>\n",
       "      <td>5</td>\n",
       "      <td>4</td>\n",
       "      <td>10</td>\n",
       "    </tr>\n",
       "    <tr>\n",
       "      <th>2</th>\n",
       "      <td>Добавить блоки рекомендаций товаров на сайт интернет магазина, чтобы повысить конверсию и средний чек заказа</td>\n",
       "      <td>8</td>\n",
       "      <td>3</td>\n",
       "      <td>7</td>\n",
       "      <td>3</td>\n",
       "    </tr>\n",
       "    <tr>\n",
       "      <th>3</th>\n",
       "      <td>Изменить структура категорий, что увеличит конверсию, т.к. пользователи быстрее найдут нужный товар</td>\n",
       "      <td>8</td>\n",
       "      <td>3</td>\n",
       "      <td>3</td>\n",
       "      <td>8</td>\n",
       "    </tr>\n",
       "    <tr>\n",
       "      <th>4</th>\n",
       "      <td>Изменить цвет фона главной страницы, чтобы увеличить вовлеченность пользователей</td>\n",
       "      <td>3</td>\n",
       "      <td>1</td>\n",
       "      <td>1</td>\n",
       "      <td>1</td>\n",
       "    </tr>\n",
       "    <tr>\n",
       "      <th>5</th>\n",
       "      <td>Добавить страницу отзывов клиентов о магазине, что позволит увеличить количество заказов</td>\n",
       "      <td>3</td>\n",
       "      <td>2</td>\n",
       "      <td>2</td>\n",
       "      <td>3</td>\n",
       "    </tr>\n",
       "    <tr>\n",
       "      <th>6</th>\n",
       "      <td>Показать на главной странице баннеры с актуальными акциями и распродажами, чтобы увеличить конверсию</td>\n",
       "      <td>5</td>\n",
       "      <td>3</td>\n",
       "      <td>8</td>\n",
       "      <td>3</td>\n",
       "    </tr>\n",
       "    <tr>\n",
       "      <th>7</th>\n",
       "      <td>Добавить форму подписки на все основные страницы, чтобы собрать базу клиентов для email-рассылок</td>\n",
       "      <td>10</td>\n",
       "      <td>7</td>\n",
       "      <td>8</td>\n",
       "      <td>5</td>\n",
       "    </tr>\n",
       "    <tr>\n",
       "      <th>8</th>\n",
       "      <td>Запустить акцию, дающую скидку на товар в день рождения</td>\n",
       "      <td>1</td>\n",
       "      <td>9</td>\n",
       "      <td>9</td>\n",
       "      <td>5</td>\n",
       "    </tr>\n",
       "  </tbody>\n",
       "</table>\n",
       "</div>"
      ],
      "text/plain": [
       "                                                                                                     Hypothesis  \\\n",
       "0            Добавить два новых канала привлечения трафика, что позволит привлекать на 30% больше пользователей   \n",
       "1                                     Запустить собственную службу доставки, что сократит срок доставки заказов   \n",
       "2  Добавить блоки рекомендаций товаров на сайт интернет магазина, чтобы повысить конверсию и средний чек заказа   \n",
       "3           Изменить структура категорий, что увеличит конверсию, т.к. пользователи быстрее найдут нужный товар   \n",
       "4                              Изменить цвет фона главной страницы, чтобы увеличить вовлеченность пользователей   \n",
       "5                      Добавить страницу отзывов клиентов о магазине, что позволит увеличить количество заказов   \n",
       "6          Показать на главной странице баннеры с актуальными акциями и распродажами, чтобы увеличить конверсию   \n",
       "7              Добавить форму подписки на все основные страницы, чтобы собрать базу клиентов для email-рассылок   \n",
       "8                                                       Запустить акцию, дающую скидку на товар в день рождения   \n",
       "\n",
       "   Reach  Impact  Confidence  Efforts  \n",
       "0      3      10           8        6  \n",
       "1      2       5           4       10  \n",
       "2      8       3           7        3  \n",
       "3      8       3           3        8  \n",
       "4      3       1           1        1  \n",
       "5      3       2           2        3  \n",
       "6      5       3           8        3  \n",
       "7     10       7           8        5  \n",
       "8      1       9           9        5  "
      ]
     },
     "metadata": {},
     "output_type": "display_data"
    }
   ],
   "source": [
    "efforts = pd.read_csv('/datasets/hypothesis.csv')\n",
    "pd.options.display.max_colwidth = 130\n",
    "display(efforts)"
   ]
  },
  {
   "cell_type": "markdown",
   "metadata": {},
   "source": [
    "<div class=\"alert alert-warning\">\n",
    "<h2> Комментарий ревьюера 🤓<a class=\"tocSkip\"> </h2>\n",
    "        \n",
    "Расширить вывод содержимого ячеек мы можем с помощью следующей настройки, так мы сможем увидеть полный текст гипотез:\n",
    "    \n",
    "```python\n",
    "pd.options.display.max_colwidth = 130\n",
    "```\n",
    "</div>"
   ]
  },
  {
   "cell_type": "markdown",
   "metadata": {},
   "source": [
    "<div class=\"alert alert-success\">\n",
    "<h2> Комментарий ревьюера 😊 v_2 <a class=\"tocSkip\"> </h2>\n",
    "\n",
    "👍"
   ]
  },
  {
   "cell_type": "code",
   "execution_count": 3,
   "metadata": {},
   "outputs": [
    {
     "data": {
      "text/html": [
       "<div>\n",
       "<style scoped>\n",
       "    .dataframe tbody tr th:only-of-type {\n",
       "        vertical-align: middle;\n",
       "    }\n",
       "\n",
       "    .dataframe tbody tr th {\n",
       "        vertical-align: top;\n",
       "    }\n",
       "\n",
       "    .dataframe thead th {\n",
       "        text-align: right;\n",
       "    }\n",
       "</style>\n",
       "<table border=\"1\" class=\"dataframe\">\n",
       "  <thead>\n",
       "    <tr style=\"text-align: right;\">\n",
       "      <th></th>\n",
       "      <th>transactionId</th>\n",
       "      <th>visitorId</th>\n",
       "      <th>date</th>\n",
       "      <th>revenue</th>\n",
       "      <th>group</th>\n",
       "    </tr>\n",
       "  </thead>\n",
       "  <tbody>\n",
       "    <tr>\n",
       "      <th>0</th>\n",
       "      <td>3667963787</td>\n",
       "      <td>3312258926</td>\n",
       "      <td>2019-08-15</td>\n",
       "      <td>1650</td>\n",
       "      <td>B</td>\n",
       "    </tr>\n",
       "    <tr>\n",
       "      <th>1</th>\n",
       "      <td>2804400009</td>\n",
       "      <td>3642806036</td>\n",
       "      <td>2019-08-15</td>\n",
       "      <td>730</td>\n",
       "      <td>B</td>\n",
       "    </tr>\n",
       "    <tr>\n",
       "      <th>2</th>\n",
       "      <td>2961555356</td>\n",
       "      <td>4069496402</td>\n",
       "      <td>2019-08-15</td>\n",
       "      <td>400</td>\n",
       "      <td>A</td>\n",
       "    </tr>\n",
       "    <tr>\n",
       "      <th>3</th>\n",
       "      <td>3797467345</td>\n",
       "      <td>1196621759</td>\n",
       "      <td>2019-08-15</td>\n",
       "      <td>9759</td>\n",
       "      <td>B</td>\n",
       "    </tr>\n",
       "    <tr>\n",
       "      <th>4</th>\n",
       "      <td>2282983706</td>\n",
       "      <td>2322279887</td>\n",
       "      <td>2019-08-15</td>\n",
       "      <td>2308</td>\n",
       "      <td>B</td>\n",
       "    </tr>\n",
       "  </tbody>\n",
       "</table>\n",
       "</div>"
      ],
      "text/plain": [
       "   transactionId   visitorId        date  revenue group\n",
       "0     3667963787  3312258926  2019-08-15     1650     B\n",
       "1     2804400009  3642806036  2019-08-15      730     B\n",
       "2     2961555356  4069496402  2019-08-15      400     A\n",
       "3     3797467345  1196621759  2019-08-15     9759     B\n",
       "4     2282983706  2322279887  2019-08-15     2308     B"
      ]
     },
     "metadata": {},
     "output_type": "display_data"
    }
   ],
   "source": [
    "orders = pd.read_csv('/datasets/orders.csv')\n",
    "display(orders.head())"
   ]
  },
  {
   "cell_type": "code",
   "execution_count": 4,
   "metadata": {
    "scrolled": true
   },
   "outputs": [
    {
     "data": {
      "text/html": [
       "<div>\n",
       "<style scoped>\n",
       "    .dataframe tbody tr th:only-of-type {\n",
       "        vertical-align: middle;\n",
       "    }\n",
       "\n",
       "    .dataframe tbody tr th {\n",
       "        vertical-align: top;\n",
       "    }\n",
       "\n",
       "    .dataframe thead th {\n",
       "        text-align: right;\n",
       "    }\n",
       "</style>\n",
       "<table border=\"1\" class=\"dataframe\">\n",
       "  <thead>\n",
       "    <tr style=\"text-align: right;\">\n",
       "      <th></th>\n",
       "      <th>date</th>\n",
       "      <th>group</th>\n",
       "      <th>visitors</th>\n",
       "    </tr>\n",
       "  </thead>\n",
       "  <tbody>\n",
       "    <tr>\n",
       "      <th>0</th>\n",
       "      <td>2019-08-01</td>\n",
       "      <td>A</td>\n",
       "      <td>719</td>\n",
       "    </tr>\n",
       "    <tr>\n",
       "      <th>1</th>\n",
       "      <td>2019-08-02</td>\n",
       "      <td>A</td>\n",
       "      <td>619</td>\n",
       "    </tr>\n",
       "    <tr>\n",
       "      <th>2</th>\n",
       "      <td>2019-08-03</td>\n",
       "      <td>A</td>\n",
       "      <td>507</td>\n",
       "    </tr>\n",
       "    <tr>\n",
       "      <th>3</th>\n",
       "      <td>2019-08-04</td>\n",
       "      <td>A</td>\n",
       "      <td>717</td>\n",
       "    </tr>\n",
       "    <tr>\n",
       "      <th>4</th>\n",
       "      <td>2019-08-05</td>\n",
       "      <td>A</td>\n",
       "      <td>756</td>\n",
       "    </tr>\n",
       "  </tbody>\n",
       "</table>\n",
       "</div>"
      ],
      "text/plain": [
       "         date group  visitors\n",
       "0  2019-08-01     A       719\n",
       "1  2019-08-02     A       619\n",
       "2  2019-08-03     A       507\n",
       "3  2019-08-04     A       717\n",
       "4  2019-08-05     A       756"
      ]
     },
     "metadata": {},
     "output_type": "display_data"
    }
   ],
   "source": [
    "visitors = pd.read_csv('/datasets/visitors.csv')\n",
    "display(visitors.head())"
   ]
  },
  {
   "cell_type": "markdown",
   "metadata": {},
   "source": [
    "Для удобства нужно привести название столбцов в таблице efforts к нижнему регистру, проверить типы данных, следует изучить наличие пропусков и дубликатов."
   ]
  },
  {
   "cell_type": "markdown",
   "metadata": {},
   "source": [
    "<div class=\"alert alert-warning\">\n",
    "<h2> Комментарий ревьюера 🤓<a class=\"tocSkip\"> </h2>\n",
    "    \n",
    "Сразу после получения информации о таблице, будет здорово сформулировать вывод: проверить типы данных, а также важно понять, что по пропущенным значениям.\n",
    "</div>"
   ]
  },
  {
   "cell_type": "markdown",
   "metadata": {},
   "source": [
    "## Предобработка данных."
   ]
  },
  {
   "cell_type": "code",
   "execution_count": 5,
   "metadata": {},
   "outputs": [
    {
     "name": "stdout",
     "output_type": "stream",
     "text": [
      "Hypothesis    0\n",
      "Reach         0\n",
      "Impact        0\n",
      "Confidence    0\n",
      "Efforts       0\n",
      "dtype: int64\n",
      "Количество дубликатов: 0\n"
     ]
    }
   ],
   "source": [
    "print(efforts.isna().sum())\n",
    "print('Количество дубликатов:', efforts.duplicated().sum())"
   ]
  },
  {
   "cell_type": "code",
   "execution_count": 6,
   "metadata": {},
   "outputs": [
    {
     "name": "stdout",
     "output_type": "stream",
     "text": [
      "transactionId    0\n",
      "visitorId        0\n",
      "date             0\n",
      "revenue          0\n",
      "group            0\n",
      "dtype: int64\n",
      "Количество дубликатов: 0\n"
     ]
    }
   ],
   "source": [
    "print(orders.isna().sum())\n",
    "print('Количество дубликатов:', orders.duplicated().sum());"
   ]
  },
  {
   "cell_type": "code",
   "execution_count": 7,
   "metadata": {},
   "outputs": [
    {
     "name": "stdout",
     "output_type": "stream",
     "text": [
      "date        0\n",
      "group       0\n",
      "visitors    0\n",
      "dtype: int64\n",
      "Количество дубликатов: 0\n"
     ]
    }
   ],
   "source": [
    "print(visitors.isna().sum())\n",
    "print('Количество дубликатов:', visitors.duplicated().sum());"
   ]
  },
  {
   "cell_type": "markdown",
   "metadata": {},
   "source": [
    "<div class=\"alert alert-warning\">\n",
    "<h2> Комментарий ревьюера 🤓<a class=\"tocSkip\"> </h2>\n",
    "\n",
    "Импорт библиотек лучше производить в первой ячейке. Так сложней случайно удалить ячейку с загрузкой нужной библиотеки и сделать код не работающим. А получатель отчета сразу поймет, какие библиотеки ты используешь и какие ему нужно установить для запуска проекта.\n",
    "\n",
    "</div>"
   ]
  },
  {
   "cell_type": "code",
   "execution_count": 8,
   "metadata": {},
   "outputs": [],
   "source": [
    "orders['date'] = orders['date'].map(\n",
    "    lambda x: dt.datetime.strptime(x, '%Y-%m-%d')\n",
    ")\n",
    "\n",
    "\n",
    "visitors['date'] = visitors['date'].map(\n",
    "    lambda x: dt.datetime.strptime(x, '%Y-%m-%d')\n",
    ")\n",
    "#print(visitors)\n",
    "\n",
    "efforts.columns = efforts.columns.str.lower()"
   ]
  },
  {
   "cell_type": "markdown",
   "metadata": {},
   "source": [
    "У столбцов с датами изменены типы на более подходящие, пропусков и дубликатов нет."
   ]
  },
  {
   "cell_type": "markdown",
   "metadata": {},
   "source": [
    "<div class=\"alert alert-block alert-danger\">\n",
    "<h2> Комментарий ревьюера 🤔<a class=\"tocSkip\"></h2>\n",
    "    <s>\n",
    "Мы пропустили важные шаги предобработки - проверка на дубликаты и пропуски, давай добавим)"
   ]
  },
  {
   "cell_type": "markdown",
   "metadata": {},
   "source": [
    "<div class=\"alert alert-success\">\n",
    "<h2> Комментарий ревьюера 😊 v_2 <a class=\"tocSkip\"> </h2>\n",
    "\n",
    "Отлично)"
   ]
  },
  {
   "cell_type": "markdown",
   "metadata": {},
   "source": [
    "<div class=\"alert alert-warning\">\n",
    "<h2> Комментарий ревьюера 🤓<a class=\"tocSkip\"> </h2>\n",
    "        \n",
    "Можно провести дополнительные исследования, например: \n",
    "    \n",
    "* Посмотреть сколько у нас групп в АВ-тесте;\n",
    "* Изучить временной интервал, узнав даты начала и окончания теста;\n",
    "* Рассмотреть количество пользователей в каждой группе - по таблице с заказами;\n",
    "* Посмотреть не попадают ли какие-то пользователи в обе группы - по таблице с заказами.\n",
    "* Посмотреть динамику посетителей по дням по группам (visitos).\n",
    "</div>"
   ]
  },
  {
   "cell_type": "markdown",
   "metadata": {},
   "source": [
    "## Приоритизация гипотез."
   ]
  },
  {
   "cell_type": "code",
   "execution_count": 9,
   "metadata": {},
   "outputs": [
    {
     "name": "stdout",
     "output_type": "stream",
     "text": [
      "                                                                                                     hypothesis  \\\n",
      "8                                                       Запустить акцию, дающую скидку на товар в день рождения   \n",
      "0            Добавить два новых канала привлечения трафика, что позволит привлекать на 30% больше пользователей   \n",
      "7              Добавить форму подписки на все основные страницы, чтобы собрать базу клиентов для email-рассылок   \n",
      "6          Показать на главной странице баннеры с актуальными акциями и распродажами, чтобы увеличить конверсию   \n",
      "2  Добавить блоки рекомендаций товаров на сайт интернет магазина, чтобы повысить конверсию и средний чек заказа   \n",
      "\n",
      "     ICE  \n",
      "8  16.20  \n",
      "0  13.33  \n",
      "7  11.20  \n",
      "6   8.00  \n",
      "2   7.00  \n"
     ]
    }
   ],
   "source": [
    "efforts['ICE'] = efforts['impact'] * efforts['confidence'] / efforts['efforts']\n",
    "print(efforts[['hypothesis', 'ICE']].sort_values(by='ICE', ascending=False).head(5).round(2))"
   ]
  },
  {
   "cell_type": "markdown",
   "metadata": {},
   "source": [
    "<div class=\"alert alert-warning\">\n",
    "<h2> Комментарий ревьюера 🤓<a class=\"tocSkip\"> </h2>\n",
    "        \n",
    "Будет лучше округлить значения до 2 знаков после запятой. </div>   "
   ]
  },
  {
   "cell_type": "code",
   "execution_count": 10,
   "metadata": {},
   "outputs": [
    {
     "name": "stdout",
     "output_type": "stream",
     "text": [
      "                                                                                                     hypothesis  \\\n",
      "7              Добавить форму подписки на все основные страницы, чтобы собрать базу клиентов для email-рассылок   \n",
      "2  Добавить блоки рекомендаций товаров на сайт интернет магазина, чтобы повысить конверсию и средний чек заказа   \n",
      "0            Добавить два новых канала привлечения трафика, что позволит привлекать на 30% больше пользователей   \n",
      "6          Показать на главной странице баннеры с актуальными акциями и распродажами, чтобы увеличить конверсию   \n",
      "8                                                       Запустить акцию, дающую скидку на товар в день рождения   \n",
      "\n",
      "    RICE  \n",
      "7  112.0  \n",
      "2   56.0  \n",
      "0   40.0  \n",
      "6   40.0  \n",
      "8   16.2  \n"
     ]
    }
   ],
   "source": [
    "efforts['RICE'] = efforts['reach'] * efforts['impact'] * efforts['confidence'] / efforts['efforts'] \n",
    "print(efforts[['hypothesis', 'RICE']].sort_values(by='RICE', ascending=False).head(5))"
   ]
  },
  {
   "cell_type": "markdown",
   "metadata": {},
   "source": [
    "<div class=\"alert alert-warning\">\n",
    "<h2> Комментарий ревьюера 🤓 v_2<a class=\"tocSkip\"> </h2>\n",
    "\n",
    " Для отображения таблиц лучше использовать display(), вместо print()."
   ]
  },
  {
   "cell_type": "markdown",
   "metadata": {},
   "source": [
    "В топ пять входят гипотезы:\n",
    "\n",
    "- Добавить два новых канала привлечения трафика, что позволит привлекать на 30% больше пользователей.\n",
    "- Добавить блоки рекомендаций товаров на сайт интернет магазина, чтобы повысить конверсию и средний чек заказа.\n",
    "- Показать на главной странице баннеры с актуальными акциями и распродажами, чтобы увеличить конверсию.  \n",
    "- Добавить форму подписки на все основные страницы, чтобы собрать базу клиентов для email-рассылок. \n",
    "- Запустить акцию, дающую скидку на товар в день рождения.\n",
    "\n",
    "Но их порядок разница так как в RICE еще учитывается охват пользователей(Reach). У гипотезы \"Добавить форму подписки на все основные страницы\" Reach больше чем у \"Добавить два новых канала привлечения трафика\" и \"Запустить акцию, дающую скидку на товар в день рождения\" поэтому в RICE она занимает первое место, а в ICE \"Запустить акцию, дающую скидку на товар в день рождения\" занимает первую позицию.  "
   ]
  },
  {
   "cell_type": "markdown",
   "metadata": {},
   "source": [
    "<div class=\"alert alert-success\">\n",
    "<h2> Комментарий ревьюера 😊<a class=\"tocSkip\"> </h2>\n",
    "    \n",
    "Приоретизация гипотез проведена успешно! Молодец, что выводишь таблицу дважды, каждый раз с сортировкой по одному из фреймоврков, так различия в их работе будут максимально наглядными. Будет здорово добавить в начало небольшое описание фремворков, в выводе вместе с номером, стоит указать полное название гипотез. \n",
    "</div>   "
   ]
  },
  {
   "cell_type": "markdown",
   "metadata": {},
   "source": [
    "<div class=\"alert alert-block alert-danger\">\n",
    "<h2> Комментарий ревьюера 🤔<a class=\"tocSkip\"></h2>\n",
    "<s>\n",
    "Обрати внимание, что, на самом деле - мы выводим не номер, а индекс гипотезы в конкретном файле. Если такой вывод передать коллегам, то у них под этими номерами могут быть иные гипотезы. Поэтому следует указать полное название гипотез."
   ]
  },
  {
   "cell_type": "markdown",
   "metadata": {},
   "source": [
    "<div class=\"alert alert-success\">\n",
    "<h2> Комментарий ревьюера 😊 v_2 <a class=\"tocSkip\"> </h2>\n",
    "\n",
    "Так лучше)"
   ]
  },
  {
   "cell_type": "markdown",
   "metadata": {},
   "source": [
    "## Проверка гипотез и анализ результатов."
   ]
  },
  {
   "cell_type": "code",
   "execution_count": 11,
   "metadata": {
    "scrolled": true
   },
   "outputs": [
    {
     "data": {
      "image/png": "[encoded data removed]",
      "text/plain": [
       "<Figure size 576x288 with 1 Axes>"
      ]
     },
     "metadata": {
      "needs_background": "light"
     },
     "output_type": "display_data"
    }
   ],
   "source": [
    "datesGroups = orders[['date', 'group']].drop_duplicates()\n",
    "\n",
    "ordersAggregated = datesGroups.apply(\n",
    "    lambda x: orders[\n",
    "        np.logical_and(\n",
    "            orders['date'] <= x['date'], orders['group'] == x['group']\n",
    "        )\n",
    "    ].agg(\n",
    "        {\n",
    "            'date': 'max',\n",
    "            'group': 'max',\n",
    "            'transactionId': 'nunique',\n",
    "            'visitorId': 'nunique',\n",
    "            'revenue': 'sum',\n",
    "        }\n",
    "    ),\n",
    "    axis=1,\n",
    ").sort_values(by=['date', 'group'])\n",
    "\n",
    "visitorsAggregated = datesGroups.apply(\n",
    "    lambda x: visitors[\n",
    "        np.logical_and(\n",
    "            visitors['date'] <= x['date'], visitors['group'] == x['group']\n",
    "        )\n",
    "    ].agg({'date': 'max', 'group': 'max', 'visitors': 'sum'}),\n",
    "    axis=1,\n",
    ").sort_values(by=['date', 'group'])\n",
    "\n",
    "cumulativeData = ordersAggregated.merge(\n",
    "    visitorsAggregated, left_on=['date', 'group'], right_on=['date', 'group']\n",
    ")\n",
    "cumulativeData.columns = [\n",
    "    'date',\n",
    "    'group',\n",
    "    'orders',\n",
    "    'buyers',\n",
    "    'revenue',\n",
    "    'visitors',\n",
    "]\n",
    "cumulativeRevenueB = cumulativeData[cumulativeData['group']== 'B'][['date','revenue', 'orders']]\n",
    "cumulativeRevenueA = cumulativeData[cumulativeData['group']=='A'][['date','revenue', 'orders']]\n",
    "\n",
    "# Строим график выручки группы А\n",
    "plt.plot(cumulativeRevenueA['date'], cumulativeRevenueA['revenue'], label='A')\n",
    "\n",
    "# Строим график выручки группы B\n",
    "plt.plot(cumulativeRevenueB['date'], cumulativeRevenueB['revenue'], label='B')\n",
    "\n",
    "plt.legend()\n",
    "plt.axis([pd.to_datetime(\"2019-08-01\"), pd.to_datetime('2019-08-31'), 0, 7000000])\n",
    "plt.title('График кумулятивной выручки по группам')\n",
    "plt.xlabel('Дата проведения эксперемента')\n",
    "plt.ylabel('Выручка заказа')\n",
    "plt.gcf().set_size_inches(8, 4)\n",
    "plt.show();\n",
    "#№1"
   ]
  },
  {
   "cell_type": "markdown",
   "metadata": {},
   "source": [
    "Выручка обеих групп растет, группа B ближе к середине графика начинает опережать группу А и чуть позже делает резкий скачек, скорее всего это обусловлено большими заказами с аномальна высокой выручкой, либо высокое число заказов в выборке. "
   ]
  },
  {
   "cell_type": "markdown",
   "metadata": {},
   "source": [
    "<div class=\"alert alert-block alert-danger\">\n",
    "<h2> Комментарий ревьюера 🤔<a class=\"tocSkip\"></h2>\n",
    "   <s>\n",
    "Поскольку проект второго модуля, необходимо скорректировать отображение по оси х на всех графиках: можно увеличить график или немного повернуть подписи. \n",
    "    \n",
    "Давай также уточним какими аномалиями может быть обусловлен такой резкий скачок, что могло повлиять на значение выручки)"
   ]
  },
  {
   "cell_type": "markdown",
   "metadata": {},
   "source": [
    "<div class=\"alert alert-success\">\n",
    "<h2> Комментарий ревьюера 😊 v_2 <a class=\"tocSkip\"> </h2>\n",
    "\n",
    "Верно)"
   ]
  },
  {
   "cell_type": "code",
   "execution_count": 12,
   "metadata": {
    "scrolled": true
   },
   "outputs": [
    {
     "data": {
      "image/png": "[encoded data removed]",
      "text/plain": [
       "<Figure size 576x288 with 1 Axes>"
      ]
     },
     "metadata": {
      "needs_background": "light"
     },
     "output_type": "display_data"
    }
   ],
   "source": [
    "plt.plot(cumulativeRevenueA['date'], cumulativeRevenueA['revenue']/cumulativeRevenueA['orders'], label='A')\n",
    "plt.plot(cumulativeRevenueB['date'], cumulativeRevenueB['revenue']/cumulativeRevenueB['orders'], label='B')\n",
    "plt.axis([pd.to_datetime(\"2019-08-01\"), pd.to_datetime('2019-08-31'), 2000, 15000])\n",
    "plt.legend()\n",
    "plt.title('График кумулятивного среднего чека по группам')\n",
    "plt.xlabel('Дата проведения эксперимента')\n",
    "plt.ylabel('Средняя выручка заказа')\n",
    "plt.gcf().set_size_inches(8, 4)\n",
    "plt.show();\n",
    "#№2"
   ]
  },
  {
   "cell_type": "markdown",
   "metadata": {},
   "source": [
    "Средний чек не равномерен и группа A и группа B имеют очень резкие колебания, требуется дополнительный анализ выбросов которые искажают результаты."
   ]
  },
  {
   "cell_type": "code",
   "execution_count": 13,
   "metadata": {
    "scrolled": true
   },
   "outputs": [
    {
     "data": {
      "image/png": "[encoded data removed]",
      "text/plain": [
       "<Figure size 576x288 with 1 Axes>"
      ]
     },
     "metadata": {
      "needs_background": "light"
     },
     "output_type": "display_data"
    }
   ],
   "source": [
    "merge_c_r = cumulativeRevenueA.merge(cumulativeRevenueB, left_on='date', right_on='date', how='left', suffixes=['A', 'B'])\n",
    "\n",
    "\n",
    "plt.plot(merge_c_r['date'],\n",
    "         (merge_c_r['revenueB']/merge_c_r['ordersB'])/(merge_c_r['revenueA']/merge_c_r['ordersA'])-1\n",
    "        )\n",
    "plt.axhline(y=0, color='black', linestyle='--')\n",
    "plt.title('График относительного изменения кумулятивного среднего чека группы B к группе A')\n",
    "plt.xlabel('Дата проведения эксперимента')\n",
    "plt.ylabel('Средняя чек')\n",
    "plt.axis([pd.to_datetime(\"2019-08-01\"), pd.to_datetime('2019-08-30'), -0.3, 0.6])\n",
    "plt.gcf().set_size_inches(8, 4)\n",
    "plt.show();\n",
    "#№3"
   ]
  },
  {
   "cell_type": "markdown",
   "metadata": {},
   "source": [
    "По графику относительного изменения кумулятивного среднего чека видны различия, несколько дней сильно менялись данные их нужна проверять на аномалии, выбросы и крупные заказы."
   ]
  },
  {
   "cell_type": "code",
   "execution_count": 14,
   "metadata": {
    "scrolled": true
   },
   "outputs": [
    {
     "data": {
      "image/png": "[encoded data removed]",
      "text/plain": [
       "<Figure size 576x288 with 1 Axes>"
      ]
     },
     "metadata": {
      "needs_background": "light"
     },
     "output_type": "display_data"
    }
   ],
   "source": [
    "cumulativeOrdersB = cumulativeData[cumulativeData['group']== 'B'][['date', 'orders','visitors', 'buyers']]\n",
    "cumulativeOrdersA = cumulativeData[cumulativeData['group']=='A'][['date', 'orders', 'visitors', 'buyers']]\n",
    "\n",
    "plt.plot(cumulativeOrdersA['date'], cumulativeOrdersA['orders']/cumulativeOrdersA['visitors'], label='A')\n",
    "plt.plot(cumulativeOrdersB['date'], cumulativeOrdersB['orders']/cumulativeOrdersB['visitors'], label='B')\n",
    "plt.legend()\n",
    "plt.title('График кумулятивного среднего количества заказов')\n",
    "plt.xlabel('Дата проведения эксперимента')\n",
    "plt.ylabel('Средняя количества заказов')\n",
    "plt.axis([pd.to_datetime(\"2019-08-01\"), pd.to_datetime('2019-08-31'), 0.028, 0.04])\n",
    "plt.gcf().set_size_inches(8, 4)\n",
    "plt.show();"
   ]
  },
  {
   "cell_type": "markdown",
   "metadata": {},
   "source": [
    "Количество заказов в обеих группах к середине начинает быть стабильной. Группа В по мере накопления данных становится выше группы А и держится на этом уровне до конца теста."
   ]
  },
  {
   "cell_type": "markdown",
   "metadata": {},
   "source": [
    "<div class=\"alert alert-block alert-danger\">\n",
    "<h2> Комментарий ревьюера 🤔  <a class=\"tocSkip\"></h2>\n",
    "<s>\n",
    "Для того чтобы найти среднее количество заказов, нам необходимо поделить количество заказов на посетителей (visitors). Давай скорректируем показатели здесь и соответсвенно расчет разницы ниже и обновим выводы."
   ]
  },
  {
   "cell_type": "markdown",
   "metadata": {},
   "source": [
    "<div class=\"alert alert-success\">\n",
    "<h2> Комментарий ревьюера 😊 v_2 <a class=\"tocSkip\"> </h2>\n",
    "\n",
    "Теперь все верно)"
   ]
  },
  {
   "cell_type": "code",
   "execution_count": 15,
   "metadata": {
    "scrolled": true
   },
   "outputs": [
    {
     "data": {
      "image/png": "[encoded data removed]",
      "text/plain": [
       "<Figure size 576x288 with 1 Axes>"
      ]
     },
     "metadata": {
      "needs_background": "light"
     },
     "output_type": "display_data"
    }
   ],
   "source": [
    "merge_c_o = cumulativeOrdersA.merge(cumulativeOrdersB, left_on='date', right_on='date', how='left', suffixes=['A', 'B'])\n",
    "\n",
    "plt.plot(merge_c_o['date'],\n",
    "         (merge_c_o['ordersB']/merge_c_o['visitorsB'])/(merge_c_o['ordersA']/merge_c_o['visitorsA'])-1\n",
    "        )\n",
    "\n",
    "plt.axhline(y=0, color='black', linestyle='--')\n",
    "plt.axis([pd.to_datetime(\"2019-08-01\"), pd.to_datetime('2019-08-31'), -0.15, 0.25])\n",
    "plt.title('График относительного изменения кумулятивного среднего количества заказов на посетителя группы B к группе A')\n",
    "plt.xlabel('Дата проведения эксперимента')\n",
    "plt.ylabel('Средняя количества заказов')\n",
    "plt.gcf().set_size_inches(8, 4)\n",
    "plt.show();"
   ]
  },
  {
   "cell_type": "markdown",
   "metadata": {},
   "source": [
    "График различия среднего количества заказов между группами сообщает, что результаты группы B лучше группы A, на середине графика есть небольшой подъем возможна из за аномального количества заказов или выбросов."
   ]
  },
  {
   "attachments": {
    "image.png": {
     "image/png": "[encoded data removed]"
    }
   },
   "cell_type": "markdown",
   "metadata": {},
   "source": [
    "<div class=\"alert alert-block alert-danger\">\n",
    "<h2> Комментарий ревьюера 🤔 v_2 <a class=\"tocSkip\"> </h2>\n",
    "<s>\n",
    "Допущена ошибка в расчетах.  Мы делим посетителей на кол-во заказов в расчете группы В)\n",
    "    \n",
    "![image.png](attachment:image.png)"
   ]
  },
  {
   "cell_type": "markdown",
   "metadata": {},
   "source": [
    "<div class=\"alert alert-success\">\n",
    "<h2> Комментарий ревьюера 😊<a class=\"tocSkip\"> </h2>\n",
    "    \n",
    "Графики нуждаются в доработке)"
   ]
  },
  {
   "cell_type": "code",
   "execution_count": 16,
   "metadata": {
    "scrolled": false
   },
   "outputs": [
    {
     "data": {
      "text/html": [
       "<div>\n",
       "<style scoped>\n",
       "    .dataframe tbody tr th:only-of-type {\n",
       "        vertical-align: middle;\n",
       "    }\n",
       "\n",
       "    .dataframe tbody tr th {\n",
       "        vertical-align: top;\n",
       "    }\n",
       "\n",
       "    .dataframe thead th {\n",
       "        text-align: right;\n",
       "    }\n",
       "</style>\n",
       "<table border=\"1\" class=\"dataframe\">\n",
       "  <thead>\n",
       "    <tr style=\"text-align: right;\">\n",
       "      <th></th>\n",
       "      <th>user_id</th>\n",
       "      <th>orders</th>\n",
       "    </tr>\n",
       "  </thead>\n",
       "  <tbody>\n",
       "    <tr>\n",
       "      <th>1023</th>\n",
       "      <td>4256040402</td>\n",
       "      <td>11</td>\n",
       "    </tr>\n",
       "    <tr>\n",
       "      <th>591</th>\n",
       "      <td>2458001652</td>\n",
       "      <td>11</td>\n",
       "    </tr>\n",
       "    <tr>\n",
       "      <th>569</th>\n",
       "      <td>2378935119</td>\n",
       "      <td>9</td>\n",
       "    </tr>\n",
       "    <tr>\n",
       "      <th>487</th>\n",
       "      <td>2038680547</td>\n",
       "      <td>8</td>\n",
       "    </tr>\n",
       "    <tr>\n",
       "      <th>44</th>\n",
       "      <td>199603092</td>\n",
       "      <td>5</td>\n",
       "    </tr>\n",
       "    <tr>\n",
       "      <th>744</th>\n",
       "      <td>3062433592</td>\n",
       "      <td>5</td>\n",
       "    </tr>\n",
       "    <tr>\n",
       "      <th>55</th>\n",
       "      <td>237748145</td>\n",
       "      <td>5</td>\n",
       "    </tr>\n",
       "    <tr>\n",
       "      <th>917</th>\n",
       "      <td>3803269165</td>\n",
       "      <td>5</td>\n",
       "    </tr>\n",
       "    <tr>\n",
       "      <th>299</th>\n",
       "      <td>1230306981</td>\n",
       "      <td>5</td>\n",
       "    </tr>\n",
       "    <tr>\n",
       "      <th>897</th>\n",
       "      <td>3717692402</td>\n",
       "      <td>5</td>\n",
       "    </tr>\n",
       "  </tbody>\n",
       "</table>\n",
       "</div>"
      ],
      "text/plain": [
       "         user_id  orders\n",
       "1023  4256040402      11\n",
       "591   2458001652      11\n",
       "569   2378935119       9\n",
       "487   2038680547       8\n",
       "44     199603092       5\n",
       "744   3062433592       5\n",
       "55     237748145       5\n",
       "917   3803269165       5\n",
       "299   1230306981       5\n",
       "897   3717692402       5"
      ]
     },
     "metadata": {},
     "output_type": "display_data"
    },
    {
     "data": {
      "image/png": "[encoded data removed]",
      "text/plain": [
       "<Figure size 432x288 with 1 Axes>"
      ]
     },
     "metadata": {
      "needs_background": "light"
     },
     "output_type": "display_data"
    }
   ],
   "source": [
    "ordersByUsers = (\n",
    "    orders.groupby('visitorId', as_index=False)\n",
    "    .agg({'transactionId': 'nunique'})\n",
    ")\n",
    "ordersByUsers.columns = ['user_id', 'orders']\n",
    "\n",
    "display(ordersByUsers.sort_values(by='orders', ascending=False).head(10))\n",
    "\n",
    "# серия из чисел от 0 до количества наблюдений в ordersByUsers\n",
    "x_values = pd.Series(range(0, len(ordersByUsers['orders'])))\n",
    "plt.scatter(x_values, ordersByUsers['orders'])\n",
    "plt.title('График количества заказов по пользователям')\n",
    "plt.xlabel('Пользователи')\n",
    "plt.ylabel('Количества заказов')\n",
    "plt.show();\n",
    "#№6"
   ]
  },
  {
   "cell_type": "markdown",
   "metadata": {},
   "source": [
    "Есть много пользователей с 2-5 заказами."
   ]
  },
  {
   "cell_type": "code",
   "execution_count": 17,
   "metadata": {},
   "outputs": [
    {
     "name": "stdout",
     "output_type": "stream",
     "text": [
      "[1. 2. 4.]\n"
     ]
    }
   ],
   "source": [
    "print(np.percentile(ordersByUsers['orders'], [90, 95, 99]))\n",
    "#№7"
   ]
  },
  {
   "cell_type": "markdown",
   "metadata": {},
   "source": [
    "Не больше 5% пользователей совершили больше двух заказов и не больше 1% пользователей совершили больше четырех заказов. За аномалию возьмем 3 заказами. "
   ]
  },
  {
   "cell_type": "code",
   "execution_count": 18,
   "metadata": {
    "scrolled": false
   },
   "outputs": [
    {
     "data": {
      "text/html": [
       "<div>\n",
       "<style scoped>\n",
       "    .dataframe tbody tr th:only-of-type {\n",
       "        vertical-align: middle;\n",
       "    }\n",
       "\n",
       "    .dataframe tbody tr th {\n",
       "        vertical-align: top;\n",
       "    }\n",
       "\n",
       "    .dataframe thead th {\n",
       "        text-align: right;\n",
       "    }\n",
       "</style>\n",
       "<table border=\"1\" class=\"dataframe\">\n",
       "  <thead>\n",
       "    <tr style=\"text-align: right;\">\n",
       "      <th></th>\n",
       "      <th>transactionId</th>\n",
       "      <th>visitorId</th>\n",
       "      <th>date</th>\n",
       "      <th>revenue</th>\n",
       "      <th>group</th>\n",
       "    </tr>\n",
       "  </thead>\n",
       "  <tbody>\n",
       "    <tr>\n",
       "      <th>425</th>\n",
       "      <td>590470918</td>\n",
       "      <td>1920142716</td>\n",
       "      <td>2019-08-19</td>\n",
       "      <td>1294500</td>\n",
       "      <td>B</td>\n",
       "    </tr>\n",
       "    <tr>\n",
       "      <th>1196</th>\n",
       "      <td>3936777065</td>\n",
       "      <td>2108080724</td>\n",
       "      <td>2019-08-15</td>\n",
       "      <td>202740</td>\n",
       "      <td>B</td>\n",
       "    </tr>\n",
       "    <tr>\n",
       "      <th>858</th>\n",
       "      <td>192721366</td>\n",
       "      <td>1316129916</td>\n",
       "      <td>2019-08-27</td>\n",
       "      <td>93940</td>\n",
       "      <td>A</td>\n",
       "    </tr>\n",
       "    <tr>\n",
       "      <th>1136</th>\n",
       "      <td>666610489</td>\n",
       "      <td>1307669133</td>\n",
       "      <td>2019-08-13</td>\n",
       "      <td>92550</td>\n",
       "      <td>A</td>\n",
       "    </tr>\n",
       "    <tr>\n",
       "      <th>744</th>\n",
       "      <td>3668308183</td>\n",
       "      <td>888512513</td>\n",
       "      <td>2019-08-27</td>\n",
       "      <td>86620</td>\n",
       "      <td>B</td>\n",
       "    </tr>\n",
       "    <tr>\n",
       "      <th>682</th>\n",
       "      <td>1216533772</td>\n",
       "      <td>4266935830</td>\n",
       "      <td>2019-08-29</td>\n",
       "      <td>78990</td>\n",
       "      <td>B</td>\n",
       "    </tr>\n",
       "    <tr>\n",
       "      <th>662</th>\n",
       "      <td>1811671147</td>\n",
       "      <td>4266935830</td>\n",
       "      <td>2019-08-29</td>\n",
       "      <td>78990</td>\n",
       "      <td>A</td>\n",
       "    </tr>\n",
       "    <tr>\n",
       "      <th>743</th>\n",
       "      <td>3603576309</td>\n",
       "      <td>4133034833</td>\n",
       "      <td>2019-08-09</td>\n",
       "      <td>67990</td>\n",
       "      <td>A</td>\n",
       "    </tr>\n",
       "    <tr>\n",
       "      <th>1103</th>\n",
       "      <td>1348774318</td>\n",
       "      <td>1164614297</td>\n",
       "      <td>2019-08-12</td>\n",
       "      <td>66350</td>\n",
       "      <td>A</td>\n",
       "    </tr>\n",
       "    <tr>\n",
       "      <th>1099</th>\n",
       "      <td>316924019</td>\n",
       "      <td>148427295</td>\n",
       "      <td>2019-08-12</td>\n",
       "      <td>65710</td>\n",
       "      <td>A</td>\n",
       "    </tr>\n",
       "  </tbody>\n",
       "</table>\n",
       "</div>"
      ],
      "text/plain": [
       "      transactionId   visitorId       date  revenue group\n",
       "425       590470918  1920142716 2019-08-19  1294500     B\n",
       "1196     3936777065  2108080724 2019-08-15   202740     B\n",
       "858       192721366  1316129916 2019-08-27    93940     A\n",
       "1136      666610489  1307669133 2019-08-13    92550     A\n",
       "744      3668308183   888512513 2019-08-27    86620     B\n",
       "682      1216533772  4266935830 2019-08-29    78990     B\n",
       "662      1811671147  4266935830 2019-08-29    78990     A\n",
       "743      3603576309  4133034833 2019-08-09    67990     A\n",
       "1103     1348774318  1164614297 2019-08-12    66350     A\n",
       "1099      316924019   148427295 2019-08-12    65710     A"
      ]
     },
     "metadata": {},
     "output_type": "display_data"
    },
    {
     "data": {
      "image/png": "[encoded data removed]",
      "text/plain": [
       "<Figure size 432x288 with 1 Axes>"
      ]
     },
     "metadata": {
      "needs_background": "light"
     },
     "output_type": "display_data"
    }
   ],
   "source": [
    "display(orders.sort_values(by='revenue', ascending=False).head(10))\n",
    "\n",
    "x_values = pd.Series(range(0, len(orders['revenue'])))\n",
    "plt.scatter(x_values, orders['revenue'])\n",
    "plt.title('График стоимостей заказов')\n",
    "plt.xlabel('Заказы')\n",
    "plt.ylabel('Стоимость заказа')\n",
    "plt.show();\n",
    "#№8 "
   ]
  },
  {
   "cell_type": "markdown",
   "metadata": {},
   "source": [
    "Есть выбросы в районе 200 000 рублей и в 1 200 000 рублей. "
   ]
  },
  {
   "cell_type": "markdown",
   "metadata": {},
   "source": [
    "<div class=\"alert alert-warning\">\n",
    "<h2> Комментарий ревьюера 🤓<a class=\"tocSkip\"> </h2>\n",
    "Можно добавить еще один график, ограничив значения по оси Y. Чтобы двух явных выбросов не было видно, а мы могли рассмотреть основную часть заказов."
   ]
  },
  {
   "cell_type": "code",
   "execution_count": 19,
   "metadata": {},
   "outputs": [
    {
     "name": "stdout",
     "output_type": "stream",
     "text": [
      "[18168.  28000.  58233.2]\n"
     ]
    }
   ],
   "source": [
    "print(np.percentile(orders['revenue'], [90, 95, 99])) \n",
    "#№9"
   ]
  },
  {
   "cell_type": "markdown",
   "metadata": {},
   "source": [
    "Не более, чем у 5% заказов чек дороже 28000. И не больше, чем у 1% заказов - дороже 58233 рублей. За аномалии возьмем 50000."
   ]
  },
  {
   "cell_type": "markdown",
   "metadata": {},
   "source": [
    "<div class=\"alert alert-success\">\n",
    "<h2> Комментарий ревьюера 😊<a class=\"tocSkip\"> </h2>\n",
    "\n",
    "Расчеты аномальных значений проведены верно, молодец)"
   ]
  },
  {
   "cell_type": "markdown",
   "metadata": {},
   "source": [
    "<div class=\"alert alert-warning\">\n",
    "<h2> Комментарий ревьюера 🤓<a class=\"tocSkip\"> </h2>\n",
    "Расчеты верные, а вот по выводам так и не ясно, что же мы будем принимать за аномалии. Можешь детализировать этот момент и указать принятые границы аномалий.\n",
    "</div>"
   ]
  },
  {
   "cell_type": "code",
   "execution_count": 20,
   "metadata": {},
   "outputs": [],
   "source": [
    "ordersADaily = (\n",
    "    orders[orders['group'] == 'A'][['date', 'transactionId', 'visitorId', 'revenue']]\n",
    "    .groupby('date', as_index=False)\n",
    "    .agg({'visitorId': pd.Series.nunique, 'revenue': 'sum'})\n",
    ")\n",
    "ordersADaily.columns = ['date', 'ordersPerDateA', 'revenuePerDateA']\n",
    "\n",
    "ordersBDaily = (\n",
    "    orders[orders['group'] == 'B'][['date', 'transactionId', 'visitorId', 'revenue']]\n",
    "    .groupby('date', as_index=False)\n",
    "    .agg({'visitorId': pd.Series.nunique, 'revenue': 'sum'})\n",
    ")\n",
    "ordersBDaily.columns = ['date', 'ordersPerDateB', 'revenuePerDateB']"
   ]
  },
  {
   "cell_type": "code",
   "execution_count": 21,
   "metadata": {
    "scrolled": false
   },
   "outputs": [],
   "source": [
    "cumulativeRevenueA.columns = ['date',  'revenueCummulativeA','ordersCummulativeA'] \n",
    "cumulativeRevenueB.columns = ['date',  'revenueCummulativeB','ordersCummulativeB'] "
   ]
  },
  {
   "cell_type": "code",
   "execution_count": 22,
   "metadata": {},
   "outputs": [],
   "source": [
    "visitorsADaily = visitors[visitors['group'] == 'A'][['date', 'visitors']]\n",
    "visitorsADaily.columns = ['date', 'visitorsPerDateA']\n",
    "visitorsBDaily = visitors[visitors['group'] == 'B'][['date', 'visitors']]\n",
    "visitorsBDaily.columns = ['date', 'visitorsPerDateB']"
   ]
  },
  {
   "cell_type": "code",
   "execution_count": 23,
   "metadata": {},
   "outputs": [],
   "source": [
    "visitorsACummulative = visitorsADaily.apply(\n",
    "    lambda x: visitorsADaily[visitorsADaily['date'] <= x['date']].agg(\n",
    "        {'date': 'max', 'visitorsPerDateA': 'sum'}\n",
    "    ),\n",
    "    axis=1,\n",
    ")\n",
    "visitorsACummulative.columns = ['date', 'visitorsCummulativeA']\n",
    "\n",
    "visitorsBCummulative = visitorsBDaily.apply(\n",
    "    lambda x: visitorsBDaily[visitorsBDaily['date'] <= x['date']].agg(\n",
    "        {'date': 'max', 'visitorsPerDateB': 'sum'}\n",
    "    ),\n",
    "    axis=1,\n",
    ")\n",
    "visitorsBCummulative.columns = ['date', 'visitorsCummulativeB']\n",
    "#print(visitorsBCummulative)"
   ]
  },
  {
   "cell_type": "code",
   "execution_count": 24,
   "metadata": {},
   "outputs": [],
   "source": [
    "data = (\n",
    "    ordersADaily.merge(\n",
    "        ordersBDaily, left_on='date', right_on='date', how='left'\n",
    "    )\n",
    "    .merge(cumulativeRevenueA, left_on='date', right_on='date', how='left')\n",
    "    .merge(cumulativeRevenueB, left_on='date', right_on='date', how='left')\n",
    "    .merge(visitorsADaily, left_on='date', right_on='date', how='left')\n",
    "    .merge(visitorsBDaily, left_on='date', right_on='date', how='left')\n",
    "    .merge(visitorsACummulative, left_on='date', right_on='date', how='left')\n",
    "    .merge(visitorsBCummulative, left_on='date', right_on='date', how='left')\n",
    ")"
   ]
  },
  {
   "cell_type": "code",
   "execution_count": 25,
   "metadata": {},
   "outputs": [],
   "source": [
    "ordersByUsersA = (\n",
    "    orders[orders['group'] == 'A']\n",
    "    .groupby('visitorId', as_index=False)\n",
    "    .agg({'transactionId' : pd.Series.nunique})\n",
    ")\n",
    "\n",
    "ordersByUsersA.columns = ['user_id', 'orders']\n",
    "\n",
    "ordersByUsersB = (\n",
    "orders[orders['group'] == 'B']\n",
    "    .groupby('visitorId', as_index=False)\n",
    "    .agg({'transactionId' : pd.Series.nunique})\n",
    ")\n",
    "ordersByUsersB.columns = ['user_id', 'orders'] \n",
    "    \n",
    "pd.Series(0, index=np.arange(data['visitorsPerDateA'].sum()-len(ordersByUsersA['orders'])), name='ordres')\n",
    "\n",
    "[ordersByUsersA['orders'],\n",
    " pd.Series(0, index=np.arange(data['visitorsPerDateA'].sum() - len(ordersByUsersA['orders'])), \n",
    "           name='orders')];"
   ]
  },
  {
   "cell_type": "code",
   "execution_count": 26,
   "metadata": {},
   "outputs": [],
   "source": [
    "sampleA = pd.concat(\n",
    "    [\n",
    "        ordersByUsersA['orders'],\n",
    "        pd.Series(\n",
    "            0,\n",
    "            index=np.arange(\n",
    "                data['visitorsPerDateA'].sum() - len(ordersByUsersA['orders'])\n",
    "            ),\n",
    "            name='orders',\n",
    "        ),\n",
    "    ],\n",
    "    axis=0,\n",
    ")\n",
    "\n",
    "sampleB = pd.concat(\n",
    "    [\n",
    "        ordersByUsersB['orders'],\n",
    "        pd.Series(\n",
    "            0,\n",
    "            index=np.arange(\n",
    "                data['visitorsPerDateB'].sum() - len(ordersByUsersB['orders'])\n",
    "            ),\n",
    "            name='orders',\n",
    "        ),\n",
    "    ],\n",
    "    axis=0,\n",
    ")\n"
   ]
  },
  {
   "cell_type": "markdown",
   "metadata": {},
   "source": [
    "Проверим статистическую значимость различий в среднем количестве заказов на посетителя по «сырым» данным.\n",
    "\n",
    "Сформулируем гипотезы:\n",
    "- Нулевая: различий в среднем количестве заказов между группами нет. \n",
    "- Альтернативная: различия в среднем между группами есть."
   ]
  },
  {
   "cell_type": "code",
   "execution_count": 27,
   "metadata": {},
   "outputs": [
    {
     "name": "stdout",
     "output_type": "stream",
     "text": [
      "Значения p-value: 0.017\n",
      "Различие в средних: 0.138\n"
     ]
    }
   ],
   "source": [
    "#статистическая значимость различий в среднем количестве заказов на посетителя\n",
    "print('Значения p-value:', \"{0:.3f}\".format(stats.mannwhitneyu(sampleA, sampleB)[1]))\n",
    "print('Различие в средних:', \"{0:.3f}\".format(sampleB.mean() / sampleA.mean() - 1))\n",
    "#№10"
   ]
  },
  {
   "cell_type": "markdown",
   "metadata": {},
   "source": [
    "<div class=\"alert alert-warning\">\n",
    "<h2> Комментарий ревьюера 🤓<a class=\"tocSkip\"> </h2>\n",
    "\n",
    "Чтобы не возникало путаницы, следует подписать значения, какое из них - p-value, а какое - различие в средних. "
   ]
  },
  {
   "cell_type": "markdown",
   "metadata": {},
   "source": [
    "Вывод: По «сырым» данным различий в среднем числе заказов групп A и B есть. Разница между сегментами 13%."
   ]
  },
  {
   "cell_type": "markdown",
   "metadata": {},
   "source": [
    "<div class=\"alert alert-success\">\n",
    "<h2> Комментарий ревьюера 😊<a class=\"tocSkip\"> </h2>\n",
    "Гипотезы сформулированы верно и значение p-value интерпретировано правильно. Хорошая работа.\n",
    "</div>"
   ]
  },
  {
   "cell_type": "markdown",
   "metadata": {},
   "source": [
    "<div class=\"alert alert-block alert-danger\">\n",
    "<h2> Комментарий ревьюера 🤔<a class=\"tocSkip\"></h2>\n",
    "<s>\n",
    "Давай также укажем в выводах расшифровку второго значения, которое мы рассчитали."
   ]
  },
  {
   "cell_type": "markdown",
   "metadata": {},
   "source": [
    "Теперь проверим статистическую значимость различий в среднем чеке между группами по «сырым» данным.\n",
    "\n",
    "Сформулируем гипотезы:\n",
    "- Нулевая гипотеза: различий в среднем чеке между группами нет. \n",
    "- Альтернативная гипотеза: различия в среднем чеке между группами есть. "
   ]
  },
  {
   "cell_type": "code",
   "execution_count": 28,
   "metadata": {
    "scrolled": true
   },
   "outputs": [
    {
     "name": "stdout",
     "output_type": "stream",
     "text": [
      "Значения p-value: 0.729\n",
      "Различие в средних: 0.259\n"
     ]
    }
   ],
   "source": [
    "print('Значения p-value:', '{0:.3f}'.format(stats.mannwhitneyu(orders[orders['group']=='A']['revenue'], orders[orders['group']=='B']['revenue'])[1]))\n",
    "print('Различие в средних:', '{0:.3f}'.format(orders[orders['group']=='B']['revenue'].mean()/orders[orders['group']=='A']['revenue'].mean()-1))\n",
    "#№11"
   ]
  },
  {
   "cell_type": "markdown",
   "metadata": {},
   "source": [
    "Вывод: Причин отвергать нулевую гипотезу и считать, что в среднем чеке есть различия, нет. Разница между сегментами 26%. "
   ]
  },
  {
   "cell_type": "code",
   "execution_count": 29,
   "metadata": {},
   "outputs": [
    {
     "name": "stdout",
     "output_type": "stream",
     "text": [
      "1099    148427295\n",
      "18      199603092\n",
      "23      237748145\n",
      "1137    759473111\n",
      "949     887908475\n",
      "dtype: int64\n"
     ]
    }
   ],
   "source": [
    "usersWithManyOrders = pd.concat(\n",
    "[\n",
    "    ordersByUsersA[ordersByUsersA['orders'] > 3]['user_id'],\n",
    "    ordersByUsersB[ordersByUsersB['orders'] > 3]['user_id'],\n",
    "],\n",
    "axis=0,\n",
    ")\n",
    "usersWithExpensiveOrders = orders[orders['revenue'] > 50000]['visitorId']\n",
    "abnormalUsers =(\n",
    "    pd.concat([usersWithManyOrders, usersWithExpensiveOrders], axis=0)\n",
    "    .drop_duplicates()\n",
    "    .sort_values()\n",
    "    )\n",
    "print(abnormalUsers.head(5))\n",
    "#№12"
   ]
  },
  {
   "cell_type": "markdown",
   "metadata": {},
   "source": [
    "<div class=\"alert alert-warning\">\n",
    "<h2> Комментарий ревьюера 🤓<a class=\"tocSkip\"> </h2>\n",
    "\n",
    "Чтобы в дальнейшем мы могли использовать анализ повторно, будет лучше отказаться от  ручного ввода обозначаемых границ, и заменить на соответствующие коду обозначения (перцентили))\n",
    "\n",
    " Использовать 95% перцентиль для отсечения выбросов - возможный вариант. Но в данном случае лучше использовать 99% перцентиль. Мы фильтруем по двум параметрам. А значит при последовательном отсечении 5%, мы отбросим больше 5%, а это не очень хорошо."
   ]
  },
  {
   "cell_type": "code",
   "execution_count": 30,
   "metadata": {},
   "outputs": [],
   "source": [
    "sampleAFiltered = pd.concat(\n",
    "    [\n",
    "        ordersByUsersA[\n",
    "            np.logical_not(ordersByUsersA['user_id'].isin(abnormalUsers))\n",
    "        ]['orders'],\n",
    "        pd.Series(\n",
    "            0,\n",
    "            index=np.arange(\n",
    "                data['visitorsPerDateA'].sum() - len(ordersByUsersA['orders'])\n",
    "            ),\n",
    "            name='orders',\n",
    "        ),\n",
    "    ],\n",
    "    axis=0,\n",
    ")\n",
    "\n",
    "sampleBFiltered = pd.concat(\n",
    "    [\n",
    "        ordersByUsersB[\n",
    "            np.logical_not(ordersByUsersB['user_id'].isin(abnormalUsers))\n",
    "        ]['orders'],\n",
    "        pd.Series(\n",
    "            0,\n",
    "            index=np.arange(\n",
    "                data['visitorsPerDateB'].sum() - len(ordersByUsersB['orders'])\n",
    "            ),\n",
    "            name='orders',\n",
    "        ),\n",
    "    ],\n",
    "    axis=0,\n",
    ") \n",
    "#№12"
   ]
  },
  {
   "cell_type": "markdown",
   "metadata": {},
   "source": [
    "Проверим статистическую значимость различий в среднем количестве заказов на посетителя по «очищенным»  данным.\n",
    "\n",
    "Сформулируем гипотезы:\n",
    "- Нулевая: различий в среднем количестве заказов между группами нет. \n",
    "- Альтернативная: различия в среднем между группами есть.\n"
   ]
  },
  {
   "cell_type": "code",
   "execution_count": 31,
   "metadata": {
    "scrolled": true
   },
   "outputs": [
    {
     "name": "stdout",
     "output_type": "stream",
     "text": [
      "Значения p-value: 0.011\n",
      "Различие в средних: 0.158\n"
     ]
    }
   ],
   "source": [
    "print('Значения p-value:', '{0:.3f}'.format(stats.mannwhitneyu(sampleAFiltered, sampleBFiltered)[1]))\n",
    "print('Различие в средних:', '{0:.3f}'.format(sampleBFiltered.mean()/sampleAFiltered.mean()-1)) \n",
    "#№12"
   ]
  },
  {
   "cell_type": "markdown",
   "metadata": {},
   "source": [
    "Вывод: По «очищенным» данным различий в среднем числе заказов групп A и B есть. Результаты по среднему количеству заказов практически не изменились."
   ]
  },
  {
   "cell_type": "markdown",
   "metadata": {},
   "source": [
    "Теперь проверим статистическую значимость различий в среднем чеке между группами по «очищенным» данным.\n",
    "\n",
    "Сформулируем гипотезы:\n",
    "\n",
    "- Нулевая: различий в  среднем чеке между группами нет.\n",
    "- Альтернативная: различия в среднем между группами есть."
   ]
  },
  {
   "cell_type": "code",
   "execution_count": 32,
   "metadata": {
    "scrolled": true
   },
   "outputs": [
    {
     "name": "stdout",
     "output_type": "stream",
     "text": [
      "Значения p-value: 0.819\n",
      "Различие в средних: 0.024\n"
     ]
    }
   ],
   "source": [
    "print('Значения p-value:',\n",
    "    '{0:.3f}'.format(\n",
    "        stats.mannwhitneyu(\n",
    "            orders[\n",
    "                np.logical_and(\n",
    "                    orders['group'] == 'A',\n",
    "                    np.logical_not(orders['visitorId'].isin(abnormalUsers)),\n",
    "                )\n",
    "            ]['revenue'],\n",
    "            orders[\n",
    "                np.logical_and(\n",
    "                    orders['group'] == 'B',\n",
    "                    np.logical_not(orders['visitorId'].isin(abnormalUsers)),\n",
    "                )\n",
    "            ]['revenue'],\n",
    "        )[1]\n",
    "    )\n",
    ")\n",
    "\n",
    "print('Различие в средних:',\n",
    "    \"{0:.3f}\".format(\n",
    "        orders[\n",
    "            np.logical_and(\n",
    "                orders['group'] == 'B',\n",
    "                np.logical_not(orders['visitorId'].isin(abnormalUsers)),\n",
    "            )\n",
    "        ]['revenue'].mean()\n",
    "        / orders[\n",
    "            np.logical_and(\n",
    "                orders['group'] == 'A',\n",
    "                np.logical_not(orders['visitorId'].isin(abnormalUsers)),\n",
    "            )\n",
    "        ]['revenue'].mean()\n",
    "        - 1\n",
    "    )\n",
    ") \n",
    "#№13"
   ]
  },
  {
   "cell_type": "markdown",
   "metadata": {},
   "source": [
    "Вывод: Причин отвергать нулевую гипотезу и считать, что в среднем чеке есть различия, нет.  P-value увеличелось, разница между сегментами сократилась с 25% до 2%."
   ]
  },
  {
   "cell_type": "markdown",
   "metadata": {},
   "source": [
    "<div class=\"alert alert-success\">\n",
    "<h2> Комментарий ревьюера 😊<a class=\"tocSkip\"> </h2>\n",
    "    \n",
    "Статистический анализ выполнен правильно, замечательная работа!)"
   ]
  },
  {
   "cell_type": "markdown",
   "metadata": {},
   "source": [
    "## Общие вывод.\n"
   ]
  },
  {
   "cell_type": "markdown",
   "metadata": {},
   "source": [
    "Результаты исследования: \n",
    "\n",
    "- При проведении теста лучше выбирать \"Запустить акцию, дающую скидку на товар в день рождения\"(при учете ICE) или \"Добавить форму подписки на все основные страницы\"(при учете RICE)\n",
    "- Есть статистически значимые различия по среднему количеству заказов между группами по «сырым» и по данным после фильтрации аномалий;\n",
    "- Нет статистически значимого различия по среднему чеку между группами ни по «сырым», ни по данным после фильтрации аномалий;\n",
    "- График различия среднего чека колеблется. Сделать из этого графика определённые выводы нельзя;\n",
    "- График различия среднего количества заказов на посетителя показывает, что результаты группы B лучше группы A;\n",
    "\n",
    "По количеству заказов есть результат тут тест успешен, но по среднему чеку результатов нет. \n",
    "Вероятность, что продолжив наблюдения теста по среднему чеку между группами B может оказаться на самом деле лучше сегмента A мало вероятна, здесь тест можно признать неуспешным.\n",
    "Тест можно остановить группа B показала результат по увеличению количества заказов лучше чем группа А, тест можно признать успешным."
   ]
  },
  {
   "cell_type": "markdown",
   "metadata": {},
   "source": [
    "<div class=\"alert alert-block alert-danger\">\n",
    "<h2> Комментарий ревьюера 🤔<a class=\"tocSkip\"></h2>\n",
    "<s>\n",
    "Давай уточним какое решение по тесту мы принимаем) \n",
    "    \n",
    "Так же можно дополнить вывод результатами приоретизации гипотез."
   ]
  },
  {
   "cell_type": "markdown",
   "metadata": {},
   "source": [
    "<div style=\"border:solid Purple 2px; padding: 40px\">\n",
    "\n",
    "<h2> Общий комментарий ревьюера 😊 v_3<a class=\"tocSkip\"> </h2>\n",
    "    <br/>\n",
    "Игорь, спасибо за проект! Успехов в дальнейшем обучении!)\n",
    "  "
   ]
  },
  {
   "cell_type": "markdown",
   "metadata": {},
   "source": [
    "<div style=\"border:solid Purple 2px; padding: 40px\">\n",
    "\n",
    "<h2> Общий комментарий ревьюера 😊 v_2<a class=\"tocSkip\"> </h2>\n",
    "    <br/>\n",
    "    \n",
    "Игорь, осталось доработать один расчет с графиком)"
   ]
  },
  {
   "cell_type": "markdown",
   "metadata": {},
   "source": [
    "<div style=\"border:solid Purple 2px; padding: 40px\">\n",
    "\n",
    "<h2> Общий комментарий ревьюера 😊<a class=\"tocSkip\"> </h2>\n",
    "    <br/>\n",
    " Игорь, ты хорошо поработал, отлично справляешься с графиками и статистическим анализом) есть пара небольших красных блоков, но, в целом - все отлично!\n",
    "    \n",
    "Необходимо доработать:\n",
    "    \n",
    "* Добавить проверку на пропуски и дубликаты\n",
    "* Скорректировать отображение по оси Х\n",
    "* Уточнить решение по тесту\n",
    "* Остальные комментарии ты найдешь в работе\n",
    "    \n",
    " \n",
    "**Желаю удачи и жду твой проект на повторное ревью! Если вдруг у тебя возникнут вопросы, то я с радостью отвечу на них.    😊**\n",
    "    \n",
    "![gif](https://i.gifer.com/378.gif)\n",
    "    \n",
    "<br>   \n",
    "             \n",
    "**Дополнительные материалы:**\n",
    " \n",
    "[Вебинары под эгидой Практикума](https://vk.com/yandex.praktikum?w=wall-176471180_2144), \n",
    "    \n",
    "[Лекции Анатолия Карпова 1](https://www.youtube.com/watch?v=jnFVmtaeSA0&list=WL&index=19&t=2s) [2](https://www.youtube.com/watch?v=gljfGAkgX_o&list=WL&index=4)\n",
    "    \n",
    "Материалы [gopractice](https://gopractice.ru/summary/)\n",
    "\n",
    "Лекцию Карта статистических методов [Смотреть видео](https://www.youtube.com/watch?v=-zps6hm0nX8&t=1269s)\n",
    "        \n",
    "</div>\n",
    "    "
   ]
  }
 ],
 "metadata": {
  "ExecuteTimeLog": [
   {
    "duration": 458,
    "start_time": "2022-12-23T13:36:50.170Z"
   },
   {
    "duration": 30,
    "start_time": "2022-12-23T13:37:15.785Z"
   },
   {
    "duration": 30,
    "start_time": "2022-12-23T13:38:15.233Z"
   },
   {
    "duration": 29,
    "start_time": "2022-12-23T13:38:20.470Z"
   },
   {
    "duration": 29,
    "start_time": "2022-12-23T13:38:28.591Z"
   },
   {
    "duration": 29,
    "start_time": "2022-12-23T13:38:45.385Z"
   },
   {
    "duration": 29,
    "start_time": "2022-12-23T13:38:57.020Z"
   },
   {
    "duration": 93,
    "start_time": "2022-12-23T13:45:50.065Z"
   },
   {
    "duration": 55,
    "start_time": "2022-12-23T13:46:06.462Z"
   },
   {
    "duration": 79,
    "start_time": "2022-12-23T13:51:18.994Z"
   },
   {
    "duration": 12,
    "start_time": "2022-12-23T13:52:34.793Z"
   },
   {
    "duration": 9,
    "start_time": "2022-12-23T13:52:49.138Z"
   },
   {
    "duration": 7,
    "start_time": "2022-12-23T13:52:53.680Z"
   },
   {
    "duration": 11,
    "start_time": "2022-12-23T13:53:25.187Z"
   },
   {
    "duration": 10,
    "start_time": "2022-12-23T13:53:31.112Z"
   },
   {
    "duration": 10,
    "start_time": "2022-12-23T13:53:39.903Z"
   },
   {
    "duration": 44,
    "start_time": "2022-12-23T14:00:09.487Z"
   },
   {
    "duration": 348,
    "start_time": "2022-12-23T14:01:51.787Z"
   },
   {
    "duration": 3,
    "start_time": "2022-12-23T14:05:05.692Z"
   },
   {
    "duration": 63,
    "start_time": "2022-12-23T14:05:09.347Z"
   },
   {
    "duration": 10,
    "start_time": "2022-12-23T14:05:20.987Z"
   },
   {
    "duration": 322,
    "start_time": "2022-12-23T14:07:25.418Z"
   },
   {
    "duration": 30,
    "start_time": "2022-12-23T14:07:44.303Z"
   },
   {
    "duration": 30,
    "start_time": "2022-12-23T14:07:51.154Z"
   },
   {
    "duration": 9,
    "start_time": "2022-12-23T14:07:58.663Z"
   },
   {
    "duration": 21,
    "start_time": "2022-12-23T14:08:26.299Z"
   },
   {
    "duration": 395,
    "start_time": "2022-12-23T14:11:45.393Z"
   },
   {
    "duration": 2,
    "start_time": "2022-12-23T14:11:45.790Z"
   },
   {
    "duration": 50,
    "start_time": "2022-12-23T14:11:45.794Z"
   },
   {
    "duration": 17,
    "start_time": "2022-12-23T14:11:45.845Z"
   },
   {
    "duration": 3,
    "start_time": "2022-12-23T14:11:45.863Z"
   },
   {
    "duration": 9,
    "start_time": "2022-12-23T14:28:41.198Z"
   },
   {
    "duration": 66,
    "start_time": "2022-12-23T14:29:29.777Z"
   },
   {
    "duration": 8,
    "start_time": "2022-12-23T14:29:37.502Z"
   },
   {
    "duration": 5,
    "start_time": "2022-12-23T14:38:24.914Z"
   },
   {
    "duration": 11,
    "start_time": "2022-12-23T14:39:53.075Z"
   },
   {
    "duration": 9,
    "start_time": "2022-12-23T14:42:15.027Z"
   },
   {
    "duration": 6,
    "start_time": "2022-12-23T14:42:25.187Z"
   },
   {
    "duration": 8,
    "start_time": "2022-12-23T14:42:39.980Z"
   },
   {
    "duration": 9,
    "start_time": "2022-12-23T14:44:22.541Z"
   },
   {
    "duration": 11,
    "start_time": "2022-12-23T14:44:38.019Z"
   },
   {
    "duration": 10,
    "start_time": "2022-12-23T14:44:49.520Z"
   },
   {
    "duration": 28,
    "start_time": "2022-12-23T14:55:28.991Z"
   },
   {
    "duration": 31,
    "start_time": "2022-12-23T14:55:34.625Z"
   },
   {
    "duration": 27,
    "start_time": "2022-12-23T14:55:39.576Z"
   },
   {
    "duration": 8,
    "start_time": "2022-12-23T14:56:34.480Z"
   },
   {
    "duration": 8,
    "start_time": "2022-12-23T14:56:37.402Z"
   },
   {
    "duration": 7,
    "start_time": "2022-12-23T14:57:10.756Z"
   },
   {
    "duration": 8,
    "start_time": "2022-12-23T14:57:13.255Z"
   },
   {
    "duration": 416,
    "start_time": "2022-12-23T15:34:52.714Z"
   },
   {
    "duration": 20,
    "start_time": "2022-12-23T15:53:04.426Z"
   },
   {
    "duration": 403,
    "start_time": "2022-12-23T15:53:40.081Z"
   },
   {
    "duration": 3,
    "start_time": "2022-12-23T15:53:40.485Z"
   },
   {
    "duration": 114,
    "start_time": "2022-12-23T15:53:40.489Z"
   },
   {
    "duration": 0,
    "start_time": "2022-12-23T15:53:40.605Z"
   },
   {
    "duration": 0,
    "start_time": "2022-12-23T15:53:40.606Z"
   },
   {
    "duration": 0,
    "start_time": "2022-12-23T15:53:40.607Z"
   },
   {
    "duration": 0,
    "start_time": "2022-12-23T15:53:40.612Z"
   },
   {
    "duration": 0,
    "start_time": "2022-12-23T15:53:40.612Z"
   },
   {
    "duration": 0,
    "start_time": "2022-12-23T15:53:40.613Z"
   },
   {
    "duration": 59,
    "start_time": "2022-12-23T15:54:59.913Z"
   },
   {
    "duration": 378,
    "start_time": "2022-12-23T15:55:07.633Z"
   },
   {
    "duration": 3,
    "start_time": "2022-12-23T15:55:08.013Z"
   },
   {
    "duration": 51,
    "start_time": "2022-12-23T15:55:08.018Z"
   },
   {
    "duration": 18,
    "start_time": "2022-12-23T15:55:08.071Z"
   },
   {
    "duration": 3,
    "start_time": "2022-12-23T15:55:08.091Z"
   },
   {
    "duration": 14,
    "start_time": "2022-12-23T15:55:08.095Z"
   },
   {
    "duration": 8,
    "start_time": "2022-12-23T15:55:08.110Z"
   },
   {
    "duration": 214,
    "start_time": "2022-12-23T15:55:08.120Z"
   },
   {
    "duration": 91,
    "start_time": "2022-12-23T15:55:08.336Z"
   },
   {
    "duration": 3,
    "start_time": "2022-12-23T15:55:47.039Z"
   },
   {
    "duration": 27,
    "start_time": "2022-12-23T15:55:48.873Z"
   },
   {
    "duration": 18,
    "start_time": "2022-12-23T15:56:21.713Z"
   },
   {
    "duration": 502,
    "start_time": "2022-12-23T15:58:20.598Z"
   },
   {
    "duration": 47,
    "start_time": "2022-12-23T16:38:32.004Z"
   },
   {
    "duration": 431,
    "start_time": "2022-12-23T16:39:12.018Z"
   },
   {
    "duration": 58,
    "start_time": "2022-12-23T16:39:13.332Z"
   },
   {
    "duration": 48,
    "start_time": "2022-12-23T16:39:28.806Z"
   },
   {
    "duration": 14,
    "start_time": "2022-12-23T16:41:57.945Z"
   },
   {
    "duration": 13,
    "start_time": "2022-12-23T16:42:53.604Z"
   },
   {
    "duration": 12,
    "start_time": "2022-12-23T16:43:57.631Z"
   },
   {
    "duration": 221,
    "start_time": "2022-12-23T16:44:13.930Z"
   },
   {
    "duration": 56,
    "start_time": "2022-12-24T11:54:10.820Z"
   },
   {
    "duration": 478,
    "start_time": "2022-12-24T11:59:50.502Z"
   },
   {
    "duration": 3,
    "start_time": "2022-12-24T11:59:50.982Z"
   },
   {
    "duration": 84,
    "start_time": "2022-12-24T11:59:50.987Z"
   },
   {
    "duration": 53,
    "start_time": "2022-12-24T11:59:51.073Z"
   },
   {
    "duration": 18,
    "start_time": "2022-12-24T11:59:51.127Z"
   },
   {
    "duration": 11,
    "start_time": "2022-12-24T11:59:51.147Z"
   },
   {
    "duration": 9,
    "start_time": "2022-12-24T11:59:51.160Z"
   },
   {
    "duration": 417,
    "start_time": "2022-12-24T11:59:51.171Z"
   },
   {
    "duration": 554,
    "start_time": "2022-12-24T11:59:51.590Z"
   },
   {
    "duration": 334,
    "start_time": "2022-12-24T11:59:52.146Z"
   },
   {
    "duration": 229,
    "start_time": "2022-12-24T11:59:52.482Z"
   },
   {
    "duration": 7,
    "start_time": "2022-12-24T12:16:27.711Z"
   },
   {
    "duration": 91,
    "start_time": "2022-12-24T12:30:06.775Z"
   },
   {
    "duration": 81,
    "start_time": "2022-12-24T12:36:23.972Z"
   },
   {
    "duration": 85,
    "start_time": "2022-12-24T12:37:04.538Z"
   },
   {
    "duration": 158,
    "start_time": "2022-12-24T12:38:30.703Z"
   },
   {
    "duration": 6,
    "start_time": "2022-12-24T12:52:23.312Z"
   },
   {
    "duration": 1165,
    "start_time": "2022-12-24T13:05:05.872Z"
   },
   {
    "duration": 5,
    "start_time": "2022-12-24T13:05:24.433Z"
   },
   {
    "duration": 171,
    "start_time": "2022-12-24T13:07:47.050Z"
   },
   {
    "duration": 153,
    "start_time": "2022-12-24T13:09:31.714Z"
   },
   {
    "duration": 176,
    "start_time": "2022-12-24T13:12:29.595Z"
   },
   {
    "duration": 173,
    "start_time": "2022-12-24T13:15:51.044Z"
   },
   {
    "duration": 314,
    "start_time": "2022-12-24T13:15:52.096Z"
   },
   {
    "duration": 181,
    "start_time": "2022-12-24T13:15:52.944Z"
   },
   {
    "duration": 8,
    "start_time": "2022-12-24T13:19:28.454Z"
   },
   {
    "duration": 6,
    "start_time": "2022-12-24T13:26:46.339Z"
   },
   {
    "duration": 145,
    "start_time": "2022-12-24T13:28:29.000Z"
   },
   {
    "duration": 1380,
    "start_time": "2022-12-24T13:28:59.890Z"
   },
   {
    "duration": 163,
    "start_time": "2022-12-24T13:29:13.201Z"
   },
   {
    "duration": 186,
    "start_time": "2022-12-24T13:29:30.240Z"
   },
   {
    "duration": 179,
    "start_time": "2022-12-24T13:29:50.519Z"
   },
   {
    "duration": 8,
    "start_time": "2022-12-24T13:33:35.209Z"
   },
   {
    "duration": 253,
    "start_time": "2022-12-24T13:39:04.934Z"
   },
   {
    "duration": 7,
    "start_time": "2022-12-24T13:47:50.506Z"
   },
   {
    "duration": 6,
    "start_time": "2022-12-24T13:50:18.349Z"
   },
   {
    "duration": 390,
    "start_time": "2022-12-24T13:51:06.290Z"
   },
   {
    "duration": 6,
    "start_time": "2022-12-24T13:52:22.906Z"
   },
   {
    "duration": 6,
    "start_time": "2022-12-24T13:52:37.246Z"
   },
   {
    "duration": 1185,
    "start_time": "2022-12-24T13:53:55.355Z"
   },
   {
    "duration": 313,
    "start_time": "2022-12-24T14:00:14.792Z"
   },
   {
    "duration": 122,
    "start_time": "2022-12-24T15:52:42.334Z"
   },
   {
    "duration": 133,
    "start_time": "2022-12-24T15:57:51.849Z"
   },
   {
    "duration": 4,
    "start_time": "2022-12-24T16:01:45.095Z"
   },
   {
    "duration": 130,
    "start_time": "2022-12-24T16:14:24.447Z"
   },
   {
    "duration": 133,
    "start_time": "2022-12-24T16:14:37.017Z"
   },
   {
    "duration": 8,
    "start_time": "2022-12-24T16:14:51.447Z"
   },
   {
    "duration": 5,
    "start_time": "2022-12-24T16:15:06.280Z"
   },
   {
    "duration": 10,
    "start_time": "2022-12-24T16:38:25.758Z"
   },
   {
    "duration": 145,
    "start_time": "2022-12-24T16:38:29.123Z"
   },
   {
    "duration": 10,
    "start_time": "2022-12-24T16:38:29.651Z"
   },
   {
    "duration": 3,
    "start_time": "2022-12-24T17:15:24.060Z"
   },
   {
    "duration": 2,
    "start_time": "2022-12-24T17:36:10.792Z"
   },
   {
    "duration": 3,
    "start_time": "2022-12-24T17:37:57.024Z"
   },
   {
    "duration": 309,
    "start_time": "2022-12-24T17:39:05.616Z"
   },
   {
    "duration": 423,
    "start_time": "2022-12-24T17:39:25.887Z"
   },
   {
    "duration": 2,
    "start_time": "2022-12-24T17:39:26.312Z"
   },
   {
    "duration": 36,
    "start_time": "2022-12-24T17:39:26.316Z"
   },
   {
    "duration": 15,
    "start_time": "2022-12-24T17:39:26.354Z"
   },
   {
    "duration": 2,
    "start_time": "2022-12-24T17:39:26.370Z"
   },
   {
    "duration": 17,
    "start_time": "2022-12-24T17:39:26.374Z"
   },
   {
    "duration": 13,
    "start_time": "2022-12-24T17:39:26.392Z"
   },
   {
    "duration": 9,
    "start_time": "2022-12-24T17:39:26.406Z"
   },
   {
    "duration": 236,
    "start_time": "2022-12-24T17:39:26.416Z"
   },
   {
    "duration": 527,
    "start_time": "2022-12-24T17:39:26.655Z"
   },
   {
    "duration": 178,
    "start_time": "2022-12-24T17:39:27.184Z"
   },
   {
    "duration": 260,
    "start_time": "2022-12-24T17:39:27.364Z"
   },
   {
    "duration": 244,
    "start_time": "2022-12-24T17:39:27.625Z"
   },
   {
    "duration": 263,
    "start_time": "2022-12-24T17:39:27.870Z"
   },
   {
    "duration": 131,
    "start_time": "2022-12-24T17:39:28.135Z"
   },
   {
    "duration": 4,
    "start_time": "2022-12-24T17:39:28.267Z"
   },
   {
    "duration": 128,
    "start_time": "2022-12-24T17:39:28.273Z"
   },
   {
    "duration": 149,
    "start_time": "2022-12-24T17:39:28.402Z"
   },
   {
    "duration": 4,
    "start_time": "2022-12-24T17:39:28.553Z"
   },
   {
    "duration": 180,
    "start_time": "2022-12-24T17:39:28.559Z"
   },
   {
    "duration": 0,
    "start_time": "2022-12-24T17:39:28.741Z"
   },
   {
    "duration": 0,
    "start_time": "2022-12-24T17:39:28.742Z"
   },
   {
    "duration": 2,
    "start_time": "2022-12-24T17:41:58.874Z"
   },
   {
    "duration": 46,
    "start_time": "2022-12-26T10:43:46.953Z"
   },
   {
    "duration": 421,
    "start_time": "2022-12-26T10:43:53.654Z"
   },
   {
    "duration": 72,
    "start_time": "2022-12-26T10:43:54.076Z"
   },
   {
    "duration": 64,
    "start_time": "2022-12-26T10:43:54.150Z"
   },
   {
    "duration": 2,
    "start_time": "2022-12-26T10:43:54.216Z"
   },
   {
    "duration": 173,
    "start_time": "2022-12-26T10:43:54.219Z"
   },
   {
    "duration": 34,
    "start_time": "2022-12-26T10:43:54.394Z"
   },
   {
    "duration": 21,
    "start_time": "2022-12-26T10:43:54.429Z"
   },
   {
    "duration": 25,
    "start_time": "2022-12-26T10:43:54.451Z"
   },
   {
    "duration": 395,
    "start_time": "2022-12-26T10:43:54.477Z"
   },
   {
    "duration": 509,
    "start_time": "2022-12-26T10:43:54.874Z"
   },
   {
    "duration": 169,
    "start_time": "2022-12-26T10:43:55.385Z"
   },
   {
    "duration": 364,
    "start_time": "2022-12-26T10:43:55.556Z"
   },
   {
    "duration": 188,
    "start_time": "2022-12-26T10:43:55.921Z"
   },
   {
    "duration": 267,
    "start_time": "2022-12-26T10:43:56.111Z"
   },
   {
    "duration": 138,
    "start_time": "2022-12-26T10:43:56.380Z"
   },
   {
    "duration": 5,
    "start_time": "2022-12-26T10:43:56.519Z"
   },
   {
    "duration": 141,
    "start_time": "2022-12-26T10:43:56.525Z"
   },
   {
    "duration": 4,
    "start_time": "2022-12-26T10:43:56.668Z"
   },
   {
    "duration": 196,
    "start_time": "2022-12-26T10:43:56.674Z"
   },
   {
    "duration": 0,
    "start_time": "2022-12-26T10:43:56.871Z"
   },
   {
    "duration": 0,
    "start_time": "2022-12-26T10:43:56.873Z"
   },
   {
    "duration": 0,
    "start_time": "2022-12-26T10:43:56.874Z"
   },
   {
    "duration": 0,
    "start_time": "2022-12-26T10:43:56.876Z"
   },
   {
    "duration": 384,
    "start_time": "2022-12-26T10:52:20.297Z"
   },
   {
    "duration": 272,
    "start_time": "2022-12-26T10:52:50.197Z"
   },
   {
    "duration": 10,
    "start_time": "2022-12-26T10:53:12.728Z"
   },
   {
    "duration": 13,
    "start_time": "2022-12-26T10:53:58.338Z"
   },
   {
    "duration": 18,
    "start_time": "2022-12-26T10:54:15.217Z"
   },
   {
    "duration": 26,
    "start_time": "2022-12-26T10:54:51.959Z"
   },
   {
    "duration": 25,
    "start_time": "2022-12-26T10:55:02.789Z"
   },
   {
    "duration": 12,
    "start_time": "2022-12-26T10:55:25.217Z"
   },
   {
    "duration": 11,
    "start_time": "2022-12-26T10:57:42.737Z"
   },
   {
    "duration": 19,
    "start_time": "2022-12-26T10:58:12.297Z"
   },
   {
    "duration": 3,
    "start_time": "2022-12-26T11:01:03.878Z"
   },
   {
    "duration": 14,
    "start_time": "2022-12-26T11:01:18.675Z"
   },
   {
    "duration": 8,
    "start_time": "2022-12-26T11:05:27.585Z"
   },
   {
    "duration": 9,
    "start_time": "2022-12-26T11:06:08.496Z"
   },
   {
    "duration": 54,
    "start_time": "2022-12-26T11:07:41.071Z"
   },
   {
    "duration": 58,
    "start_time": "2022-12-26T11:08:27.885Z"
   },
   {
    "duration": 6,
    "start_time": "2022-12-26T11:09:11.571Z"
   },
   {
    "duration": 8,
    "start_time": "2022-12-26T11:09:37.069Z"
   },
   {
    "duration": 90,
    "start_time": "2022-12-26T11:09:58.265Z"
   },
   {
    "duration": 22,
    "start_time": "2022-12-26T11:10:19.757Z"
   },
   {
    "duration": 3,
    "start_time": "2022-12-26T11:10:20.804Z"
   },
   {
    "duration": 7,
    "start_time": "2022-12-26T11:10:21.486Z"
   },
   {
    "duration": 87,
    "start_time": "2022-12-26T11:10:22.467Z"
   },
   {
    "duration": 21,
    "start_time": "2022-12-26T11:11:36.498Z"
   },
   {
    "duration": 7,
    "start_time": "2022-12-26T11:11:52.472Z"
   },
   {
    "duration": 10,
    "start_time": "2022-12-26T11:21:30.215Z"
   },
   {
    "duration": 135,
    "start_time": "2022-12-26T11:24:40.704Z"
   },
   {
    "duration": 6,
    "start_time": "2022-12-26T11:24:53.449Z"
   },
   {
    "duration": 7,
    "start_time": "2022-12-26T11:24:58.602Z"
   },
   {
    "duration": 8,
    "start_time": "2022-12-26T11:25:23.171Z"
   },
   {
    "duration": 5,
    "start_time": "2022-12-26T11:32:49.976Z"
   },
   {
    "duration": 9,
    "start_time": "2022-12-26T11:32:50.655Z"
   },
   {
    "duration": 493,
    "start_time": "2022-12-26T11:34:11.697Z"
   },
   {
    "duration": 7,
    "start_time": "2022-12-26T11:34:12.437Z"
   },
   {
    "duration": 26,
    "start_time": "2022-12-26T11:34:13.268Z"
   },
   {
    "duration": 8,
    "start_time": "2022-12-26T11:34:42.152Z"
   },
   {
    "duration": 131,
    "start_time": "2022-12-26T11:40:43.914Z"
   },
   {
    "duration": 68,
    "start_time": "2022-12-26T11:41:58.962Z"
   },
   {
    "duration": 135,
    "start_time": "2022-12-26T11:42:06.065Z"
   },
   {
    "duration": 120,
    "start_time": "2022-12-26T11:42:09.822Z"
   },
   {
    "duration": 2,
    "start_time": "2022-12-26T11:42:12.014Z"
   },
   {
    "duration": 6,
    "start_time": "2022-12-26T11:42:12.665Z"
   },
   {
    "duration": 24,
    "start_time": "2022-12-26T11:42:13.021Z"
   },
   {
    "duration": 13,
    "start_time": "2022-12-26T11:43:11.582Z"
   },
   {
    "duration": 141,
    "start_time": "2022-12-26T11:50:57.466Z"
   },
   {
    "duration": 1153,
    "start_time": "2022-12-26T11:52:09.402Z"
   },
   {
    "duration": 1093,
    "start_time": "2022-12-26T11:52:43.853Z"
   },
   {
    "duration": 6,
    "start_time": "2022-12-26T11:53:20.170Z"
   },
   {
    "duration": 144,
    "start_time": "2022-12-26T11:54:34.850Z"
   },
   {
    "duration": 3,
    "start_time": "2022-12-26T11:54:37.223Z"
   },
   {
    "duration": 7,
    "start_time": "2022-12-26T11:54:39.330Z"
   },
   {
    "duration": 23,
    "start_time": "2022-12-26T11:54:39.750Z"
   },
   {
    "duration": 11,
    "start_time": "2022-12-26T11:54:40.357Z"
   },
   {
    "duration": 6,
    "start_time": "2022-12-26T11:54:41.076Z"
   },
   {
    "duration": 11,
    "start_time": "2022-12-26T11:55:15.668Z"
   },
   {
    "duration": 1218,
    "start_time": "2022-12-26T11:57:56.192Z"
   },
   {
    "duration": 8,
    "start_time": "2022-12-26T11:58:41.410Z"
   },
   {
    "duration": 23,
    "start_time": "2022-12-26T11:58:45.562Z"
   },
   {
    "duration": 24,
    "start_time": "2022-12-26T11:59:03.671Z"
   },
   {
    "duration": 1215,
    "start_time": "2022-12-26T12:00:38.245Z"
   },
   {
    "duration": 1210,
    "start_time": "2022-12-26T12:01:00.441Z"
   },
   {
    "duration": 13,
    "start_time": "2022-12-26T12:01:58.101Z"
   },
   {
    "duration": 13,
    "start_time": "2022-12-26T12:03:00.337Z"
   },
   {
    "duration": 9,
    "start_time": "2022-12-26T12:03:39.363Z"
   },
   {
    "duration": 495,
    "start_time": "2022-12-27T12:28:02.940Z"
   },
   {
    "duration": 79,
    "start_time": "2022-12-27T12:28:03.438Z"
   },
   {
    "duration": 56,
    "start_time": "2022-12-27T12:28:03.519Z"
   },
   {
    "duration": 14,
    "start_time": "2022-12-27T12:28:03.577Z"
   },
   {
    "duration": 3,
    "start_time": "2022-12-27T12:28:03.593Z"
   },
   {
    "duration": 19,
    "start_time": "2022-12-27T12:28:03.598Z"
   },
   {
    "duration": 22,
    "start_time": "2022-12-27T12:28:03.618Z"
   },
   {
    "duration": 12,
    "start_time": "2022-12-27T12:28:03.642Z"
   },
   {
    "duration": 402,
    "start_time": "2022-12-27T12:28:03.655Z"
   },
   {
    "duration": 512,
    "start_time": "2022-12-27T12:28:04.060Z"
   },
   {
    "duration": 172,
    "start_time": "2022-12-27T12:28:04.574Z"
   },
   {
    "duration": 387,
    "start_time": "2022-12-27T12:28:04.748Z"
   },
   {
    "duration": 173,
    "start_time": "2022-12-27T12:28:05.137Z"
   },
   {
    "duration": 315,
    "start_time": "2022-12-27T12:28:05.311Z"
   },
   {
    "duration": 142,
    "start_time": "2022-12-27T12:28:05.629Z"
   },
   {
    "duration": 4,
    "start_time": "2022-12-27T12:28:05.773Z"
   },
   {
    "duration": 160,
    "start_time": "2022-12-27T12:28:05.779Z"
   },
   {
    "duration": 4,
    "start_time": "2022-12-27T12:28:05.940Z"
   },
   {
    "duration": 25,
    "start_time": "2022-12-27T12:28:05.945Z"
   },
   {
    "duration": 3,
    "start_time": "2022-12-27T12:28:05.971Z"
   },
   {
    "duration": 15,
    "start_time": "2022-12-27T12:28:05.976Z"
   },
   {
    "duration": 90,
    "start_time": "2022-12-27T12:28:05.993Z"
   },
   {
    "duration": 20,
    "start_time": "2022-12-27T12:28:06.085Z"
   },
   {
    "duration": 143,
    "start_time": "2022-12-27T12:28:06.107Z"
   },
   {
    "duration": 397,
    "start_time": "2022-12-27T12:28:06.251Z"
   },
   {
    "duration": 6,
    "start_time": "2022-12-27T12:28:06.650Z"
   },
   {
    "duration": 24,
    "start_time": "2022-12-27T12:28:06.658Z"
   },
   {
    "duration": 9,
    "start_time": "2022-12-27T12:28:06.684Z"
   },
   {
    "duration": 9,
    "start_time": "2022-12-27T12:28:06.694Z"
   },
   {
    "duration": 14,
    "start_time": "2022-12-27T12:28:06.704Z"
   },
   {
    "duration": 23,
    "start_time": "2022-12-27T12:28:06.732Z"
   },
   {
    "duration": 72,
    "start_time": "2022-12-27T12:28:06.756Z"
   },
   {
    "duration": 3,
    "start_time": "2022-12-27T12:32:11.227Z"
   },
   {
    "duration": 56,
    "start_time": "2022-12-27T12:32:49.825Z"
   },
   {
    "duration": 35,
    "start_time": "2022-12-27T12:33:00.273Z"
   },
   {
    "duration": 32,
    "start_time": "2022-12-27T12:33:47.814Z"
   },
   {
    "duration": 86,
    "start_time": "2022-12-27T13:58:32.074Z"
   },
   {
    "duration": 51,
    "start_time": "2022-12-28T09:39:03.598Z"
   },
   {
    "duration": 542,
    "start_time": "2022-12-28T09:39:19.076Z"
   },
   {
    "duration": 89,
    "start_time": "2022-12-28T09:39:19.621Z"
   },
   {
    "duration": 64,
    "start_time": "2022-12-28T09:39:19.713Z"
   },
   {
    "duration": 2,
    "start_time": "2022-12-28T09:39:19.780Z"
   },
   {
    "duration": 23,
    "start_time": "2022-12-28T09:39:19.785Z"
   },
   {
    "duration": 43,
    "start_time": "2022-12-28T09:39:19.810Z"
   },
   {
    "duration": 27,
    "start_time": "2022-12-28T09:39:19.856Z"
   },
   {
    "duration": 31,
    "start_time": "2022-12-28T09:39:19.885Z"
   },
   {
    "duration": 456,
    "start_time": "2022-12-28T09:39:19.919Z"
   },
   {
    "duration": 593,
    "start_time": "2022-12-28T09:39:20.377Z"
   },
   {
    "duration": 192,
    "start_time": "2022-12-28T09:39:20.972Z"
   },
   {
    "duration": 423,
    "start_time": "2022-12-28T09:39:21.166Z"
   },
   {
    "duration": 242,
    "start_time": "2022-12-28T09:39:21.591Z"
   },
   {
    "duration": 317,
    "start_time": "2022-12-28T09:39:21.837Z"
   },
   {
    "duration": 97,
    "start_time": "2022-12-28T09:39:22.156Z"
   },
   {
    "duration": 0,
    "start_time": "2022-12-28T09:39:22.254Z"
   },
   {
    "duration": 0,
    "start_time": "2022-12-28T09:39:22.255Z"
   },
   {
    "duration": 0,
    "start_time": "2022-12-28T09:39:22.256Z"
   },
   {
    "duration": 0,
    "start_time": "2022-12-28T09:39:22.257Z"
   },
   {
    "duration": 0,
    "start_time": "2022-12-28T09:39:22.258Z"
   },
   {
    "duration": 0,
    "start_time": "2022-12-28T09:39:22.260Z"
   },
   {
    "duration": 1,
    "start_time": "2022-12-28T09:39:22.260Z"
   },
   {
    "duration": 0,
    "start_time": "2022-12-28T09:39:22.262Z"
   },
   {
    "duration": 0,
    "start_time": "2022-12-28T09:39:22.263Z"
   },
   {
    "duration": 0,
    "start_time": "2022-12-28T09:39:22.265Z"
   },
   {
    "duration": 0,
    "start_time": "2022-12-28T09:39:22.266Z"
   },
   {
    "duration": 0,
    "start_time": "2022-12-28T09:39:22.268Z"
   },
   {
    "duration": 0,
    "start_time": "2022-12-28T09:39:22.269Z"
   },
   {
    "duration": 0,
    "start_time": "2022-12-28T09:39:22.270Z"
   },
   {
    "duration": 0,
    "start_time": "2022-12-28T09:39:22.272Z"
   },
   {
    "duration": 0,
    "start_time": "2022-12-28T09:39:22.273Z"
   },
   {
    "duration": 0,
    "start_time": "2022-12-28T09:39:22.276Z"
   },
   {
    "duration": 0,
    "start_time": "2022-12-28T09:39:22.277Z"
   },
   {
    "duration": 266,
    "start_time": "2022-12-28T09:40:37.569Z"
   },
   {
    "duration": 349,
    "start_time": "2022-12-28T09:46:15.743Z"
   },
   {
    "duration": 299,
    "start_time": "2022-12-28T09:46:58.348Z"
   },
   {
    "duration": 299,
    "start_time": "2022-12-28T09:47:10.687Z"
   },
   {
    "duration": 536,
    "start_time": "2022-12-28T09:49:49.057Z"
   },
   {
    "duration": 3,
    "start_time": "2022-12-28T09:50:13.467Z"
   },
   {
    "duration": 4,
    "start_time": "2022-12-28T09:51:10.804Z"
   },
   {
    "duration": 15,
    "start_time": "2022-12-28T09:51:26.376Z"
   },
   {
    "duration": 4,
    "start_time": "2022-12-28T09:51:34.757Z"
   },
   {
    "duration": 3,
    "start_time": "2022-12-28T09:51:53.871Z"
   },
   {
    "duration": 357,
    "start_time": "2022-12-28T09:53:16.227Z"
   },
   {
    "duration": 350,
    "start_time": "2022-12-28T09:56:01.827Z"
   },
   {
    "duration": 338,
    "start_time": "2022-12-28T09:56:28.747Z"
   },
   {
    "duration": 335,
    "start_time": "2022-12-28T09:57:18.717Z"
   },
   {
    "duration": 331,
    "start_time": "2022-12-28T11:48:17.406Z"
   },
   {
    "duration": 327,
    "start_time": "2022-12-28T11:48:36.460Z"
   },
   {
    "duration": 472,
    "start_time": "2022-12-28T11:49:12.658Z"
   },
   {
    "duration": 44,
    "start_time": "2022-12-28T11:49:13.132Z"
   },
   {
    "duration": 20,
    "start_time": "2022-12-28T11:49:13.179Z"
   },
   {
    "duration": 3,
    "start_time": "2022-12-28T11:49:13.201Z"
   },
   {
    "duration": 6,
    "start_time": "2022-12-28T11:49:13.206Z"
   },
   {
    "duration": 19,
    "start_time": "2022-12-28T11:49:13.214Z"
   },
   {
    "duration": 17,
    "start_time": "2022-12-28T11:49:13.235Z"
   },
   {
    "duration": 10,
    "start_time": "2022-12-28T11:49:13.253Z"
   },
   {
    "duration": 259,
    "start_time": "2022-12-28T11:49:13.265Z"
   },
   {
    "duration": 570,
    "start_time": "2022-12-28T11:49:13.527Z"
   },
   {
    "duration": 210,
    "start_time": "2022-12-28T11:49:14.098Z"
   },
   {
    "duration": 305,
    "start_time": "2022-12-28T11:49:14.310Z"
   },
   {
    "duration": 262,
    "start_time": "2022-12-28T11:49:14.617Z"
   },
   {
    "duration": 281,
    "start_time": "2022-12-28T11:49:14.881Z"
   },
   {
    "duration": 441,
    "start_time": "2022-12-28T11:49:15.163Z"
   },
   {
    "duration": 0,
    "start_time": "2022-12-28T11:49:15.606Z"
   },
   {
    "duration": 0,
    "start_time": "2022-12-28T11:49:15.608Z"
   },
   {
    "duration": 0,
    "start_time": "2022-12-28T11:49:15.610Z"
   },
   {
    "duration": 0,
    "start_time": "2022-12-28T11:49:15.611Z"
   },
   {
    "duration": 0,
    "start_time": "2022-12-28T11:49:15.613Z"
   },
   {
    "duration": 0,
    "start_time": "2022-12-28T11:49:15.614Z"
   },
   {
    "duration": 0,
    "start_time": "2022-12-28T11:49:15.616Z"
   },
   {
    "duration": 0,
    "start_time": "2022-12-28T11:49:15.619Z"
   },
   {
    "duration": 0,
    "start_time": "2022-12-28T11:49:15.621Z"
   },
   {
    "duration": 0,
    "start_time": "2022-12-28T11:49:15.622Z"
   },
   {
    "duration": 0,
    "start_time": "2022-12-28T11:49:15.651Z"
   },
   {
    "duration": 0,
    "start_time": "2022-12-28T11:49:15.652Z"
   },
   {
    "duration": 0,
    "start_time": "2022-12-28T11:49:15.653Z"
   },
   {
    "duration": 0,
    "start_time": "2022-12-28T11:49:15.654Z"
   },
   {
    "duration": 0,
    "start_time": "2022-12-28T11:49:15.656Z"
   },
   {
    "duration": 0,
    "start_time": "2022-12-28T11:49:15.657Z"
   },
   {
    "duration": 0,
    "start_time": "2022-12-28T11:49:15.658Z"
   },
   {
    "duration": 0,
    "start_time": "2022-12-28T11:49:15.659Z"
   },
   {
    "duration": 0,
    "start_time": "2022-12-28T11:49:15.660Z"
   },
   {
    "duration": 333,
    "start_time": "2022-12-28T11:58:37.072Z"
   },
   {
    "duration": 376,
    "start_time": "2022-12-28T11:58:53.433Z"
   },
   {
    "duration": 8,
    "start_time": "2022-12-28T12:46:35.573Z"
   },
   {
    "duration": 1142,
    "start_time": "2022-12-28T12:46:45.493Z"
   },
   {
    "duration": 9,
    "start_time": "2022-12-28T12:46:59.263Z"
   },
   {
    "duration": 4,
    "start_time": "2022-12-28T12:47:12.265Z"
   },
   {
    "duration": 4,
    "start_time": "2022-12-28T12:47:24.863Z"
   },
   {
    "duration": 9,
    "start_time": "2022-12-28T12:48:24.480Z"
   },
   {
    "duration": 12,
    "start_time": "2022-12-28T12:48:30.016Z"
   },
   {
    "duration": 371,
    "start_time": "2022-12-28T12:57:43.296Z"
   },
   {
    "duration": 361,
    "start_time": "2022-12-28T12:58:05.416Z"
   },
   {
    "duration": 126,
    "start_time": "2022-12-28T13:14:13.640Z"
   },
   {
    "duration": 367,
    "start_time": "2022-12-28T13:22:44.640Z"
   },
   {
    "duration": 343,
    "start_time": "2022-12-28T13:31:51.839Z"
   },
   {
    "duration": 313,
    "start_time": "2022-12-28T13:32:27.767Z"
   },
   {
    "duration": 415,
    "start_time": "2022-12-28T13:33:18.125Z"
   },
   {
    "duration": 337,
    "start_time": "2022-12-28T13:33:42.242Z"
   },
   {
    "duration": 361,
    "start_time": "2022-12-28T13:33:56.245Z"
   },
   {
    "duration": 4,
    "start_time": "2022-12-28T13:37:45.515Z"
   },
   {
    "duration": 4,
    "start_time": "2022-12-28T13:38:00.523Z"
   },
   {
    "duration": 373,
    "start_time": "2022-12-28T13:42:39.742Z"
   },
   {
    "duration": 370,
    "start_time": "2022-12-28T13:42:53.326Z"
   },
   {
    "duration": 353,
    "start_time": "2022-12-28T13:43:04.133Z"
   },
   {
    "duration": 349,
    "start_time": "2022-12-28T13:43:19.309Z"
   },
   {
    "duration": 324,
    "start_time": "2022-12-28T14:40:40.436Z"
   },
   {
    "duration": 250,
    "start_time": "2022-12-28T14:42:06.927Z"
   },
   {
    "duration": 264,
    "start_time": "2022-12-28T14:42:54.923Z"
   },
   {
    "duration": 5,
    "start_time": "2022-12-28T14:48:24.238Z"
   },
   {
    "duration": 145,
    "start_time": "2022-12-28T14:48:31.092Z"
   },
   {
    "duration": 4,
    "start_time": "2022-12-28T14:49:07.980Z"
   },
   {
    "duration": 5,
    "start_time": "2022-12-28T14:49:31.529Z"
   },
   {
    "duration": 26,
    "start_time": "2022-12-28T15:07:50.320Z"
   },
   {
    "duration": 4,
    "start_time": "2022-12-28T15:07:50.760Z"
   },
   {
    "duration": 7,
    "start_time": "2022-12-28T15:07:50.935Z"
   },
   {
    "duration": 185,
    "start_time": "2022-12-28T15:07:51.179Z"
   },
   {
    "duration": 21,
    "start_time": "2022-12-28T15:07:51.366Z"
   },
   {
    "duration": 151,
    "start_time": "2022-12-28T15:07:51.499Z"
   },
   {
    "duration": 381,
    "start_time": "2022-12-28T15:07:51.687Z"
   },
   {
    "duration": 7,
    "start_time": "2022-12-28T15:07:52.070Z"
   },
   {
    "duration": 26,
    "start_time": "2022-12-28T15:07:52.079Z"
   },
   {
    "duration": 11,
    "start_time": "2022-12-28T15:07:52.444Z"
   },
   {
    "duration": 11,
    "start_time": "2022-12-28T15:07:52.841Z"
   },
   {
    "duration": 9,
    "start_time": "2022-12-28T15:07:53.217Z"
   },
   {
    "duration": 26,
    "start_time": "2022-12-28T15:07:53.382Z"
   },
   {
    "duration": 15,
    "start_time": "2022-12-28T15:07:54.128Z"
   },
   {
    "duration": 340,
    "start_time": "2022-12-28T15:22:21.498Z"
   },
   {
    "duration": 336,
    "start_time": "2022-12-28T15:22:58.640Z"
   },
   {
    "duration": 225,
    "start_time": "2022-12-28T15:25:19.439Z"
   },
   {
    "duration": 293,
    "start_time": "2022-12-28T15:25:39.273Z"
   },
   {
    "duration": 285,
    "start_time": "2022-12-28T15:59:04.171Z"
   },
   {
    "duration": 375,
    "start_time": "2022-12-28T15:59:20.328Z"
   },
   {
    "duration": 315,
    "start_time": "2022-12-28T16:00:30.524Z"
   },
   {
    "duration": 73,
    "start_time": "2022-12-28T16:00:42.957Z"
   },
   {
    "duration": 199,
    "start_time": "2022-12-28T16:00:47.735Z"
   },
   {
    "duration": 67,
    "start_time": "2022-12-28T16:01:08.075Z"
   },
   {
    "duration": 199,
    "start_time": "2022-12-28T16:01:30.327Z"
   },
   {
    "duration": 238,
    "start_time": "2022-12-28T16:01:45.151Z"
   },
   {
    "duration": 183,
    "start_time": "2022-12-28T16:10:15.847Z"
   },
   {
    "duration": 469,
    "start_time": "2022-12-30T10:28:51.746Z"
   },
   {
    "duration": 81,
    "start_time": "2022-12-30T10:28:52.217Z"
   },
   {
    "duration": 55,
    "start_time": "2022-12-30T10:28:52.299Z"
   },
   {
    "duration": 3,
    "start_time": "2022-12-30T10:28:52.357Z"
   },
   {
    "duration": 7,
    "start_time": "2022-12-30T10:28:52.361Z"
   },
   {
    "duration": 29,
    "start_time": "2022-12-30T10:28:52.370Z"
   },
   {
    "duration": 27,
    "start_time": "2022-12-30T10:28:52.401Z"
   },
   {
    "duration": 19,
    "start_time": "2022-12-30T10:28:52.430Z"
   },
   {
    "duration": 397,
    "start_time": "2022-12-30T10:28:52.451Z"
   },
   {
    "duration": 497,
    "start_time": "2022-12-30T10:28:52.851Z"
   },
   {
    "duration": 176,
    "start_time": "2022-12-30T10:28:53.350Z"
   },
   {
    "duration": 378,
    "start_time": "2022-12-30T10:28:53.528Z"
   },
   {
    "duration": 182,
    "start_time": "2022-12-30T10:28:53.907Z"
   },
   {
    "duration": 314,
    "start_time": "2022-12-30T10:28:54.090Z"
   },
   {
    "duration": 4,
    "start_time": "2022-12-30T10:28:54.405Z"
   },
   {
    "duration": 134,
    "start_time": "2022-12-30T10:28:54.421Z"
   },
   {
    "duration": 5,
    "start_time": "2022-12-30T10:28:54.556Z"
   },
   {
    "duration": 160,
    "start_time": "2022-12-30T10:28:54.562Z"
   },
   {
    "duration": 3,
    "start_time": "2022-12-30T10:28:54.724Z"
   },
   {
    "duration": 35,
    "start_time": "2022-12-30T10:28:54.729Z"
   },
   {
    "duration": 2,
    "start_time": "2022-12-30T10:28:54.766Z"
   },
   {
    "duration": 7,
    "start_time": "2022-12-30T10:28:54.770Z"
   },
   {
    "duration": 97,
    "start_time": "2022-12-30T10:28:54.778Z"
   },
   {
    "duration": 23,
    "start_time": "2022-12-30T10:28:54.877Z"
   },
   {
    "duration": 184,
    "start_time": "2022-12-30T10:28:54.901Z"
   },
   {
    "duration": 454,
    "start_time": "2022-12-30T10:28:55.087Z"
   },
   {
    "duration": 6,
    "start_time": "2022-12-30T10:28:55.543Z"
   },
   {
    "duration": 27,
    "start_time": "2022-12-30T10:28:55.552Z"
   },
   {
    "duration": 10,
    "start_time": "2022-12-30T10:28:55.581Z"
   },
   {
    "duration": 31,
    "start_time": "2022-12-30T10:28:55.592Z"
   },
   {
    "duration": 7,
    "start_time": "2022-12-30T10:28:55.624Z"
   },
   {
    "duration": 27,
    "start_time": "2022-12-30T10:28:55.632Z"
   },
   {
    "duration": 81,
    "start_time": "2022-12-30T10:28:55.661Z"
   },
   {
    "duration": 144,
    "start_time": "2022-12-30T10:30:24.945Z"
   },
   {
    "duration": 403,
    "start_time": "2022-12-30T10:31:16.994Z"
   },
   {
    "duration": 154,
    "start_time": "2022-12-30T10:32:25.934Z"
   },
   {
    "duration": 289,
    "start_time": "2022-12-30T10:33:00.310Z"
   },
   {
    "duration": 175,
    "start_time": "2022-12-30T10:33:19.740Z"
   },
   {
    "duration": 265,
    "start_time": "2022-12-30T10:33:31.530Z"
   },
   {
    "duration": 109,
    "start_time": "2022-12-30T10:34:06.576Z"
   },
   {
    "duration": 4,
    "start_time": "2022-12-30T10:34:27.789Z"
   },
   {
    "duration": 120,
    "start_time": "2022-12-30T10:34:41.256Z"
   },
   {
    "duration": 23,
    "start_time": "2022-12-30T10:35:12.577Z"
   },
   {
    "duration": 10,
    "start_time": "2022-12-30T10:35:29.704Z"
   },
   {
    "duration": 9,
    "start_time": "2022-12-30T10:35:41.981Z"
   },
   {
    "duration": 21,
    "start_time": "2022-12-30T10:35:59.262Z"
   },
   {
    "duration": 20,
    "start_time": "2022-12-30T10:36:09.024Z"
   },
   {
    "duration": 368,
    "start_time": "2022-12-30T10:51:38.194Z"
   },
   {
    "duration": 267,
    "start_time": "2022-12-30T10:51:54.025Z"
   },
   {
    "duration": 10,
    "start_time": "2022-12-30T11:35:00.020Z"
   },
   {
    "duration": 275,
    "start_time": "2022-12-30T11:36:17.939Z"
   },
   {
    "duration": 181,
    "start_time": "2022-12-30T11:36:35.377Z"
   },
   {
    "duration": 321,
    "start_time": "2022-12-30T11:36:44.102Z"
   },
   {
    "duration": 177,
    "start_time": "2022-12-30T11:37:10.476Z"
   },
   {
    "duration": 228,
    "start_time": "2022-12-30T11:37:18.873Z"
   },
   {
    "duration": 246,
    "start_time": "2022-12-30T11:39:58.626Z"
   },
   {
    "duration": 217,
    "start_time": "2022-12-30T11:40:45.659Z"
   },
   {
    "duration": 196,
    "start_time": "2022-12-30T11:40:55.783Z"
   },
   {
    "duration": 243,
    "start_time": "2022-12-30T11:41:03.632Z"
   },
   {
    "duration": 165,
    "start_time": "2022-12-30T11:45:49.859Z"
   },
   {
    "duration": 409,
    "start_time": "2022-12-30T13:10:27.316Z"
   },
   {
    "duration": 451,
    "start_time": "2022-12-30T13:12:25.025Z"
   },
   {
    "duration": 284,
    "start_time": "2022-12-30T13:14:18.056Z"
   },
   {
    "duration": 323,
    "start_time": "2022-12-30T13:15:06.337Z"
   },
   {
    "duration": 375,
    "start_time": "2022-12-30T13:15:34.662Z"
   },
   {
    "duration": 300,
    "start_time": "2022-12-30T13:15:50.864Z"
   },
   {
    "duration": 291,
    "start_time": "2022-12-30T13:16:41.173Z"
   },
   {
    "duration": 200,
    "start_time": "2022-12-30T13:17:07.165Z"
   },
   {
    "duration": 197,
    "start_time": "2022-12-30T13:18:46.382Z"
   },
   {
    "duration": 283,
    "start_time": "2022-12-30T13:19:34.740Z"
   },
   {
    "duration": 274,
    "start_time": "2022-12-30T13:20:37.454Z"
   },
   {
    "duration": 148,
    "start_time": "2022-12-30T13:23:11.083Z"
   },
   {
    "duration": 143,
    "start_time": "2022-12-30T13:27:37.203Z"
   },
   {
    "duration": 127,
    "start_time": "2022-12-30T13:27:54.695Z"
   },
   {
    "duration": 140,
    "start_time": "2022-12-30T13:28:13.171Z"
   },
   {
    "duration": 149,
    "start_time": "2022-12-30T13:29:48.686Z"
   },
   {
    "duration": 447,
    "start_time": "2022-12-30T13:34:31.739Z"
   },
   {
    "duration": 50,
    "start_time": "2022-12-30T13:34:32.188Z"
   },
   {
    "duration": 19,
    "start_time": "2022-12-30T13:34:32.240Z"
   },
   {
    "duration": 3,
    "start_time": "2022-12-30T13:34:32.260Z"
   },
   {
    "duration": 9,
    "start_time": "2022-12-30T13:34:32.264Z"
   },
   {
    "duration": 17,
    "start_time": "2022-12-30T13:34:32.274Z"
   },
   {
    "duration": 16,
    "start_time": "2022-12-30T13:34:32.292Z"
   },
   {
    "duration": 15,
    "start_time": "2022-12-30T13:34:32.309Z"
   },
   {
    "duration": 236,
    "start_time": "2022-12-30T13:34:32.325Z"
   },
   {
    "duration": 602,
    "start_time": "2022-12-30T13:34:32.563Z"
   },
   {
    "duration": 187,
    "start_time": "2022-12-30T13:34:33.166Z"
   },
   {
    "duration": 279,
    "start_time": "2022-12-30T13:34:33.355Z"
   },
   {
    "duration": 254,
    "start_time": "2022-12-30T13:34:33.636Z"
   },
   {
    "duration": 313,
    "start_time": "2022-12-30T13:34:33.893Z"
   },
   {
    "duration": 145,
    "start_time": "2022-12-30T13:34:34.208Z"
   },
   {
    "duration": 4,
    "start_time": "2022-12-30T13:34:34.355Z"
   },
   {
    "duration": 156,
    "start_time": "2022-12-30T13:34:34.361Z"
   },
   {
    "duration": 4,
    "start_time": "2022-12-30T13:34:34.521Z"
   },
   {
    "duration": 42,
    "start_time": "2022-12-30T13:34:34.527Z"
   },
   {
    "duration": 3,
    "start_time": "2022-12-30T13:34:34.571Z"
   },
   {
    "duration": 9,
    "start_time": "2022-12-30T13:34:34.579Z"
   },
   {
    "duration": 98,
    "start_time": "2022-12-30T13:34:34.590Z"
   },
   {
    "duration": 20,
    "start_time": "2022-12-30T13:34:34.689Z"
   },
   {
    "duration": 152,
    "start_time": "2022-12-30T13:34:34.711Z"
   },
   {
    "duration": 473,
    "start_time": "2022-12-30T13:34:34.865Z"
   },
   {
    "duration": 12,
    "start_time": "2022-12-30T13:34:35.342Z"
   },
   {
    "duration": 56,
    "start_time": "2022-12-30T13:34:35.356Z"
   },
   {
    "duration": 41,
    "start_time": "2022-12-30T13:34:35.414Z"
   },
   {
    "duration": 10,
    "start_time": "2022-12-30T13:34:35.457Z"
   },
   {
    "duration": 15,
    "start_time": "2022-12-30T13:34:35.469Z"
   },
   {
    "duration": 24,
    "start_time": "2022-12-30T13:34:35.486Z"
   },
   {
    "duration": 14,
    "start_time": "2022-12-30T13:34:35.512Z"
   },
   {
    "duration": 148,
    "start_time": "2022-12-30T13:40:40.356Z"
   },
   {
    "duration": 481,
    "start_time": "2022-12-30T13:40:54.406Z"
   },
   {
    "duration": 40,
    "start_time": "2022-12-30T13:40:54.890Z"
   },
   {
    "duration": 21,
    "start_time": "2022-12-30T13:40:54.932Z"
   },
   {
    "duration": 3,
    "start_time": "2022-12-30T13:40:54.955Z"
   },
   {
    "duration": 31,
    "start_time": "2022-12-30T13:40:54.959Z"
   },
   {
    "duration": 34,
    "start_time": "2022-12-30T13:40:54.992Z"
   },
   {
    "duration": 25,
    "start_time": "2022-12-30T13:40:55.028Z"
   },
   {
    "duration": 32,
    "start_time": "2022-12-30T13:40:55.055Z"
   },
   {
    "duration": 313,
    "start_time": "2022-12-30T13:40:55.088Z"
   },
   {
    "duration": 593,
    "start_time": "2022-12-30T13:40:55.405Z"
   },
   {
    "duration": 230,
    "start_time": "2022-12-30T13:40:56.000Z"
   },
   {
    "duration": 326,
    "start_time": "2022-12-30T13:40:56.232Z"
   },
   {
    "duration": 263,
    "start_time": "2022-12-30T13:40:56.560Z"
   },
   {
    "duration": 316,
    "start_time": "2022-12-30T13:40:56.825Z"
   },
   {
    "duration": 169,
    "start_time": "2022-12-30T13:40:57.143Z"
   },
   {
    "duration": 9,
    "start_time": "2022-12-30T13:40:57.314Z"
   },
   {
    "duration": 174,
    "start_time": "2022-12-30T13:40:57.330Z"
   },
   {
    "duration": 4,
    "start_time": "2022-12-30T13:40:57.506Z"
   },
   {
    "duration": 53,
    "start_time": "2022-12-30T13:40:57.521Z"
   },
   {
    "duration": 4,
    "start_time": "2022-12-30T13:40:57.577Z"
   },
   {
    "duration": 23,
    "start_time": "2022-12-30T13:40:57.583Z"
   },
   {
    "duration": 123,
    "start_time": "2022-12-30T13:40:57.608Z"
   },
   {
    "duration": 20,
    "start_time": "2022-12-30T13:40:57.733Z"
   },
   {
    "duration": 150,
    "start_time": "2022-12-30T13:40:57.755Z"
   },
   {
    "duration": 402,
    "start_time": "2022-12-30T13:40:57.907Z"
   },
   {
    "duration": 11,
    "start_time": "2022-12-30T13:40:58.311Z"
   },
   {
    "duration": 32,
    "start_time": "2022-12-30T13:40:58.324Z"
   },
   {
    "duration": 11,
    "start_time": "2022-12-30T13:40:58.360Z"
   },
   {
    "duration": 19,
    "start_time": "2022-12-30T13:40:58.373Z"
   },
   {
    "duration": 28,
    "start_time": "2022-12-30T13:40:58.394Z"
   },
   {
    "duration": 25,
    "start_time": "2022-12-30T13:40:58.424Z"
   },
   {
    "duration": 13,
    "start_time": "2022-12-30T13:40:58.451Z"
   },
   {
    "duration": 788,
    "start_time": "2022-12-30T13:53:28.617Z"
   },
   {
    "duration": 195,
    "start_time": "2022-12-30T13:54:10.669Z"
   },
   {
    "duration": 50,
    "start_time": "2023-01-03T10:01:52.674Z"
   },
   {
    "duration": 465,
    "start_time": "2023-01-03T10:02:31.212Z"
   },
   {
    "duration": 90,
    "start_time": "2023-01-03T10:02:31.678Z"
   },
   {
    "duration": 56,
    "start_time": "2023-01-03T10:02:31.770Z"
   },
   {
    "duration": 2,
    "start_time": "2023-01-03T10:02:31.828Z"
   },
   {
    "duration": 8,
    "start_time": "2023-01-03T10:02:31.832Z"
   },
   {
    "duration": 29,
    "start_time": "2023-01-03T10:02:31.841Z"
   },
   {
    "duration": 12,
    "start_time": "2023-01-03T10:02:31.872Z"
   },
   {
    "duration": 9,
    "start_time": "2023-01-03T10:02:31.885Z"
   },
   {
    "duration": 376,
    "start_time": "2023-01-03T10:02:31.895Z"
   },
   {
    "duration": 512,
    "start_time": "2023-01-03T10:02:32.273Z"
   },
   {
    "duration": 196,
    "start_time": "2023-01-03T10:02:32.787Z"
   },
   {
    "duration": 404,
    "start_time": "2023-01-03T10:02:32.985Z"
   },
   {
    "duration": 200,
    "start_time": "2023-01-03T10:02:33.390Z"
   },
   {
    "duration": 293,
    "start_time": "2023-01-03T10:02:33.594Z"
   },
   {
    "duration": 134,
    "start_time": "2023-01-03T10:02:33.889Z"
   },
   {
    "duration": 4,
    "start_time": "2023-01-03T10:02:34.025Z"
   },
   {
    "duration": 152,
    "start_time": "2023-01-03T10:02:34.031Z"
   },
   {
    "duration": 4,
    "start_time": "2023-01-03T10:02:34.185Z"
   },
   {
    "duration": 36,
    "start_time": "2023-01-03T10:02:34.191Z"
   },
   {
    "duration": 3,
    "start_time": "2023-01-03T10:02:34.229Z"
   },
   {
    "duration": 9,
    "start_time": "2023-01-03T10:02:34.233Z"
   },
   {
    "duration": 102,
    "start_time": "2023-01-03T10:02:34.243Z"
   },
   {
    "duration": 21,
    "start_time": "2023-01-03T10:02:34.347Z"
   },
   {
    "duration": 158,
    "start_time": "2023-01-03T10:02:34.370Z"
   },
   {
    "duration": 430,
    "start_time": "2023-01-03T10:02:34.530Z"
   },
   {
    "duration": 8,
    "start_time": "2023-01-03T10:02:34.962Z"
   },
   {
    "duration": 26,
    "start_time": "2023-01-03T10:02:34.971Z"
   },
   {
    "duration": 20,
    "start_time": "2023-01-03T10:02:34.999Z"
   },
   {
    "duration": 9,
    "start_time": "2023-01-03T10:02:35.021Z"
   },
   {
    "duration": 87,
    "start_time": "2023-01-03T10:02:35.032Z"
   },
   {
    "duration": 19,
    "start_time": "2023-01-03T10:02:35.121Z"
   },
   {
    "duration": 12,
    "start_time": "2023-01-03T10:02:35.142Z"
   },
   {
    "duration": 285,
    "start_time": "2023-01-03T10:06:01.836Z"
   },
   {
    "duration": 9,
    "start_time": "2023-01-03T10:28:33.404Z"
   },
   {
    "duration": 498,
    "start_time": "2023-01-03T12:52:14.585Z"
   },
   {
    "duration": 46,
    "start_time": "2023-01-03T12:52:15.086Z"
   },
   {
    "duration": 23,
    "start_time": "2023-01-03T12:52:15.134Z"
   },
   {
    "duration": 3,
    "start_time": "2023-01-03T12:52:15.160Z"
   },
   {
    "duration": 13,
    "start_time": "2023-01-03T12:52:15.165Z"
   },
   {
    "duration": 18,
    "start_time": "2023-01-03T12:52:15.180Z"
   },
   {
    "duration": 13,
    "start_time": "2023-01-03T12:52:15.199Z"
   },
   {
    "duration": 10,
    "start_time": "2023-01-03T12:52:15.214Z"
   },
   {
    "duration": 217,
    "start_time": "2023-01-03T12:52:15.226Z"
   },
   {
    "duration": 542,
    "start_time": "2023-01-03T12:52:15.445Z"
   },
   {
    "duration": 196,
    "start_time": "2023-01-03T12:52:15.988Z"
   },
   {
    "duration": 367,
    "start_time": "2023-01-03T12:52:16.186Z"
   },
   {
    "duration": 258,
    "start_time": "2023-01-03T12:52:16.556Z"
   },
   {
    "duration": 299,
    "start_time": "2023-01-03T12:52:16.815Z"
   },
   {
    "duration": 141,
    "start_time": "2023-01-03T12:52:17.116Z"
   },
   {
    "duration": 4,
    "start_time": "2023-01-03T12:52:17.259Z"
   },
   {
    "duration": 164,
    "start_time": "2023-01-03T12:52:17.265Z"
   },
   {
    "duration": 5,
    "start_time": "2023-01-03T12:52:17.431Z"
   },
   {
    "duration": 27,
    "start_time": "2023-01-03T12:52:17.437Z"
   },
   {
    "duration": 3,
    "start_time": "2023-01-03T12:52:17.466Z"
   },
   {
    "duration": 11,
    "start_time": "2023-01-03T12:52:17.471Z"
   },
   {
    "duration": 111,
    "start_time": "2023-01-03T12:52:17.484Z"
   },
   {
    "duration": 32,
    "start_time": "2023-01-03T12:52:17.597Z"
   },
   {
    "duration": 160,
    "start_time": "2023-01-03T12:52:17.630Z"
   },
   {
    "duration": 413,
    "start_time": "2023-01-03T12:52:17.792Z"
   },
   {
    "duration": 9,
    "start_time": "2023-01-03T12:52:18.207Z"
   },
   {
    "duration": 22,
    "start_time": "2023-01-03T12:52:18.217Z"
   },
   {
    "duration": 11,
    "start_time": "2023-01-03T12:52:18.243Z"
   },
   {
    "duration": 10,
    "start_time": "2023-01-03T12:52:18.255Z"
   },
   {
    "duration": 12,
    "start_time": "2023-01-03T12:52:18.266Z"
   },
   {
    "duration": 49,
    "start_time": "2023-01-03T12:52:18.280Z"
   },
   {
    "duration": 15,
    "start_time": "2023-01-03T12:52:18.331Z"
   },
   {
    "duration": 329,
    "start_time": "2023-01-03T12:53:36.089Z"
   },
   {
    "duration": 434,
    "start_time": "2023-01-04T08:45:50.925Z"
   },
   {
    "duration": 150,
    "start_time": "2023-01-04T08:45:51.361Z"
   },
   {
    "duration": 59,
    "start_time": "2023-01-04T08:45:51.802Z"
   },
   {
    "duration": 1,
    "start_time": "2023-01-04T08:45:51.863Z"
   },
   {
    "duration": 3,
    "start_time": "2023-01-04T08:45:52.221Z"
   },
   {
    "duration": 25,
    "start_time": "2023-01-04T08:45:52.229Z"
   },
   {
    "duration": 8,
    "start_time": "2023-01-04T08:45:52.264Z"
   },
   {
    "duration": 8,
    "start_time": "2023-01-04T08:45:52.391Z"
   },
   {
    "duration": 355,
    "start_time": "2023-01-04T08:45:52.407Z"
   },
   {
    "duration": 516,
    "start_time": "2023-01-04T08:45:52.764Z"
   },
   {
    "duration": 191,
    "start_time": "2023-01-04T08:45:53.282Z"
   },
   {
    "duration": 355,
    "start_time": "2023-01-04T08:45:53.476Z"
   },
   {
    "duration": 190,
    "start_time": "2023-01-04T08:45:53.833Z"
   },
   {
    "duration": 256,
    "start_time": "2023-01-04T08:45:54.025Z"
   },
   {
    "duration": 140,
    "start_time": "2023-01-04T08:45:54.283Z"
   },
   {
    "duration": 5,
    "start_time": "2023-01-04T08:45:54.425Z"
   },
   {
    "duration": 145,
    "start_time": "2023-01-04T08:45:54.431Z"
   },
   {
    "duration": 4,
    "start_time": "2023-01-04T08:45:54.579Z"
   },
   {
    "duration": 23,
    "start_time": "2023-01-04T08:45:54.595Z"
   },
   {
    "duration": 3,
    "start_time": "2023-01-04T08:45:54.619Z"
   },
   {
    "duration": 6,
    "start_time": "2023-01-04T08:45:54.624Z"
   },
   {
    "duration": 96,
    "start_time": "2023-01-04T08:45:54.632Z"
   },
   {
    "duration": 24,
    "start_time": "2023-01-04T08:45:54.730Z"
   },
   {
    "duration": 141,
    "start_time": "2023-01-04T08:45:54.755Z"
   },
   {
    "duration": 405,
    "start_time": "2023-01-04T08:45:54.898Z"
   },
   {
    "duration": 8,
    "start_time": "2023-01-04T08:45:55.304Z"
   },
   {
    "duration": 21,
    "start_time": "2023-01-04T08:45:55.313Z"
   },
   {
    "duration": 10,
    "start_time": "2023-01-04T08:45:55.335Z"
   },
   {
    "duration": 8,
    "start_time": "2023-01-04T08:45:55.346Z"
   },
   {
    "duration": 91,
    "start_time": "2023-01-04T08:45:55.356Z"
   },
   {
    "duration": 26,
    "start_time": "2023-01-04T08:45:55.448Z"
   },
   {
    "duration": 25,
    "start_time": "2023-01-04T08:45:55.475Z"
   },
   {
    "duration": 489,
    "start_time": "2023-01-04T11:31:19.601Z"
   },
   {
    "duration": 84,
    "start_time": "2023-01-04T12:51:18.455Z"
   },
   {
    "duration": 486,
    "start_time": "2023-01-04T12:51:26.321Z"
   },
   {
    "duration": 113,
    "start_time": "2023-01-04T12:51:26.808Z"
   },
   {
    "duration": 62,
    "start_time": "2023-01-04T12:51:26.922Z"
   },
   {
    "duration": 24,
    "start_time": "2023-01-04T12:51:26.986Z"
   },
   {
    "duration": 3,
    "start_time": "2023-01-04T12:51:27.012Z"
   },
   {
    "duration": 17,
    "start_time": "2023-01-04T12:51:27.017Z"
   },
   {
    "duration": 15,
    "start_time": "2023-01-04T12:51:27.036Z"
   },
   {
    "duration": 9,
    "start_time": "2023-01-04T12:51:27.052Z"
   },
   {
    "duration": 431,
    "start_time": "2023-01-04T12:51:27.063Z"
   },
   {
    "duration": 583,
    "start_time": "2023-01-04T12:51:27.498Z"
   },
   {
    "duration": 216,
    "start_time": "2023-01-04T12:51:28.083Z"
   },
   {
    "duration": 400,
    "start_time": "2023-01-04T12:51:28.301Z"
   },
   {
    "duration": 218,
    "start_time": "2023-01-04T12:51:28.702Z"
   },
   {
    "duration": 336,
    "start_time": "2023-01-04T12:51:28.922Z"
   },
   {
    "duration": 151,
    "start_time": "2023-01-04T12:51:29.259Z"
   },
   {
    "duration": 5,
    "start_time": "2023-01-04T12:51:29.411Z"
   },
   {
    "duration": 162,
    "start_time": "2023-01-04T12:51:29.418Z"
   },
   {
    "duration": 9,
    "start_time": "2023-01-04T12:51:29.582Z"
   },
   {
    "duration": 47,
    "start_time": "2023-01-04T12:51:29.593Z"
   },
   {
    "duration": 4,
    "start_time": "2023-01-04T12:51:29.650Z"
   },
   {
    "duration": 29,
    "start_time": "2023-01-04T12:51:29.657Z"
   },
   {
    "duration": 131,
    "start_time": "2023-01-04T12:51:29.688Z"
   },
   {
    "duration": 44,
    "start_time": "2023-01-04T12:51:29.821Z"
   },
   {
    "duration": 188,
    "start_time": "2023-01-04T12:51:29.868Z"
   },
   {
    "duration": 430,
    "start_time": "2023-01-04T12:51:30.058Z"
   },
   {
    "duration": 8,
    "start_time": "2023-01-04T12:51:30.490Z"
   },
   {
    "duration": 53,
    "start_time": "2023-01-04T12:51:30.500Z"
   },
   {
    "duration": 25,
    "start_time": "2023-01-04T12:51:30.556Z"
   },
   {
    "duration": 32,
    "start_time": "2023-01-04T12:51:30.583Z"
   },
   {
    "duration": 25,
    "start_time": "2023-01-04T12:51:30.618Z"
   },
   {
    "duration": 60,
    "start_time": "2023-01-04T12:51:30.646Z"
   },
   {
    "duration": 90,
    "start_time": "2023-01-04T12:51:30.708Z"
   },
   {
    "duration": 25,
    "start_time": "2023-01-04T12:51:58.647Z"
   },
   {
    "duration": 11,
    "start_time": "2023-01-04T12:52:15.589Z"
   },
   {
    "duration": 11,
    "start_time": "2023-01-04T12:52:27.333Z"
   },
   {
    "duration": 11,
    "start_time": "2023-01-04T12:52:30.427Z"
   },
   {
    "duration": 16,
    "start_time": "2023-01-04T13:00:37.712Z"
   },
   {
    "duration": 6,
    "start_time": "2023-01-04T13:00:43.012Z"
   },
   {
    "duration": 15,
    "start_time": "2023-01-04T13:01:06.689Z"
   },
   {
    "duration": 13,
    "start_time": "2023-01-04T13:01:14.072Z"
   },
   {
    "duration": 7,
    "start_time": "2023-01-04T13:06:26.393Z"
   },
   {
    "duration": 8,
    "start_time": "2023-01-04T13:06:47.714Z"
   },
   {
    "duration": 6,
    "start_time": "2023-01-04T13:06:50.004Z"
   },
   {
    "duration": 7,
    "start_time": "2023-01-04T13:06:52.717Z"
   },
   {
    "duration": 7,
    "start_time": "2023-01-04T13:10:13.083Z"
   },
   {
    "duration": 7,
    "start_time": "2023-01-04T13:10:22.846Z"
   },
   {
    "duration": 7,
    "start_time": "2023-01-04T13:10:30.485Z"
   },
   {
    "duration": 10,
    "start_time": "2023-01-04T13:13:49.214Z"
   },
   {
    "duration": 7,
    "start_time": "2023-01-04T13:14:29.240Z"
   },
   {
    "duration": 6,
    "start_time": "2023-01-04T13:14:30.252Z"
   },
   {
    "duration": 8,
    "start_time": "2023-01-04T13:14:53.441Z"
   },
   {
    "duration": 9,
    "start_time": "2023-01-04T13:14:56.755Z"
   },
   {
    "duration": 10,
    "start_time": "2023-01-04T13:28:38.630Z"
   },
   {
    "duration": 105,
    "start_time": "2023-01-04T13:31:12.228Z"
   },
   {
    "duration": 16,
    "start_time": "2023-01-04T13:33:02.170Z"
   },
   {
    "duration": 9,
    "start_time": "2023-01-04T13:33:17.004Z"
   },
   {
    "duration": 9,
    "start_time": "2023-01-04T13:33:24.522Z"
   },
   {
    "duration": 13,
    "start_time": "2023-01-04T13:33:30.885Z"
   },
   {
    "duration": 12,
    "start_time": "2023-01-04T13:33:36.315Z"
   },
   {
    "duration": 8,
    "start_time": "2023-01-04T13:33:42.430Z"
   },
   {
    "duration": 10,
    "start_time": "2023-01-04T13:34:03.051Z"
   },
   {
    "duration": 11,
    "start_time": "2023-01-04T13:35:38.515Z"
   },
   {
    "duration": 11,
    "start_time": "2023-01-04T13:36:57.172Z"
   },
   {
    "duration": 11,
    "start_time": "2023-01-04T13:38:11.719Z"
   },
   {
    "duration": 13,
    "start_time": "2023-01-04T15:48:59.979Z"
   },
   {
    "duration": 24,
    "start_time": "2023-01-04T15:49:16.454Z"
   },
   {
    "duration": 13,
    "start_time": "2023-01-04T15:49:41.968Z"
   },
   {
    "duration": 14,
    "start_time": "2023-01-04T15:50:09.802Z"
   },
   {
    "duration": 12,
    "start_time": "2023-01-04T15:50:33.421Z"
   },
   {
    "duration": 1210,
    "start_time": "2023-01-04T16:19:03.465Z"
   },
   {
    "duration": 1233,
    "start_time": "2023-01-04T16:19:14.481Z"
   },
   {
    "duration": 524,
    "start_time": "2023-01-04T16:19:27.069Z"
   },
   {
    "duration": 43,
    "start_time": "2023-01-04T16:19:27.596Z"
   },
   {
    "duration": 34,
    "start_time": "2023-01-04T16:19:27.641Z"
   },
   {
    "duration": 7,
    "start_time": "2023-01-04T16:19:27.676Z"
   },
   {
    "duration": 15,
    "start_time": "2023-01-04T16:19:27.685Z"
   },
   {
    "duration": 9,
    "start_time": "2023-01-04T16:19:27.702Z"
   },
   {
    "duration": 15,
    "start_time": "2023-01-04T16:19:27.714Z"
   },
   {
    "duration": 36,
    "start_time": "2023-01-04T16:19:27.731Z"
   },
   {
    "duration": 13,
    "start_time": "2023-01-04T16:19:27.769Z"
   },
   {
    "duration": 286,
    "start_time": "2023-01-04T16:19:27.785Z"
   },
   {
    "duration": 648,
    "start_time": "2023-01-04T16:19:28.073Z"
   },
   {
    "duration": 250,
    "start_time": "2023-01-04T16:19:28.723Z"
   },
   {
    "duration": 371,
    "start_time": "2023-01-04T16:19:28.975Z"
   },
   {
    "duration": 314,
    "start_time": "2023-01-04T16:19:29.355Z"
   },
   {
    "duration": 327,
    "start_time": "2023-01-04T16:19:29.670Z"
   },
   {
    "duration": 193,
    "start_time": "2023-01-04T16:19:29.999Z"
   },
   {
    "duration": 5,
    "start_time": "2023-01-04T16:19:30.194Z"
   },
   {
    "duration": 201,
    "start_time": "2023-01-04T16:19:30.201Z"
   },
   {
    "duration": 5,
    "start_time": "2023-01-04T16:19:30.404Z"
   },
   {
    "duration": 52,
    "start_time": "2023-01-04T16:19:30.411Z"
   },
   {
    "duration": 12,
    "start_time": "2023-01-04T16:19:30.464Z"
   },
   {
    "duration": 16,
    "start_time": "2023-01-04T16:19:30.478Z"
   },
   {
    "duration": 123,
    "start_time": "2023-01-04T16:19:30.496Z"
   },
   {
    "duration": 48,
    "start_time": "2023-01-04T16:19:30.621Z"
   },
   {
    "duration": 219,
    "start_time": "2023-01-04T16:19:30.673Z"
   },
   {
    "duration": 486,
    "start_time": "2023-01-04T16:19:30.894Z"
   },
   {
    "duration": 9,
    "start_time": "2023-01-04T16:19:31.382Z"
   },
   {
    "duration": 37,
    "start_time": "2023-01-04T16:19:31.393Z"
   },
   {
    "duration": 27,
    "start_time": "2023-01-04T16:19:31.432Z"
   },
   {
    "duration": 25,
    "start_time": "2023-01-04T16:19:31.461Z"
   },
   {
    "duration": 34,
    "start_time": "2023-01-04T16:19:31.488Z"
   },
   {
    "duration": 40,
    "start_time": "2023-01-04T16:19:31.524Z"
   },
   {
    "duration": 22,
    "start_time": "2023-01-04T16:19:31.566Z"
   },
   {
    "duration": 692,
    "start_time": "2023-01-04T16:21:08.304Z"
   },
   {
    "duration": 601,
    "start_time": "2023-01-04T16:23:09.034Z"
   },
   {
    "duration": 36,
    "start_time": "2023-01-04T16:27:17.591Z"
   },
   {
    "duration": 189,
    "start_time": "2023-01-04T16:30:57.338Z"
   },
   {
    "duration": 208,
    "start_time": "2023-01-04T16:31:11.722Z"
   },
   {
    "duration": 190,
    "start_time": "2023-01-04T16:31:38.099Z"
   },
   {
    "duration": 215,
    "start_time": "2023-01-04T16:31:53.765Z"
   },
   {
    "duration": 246,
    "start_time": "2023-01-04T16:32:19.462Z"
   },
   {
    "duration": 482,
    "start_time": "2023-01-04T16:33:03.081Z"
   },
   {
    "duration": 452,
    "start_time": "2023-01-04T16:33:28.533Z"
   },
   {
    "duration": 557,
    "start_time": "2023-01-04T16:34:09.511Z"
   },
   {
    "duration": 585,
    "start_time": "2023-01-04T16:34:19.252Z"
   },
   {
    "duration": 519,
    "start_time": "2023-01-04T16:34:24.776Z"
   },
   {
    "duration": 593,
    "start_time": "2023-01-04T16:34:31.634Z"
   },
   {
    "duration": 477,
    "start_time": "2023-01-04T16:34:44.397Z"
   },
   {
    "duration": 633,
    "start_time": "2023-01-04T16:34:48.933Z"
   },
   {
    "duration": 524,
    "start_time": "2023-01-04T16:35:03.541Z"
   },
   {
    "duration": 512,
    "start_time": "2023-01-04T16:35:28.726Z"
   },
   {
    "duration": 781,
    "start_time": "2023-01-04T16:35:37.964Z"
   },
   {
    "duration": 49,
    "start_time": "2023-01-04T16:35:38.747Z"
   },
   {
    "duration": 23,
    "start_time": "2023-01-04T16:35:38.798Z"
   },
   {
    "duration": 8,
    "start_time": "2023-01-04T16:35:38.824Z"
   },
   {
    "duration": 10,
    "start_time": "2023-01-04T16:35:38.834Z"
   },
   {
    "duration": 14,
    "start_time": "2023-01-04T16:35:38.846Z"
   },
   {
    "duration": 21,
    "start_time": "2023-01-04T16:35:38.868Z"
   },
   {
    "duration": 15,
    "start_time": "2023-01-04T16:35:38.890Z"
   },
   {
    "duration": 9,
    "start_time": "2023-01-04T16:35:38.907Z"
   },
   {
    "duration": 609,
    "start_time": "2023-01-04T16:35:38.918Z"
   },
   {
    "duration": 265,
    "start_time": "2023-01-04T16:35:39.529Z"
   },
   {
    "duration": 364,
    "start_time": "2023-01-04T16:35:39.796Z"
   },
   {
    "duration": 303,
    "start_time": "2023-01-04T16:35:40.167Z"
   },
   {
    "duration": 317,
    "start_time": "2023-01-04T16:35:40.473Z"
   },
   {
    "duration": 172,
    "start_time": "2023-01-04T16:35:40.791Z"
   },
   {
    "duration": 4,
    "start_time": "2023-01-04T16:35:40.969Z"
   },
   {
    "duration": 162,
    "start_time": "2023-01-04T16:35:40.975Z"
   },
   {
    "duration": 5,
    "start_time": "2023-01-04T16:35:41.139Z"
   },
   {
    "duration": 42,
    "start_time": "2023-01-04T16:35:41.153Z"
   },
   {
    "duration": 3,
    "start_time": "2023-01-04T16:35:41.197Z"
   },
   {
    "duration": 11,
    "start_time": "2023-01-04T16:35:41.202Z"
   },
   {
    "duration": 94,
    "start_time": "2023-01-04T16:35:41.215Z"
   },
   {
    "duration": 21,
    "start_time": "2023-01-04T16:35:41.311Z"
   },
   {
    "duration": 202,
    "start_time": "2023-01-04T16:35:41.334Z"
   },
   {
    "duration": 441,
    "start_time": "2023-01-04T16:35:41.538Z"
   },
   {
    "duration": 9,
    "start_time": "2023-01-04T16:35:41.981Z"
   },
   {
    "duration": 31,
    "start_time": "2023-01-04T16:35:41.992Z"
   },
   {
    "duration": 39,
    "start_time": "2023-01-04T16:35:42.027Z"
   },
   {
    "duration": 23,
    "start_time": "2023-01-04T16:35:42.068Z"
   },
   {
    "duration": 20,
    "start_time": "2023-01-04T16:35:42.092Z"
   },
   {
    "duration": 27,
    "start_time": "2023-01-04T16:35:42.114Z"
   },
   {
    "duration": 28,
    "start_time": "2023-01-04T16:35:42.143Z"
   },
   {
    "duration": 559,
    "start_time": "2023-01-04T16:36:34.270Z"
   },
   {
    "duration": 574,
    "start_time": "2023-01-04T16:44:55.724Z"
   },
   {
    "duration": 530,
    "start_time": "2023-01-04T16:45:24.710Z"
   },
   {
    "duration": 477,
    "start_time": "2023-01-04T16:45:33.756Z"
   },
   {
    "duration": 295,
    "start_time": "2023-01-04T16:46:46.580Z"
   },
   {
    "duration": 314,
    "start_time": "2023-01-04T16:47:01.314Z"
   },
   {
    "duration": 252,
    "start_time": "2023-01-04T16:48:10.077Z"
   },
   {
    "duration": 359,
    "start_time": "2023-01-04T16:48:21.549Z"
   },
   {
    "duration": 213,
    "start_time": "2023-01-04T16:48:29.380Z"
   },
   {
    "duration": 210,
    "start_time": "2023-01-04T16:48:38.553Z"
   },
   {
    "duration": 536,
    "start_time": "2023-01-04T17:02:41.474Z"
   },
   {
    "duration": 497,
    "start_time": "2023-01-04T17:02:58.606Z"
   },
   {
    "duration": 589,
    "start_time": "2023-01-04T17:03:11.522Z"
   },
   {
    "duration": 520,
    "start_time": "2023-01-04T17:03:23.021Z"
   },
   {
    "duration": 535,
    "start_time": "2023-01-04T17:03:36.697Z"
   },
   {
    "duration": 560,
    "start_time": "2023-01-04T17:03:55.572Z"
   },
   {
    "duration": 524,
    "start_time": "2023-01-04T17:04:03.212Z"
   },
   {
    "duration": 540,
    "start_time": "2023-01-04T17:04:12.314Z"
   },
   {
    "duration": 521,
    "start_time": "2023-01-04T17:04:24.392Z"
   },
   {
    "duration": 207,
    "start_time": "2023-01-04T17:04:41.988Z"
   },
   {
    "duration": 360,
    "start_time": "2023-01-04T17:04:50.391Z"
   },
   {
    "duration": 209,
    "start_time": "2023-01-04T17:04:59.962Z"
   },
   {
    "duration": 326,
    "start_time": "2023-01-04T17:05:18.216Z"
   },
   {
    "duration": 828,
    "start_time": "2023-01-05T11:42:53.235Z"
   },
   {
    "duration": 84,
    "start_time": "2023-01-05T11:42:54.065Z"
   },
   {
    "duration": 54,
    "start_time": "2023-01-05T11:42:54.151Z"
   },
   {
    "duration": 6,
    "start_time": "2023-01-05T11:42:54.207Z"
   },
   {
    "duration": 23,
    "start_time": "2023-01-05T11:42:54.217Z"
   },
   {
    "duration": 6,
    "start_time": "2023-01-05T11:42:54.242Z"
   },
   {
    "duration": 20,
    "start_time": "2023-01-05T11:42:54.250Z"
   },
   {
    "duration": 13,
    "start_time": "2023-01-05T11:42:54.272Z"
   },
   {
    "duration": 8,
    "start_time": "2023-01-05T11:42:54.287Z"
   },
   {
    "duration": 529,
    "start_time": "2023-01-05T11:42:54.298Z"
   },
   {
    "duration": 183,
    "start_time": "2023-01-05T11:42:54.828Z"
   },
   {
    "duration": 341,
    "start_time": "2023-01-05T11:42:55.013Z"
   },
   {
    "duration": 247,
    "start_time": "2023-01-05T11:42:55.355Z"
   },
   {
    "duration": 314,
    "start_time": "2023-01-05T11:42:55.604Z"
   },
   {
    "duration": 64,
    "start_time": "2023-01-05T11:42:55.925Z"
   },
   {
    "duration": 0,
    "start_time": "2023-01-05T11:42:55.991Z"
   },
   {
    "duration": 0,
    "start_time": "2023-01-05T11:42:55.992Z"
   },
   {
    "duration": 0,
    "start_time": "2023-01-05T11:42:55.993Z"
   },
   {
    "duration": 0,
    "start_time": "2023-01-05T11:42:55.994Z"
   },
   {
    "duration": 0,
    "start_time": "2023-01-05T11:42:55.995Z"
   },
   {
    "duration": 0,
    "start_time": "2023-01-05T11:42:55.996Z"
   },
   {
    "duration": 0,
    "start_time": "2023-01-05T11:42:55.997Z"
   },
   {
    "duration": 0,
    "start_time": "2023-01-05T11:42:55.998Z"
   },
   {
    "duration": 0,
    "start_time": "2023-01-05T11:42:55.999Z"
   },
   {
    "duration": 0,
    "start_time": "2023-01-05T11:42:56.000Z"
   },
   {
    "duration": 0,
    "start_time": "2023-01-05T11:42:56.001Z"
   },
   {
    "duration": 0,
    "start_time": "2023-01-05T11:42:56.002Z"
   },
   {
    "duration": 0,
    "start_time": "2023-01-05T11:42:56.003Z"
   },
   {
    "duration": 0,
    "start_time": "2023-01-05T11:42:56.004Z"
   },
   {
    "duration": 0,
    "start_time": "2023-01-05T11:42:56.005Z"
   },
   {
    "duration": 0,
    "start_time": "2023-01-05T11:42:56.006Z"
   },
   {
    "duration": 0,
    "start_time": "2023-01-05T11:42:56.007Z"
   },
   {
    "duration": 0,
    "start_time": "2023-01-05T11:42:56.008Z"
   },
   {
    "duration": 1789,
    "start_time": "2023-01-05T11:46:50.362Z"
   },
   {
    "duration": 262,
    "start_time": "2023-01-05T11:47:14.039Z"
   },
   {
    "duration": 1769,
    "start_time": "2023-01-05T11:47:31.112Z"
   },
   {
    "duration": 248,
    "start_time": "2023-01-05T11:47:37.755Z"
   },
   {
    "duration": 274,
    "start_time": "2023-01-05T11:47:44.436Z"
   },
   {
    "duration": 62,
    "start_time": "2023-01-05T11:48:11.492Z"
   },
   {
    "duration": 630,
    "start_time": "2023-01-05T11:48:32.070Z"
   },
   {
    "duration": 41,
    "start_time": "2023-01-05T11:48:32.702Z"
   },
   {
    "duration": 18,
    "start_time": "2023-01-05T11:48:32.745Z"
   },
   {
    "duration": 6,
    "start_time": "2023-01-05T11:48:32.764Z"
   },
   {
    "duration": 9,
    "start_time": "2023-01-05T11:48:32.771Z"
   },
   {
    "duration": 6,
    "start_time": "2023-01-05T11:48:32.781Z"
   },
   {
    "duration": 17,
    "start_time": "2023-01-05T11:48:32.788Z"
   },
   {
    "duration": 10,
    "start_time": "2023-01-05T11:48:32.807Z"
   },
   {
    "duration": 7,
    "start_time": "2023-01-05T11:48:32.819Z"
   },
   {
    "duration": 495,
    "start_time": "2023-01-05T11:48:32.828Z"
   },
   {
    "duration": 176,
    "start_time": "2023-01-05T11:48:33.324Z"
   },
   {
    "duration": 300,
    "start_time": "2023-01-05T11:48:33.502Z"
   },
   {
    "duration": 228,
    "start_time": "2023-01-05T11:48:33.804Z"
   },
   {
    "duration": 291,
    "start_time": "2023-01-05T11:48:34.034Z"
   },
   {
    "duration": 48,
    "start_time": "2023-01-05T11:48:34.327Z"
   },
   {
    "duration": 0,
    "start_time": "2023-01-05T11:48:34.376Z"
   },
   {
    "duration": 0,
    "start_time": "2023-01-05T11:48:34.377Z"
   },
   {
    "duration": 0,
    "start_time": "2023-01-05T11:48:34.378Z"
   },
   {
    "duration": 0,
    "start_time": "2023-01-05T11:48:34.379Z"
   },
   {
    "duration": 0,
    "start_time": "2023-01-05T11:48:34.380Z"
   },
   {
    "duration": 0,
    "start_time": "2023-01-05T11:48:34.381Z"
   },
   {
    "duration": 1,
    "start_time": "2023-01-05T11:48:34.381Z"
   },
   {
    "duration": 0,
    "start_time": "2023-01-05T11:48:34.382Z"
   },
   {
    "duration": 0,
    "start_time": "2023-01-05T11:48:34.383Z"
   },
   {
    "duration": 0,
    "start_time": "2023-01-05T11:48:34.384Z"
   },
   {
    "duration": 0,
    "start_time": "2023-01-05T11:48:34.385Z"
   },
   {
    "duration": 0,
    "start_time": "2023-01-05T11:48:34.386Z"
   },
   {
    "duration": 0,
    "start_time": "2023-01-05T11:48:34.387Z"
   },
   {
    "duration": 0,
    "start_time": "2023-01-05T11:48:34.388Z"
   },
   {
    "duration": 0,
    "start_time": "2023-01-05T11:48:34.389Z"
   },
   {
    "duration": 0,
    "start_time": "2023-01-05T11:48:34.390Z"
   },
   {
    "duration": 0,
    "start_time": "2023-01-05T11:48:34.391Z"
   },
   {
    "duration": 0,
    "start_time": "2023-01-05T11:48:34.392Z"
   },
   {
    "duration": 50,
    "start_time": "2023-01-05T11:50:34.241Z"
   },
   {
    "duration": 41,
    "start_time": "2023-01-05T11:50:43.554Z"
   },
   {
    "duration": 48,
    "start_time": "2023-01-05T11:51:14.707Z"
   },
   {
    "duration": 55,
    "start_time": "2023-01-05T11:51:31.954Z"
   },
   {
    "duration": 68,
    "start_time": "2023-01-05T11:52:10.535Z"
   },
   {
    "duration": 660,
    "start_time": "2023-01-05T12:00:15.768Z"
   },
   {
    "duration": 46,
    "start_time": "2023-01-05T12:00:16.431Z"
   },
   {
    "duration": 21,
    "start_time": "2023-01-05T12:00:16.478Z"
   },
   {
    "duration": 8,
    "start_time": "2023-01-05T12:00:16.502Z"
   },
   {
    "duration": 20,
    "start_time": "2023-01-05T12:00:16.513Z"
   },
   {
    "duration": 9,
    "start_time": "2023-01-05T12:00:16.535Z"
   },
   {
    "duration": 15,
    "start_time": "2023-01-05T12:00:16.546Z"
   },
   {
    "duration": 12,
    "start_time": "2023-01-05T12:00:16.562Z"
   },
   {
    "duration": 10,
    "start_time": "2023-01-05T12:00:16.576Z"
   },
   {
    "duration": 513,
    "start_time": "2023-01-05T12:00:16.588Z"
   },
   {
    "duration": 176,
    "start_time": "2023-01-05T12:00:17.103Z"
   },
   {
    "duration": 296,
    "start_time": "2023-01-05T12:00:17.280Z"
   },
   {
    "duration": 231,
    "start_time": "2023-01-05T12:00:17.578Z"
   },
   {
    "duration": 290,
    "start_time": "2023-01-05T12:00:17.815Z"
   },
   {
    "duration": 126,
    "start_time": "2023-01-05T12:00:18.115Z"
   },
   {
    "duration": 4,
    "start_time": "2023-01-05T12:00:18.243Z"
   },
   {
    "duration": 149,
    "start_time": "2023-01-05T12:00:18.248Z"
   },
   {
    "duration": 4,
    "start_time": "2023-01-05T12:00:18.398Z"
   },
   {
    "duration": 26,
    "start_time": "2023-01-05T12:00:18.415Z"
   },
   {
    "duration": 8,
    "start_time": "2023-01-05T12:00:18.443Z"
   },
   {
    "duration": 11,
    "start_time": "2023-01-05T12:00:18.453Z"
   },
   {
    "duration": 94,
    "start_time": "2023-01-05T12:00:18.465Z"
   },
   {
    "duration": 20,
    "start_time": "2023-01-05T12:00:18.561Z"
   },
   {
    "duration": 132,
    "start_time": "2023-01-05T12:00:18.583Z"
   },
   {
    "duration": 376,
    "start_time": "2023-01-05T12:00:18.717Z"
   },
   {
    "duration": 7,
    "start_time": "2023-01-05T12:00:19.095Z"
   },
   {
    "duration": 30,
    "start_time": "2023-01-05T12:00:19.103Z"
   },
   {
    "duration": 13,
    "start_time": "2023-01-05T12:00:19.137Z"
   },
   {
    "duration": 10,
    "start_time": "2023-01-05T12:00:19.152Z"
   },
   {
    "duration": 9,
    "start_time": "2023-01-05T12:00:19.164Z"
   },
   {
    "duration": 64,
    "start_time": "2023-01-05T12:00:19.175Z"
   },
   {
    "duration": 18,
    "start_time": "2023-01-05T12:00:19.241Z"
   },
   {
    "duration": 313,
    "start_time": "2023-01-05T12:18:04.804Z"
   },
   {
    "duration": 783,
    "start_time": "2023-01-05T12:18:15.639Z"
   },
   {
    "duration": 249,
    "start_time": "2023-01-05T12:18:40.119Z"
   },
   {
    "duration": 187,
    "start_time": "2023-01-05T12:18:58.436Z"
   },
   {
    "duration": 183,
    "start_time": "2023-01-05T12:19:28.275Z"
   },
   {
    "duration": 172,
    "start_time": "2023-01-05T12:19:36.714Z"
   },
   {
    "duration": 178,
    "start_time": "2023-01-05T12:19:56.806Z"
   },
   {
    "duration": 171,
    "start_time": "2023-01-05T12:20:08.839Z"
   },
   {
    "duration": 170,
    "start_time": "2023-01-05T12:20:33.453Z"
   },
   {
    "duration": 183,
    "start_time": "2023-01-05T12:20:37.077Z"
   },
   {
    "duration": 714,
    "start_time": "2023-01-05T12:43:31.536Z"
   },
   {
    "duration": 706,
    "start_time": "2023-01-05T12:44:17.024Z"
   },
   {
    "duration": 683,
    "start_time": "2023-01-05T12:44:26.166Z"
   },
   {
    "duration": 184,
    "start_time": "2023-01-05T12:45:21.066Z"
   },
   {
    "duration": 256,
    "start_time": "2023-01-05T12:45:26.938Z"
   },
   {
    "duration": 286,
    "start_time": "2023-01-05T12:45:52.656Z"
   },
   {
    "duration": 323,
    "start_time": "2023-01-05T12:46:08.202Z"
   },
   {
    "duration": 345,
    "start_time": "2023-01-05T12:46:16.104Z"
   },
   {
    "duration": 285,
    "start_time": "2023-01-05T12:46:25.372Z"
   },
   {
    "duration": 322,
    "start_time": "2023-01-05T12:46:39.693Z"
   },
   {
    "duration": 265,
    "start_time": "2023-01-05T12:46:56.874Z"
   },
   {
    "duration": 265,
    "start_time": "2023-01-05T12:47:08.775Z"
   },
   {
    "duration": 258,
    "start_time": "2023-01-05T12:49:42.066Z"
   },
   {
    "duration": 244,
    "start_time": "2023-01-05T12:50:09.358Z"
   },
   {
    "duration": 319,
    "start_time": "2023-01-05T12:53:51.006Z"
   },
   {
    "duration": 271,
    "start_time": "2023-01-05T12:56:20.753Z"
   },
   {
    "duration": 279,
    "start_time": "2023-01-05T13:08:09.360Z"
   },
   {
    "duration": 160,
    "start_time": "2023-01-05T13:08:37.546Z"
   },
   {
    "duration": 279,
    "start_time": "2023-01-05T13:10:10.808Z"
   },
   {
    "duration": 233,
    "start_time": "2023-01-05T13:10:36.425Z"
   },
   {
    "duration": 128,
    "start_time": "2023-01-05T13:10:49.466Z"
   },
   {
    "duration": 129,
    "start_time": "2023-01-05T13:11:07.367Z"
   },
   {
    "duration": 188,
    "start_time": "2023-01-05T13:11:34.236Z"
   },
   {
    "duration": 143,
    "start_time": "2023-01-05T13:21:00.522Z"
   },
   {
    "duration": 655,
    "start_time": "2023-01-05T13:23:00.841Z"
   },
   {
    "duration": 43,
    "start_time": "2023-01-05T13:23:01.497Z"
   },
   {
    "duration": 20,
    "start_time": "2023-01-05T13:23:01.541Z"
   },
   {
    "duration": 11,
    "start_time": "2023-01-05T13:23:01.563Z"
   },
   {
    "duration": 31,
    "start_time": "2023-01-05T13:23:01.576Z"
   },
   {
    "duration": 11,
    "start_time": "2023-01-05T13:23:01.608Z"
   },
   {
    "duration": 23,
    "start_time": "2023-01-05T13:23:01.620Z"
   },
   {
    "duration": 18,
    "start_time": "2023-01-05T13:23:01.645Z"
   },
   {
    "duration": 8,
    "start_time": "2023-01-05T13:23:01.665Z"
   },
   {
    "duration": 573,
    "start_time": "2023-01-05T13:23:01.676Z"
   },
   {
    "duration": 196,
    "start_time": "2023-01-05T13:23:02.251Z"
   },
   {
    "duration": 290,
    "start_time": "2023-01-05T13:23:02.449Z"
   },
   {
    "duration": 247,
    "start_time": "2023-01-05T13:23:02.741Z"
   },
   {
    "duration": 301,
    "start_time": "2023-01-05T13:23:02.989Z"
   },
   {
    "duration": 133,
    "start_time": "2023-01-05T13:23:03.292Z"
   },
   {
    "duration": 3,
    "start_time": "2023-01-05T13:23:03.427Z"
   },
   {
    "duration": 162,
    "start_time": "2023-01-05T13:23:03.432Z"
   },
   {
    "duration": 160,
    "start_time": "2023-01-05T13:23:03.596Z"
   },
   {
    "duration": 178,
    "start_time": "2023-01-05T13:23:03.759Z"
   },
   {
    "duration": 124,
    "start_time": "2023-01-05T13:23:03.939Z"
   },
   {
    "duration": 0,
    "start_time": "2023-01-05T13:23:04.065Z"
   },
   {
    "duration": 0,
    "start_time": "2023-01-05T13:23:04.066Z"
   },
   {
    "duration": 0,
    "start_time": "2023-01-05T13:23:04.067Z"
   },
   {
    "duration": 0,
    "start_time": "2023-01-05T13:23:04.069Z"
   },
   {
    "duration": 0,
    "start_time": "2023-01-05T13:23:04.071Z"
   },
   {
    "duration": 0,
    "start_time": "2023-01-05T13:23:04.072Z"
   },
   {
    "duration": 0,
    "start_time": "2023-01-05T13:23:04.073Z"
   },
   {
    "duration": 0,
    "start_time": "2023-01-05T13:23:04.075Z"
   },
   {
    "duration": 0,
    "start_time": "2023-01-05T13:23:04.076Z"
   },
   {
    "duration": 0,
    "start_time": "2023-01-05T13:23:04.076Z"
   },
   {
    "duration": 0,
    "start_time": "2023-01-05T13:23:04.078Z"
   },
   {
    "duration": 0,
    "start_time": "2023-01-05T13:23:04.079Z"
   },
   {
    "duration": 0,
    "start_time": "2023-01-05T13:23:04.081Z"
   },
   {
    "duration": 1,
    "start_time": "2023-01-05T13:23:04.082Z"
   },
   {
    "duration": 122,
    "start_time": "2023-01-05T13:25:22.834Z"
   },
   {
    "duration": 69,
    "start_time": "2023-01-05T13:25:34.594Z"
   },
   {
    "duration": 119,
    "start_time": "2023-01-05T13:25:47.850Z"
   },
   {
    "duration": 62,
    "start_time": "2023-01-05T13:25:50.587Z"
   },
   {
    "duration": 604,
    "start_time": "2023-01-05T13:27:50.662Z"
   },
   {
    "duration": 40,
    "start_time": "2023-01-05T13:27:51.268Z"
   },
   {
    "duration": 22,
    "start_time": "2023-01-05T13:27:51.309Z"
   },
   {
    "duration": 6,
    "start_time": "2023-01-05T13:27:51.333Z"
   },
   {
    "duration": 9,
    "start_time": "2023-01-05T13:27:51.342Z"
   },
   {
    "duration": 7,
    "start_time": "2023-01-05T13:27:51.352Z"
   },
   {
    "duration": 17,
    "start_time": "2023-01-05T13:27:51.360Z"
   },
   {
    "duration": 11,
    "start_time": "2023-01-05T13:27:51.379Z"
   },
   {
    "duration": 25,
    "start_time": "2023-01-05T13:27:51.391Z"
   },
   {
    "duration": 537,
    "start_time": "2023-01-05T13:27:51.417Z"
   },
   {
    "duration": 196,
    "start_time": "2023-01-05T13:27:51.955Z"
   },
   {
    "duration": 280,
    "start_time": "2023-01-05T13:27:52.153Z"
   },
   {
    "duration": 252,
    "start_time": "2023-01-05T13:27:52.435Z"
   },
   {
    "duration": 299,
    "start_time": "2023-01-05T13:27:52.690Z"
   },
   {
    "duration": 150,
    "start_time": "2023-01-05T13:27:52.990Z"
   },
   {
    "duration": 5,
    "start_time": "2023-01-05T13:27:53.141Z"
   },
   {
    "duration": 156,
    "start_time": "2023-01-05T13:27:53.147Z"
   },
   {
    "duration": 151,
    "start_time": "2023-01-05T13:27:53.305Z"
   },
   {
    "duration": 4,
    "start_time": "2023-01-05T13:27:53.458Z"
   },
   {
    "duration": 28,
    "start_time": "2023-01-05T13:27:53.463Z"
   },
   {
    "duration": 26,
    "start_time": "2023-01-05T13:27:53.493Z"
   },
   {
    "duration": 37,
    "start_time": "2023-01-05T13:27:53.520Z"
   },
   {
    "duration": 90,
    "start_time": "2023-01-05T13:27:53.559Z"
   },
   {
    "duration": 42,
    "start_time": "2023-01-05T13:27:53.651Z"
   },
   {
    "duration": 137,
    "start_time": "2023-01-05T13:27:53.695Z"
   },
   {
    "duration": 389,
    "start_time": "2023-01-05T13:27:53.834Z"
   },
   {
    "duration": 8,
    "start_time": "2023-01-05T13:27:54.224Z"
   },
   {
    "duration": 82,
    "start_time": "2023-01-05T13:27:54.234Z"
   },
   {
    "duration": 25,
    "start_time": "2023-01-05T13:27:54.318Z"
   },
   {
    "duration": 54,
    "start_time": "2023-01-05T13:27:54.346Z"
   },
   {
    "duration": 110,
    "start_time": "2023-01-05T13:27:54.402Z"
   },
   {
    "duration": 22,
    "start_time": "2023-01-05T13:27:54.514Z"
   },
   {
    "duration": 22,
    "start_time": "2023-01-05T13:27:54.537Z"
   },
   {
    "duration": 23,
    "start_time": "2023-01-05T13:40:00.211Z"
   },
   {
    "duration": 22,
    "start_time": "2023-01-05T13:40:47.648Z"
   },
   {
    "duration": 14,
    "start_time": "2023-01-05T13:42:12.735Z"
   },
   {
    "duration": 33,
    "start_time": "2023-01-05T13:42:33.980Z"
   },
   {
    "duration": 23,
    "start_time": "2023-01-05T13:42:41.136Z"
   },
   {
    "duration": 17,
    "start_time": "2023-01-05T13:43:02.474Z"
   },
   {
    "duration": 37,
    "start_time": "2023-01-05T13:43:31.987Z"
   },
   {
    "duration": 18,
    "start_time": "2023-01-05T13:43:38.553Z"
   },
   {
    "duration": 661,
    "start_time": "2023-01-05T13:55:51.416Z"
   },
   {
    "duration": 50,
    "start_time": "2023-01-05T13:55:52.080Z"
   },
   {
    "duration": 26,
    "start_time": "2023-01-05T13:55:52.133Z"
   },
   {
    "duration": 6,
    "start_time": "2023-01-05T13:55:52.161Z"
   },
   {
    "duration": 10,
    "start_time": "2023-01-05T13:55:52.168Z"
   },
   {
    "duration": 8,
    "start_time": "2023-01-05T13:55:52.179Z"
   },
   {
    "duration": 32,
    "start_time": "2023-01-05T13:55:52.188Z"
   },
   {
    "duration": 34,
    "start_time": "2023-01-05T13:55:52.221Z"
   },
   {
    "duration": 18,
    "start_time": "2023-01-05T13:55:52.257Z"
   },
   {
    "duration": 573,
    "start_time": "2023-01-05T13:55:52.283Z"
   },
   {
    "duration": 196,
    "start_time": "2023-01-05T13:55:52.858Z"
   },
   {
    "duration": 287,
    "start_time": "2023-01-05T13:55:53.056Z"
   },
   {
    "duration": 250,
    "start_time": "2023-01-05T13:55:53.345Z"
   },
   {
    "duration": 330,
    "start_time": "2023-01-05T13:55:53.596Z"
   },
   {
    "duration": 146,
    "start_time": "2023-01-05T13:55:53.927Z"
   },
   {
    "duration": 5,
    "start_time": "2023-01-05T13:55:54.075Z"
   },
   {
    "duration": 168,
    "start_time": "2023-01-05T13:55:54.082Z"
   },
   {
    "duration": 153,
    "start_time": "2023-01-05T13:55:54.252Z"
   },
   {
    "duration": 11,
    "start_time": "2023-01-05T13:55:54.415Z"
   },
   {
    "duration": 32,
    "start_time": "2023-01-05T13:55:54.428Z"
   },
   {
    "duration": 3,
    "start_time": "2023-01-05T13:55:54.462Z"
   },
   {
    "duration": 12,
    "start_time": "2023-01-05T13:55:54.466Z"
   },
   {
    "duration": 92,
    "start_time": "2023-01-05T13:55:54.479Z"
   },
   {
    "duration": 26,
    "start_time": "2023-01-05T13:55:54.573Z"
   },
   {
    "duration": 153,
    "start_time": "2023-01-05T13:55:54.600Z"
   },
   {
    "duration": 405,
    "start_time": "2023-01-05T13:55:54.754Z"
   },
   {
    "duration": 7,
    "start_time": "2023-01-05T13:55:55.161Z"
   },
   {
    "duration": 25,
    "start_time": "2023-01-05T13:55:55.171Z"
   },
   {
    "duration": 28,
    "start_time": "2023-01-05T13:55:55.197Z"
   },
   {
    "duration": 21,
    "start_time": "2023-01-05T13:55:55.227Z"
   },
   {
    "duration": 14,
    "start_time": "2023-01-05T13:55:55.250Z"
   },
   {
    "duration": 26,
    "start_time": "2023-01-05T13:55:55.265Z"
   },
   {
    "duration": 83,
    "start_time": "2023-01-05T13:55:55.293Z"
   },
   {
    "duration": 3,
    "start_time": "2023-01-05T13:58:48.395Z"
   },
   {
    "duration": 34,
    "start_time": "2023-01-05T13:58:49.173Z"
   },
   {
    "duration": 1036,
    "start_time": "2023-01-05T13:59:05.632Z"
   },
   {
    "duration": 36,
    "start_time": "2023-01-05T13:59:06.670Z"
   },
   {
    "duration": 47,
    "start_time": "2023-01-05T13:59:06.707Z"
   },
   {
    "duration": 19,
    "start_time": "2023-01-05T13:59:06.756Z"
   },
   {
    "duration": 6,
    "start_time": "2023-01-05T13:59:06.777Z"
   },
   {
    "duration": 13,
    "start_time": "2023-01-05T13:59:06.784Z"
   },
   {
    "duration": 21,
    "start_time": "2023-01-05T13:59:06.799Z"
   },
   {
    "duration": 31,
    "start_time": "2023-01-05T13:59:06.821Z"
   },
   {
    "duration": 12,
    "start_time": "2023-01-05T13:59:06.854Z"
   },
   {
    "duration": 8,
    "start_time": "2023-01-05T13:59:06.869Z"
   },
   {
    "duration": 526,
    "start_time": "2023-01-05T13:59:06.879Z"
   },
   {
    "duration": 181,
    "start_time": "2023-01-05T13:59:07.408Z"
   },
   {
    "duration": 329,
    "start_time": "2023-01-05T13:59:07.591Z"
   },
   {
    "duration": 210,
    "start_time": "2023-01-05T13:59:07.923Z"
   },
   {
    "duration": 270,
    "start_time": "2023-01-05T13:59:08.135Z"
   },
   {
    "duration": 158,
    "start_time": "2023-01-05T13:59:08.407Z"
   },
   {
    "duration": 4,
    "start_time": "2023-01-05T13:59:08.566Z"
   },
   {
    "duration": 165,
    "start_time": "2023-01-05T13:59:08.572Z"
   },
   {
    "duration": 154,
    "start_time": "2023-01-05T13:59:08.739Z"
   },
   {
    "duration": 5,
    "start_time": "2023-01-05T13:59:08.895Z"
   },
   {
    "duration": 121,
    "start_time": "2023-01-05T13:59:08.902Z"
   },
   {
    "duration": 3,
    "start_time": "2023-01-05T13:59:09.031Z"
   },
   {
    "duration": 13,
    "start_time": "2023-01-05T13:59:09.035Z"
   },
   {
    "duration": 90,
    "start_time": "2023-01-05T13:59:09.050Z"
   },
   {
    "duration": 23,
    "start_time": "2023-01-05T13:59:09.142Z"
   },
   {
    "duration": 158,
    "start_time": "2023-01-05T13:59:09.167Z"
   },
   {
    "duration": 7,
    "start_time": "2023-01-05T13:59:09.331Z"
   },
   {
    "duration": 23,
    "start_time": "2023-01-05T13:59:09.341Z"
   },
   {
    "duration": 9,
    "start_time": "2023-01-05T13:59:09.366Z"
   },
   {
    "duration": 11,
    "start_time": "2023-01-05T13:59:09.377Z"
   },
   {
    "duration": 13,
    "start_time": "2023-01-05T13:59:09.390Z"
   },
   {
    "duration": 36,
    "start_time": "2023-01-05T13:59:09.416Z"
   },
   {
    "duration": 35,
    "start_time": "2023-01-05T13:59:09.454Z"
   },
   {
    "duration": 9,
    "start_time": "2023-01-05T14:04:52.637Z"
   },
   {
    "duration": 7,
    "start_time": "2023-01-05T14:04:57.842Z"
   },
   {
    "duration": 30,
    "start_time": "2023-01-05T14:04:59.719Z"
   },
   {
    "duration": 15,
    "start_time": "2023-01-05T14:06:27.580Z"
   },
   {
    "duration": 8,
    "start_time": "2023-01-05T14:15:51.579Z"
   },
   {
    "duration": 8,
    "start_time": "2023-01-05T14:15:52.982Z"
   },
   {
    "duration": 28,
    "start_time": "2023-01-05T14:15:54.144Z"
   },
   {
    "duration": 17,
    "start_time": "2023-01-05T14:15:55.900Z"
   },
   {
    "duration": 19,
    "start_time": "2023-01-05T14:17:23.128Z"
   },
   {
    "duration": 200,
    "start_time": "2023-01-05T14:19:28.336Z"
   },
   {
    "duration": 1597,
    "start_time": "2023-01-05T14:20:33.752Z"
   },
   {
    "duration": 42,
    "start_time": "2023-01-05T14:20:35.352Z"
   },
   {
    "duration": 51,
    "start_time": "2023-01-05T14:20:35.396Z"
   },
   {
    "duration": 27,
    "start_time": "2023-01-05T14:20:35.450Z"
   },
   {
    "duration": 10,
    "start_time": "2023-01-05T14:20:35.479Z"
   },
   {
    "duration": 13,
    "start_time": "2023-01-05T14:20:35.492Z"
   },
   {
    "duration": 17,
    "start_time": "2023-01-05T14:20:35.507Z"
   },
   {
    "duration": 24,
    "start_time": "2023-01-05T14:20:35.526Z"
   },
   {
    "duration": 19,
    "start_time": "2023-01-05T14:20:35.553Z"
   },
   {
    "duration": 12,
    "start_time": "2023-01-05T14:20:35.576Z"
   },
   {
    "duration": 770,
    "start_time": "2023-01-05T14:20:35.590Z"
   },
   {
    "duration": 227,
    "start_time": "2023-01-05T14:20:36.363Z"
   },
   {
    "duration": 387,
    "start_time": "2023-01-05T14:20:36.592Z"
   },
   {
    "duration": 289,
    "start_time": "2023-01-05T14:20:36.981Z"
   },
   {
    "duration": 415,
    "start_time": "2023-01-05T14:20:37.272Z"
   },
   {
    "duration": 267,
    "start_time": "2023-01-05T14:20:37.690Z"
   },
   {
    "duration": 8,
    "start_time": "2023-01-05T14:20:37.959Z"
   },
   {
    "duration": 182,
    "start_time": "2023-01-05T14:20:37.968Z"
   },
   {
    "duration": 161,
    "start_time": "2023-01-05T14:20:38.152Z"
   },
   {
    "duration": 5,
    "start_time": "2023-01-05T14:20:38.314Z"
   },
   {
    "duration": 121,
    "start_time": "2023-01-05T14:20:38.320Z"
   },
   {
    "duration": 4,
    "start_time": "2023-01-05T14:20:38.445Z"
   },
   {
    "duration": 20,
    "start_time": "2023-01-05T14:20:38.451Z"
   },
   {
    "duration": 94,
    "start_time": "2023-01-05T14:20:38.473Z"
   },
   {
    "duration": 41,
    "start_time": "2023-01-05T14:20:38.569Z"
   },
   {
    "duration": 153,
    "start_time": "2023-01-05T14:20:38.611Z"
   },
   {
    "duration": 10,
    "start_time": "2023-01-05T14:20:38.765Z"
   },
   {
    "duration": 40,
    "start_time": "2023-01-05T14:20:38.779Z"
   },
   {
    "duration": 14,
    "start_time": "2023-01-05T14:20:38.821Z"
   },
   {
    "duration": 20,
    "start_time": "2023-01-05T14:20:38.837Z"
   },
   {
    "duration": 16,
    "start_time": "2023-01-05T14:20:38.860Z"
   },
   {
    "duration": 50,
    "start_time": "2023-01-05T14:20:38.878Z"
   },
   {
    "duration": 17,
    "start_time": "2023-01-05T14:20:38.930Z"
   },
   {
    "duration": 8,
    "start_time": "2023-01-05T14:40:59.720Z"
   },
   {
    "duration": 984,
    "start_time": "2023-01-05T15:02:46.293Z"
   },
   {
    "duration": 1169,
    "start_time": "2023-01-05T15:03:00.597Z"
   },
   {
    "duration": 38,
    "start_time": "2023-01-05T15:03:01.769Z"
   },
   {
    "duration": 47,
    "start_time": "2023-01-05T15:03:01.809Z"
   },
   {
    "duration": 22,
    "start_time": "2023-01-05T15:03:01.859Z"
   },
   {
    "duration": 10,
    "start_time": "2023-01-05T15:03:01.883Z"
   },
   {
    "duration": 13,
    "start_time": "2023-01-05T15:03:01.894Z"
   },
   {
    "duration": 10,
    "start_time": "2023-01-05T15:03:01.909Z"
   },
   {
    "duration": 28,
    "start_time": "2023-01-05T15:03:01.921Z"
   },
   {
    "duration": 13,
    "start_time": "2023-01-05T15:03:01.951Z"
   },
   {
    "duration": 8,
    "start_time": "2023-01-05T15:03:01.968Z"
   },
   {
    "duration": 652,
    "start_time": "2023-01-05T15:03:01.978Z"
   },
   {
    "duration": 209,
    "start_time": "2023-01-05T15:03:02.632Z"
   },
   {
    "duration": 308,
    "start_time": "2023-01-05T15:03:02.843Z"
   },
   {
    "duration": 203,
    "start_time": "2023-01-05T15:03:03.154Z"
   },
   {
    "duration": 275,
    "start_time": "2023-01-05T15:03:03.359Z"
   },
   {
    "duration": 145,
    "start_time": "2023-01-05T15:03:03.636Z"
   },
   {
    "duration": 5,
    "start_time": "2023-01-05T15:03:03.783Z"
   },
   {
    "duration": 176,
    "start_time": "2023-01-05T15:03:03.790Z"
   },
   {
    "duration": 165,
    "start_time": "2023-01-05T15:03:03.968Z"
   },
   {
    "duration": 4,
    "start_time": "2023-01-05T15:03:04.135Z"
   },
   {
    "duration": 110,
    "start_time": "2023-01-05T15:03:04.141Z"
   },
   {
    "duration": 5,
    "start_time": "2023-01-05T15:03:04.253Z"
   },
   {
    "duration": 12,
    "start_time": "2023-01-05T15:03:04.260Z"
   },
   {
    "duration": 131,
    "start_time": "2023-01-05T15:03:04.275Z"
   },
   {
    "duration": 26,
    "start_time": "2023-01-05T15:03:04.408Z"
   },
   {
    "duration": 189,
    "start_time": "2023-01-05T15:03:04.435Z"
   },
   {
    "duration": 6,
    "start_time": "2023-01-05T15:03:04.627Z"
   },
   {
    "duration": 36,
    "start_time": "2023-01-05T15:03:04.638Z"
   },
   {
    "duration": 12,
    "start_time": "2023-01-05T15:03:04.676Z"
   },
   {
    "duration": 12,
    "start_time": "2023-01-05T15:03:04.716Z"
   },
   {
    "duration": 14,
    "start_time": "2023-01-05T15:03:04.729Z"
   },
   {
    "duration": 34,
    "start_time": "2023-01-05T15:03:04.745Z"
   },
   {
    "duration": 40,
    "start_time": "2023-01-05T15:03:04.781Z"
   },
   {
    "duration": 54,
    "start_time": "2023-01-05T15:17:02.431Z"
   },
   {
    "duration": 987,
    "start_time": "2023-01-05T15:17:37.859Z"
   },
   {
    "duration": 37,
    "start_time": "2023-01-05T15:17:38.848Z"
   },
   {
    "duration": 55,
    "start_time": "2023-01-05T15:17:38.887Z"
   },
   {
    "duration": 19,
    "start_time": "2023-01-05T15:17:38.944Z"
   },
   {
    "duration": 6,
    "start_time": "2023-01-05T15:17:38.964Z"
   },
   {
    "duration": 8,
    "start_time": "2023-01-05T15:17:38.972Z"
   },
   {
    "duration": 5,
    "start_time": "2023-01-05T15:17:38.981Z"
   },
   {
    "duration": 14,
    "start_time": "2023-01-05T15:17:38.988Z"
   },
   {
    "duration": 21,
    "start_time": "2023-01-05T15:17:39.004Z"
   },
   {
    "duration": 21,
    "start_time": "2023-01-05T15:17:39.033Z"
   },
   {
    "duration": 546,
    "start_time": "2023-01-05T15:17:39.056Z"
   },
   {
    "duration": 198,
    "start_time": "2023-01-05T15:17:39.604Z"
   },
   {
    "duration": 323,
    "start_time": "2023-01-05T15:17:39.804Z"
   },
   {
    "duration": 186,
    "start_time": "2023-01-05T15:17:40.128Z"
   },
   {
    "duration": 282,
    "start_time": "2023-01-05T15:17:40.320Z"
   },
   {
    "duration": 160,
    "start_time": "2023-01-05T15:17:40.604Z"
   },
   {
    "duration": 4,
    "start_time": "2023-01-05T15:17:40.766Z"
   },
   {
    "duration": 172,
    "start_time": "2023-01-05T15:17:40.772Z"
   },
   {
    "duration": 141,
    "start_time": "2023-01-05T15:17:40.947Z"
   },
   {
    "duration": 4,
    "start_time": "2023-01-05T15:17:41.090Z"
   },
   {
    "duration": 116,
    "start_time": "2023-01-05T15:17:41.096Z"
   },
   {
    "duration": 8,
    "start_time": "2023-01-05T15:17:41.218Z"
   },
   {
    "duration": 22,
    "start_time": "2023-01-05T15:17:41.233Z"
   },
   {
    "duration": 91,
    "start_time": "2023-01-05T15:17:41.256Z"
   },
   {
    "duration": 19,
    "start_time": "2023-01-05T15:17:41.351Z"
   },
   {
    "duration": 148,
    "start_time": "2023-01-05T15:17:41.372Z"
   },
   {
    "duration": 8,
    "start_time": "2023-01-05T15:17:41.523Z"
   },
   {
    "duration": 35,
    "start_time": "2023-01-05T15:17:41.538Z"
   },
   {
    "duration": 10,
    "start_time": "2023-01-05T15:17:41.574Z"
   },
   {
    "duration": 12,
    "start_time": "2023-01-05T15:17:41.585Z"
   },
   {
    "duration": 14,
    "start_time": "2023-01-05T15:17:41.599Z"
   },
   {
    "duration": 52,
    "start_time": "2023-01-05T15:17:41.615Z"
   },
   {
    "duration": 12,
    "start_time": "2023-01-05T15:17:41.669Z"
   },
   {
    "duration": 339,
    "start_time": "2023-01-05T15:22:22.704Z"
   },
   {
    "duration": 362,
    "start_time": "2023-01-05T15:22:37.543Z"
   },
   {
    "duration": 301,
    "start_time": "2023-01-05T15:24:17.188Z"
   },
   {
    "duration": 263,
    "start_time": "2023-01-05T15:24:28.161Z"
   },
   {
    "duration": 297,
    "start_time": "2023-01-05T15:24:49.845Z"
   },
   {
    "duration": 324,
    "start_time": "2023-01-05T15:25:07.748Z"
   },
   {
    "duration": 291,
    "start_time": "2023-01-05T15:25:26.842Z"
   },
   {
    "duration": 59,
    "start_time": "2023-01-06T10:24:19.735Z"
   },
   {
    "duration": 46,
    "start_time": "2023-01-07T09:27:01.872Z"
   },
   {
    "duration": 1104,
    "start_time": "2023-01-07T09:27:10.064Z"
   },
   {
    "duration": 71,
    "start_time": "2023-01-07T09:27:11.170Z"
   },
   {
    "duration": 88,
    "start_time": "2023-01-07T09:27:11.243Z"
   },
   {
    "duration": 56,
    "start_time": "2023-01-07T09:27:11.333Z"
   },
   {
    "duration": 6,
    "start_time": "2023-01-07T09:27:11.390Z"
   },
   {
    "duration": 8,
    "start_time": "2023-01-07T09:27:11.397Z"
   },
   {
    "duration": 8,
    "start_time": "2023-01-07T09:27:11.407Z"
   },
   {
    "duration": 15,
    "start_time": "2023-01-07T09:27:11.417Z"
   },
   {
    "duration": 10,
    "start_time": "2023-01-07T09:27:11.433Z"
   },
   {
    "duration": 7,
    "start_time": "2023-01-07T09:27:11.446Z"
   },
   {
    "duration": 506,
    "start_time": "2023-01-07T09:27:11.454Z"
   },
   {
    "duration": 177,
    "start_time": "2023-01-07T09:27:11.961Z"
   },
   {
    "duration": 315,
    "start_time": "2023-01-07T09:27:12.140Z"
   },
   {
    "duration": 183,
    "start_time": "2023-01-07T09:27:12.457Z"
   },
   {
    "duration": 280,
    "start_time": "2023-01-07T09:27:12.642Z"
   },
   {
    "duration": 127,
    "start_time": "2023-01-07T09:27:12.924Z"
   },
   {
    "duration": 4,
    "start_time": "2023-01-07T09:27:13.052Z"
   },
   {
    "duration": 138,
    "start_time": "2023-01-07T09:27:13.058Z"
   },
   {
    "duration": 134,
    "start_time": "2023-01-07T09:27:13.197Z"
   },
   {
    "duration": 3,
    "start_time": "2023-01-07T09:27:13.333Z"
   },
   {
    "duration": 102,
    "start_time": "2023-01-07T09:27:13.338Z"
   },
   {
    "duration": 2,
    "start_time": "2023-01-07T09:27:13.442Z"
   },
   {
    "duration": 10,
    "start_time": "2023-01-07T09:27:13.446Z"
   },
   {
    "duration": 86,
    "start_time": "2023-01-07T09:27:13.457Z"
   },
   {
    "duration": 19,
    "start_time": "2023-01-07T09:27:13.544Z"
   },
   {
    "duration": 131,
    "start_time": "2023-01-07T09:27:13.564Z"
   },
   {
    "duration": 5,
    "start_time": "2023-01-07T09:27:13.696Z"
   },
   {
    "duration": 21,
    "start_time": "2023-01-07T09:27:13.715Z"
   },
   {
    "duration": 10,
    "start_time": "2023-01-07T09:27:13.738Z"
   },
   {
    "duration": 9,
    "start_time": "2023-01-07T09:27:13.749Z"
   },
   {
    "duration": 8,
    "start_time": "2023-01-07T09:27:13.759Z"
   },
   {
    "duration": 49,
    "start_time": "2023-01-07T09:27:13.769Z"
   },
   {
    "duration": 13,
    "start_time": "2023-01-07T09:27:13.820Z"
   },
   {
    "duration": 255,
    "start_time": "2023-01-07T09:27:43.869Z"
   },
   {
    "duration": 289,
    "start_time": "2023-01-07T09:28:40.501Z"
   },
   {
    "duration": 321,
    "start_time": "2023-01-07T09:29:01.096Z"
   },
   {
    "duration": 1370,
    "start_time": "2023-04-02T12:34:38.233Z"
   },
   {
    "duration": 1226,
    "start_time": "2023-04-09T12:37:27.338Z"
   },
   {
    "duration": 82,
    "start_time": "2023-04-09T12:37:28.566Z"
   },
   {
    "duration": 85,
    "start_time": "2023-04-09T12:37:28.650Z"
   },
   {
    "duration": 75,
    "start_time": "2023-04-09T12:37:28.737Z"
   },
   {
    "duration": 6,
    "start_time": "2023-04-09T12:37:28.813Z"
   },
   {
    "duration": 10,
    "start_time": "2023-04-09T12:37:28.821Z"
   },
   {
    "duration": 5,
    "start_time": "2023-04-09T12:37:28.833Z"
   },
   {
    "duration": 12,
    "start_time": "2023-04-09T12:37:28.840Z"
   },
   {
    "duration": 11,
    "start_time": "2023-04-09T12:37:28.853Z"
   },
   {
    "duration": 23,
    "start_time": "2023-04-09T12:37:28.867Z"
   },
   {
    "duration": 582,
    "start_time": "2023-04-09T12:37:28.893Z"
   },
   {
    "duration": 207,
    "start_time": "2023-04-09T12:37:29.476Z"
   },
   {
    "duration": 340,
    "start_time": "2023-04-09T12:37:29.689Z"
   },
   {
    "duration": 205,
    "start_time": "2023-04-09T12:37:30.031Z"
   },
   {
    "duration": 298,
    "start_time": "2023-04-09T12:37:30.238Z"
   },
   {
    "duration": 140,
    "start_time": "2023-04-09T12:37:30.537Z"
   },
   {
    "duration": 4,
    "start_time": "2023-04-09T12:37:30.697Z"
   },
   {
    "duration": 184,
    "start_time": "2023-04-09T12:37:30.703Z"
   },
   {
    "duration": 6,
    "start_time": "2023-04-09T12:37:30.889Z"
   },
   {
    "duration": 48,
    "start_time": "2023-04-09T12:37:30.897Z"
   },
   {
    "duration": 128,
    "start_time": "2023-04-09T12:37:30.947Z"
   },
   {
    "duration": 50,
    "start_time": "2023-04-09T12:37:31.077Z"
   },
   {
    "duration": 171,
    "start_time": "2023-04-09T12:37:31.129Z"
   },
   {
    "duration": 43,
    "start_time": "2023-04-09T12:37:31.302Z"
   },
   {
    "duration": 153,
    "start_time": "2023-04-09T12:37:31.346Z"
   },
   {
    "duration": 8,
    "start_time": "2023-04-09T12:37:31.501Z"
   },
   {
    "duration": 91,
    "start_time": "2023-04-09T12:37:31.510Z"
   },
   {
    "duration": 12,
    "start_time": "2023-04-09T12:37:31.604Z"
   },
   {
    "duration": 28,
    "start_time": "2023-04-09T12:37:31.618Z"
   },
   {
    "duration": 23,
    "start_time": "2023-04-09T12:37:31.648Z"
   },
   {
    "duration": 56,
    "start_time": "2023-04-09T12:37:31.673Z"
   },
   {
    "duration": 23,
    "start_time": "2023-04-09T12:37:31.731Z"
   }
  ],
  "kernelspec": {
   "display_name": "Python 3 (ipykernel)",
   "language": "python",
   "name": "python3"
  },
  "language_info": {
   "codemirror_mode": {
    "name": "ipython",
    "version": 3
   },
   "file_extension": ".py",
   "mimetype": "text/x-python",
   "name": "python",
   "nbconvert_exporter": "python",
   "pygments_lexer": "ipython3",
   "version": "3.9.5"
  },
  "toc": {
   "base_numbering": 1,
   "nav_menu": {},
   "number_sections": true,
   "sideBar": true,
   "skip_h1_title": true,
   "title_cell": "Table of Contents",
   "title_sidebar": "Contents",
   "toc_cell": false,
   "toc_position": {
    "height": "calc(100% - 180px)",
    "left": "10px",
    "top": "150px",
    "width": "255.391px"
   },
   "toc_section_display": true,
   "toc_window_display": true
  }
 },
 "nbformat": 4,
 "nbformat_minor": 2
}
