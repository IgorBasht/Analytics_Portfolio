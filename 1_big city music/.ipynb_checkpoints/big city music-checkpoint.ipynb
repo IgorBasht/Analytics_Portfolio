{
 "cells": [
  {
   "cell_type": "markdown",
   "metadata": {
    "deletable": false,
    "editable": false,
    "id": "E0vqbgi9ay0H"
   },
   "source": [
    "# Яндекс Музыка"
   ]
  },
  {
   "cell_type": "markdown",
   "metadata": {
    "deletable": false,
    "editable": false,
    "id": "VUC88oWjTJw2"
   },
   "source": [
    "Сравнение Москвы и Петербурга окружено мифами. Например:\n",
    " * Москва — мегаполис, подчинённый жёсткому ритму рабочей недели;\n",
    " * Петербург — культурная столица, со своими вкусами.\n",
    "\n",
    "На данных Яндекс Музыки вы сравните поведение пользователей двух столиц.\n",
    "\n",
    "**Цель исследования** — проверьте три гипотезы:\n",
    "1. Активность пользователей зависит от дня недели. Причём в Москве и Петербурге это проявляется по-разному.\n",
    "2. В понедельник утром в Москве преобладают одни жанры, а в Петербурге — другие. Так же и вечером пятницы преобладают разные жанры — в зависимости от города. \n",
    "3. Москва и Петербург предпочитают разные жанры музыки. В Москве чаще слушают поп-музыку, в Петербурге — русский рэп.\n",
    "\n",
    "**Ход исследования**\n",
    "\n",
    "Данные о поведении пользователей вы получите из файла `yandex_music_project.csv`. О качестве данных ничего не известно. Поэтому перед проверкой гипотез понадобится обзор данных. \n",
    "\n",
    "Вы проверите данные на ошибки и оцените их влияние на исследование. Затем, на этапе предобработки вы поищете возможность исправить самые критичные ошибки данных.\n",
    " \n",
    "Таким образом, исследование пройдёт в три этапа:\n",
    " 1. Обзор данных.\n",
    " 2. Предобработка данных.\n",
    " 3. Проверка гипотез.\n",
    "\n"
   ]
  },
  {
   "cell_type": "markdown",
   "metadata": {
    "deletable": false,
    "editable": false,
    "id": "Ml1hmfXC_Zcs"
   },
   "source": [
    "## Обзор данных\n",
    "\n",
    "Составьте первое представление о данных Яндекс Музыки.\n",
    "\n",
    "\n"
   ]
  },
  {
   "cell_type": "markdown",
   "metadata": {
    "deletable": false,
    "editable": false,
    "id": "57eAOGIz_Zcs",
    "tags": [
     "start_task"
    ]
   },
   "source": [
    "**Задание 1**\n",
    "\n",
    "Основной инструмент аналитика — `pandas`. Импортируйте эту библиотеку."
   ]
  },
  {
   "cell_type": "code",
   "execution_count": 1,
   "metadata": {
    "deletable": false,
    "id": "AXN7PHPN_Zcs"
   },
   "outputs": [],
   "source": [
    "import pandas as pd  # импорт библиотеки pandas"
   ]
  },
  {
   "cell_type": "markdown",
   "metadata": {
    "deletable": false,
    "editable": false,
    "id": "SG23P8tt_Zcs",
    "tags": [
     "start_task"
    ]
   },
   "source": [
    "**Задание 2**\n",
    "\n",
    "Прочитайте файл `yandex_music_project.csv` из папки `/datasets` и сохраните его в переменной `df`:"
   ]
  },
  {
   "cell_type": "code",
   "execution_count": 2,
   "metadata": {
    "deletable": false,
    "id": "fFVu7vqh_Zct"
   },
   "outputs": [],
   "source": [
    "df = pd.read_csv('/datasets/yandex_music_project.csv') # чтение файла с данными и сохранение в df"
   ]
  },
  {
   "cell_type": "markdown",
   "metadata": {
    "deletable": false,
    "editable": false,
    "id": "rDoOMd3uTqnZ",
    "tags": [
     "start_task"
    ]
   },
   "source": [
    "**Задание 3**\n",
    "\n",
    "\n",
    "Выведите на экран первые десять строк таблицы:"
   ]
  },
  {
   "cell_type": "code",
   "execution_count": 3,
   "metadata": {
    "deletable": false,
    "id": "oWTVX3gW_Zct"
   },
   "outputs": [
    {
     "name": "stdout",
     "output_type": "stream",
     "text": [
      "     userID                        Track            artist   genre  \\\n",
      "0  FFB692EC            Kamigata To Boots  The Mass Missile    rock   \n",
      "1  55204538  Delayed Because of Accident  Andreas Rönnberg    rock   \n",
      "2    20EC38            Funiculì funiculà       Mario Lanza     pop   \n",
      "3  A3DD03C9        Dragons in the Sunset        Fire + Ice    folk   \n",
      "4  E2DC1FAE                  Soul People        Space Echo   dance   \n",
      "5  842029A1                    Преданная         IMPERVTOR  rusrap   \n",
      "6  4CB90AA5                         True      Roman Messer   dance   \n",
      "7  F03E1C1F             Feeling This Way   Polina Griffith   dance   \n",
      "8  8FA1D3BE     И вновь продолжается бой               NaN  ruspop   \n",
      "9  E772D5C0                    Pessimist               NaN   dance   \n",
      "\n",
      "             City        time        Day  \n",
      "0  Saint-Petersburg  20:28:33  Wednesday  \n",
      "1            Moscow  14:07:09     Friday  \n",
      "2  Saint-Petersburg  20:58:07  Wednesday  \n",
      "3  Saint-Petersburg  08:37:09     Monday  \n",
      "4            Moscow  08:34:34     Monday  \n",
      "5  Saint-Petersburg  13:09:41     Friday  \n",
      "6            Moscow  13:00:07  Wednesday  \n",
      "7            Moscow  20:47:49  Wednesday  \n",
      "8            Moscow  09:17:40     Friday  \n",
      "9  Saint-Petersburg  21:20:49  Wednesday  \n"
     ]
    }
   ],
   "source": [
    "print(df.head(10))# получение первых 10 строк таблицы df"
   ]
  },
  {
   "cell_type": "markdown",
   "metadata": {
    "deletable": false,
    "editable": false,
    "id": "EO73Kwic_Zct",
    "tags": [
     "start_task"
    ]
   },
   "source": [
    "**Задание 4**\n",
    "\n",
    "\n",
    "Одной командой получить общую информацию о таблице c помощью метода `info()`:"
   ]
  },
  {
   "cell_type": "code",
   "execution_count": 4,
   "metadata": {
    "deletable": false,
    "id": "DSf2kIb-_Zct"
   },
   "outputs": [
    {
     "name": "stdout",
     "output_type": "stream",
     "text": [
      "<class 'pandas.core.frame.DataFrame'>\n",
      "RangeIndex: 65079 entries, 0 to 65078\n",
      "Data columns (total 7 columns):\n",
      " #   Column    Non-Null Count  Dtype \n",
      "---  ------    --------------  ----- \n",
      " 0     userID  65079 non-null  object\n",
      " 1   Track     63848 non-null  object\n",
      " 2   artist    57876 non-null  object\n",
      " 3   genre     63881 non-null  object\n",
      " 4     City    65079 non-null  object\n",
      " 5   time      65079 non-null  object\n",
      " 6   Day       65079 non-null  object\n",
      "dtypes: object(7)\n",
      "memory usage: 3.5+ MB\n"
     ]
    }
   ],
   "source": [
    "df.info()# получение общей информации о данных в таблице df"
   ]
  },
  {
   "cell_type": "markdown",
   "metadata": {
    "deletable": false,
    "editable": false,
    "id": "TaQ2Iwbr_Zct"
   },
   "source": [
    "Итак, в таблице семь столбцов. Тип данных во всех столбцах — `object`.\n",
    "\n",
    "Согласно документации к данным:\n",
    "* `userID` — идентификатор пользователя;\n",
    "* `Track` — название трека;  \n",
    "* `artist` — имя исполнителя;\n",
    "* `genre` — название жанра;\n",
    "* `City` — город пользователя;\n",
    "* `time` — время начала прослушивания;\n",
    "* `Day` — день недели.\n",
    "\n",
    "Количество значений в столбцах различается. Значит, в данных есть пропущенные значения."
   ]
  },
  {
   "cell_type": "markdown",
   "metadata": {
    "deletable": false,
    "editable": false,
    "id": "rAfziTBDmf2h",
    "tags": [
     "start_task"
    ]
   },
   "source": [
    "**Задание 5**\n",
    "\n",
    "**Вопрос со свободной формой ответа**\n",
    "\n",
    "В названиях колонок видны нарушения стиля:\n",
    "* Строчные буквы сочетаются с прописными.\n",
    "* Встречаются пробелы.\n",
    "\n",
    "Какое третье нарушение?"
   ]
  },
  {
   "cell_type": "code",
   "execution_count": 5,
   "metadata": {
    "id": "jD8EXEIvmf2h"
   },
   "outputs": [],
   "source": [
    "#Нет змеиной строки.#Столбец тайм не дает полное понемание что в нем находится, а также он должен иметь формат числа а не обекта.# Напишите ваш ответ здесь комментарием. Не удаляйте символ #. Не меняйте тип этой ячейки на Markdown."
   ]
  },
  {
   "cell_type": "markdown",
   "metadata": {
    "deletable": false,
    "editable": false,
    "id": "MCB6-dXG_Zct"
   },
   "source": [
    "**Выводы**\n",
    "\n",
    "В каждой строке таблицы — данные о прослушанном треке. Часть колонок описывает саму композицию: название, исполнителя и жанр. Остальные данные рассказывают о пользователе: из какого он города, когда он слушал музыку. \n",
    "\n",
    "Предварительно можно утверждать, что данных достаточно для проверки гипотез. Но встречаются пропуски в данных, а в названиях колонок — расхождения с хорошим стилем.\n",
    "\n",
    "Чтобы двигаться дальше, нужно устранить проблемы в данных."
   ]
  },
  {
   "cell_type": "markdown",
   "metadata": {
    "deletable": false,
    "editable": false,
    "id": "SjYF6Ub9_Zct"
   },
   "source": [
    "## Предобработка данных\n",
    "Исправьте стиль в заголовках столбцов, исключите пропуски. Затем проверьте данные на дубликаты."
   ]
  },
  {
   "cell_type": "markdown",
   "metadata": {
    "deletable": false,
    "editable": false,
    "id": "dIaKXr29_Zct",
    "tags": [
     "start_task"
    ]
   },
   "source": [
    "### Стиль заголовков\n",
    "\n",
    "**Задание 6**\n",
    "\n",
    "Выведите на экран названия столбцов:"
   ]
  },
  {
   "cell_type": "code",
   "execution_count": 6,
   "metadata": {
    "deletable": false,
    "id": "oKOTdF_Q_Zct"
   },
   "outputs": [
    {
     "name": "stdout",
     "output_type": "stream",
     "text": [
      "Index(['  userID', 'Track', 'artist', 'genre', '  City  ', 'time', 'Day'], dtype='object')\n"
     ]
    }
   ],
   "source": [
    "print(df.columns)# перечень названий столбцов таблицы df"
   ]
  },
  {
   "cell_type": "markdown",
   "metadata": {
    "deletable": false,
    "editable": false,
    "id": "zj5534cv_Zct",
    "tags": [
     "start_task"
    ]
   },
   "source": [
    "**Задание 7**\n",
    "\n",
    "\n",
    "Приведите названия в соответствие с хорошим стилем:\n",
    "* несколько слов в названии запишите в «змеином_регистре»,\n",
    "* все символы сделайте строчными,\n",
    "* устраните пробелы.\n",
    "\n",
    "Для этого переименуйте колонки так:\n",
    "* `'  userID'` → `'user_id'`;\n",
    "* `'Track'` → `'track'`;\n",
    "* `'  City  '` → `'city'`;\n",
    "* `'Day'` → `'day'`."
   ]
  },
  {
   "cell_type": "code",
   "execution_count": 7,
   "metadata": {
    "deletable": false,
    "id": "ISlFqs5y_Zct"
   },
   "outputs": [],
   "source": [
    "df = df.rename(columns = {'  userID' : 'user_id', 'Track' : 'track', '  City  ': 'city', 'Day' : 'day'})\n",
    "# переименование столбцов"
   ]
  },
  {
   "cell_type": "markdown",
   "metadata": {
    "deletable": false,
    "editable": false,
    "id": "1dqbh00J_Zct",
    "tags": [
     "start_task"
    ]
   },
   "source": [
    "**Задание 8**\n",
    "\n",
    "\n",
    "Проверьте результат. Для этого ещё раз выведите на экран названия столбцов:"
   ]
  },
  {
   "cell_type": "code",
   "execution_count": 8,
   "metadata": {
    "deletable": false,
    "id": "d4NOAmTW_Zct"
   },
   "outputs": [
    {
     "name": "stdout",
     "output_type": "stream",
     "text": [
      "Index(['user_id', 'track', 'artist', 'genre', 'city', 'time', 'day'], dtype='object')\n"
     ]
    }
   ],
   "source": [
    "print(df.columns) # проверка результатов - перечень названий столбцов"
   ]
  },
  {
   "cell_type": "markdown",
   "metadata": {
    "deletable": false,
    "editable": false,
    "id": "5ISfbcfY_Zct",
    "tags": [
     "start_task"
    ]
   },
   "source": [
    "### Пропуски значений\n",
    "\n",
    "**Задание 9**\n",
    "\n",
    "Сначала посчитайте, сколько в таблице пропущенных значений. Для этого достаточно двух методов `pandas`:"
   ]
  },
  {
   "cell_type": "code",
   "execution_count": 9,
   "metadata": {
    "deletable": false,
    "id": "RskX29qr_Zct"
   },
   "outputs": [
    {
     "data": {
      "text/plain": [
       "user_id       0\n",
       "track      1231\n",
       "artist     7203\n",
       "genre      1198\n",
       "city          0\n",
       "time          0\n",
       "day           0\n",
       "dtype: int64"
      ]
     },
     "execution_count": 9,
     "metadata": {},
     "output_type": "execute_result"
    }
   ],
   "source": [
    "df.isna().sum()\n",
    "# подсчёт пропусков"
   ]
  },
  {
   "cell_type": "markdown",
   "metadata": {
    "deletable": false,
    "editable": false,
    "id": "qubhgnlO_Zct"
   },
   "source": [
    "Не все пропущенные значения влияют на исследование. Так в `track` и `artist` пропуски не важны для вашей работы. Достаточно заменить их явными обозначениями.\n",
    "\n",
    "Но пропуски в `genre` могут помешать сравнению музыкальных вкусов в Москве и Санкт-Петербурге. На практике было бы правильно установить причину пропусков и восстановить данные. Такой возможности нет в учебном проекте. Придётся:\n",
    "* заполнить и эти пропуски явными обозначениями;\n",
    "* оценить, насколько они повредят расчётам. "
   ]
  },
  {
   "cell_type": "markdown",
   "metadata": {
    "deletable": false,
    "editable": false,
    "id": "fSv2laPA_Zct",
    "tags": [
     "start_task"
    ]
   },
   "source": [
    "**Задание 10**\n",
    "\n",
    "Замените пропущенные значения в столбцах `track`, `artist` и `genre` на строку `'unknown'`. Для этого создайте список `columns_to_replace`, переберите его элементы циклом `for` и для каждого столбца выполните замену пропущенных значений:"
   ]
  },
  {
   "cell_type": "code",
   "execution_count": 10,
   "metadata": {
    "deletable": false,
    "id": "KplB5qWs_Zct"
   },
   "outputs": [],
   "source": [
    "columns_to_replace = ['track', 'artist', 'genre']\n",
    "for column in columns_to_replace:\n",
    "    df[column] = df[column].fillna('unknown')\n",
    "#print(columns_to_replace)    \n",
    "    #df['track_name'] = df['track_name'].fillna\n",
    "# перебор названий столбцов в цикле и замена пропущенных значений на 'unknown'"
   ]
  },
  {
   "cell_type": "markdown",
   "metadata": {
    "deletable": false,
    "editable": false,
    "id": "Ilsm-MZo_Zct",
    "tags": [
     "start_task"
    ]
   },
   "source": [
    "**Задание 11**\n",
    "\n",
    "Убедитесь, что в таблице не осталось пропусков. Для этого ещё раз посчитайте пропущенные значения."
   ]
  },
  {
   "cell_type": "code",
   "execution_count": 11,
   "metadata": {
    "deletable": false,
    "id": "Tq4nYRX4_Zct"
   },
   "outputs": [
    {
     "data": {
      "text/plain": [
       "user_id    0\n",
       "track      0\n",
       "artist     0\n",
       "genre      0\n",
       "city       0\n",
       "time       0\n",
       "day        0\n",
       "dtype: int64"
      ]
     },
     "execution_count": 11,
     "metadata": {},
     "output_type": "execute_result"
    }
   ],
   "source": [
    "df.isna().sum() \n",
    "# подсчёт пропусков"
   ]
  },
  {
   "cell_type": "markdown",
   "metadata": {
    "deletable": false,
    "editable": false,
    "id": "BWKRtBJ3_Zct",
    "tags": [
     "start_task"
    ]
   },
   "source": [
    "### Дубликаты\n",
    "\n",
    "**Задание 12**\n",
    "\n",
    "Посчитайте явные дубликаты в таблице одной командой:"
   ]
  },
  {
   "cell_type": "code",
   "execution_count": 12,
   "metadata": {
    "deletable": false,
    "id": "36eES_S0_Zct"
   },
   "outputs": [
    {
     "data": {
      "text/plain": [
       "3826"
      ]
     },
     "execution_count": 12,
     "metadata": {},
     "output_type": "execute_result"
    }
   ],
   "source": [
    "df.duplicated().sum() \n",
    "# подсчёт явных дубликатов"
   ]
  },
  {
   "cell_type": "markdown",
   "metadata": {
    "deletable": false,
    "editable": false,
    "id": "Ot25h6XR_Zct",
    "tags": [
     "start_task"
    ]
   },
   "source": [
    "**Задание 13**\n",
    "\n",
    "Вызовите специальный метод `pandas`, чтобы удалить явные дубликаты:"
   ]
  },
  {
   "cell_type": "code",
   "execution_count": 13,
   "metadata": {
    "deletable": false,
    "id": "exFHq6tt_Zct"
   },
   "outputs": [],
   "source": [
    "df = df.drop_duplicates()# удаление явных дубликатов"
   ]
  },
  {
   "cell_type": "markdown",
   "metadata": {
    "deletable": false,
    "editable": false,
    "id": "Im2YwBEG_Zct",
    "tags": [
     "start_task"
    ]
   },
   "source": [
    "**Задание 14**\n",
    "\n",
    "Ещё раз посчитайте явные дубликаты в таблице — убедитесь, что полностью от них избавились:"
   ]
  },
  {
   "cell_type": "code",
   "execution_count": 14,
   "metadata": {
    "deletable": false,
    "id": "-8PuNWQ0_Zct"
   },
   "outputs": [
    {
     "data": {
      "text/plain": [
       "0"
      ]
     },
     "execution_count": 14,
     "metadata": {},
     "output_type": "execute_result"
    }
   ],
   "source": [
    "df.duplicated().sum() # проверка на отсутствие дубликатов"
   ]
  },
  {
   "cell_type": "markdown",
   "metadata": {
    "deletable": false,
    "editable": false,
    "id": "QlFBsxAr_Zct"
   },
   "source": [
    "Теперь избавьтесь от неявных дубликатов в колонке `genre`. Например, название одного и того же жанра может быть записано немного по-разному. Такие ошибки тоже повлияют на результат исследования."
   ]
  },
  {
   "cell_type": "markdown",
   "metadata": {
    "deletable": false,
    "editable": false,
    "id": "eSjWwsOh_Zct",
    "tags": [
     "start_task"
    ]
   },
   "source": [
    "**Задание 15**\n",
    "\n",
    "Выведите на экран список уникальных названий жанров, отсортированный в алфавитном порядке. Для этого:\n",
    "1. извлеките нужный столбец датафрейма; \n",
    "2. примените к нему метод сортировки;\n",
    "3. для отсортированного столбца вызовите метод, который вернёт уникальные значения из столбца."
   ]
  },
  {
   "cell_type": "code",
   "execution_count": 15,
   "metadata": {
    "deletable": false,
    "id": "JIUcqzZN_Zct"
   },
   "outputs": [
    {
     "data": {
      "text/plain": [
       "array(['acid', 'acoustic', 'action', 'adult', 'africa', 'afrikaans',\n",
       "       'alternative', 'alternativepunk', 'ambient', 'americana',\n",
       "       'animated', 'anime', 'arabesk', 'arabic', 'arena',\n",
       "       'argentinetango', 'art', 'audiobook', 'author', 'avantgarde',\n",
       "       'axé', 'baile', 'balkan', 'beats', 'bigroom', 'black', 'bluegrass',\n",
       "       'blues', 'bollywood', 'bossa', 'brazilian', 'breakbeat', 'breaks',\n",
       "       'broadway', 'cantautori', 'cantopop', 'canzone', 'caribbean',\n",
       "       'caucasian', 'celtic', 'chamber', 'chanson', 'children', 'chill',\n",
       "       'chinese', 'choral', 'christian', 'christmas', 'classical',\n",
       "       'classicmetal', 'club', 'colombian', 'comedy', 'conjazz',\n",
       "       'contemporary', 'country', 'cuban', 'dance', 'dancehall',\n",
       "       'dancepop', 'dark', 'death', 'deep', 'deutschrock', 'deutschspr',\n",
       "       'dirty', 'disco', 'dnb', 'documentary', 'downbeat', 'downtempo',\n",
       "       'drum', 'dub', 'dubstep', 'eastern', 'easy', 'electronic',\n",
       "       'electropop', 'emo', 'entehno', 'epicmetal', 'estrada', 'ethnic',\n",
       "       'eurofolk', 'european', 'experimental', 'extrememetal', 'fado',\n",
       "       'fairytail', 'film', 'fitness', 'flamenco', 'folk', 'folklore',\n",
       "       'folkmetal', 'folkrock', 'folktronica', 'forró', 'frankreich',\n",
       "       'französisch', 'french', 'funk', 'future', 'gangsta', 'garage',\n",
       "       'german', 'ghazal', 'gitarre', 'glitch', 'gospel', 'gothic',\n",
       "       'grime', 'grunge', 'gypsy', 'handsup', \"hard'n'heavy\", 'hardcore',\n",
       "       'hardstyle', 'hardtechno', 'hip', 'hip-hop', 'hiphop',\n",
       "       'historisch', 'holiday', 'hop', 'horror', 'house', 'hymn', 'idm',\n",
       "       'independent', 'indian', 'indie', 'indipop', 'industrial',\n",
       "       'inspirational', 'instrumental', 'international', 'irish', 'jam',\n",
       "       'japanese', 'jazz', 'jewish', 'jpop', 'jungle', 'k-pop',\n",
       "       'karadeniz', 'karaoke', 'kayokyoku', 'korean', 'laiko', 'latin',\n",
       "       'latino', 'leftfield', 'local', 'lounge', 'loungeelectronic',\n",
       "       'lovers', 'malaysian', 'mandopop', 'marschmusik', 'meditative',\n",
       "       'mediterranean', 'melodic', 'metal', 'metalcore', 'mexican',\n",
       "       'middle', 'minimal', 'miscellaneous', 'modern', 'mood', 'mpb',\n",
       "       'muslim', 'native', 'neoklassik', 'neue', 'new', 'newage',\n",
       "       'newwave', 'nu', 'nujazz', 'numetal', 'oceania', 'old', 'opera',\n",
       "       'orchestral', 'other', 'piano', 'podcasts', 'pop', 'popdance',\n",
       "       'popelectronic', 'popeurodance', 'poprussian', 'post',\n",
       "       'posthardcore', 'postrock', 'power', 'progmetal', 'progressive',\n",
       "       'psychedelic', 'punjabi', 'punk', 'quebecois', 'ragga', 'ram',\n",
       "       'rancheras', 'rap', 'rave', 'reggae', 'reggaeton', 'regional',\n",
       "       'relax', 'religious', 'retro', 'rhythm', 'rnb', 'rnr', 'rock',\n",
       "       'rockabilly', 'rockalternative', 'rockindie', 'rockother',\n",
       "       'romance', 'roots', 'ruspop', 'rusrap', 'rusrock', 'russian',\n",
       "       'salsa', 'samba', 'scenic', 'schlager', 'self', 'sertanejo',\n",
       "       'shanson', 'shoegazing', 'showtunes', 'singer', 'ska', 'skarock',\n",
       "       'slow', 'smooth', 'soft', 'soul', 'soulful', 'sound', 'soundtrack',\n",
       "       'southern', 'specialty', 'speech', 'spiritual', 'sport',\n",
       "       'stonerrock', 'surf', 'swing', 'synthpop', 'synthrock',\n",
       "       'sängerportrait', 'tango', 'tanzorchester', 'taraftar', 'tatar',\n",
       "       'tech', 'techno', 'teen', 'thrash', 'top', 'traditional',\n",
       "       'tradjazz', 'trance', 'tribal', 'trip', 'triphop', 'tropical',\n",
       "       'türk', 'türkçe', 'ukrrock', 'unknown', 'urban', 'uzbek',\n",
       "       'variété', 'vi', 'videogame', 'vocal', 'western', 'world',\n",
       "       'worldbeat', 'ïîï', 'электроника'], dtype=object)"
      ]
     },
     "execution_count": 15,
     "metadata": {},
     "output_type": "execute_result"
    }
   ],
   "source": [
    "#sorted(df['genre'].unique())\n",
    "df['genre'].sort_values().unique()\n",
    "\n",
    "# Просмотр уникальных названий жанроd"
   ]
  },
  {
   "cell_type": "markdown",
   "metadata": {
    "deletable": false,
    "editable": false,
    "id": "qej-Qmuo_Zct",
    "tags": [
     "start_task"
    ]
   },
   "source": [
    "**Задание 16**\n",
    "\n",
    "Просмотрите список и найдите неявные дубликаты названия `hiphop`. Это могут быть названия с ошибками или альтернативные названия того же жанра.\n",
    "\n",
    "Вы увидите следующие неявные дубликаты:\n",
    "* *hip*,\n",
    "* *hop*,\n",
    "* *hip-hop*.\n",
    "\n",
    "Чтобы очистить от них таблицу используйте метод `replace()` с двумя аргументами: списком строк-дубликатов (включащий *hip*, *hop* и *hip-hop*) и строкой с правильным значением. Вам нужно исправить колонку `genre` в таблице `df`: заменить каждое значение из списка дубликатов на верное. Вместо `hip`, `hop` и `hip-hop` в таблице должно быть значение `hiphop`:"
   ]
  },
  {
   "cell_type": "code",
   "execution_count": 16,
   "metadata": {
    "deletable": false,
    "id": "ErNDkmns_Zct"
   },
   "outputs": [],
   "source": [
    "df['genre'] = df['genre'].replace('hip', 'hiphop')  \n",
    "df['genre'] = df['genre'].replace('hop', 'hiphop')\n",
    "df['genre'] = df['genre'].replace('hip-hop', 'hiphop')\n",
    "#df['genre'] = df['genre'].replace('электроника', 'electronic')# Устранение неявных дубликатов"
   ]
  },
  {
   "cell_type": "markdown",
   "metadata": {
    "deletable": false,
    "editable": false,
    "id": "zQKF16_RG15m",
    "tags": [
     "start_task"
    ]
   },
   "source": [
    "**Задание 17**\n",
    "\n",
    "Проверьте, что заменили неправильные названия:\n",
    "\n",
    "*   hip,\n",
    "*   hop,\n",
    "*   hip-hop.\n",
    "\n",
    "Выведите отсортированный список уникальных значений столбца `genre`:"
   ]
  },
  {
   "cell_type": "code",
   "execution_count": 17,
   "metadata": {
    "deletable": false,
    "id": "wvixALnFG15m"
   },
   "outputs": [
    {
     "data": {
      "text/plain": [
       "array(['acid', 'acoustic', 'action', 'adult', 'africa', 'afrikaans',\n",
       "       'alternative', 'alternativepunk', 'ambient', 'americana',\n",
       "       'animated', 'anime', 'arabesk', 'arabic', 'arena',\n",
       "       'argentinetango', 'art', 'audiobook', 'author', 'avantgarde',\n",
       "       'axé', 'baile', 'balkan', 'beats', 'bigroom', 'black', 'bluegrass',\n",
       "       'blues', 'bollywood', 'bossa', 'brazilian', 'breakbeat', 'breaks',\n",
       "       'broadway', 'cantautori', 'cantopop', 'canzone', 'caribbean',\n",
       "       'caucasian', 'celtic', 'chamber', 'chanson', 'children', 'chill',\n",
       "       'chinese', 'choral', 'christian', 'christmas', 'classical',\n",
       "       'classicmetal', 'club', 'colombian', 'comedy', 'conjazz',\n",
       "       'contemporary', 'country', 'cuban', 'dance', 'dancehall',\n",
       "       'dancepop', 'dark', 'death', 'deep', 'deutschrock', 'deutschspr',\n",
       "       'dirty', 'disco', 'dnb', 'documentary', 'downbeat', 'downtempo',\n",
       "       'drum', 'dub', 'dubstep', 'eastern', 'easy', 'electronic',\n",
       "       'electropop', 'emo', 'entehno', 'epicmetal', 'estrada', 'ethnic',\n",
       "       'eurofolk', 'european', 'experimental', 'extrememetal', 'fado',\n",
       "       'fairytail', 'film', 'fitness', 'flamenco', 'folk', 'folklore',\n",
       "       'folkmetal', 'folkrock', 'folktronica', 'forró', 'frankreich',\n",
       "       'französisch', 'french', 'funk', 'future', 'gangsta', 'garage',\n",
       "       'german', 'ghazal', 'gitarre', 'glitch', 'gospel', 'gothic',\n",
       "       'grime', 'grunge', 'gypsy', 'handsup', \"hard'n'heavy\", 'hardcore',\n",
       "       'hardstyle', 'hardtechno', 'hiphop', 'historisch', 'holiday',\n",
       "       'horror', 'house', 'hymn', 'idm', 'independent', 'indian', 'indie',\n",
       "       'indipop', 'industrial', 'inspirational', 'instrumental',\n",
       "       'international', 'irish', 'jam', 'japanese', 'jazz', 'jewish',\n",
       "       'jpop', 'jungle', 'k-pop', 'karadeniz', 'karaoke', 'kayokyoku',\n",
       "       'korean', 'laiko', 'latin', 'latino', 'leftfield', 'local',\n",
       "       'lounge', 'loungeelectronic', 'lovers', 'malaysian', 'mandopop',\n",
       "       'marschmusik', 'meditative', 'mediterranean', 'melodic', 'metal',\n",
       "       'metalcore', 'mexican', 'middle', 'minimal', 'miscellaneous',\n",
       "       'modern', 'mood', 'mpb', 'muslim', 'native', 'neoklassik', 'neue',\n",
       "       'new', 'newage', 'newwave', 'nu', 'nujazz', 'numetal', 'oceania',\n",
       "       'old', 'opera', 'orchestral', 'other', 'piano', 'podcasts', 'pop',\n",
       "       'popdance', 'popelectronic', 'popeurodance', 'poprussian', 'post',\n",
       "       'posthardcore', 'postrock', 'power', 'progmetal', 'progressive',\n",
       "       'psychedelic', 'punjabi', 'punk', 'quebecois', 'ragga', 'ram',\n",
       "       'rancheras', 'rap', 'rave', 'reggae', 'reggaeton', 'regional',\n",
       "       'relax', 'religious', 'retro', 'rhythm', 'rnb', 'rnr', 'rock',\n",
       "       'rockabilly', 'rockalternative', 'rockindie', 'rockother',\n",
       "       'romance', 'roots', 'ruspop', 'rusrap', 'rusrock', 'russian',\n",
       "       'salsa', 'samba', 'scenic', 'schlager', 'self', 'sertanejo',\n",
       "       'shanson', 'shoegazing', 'showtunes', 'singer', 'ska', 'skarock',\n",
       "       'slow', 'smooth', 'soft', 'soul', 'soulful', 'sound', 'soundtrack',\n",
       "       'southern', 'specialty', 'speech', 'spiritual', 'sport',\n",
       "       'stonerrock', 'surf', 'swing', 'synthpop', 'synthrock',\n",
       "       'sängerportrait', 'tango', 'tanzorchester', 'taraftar', 'tatar',\n",
       "       'tech', 'techno', 'teen', 'thrash', 'top', 'traditional',\n",
       "       'tradjazz', 'trance', 'tribal', 'trip', 'triphop', 'tropical',\n",
       "       'türk', 'türkçe', 'ukrrock', 'unknown', 'urban', 'uzbek',\n",
       "       'variété', 'vi', 'videogame', 'vocal', 'western', 'world',\n",
       "       'worldbeat', 'ïîï', 'электроника'], dtype=object)"
      ]
     },
     "execution_count": 17,
     "metadata": {},
     "output_type": "execute_result"
    }
   ],
   "source": [
    "df['genre'].sort_values().unique()# Проверка на неявные дубликаты"
   ]
  },
  {
   "cell_type": "markdown",
   "metadata": {
    "deletable": false,
    "editable": false,
    "id": "jz6a9-7HQUDd"
   },
   "source": [
    "**Выводы**\n",
    "\n",
    "Предобработка обнаружила три проблемы в данных:\n",
    "\n",
    "- нарушения в стиле заголовков,\n",
    "- пропущенные значения,\n",
    "- дубликаты — явные и неявные.\n",
    "\n",
    "Вы исправили заголовки, чтобы упростить работу с таблицей. Без дубликатов исследование станет более точным.\n",
    "\n",
    "Пропущенные значения вы заменили на `'unknown'`. Ещё предстоит увидеть, не повредят ли исследованию пропуски в колонке `genre`.\n",
    "\n",
    "Теперь можно перейти к проверке гипотез. "
   ]
  },
  {
   "cell_type": "markdown",
   "metadata": {
    "deletable": false,
    "editable": false,
    "id": "WttZHXH0SqKk"
   },
   "source": [
    "## Проверка гипотез"
   ]
  },
  {
   "cell_type": "markdown",
   "metadata": {
    "deletable": false,
    "editable": false,
    "id": "Im936VVi_Zcu"
   },
   "source": [
    "### Сравнение поведения пользователей двух столиц"
   ]
  },
  {
   "cell_type": "markdown",
   "metadata": {
    "deletable": false,
    "editable": false,
    "id": "nwt_MuaL_Zcu"
   },
   "source": [
    "Первая гипотеза утверждает, что пользователи по-разному слушают музыку в Москве и Санкт-Петербурге. Проверьте это предположение по данным о трёх днях недели — понедельнике, среде и пятнице. Для этого:\n",
    "\n",
    "* Разделите пользователей Москвы и Санкт-Петербурга.\n",
    "* Сравните, сколько треков послушала каждая группа пользователей в понедельник, среду и пятницу.\n"
   ]
  },
  {
   "cell_type": "markdown",
   "metadata": {
    "deletable": false,
    "editable": false,
    "id": "8Dw_YMmT_Zcu",
    "tags": [
     "start_task"
    ]
   },
   "source": [
    "**Задание 18**\n",
    "\n",
    "Для тренировки сначала выполните каждый из расчётов по отдельности. \n",
    "\n",
    "Оцените активность пользователей в каждом городе. Сгруппируйте данные по городу и посчитайте прослушивания в каждой группе.\n",
    "\n"
   ]
  },
  {
   "cell_type": "code",
   "execution_count": 18,
   "metadata": {
    "deletable": false,
    "id": "0_Qs96oh_Zcu"
   },
   "outputs": [
    {
     "name": "stdout",
     "output_type": "stream",
     "text": [
      "city\n",
      "Moscow              42741\n",
      "Saint-Petersburg    18512\n",
      "Name: time, dtype: int64\n"
     ]
    }
   ],
   "source": [
    "print(df.groupby('city')['time'].count())\n",
    "# Подсчёт прослушиваний в каждом городе"
   ]
  },
  {
   "cell_type": "markdown",
   "metadata": {
    "deletable": false,
    "editable": false,
    "id": "dzli3w8o_Zcu",
    "tags": [
     "start_task"
    ]
   },
   "source": [
    "В Москве прослушиваний больше, чем в Петербурге. Из этого не следует, что московские пользователи чаще слушают музыку. Просто самих пользователей в Москве больше.\n",
    "\n",
    "**Задание 19**\n",
    "\n",
    "Теперь сгруппируйте данные по дню недели и посчитайте прослушивания в понедельник, среду и пятницу. Учтите, что в данных есть информация о прослушиваниях только за эти дни.\n"
   ]
  },
  {
   "cell_type": "code",
   "execution_count": 19,
   "metadata": {
    "deletable": false,
    "id": "uZMKjiJz_Zcu"
   },
   "outputs": [
    {
     "data": {
      "text/plain": [
       "day\n",
       "Friday       21840\n",
       "Monday       21354\n",
       "Wednesday    18059\n",
       "Name: time, dtype: int64"
      ]
     },
     "execution_count": 19,
     "metadata": {},
     "output_type": "execute_result"
    }
   ],
   "source": [
    "df.groupby('day')['time'].count() # Подсчёт прослушиваний в каждый из трёх дней"
   ]
  },
  {
   "cell_type": "markdown",
   "metadata": {
    "deletable": false,
    "editable": false,
    "id": "cC2tNrlL_Zcu"
   },
   "source": [
    "В среднем пользователи из двух городов менее активны по средам. Но картина может измениться, если рассмотреть каждый город в отдельности."
   ]
  },
  {
   "cell_type": "markdown",
   "metadata": {
    "deletable": false,
    "editable": false,
    "id": "POzs8bGa_Zcu",
    "tags": [
     "start_task"
    ]
   },
   "source": [
    "**Задание 20**\n",
    "\n",
    "\n",
    "Вы видели, как работает группировка по городу и по дням недели. Теперь напишите функцию, которая объединит два эти расчёта.\n",
    "\n",
    "Создайте функцию `number_tracks()`, которая посчитает прослушивания для заданного дня и города. Ей понадобятся два параметра:\n",
    "* день недели,\n",
    "* название города.\n",
    "\n",
    "В функции сохраните в переменную строки исходной таблицы, у которых значение:\n",
    "  * в колонке `day` равно параметру `day`,\n",
    "  * в колонке `city` равно параметру `city`.\n",
    "\n",
    "Для этого примените последовательную фильтрацию с логической индексацией (или сложные логические выражения в одну строку, если вы уже знакомы с ними).\n",
    "\n",
    "Затем посчитайте значения в столбце `user_id` получившейся таблицы. Результат сохраните в новую переменную. Верните эту переменную из функции."
   ]
  },
  {
   "cell_type": "code",
   "execution_count": 20,
   "metadata": {
    "deletable": false,
    "id": "Nz3GdQB1_Zcu"
   },
   "outputs": [],
   "source": [
    "def number_tracks(day, city):# <создание функции number_tracks()>\n",
    "    track_list = df[df['day'] == day]\n",
    "    track_list = track_list[track_list['city'] == city]\n",
    "    track_list_count = track_list['user_id'].count()\n",
    "    return track_list_count\n",
    "\n",
    "#track_list = df[df['city'] == 'Moscow']\n",
    "#print(number_tracks('Monday', 'Saint-Petersburg'))  \n",
    "       \n",
    "        \n",
    "        \n",
    "    \n",
    "# Объявляется функция с двумя параметрами: day, city.\n",
    "# В переменной track_list сохраняются те строки таблицы df, для которых \n",
    "# значение в столбце 'day' равно параметру day и одновременно значение\n",
    "# в столбце 'city' равно параметру city (используйте последовательную фильтрацию\n",
    "# с помощью логической индексации или сложные логические выражения в одну строку, если вы уже знакомы с ними).\n",
    "\n",
    "# В переменной track_list_count сохраняется число значений столбца 'user_id',\n",
    "# рассчитанное методом count() для таблицы track_list.\n",
    "# Функция возвращает число - значение track_list_count.\n",
    "\n",
    "# Функция для подсчёта прослушиваний для конкретного города и дня.\n",
    "# С помощью последовательной фильтрации с логической индексацией она \n",
    "# сначала получит из исходной таблицы строки с нужным днём,\n",
    "# затем из результата отфильтрует строки с нужным городом,\n",
    "# методом count() посчитает количество значений в колонке user_id. \n",
    "# Это количество функция вернёт в качестве результата"
   ]
  },
  {
   "cell_type": "markdown",
   "metadata": {
    "deletable": false,
    "editable": false,
    "id": "ytf7xFrFJQ2r",
    "tags": [
     "start_task"
    ]
   },
   "source": [
    "**Задание 21**\n",
    "\n",
    "Вызовите `number_tracks()` шесть раз, меняя значение параметров — так, чтобы получить данные для каждого города в каждый из трёх дней."
   ]
  },
  {
   "cell_type": "code",
   "execution_count": 21,
   "metadata": {
    "deletable": false,
    "id": "rJcRATNQ_Zcu",
    "scrolled": true
   },
   "outputs": [
    {
     "data": {
      "text/plain": [
       "15740"
      ]
     },
     "execution_count": 21,
     "metadata": {},
     "output_type": "execute_result"
    }
   ],
   "source": [
    "number_tracks('Monday', 'Moscow')# количество прослушиваний в Москве по понедельникам"
   ]
  },
  {
   "cell_type": "code",
   "execution_count": 22,
   "metadata": {
    "deletable": false,
    "id": "hq_ncZ5T_Zcu"
   },
   "outputs": [
    {
     "data": {
      "text/plain": [
       "5614"
      ]
     },
     "execution_count": 22,
     "metadata": {},
     "output_type": "execute_result"
    }
   ],
   "source": [
    "number_tracks('Monday', 'Saint-Petersburg')# количество прослушиваний в Санкт-Петербурге по понедельникам"
   ]
  },
  {
   "cell_type": "code",
   "execution_count": 23,
   "metadata": {
    "deletable": false,
    "id": "_NTy2VPU_Zcu"
   },
   "outputs": [
    {
     "data": {
      "text/plain": [
       "11056"
      ]
     },
     "execution_count": 23,
     "metadata": {},
     "output_type": "execute_result"
    }
   ],
   "source": [
    "number_tracks('Wednesday', 'Moscow')# количество прослушиваний в Москве по средам"
   ]
  },
  {
   "cell_type": "code",
   "execution_count": 24,
   "metadata": {
    "deletable": false,
    "id": "j2y3TAwo_Zcu"
   },
   "outputs": [
    {
     "data": {
      "text/plain": [
       "7003"
      ]
     },
     "execution_count": 24,
     "metadata": {},
     "output_type": "execute_result"
    }
   ],
   "source": [
    "number_tracks('Wednesday', 'Saint-Petersburg')# количество прослушиваний в Санкт-Петербурге по средам"
   ]
  },
  {
   "cell_type": "code",
   "execution_count": 25,
   "metadata": {
    "deletable": false,
    "id": "vYDw5u_K_Zcu"
   },
   "outputs": [
    {
     "data": {
      "text/plain": [
       "15945"
      ]
     },
     "execution_count": 25,
     "metadata": {},
     "output_type": "execute_result"
    }
   ],
   "source": [
    "number_tracks('Friday', 'Moscow')# количество прослушиваний в Москве по пятницам"
   ]
  },
  {
   "cell_type": "code",
   "execution_count": 26,
   "metadata": {
    "deletable": false,
    "id": "8_yzFtW3_Zcu"
   },
   "outputs": [
    {
     "data": {
      "text/plain": [
       "5895"
      ]
     },
     "execution_count": 26,
     "metadata": {},
     "output_type": "execute_result"
    }
   ],
   "source": [
    "number_tracks('Friday', 'Saint-Petersburg')# количество прослушиваний в Санкт-Петербурге по пятницам"
   ]
  },
  {
   "cell_type": "markdown",
   "metadata": {
    "deletable": false,
    "editable": false,
    "id": "7QXffbO-_Zcu",
    "tags": [
     "start_task"
    ]
   },
   "source": [
    "**Задание 22**\n",
    "\n",
    "Создайте c помощью конструктора `pd.DataFrame` таблицу, где\n",
    "* названия колонок — `['city', 'monday', 'wednesday', 'friday']`;\n",
    "* данные — результаты, которые вы получили с помощью `number_tracks`."
   ]
  },
  {
   "cell_type": "code",
   "execution_count": 27,
   "metadata": {
    "deletable": false,
    "id": "APAcLpOr_Zcu"
   },
   "outputs": [
    {
     "name": "stdout",
     "output_type": "stream",
     "text": [
      "              city  monday  wednesday  friday\n",
      "0           Москва   15740      11056   15945\n",
      "1  Санкт-Петербург    5614       7003    5895\n"
     ]
    }
   ],
   "source": [
    "#city_day = ['city', 'monday', 'wednesday', 'friday']\n",
    "#city_day = (number_tracks('Monday', 'Moscow'),number_tracks('Monday', 'Saint-Petersburg'))\n",
    "info = pd.DataFrame(data=[['Москва', 15740, 11056, 15945], ['Санкт-Петербург', 5614, 7003, 5895]], columns=['city', 'monday', 'wednesday', 'friday'])\n",
    "\n",
    "print(info)\n",
    "# Таблица с результатами"
   ]
  },
  {
   "cell_type": "markdown",
   "metadata": {
    "deletable": false,
    "editable": false,
    "id": "-EgPIHYu_Zcu"
   },
   "source": [
    "**Выводы**\n",
    "\n",
    "Данные показывают разницу поведения пользователей:\n",
    "\n",
    "- В Москве пик прослушиваний приходится на понедельник и пятницу, а в среду заметен спад.\n",
    "- В Петербурге, наоборот, больше слушают музыку по средам. Активность в понедельник и пятницу здесь почти в равной мере уступает среде.\n",
    "\n",
    "Значит, данные говорят в пользу первой гипотезы."
   ]
  },
  {
   "cell_type": "markdown",
   "metadata": {
    "deletable": false,
    "editable": false,
    "id": "atZAxtq4_Zcu"
   },
   "source": [
    "### Музыка в начале и в конце недели"
   ]
  },
  {
   "cell_type": "markdown",
   "metadata": {
    "deletable": false,
    "editable": false,
    "id": "eXrQqXFH_Zcu"
   },
   "source": [
    "Согласно второй гипотезе, утром в понедельник в Москве преобладают одни жанры, а в Петербурге — другие. Так же и вечером пятницы преобладают разные жанры — в зависимости от города."
   ]
  },
  {
   "cell_type": "markdown",
   "metadata": {
    "deletable": false,
    "editable": false,
    "id": "S8UcW6Hw_Zcu",
    "tags": [
     "start_task"
    ]
   },
   "source": [
    "**Задание 23**\n",
    "\n",
    "Сохраните таблицы с данными в две переменные:\n",
    "* по Москве — в `moscow_general`;\n",
    "* по Санкт-Петербургу — в `spb_general`."
   ]
  },
  {
   "cell_type": "code",
   "execution_count": 28,
   "metadata": {
    "deletable": false,
    "id": "qeaFfM_P_Zcu"
   },
   "outputs": [],
   "source": [
    "moscow_general = df[df['city'] == 'Moscow']\n",
    "# получение таблицы moscow_general из тех строк таблицы df, \n",
    "# для которых значение в столбце 'city' равно 'Moscow'\n"
   ]
  },
  {
   "cell_type": "code",
   "execution_count": 29,
   "metadata": {
    "deletable": false,
    "id": "ORaVRKto_Zcu"
   },
   "outputs": [],
   "source": [
    "spb_general = df[df['city'] == 'Saint-Petersburg']\n",
    "# получение таблицы spb_general из тех строк таблицы df,\n",
    "# для которых значение в столбце 'city' равно 'Saint-Petersburg'\n"
   ]
  },
  {
   "cell_type": "markdown",
   "metadata": {
    "deletable": false,
    "editable": false,
    "id": "MEJV-CX2_Zcu",
    "tags": [
     "start_task"
    ]
   },
   "source": [
    "**Задание 24**\n",
    "\n",
    "Создайте функцию `genre_weekday()` с четырьмя параметрами:\n",
    "* таблица (датафрейм) с данными,\n",
    "* день недели,\n",
    "* начальная временная метка в формате 'hh:mm', \n",
    "* последняя временная метка в формате 'hh:mm'.\n",
    "\n",
    "Функция должна вернуть информацию о топ-10 жанров тех треков, которые прослушивали в указанный день, в промежутке между двумя отметками времени."
   ]
  },
  {
   "cell_type": "code",
   "execution_count": 30,
   "metadata": {
    "deletable": false,
    "id": "laJT9BYl_Zcu"
   },
   "outputs": [],
   "source": [
    "# Объявление функции genre_weekday() с параметрами table, day, time1, time2,\n",
    "# которая возвращает информацию о самых популярных жанрах в указанный день в\n",
    "# заданное время:\n",
    "# 1) в переменную genre_df сохраняются те строки переданного датафрейма table, для\n",
    "#    которых одновременно:\n",
    "#    - значение в столбце day равно значению аргумента day\n",
    "#    - значение в столбце time больше значения аргумента time1\n",
    "#    - значение в столбце time меньше значения аргумента time2\n",
    "#    Используйте последовательную фильтрацию с помощью логической индексации.\n",
    "# 2) сгруппировать датафрейм genre_df по столбцу genre, взять один из его\n",
    "#    столбцов и посчитать методом count() количество записей для каждого из\n",
    "#    присутствующих жанров, получившийся Series записать в переменную\n",
    "#    genre_df_count\n",
    "# 3) отсортировать genre_df_count по убыванию встречаемости и сохранить\n",
    "#    в переменную genre_df_sorted\n",
    "# 4) вернуть Series из 10 первых значений genre_df_sorted, это будут топ-10\n",
    "#    популярных жанров (в указанный день, в заданное время)\n",
    "\n",
    "def genre_weekday(df, day, time1, time2):\n",
    "    # последовательная фильтрация\n",
    "    # оставляем в genre_df только те строки df, у которых день равен day\n",
    "    genre_df = df[df['day'] == day]# ваш код здесь\n",
    "    # оставляем в genre_df только те строки genre_df, у которых время меньше time2\n",
    "    genre_df = genre_df[genre_df['time'] < time2]# ваш код здесь\n",
    "    # оставляем в genre_df только те строки genre_df, у которых время больше time1\n",
    "    genre_df = genre_df[genre_df['time'] > time1]# ваш код здесь\n",
    "    # сгруппируем отфильтрованный датафрейм по столбцу с названиями жанров, возьмём столбец genre и посчитаем кол-во строк для каждого жанра методом count()\n",
    "    genre_df_grouped = genre_df.groupby('genre')['genre'].count()# ваш код здесь\n",
    "    # отсортируем результат по убыванию (чтобы в начале Series оказались самые популярные жанры)\n",
    "    genre_df_sorted = genre_df_grouped.sort_values(ascending=False)# ваш код здесь\n",
    "    # вернём Series с 10 самыми популярными жанрами в указанный отрезок времени заданного дня\n",
    "    return genre_df_sorted[:10]\n",
    "\n"
   ]
  },
  {
   "cell_type": "markdown",
   "metadata": {
    "deletable": false,
    "editable": false,
    "id": "la2s2_PF_Zcu",
    "tags": [
     "start_task"
    ]
   },
   "source": [
    "**Задание 25**\n",
    "\n",
    "\n",
    "Cравните результаты функции `genre_weekday()` для Москвы и Санкт-Петербурга в понедельник утром (с 7:00 до 11:00) и в пятницу вечером (с 17:00 до 23:00):"
   ]
  },
  {
   "cell_type": "code",
   "execution_count": 31,
   "metadata": {
    "deletable": false,
    "id": "yz7itPUQ_Zcu"
   },
   "outputs": [
    {
     "data": {
      "text/plain": [
       "genre\n",
       "pop            781\n",
       "dance          549\n",
       "electronic     480\n",
       "rock           474\n",
       "hiphop         286\n",
       "ruspop         186\n",
       "world          181\n",
       "rusrap         175\n",
       "alternative    164\n",
       "unknown        161\n",
       "Name: genre, dtype: int64"
      ]
     },
     "execution_count": 31,
     "metadata": {},
     "output_type": "execute_result"
    }
   ],
   "source": [
    "genre_weekday(moscow_general, 'Monday', '07:00', '11:00')\n",
    "\n",
    "# Вызов функции для утра понедельника в Москве (вместо df — таблица moscow_general)\n",
    "# объекты, хранящие время, являются строками и сравниваются как строки\n",
    "# пример вызова: genre_weekday(moscow_general, 'Monday', '07:00', '11:00')"
   ]
  },
  {
   "cell_type": "code",
   "execution_count": 32,
   "metadata": {
    "deletable": false,
    "id": "kwUcHPdy_Zcu"
   },
   "outputs": [
    {
     "data": {
      "text/plain": [
       "genre\n",
       "pop            218\n",
       "dance          182\n",
       "rock           162\n",
       "electronic     147\n",
       "hiphop          80\n",
       "ruspop          64\n",
       "alternative     58\n",
       "rusrap          55\n",
       "jazz            44\n",
       "classical       40\n",
       "Name: genre, dtype: int64"
      ]
     },
     "execution_count": 32,
     "metadata": {},
     "output_type": "execute_result"
    }
   ],
   "source": [
    "genre_weekday(spb_general, 'Monday', '07:00', '11:00')\n",
    "# вызов функции для утра понедельника в Петербурге (вместо df — таблица spb_general)"
   ]
  },
  {
   "cell_type": "code",
   "execution_count": 33,
   "metadata": {
    "deletable": false,
    "id": "EzXVRE1o_Zcu"
   },
   "outputs": [
    {
     "data": {
      "text/plain": [
       "genre\n",
       "pop            713\n",
       "rock           517\n",
       "dance          495\n",
       "electronic     482\n",
       "hiphop         273\n",
       "world          208\n",
       "ruspop         170\n",
       "alternative    163\n",
       "classical      163\n",
       "rusrap         142\n",
       "Name: genre, dtype: int64"
      ]
     },
     "execution_count": 33,
     "metadata": {},
     "output_type": "execute_result"
    }
   ],
   "source": [
    "genre_weekday(moscow_general, 'Friday', '17:00', '23:00')\n",
    "# вызов функции для вечера пятницы в Москве"
   ]
  },
  {
   "cell_type": "code",
   "execution_count": 34,
   "metadata": {
    "deletable": false,
    "id": "JZaEKu5v_Zcu"
   },
   "outputs": [
    {
     "data": {
      "text/plain": [
       "genre\n",
       "pop            256\n",
       "electronic     216\n",
       "rock           216\n",
       "dance          210\n",
       "hiphop          97\n",
       "alternative     63\n",
       "jazz            61\n",
       "classical       60\n",
       "rusrap          59\n",
       "world           54\n",
       "Name: genre, dtype: int64"
      ]
     },
     "execution_count": 34,
     "metadata": {},
     "output_type": "execute_result"
    }
   ],
   "source": [
    "genre_weekday(spb_general, 'Friday', '17:00', '23:00')\n",
    "# вызов функции для вечера пятницы в Петербурге"
   ]
  },
  {
   "cell_type": "markdown",
   "metadata": {
    "deletable": false,
    "editable": false,
    "id": "wrCe4MNX_Zcu"
   },
   "source": [
    "**Выводы**\n",
    "\n",
    "Если сравнить топ-10 жанров в понедельник утром, можно сделать такие выводы:\n",
    "\n",
    "1. В Москве и Петербурге слушают похожую музыку. Единственное отличие — в московский рейтинг вошёл жанр “world”, а в петербургский — джаз и классика.\n",
    "\n",
    "2. В Москве пропущенных значений оказалось так много, что значение `'unknown'` заняло десятое место среди самых популярных жанров. Значит, пропущенные значения занимают существенную долю в данных и угрожают достоверности исследования.\n",
    "\n",
    "Вечер пятницы не меняет эту картину. Некоторые жанры поднимаются немного выше, другие спускаются, но в целом топ-10 остаётся тем же самым.\n",
    "\n",
    "Таким образом, вторая гипотеза подтвердилась лишь частично:\n",
    "* Пользователи слушают похожую музыку в начале недели и в конце.\n",
    "* Разница между Москвой и Петербургом не слишком выражена. В Москве чаще слушают русскую популярную музыку, в Петербурге — джаз.\n",
    "\n",
    "Однако пропуски в данных ставят под сомнение этот результат. В Москве их так много, что рейтинг топ-10 мог бы выглядеть иначе, если бы не утерянные  данные о жанрах."
   ]
  },
  {
   "cell_type": "markdown",
   "metadata": {
    "deletable": false,
    "editable": false,
    "id": "JolODAqr_Zcu"
   },
   "source": [
    "### Жанровые предпочтения в Москве и Петербурге\n",
    "\n",
    "Гипотеза: Петербург — столица рэпа, музыку этого жанра там слушают чаще, чем в Москве.  А Москва — город контрастов, в котором, тем не менее, преобладает поп-музыка."
   ]
  },
  {
   "cell_type": "markdown",
   "metadata": {
    "deletable": false,
    "editable": false,
    "id": "DlegSvaT_Zcu",
    "tags": [
     "start_task"
    ]
   },
   "source": [
    "**Задание 26**\n",
    "\n",
    "Сгруппируйте таблицу `moscow_general` по жанру и посчитайте прослушивания треков каждого жанра методом `count()`. Затем отсортируйте результат в порядке убывания и сохраните его в таблице `moscow_genres`."
   ]
  },
  {
   "cell_type": "code",
   "execution_count": 35,
   "metadata": {
    "deletable": false,
    "id": "r19lIPke_Zcu"
   },
   "outputs": [],
   "source": [
    "moscow_genres = moscow_general.groupby('genre')['genre'].count()\n",
    "moscow_genres = moscow_genres.sort_values(ascending=False)\n",
    "# одной строкой: группировка таблицы moscow_general по столбцу 'genre', \n",
    "# подсчёт числа значений 'genre' в этой группировке методом count(), \n",
    "# сортировка получившегося Series в порядке убывания и сохранение в moscow_genres"
   ]
  },
  {
   "cell_type": "markdown",
   "metadata": {
    "deletable": false,
    "editable": false,
    "id": "6kMuomxTiIr8",
    "tags": [
     "start_task"
    ]
   },
   "source": [
    "**Задание 27**\n",
    "\n",
    "Выведите на экран первые десять строк `moscow_genres`:"
   ]
  },
  {
   "cell_type": "code",
   "execution_count": 36,
   "metadata": {
    "deletable": false,
    "id": "WhCSooF8_Zcv"
   },
   "outputs": [
    {
     "name": "stdout",
     "output_type": "stream",
     "text": [
      "genre\n",
      "pop            5892\n",
      "dance          4435\n",
      "rock           3965\n",
      "electronic     3786\n",
      "hiphop         2096\n",
      "classical      1616\n",
      "world          1432\n",
      "alternative    1379\n",
      "ruspop         1372\n",
      "rusrap         1161\n",
      "Name: genre, dtype: int64\n"
     ]
    }
   ],
   "source": [
    "print(moscow_genres.head(10))# просмотр первых 10 строк moscow_genres"
   ]
  },
  {
   "cell_type": "markdown",
   "metadata": {
    "deletable": false,
    "editable": false,
    "id": "cnPG2vnN_Zcv",
    "tags": [
     "start_task"
    ]
   },
   "source": [
    "**Задание 28**\n",
    "\n",
    "\n",
    "Теперь повторите то же и для Петербурга.\n",
    "\n",
    "Сгруппируйте таблицу `spb_general` по жанру. Посчитайте прослушивания треков каждого жанра. Результат отсортируйте в порядке убывания и сохраните в таблице `spb_genres`:\n"
   ]
  },
  {
   "cell_type": "code",
   "execution_count": 37,
   "metadata": {
    "deletable": false,
    "id": "gluLIpE7_Zcv"
   },
   "outputs": [],
   "source": [
    "spb_genres = spb_general.groupby('genre')['genre'].count()\n",
    "spb_genres = spb_genres.sort_values(ascending=False)\n",
    "# одной строкой: группировка таблицы spb_general по столбцу 'genre', \n",
    "# подсчёт числа значений 'genre' в этой группировке методом count(), \n",
    "# сортировка получившегося Series в порядке убывания и сохранение в spb_genres"
   ]
  },
  {
   "cell_type": "markdown",
   "metadata": {
    "deletable": false,
    "editable": false,
    "id": "5Doha_ODgyQ8",
    "tags": [
     "start_task"
    ]
   },
   "source": [
    "**Задание 29**\n",
    "\n",
    "Выведите на экран первые десять строк `spb_genres`:"
   ]
  },
  {
   "cell_type": "code",
   "execution_count": 38,
   "metadata": {
    "deletable": false,
    "id": "uaGJHjVU_Zcv"
   },
   "outputs": [
    {
     "data": {
      "text/plain": [
       "genre\n",
       "pop           2431\n",
       "dance         1932\n",
       "rock          1879\n",
       "electronic    1736\n",
       "hiphop         960\n",
       "Name: genre, dtype: int64"
      ]
     },
     "execution_count": 38,
     "metadata": {},
     "output_type": "execute_result"
    }
   ],
   "source": [
    "spb_genres.head()# просмотр первых 10 строк spb_genres"
   ]
  },
  {
   "cell_type": "markdown",
   "metadata": {
    "deletable": false,
    "editable": false,
    "id": "RY51YJYu_Zcv"
   },
   "source": [
    "**Выводы**"
   ]
  },
  {
   "cell_type": "markdown",
   "metadata": {
    "deletable": false,
    "editable": false,
    "id": "nVhnJEm__Zcv"
   },
   "source": [
    "Гипотеза частично подтвердилась:\n",
    "* Поп-музыка — самый популярный жанр в Москве, как и предполагала гипотеза. Более того, в топ-10 жанров встречается близкий жанр — русская популярная музыка.\n",
    "* Вопреки ожиданиям, рэп одинаково популярен в Москве и Петербурге. \n"
   ]
  },
  {
   "cell_type": "markdown",
   "metadata": {
    "deletable": false,
    "editable": false,
    "id": "ykKQ0N65_Zcv"
   },
   "source": [
    "## Итоги исследования"
   ]
  },
  {
   "cell_type": "markdown",
   "metadata": {
    "deletable": false,
    "editable": false,
    "id": "tjUwbHb3_Zcv"
   },
   "source": [
    "Вы проверили три гипотезы и установили:\n",
    "\n",
    "1. День недели по-разному влияет на активность пользователей в Москве и Петербурге. \n",
    "\n",
    "Первая гипотеза полностью подтвердилась.\n",
    "\n",
    "2. Музыкальные предпочтения не сильно меняются в течение недели — будь то Москва или Петербург. Небольшие различия заметны в начале недели, по понедельникам:\n",
    "* в Москве слушают музыку жанра “world”,\n",
    "* в Петербурге — джаз и классику.\n",
    "\n",
    "Таким образом, вторая гипотеза подтвердилась лишь отчасти. Этот результат мог оказаться иным, если бы не пропуски в данных.\n",
    "\n",
    "3. Во вкусах пользователей Москвы и Петербурга больше общего чем различий. Вопреки ожиданиям, предпочтения жанров в Петербурге напоминают московские.\n",
    "\n",
    "Третья гипотеза не подтвердилась. Если различия в предпочтениях и существуют, на основной массе пользователей они незаметны.\n",
    "\n",
    "**На практике исследования содержат проверки статистических гипотез.**\n",
    "Из данных одного сервиса не всегда можно сделать вывод о всех жителях города.\n",
    "Проверки статистических гипотез покажут, насколько они достоверны, исходя из имеющихся данных. \n",
    "С методами проверок гипотез вы ещё познакомитесь в следующих темах."
   ]
  }
 ],
 "metadata": {
  "ExecuteTimeLog": [
   {
    "duration": 44,
    "start_time": "2022-08-27T12:19:08.289Z"
   },
   {
    "duration": 5,
    "start_time": "2022-08-27T12:19:37.489Z"
   },
   {
    "duration": 5,
    "start_time": "2022-08-27T12:19:50.603Z"
   },
   {
    "duration": 338,
    "start_time": "2022-08-27T12:19:53.849Z"
   },
   {
    "duration": 207,
    "start_time": "2022-08-27T12:19:57.017Z"
   },
   {
    "duration": 146,
    "start_time": "2022-08-27T12:20:05.489Z"
   },
   {
    "duration": 8,
    "start_time": "2022-08-27T12:20:54.041Z"
   },
   {
    "duration": 23,
    "start_time": "2022-08-27T12:21:27.625Z"
   },
   {
    "duration": 3,
    "start_time": "2022-08-27T12:28:21.314Z"
   },
   {
    "duration": 39,
    "start_time": "2022-08-27T12:33:07.486Z"
   },
   {
    "duration": 20,
    "start_time": "2022-08-27T12:35:19.922Z"
   },
   {
    "duration": 4,
    "start_time": "2022-08-27T12:36:07.761Z"
   },
   {
    "duration": 11,
    "start_time": "2022-08-27T12:36:47.847Z"
   },
   {
    "duration": 4,
    "start_time": "2022-08-27T12:36:54.059Z"
   },
   {
    "duration": 24,
    "start_time": "2022-08-27T12:38:50.833Z"
   },
   {
    "duration": 30,
    "start_time": "2022-08-27T12:42:44.807Z"
   },
   {
    "duration": 0,
    "start_time": "2022-08-27T12:45:57.069Z"
   },
   {
    "duration": 731,
    "start_time": "2022-08-27T12:46:13.284Z"
   },
   {
    "duration": 8,
    "start_time": "2022-08-27T12:46:42.654Z"
   },
   {
    "duration": 9,
    "start_time": "2022-08-27T12:48:01.326Z"
   },
   {
    "duration": 755,
    "start_time": "2022-08-27T12:48:34.712Z"
   },
   {
    "duration": 15,
    "start_time": "2022-08-27T12:50:10.406Z"
   },
   {
    "duration": 95,
    "start_time": "2022-08-27T12:56:45.022Z"
   },
   {
    "duration": 25,
    "start_time": "2022-08-27T12:57:30.992Z"
   },
   {
    "duration": 20,
    "start_time": "2022-08-27T13:01:32.726Z"
   },
   {
    "duration": 20,
    "start_time": "2022-08-27T13:01:55.406Z"
   },
   {
    "duration": 8,
    "start_time": "2022-08-27T13:02:51.472Z"
   },
   {
    "duration": 12,
    "start_time": "2022-08-27T13:05:00.327Z"
   },
   {
    "duration": 7,
    "start_time": "2022-08-27T13:05:46.735Z"
   },
   {
    "duration": 6,
    "start_time": "2022-08-27T13:06:00.086Z"
   },
   {
    "duration": 6,
    "start_time": "2022-08-27T13:08:11.341Z"
   },
   {
    "duration": 7,
    "start_time": "2022-08-27T13:08:26.436Z"
   },
   {
    "duration": 67,
    "start_time": "2022-08-27T13:09:12.054Z"
   },
   {
    "duration": 7,
    "start_time": "2022-08-27T13:12:39.983Z"
   },
   {
    "duration": 54,
    "start_time": "2022-08-27T13:13:03.885Z"
   },
   {
    "duration": 54,
    "start_time": "2022-08-27T13:13:39.169Z"
   },
   {
    "duration": 56,
    "start_time": "2022-08-27T13:14:57.645Z"
   },
   {
    "duration": 62,
    "start_time": "2022-08-27T13:15:03.911Z"
   },
   {
    "duration": 321,
    "start_time": "2022-08-27T13:50:43.695Z"
   },
   {
    "duration": 300,
    "start_time": "2022-08-27T13:51:03.737Z"
   },
   {
    "duration": 306,
    "start_time": "2022-08-27T13:51:14.145Z"
   },
   {
    "duration": 317,
    "start_time": "2022-08-27T13:51:20.818Z"
   },
   {
    "duration": 10,
    "start_time": "2022-08-27T13:56:59.642Z"
   },
   {
    "duration": 10,
    "start_time": "2022-08-27T13:59:44.438Z"
   },
   {
    "duration": 7,
    "start_time": "2022-08-27T14:00:44.761Z"
   },
   {
    "duration": 9,
    "start_time": "2022-08-27T14:04:17.400Z"
   },
   {
    "duration": 10,
    "start_time": "2022-08-27T14:06:06.480Z"
   },
   {
    "duration": 11,
    "start_time": "2022-08-27T14:06:35.321Z"
   },
   {
    "duration": 12,
    "start_time": "2022-08-27T14:07:54.913Z"
   },
   {
    "duration": 14,
    "start_time": "2022-08-27T14:08:22.015Z"
   },
   {
    "duration": 10,
    "start_time": "2022-08-27T14:09:12.764Z"
   },
   {
    "duration": 10,
    "start_time": "2022-08-27T14:09:52.451Z"
   },
   {
    "duration": 14,
    "start_time": "2022-08-27T14:11:52.360Z"
   },
   {
    "duration": 10,
    "start_time": "2022-08-27T14:13:33.202Z"
   },
   {
    "duration": 11,
    "start_time": "2022-08-27T14:14:10.885Z"
   },
   {
    "duration": 9,
    "start_time": "2022-08-27T14:18:20.101Z"
   },
   {
    "duration": 9,
    "start_time": "2022-08-27T14:28:10.929Z"
   },
   {
    "duration": 5,
    "start_time": "2022-08-27T14:29:36.879Z"
   },
   {
    "duration": 6,
    "start_time": "2022-08-27T14:29:43.603Z"
   },
   {
    "duration": 8,
    "start_time": "2022-08-27T14:31:07.134Z"
   },
   {
    "duration": 12,
    "start_time": "2022-08-27T14:31:41.353Z"
   },
   {
    "duration": 10,
    "start_time": "2022-08-27T14:32:58.773Z"
   },
   {
    "duration": 9,
    "start_time": "2022-08-27T14:33:08.365Z"
   },
   {
    "duration": 17,
    "start_time": "2022-08-27T15:18:01.008Z"
   },
   {
    "duration": 26,
    "start_time": "2022-08-27T15:20:52.807Z"
   },
   {
    "duration": 6,
    "start_time": "2022-08-27T16:01:18.789Z"
   },
   {
    "duration": 3,
    "start_time": "2022-08-27T16:01:27.572Z"
   },
   {
    "duration": 3,
    "start_time": "2022-08-27T16:29:30.390Z"
   },
   {
    "duration": 4,
    "start_time": "2022-08-27T16:33:00.121Z"
   },
   {
    "duration": 8,
    "start_time": "2022-08-27T16:57:49.073Z"
   },
   {
    "duration": 9,
    "start_time": "2022-08-27T16:59:08.642Z"
   },
   {
    "duration": 9,
    "start_time": "2022-08-27T16:59:57.882Z"
   },
   {
    "duration": 12,
    "start_time": "2022-08-27T17:00:17.474Z"
   },
   {
    "duration": 6,
    "start_time": "2022-08-27T17:00:48.903Z"
   },
   {
    "duration": 268,
    "start_time": "2022-08-27T17:01:17.555Z"
   },
   {
    "duration": 6,
    "start_time": "2022-08-27T17:07:35.872Z"
   },
   {
    "duration": 8,
    "start_time": "2022-08-27T17:08:04.595Z"
   },
   {
    "duration": 2,
    "start_time": "2022-08-27T17:13:48.592Z"
   },
   {
    "duration": 7,
    "start_time": "2022-08-27T17:14:06.724Z"
   },
   {
    "duration": 10,
    "start_time": "2022-08-27T17:14:20.564Z"
   },
   {
    "duration": 11,
    "start_time": "2022-08-27T17:15:48.465Z"
   },
   {
    "duration": 6,
    "start_time": "2022-08-27T17:16:39.107Z"
   },
   {
    "duration": 37,
    "start_time": "2022-08-27T17:19:02.615Z"
   },
   {
    "duration": 38,
    "start_time": "2022-08-27T17:19:36.092Z"
   },
   {
    "duration": 13,
    "start_time": "2022-08-27T17:32:31.371Z"
   },
   {
    "duration": 15,
    "start_time": "2022-08-27T17:33:03.867Z"
   },
   {
    "duration": 7,
    "start_time": "2022-08-27T17:34:01.037Z"
   },
   {
    "duration": 7,
    "start_time": "2022-08-27T17:34:13.051Z"
   },
   {
    "duration": 15,
    "start_time": "2022-08-27T17:34:34.138Z"
   },
   {
    "duration": 16,
    "start_time": "2022-08-27T17:38:06.033Z"
   },
   {
    "duration": 15,
    "start_time": "2022-08-27T17:38:43.347Z"
   },
   {
    "duration": 47,
    "start_time": "2022-08-27T17:41:29.925Z"
   },
   {
    "duration": 400,
    "start_time": "2022-08-27T17:42:45.388Z"
   },
   {
    "duration": 149,
    "start_time": "2022-08-27T17:42:45.791Z"
   },
   {
    "duration": 7,
    "start_time": "2022-08-27T17:42:45.942Z"
   },
   {
    "duration": 30,
    "start_time": "2022-08-27T17:42:45.951Z"
   },
   {
    "duration": 3,
    "start_time": "2022-08-27T17:42:45.982Z"
   },
   {
    "duration": 12,
    "start_time": "2022-08-27T17:42:45.986Z"
   },
   {
    "duration": 13,
    "start_time": "2022-08-27T17:42:46.000Z"
   },
   {
    "duration": 4,
    "start_time": "2022-08-27T17:42:46.015Z"
   },
   {
    "duration": 27,
    "start_time": "2022-08-27T17:42:46.021Z"
   },
   {
    "duration": 14,
    "start_time": "2022-08-27T17:42:46.051Z"
   },
   {
    "duration": 41,
    "start_time": "2022-08-27T17:42:46.067Z"
   },
   {
    "duration": 58,
    "start_time": "2022-08-27T17:42:46.110Z"
   },
   {
    "duration": 80,
    "start_time": "2022-08-27T17:42:46.170Z"
   },
   {
    "duration": 64,
    "start_time": "2022-08-27T17:42:46.252Z"
   },
   {
    "duration": 37,
    "start_time": "2022-08-27T17:42:46.318Z"
   },
   {
    "duration": 9,
    "start_time": "2022-08-27T17:42:46.357Z"
   },
   {
    "duration": 55,
    "start_time": "2022-08-27T17:42:46.367Z"
   },
   {
    "duration": 11,
    "start_time": "2022-08-27T17:42:46.423Z"
   },
   {
    "duration": 30,
    "start_time": "2022-08-27T17:42:46.435Z"
   },
   {
    "duration": 9,
    "start_time": "2022-08-27T17:42:46.466Z"
   },
   {
    "duration": 23,
    "start_time": "2022-08-27T17:42:46.476Z"
   },
   {
    "duration": 4,
    "start_time": "2022-08-27T17:42:46.500Z"
   },
   {
    "duration": 10,
    "start_time": "2022-08-27T17:42:46.505Z"
   },
   {
    "duration": 13,
    "start_time": "2022-08-27T17:42:46.516Z"
   },
   {
    "duration": 6,
    "start_time": "2022-08-27T17:42:46.530Z"
   },
   {
    "duration": 16,
    "start_time": "2022-08-27T17:42:46.537Z"
   },
   {
    "duration": 9,
    "start_time": "2022-08-27T17:42:46.554Z"
   },
   {
    "duration": 5,
    "start_time": "2022-08-27T17:42:46.566Z"
   },
   {
    "duration": 11,
    "start_time": "2022-08-27T17:42:46.573Z"
   },
   {
    "duration": 57,
    "start_time": "2022-08-27T17:42:46.585Z"
   },
   {
    "duration": 0,
    "start_time": "2022-08-27T17:42:46.644Z"
   },
   {
    "duration": 0,
    "start_time": "2022-08-27T17:42:46.645Z"
   },
   {
    "duration": 0,
    "start_time": "2022-08-27T17:42:46.647Z"
   },
   {
    "duration": 0,
    "start_time": "2022-08-27T17:42:46.648Z"
   },
   {
    "duration": 0,
    "start_time": "2022-08-27T17:42:46.649Z"
   },
   {
    "duration": 0,
    "start_time": "2022-08-27T17:42:46.651Z"
   },
   {
    "duration": 0,
    "start_time": "2022-08-27T17:42:46.652Z"
   },
   {
    "duration": 0,
    "start_time": "2022-08-27T17:42:46.654Z"
   },
   {
    "duration": 65,
    "start_time": "2022-08-27T17:44:04.313Z"
   },
   {
    "duration": 7,
    "start_time": "2022-08-27T17:44:16.949Z"
   },
   {
    "duration": 6,
    "start_time": "2022-08-27T17:44:39.151Z"
   },
   {
    "duration": 360,
    "start_time": "2022-08-27T17:45:15.334Z"
   },
   {
    "duration": 147,
    "start_time": "2022-08-27T17:45:15.695Z"
   },
   {
    "duration": 7,
    "start_time": "2022-08-27T17:45:15.843Z"
   },
   {
    "duration": 25,
    "start_time": "2022-08-27T17:45:15.852Z"
   },
   {
    "duration": 3,
    "start_time": "2022-08-27T17:45:15.878Z"
   },
   {
    "duration": 17,
    "start_time": "2022-08-27T17:45:15.882Z"
   },
   {
    "duration": 14,
    "start_time": "2022-08-27T17:45:15.900Z"
   },
   {
    "duration": 4,
    "start_time": "2022-08-27T17:45:15.916Z"
   },
   {
    "duration": 25,
    "start_time": "2022-08-27T17:45:15.922Z"
   },
   {
    "duration": 21,
    "start_time": "2022-08-27T17:45:15.950Z"
   },
   {
    "duration": 35,
    "start_time": "2022-08-27T17:45:15.972Z"
   },
   {
    "duration": 64,
    "start_time": "2022-08-27T17:45:16.008Z"
   },
   {
    "duration": 74,
    "start_time": "2022-08-27T17:45:16.073Z"
   },
   {
    "duration": 58,
    "start_time": "2022-08-27T17:45:16.149Z"
   },
   {
    "duration": 38,
    "start_time": "2022-08-27T17:45:16.209Z"
   },
   {
    "duration": 8,
    "start_time": "2022-08-27T17:45:16.249Z"
   },
   {
    "duration": 53,
    "start_time": "2022-08-27T17:45:16.259Z"
   },
   {
    "duration": 9,
    "start_time": "2022-08-27T17:45:16.313Z"
   },
   {
    "duration": 9,
    "start_time": "2022-08-27T17:45:16.324Z"
   },
   {
    "duration": 8,
    "start_time": "2022-08-27T17:45:16.335Z"
   },
   {
    "duration": 6,
    "start_time": "2022-08-27T17:45:16.344Z"
   },
   {
    "duration": 4,
    "start_time": "2022-08-27T17:45:16.351Z"
   },
   {
    "duration": 7,
    "start_time": "2022-08-27T17:45:16.357Z"
   },
   {
    "duration": 5,
    "start_time": "2022-08-27T17:45:16.365Z"
   },
   {
    "duration": 3,
    "start_time": "2022-08-27T17:45:16.372Z"
   },
   {
    "duration": 3,
    "start_time": "2022-08-27T17:45:16.398Z"
   },
   {
    "duration": 4,
    "start_time": "2022-08-27T17:45:16.402Z"
   },
   {
    "duration": 3,
    "start_time": "2022-08-27T17:45:16.409Z"
   },
   {
    "duration": 4,
    "start_time": "2022-08-27T17:45:16.413Z"
   },
   {
    "duration": 591,
    "start_time": "2022-08-27T17:45:16.418Z"
   },
   {
    "duration": 0,
    "start_time": "2022-08-27T17:45:17.010Z"
   },
   {
    "duration": 0,
    "start_time": "2022-08-27T17:45:17.012Z"
   },
   {
    "duration": 0,
    "start_time": "2022-08-27T17:45:17.013Z"
   },
   {
    "duration": 0,
    "start_time": "2022-08-27T17:45:17.014Z"
   },
   {
    "duration": 0,
    "start_time": "2022-08-27T17:45:17.014Z"
   },
   {
    "duration": 0,
    "start_time": "2022-08-27T17:45:17.015Z"
   },
   {
    "duration": 0,
    "start_time": "2022-08-27T17:45:17.016Z"
   },
   {
    "duration": 0,
    "start_time": "2022-08-27T17:45:17.017Z"
   },
   {
    "duration": 65,
    "start_time": "2022-08-27T17:45:41.475Z"
   },
   {
    "duration": 6,
    "start_time": "2022-08-27T17:46:01.903Z"
   },
   {
    "duration": 416,
    "start_time": "2022-08-27T17:46:55.476Z"
   },
   {
    "duration": 150,
    "start_time": "2022-08-27T17:46:55.894Z"
   },
   {
    "duration": 7,
    "start_time": "2022-08-27T17:46:56.046Z"
   },
   {
    "duration": 29,
    "start_time": "2022-08-27T17:46:56.055Z"
   },
   {
    "duration": 2,
    "start_time": "2022-08-27T17:46:56.085Z"
   },
   {
    "duration": 12,
    "start_time": "2022-08-27T17:46:56.088Z"
   },
   {
    "duration": 13,
    "start_time": "2022-08-27T17:46:56.102Z"
   },
   {
    "duration": 8,
    "start_time": "2022-08-27T17:46:56.117Z"
   },
   {
    "duration": 26,
    "start_time": "2022-08-27T17:46:56.126Z"
   },
   {
    "duration": 15,
    "start_time": "2022-08-27T17:46:56.154Z"
   },
   {
    "duration": 36,
    "start_time": "2022-08-27T17:46:56.170Z"
   },
   {
    "duration": 63,
    "start_time": "2022-08-27T17:46:56.208Z"
   },
   {
    "duration": 76,
    "start_time": "2022-08-27T17:46:56.273Z"
   },
   {
    "duration": 61,
    "start_time": "2022-08-27T17:46:56.350Z"
   },
   {
    "duration": 36,
    "start_time": "2022-08-27T17:46:56.413Z"
   },
   {
    "duration": 11,
    "start_time": "2022-08-27T17:46:56.451Z"
   },
   {
    "duration": 57,
    "start_time": "2022-08-27T17:46:56.464Z"
   },
   {
    "duration": 10,
    "start_time": "2022-08-27T17:46:56.523Z"
   },
   {
    "duration": 10,
    "start_time": "2022-08-27T17:46:56.535Z"
   },
   {
    "duration": 9,
    "start_time": "2022-08-27T17:46:56.546Z"
   },
   {
    "duration": 9,
    "start_time": "2022-08-27T17:46:56.556Z"
   },
   {
    "duration": 7,
    "start_time": "2022-08-27T17:46:56.567Z"
   },
   {
    "duration": 9,
    "start_time": "2022-08-27T17:46:56.575Z"
   },
   {
    "duration": 3,
    "start_time": "2022-08-27T17:46:56.597Z"
   },
   {
    "duration": 5,
    "start_time": "2022-08-27T17:46:56.601Z"
   },
   {
    "duration": 5,
    "start_time": "2022-08-27T17:46:56.607Z"
   },
   {
    "duration": 5,
    "start_time": "2022-08-27T17:46:56.613Z"
   },
   {
    "duration": 8,
    "start_time": "2022-08-27T17:46:56.621Z"
   },
   {
    "duration": 4,
    "start_time": "2022-08-27T17:46:56.630Z"
   },
   {
    "duration": 47,
    "start_time": "2022-08-27T17:46:56.635Z"
   },
   {
    "duration": 0,
    "start_time": "2022-08-27T17:46:56.683Z"
   },
   {
    "duration": 0,
    "start_time": "2022-08-27T17:46:56.684Z"
   },
   {
    "duration": 0,
    "start_time": "2022-08-27T17:46:56.685Z"
   },
   {
    "duration": 0,
    "start_time": "2022-08-27T17:46:56.685Z"
   },
   {
    "duration": 0,
    "start_time": "2022-08-27T17:46:56.687Z"
   },
   {
    "duration": 0,
    "start_time": "2022-08-27T17:46:56.687Z"
   },
   {
    "duration": 0,
    "start_time": "2022-08-27T17:46:56.688Z"
   },
   {
    "duration": 0,
    "start_time": "2022-08-27T17:46:56.689Z"
   },
   {
    "duration": 62,
    "start_time": "2022-08-27T17:48:05.487Z"
   },
   {
    "duration": 9,
    "start_time": "2022-08-27T18:21:03.783Z"
   },
   {
    "duration": 14,
    "start_time": "2022-08-27T18:21:14.526Z"
   },
   {
    "duration": 3,
    "start_time": "2022-08-27T18:21:27.335Z"
   },
   {
    "duration": 406,
    "start_time": "2022-08-27T18:33:59.919Z"
   },
   {
    "duration": 149,
    "start_time": "2022-08-27T18:34:00.327Z"
   },
   {
    "duration": 8,
    "start_time": "2022-08-27T18:34:00.478Z"
   },
   {
    "duration": 32,
    "start_time": "2022-08-27T18:34:00.488Z"
   },
   {
    "duration": 4,
    "start_time": "2022-08-27T18:34:00.521Z"
   },
   {
    "duration": 15,
    "start_time": "2022-08-27T18:34:00.526Z"
   },
   {
    "duration": 33,
    "start_time": "2022-08-27T18:34:00.542Z"
   },
   {
    "duration": 26,
    "start_time": "2022-08-27T18:34:00.577Z"
   },
   {
    "duration": 53,
    "start_time": "2022-08-27T18:34:00.604Z"
   },
   {
    "duration": 29,
    "start_time": "2022-08-27T18:34:00.660Z"
   },
   {
    "duration": 32,
    "start_time": "2022-08-27T18:34:00.690Z"
   },
   {
    "duration": 78,
    "start_time": "2022-08-27T18:34:00.724Z"
   },
   {
    "duration": 64,
    "start_time": "2022-08-27T18:34:00.804Z"
   },
   {
    "duration": 60,
    "start_time": "2022-08-27T18:34:00.869Z"
   },
   {
    "duration": 36,
    "start_time": "2022-08-27T18:34:00.930Z"
   },
   {
    "duration": 10,
    "start_time": "2022-08-27T18:34:00.967Z"
   },
   {
    "duration": 61,
    "start_time": "2022-08-27T18:34:00.979Z"
   },
   {
    "duration": 10,
    "start_time": "2022-08-27T18:34:01.042Z"
   },
   {
    "duration": 30,
    "start_time": "2022-08-27T18:34:01.053Z"
   },
   {
    "duration": 19,
    "start_time": "2022-08-27T18:34:01.084Z"
   },
   {
    "duration": 11,
    "start_time": "2022-08-27T18:34:01.105Z"
   },
   {
    "duration": 8,
    "start_time": "2022-08-27T18:34:01.118Z"
   },
   {
    "duration": 29,
    "start_time": "2022-08-27T18:34:01.128Z"
   },
   {
    "duration": 9,
    "start_time": "2022-08-27T18:34:01.159Z"
   },
   {
    "duration": 7,
    "start_time": "2022-08-27T18:34:01.170Z"
   },
   {
    "duration": 14,
    "start_time": "2022-08-27T18:34:01.178Z"
   },
   {
    "duration": 6,
    "start_time": "2022-08-27T18:34:01.193Z"
   },
   {
    "duration": 8,
    "start_time": "2022-08-27T18:34:01.202Z"
   },
   {
    "duration": 6,
    "start_time": "2022-08-27T18:34:01.212Z"
   },
   {
    "duration": 48,
    "start_time": "2022-08-27T18:34:01.220Z"
   },
   {
    "duration": 0,
    "start_time": "2022-08-27T18:34:01.269Z"
   },
   {
    "duration": 0,
    "start_time": "2022-08-27T18:34:01.270Z"
   },
   {
    "duration": 0,
    "start_time": "2022-08-27T18:34:01.271Z"
   },
   {
    "duration": 0,
    "start_time": "2022-08-27T18:34:01.272Z"
   },
   {
    "duration": 0,
    "start_time": "2022-08-27T18:34:01.272Z"
   },
   {
    "duration": 0,
    "start_time": "2022-08-27T18:34:01.274Z"
   },
   {
    "duration": 0,
    "start_time": "2022-08-27T18:34:01.275Z"
   },
   {
    "duration": 0,
    "start_time": "2022-08-27T18:34:01.276Z"
   },
   {
    "duration": 16,
    "start_time": "2022-08-27T18:34:17.194Z"
   },
   {
    "duration": 18,
    "start_time": "2022-08-27T18:34:22.023Z"
   },
   {
    "duration": 3,
    "start_time": "2022-08-27T18:34:26.863Z"
   },
   {
    "duration": 14,
    "start_time": "2022-08-27T19:19:39.076Z"
   },
   {
    "duration": 9,
    "start_time": "2022-08-29T11:13:39.970Z"
   },
   {
    "duration": 3,
    "start_time": "2022-08-29T11:13:43.238Z"
   },
   {
    "duration": 3,
    "start_time": "2022-08-29T11:13:56.455Z"
   },
   {
    "duration": 2,
    "start_time": "2022-08-29T11:13:59.468Z"
   },
   {
    "duration": 2,
    "start_time": "2022-08-29T11:14:00.448Z"
   },
   {
    "duration": 2,
    "start_time": "2022-08-29T11:14:01.427Z"
   },
   {
    "duration": 402,
    "start_time": "2022-08-29T11:14:09.081Z"
   },
   {
    "duration": 490,
    "start_time": "2022-08-29T11:14:09.485Z"
   },
   {
    "duration": 9,
    "start_time": "2022-08-29T11:14:09.977Z"
   },
   {
    "duration": 44,
    "start_time": "2022-08-29T11:14:09.988Z"
   },
   {
    "duration": 27,
    "start_time": "2022-08-29T11:14:10.034Z"
   },
   {
    "duration": 15,
    "start_time": "2022-08-29T11:14:10.064Z"
   },
   {
    "duration": 18,
    "start_time": "2022-08-29T11:14:10.082Z"
   },
   {
    "duration": 6,
    "start_time": "2022-08-29T11:14:10.102Z"
   },
   {
    "duration": 56,
    "start_time": "2022-08-29T11:14:10.110Z"
   },
   {
    "duration": 27,
    "start_time": "2022-08-29T11:14:10.169Z"
   },
   {
    "duration": 27,
    "start_time": "2022-08-29T11:14:10.199Z"
   },
   {
    "duration": 104,
    "start_time": "2022-08-29T11:14:10.227Z"
   },
   {
    "duration": 113,
    "start_time": "2022-08-29T11:14:10.333Z"
   },
   {
    "duration": 83,
    "start_time": "2022-08-29T11:14:10.453Z"
   },
   {
    "duration": 56,
    "start_time": "2022-08-29T11:14:10.539Z"
   },
   {
    "duration": 19,
    "start_time": "2022-08-29T11:14:10.597Z"
   },
   {
    "duration": 63,
    "start_time": "2022-08-29T11:14:10.619Z"
   },
   {
    "duration": 30,
    "start_time": "2022-08-29T11:14:10.684Z"
   },
   {
    "duration": 17,
    "start_time": "2022-08-29T11:14:10.716Z"
   },
   {
    "duration": 7,
    "start_time": "2022-08-29T11:14:10.735Z"
   },
   {
    "duration": 8,
    "start_time": "2022-08-29T11:14:10.744Z"
   },
   {
    "duration": 7,
    "start_time": "2022-08-29T11:14:10.754Z"
   },
   {
    "duration": 7,
    "start_time": "2022-08-29T11:14:10.763Z"
   },
   {
    "duration": 7,
    "start_time": "2022-08-29T11:14:10.772Z"
   },
   {
    "duration": 7,
    "start_time": "2022-08-29T11:14:10.782Z"
   },
   {
    "duration": 3,
    "start_time": "2022-08-29T11:14:10.806Z"
   },
   {
    "duration": 9,
    "start_time": "2022-08-29T11:14:10.811Z"
   },
   {
    "duration": 6,
    "start_time": "2022-08-29T11:14:10.822Z"
   },
   {
    "duration": 4,
    "start_time": "2022-08-29T11:14:10.830Z"
   },
   {
    "duration": 126,
    "start_time": "2022-08-29T11:14:10.836Z"
   },
   {
    "duration": 0,
    "start_time": "2022-08-29T11:14:10.964Z"
   },
   {
    "duration": 0,
    "start_time": "2022-08-29T11:14:10.965Z"
   },
   {
    "duration": 0,
    "start_time": "2022-08-29T11:14:10.966Z"
   },
   {
    "duration": 0,
    "start_time": "2022-08-29T11:14:10.968Z"
   },
   {
    "duration": 0,
    "start_time": "2022-08-29T11:14:10.970Z"
   },
   {
    "duration": 0,
    "start_time": "2022-08-29T11:14:10.971Z"
   },
   {
    "duration": 0,
    "start_time": "2022-08-29T11:14:10.972Z"
   },
   {
    "duration": 0,
    "start_time": "2022-08-29T11:14:10.974Z"
   },
   {
    "duration": 377,
    "start_time": "2022-08-29T11:15:04.045Z"
   },
   {
    "duration": 161,
    "start_time": "2022-08-29T11:15:04.424Z"
   },
   {
    "duration": 9,
    "start_time": "2022-08-29T11:15:04.586Z"
   },
   {
    "duration": 31,
    "start_time": "2022-08-29T11:15:04.606Z"
   },
   {
    "duration": 3,
    "start_time": "2022-08-29T11:15:04.638Z"
   },
   {
    "duration": 7,
    "start_time": "2022-08-29T11:15:04.642Z"
   },
   {
    "duration": 15,
    "start_time": "2022-08-29T11:15:04.651Z"
   },
   {
    "duration": 7,
    "start_time": "2022-08-29T11:15:04.668Z"
   },
   {
    "duration": 51,
    "start_time": "2022-08-29T11:15:04.676Z"
   },
   {
    "duration": 16,
    "start_time": "2022-08-29T11:15:04.729Z"
   },
   {
    "duration": 21,
    "start_time": "2022-08-29T11:15:04.746Z"
   },
   {
    "duration": 79,
    "start_time": "2022-08-29T11:15:04.769Z"
   },
   {
    "duration": 70,
    "start_time": "2022-08-29T11:15:04.850Z"
   },
   {
    "duration": 61,
    "start_time": "2022-08-29T11:15:04.921Z"
   },
   {
    "duration": 52,
    "start_time": "2022-08-29T11:15:04.984Z"
   },
   {
    "duration": 9,
    "start_time": "2022-08-29T11:15:05.038Z"
   },
   {
    "duration": 43,
    "start_time": "2022-08-29T11:15:05.049Z"
   },
   {
    "duration": 21,
    "start_time": "2022-08-29T11:15:05.094Z"
   },
   {
    "duration": 14,
    "start_time": "2022-08-29T11:15:05.117Z"
   },
   {
    "duration": 81,
    "start_time": "2022-08-29T11:15:05.133Z"
   },
   {
    "duration": 0,
    "start_time": "2022-08-29T11:15:05.217Z"
   },
   {
    "duration": 0,
    "start_time": "2022-08-29T11:15:05.218Z"
   },
   {
    "duration": 0,
    "start_time": "2022-08-29T11:15:05.220Z"
   },
   {
    "duration": 0,
    "start_time": "2022-08-29T11:15:05.221Z"
   },
   {
    "duration": 0,
    "start_time": "2022-08-29T11:15:05.222Z"
   },
   {
    "duration": 0,
    "start_time": "2022-08-29T11:15:05.224Z"
   },
   {
    "duration": 0,
    "start_time": "2022-08-29T11:15:05.225Z"
   },
   {
    "duration": 0,
    "start_time": "2022-08-29T11:15:05.227Z"
   },
   {
    "duration": 0,
    "start_time": "2022-08-29T11:15:05.228Z"
   },
   {
    "duration": 0,
    "start_time": "2022-08-29T11:15:05.230Z"
   },
   {
    "duration": 0,
    "start_time": "2022-08-29T11:15:05.231Z"
   },
   {
    "duration": 0,
    "start_time": "2022-08-29T11:15:05.232Z"
   },
   {
    "duration": 0,
    "start_time": "2022-08-29T11:15:05.234Z"
   },
   {
    "duration": 0,
    "start_time": "2022-08-29T11:15:05.235Z"
   },
   {
    "duration": 0,
    "start_time": "2022-08-29T11:15:05.236Z"
   },
   {
    "duration": 0,
    "start_time": "2022-08-29T11:15:05.238Z"
   },
   {
    "duration": 1,
    "start_time": "2022-08-29T11:15:05.239Z"
   },
   {
    "duration": 0,
    "start_time": "2022-08-29T11:15:05.241Z"
   },
   {
    "duration": 54,
    "start_time": "2022-08-30T09:04:43.201Z"
   },
   {
    "duration": 50,
    "start_time": "2022-08-30T09:06:24.872Z"
   },
   {
    "duration": 385,
    "start_time": "2022-08-30T09:07:07.923Z"
   },
   {
    "duration": 209,
    "start_time": "2022-08-30T09:07:08.310Z"
   },
   {
    "duration": 8,
    "start_time": "2022-08-30T09:07:08.520Z"
   },
   {
    "duration": 28,
    "start_time": "2022-08-30T09:07:08.529Z"
   },
   {
    "duration": 3,
    "start_time": "2022-08-30T09:07:08.560Z"
   },
   {
    "duration": 6,
    "start_time": "2022-08-30T09:07:08.565Z"
   },
   {
    "duration": 33,
    "start_time": "2022-08-30T09:07:08.574Z"
   },
   {
    "duration": 4,
    "start_time": "2022-08-30T09:07:08.608Z"
   },
   {
    "duration": 45,
    "start_time": "2022-08-30T09:07:08.614Z"
   },
   {
    "duration": 15,
    "start_time": "2022-08-30T09:07:08.661Z"
   },
   {
    "duration": 32,
    "start_time": "2022-08-30T09:07:08.677Z"
   },
   {
    "duration": 67,
    "start_time": "2022-08-30T09:07:08.711Z"
   },
   {
    "duration": 78,
    "start_time": "2022-08-30T09:07:08.779Z"
   },
   {
    "duration": 62,
    "start_time": "2022-08-30T09:07:08.858Z"
   },
   {
    "duration": 36,
    "start_time": "2022-08-30T09:07:08.922Z"
   },
   {
    "duration": 9,
    "start_time": "2022-08-30T09:07:08.960Z"
   },
   {
    "duration": 57,
    "start_time": "2022-08-30T09:07:08.970Z"
   },
   {
    "duration": 11,
    "start_time": "2022-08-30T09:07:09.029Z"
   },
   {
    "duration": 11,
    "start_time": "2022-08-30T09:07:09.041Z"
   },
   {
    "duration": 48,
    "start_time": "2022-08-30T09:07:09.054Z"
   },
   {
    "duration": 3,
    "start_time": "2022-08-30T09:07:09.103Z"
   },
   {
    "duration": 8,
    "start_time": "2022-08-30T09:07:09.107Z"
   },
   {
    "duration": 13,
    "start_time": "2022-08-30T09:07:09.116Z"
   },
   {
    "duration": 4,
    "start_time": "2022-08-30T09:07:09.131Z"
   },
   {
    "duration": 5,
    "start_time": "2022-08-30T09:07:09.137Z"
   },
   {
    "duration": 4,
    "start_time": "2022-08-30T09:07:09.143Z"
   },
   {
    "duration": 5,
    "start_time": "2022-08-30T09:07:09.148Z"
   },
   {
    "duration": 2,
    "start_time": "2022-08-30T09:07:09.157Z"
   },
   {
    "duration": 4,
    "start_time": "2022-08-30T09:07:09.160Z"
   },
   {
    "duration": 207,
    "start_time": "2022-08-30T09:07:09.165Z"
   },
   {
    "duration": 0,
    "start_time": "2022-08-30T09:07:09.374Z"
   },
   {
    "duration": 0,
    "start_time": "2022-08-30T09:07:09.375Z"
   },
   {
    "duration": 0,
    "start_time": "2022-08-30T09:07:09.377Z"
   },
   {
    "duration": 0,
    "start_time": "2022-08-30T09:07:09.378Z"
   },
   {
    "duration": 0,
    "start_time": "2022-08-30T09:07:09.380Z"
   },
   {
    "duration": 0,
    "start_time": "2022-08-30T09:07:09.381Z"
   },
   {
    "duration": 0,
    "start_time": "2022-08-30T09:07:09.382Z"
   },
   {
    "duration": 0,
    "start_time": "2022-08-30T09:07:09.384Z"
   },
   {
    "duration": 24,
    "start_time": "2022-08-30T09:15:09.968Z"
   },
   {
    "duration": 21,
    "start_time": "2022-08-30T09:16:02.358Z"
   },
   {
    "duration": 18,
    "start_time": "2022-08-30T09:17:15.568Z"
   },
   {
    "duration": 16,
    "start_time": "2022-08-30T09:18:00.422Z"
   },
   {
    "duration": 17,
    "start_time": "2022-08-30T09:32:28.874Z"
   },
   {
    "duration": 16,
    "start_time": "2022-08-30T09:32:54.637Z"
   },
   {
    "duration": 13,
    "start_time": "2022-08-30T09:33:24.694Z"
   },
   {
    "duration": 66,
    "start_time": "2022-08-30T09:35:13.328Z"
   },
   {
    "duration": 6,
    "start_time": "2022-08-30T09:35:31.487Z"
   },
   {
    "duration": 16,
    "start_time": "2022-08-30T09:35:40.266Z"
   },
   {
    "duration": 15,
    "start_time": "2022-08-30T09:35:55.886Z"
   },
   {
    "duration": 13,
    "start_time": "2022-08-30T09:37:13.122Z"
   },
   {
    "duration": 15,
    "start_time": "2022-08-30T09:37:14.371Z"
   },
   {
    "duration": 12,
    "start_time": "2022-08-30T09:37:15.806Z"
   },
   {
    "duration": 14,
    "start_time": "2022-08-30T09:37:17.780Z"
   },
   {
    "duration": 14,
    "start_time": "2022-08-30T09:37:19.154Z"
   },
   {
    "duration": 57,
    "start_time": "2022-08-30T09:57:29.227Z"
   },
   {
    "duration": 46,
    "start_time": "2022-08-30T09:57:59.081Z"
   },
   {
    "duration": 8,
    "start_time": "2022-08-30T09:58:30.845Z"
   },
   {
    "duration": 395,
    "start_time": "2022-08-30T09:58:46.313Z"
   },
   {
    "duration": 160,
    "start_time": "2022-08-30T09:58:46.710Z"
   },
   {
    "duration": 9,
    "start_time": "2022-08-30T09:58:46.871Z"
   },
   {
    "duration": 36,
    "start_time": "2022-08-30T09:58:46.881Z"
   },
   {
    "duration": 3,
    "start_time": "2022-08-30T09:58:46.919Z"
   },
   {
    "duration": 17,
    "start_time": "2022-08-30T09:58:46.924Z"
   },
   {
    "duration": 16,
    "start_time": "2022-08-30T09:58:46.942Z"
   },
   {
    "duration": 7,
    "start_time": "2022-08-30T09:58:46.959Z"
   },
   {
    "duration": 31,
    "start_time": "2022-08-30T09:58:46.968Z"
   },
   {
    "duration": 19,
    "start_time": "2022-08-30T09:58:47.000Z"
   },
   {
    "duration": 19,
    "start_time": "2022-08-30T09:58:47.020Z"
   },
   {
    "duration": 79,
    "start_time": "2022-08-30T09:58:47.041Z"
   },
   {
    "duration": 67,
    "start_time": "2022-08-30T09:58:47.122Z"
   },
   {
    "duration": 58,
    "start_time": "2022-08-30T09:58:47.200Z"
   },
   {
    "duration": 53,
    "start_time": "2022-08-30T09:58:47.260Z"
   },
   {
    "duration": 11,
    "start_time": "2022-08-30T09:58:47.314Z"
   },
   {
    "duration": 45,
    "start_time": "2022-08-30T09:58:47.326Z"
   },
   {
    "duration": 10,
    "start_time": "2022-08-30T09:58:47.372Z"
   },
   {
    "duration": 14,
    "start_time": "2022-08-30T09:58:47.399Z"
   },
   {
    "duration": 3,
    "start_time": "2022-08-30T09:58:47.415Z"
   },
   {
    "duration": 27,
    "start_time": "2022-08-30T09:58:47.420Z"
   },
   {
    "duration": 12,
    "start_time": "2022-08-30T09:58:47.449Z"
   },
   {
    "duration": 37,
    "start_time": "2022-08-30T09:58:47.462Z"
   },
   {
    "duration": 17,
    "start_time": "2022-08-30T09:58:47.501Z"
   },
   {
    "duration": 16,
    "start_time": "2022-08-30T09:58:47.520Z"
   },
   {
    "duration": 15,
    "start_time": "2022-08-30T09:58:47.537Z"
   },
   {
    "duration": 100,
    "start_time": "2022-08-30T09:58:47.554Z"
   },
   {
    "duration": 0,
    "start_time": "2022-08-30T09:58:47.656Z"
   },
   {
    "duration": 0,
    "start_time": "2022-08-30T09:58:47.658Z"
   },
   {
    "duration": 0,
    "start_time": "2022-08-30T09:58:47.660Z"
   },
   {
    "duration": 0,
    "start_time": "2022-08-30T09:58:47.661Z"
   },
   {
    "duration": 0,
    "start_time": "2022-08-30T09:58:47.662Z"
   },
   {
    "duration": 0,
    "start_time": "2022-08-30T09:58:47.664Z"
   },
   {
    "duration": 0,
    "start_time": "2022-08-30T09:58:47.665Z"
   },
   {
    "duration": 0,
    "start_time": "2022-08-30T09:58:47.666Z"
   },
   {
    "duration": 0,
    "start_time": "2022-08-30T09:58:47.668Z"
   },
   {
    "duration": 0,
    "start_time": "2022-08-30T09:58:47.669Z"
   },
   {
    "duration": 0,
    "start_time": "2022-08-30T09:58:47.670Z"
   },
   {
    "duration": 8,
    "start_time": "2022-08-30T09:59:20.069Z"
   },
   {
    "duration": 7,
    "start_time": "2022-08-30T10:00:00.804Z"
   },
   {
    "duration": 7,
    "start_time": "2022-08-30T10:00:47.323Z"
   },
   {
    "duration": 8,
    "start_time": "2022-08-30T10:02:39.477Z"
   },
   {
    "duration": 7,
    "start_time": "2022-08-30T10:05:11.642Z"
   },
   {
    "duration": 14,
    "start_time": "2022-08-30T10:14:52.424Z"
   },
   {
    "duration": 13,
    "start_time": "2022-08-30T10:15:26.674Z"
   },
   {
    "duration": 13,
    "start_time": "2022-08-30T10:21:50.783Z"
   },
   {
    "duration": 17,
    "start_time": "2022-08-30T10:22:31.851Z"
   },
   {
    "duration": 19,
    "start_time": "2022-08-30T10:26:04.640Z"
   },
   {
    "duration": 8,
    "start_time": "2022-08-30T10:27:44.115Z"
   },
   {
    "duration": 8,
    "start_time": "2022-08-30T10:27:55.047Z"
   },
   {
    "duration": 352,
    "start_time": "2022-08-30T10:28:03.147Z"
   },
   {
    "duration": 149,
    "start_time": "2022-08-30T10:28:03.501Z"
   },
   {
    "duration": 7,
    "start_time": "2022-08-30T10:28:03.651Z"
   },
   {
    "duration": 27,
    "start_time": "2022-08-30T10:28:03.659Z"
   },
   {
    "duration": 11,
    "start_time": "2022-08-30T10:28:03.687Z"
   },
   {
    "duration": 3,
    "start_time": "2022-08-30T10:28:03.699Z"
   },
   {
    "duration": 13,
    "start_time": "2022-08-30T10:28:03.703Z"
   },
   {
    "duration": 11,
    "start_time": "2022-08-30T10:28:03.717Z"
   },
   {
    "duration": 27,
    "start_time": "2022-08-30T10:28:03.729Z"
   },
   {
    "duration": 14,
    "start_time": "2022-08-30T10:28:03.758Z"
   },
   {
    "duration": 34,
    "start_time": "2022-08-30T10:28:03.774Z"
   },
   {
    "duration": 59,
    "start_time": "2022-08-30T10:28:03.810Z"
   },
   {
    "duration": 83,
    "start_time": "2022-08-30T10:28:03.870Z"
   },
   {
    "duration": 60,
    "start_time": "2022-08-30T10:28:03.955Z"
   },
   {
    "duration": 37,
    "start_time": "2022-08-30T10:28:04.016Z"
   },
   {
    "duration": 9,
    "start_time": "2022-08-30T10:28:04.054Z"
   },
   {
    "duration": 54,
    "start_time": "2022-08-30T10:28:04.064Z"
   },
   {
    "duration": 10,
    "start_time": "2022-08-30T10:28:04.120Z"
   },
   {
    "duration": 12,
    "start_time": "2022-08-30T10:28:04.131Z"
   },
   {
    "duration": 4,
    "start_time": "2022-08-30T10:28:04.145Z"
   },
   {
    "duration": 27,
    "start_time": "2022-08-30T10:28:04.150Z"
   },
   {
    "duration": 20,
    "start_time": "2022-08-30T10:28:04.179Z"
   },
   {
    "duration": 12,
    "start_time": "2022-08-30T10:28:04.201Z"
   },
   {
    "duration": 11,
    "start_time": "2022-08-30T10:28:04.215Z"
   },
   {
    "duration": 15,
    "start_time": "2022-08-30T10:28:04.228Z"
   },
   {
    "duration": 13,
    "start_time": "2022-08-30T10:28:04.244Z"
   },
   {
    "duration": 8,
    "start_time": "2022-08-30T10:28:04.259Z"
   },
   {
    "duration": 2,
    "start_time": "2022-08-30T10:28:04.300Z"
   },
   {
    "duration": 4,
    "start_time": "2022-08-30T10:28:04.304Z"
   },
   {
    "duration": 316,
    "start_time": "2022-08-30T10:28:04.309Z"
   },
   {
    "duration": 0,
    "start_time": "2022-08-30T10:28:04.626Z"
   },
   {
    "duration": 0,
    "start_time": "2022-08-30T10:28:04.627Z"
   },
   {
    "duration": 0,
    "start_time": "2022-08-30T10:28:04.628Z"
   },
   {
    "duration": 0,
    "start_time": "2022-08-30T10:28:04.629Z"
   },
   {
    "duration": 0,
    "start_time": "2022-08-30T10:28:04.630Z"
   },
   {
    "duration": 0,
    "start_time": "2022-08-30T10:28:04.631Z"
   },
   {
    "duration": 0,
    "start_time": "2022-08-30T10:28:04.632Z"
   },
   {
    "duration": 1,
    "start_time": "2022-08-30T10:28:04.633Z"
   },
   {
    "duration": 7,
    "start_time": "2022-08-30T10:29:11.038Z"
   },
   {
    "duration": 14,
    "start_time": "2022-08-30T10:29:32.887Z"
   },
   {
    "duration": 21,
    "start_time": "2022-08-30T10:31:13.607Z"
   },
   {
    "duration": 65,
    "start_time": "2022-08-30T10:31:53.277Z"
   },
   {
    "duration": 27,
    "start_time": "2022-08-30T10:32:37.587Z"
   },
   {
    "duration": 32,
    "start_time": "2022-08-30T10:32:58.868Z"
   },
   {
    "duration": 132,
    "start_time": "2022-08-30T10:33:58.764Z"
   },
   {
    "duration": 62,
    "start_time": "2022-08-30T10:34:37.327Z"
   },
   {
    "duration": 81,
    "start_time": "2022-08-30T10:35:01.918Z"
   },
   {
    "duration": 59,
    "start_time": "2022-08-30T10:38:12.775Z"
   },
   {
    "duration": 49,
    "start_time": "2022-08-30T10:38:56.897Z"
   },
   {
    "duration": 79,
    "start_time": "2022-08-30T10:40:48.027Z"
   },
   {
    "duration": 6,
    "start_time": "2022-08-30T10:41:29.621Z"
   },
   {
    "duration": 52,
    "start_time": "2022-08-30T10:45:45.653Z"
   },
   {
    "duration": 9,
    "start_time": "2022-08-30T10:46:01.194Z"
   },
   {
    "duration": 86,
    "start_time": "2022-08-30T10:46:05.778Z"
   },
   {
    "duration": 9,
    "start_time": "2022-08-30T10:46:12.825Z"
   },
   {
    "duration": 4,
    "start_time": "2022-08-30T11:06:43.945Z"
   },
   {
    "duration": 4,
    "start_time": "2022-08-30T11:06:52.258Z"
   },
   {
    "duration": 5,
    "start_time": "2022-08-30T11:10:56.705Z"
   },
   {
    "duration": 4,
    "start_time": "2022-08-30T11:12:19.510Z"
   },
   {
    "duration": 9,
    "start_time": "2022-08-30T11:13:52.733Z"
   },
   {
    "duration": 9,
    "start_time": "2022-08-30T11:15:49.514Z"
   },
   {
    "duration": 378,
    "start_time": "2022-08-30T11:18:52.009Z"
   },
   {
    "duration": 148,
    "start_time": "2022-08-30T11:18:52.389Z"
   },
   {
    "duration": 9,
    "start_time": "2022-08-30T11:18:52.539Z"
   },
   {
    "duration": 24,
    "start_time": "2022-08-30T11:18:52.550Z"
   },
   {
    "duration": 2,
    "start_time": "2022-08-30T11:18:52.576Z"
   },
   {
    "duration": 5,
    "start_time": "2022-08-30T11:18:52.579Z"
   },
   {
    "duration": 10,
    "start_time": "2022-08-30T11:18:52.598Z"
   },
   {
    "duration": 5,
    "start_time": "2022-08-30T11:18:52.610Z"
   },
   {
    "duration": 25,
    "start_time": "2022-08-30T11:18:52.616Z"
   },
   {
    "duration": 13,
    "start_time": "2022-08-30T11:18:52.642Z"
   },
   {
    "duration": 18,
    "start_time": "2022-08-30T11:18:52.656Z"
   },
   {
    "duration": 58,
    "start_time": "2022-08-30T11:18:52.698Z"
   },
   {
    "duration": 76,
    "start_time": "2022-08-30T11:18:52.758Z"
   },
   {
    "duration": 64,
    "start_time": "2022-08-30T11:18:52.837Z"
   },
   {
    "duration": 44,
    "start_time": "2022-08-30T11:18:52.903Z"
   },
   {
    "duration": 12,
    "start_time": "2022-08-30T11:18:52.949Z"
   },
   {
    "duration": 62,
    "start_time": "2022-08-30T11:18:52.962Z"
   },
   {
    "duration": 13,
    "start_time": "2022-08-30T11:18:53.026Z"
   },
   {
    "duration": 11,
    "start_time": "2022-08-30T11:18:53.040Z"
   },
   {
    "duration": 4,
    "start_time": "2022-08-30T11:18:53.052Z"
   },
   {
    "duration": 17,
    "start_time": "2022-08-30T11:18:53.057Z"
   },
   {
    "duration": 37,
    "start_time": "2022-08-30T11:18:53.075Z"
   },
   {
    "duration": 19,
    "start_time": "2022-08-30T11:18:53.113Z"
   },
   {
    "duration": 12,
    "start_time": "2022-08-30T11:18:53.133Z"
   },
   {
    "duration": 15,
    "start_time": "2022-08-30T11:18:53.146Z"
   },
   {
    "duration": 11,
    "start_time": "2022-08-30T11:18:53.162Z"
   },
   {
    "duration": 12,
    "start_time": "2022-08-30T11:18:53.198Z"
   },
   {
    "duration": 12,
    "start_time": "2022-08-30T11:18:53.213Z"
   },
   {
    "duration": 9,
    "start_time": "2022-08-30T11:18:53.227Z"
   },
   {
    "duration": 4,
    "start_time": "2022-08-30T11:18:53.238Z"
   },
   {
    "duration": 13,
    "start_time": "2022-08-30T11:18:53.243Z"
   },
   {
    "duration": 10,
    "start_time": "2022-08-30T11:18:53.257Z"
   },
   {
    "duration": 12,
    "start_time": "2022-08-30T11:18:53.268Z"
   },
   {
    "duration": 4,
    "start_time": "2022-08-30T11:18:53.282Z"
   },
   {
    "duration": 10,
    "start_time": "2022-08-30T11:18:53.288Z"
   },
   {
    "duration": 20,
    "start_time": "2022-08-30T11:18:53.299Z"
   },
   {
    "duration": 4,
    "start_time": "2022-08-30T11:18:53.320Z"
   },
   {
    "duration": 5,
    "start_time": "2022-08-30T11:18:53.325Z"
   },
   {
    "duration": 78,
    "start_time": "2022-08-30T11:21:59.478Z"
   },
   {
    "duration": 6,
    "start_time": "2022-08-30T11:22:54.466Z"
   },
   {
    "duration": 16,
    "start_time": "2022-08-30T11:23:16.290Z"
   },
   {
    "duration": 16,
    "start_time": "2022-08-30T11:24:17.896Z"
   },
   {
    "duration": 10,
    "start_time": "2022-08-30T11:25:11.276Z"
   },
   {
    "duration": 9,
    "start_time": "2022-08-30T11:27:32.887Z"
   },
   {
    "duration": 8,
    "start_time": "2022-08-30T11:27:56.023Z"
   },
   {
    "duration": 9,
    "start_time": "2022-08-30T11:29:39.391Z"
   },
   {
    "duration": 17,
    "start_time": "2022-08-30T11:31:02.981Z"
   },
   {
    "duration": 11,
    "start_time": "2022-08-30T11:31:07.167Z"
   },
   {
    "duration": 7,
    "start_time": "2022-08-30T11:32:11.032Z"
   },
   {
    "duration": 9,
    "start_time": "2022-08-30T11:32:33.015Z"
   },
   {
    "duration": 14,
    "start_time": "2022-08-30T11:32:50.917Z"
   },
   {
    "duration": 14,
    "start_time": "2022-08-30T11:32:53.437Z"
   },
   {
    "duration": 16,
    "start_time": "2022-08-30T11:34:47.119Z"
   },
   {
    "duration": 10,
    "start_time": "2022-08-30T11:34:51.078Z"
   },
   {
    "duration": 14,
    "start_time": "2022-08-30T11:41:58.765Z"
   },
   {
    "duration": 13,
    "start_time": "2022-08-30T11:42:45.115Z"
   },
   {
    "duration": 10,
    "start_time": "2022-08-30T11:42:46.103Z"
   },
   {
    "duration": 15,
    "start_time": "2022-08-30T11:42:46.851Z"
   },
   {
    "duration": 11,
    "start_time": "2022-08-30T11:42:47.535Z"
   },
   {
    "duration": 15,
    "start_time": "2022-08-30T11:47:41.987Z"
   },
   {
    "duration": 46,
    "start_time": "2022-08-30T11:51:11.225Z"
   },
   {
    "duration": 11,
    "start_time": "2022-08-30T11:51:26.909Z"
   },
   {
    "duration": 415,
    "start_time": "2022-08-30T11:53:34.319Z"
   },
   {
    "duration": 157,
    "start_time": "2022-08-30T11:53:34.736Z"
   },
   {
    "duration": 11,
    "start_time": "2022-08-30T11:53:34.895Z"
   },
   {
    "duration": 28,
    "start_time": "2022-08-30T11:53:34.908Z"
   },
   {
    "duration": 8,
    "start_time": "2022-08-30T11:53:34.937Z"
   },
   {
    "duration": 7,
    "start_time": "2022-08-30T11:53:34.946Z"
   },
   {
    "duration": 13,
    "start_time": "2022-08-30T11:53:34.955Z"
   },
   {
    "duration": 7,
    "start_time": "2022-08-30T11:53:34.969Z"
   },
   {
    "duration": 23,
    "start_time": "2022-08-30T11:53:34.998Z"
   },
   {
    "duration": 23,
    "start_time": "2022-08-30T11:53:35.024Z"
   },
   {
    "duration": 18,
    "start_time": "2022-08-30T11:53:35.048Z"
   },
   {
    "duration": 70,
    "start_time": "2022-08-30T11:53:35.068Z"
   },
   {
    "duration": 75,
    "start_time": "2022-08-30T11:53:35.140Z"
   },
   {
    "duration": 58,
    "start_time": "2022-08-30T11:53:35.217Z"
   },
   {
    "duration": 53,
    "start_time": "2022-08-30T11:53:35.276Z"
   },
   {
    "duration": 9,
    "start_time": "2022-08-30T11:53:35.330Z"
   },
   {
    "duration": 90,
    "start_time": "2022-08-30T11:53:35.341Z"
   },
   {
    "duration": 10,
    "start_time": "2022-08-30T11:53:35.432Z"
   },
   {
    "duration": 23,
    "start_time": "2022-08-30T11:53:35.444Z"
   },
   {
    "duration": 13,
    "start_time": "2022-08-30T11:53:35.468Z"
   },
   {
    "duration": 27,
    "start_time": "2022-08-30T11:53:35.482Z"
   },
   {
    "duration": 13,
    "start_time": "2022-08-30T11:53:35.510Z"
   },
   {
    "duration": 11,
    "start_time": "2022-08-30T11:53:35.525Z"
   },
   {
    "duration": 23,
    "start_time": "2022-08-30T11:53:35.538Z"
   },
   {
    "duration": 15,
    "start_time": "2022-08-30T11:53:35.562Z"
   },
   {
    "duration": 23,
    "start_time": "2022-08-30T11:53:35.578Z"
   },
   {
    "duration": 5,
    "start_time": "2022-08-30T11:53:35.603Z"
   },
   {
    "duration": 13,
    "start_time": "2022-08-30T11:53:35.612Z"
   },
   {
    "duration": 9,
    "start_time": "2022-08-30T11:53:35.626Z"
   },
   {
    "duration": 4,
    "start_time": "2022-08-30T11:53:35.637Z"
   },
   {
    "duration": 21,
    "start_time": "2022-08-30T11:53:35.643Z"
   },
   {
    "duration": 37,
    "start_time": "2022-08-30T11:53:35.666Z"
   },
   {
    "duration": 16,
    "start_time": "2022-08-30T11:53:35.705Z"
   },
   {
    "duration": 11,
    "start_time": "2022-08-30T11:53:35.723Z"
   },
   {
    "duration": 3,
    "start_time": "2022-08-30T11:53:35.738Z"
   },
   {
    "duration": 4,
    "start_time": "2022-08-30T11:53:35.742Z"
   },
   {
    "duration": 4,
    "start_time": "2022-08-30T11:53:35.747Z"
   },
   {
    "duration": 4,
    "start_time": "2022-08-30T11:53:35.752Z"
   },
   {
    "duration": 79,
    "start_time": "2022-08-30T12:05:19.308Z"
   },
   {
    "duration": 49,
    "start_time": "2022-08-30T12:05:43.291Z"
   },
   {
    "duration": 58,
    "start_time": "2022-08-30T12:05:43.974Z"
   },
   {
    "duration": 123,
    "start_time": "2022-08-30T12:05:44.402Z"
   },
   {
    "duration": 19,
    "start_time": "2022-08-30T12:06:24.576Z"
   },
   {
    "duration": 11,
    "start_time": "2022-08-30T12:07:08.784Z"
   },
   {
    "duration": 16,
    "start_time": "2022-08-30T12:07:12.775Z"
   },
   {
    "duration": 12,
    "start_time": "2022-08-30T12:07:16.168Z"
   },
   {
    "duration": 85,
    "start_time": "2022-08-30T12:21:14.437Z"
   },
   {
    "duration": 16,
    "start_time": "2022-08-30T12:21:38.624Z"
   },
   {
    "duration": 16,
    "start_time": "2022-08-30T12:21:53.509Z"
   },
   {
    "duration": 14,
    "start_time": "2022-08-30T12:22:03.497Z"
   },
   {
    "duration": 5,
    "start_time": "2022-08-30T12:33:52.673Z"
   },
   {
    "duration": 15,
    "start_time": "2022-08-30T12:33:59.741Z"
   },
   {
    "duration": 12,
    "start_time": "2022-08-30T12:34:04.154Z"
   },
   {
    "duration": 18,
    "start_time": "2022-08-30T12:34:08.439Z"
   },
   {
    "duration": 11,
    "start_time": "2022-08-30T12:34:12.788Z"
   },
   {
    "duration": 5,
    "start_time": "2022-08-30T12:35:12.964Z"
   },
   {
    "duration": 14,
    "start_time": "2022-08-30T12:35:17.332Z"
   },
   {
    "duration": 5,
    "start_time": "2022-08-30T12:35:50.821Z"
   },
   {
    "duration": 378,
    "start_time": "2022-08-30T12:35:57.420Z"
   },
   {
    "duration": 148,
    "start_time": "2022-08-30T12:35:57.800Z"
   },
   {
    "duration": 9,
    "start_time": "2022-08-30T12:35:57.950Z"
   },
   {
    "duration": 33,
    "start_time": "2022-08-30T12:35:57.961Z"
   },
   {
    "duration": 2,
    "start_time": "2022-08-30T12:35:57.998Z"
   },
   {
    "duration": 16,
    "start_time": "2022-08-30T12:35:58.001Z"
   },
   {
    "duration": 14,
    "start_time": "2022-08-30T12:35:58.018Z"
   },
   {
    "duration": 5,
    "start_time": "2022-08-30T12:35:58.034Z"
   },
   {
    "duration": 24,
    "start_time": "2022-08-30T12:35:58.040Z"
   },
   {
    "duration": 13,
    "start_time": "2022-08-30T12:35:58.065Z"
   },
   {
    "duration": 27,
    "start_time": "2022-08-30T12:35:58.080Z"
   },
   {
    "duration": 59,
    "start_time": "2022-08-30T12:35:58.108Z"
   },
   {
    "duration": 68,
    "start_time": "2022-08-30T12:35:58.169Z"
   },
   {
    "duration": 64,
    "start_time": "2022-08-30T12:35:58.239Z"
   },
   {
    "duration": 35,
    "start_time": "2022-08-30T12:35:58.305Z"
   },
   {
    "duration": 9,
    "start_time": "2022-08-30T12:35:58.342Z"
   },
   {
    "duration": 49,
    "start_time": "2022-08-30T12:35:58.353Z"
   },
   {
    "duration": 10,
    "start_time": "2022-08-30T12:35:58.403Z"
   },
   {
    "duration": 10,
    "start_time": "2022-08-30T12:35:58.414Z"
   },
   {
    "duration": 3,
    "start_time": "2022-08-30T12:35:58.425Z"
   },
   {
    "duration": 18,
    "start_time": "2022-08-30T12:35:58.429Z"
   },
   {
    "duration": 11,
    "start_time": "2022-08-30T12:35:58.448Z"
   },
   {
    "duration": 42,
    "start_time": "2022-08-30T12:35:58.460Z"
   },
   {
    "duration": 11,
    "start_time": "2022-08-30T12:35:58.503Z"
   },
   {
    "duration": 14,
    "start_time": "2022-08-30T12:35:58.515Z"
   },
   {
    "duration": 11,
    "start_time": "2022-08-30T12:35:58.530Z"
   },
   {
    "duration": 6,
    "start_time": "2022-08-30T12:35:58.542Z"
   },
   {
    "duration": 10,
    "start_time": "2022-08-30T12:35:58.549Z"
   },
   {
    "duration": 9,
    "start_time": "2022-08-30T12:35:58.560Z"
   },
   {
    "duration": 30,
    "start_time": "2022-08-30T12:35:58.570Z"
   },
   {
    "duration": 23,
    "start_time": "2022-08-30T12:35:58.602Z"
   },
   {
    "duration": 8,
    "start_time": "2022-08-30T12:35:58.626Z"
   },
   {
    "duration": 15,
    "start_time": "2022-08-30T12:35:58.635Z"
   },
   {
    "duration": 10,
    "start_time": "2022-08-30T12:35:58.651Z"
   },
   {
    "duration": 2,
    "start_time": "2022-08-30T12:35:58.662Z"
   },
   {
    "duration": 9,
    "start_time": "2022-08-30T12:35:58.665Z"
   },
   {
    "duration": 25,
    "start_time": "2022-08-30T12:35:58.675Z"
   },
   {
    "duration": 4,
    "start_time": "2022-08-30T12:35:58.701Z"
   },
   {
    "duration": 54,
    "start_time": "2022-08-30T13:39:38.107Z"
   },
   {
    "duration": 42,
    "start_time": "2022-08-30T13:39:53.489Z"
   },
   {
    "duration": 62,
    "start_time": "2022-08-30T13:39:59.408Z"
   },
   {
    "duration": 11,
    "start_time": "2022-08-30T13:40:35.449Z"
   },
   {
    "duration": 67,
    "start_time": "2022-08-30T13:43:08.373Z"
   },
   {
    "duration": 6,
    "start_time": "2022-08-30T13:44:35.388Z"
   },
   {
    "duration": 387,
    "start_time": "2022-08-30T13:45:13.809Z"
   },
   {
    "duration": 154,
    "start_time": "2022-08-30T13:45:14.198Z"
   },
   {
    "duration": 7,
    "start_time": "2022-08-30T13:45:14.356Z"
   },
   {
    "duration": 33,
    "start_time": "2022-08-30T13:45:14.365Z"
   },
   {
    "duration": 3,
    "start_time": "2022-08-30T13:45:14.400Z"
   },
   {
    "duration": 9,
    "start_time": "2022-08-30T13:45:14.405Z"
   },
   {
    "duration": 16,
    "start_time": "2022-08-30T13:45:14.415Z"
   },
   {
    "duration": 10,
    "start_time": "2022-08-30T13:45:14.433Z"
   },
   {
    "duration": 38,
    "start_time": "2022-08-30T13:45:14.445Z"
   },
   {
    "duration": 28,
    "start_time": "2022-08-30T13:45:14.487Z"
   },
   {
    "duration": 27,
    "start_time": "2022-08-30T13:45:14.517Z"
   },
   {
    "duration": 91,
    "start_time": "2022-08-30T13:45:14.546Z"
   },
   {
    "duration": 68,
    "start_time": "2022-08-30T13:45:14.639Z"
   },
   {
    "duration": 54,
    "start_time": "2022-08-30T13:45:14.709Z"
   },
   {
    "duration": 49,
    "start_time": "2022-08-30T13:45:14.765Z"
   },
   {
    "duration": 8,
    "start_time": "2022-08-30T13:45:14.816Z"
   },
   {
    "duration": 44,
    "start_time": "2022-08-30T13:45:14.825Z"
   },
   {
    "duration": 10,
    "start_time": "2022-08-30T13:45:14.870Z"
   },
   {
    "duration": 26,
    "start_time": "2022-08-30T13:45:14.881Z"
   },
   {
    "duration": 5,
    "start_time": "2022-08-30T13:45:14.909Z"
   },
   {
    "duration": 20,
    "start_time": "2022-08-30T13:45:14.915Z"
   },
   {
    "duration": 16,
    "start_time": "2022-08-30T13:45:14.936Z"
   },
   {
    "duration": 15,
    "start_time": "2022-08-30T13:45:14.954Z"
   },
   {
    "duration": 41,
    "start_time": "2022-08-30T13:45:14.970Z"
   },
   {
    "duration": 14,
    "start_time": "2022-08-30T13:45:15.012Z"
   },
   {
    "duration": 23,
    "start_time": "2022-08-30T13:45:15.028Z"
   },
   {
    "duration": 23,
    "start_time": "2022-08-30T13:45:15.053Z"
   },
   {
    "duration": 19,
    "start_time": "2022-08-30T13:45:15.079Z"
   },
   {
    "duration": 10,
    "start_time": "2022-08-30T13:45:15.100Z"
   },
   {
    "duration": 5,
    "start_time": "2022-08-30T13:45:15.112Z"
   },
   {
    "duration": 19,
    "start_time": "2022-08-30T13:45:15.118Z"
   },
   {
    "duration": 11,
    "start_time": "2022-08-30T13:45:15.139Z"
   },
   {
    "duration": 21,
    "start_time": "2022-08-30T13:45:15.152Z"
   },
   {
    "duration": 10,
    "start_time": "2022-08-30T13:45:15.198Z"
   },
   {
    "duration": 20,
    "start_time": "2022-08-30T13:45:15.210Z"
   },
   {
    "duration": 3,
    "start_time": "2022-08-30T13:45:15.231Z"
   },
   {
    "duration": 15,
    "start_time": "2022-08-30T13:45:15.236Z"
   },
   {
    "duration": 10,
    "start_time": "2022-08-30T13:45:15.253Z"
   },
   {
    "duration": 8,
    "start_time": "2022-08-30T13:45:48.259Z"
   },
   {
    "duration": 8,
    "start_time": "2022-08-30T13:46:39.746Z"
   },
   {
    "duration": 5,
    "start_time": "2022-08-30T13:48:14.488Z"
   },
   {
    "duration": 379,
    "start_time": "2022-08-30T13:49:12.022Z"
   },
   {
    "duration": 155,
    "start_time": "2022-08-30T13:49:12.405Z"
   },
   {
    "duration": 8,
    "start_time": "2022-08-30T13:49:12.562Z"
   },
   {
    "duration": 38,
    "start_time": "2022-08-30T13:49:12.573Z"
   },
   {
    "duration": 3,
    "start_time": "2022-08-30T13:49:12.613Z"
   },
   {
    "duration": 5,
    "start_time": "2022-08-30T13:49:12.617Z"
   },
   {
    "duration": 19,
    "start_time": "2022-08-30T13:49:12.624Z"
   },
   {
    "duration": 12,
    "start_time": "2022-08-30T13:49:12.645Z"
   },
   {
    "duration": 30,
    "start_time": "2022-08-30T13:49:12.659Z"
   },
   {
    "duration": 20,
    "start_time": "2022-08-30T13:49:12.691Z"
   },
   {
    "duration": 25,
    "start_time": "2022-08-30T13:49:12.712Z"
   },
   {
    "duration": 78,
    "start_time": "2022-08-30T13:49:12.738Z"
   },
   {
    "duration": 81,
    "start_time": "2022-08-30T13:49:12.817Z"
   },
   {
    "duration": 55,
    "start_time": "2022-08-30T13:49:12.900Z"
   },
   {
    "duration": 49,
    "start_time": "2022-08-30T13:49:12.957Z"
   },
   {
    "duration": 9,
    "start_time": "2022-08-30T13:49:13.007Z"
   },
   {
    "duration": 42,
    "start_time": "2022-08-30T13:49:13.017Z"
   },
   {
    "duration": 10,
    "start_time": "2022-08-30T13:49:13.060Z"
   },
   {
    "duration": 28,
    "start_time": "2022-08-30T13:49:13.071Z"
   },
   {
    "duration": 4,
    "start_time": "2022-08-30T13:49:13.100Z"
   },
   {
    "duration": 23,
    "start_time": "2022-08-30T13:49:13.106Z"
   },
   {
    "duration": 14,
    "start_time": "2022-08-30T13:49:13.131Z"
   },
   {
    "duration": 14,
    "start_time": "2022-08-30T13:49:13.147Z"
   },
   {
    "duration": 41,
    "start_time": "2022-08-30T13:49:13.162Z"
   },
   {
    "duration": 17,
    "start_time": "2022-08-30T13:49:13.205Z"
   },
   {
    "duration": 15,
    "start_time": "2022-08-30T13:49:13.224Z"
   },
   {
    "duration": 7,
    "start_time": "2022-08-30T13:49:13.241Z"
   },
   {
    "duration": 17,
    "start_time": "2022-08-30T13:49:13.251Z"
   },
   {
    "duration": 35,
    "start_time": "2022-08-30T13:49:13.270Z"
   },
   {
    "duration": 5,
    "start_time": "2022-08-30T13:49:13.307Z"
   },
   {
    "duration": 22,
    "start_time": "2022-08-30T13:49:13.314Z"
   },
   {
    "duration": 10,
    "start_time": "2022-08-30T13:49:13.338Z"
   },
   {
    "duration": 18,
    "start_time": "2022-08-30T13:49:13.349Z"
   },
   {
    "duration": 31,
    "start_time": "2022-08-30T13:49:13.368Z"
   },
   {
    "duration": 8,
    "start_time": "2022-08-30T13:49:13.400Z"
   },
   {
    "duration": 3,
    "start_time": "2022-08-30T13:49:13.410Z"
   },
   {
    "duration": 8,
    "start_time": "2022-08-30T13:49:13.415Z"
   },
   {
    "duration": 7,
    "start_time": "2022-08-30T13:49:13.424Z"
   },
   {
    "duration": 405,
    "start_time": "2022-08-30T13:52:10.408Z"
   },
   {
    "duration": 153,
    "start_time": "2022-08-30T13:52:10.815Z"
   },
   {
    "duration": 8,
    "start_time": "2022-08-30T13:52:10.970Z"
   },
   {
    "duration": 32,
    "start_time": "2022-08-30T13:52:10.980Z"
   },
   {
    "duration": 2,
    "start_time": "2022-08-30T13:52:11.015Z"
   },
   {
    "duration": 9,
    "start_time": "2022-08-30T13:52:11.018Z"
   },
   {
    "duration": 13,
    "start_time": "2022-08-30T13:52:11.028Z"
   },
   {
    "duration": 4,
    "start_time": "2022-08-30T13:52:11.043Z"
   },
   {
    "duration": 28,
    "start_time": "2022-08-30T13:52:11.049Z"
   },
   {
    "duration": 15,
    "start_time": "2022-08-30T13:52:11.100Z"
   },
   {
    "duration": 20,
    "start_time": "2022-08-30T13:52:11.116Z"
   },
   {
    "duration": 76,
    "start_time": "2022-08-30T13:52:11.138Z"
   },
   {
    "duration": 67,
    "start_time": "2022-08-30T13:52:11.216Z"
   },
   {
    "duration": 70,
    "start_time": "2022-08-30T13:52:11.284Z"
   },
   {
    "duration": 50,
    "start_time": "2022-08-30T13:52:11.356Z"
   },
   {
    "duration": 9,
    "start_time": "2022-08-30T13:52:11.408Z"
   },
   {
    "duration": 39,
    "start_time": "2022-08-30T13:52:11.418Z"
   },
   {
    "duration": 11,
    "start_time": "2022-08-30T13:52:11.459Z"
   },
   {
    "duration": 34,
    "start_time": "2022-08-30T13:52:11.472Z"
   },
   {
    "duration": 5,
    "start_time": "2022-08-30T13:52:11.509Z"
   },
   {
    "duration": 20,
    "start_time": "2022-08-30T13:52:11.515Z"
   },
   {
    "duration": 14,
    "start_time": "2022-08-30T13:52:11.537Z"
   },
   {
    "duration": 12,
    "start_time": "2022-08-30T13:52:11.553Z"
   },
   {
    "duration": 43,
    "start_time": "2022-08-30T13:52:11.567Z"
   },
   {
    "duration": 18,
    "start_time": "2022-08-30T13:52:11.611Z"
   },
   {
    "duration": 13,
    "start_time": "2022-08-30T13:52:11.630Z"
   },
   {
    "duration": 6,
    "start_time": "2022-08-30T13:52:11.645Z"
   },
   {
    "duration": 10,
    "start_time": "2022-08-30T13:52:11.653Z"
   },
   {
    "duration": 34,
    "start_time": "2022-08-30T13:52:11.664Z"
   },
   {
    "duration": 4,
    "start_time": "2022-08-30T13:52:11.700Z"
   },
   {
    "duration": 32,
    "start_time": "2022-08-30T13:52:11.705Z"
   },
   {
    "duration": 9,
    "start_time": "2022-08-30T13:52:11.739Z"
   },
   {
    "duration": 14,
    "start_time": "2022-08-30T13:52:11.750Z"
   },
   {
    "duration": 10,
    "start_time": "2022-08-30T13:52:11.766Z"
   },
   {
    "duration": 26,
    "start_time": "2022-08-30T13:52:11.777Z"
   },
   {
    "duration": 3,
    "start_time": "2022-08-30T13:52:11.804Z"
   },
   {
    "duration": 14,
    "start_time": "2022-08-30T13:52:11.809Z"
   },
   {
    "duration": 2,
    "start_time": "2022-08-30T13:52:11.824Z"
   },
   {
    "duration": 8,
    "start_time": "2022-08-30T13:53:11.214Z"
   },
   {
    "duration": 47,
    "start_time": "2022-09-05T16:42:46.744Z"
   },
   {
    "duration": 381,
    "start_time": "2022-09-05T16:43:04.786Z"
   },
   {
    "duration": 250,
    "start_time": "2022-09-05T16:43:05.169Z"
   },
   {
    "duration": 8,
    "start_time": "2022-09-05T16:43:05.420Z"
   },
   {
    "duration": 26,
    "start_time": "2022-09-05T16:43:05.429Z"
   },
   {
    "duration": 2,
    "start_time": "2022-09-05T16:43:05.457Z"
   },
   {
    "duration": 7,
    "start_time": "2022-09-05T16:43:05.461Z"
   },
   {
    "duration": 14,
    "start_time": "2022-09-05T16:43:05.470Z"
   },
   {
    "duration": 6,
    "start_time": "2022-09-05T16:43:05.486Z"
   },
   {
    "duration": 29,
    "start_time": "2022-09-05T16:43:05.493Z"
   },
   {
    "duration": 42,
    "start_time": "2022-09-05T16:43:05.523Z"
   },
   {
    "duration": 21,
    "start_time": "2022-09-05T16:43:05.567Z"
   },
   {
    "duration": 85,
    "start_time": "2022-09-05T16:43:05.590Z"
   },
   {
    "duration": 80,
    "start_time": "2022-09-05T16:43:05.677Z"
   },
   {
    "duration": 61,
    "start_time": "2022-09-05T16:43:05.761Z"
   },
   {
    "duration": 59,
    "start_time": "2022-09-05T16:43:05.824Z"
   },
   {
    "duration": 10,
    "start_time": "2022-09-05T16:43:05.884Z"
   },
   {
    "duration": 35,
    "start_time": "2022-09-05T16:43:05.896Z"
   },
   {
    "duration": 28,
    "start_time": "2022-09-05T16:43:05.933Z"
   },
   {
    "duration": 11,
    "start_time": "2022-09-05T16:43:05.963Z"
   },
   {
    "duration": 4,
    "start_time": "2022-09-05T16:43:05.975Z"
   },
   {
    "duration": 18,
    "start_time": "2022-09-05T16:43:05.981Z"
   },
   {
    "duration": 14,
    "start_time": "2022-09-05T16:43:06.001Z"
   },
   {
    "duration": 48,
    "start_time": "2022-09-05T16:43:06.017Z"
   },
   {
    "duration": 14,
    "start_time": "2022-09-05T16:43:06.067Z"
   },
   {
    "duration": 16,
    "start_time": "2022-09-05T16:43:06.083Z"
   },
   {
    "duration": 15,
    "start_time": "2022-09-05T16:43:06.100Z"
   },
   {
    "duration": 6,
    "start_time": "2022-09-05T16:43:06.117Z"
   },
   {
    "duration": 45,
    "start_time": "2022-09-05T16:43:06.124Z"
   },
   {
    "duration": 10,
    "start_time": "2022-09-05T16:43:06.171Z"
   },
   {
    "duration": 10,
    "start_time": "2022-09-05T16:43:06.183Z"
   },
   {
    "duration": 21,
    "start_time": "2022-09-05T16:43:06.194Z"
   },
   {
    "duration": 12,
    "start_time": "2022-09-05T16:43:06.217Z"
   },
   {
    "duration": 41,
    "start_time": "2022-09-05T16:43:06.231Z"
   },
   {
    "duration": 11,
    "start_time": "2022-09-05T16:43:06.274Z"
   },
   {
    "duration": 8,
    "start_time": "2022-09-05T16:43:06.286Z"
   },
   {
    "duration": 3,
    "start_time": "2022-09-05T16:43:06.296Z"
   },
   {
    "duration": 7,
    "start_time": "2022-09-05T16:43:06.301Z"
   },
   {
    "duration": 7,
    "start_time": "2022-09-05T16:43:06.309Z"
   },
   {
    "duration": 370,
    "start_time": "2022-09-08T12:11:03.948Z"
   },
   {
    "duration": 253,
    "start_time": "2022-09-08T12:11:04.320Z"
   },
   {
    "duration": 9,
    "start_time": "2022-09-08T12:11:04.575Z"
   },
   {
    "duration": 60,
    "start_time": "2022-09-08T12:11:04.587Z"
   },
   {
    "duration": 3,
    "start_time": "2022-09-08T12:11:04.649Z"
   },
   {
    "duration": 28,
    "start_time": "2022-09-08T12:11:04.654Z"
   },
   {
    "duration": 19,
    "start_time": "2022-09-08T12:11:04.683Z"
   },
   {
    "duration": 6,
    "start_time": "2022-09-08T12:11:04.704Z"
   },
   {
    "duration": 26,
    "start_time": "2022-09-08T12:11:04.712Z"
   },
   {
    "duration": 14,
    "start_time": "2022-09-08T12:11:04.740Z"
   },
   {
    "duration": 21,
    "start_time": "2022-09-08T12:11:04.756Z"
   },
   {
    "duration": 87,
    "start_time": "2022-09-08T12:11:04.778Z"
   },
   {
    "duration": 74,
    "start_time": "2022-09-08T12:11:04.867Z"
   },
   {
    "duration": 57,
    "start_time": "2022-09-08T12:11:04.943Z"
   },
   {
    "duration": 40,
    "start_time": "2022-09-08T12:11:05.009Z"
   },
   {
    "duration": 23,
    "start_time": "2022-09-08T12:11:05.051Z"
   },
   {
    "duration": 46,
    "start_time": "2022-09-08T12:11:05.076Z"
   },
   {
    "duration": 11,
    "start_time": "2022-09-08T12:11:05.124Z"
   },
   {
    "duration": 11,
    "start_time": "2022-09-08T12:11:05.137Z"
   },
   {
    "duration": 7,
    "start_time": "2022-09-08T12:11:05.150Z"
   },
   {
    "duration": 24,
    "start_time": "2022-09-08T12:11:05.158Z"
   },
   {
    "duration": 34,
    "start_time": "2022-09-08T12:11:05.183Z"
   },
   {
    "duration": 24,
    "start_time": "2022-09-08T12:11:05.218Z"
   },
   {
    "duration": 29,
    "start_time": "2022-09-08T12:11:05.245Z"
   },
   {
    "duration": 22,
    "start_time": "2022-09-08T12:11:05.276Z"
   },
   {
    "duration": 23,
    "start_time": "2022-09-08T12:11:05.308Z"
   },
   {
    "duration": 7,
    "start_time": "2022-09-08T12:11:05.333Z"
   },
   {
    "duration": 13,
    "start_time": "2022-09-08T12:11:05.343Z"
   },
   {
    "duration": 17,
    "start_time": "2022-09-08T12:11:05.358Z"
   },
   {
    "duration": 34,
    "start_time": "2022-09-08T12:11:05.377Z"
   },
   {
    "duration": 21,
    "start_time": "2022-09-08T12:11:05.412Z"
   },
   {
    "duration": 10,
    "start_time": "2022-09-08T12:11:05.434Z"
   },
   {
    "duration": 17,
    "start_time": "2022-09-08T12:11:05.445Z"
   },
   {
    "duration": 15,
    "start_time": "2022-09-08T12:11:05.463Z"
   },
   {
    "duration": 34,
    "start_time": "2022-09-08T12:11:05.480Z"
   },
   {
    "duration": 10,
    "start_time": "2022-09-08T12:11:05.516Z"
   },
   {
    "duration": 14,
    "start_time": "2022-09-08T12:11:05.527Z"
   },
   {
    "duration": 11,
    "start_time": "2022-09-08T12:11:05.542Z"
   }
  ],
  "colab": {
   "collapsed_sections": [
    "E0vqbgi9ay0H",
    "VUC88oWjTJw2"
   ],
   "name": "automatization_template_upd4.ipynb",
   "provenance": []
  },
  "kernelspec": {
   "display_name": "Python 3 (ipykernel)",
   "language": "python",
   "name": "python3"
  },
  "language_info": {
   "codemirror_mode": {
    "name": "ipython",
    "version": 3
   },
   "file_extension": ".py",
   "mimetype": "text/x-python",
   "name": "python",
   "nbconvert_exporter": "python",
   "pygments_lexer": "ipython3",
   "version": "3.9.12"
  },
  "toc": {
   "base_numbering": 1,
   "nav_menu": {
    "height": "215px",
    "width": "403px"
   },
   "number_sections": true,
   "sideBar": true,
   "skip_h1_title": true,
   "title_cell": "Table of Contents",
   "title_sidebar": "Contents",
   "toc_cell": false,
   "toc_position": {
    "height": "calc(100% - 180px)",
    "left": "10px",
    "top": "150px",
    "width": "285.825px"
   },
   "toc_section_display": true,
   "toc_window_display": false
  }
 },
 "nbformat": 4,
 "nbformat_minor": 1
}
