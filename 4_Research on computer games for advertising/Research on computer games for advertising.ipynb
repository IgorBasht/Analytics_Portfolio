{
 "cells": [
  {
   "cell_type": "markdown",
   "metadata": {},
   "source": [
    "<div class=\"alert alert-info\">\n",
    "<font size=\"3\"><b>✔️Комментарий ревьюера ✔️</b></font>\n",
    "\n",
    "\n",
    "Привет, Игорь! Спасибо, что отправил задание. Меня зовут Ольга Комисарук, и я буду проверять твой проект.\n",
    "Будет здорово, если ты будешь поддерживать диалог ответами на мои комментарии. Если обращение на ты неприемлемо, то прошу сообщить. \n",
    "\n",
    "Мои комментарии обозначены пометкой **Комментарий ревьюера**, а повторное ревью обозначены пометкой **Комментарий ревьюера v_**, в соответствии с версией. Далее в файле ты сможешь найти их в похожих ячейках:\n",
    "Есть несколько аспектов, которые **требуют** твоего **внимания**. Комментарии по ним помечены красным цветом и символами ❌. После их доработки проект будет принят, осталось совсем немного :) \n",
    "\n",
    "    \n",
    "<div class=\"alert alert-block alert-info\">\n",
    "<div class=\"alert alert-block alert-success\"> <b> Комментарий ревьюера ✔️</b>\n",
    "    Если фон комментария зелёный - отмечены удачные и элегантные решения, на которые можно опираться в будущих проектах;</div>\n",
    "    \n",
    "<div class=\"alert alert-block alert-warning\"> <b> Комментарий ревьюера ⚠️</b> \n",
    "    Если фон комментария жёлтый - в следующий раз можно сделать по-другому. Ты можешь учесть эти комментарии при выполнении будущих заданий или доработать проект сейчас (однако это не обязательно).</div>\n",
    " \n",
    "<div class=\"alert alert-block alert-danger\"> <b> Комментарий ревьюера ❌</b> \n",
    "    Если фон комментария красный - допущена ошибка и нужно переделать. После их доработки проект будет принят. Осталось совсем немного, буду ждать твою работу на повторное ревью. 🙂  </div>\n",
    "</div>  \n",
    "\n",
    "\n",
    "Давай работать над проектом в диалоге: если ты что-то меняешь в проекте по моим рекомендациям — пиши об этом. \n",
    "Выбери для своих комментариев какой-то заметный цвет, так мне будет легче отследить изменения. Пожалуйста, не перемещай, не изменяй и не удаляй мои комментарии. Всё это поможет выполнить повторную проверку твоего проекта оперативнее. "
   ]
  },
  {
   "cell_type": "markdown",
   "metadata": {},
   "source": [
    "<div class=\"alert alert-block alert-success\"> <b> Комментарий ревьюера v2 ✔️</b>\n",
    "\n",
    "Исправления приняты.\n",
    "Успехов!\n",
    "\n",
    "</div>"
   ]
  },
  {
   "cell_type": "markdown",
   "metadata": {},
   "source": [
    "# Исследование популярности компьютерных игр для планирования рекламных компаний.\n",
    "\n",
    " Нужна изучить данные о продажах игр, оценки пользователей и экспертов, жанры и платформы для планирования рекламных кампаний  на последующие года.\n",
    "  - Первый этап - изучение общий информации.\n",
    "  - Второй этап - предобработка данных.\n",
    "  - Третий этап - исследовательский анализ данных.\n",
    "  - Четвертый этап - исследование пользователей по регионам и проверка гипотез.\n",
    "  - Пятый этап - общий вывод. \n",
    " \n",
    "Среди данных у нас есть Названия игр и платформ, год выпуска, жанр, проданные копии по регионам, оценка критиков и пользователей, рейтинг по возрастным категориям. Данные за 2016 год могут быть неполными."
   ]
  },
  {
   "cell_type": "markdown",
   "metadata": {},
   "source": [
    "<div class=\"alert alert-block alert-warning\"> <b> Комментарий ревьюера ⚠️</b> \n",
    " \n",
    "Хорошая практика начинать проект с описания, плана исследования и описания имеющих данных   \n",
    "</div>"
   ]
  },
  {
   "cell_type": "markdown",
   "metadata": {},
   "source": [
    "##   Изучение общий информации. "
   ]
  },
  {
   "cell_type": "code",
   "execution_count": 1,
   "metadata": {},
   "outputs": [],
   "source": [
    "import pandas as pd"
   ]
  },
  {
   "cell_type": "code",
   "execution_count": 2,
   "metadata": {
    "scrolled": false
   },
   "outputs": [],
   "source": [
    "try:\n",
    "    data = pd.read_csv('/datasets/games.csv')\n",
    "except:\n",
    "    data = pd.read_csv('C:\\\\Users\\\\User\\\\Documents\\\\Phyton\\\\games.csv')"
   ]
  },
  {
   "cell_type": "code",
   "execution_count": 3,
   "metadata": {},
   "outputs": [
    {
     "data": {
      "text/html": [
       "<div>\n",
       "<style scoped>\n",
       "    .dataframe tbody tr th:only-of-type {\n",
       "        vertical-align: middle;\n",
       "    }\n",
       "\n",
       "    .dataframe tbody tr th {\n",
       "        vertical-align: top;\n",
       "    }\n",
       "\n",
       "    .dataframe thead th {\n",
       "        text-align: right;\n",
       "    }\n",
       "</style>\n",
       "<table border=\"1\" class=\"dataframe\">\n",
       "  <thead>\n",
       "    <tr style=\"text-align: right;\">\n",
       "      <th></th>\n",
       "      <th>Name</th>\n",
       "      <th>Platform</th>\n",
       "      <th>Year_of_Release</th>\n",
       "      <th>Genre</th>\n",
       "      <th>NA_sales</th>\n",
       "      <th>EU_sales</th>\n",
       "      <th>JP_sales</th>\n",
       "      <th>Other_sales</th>\n",
       "      <th>Critic_Score</th>\n",
       "      <th>User_Score</th>\n",
       "      <th>Rating</th>\n",
       "    </tr>\n",
       "  </thead>\n",
       "  <tbody>\n",
       "    <tr>\n",
       "      <th>0</th>\n",
       "      <td>Wii Sports</td>\n",
       "      <td>Wii</td>\n",
       "      <td>2006.0</td>\n",
       "      <td>Sports</td>\n",
       "      <td>41.36</td>\n",
       "      <td>28.96</td>\n",
       "      <td>3.77</td>\n",
       "      <td>8.45</td>\n",
       "      <td>76.0</td>\n",
       "      <td>8</td>\n",
       "      <td>E</td>\n",
       "    </tr>\n",
       "    <tr>\n",
       "      <th>1</th>\n",
       "      <td>Super Mario Bros.</td>\n",
       "      <td>NES</td>\n",
       "      <td>1985.0</td>\n",
       "      <td>Platform</td>\n",
       "      <td>29.08</td>\n",
       "      <td>3.58</td>\n",
       "      <td>6.81</td>\n",
       "      <td>0.77</td>\n",
       "      <td>NaN</td>\n",
       "      <td>NaN</td>\n",
       "      <td>NaN</td>\n",
       "    </tr>\n",
       "    <tr>\n",
       "      <th>2</th>\n",
       "      <td>Mario Kart Wii</td>\n",
       "      <td>Wii</td>\n",
       "      <td>2008.0</td>\n",
       "      <td>Racing</td>\n",
       "      <td>15.68</td>\n",
       "      <td>12.76</td>\n",
       "      <td>3.79</td>\n",
       "      <td>3.29</td>\n",
       "      <td>82.0</td>\n",
       "      <td>8.3</td>\n",
       "      <td>E</td>\n",
       "    </tr>\n",
       "    <tr>\n",
       "      <th>3</th>\n",
       "      <td>Wii Sports Resort</td>\n",
       "      <td>Wii</td>\n",
       "      <td>2009.0</td>\n",
       "      <td>Sports</td>\n",
       "      <td>15.61</td>\n",
       "      <td>10.93</td>\n",
       "      <td>3.28</td>\n",
       "      <td>2.95</td>\n",
       "      <td>80.0</td>\n",
       "      <td>8</td>\n",
       "      <td>E</td>\n",
       "    </tr>\n",
       "    <tr>\n",
       "      <th>4</th>\n",
       "      <td>Pokemon Red/Pokemon Blue</td>\n",
       "      <td>GB</td>\n",
       "      <td>1996.0</td>\n",
       "      <td>Role-Playing</td>\n",
       "      <td>11.27</td>\n",
       "      <td>8.89</td>\n",
       "      <td>10.22</td>\n",
       "      <td>1.00</td>\n",
       "      <td>NaN</td>\n",
       "      <td>NaN</td>\n",
       "      <td>NaN</td>\n",
       "    </tr>\n",
       "    <tr>\n",
       "      <th>5</th>\n",
       "      <td>Tetris</td>\n",
       "      <td>GB</td>\n",
       "      <td>1989.0</td>\n",
       "      <td>Puzzle</td>\n",
       "      <td>23.20</td>\n",
       "      <td>2.26</td>\n",
       "      <td>4.22</td>\n",
       "      <td>0.58</td>\n",
       "      <td>NaN</td>\n",
       "      <td>NaN</td>\n",
       "      <td>NaN</td>\n",
       "    </tr>\n",
       "    <tr>\n",
       "      <th>6</th>\n",
       "      <td>New Super Mario Bros.</td>\n",
       "      <td>DS</td>\n",
       "      <td>2006.0</td>\n",
       "      <td>Platform</td>\n",
       "      <td>11.28</td>\n",
       "      <td>9.14</td>\n",
       "      <td>6.50</td>\n",
       "      <td>2.88</td>\n",
       "      <td>89.0</td>\n",
       "      <td>8.5</td>\n",
       "      <td>E</td>\n",
       "    </tr>\n",
       "    <tr>\n",
       "      <th>7</th>\n",
       "      <td>Wii Play</td>\n",
       "      <td>Wii</td>\n",
       "      <td>2006.0</td>\n",
       "      <td>Misc</td>\n",
       "      <td>13.96</td>\n",
       "      <td>9.18</td>\n",
       "      <td>2.93</td>\n",
       "      <td>2.84</td>\n",
       "      <td>58.0</td>\n",
       "      <td>6.6</td>\n",
       "      <td>E</td>\n",
       "    </tr>\n",
       "    <tr>\n",
       "      <th>8</th>\n",
       "      <td>New Super Mario Bros. Wii</td>\n",
       "      <td>Wii</td>\n",
       "      <td>2009.0</td>\n",
       "      <td>Platform</td>\n",
       "      <td>14.44</td>\n",
       "      <td>6.94</td>\n",
       "      <td>4.70</td>\n",
       "      <td>2.24</td>\n",
       "      <td>87.0</td>\n",
       "      <td>8.4</td>\n",
       "      <td>E</td>\n",
       "    </tr>\n",
       "    <tr>\n",
       "      <th>9</th>\n",
       "      <td>Duck Hunt</td>\n",
       "      <td>NES</td>\n",
       "      <td>1984.0</td>\n",
       "      <td>Shooter</td>\n",
       "      <td>26.93</td>\n",
       "      <td>0.63</td>\n",
       "      <td>0.28</td>\n",
       "      <td>0.47</td>\n",
       "      <td>NaN</td>\n",
       "      <td>NaN</td>\n",
       "      <td>NaN</td>\n",
       "    </tr>\n",
       "    <tr>\n",
       "      <th>10</th>\n",
       "      <td>Nintendogs</td>\n",
       "      <td>DS</td>\n",
       "      <td>2005.0</td>\n",
       "      <td>Simulation</td>\n",
       "      <td>9.05</td>\n",
       "      <td>10.95</td>\n",
       "      <td>1.93</td>\n",
       "      <td>2.74</td>\n",
       "      <td>NaN</td>\n",
       "      <td>NaN</td>\n",
       "      <td>NaN</td>\n",
       "    </tr>\n",
       "    <tr>\n",
       "      <th>11</th>\n",
       "      <td>Mario Kart DS</td>\n",
       "      <td>DS</td>\n",
       "      <td>2005.0</td>\n",
       "      <td>Racing</td>\n",
       "      <td>9.71</td>\n",
       "      <td>7.47</td>\n",
       "      <td>4.13</td>\n",
       "      <td>1.90</td>\n",
       "      <td>91.0</td>\n",
       "      <td>8.6</td>\n",
       "      <td>E</td>\n",
       "    </tr>\n",
       "    <tr>\n",
       "      <th>12</th>\n",
       "      <td>Pokemon Gold/Pokemon Silver</td>\n",
       "      <td>GB</td>\n",
       "      <td>1999.0</td>\n",
       "      <td>Role-Playing</td>\n",
       "      <td>9.00</td>\n",
       "      <td>6.18</td>\n",
       "      <td>7.20</td>\n",
       "      <td>0.71</td>\n",
       "      <td>NaN</td>\n",
       "      <td>NaN</td>\n",
       "      <td>NaN</td>\n",
       "    </tr>\n",
       "    <tr>\n",
       "      <th>13</th>\n",
       "      <td>Wii Fit</td>\n",
       "      <td>Wii</td>\n",
       "      <td>2007.0</td>\n",
       "      <td>Sports</td>\n",
       "      <td>8.92</td>\n",
       "      <td>8.03</td>\n",
       "      <td>3.60</td>\n",
       "      <td>2.15</td>\n",
       "      <td>80.0</td>\n",
       "      <td>7.7</td>\n",
       "      <td>E</td>\n",
       "    </tr>\n",
       "    <tr>\n",
       "      <th>14</th>\n",
       "      <td>Kinect Adventures!</td>\n",
       "      <td>X360</td>\n",
       "      <td>2010.0</td>\n",
       "      <td>Misc</td>\n",
       "      <td>15.00</td>\n",
       "      <td>4.89</td>\n",
       "      <td>0.24</td>\n",
       "      <td>1.69</td>\n",
       "      <td>61.0</td>\n",
       "      <td>6.3</td>\n",
       "      <td>E</td>\n",
       "    </tr>\n",
       "    <tr>\n",
       "      <th>15</th>\n",
       "      <td>Wii Fit Plus</td>\n",
       "      <td>Wii</td>\n",
       "      <td>2009.0</td>\n",
       "      <td>Sports</td>\n",
       "      <td>9.01</td>\n",
       "      <td>8.49</td>\n",
       "      <td>2.53</td>\n",
       "      <td>1.77</td>\n",
       "      <td>80.0</td>\n",
       "      <td>7.4</td>\n",
       "      <td>E</td>\n",
       "    </tr>\n",
       "    <tr>\n",
       "      <th>16</th>\n",
       "      <td>Grand Theft Auto V</td>\n",
       "      <td>PS3</td>\n",
       "      <td>2013.0</td>\n",
       "      <td>Action</td>\n",
       "      <td>7.02</td>\n",
       "      <td>9.09</td>\n",
       "      <td>0.98</td>\n",
       "      <td>3.96</td>\n",
       "      <td>97.0</td>\n",
       "      <td>8.2</td>\n",
       "      <td>M</td>\n",
       "    </tr>\n",
       "    <tr>\n",
       "      <th>17</th>\n",
       "      <td>Grand Theft Auto: San Andreas</td>\n",
       "      <td>PS2</td>\n",
       "      <td>2004.0</td>\n",
       "      <td>Action</td>\n",
       "      <td>9.43</td>\n",
       "      <td>0.40</td>\n",
       "      <td>0.41</td>\n",
       "      <td>10.57</td>\n",
       "      <td>95.0</td>\n",
       "      <td>9</td>\n",
       "      <td>M</td>\n",
       "    </tr>\n",
       "    <tr>\n",
       "      <th>18</th>\n",
       "      <td>Super Mario World</td>\n",
       "      <td>SNES</td>\n",
       "      <td>1990.0</td>\n",
       "      <td>Platform</td>\n",
       "      <td>12.78</td>\n",
       "      <td>3.75</td>\n",
       "      <td>3.54</td>\n",
       "      <td>0.55</td>\n",
       "      <td>NaN</td>\n",
       "      <td>NaN</td>\n",
       "      <td>NaN</td>\n",
       "    </tr>\n",
       "    <tr>\n",
       "      <th>19</th>\n",
       "      <td>Brain Age: Train Your Brain in Minutes a Day</td>\n",
       "      <td>DS</td>\n",
       "      <td>2005.0</td>\n",
       "      <td>Misc</td>\n",
       "      <td>4.74</td>\n",
       "      <td>9.20</td>\n",
       "      <td>4.16</td>\n",
       "      <td>2.04</td>\n",
       "      <td>77.0</td>\n",
       "      <td>7.9</td>\n",
       "      <td>E</td>\n",
       "    </tr>\n",
       "  </tbody>\n",
       "</table>\n",
       "</div>"
      ],
      "text/plain": [
       "                                            Name Platform  Year_of_Release  \\\n",
       "0                                     Wii Sports      Wii           2006.0   \n",
       "1                              Super Mario Bros.      NES           1985.0   \n",
       "2                                 Mario Kart Wii      Wii           2008.0   \n",
       "3                              Wii Sports Resort      Wii           2009.0   \n",
       "4                       Pokemon Red/Pokemon Blue       GB           1996.0   \n",
       "5                                         Tetris       GB           1989.0   \n",
       "6                          New Super Mario Bros.       DS           2006.0   \n",
       "7                                       Wii Play      Wii           2006.0   \n",
       "8                      New Super Mario Bros. Wii      Wii           2009.0   \n",
       "9                                      Duck Hunt      NES           1984.0   \n",
       "10                                    Nintendogs       DS           2005.0   \n",
       "11                                 Mario Kart DS       DS           2005.0   \n",
       "12                   Pokemon Gold/Pokemon Silver       GB           1999.0   \n",
       "13                                       Wii Fit      Wii           2007.0   \n",
       "14                            Kinect Adventures!     X360           2010.0   \n",
       "15                                  Wii Fit Plus      Wii           2009.0   \n",
       "16                            Grand Theft Auto V      PS3           2013.0   \n",
       "17                 Grand Theft Auto: San Andreas      PS2           2004.0   \n",
       "18                             Super Mario World     SNES           1990.0   \n",
       "19  Brain Age: Train Your Brain in Minutes a Day       DS           2005.0   \n",
       "\n",
       "           Genre  NA_sales  EU_sales  JP_sales  Other_sales  Critic_Score  \\\n",
       "0         Sports     41.36     28.96      3.77         8.45          76.0   \n",
       "1       Platform     29.08      3.58      6.81         0.77           NaN   \n",
       "2         Racing     15.68     12.76      3.79         3.29          82.0   \n",
       "3         Sports     15.61     10.93      3.28         2.95          80.0   \n",
       "4   Role-Playing     11.27      8.89     10.22         1.00           NaN   \n",
       "5         Puzzle     23.20      2.26      4.22         0.58           NaN   \n",
       "6       Platform     11.28      9.14      6.50         2.88          89.0   \n",
       "7           Misc     13.96      9.18      2.93         2.84          58.0   \n",
       "8       Platform     14.44      6.94      4.70         2.24          87.0   \n",
       "9        Shooter     26.93      0.63      0.28         0.47           NaN   \n",
       "10    Simulation      9.05     10.95      1.93         2.74           NaN   \n",
       "11        Racing      9.71      7.47      4.13         1.90          91.0   \n",
       "12  Role-Playing      9.00      6.18      7.20         0.71           NaN   \n",
       "13        Sports      8.92      8.03      3.60         2.15          80.0   \n",
       "14          Misc     15.00      4.89      0.24         1.69          61.0   \n",
       "15        Sports      9.01      8.49      2.53         1.77          80.0   \n",
       "16        Action      7.02      9.09      0.98         3.96          97.0   \n",
       "17        Action      9.43      0.40      0.41        10.57          95.0   \n",
       "18      Platform     12.78      3.75      3.54         0.55           NaN   \n",
       "19          Misc      4.74      9.20      4.16         2.04          77.0   \n",
       "\n",
       "   User_Score Rating  \n",
       "0           8      E  \n",
       "1         NaN    NaN  \n",
       "2         8.3      E  \n",
       "3           8      E  \n",
       "4         NaN    NaN  \n",
       "5         NaN    NaN  \n",
       "6         8.5      E  \n",
       "7         6.6      E  \n",
       "8         8.4      E  \n",
       "9         NaN    NaN  \n",
       "10        NaN    NaN  \n",
       "11        8.6      E  \n",
       "12        NaN    NaN  \n",
       "13        7.7      E  \n",
       "14        6.3      E  \n",
       "15        7.4      E  \n",
       "16        8.2      M  \n",
       "17          9      M  \n",
       "18        NaN    NaN  \n",
       "19        7.9      E  "
      ]
     },
     "execution_count": 3,
     "metadata": {},
     "output_type": "execute_result"
    }
   ],
   "source": [
    "data.head(20)"
   ]
  },
  {
   "cell_type": "markdown",
   "metadata": {},
   "source": [
    "<div class=\"alert alert-block alert-warning\"> <b> Комментарий ревьюера ⚠️</b> \n",
    " \n",
    "Лучше отдельным блоком подгружать бибилотеки и данные. \n",
    "    \n",
    "И порядок: библиотеки/модули, данные\n",
    "</div>"
   ]
  },
  {
   "cell_type": "code",
   "execution_count": 4,
   "metadata": {},
   "outputs": [
    {
     "name": "stdout",
     "output_type": "stream",
     "text": [
      "<class 'pandas.core.frame.DataFrame'>\n",
      "RangeIndex: 16715 entries, 0 to 16714\n",
      "Data columns (total 11 columns):\n",
      " #   Column           Non-Null Count  Dtype  \n",
      "---  ------           --------------  -----  \n",
      " 0   Name             16713 non-null  object \n",
      " 1   Platform         16715 non-null  object \n",
      " 2   Year_of_Release  16446 non-null  float64\n",
      " 3   Genre            16713 non-null  object \n",
      " 4   NA_sales         16715 non-null  float64\n",
      " 5   EU_sales         16715 non-null  float64\n",
      " 6   JP_sales         16715 non-null  float64\n",
      " 7   Other_sales      16715 non-null  float64\n",
      " 8   Critic_Score     8137 non-null   float64\n",
      " 9   User_Score       10014 non-null  object \n",
      " 10  Rating           9949 non-null   object \n",
      "dtypes: float64(6), object(5)\n",
      "memory usage: 1.4+ MB\n"
     ]
    }
   ],
   "source": [
    "data.info();"
   ]
  },
  {
   "cell_type": "code",
   "execution_count": 5,
   "metadata": {},
   "outputs": [
    {
     "data": {
      "image/png": "[encoded data removed]",
      "text/plain": [
       "<Figure size 720x1080 with 6 Axes>"
      ]
     },
     "metadata": {
      "needs_background": "light"
     },
     "output_type": "display_data"
    }
   ],
   "source": [
    "data.hist(figsize=(10, 15));"
   ]
  },
  {
   "cell_type": "markdown",
   "metadata": {},
   "source": [
    "## Предобработка данных."
   ]
  },
  {
   "cell_type": "code",
   "execution_count": 6,
   "metadata": {},
   "outputs": [
    {
     "data": {
      "text/plain": [
       "name                  2\n",
       "platform              0\n",
       "year_of_release     269\n",
       "genre                 2\n",
       "na_sales              0\n",
       "eu_sales              0\n",
       "jp_sales              0\n",
       "other_sales           0\n",
       "critic_score       8578\n",
       "user_score         6701\n",
       "rating             6766\n",
       "dtype: int64"
      ]
     },
     "execution_count": 6,
     "metadata": {},
     "output_type": "execute_result"
    }
   ],
   "source": [
    "data.columns\n",
    "data = data.rename(\n",
    "    columns={'Name': 'name', 'Platform':'platform', 'Year_of_Release':'year_of_release',\n",
    "             'Genre':'genre', 'NA_sales':'na_sales', 'EU_sales':'eu_sales', 'JP_sales':'jp_sales', \n",
    "             'Other_sales':'other_sales', 'Critic_Score':'critic_score', 'User_Score':'user_score', 'Rating':'rating'}\n",
    "    )\n",
    "data.isna().sum()"
   ]
  },
  {
   "cell_type": "markdown",
   "metadata": {},
   "source": [
    "<div class=\"alert alert-block alert-warning\"> <b> Комментарий ревьюера ⚠️</b> \n",
    " \n",
    "Тут можно сделать проще:\n",
    "\n",
    "`df.columns = df.columns.str.lower()`\n",
    "</div>\n",
    "\n"
   ]
  },
  {
   "cell_type": "code",
   "execution_count": 7,
   "metadata": {},
   "outputs": [
    {
     "name": "stdout",
     "output_type": "stream",
     "text": [
      "float64\n"
     ]
    }
   ],
   "source": [
    "data['user_score'] = pd.to_numeric(data['user_score'], errors='coerce')#заменяем аббревиатуру tbd(To Be Determined) на NaN.\n",
    "#data['year_of_release'] = data['year_of_release'].fillna(0).astype(int)#заменяем NaN на 0 и превидем года к типу int.\n",
    "print(data['user_score'].dtype)"
   ]
  },
  {
   "cell_type": "markdown",
   "metadata": {},
   "source": [
    "<div class=\"alert alert-block alert-warning\"> <b> Комментарий ревьюера ⚠️</b> \n",
    " \n",
    "Вообще `pd.to_numeric` - это метод перевода в числовой тип.\n",
    "Можно сделать чуть проще:\n",
    "    \n",
    "`df['user_score'] = df['user_score'].replace('tbd', np.NaN)`\n",
    "</div>\n"
   ]
  },
  {
   "cell_type": "markdown",
   "metadata": {},
   "source": [
    "<div style=\"border:solid steelblue 3px; padding: 20px\">\n",
    "<font size=\"4\">🤔<b></b></font>\n",
    "<br /> \n",
    "<font size=\"3\", color = \"black\">\n",
    "    <br /> Не согласен, здесь я одной строчкой заменил тип  данных с object на float и избавился от tda. Вообще я не сообразил что в 'year_of_release' не так много пропусков и решил их все оставить, думал изменить тип в нем на datetime, но потом с графиками много мороки(я в прошлый раз на ощупь интервал находил). В общем сейчас пропуски удалил и заменил на int в  'year_of_release', 'user_score' изначальна заменен был на  float. \n"
   ]
  },
  {
   "cell_type": "markdown",
   "metadata": {},
   "source": [
    "Меняем тип user_score на тип float так-как там оценка идет в дробном значении. "
   ]
  },
  {
   "cell_type": "code",
   "execution_count": 8,
   "metadata": {},
   "outputs": [],
   "source": [
    "data = data.dropna(subset=['name'])#удаляем пропуски в названиях игр их не большое количество заодно пропали пропуски в столбце жанр \n",
    "data = data.dropna(subset=['year_of_release'])"
   ]
  },
  {
   "cell_type": "markdown",
   "metadata": {},
   "source": [
    "<div class=\"alert alert-block alert-success\"> <b> Комментарий ревьюера ✔️</b>\n",
    "\n",
    "Да, можно ещё посмотреть на пропущенные строки:\n",
    "`df[df['name'].isnull()]`\n",
    "\n",
    "</div>"
   ]
  },
  {
   "cell_type": "markdown",
   "metadata": {},
   "source": [
    "- Пропуски в рейтингах не трогаем так-как некоторые игры еще могли их не получит, в колонке \"оценка пользователей\" часта встречается аббревиатура tbd(To Be Determined) которую используют если какая-то информация еще не определена или решение не принято, при использовании to_numeric заменяем их на NaN. Заменять на медиану и среднею не имеет смысла они только исказят данные. Пропуски в годах релиза возможны из-за повреждения данных так как общей свези в этих категориях нет, заменить их нечем."
   ]
  },
  {
   "cell_type": "code",
   "execution_count": 9,
   "metadata": {},
   "outputs": [
    {
     "data": {
      "text/plain": [
       "0.0"
      ]
     },
     "execution_count": 9,
     "metadata": {},
     "output_type": "execute_result"
    }
   ],
   "source": [
    "len(data[data['year_of_release'].isnull()]) / len(data)"
   ]
  },
  {
   "cell_type": "markdown",
   "metadata": {},
   "source": [
    "<div class=\"alert alert-block alert-success\"> <b> Комментарий ревьюера ✔️</b>\n",
    "\n",
    "\n",
    "Пропуски в годах составляют менее 2% от общего числа строк - можно удалить.\n",
    "\n",
    "</div>"
   ]
  },
  {
   "cell_type": "code",
   "execution_count": 10,
   "metadata": {},
   "outputs": [],
   "source": [
    "data['sum_sales'] = data['na_sales']+data['eu_sales']+data['jp_sales']+data['other_sales']\n",
    "data = data.query('sum_sales > 0')"
   ]
  },
  {
   "cell_type": "markdown",
   "metadata": {},
   "source": [
    "<div class=\"alert alert-block alert-warning\"> <b> Комментарий ревьюера ⚠️</b> \n",
    " \n",
    "Для простоты можно сделать так: \n",
    "    \n",
    "`df['total_sales'] = df[['na_sales','eu_sales','jp_sales', 'other_sales']].sum(axis = 1)`\n",
    "</div>"
   ]
  },
  {
   "cell_type": "code",
   "execution_count": 11,
   "metadata": {
    "scrolled": true
   },
   "outputs": [
    {
     "data": {
      "text/html": [
       "<style  type=\"text/css\" >\n",
       "</style><table id=\"T_98458_\" ><thead>    <tr>        <th class=\"blank level0\" ></th>        <th class=\"col_heading level0 col0\" >year_of_release</th>        <th class=\"col_heading level0 col1\" >na_sales</th>        <th class=\"col_heading level0 col2\" >eu_sales</th>        <th class=\"col_heading level0 col3\" >jp_sales</th>        <th class=\"col_heading level0 col4\" >other_sales</th>        <th class=\"col_heading level0 col5\" >critic_score</th>        <th class=\"col_heading level0 col6\" >user_score</th>        <th class=\"col_heading level0 col7\" >sum_sales</th>    </tr></thead><tbody>\n",
       "                <tr>\n",
       "                        <th id=\"T_98458_level0_row0\" class=\"row_heading level0 row0\" >count</th>\n",
       "                        <td id=\"T_98458_row0_col0\" class=\"data row0 col0\" >16,442.00</td>\n",
       "                        <td id=\"T_98458_row0_col1\" class=\"data row0 col1\" >16,442.00</td>\n",
       "                        <td id=\"T_98458_row0_col2\" class=\"data row0 col2\" >16,442.00</td>\n",
       "                        <td id=\"T_98458_row0_col3\" class=\"data row0 col3\" >16,442.00</td>\n",
       "                        <td id=\"T_98458_row0_col4\" class=\"data row0 col4\" >16,442.00</td>\n",
       "                        <td id=\"T_98458_row0_col5\" class=\"data row0 col5\" >7,983.00</td>\n",
       "                        <td id=\"T_98458_row0_col6\" class=\"data row0 col6\" >7,463.00</td>\n",
       "                        <td id=\"T_98458_row0_col7\" class=\"data row0 col7\" >16,442.00</td>\n",
       "            </tr>\n",
       "            <tr>\n",
       "                        <th id=\"T_98458_level0_row1\" class=\"row_heading level0 row1\" >min</th>\n",
       "                        <td id=\"T_98458_row1_col0\" class=\"data row1 col0\" >1,980.00</td>\n",
       "                        <td id=\"T_98458_row1_col1\" class=\"data row1 col1\" >0.00</td>\n",
       "                        <td id=\"T_98458_row1_col2\" class=\"data row1 col2\" >0.00</td>\n",
       "                        <td id=\"T_98458_row1_col3\" class=\"data row1 col3\" >0.00</td>\n",
       "                        <td id=\"T_98458_row1_col4\" class=\"data row1 col4\" >0.00</td>\n",
       "                        <td id=\"T_98458_row1_col5\" class=\"data row1 col5\" >13.00</td>\n",
       "                        <td id=\"T_98458_row1_col6\" class=\"data row1 col6\" >0.00</td>\n",
       "                        <td id=\"T_98458_row1_col7\" class=\"data row1 col7\" >0.01</td>\n",
       "            </tr>\n",
       "            <tr>\n",
       "                        <th id=\"T_98458_level0_row2\" class=\"row_heading level0 row2\" >max</th>\n",
       "                        <td id=\"T_98458_row2_col0\" class=\"data row2 col0\" >2,016.00</td>\n",
       "                        <td id=\"T_98458_row2_col1\" class=\"data row2 col1\" >41.36</td>\n",
       "                        <td id=\"T_98458_row2_col2\" class=\"data row2 col2\" >28.96</td>\n",
       "                        <td id=\"T_98458_row2_col3\" class=\"data row2 col3\" >10.22</td>\n",
       "                        <td id=\"T_98458_row2_col4\" class=\"data row2 col4\" >10.57</td>\n",
       "                        <td id=\"T_98458_row2_col5\" class=\"data row2 col5\" >98.00</td>\n",
       "                        <td id=\"T_98458_row2_col6\" class=\"data row2 col6\" >9.70</td>\n",
       "                        <td id=\"T_98458_row2_col7\" class=\"data row2 col7\" >82.54</td>\n",
       "            </tr>\n",
       "    </tbody></table>"
      ],
      "text/plain": [
       "<pandas.io.formats.style.Styler at 0x7f6ba35a9580>"
      ]
     },
     "execution_count": 11,
     "metadata": {},
     "output_type": "execute_result"
    }
   ],
   "source": [
    "\n",
    "(\n",
    "    data[['year_of_release','na_sales', 'eu_sales', 'jp_sales', 'other_sales', 'critic_score', 'user_score', 'sum_sales']]\n",
    "    .apply (['count', 'min', 'max'])   \n",
    "    .style.format(\"{:,.2f}\")\n",
    ")"
   ]
  },
  {
   "cell_type": "code",
   "execution_count": 12,
   "metadata": {},
   "outputs": [],
   "source": [
    "#data['year_of_release'] = pd.to_datetime(data['year_of_release'], format='%Y')\n",
    "data['year_of_release'] = data['year_of_release'].astype(int)"
   ]
  },
  {
   "cell_type": "markdown",
   "metadata": {},
   "source": [
    " <div class=\"alert alert-block alert-danger\"> <b> Комментарий ревьюера ❌</b> \n",
    "\n",
    "нет перевода данных в правильные форматы, можно использовать методы pd.to_datetime(), astype()\n",
    "\n",
    "`'user_score'.astype()` - не должен быть типом `object` по таблице видно, что данные с плавующей точкой\n",
    "\n",
    "`'year_of_release'.astype()` - целочисленное значение\n",
    "    \n",
    "</div>  "
   ]
  },
  {
   "cell_type": "code",
   "execution_count": 13,
   "metadata": {
    "scrolled": true
   },
   "outputs": [
    {
     "name": "stdout",
     "output_type": "stream",
     "text": [
      "int64\n",
      "float64\n"
     ]
    }
   ],
   "source": [
    "print(data['year_of_release'].dtype)\n",
    "print(data['user_score'].dtype)"
   ]
  },
  {
   "cell_type": "markdown",
   "metadata": {},
   "source": [
    "<div style=\"border:solid steelblue 3px; padding: 20px\">\n",
    "<font size=\"4\">🤔<b></b></font>\n",
    "<br /> \n",
    "<font size=\"3\", color = \"black\">\n",
    "    <br />  Типы заменены. "
   ]
  },
  {
   "cell_type": "markdown",
   "metadata": {},
   "source": [
    "## Исследовательский анализ данных."
   ]
  },
  {
   "cell_type": "code",
   "execution_count": 14,
   "metadata": {},
   "outputs": [],
   "source": [
    "import matplotlib.pyplot as plt \n",
    "import seaborn as sns"
   ]
  },
  {
   "cell_type": "code",
   "execution_count": 15,
   "metadata": {},
   "outputs": [
    {
     "name": "stdout",
     "output_type": "stream",
     "text": [
      "<class 'pandas.core.frame.DataFrame'>\n",
      "Int64Index: 16442 entries, 0 to 16714\n",
      "Data columns (total 12 columns):\n",
      " #   Column           Non-Null Count  Dtype  \n",
      "---  ------           --------------  -----  \n",
      " 0   name             16442 non-null  object \n",
      " 1   platform         16442 non-null  object \n",
      " 2   year_of_release  16442 non-null  int64  \n",
      " 3   genre            16442 non-null  object \n",
      " 4   na_sales         16442 non-null  float64\n",
      " 5   eu_sales         16442 non-null  float64\n",
      " 6   jp_sales         16442 non-null  float64\n",
      " 7   other_sales      16442 non-null  float64\n",
      " 8   critic_score     7983 non-null   float64\n",
      " 9   user_score       7463 non-null   float64\n",
      " 10  rating           9768 non-null   object \n",
      " 11  sum_sales        16442 non-null  float64\n",
      "dtypes: float64(7), int64(1), object(4)\n",
      "memory usage: 1.6+ MB\n"
     ]
    }
   ],
   "source": [
    "data_sales = data.pivot_table(index='year_of_release', values='sum_sales', aggfunc='sum').reset_index()\n",
    "#display(data_sales)\n",
    "data.isna().sum()\n",
    "data.info()"
   ]
  },
  {
   "cell_type": "code",
   "execution_count": 16,
   "metadata": {
    "scrolled": true
   },
   "outputs": [
    {
     "data": {
      "image/png": "[encoded data removed]",
      "text/plain": [
       "<Figure size 720x360 with 1 Axes>"
      ]
     },
     "metadata": {
      "needs_background": "light"
     },
     "output_type": "display_data"
    }
   ],
   "source": [
    "data_sales.plot(x='year_of_release', y='sum_sales', style='o-', xlim=(1979, 2017), grid=True, figsize=(10, 5))\n",
    "plt.title('Выпуск игр по годам ')\n",
    "plt.xlabel('Годы продаж')\n",
    "plt.ylabel('Количество продаж')\n",
    "plt.show()"
   ]
  },
  {
   "cell_type": "markdown",
   "metadata": {},
   "source": [
    "На графике продаж можно видеть популярность компьютерных игр по годам. Наибольший их рост происходил последние двадцать лет начиная с 1995, за 2016 год данные рассматривать не стоит так как они не полные, поэтому сложна судить о продажах играх которые вышли в этом году. "
   ]
  },
  {
   "cell_type": "code",
   "execution_count": 17,
   "metadata": {},
   "outputs": [
    {
     "data": {
      "text/html": [
       "<div>\n",
       "<style scoped>\n",
       "    .dataframe tbody tr th:only-of-type {\n",
       "        vertical-align: middle;\n",
       "    }\n",
       "\n",
       "    .dataframe tbody tr th {\n",
       "        vertical-align: top;\n",
       "    }\n",
       "\n",
       "    .dataframe thead th {\n",
       "        text-align: right;\n",
       "    }\n",
       "</style>\n",
       "<table border=\"1\" class=\"dataframe\">\n",
       "  <thead>\n",
       "    <tr style=\"text-align: right;\">\n",
       "      <th></th>\n",
       "      <th>platform</th>\n",
       "      <th>sum_sales</th>\n",
       "    </tr>\n",
       "  </thead>\n",
       "  <tbody>\n",
       "    <tr>\n",
       "      <th>16</th>\n",
       "      <td>PS2</td>\n",
       "      <td>1233.56</td>\n",
       "    </tr>\n",
       "    <tr>\n",
       "      <th>28</th>\n",
       "      <td>X360</td>\n",
       "      <td>961.24</td>\n",
       "    </tr>\n",
       "    <tr>\n",
       "      <th>17</th>\n",
       "      <td>PS3</td>\n",
       "      <td>931.34</td>\n",
       "    </tr>\n",
       "    <tr>\n",
       "      <th>26</th>\n",
       "      <td>Wii</td>\n",
       "      <td>891.18</td>\n",
       "    </tr>\n",
       "    <tr>\n",
       "      <th>4</th>\n",
       "      <td>DS</td>\n",
       "      <td>802.78</td>\n",
       "    </tr>\n",
       "    <tr>\n",
       "      <th>15</th>\n",
       "      <td>PS</td>\n",
       "      <td>727.58</td>\n",
       "    </tr>\n",
       "    <tr>\n",
       "      <th>18</th>\n",
       "      <td>PS4</td>\n",
       "      <td>314.14</td>\n",
       "    </tr>\n",
       "    <tr>\n",
       "      <th>6</th>\n",
       "      <td>GBA</td>\n",
       "      <td>312.88</td>\n",
       "    </tr>\n",
       "    <tr>\n",
       "      <th>19</th>\n",
       "      <td>PSP</td>\n",
       "      <td>289.53</td>\n",
       "    </tr>\n",
       "    <tr>\n",
       "      <th>2</th>\n",
       "      <td>3DS</td>\n",
       "      <td>257.81</td>\n",
       "    </tr>\n",
       "  </tbody>\n",
       "</table>\n",
       "</div>"
      ],
      "text/plain": [
       "   platform  sum_sales\n",
       "16      PS2    1233.56\n",
       "28     X360     961.24\n",
       "17      PS3     931.34\n",
       "26      Wii     891.18\n",
       "4        DS     802.78\n",
       "15       PS     727.58\n",
       "18      PS4     314.14\n",
       "6       GBA     312.88\n",
       "19      PSP     289.53\n",
       "2       3DS     257.81"
      ]
     },
     "metadata": {},
     "output_type": "display_data"
    }
   ],
   "source": [
    "data_platform = data.pivot_table(index='platform', values='sum_sales', aggfunc='sum').reset_index()\n",
    "data_platform = data_platform.query('sum_sales > 10')\n",
    "data_platform = data_platform.sort_values(by='sum_sales', ascending=False)\n",
    "display(data_platform.head(10));"
   ]
  },
  {
   "cell_type": "code",
   "execution_count": 1,
   "metadata": {
    "scrolled": true
   },
   "outputs": [
    {
     "ename": "NameError",
     "evalue": "name 'data_platform' is not defined",
     "output_type": "error",
     "traceback": [
      "\u001b[0;31m---------------------------------------------------------------------------\u001b[0m",
      "\u001b[0;31mNameError\u001b[0m                                 Traceback (most recent call last)",
      "\u001b[0;32m/tmp/ipykernel_63/460559448.py\u001b[0m in \u001b[0;36m<module>\u001b[0;34m\u001b[0m\n\u001b[0;32m----> 1\u001b[0;31m \u001b[0mx\u001b[0m \u001b[0;34m=\u001b[0m \u001b[0mdata_platform\u001b[0m\u001b[0;34m[\u001b[0m\u001b[0;34m'sum_sales'\u001b[0m\u001b[0;34m]\u001b[0m\u001b[0;34m\u001b[0m\u001b[0;34m\u001b[0m\u001b[0m\n\u001b[0m\u001b[1;32m      2\u001b[0m \u001b[0my\u001b[0m \u001b[0;34m=\u001b[0m \u001b[0mdata_platform\u001b[0m\u001b[0;34m[\u001b[0m\u001b[0;34m'platform'\u001b[0m\u001b[0;34m]\u001b[0m\u001b[0;34m\u001b[0m\u001b[0;34m\u001b[0m\u001b[0m\n\u001b[1;32m      3\u001b[0m \u001b[0msns\u001b[0m\u001b[0;34m.\u001b[0m\u001b[0mbarplot\u001b[0m\u001b[0;34m(\u001b[0m\u001b[0mx\u001b[0m \u001b[0;34m=\u001b[0m \u001b[0mx\u001b[0m\u001b[0;34m,\u001b[0m \u001b[0my\u001b[0m \u001b[0;34m=\u001b[0m \u001b[0my\u001b[0m\u001b[0;34m)\u001b[0m\u001b[0;34m\u001b[0m\u001b[0;34m\u001b[0m\u001b[0m\n\u001b[1;32m      4\u001b[0m \u001b[0mplt\u001b[0m\u001b[0;34m.\u001b[0m\u001b[0mgcf\u001b[0m\u001b[0;34m(\u001b[0m\u001b[0;34m)\u001b[0m\u001b[0;34m.\u001b[0m\u001b[0mset_size_inches\u001b[0m\u001b[0;34m(\u001b[0m\u001b[0;36m7\u001b[0m\u001b[0;34m,\u001b[0m\u001b[0;36m7\u001b[0m\u001b[0;34m)\u001b[0m\u001b[0;34m;\u001b[0m\u001b[0;34m\u001b[0m\u001b[0;34m\u001b[0m\u001b[0m\n",
      "\u001b[0;31mNameError\u001b[0m: name 'data_platform' is not defined"
     ]
    }
   ],
   "source": [
    "x = data_platform['sum_sales']\n",
    "y = data_platform['platform'] \n",
    "sns.barplot(x = x, y = y)\n",
    "plt.gcf().set_size_inches(7,7);"
   ]
  },
  {
   "cell_type": "code",
   "execution_count": 19,
   "metadata": {},
   "outputs": [],
   "source": [
    "data_platform_01 = data.query('platform == \"PS2\"')\n",
    "data_platform_02 = data.query('platform == \"X360\"')\n",
    "data_platform_03 = data.query('platform == \"PS3\"')\n",
    "data_platform_04 = data.query('platform == \"Wii\"')\n",
    "data_platform_05 = data.query('platform == \"DS\"')\n",
    "data_platform_06 = data.query('platform == \"PS\"')\n",
    "data_platform_07 = data.query('platform == \"GBA\"')\n",
    "data_platform_08 = data.query('platform == \"PS4\"')\n",
    "data_platform_09 = data.query('platform == \"PSP\"')\n",
    "data_platform_10 = data.query('platform == \"PC\"')\n",
    "data_pivot_01 = data_platform_01.pivot_table(index=['year_of_release'], values='sum_sales', aggfunc='sum').reset_index()\n",
    "data_pivot_02 = data_platform_02.pivot_table(index=['year_of_release'], values='sum_sales', aggfunc='sum').reset_index()\n",
    "data_pivot_03 = data_platform_03.pivot_table(index=['year_of_release'], values='sum_sales', aggfunc='sum').reset_index()\n",
    "data_pivot_04 = data_platform_04.pivot_table(index=['year_of_release'], values='sum_sales', aggfunc='sum').reset_index()\n",
    "data_pivot_05 = data_platform_05.pivot_table(index=['year_of_release'], values='sum_sales', aggfunc='sum').reset_index()\n",
    "data_pivot_06 = data_platform_06.pivot_table(index=['year_of_release'], values='sum_sales', aggfunc='sum').reset_index()\n",
    "data_pivot_07 = data_platform_07.pivot_table(index=['year_of_release'], values='sum_sales', aggfunc='sum').reset_index()\n",
    "data_pivot_08 = data_platform_08.pivot_table(index=['year_of_release'], values='sum_sales', aggfunc='sum').reset_index()\n",
    "data_pivot_09 = data_platform_09.pivot_table(index=['year_of_release'], values='sum_sales', aggfunc='sum').reset_index()\n",
    "data_pivot_10 = data_platform_10.pivot_table(index=['year_of_release'], values='sum_sales', aggfunc='sum').reset_index()"
   ]
  },
  {
   "cell_type": "code",
   "execution_count": 20,
   "metadata": {},
   "outputs": [
    {
     "data": {
      "image/png": "[encoded data removed]",
      "text/plain": [
       "<Figure size 576x288 with 1 Axes>"
      ]
     },
     "metadata": {
      "needs_background": "light"
     },
     "output_type": "display_data"
    },
    {
     "data": {
      "image/png": "[encoded data removed]",
      "text/plain": [
       "<Figure size 576x288 with 1 Axes>"
      ]
     },
     "metadata": {
      "needs_background": "light"
     },
     "output_type": "display_data"
    }
   ],
   "source": [
    "data_pivot_01.plot(x='year_of_release', y='sum_sales', style='o-', xlim=(1999, 2017), grid=True, figsize=(8, 4));\n",
    "plt.title('Выпуск игр по годам PS2')\n",
    "plt.xlabel('Годы продаж')\n",
    "plt.ylabel('Количество продаж')\n",
    "plt.show()\n",
    "data_pivot_02.plot(x='year_of_release', y='sum_sales', style='o-', xlim=(2004, 2017), grid=True, figsize=(8, 4));\n",
    "plt.title('Выпуск игр по годам X360')\n",
    "plt.xlabel('Годы продаж')\n",
    "plt.ylabel('Количество продаж')\n",
    "plt.show()"
   ]
  },
  {
   "cell_type": "code",
   "execution_count": 21,
   "metadata": {},
   "outputs": [
    {
     "data": {
      "image/png": "[encoded data removed]",
      "text/plain": [
       "<Figure size 576x288 with 1 Axes>"
      ]
     },
     "metadata": {
      "needs_background": "light"
     },
     "output_type": "display_data"
    },
    {
     "data": {
      "image/png": "[encoded data removed]",
      "text/plain": [
       "<Figure size 576x288 with 1 Axes>"
      ]
     },
     "metadata": {
      "needs_background": "light"
     },
     "output_type": "display_data"
    }
   ],
   "source": [
    "data_pivot_03.plot(x='year_of_release', y='sum_sales', style='o-', xlim=(2005, 2017), grid=True, figsize=(8, 4));\n",
    "plt.title('Выпуск игр по годам PS3')\n",
    "plt.xlabel('Годы продаж')\n",
    "plt.ylabel('Количество продаж')\n",
    "plt.show()\n",
    "data_pivot_04.plot(x='year_of_release', y='sum_sales', style='o-', xlim=(2005, 2017), grid=True, figsize=(8, 4));\n",
    "plt.title('Выпуск игр по годам Wii')\n",
    "plt.xlabel('Годы продаж')\n",
    "plt.ylabel('Количество продаж')\n",
    "plt.show()"
   ]
  },
  {
   "cell_type": "code",
   "execution_count": 22,
   "metadata": {
    "scrolled": false
   },
   "outputs": [
    {
     "data": {
      "image/png": "[encoded data removed]",
      "text/plain": [
       "<Figure size 576x288 with 1 Axes>"
      ]
     },
     "metadata": {
      "needs_background": "light"
     },
     "output_type": "display_data"
    }
   ],
   "source": [
    "data_pivot_05.plot(x='year_of_release', y='sum_sales', style='o-', xlim=(2004, 2017), grid=True, figsize=(8, 4));\n",
    "plt.title('Выпуск игр по годам DS')\n",
    "plt.xlabel('Годы продаж')\n",
    "plt.ylabel('Количество продаж')\n",
    "plt.show()\n"
   ]
  },
  {
   "cell_type": "code",
   "execution_count": 23,
   "metadata": {},
   "outputs": [
    {
     "data": {
      "image/png": "[encoded data removed]",
      "text/plain": [
       "<Figure size 576x288 with 1 Axes>"
      ]
     },
     "metadata": {
      "needs_background": "light"
     },
     "output_type": "display_data"
    }
   ],
   "source": [
    "data_pivot_06.plot(x='year_of_release', y='sum_sales', style='o-', xlim=(1993, 2005), grid=True, figsize=(8, 4));\n",
    "plt.title('Выпуск игр по годам PS')\n",
    "plt.xlabel('Годы продаж')\n",
    "plt.ylabel('Количество продаж')\n",
    "plt.show()"
   ]
  },
  {
   "cell_type": "code",
   "execution_count": 24,
   "metadata": {},
   "outputs": [
    {
     "data": {
      "image/png": "[encoded data removed]",
      "text/plain": [
       "<Figure size 576x288 with 1 Axes>"
      ]
     },
     "metadata": {
      "needs_background": "light"
     },
     "output_type": "display_data"
    },
    {
     "data": {
      "image/png": "[encoded data removed]",
      "text/plain": [
       "<Figure size 576x288 with 1 Axes>"
      ]
     },
     "metadata": {
      "needs_background": "light"
     },
     "output_type": "display_data"
    }
   ],
   "source": [
    "data_pivot_07.plot(x='year_of_release', y='sum_sales', style='o-', xlim=(1999, 2008), grid=True, figsize=(8, 4));\n",
    "plt.title('Выпуск игр по годам GBA')\n",
    "plt.xlabel('Годы продаж')\n",
    "plt.ylabel('Количество продаж')\n",
    "plt.show()\n",
    "data_pivot_08.plot(x='year_of_release', y='sum_sales', style='o-', xlim=(2012, 2017), grid=True, figsize=(8, 4));\n",
    "plt.title('Выпуск игр по годам PS4')\n",
    "plt.xlabel('Годы продаж')\n",
    "plt.ylabel('Количество продаж')\n",
    "plt.show()"
   ]
  },
  {
   "cell_type": "code",
   "execution_count": 25,
   "metadata": {},
   "outputs": [
    {
     "data": {
      "image/png": "[encoded data removed]",
      "text/plain": [
       "<Figure size 576x288 with 1 Axes>"
      ]
     },
     "metadata": {
      "needs_background": "light"
     },
     "output_type": "display_data"
    },
    {
     "data": {
      "image/png": "[encoded data removed]",
      "text/plain": [
       "<Figure size 576x288 with 1 Axes>"
      ]
     },
     "metadata": {
      "needs_background": "light"
     },
     "output_type": "display_data"
    }
   ],
   "source": [
    "data_pivot_09.plot(x='year_of_release', y='sum_sales', style='o-', xlim=(2003, 2017), grid=True, figsize=(8, 4));\n",
    "plt.title('Выпуск игр по годам PSP')\n",
    "plt.xlabel('Годы продаж')\n",
    "plt.ylabel('Количество продаж')\n",
    "plt.show()\n",
    "data_pivot_10.plot(x='year_of_release', y='sum_sales', style='o-', xlim=(1980, 2017), grid=True, figsize=(8, 4));\n",
    "plt.title('Выпуск игр по годам PC')\n",
    "plt.xlabel('Годы продаж')\n",
    "plt.ylabel('Количество продаж')\n",
    "plt.show()"
   ]
  },
  {
   "cell_type": "markdown",
   "metadata": {},
   "source": [
    "- Актуальность продаж игровых платформ на высоких показателях держится примерно 4-6 лет с релиза, новые поколения появляются после 8 - 10 лет от начала продаж прошлого поколения консолей, некоторые платформы имеют разное время релиза в зависимости от региона и страны что может повлиять на уровень продаж распределённого на графике. PS4 стартовала недавно и окончательные выводы по ней делать не стоит. Продажи на персональных компьютерах нужна рассматривать отдельна так как их характеристики разнятся. "
   ]
  },
  {
   "cell_type": "markdown",
   "metadata": {},
   "source": [
    "<div class=\"alert alert-block alert-success\"> <b> Комментарий ревьюера ✔️</b>\n",
    "\n",
    "\n",
    "Верно!\n",
    "</div>"
   ]
  },
  {
   "cell_type": "markdown",
   "metadata": {},
   "source": [
    " - Для построения прогноза на 2017 год возьмем период с 2010 по 2012 год, данные c 2013 по 2016 не подходят так как многие платформы еще актуальны на данный период и сложна сделать вывод на основе количества продаж игр. Период до 2010 года не берем так как эти данные более старые и менее актуальные для последующих исследований."
   ]
  },
  {
   "cell_type": "markdown",
   "metadata": {},
   "source": [
    " <div class=\"alert alert-block alert-danger\"> <b> Комментарий ревьюера ❌</b> \n",
    "\n",
    "Для целей прогнозирования продаж на следующий год даже в традиционных бизнесах редко берут данные более чем за 2-3 года. А в такой динамично меняющейся индустрии, как компьютерные игры и вовсе не стоит брать слишком большой временной интервал - иначе обязательно захватишь уже отжившие тренды. Но и слишком короткий период тоже брать не стоит.\n",
    "    \n",
    "</div>  "
   ]
  },
  {
   "cell_type": "markdown",
   "metadata": {},
   "source": [
    "<div style=\"border:solid steelblue 3px; padding: 20px\">\n",
    "<font size=\"4\">🤔<b></b></font>\n",
    "<br /> \n",
    "<font size=\"3\", color = \"black\">\n",
    "    <br /> Изменил период на 2010-2012."
   ]
  },
  {
   "cell_type": "markdown",
   "metadata": {},
   "source": [
    "- Возьмем топ 3 по продажам. Самой популярной платформой стала Play Station 2 которая выходила с 2000 по 2013 год, на втором месте Xbox 360 выходившая с 2005 по 2016 год и на третьем мести Play Station 3 с датой релиза 2006 и с постепенным  прекращением поддержки начиная с 2015 года. Продажи у этих консолей росли начиная с релиза первые 3-4 года и после падают. Рост идет у актуальных на данный момент консолях таких как PS4 и XOne. "
   ]
  },
  {
   "cell_type": "code",
   "execution_count": 26,
   "metadata": {
    "scrolled": true
   },
   "outputs": [
    {
     "data": {
      "text/plain": [
       "(0.0, 2.0)"
      ]
     },
     "execution_count": 26,
     "metadata": {},
     "output_type": "execute_result"
    },
    {
     "data": {
      "image/png": "[encoded data removed]",
      "text/plain": [
       "<Figure size 432x288 with 1 Axes>"
      ]
     },
     "metadata": {
      "needs_background": "light"
     },
     "output_type": "display_data"
    }
   ],
   "source": [
    "data.query('platform == \"PS2\"').boxplot(column=['sum_sales'])\n",
    "#data_platform_01.boxplot(column=['sum_sales'])\n",
    "plt.ylim(0, 2)"
   ]
  },
  {
   "cell_type": "code",
   "execution_count": 27,
   "metadata": {
    "scrolled": true
   },
   "outputs": [
    {
     "data": {
      "text/plain": [
       "(0.0, 2.0)"
      ]
     },
     "execution_count": 27,
     "metadata": {},
     "output_type": "execute_result"
    },
    {
     "data": {
      "image/png": "[encoded data removed]",
      "text/plain": [
       "<Figure size 432x288 with 1 Axes>"
      ]
     },
     "metadata": {
      "needs_background": "light"
     },
     "output_type": "display_data"
    }
   ],
   "source": [
    "data.query('platform == \"X360\"').boxplot(column=['sum_sales'])\n",
    "plt.ylim(0, 2)"
   ]
  },
  {
   "cell_type": "code",
   "execution_count": 28,
   "metadata": {
    "scrolled": true
   },
   "outputs": [
    {
     "data": {
      "text/plain": [
       "(0.0, 2.0)"
      ]
     },
     "execution_count": 28,
     "metadata": {},
     "output_type": "execute_result"
    },
    {
     "data": {
      "image/png": "[encoded data removed]",
      "text/plain": [
       "<Figure size 432x288 with 1 Axes>"
      ]
     },
     "metadata": {
      "needs_background": "light"
     },
     "output_type": "display_data"
    }
   ],
   "source": [
    "data.query('platform == \"PS3\"').boxplot(column=['sum_sales'])\n",
    "plt.ylim(0, 2)"
   ]
  },
  {
   "cell_type": "code",
   "execution_count": 29,
   "metadata": {},
   "outputs": [
    {
     "data": {
      "text/plain": [
       "(0.0, 2.0)"
      ]
     },
     "execution_count": 29,
     "metadata": {},
     "output_type": "execute_result"
    },
    {
     "data": {
      "image/png": "[encoded data removed]",
      "text/plain": [
       "<Figure size 432x288 with 1 Axes>"
      ]
     },
     "metadata": {
      "needs_background": "light"
     },
     "output_type": "display_data"
    }
   ],
   "source": [
    "data.query('platform == \"Wii\"').boxplot(column=['sum_sales'])\n",
    "plt.ylim(0, 2)"
   ]
  },
  {
   "cell_type": "code",
   "execution_count": 30,
   "metadata": {
    "scrolled": true
   },
   "outputs": [
    {
     "data": {
      "text/plain": [
       "(0.0, 1.0)"
      ]
     },
     "execution_count": 30,
     "metadata": {},
     "output_type": "execute_result"
    },
    {
     "data": {
      "image/png": "[encoded data removed]",
      "text/plain": [
       "<Figure size 432x288 with 1 Axes>"
      ]
     },
     "metadata": {
      "needs_background": "light"
     },
     "output_type": "display_data"
    }
   ],
   "source": [
    "data.query('platform == \"DS\"').boxplot(column=['sum_sales'])\n",
    "plt.ylim(0, 1)"
   ]
  },
  {
   "cell_type": "markdown",
   "metadata": {},
   "source": [
    "- Если обобщить информацию с графиков можно увидеть, что большая часть значений верхнего квартала  лежит до 0.8,  нижний квартал лежит на уровне окала 0.1, что выглядит правдоподобна. Медиана у PS2 и у PS3 равняется  0.25, у Х360 примерна 0.26,  у Wii и DS - 0.1."
   ]
  },
  {
   "cell_type": "markdown",
   "metadata": {},
   "source": [
    "<div class=\"alert alert-block alert-success\"> <b> Комментарий ревьюера ✔️</b>\n",
    "\n",
    "\n",
    "Да, самые прибыльные платформы: PS2, X360, Wii, PS3, DS, PS. \n",
    "</div>"
   ]
  },
  {
   "cell_type": "code",
   "execution_count": 31,
   "metadata": {},
   "outputs": [
    {
     "data": {
      "image/png": "[encoded data removed]",
      "text/plain": [
       "<Figure size 720x360 with 1 Axes>"
      ]
     },
     "metadata": {
      "needs_background": "light"
     },
     "output_type": "display_data"
    }
   ],
   "source": [
    "ps3_score = (\n",
    "    data_platform_03.pivot_table(index='name', values= ['critic_score', 'user_score', 'sum_sales'])\n",
    "    .reset_index()\n",
    "    )\n",
    "#print(ps3_score.head())\n",
    "ps3_score.plot(kind='scatter', x='critic_score', y='sum_sales', ylim=(0, 15), grid=True, figsize=(10, 5))\n",
    "plt.title('Зависимость продаж PS3 от оценки критиков')\n",
    "plt.xlabel('Оценка по сто бальной шкале')\n",
    "plt.ylabel('Количество продаж')\n",
    "plt.show()"
   ]
  },
  {
   "cell_type": "code",
   "execution_count": 32,
   "metadata": {},
   "outputs": [
    {
     "data": {
      "image/png": "[encoded data removed]",
      "text/plain": [
       "<Figure size 720x360 with 1 Axes>"
      ]
     },
     "metadata": {
      "needs_background": "light"
     },
     "output_type": "display_data"
    },
    {
     "name": "stdout",
     "output_type": "stream",
     "text": [
      "Корреляция по рейтингу игроков: 0.43309507652906315\n",
      "Корреляция по рейтингу критиков: 0.1287534964570092\n"
     ]
    }
   ],
   "source": [
    "ps3_score.plot(kind='scatter', x='user_score', y='sum_sales', ylim=(0, 15), grid=True, figsize=(10, 5))\n",
    "plt.title('Зависимость продаж PS3 от оценки игроков')\n",
    "plt.xlabel('Оценка по десяти бальной шкале')\n",
    "plt.ylabel('Количество продаж')\n",
    "plt.show()\n",
    "print('Корреляция по рейтингу игроков:', ps3_score['critic_score'].corr(ps3_score['sum_sales']))\n",
    "print('Корреляция по рейтингу критиков:', ps3_score['user_score'].corr(ps3_score['sum_sales']))"
   ]
  },
  {
   "cell_type": "markdown",
   "metadata": {},
   "source": [
    "- Посмотрим как влияют на продажи внутри одной популярной платформы отзывы пользователей и критиков. За основу возьмем данные Play Station 3, так-как все консоли этой игровой серии попадают в топ 10 продаж, она входит в актуальный период и тренды в динамике данных по ней наиболее приближены к настоящему времени. На графиках можно видеть что чем выше оценка у игры тем больше копией ее продается, наибольшую взаимосвязь имеют количеством продаж с оценки критиков чем с оценками игроков и стоит в первую очередь ориентироваться по ним, оценки выше 9 и 90 очень редки.       "
   ]
  },
  {
   "cell_type": "code",
   "execution_count": 33,
   "metadata": {},
   "outputs": [
    {
     "data": {
      "image/png": "[encoded data removed]",
      "text/plain": [
       "<Figure size 576x288 with 1 Axes>"
      ]
     },
     "metadata": {
      "needs_background": "light"
     },
     "output_type": "display_data"
    }
   ],
   "source": [
    "data_x = data.query('2010 <= year_of_release < 2013')\n",
    "data_x.plot(kind='scatter', x='critic_score', y='sum_sales', ylim=(0, 15), grid=True, figsize=(8, 4))\n",
    "plt.title('Зависимость продаж от оценки критиков')\n",
    "plt.xlabel('Оценка по сто бальной шкале')\n",
    "plt.ylabel('Количество продаж')\n",
    "plt.show()\n",
    "#print(data_x)"
   ]
  },
  {
   "cell_type": "code",
   "execution_count": 34,
   "metadata": {
    "scrolled": true
   },
   "outputs": [
    {
     "data": {
      "image/png": "[encoded data removed]",
      "text/plain": [
       "<Figure size 576x288 with 1 Axes>"
      ]
     },
     "metadata": {
      "needs_background": "light"
     },
     "output_type": "display_data"
    },
    {
     "name": "stdout",
     "output_type": "stream",
     "text": [
      "Корреляция по общему рейтингу игроков: 0.3283739733689529\n",
      "Корреляция по общему рейтингу критиков: 0.09872061532409553\n"
     ]
    }
   ],
   "source": [
    "data_x.plot(kind='scatter', x='user_score', y='sum_sales', ylim=(0, 15), grid=True, figsize=(8, 4))\n",
    "plt.title('Зависимость продаж от оценки игроков')\n",
    "plt.xlabel('Оценка по десяти бальной шкале')\n",
    "plt.ylabel('Количество продаж')\n",
    "plt.show()\n",
    "print('Корреляция по общему рейтингу игроков:', data_x['critic_score'].corr(data_x['sum_sales']))\n",
    "print('Корреляция по общему рейтингу критиков:', data_x['user_score'].corr(data_x['sum_sales']))"
   ]
  },
  {
   "cell_type": "markdown",
   "metadata": {},
   "source": [
    "- Если мы возьмём данные за период 2010 - 2012 год по всем платформам то увидим схожую картину и еще большую корреляцию между количеством продаж и оценкой."
   ]
  },
  {
   "cell_type": "markdown",
   "metadata": {},
   "source": [
    "<div class=\"alert alert-success\">\n",
    "<font size=\"3\"><b> Комментарий ревьюера ✔️</b></font>\n",
    "  \n",
    "Оценка критиков имеет слабое влияние на продажи, оценка пользователей на продажи не влияет.\n",
    "</div> "
   ]
  },
  {
   "cell_type": "code",
   "execution_count": 35,
   "metadata": {},
   "outputs": [
    {
     "data": {
      "text/html": [
       "<div>\n",
       "<style scoped>\n",
       "    .dataframe tbody tr th:only-of-type {\n",
       "        vertical-align: middle;\n",
       "    }\n",
       "\n",
       "    .dataframe tbody tr th {\n",
       "        vertical-align: top;\n",
       "    }\n",
       "\n",
       "    .dataframe thead th {\n",
       "        text-align: right;\n",
       "    }\n",
       "</style>\n",
       "<table border=\"1\" class=\"dataframe\">\n",
       "  <thead>\n",
       "    <tr style=\"text-align: right;\">\n",
       "      <th></th>\n",
       "      <th>genre</th>\n",
       "      <th>name</th>\n",
       "    </tr>\n",
       "  </thead>\n",
       "  <tbody>\n",
       "    <tr>\n",
       "      <th>0</th>\n",
       "      <td>Action</td>\n",
       "      <td>3307</td>\n",
       "    </tr>\n",
       "    <tr>\n",
       "      <th>10</th>\n",
       "      <td>Sports</td>\n",
       "      <td>2305</td>\n",
       "    </tr>\n",
       "    <tr>\n",
       "      <th>3</th>\n",
       "      <td>Misc</td>\n",
       "      <td>1721</td>\n",
       "    </tr>\n",
       "    <tr>\n",
       "      <th>7</th>\n",
       "      <td>Role-Playing</td>\n",
       "      <td>1481</td>\n",
       "    </tr>\n",
       "    <tr>\n",
       "      <th>8</th>\n",
       "      <td>Shooter</td>\n",
       "      <td>1296</td>\n",
       "    </tr>\n",
       "    <tr>\n",
       "      <th>1</th>\n",
       "      <td>Adventure</td>\n",
       "      <td>1293</td>\n",
       "    </tr>\n",
       "    <tr>\n",
       "      <th>6</th>\n",
       "      <td>Racing</td>\n",
       "      <td>1225</td>\n",
       "    </tr>\n",
       "    <tr>\n",
       "      <th>4</th>\n",
       "      <td>Platform</td>\n",
       "      <td>878</td>\n",
       "    </tr>\n",
       "    <tr>\n",
       "      <th>9</th>\n",
       "      <td>Simulation</td>\n",
       "      <td>857</td>\n",
       "    </tr>\n",
       "    <tr>\n",
       "      <th>2</th>\n",
       "      <td>Fighting</td>\n",
       "      <td>837</td>\n",
       "    </tr>\n",
       "    <tr>\n",
       "      <th>11</th>\n",
       "      <td>Strategy</td>\n",
       "      <td>673</td>\n",
       "    </tr>\n",
       "    <tr>\n",
       "      <th>5</th>\n",
       "      <td>Puzzle</td>\n",
       "      <td>569</td>\n",
       "    </tr>\n",
       "  </tbody>\n",
       "</table>\n",
       "</div>"
      ],
      "text/plain": [
       "           genre  name\n",
       "0         Action  3307\n",
       "10        Sports  2305\n",
       "3           Misc  1721\n",
       "7   Role-Playing  1481\n",
       "8        Shooter  1296\n",
       "1      Adventure  1293\n",
       "6         Racing  1225\n",
       "4       Platform   878\n",
       "9     Simulation   857\n",
       "2       Fighting   837\n",
       "11      Strategy   673\n",
       "5         Puzzle   569"
      ]
     },
     "metadata": {},
     "output_type": "display_data"
    }
   ],
   "source": [
    "data_genre = (\n",
    "    data.pivot_table(index=['genre'], values='name', aggfunc='count')\n",
    "    .reset_index().sort_values(by='name', ascending=False)\n",
    "    )\n",
    "display(data_genre)"
   ]
  },
  {
   "cell_type": "code",
   "execution_count": 36,
   "metadata": {},
   "outputs": [
    {
     "data": {
      "image/png": "[encoded data removed]",
      "text/plain": [
       "<Figure size 504x504 with 1 Axes>"
      ]
     },
     "metadata": {
      "needs_background": "light"
     },
     "output_type": "display_data"
    }
   ],
   "source": [
    "x = data_genre['name']\n",
    "y = data_genre['genre'] \n",
    "sns.barplot(x = x, y = y)\n",
    "plt.title('Общее распределение игр по жанрам')\n",
    "plt.xlabel('Количество игр')\n",
    "plt.ylabel('Жанр')\n",
    "plt.gcf().set_size_inches(7,7);"
   ]
  },
  {
   "cell_type": "code",
   "execution_count": 37,
   "metadata": {},
   "outputs": [
    {
     "data": {
      "text/html": [
       "<div>\n",
       "<style scoped>\n",
       "    .dataframe tbody tr th:only-of-type {\n",
       "        vertical-align: middle;\n",
       "    }\n",
       "\n",
       "    .dataframe tbody tr th {\n",
       "        vertical-align: top;\n",
       "    }\n",
       "\n",
       "    .dataframe thead th {\n",
       "        text-align: right;\n",
       "    }\n",
       "</style>\n",
       "<table border=\"1\" class=\"dataframe\">\n",
       "  <thead>\n",
       "    <tr style=\"text-align: right;\">\n",
       "      <th></th>\n",
       "      <th>sum_sales</th>\n",
       "    </tr>\n",
       "    <tr>\n",
       "      <th>genre</th>\n",
       "      <th></th>\n",
       "    </tr>\n",
       "  </thead>\n",
       "  <tbody>\n",
       "    <tr>\n",
       "      <th>Platform</th>\n",
       "      <td>0.27</td>\n",
       "    </tr>\n",
       "    <tr>\n",
       "      <th>Shooter</th>\n",
       "      <td>0.24</td>\n",
       "    </tr>\n",
       "    <tr>\n",
       "      <th>Sports</th>\n",
       "      <td>0.22</td>\n",
       "    </tr>\n",
       "    <tr>\n",
       "      <th>Fighting</th>\n",
       "      <td>0.21</td>\n",
       "    </tr>\n",
       "    <tr>\n",
       "      <th>Action</th>\n",
       "      <td>0.19</td>\n",
       "    </tr>\n",
       "    <tr>\n",
       "      <th>Racing</th>\n",
       "      <td>0.19</td>\n",
       "    </tr>\n",
       "    <tr>\n",
       "      <th>Role-Playing</th>\n",
       "      <td>0.18</td>\n",
       "    </tr>\n",
       "    <tr>\n",
       "      <th>Misc</th>\n",
       "      <td>0.16</td>\n",
       "    </tr>\n",
       "    <tr>\n",
       "      <th>Simulation</th>\n",
       "      <td>0.15</td>\n",
       "    </tr>\n",
       "    <tr>\n",
       "      <th>Puzzle</th>\n",
       "      <td>0.10</td>\n",
       "    </tr>\n",
       "    <tr>\n",
       "      <th>Strategy</th>\n",
       "      <td>0.10</td>\n",
       "    </tr>\n",
       "    <tr>\n",
       "      <th>Adventure</th>\n",
       "      <td>0.05</td>\n",
       "    </tr>\n",
       "  </tbody>\n",
       "</table>\n",
       "</div>"
      ],
      "text/plain": [
       "              sum_sales\n",
       "genre                  \n",
       "Platform           0.27\n",
       "Shooter            0.24\n",
       "Sports             0.22\n",
       "Fighting           0.21\n",
       "Action             0.19\n",
       "Racing             0.19\n",
       "Role-Playing       0.18\n",
       "Misc               0.16\n",
       "Simulation         0.15\n",
       "Puzzle             0.10\n",
       "Strategy           0.10\n",
       "Adventure          0.05"
      ]
     },
     "metadata": {},
     "output_type": "display_data"
    }
   ],
   "source": [
    "data_genre_sum = (\n",
    "    data.pivot_table(index=['genre'], values='sum_sales', aggfunc='median')\n",
    "    .sort_values(by='sum_sales', ascending=False)\n",
    "    )\n",
    "display(data_genre_sum)"
   ]
  },
  {
   "cell_type": "markdown",
   "metadata": {},
   "source": [
    "<div class=\"alert alert-block alert-danger\"> <b> Комментарий ревьюера ❌</b>\n",
    "    \n",
    "Общие продажи - плохая метрика для поиска наиболее прибыльного жанра. За высокими показателями общих продаж может скрываться множество мелких игр с низкими продажами. Или 2-3 звезды и куча провалов. Лучше найти жанр, где игры стабильно приносят высокий доход - для этого стоит рассмотреть средние или медианные продажи.\n",
    "</div>  "
   ]
  },
  {
   "cell_type": "markdown",
   "metadata": {},
   "source": [
    "<div style=\"border:solid steelblue 3px; padding: 20px\">\n",
    "<font size=\"4\">🤔<b></b></font>\n",
    "<br /> \n",
    "<font size=\"3\", color = \"black\">\n",
    "    <br /> Заменил на медиану, дальше в регионах буду использовать среднею там иногда медиана выдает 0.   "
   ]
  },
  {
   "cell_type": "code",
   "execution_count": 38,
   "metadata": {},
   "outputs": [
    {
     "data": {
      "image/png": "[encoded data removed]",
      "text/plain": [
       "<Figure size 864x432 with 1 Axes>"
      ]
     },
     "metadata": {
      "needs_background": "light"
     },
     "output_type": "display_data"
    }
   ],
   "source": [
    "data_genre_sum.plot(kind='bar', y='sum_sales', figsize=(12, 6),  rot = 0)\n",
    "plt.title('Продажи по жанрам за все время')\n",
    "plt.xlabel('Жанр')\n",
    "plt.ylabel('Количество продаж')\n",
    "plt.show()"
   ]
  },
  {
   "cell_type": "markdown",
   "metadata": {},
   "source": [
    "- Cоотношение медианы продаж и количество игр по жанрам разница, например платформенные игры занимают 8 место по количеству, а по продажам 1 место."
   ]
  },
  {
   "cell_type": "code",
   "execution_count": 39,
   "metadata": {},
   "outputs": [
    {
     "data": {
      "text/html": [
       "<div>\n",
       "<style scoped>\n",
       "    .dataframe tbody tr th:only-of-type {\n",
       "        vertical-align: middle;\n",
       "    }\n",
       "\n",
       "    .dataframe tbody tr th {\n",
       "        vertical-align: top;\n",
       "    }\n",
       "\n",
       "    .dataframe thead th {\n",
       "        text-align: right;\n",
       "    }\n",
       "</style>\n",
       "<table border=\"1\" class=\"dataframe\">\n",
       "  <thead>\n",
       "    <tr style=\"text-align: right;\">\n",
       "      <th></th>\n",
       "      <th>sum_sales</th>\n",
       "    </tr>\n",
       "    <tr>\n",
       "      <th>genre</th>\n",
       "      <th></th>\n",
       "    </tr>\n",
       "  </thead>\n",
       "  <tbody>\n",
       "    <tr>\n",
       "      <th>Shooter</th>\n",
       "      <td>0.32</td>\n",
       "    </tr>\n",
       "    <tr>\n",
       "      <th>Fighting</th>\n",
       "      <td>0.23</td>\n",
       "    </tr>\n",
       "    <tr>\n",
       "      <th>Platform</th>\n",
       "      <td>0.21</td>\n",
       "    </tr>\n",
       "    <tr>\n",
       "      <th>Action</th>\n",
       "      <td>0.19</td>\n",
       "    </tr>\n",
       "    <tr>\n",
       "      <th>Sports</th>\n",
       "      <td>0.19</td>\n",
       "    </tr>\n",
       "  </tbody>\n",
       "</table>\n",
       "</div>"
      ],
      "text/plain": [
       "          sum_sales\n",
       "genre              \n",
       "Shooter        0.32\n",
       "Fighting       0.23\n",
       "Platform       0.21\n",
       "Action         0.19\n",
       "Sports         0.19"
      ]
     },
     "metadata": {},
     "output_type": "display_data"
    },
    {
     "data": {
      "text/html": [
       "<div>\n",
       "<style scoped>\n",
       "    .dataframe tbody tr th:only-of-type {\n",
       "        vertical-align: middle;\n",
       "    }\n",
       "\n",
       "    .dataframe tbody tr th {\n",
       "        vertical-align: top;\n",
       "    }\n",
       "\n",
       "    .dataframe thead th {\n",
       "        text-align: right;\n",
       "    }\n",
       "</style>\n",
       "<table border=\"1\" class=\"dataframe\">\n",
       "  <thead>\n",
       "    <tr style=\"text-align: right;\">\n",
       "      <th></th>\n",
       "      <th>sum_sales</th>\n",
       "    </tr>\n",
       "    <tr>\n",
       "      <th>genre</th>\n",
       "      <th></th>\n",
       "    </tr>\n",
       "  </thead>\n",
       "  <tbody>\n",
       "    <tr>\n",
       "      <th>Misc</th>\n",
       "      <td>0.130</td>\n",
       "    </tr>\n",
       "    <tr>\n",
       "      <th>Simulation</th>\n",
       "      <td>0.100</td>\n",
       "    </tr>\n",
       "    <tr>\n",
       "      <th>Strategy</th>\n",
       "      <td>0.095</td>\n",
       "    </tr>\n",
       "    <tr>\n",
       "      <th>Puzzle</th>\n",
       "      <td>0.070</td>\n",
       "    </tr>\n",
       "    <tr>\n",
       "      <th>Adventure</th>\n",
       "      <td>0.040</td>\n",
       "    </tr>\n",
       "  </tbody>\n",
       "</table>\n",
       "</div>"
      ],
      "text/plain": [
       "            sum_sales\n",
       "genre                \n",
       "Misc            0.130\n",
       "Simulation      0.100\n",
       "Strategy        0.095\n",
       "Puzzle          0.070\n",
       "Adventure       0.040"
      ]
     },
     "metadata": {},
     "output_type": "display_data"
    },
    {
     "data": {
      "image/png": "[encoded data removed]",
      "text/plain": [
       "<Figure size 1080x720 with 1 Axes>"
      ]
     },
     "metadata": {},
     "output_type": "display_data"
    }
   ],
   "source": [
    "data_g_s = (\n",
    "    data_x.pivot_table(index=['genre'], values='sum_sales', aggfunc='median')\n",
    "    .sort_values(by='sum_sales', ascending=False)\n",
    "    )\n",
    "display(data_g_s.head())\n",
    "display(data_g_s.tail())\n",
    "data_g_s.plot(kind='pie', x='genre', y='sum_sales',  figsize=(15, 10))\n",
    "plt.title('Продажи по жанрам за период с 2010 - 2012 г')\n",
    "plt.show()"
   ]
  },
  {
   "cell_type": "markdown",
   "metadata": {},
   "source": [
    "- Посмотрим данные за период с 2010 по 2012 года, лидирующие позиции занимают shooter, sports, action, platform и racing. В позиции замыкающих жанров сложились небольшие перестановки, но жанр strategy и adventure все еще является самыми не популярным.  "
   ]
  },
  {
   "cell_type": "markdown",
   "metadata": {},
   "source": [
    "## Исследование пользователей по регионам и проверка гипотез."
   ]
  },
  {
   "cell_type": "markdown",
   "metadata": {},
   "source": [
    " ### Исследование пользователей."
   ]
  },
  {
   "cell_type": "code",
   "execution_count": 40,
   "metadata": {
    "scrolled": true
   },
   "outputs": [
    {
     "data": {
      "text/html": [
       "<style  type=\"text/css\" >\n",
       "    #T_679d9_ caption {\n",
       "          color: black;\n",
       "          font-size: 15px;\n",
       "    }#T_679d9_row0_col2,#T_679d9_row0_col4,#T_679d9_row0_col6,#T_679d9_row0_col8{\n",
       "            background-color:  #08306b;\n",
       "            color:  #f1f1f1;\n",
       "        }#T_679d9_row1_col2{\n",
       "            background-color:  #b4d3e9;\n",
       "            color:  #000000;\n",
       "        }#T_679d9_row1_col4{\n",
       "            background-color:  #1561a9;\n",
       "            color:  #f1f1f1;\n",
       "        }#T_679d9_row1_col6{\n",
       "            background-color:  #abd0e6;\n",
       "            color:  #000000;\n",
       "        }#T_679d9_row1_col8{\n",
       "            background-color:  #7ab6d9;\n",
       "            color:  #000000;\n",
       "        }#T_679d9_row2_col2{\n",
       "            background-color:  #cddff1;\n",
       "            color:  #000000;\n",
       "        }#T_679d9_row2_col4{\n",
       "            background-color:  #d7e6f5;\n",
       "            color:  #000000;\n",
       "        }#T_679d9_row2_col6{\n",
       "            background-color:  #e3eef8;\n",
       "            color:  #000000;\n",
       "        }#T_679d9_row2_col8{\n",
       "            background-color:  #e8f1fa;\n",
       "            color:  #000000;\n",
       "        }#T_679d9_row3_col2{\n",
       "            background-color:  #d3e3f3;\n",
       "            color:  #000000;\n",
       "        }#T_679d9_row3_col4{\n",
       "            background-color:  #eff6fc;\n",
       "            color:  #000000;\n",
       "        }#T_679d9_row3_col6{\n",
       "            background-color:  #e3eef9;\n",
       "            color:  #000000;\n",
       "        }#T_679d9_row3_col8{\n",
       "            background-color:  #f6faff;\n",
       "            color:  #000000;\n",
       "        }#T_679d9_row4_col2,#T_679d9_row4_col4,#T_679d9_row4_col6,#T_679d9_row4_col8{\n",
       "            background-color:  #f7fbff;\n",
       "            color:  #000000;\n",
       "        }</style><table id=\"T_679d9_\" ><caption>Самые популярные платформы для пользователей каждого региона за 2010-2012 г</caption><thead>    <tr>        <th class=\"col_heading level0 col0\" >top</th>        <th class=\"col_heading level0 col1\" >platform_na</th>        <th class=\"col_heading level0 col2\" >na_sales</th>        <th class=\"col_heading level0 col3\" >platform_eu</th>        <th class=\"col_heading level0 col4\" >eu_sales</th>        <th class=\"col_heading level0 col5\" >platform_jp</th>        <th class=\"col_heading level0 col6\" >jp_sales</th>        <th class=\"col_heading level0 col7\" >platform_other</th>        <th class=\"col_heading level0 col8\" >other_sales</th>    </tr></thead><tbody>\n",
       "                <tr>\n",
       "                                <td id=\"T_679d9_row0_col0\" class=\"data row0 col0\" >1</td>\n",
       "                        <td id=\"T_679d9_row0_col1\" class=\"data row0 col1\" >X360</td>\n",
       "                        <td id=\"T_679d9_row0_col2\" class=\"data row0 col2\" >0.511174</td>\n",
       "                        <td id=\"T_679d9_row0_col3\" class=\"data row0 col3\" >PS3</td>\n",
       "                        <td id=\"T_679d9_row0_col4\" class=\"data row0 col4\" >0.267996</td>\n",
       "                        <td id=\"T_679d9_row0_col5\" class=\"data row0 col5\" >3DS</td>\n",
       "                        <td id=\"T_679d9_row0_col6\" class=\"data row0 col6\" >0.156986</td>\n",
       "                        <td id=\"T_679d9_row0_col7\" class=\"data row0 col7\" >PS3</td>\n",
       "                        <td id=\"T_679d9_row0_col8\" class=\"data row0 col8\" >0.108199</td>\n",
       "            </tr>\n",
       "            <tr>\n",
       "                                <td id=\"T_679d9_row1_col0\" class=\"data row1 col0\" >2</td>\n",
       "                        <td id=\"T_679d9_row1_col1\" class=\"data row1 col1\" >PS3</td>\n",
       "                        <td id=\"T_679d9_row1_col2\" class=\"data row1 col2\" >0.304688</td>\n",
       "                        <td id=\"T_679d9_row1_col3\" class=\"data row1 col3\" >X360</td>\n",
       "                        <td id=\"T_679d9_row1_col4\" class=\"data row1 col4\" >0.244717</td>\n",
       "                        <td id=\"T_679d9_row1_col5\" class=\"data row1 col5\" >PSP</td>\n",
       "                        <td id=\"T_679d9_row1_col6\" class=\"data row1 col6\" >0.089861</td>\n",
       "                        <td id=\"T_679d9_row1_col7\" class=\"data row1 col7\" >X360</td>\n",
       "                        <td id=\"T_679d9_row1_col8\" class=\"data row1 col8\" >0.071356</td>\n",
       "            </tr>\n",
       "            <tr>\n",
       "                                <td id=\"T_679d9_row2_col0\" class=\"data row2 col0\" >3</td>\n",
       "                        <td id=\"T_679d9_row2_col1\" class=\"data row2 col1\" >WiiU</td>\n",
       "                        <td id=\"T_679d9_row2_col2\" class=\"data row2 col2\" >0.277813</td>\n",
       "                        <td id=\"T_679d9_row2_col3\" class=\"data row2 col3\" >WiiU</td>\n",
       "                        <td id=\"T_679d9_row2_col4\" class=\"data row2 col4\" >0.165000</td>\n",
       "                        <td id=\"T_679d9_row2_col5\" class=\"data row2 col5\" >WiiU</td>\n",
       "                        <td id=\"T_679d9_row2_col6\" class=\"data row2 col6\" >0.066562</td>\n",
       "                        <td id=\"T_679d9_row2_col7\" class=\"data row2 col7\" >PSV</td>\n",
       "                        <td id=\"T_679d9_row2_col8\" class=\"data row2 col8\" >0.044648</td>\n",
       "            </tr>\n",
       "            <tr>\n",
       "                                <td id=\"T_679d9_row3_col0\" class=\"data row3 col0\" >4</td>\n",
       "                        <td id=\"T_679d9_row3_col1\" class=\"data row3 col1\" >Wii</td>\n",
       "                        <td id=\"T_679d9_row3_col2\" class=\"data row3 col2\" >0.268478</td>\n",
       "                        <td id=\"T_679d9_row3_col3\" class=\"data row3 col3\" >PC</td>\n",
       "                        <td id=\"T_679d9_row3_col4\" class=\"data row3 col4\" >0.149862</td>\n",
       "                        <td id=\"T_679d9_row3_col5\" class=\"data row3 col5\" >PS3</td>\n",
       "                        <td id=\"T_679d9_row3_col6\" class=\"data row3 col6\" >0.066011</td>\n",
       "                        <td id=\"T_679d9_row3_col7\" class=\"data row3 col7\" >Wii</td>\n",
       "                        <td id=\"T_679d9_row3_col8\" class=\"data row3 col8\" >0.039789</td>\n",
       "            </tr>\n",
       "            <tr>\n",
       "                                <td id=\"T_679d9_row4_col0\" class=\"data row4 col0\" >5</td>\n",
       "                        <td id=\"T_679d9_row4_col1\" class=\"data row4 col1\" >3DS</td>\n",
       "                        <td id=\"T_679d9_row4_col2\" class=\"data row4 col2\" >0.212679</td>\n",
       "                        <td id=\"T_679d9_row4_col3\" class=\"data row4 col3\" >3DS</td>\n",
       "                        <td id=\"T_679d9_row4_col4\" class=\"data row4 col4\" >0.145024</td>\n",
       "                        <td id=\"T_679d9_row4_col5\" class=\"data row4 col5\" >DS</td>\n",
       "                        <td id=\"T_679d9_row4_col6\" class=\"data row4 col6\" >0.055912</td>\n",
       "                        <td id=\"T_679d9_row4_col7\" class=\"data row4 col7\" >WiiU</td>\n",
       "                        <td id=\"T_679d9_row4_col8\" class=\"data row4 col8\" >0.039375</td>\n",
       "            </tr>\n",
       "    </tbody></table>"
      ],
      "text/plain": [
       "<pandas.io.formats.style.Styler at 0x7f6b82133f70>"
      ]
     },
     "metadata": {},
     "output_type": "display_data"
    }
   ],
   "source": [
    "df_platform  = pd.DataFrame(\n",
    "    ({'top': [1, 2, 3, 4, 5],\n",
    "    'platform_na': ['X360', 'PS3', 'WiiU', 'Wii', '3DS'], 'na_sales': [0.511174, 0.304688, 0.277813, 0.268478, 0.212679],\n",
    "    'platform_eu': ['PS3', 'X360', 'WiiU', 'PC', '3DS' ],'eu_sales': [0.267996, 0.244717, 0.165000, 0.149862, 0.145024],\n",
    "    'platform_jp': ['3DS', 'PSP', 'WiiU', 'PS3',  'DS', ],'jp_sales': [0.156986, 0.089861, 0.066562, 0.066011, 0.055912],\n",
    "    'platform_other': ['PS3', 'X360', 'PSV', 'Wii', 'WiiU'],'other_sales': [0.108199, 0.071356, 0.044648, 0.039789, 0.039375]})\n",
    "     )\n",
    "display(\n",
    "    (df_platform.style.background_gradient(subset=['na_sales', 'eu_sales', 'jp_sales', 'other_sales'], cmap='Blues')\n",
    "     .set_caption('Самые популярные платформы для пользователей каждого региона за 2010-2012 г')\n",
    "      .set_table_styles([{'selector': 'caption', 'props': [('color', 'black'), ('font-size', '15px')]}])\n",
    "     .hide_index())\n",
    "    )   "
   ]
  },
  {
   "cell_type": "markdown",
   "metadata": {},
   "source": [
    "- Практически во всех регионах в топы входят консоли серии Play Station, Xbox и Nintendo, в Европе также популярны игры на персональные компьютеры. Стоит обратить внимание что во всех топах также присутствует портативная консоль Nintendo DS и 3DS, а в Японии портативные консоли(DS, 3DS, PSP) занимают сразу три позиции - первое, четвертое и пятое места. "
   ]
  },
  {
   "cell_type": "markdown",
   "metadata": {},
   "source": [
    "<div class=\"alert alert-block alert-danger\"> <b> Комментарий ревьюера ❌</b>\n",
    "    \n",
    "Тут нужно будет взять данные из выбранногоактуального периода\n",
    "</div>  "
   ]
  },
  {
   "cell_type": "code",
   "execution_count": 41,
   "metadata": {},
   "outputs": [
    {
     "data": {
      "text/html": [
       "<style  type=\"text/css\" >\n",
       "    #T_ba545_ caption {\n",
       "          color: black;\n",
       "          font-size: 15px;\n",
       "    }#T_ba545_row0_col2,#T_ba545_row0_col4,#T_ba545_row0_col6,#T_ba545_row0_col8{\n",
       "            background-color:  #00441b;\n",
       "            color:  #f1f1f1;\n",
       "        }#T_ba545_row1_col2{\n",
       "            background-color:  #319a50;\n",
       "            color:  #000000;\n",
       "        }#T_ba545_row1_col4{\n",
       "            background-color:  #4bb062;\n",
       "            color:  #000000;\n",
       "        }#T_ba545_row1_col6{\n",
       "            background-color:  #3aa357;\n",
       "            color:  #000000;\n",
       "        }#T_ba545_row1_col8{\n",
       "            background-color:  #94d390;\n",
       "            color:  #000000;\n",
       "        }#T_ba545_row2_col2{\n",
       "            background-color:  #edf8e9;\n",
       "            color:  #000000;\n",
       "        }#T_ba545_row2_col4{\n",
       "            background-color:  #b0dfaa;\n",
       "            color:  #000000;\n",
       "        }#T_ba545_row2_col6{\n",
       "            background-color:  #ebf7e7;\n",
       "            color:  #000000;\n",
       "        }#T_ba545_row2_col8{\n",
       "            background-color:  #ccebc6;\n",
       "            color:  #000000;\n",
       "        }#T_ba545_row3_col2{\n",
       "            background-color:  #f4fbf1;\n",
       "            color:  #000000;\n",
       "        }#T_ba545_row3_col4,#T_ba545_row3_col8{\n",
       "            background-color:  #f6fcf4;\n",
       "            color:  #000000;\n",
       "        }#T_ba545_row3_col6{\n",
       "            background-color:  #eff9ec;\n",
       "            color:  #000000;\n",
       "        }#T_ba545_row4_col2,#T_ba545_row4_col4,#T_ba545_row4_col6,#T_ba545_row4_col8{\n",
       "            background-color:  #f7fcf5;\n",
       "            color:  #000000;\n",
       "        }</style><table id=\"T_ba545_\" ><caption>Самые популярные жанры для пользователей каждого региона за 2010-2012 г</caption><thead>    <tr>        <th class=\"col_heading level0 col0\" >top</th>        <th class=\"col_heading level0 col1\" >genre_na</th>        <th class=\"col_heading level0 col2\" >na_sales</th>        <th class=\"col_heading level0 col3\" >genre_eu</th>        <th class=\"col_heading level0 col4\" >eu_sales</th>        <th class=\"col_heading level0 col5\" >genre_jp</th>        <th class=\"col_heading level0 col6\" >jp_sales</th>        <th class=\"col_heading level0 col7\" >genre_other</th>        <th class=\"col_heading level0 col8\" >other_sales</th>    </tr></thead><tbody>\n",
       "                <tr>\n",
       "                                <td id=\"T_ba545_row0_col0\" class=\"data row0 col0\" >1</td>\n",
       "                        <td id=\"T_ba545_row0_col1\" class=\"data row0 col1\" >Shooter</td>\n",
       "                        <td id=\"T_ba545_row0_col2\" class=\"data row0 col2\" >0.572780</td>\n",
       "                        <td id=\"T_ba545_row0_col3\" class=\"data row0 col3\" >Shooter</td>\n",
       "                        <td id=\"T_ba545_row0_col4\" class=\"data row0 col4\" >0.374843</td>\n",
       "                        <td id=\"T_ba545_row0_col5\" class=\"data row0 col5\" >Role-Playing</td>\n",
       "                        <td id=\"T_ba545_row0_col6\" class=\"data row0 col6\" >0.190217</td>\n",
       "                        <td id=\"T_ba545_row0_col7\" class=\"data row0 col7\" >Shooter</td>\n",
       "                        <td id=\"T_ba545_row0_col8\" class=\"data row0 col8\" >0.125605</td>\n",
       "            </tr>\n",
       "            <tr>\n",
       "                                <td id=\"T_ba545_row1_col0\" class=\"data row1 col0\" >2</td>\n",
       "                        <td id=\"T_ba545_row1_col1\" class=\"data row1 col1\" >Platform</td>\n",
       "                        <td id=\"T_ba545_row1_col2\" class=\"data row1 col2\" >0.465316</td>\n",
       "                        <td id=\"T_ba545_row1_col3\" class=\"data row1 col3\" >Platform</td>\n",
       "                        <td id=\"T_ba545_row1_col4\" class=\"data row1 col4\" >0.287595</td>\n",
       "                        <td id=\"T_ba545_row1_col5\" class=\"data row1 col5\" >Platform</td>\n",
       "                        <td id=\"T_ba545_row1_col6\" class=\"data row1 col6\" >0.139494</td>\n",
       "                        <td id=\"T_ba545_row1_col7\" class=\"data row1 col7\" >Platform</td>\n",
       "                        <td id=\"T_ba545_row1_col8\" class=\"data row1 col8\" >0.083418</td>\n",
       "            </tr>\n",
       "            <tr>\n",
       "                                <td id=\"T_ba545_row2_col0\" class=\"data row2 col0\" >3</td>\n",
       "                        <td id=\"T_ba545_row2_col1\" class=\"data row2 col1\" >Sports</td>\n",
       "                        <td id=\"T_ba545_row2_col2\" class=\"data row2 col2\" >0.253573</td>\n",
       "                        <td id=\"T_ba545_row2_col3\" class=\"data row2 col3\" >Racing</td>\n",
       "                        <td id=\"T_ba545_row2_col4\" class=\"data row2 col4\" >0.227368</td>\n",
       "                        <td id=\"T_ba545_row2_col5\" class=\"data row2 col5\" >Simulation</td>\n",
       "                        <td id=\"T_ba545_row2_col6\" class=\"data row2 col6\" >0.056645</td>\n",
       "                        <td id=\"T_ba545_row2_col7\" class=\"data row2 col7\" >Racing</td>\n",
       "                        <td id=\"T_ba545_row2_col8\" class=\"data row2 col8\" >0.070395</td>\n",
       "            </tr>\n",
       "            <tr>\n",
       "                                <td id=\"T_ba545_row3_col0\" class=\"data row3 col0\" >4</td>\n",
       "                        <td id=\"T_ba545_row3_col1\" class=\"data row3 col1\" >Role-Playing</td>\n",
       "                        <td id=\"T_ba545_row3_col2\" class=\"data row3 col2\" >0.237862</td>\n",
       "                        <td id=\"T_ba545_row3_col3\" class=\"data row3 col3\" >Action</td>\n",
       "                        <td id=\"T_ba545_row3_col4\" class=\"data row3 col4\" >0.158436</td>\n",
       "                        <td id=\"T_ba545_row3_col5\" class=\"data row3 col5\" >Fighting</td>\n",
       "                        <td id=\"T_ba545_row3_col6\" class=\"data row3 col6\" >0.052521</td>\n",
       "                        <td id=\"T_ba545_row3_col7\" class=\"data row3 col7\" >Sports</td>\n",
       "                        <td id=\"T_ba545_row3_col8\" class=\"data row3 col8\" >0.054792</td>\n",
       "            </tr>\n",
       "            <tr>\n",
       "                                <td id=\"T_ba545_row4_col0\" class=\"data row4 col0\" >5</td>\n",
       "                        <td id=\"T_ba545_row4_col1\" class=\"data row4 col1\" >Misc</td>\n",
       "                        <td id=\"T_ba545_row4_col2\" class=\"data row4 col2\" >0.228765</td>\n",
       "                        <td id=\"T_ba545_row4_col3\" class=\"data row4 col3\" >Sports</td>\n",
       "                        <td id=\"T_ba545_row4_col4\" class=\"data row4 col4\" >0.156011</td>\n",
       "                        <td id=\"T_ba545_row4_col5\" class=\"data row4 col5\" >Strategy</td>\n",
       "                        <td id=\"T_ba545_row4_col6\" class=\"data row4 col6\" >0.044123</td>\n",
       "                        <td id=\"T_ba545_row4_col7\" class=\"data row4 col7\" >Action</td>\n",
       "                        <td id=\"T_ba545_row4_col8\" class=\"data row4 col8\" >0.054074</td>\n",
       "            </tr>\n",
       "    </tbody></table>"
      ],
      "text/plain": [
       "<pandas.io.formats.style.Styler at 0x7f6b824c1550>"
      ]
     },
     "metadata": {},
     "output_type": "display_data"
    }
   ],
   "source": [
    "df_genre  = pd.DataFrame(\n",
    "({'top': [1, 2, 3, 4, 5],\n",
    "'genre_na': ['Shooter', 'Platform', 'Sports', 'Role-Playing', 'Misc'], 'na_sales': [0.572780, 0.465316, 0.253573, 0.237862, 0.228765],\n",
    "'genre_eu': ['Shooter', 'Platform', 'Racing', 'Action', 'Sports'],'eu_sales': [0.374843, 0.287595, 0.227368, 0.158436, 0.156011],\n",
    "'genre_jp': ['Role-Playing', 'Platform', 'Simulation', 'Fighting', 'Strategy'],'jp_sales': [0.190217, 0.139494, 0.056645, 0.052521, 0.044123],\n",
    "'genre_other': ['Shooter', 'Platform', 'Racing', 'Sports', 'Action'],'other_sales': [0.125605, 0.083418, 0.070395, 0.054792, 0.054074]})\n",
    "    )\n",
    "display(df_genre.style.background_gradient(subset=['na_sales', 'eu_sales', 'jp_sales', 'other_sales'], cmap='Greens')\n",
    "     .set_caption('Самые популярные жанры для пользователей каждого региона за 2010-2012 г')\n",
    "      .set_table_styles([{'selector': 'caption', 'props': [('color', 'black'), ('font-size', '15px')]}])\n",
    "     .hide_index())"
   ]
  },
  {
   "cell_type": "markdown",
   "metadata": {},
   "source": [
    "- Наиболее популярными жанрами в многих регионах являются жанры Shooter и Platform. Начиная с третьего места предпочтения жанров начинают разница. Японию стоит рассмотреть отдельна там исторически сложилась что многие игры выходят для внутреннего рынка и сформировался отдельный поджанр JRPG что скорее всего и повлияла на то что жанр Role-Playing занял первое место хотя в остальных регионах он не входит в топ 3. Также из топа Японии пропал жанры Shooter тут можно предположить что в этом жанре проводят много киберспортивных соревновательных игр которые придают долю популярности этому жанру, но из-за запрет правительством Японии на соревнования, которые предполагают денежные призы продвижение этого жанра было не таким сильным как в других регионах. "
   ]
  },
  {
   "cell_type": "code",
   "execution_count": 42,
   "metadata": {
    "scrolled": true
   },
   "outputs": [
    {
     "data": {
      "text/html": [
       "<style  type=\"text/css\" >\n",
       "    #T_a862b_ caption {\n",
       "          color: black;\n",
       "          font-size: 15px;\n",
       "    }#T_a862b_row0_col2,#T_a862b_row0_col4,#T_a862b_row0_col6,#T_a862b_row0_col8{\n",
       "            background-color:  #7f2704;\n",
       "            color:  #f1f1f1;\n",
       "        }#T_a862b_row1_col2{\n",
       "            background-color:  #fdd7af;\n",
       "            color:  #000000;\n",
       "        }#T_a862b_row1_col4{\n",
       "            background-color:  #fdb576;\n",
       "            color:  #000000;\n",
       "        }#T_a862b_row1_col6{\n",
       "            background-color:  #f5741f;\n",
       "            color:  #000000;\n",
       "        }#T_a862b_row1_col8{\n",
       "            background-color:  #fdb678;\n",
       "            color:  #000000;\n",
       "        }#T_a862b_row2_col2{\n",
       "            background-color:  #fdd8b2;\n",
       "            color:  #000000;\n",
       "        }#T_a862b_row2_col4,#T_a862b_row2_col8{\n",
       "            background-color:  #fdc38d;\n",
       "            color:  #000000;\n",
       "        }#T_a862b_row2_col6{\n",
       "            background-color:  #fd8e3d;\n",
       "            color:  #000000;\n",
       "        }#T_a862b_row3_col2{\n",
       "            background-color:  #fff2e6;\n",
       "            color:  #000000;\n",
       "        }#T_a862b_row3_col4{\n",
       "            background-color:  #fdd3a7;\n",
       "            color:  #000000;\n",
       "        }#T_a862b_row3_col6{\n",
       "            background-color:  #fda660;\n",
       "            color:  #000000;\n",
       "        }#T_a862b_row3_col8{\n",
       "            background-color:  #fdce9e;\n",
       "            color:  #000000;\n",
       "        }#T_a862b_row4_col2,#T_a862b_row4_col4,#T_a862b_row4_col6,#T_a862b_row4_col8{\n",
       "            background-color:  #fff5eb;\n",
       "            color:  #000000;\n",
       "        }</style><table id=\"T_a862b_\" ><caption>Влияние рейтинга ESRB на среднии продажи для пользователей каждого региона за 2010-2012 г</caption><thead>    <tr>        <th class=\"col_heading level0 col0\" >top</th>        <th class=\"col_heading level0 col1\" >rating_na</th>        <th class=\"col_heading level0 col2\" >na_sales</th>        <th class=\"col_heading level0 col3\" >rating_eu</th>        <th class=\"col_heading level0 col4\" >eu_sales</th>        <th class=\"col_heading level0 col5\" >rating_jp</th>        <th class=\"col_heading level0 col6\" >jp_sales</th>        <th class=\"col_heading level0 col7\" >rating_other</th>        <th class=\"col_heading level0 col8\" >other_sales</th>    </tr></thead><tbody>\n",
       "                <tr>\n",
       "                                <td id=\"T_a862b_row0_col0\" class=\"data row0 col0\" >1</td>\n",
       "                        <td id=\"T_a862b_row0_col1\" class=\"data row0 col1\" >M</td>\n",
       "                        <td id=\"T_a862b_row0_col2\" class=\"data row0 col2\" >0.620029</td>\n",
       "                        <td id=\"T_a862b_row0_col3\" class=\"data row0 col3\" >M</td>\n",
       "                        <td id=\"T_a862b_row0_col4\" class=\"data row0 col4\" >0.419200</td>\n",
       "                        <td id=\"T_a862b_row0_col5\" class=\"data row0 col5\" >Other</td>\n",
       "                        <td id=\"T_a862b_row0_col6\" class=\"data row0 col6\" >0.072822</td>\n",
       "                        <td id=\"T_a862b_row0_col7\" class=\"data row0 col7\" >M</td>\n",
       "                        <td id=\"T_a862b_row0_col8\" class=\"data row0 col8\" >0.142686</td>\n",
       "            </tr>\n",
       "            <tr>\n",
       "                                <td id=\"T_a862b_row1_col0\" class=\"data row1 col0\" >2</td>\n",
       "                        <td id=\"T_a862b_row1_col1\" class=\"data row1 col1\" >E</td>\n",
       "                        <td id=\"T_a862b_row1_col2\" class=\"data row1 col2\" >0.302044</td>\n",
       "                        <td id=\"T_a862b_row1_col3\" class=\"data row1 col3\" >E</td>\n",
       "                        <td id=\"T_a862b_row1_col4\" class=\"data row1 col4\" >0.179214</td>\n",
       "                        <td id=\"T_a862b_row1_col5\" class=\"data row1 col5\" >E</td>\n",
       "                        <td id=\"T_a862b_row1_col6\" class=\"data row1 col6\" >0.051462</td>\n",
       "                        <td id=\"T_a862b_row1_col7\" class=\"data row1 col7\" >E</td>\n",
       "                        <td id=\"T_a862b_row1_col8\" class=\"data row1 col8\" >0.058852</td>\n",
       "            </tr>\n",
       "            <tr>\n",
       "                                <td id=\"T_a862b_row2_col0\" class=\"data row2 col0\" >3</td>\n",
       "                        <td id=\"T_a862b_row2_col1\" class=\"data row2 col1\" >E10+</td>\n",
       "                        <td id=\"T_a862b_row2_col2\" class=\"data row2 col2\" >0.299544</td>\n",
       "                        <td id=\"T_a862b_row2_col3\" class=\"data row2 col3\" >E10+</td>\n",
       "                        <td id=\"T_a862b_row2_col4\" class=\"data row2 col4\" >0.161225</td>\n",
       "                        <td id=\"T_a862b_row2_col5\" class=\"data row2 col5\" >M</td>\n",
       "                        <td id=\"T_a862b_row2_col6\" class=\"data row2 col6\" >0.046686</td>\n",
       "                        <td id=\"T_a862b_row2_col7\" class=\"data row2 col7\" >E10+</td>\n",
       "                        <td id=\"T_a862b_row2_col8\" class=\"data row2 col8\" >0.052934</td>\n",
       "            </tr>\n",
       "            <tr>\n",
       "                                <td id=\"T_a862b_row3_col0\" class=\"data row3 col0\" >4</td>\n",
       "                        <td id=\"T_a862b_row3_col1\" class=\"data row3 col1\" >EC</td>\n",
       "                        <td id=\"T_a862b_row3_col2\" class=\"data row3 col2\" >0.226000</td>\n",
       "                        <td id=\"T_a862b_row3_col3\" class=\"data row3 col3\" >T</td>\n",
       "                        <td id=\"T_a862b_row3_col4\" class=\"data row3 col4\" >0.138385</td>\n",
       "                        <td id=\"T_a862b_row3_col5\" class=\"data row3 col5\" >T</td>\n",
       "                        <td id=\"T_a862b_row3_col6\" class=\"data row3 col6\" >0.041868</td>\n",
       "                        <td id=\"T_a862b_row3_col7\" class=\"data row3 col7\" >T</td>\n",
       "                        <td id=\"T_a862b_row3_col8\" class=\"data row3 col8\" >0.047529</td>\n",
       "            </tr>\n",
       "            <tr>\n",
       "                                <td id=\"T_a862b_row4_col0\" class=\"data row4 col0\" >5</td>\n",
       "                        <td id=\"T_a862b_row4_col1\" class=\"data row4 col1\" >T</td>\n",
       "                        <td id=\"T_a862b_row4_col2\" class=\"data row4 col2\" >0.215992</td>\n",
       "                        <td id=\"T_a862b_row4_col3\" class=\"data row4 col3\" >Other</td>\n",
       "                        <td id=\"T_a862b_row4_col4\" class=\"data row4 col4\" >0.050994</td>\n",
       "                        <td id=\"T_a862b_row4_col5\" class=\"data row4 col5\" >E10+</td>\n",
       "                        <td id=\"T_a862b_row4_col6\" class=\"data row4 col6\" >0.020883</td>\n",
       "                        <td id=\"T_a862b_row4_col7\" class=\"data row4 col7\" >Other</td>\n",
       "                        <td id=\"T_a862b_row4_col8\" class=\"data row4 col8\" >0.014364</td>\n",
       "            </tr>\n",
       "    </tbody></table>"
      ],
      "text/plain": [
       "<pandas.io.formats.style.Styler at 0x7f6b821ba160>"
      ]
     },
     "metadata": {},
     "output_type": "display_data"
    }
   ],
   "source": [
    "df_rating  = pd.DataFrame(\n",
    "({'top': [1, 2, 3, 4, 5],\n",
    "'rating_na': ['M','E', 'E10+', 'EC', 'T'], 'na_sales': [0.620029, 0.302044, 0.299544, 0.226000, 0.215992],\n",
    "'rating_eu': ['M', 'E', 'E10+', 'T', 'Other'],'eu_sales': [0.419200, 0.179214, 0.161225, 0.138385, 0.050994],\n",
    "'rating_jp': ['Other','E', 'M', 'T', 'E10+'],'jp_sales': [0.072822, 0.051462, 0.046686, 0.041868, 0.020883],\n",
    "'rating_other': ['M', 'E', 'E10+','T','Other'],'other_sales': [0.142686, 0.058852, 0.052934, 0.047529, 0.014364]})\n",
    "    );\n",
    "display(df_rating.style.background_gradient(subset=['na_sales', 'eu_sales', 'jp_sales', 'other_sales'], cmap='Oranges')\n",
    "     .set_caption('Влияние рейтинга ESRB на среднии продажи для пользователей каждого региона за 2010-2012 г')\n",
    "      .set_table_styles([{'selector': 'caption', 'props': [('color', 'black'), ('font-size', '15px')]}])\n",
    "     .hide_index());"
   ]
  },
  {
   "cell_type": "markdown",
   "metadata": {},
   "source": [
    "- Первое место почти везде занимают игры с категорией М(для взрослых), на втором Е(для всех) такой игрой можно заинтересовать как взрослого так и ребенка, на третьем месте E10+(для всех от 10 лет и старше). Четвертое у всех регионов занимает Т(подростки)  кроме Северной Америки тут предпочитают более низко возрастную категорию EC(для детей младшего возраста), но разрыв с Т у них не большой. Япония выделяется на фоне остальных регионов, здесь рейтинг E более предпочтительней чем M и сдвинут в низ, а первое место занимает Other(не получившие оценку), эта возможно по причини того что ESRB оценивает игры в основном те что распространяются в Севера Американском регионе, а в Японии продается много игр для внутреннего рынка которые практически не выходят за приделы страны."
   ]
  },
  {
   "cell_type": "markdown",
   "metadata": {},
   "source": [
    "<div class=\"alert alert-block alert-danger\"> <b> Комментарий ревьюера ❌</b>\n",
    "    \n",
    "При твоем способе подсчета игры без рейтинга оказываются полностью исключенными из анализа. Но продажи именно этих игр могут указать на ключевое различие в регионах. Можно поставить значение-заглушку\n",
    "</div>  "
   ]
  },
  {
   "cell_type": "markdown",
   "metadata": {},
   "source": [
    "<div style=\"border:solid steelblue 3px; padding: 20px\">\n",
    "<font size=\"4\">🤔<b></b></font>\n",
    "<br /> \n",
    "<font size=\"3\", color = \"black\">\n",
    "    <br /> Под \"значением-заглушкой\" я так понял стоит понимать что нужна заменить пропуски на какие-нибудь категорию и оценивать уже с ней. Заменил на Other, и сравнил по средним продажам. "
   ]
  },
  {
   "cell_type": "markdown",
   "metadata": {},
   "source": [
    "### Проверка гипотез."
   ]
  },
  {
   "cell_type": "markdown",
   "metadata": {},
   "source": [
    "Возмем период времени для «PC» с релиза «Xbox One».\n",
    "\n",
    "Проверка гипотезы: средняя рейтенгов плотформ «Xbox One» и «PC» одинаковые;\n",
    "\n",
    "```\n",
    "H_0: Рейтинг проданых копий(user_score) плотформы \"Xbox One\" = рейтинг проданых копий(user_score) плотформы \"PC\"\n",
    "H_a: Рейтинг проданых копий(user_score) плотформы \"Xbox One\" ≠ рейтинг проданых копий(user_score) плотформы \"PC\"\n",
    "alpha = 0.05\n",
    "```"
   ]
  },
  {
   "cell_type": "code",
   "execution_count": 43,
   "metadata": {},
   "outputs": [],
   "source": [
    "from scipy import stats as st\n",
    "import numpy as np"
   ]
  },
  {
   "cell_type": "code",
   "execution_count": 44,
   "metadata": {},
   "outputs": [],
   "source": [
    "df_xone = data.query('platform == \"XOne\"')\n",
    "df_pc = data.query('platform == \"PC\" and 2012 < year_of_release')\n",
    "#print(df_xone.count())\n",
    "#print(df_pc.count())\n",
    "xone = df_xone['user_score'].fillna(0)\n",
    "pc = df_pc['user_score'].fillna(0)"
   ]
  },
  {
   "cell_type": "code",
   "execution_count": 45,
   "metadata": {
    "scrolled": true
   },
   "outputs": [
    {
     "name": "stdout",
     "output_type": "stream",
     "text": [
      "0.24400999542744453\n",
      "Не получилось отвергнуть нулевую гипотезу\n"
     ]
    }
   ],
   "source": [
    "results = st.ttest_ind(xone, pc, equal_var=False)# equal_var=False\n",
    "alpha = 0.05 \n",
    "print(results.pvalue)\n",
    "if results.pvalue < alpha:\n",
    "    print(\"Отвергаем нулевую гипотезу\")\n",
    "else:\n",
    "    print(\"Не получилось отвергнуть нулевую гипотезу\")"
   ]
  },
  {
   "cell_type": "markdown",
   "metadata": {},
   "source": [
    "Проверка гипотезы: средняя рейтенгов жанра «Action» и «Sports» одинаковые;\n",
    "\n",
    "```\n",
    "H_0: Рейтинг проданых копий(user_score) жанра \"Action\" = рейтинг проданых копий(user_score) жанра \"Sports\"\n",
    "H_1: Рейтинг проданых копий(user_score) жанра \"Action\" ≠ рейтинг проданых копий(user_score) жанра \"Sports\"\n",
    "alpha = 0.05\n",
    "```"
   ]
  },
  {
   "cell_type": "code",
   "execution_count": 46,
   "metadata": {},
   "outputs": [],
   "source": [
    "df_action = data_x.query('genre == \"Action\"')\n",
    "df_sports = data_x.query('genre == \"Sports\"')\n",
    "#print(df_action['user_score'].count())\n",
    "#print(df_sports['user_score'].count())\n",
    "action = df_action['user_score'].fillna(0)\n",
    "sports = df_sports['user_score'].fillna(0)"
   ]
  },
  {
   "cell_type": "code",
   "execution_count": 47,
   "metadata": {
    "scrolled": true
   },
   "outputs": [
    {
     "name": "stdout",
     "output_type": "stream",
     "text": [
      "0.0004795404678727677\n",
      "Отвергаем нулевую гипотезу\n"
     ]
    }
   ],
   "source": [
    "results = st.ttest_ind(action, sports, equal_var=False)\n",
    "alpha = 0.05 \n",
    "print(results.pvalue)\n",
    "if results.pvalue < alpha:\n",
    "    print(\"Отвергаем нулевую гипотезу\")\n",
    "else:\n",
    "    print(\"Не получилось отвергнуть нулевую гипотезу\")"
   ]
  },
  {
   "cell_type": "markdown",
   "metadata": {},
   "source": [
    "- Нулевая гипотеза формулируется так чтобы все данные находились в районе изначального значения, то есть были равны друг другу. "
   ]
  },
  {
   "cell_type": "markdown",
   "metadata": {},
   "source": [
    "- Критерий ниже 0.05 обычна используют в областях связанных с жизнью и здоровьем людей для большей надежности, но тут можно упустить связь между явлениями, а взяв критерий больше наоборот можно найти закономерность там где ее нет и потратить бюджет на ненужную рекламу , поэтому 0.05 наиболее подходящий критерий в данной ситуации. "
   ]
  },
  {
   "cell_type": "markdown",
   "metadata": {},
   "source": [
    "<div class=\"alert alert-block alert-warning\"> <b> Комментарий ревьюера ⚠️</b> \n",
    " \n",
    "В целом, верно\n",
    "   \n",
    "Только тут тоже данные будут из актуального периода\n",
    "</div>\n"
   ]
  },
  {
   "cell_type": "markdown",
   "metadata": {},
   "source": [
    "## Общий вывод."
   ]
  },
  {
   "cell_type": "markdown",
   "metadata": {},
   "source": [
    "Для выбора в какой потенциально популярный продукта стоит сделать вложения и планировать рекламные компании нужна ориентироваться на понимания того что:\n",
    "- Портретом популярной игры является игра жанра shooter, рейтинга М по организации ESRB, с оценкой от критиков выше 80 баллов, так же стоит обратить внимания на игры жанра platform, racin, sports и action, и возрастными рейтингами E, Т, E10+.\n",
    "- Стоит уделить отдельное внимание Японскому региону у него особый внутри игровой рынок, тут стоит сделать ставку в первую очередь на жанр role-playing рассчитанную на внутренний рынок и подходящею под партитивные консоли.\n",
    "- В будущем можно рассчитывать на высокие продажи платформы Play Station 4 так как она уже находится в топ 10 продаж и она будет популярна еще несколько лет, также нужна обратить внимание на Xbox One и Wii U они также будут актуальны еще несколько лет. Отдельного внимания заслуживают портативные консоли, они не конкурируют на прямую с обычными, их могут покупать в дополнение чтобы играть в поездках вне дома. У компании Nintendo, 3DS входит в топ 5 в большей части регионах, 3DS находится на одиннадцатом мести и будет еще актуальна около трех-четырех лет, но здесь стоит учесть что продажи можно будет осуществлять лишь на физических носителях. \n"
   ]
  },
  {
   "cell_type": "markdown",
   "metadata": {},
   "source": [
    "<div class=\"alert alert-block alert-warning\"> <b> Комментарий ревьюера ⚠️</b> \n",
    "\n",
    "Выводы тоже скорректируются\n",
    "</div>"
   ]
  },
  {
   "cell_type": "code",
   "execution_count": 48,
   "metadata": {},
   "outputs": [],
   "source": [
    "#data.info()\n",
    "#data.isna().sum()\n",
    "#print(data.head(20))\n",
    "#data_platform_11 = data.query('platform == \"XOne\"')\n",
    "#data_pivot_11 = data_platform_11.pivot_table(index=['year_of_release'], values='sum_sales', aggfunc='sum').reset_index()\n",
    "#data_pivot_11.plot(x='year_of_release', y='sum_sales', style='o-', xlim=(2012, 2017), grid=True, figsize=(8, 4));"
   ]
  },
  {
   "cell_type": "code",
   "execution_count": 49,
   "metadata": {},
   "outputs": [],
   "source": [
    "#%history"
   ]
  },
  {
   "cell_type": "markdown",
   "metadata": {},
   "source": [
    "<div  style=\"background-color: aliceblue; border-left: 7px solid blue; padding: 15px; \">\n",
    "<b> <font color='blue' > Ревью: заключительный комментарий </font></b> \n",
    "    \n",
    "    \n",
    "Хорошая работа! Основные пункты проекта выполнены. Очень хорошая визуализация, отличные выводы.\n",
    "\n",
    "Остались совмем немного:\n",
    "\n",
    "1) Тип данных изменить;\n",
    "2) Скорректировать актуальный период;\n",
    "3) Изменить метрику продаж;\n",
    "4) Поставить зачение-заглушку в рейтинге;\n",
    "5) Что осталось скорректировать в соответствии с актуальным периодом\n",
    "\n",
    "\n",
    "Жду тетрадку на повторное ревью\n",
    "Успехов!:)  </div>"
   ]
  }
 ],
 "metadata": {
  "ExecuteTimeLog": [
   {
    "duration": 398,
    "start_time": "2022-10-10T10:52:35.079Z"
   },
   {
    "duration": 95,
    "start_time": "2022-10-10T10:52:46.209Z"
   },
   {
    "duration": 65,
    "start_time": "2022-10-10T10:53:05.320Z"
   },
   {
    "duration": 13,
    "start_time": "2022-10-10T10:55:35.049Z"
   },
   {
    "duration": 799,
    "start_time": "2022-10-10T10:56:40.687Z"
   },
   {
    "duration": 13,
    "start_time": "2022-10-10T10:57:00.959Z"
   },
   {
    "duration": 496,
    "start_time": "2022-10-10T10:57:01.931Z"
   },
   {
    "duration": 469,
    "start_time": "2022-10-10T10:57:08.967Z"
   },
   {
    "duration": 12,
    "start_time": "2022-10-10T10:57:21.499Z"
   },
   {
    "duration": 16,
    "start_time": "2022-10-10T10:57:25.714Z"
   },
   {
    "duration": 401,
    "start_time": "2022-10-10T10:59:44.235Z"
   },
   {
    "duration": 427,
    "start_time": "2022-10-10T11:00:00.035Z"
   },
   {
    "duration": 789,
    "start_time": "2022-10-10T11:00:15.076Z"
   },
   {
    "duration": 690,
    "start_time": "2022-10-10T11:00:29.998Z"
   },
   {
    "duration": 523,
    "start_time": "2022-10-10T11:00:49.499Z"
   },
   {
    "duration": 794,
    "start_time": "2022-10-10T11:00:58.973Z"
   },
   {
    "duration": 18,
    "start_time": "2022-10-10T11:05:17.282Z"
   },
   {
    "duration": 9,
    "start_time": "2022-10-10T11:05:28.605Z"
   },
   {
    "duration": 9,
    "start_time": "2022-10-10T11:09:12.330Z"
   },
   {
    "duration": 8,
    "start_time": "2022-10-10T11:09:49.818Z"
   },
   {
    "duration": 7,
    "start_time": "2022-10-10T11:10:07.567Z"
   },
   {
    "duration": 7,
    "start_time": "2022-10-10T11:10:14.618Z"
   },
   {
    "duration": 9,
    "start_time": "2022-10-10T11:14:17.458Z"
   },
   {
    "duration": 8,
    "start_time": "2022-10-10T11:14:48.677Z"
   },
   {
    "duration": 4,
    "start_time": "2022-10-10T11:14:56.327Z"
   },
   {
    "duration": 8,
    "start_time": "2022-10-10T11:20:09.405Z"
   },
   {
    "duration": 4,
    "start_time": "2022-10-10T11:20:24.667Z"
   },
   {
    "duration": 11,
    "start_time": "2022-10-10T11:20:30.765Z"
   },
   {
    "duration": 10,
    "start_time": "2022-10-10T11:20:51.989Z"
   },
   {
    "duration": 11,
    "start_time": "2022-10-10T11:21:04.100Z"
   },
   {
    "duration": 10,
    "start_time": "2022-10-10T11:21:12.326Z"
   },
   {
    "duration": 439,
    "start_time": "2022-10-10T11:21:19.630Z"
   },
   {
    "duration": 13,
    "start_time": "2022-10-10T11:21:20.070Z"
   },
   {
    "duration": 815,
    "start_time": "2022-10-10T11:21:20.084Z"
   },
   {
    "duration": 11,
    "start_time": "2022-10-10T11:21:20.901Z"
   },
   {
    "duration": 11,
    "start_time": "2022-10-10T11:23:06.190Z"
   },
   {
    "duration": 458,
    "start_time": "2022-10-10T11:23:54.402Z"
   },
   {
    "duration": 14,
    "start_time": "2022-10-10T11:23:54.862Z"
   },
   {
    "duration": 822,
    "start_time": "2022-10-10T11:23:54.877Z"
   },
   {
    "duration": 12,
    "start_time": "2022-10-10T11:23:55.701Z"
   },
   {
    "duration": 347,
    "start_time": "2022-10-10T11:40:24.025Z"
   },
   {
    "duration": 14,
    "start_time": "2022-10-10T11:40:48.950Z"
   },
   {
    "duration": 451,
    "start_time": "2022-10-10T11:42:03.362Z"
   },
   {
    "duration": 515,
    "start_time": "2022-10-10T11:44:29.941Z"
   },
   {
    "duration": 4,
    "start_time": "2022-10-10T11:45:08.518Z"
   },
   {
    "duration": 6,
    "start_time": "2022-10-10T11:45:35.661Z"
   },
   {
    "duration": 5,
    "start_time": "2022-10-10T11:45:57.450Z"
   },
   {
    "duration": 7,
    "start_time": "2022-10-10T11:47:26.828Z"
   },
   {
    "duration": 15,
    "start_time": "2022-10-10T11:47:43.623Z"
   },
   {
    "duration": 8,
    "start_time": "2022-10-10T11:50:16.752Z"
   },
   {
    "duration": 9,
    "start_time": "2022-10-10T11:50:22.668Z"
   },
   {
    "duration": 17,
    "start_time": "2022-10-10T11:51:20.717Z"
   },
   {
    "duration": 9,
    "start_time": "2022-10-10T11:53:39.138Z"
   },
   {
    "duration": 12,
    "start_time": "2022-10-10T11:53:51.712Z"
   },
   {
    "duration": 5,
    "start_time": "2022-10-10T11:54:23.304Z"
   },
   {
    "duration": 8,
    "start_time": "2022-10-10T11:54:41.245Z"
   },
   {
    "duration": 8,
    "start_time": "2022-10-10T11:54:54.210Z"
   },
   {
    "duration": 8,
    "start_time": "2022-10-10T11:54:59.437Z"
   },
   {
    "duration": 9,
    "start_time": "2022-10-10T11:55:04.048Z"
   },
   {
    "duration": 6,
    "start_time": "2022-10-10T11:55:30.299Z"
   },
   {
    "duration": 4,
    "start_time": "2022-10-10T11:58:41.207Z"
   },
   {
    "duration": 5,
    "start_time": "2022-10-10T11:59:11.268Z"
   },
   {
    "duration": 15,
    "start_time": "2022-10-10T11:59:15.291Z"
   },
   {
    "duration": 8,
    "start_time": "2022-10-10T12:01:27.953Z"
   },
   {
    "duration": 5,
    "start_time": "2022-10-10T12:01:37.614Z"
   },
   {
    "duration": 7,
    "start_time": "2022-10-10T12:10:28.605Z"
   },
   {
    "duration": 7,
    "start_time": "2022-10-10T12:10:49.367Z"
   },
   {
    "duration": 9,
    "start_time": "2022-10-10T12:11:03.969Z"
   },
   {
    "duration": 58,
    "start_time": "2022-10-10T12:18:23.182Z"
   },
   {
    "duration": 7,
    "start_time": "2022-10-10T12:18:29.388Z"
   },
   {
    "duration": 6,
    "start_time": "2022-10-10T12:18:57.940Z"
   },
   {
    "duration": 7,
    "start_time": "2022-10-10T12:19:11.994Z"
   },
   {
    "duration": 4,
    "start_time": "2022-10-10T12:19:24.538Z"
   },
   {
    "duration": 10,
    "start_time": "2022-10-10T12:35:22.973Z"
   },
   {
    "duration": 10,
    "start_time": "2022-10-10T12:35:43.398Z"
   },
   {
    "duration": 8,
    "start_time": "2022-10-10T12:36:21.578Z"
   },
   {
    "duration": 9,
    "start_time": "2022-10-10T12:39:28.501Z"
   },
   {
    "duration": 9,
    "start_time": "2022-10-10T12:42:56.991Z"
   },
   {
    "duration": 9,
    "start_time": "2022-10-10T12:44:24.319Z"
   },
   {
    "duration": 8,
    "start_time": "2022-10-10T12:44:36.950Z"
   },
   {
    "duration": 18,
    "start_time": "2022-10-10T12:45:57.692Z"
   },
   {
    "duration": 12,
    "start_time": "2022-10-10T12:46:30.227Z"
   },
   {
    "duration": 24,
    "start_time": "2022-10-10T12:47:23.714Z"
   },
   {
    "duration": 11,
    "start_time": "2022-10-10T12:47:27.293Z"
   },
   {
    "duration": 8,
    "start_time": "2022-10-10T12:47:55.117Z"
   },
   {
    "duration": 15,
    "start_time": "2022-10-10T12:48:12.329Z"
   },
   {
    "duration": 6,
    "start_time": "2022-10-10T12:50:21.889Z"
   },
   {
    "duration": 8,
    "start_time": "2022-10-10T12:50:48.720Z"
   },
   {
    "duration": 12,
    "start_time": "2022-10-10T12:51:22.130Z"
   },
   {
    "duration": 119,
    "start_time": "2022-10-10T12:52:17.372Z"
   },
   {
    "duration": 10,
    "start_time": "2022-10-10T12:52:23.145Z"
   },
   {
    "duration": 12,
    "start_time": "2022-10-10T12:52:36.461Z"
   },
   {
    "duration": 24,
    "start_time": "2022-10-10T12:53:14.304Z"
   },
   {
    "duration": 11,
    "start_time": "2022-10-10T12:54:35.803Z"
   },
   {
    "duration": 11,
    "start_time": "2022-10-10T12:55:17.836Z"
   },
   {
    "duration": 14,
    "start_time": "2022-10-10T12:56:10.767Z"
   },
   {
    "duration": 11,
    "start_time": "2022-10-10T12:56:28.693Z"
   },
   {
    "duration": 11,
    "start_time": "2022-10-10T12:56:42.485Z"
   },
   {
    "duration": 21,
    "start_time": "2022-10-10T12:58:05.999Z"
   },
   {
    "duration": 25,
    "start_time": "2022-10-10T12:58:18.887Z"
   },
   {
    "duration": 20,
    "start_time": "2022-10-10T12:58:51.227Z"
   },
   {
    "duration": 21,
    "start_time": "2022-10-10T12:58:56.254Z"
   },
   {
    "duration": 21,
    "start_time": "2022-10-10T13:00:05.129Z"
   },
   {
    "duration": 19,
    "start_time": "2022-10-10T13:00:09.108Z"
   },
   {
    "duration": 9,
    "start_time": "2022-10-10T13:00:14.899Z"
   },
   {
    "duration": 9,
    "start_time": "2022-10-10T13:00:29.271Z"
   },
   {
    "duration": 21,
    "start_time": "2022-10-10T13:00:57.229Z"
   },
   {
    "duration": 404,
    "start_time": "2022-10-10T13:01:05.861Z"
   },
   {
    "duration": 12,
    "start_time": "2022-10-10T13:01:06.267Z"
   },
   {
    "duration": 1007,
    "start_time": "2022-10-10T13:01:06.281Z"
   },
   {
    "duration": 11,
    "start_time": "2022-10-10T13:01:07.290Z"
   },
   {
    "duration": 52,
    "start_time": "2022-10-10T13:01:07.302Z"
   },
   {
    "duration": 9,
    "start_time": "2022-10-10T13:01:07.356Z"
   },
   {
    "duration": 44,
    "start_time": "2022-10-10T13:01:07.366Z"
   },
   {
    "duration": 23,
    "start_time": "2022-10-10T13:01:07.411Z"
   },
   {
    "duration": 43,
    "start_time": "2022-10-10T13:01:07.435Z"
   },
   {
    "duration": 25,
    "start_time": "2022-10-10T13:02:02.242Z"
   },
   {
    "duration": 24,
    "start_time": "2022-10-10T13:04:52.685Z"
   },
   {
    "duration": 24,
    "start_time": "2022-10-10T13:04:57.707Z"
   },
   {
    "duration": 449,
    "start_time": "2022-10-10T13:05:59.688Z"
   },
   {
    "duration": 12,
    "start_time": "2022-10-10T13:06:00.139Z"
   },
   {
    "duration": 849,
    "start_time": "2022-10-10T13:06:00.153Z"
   },
   {
    "duration": 20,
    "start_time": "2022-10-10T13:06:01.003Z"
   },
   {
    "duration": 29,
    "start_time": "2022-10-10T13:06:01.024Z"
   },
   {
    "duration": 15,
    "start_time": "2022-10-10T13:06:01.055Z"
   },
   {
    "duration": 32,
    "start_time": "2022-10-10T13:06:01.072Z"
   },
   {
    "duration": 19,
    "start_time": "2022-10-10T13:06:01.105Z"
   },
   {
    "duration": 29,
    "start_time": "2022-10-10T13:06:01.125Z"
   },
   {
    "duration": 11,
    "start_time": "2022-10-10T13:06:19.128Z"
   },
   {
    "duration": 13,
    "start_time": "2022-10-10T13:06:54.835Z"
   },
   {
    "duration": 13,
    "start_time": "2022-10-10T13:07:04.165Z"
   },
   {
    "duration": 13,
    "start_time": "2022-10-10T13:07:06.362Z"
   },
   {
    "duration": 423,
    "start_time": "2022-10-10T13:07:13.267Z"
   },
   {
    "duration": 13,
    "start_time": "2022-10-10T13:07:13.691Z"
   },
   {
    "duration": 840,
    "start_time": "2022-10-10T13:07:13.705Z"
   },
   {
    "duration": 11,
    "start_time": "2022-10-10T13:07:14.547Z"
   },
   {
    "duration": 27,
    "start_time": "2022-10-10T13:07:14.559Z"
   },
   {
    "duration": 8,
    "start_time": "2022-10-10T13:07:14.587Z"
   },
   {
    "duration": 32,
    "start_time": "2022-10-10T13:07:14.597Z"
   },
   {
    "duration": 10,
    "start_time": "2022-10-10T13:07:14.630Z"
   },
   {
    "duration": 10,
    "start_time": "2022-10-10T13:07:14.641Z"
   },
   {
    "duration": 14,
    "start_time": "2022-10-10T13:10:03.257Z"
   },
   {
    "duration": 13,
    "start_time": "2022-10-10T13:10:30.233Z"
   },
   {
    "duration": 15,
    "start_time": "2022-10-10T13:10:35.712Z"
   },
   {
    "duration": 54,
    "start_time": "2022-10-10T13:11:01.659Z"
   },
   {
    "duration": 22,
    "start_time": "2022-10-10T13:11:06.418Z"
   },
   {
    "duration": 16,
    "start_time": "2022-10-10T13:11:26.350Z"
   },
   {
    "duration": 14,
    "start_time": "2022-10-10T13:11:35.330Z"
   },
   {
    "duration": 12,
    "start_time": "2022-10-10T13:11:43.790Z"
   },
   {
    "duration": 12,
    "start_time": "2022-10-10T13:11:58.837Z"
   },
   {
    "duration": 10,
    "start_time": "2022-10-10T13:12:34.017Z"
   },
   {
    "duration": 13,
    "start_time": "2022-10-10T13:13:13.627Z"
   },
   {
    "duration": 12,
    "start_time": "2022-10-10T13:13:17.254Z"
   },
   {
    "duration": 13,
    "start_time": "2022-10-10T13:13:24.487Z"
   },
   {
    "duration": 13,
    "start_time": "2022-10-10T13:13:40.847Z"
   },
   {
    "duration": 74,
    "start_time": "2022-10-10T13:14:47.482Z"
   },
   {
    "duration": 22,
    "start_time": "2022-10-10T13:14:56.554Z"
   },
   {
    "duration": 22,
    "start_time": "2022-10-10T13:15:15.997Z"
   },
   {
    "duration": 70,
    "start_time": "2022-10-10T13:16:21.515Z"
   },
   {
    "duration": 120,
    "start_time": "2022-10-10T13:16:33.834Z"
   },
   {
    "duration": 68,
    "start_time": "2022-10-10T13:16:52.968Z"
   },
   {
    "duration": 47,
    "start_time": "2022-10-10T13:17:18.137Z"
   },
   {
    "duration": 10,
    "start_time": "2022-10-10T13:17:25.885Z"
   },
   {
    "duration": 13,
    "start_time": "2022-10-10T13:17:32.873Z"
   },
   {
    "duration": 12,
    "start_time": "2022-10-10T13:17:43.919Z"
   },
   {
    "duration": 18,
    "start_time": "2022-10-10T13:18:28.164Z"
   },
   {
    "duration": 7,
    "start_time": "2022-10-10T13:18:29.207Z"
   },
   {
    "duration": 12,
    "start_time": "2022-10-10T13:18:46.010Z"
   },
   {
    "duration": 12,
    "start_time": "2022-10-10T13:19:22.952Z"
   },
   {
    "duration": 483,
    "start_time": "2022-10-10T13:19:35.596Z"
   },
   {
    "duration": 13,
    "start_time": "2022-10-10T13:19:36.080Z"
   },
   {
    "duration": 942,
    "start_time": "2022-10-10T13:19:36.095Z"
   },
   {
    "duration": 12,
    "start_time": "2022-10-10T13:19:37.038Z"
   },
   {
    "duration": 36,
    "start_time": "2022-10-10T13:19:37.053Z"
   },
   {
    "duration": 24,
    "start_time": "2022-10-10T13:19:37.090Z"
   },
   {
    "duration": 44,
    "start_time": "2022-10-10T13:19:37.116Z"
   },
   {
    "duration": 27,
    "start_time": "2022-10-10T13:19:37.162Z"
   },
   {
    "duration": 39,
    "start_time": "2022-10-10T13:19:37.191Z"
   },
   {
    "duration": 11,
    "start_time": "2022-10-10T13:20:02.057Z"
   },
   {
    "duration": 11,
    "start_time": "2022-10-10T13:20:05.534Z"
   },
   {
    "duration": 5,
    "start_time": "2022-10-10T13:20:13.575Z"
   },
   {
    "duration": 12,
    "start_time": "2022-10-10T13:20:20.320Z"
   },
   {
    "duration": 6,
    "start_time": "2022-10-10T13:20:34.457Z"
   },
   {
    "duration": 11,
    "start_time": "2022-10-10T13:20:44.085Z"
   },
   {
    "duration": 6,
    "start_time": "2022-10-10T13:20:48.556Z"
   },
   {
    "duration": 400,
    "start_time": "2022-10-10T13:20:53.664Z"
   },
   {
    "duration": 13,
    "start_time": "2022-10-10T13:20:54.066Z"
   },
   {
    "duration": 878,
    "start_time": "2022-10-10T13:20:54.080Z"
   },
   {
    "duration": 11,
    "start_time": "2022-10-10T13:20:54.960Z"
   },
   {
    "duration": 23,
    "start_time": "2022-10-10T13:20:54.972Z"
   },
   {
    "duration": 8,
    "start_time": "2022-10-10T13:20:54.996Z"
   },
   {
    "duration": 12,
    "start_time": "2022-10-10T13:20:55.022Z"
   },
   {
    "duration": 5,
    "start_time": "2022-10-10T13:20:55.035Z"
   },
   {
    "duration": 12,
    "start_time": "2022-10-10T13:20:55.042Z"
   },
   {
    "duration": 18,
    "start_time": "2022-10-10T13:20:55.056Z"
   },
   {
    "duration": 24,
    "start_time": "2022-10-10T13:21:33.731Z"
   },
   {
    "duration": 7,
    "start_time": "2022-10-10T13:21:35.131Z"
   },
   {
    "duration": 15,
    "start_time": "2022-10-10T13:21:37.209Z"
   },
   {
    "duration": 5,
    "start_time": "2022-10-10T13:21:38.721Z"
   },
   {
    "duration": 450,
    "start_time": "2022-10-10T13:21:48.552Z"
   },
   {
    "duration": 20,
    "start_time": "2022-10-10T13:21:49.004Z"
   },
   {
    "duration": 919,
    "start_time": "2022-10-10T13:21:49.026Z"
   },
   {
    "duration": 12,
    "start_time": "2022-10-10T13:21:49.947Z"
   },
   {
    "duration": 28,
    "start_time": "2022-10-10T13:21:49.962Z"
   },
   {
    "duration": 35,
    "start_time": "2022-10-10T13:21:49.991Z"
   },
   {
    "duration": 12,
    "start_time": "2022-10-10T13:21:50.028Z"
   },
   {
    "duration": 5,
    "start_time": "2022-10-10T13:21:50.041Z"
   },
   {
    "duration": 10,
    "start_time": "2022-10-10T13:21:50.048Z"
   },
   {
    "duration": 18,
    "start_time": "2022-10-10T13:21:50.059Z"
   },
   {
    "duration": 5,
    "start_time": "2022-10-10T13:22:53.460Z"
   },
   {
    "duration": 8,
    "start_time": "2022-10-10T13:22:54.483Z"
   },
   {
    "duration": 12,
    "start_time": "2022-10-10T13:22:56.003Z"
   },
   {
    "duration": 5,
    "start_time": "2022-10-10T13:22:56.957Z"
   },
   {
    "duration": 5,
    "start_time": "2022-10-10T13:22:59.598Z"
   },
   {
    "duration": 424,
    "start_time": "2022-10-10T13:23:07.654Z"
   },
   {
    "duration": 13,
    "start_time": "2022-10-10T13:23:08.080Z"
   },
   {
    "duration": 883,
    "start_time": "2022-10-10T13:23:08.094Z"
   },
   {
    "duration": 15,
    "start_time": "2022-10-10T13:23:08.980Z"
   },
   {
    "duration": 30,
    "start_time": "2022-10-10T13:23:08.997Z"
   },
   {
    "duration": 20,
    "start_time": "2022-10-10T13:23:09.029Z"
   },
   {
    "duration": 25,
    "start_time": "2022-10-10T13:23:09.051Z"
   },
   {
    "duration": 7,
    "start_time": "2022-10-10T13:23:09.078Z"
   },
   {
    "duration": 34,
    "start_time": "2022-10-10T13:23:09.086Z"
   },
   {
    "duration": 11,
    "start_time": "2022-10-10T13:23:09.123Z"
   },
   {
    "duration": 2,
    "start_time": "2022-10-10T13:24:41.709Z"
   },
   {
    "duration": 5,
    "start_time": "2022-10-10T13:24:44.968Z"
   },
   {
    "duration": 9,
    "start_time": "2022-10-10T13:24:49.851Z"
   },
   {
    "duration": 8,
    "start_time": "2022-10-10T13:24:51.006Z"
   },
   {
    "duration": 462,
    "start_time": "2022-10-10T13:25:07.407Z"
   },
   {
    "duration": 14,
    "start_time": "2022-10-10T13:25:07.871Z"
   },
   {
    "duration": 842,
    "start_time": "2022-10-10T13:25:07.887Z"
   },
   {
    "duration": 12,
    "start_time": "2022-10-10T13:25:08.731Z"
   },
   {
    "duration": 31,
    "start_time": "2022-10-10T13:25:08.745Z"
   },
   {
    "duration": 20,
    "start_time": "2022-10-10T13:25:08.778Z"
   },
   {
    "duration": 21,
    "start_time": "2022-10-10T13:25:08.800Z"
   },
   {
    "duration": 39,
    "start_time": "2022-10-10T13:25:08.822Z"
   },
   {
    "duration": 42,
    "start_time": "2022-10-10T13:25:08.863Z"
   },
   {
    "duration": 33,
    "start_time": "2022-10-10T13:25:08.908Z"
   },
   {
    "duration": 10,
    "start_time": "2022-10-10T13:26:01.943Z"
   },
   {
    "duration": 461,
    "start_time": "2022-10-10T13:26:14.728Z"
   },
   {
    "duration": 13,
    "start_time": "2022-10-10T13:26:15.191Z"
   },
   {
    "duration": 938,
    "start_time": "2022-10-10T13:26:15.206Z"
   },
   {
    "duration": 11,
    "start_time": "2022-10-10T13:26:16.145Z"
   },
   {
    "duration": 19,
    "start_time": "2022-10-10T13:26:16.158Z"
   },
   {
    "duration": 23,
    "start_time": "2022-10-10T13:26:16.179Z"
   },
   {
    "duration": 23,
    "start_time": "2022-10-10T13:26:16.204Z"
   },
   {
    "duration": 20,
    "start_time": "2022-10-10T13:26:16.228Z"
   },
   {
    "duration": 36,
    "start_time": "2022-10-10T13:26:16.249Z"
   },
   {
    "duration": 21,
    "start_time": "2022-10-10T13:26:16.287Z"
   },
   {
    "duration": 10,
    "start_time": "2022-10-10T13:27:38.159Z"
   },
   {
    "duration": 9,
    "start_time": "2022-10-10T13:27:39.058Z"
   },
   {
    "duration": 10,
    "start_time": "2022-10-10T13:27:40.776Z"
   },
   {
    "duration": 409,
    "start_time": "2022-10-10T13:27:48.076Z"
   },
   {
    "duration": 14,
    "start_time": "2022-10-10T13:27:48.486Z"
   },
   {
    "duration": 955,
    "start_time": "2022-10-10T13:27:48.501Z"
   },
   {
    "duration": 13,
    "start_time": "2022-10-10T13:27:49.458Z"
   },
   {
    "duration": 21,
    "start_time": "2022-10-10T13:27:49.472Z"
   },
   {
    "duration": 10,
    "start_time": "2022-10-10T13:27:49.495Z"
   },
   {
    "duration": 25,
    "start_time": "2022-10-10T13:27:49.507Z"
   },
   {
    "duration": 5,
    "start_time": "2022-10-10T13:27:49.533Z"
   },
   {
    "duration": 13,
    "start_time": "2022-10-10T13:27:49.540Z"
   },
   {
    "duration": 10,
    "start_time": "2022-10-10T13:27:49.556Z"
   },
   {
    "duration": 457,
    "start_time": "2022-10-10T13:28:09.128Z"
   },
   {
    "duration": 14,
    "start_time": "2022-10-10T13:28:09.587Z"
   },
   {
    "duration": 951,
    "start_time": "2022-10-10T13:28:09.602Z"
   },
   {
    "duration": 11,
    "start_time": "2022-10-10T13:28:10.555Z"
   },
   {
    "duration": 14,
    "start_time": "2022-10-10T13:28:10.568Z"
   },
   {
    "duration": 11,
    "start_time": "2022-10-10T13:28:10.584Z"
   },
   {
    "duration": 27,
    "start_time": "2022-10-10T13:28:10.596Z"
   },
   {
    "duration": 5,
    "start_time": "2022-10-10T13:28:10.624Z"
   },
   {
    "duration": 14,
    "start_time": "2022-10-10T13:28:10.630Z"
   },
   {
    "duration": 10,
    "start_time": "2022-10-10T13:28:10.646Z"
   },
   {
    "duration": 13,
    "start_time": "2022-10-10T13:30:23.677Z"
   },
   {
    "duration": 17,
    "start_time": "2022-10-10T13:30:35.613Z"
   },
   {
    "duration": 45,
    "start_time": "2022-10-10T13:31:19.066Z"
   },
   {
    "duration": 6,
    "start_time": "2022-10-10T13:31:22.713Z"
   },
   {
    "duration": 10,
    "start_time": "2022-10-10T13:31:27.045Z"
   },
   {
    "duration": 8,
    "start_time": "2022-10-10T13:31:32.687Z"
   },
   {
    "duration": 13,
    "start_time": "2022-10-10T13:31:53.466Z"
   },
   {
    "duration": 5,
    "start_time": "2022-10-10T13:32:58.310Z"
   },
   {
    "duration": 7,
    "start_time": "2022-10-10T13:32:59.436Z"
   },
   {
    "duration": 27,
    "start_time": "2022-10-10T13:33:01.215Z"
   },
   {
    "duration": 408,
    "start_time": "2022-10-10T13:33:07.174Z"
   },
   {
    "duration": 13,
    "start_time": "2022-10-10T13:33:07.584Z"
   },
   {
    "duration": 842,
    "start_time": "2022-10-10T13:33:07.598Z"
   },
   {
    "duration": 12,
    "start_time": "2022-10-10T13:33:08.442Z"
   },
   {
    "duration": 10,
    "start_time": "2022-10-10T13:33:08.455Z"
   },
   {
    "duration": 13,
    "start_time": "2022-10-10T13:33:08.466Z"
   },
   {
    "duration": 20,
    "start_time": "2022-10-10T13:33:08.480Z"
   },
   {
    "duration": 4,
    "start_time": "2022-10-10T13:33:08.521Z"
   },
   {
    "duration": 11,
    "start_time": "2022-10-10T13:33:08.527Z"
   },
   {
    "duration": 14,
    "start_time": "2022-10-10T13:33:08.540Z"
   },
   {
    "duration": 12,
    "start_time": "2022-10-10T13:33:08.555Z"
   },
   {
    "duration": 20,
    "start_time": "2022-10-10T13:33:16.734Z"
   },
   {
    "duration": 21,
    "start_time": "2022-10-10T13:33:32.319Z"
   },
   {
    "duration": 26,
    "start_time": "2022-10-10T13:33:48.035Z"
   },
   {
    "duration": 15,
    "start_time": "2022-10-10T13:34:22.385Z"
   },
   {
    "duration": 424,
    "start_time": "2022-10-10T13:35:18.950Z"
   },
   {
    "duration": 13,
    "start_time": "2022-10-10T13:35:19.376Z"
   },
   {
    "duration": 832,
    "start_time": "2022-10-10T13:35:19.390Z"
   },
   {
    "duration": 12,
    "start_time": "2022-10-10T13:35:20.223Z"
   },
   {
    "duration": 9,
    "start_time": "2022-10-10T13:35:20.237Z"
   },
   {
    "duration": 8,
    "start_time": "2022-10-10T13:35:20.247Z"
   },
   {
    "duration": 15,
    "start_time": "2022-10-10T13:35:20.256Z"
   },
   {
    "duration": 18,
    "start_time": "2022-10-10T13:35:20.272Z"
   },
   {
    "duration": 32,
    "start_time": "2022-10-10T13:35:20.291Z"
   },
   {
    "duration": 10,
    "start_time": "2022-10-10T13:35:30.292Z"
   },
   {
    "duration": 15,
    "start_time": "2022-10-10T14:27:47.880Z"
   },
   {
    "duration": 11,
    "start_time": "2022-10-10T14:30:25.999Z"
   },
   {
    "duration": 10,
    "start_time": "2022-10-10T14:30:52.036Z"
   },
   {
    "duration": 10,
    "start_time": "2022-10-10T14:31:02.969Z"
   },
   {
    "duration": 4,
    "start_time": "2022-10-10T14:32:18.194Z"
   },
   {
    "duration": 508,
    "start_time": "2022-10-10T14:32:25.288Z"
   },
   {
    "duration": 14,
    "start_time": "2022-10-10T14:32:25.797Z"
   },
   {
    "duration": 866,
    "start_time": "2022-10-10T14:32:25.812Z"
   },
   {
    "duration": 11,
    "start_time": "2022-10-10T14:32:26.680Z"
   },
   {
    "duration": 18,
    "start_time": "2022-10-10T14:32:26.693Z"
   },
   {
    "duration": 32,
    "start_time": "2022-10-10T14:32:26.713Z"
   },
   {
    "duration": 15,
    "start_time": "2022-10-10T14:32:26.747Z"
   },
   {
    "duration": 26,
    "start_time": "2022-10-10T14:32:26.763Z"
   },
   {
    "duration": 21,
    "start_time": "2022-10-10T14:32:26.791Z"
   },
   {
    "duration": 23,
    "start_time": "2022-10-10T14:32:26.814Z"
   },
   {
    "duration": 12,
    "start_time": "2022-10-10T14:33:12.587Z"
   },
   {
    "duration": 5,
    "start_time": "2022-10-10T14:33:55.602Z"
   },
   {
    "duration": 477,
    "start_time": "2022-10-10T14:34:03.495Z"
   },
   {
    "duration": 14,
    "start_time": "2022-10-10T14:34:03.974Z"
   },
   {
    "duration": 879,
    "start_time": "2022-10-10T14:34:03.989Z"
   },
   {
    "duration": 11,
    "start_time": "2022-10-10T14:34:04.870Z"
   },
   {
    "duration": 16,
    "start_time": "2022-10-10T14:34:04.883Z"
   },
   {
    "duration": 24,
    "start_time": "2022-10-10T14:34:04.900Z"
   },
   {
    "duration": 12,
    "start_time": "2022-10-10T14:34:04.926Z"
   },
   {
    "duration": 24,
    "start_time": "2022-10-10T14:34:04.940Z"
   },
   {
    "duration": 12,
    "start_time": "2022-10-10T14:34:04.966Z"
   },
   {
    "duration": 15,
    "start_time": "2022-10-10T14:34:04.980Z"
   },
   {
    "duration": 10,
    "start_time": "2022-10-10T14:34:21.874Z"
   },
   {
    "duration": 71,
    "start_time": "2022-10-10T14:35:13.056Z"
   },
   {
    "duration": 8,
    "start_time": "2022-10-10T14:35:18.022Z"
   },
   {
    "duration": 14,
    "start_time": "2022-10-10T14:35:30.253Z"
   },
   {
    "duration": 12,
    "start_time": "2022-10-10T14:35:46.427Z"
   },
   {
    "duration": 20,
    "start_time": "2022-10-10T14:36:00.178Z"
   },
   {
    "duration": 7,
    "start_time": "2022-10-10T14:37:26.575Z"
   },
   {
    "duration": 14,
    "start_time": "2022-10-10T14:39:23.615Z"
   },
   {
    "duration": 19,
    "start_time": "2022-10-10T14:39:36.140Z"
   },
   {
    "duration": 71,
    "start_time": "2022-10-10T14:40:10.916Z"
   },
   {
    "duration": 12,
    "start_time": "2022-10-10T14:41:51.673Z"
   },
   {
    "duration": 10,
    "start_time": "2022-10-10T14:42:01.799Z"
   },
   {
    "duration": 469,
    "start_time": "2022-10-10T14:42:20.708Z"
   },
   {
    "duration": 12,
    "start_time": "2022-10-10T14:42:21.179Z"
   },
   {
    "duration": 864,
    "start_time": "2022-10-10T14:42:21.193Z"
   },
   {
    "duration": 11,
    "start_time": "2022-10-10T14:42:22.059Z"
   },
   {
    "duration": 10,
    "start_time": "2022-10-10T14:42:22.072Z"
   },
   {
    "duration": 12,
    "start_time": "2022-10-10T14:42:22.083Z"
   },
   {
    "duration": 30,
    "start_time": "2022-10-10T14:42:22.097Z"
   },
   {
    "duration": 14,
    "start_time": "2022-10-10T14:42:22.128Z"
   },
   {
    "duration": 14,
    "start_time": "2022-10-10T14:42:22.143Z"
   },
   {
    "duration": 11,
    "start_time": "2022-10-10T14:42:22.159Z"
   },
   {
    "duration": 12,
    "start_time": "2022-10-10T14:42:22.171Z"
   },
   {
    "duration": 14,
    "start_time": "2022-10-10T14:42:59.768Z"
   },
   {
    "duration": 18,
    "start_time": "2022-10-10T14:43:08.460Z"
   },
   {
    "duration": 3,
    "start_time": "2022-10-10T14:44:49.037Z"
   },
   {
    "duration": 2,
    "start_time": "2022-10-10T14:44:51.889Z"
   },
   {
    "duration": 5,
    "start_time": "2022-10-10T14:52:07.206Z"
   },
   {
    "duration": 10,
    "start_time": "2022-10-10T14:52:11.485Z"
   },
   {
    "duration": 11,
    "start_time": "2022-10-10T14:52:28.847Z"
   },
   {
    "duration": 2,
    "start_time": "2022-10-10T14:52:40.287Z"
   },
   {
    "duration": 11,
    "start_time": "2022-10-10T14:52:51.015Z"
   },
   {
    "duration": 3,
    "start_time": "2022-10-10T14:53:29.505Z"
   },
   {
    "duration": 4,
    "start_time": "2022-10-10T14:53:30.006Z"
   },
   {
    "duration": 3,
    "start_time": "2022-10-10T14:53:30.550Z"
   },
   {
    "duration": 47,
    "start_time": "2022-10-10T15:08:47.770Z"
   },
   {
    "duration": 108,
    "start_time": "2022-10-10T15:11:59.038Z"
   },
   {
    "duration": 17,
    "start_time": "2022-10-10T15:12:18.516Z"
   },
   {
    "duration": 21,
    "start_time": "2022-10-10T15:12:56.692Z"
   },
   {
    "duration": 186,
    "start_time": "2022-10-10T15:19:26.418Z"
   },
   {
    "duration": 182,
    "start_time": "2022-10-10T15:19:38.628Z"
   },
   {
    "duration": 122,
    "start_time": "2022-10-10T15:23:22.617Z"
   },
   {
    "duration": 117,
    "start_time": "2022-10-10T15:23:35.509Z"
   },
   {
    "duration": 140,
    "start_time": "2022-10-10T15:24:13.652Z"
   },
   {
    "duration": 215,
    "start_time": "2022-10-10T15:24:36.565Z"
   },
   {
    "duration": 1236,
    "start_time": "2022-10-10T15:24:47.137Z"
   },
   {
    "duration": 649,
    "start_time": "2022-10-10T15:27:42.437Z"
   },
   {
    "duration": 1438,
    "start_time": "2022-10-10T15:28:34.664Z"
   },
   {
    "duration": 141,
    "start_time": "2022-10-10T15:29:21.225Z"
   },
   {
    "duration": 48,
    "start_time": "2022-10-10T15:31:35.642Z"
   },
   {
    "duration": 15,
    "start_time": "2022-10-10T15:31:42.739Z"
   },
   {
    "duration": 1002,
    "start_time": "2022-10-10T15:32:08.388Z"
   },
   {
    "duration": 942,
    "start_time": "2022-10-10T15:33:06.784Z"
   },
   {
    "duration": 151,
    "start_time": "2022-10-10T15:33:33.995Z"
   },
   {
    "duration": 156,
    "start_time": "2022-10-10T15:35:01.212Z"
   },
   {
    "duration": 144,
    "start_time": "2022-10-10T15:35:22.467Z"
   },
   {
    "duration": 137,
    "start_time": "2022-10-10T15:35:34.175Z"
   },
   {
    "duration": 151,
    "start_time": "2022-10-10T15:35:42.732Z"
   },
   {
    "duration": 222,
    "start_time": "2022-10-10T15:35:53.384Z"
   },
   {
    "duration": 15,
    "start_time": "2022-10-10T15:40:20.564Z"
   },
   {
    "duration": 15,
    "start_time": "2022-10-10T15:40:31.896Z"
   },
   {
    "duration": 76,
    "start_time": "2022-10-10T15:42:38.871Z"
   },
   {
    "duration": 12,
    "start_time": "2022-10-10T15:42:45.102Z"
   },
   {
    "duration": 12,
    "start_time": "2022-10-10T15:43:29.175Z"
   },
   {
    "duration": 12,
    "start_time": "2022-10-10T15:43:36.432Z"
   },
   {
    "duration": 14,
    "start_time": "2022-10-10T15:43:59.023Z"
   },
   {
    "duration": 13,
    "start_time": "2022-10-10T15:44:09.136Z"
   },
   {
    "duration": 1156,
    "start_time": "2022-10-10T15:44:34.358Z"
   },
   {
    "duration": 17,
    "start_time": "2022-10-10T15:44:35.517Z"
   },
   {
    "duration": 652,
    "start_time": "2022-10-10T15:44:35.536Z"
   },
   {
    "duration": 10,
    "start_time": "2022-10-10T15:44:36.190Z"
   },
   {
    "duration": 22,
    "start_time": "2022-10-10T15:44:36.203Z"
   },
   {
    "duration": 19,
    "start_time": "2022-10-10T15:44:36.226Z"
   },
   {
    "duration": 7,
    "start_time": "2022-10-10T15:44:36.247Z"
   },
   {
    "duration": 50,
    "start_time": "2022-10-10T15:44:36.255Z"
   },
   {
    "duration": 248,
    "start_time": "2022-10-10T15:44:36.306Z"
   },
   {
    "duration": 3,
    "start_time": "2022-10-10T15:44:36.555Z"
   },
   {
    "duration": 15,
    "start_time": "2022-10-10T15:44:36.559Z"
   },
   {
    "duration": 22,
    "start_time": "2022-10-10T15:44:36.575Z"
   },
   {
    "duration": 19,
    "start_time": "2022-10-10T15:44:36.599Z"
   },
   {
    "duration": 247,
    "start_time": "2022-10-10T15:48:10.722Z"
   },
   {
    "duration": 285,
    "start_time": "2022-10-10T15:48:25.633Z"
   },
   {
    "duration": 329,
    "start_time": "2022-10-10T15:48:42.938Z"
   },
   {
    "duration": 254,
    "start_time": "2022-10-10T15:49:05.407Z"
   },
   {
    "duration": 9,
    "start_time": "2022-10-10T15:49:17.701Z"
   },
   {
    "duration": 255,
    "start_time": "2022-10-10T15:49:27.539Z"
   },
   {
    "duration": 182,
    "start_time": "2022-10-10T15:55:54.402Z"
   },
   {
    "duration": 96,
    "start_time": "2022-10-10T15:56:03.205Z"
   },
   {
    "duration": 241,
    "start_time": "2022-10-10T15:56:10.574Z"
   },
   {
    "duration": 241,
    "start_time": "2022-10-10T15:58:18.512Z"
   },
   {
    "duration": 333,
    "start_time": "2022-10-10T15:59:12.891Z"
   },
   {
    "duration": 261,
    "start_time": "2022-10-10T15:59:23.922Z"
   },
   {
    "duration": 144,
    "start_time": "2022-10-10T15:59:39.436Z"
   },
   {
    "duration": 232,
    "start_time": "2022-10-10T16:01:53.331Z"
   },
   {
    "duration": 178,
    "start_time": "2022-10-10T16:04:06.013Z"
   },
   {
    "duration": 150,
    "start_time": "2022-10-10T16:04:18.582Z"
   },
   {
    "duration": 197,
    "start_time": "2022-10-10T16:04:28.814Z"
   },
   {
    "duration": 158,
    "start_time": "2022-10-10T16:06:23.453Z"
   },
   {
    "duration": 155,
    "start_time": "2022-10-10T16:06:40.033Z"
   },
   {
    "duration": 154,
    "start_time": "2022-10-10T16:06:51.018Z"
   },
   {
    "duration": 16,
    "start_time": "2022-10-10T16:14:23.323Z"
   },
   {
    "duration": 9,
    "start_time": "2022-10-10T16:14:42.239Z"
   },
   {
    "duration": 15,
    "start_time": "2022-10-10T16:15:54.405Z"
   },
   {
    "duration": 17,
    "start_time": "2022-10-10T16:16:12.860Z"
   },
   {
    "duration": 129,
    "start_time": "2022-10-10T16:17:01.839Z"
   },
   {
    "duration": 275,
    "start_time": "2022-10-10T16:18:05.818Z"
   },
   {
    "duration": 341,
    "start_time": "2022-10-10T16:18:24.030Z"
   },
   {
    "duration": 13,
    "start_time": "2022-10-10T16:18:28.773Z"
   },
   {
    "duration": 252,
    "start_time": "2022-10-10T16:19:42.792Z"
   },
   {
    "duration": 287,
    "start_time": "2022-10-10T16:20:05.090Z"
   },
   {
    "duration": 16,
    "start_time": "2022-10-10T16:22:12.248Z"
   },
   {
    "duration": 14,
    "start_time": "2022-10-10T16:22:24.230Z"
   },
   {
    "duration": 13,
    "start_time": "2022-10-10T16:22:32.515Z"
   },
   {
    "duration": 120,
    "start_time": "2022-10-10T16:23:01.789Z"
   },
   {
    "duration": 279,
    "start_time": "2022-10-10T16:23:10.821Z"
   },
   {
    "duration": 1208,
    "start_time": "2022-10-10T16:27:11.109Z"
   },
   {
    "duration": 13,
    "start_time": "2022-10-10T16:27:12.319Z"
   },
   {
    "duration": 665,
    "start_time": "2022-10-10T16:27:12.333Z"
   },
   {
    "duration": 24,
    "start_time": "2022-10-10T16:27:13.000Z"
   },
   {
    "duration": 9,
    "start_time": "2022-10-10T16:27:13.026Z"
   },
   {
    "duration": 10,
    "start_time": "2022-10-10T16:27:13.037Z"
   },
   {
    "duration": 5,
    "start_time": "2022-10-10T16:27:13.048Z"
   },
   {
    "duration": 51,
    "start_time": "2022-10-10T16:27:13.054Z"
   },
   {
    "duration": 9,
    "start_time": "2022-10-10T16:27:13.122Z"
   },
   {
    "duration": 174,
    "start_time": "2022-10-10T16:27:13.133Z"
   },
   {
    "duration": 21,
    "start_time": "2022-10-10T16:27:13.309Z"
   },
   {
    "duration": 303,
    "start_time": "2022-10-10T16:27:13.332Z"
   },
   {
    "duration": 3,
    "start_time": "2022-10-10T16:27:13.637Z"
   },
   {
    "duration": 12,
    "start_time": "2022-10-10T16:27:13.642Z"
   },
   {
    "duration": 6,
    "start_time": "2022-10-10T16:27:13.655Z"
   },
   {
    "duration": 5,
    "start_time": "2022-10-10T16:27:13.662Z"
   },
   {
    "duration": 349,
    "start_time": "2022-10-10T16:30:33.859Z"
   },
   {
    "duration": 259,
    "start_time": "2022-10-10T16:30:53.947Z"
   },
   {
    "duration": 1330,
    "start_time": "2022-10-12T08:26:55.861Z"
   },
   {
    "duration": 14,
    "start_time": "2022-10-12T08:26:57.193Z"
   },
   {
    "duration": 608,
    "start_time": "2022-10-12T08:26:57.208Z"
   },
   {
    "duration": 10,
    "start_time": "2022-10-12T08:26:57.818Z"
   },
   {
    "duration": 7,
    "start_time": "2022-10-12T08:26:57.829Z"
   },
   {
    "duration": 12,
    "start_time": "2022-10-12T08:26:57.837Z"
   },
   {
    "duration": 5,
    "start_time": "2022-10-12T08:26:57.851Z"
   },
   {
    "duration": 61,
    "start_time": "2022-10-12T08:26:57.857Z"
   },
   {
    "duration": 9,
    "start_time": "2022-10-12T08:26:57.919Z"
   },
   {
    "duration": 172,
    "start_time": "2022-10-12T08:26:57.930Z"
   },
   {
    "duration": 12,
    "start_time": "2022-10-12T08:26:58.103Z"
   },
   {
    "duration": 290,
    "start_time": "2022-10-12T08:26:58.116Z"
   },
   {
    "duration": 2,
    "start_time": "2022-10-12T08:26:58.407Z"
   },
   {
    "duration": 21,
    "start_time": "2022-10-12T08:26:58.411Z"
   },
   {
    "duration": 11,
    "start_time": "2022-10-12T08:26:58.434Z"
   },
   {
    "duration": 14,
    "start_time": "2022-10-12T08:26:58.446Z"
   },
   {
    "duration": 102,
    "start_time": "2022-10-12T08:30:35.745Z"
   },
   {
    "duration": 13,
    "start_time": "2022-10-12T08:30:55.193Z"
   },
   {
    "duration": 15,
    "start_time": "2022-10-12T08:32:01.324Z"
   },
   {
    "duration": 366,
    "start_time": "2022-10-12T08:32:15.600Z"
   },
   {
    "duration": 16,
    "start_time": "2022-10-12T08:33:20.232Z"
   },
   {
    "duration": 273,
    "start_time": "2022-10-12T08:33:25.491Z"
   },
   {
    "duration": 36,
    "start_time": "2022-10-12T09:05:04.553Z"
   },
   {
    "duration": 55,
    "start_time": "2022-10-12T09:05:19.968Z"
   },
   {
    "duration": 27,
    "start_time": "2022-10-12T09:06:03.527Z"
   },
   {
    "duration": 25,
    "start_time": "2022-10-12T09:07:19.424Z"
   },
   {
    "duration": 22,
    "start_time": "2022-10-12T09:18:11.274Z"
   },
   {
    "duration": 179,
    "start_time": "2022-10-12T09:19:39.400Z"
   },
   {
    "duration": 117,
    "start_time": "2022-10-12T09:20:21.200Z"
   },
   {
    "duration": 106,
    "start_time": "2022-10-12T09:20:29.878Z"
   },
   {
    "duration": 52,
    "start_time": "2022-10-12T09:21:04.280Z"
   },
   {
    "duration": 48,
    "start_time": "2022-10-12T09:21:47.776Z"
   },
   {
    "duration": 61,
    "start_time": "2022-10-12T09:22:11.921Z"
   },
   {
    "duration": 2122,
    "start_time": "2022-10-12T09:23:08.739Z"
   },
   {
    "duration": 2209,
    "start_time": "2022-10-12T09:25:48.203Z"
   },
   {
    "duration": 2289,
    "start_time": "2022-10-12T09:26:06.858Z"
   },
   {
    "duration": 225,
    "start_time": "2022-10-12T09:27:43.775Z"
   },
   {
    "duration": 866,
    "start_time": "2022-10-12T09:28:47.598Z"
   },
   {
    "duration": 1089,
    "start_time": "2022-10-12T09:29:40.396Z"
   },
   {
    "duration": 344,
    "start_time": "2022-10-12T09:29:44.362Z"
   },
   {
    "duration": 1163,
    "start_time": "2022-10-12T09:35:02.055Z"
   },
   {
    "duration": 1098,
    "start_time": "2022-10-12T09:35:16.078Z"
   },
   {
    "duration": 1162,
    "start_time": "2022-10-12T09:36:38.857Z"
   },
   {
    "duration": 1299,
    "start_time": "2022-10-12T09:36:54.766Z"
   },
   {
    "duration": 1211,
    "start_time": "2022-10-12T09:37:16.821Z"
   },
   {
    "duration": 1349,
    "start_time": "2022-10-12T09:37:24.572Z"
   },
   {
    "duration": 269,
    "start_time": "2022-10-12T09:37:29.737Z"
   },
   {
    "duration": 75,
    "start_time": "2022-10-12T09:41:19.821Z"
   },
   {
    "duration": 60,
    "start_time": "2022-10-12T09:41:36.260Z"
   },
   {
    "duration": 25,
    "start_time": "2022-10-12T09:41:48.222Z"
   },
   {
    "duration": 26,
    "start_time": "2022-10-12T09:41:59.084Z"
   },
   {
    "duration": 17,
    "start_time": "2022-10-12T09:42:20.927Z"
   },
   {
    "duration": 20,
    "start_time": "2022-10-12T09:42:42.773Z"
   },
   {
    "duration": 17,
    "start_time": "2022-10-12T09:44:18.873Z"
   },
   {
    "duration": 26,
    "start_time": "2022-10-12T09:44:31.093Z"
   },
   {
    "duration": 23,
    "start_time": "2022-10-12T09:45:20.182Z"
   },
   {
    "duration": 22,
    "start_time": "2022-10-12T09:45:38.256Z"
   },
   {
    "duration": 22,
    "start_time": "2022-10-12T09:45:56.959Z"
   },
   {
    "duration": 16,
    "start_time": "2022-10-12T09:46:32.937Z"
   },
   {
    "duration": 873,
    "start_time": "2022-10-12T09:46:38.192Z"
   },
   {
    "duration": 21,
    "start_time": "2022-10-12T09:46:58.199Z"
   },
   {
    "duration": 23,
    "start_time": "2022-10-12T09:47:20.801Z"
   },
   {
    "duration": 117,
    "start_time": "2022-10-12T09:47:58.056Z"
   },
   {
    "duration": 208,
    "start_time": "2022-10-12T09:48:53.381Z"
   },
   {
    "duration": 260,
    "start_time": "2022-10-12T09:49:20.544Z"
   },
   {
    "duration": 4,
    "start_time": "2022-10-12T09:51:50.938Z"
   },
   {
    "duration": 216,
    "start_time": "2022-10-12T09:51:56.138Z"
   },
   {
    "duration": 233,
    "start_time": "2022-10-12T09:53:30.101Z"
   },
   {
    "duration": 234,
    "start_time": "2022-10-12T09:53:43.907Z"
   },
   {
    "duration": 210,
    "start_time": "2022-10-12T09:54:18.440Z"
   },
   {
    "duration": 167,
    "start_time": "2022-10-12T09:56:48.911Z"
   },
   {
    "duration": 154,
    "start_time": "2022-10-12T09:58:16.141Z"
   },
   {
    "duration": 150,
    "start_time": "2022-10-12T09:59:40.020Z"
   },
   {
    "duration": 146,
    "start_time": "2022-10-12T10:00:02.138Z"
   },
   {
    "duration": 801,
    "start_time": "2022-10-12T10:04:41.442Z"
   },
   {
    "duration": 1596,
    "start_time": "2022-10-12T10:22:05.088Z"
   },
   {
    "duration": 18,
    "start_time": "2022-10-12T10:23:28.661Z"
   },
   {
    "duration": 2100,
    "start_time": "2022-10-12T10:27:36.600Z"
   },
   {
    "duration": 1747,
    "start_time": "2022-10-12T10:30:03.651Z"
   },
   {
    "duration": 1756,
    "start_time": "2022-10-12T10:35:50.889Z"
   },
   {
    "duration": 1693,
    "start_time": "2022-10-12T10:37:13.397Z"
   },
   {
    "duration": 1564,
    "start_time": "2022-10-12T10:43:37.993Z"
   },
   {
    "duration": 1834,
    "start_time": "2022-10-12T10:44:00.148Z"
   },
   {
    "duration": 1460,
    "start_time": "2022-10-12T10:44:28.255Z"
   },
   {
    "duration": 1741,
    "start_time": "2022-10-12T10:47:28.995Z"
   },
   {
    "duration": 1547,
    "start_time": "2022-10-12T10:48:25.098Z"
   },
   {
    "duration": 15,
    "start_time": "2022-10-12T10:51:29.970Z"
   },
   {
    "duration": 271,
    "start_time": "2022-10-12T10:52:20.390Z"
   },
   {
    "duration": 257,
    "start_time": "2022-10-12T10:52:41.903Z"
   },
   {
    "duration": 276,
    "start_time": "2022-10-12T10:52:50.726Z"
   },
   {
    "duration": 1798,
    "start_time": "2022-10-12T10:53:15.225Z"
   },
   {
    "duration": 1497,
    "start_time": "2022-10-12T10:53:59.628Z"
   },
   {
    "duration": 277,
    "start_time": "2022-10-12T10:55:16.301Z"
   },
   {
    "duration": 1139,
    "start_time": "2022-10-12T10:55:53.340Z"
   },
   {
    "duration": 23,
    "start_time": "2022-10-12T10:55:54.481Z"
   },
   {
    "duration": 670,
    "start_time": "2022-10-12T10:55:54.506Z"
   },
   {
    "duration": 11,
    "start_time": "2022-10-12T10:55:55.178Z"
   },
   {
    "duration": 8,
    "start_time": "2022-10-12T10:55:55.199Z"
   },
   {
    "duration": 20,
    "start_time": "2022-10-12T10:55:55.209Z"
   },
   {
    "duration": 10,
    "start_time": "2022-10-12T10:55:55.230Z"
   },
   {
    "duration": 52,
    "start_time": "2022-10-12T10:55:55.241Z"
   },
   {
    "duration": 10,
    "start_time": "2022-10-12T10:55:55.294Z"
   },
   {
    "duration": 198,
    "start_time": "2022-10-12T10:55:55.306Z"
   },
   {
    "duration": 21,
    "start_time": "2022-10-12T10:55:55.506Z"
   },
   {
    "duration": 299,
    "start_time": "2022-10-12T10:55:55.529Z"
   },
   {
    "duration": 141,
    "start_time": "2022-10-12T10:55:55.829Z"
   },
   {
    "duration": 316,
    "start_time": "2022-10-12T10:55:55.972Z"
   },
   {
    "duration": 271,
    "start_time": "2022-10-12T10:55:56.291Z"
   },
   {
    "duration": 285,
    "start_time": "2022-10-12T10:55:56.563Z"
   },
   {
    "duration": 307,
    "start_time": "2022-10-12T10:55:56.850Z"
   },
   {
    "duration": 299,
    "start_time": "2022-10-12T10:55:57.159Z"
   },
   {
    "duration": 3,
    "start_time": "2022-10-12T10:55:57.460Z"
   },
   {
    "duration": 26,
    "start_time": "2022-10-12T10:55:57.464Z"
   },
   {
    "duration": 7,
    "start_time": "2022-10-12T10:55:57.492Z"
   },
   {
    "duration": 7,
    "start_time": "2022-10-12T10:55:57.500Z"
   },
   {
    "duration": 379,
    "start_time": "2022-10-12T10:57:05.089Z"
   },
   {
    "duration": 1125,
    "start_time": "2022-10-12T11:54:21.272Z"
   },
   {
    "duration": 15,
    "start_time": "2022-10-12T11:54:22.399Z"
   },
   {
    "duration": 654,
    "start_time": "2022-10-12T11:54:22.415Z"
   },
   {
    "duration": 10,
    "start_time": "2022-10-12T11:54:23.071Z"
   },
   {
    "duration": 21,
    "start_time": "2022-10-12T11:54:23.083Z"
   },
   {
    "duration": 19,
    "start_time": "2022-10-12T11:54:23.106Z"
   },
   {
    "duration": 4,
    "start_time": "2022-10-12T11:54:23.127Z"
   },
   {
    "duration": 46,
    "start_time": "2022-10-12T11:54:23.133Z"
   },
   {
    "duration": 20,
    "start_time": "2022-10-12T11:54:23.181Z"
   },
   {
    "duration": 168,
    "start_time": "2022-10-12T11:54:23.204Z"
   },
   {
    "duration": 15,
    "start_time": "2022-10-12T11:54:23.373Z"
   },
   {
    "duration": 296,
    "start_time": "2022-10-12T11:54:23.389Z"
   },
   {
    "duration": 149,
    "start_time": "2022-10-12T11:54:23.687Z"
   },
   {
    "duration": 287,
    "start_time": "2022-10-12T11:54:23.838Z"
   },
   {
    "duration": 290,
    "start_time": "2022-10-12T11:54:24.127Z"
   },
   {
    "duration": 361,
    "start_time": "2022-10-12T11:54:24.419Z"
   },
   {
    "duration": 297,
    "start_time": "2022-10-12T11:54:24.782Z"
   },
   {
    "duration": 285,
    "start_time": "2022-10-12T11:54:25.081Z"
   },
   {
    "duration": 2,
    "start_time": "2022-10-12T11:54:25.368Z"
   },
   {
    "duration": 8,
    "start_time": "2022-10-12T11:54:25.372Z"
   },
   {
    "duration": 9,
    "start_time": "2022-10-12T11:54:25.382Z"
   },
   {
    "duration": 14,
    "start_time": "2022-10-12T11:54:25.393Z"
   },
   {
    "duration": 17,
    "start_time": "2022-10-12T12:17:53.905Z"
   },
   {
    "duration": 21,
    "start_time": "2022-10-12T12:19:05.144Z"
   },
   {
    "duration": 332,
    "start_time": "2022-10-12T12:19:11.530Z"
   },
   {
    "duration": 17,
    "start_time": "2022-10-12T12:19:32.843Z"
   },
   {
    "duration": 221,
    "start_time": "2022-10-12T12:19:46.979Z"
   },
   {
    "duration": 238,
    "start_time": "2022-10-12T12:19:57.519Z"
   },
   {
    "duration": 141,
    "start_time": "2022-10-12T14:42:06.448Z"
   },
   {
    "duration": 129,
    "start_time": "2022-10-12T14:42:17.849Z"
   },
   {
    "duration": 239,
    "start_time": "2022-10-12T14:54:45.640Z"
   },
   {
    "duration": 90,
    "start_time": "2022-10-12T14:58:50.147Z"
   },
   {
    "duration": 175,
    "start_time": "2022-10-12T15:01:33.304Z"
   },
   {
    "duration": 244,
    "start_time": "2022-10-12T15:01:54.652Z"
   },
   {
    "duration": 180,
    "start_time": "2022-10-12T15:02:08.120Z"
   },
   {
    "duration": 185,
    "start_time": "2022-10-12T15:02:23.242Z"
   },
   {
    "duration": 92,
    "start_time": "2022-10-12T15:04:30.592Z"
   },
   {
    "duration": 84,
    "start_time": "2022-10-12T15:04:56.992Z"
   },
   {
    "duration": 93,
    "start_time": "2022-10-12T15:05:10.574Z"
   },
   {
    "duration": 102,
    "start_time": "2022-10-12T15:05:22.838Z"
   },
   {
    "duration": 86,
    "start_time": "2022-10-12T15:05:28.243Z"
   },
   {
    "duration": 90,
    "start_time": "2022-10-12T15:05:39.664Z"
   },
   {
    "duration": 174,
    "start_time": "2022-10-12T15:05:51.348Z"
   },
   {
    "duration": 92,
    "start_time": "2022-10-12T15:05:58.830Z"
   },
   {
    "duration": 88,
    "start_time": "2022-10-12T15:06:17.115Z"
   },
   {
    "duration": 84,
    "start_time": "2022-10-12T15:06:29.855Z"
   },
   {
    "duration": 107,
    "start_time": "2022-10-12T15:06:57.393Z"
   },
   {
    "duration": 85,
    "start_time": "2022-10-12T15:07:13.287Z"
   },
   {
    "duration": 83,
    "start_time": "2022-10-12T15:07:23.596Z"
   },
   {
    "duration": 88,
    "start_time": "2022-10-12T15:07:55.223Z"
   },
   {
    "duration": 79,
    "start_time": "2022-10-12T15:08:09.830Z"
   },
   {
    "duration": 81,
    "start_time": "2022-10-12T15:08:58.676Z"
   },
   {
    "duration": 83,
    "start_time": "2022-10-12T15:09:12.779Z"
   },
   {
    "duration": 89,
    "start_time": "2022-10-12T15:09:35.686Z"
   },
   {
    "duration": 97,
    "start_time": "2022-10-12T15:09:46.176Z"
   },
   {
    "duration": 159,
    "start_time": "2022-10-12T15:09:56.063Z"
   },
   {
    "duration": 87,
    "start_time": "2022-10-12T15:10:05.809Z"
   },
   {
    "duration": 88,
    "start_time": "2022-10-12T15:10:38.192Z"
   },
   {
    "duration": 268,
    "start_time": "2022-10-12T15:22:48.405Z"
   },
   {
    "duration": 262,
    "start_time": "2022-10-12T15:23:03.686Z"
   },
   {
    "duration": 137,
    "start_time": "2022-10-12T15:23:25.431Z"
   },
   {
    "duration": 132,
    "start_time": "2022-10-12T15:23:35.681Z"
   },
   {
    "duration": 158,
    "start_time": "2022-10-12T15:53:17.165Z"
   },
   {
    "duration": 1407,
    "start_time": "2022-10-13T10:40:30.596Z"
   },
   {
    "duration": 13,
    "start_time": "2022-10-13T10:40:32.004Z"
   },
   {
    "duration": 633,
    "start_time": "2022-10-13T10:40:32.019Z"
   },
   {
    "duration": 11,
    "start_time": "2022-10-13T10:40:32.654Z"
   },
   {
    "duration": 20,
    "start_time": "2022-10-13T10:40:32.667Z"
   },
   {
    "duration": 18,
    "start_time": "2022-10-13T10:40:32.689Z"
   },
   {
    "duration": 27,
    "start_time": "2022-10-13T10:40:32.708Z"
   },
   {
    "duration": 46,
    "start_time": "2022-10-13T10:40:32.736Z"
   },
   {
    "duration": 8,
    "start_time": "2022-10-13T10:40:32.783Z"
   },
   {
    "duration": 159,
    "start_time": "2022-10-13T10:40:32.792Z"
   },
   {
    "duration": 15,
    "start_time": "2022-10-13T10:40:32.953Z"
   },
   {
    "duration": 236,
    "start_time": "2022-10-13T10:40:32.969Z"
   },
   {
    "duration": 133,
    "start_time": "2022-10-13T10:40:33.206Z"
   },
   {
    "duration": 290,
    "start_time": "2022-10-13T10:40:33.341Z"
   },
   {
    "duration": 259,
    "start_time": "2022-10-13T10:40:33.633Z"
   },
   {
    "duration": 144,
    "start_time": "2022-10-13T10:40:33.900Z"
   },
   {
    "duration": 173,
    "start_time": "2022-10-13T10:40:34.046Z"
   },
   {
    "duration": 368,
    "start_time": "2022-10-13T10:40:34.221Z"
   },
   {
    "duration": 302,
    "start_time": "2022-10-13T10:40:34.591Z"
   },
   {
    "duration": 89,
    "start_time": "2022-10-13T10:40:34.894Z"
   },
   {
    "duration": 165,
    "start_time": "2022-10-13T10:40:34.984Z"
   },
   {
    "duration": 98,
    "start_time": "2022-10-13T10:40:35.151Z"
   },
   {
    "duration": 3,
    "start_time": "2022-10-13T10:40:35.251Z"
   },
   {
    "duration": 26,
    "start_time": "2022-10-13T10:40:35.256Z"
   },
   {
    "duration": 43,
    "start_time": "2022-10-13T10:40:35.284Z"
   },
   {
    "duration": 46,
    "start_time": "2022-10-13T10:40:35.329Z"
   },
   {
    "duration": 149,
    "start_time": "2022-10-13T10:40:35.376Z"
   },
   {
    "duration": 98,
    "start_time": "2022-10-13T10:45:04.038Z"
   },
   {
    "duration": 94,
    "start_time": "2022-10-13T10:45:51.717Z"
   },
   {
    "duration": 90,
    "start_time": "2022-10-13T10:46:23.725Z"
   },
   {
    "duration": 88,
    "start_time": "2022-10-13T10:48:00.550Z"
   },
   {
    "duration": 110,
    "start_time": "2022-10-13T12:27:48.840Z"
   },
   {
    "duration": 88,
    "start_time": "2022-10-13T12:28:15.562Z"
   },
   {
    "duration": 98,
    "start_time": "2022-10-13T12:28:21.737Z"
   },
   {
    "duration": 103,
    "start_time": "2022-10-13T12:28:45.950Z"
   },
   {
    "duration": 87,
    "start_time": "2022-10-13T12:29:00.412Z"
   },
   {
    "duration": 5,
    "start_time": "2022-10-13T12:30:21.561Z"
   },
   {
    "duration": 6,
    "start_time": "2022-10-13T12:31:03.309Z"
   },
   {
    "duration": 5,
    "start_time": "2022-10-13T12:31:12.331Z"
   },
   {
    "duration": 9,
    "start_time": "2022-10-13T12:32:38.470Z"
   },
   {
    "duration": 12,
    "start_time": "2022-10-13T12:32:45.315Z"
   },
   {
    "duration": 8,
    "start_time": "2022-10-13T12:33:45.481Z"
   },
   {
    "duration": 1188,
    "start_time": "2022-10-13T12:34:08.634Z"
   },
   {
    "duration": 15,
    "start_time": "2022-10-13T12:34:09.823Z"
   },
   {
    "duration": 755,
    "start_time": "2022-10-13T12:34:09.840Z"
   },
   {
    "duration": 18,
    "start_time": "2022-10-13T12:34:10.597Z"
   },
   {
    "duration": 22,
    "start_time": "2022-10-13T12:34:10.616Z"
   },
   {
    "duration": 17,
    "start_time": "2022-10-13T12:34:10.641Z"
   },
   {
    "duration": 5,
    "start_time": "2022-10-13T12:34:10.659Z"
   },
   {
    "duration": 57,
    "start_time": "2022-10-13T12:34:10.665Z"
   },
   {
    "duration": 9,
    "start_time": "2022-10-13T12:34:10.723Z"
   },
   {
    "duration": 190,
    "start_time": "2022-10-13T12:34:10.735Z"
   },
   {
    "duration": 17,
    "start_time": "2022-10-13T12:34:10.927Z"
   },
   {
    "duration": 273,
    "start_time": "2022-10-13T12:34:10.946Z"
   },
   {
    "duration": 147,
    "start_time": "2022-10-13T12:34:11.220Z"
   },
   {
    "duration": 351,
    "start_time": "2022-10-13T12:34:11.369Z"
   },
   {
    "duration": 332,
    "start_time": "2022-10-13T12:34:11.722Z"
   },
   {
    "duration": 164,
    "start_time": "2022-10-13T12:34:12.056Z"
   },
   {
    "duration": 159,
    "start_time": "2022-10-13T12:34:12.222Z"
   },
   {
    "duration": 334,
    "start_time": "2022-10-13T12:34:12.382Z"
   },
   {
    "duration": 319,
    "start_time": "2022-10-13T12:34:12.718Z"
   },
   {
    "duration": 115,
    "start_time": "2022-10-13T12:34:13.038Z"
   },
   {
    "duration": 178,
    "start_time": "2022-10-13T12:34:13.155Z"
   },
   {
    "duration": 111,
    "start_time": "2022-10-13T12:34:13.334Z"
   },
   {
    "duration": 115,
    "start_time": "2022-10-13T12:34:13.447Z"
   },
   {
    "duration": 115,
    "start_time": "2022-10-13T12:34:13.564Z"
   },
   {
    "duration": 2,
    "start_time": "2022-10-13T12:34:13.680Z"
   },
   {
    "duration": 6,
    "start_time": "2022-10-13T12:34:13.684Z"
   },
   {
    "duration": 21,
    "start_time": "2022-10-13T12:34:13.691Z"
   },
   {
    "duration": 14,
    "start_time": "2022-10-13T12:34:13.716Z"
   },
   {
    "duration": 160,
    "start_time": "2022-10-13T12:34:13.732Z"
   },
   {
    "duration": 100,
    "start_time": "2022-10-13T12:34:13.893Z"
   },
   {
    "duration": 8,
    "start_time": "2022-10-13T12:34:58.460Z"
   },
   {
    "duration": 11,
    "start_time": "2022-10-13T12:35:50.998Z"
   },
   {
    "duration": 9,
    "start_time": "2022-10-13T12:36:20.230Z"
   },
   {
    "duration": 8,
    "start_time": "2022-10-13T12:36:47.119Z"
   },
   {
    "duration": 1150,
    "start_time": "2022-10-13T12:37:04.083Z"
   },
   {
    "duration": 12,
    "start_time": "2022-10-13T12:37:05.234Z"
   },
   {
    "duration": 659,
    "start_time": "2022-10-13T12:37:05.248Z"
   },
   {
    "duration": 10,
    "start_time": "2022-10-13T12:37:05.909Z"
   },
   {
    "duration": 8,
    "start_time": "2022-10-13T12:37:05.921Z"
   },
   {
    "duration": 11,
    "start_time": "2022-10-13T12:37:05.930Z"
   },
   {
    "duration": 5,
    "start_time": "2022-10-13T12:37:05.942Z"
   },
   {
    "duration": 72,
    "start_time": "2022-10-13T12:37:05.948Z"
   },
   {
    "duration": 9,
    "start_time": "2022-10-13T12:37:06.021Z"
   },
   {
    "duration": 174,
    "start_time": "2022-10-13T12:37:06.032Z"
   },
   {
    "duration": 17,
    "start_time": "2022-10-13T12:37:06.207Z"
   },
   {
    "duration": 248,
    "start_time": "2022-10-13T12:37:06.225Z"
   },
   {
    "duration": 145,
    "start_time": "2022-10-13T12:37:06.475Z"
   },
   {
    "duration": 289,
    "start_time": "2022-10-13T12:37:06.623Z"
   },
   {
    "duration": 272,
    "start_time": "2022-10-13T12:37:06.914Z"
   },
   {
    "duration": 146,
    "start_time": "2022-10-13T12:37:07.188Z"
   },
   {
    "duration": 152,
    "start_time": "2022-10-13T12:37:07.336Z"
   },
   {
    "duration": 287,
    "start_time": "2022-10-13T12:37:07.489Z"
   },
   {
    "duration": 273,
    "start_time": "2022-10-13T12:37:07.777Z"
   },
   {
    "duration": 95,
    "start_time": "2022-10-13T12:37:08.052Z"
   },
   {
    "duration": 161,
    "start_time": "2022-10-13T12:37:08.148Z"
   },
   {
    "duration": 98,
    "start_time": "2022-10-13T12:37:08.310Z"
   },
   {
    "duration": 93,
    "start_time": "2022-10-13T12:37:08.410Z"
   },
   {
    "duration": 104,
    "start_time": "2022-10-13T12:37:08.505Z"
   },
   {
    "duration": 2,
    "start_time": "2022-10-13T12:37:08.611Z"
   },
   {
    "duration": 5,
    "start_time": "2022-10-13T12:37:08.615Z"
   },
   {
    "duration": 6,
    "start_time": "2022-10-13T12:37:08.622Z"
   },
   {
    "duration": 17,
    "start_time": "2022-10-13T12:37:08.629Z"
   },
   {
    "duration": 133,
    "start_time": "2022-10-13T12:37:08.647Z"
   },
   {
    "duration": 97,
    "start_time": "2022-10-13T12:37:08.782Z"
   },
   {
    "duration": 10,
    "start_time": "2022-10-13T12:37:44.412Z"
   },
   {
    "duration": 7,
    "start_time": "2022-10-13T12:38:02.521Z"
   },
   {
    "duration": 6,
    "start_time": "2022-10-13T12:38:21.499Z"
   },
   {
    "duration": 7,
    "start_time": "2022-10-13T12:38:46.778Z"
   },
   {
    "duration": 6,
    "start_time": "2022-10-13T12:39:07.011Z"
   },
   {
    "duration": 94,
    "start_time": "2022-10-13T12:40:31.270Z"
   },
   {
    "duration": 736,
    "start_time": "2022-10-13T12:41:00.803Z"
   },
   {
    "duration": 98,
    "start_time": "2022-10-13T12:41:16.750Z"
   },
   {
    "duration": 123,
    "start_time": "2022-10-13T12:41:25.901Z"
   },
   {
    "duration": 130,
    "start_time": "2022-10-13T12:42:26.790Z"
   },
   {
    "duration": 117,
    "start_time": "2022-10-13T12:42:42.864Z"
   },
   {
    "duration": 235,
    "start_time": "2022-10-13T12:42:58.721Z"
   },
   {
    "duration": 139,
    "start_time": "2022-10-13T12:43:11.608Z"
   },
   {
    "duration": 135,
    "start_time": "2022-10-13T12:43:33.972Z"
   },
   {
    "duration": 119,
    "start_time": "2022-10-13T12:43:50.613Z"
   },
   {
    "duration": 170,
    "start_time": "2022-10-13T12:44:20.960Z"
   },
   {
    "duration": 93,
    "start_time": "2022-10-13T12:53:28.692Z"
   },
   {
    "duration": 90,
    "start_time": "2022-10-13T12:53:47.770Z"
   },
   {
    "duration": 98,
    "start_time": "2022-10-13T12:53:56.465Z"
   },
   {
    "duration": 82,
    "start_time": "2022-10-13T12:54:06.737Z"
   },
   {
    "duration": 103,
    "start_time": "2022-10-13T12:54:25.239Z"
   },
   {
    "duration": 94,
    "start_time": "2022-10-13T12:54:36.588Z"
   },
   {
    "duration": 83,
    "start_time": "2022-10-13T12:55:02.056Z"
   },
   {
    "duration": 97,
    "start_time": "2022-10-13T12:55:43.483Z"
   },
   {
    "duration": 91,
    "start_time": "2022-10-13T13:10:42.228Z"
   },
   {
    "duration": 90,
    "start_time": "2022-10-13T13:11:11.451Z"
   },
   {
    "duration": 90,
    "start_time": "2022-10-13T13:11:31.850Z"
   },
   {
    "duration": 98,
    "start_time": "2022-10-13T13:11:54.224Z"
   },
   {
    "duration": 89,
    "start_time": "2022-10-13T13:12:46.449Z"
   },
   {
    "duration": 92,
    "start_time": "2022-10-13T13:12:57.791Z"
   },
   {
    "duration": 4,
    "start_time": "2022-10-13T13:14:59.291Z"
   },
   {
    "duration": 131,
    "start_time": "2022-10-13T13:15:11.773Z"
   },
   {
    "duration": 98,
    "start_time": "2022-10-13T13:15:28.141Z"
   },
   {
    "duration": 99,
    "start_time": "2022-10-13T13:16:28.392Z"
   },
   {
    "duration": 98,
    "start_time": "2022-10-13T13:17:00.130Z"
   },
   {
    "duration": 238,
    "start_time": "2022-10-13T13:17:20.499Z"
   },
   {
    "duration": 96,
    "start_time": "2022-10-13T13:17:37.159Z"
   },
   {
    "duration": 125,
    "start_time": "2022-10-13T13:18:22.171Z"
   },
   {
    "duration": 89,
    "start_time": "2022-10-13T13:19:00.235Z"
   },
   {
    "duration": 93,
    "start_time": "2022-10-13T13:19:51.120Z"
   },
   {
    "duration": 89,
    "start_time": "2022-10-13T13:20:20.241Z"
   },
   {
    "duration": 9,
    "start_time": "2022-10-13T13:21:44.830Z"
   },
   {
    "duration": 14,
    "start_time": "2022-10-13T13:21:46.445Z"
   },
   {
    "duration": 17,
    "start_time": "2022-10-13T13:22:17.490Z"
   },
   {
    "duration": 7,
    "start_time": "2022-10-13T13:23:07.670Z"
   },
   {
    "duration": 16,
    "start_time": "2022-10-13T13:23:08.231Z"
   },
   {
    "duration": 13,
    "start_time": "2022-10-13T13:23:35.974Z"
   },
   {
    "duration": 18,
    "start_time": "2022-10-13T13:23:57.570Z"
   },
   {
    "duration": 1108,
    "start_time": "2022-10-13T13:24:38.886Z"
   },
   {
    "duration": 14,
    "start_time": "2022-10-13T13:24:39.997Z"
   },
   {
    "duration": 671,
    "start_time": "2022-10-13T13:24:40.013Z"
   },
   {
    "duration": 18,
    "start_time": "2022-10-13T13:24:40.686Z"
   },
   {
    "duration": 7,
    "start_time": "2022-10-13T13:24:40.707Z"
   },
   {
    "duration": 11,
    "start_time": "2022-10-13T13:24:40.716Z"
   },
   {
    "duration": 10,
    "start_time": "2022-10-13T13:24:40.729Z"
   },
   {
    "duration": 72,
    "start_time": "2022-10-13T13:24:40.741Z"
   },
   {
    "duration": 22,
    "start_time": "2022-10-13T13:24:40.814Z"
   },
   {
    "duration": 172,
    "start_time": "2022-10-13T13:24:40.838Z"
   },
   {
    "duration": 18,
    "start_time": "2022-10-13T13:24:41.012Z"
   },
   {
    "duration": 256,
    "start_time": "2022-10-13T13:24:41.031Z"
   },
   {
    "duration": 161,
    "start_time": "2022-10-13T13:24:41.288Z"
   },
   {
    "duration": 334,
    "start_time": "2022-10-13T13:24:41.452Z"
   },
   {
    "duration": 275,
    "start_time": "2022-10-13T13:24:41.788Z"
   },
   {
    "duration": 148,
    "start_time": "2022-10-13T13:24:42.064Z"
   },
   {
    "duration": 152,
    "start_time": "2022-10-13T13:24:42.213Z"
   },
   {
    "duration": 320,
    "start_time": "2022-10-13T13:24:42.366Z"
   },
   {
    "duration": 332,
    "start_time": "2022-10-13T13:24:42.687Z"
   },
   {
    "duration": 101,
    "start_time": "2022-10-13T13:24:43.021Z"
   },
   {
    "duration": 200,
    "start_time": "2022-10-13T13:24:43.123Z"
   },
   {
    "duration": 115,
    "start_time": "2022-10-13T13:24:43.325Z"
   },
   {
    "duration": 107,
    "start_time": "2022-10-13T13:24:43.442Z"
   },
   {
    "duration": 126,
    "start_time": "2022-10-13T13:24:43.551Z"
   },
   {
    "duration": 3,
    "start_time": "2022-10-13T13:24:43.679Z"
   },
   {
    "duration": 17,
    "start_time": "2022-10-13T13:24:43.683Z"
   },
   {
    "duration": 3,
    "start_time": "2022-10-13T13:24:43.702Z"
   },
   {
    "duration": 5,
    "start_time": "2022-10-13T13:24:43.706Z"
   },
   {
    "duration": 182,
    "start_time": "2022-10-13T13:24:43.714Z"
   },
   {
    "duration": 8,
    "start_time": "2022-10-13T13:24:43.900Z"
   },
   {
    "duration": 5,
    "start_time": "2022-10-13T13:26:00.447Z"
   },
   {
    "duration": 10,
    "start_time": "2022-10-13T13:26:08.300Z"
   },
   {
    "duration": 1049,
    "start_time": "2022-10-13T13:27:15.358Z"
   },
   {
    "duration": 12,
    "start_time": "2022-10-13T13:27:16.409Z"
   },
   {
    "duration": 682,
    "start_time": "2022-10-13T13:27:16.422Z"
   },
   {
    "duration": 10,
    "start_time": "2022-10-13T13:27:17.106Z"
   },
   {
    "duration": 163,
    "start_time": "2022-10-13T13:27:17.118Z"
   },
   {
    "duration": 0,
    "start_time": "2022-10-13T13:27:17.283Z"
   },
   {
    "duration": 0,
    "start_time": "2022-10-13T13:27:17.284Z"
   },
   {
    "duration": 0,
    "start_time": "2022-10-13T13:27:17.285Z"
   },
   {
    "duration": 0,
    "start_time": "2022-10-13T13:27:17.286Z"
   },
   {
    "duration": 0,
    "start_time": "2022-10-13T13:27:17.287Z"
   },
   {
    "duration": 0,
    "start_time": "2022-10-13T13:27:17.288Z"
   },
   {
    "duration": 0,
    "start_time": "2022-10-13T13:27:17.289Z"
   },
   {
    "duration": 0,
    "start_time": "2022-10-13T13:27:17.300Z"
   },
   {
    "duration": 0,
    "start_time": "2022-10-13T13:27:17.301Z"
   },
   {
    "duration": 0,
    "start_time": "2022-10-13T13:27:17.302Z"
   },
   {
    "duration": 0,
    "start_time": "2022-10-13T13:27:17.303Z"
   },
   {
    "duration": 0,
    "start_time": "2022-10-13T13:27:17.304Z"
   },
   {
    "duration": 0,
    "start_time": "2022-10-13T13:27:17.305Z"
   },
   {
    "duration": 0,
    "start_time": "2022-10-13T13:27:17.306Z"
   },
   {
    "duration": 0,
    "start_time": "2022-10-13T13:27:17.306Z"
   },
   {
    "duration": 0,
    "start_time": "2022-10-13T13:27:17.307Z"
   },
   {
    "duration": 0,
    "start_time": "2022-10-13T13:27:17.308Z"
   },
   {
    "duration": 0,
    "start_time": "2022-10-13T13:27:17.309Z"
   },
   {
    "duration": 0,
    "start_time": "2022-10-13T13:27:17.310Z"
   },
   {
    "duration": 0,
    "start_time": "2022-10-13T13:27:17.311Z"
   },
   {
    "duration": 0,
    "start_time": "2022-10-13T13:27:17.312Z"
   },
   {
    "duration": 0,
    "start_time": "2022-10-13T13:27:17.313Z"
   },
   {
    "duration": 0,
    "start_time": "2022-10-13T13:27:17.314Z"
   },
   {
    "duration": 0,
    "start_time": "2022-10-13T13:27:17.315Z"
   },
   {
    "duration": 0,
    "start_time": "2022-10-13T13:27:17.316Z"
   },
   {
    "duration": 1121,
    "start_time": "2022-10-13T13:29:58.465Z"
   },
   {
    "duration": 14,
    "start_time": "2022-10-13T13:29:59.587Z"
   },
   {
    "duration": 632,
    "start_time": "2022-10-13T13:29:59.602Z"
   },
   {
    "duration": 10,
    "start_time": "2022-10-13T13:30:00.236Z"
   },
   {
    "duration": 131,
    "start_time": "2022-10-13T13:30:00.248Z"
   },
   {
    "duration": 0,
    "start_time": "2022-10-13T13:30:00.381Z"
   },
   {
    "duration": 0,
    "start_time": "2022-10-13T13:30:00.382Z"
   },
   {
    "duration": 0,
    "start_time": "2022-10-13T13:30:00.383Z"
   },
   {
    "duration": 0,
    "start_time": "2022-10-13T13:30:00.384Z"
   },
   {
    "duration": 0,
    "start_time": "2022-10-13T13:30:00.385Z"
   },
   {
    "duration": 0,
    "start_time": "2022-10-13T13:30:00.400Z"
   },
   {
    "duration": 0,
    "start_time": "2022-10-13T13:30:00.402Z"
   },
   {
    "duration": 1,
    "start_time": "2022-10-13T13:30:00.403Z"
   },
   {
    "duration": 0,
    "start_time": "2022-10-13T13:30:00.405Z"
   },
   {
    "duration": 0,
    "start_time": "2022-10-13T13:30:00.407Z"
   },
   {
    "duration": 0,
    "start_time": "2022-10-13T13:30:00.408Z"
   },
   {
    "duration": 0,
    "start_time": "2022-10-13T13:30:00.409Z"
   },
   {
    "duration": 0,
    "start_time": "2022-10-13T13:30:00.411Z"
   },
   {
    "duration": 0,
    "start_time": "2022-10-13T13:30:00.412Z"
   },
   {
    "duration": 0,
    "start_time": "2022-10-13T13:30:00.414Z"
   },
   {
    "duration": 0,
    "start_time": "2022-10-13T13:30:00.415Z"
   },
   {
    "duration": 0,
    "start_time": "2022-10-13T13:30:00.416Z"
   },
   {
    "duration": 0,
    "start_time": "2022-10-13T13:30:00.417Z"
   },
   {
    "duration": 0,
    "start_time": "2022-10-13T13:30:00.418Z"
   },
   {
    "duration": 0,
    "start_time": "2022-10-13T13:30:00.420Z"
   },
   {
    "duration": 0,
    "start_time": "2022-10-13T13:30:00.420Z"
   },
   {
    "duration": 0,
    "start_time": "2022-10-13T13:30:00.421Z"
   },
   {
    "duration": 0,
    "start_time": "2022-10-13T13:30:00.422Z"
   },
   {
    "duration": 0,
    "start_time": "2022-10-13T13:30:00.423Z"
   },
   {
    "duration": 0,
    "start_time": "2022-10-13T13:30:00.424Z"
   },
   {
    "duration": 10,
    "start_time": "2022-10-13T13:30:43.618Z"
   },
   {
    "duration": 1079,
    "start_time": "2022-10-13T13:30:48.715Z"
   },
   {
    "duration": 12,
    "start_time": "2022-10-13T13:30:49.795Z"
   },
   {
    "duration": 641,
    "start_time": "2022-10-13T13:30:49.809Z"
   },
   {
    "duration": 12,
    "start_time": "2022-10-13T13:30:50.451Z"
   },
   {
    "duration": 19,
    "start_time": "2022-10-13T13:30:50.465Z"
   },
   {
    "duration": 29,
    "start_time": "2022-10-13T13:30:50.486Z"
   },
   {
    "duration": 14,
    "start_time": "2022-10-13T13:30:50.517Z"
   },
   {
    "duration": 44,
    "start_time": "2022-10-13T13:30:50.533Z"
   },
   {
    "duration": 21,
    "start_time": "2022-10-13T13:30:50.579Z"
   },
   {
    "duration": 160,
    "start_time": "2022-10-13T13:30:50.601Z"
   },
   {
    "duration": 16,
    "start_time": "2022-10-13T13:30:50.762Z"
   },
   {
    "duration": 238,
    "start_time": "2022-10-13T13:30:50.779Z"
   },
   {
    "duration": 144,
    "start_time": "2022-10-13T13:30:51.018Z"
   },
   {
    "duration": 295,
    "start_time": "2022-10-13T13:30:51.164Z"
   },
   {
    "duration": 287,
    "start_time": "2022-10-13T13:30:51.461Z"
   },
   {
    "duration": 160,
    "start_time": "2022-10-13T13:30:51.750Z"
   },
   {
    "duration": 153,
    "start_time": "2022-10-13T13:30:51.912Z"
   },
   {
    "duration": 299,
    "start_time": "2022-10-13T13:30:52.066Z"
   },
   {
    "duration": 313,
    "start_time": "2022-10-13T13:30:52.366Z"
   },
   {
    "duration": 113,
    "start_time": "2022-10-13T13:30:52.681Z"
   },
   {
    "duration": 164,
    "start_time": "2022-10-13T13:30:52.797Z"
   },
   {
    "duration": 102,
    "start_time": "2022-10-13T13:30:52.962Z"
   },
   {
    "duration": 97,
    "start_time": "2022-10-13T13:30:53.065Z"
   },
   {
    "duration": 104,
    "start_time": "2022-10-13T13:30:53.164Z"
   },
   {
    "duration": 3,
    "start_time": "2022-10-13T13:30:53.269Z"
   },
   {
    "duration": 6,
    "start_time": "2022-10-13T13:30:53.273Z"
   },
   {
    "duration": 6,
    "start_time": "2022-10-13T13:30:53.280Z"
   },
   {
    "duration": 14,
    "start_time": "2022-10-13T13:30:53.287Z"
   },
   {
    "duration": 138,
    "start_time": "2022-10-13T13:30:53.302Z"
   },
   {
    "duration": 8,
    "start_time": "2022-10-13T13:30:53.441Z"
   },
   {
    "duration": 86,
    "start_time": "2022-10-13T13:33:22.599Z"
   },
   {
    "duration": 97,
    "start_time": "2022-10-13T13:33:40.888Z"
   },
   {
    "duration": 90,
    "start_time": "2022-10-13T13:33:47.455Z"
   },
   {
    "duration": 89,
    "start_time": "2022-10-13T13:34:05.095Z"
   },
   {
    "duration": 104,
    "start_time": "2022-10-13T13:34:09.887Z"
   },
   {
    "duration": 97,
    "start_time": "2022-10-13T13:34:18.726Z"
   },
   {
    "duration": 97,
    "start_time": "2022-10-13T13:38:10.116Z"
   },
   {
    "duration": 64,
    "start_time": "2022-10-13T13:55:09.746Z"
   },
   {
    "duration": 182,
    "start_time": "2022-10-13T13:55:15.596Z"
   },
   {
    "duration": 85,
    "start_time": "2022-10-13T13:56:44.887Z"
   },
   {
    "duration": 90,
    "start_time": "2022-10-13T13:57:03.547Z"
   },
   {
    "duration": 91,
    "start_time": "2022-10-13T13:57:50.236Z"
   },
   {
    "duration": 86,
    "start_time": "2022-10-13T13:58:07.616Z"
   },
   {
    "duration": 84,
    "start_time": "2022-10-13T13:58:59.299Z"
   },
   {
    "duration": 106,
    "start_time": "2022-10-13T13:59:38.649Z"
   },
   {
    "duration": 86,
    "start_time": "2022-10-13T13:59:56.628Z"
   },
   {
    "duration": 98,
    "start_time": "2022-10-13T14:00:31.505Z"
   },
   {
    "duration": 87,
    "start_time": "2022-10-13T14:00:46.187Z"
   },
   {
    "duration": 97,
    "start_time": "2022-10-13T14:01:55.657Z"
   },
   {
    "duration": 104,
    "start_time": "2022-10-13T14:03:11.207Z"
   },
   {
    "duration": 111,
    "start_time": "2022-10-13T14:03:17.764Z"
   },
   {
    "duration": 180,
    "start_time": "2022-10-13T14:03:48.327Z"
   },
   {
    "duration": 99,
    "start_time": "2022-10-13T14:05:12.885Z"
   },
   {
    "duration": 119,
    "start_time": "2022-10-13T14:05:49.367Z"
   },
   {
    "duration": 100,
    "start_time": "2022-10-13T14:08:10.166Z"
   },
   {
    "duration": 99,
    "start_time": "2022-10-13T14:09:36.855Z"
   },
   {
    "duration": 90,
    "start_time": "2022-10-13T14:10:23.998Z"
   },
   {
    "duration": 115,
    "start_time": "2022-10-13T14:10:32.288Z"
   },
   {
    "duration": 103,
    "start_time": "2022-10-13T14:10:45.755Z"
   },
   {
    "duration": 111,
    "start_time": "2022-10-13T14:11:06.406Z"
   },
   {
    "duration": 111,
    "start_time": "2022-10-13T14:11:13.396Z"
   },
   {
    "duration": 94,
    "start_time": "2022-10-13T14:12:22.849Z"
   },
   {
    "duration": 1262,
    "start_time": "2022-10-13T14:13:08.239Z"
   },
   {
    "duration": 15,
    "start_time": "2022-10-13T14:13:09.504Z"
   },
   {
    "duration": 709,
    "start_time": "2022-10-13T14:13:09.521Z"
   },
   {
    "duration": 10,
    "start_time": "2022-10-13T14:13:10.232Z"
   },
   {
    "duration": 8,
    "start_time": "2022-10-13T14:13:10.244Z"
   },
   {
    "duration": 10,
    "start_time": "2022-10-13T14:13:10.254Z"
   },
   {
    "duration": 9,
    "start_time": "2022-10-13T14:13:10.265Z"
   },
   {
    "duration": 74,
    "start_time": "2022-10-13T14:13:10.276Z"
   },
   {
    "duration": 21,
    "start_time": "2022-10-13T14:13:10.351Z"
   },
   {
    "duration": 206,
    "start_time": "2022-10-13T14:13:10.374Z"
   },
   {
    "duration": 24,
    "start_time": "2022-10-13T14:13:10.581Z"
   },
   {
    "duration": 257,
    "start_time": "2022-10-13T14:13:10.607Z"
   },
   {
    "duration": 174,
    "start_time": "2022-10-13T14:13:10.866Z"
   },
   {
    "duration": 319,
    "start_time": "2022-10-13T14:13:11.043Z"
   },
   {
    "duration": 323,
    "start_time": "2022-10-13T14:13:11.364Z"
   },
   {
    "duration": 160,
    "start_time": "2022-10-13T14:13:11.689Z"
   },
   {
    "duration": 145,
    "start_time": "2022-10-13T14:13:11.850Z"
   },
   {
    "duration": 308,
    "start_time": "2022-10-13T14:13:12.000Z"
   },
   {
    "duration": 289,
    "start_time": "2022-10-13T14:13:12.311Z"
   },
   {
    "duration": 102,
    "start_time": "2022-10-13T14:13:12.602Z"
   },
   {
    "duration": 203,
    "start_time": "2022-10-13T14:13:12.706Z"
   },
   {
    "duration": 102,
    "start_time": "2022-10-13T14:13:12.911Z"
   },
   {
    "duration": 113,
    "start_time": "2022-10-13T14:13:13.014Z"
   },
   {
    "duration": 121,
    "start_time": "2022-10-13T14:13:13.130Z"
   },
   {
    "duration": 110,
    "start_time": "2022-10-13T14:13:13.252Z"
   },
   {
    "duration": 126,
    "start_time": "2022-10-13T14:13:13.363Z"
   },
   {
    "duration": 2,
    "start_time": "2022-10-13T14:13:13.490Z"
   },
   {
    "duration": 3,
    "start_time": "2022-10-13T14:13:13.501Z"
   },
   {
    "duration": 5,
    "start_time": "2022-10-13T14:13:13.506Z"
   },
   {
    "duration": 6,
    "start_time": "2022-10-13T14:13:13.513Z"
   },
   {
    "duration": 171,
    "start_time": "2022-10-13T14:13:13.520Z"
   },
   {
    "duration": 15,
    "start_time": "2022-10-13T14:13:13.693Z"
   },
   {
    "duration": 91,
    "start_time": "2022-10-13T14:13:50.219Z"
   },
   {
    "duration": 94,
    "start_time": "2022-10-13T14:14:01.829Z"
   },
   {
    "duration": 90,
    "start_time": "2022-10-13T14:14:14.748Z"
   },
   {
    "duration": 97,
    "start_time": "2022-10-13T14:14:28.009Z"
   },
   {
    "duration": 107,
    "start_time": "2022-10-13T14:14:46.709Z"
   },
   {
    "duration": 105,
    "start_time": "2022-10-13T14:20:40.678Z"
   },
   {
    "duration": 197,
    "start_time": "2022-10-13T14:20:44.998Z"
   },
   {
    "duration": 102,
    "start_time": "2022-10-13T14:21:08.480Z"
   },
   {
    "duration": 104,
    "start_time": "2022-10-13T14:21:35.520Z"
   },
   {
    "duration": 113,
    "start_time": "2022-10-13T14:21:37.997Z"
   },
   {
    "duration": 1169,
    "start_time": "2022-10-13T14:21:44.981Z"
   },
   {
    "duration": 13,
    "start_time": "2022-10-13T14:21:46.152Z"
   },
   {
    "duration": 760,
    "start_time": "2022-10-13T14:21:46.167Z"
   },
   {
    "duration": 12,
    "start_time": "2022-10-13T14:21:46.929Z"
   },
   {
    "duration": 34,
    "start_time": "2022-10-13T14:21:46.943Z"
   },
   {
    "duration": 66,
    "start_time": "2022-10-13T14:21:46.978Z"
   },
   {
    "duration": 40,
    "start_time": "2022-10-13T14:21:47.045Z"
   },
   {
    "duration": 86,
    "start_time": "2022-10-13T14:21:47.086Z"
   },
   {
    "duration": 20,
    "start_time": "2022-10-13T14:21:47.174Z"
   },
   {
    "duration": 204,
    "start_time": "2022-10-13T14:21:47.195Z"
   },
   {
    "duration": 29,
    "start_time": "2022-10-13T14:21:47.402Z"
   },
   {
    "duration": 311,
    "start_time": "2022-10-13T14:21:47.432Z"
   },
   {
    "duration": 140,
    "start_time": "2022-10-13T14:21:47.744Z"
   },
   {
    "duration": 346,
    "start_time": "2022-10-13T14:21:47.887Z"
   },
   {
    "duration": 338,
    "start_time": "2022-10-13T14:21:48.235Z"
   },
   {
    "duration": 171,
    "start_time": "2022-10-13T14:21:48.575Z"
   },
   {
    "duration": 180,
    "start_time": "2022-10-13T14:21:48.748Z"
   },
   {
    "duration": 347,
    "start_time": "2022-10-13T14:21:48.930Z"
   },
   {
    "duration": 354,
    "start_time": "2022-10-13T14:21:49.279Z"
   },
   {
    "duration": 118,
    "start_time": "2022-10-13T14:21:49.634Z"
   },
   {
    "duration": 203,
    "start_time": "2022-10-13T14:21:49.754Z"
   },
   {
    "duration": 119,
    "start_time": "2022-10-13T14:21:49.959Z"
   },
   {
    "duration": 97,
    "start_time": "2022-10-13T14:21:50.079Z"
   },
   {
    "duration": 109,
    "start_time": "2022-10-13T14:21:50.178Z"
   },
   {
    "duration": 106,
    "start_time": "2022-10-13T14:21:50.289Z"
   },
   {
    "duration": 6,
    "start_time": "2022-10-13T14:21:50.399Z"
   },
   {
    "duration": 31,
    "start_time": "2022-10-13T14:21:50.417Z"
   },
   {
    "duration": 9,
    "start_time": "2022-10-13T14:21:50.450Z"
   },
   {
    "duration": 10,
    "start_time": "2022-10-13T14:21:50.461Z"
   },
   {
    "duration": 157,
    "start_time": "2022-10-13T14:21:50.472Z"
   },
   {
    "duration": 8,
    "start_time": "2022-10-13T14:21:50.630Z"
   },
   {
    "duration": 110,
    "start_time": "2022-10-13T14:22:00.730Z"
   },
   {
    "duration": 102,
    "start_time": "2022-10-13T14:22:27.921Z"
   },
   {
    "duration": 1370,
    "start_time": "2022-10-13T14:22:46.585Z"
   },
   {
    "duration": 15,
    "start_time": "2022-10-13T14:22:47.957Z"
   },
   {
    "duration": 766,
    "start_time": "2022-10-13T14:22:47.973Z"
   },
   {
    "duration": 14,
    "start_time": "2022-10-13T14:22:48.741Z"
   },
   {
    "duration": 8,
    "start_time": "2022-10-13T14:22:48.757Z"
   },
   {
    "duration": 11,
    "start_time": "2022-10-13T14:22:48.767Z"
   },
   {
    "duration": 38,
    "start_time": "2022-10-13T14:22:48.780Z"
   },
   {
    "duration": 64,
    "start_time": "2022-10-13T14:22:48.820Z"
   },
   {
    "duration": 46,
    "start_time": "2022-10-13T14:22:48.886Z"
   },
   {
    "duration": 189,
    "start_time": "2022-10-13T14:22:48.937Z"
   },
   {
    "duration": 19,
    "start_time": "2022-10-13T14:22:49.132Z"
   },
   {
    "duration": 261,
    "start_time": "2022-10-13T14:22:49.152Z"
   },
   {
    "duration": 179,
    "start_time": "2022-10-13T14:22:49.416Z"
   },
   {
    "duration": 339,
    "start_time": "2022-10-13T14:22:49.597Z"
   },
   {
    "duration": 309,
    "start_time": "2022-10-13T14:22:49.938Z"
   },
   {
    "duration": 166,
    "start_time": "2022-10-13T14:22:50.248Z"
   },
   {
    "duration": 167,
    "start_time": "2022-10-13T14:22:50.421Z"
   },
   {
    "duration": 363,
    "start_time": "2022-10-13T14:22:50.589Z"
   },
   {
    "duration": 352,
    "start_time": "2022-10-13T14:22:50.954Z"
   },
   {
    "duration": 128,
    "start_time": "2022-10-13T14:22:51.308Z"
   },
   {
    "duration": 199,
    "start_time": "2022-10-13T14:22:51.439Z"
   },
   {
    "duration": 127,
    "start_time": "2022-10-13T14:22:51.641Z"
   },
   {
    "duration": 115,
    "start_time": "2022-10-13T14:22:51.769Z"
   },
   {
    "duration": 145,
    "start_time": "2022-10-13T14:22:51.886Z"
   },
   {
    "duration": 118,
    "start_time": "2022-10-13T14:22:52.037Z"
   },
   {
    "duration": 2,
    "start_time": "2022-10-13T14:22:52.157Z"
   },
   {
    "duration": 11,
    "start_time": "2022-10-13T14:22:52.161Z"
   },
   {
    "duration": 4,
    "start_time": "2022-10-13T14:22:52.175Z"
   },
   {
    "duration": 7,
    "start_time": "2022-10-13T14:22:52.181Z"
   },
   {
    "duration": 192,
    "start_time": "2022-10-13T14:22:52.190Z"
   },
   {
    "duration": 17,
    "start_time": "2022-10-13T14:22:52.384Z"
   },
   {
    "duration": 147,
    "start_time": "2022-10-13T15:53:33.469Z"
   },
   {
    "duration": 104,
    "start_time": "2022-10-13T16:33:09.632Z"
   },
   {
    "duration": 109,
    "start_time": "2022-10-13T16:33:18.825Z"
   },
   {
    "duration": 101,
    "start_time": "2022-10-13T16:33:25.216Z"
   },
   {
    "duration": 117,
    "start_time": "2022-10-13T16:33:31.584Z"
   },
   {
    "duration": 105,
    "start_time": "2022-10-13T16:33:38.827Z"
   },
   {
    "duration": 22,
    "start_time": "2022-10-13T16:54:29.027Z"
   },
   {
    "duration": 19,
    "start_time": "2022-10-13T16:57:34.998Z"
   },
   {
    "duration": 18,
    "start_time": "2022-10-13T16:58:27.638Z"
   },
   {
    "duration": 16,
    "start_time": "2022-10-13T17:02:32.737Z"
   },
   {
    "duration": 14,
    "start_time": "2022-10-13T17:02:40.949Z"
   },
   {
    "duration": 244,
    "start_time": "2022-10-13T17:04:40.635Z"
   },
   {
    "duration": 162,
    "start_time": "2022-10-13T17:06:54.020Z"
   },
   {
    "duration": 17584,
    "start_time": "2022-10-13T17:07:26.448Z"
   },
   {
    "duration": 179,
    "start_time": "2022-10-13T17:08:25.429Z"
   },
   {
    "duration": 165,
    "start_time": "2022-10-13T17:08:48.031Z"
   },
   {
    "duration": 164,
    "start_time": "2022-10-13T17:09:48.467Z"
   },
   {
    "duration": 162,
    "start_time": "2022-10-13T17:10:28.298Z"
   },
   {
    "duration": 151,
    "start_time": "2022-10-13T17:15:13.958Z"
   },
   {
    "duration": 163,
    "start_time": "2022-10-13T17:20:02.132Z"
   },
   {
    "duration": 157,
    "start_time": "2022-10-13T17:21:16.552Z"
   },
   {
    "duration": 197,
    "start_time": "2022-10-13T17:21:47.259Z"
   },
   {
    "duration": 197,
    "start_time": "2022-10-13T17:42:09.045Z"
   },
   {
    "duration": 12,
    "start_time": "2022-10-13T17:43:15.180Z"
   },
   {
    "duration": 203,
    "start_time": "2022-10-13T17:43:47.750Z"
   },
   {
    "duration": 182,
    "start_time": "2022-10-13T17:44:19.485Z"
   },
   {
    "duration": 219,
    "start_time": "2022-10-13T17:50:44.096Z"
   },
   {
    "duration": 198,
    "start_time": "2022-10-13T17:53:15.052Z"
   },
   {
    "duration": 226,
    "start_time": "2022-10-13T17:53:17.344Z"
   },
   {
    "duration": 203,
    "start_time": "2022-10-13T17:54:01.816Z"
   },
   {
    "duration": 207,
    "start_time": "2022-10-13T17:54:12.942Z"
   },
   {
    "duration": 220,
    "start_time": "2022-10-13T17:54:35.320Z"
   },
   {
    "duration": 514,
    "start_time": "2022-10-13T17:55:00.156Z"
   },
   {
    "duration": 1288,
    "start_time": "2022-10-13T18:00:25.780Z"
   },
   {
    "duration": 14,
    "start_time": "2022-10-13T18:00:27.070Z"
   },
   {
    "duration": 892,
    "start_time": "2022-10-13T18:00:27.086Z"
   },
   {
    "duration": 26,
    "start_time": "2022-10-13T18:00:27.981Z"
   },
   {
    "duration": 19,
    "start_time": "2022-10-13T18:00:28.010Z"
   },
   {
    "duration": 28,
    "start_time": "2022-10-13T18:00:28.032Z"
   },
   {
    "duration": 9,
    "start_time": "2022-10-13T18:00:28.062Z"
   },
   {
    "duration": 67,
    "start_time": "2022-10-13T18:00:28.073Z"
   },
   {
    "duration": 35,
    "start_time": "2022-10-13T18:00:28.142Z"
   },
   {
    "duration": 211,
    "start_time": "2022-10-13T18:00:28.181Z"
   },
   {
    "duration": 32,
    "start_time": "2022-10-13T18:00:28.393Z"
   },
   {
    "duration": 345,
    "start_time": "2022-10-13T18:00:28.427Z"
   },
   {
    "duration": 169,
    "start_time": "2022-10-13T18:00:28.774Z"
   },
   {
    "duration": 350,
    "start_time": "2022-10-13T18:00:28.945Z"
   },
   {
    "duration": 352,
    "start_time": "2022-10-13T18:00:29.296Z"
   },
   {
    "duration": 191,
    "start_time": "2022-10-13T18:00:29.650Z"
   },
   {
    "duration": 211,
    "start_time": "2022-10-13T18:00:29.843Z"
   },
   {
    "duration": 373,
    "start_time": "2022-10-13T18:00:30.056Z"
   },
   {
    "duration": 348,
    "start_time": "2022-10-13T18:00:30.431Z"
   },
   {
    "duration": 162,
    "start_time": "2022-10-13T18:00:30.781Z"
   },
   {
    "duration": 242,
    "start_time": "2022-10-13T18:00:30.944Z"
   },
   {
    "duration": 139,
    "start_time": "2022-10-13T18:00:31.188Z"
   },
   {
    "duration": 157,
    "start_time": "2022-10-13T18:00:31.328Z"
   },
   {
    "duration": 126,
    "start_time": "2022-10-13T18:00:31.487Z"
   },
   {
    "duration": 210,
    "start_time": "2022-10-13T18:00:31.615Z"
   },
   {
    "duration": 200,
    "start_time": "2022-10-13T18:00:31.827Z"
   },
   {
    "duration": 202,
    "start_time": "2022-10-13T18:00:32.029Z"
   },
   {
    "duration": 197,
    "start_time": "2022-10-13T18:00:32.235Z"
   },
   {
    "duration": 17,
    "start_time": "2022-10-13T18:00:32.439Z"
   },
   {
    "duration": 6,
    "start_time": "2022-10-13T18:00:32.458Z"
   },
   {
    "duration": 5,
    "start_time": "2022-10-13T18:00:32.465Z"
   },
   {
    "duration": 13,
    "start_time": "2022-10-13T18:00:32.472Z"
   },
   {
    "duration": 4,
    "start_time": "2022-10-13T18:00:32.487Z"
   },
   {
    "duration": 203,
    "start_time": "2022-10-13T18:00:32.493Z"
   },
   {
    "duration": 23,
    "start_time": "2022-10-13T18:00:32.698Z"
   },
   {
    "duration": 45,
    "start_time": "2022-10-13T19:13:08.258Z"
   },
   {
    "duration": 157,
    "start_time": "2022-10-13T19:13:21.373Z"
   },
   {
    "duration": 151,
    "start_time": "2022-10-13T19:15:22.912Z"
   },
   {
    "duration": 156,
    "start_time": "2022-10-13T19:15:32.618Z"
   },
   {
    "duration": 103,
    "start_time": "2022-10-13T19:20:53.180Z"
   },
   {
    "duration": 9,
    "start_time": "2022-10-13T19:21:09.559Z"
   },
   {
    "duration": 6,
    "start_time": "2022-10-13T19:21:35.964Z"
   },
   {
    "duration": 6,
    "start_time": "2022-10-13T19:22:22.431Z"
   },
   {
    "duration": 73,
    "start_time": "2022-10-14T08:16:38.155Z"
   },
   {
    "duration": 6,
    "start_time": "2022-10-14T08:16:49.731Z"
   },
   {
    "duration": 1337,
    "start_time": "2022-10-14T08:16:58.222Z"
   },
   {
    "duration": 13,
    "start_time": "2022-10-14T08:16:59.561Z"
   },
   {
    "duration": 685,
    "start_time": "2022-10-14T08:16:59.575Z"
   },
   {
    "duration": 10,
    "start_time": "2022-10-14T08:17:00.261Z"
   },
   {
    "duration": 34,
    "start_time": "2022-10-14T08:17:00.273Z"
   },
   {
    "duration": 31,
    "start_time": "2022-10-14T08:17:00.309Z"
   },
   {
    "duration": 26,
    "start_time": "2022-10-14T08:17:00.342Z"
   },
   {
    "duration": 69,
    "start_time": "2022-10-14T08:17:00.370Z"
   },
   {
    "duration": 52,
    "start_time": "2022-10-14T08:17:00.441Z"
   },
   {
    "duration": 223,
    "start_time": "2022-10-14T08:17:00.495Z"
   },
   {
    "duration": 16,
    "start_time": "2022-10-14T08:17:00.720Z"
   },
   {
    "duration": 261,
    "start_time": "2022-10-14T08:17:00.738Z"
   },
   {
    "duration": 168,
    "start_time": "2022-10-14T08:17:01.001Z"
   },
   {
    "duration": 323,
    "start_time": "2022-10-14T08:17:01.172Z"
   },
   {
    "duration": 295,
    "start_time": "2022-10-14T08:17:01.500Z"
   },
   {
    "duration": 169,
    "start_time": "2022-10-14T08:17:01.797Z"
   },
   {
    "duration": 190,
    "start_time": "2022-10-14T08:17:01.968Z"
   },
   {
    "duration": 331,
    "start_time": "2022-10-14T08:17:02.160Z"
   },
   {
    "duration": 308,
    "start_time": "2022-10-14T08:17:02.493Z"
   },
   {
    "duration": 136,
    "start_time": "2022-10-14T08:17:02.806Z"
   },
   {
    "duration": 188,
    "start_time": "2022-10-14T08:17:02.943Z"
   },
   {
    "duration": 120,
    "start_time": "2022-10-14T08:17:03.132Z"
   },
   {
    "duration": 120,
    "start_time": "2022-10-14T08:17:03.253Z"
   },
   {
    "duration": 125,
    "start_time": "2022-10-14T08:17:03.375Z"
   },
   {
    "duration": 174,
    "start_time": "2022-10-14T08:17:03.501Z"
   },
   {
    "duration": 165,
    "start_time": "2022-10-14T08:17:03.677Z"
   },
   {
    "duration": 167,
    "start_time": "2022-10-14T08:17:03.843Z"
   },
   {
    "duration": 157,
    "start_time": "2022-10-14T08:17:04.017Z"
   },
   {
    "duration": 10,
    "start_time": "2022-10-14T08:17:04.176Z"
   },
   {
    "duration": 32,
    "start_time": "2022-10-14T08:17:04.188Z"
   },
   {
    "duration": 21,
    "start_time": "2022-10-14T08:17:04.222Z"
   },
   {
    "duration": 6,
    "start_time": "2022-10-14T08:17:04.244Z"
   },
   {
    "duration": 6,
    "start_time": "2022-10-14T08:17:04.251Z"
   },
   {
    "duration": 18,
    "start_time": "2022-10-14T08:17:04.258Z"
   },
   {
    "duration": 159,
    "start_time": "2022-10-14T08:17:04.278Z"
   },
   {
    "duration": 7,
    "start_time": "2022-10-14T08:17:04.440Z"
   },
   {
    "duration": 12,
    "start_time": "2022-10-14T08:17:42.640Z"
   },
   {
    "duration": 12,
    "start_time": "2022-10-14T08:19:19.554Z"
   },
   {
    "duration": 999,
    "start_time": "2022-10-14T08:20:39.918Z"
   },
   {
    "duration": 203,
    "start_time": "2022-10-14T08:20:53.197Z"
   },
   {
    "duration": 30,
    "start_time": "2022-10-14T08:22:11.493Z"
   },
   {
    "duration": 21,
    "start_time": "2022-10-14T08:22:27.713Z"
   },
   {
    "duration": 19,
    "start_time": "2022-10-14T08:22:56.066Z"
   },
   {
    "duration": 35,
    "start_time": "2022-10-14T08:23:59.595Z"
   },
   {
    "duration": 29,
    "start_time": "2022-10-14T08:24:27.715Z"
   },
   {
    "duration": 29,
    "start_time": "2022-10-14T08:24:54.456Z"
   },
   {
    "duration": 35,
    "start_time": "2022-10-14T08:25:56.661Z"
   },
   {
    "duration": 436,
    "start_time": "2022-10-14T08:29:38.651Z"
   },
   {
    "duration": 33,
    "start_time": "2022-10-14T08:30:23.974Z"
   },
   {
    "duration": 373,
    "start_time": "2022-10-14T08:30:31.016Z"
   },
   {
    "duration": 329,
    "start_time": "2022-10-14T08:31:33.616Z"
   },
   {
    "duration": 381,
    "start_time": "2022-10-14T08:31:52.658Z"
   },
   {
    "duration": 8,
    "start_time": "2022-10-14T08:44:35.067Z"
   },
   {
    "duration": 198,
    "start_time": "2022-10-14T08:45:16.199Z"
   },
   {
    "duration": 17,
    "start_time": "2022-10-14T08:45:22.696Z"
   },
   {
    "duration": 195,
    "start_time": "2022-10-14T08:45:41.375Z"
   },
   {
    "duration": 218,
    "start_time": "2022-10-14T08:50:09.163Z"
   },
   {
    "duration": 190,
    "start_time": "2022-10-14T08:51:52.827Z"
   },
   {
    "duration": 273,
    "start_time": "2022-10-14T08:52:57.365Z"
   },
   {
    "duration": 203,
    "start_time": "2022-10-14T08:53:49.160Z"
   },
   {
    "duration": 209,
    "start_time": "2022-10-14T08:54:03.060Z"
   },
   {
    "duration": 16,
    "start_time": "2022-10-14T08:54:08.053Z"
   },
   {
    "duration": 161,
    "start_time": "2022-10-14T09:49:20.034Z"
   },
   {
    "duration": 47,
    "start_time": "2022-10-14T10:18:08.677Z"
   },
   {
    "duration": 43,
    "start_time": "2022-10-14T10:18:19.077Z"
   },
   {
    "duration": 50,
    "start_time": "2022-10-14T10:18:41.198Z"
   },
   {
    "duration": 44,
    "start_time": "2022-10-14T10:20:57.931Z"
   },
   {
    "duration": 56,
    "start_time": "2022-10-14T10:22:29.291Z"
   },
   {
    "duration": 45,
    "start_time": "2022-10-14T10:23:02.967Z"
   },
   {
    "duration": 62,
    "start_time": "2022-10-14T10:23:56.173Z"
   },
   {
    "duration": 52,
    "start_time": "2022-10-14T10:40:53.785Z"
   },
   {
    "duration": 48,
    "start_time": "2022-10-14T10:41:21.834Z"
   },
   {
    "duration": 43,
    "start_time": "2022-10-14T10:43:36.546Z"
   },
   {
    "duration": 49,
    "start_time": "2022-10-14T10:46:02.760Z"
   },
   {
    "duration": 38,
    "start_time": "2022-10-14T10:47:37.629Z"
   },
   {
    "duration": 43,
    "start_time": "2022-10-14T10:48:40.789Z"
   },
   {
    "duration": 45,
    "start_time": "2022-10-14T10:57:54.341Z"
   },
   {
    "duration": 42,
    "start_time": "2022-10-14T10:58:18.332Z"
   },
   {
    "duration": 41,
    "start_time": "2022-10-14T10:58:49.942Z"
   },
   {
    "duration": 48,
    "start_time": "2022-10-14T10:59:31.316Z"
   },
   {
    "duration": 41,
    "start_time": "2022-10-14T11:01:39.928Z"
   },
   {
    "duration": 52,
    "start_time": "2022-10-14T11:02:53.966Z"
   },
   {
    "duration": 47,
    "start_time": "2022-10-14T11:03:27.485Z"
   },
   {
    "duration": 54,
    "start_time": "2022-10-14T11:06:39.300Z"
   },
   {
    "duration": 75,
    "start_time": "2022-10-14T11:07:54.097Z"
   },
   {
    "duration": 66,
    "start_time": "2022-10-14T11:08:23.894Z"
   },
   {
    "duration": 58,
    "start_time": "2022-10-14T11:09:01.285Z"
   },
   {
    "duration": 79,
    "start_time": "2022-10-14T11:17:50.693Z"
   },
   {
    "duration": 189,
    "start_time": "2022-10-14T11:18:11.040Z"
   },
   {
    "duration": 52,
    "start_time": "2022-10-14T11:18:24.098Z"
   },
   {
    "duration": 45,
    "start_time": "2022-10-14T11:50:11.733Z"
   },
   {
    "duration": 51,
    "start_time": "2022-10-14T11:50:19.497Z"
   },
   {
    "duration": 18,
    "start_time": "2022-10-14T11:52:22.997Z"
   },
   {
    "duration": 10,
    "start_time": "2022-10-14T11:52:48.128Z"
   },
   {
    "duration": 57,
    "start_time": "2022-10-14T11:53:23.065Z"
   },
   {
    "duration": 44,
    "start_time": "2022-10-14T11:53:41.236Z"
   },
   {
    "duration": 54,
    "start_time": "2022-10-14T11:56:36.666Z"
   },
   {
    "duration": 48,
    "start_time": "2022-10-14T12:09:42.644Z"
   },
   {
    "duration": 57,
    "start_time": "2022-10-14T12:10:07.388Z"
   },
   {
    "duration": 41,
    "start_time": "2022-10-14T12:10:29.788Z"
   },
   {
    "duration": 56,
    "start_time": "2022-10-14T12:12:24.395Z"
   },
   {
    "duration": 43,
    "start_time": "2022-10-14T12:12:57.137Z"
   },
   {
    "duration": 46,
    "start_time": "2022-10-14T12:13:19.972Z"
   },
   {
    "duration": 44,
    "start_time": "2022-10-14T12:13:40.933Z"
   },
   {
    "duration": 50,
    "start_time": "2022-10-14T12:17:35.186Z"
   },
   {
    "duration": 58,
    "start_time": "2022-10-14T12:38:52.640Z"
   },
   {
    "duration": 46,
    "start_time": "2022-10-14T12:38:59.872Z"
   },
   {
    "duration": 68,
    "start_time": "2022-10-14T12:39:21.357Z"
   },
   {
    "duration": 55,
    "start_time": "2022-10-14T12:40:15.735Z"
   },
   {
    "duration": 41,
    "start_time": "2022-10-14T12:40:24.336Z"
   },
   {
    "duration": 42,
    "start_time": "2022-10-14T12:41:37.611Z"
   },
   {
    "duration": 4,
    "start_time": "2022-10-14T12:43:48.284Z"
   },
   {
    "duration": 3,
    "start_time": "2022-10-14T12:44:38.621Z"
   },
   {
    "duration": 5,
    "start_time": "2022-10-14T12:44:44.541Z"
   },
   {
    "duration": 6,
    "start_time": "2022-10-14T12:45:39.552Z"
   },
   {
    "duration": 63,
    "start_time": "2022-10-14T12:50:59.795Z"
   },
   {
    "duration": 58,
    "start_time": "2022-10-14T12:52:08.358Z"
   },
   {
    "duration": 45,
    "start_time": "2022-10-14T12:52:14.210Z"
   },
   {
    "duration": 59,
    "start_time": "2022-10-14T12:56:20.236Z"
   },
   {
    "duration": 60,
    "start_time": "2022-10-14T12:56:45.137Z"
   },
   {
    "duration": 40,
    "start_time": "2022-10-14T12:56:51.237Z"
   },
   {
    "duration": 70,
    "start_time": "2022-10-14T12:56:59.545Z"
   },
   {
    "duration": 46,
    "start_time": "2022-10-14T12:57:15.444Z"
   },
   {
    "duration": 9,
    "start_time": "2022-10-14T15:35:36.239Z"
   },
   {
    "duration": 8,
    "start_time": "2022-10-14T15:35:47.738Z"
   },
   {
    "duration": 10,
    "start_time": "2022-10-14T15:35:50.123Z"
   },
   {
    "duration": 2,
    "start_time": "2022-10-14T15:35:59.712Z"
   },
   {
    "duration": 8,
    "start_time": "2022-10-14T15:36:00.281Z"
   },
   {
    "duration": 5,
    "start_time": "2022-10-14T15:36:00.890Z"
   },
   {
    "duration": 5,
    "start_time": "2022-10-14T15:37:21.078Z"
   },
   {
    "duration": 4,
    "start_time": "2022-10-14T15:37:29.726Z"
   },
   {
    "duration": 4,
    "start_time": "2022-10-14T15:37:36.531Z"
   },
   {
    "duration": 3,
    "start_time": "2022-10-14T15:40:27.111Z"
   },
   {
    "duration": 10,
    "start_time": "2022-10-14T15:40:27.612Z"
   },
   {
    "duration": 4,
    "start_time": "2022-10-14T15:40:28.116Z"
   },
   {
    "duration": 8,
    "start_time": "2022-10-14T15:41:36.612Z"
   },
   {
    "duration": 4,
    "start_time": "2022-10-14T15:41:37.212Z"
   },
   {
    "duration": 3,
    "start_time": "2022-10-14T15:44:28.147Z"
   },
   {
    "duration": 9,
    "start_time": "2022-10-14T15:44:28.750Z"
   },
   {
    "duration": 5,
    "start_time": "2022-10-14T15:44:29.287Z"
   },
   {
    "duration": 4,
    "start_time": "2022-10-14T15:48:47.243Z"
   },
   {
    "duration": 4,
    "start_time": "2022-10-14T15:48:55.585Z"
   },
   {
    "duration": 8,
    "start_time": "2022-10-14T15:49:08.347Z"
   },
   {
    "duration": 4,
    "start_time": "2022-10-14T15:49:12.465Z"
   },
   {
    "duration": 7,
    "start_time": "2022-10-14T15:49:20.157Z"
   },
   {
    "duration": 5,
    "start_time": "2022-10-14T15:49:21.034Z"
   },
   {
    "duration": 8,
    "start_time": "2022-10-14T15:49:26.937Z"
   },
   {
    "duration": 19,
    "start_time": "2022-10-14T15:49:53.795Z"
   },
   {
    "duration": 13,
    "start_time": "2022-10-14T15:51:40.300Z"
   },
   {
    "duration": 5,
    "start_time": "2022-10-14T15:51:54.644Z"
   },
   {
    "duration": 9,
    "start_time": "2022-10-14T15:52:35.057Z"
   },
   {
    "duration": 11,
    "start_time": "2022-10-14T15:53:01.045Z"
   },
   {
    "duration": 2,
    "start_time": "2022-10-14T15:54:46.435Z"
   },
   {
    "duration": 9,
    "start_time": "2022-10-14T15:54:46.947Z"
   },
   {
    "duration": 6,
    "start_time": "2022-10-14T15:54:47.411Z"
   },
   {
    "duration": 14,
    "start_time": "2022-10-14T15:57:58.293Z"
   },
   {
    "duration": 13,
    "start_time": "2022-10-14T15:58:25.661Z"
   },
   {
    "duration": 9,
    "start_time": "2022-10-14T15:58:46.056Z"
   },
   {
    "duration": 5,
    "start_time": "2022-10-14T15:58:48.432Z"
   },
   {
    "duration": 12,
    "start_time": "2022-10-14T16:02:31.129Z"
   },
   {
    "duration": 15,
    "start_time": "2022-10-14T16:02:51.234Z"
   },
   {
    "duration": 9,
    "start_time": "2022-10-14T16:03:12.570Z"
   },
   {
    "duration": 4,
    "start_time": "2022-10-14T16:04:22.865Z"
   },
   {
    "duration": 4,
    "start_time": "2022-10-14T16:04:35.359Z"
   },
   {
    "duration": 15,
    "start_time": "2022-10-14T16:12:22.527Z"
   },
   {
    "duration": 12,
    "start_time": "2022-10-14T16:12:43.453Z"
   },
   {
    "duration": 6,
    "start_time": "2022-10-14T16:14:13.680Z"
   },
   {
    "duration": 11,
    "start_time": "2022-10-14T16:18:17.861Z"
   },
   {
    "duration": 11,
    "start_time": "2022-10-14T16:18:31.884Z"
   },
   {
    "duration": 9,
    "start_time": "2022-10-14T16:20:18.976Z"
   },
   {
    "duration": 5,
    "start_time": "2022-10-14T16:20:24.255Z"
   },
   {
    "duration": 4,
    "start_time": "2022-10-14T16:21:09.774Z"
   },
   {
    "duration": 6,
    "start_time": "2022-10-14T16:21:15.254Z"
   },
   {
    "duration": 3,
    "start_time": "2022-10-14T17:28:33.184Z"
   },
   {
    "duration": 5,
    "start_time": "2022-10-14T18:10:53.137Z"
   },
   {
    "duration": 4,
    "start_time": "2022-10-14T18:11:01.739Z"
   },
   {
    "duration": 4,
    "start_time": "2022-10-14T18:11:18.079Z"
   },
   {
    "duration": 4,
    "start_time": "2022-10-14T18:11:25.388Z"
   },
   {
    "duration": 36,
    "start_time": "2022-10-14T18:50:18.040Z"
   },
   {
    "duration": 34,
    "start_time": "2022-10-14T18:50:50.510Z"
   },
   {
    "duration": 62,
    "start_time": "2022-10-14T18:52:44.071Z"
   },
   {
    "duration": 52,
    "start_time": "2022-10-14T18:53:10.961Z"
   },
   {
    "duration": 1144,
    "start_time": "2022-10-14T18:54:00.343Z"
   },
   {
    "duration": 14,
    "start_time": "2022-10-14T18:54:01.489Z"
   },
   {
    "duration": 723,
    "start_time": "2022-10-14T18:54:01.505Z"
   },
   {
    "duration": 11,
    "start_time": "2022-10-14T18:54:02.230Z"
   },
   {
    "duration": 26,
    "start_time": "2022-10-14T18:54:02.243Z"
   },
   {
    "duration": 18,
    "start_time": "2022-10-14T18:54:02.271Z"
   },
   {
    "duration": 13,
    "start_time": "2022-10-14T18:54:02.290Z"
   },
   {
    "duration": 61,
    "start_time": "2022-10-14T18:54:02.304Z"
   },
   {
    "duration": 21,
    "start_time": "2022-10-14T18:54:02.367Z"
   },
   {
    "duration": 175,
    "start_time": "2022-10-14T18:54:02.390Z"
   },
   {
    "duration": 17,
    "start_time": "2022-10-14T18:54:02.566Z"
   },
   {
    "duration": 255,
    "start_time": "2022-10-14T18:54:02.584Z"
   },
   {
    "duration": 136,
    "start_time": "2022-10-14T18:54:02.840Z"
   },
   {
    "duration": 304,
    "start_time": "2022-10-14T18:54:02.979Z"
   },
   {
    "duration": 284,
    "start_time": "2022-10-14T18:54:03.285Z"
   },
   {
    "duration": 143,
    "start_time": "2022-10-14T18:54:03.571Z"
   },
   {
    "duration": 142,
    "start_time": "2022-10-14T18:54:03.715Z"
   },
   {
    "duration": 323,
    "start_time": "2022-10-14T18:54:03.859Z"
   },
   {
    "duration": 342,
    "start_time": "2022-10-14T18:54:04.184Z"
   },
   {
    "duration": 127,
    "start_time": "2022-10-14T18:54:04.528Z"
   },
   {
    "duration": 191,
    "start_time": "2022-10-14T18:54:04.656Z"
   },
   {
    "duration": 104,
    "start_time": "2022-10-14T18:54:04.849Z"
   },
   {
    "duration": 116,
    "start_time": "2022-10-14T18:54:04.955Z"
   },
   {
    "duration": 100,
    "start_time": "2022-10-14T18:54:05.073Z"
   },
   {
    "duration": 160,
    "start_time": "2022-10-14T18:54:05.175Z"
   },
   {
    "duration": 149,
    "start_time": "2022-10-14T18:54:05.336Z"
   },
   {
    "duration": 162,
    "start_time": "2022-10-14T18:54:05.487Z"
   },
   {
    "duration": 158,
    "start_time": "2022-10-14T18:54:05.651Z"
   },
   {
    "duration": 13,
    "start_time": "2022-10-14T18:54:05.811Z"
   },
   {
    "duration": 185,
    "start_time": "2022-10-14T18:54:05.826Z"
   },
   {
    "duration": 14,
    "start_time": "2022-10-14T18:54:06.013Z"
   },
   {
    "duration": 197,
    "start_time": "2022-10-14T18:54:06.029Z"
   },
   {
    "duration": 41,
    "start_time": "2022-10-14T18:54:06.228Z"
   },
   {
    "duration": 4,
    "start_time": "2022-10-14T18:54:06.271Z"
   },
   {
    "duration": 59,
    "start_time": "2022-10-14T18:54:06.276Z"
   },
   {
    "duration": 41,
    "start_time": "2022-10-14T18:54:06.336Z"
   },
   {
    "duration": 2,
    "start_time": "2022-10-14T18:54:06.379Z"
   },
   {
    "duration": 23,
    "start_time": "2022-10-14T18:54:06.382Z"
   },
   {
    "duration": 4,
    "start_time": "2022-10-14T18:54:06.407Z"
   },
   {
    "duration": 12,
    "start_time": "2022-10-14T18:54:06.412Z"
   },
   {
    "duration": 4,
    "start_time": "2022-10-14T18:54:06.428Z"
   },
   {
    "duration": 10,
    "start_time": "2022-10-14T18:54:06.434Z"
   },
   {
    "duration": 3,
    "start_time": "2022-10-14T18:54:06.445Z"
   },
   {
    "duration": 7,
    "start_time": "2022-10-14T18:54:06.449Z"
   },
   {
    "duration": 6,
    "start_time": "2022-10-14T18:54:06.458Z"
   },
   {
    "duration": 5,
    "start_time": "2022-10-14T18:54:06.465Z"
   },
   {
    "duration": 169,
    "start_time": "2022-10-14T18:54:06.471Z"
   },
   {
    "duration": 6,
    "start_time": "2022-10-14T18:54:06.642Z"
   },
   {
    "duration": 13,
    "start_time": "2022-10-14T18:54:06.649Z"
   },
   {
    "duration": 54,
    "start_time": "2022-10-14T19:06:11.922Z"
   },
   {
    "duration": 1444,
    "start_time": "2022-10-15T18:09:27.690Z"
   },
   {
    "duration": 13,
    "start_time": "2022-10-15T18:09:29.136Z"
   },
   {
    "duration": 719,
    "start_time": "2022-10-15T18:09:29.151Z"
   },
   {
    "duration": 11,
    "start_time": "2022-10-15T18:09:29.873Z"
   },
   {
    "duration": 19,
    "start_time": "2022-10-15T18:09:29.885Z"
   },
   {
    "duration": 16,
    "start_time": "2022-10-15T18:09:29.905Z"
   },
   {
    "duration": 10,
    "start_time": "2022-10-15T18:09:29.923Z"
   },
   {
    "duration": 65,
    "start_time": "2022-10-15T18:09:29.935Z"
   },
   {
    "duration": 22,
    "start_time": "2022-10-15T18:09:30.002Z"
   },
   {
    "duration": 198,
    "start_time": "2022-10-15T18:09:30.027Z"
   },
   {
    "duration": 16,
    "start_time": "2022-10-15T18:09:30.226Z"
   },
   {
    "duration": 271,
    "start_time": "2022-10-15T18:09:30.243Z"
   },
   {
    "duration": 154,
    "start_time": "2022-10-15T18:09:30.516Z"
   },
   {
    "duration": 296,
    "start_time": "2022-10-15T18:09:30.672Z"
   },
   {
    "duration": 281,
    "start_time": "2022-10-15T18:09:30.970Z"
   },
   {
    "duration": 151,
    "start_time": "2022-10-15T18:09:31.252Z"
   },
   {
    "duration": 163,
    "start_time": "2022-10-15T18:09:31.405Z"
   },
   {
    "duration": 316,
    "start_time": "2022-10-15T18:09:31.570Z"
   },
   {
    "duration": 317,
    "start_time": "2022-10-15T18:09:31.887Z"
   },
   {
    "duration": 129,
    "start_time": "2022-10-15T18:09:32.207Z"
   },
   {
    "duration": 209,
    "start_time": "2022-10-15T18:09:32.337Z"
   },
   {
    "duration": 120,
    "start_time": "2022-10-15T18:09:32.548Z"
   },
   {
    "duration": 114,
    "start_time": "2022-10-15T18:09:32.670Z"
   },
   {
    "duration": 101,
    "start_time": "2022-10-15T18:09:32.786Z"
   },
   {
    "duration": 165,
    "start_time": "2022-10-15T18:09:32.889Z"
   },
   {
    "duration": 163,
    "start_time": "2022-10-15T18:09:33.056Z"
   },
   {
    "duration": 172,
    "start_time": "2022-10-15T18:09:33.221Z"
   },
   {
    "duration": 165,
    "start_time": "2022-10-15T18:09:33.399Z"
   },
   {
    "duration": 13,
    "start_time": "2022-10-15T18:09:33.566Z"
   },
   {
    "duration": 202,
    "start_time": "2022-10-15T18:09:33.580Z"
   },
   {
    "duration": 20,
    "start_time": "2022-10-15T18:09:33.784Z"
   },
   {
    "duration": 181,
    "start_time": "2022-10-15T18:09:33.806Z"
   },
   {
    "duration": 48,
    "start_time": "2022-10-15T18:09:33.988Z"
   },
   {
    "duration": 6,
    "start_time": "2022-10-15T18:09:34.037Z"
   },
   {
    "duration": 63,
    "start_time": "2022-10-15T18:09:34.044Z"
   },
   {
    "duration": 50,
    "start_time": "2022-10-15T18:09:34.108Z"
   },
   {
    "duration": 2,
    "start_time": "2022-10-15T18:09:34.161Z"
   },
   {
    "duration": 17,
    "start_time": "2022-10-15T18:09:34.165Z"
   },
   {
    "duration": 20,
    "start_time": "2022-10-15T18:09:34.183Z"
   },
   {
    "duration": 27,
    "start_time": "2022-10-15T18:09:34.205Z"
   },
   {
    "duration": 8,
    "start_time": "2022-10-15T18:09:34.234Z"
   },
   {
    "duration": 11,
    "start_time": "2022-10-15T18:09:34.243Z"
   },
   {
    "duration": 2,
    "start_time": "2022-10-15T18:09:34.255Z"
   },
   {
    "duration": 6,
    "start_time": "2022-10-15T18:09:34.259Z"
   },
   {
    "duration": 13,
    "start_time": "2022-10-15T18:09:34.266Z"
   },
   {
    "duration": 5,
    "start_time": "2022-10-15T18:09:34.280Z"
   },
   {
    "duration": 149,
    "start_time": "2022-10-15T18:09:34.287Z"
   },
   {
    "duration": 8,
    "start_time": "2022-10-15T18:09:34.438Z"
   },
   {
    "duration": 8,
    "start_time": "2022-10-15T18:09:34.447Z"
   },
   {
    "duration": 1065,
    "start_time": "2022-10-15T19:22:26.931Z"
   },
   {
    "duration": 16,
    "start_time": "2022-10-15T19:22:27.997Z"
   },
   {
    "duration": 666,
    "start_time": "2022-10-15T19:22:28.014Z"
   },
   {
    "duration": 18,
    "start_time": "2022-10-15T19:22:28.683Z"
   },
   {
    "duration": 9,
    "start_time": "2022-10-15T19:22:28.702Z"
   },
   {
    "duration": 12,
    "start_time": "2022-10-15T19:22:28.713Z"
   },
   {
    "duration": 9,
    "start_time": "2022-10-15T19:22:28.727Z"
   },
   {
    "duration": 65,
    "start_time": "2022-10-15T19:22:28.738Z"
   },
   {
    "duration": 20,
    "start_time": "2022-10-15T19:22:28.804Z"
   },
   {
    "duration": 165,
    "start_time": "2022-10-15T19:22:28.826Z"
   },
   {
    "duration": 18,
    "start_time": "2022-10-15T19:22:28.993Z"
   },
   {
    "duration": 235,
    "start_time": "2022-10-15T19:22:29.013Z"
   },
   {
    "duration": 133,
    "start_time": "2022-10-15T19:22:29.249Z"
   },
   {
    "duration": 280,
    "start_time": "2022-10-15T19:22:29.383Z"
   },
   {
    "duration": 294,
    "start_time": "2022-10-15T19:22:29.665Z"
   },
   {
    "duration": 158,
    "start_time": "2022-10-15T19:22:29.961Z"
   },
   {
    "duration": 159,
    "start_time": "2022-10-15T19:22:30.121Z"
   },
   {
    "duration": 321,
    "start_time": "2022-10-15T19:22:30.282Z"
   },
   {
    "duration": 309,
    "start_time": "2022-10-15T19:22:30.604Z"
   },
   {
    "duration": 112,
    "start_time": "2022-10-15T19:22:30.915Z"
   },
   {
    "duration": 189,
    "start_time": "2022-10-15T19:22:31.028Z"
   },
   {
    "duration": 114,
    "start_time": "2022-10-15T19:22:31.218Z"
   },
   {
    "duration": 106,
    "start_time": "2022-10-15T19:22:31.333Z"
   },
   {
    "duration": 99,
    "start_time": "2022-10-15T19:22:31.441Z"
   },
   {
    "duration": 153,
    "start_time": "2022-10-15T19:22:31.541Z"
   },
   {
    "duration": 152,
    "start_time": "2022-10-15T19:22:31.696Z"
   },
   {
    "duration": 166,
    "start_time": "2022-10-15T19:22:31.850Z"
   },
   {
    "duration": 156,
    "start_time": "2022-10-15T19:22:32.019Z"
   },
   {
    "duration": 13,
    "start_time": "2022-10-15T19:22:32.176Z"
   },
   {
    "duration": 181,
    "start_time": "2022-10-15T19:22:32.200Z"
   },
   {
    "duration": 20,
    "start_time": "2022-10-15T19:22:32.383Z"
   },
   {
    "duration": 186,
    "start_time": "2022-10-15T19:22:32.404Z"
   },
   {
    "duration": 46,
    "start_time": "2022-10-15T19:22:32.591Z"
   },
   {
    "duration": 5,
    "start_time": "2022-10-15T19:22:32.638Z"
   },
   {
    "duration": 40,
    "start_time": "2022-10-15T19:22:32.644Z"
   },
   {
    "duration": 43,
    "start_time": "2022-10-15T19:22:32.700Z"
   },
   {
    "duration": 3,
    "start_time": "2022-10-15T19:22:32.744Z"
   },
   {
    "duration": 12,
    "start_time": "2022-10-15T19:22:32.748Z"
   },
   {
    "duration": 5,
    "start_time": "2022-10-15T19:22:32.762Z"
   },
   {
    "duration": 32,
    "start_time": "2022-10-15T19:22:32.768Z"
   },
   {
    "duration": 5,
    "start_time": "2022-10-15T19:22:32.802Z"
   },
   {
    "duration": 13,
    "start_time": "2022-10-15T19:22:32.808Z"
   },
   {
    "duration": 2,
    "start_time": "2022-10-15T19:22:32.823Z"
   },
   {
    "duration": 5,
    "start_time": "2022-10-15T19:22:32.826Z"
   },
   {
    "duration": 6,
    "start_time": "2022-10-15T19:22:32.832Z"
   },
   {
    "duration": 5,
    "start_time": "2022-10-15T19:22:32.839Z"
   },
   {
    "duration": 145,
    "start_time": "2022-10-15T19:22:32.845Z"
   },
   {
    "duration": 10,
    "start_time": "2022-10-15T19:22:32.992Z"
   },
   {
    "duration": 8,
    "start_time": "2022-10-15T19:22:33.004Z"
   },
   {
    "duration": 2,
    "start_time": "2022-10-15T19:22:55.251Z"
   },
   {
    "duration": 47,
    "start_time": "2022-10-16T10:21:03.452Z"
   },
   {
    "duration": 1569,
    "start_time": "2022-10-16T10:21:10.852Z"
   },
   {
    "duration": 15,
    "start_time": "2022-10-16T10:21:12.424Z"
   },
   {
    "duration": 740,
    "start_time": "2022-10-16T10:21:12.440Z"
   },
   {
    "duration": 19,
    "start_time": "2022-10-16T10:21:13.182Z"
   },
   {
    "duration": 10,
    "start_time": "2022-10-16T10:21:13.203Z"
   },
   {
    "duration": 11,
    "start_time": "2022-10-16T10:21:13.214Z"
   },
   {
    "duration": 8,
    "start_time": "2022-10-16T10:21:13.227Z"
   },
   {
    "duration": 71,
    "start_time": "2022-10-16T10:21:13.237Z"
   },
   {
    "duration": 22,
    "start_time": "2022-10-16T10:21:13.309Z"
   },
   {
    "duration": 189,
    "start_time": "2022-10-16T10:21:13.334Z"
   },
   {
    "duration": 18,
    "start_time": "2022-10-16T10:21:13.524Z"
   },
   {
    "duration": 260,
    "start_time": "2022-10-16T10:21:13.543Z"
   },
   {
    "duration": 151,
    "start_time": "2022-10-16T10:21:13.805Z"
   },
   {
    "duration": 333,
    "start_time": "2022-10-16T10:21:13.958Z"
   },
   {
    "duration": 298,
    "start_time": "2022-10-16T10:21:14.293Z"
   },
   {
    "duration": 166,
    "start_time": "2022-10-16T10:21:14.595Z"
   },
   {
    "duration": 174,
    "start_time": "2022-10-16T10:21:14.764Z"
   },
   {
    "duration": 334,
    "start_time": "2022-10-16T10:21:14.940Z"
   },
   {
    "duration": 335,
    "start_time": "2022-10-16T10:21:15.276Z"
   },
   {
    "duration": 121,
    "start_time": "2022-10-16T10:21:15.613Z"
   },
   {
    "duration": 189,
    "start_time": "2022-10-16T10:21:15.736Z"
   },
   {
    "duration": 117,
    "start_time": "2022-10-16T10:21:15.927Z"
   },
   {
    "duration": 114,
    "start_time": "2022-10-16T10:21:16.046Z"
   },
   {
    "duration": 102,
    "start_time": "2022-10-16T10:21:16.161Z"
   },
   {
    "duration": 168,
    "start_time": "2022-10-16T10:21:16.264Z"
   },
   {
    "duration": 193,
    "start_time": "2022-10-16T10:21:16.434Z"
   },
   {
    "duration": 249,
    "start_time": "2022-10-16T10:21:16.629Z"
   },
   {
    "duration": 177,
    "start_time": "2022-10-16T10:21:16.884Z"
   },
   {
    "duration": 33,
    "start_time": "2022-10-16T10:21:17.062Z"
   },
   {
    "duration": 209,
    "start_time": "2022-10-16T10:21:17.097Z"
   },
   {
    "duration": 15,
    "start_time": "2022-10-16T10:21:17.308Z"
   },
   {
    "duration": 214,
    "start_time": "2022-10-16T10:21:17.324Z"
   },
   {
    "duration": 14,
    "start_time": "2022-10-16T10:21:17.540Z"
   },
   {
    "duration": 58,
    "start_time": "2022-10-16T10:21:17.555Z"
   },
   {
    "duration": 6,
    "start_time": "2022-10-16T10:21:17.614Z"
   },
   {
    "duration": 42,
    "start_time": "2022-10-16T10:21:17.621Z"
   },
   {
    "duration": 69,
    "start_time": "2022-10-16T10:21:17.664Z"
   },
   {
    "duration": 2,
    "start_time": "2022-10-16T10:21:17.735Z"
   },
   {
    "duration": 18,
    "start_time": "2022-10-16T10:21:17.739Z"
   },
   {
    "duration": 6,
    "start_time": "2022-10-16T10:21:17.758Z"
   },
   {
    "duration": 31,
    "start_time": "2022-10-16T10:21:17.765Z"
   },
   {
    "duration": 5,
    "start_time": "2022-10-16T10:21:17.800Z"
   },
   {
    "duration": 18,
    "start_time": "2022-10-16T10:21:17.807Z"
   },
   {
    "duration": 2,
    "start_time": "2022-10-16T10:21:17.827Z"
   },
   {
    "duration": 7,
    "start_time": "2022-10-16T10:21:17.831Z"
   },
   {
    "duration": 10,
    "start_time": "2022-10-16T10:21:17.839Z"
   },
   {
    "duration": 6,
    "start_time": "2022-10-16T10:21:17.850Z"
   },
   {
    "duration": 161,
    "start_time": "2022-10-16T10:21:17.857Z"
   },
   {
    "duration": 7,
    "start_time": "2022-10-16T10:21:18.020Z"
   },
   {
    "duration": 8,
    "start_time": "2022-10-16T10:21:18.029Z"
   },
   {
    "duration": 14,
    "start_time": "2022-10-16T10:23:35.388Z"
   },
   {
    "duration": 19,
    "start_time": "2022-10-16T10:24:22.276Z"
   },
   {
    "duration": 1243,
    "start_time": "2022-10-16T10:31:23.886Z"
   },
   {
    "duration": 14,
    "start_time": "2022-10-16T10:31:25.130Z"
   },
   {
    "duration": 684,
    "start_time": "2022-10-16T10:31:25.146Z"
   },
   {
    "duration": 16,
    "start_time": "2022-10-16T10:31:25.833Z"
   },
   {
    "duration": 14,
    "start_time": "2022-10-16T10:31:25.852Z"
   },
   {
    "duration": 30,
    "start_time": "2022-10-16T10:31:25.868Z"
   },
   {
    "duration": 10,
    "start_time": "2022-10-16T10:31:25.900Z"
   },
   {
    "duration": 56,
    "start_time": "2022-10-16T10:31:25.912Z"
   },
   {
    "duration": 36,
    "start_time": "2022-10-16T10:31:25.970Z"
   },
   {
    "duration": 189,
    "start_time": "2022-10-16T10:31:26.008Z"
   },
   {
    "duration": 20,
    "start_time": "2022-10-16T10:31:26.199Z"
   },
   {
    "duration": 288,
    "start_time": "2022-10-16T10:31:26.221Z"
   },
   {
    "duration": 205,
    "start_time": "2022-10-16T10:31:26.511Z"
   },
   {
    "duration": 360,
    "start_time": "2022-10-16T10:31:26.720Z"
   },
   {
    "duration": 318,
    "start_time": "2022-10-16T10:31:27.082Z"
   },
   {
    "duration": 187,
    "start_time": "2022-10-16T10:31:27.402Z"
   },
   {
    "duration": 174,
    "start_time": "2022-10-16T10:31:27.590Z"
   },
   {
    "duration": 367,
    "start_time": "2022-10-16T10:31:27.770Z"
   },
   {
    "duration": 337,
    "start_time": "2022-10-16T10:31:28.139Z"
   },
   {
    "duration": 143,
    "start_time": "2022-10-16T10:31:28.478Z"
   },
   {
    "duration": 210,
    "start_time": "2022-10-16T10:31:28.622Z"
   },
   {
    "duration": 127,
    "start_time": "2022-10-16T10:31:28.833Z"
   },
   {
    "duration": 124,
    "start_time": "2022-10-16T10:31:28.961Z"
   },
   {
    "duration": 121,
    "start_time": "2022-10-16T10:31:29.095Z"
   },
   {
    "duration": 190,
    "start_time": "2022-10-16T10:31:29.219Z"
   },
   {
    "duration": 189,
    "start_time": "2022-10-16T10:31:29.411Z"
   },
   {
    "duration": 207,
    "start_time": "2022-10-16T10:31:29.602Z"
   },
   {
    "duration": 203,
    "start_time": "2022-10-16T10:31:29.811Z"
   },
   {
    "duration": 19,
    "start_time": "2022-10-16T10:31:30.016Z"
   },
   {
    "duration": 224,
    "start_time": "2022-10-16T10:31:30.037Z"
   },
   {
    "duration": 16,
    "start_time": "2022-10-16T10:31:30.262Z"
   },
   {
    "duration": 236,
    "start_time": "2022-10-16T10:31:30.279Z"
   },
   {
    "duration": 337,
    "start_time": "2022-10-16T10:31:30.516Z"
   },
   {
    "duration": 163,
    "start_time": "2022-10-16T10:31:30.856Z"
   },
   {
    "duration": 5,
    "start_time": "2022-10-16T10:31:31.021Z"
   },
   {
    "duration": 68,
    "start_time": "2022-10-16T10:31:31.028Z"
   },
   {
    "duration": 48,
    "start_time": "2022-10-16T10:31:31.098Z"
   },
   {
    "duration": 3,
    "start_time": "2022-10-16T10:31:31.148Z"
   },
   {
    "duration": 35,
    "start_time": "2022-10-16T10:31:31.152Z"
   },
   {
    "duration": 10,
    "start_time": "2022-10-16T10:31:31.189Z"
   },
   {
    "duration": 31,
    "start_time": "2022-10-16T10:31:31.203Z"
   },
   {
    "duration": 7,
    "start_time": "2022-10-16T10:31:31.236Z"
   },
   {
    "duration": 13,
    "start_time": "2022-10-16T10:31:31.245Z"
   },
   {
    "duration": 2,
    "start_time": "2022-10-16T10:31:31.259Z"
   },
   {
    "duration": 6,
    "start_time": "2022-10-16T10:31:31.263Z"
   },
   {
    "duration": 6,
    "start_time": "2022-10-16T10:31:31.271Z"
   },
   {
    "duration": 7,
    "start_time": "2022-10-16T10:31:31.279Z"
   },
   {
    "duration": 157,
    "start_time": "2022-10-16T10:31:31.288Z"
   },
   {
    "duration": 6,
    "start_time": "2022-10-16T10:31:31.446Z"
   },
   {
    "duration": 4,
    "start_time": "2022-10-16T10:31:31.453Z"
   },
   {
    "duration": 347,
    "start_time": "2022-10-16T10:32:00.326Z"
   },
   {
    "duration": 355,
    "start_time": "2022-10-16T10:32:39.895Z"
   },
   {
    "duration": 321,
    "start_time": "2022-10-16T10:34:43.637Z"
   },
   {
    "duration": 338,
    "start_time": "2022-10-16T10:35:01.096Z"
   },
   {
    "duration": 44,
    "start_time": "2022-10-16T10:57:35.066Z"
   },
   {
    "duration": 40,
    "start_time": "2022-10-16T10:57:46.995Z"
   },
   {
    "duration": 64,
    "start_time": "2022-10-16T10:58:08.026Z"
   },
   {
    "duration": 57,
    "start_time": "2022-10-16T10:58:49.315Z"
   },
   {
    "duration": 67,
    "start_time": "2022-10-16T10:59:13.356Z"
   },
   {
    "duration": 52,
    "start_time": "2022-10-16T11:00:34.576Z"
   },
   {
    "duration": 70,
    "start_time": "2022-10-16T11:01:04.176Z"
   },
   {
    "duration": 53,
    "start_time": "2022-10-16T11:05:31.277Z"
   },
   {
    "duration": 57,
    "start_time": "2022-10-16T11:05:39.476Z"
   },
   {
    "duration": 8,
    "start_time": "2022-10-16T11:10:39.816Z"
   },
   {
    "duration": 2,
    "start_time": "2022-10-16T11:11:28.266Z"
   },
   {
    "duration": 94,
    "start_time": "2022-10-16T11:19:41.916Z"
   },
   {
    "duration": 1151,
    "start_time": "2022-10-16T11:20:23.845Z"
   },
   {
    "duration": 13,
    "start_time": "2022-10-16T11:20:24.998Z"
   },
   {
    "duration": 721,
    "start_time": "2022-10-16T11:20:25.013Z"
   },
   {
    "duration": 11,
    "start_time": "2022-10-16T11:20:25.736Z"
   },
   {
    "duration": 8,
    "start_time": "2022-10-16T11:20:25.749Z"
   },
   {
    "duration": 15,
    "start_time": "2022-10-16T11:20:25.759Z"
   },
   {
    "duration": 23,
    "start_time": "2022-10-16T11:20:25.776Z"
   },
   {
    "duration": 48,
    "start_time": "2022-10-16T11:20:25.801Z"
   },
   {
    "duration": 22,
    "start_time": "2022-10-16T11:20:25.851Z"
   },
   {
    "duration": 188,
    "start_time": "2022-10-16T11:20:25.874Z"
   },
   {
    "duration": 17,
    "start_time": "2022-10-16T11:20:26.063Z"
   },
   {
    "duration": 272,
    "start_time": "2022-10-16T11:20:26.081Z"
   },
   {
    "duration": 154,
    "start_time": "2022-10-16T11:20:26.355Z"
   },
   {
    "duration": 387,
    "start_time": "2022-10-16T11:20:26.512Z"
   },
   {
    "duration": 320,
    "start_time": "2022-10-16T11:20:26.901Z"
   },
   {
    "duration": 165,
    "start_time": "2022-10-16T11:20:27.223Z"
   },
   {
    "duration": 156,
    "start_time": "2022-10-16T11:20:27.394Z"
   },
   {
    "duration": 321,
    "start_time": "2022-10-16T11:20:27.552Z"
   },
   {
    "duration": 314,
    "start_time": "2022-10-16T11:20:27.875Z"
   },
   {
    "duration": 126,
    "start_time": "2022-10-16T11:20:28.194Z"
   },
   {
    "duration": 196,
    "start_time": "2022-10-16T11:20:28.321Z"
   },
   {
    "duration": 110,
    "start_time": "2022-10-16T11:20:28.519Z"
   },
   {
    "duration": 128,
    "start_time": "2022-10-16T11:20:28.630Z"
   },
   {
    "duration": 103,
    "start_time": "2022-10-16T11:20:28.759Z"
   },
   {
    "duration": 171,
    "start_time": "2022-10-16T11:20:28.864Z"
   },
   {
    "duration": 178,
    "start_time": "2022-10-16T11:20:29.037Z"
   },
   {
    "duration": 198,
    "start_time": "2022-10-16T11:20:29.217Z"
   },
   {
    "duration": 181,
    "start_time": "2022-10-16T11:20:29.417Z"
   },
   {
    "duration": 16,
    "start_time": "2022-10-16T11:20:29.600Z"
   },
   {
    "duration": 227,
    "start_time": "2022-10-16T11:20:29.618Z"
   },
   {
    "duration": 16,
    "start_time": "2022-10-16T11:20:29.847Z"
   },
   {
    "duration": 231,
    "start_time": "2022-10-16T11:20:29.864Z"
   },
   {
    "duration": 389,
    "start_time": "2022-10-16T11:20:30.097Z"
   },
   {
    "duration": 97,
    "start_time": "2022-10-16T11:20:30.495Z"
   },
   {
    "duration": 0,
    "start_time": "2022-10-16T11:20:30.595Z"
   },
   {
    "duration": 0,
    "start_time": "2022-10-16T11:20:30.596Z"
   },
   {
    "duration": 0,
    "start_time": "2022-10-16T11:20:30.598Z"
   },
   {
    "duration": 0,
    "start_time": "2022-10-16T11:20:30.599Z"
   },
   {
    "duration": 0,
    "start_time": "2022-10-16T11:20:30.601Z"
   },
   {
    "duration": 0,
    "start_time": "2022-10-16T11:20:30.602Z"
   },
   {
    "duration": 0,
    "start_time": "2022-10-16T11:20:30.604Z"
   },
   {
    "duration": 0,
    "start_time": "2022-10-16T11:20:30.605Z"
   },
   {
    "duration": 0,
    "start_time": "2022-10-16T11:20:30.606Z"
   },
   {
    "duration": 0,
    "start_time": "2022-10-16T11:20:30.607Z"
   },
   {
    "duration": 0,
    "start_time": "2022-10-16T11:20:30.608Z"
   },
   {
    "duration": 0,
    "start_time": "2022-10-16T11:20:30.609Z"
   },
   {
    "duration": 0,
    "start_time": "2022-10-16T11:20:30.610Z"
   },
   {
    "duration": 0,
    "start_time": "2022-10-16T11:20:30.611Z"
   },
   {
    "duration": 0,
    "start_time": "2022-10-16T11:20:30.612Z"
   },
   {
    "duration": 0,
    "start_time": "2022-10-16T11:20:30.736Z"
   },
   {
    "duration": 0,
    "start_time": "2022-10-16T11:20:30.738Z"
   },
   {
    "duration": 7,
    "start_time": "2022-10-16T11:21:04.426Z"
   },
   {
    "duration": 3,
    "start_time": "2022-10-16T11:21:42.140Z"
   },
   {
    "duration": 43,
    "start_time": "2022-10-16T11:22:54.026Z"
   },
   {
    "duration": 6,
    "start_time": "2022-10-16T11:23:09.435Z"
   },
   {
    "duration": 41,
    "start_time": "2022-10-16T11:23:11.114Z"
   },
   {
    "duration": 57,
    "start_time": "2022-10-16T11:23:12.016Z"
   },
   {
    "duration": 3,
    "start_time": "2022-10-16T11:23:12.921Z"
   },
   {
    "duration": 10,
    "start_time": "2022-10-16T11:23:13.116Z"
   },
   {
    "duration": 4,
    "start_time": "2022-10-16T11:23:13.315Z"
   },
   {
    "duration": 40,
    "start_time": "2022-10-16T11:24:41.265Z"
   },
   {
    "duration": 181,
    "start_time": "2022-10-16T11:25:09.759Z"
   },
   {
    "duration": 60,
    "start_time": "2022-10-16T11:47:11.986Z"
   },
   {
    "duration": 56,
    "start_time": "2022-10-16T11:54:55.146Z"
   },
   {
    "duration": 43,
    "start_time": "2022-10-16T11:55:01.477Z"
   },
   {
    "duration": 43,
    "start_time": "2022-10-16T11:55:23.036Z"
   },
   {
    "duration": 39,
    "start_time": "2022-10-16T11:56:36.468Z"
   },
   {
    "duration": 55,
    "start_time": "2022-10-16T11:57:07.697Z"
   },
   {
    "duration": 45,
    "start_time": "2022-10-16T12:07:41.668Z"
   },
   {
    "duration": 41,
    "start_time": "2022-10-16T12:09:00.283Z"
   },
   {
    "duration": 58,
    "start_time": "2022-10-16T12:09:19.960Z"
   },
   {
    "duration": 59,
    "start_time": "2022-10-16T12:17:56.515Z"
   },
   {
    "duration": 50,
    "start_time": "2022-10-16T12:18:22.504Z"
   },
   {
    "duration": 9,
    "start_time": "2022-10-16T12:38:17.912Z"
   },
   {
    "duration": 6,
    "start_time": "2022-10-16T12:38:19.006Z"
   },
   {
    "duration": 10,
    "start_time": "2022-10-16T12:38:34.096Z"
   },
   {
    "duration": 5,
    "start_time": "2022-10-16T12:38:35.111Z"
   },
   {
    "duration": 1273,
    "start_time": "2022-10-17T09:35:06.562Z"
   },
   {
    "duration": 16,
    "start_time": "2022-10-17T09:35:12.001Z"
   },
   {
    "duration": 658,
    "start_time": "2022-10-17T09:35:18.824Z"
   },
   {
    "duration": 12,
    "start_time": "2022-10-17T09:35:22.773Z"
   },
   {
    "duration": 9,
    "start_time": "2022-10-17T09:35:30.450Z"
   },
   {
    "duration": 5,
    "start_time": "2022-10-17T09:35:38.385Z"
   },
   {
    "duration": 10,
    "start_time": "2022-10-17T09:44:44.020Z"
   },
   {
    "duration": 6,
    "start_time": "2022-10-17T09:45:04.774Z"
   },
   {
    "duration": 48,
    "start_time": "2022-10-17T11:58:43.431Z"
   },
   {
    "duration": 1543,
    "start_time": "2022-10-17T11:58:58.586Z"
   },
   {
    "duration": 13,
    "start_time": "2022-10-17T11:59:00.131Z"
   },
   {
    "duration": 691,
    "start_time": "2022-10-17T11:59:00.145Z"
   },
   {
    "duration": 12,
    "start_time": "2022-10-17T11:59:00.838Z"
   },
   {
    "duration": 24,
    "start_time": "2022-10-17T11:59:00.852Z"
   },
   {
    "duration": 25,
    "start_time": "2022-10-17T11:59:00.877Z"
   },
   {
    "duration": 16,
    "start_time": "2022-10-17T11:59:00.903Z"
   },
   {
    "duration": 15,
    "start_time": "2022-10-17T11:59:00.921Z"
   },
   {
    "duration": 54,
    "start_time": "2022-10-17T11:59:00.938Z"
   },
   {
    "duration": 33,
    "start_time": "2022-10-17T11:59:00.993Z"
   },
   {
    "duration": 179,
    "start_time": "2022-10-17T11:59:01.028Z"
   },
   {
    "duration": 24,
    "start_time": "2022-10-17T11:59:01.209Z"
   },
   {
    "duration": 335,
    "start_time": "2022-10-17T11:59:01.235Z"
   },
   {
    "duration": 84,
    "start_time": "2022-10-17T11:59:01.573Z"
   },
   {
    "duration": 323,
    "start_time": "2022-10-17T11:59:01.659Z"
   },
   {
    "duration": 282,
    "start_time": "2022-10-17T11:59:01.983Z"
   },
   {
    "duration": 164,
    "start_time": "2022-10-17T11:59:02.267Z"
   },
   {
    "duration": 160,
    "start_time": "2022-10-17T11:59:02.432Z"
   },
   {
    "duration": 315,
    "start_time": "2022-10-17T11:59:02.593Z"
   },
   {
    "duration": 297,
    "start_time": "2022-10-17T11:59:02.909Z"
   },
   {
    "duration": 116,
    "start_time": "2022-10-17T11:59:03.207Z"
   },
   {
    "duration": 197,
    "start_time": "2022-10-17T11:59:03.325Z"
   },
   {
    "duration": 115,
    "start_time": "2022-10-17T11:59:03.523Z"
   },
   {
    "duration": 112,
    "start_time": "2022-10-17T11:59:03.640Z"
   },
   {
    "duration": 105,
    "start_time": "2022-10-17T11:59:03.753Z"
   },
   {
    "duration": 167,
    "start_time": "2022-10-17T11:59:03.860Z"
   },
   {
    "duration": 160,
    "start_time": "2022-10-17T11:59:04.028Z"
   },
   {
    "duration": 176,
    "start_time": "2022-10-17T11:59:04.190Z"
   },
   {
    "duration": 159,
    "start_time": "2022-10-17T11:59:04.368Z"
   },
   {
    "duration": 14,
    "start_time": "2022-10-17T11:59:04.529Z"
   },
   {
    "duration": 207,
    "start_time": "2022-10-17T11:59:04.545Z"
   },
   {
    "duration": 15,
    "start_time": "2022-10-17T11:59:04.753Z"
   },
   {
    "duration": 224,
    "start_time": "2022-10-17T11:59:04.769Z"
   },
   {
    "duration": 333,
    "start_time": "2022-10-17T11:59:04.994Z"
   },
   {
    "duration": 132,
    "start_time": "2022-10-17T11:59:05.329Z"
   },
   {
    "duration": 39,
    "start_time": "2022-10-17T11:59:05.462Z"
   },
   {
    "duration": 56,
    "start_time": "2022-10-17T11:59:05.502Z"
   },
   {
    "duration": 3,
    "start_time": "2022-10-17T11:59:05.560Z"
   },
   {
    "duration": 23,
    "start_time": "2022-10-17T11:59:05.565Z"
   },
   {
    "duration": 10,
    "start_time": "2022-10-17T11:59:05.590Z"
   },
   {
    "duration": 30,
    "start_time": "2022-10-17T11:59:05.605Z"
   },
   {
    "duration": 6,
    "start_time": "2022-10-17T11:59:05.637Z"
   },
   {
    "duration": 4,
    "start_time": "2022-10-17T11:59:05.646Z"
   },
   {
    "duration": 5,
    "start_time": "2022-10-17T11:59:05.652Z"
   },
   {
    "duration": 205,
    "start_time": "2022-10-17T12:02:15.326Z"
   },
   {
    "duration": 9,
    "start_time": "2022-10-17T12:09:46.585Z"
   },
   {
    "duration": 90,
    "start_time": "2022-10-17T12:10:20.564Z"
   },
   {
    "duration": 4,
    "start_time": "2022-10-17T12:12:14.793Z"
   },
   {
    "duration": 23,
    "start_time": "2022-10-17T12:15:40.644Z"
   },
   {
    "duration": 60,
    "start_time": "2022-10-17T12:15:45.027Z"
   },
   {
    "duration": 3,
    "start_time": "2022-10-17T12:15:46.933Z"
   },
   {
    "duration": 18,
    "start_time": "2022-10-17T12:15:48.103Z"
   },
   {
    "duration": 372,
    "start_time": "2022-10-17T12:19:07.612Z"
   },
   {
    "duration": 48,
    "start_time": "2022-10-17T12:19:53.274Z"
   },
   {
    "duration": 40,
    "start_time": "2022-10-17T12:20:23.601Z"
   },
   {
    "duration": 57,
    "start_time": "2022-10-17T12:20:30.295Z"
   },
   {
    "duration": 57,
    "start_time": "2022-10-17T12:21:08.453Z"
   },
   {
    "duration": 1378,
    "start_time": "2022-10-17T12:49:07.824Z"
   },
   {
    "duration": 1169,
    "start_time": "2022-10-17T12:49:30.443Z"
   },
   {
    "duration": 9,
    "start_time": "2022-10-17T12:49:46.133Z"
   },
   {
    "duration": 354,
    "start_time": "2022-10-17T12:49:54.078Z"
   },
   {
    "duration": 50,
    "start_time": "2022-10-17T12:49:54.434Z"
   },
   {
    "duration": 720,
    "start_time": "2022-10-17T12:49:54.486Z"
   },
   {
    "duration": 26,
    "start_time": "2022-10-17T12:49:55.208Z"
   },
   {
    "duration": 15,
    "start_time": "2022-10-17T12:49:55.236Z"
   },
   {
    "duration": 735,
    "start_time": "2022-10-17T12:49:55.253Z"
   },
   {
    "duration": 12,
    "start_time": "2022-10-17T12:49:55.990Z"
   },
   {
    "duration": 30,
    "start_time": "2022-10-17T12:49:56.004Z"
   },
   {
    "duration": 20,
    "start_time": "2022-10-17T12:49:56.035Z"
   },
   {
    "duration": 16,
    "start_time": "2022-10-17T12:49:56.057Z"
   },
   {
    "duration": 22,
    "start_time": "2022-10-17T12:49:56.075Z"
   },
   {
    "duration": 60,
    "start_time": "2022-10-17T12:49:56.099Z"
   },
   {
    "duration": 5,
    "start_time": "2022-10-17T12:49:56.160Z"
   },
   {
    "duration": 116,
    "start_time": "2022-10-17T12:49:56.168Z"
   },
   {
    "duration": 0,
    "start_time": "2022-10-17T12:49:56.286Z"
   },
   {
    "duration": 0,
    "start_time": "2022-10-17T12:49:56.287Z"
   },
   {
    "duration": 0,
    "start_time": "2022-10-17T12:49:56.288Z"
   },
   {
    "duration": 0,
    "start_time": "2022-10-17T12:49:56.289Z"
   },
   {
    "duration": 0,
    "start_time": "2022-10-17T12:49:56.290Z"
   },
   {
    "duration": 0,
    "start_time": "2022-10-17T12:49:56.291Z"
   },
   {
    "duration": 0,
    "start_time": "2022-10-17T12:49:56.292Z"
   },
   {
    "duration": 0,
    "start_time": "2022-10-17T12:49:56.293Z"
   },
   {
    "duration": 0,
    "start_time": "2022-10-17T12:49:56.294Z"
   },
   {
    "duration": 0,
    "start_time": "2022-10-17T12:49:56.295Z"
   },
   {
    "duration": 0,
    "start_time": "2022-10-17T12:49:56.296Z"
   },
   {
    "duration": 0,
    "start_time": "2022-10-17T12:49:56.297Z"
   },
   {
    "duration": 0,
    "start_time": "2022-10-17T12:49:56.298Z"
   },
   {
    "duration": 0,
    "start_time": "2022-10-17T12:49:56.298Z"
   },
   {
    "duration": 0,
    "start_time": "2022-10-17T12:49:56.300Z"
   },
   {
    "duration": 0,
    "start_time": "2022-10-17T12:49:56.322Z"
   },
   {
    "duration": 1,
    "start_time": "2022-10-17T12:49:56.323Z"
   },
   {
    "duration": 0,
    "start_time": "2022-10-17T12:49:56.326Z"
   },
   {
    "duration": 0,
    "start_time": "2022-10-17T12:49:56.328Z"
   },
   {
    "duration": 0,
    "start_time": "2022-10-17T12:49:56.329Z"
   },
   {
    "duration": 0,
    "start_time": "2022-10-17T12:49:56.330Z"
   },
   {
    "duration": 0,
    "start_time": "2022-10-17T12:49:56.332Z"
   },
   {
    "duration": 0,
    "start_time": "2022-10-17T12:49:56.333Z"
   },
   {
    "duration": 0,
    "start_time": "2022-10-17T12:49:56.335Z"
   },
   {
    "duration": 0,
    "start_time": "2022-10-17T12:49:56.336Z"
   },
   {
    "duration": 0,
    "start_time": "2022-10-17T12:49:56.337Z"
   },
   {
    "duration": 0,
    "start_time": "2022-10-17T12:49:56.339Z"
   },
   {
    "duration": 0,
    "start_time": "2022-10-17T12:49:56.340Z"
   },
   {
    "duration": 0,
    "start_time": "2022-10-17T12:49:56.341Z"
   },
   {
    "duration": 0,
    "start_time": "2022-10-17T12:49:56.343Z"
   },
   {
    "duration": 0,
    "start_time": "2022-10-17T12:49:56.344Z"
   },
   {
    "duration": 0,
    "start_time": "2022-10-17T12:49:56.345Z"
   },
   {
    "duration": 0,
    "start_time": "2022-10-17T12:49:56.346Z"
   },
   {
    "duration": 0,
    "start_time": "2022-10-17T12:49:56.346Z"
   },
   {
    "duration": 0,
    "start_time": "2022-10-17T12:49:56.347Z"
   },
   {
    "duration": 4,
    "start_time": "2022-10-17T12:50:45.630Z"
   },
   {
    "duration": 6,
    "start_time": "2022-10-17T12:54:34.940Z"
   },
   {
    "duration": 36,
    "start_time": "2022-10-17T12:54:45.491Z"
   },
   {
    "duration": 5,
    "start_time": "2022-10-17T12:55:09.081Z"
   },
   {
    "duration": 4,
    "start_time": "2022-10-17T12:55:36.729Z"
   },
   {
    "duration": 366,
    "start_time": "2022-10-17T12:57:04.667Z"
   },
   {
    "duration": 51,
    "start_time": "2022-10-17T12:57:05.035Z"
   },
   {
    "duration": 726,
    "start_time": "2022-10-17T12:57:05.088Z"
   },
   {
    "duration": 25,
    "start_time": "2022-10-17T12:57:05.816Z"
   },
   {
    "duration": 14,
    "start_time": "2022-10-17T12:57:05.843Z"
   },
   {
    "duration": 720,
    "start_time": "2022-10-17T12:57:05.858Z"
   },
   {
    "duration": 12,
    "start_time": "2022-10-17T12:57:06.579Z"
   },
   {
    "duration": 29,
    "start_time": "2022-10-17T12:57:06.592Z"
   },
   {
    "duration": 22,
    "start_time": "2022-10-17T12:57:06.623Z"
   },
   {
    "duration": 5,
    "start_time": "2022-10-17T12:57:06.648Z"
   },
   {
    "duration": 15,
    "start_time": "2022-10-17T12:57:06.655Z"
   },
   {
    "duration": 54,
    "start_time": "2022-10-17T12:57:06.672Z"
   },
   {
    "duration": 6,
    "start_time": "2022-10-17T12:57:06.728Z"
   },
   {
    "duration": 20,
    "start_time": "2022-10-17T12:57:06.735Z"
   },
   {
    "duration": 38,
    "start_time": "2022-10-17T12:57:06.756Z"
   },
   {
    "duration": 321,
    "start_time": "2022-10-17T12:57:06.795Z"
   },
   {
    "duration": 21,
    "start_time": "2022-10-17T12:57:07.118Z"
   },
   {
    "duration": 257,
    "start_time": "2022-10-17T12:57:07.141Z"
   },
   {
    "duration": 169,
    "start_time": "2022-10-17T12:57:07.400Z"
   },
   {
    "duration": 331,
    "start_time": "2022-10-17T12:57:07.571Z"
   },
   {
    "duration": 334,
    "start_time": "2022-10-17T12:57:07.904Z"
   },
   {
    "duration": 263,
    "start_time": "2022-10-17T12:57:08.241Z"
   },
   {
    "duration": 193,
    "start_time": "2022-10-17T12:57:08.506Z"
   },
   {
    "duration": 305,
    "start_time": "2022-10-17T12:57:08.700Z"
   },
   {
    "duration": 365,
    "start_time": "2022-10-17T12:57:09.007Z"
   },
   {
    "duration": 202,
    "start_time": "2022-10-17T12:57:09.374Z"
   },
   {
    "duration": 111,
    "start_time": "2022-10-17T12:57:09.578Z"
   },
   {
    "duration": 113,
    "start_time": "2022-10-17T12:57:09.693Z"
   },
   {
    "duration": 126,
    "start_time": "2022-10-17T12:57:09.808Z"
   },
   {
    "duration": 109,
    "start_time": "2022-10-17T12:57:09.935Z"
   },
   {
    "duration": 164,
    "start_time": "2022-10-17T12:57:10.046Z"
   },
   {
    "duration": 152,
    "start_time": "2022-10-17T12:57:10.212Z"
   },
   {
    "duration": 179,
    "start_time": "2022-10-17T12:57:10.365Z"
   },
   {
    "duration": 176,
    "start_time": "2022-10-17T12:57:10.545Z"
   },
   {
    "duration": 15,
    "start_time": "2022-10-17T12:57:10.723Z"
   },
   {
    "duration": 196,
    "start_time": "2022-10-17T12:57:10.739Z"
   },
   {
    "duration": 15,
    "start_time": "2022-10-17T12:57:10.937Z"
   },
   {
    "duration": 214,
    "start_time": "2022-10-17T12:57:10.954Z"
   },
   {
    "duration": 495,
    "start_time": "2022-10-17T12:57:11.169Z"
   },
   {
    "duration": 56,
    "start_time": "2022-10-17T12:57:11.666Z"
   },
   {
    "duration": 75,
    "start_time": "2022-10-17T12:57:11.725Z"
   },
   {
    "duration": 61,
    "start_time": "2022-10-17T12:57:11.802Z"
   },
   {
    "duration": 3,
    "start_time": "2022-10-17T12:57:11.864Z"
   },
   {
    "duration": 16,
    "start_time": "2022-10-17T12:57:11.868Z"
   },
   {
    "duration": 13,
    "start_time": "2022-10-17T12:57:11.886Z"
   },
   {
    "duration": 21,
    "start_time": "2022-10-17T12:57:11.901Z"
   },
   {
    "duration": 5,
    "start_time": "2022-10-17T12:57:11.923Z"
   },
   {
    "duration": 8,
    "start_time": "2022-10-17T12:57:11.929Z"
   },
   {
    "duration": 8,
    "start_time": "2022-10-17T12:57:11.939Z"
   },
   {
    "duration": 250,
    "start_time": "2022-10-17T12:59:42.289Z"
   },
   {
    "duration": 13,
    "start_time": "2022-10-17T13:00:11.399Z"
   },
   {
    "duration": 18,
    "start_time": "2022-10-17T13:00:20.045Z"
   },
   {
    "duration": 13,
    "start_time": "2022-10-17T13:02:32.314Z"
   },
   {
    "duration": 5,
    "start_time": "2022-10-17T13:03:33.374Z"
   },
   {
    "duration": 418,
    "start_time": "2022-10-17T13:03:40.530Z"
   },
   {
    "duration": 53,
    "start_time": "2022-10-17T13:03:40.951Z"
   },
   {
    "duration": 752,
    "start_time": "2022-10-17T13:03:41.007Z"
   },
   {
    "duration": 36,
    "start_time": "2022-10-17T13:03:41.763Z"
   },
   {
    "duration": 30,
    "start_time": "2022-10-17T13:03:41.802Z"
   },
   {
    "duration": 672,
    "start_time": "2022-10-17T13:03:41.834Z"
   },
   {
    "duration": 18,
    "start_time": "2022-10-17T13:03:42.508Z"
   },
   {
    "duration": 7,
    "start_time": "2022-10-17T13:03:42.528Z"
   },
   {
    "duration": 13,
    "start_time": "2022-10-17T13:03:42.537Z"
   },
   {
    "duration": 4,
    "start_time": "2022-10-17T13:03:42.553Z"
   },
   {
    "duration": 16,
    "start_time": "2022-10-17T13:03:42.559Z"
   },
   {
    "duration": 68,
    "start_time": "2022-10-17T13:03:42.577Z"
   },
   {
    "duration": 4,
    "start_time": "2022-10-17T13:03:42.646Z"
   },
   {
    "duration": 9,
    "start_time": "2022-10-17T13:03:42.652Z"
   },
   {
    "duration": 48,
    "start_time": "2022-10-17T13:03:42.662Z"
   },
   {
    "duration": 174,
    "start_time": "2022-10-17T13:03:42.712Z"
   },
   {
    "duration": 17,
    "start_time": "2022-10-17T13:03:42.887Z"
   },
   {
    "duration": 245,
    "start_time": "2022-10-17T13:03:42.905Z"
   },
   {
    "duration": 149,
    "start_time": "2022-10-17T13:03:43.152Z"
   },
   {
    "duration": 318,
    "start_time": "2022-10-17T13:03:43.303Z"
   },
   {
    "duration": 293,
    "start_time": "2022-10-17T13:03:43.623Z"
   },
   {
    "duration": 158,
    "start_time": "2022-10-17T13:03:43.917Z"
   },
   {
    "duration": 137,
    "start_time": "2022-10-17T13:03:44.076Z"
   },
   {
    "duration": 294,
    "start_time": "2022-10-17T13:03:44.214Z"
   },
   {
    "duration": 306,
    "start_time": "2022-10-17T13:03:44.510Z"
   },
   {
    "duration": 108,
    "start_time": "2022-10-17T13:03:44.817Z"
   },
   {
    "duration": 189,
    "start_time": "2022-10-17T13:03:44.927Z"
   },
   {
    "duration": 106,
    "start_time": "2022-10-17T13:03:45.124Z"
   },
   {
    "duration": 112,
    "start_time": "2022-10-17T13:03:45.232Z"
   },
   {
    "duration": 139,
    "start_time": "2022-10-17T13:03:45.346Z"
   },
   {
    "duration": 157,
    "start_time": "2022-10-17T13:03:45.486Z"
   },
   {
    "duration": 145,
    "start_time": "2022-10-17T13:03:45.644Z"
   },
   {
    "duration": 175,
    "start_time": "2022-10-17T13:03:45.790Z"
   },
   {
    "duration": 154,
    "start_time": "2022-10-17T13:03:45.967Z"
   },
   {
    "duration": 14,
    "start_time": "2022-10-17T13:03:46.123Z"
   },
   {
    "duration": 185,
    "start_time": "2022-10-17T13:03:46.138Z"
   },
   {
    "duration": 14,
    "start_time": "2022-10-17T13:03:46.325Z"
   },
   {
    "duration": 189,
    "start_time": "2022-10-17T13:03:46.341Z"
   },
   {
    "duration": 387,
    "start_time": "2022-10-17T13:03:46.532Z"
   },
   {
    "duration": 160,
    "start_time": "2022-10-17T13:03:46.921Z"
   },
   {
    "duration": 86,
    "start_time": "2022-10-17T13:03:47.082Z"
   },
   {
    "duration": 65,
    "start_time": "2022-10-17T13:03:47.169Z"
   },
   {
    "duration": 2,
    "start_time": "2022-10-17T13:03:47.236Z"
   },
   {
    "duration": 18,
    "start_time": "2022-10-17T13:03:47.240Z"
   },
   {
    "duration": 25,
    "start_time": "2022-10-17T13:03:47.260Z"
   },
   {
    "duration": 27,
    "start_time": "2022-10-17T13:03:47.286Z"
   },
   {
    "duration": 29,
    "start_time": "2022-10-17T13:03:47.315Z"
   },
   {
    "duration": 49,
    "start_time": "2022-10-17T13:03:47.345Z"
   },
   {
    "duration": 4,
    "start_time": "2022-10-17T13:03:47.396Z"
   },
   {
    "duration": 5,
    "start_time": "2022-10-17T13:17:23.178Z"
   },
   {
    "duration": 24,
    "start_time": "2022-10-17T13:29:34.140Z"
   },
   {
    "duration": 164,
    "start_time": "2022-10-17T13:33:13.142Z"
   },
   {
    "duration": 182,
    "start_time": "2022-10-17T13:33:56.788Z"
   },
   {
    "duration": 156,
    "start_time": "2022-10-17T13:35:07.503Z"
   },
   {
    "duration": 180,
    "start_time": "2022-10-17T13:36:31.590Z"
   },
   {
    "duration": 178,
    "start_time": "2022-10-17T13:37:04.758Z"
   },
   {
    "duration": 12,
    "start_time": "2022-10-17T13:39:49.137Z"
   },
   {
    "duration": 16,
    "start_time": "2022-10-17T13:40:15.254Z"
   },
   {
    "duration": 15,
    "start_time": "2022-10-17T13:40:24.870Z"
   },
   {
    "duration": 14,
    "start_time": "2022-10-17T13:40:56.288Z"
   },
   {
    "duration": 38,
    "start_time": "2022-10-17T13:55:44.538Z"
   },
   {
    "duration": 48,
    "start_time": "2022-10-17T13:57:44.465Z"
   },
   {
    "duration": 49,
    "start_time": "2022-10-17T13:58:11.856Z"
   },
   {
    "duration": 51,
    "start_time": "2022-10-17T13:59:33.029Z"
   },
   {
    "duration": 168,
    "start_time": "2022-10-17T14:09:54.916Z"
   },
   {
    "duration": 40,
    "start_time": "2022-10-17T14:15:35.593Z"
   },
   {
    "duration": 37,
    "start_time": "2022-10-17T14:21:00.085Z"
   },
   {
    "duration": 56,
    "start_time": "2022-10-17T14:22:12.034Z"
   },
   {
    "duration": 54,
    "start_time": "2022-10-17T14:32:03.296Z"
   },
   {
    "duration": 48,
    "start_time": "2022-10-17T14:32:31.030Z"
   },
   {
    "duration": 37,
    "start_time": "2022-10-17T14:32:40.670Z"
   },
   {
    "duration": 55,
    "start_time": "2022-10-17T14:34:39.040Z"
   },
   {
    "duration": 73,
    "start_time": "2022-10-17T14:34:52.908Z"
   },
   {
    "duration": 72,
    "start_time": "2022-10-17T14:35:21.586Z"
   },
   {
    "duration": 89,
    "start_time": "2022-10-17T14:37:27.313Z"
   },
   {
    "duration": 8,
    "start_time": "2022-10-17T14:40:09.592Z"
   },
   {
    "duration": 5,
    "start_time": "2022-10-17T14:40:10.469Z"
   },
   {
    "duration": 10,
    "start_time": "2022-10-17T14:40:27.990Z"
   },
   {
    "duration": 5,
    "start_time": "2022-10-17T14:40:29.357Z"
   },
   {
    "duration": 9,
    "start_time": "2022-10-17T14:40:42.998Z"
   },
   {
    "duration": 5,
    "start_time": "2022-10-17T14:40:44.849Z"
   },
   {
    "duration": 110,
    "start_time": "2022-10-17T14:45:40.408Z"
   },
   {
    "duration": 16,
    "start_time": "2022-10-17T14:45:47.598Z"
   },
   {
    "duration": 52,
    "start_time": "2022-10-17T14:46:56.769Z"
   },
   {
    "duration": 57,
    "start_time": "2022-10-17T14:48:38.649Z"
   },
   {
    "duration": 57,
    "start_time": "2022-10-17T14:48:50.237Z"
   },
   {
    "duration": 90,
    "start_time": "2022-10-17T14:49:45.178Z"
   },
   {
    "duration": 96,
    "start_time": "2022-10-17T14:52:21.676Z"
   },
   {
    "duration": 88,
    "start_time": "2022-10-17T14:53:19.111Z"
   },
   {
    "duration": 95,
    "start_time": "2022-10-17T16:11:49.771Z"
   },
   {
    "duration": 100,
    "start_time": "2022-10-17T16:11:59.371Z"
   },
   {
    "duration": 382,
    "start_time": "2022-10-18T08:30:33.144Z"
   },
   {
    "duration": 72,
    "start_time": "2022-10-18T08:30:33.527Z"
   },
   {
    "duration": 25,
    "start_time": "2022-10-18T08:30:33.601Z"
   },
   {
    "duration": 14,
    "start_time": "2022-10-18T08:30:33.628Z"
   },
   {
    "duration": 1104,
    "start_time": "2022-10-18T08:30:33.644Z"
   },
   {
    "duration": 13,
    "start_time": "2022-10-18T08:30:34.750Z"
   },
   {
    "duration": 13,
    "start_time": "2022-10-18T08:30:34.765Z"
   },
   {
    "duration": 15,
    "start_time": "2022-10-18T08:30:34.780Z"
   },
   {
    "duration": 24,
    "start_time": "2022-10-18T08:30:34.797Z"
   },
   {
    "duration": 73,
    "start_time": "2022-10-18T08:30:34.824Z"
   },
   {
    "duration": 66,
    "start_time": "2022-10-18T08:30:34.899Z"
   },
   {
    "duration": 4,
    "start_time": "2022-10-18T08:30:34.967Z"
   },
   {
    "duration": 16,
    "start_time": "2022-10-18T08:30:34.972Z"
   },
   {
    "duration": 488,
    "start_time": "2022-10-18T08:30:34.989Z"
   },
   {
    "duration": 24,
    "start_time": "2022-10-18T08:30:35.478Z"
   },
   {
    "duration": 189,
    "start_time": "2022-10-18T08:30:35.504Z"
   },
   {
    "duration": 30,
    "start_time": "2022-10-18T08:30:35.695Z"
   },
   {
    "duration": 305,
    "start_time": "2022-10-18T08:30:35.727Z"
   },
   {
    "duration": 160,
    "start_time": "2022-10-18T08:30:36.034Z"
   },
   {
    "duration": 343,
    "start_time": "2022-10-18T08:30:36.196Z"
   },
   {
    "duration": 321,
    "start_time": "2022-10-18T08:30:36.540Z"
   },
   {
    "duration": 173,
    "start_time": "2022-10-18T08:30:36.863Z"
   },
   {
    "duration": 167,
    "start_time": "2022-10-18T08:30:37.038Z"
   },
   {
    "duration": 352,
    "start_time": "2022-10-18T08:30:37.207Z"
   },
   {
    "duration": 339,
    "start_time": "2022-10-18T08:30:37.561Z"
   },
   {
    "duration": 129,
    "start_time": "2022-10-18T08:30:37.901Z"
   },
   {
    "duration": 212,
    "start_time": "2022-10-18T08:30:38.032Z"
   },
   {
    "duration": 119,
    "start_time": "2022-10-18T08:30:38.249Z"
   },
   {
    "duration": 119,
    "start_time": "2022-10-18T08:30:38.370Z"
   },
   {
    "duration": 109,
    "start_time": "2022-10-18T08:30:38.491Z"
   },
   {
    "duration": 171,
    "start_time": "2022-10-18T08:30:38.601Z"
   },
   {
    "duration": 197,
    "start_time": "2022-10-18T08:30:38.774Z"
   },
   {
    "duration": 188,
    "start_time": "2022-10-18T08:30:38.973Z"
   },
   {
    "duration": 159,
    "start_time": "2022-10-18T08:30:39.163Z"
   },
   {
    "duration": 15,
    "start_time": "2022-10-18T08:30:39.324Z"
   },
   {
    "duration": 206,
    "start_time": "2022-10-18T08:30:39.340Z"
   },
   {
    "duration": 15,
    "start_time": "2022-10-18T08:30:39.548Z"
   },
   {
    "duration": 215,
    "start_time": "2022-10-18T08:30:39.564Z"
   },
   {
    "duration": 375,
    "start_time": "2022-10-18T08:30:39.781Z"
   },
   {
    "duration": 185,
    "start_time": "2022-10-18T08:30:40.158Z"
   },
   {
    "duration": 107,
    "start_time": "2022-10-18T08:30:40.345Z"
   },
   {
    "duration": 129,
    "start_time": "2022-10-18T08:30:40.453Z"
   },
   {
    "duration": 2,
    "start_time": "2022-10-18T08:30:40.584Z"
   },
   {
    "duration": 35,
    "start_time": "2022-10-18T08:30:40.588Z"
   },
   {
    "duration": 4,
    "start_time": "2022-10-18T08:30:40.625Z"
   },
   {
    "duration": 13,
    "start_time": "2022-10-18T08:30:40.631Z"
   },
   {
    "duration": 27,
    "start_time": "2022-10-18T08:30:40.646Z"
   },
   {
    "duration": 25,
    "start_time": "2022-10-18T08:30:40.675Z"
   },
   {
    "duration": 2,
    "start_time": "2022-10-18T08:30:40.701Z"
   },
   {
    "duration": 5,
    "start_time": "2022-10-18T09:01:16.952Z"
   },
   {
    "duration": 129,
    "start_time": "2022-10-18T09:12:36.694Z"
   },
   {
    "duration": 120,
    "start_time": "2022-10-18T09:12:43.002Z"
   },
   {
    "duration": 416,
    "start_time": "2022-10-18T09:12:51.313Z"
   },
   {
    "duration": 43,
    "start_time": "2022-10-18T09:12:51.731Z"
   },
   {
    "duration": 28,
    "start_time": "2022-10-18T09:12:51.775Z"
   },
   {
    "duration": 21,
    "start_time": "2022-10-18T09:12:51.806Z"
   },
   {
    "duration": 1007,
    "start_time": "2022-10-18T09:12:51.830Z"
   },
   {
    "duration": 14,
    "start_time": "2022-10-18T09:12:52.840Z"
   },
   {
    "duration": 22,
    "start_time": "2022-10-18T09:12:52.855Z"
   },
   {
    "duration": 41,
    "start_time": "2022-10-18T09:12:52.879Z"
   },
   {
    "duration": 6,
    "start_time": "2022-10-18T09:12:52.922Z"
   },
   {
    "duration": 18,
    "start_time": "2022-10-18T09:12:52.930Z"
   },
   {
    "duration": 56,
    "start_time": "2022-10-18T09:12:52.951Z"
   },
   {
    "duration": 16,
    "start_time": "2022-10-18T09:12:53.008Z"
   },
   {
    "duration": 31,
    "start_time": "2022-10-18T09:12:53.025Z"
   },
   {
    "duration": 550,
    "start_time": "2022-10-18T09:12:53.058Z"
   },
   {
    "duration": 30,
    "start_time": "2022-10-18T09:12:53.610Z"
   },
   {
    "duration": 216,
    "start_time": "2022-10-18T09:12:53.642Z"
   },
   {
    "duration": 22,
    "start_time": "2022-10-18T09:12:53.860Z"
   },
   {
    "duration": 289,
    "start_time": "2022-10-18T09:12:53.884Z"
   },
   {
    "duration": 87,
    "start_time": "2022-10-18T09:12:54.176Z"
   },
   {
    "duration": 418,
    "start_time": "2022-10-18T09:12:54.266Z"
   },
   {
    "duration": 329,
    "start_time": "2022-10-18T09:12:54.686Z"
   },
   {
    "duration": 167,
    "start_time": "2022-10-18T09:12:55.021Z"
   },
   {
    "duration": 183,
    "start_time": "2022-10-18T09:12:55.190Z"
   },
   {
    "duration": 345,
    "start_time": "2022-10-18T09:12:55.375Z"
   },
   {
    "duration": 336,
    "start_time": "2022-10-18T09:12:55.722Z"
   },
   {
    "duration": 123,
    "start_time": "2022-10-18T09:12:56.060Z"
   },
   {
    "duration": 123,
    "start_time": "2022-10-18T09:12:56.185Z"
   },
   {
    "duration": 116,
    "start_time": "2022-10-18T09:12:56.320Z"
   },
   {
    "duration": 219,
    "start_time": "2022-10-18T09:12:56.438Z"
   },
   {
    "duration": 110,
    "start_time": "2022-10-18T09:12:56.659Z"
   },
   {
    "duration": 185,
    "start_time": "2022-10-18T09:12:56.771Z"
   },
   {
    "duration": 167,
    "start_time": "2022-10-18T09:12:56.958Z"
   },
   {
    "duration": 177,
    "start_time": "2022-10-18T09:12:57.127Z"
   },
   {
    "duration": 160,
    "start_time": "2022-10-18T09:12:57.306Z"
   },
   {
    "duration": 14,
    "start_time": "2022-10-18T09:12:57.468Z"
   },
   {
    "duration": 216,
    "start_time": "2022-10-18T09:12:57.484Z"
   },
   {
    "duration": 22,
    "start_time": "2022-10-18T09:12:57.702Z"
   },
   {
    "duration": 230,
    "start_time": "2022-10-18T09:12:57.725Z"
   },
   {
    "duration": 385,
    "start_time": "2022-10-18T09:12:57.957Z"
   },
   {
    "duration": 100,
    "start_time": "2022-10-18T09:12:58.345Z"
   },
   {
    "duration": 110,
    "start_time": "2022-10-18T09:12:58.447Z"
   },
   {
    "duration": 125,
    "start_time": "2022-10-18T09:12:58.559Z"
   },
   {
    "duration": 2,
    "start_time": "2022-10-18T09:12:58.686Z"
   },
   {
    "duration": 38,
    "start_time": "2022-10-18T09:12:58.690Z"
   },
   {
    "duration": 46,
    "start_time": "2022-10-18T09:12:58.729Z"
   },
   {
    "duration": 41,
    "start_time": "2022-10-18T09:12:58.776Z"
   },
   {
    "duration": 18,
    "start_time": "2022-10-18T09:12:58.819Z"
   },
   {
    "duration": 97,
    "start_time": "2022-10-18T09:12:58.838Z"
   },
   {
    "duration": 51,
    "start_time": "2022-10-18T09:12:58.937Z"
   },
   {
    "duration": 105,
    "start_time": "2022-10-18T09:14:32.258Z"
   },
   {
    "duration": 147,
    "start_time": "2022-10-18T09:14:56.197Z"
   },
   {
    "duration": 102,
    "start_time": "2022-10-18T09:15:12.182Z"
   },
   {
    "duration": 83,
    "start_time": "2022-10-18T09:15:25.350Z"
   },
   {
    "duration": 76,
    "start_time": "2022-10-18T09:15:55.744Z"
   },
   {
    "duration": 78,
    "start_time": "2022-10-18T09:16:10.947Z"
   },
   {
    "duration": 69,
    "start_time": "2022-10-18T09:17:47.143Z"
   },
   {
    "duration": 69,
    "start_time": "2022-10-18T09:17:57.940Z"
   },
   {
    "duration": 73,
    "start_time": "2022-10-18T09:21:54.532Z"
   },
   {
    "duration": 81,
    "start_time": "2022-10-18T09:22:21.865Z"
   },
   {
    "duration": 90,
    "start_time": "2022-10-18T09:22:37.285Z"
   },
   {
    "duration": 74,
    "start_time": "2022-10-18T09:22:56.178Z"
   },
   {
    "duration": 71,
    "start_time": "2022-10-18T09:23:03.245Z"
   },
   {
    "duration": 90,
    "start_time": "2022-10-18T09:42:14.047Z"
   },
   {
    "duration": 76,
    "start_time": "2022-10-18T09:43:50.923Z"
   },
   {
    "duration": 87,
    "start_time": "2022-10-18T09:49:03.668Z"
   },
   {
    "duration": 66,
    "start_time": "2022-10-18T09:53:04.751Z"
   },
   {
    "duration": 95,
    "start_time": "2022-10-18T09:54:06.972Z"
   },
   {
    "duration": 85,
    "start_time": "2022-10-18T10:00:54.716Z"
   },
   {
    "duration": 70,
    "start_time": "2022-10-18T10:01:24.724Z"
   },
   {
    "duration": 87,
    "start_time": "2022-10-18T10:06:01.754Z"
   },
   {
    "duration": 69,
    "start_time": "2022-10-18T10:06:34.633Z"
   },
   {
    "duration": 67,
    "start_time": "2022-10-18T12:00:31.144Z"
   },
   {
    "duration": 72,
    "start_time": "2022-10-18T12:00:40.615Z"
   },
   {
    "duration": 104,
    "start_time": "2022-10-18T12:02:24.021Z"
   },
   {
    "duration": 98,
    "start_time": "2022-10-18T12:11:51.769Z"
   },
   {
    "duration": 68,
    "start_time": "2022-10-18T12:12:05.572Z"
   },
   {
    "duration": 71,
    "start_time": "2022-10-18T12:15:55.521Z"
   },
   {
    "duration": 35,
    "start_time": "2022-10-18T12:16:39.924Z"
   },
   {
    "duration": 132,
    "start_time": "2022-10-18T12:19:24.569Z"
   },
   {
    "duration": 78,
    "start_time": "2022-10-18T12:20:02.534Z"
   },
   {
    "duration": 381,
    "start_time": "2022-10-18T12:20:29.470Z"
   },
   {
    "duration": 47,
    "start_time": "2022-10-18T12:20:29.854Z"
   },
   {
    "duration": 38,
    "start_time": "2022-10-18T12:20:29.904Z"
   },
   {
    "duration": 16,
    "start_time": "2022-10-18T12:20:29.944Z"
   },
   {
    "duration": 1055,
    "start_time": "2022-10-18T12:20:29.963Z"
   },
   {
    "duration": 12,
    "start_time": "2022-10-18T12:20:31.020Z"
   },
   {
    "duration": 43,
    "start_time": "2022-10-18T12:20:31.033Z"
   },
   {
    "duration": 41,
    "start_time": "2022-10-18T12:20:31.078Z"
   },
   {
    "duration": 24,
    "start_time": "2022-10-18T12:20:31.121Z"
   },
   {
    "duration": 41,
    "start_time": "2022-10-18T12:20:31.147Z"
   },
   {
    "duration": 71,
    "start_time": "2022-10-18T12:20:31.190Z"
   },
   {
    "duration": 5,
    "start_time": "2022-10-18T12:20:31.264Z"
   },
   {
    "duration": 28,
    "start_time": "2022-10-18T12:20:31.271Z"
   },
   {
    "duration": 569,
    "start_time": "2022-10-18T12:20:31.303Z"
   },
   {
    "duration": 48,
    "start_time": "2022-10-18T12:20:31.875Z"
   },
   {
    "duration": 219,
    "start_time": "2022-10-18T12:20:31.925Z"
   },
   {
    "duration": 28,
    "start_time": "2022-10-18T12:20:32.147Z"
   },
   {
    "duration": 324,
    "start_time": "2022-10-18T12:20:32.177Z"
   },
   {
    "duration": 87,
    "start_time": "2022-10-18T12:20:32.503Z"
   },
   {
    "duration": 446,
    "start_time": "2022-10-18T12:20:32.592Z"
   },
   {
    "duration": 369,
    "start_time": "2022-10-18T12:20:33.041Z"
   },
   {
    "duration": 183,
    "start_time": "2022-10-18T12:20:33.413Z"
   },
   {
    "duration": 182,
    "start_time": "2022-10-18T12:20:33.598Z"
   },
   {
    "duration": 384,
    "start_time": "2022-10-18T12:20:33.782Z"
   },
   {
    "duration": 357,
    "start_time": "2022-10-18T12:20:34.168Z"
   },
   {
    "duration": 133,
    "start_time": "2022-10-18T12:20:34.527Z"
   },
   {
    "duration": 134,
    "start_time": "2022-10-18T12:20:34.662Z"
   },
   {
    "duration": 140,
    "start_time": "2022-10-18T12:20:34.798Z"
   },
   {
    "duration": 222,
    "start_time": "2022-10-18T12:20:34.940Z"
   },
   {
    "duration": 120,
    "start_time": "2022-10-18T12:20:35.163Z"
   },
   {
    "duration": 206,
    "start_time": "2022-10-18T12:20:35.286Z"
   },
   {
    "duration": 179,
    "start_time": "2022-10-18T12:20:35.495Z"
   },
   {
    "duration": 203,
    "start_time": "2022-10-18T12:20:35.675Z"
   },
   {
    "duration": 167,
    "start_time": "2022-10-18T12:20:35.880Z"
   },
   {
    "duration": 15,
    "start_time": "2022-10-18T12:20:36.049Z"
   },
   {
    "duration": 240,
    "start_time": "2022-10-18T12:20:36.066Z"
   },
   {
    "duration": 28,
    "start_time": "2022-10-18T12:20:36.308Z"
   },
   {
    "duration": 220,
    "start_time": "2022-10-18T12:20:36.338Z"
   },
   {
    "duration": 389,
    "start_time": "2022-10-18T12:20:36.560Z"
   },
   {
    "duration": 43,
    "start_time": "2022-10-18T12:20:36.951Z"
   },
   {
    "duration": 69,
    "start_time": "2022-10-18T12:20:36.998Z"
   },
   {
    "duration": 125,
    "start_time": "2022-10-18T12:20:37.069Z"
   },
   {
    "duration": 0,
    "start_time": "2022-10-18T12:20:37.196Z"
   },
   {
    "duration": 0,
    "start_time": "2022-10-18T12:20:37.198Z"
   },
   {
    "duration": 0,
    "start_time": "2022-10-18T12:20:37.199Z"
   },
   {
    "duration": 0,
    "start_time": "2022-10-18T12:20:37.201Z"
   },
   {
    "duration": 0,
    "start_time": "2022-10-18T12:20:37.202Z"
   },
   {
    "duration": 0,
    "start_time": "2022-10-18T12:20:37.204Z"
   },
   {
    "duration": 0,
    "start_time": "2022-10-18T12:20:37.205Z"
   },
   {
    "duration": 3,
    "start_time": "2022-10-18T12:20:43.774Z"
   },
   {
    "duration": 410,
    "start_time": "2022-10-18T12:20:54.660Z"
   },
   {
    "duration": 41,
    "start_time": "2022-10-18T12:20:55.072Z"
   },
   {
    "duration": 28,
    "start_time": "2022-10-18T12:20:55.115Z"
   },
   {
    "duration": 43,
    "start_time": "2022-10-18T12:20:55.145Z"
   },
   {
    "duration": 1016,
    "start_time": "2022-10-18T12:20:55.191Z"
   },
   {
    "duration": 19,
    "start_time": "2022-10-18T12:20:56.209Z"
   },
   {
    "duration": 28,
    "start_time": "2022-10-18T12:20:56.230Z"
   },
   {
    "duration": 57,
    "start_time": "2022-10-18T12:20:56.260Z"
   },
   {
    "duration": 10,
    "start_time": "2022-10-18T12:20:56.319Z"
   },
   {
    "duration": 23,
    "start_time": "2022-10-18T12:20:56.333Z"
   },
   {
    "duration": 80,
    "start_time": "2022-10-18T12:20:56.359Z"
   },
   {
    "duration": 4,
    "start_time": "2022-10-18T12:20:56.441Z"
   },
   {
    "duration": 19,
    "start_time": "2022-10-18T12:20:56.447Z"
   },
   {
    "duration": 517,
    "start_time": "2022-10-18T12:20:56.468Z"
   },
   {
    "duration": 25,
    "start_time": "2022-10-18T12:20:56.987Z"
   },
   {
    "duration": 217,
    "start_time": "2022-10-18T12:20:57.014Z"
   },
   {
    "duration": 30,
    "start_time": "2022-10-18T12:20:57.234Z"
   },
   {
    "duration": 312,
    "start_time": "2022-10-18T12:20:57.267Z"
   },
   {
    "duration": 100,
    "start_time": "2022-10-18T12:20:57.581Z"
   },
   {
    "duration": 433,
    "start_time": "2022-10-18T12:20:57.684Z"
   },
   {
    "duration": 363,
    "start_time": "2022-10-18T12:20:58.121Z"
   },
   {
    "duration": 190,
    "start_time": "2022-10-18T12:20:58.486Z"
   },
   {
    "duration": 189,
    "start_time": "2022-10-18T12:20:58.679Z"
   },
   {
    "duration": 456,
    "start_time": "2022-10-18T12:20:58.870Z"
   },
   {
    "duration": 362,
    "start_time": "2022-10-18T12:20:59.329Z"
   },
   {
    "duration": 136,
    "start_time": "2022-10-18T12:20:59.693Z"
   },
   {
    "duration": 147,
    "start_time": "2022-10-18T12:20:59.831Z"
   },
   {
    "duration": 142,
    "start_time": "2022-10-18T12:20:59.982Z"
   },
   {
    "duration": 241,
    "start_time": "2022-10-18T12:21:00.126Z"
   },
   {
    "duration": 126,
    "start_time": "2022-10-18T12:21:00.369Z"
   },
   {
    "duration": 200,
    "start_time": "2022-10-18T12:21:00.497Z"
   },
   {
    "duration": 203,
    "start_time": "2022-10-18T12:21:00.700Z"
   },
   {
    "duration": 200,
    "start_time": "2022-10-18T12:21:00.905Z"
   },
   {
    "duration": 181,
    "start_time": "2022-10-18T12:21:01.107Z"
   },
   {
    "duration": 37,
    "start_time": "2022-10-18T12:21:01.290Z"
   },
   {
    "duration": 232,
    "start_time": "2022-10-18T12:21:01.328Z"
   },
   {
    "duration": 17,
    "start_time": "2022-10-18T12:21:01.563Z"
   },
   {
    "duration": 282,
    "start_time": "2022-10-18T12:21:01.582Z"
   },
   {
    "duration": 423,
    "start_time": "2022-10-18T12:21:01.866Z"
   },
   {
    "duration": 57,
    "start_time": "2022-10-18T12:21:02.291Z"
   },
   {
    "duration": 46,
    "start_time": "2022-10-18T12:21:02.350Z"
   },
   {
    "duration": 137,
    "start_time": "2022-10-18T12:21:02.398Z"
   },
   {
    "duration": 0,
    "start_time": "2022-10-18T12:21:02.537Z"
   },
   {
    "duration": 0,
    "start_time": "2022-10-18T12:21:02.538Z"
   },
   {
    "duration": 0,
    "start_time": "2022-10-18T12:21:02.539Z"
   },
   {
    "duration": 0,
    "start_time": "2022-10-18T12:21:02.540Z"
   },
   {
    "duration": 0,
    "start_time": "2022-10-18T12:21:02.541Z"
   },
   {
    "duration": 0,
    "start_time": "2022-10-18T12:21:02.542Z"
   },
   {
    "duration": 0,
    "start_time": "2022-10-18T12:21:02.543Z"
   },
   {
    "duration": 22,
    "start_time": "2022-10-18T12:21:21.339Z"
   },
   {
    "duration": 20,
    "start_time": "2022-10-18T12:22:28.149Z"
   },
   {
    "duration": 19,
    "start_time": "2022-10-18T12:29:57.371Z"
   },
   {
    "duration": 22,
    "start_time": "2022-10-18T12:30:00.506Z"
   },
   {
    "duration": 22,
    "start_time": "2022-10-18T12:30:05.076Z"
   },
   {
    "duration": 3,
    "start_time": "2022-10-18T12:32:30.927Z"
   },
   {
    "duration": 9,
    "start_time": "2022-10-18T12:32:31.388Z"
   },
   {
    "duration": 5,
    "start_time": "2022-10-18T12:32:31.927Z"
   },
   {
    "duration": 9,
    "start_time": "2022-10-18T12:32:33.008Z"
   },
   {
    "duration": 6,
    "start_time": "2022-10-18T12:32:33.467Z"
   },
   {
    "duration": 390,
    "start_time": "2022-10-18T13:17:32.456Z"
   },
   {
    "duration": 42,
    "start_time": "2022-10-18T13:17:32.849Z"
   },
   {
    "duration": 33,
    "start_time": "2022-10-18T13:17:32.893Z"
   },
   {
    "duration": 24,
    "start_time": "2022-10-18T13:17:32.929Z"
   },
   {
    "duration": 966,
    "start_time": "2022-10-18T13:17:32.955Z"
   },
   {
    "duration": 11,
    "start_time": "2022-10-18T13:17:33.923Z"
   },
   {
    "duration": 12,
    "start_time": "2022-10-18T13:17:33.936Z"
   },
   {
    "duration": 17,
    "start_time": "2022-10-18T13:17:33.950Z"
   },
   {
    "duration": 6,
    "start_time": "2022-10-18T13:17:33.968Z"
   },
   {
    "duration": 27,
    "start_time": "2022-10-18T13:17:33.977Z"
   },
   {
    "duration": 65,
    "start_time": "2022-10-18T13:17:34.006Z"
   },
   {
    "duration": 4,
    "start_time": "2022-10-18T13:17:34.073Z"
   },
   {
    "duration": 7,
    "start_time": "2022-10-18T13:17:34.079Z"
   },
   {
    "duration": 556,
    "start_time": "2022-10-18T13:17:34.088Z"
   },
   {
    "duration": 26,
    "start_time": "2022-10-18T13:17:34.646Z"
   },
   {
    "duration": 197,
    "start_time": "2022-10-18T13:17:34.674Z"
   },
   {
    "duration": 18,
    "start_time": "2022-10-18T13:17:34.873Z"
   },
   {
    "duration": 270,
    "start_time": "2022-10-18T13:17:34.893Z"
   },
   {
    "duration": 84,
    "start_time": "2022-10-18T13:17:35.165Z"
   },
   {
    "duration": 415,
    "start_time": "2022-10-18T13:17:35.251Z"
   },
   {
    "duration": 321,
    "start_time": "2022-10-18T13:17:35.668Z"
   },
   {
    "duration": 175,
    "start_time": "2022-10-18T13:17:35.990Z"
   },
   {
    "duration": 173,
    "start_time": "2022-10-18T13:17:36.166Z"
   },
   {
    "duration": 336,
    "start_time": "2022-10-18T13:17:36.341Z"
   },
   {
    "duration": 342,
    "start_time": "2022-10-18T13:17:36.678Z"
   },
   {
    "duration": 123,
    "start_time": "2022-10-18T13:17:37.022Z"
   },
   {
    "duration": 121,
    "start_time": "2022-10-18T13:17:37.147Z"
   },
   {
    "duration": 126,
    "start_time": "2022-10-18T13:17:37.271Z"
   },
   {
    "duration": 206,
    "start_time": "2022-10-18T13:17:37.399Z"
   },
   {
    "duration": 136,
    "start_time": "2022-10-18T13:17:37.607Z"
   },
   {
    "duration": 196,
    "start_time": "2022-10-18T13:17:37.745Z"
   },
   {
    "duration": 180,
    "start_time": "2022-10-18T13:17:37.943Z"
   },
   {
    "duration": 176,
    "start_time": "2022-10-18T13:17:38.125Z"
   },
   {
    "duration": 165,
    "start_time": "2022-10-18T13:17:38.303Z"
   },
   {
    "duration": 16,
    "start_time": "2022-10-18T13:17:38.470Z"
   },
   {
    "duration": 204,
    "start_time": "2022-10-18T13:17:38.488Z"
   },
   {
    "duration": 15,
    "start_time": "2022-10-18T13:17:38.694Z"
   },
   {
    "duration": 241,
    "start_time": "2022-10-18T13:17:38.721Z"
   },
   {
    "duration": 431,
    "start_time": "2022-10-18T13:17:38.964Z"
   },
   {
    "duration": 28,
    "start_time": "2022-10-18T13:17:39.396Z"
   },
   {
    "duration": 20,
    "start_time": "2022-10-18T13:17:39.427Z"
   },
   {
    "duration": 20,
    "start_time": "2022-10-18T13:17:39.450Z"
   },
   {
    "duration": 4,
    "start_time": "2022-10-18T13:17:39.472Z"
   },
   {
    "duration": 42,
    "start_time": "2022-10-18T13:17:39.478Z"
   },
   {
    "duration": 5,
    "start_time": "2022-10-18T13:17:39.523Z"
   },
   {
    "duration": 13,
    "start_time": "2022-10-18T13:17:39.529Z"
   },
   {
    "duration": 9,
    "start_time": "2022-10-18T13:17:39.544Z"
   },
   {
    "duration": 5,
    "start_time": "2022-10-18T13:17:39.555Z"
   },
   {
    "duration": 23,
    "start_time": "2022-10-18T13:17:39.562Z"
   },
   {
    "duration": 359,
    "start_time": "2022-10-18T13:23:51.365Z"
   },
   {
    "duration": 406,
    "start_time": "2022-10-18T13:38:53.113Z"
   },
   {
    "duration": 206,
    "start_time": "2022-10-18T13:38:53.520Z"
   },
   {
    "duration": 28,
    "start_time": "2022-10-18T13:38:53.732Z"
   },
   {
    "duration": 22,
    "start_time": "2022-10-18T13:38:53.762Z"
   },
   {
    "duration": 1094,
    "start_time": "2022-10-18T13:38:53.786Z"
   },
   {
    "duration": 13,
    "start_time": "2022-10-18T13:38:54.882Z"
   },
   {
    "duration": 10,
    "start_time": "2022-10-18T13:38:54.896Z"
   },
   {
    "duration": 52,
    "start_time": "2022-10-18T13:38:54.924Z"
   },
   {
    "duration": 14,
    "start_time": "2022-10-18T13:38:54.977Z"
   },
   {
    "duration": 113,
    "start_time": "2022-10-18T13:38:54.995Z"
   },
   {
    "duration": 68,
    "start_time": "2022-10-18T13:38:55.110Z"
   },
   {
    "duration": 5,
    "start_time": "2022-10-18T13:38:55.180Z"
   },
   {
    "duration": 31,
    "start_time": "2022-10-18T13:38:55.186Z"
   },
   {
    "duration": 450,
    "start_time": "2022-10-18T13:38:55.219Z"
   },
   {
    "duration": 23,
    "start_time": "2022-10-18T13:38:55.671Z"
   },
   {
    "duration": 191,
    "start_time": "2022-10-18T13:38:55.696Z"
   },
   {
    "duration": 20,
    "start_time": "2022-10-18T13:38:55.889Z"
   },
   {
    "duration": 333,
    "start_time": "2022-10-18T13:38:55.923Z"
   },
   {
    "duration": 141,
    "start_time": "2022-10-18T13:38:56.258Z"
   },
   {
    "duration": 348,
    "start_time": "2022-10-18T13:38:56.401Z"
   },
   {
    "duration": 322,
    "start_time": "2022-10-18T13:38:56.751Z"
   },
   {
    "duration": 158,
    "start_time": "2022-10-18T13:38:57.075Z"
   },
   {
    "duration": 161,
    "start_time": "2022-10-18T13:38:57.236Z"
   },
   {
    "duration": 325,
    "start_time": "2022-10-18T13:38:57.398Z"
   },
   {
    "duration": 334,
    "start_time": "2022-10-18T13:38:57.727Z"
   },
   {
    "duration": 132,
    "start_time": "2022-10-18T13:38:58.063Z"
   },
   {
    "duration": 231,
    "start_time": "2022-10-18T13:38:58.196Z"
   },
   {
    "duration": 106,
    "start_time": "2022-10-18T13:38:58.436Z"
   },
   {
    "duration": 114,
    "start_time": "2022-10-18T13:38:58.544Z"
   },
   {
    "duration": 105,
    "start_time": "2022-10-18T13:38:58.660Z"
   },
   {
    "duration": 191,
    "start_time": "2022-10-18T13:38:58.767Z"
   },
   {
    "duration": 173,
    "start_time": "2022-10-18T13:38:58.960Z"
   },
   {
    "duration": 163,
    "start_time": "2022-10-18T13:38:59.137Z"
   },
   {
    "duration": 154,
    "start_time": "2022-10-18T13:38:59.301Z"
   },
   {
    "duration": 14,
    "start_time": "2022-10-18T13:38:59.456Z"
   },
   {
    "duration": 199,
    "start_time": "2022-10-18T13:38:59.471Z"
   },
   {
    "duration": 13,
    "start_time": "2022-10-18T13:38:59.672Z"
   },
   {
    "duration": 211,
    "start_time": "2022-10-18T13:38:59.687Z"
   },
   {
    "duration": 360,
    "start_time": "2022-10-18T13:38:59.900Z"
   },
   {
    "duration": 97,
    "start_time": "2022-10-18T13:39:00.261Z"
   },
   {
    "duration": 21,
    "start_time": "2022-10-18T13:39:00.360Z"
   },
   {
    "duration": 41,
    "start_time": "2022-10-18T13:39:00.383Z"
   },
   {
    "duration": 7,
    "start_time": "2022-10-18T13:39:00.425Z"
   },
   {
    "duration": 23,
    "start_time": "2022-10-18T13:39:00.435Z"
   },
   {
    "duration": 30,
    "start_time": "2022-10-18T13:39:00.460Z"
   },
   {
    "duration": 35,
    "start_time": "2022-10-18T13:39:00.491Z"
   },
   {
    "duration": 29,
    "start_time": "2022-10-18T13:39:00.531Z"
   },
   {
    "duration": 22,
    "start_time": "2022-10-18T13:39:00.561Z"
   },
   {
    "duration": 12,
    "start_time": "2022-10-18T13:39:00.584Z"
   },
   {
    "duration": 98,
    "start_time": "2022-10-18T14:23:14.820Z"
   },
   {
    "duration": 54,
    "start_time": "2022-11-21T11:49:01.900Z"
   },
   {
    "duration": 441,
    "start_time": "2022-11-21T11:49:08.184Z"
   },
   {
    "duration": 96,
    "start_time": "2022-11-21T11:49:08.627Z"
   },
   {
    "duration": 29,
    "start_time": "2022-11-21T11:49:08.725Z"
   },
   {
    "duration": 15,
    "start_time": "2022-11-21T11:49:08.756Z"
   },
   {
    "duration": 1075,
    "start_time": "2022-11-21T11:49:08.773Z"
   },
   {
    "duration": 13,
    "start_time": "2022-11-21T11:49:09.855Z"
   },
   {
    "duration": 14,
    "start_time": "2022-11-21T11:49:09.870Z"
   },
   {
    "duration": 14,
    "start_time": "2022-11-21T11:49:09.886Z"
   },
   {
    "duration": 5,
    "start_time": "2022-11-21T11:49:09.902Z"
   },
   {
    "duration": 11,
    "start_time": "2022-11-21T11:49:09.909Z"
   },
   {
    "duration": 86,
    "start_time": "2022-11-21T11:49:09.922Z"
   },
   {
    "duration": 4,
    "start_time": "2022-11-21T11:49:10.010Z"
   },
   {
    "duration": 10,
    "start_time": "2022-11-21T11:49:10.016Z"
   },
   {
    "duration": 606,
    "start_time": "2022-11-21T11:49:10.029Z"
   },
   {
    "duration": 32,
    "start_time": "2022-11-21T11:49:10.636Z"
   },
   {
    "duration": 213,
    "start_time": "2022-11-21T11:49:10.669Z"
   },
   {
    "duration": 18,
    "start_time": "2022-11-21T11:49:10.884Z"
   },
   {
    "duration": 314,
    "start_time": "2022-11-21T11:49:10.904Z"
   },
   {
    "duration": 91,
    "start_time": "2022-11-21T11:49:11.220Z"
   },
   {
    "duration": 427,
    "start_time": "2022-11-21T11:49:11.313Z"
   },
   {
    "duration": 349,
    "start_time": "2022-11-21T11:49:11.741Z"
   },
   {
    "duration": 180,
    "start_time": "2022-11-21T11:49:12.092Z"
   },
   {
    "duration": 173,
    "start_time": "2022-11-21T11:49:12.274Z"
   },
   {
    "duration": 360,
    "start_time": "2022-11-21T11:49:12.449Z"
   },
   {
    "duration": 362,
    "start_time": "2022-11-21T11:49:12.811Z"
   },
   {
    "duration": 133,
    "start_time": "2022-11-21T11:49:13.175Z"
   },
   {
    "duration": 126,
    "start_time": "2022-11-21T11:49:13.309Z"
   },
   {
    "duration": 138,
    "start_time": "2022-11-21T11:49:13.437Z"
   },
   {
    "duration": 240,
    "start_time": "2022-11-21T11:49:13.577Z"
   },
   {
    "duration": 117,
    "start_time": "2022-11-21T11:49:13.819Z"
   },
   {
    "duration": 185,
    "start_time": "2022-11-21T11:49:13.938Z"
   },
   {
    "duration": 176,
    "start_time": "2022-11-21T11:49:14.124Z"
   },
   {
    "duration": 190,
    "start_time": "2022-11-21T11:49:14.302Z"
   },
   {
    "duration": 209,
    "start_time": "2022-11-21T11:49:14.495Z"
   },
   {
    "duration": 23,
    "start_time": "2022-11-21T11:49:14.707Z"
   },
   {
    "duration": 260,
    "start_time": "2022-11-21T11:49:14.732Z"
   },
   {
    "duration": 16,
    "start_time": "2022-11-21T11:49:14.994Z"
   },
   {
    "duration": 249,
    "start_time": "2022-11-21T11:49:15.012Z"
   },
   {
    "duration": 424,
    "start_time": "2022-11-23T10:01:42.307Z"
   },
   {
    "duration": 227,
    "start_time": "2022-11-23T10:01:42.733Z"
   },
   {
    "duration": 31,
    "start_time": "2022-11-23T10:01:42.961Z"
   },
   {
    "duration": 22,
    "start_time": "2022-11-23T10:01:42.996Z"
   },
   {
    "duration": 1073,
    "start_time": "2022-11-23T10:01:43.020Z"
   },
   {
    "duration": 21,
    "start_time": "2022-11-23T10:01:44.096Z"
   },
   {
    "duration": 13,
    "start_time": "2022-11-23T10:01:44.119Z"
   },
   {
    "duration": 13,
    "start_time": "2022-11-23T10:01:44.134Z"
   },
   {
    "duration": 174,
    "start_time": "2022-11-23T10:01:44.150Z"
   },
   {
    "duration": 46,
    "start_time": "2022-11-23T10:01:44.326Z"
   },
   {
    "duration": 116,
    "start_time": "2022-11-23T10:01:44.374Z"
   },
   {
    "duration": 6,
    "start_time": "2022-11-23T10:01:44.493Z"
   },
   {
    "duration": 33,
    "start_time": "2022-11-23T10:01:44.501Z"
   },
   {
    "duration": 573,
    "start_time": "2022-11-23T10:01:44.536Z"
   },
   {
    "duration": 34,
    "start_time": "2022-11-23T10:01:45.111Z"
   },
   {
    "duration": 214,
    "start_time": "2022-11-23T10:01:45.146Z"
   },
   {
    "duration": 37,
    "start_time": "2022-11-23T10:01:45.361Z"
   },
   {
    "duration": 268,
    "start_time": "2022-11-23T10:01:45.400Z"
   },
   {
    "duration": 76,
    "start_time": "2022-11-23T10:01:45.670Z"
   },
   {
    "duration": 394,
    "start_time": "2022-11-23T10:01:45.748Z"
   },
   {
    "duration": 320,
    "start_time": "2022-11-23T10:01:46.143Z"
   },
   {
    "duration": 221,
    "start_time": "2022-11-23T10:01:46.466Z"
   },
   {
    "duration": 157,
    "start_time": "2022-11-23T10:01:46.694Z"
   },
   {
    "duration": 353,
    "start_time": "2022-11-23T10:01:46.853Z"
   },
   {
    "duration": 321,
    "start_time": "2022-11-23T10:01:47.208Z"
   },
   {
    "duration": 125,
    "start_time": "2022-11-23T10:01:47.531Z"
   },
   {
    "duration": 120,
    "start_time": "2022-11-23T10:01:47.658Z"
   },
   {
    "duration": 124,
    "start_time": "2022-11-23T10:01:47.781Z"
   },
   {
    "duration": 209,
    "start_time": "2022-11-23T10:01:47.907Z"
   },
   {
    "duration": 110,
    "start_time": "2022-11-23T10:01:48.118Z"
   },
   {
    "duration": 174,
    "start_time": "2022-11-23T10:01:48.229Z"
   },
   {
    "duration": 162,
    "start_time": "2022-11-23T10:01:48.405Z"
   },
   {
    "duration": 187,
    "start_time": "2022-11-23T10:01:48.568Z"
   },
   {
    "duration": 163,
    "start_time": "2022-11-23T10:01:48.757Z"
   },
   {
    "duration": 16,
    "start_time": "2022-11-23T10:01:48.922Z"
   },
   {
    "duration": 280,
    "start_time": "2022-11-23T10:01:48.940Z"
   },
   {
    "duration": 23,
    "start_time": "2022-11-23T10:01:49.222Z"
   },
   {
    "duration": 281,
    "start_time": "2022-11-23T10:01:49.248Z"
   },
   {
    "duration": 399,
    "start_time": "2022-11-23T10:01:49.531Z"
   },
   {
    "duration": 24,
    "start_time": "2022-11-23T10:01:49.932Z"
   },
   {
    "duration": 50,
    "start_time": "2022-11-23T10:01:49.958Z"
   },
   {
    "duration": 48,
    "start_time": "2022-11-23T10:01:50.010Z"
   },
   {
    "duration": 43,
    "start_time": "2022-11-23T10:01:50.059Z"
   },
   {
    "duration": 47,
    "start_time": "2022-11-23T10:01:50.104Z"
   },
   {
    "duration": 81,
    "start_time": "2022-11-23T10:01:50.152Z"
   },
   {
    "duration": 75,
    "start_time": "2022-11-23T10:01:50.234Z"
   },
   {
    "duration": 33,
    "start_time": "2022-11-23T10:01:50.310Z"
   },
   {
    "duration": 25,
    "start_time": "2022-11-23T10:01:50.344Z"
   },
   {
    "duration": 36,
    "start_time": "2022-11-23T10:01:50.371Z"
   },
   {
    "duration": 51,
    "start_time": "2023-01-21T12:48:43.776Z"
   },
   {
    "duration": 367,
    "start_time": "2023-01-21T12:48:49.736Z"
   },
   {
    "duration": 183,
    "start_time": "2023-01-21T12:48:50.105Z"
   },
   {
    "duration": 27,
    "start_time": "2023-01-21T12:48:50.290Z"
   },
   {
    "duration": 12,
    "start_time": "2023-01-21T12:48:50.319Z"
   },
   {
    "duration": 945,
    "start_time": "2023-01-21T12:48:50.332Z"
   },
   {
    "duration": 19,
    "start_time": "2023-01-21T12:48:51.278Z"
   },
   {
    "duration": 10,
    "start_time": "2023-01-21T12:48:51.299Z"
   },
   {
    "duration": 19,
    "start_time": "2023-01-21T12:48:51.310Z"
   },
   {
    "duration": 10,
    "start_time": "2023-01-21T12:48:51.331Z"
   },
   {
    "duration": 9,
    "start_time": "2023-01-21T12:48:51.343Z"
   },
   {
    "duration": 71,
    "start_time": "2023-01-21T12:48:51.353Z"
   },
   {
    "duration": 3,
    "start_time": "2023-01-21T12:48:51.426Z"
   },
   {
    "duration": 20,
    "start_time": "2023-01-21T12:48:51.430Z"
   },
   {
    "duration": 489,
    "start_time": "2023-01-21T12:48:51.451Z"
   },
   {
    "duration": 24,
    "start_time": "2023-01-21T12:48:51.941Z"
   },
   {
    "duration": 197,
    "start_time": "2023-01-21T12:48:51.967Z"
   },
   {
    "duration": 27,
    "start_time": "2023-01-21T12:48:52.166Z"
   },
   {
    "duration": 276,
    "start_time": "2023-01-21T12:48:52.195Z"
   },
   {
    "duration": 87,
    "start_time": "2023-01-21T12:48:52.473Z"
   },
   {
    "duration": 379,
    "start_time": "2023-01-21T12:48:52.562Z"
   },
   {
    "duration": 300,
    "start_time": "2023-01-21T12:48:52.943Z"
   },
   {
    "duration": 171,
    "start_time": "2023-01-21T12:48:53.245Z"
   },
   {
    "duration": 166,
    "start_time": "2023-01-21T12:48:53.418Z"
   },
   {
    "duration": 340,
    "start_time": "2023-01-21T12:48:53.592Z"
   },
   {
    "duration": 332,
    "start_time": "2023-01-21T12:48:53.934Z"
   },
   {
    "duration": 126,
    "start_time": "2023-01-21T12:48:54.267Z"
   },
   {
    "duration": 114,
    "start_time": "2023-01-21T12:48:54.394Z"
   },
   {
    "duration": 116,
    "start_time": "2023-01-21T12:48:54.512Z"
   },
   {
    "duration": 208,
    "start_time": "2023-01-21T12:48:54.629Z"
   },
   {
    "duration": 110,
    "start_time": "2023-01-21T12:48:54.839Z"
   },
   {
    "duration": 169,
    "start_time": "2023-01-21T12:48:54.950Z"
   },
   {
    "duration": 172,
    "start_time": "2023-01-21T12:48:55.121Z"
   },
   {
    "duration": 168,
    "start_time": "2023-01-21T12:48:55.296Z"
   },
   {
    "duration": 162,
    "start_time": "2023-01-21T12:48:55.466Z"
   },
   {
    "duration": 13,
    "start_time": "2023-01-21T12:48:55.630Z"
   },
   {
    "duration": 193,
    "start_time": "2023-01-21T12:48:55.645Z"
   },
   {
    "duration": 15,
    "start_time": "2023-01-21T12:48:55.840Z"
   },
   {
    "duration": 198,
    "start_time": "2023-01-21T12:48:55.857Z"
   },
   {
    "duration": 460,
    "start_time": "2023-01-21T12:48:56.057Z"
   },
   {
    "duration": 21,
    "start_time": "2023-01-21T12:48:56.519Z"
   },
   {
    "duration": 21,
    "start_time": "2023-01-21T12:48:56.542Z"
   },
   {
    "duration": 42,
    "start_time": "2023-01-21T12:48:56.565Z"
   },
   {
    "duration": 2,
    "start_time": "2023-01-21T12:48:56.608Z"
   },
   {
    "duration": 11,
    "start_time": "2023-01-21T12:48:56.612Z"
   },
   {
    "duration": 5,
    "start_time": "2023-01-21T12:48:56.624Z"
   },
   {
    "duration": 10,
    "start_time": "2023-01-21T12:48:56.630Z"
   },
   {
    "duration": 5,
    "start_time": "2023-01-21T12:48:56.642Z"
   },
   {
    "duration": 9,
    "start_time": "2023-01-21T12:48:56.649Z"
   },
   {
    "duration": 5,
    "start_time": "2023-01-21T12:48:56.660Z"
   },
   {
    "duration": 65,
    "start_time": "2023-03-18T12:20:54.033Z"
   }
  ],
  "kernelspec": {
   "display_name": "Python 3 (ipykernel)",
   "language": "python",
   "name": "python3"
  },
  "language_info": {
   "codemirror_mode": {
    "name": "ipython",
    "version": 3
   },
   "file_extension": ".py",
   "mimetype": "text/x-python",
   "name": "python",
   "nbconvert_exporter": "python",
   "pygments_lexer": "ipython3",
   "version": "3.9.5"
  },
  "toc": {
   "base_numbering": 1,
   "nav_menu": {},
   "number_sections": true,
   "sideBar": true,
   "skip_h1_title": true,
   "title_cell": "Table of Contents",
   "title_sidebar": "Contents",
   "toc_cell": false,
   "toc_position": {
    "height": "calc(100% - 180px)",
    "left": "10px",
    "top": "150px",
    "width": "165px"
   },
   "toc_section_display": true,
   "toc_window_display": true
  }
 },
 "nbformat": 4,
 "nbformat_minor": 2
}
