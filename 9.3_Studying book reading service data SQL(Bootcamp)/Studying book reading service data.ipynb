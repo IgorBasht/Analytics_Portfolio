{
 "cells": [
  {
   "cell_type": "markdown",
   "metadata": {},
   "source": [
    "<div style=\"border:solid Chocolate 2px; padding: 40px\">\n",
    "\n",
    "<b> Игорь, привет!👋</b>\n",
    "\n",
    "Меня зовут Алексей Гриб, и я буду ревьюером твоего проекта. \n",
    "\n",
    "Сразу хочу предложить в дальнейшем общаться на \"ты\" - надеюсь, так будет комфортнее:) Но если это неудобно, обязательно дай знать, и мы придумаем что-нибудь ещё!\n",
    "    \n",
    "Цель ревью - не искать ошибки в твоём проекте, а помочь тебе сделать твою работу ещё лучше, устранив недочёты и приблизив её к реальным задачам аналитика. Поэтому не расстраивайся, если что-то не получилось с первого раза - это нормально, и это поможет тебе вырасти!\n",
    "    \n",
    "Ты можешь найти мои комментарии, обозначенные <font color='green'>зеленым</font>, <font color='gold'>желтым</font> и <font color='red'>красным</font> цветами, например:\n",
    "\n",
    "<br/>\n",
    "\n",
    "<div class=\"alert alert-success\">\n",
    "<h2> Комментарий ревьюера <a class=\"tocSkip\"> </h2>\n",
    "\n",
    "<b>Все отлично!👍:</b> похвала, рекомендации «со звёздочкой», полезные лайфхаки, которые сделают и без того красивое решение ещё более элегантным.\n",
    "</div>\n",
    "\n",
    "<br/>\n",
    "\n",
    "<div class=\"alert alert-warning\">\n",
    "    <h2> Комментарий ревьюера <a class=\"tocSkip\"> </h2>\n",
    "    \n",
    "<b>Некоторые замечания и рекомендации⚠️:</b> некритичные ошибки или развивающие рекомендации на будущее. \n",
    "</div>\n",
    "\n",
    "\n",
    "<br/>\n",
    "<div class=\"alert alert-block alert-danger\">\n",
    "<h2> Комментарий ревьюера <a class=\"tocSkip\"></h2>\n",
    "\n",
    "    \n",
    "<b>На доработку❌:</b>\n",
    "Критичные ошибки, которые обязательно нужно исправить.\n",
    "</div>\n",
    "\n",
    "Я не смогу принять проект, если в нём будет хотя бы одна критичная ошибка или несколько некритичных ошибок - тогда проект нужно будет немного доработать. Но это нестрашно - я обязательно дам тебе подсказку или укажу верное направление.\n",
    "    \n",
    "Пожалуйста, не удаляй мои комментарии, они будут особенно полезны для нашей работы в случае повторной проверки проекта. \n",
    "    \n",
    "Ты также можешь задавать свои вопросы, реагировать на мои комментарии, делать пометки и пояснения - полная творческая свобода! Но маленькая просьба - пускай они будут отличаться от моих комментариев, это поможет избежать путаницы в нашем общении:)\n",
    "Например, вот так:\n",
    "    \n",
    "<div class=\"alert alert-info\">\n",
    "<h2> Комментарий студента <a class=\"tocSkip\"> </h2>\n",
    "\n",
    "*твой текст*\n",
    "</div>\n",
    "    \n",
    "Давай посмотрим на твой проект!"
   ]
  },
  {
   "cell_type": "markdown",
   "metadata": {},
   "source": [
    "# Иследование данных сервиса для чтения книг.\n",
    "\n",
    "Нужна проанализировать базу данных крупный сервис для чтения книг по подписке что бы сформулировать ценностное предложение для нового продукта.  \n",
    "  \n",
    "  - Первый этап - изучение общий информации.\n",
    "  - Второй этап - исследовательский анализ.\n",
    "  - Третий этап - выводы. \n",
    "  \n",
    "Среди данных у нас есть информация о книгах, издательствах, авторах, а также пользовательские обзоры книг.\n",
    "\n",
    "Таблица books содержит данные о книгах:\n",
    "\n",
    "- book_id — идентификатор книги;\n",
    "- author_id — идентификатор автора;\n",
    "- title — название книги;\n",
    "- num_pages — количество страниц;\n",
    "- publication_date — дата публикации книги;\n",
    "- publisher_id — идентификатор издателя.\n",
    "\n",
    "Таблица authors содержит данные об авторах:\n",
    "\n",
    "- author_id — идентификатор автора;\n",
    "- author — имя автора.\n",
    "\n",
    "Таблица publishers содержит данные об издательствах:\n",
    "\n",
    "- publisher_id — идентификатор издательства;\n",
    "- publisher — название издательства;\n",
    "\n",
    "Таблица ratings содержит данные о пользовательских оценках книг:\n",
    "\n",
    "- rating_id — идентификатор оценки;\n",
    "- book_id — идентификатор книги;\n",
    "- username — имя пользователя, оставившего оценку;\n",
    "- rating — оценка книги.\n",
    "\n",
    "Таблица reviews содержит данные о пользовательских обзорах:\n",
    "\n",
    "- review_id — идентификатор обзора;\n",
    "- book_id — идентификатор книги;\n",
    "- username — имя автора обзора;\n",
    "- text — текст обзора."
   ]
  },
  {
   "cell_type": "markdown",
   "metadata": {},
   "source": [
    "<div class=\"alert alert-success\">\n",
    "<h2> Комментарий ревьюера <a class=\"tocSkip\"> </h2>\n",
    "\n",
    "<b>Все отлично!👍:</b> Хорошее вступление!\n",
    "    \n",
    "В нём есть всё, что необходимо, чтобы понять суть проекта с первых строк отчёта!"
   ]
  },
  {
   "cell_type": "markdown",
   "metadata": {},
   "source": [
    "##   Изучение общий информации. "
   ]
  },
  {
   "cell_type": "code",
   "execution_count": 1,
   "metadata": {},
   "outputs": [],
   "source": [
    "import pandas as pd\n",
    "from sqlalchemy import create_engine "
   ]
  },
  {
   "cell_type": "code",
   "execution_count": 2,
   "metadata": {},
   "outputs": [],
   "source": [
    "# устанавливаем параметры\n",
    "db_config = {'user': 'praktikum_student', # имя пользователя\n",
    "'pwd': 'Sdf4$2;d-d30pp', # пароль\n",
    "'host': 'rc1b-wcoijxj3yxfsf3fs.mdb.yandexcloud.net',\n",
    "'port': 6432, # порт подключения\n",
    "'db': 'data-analyst-final-project-db'} # название базы данных\n",
    "connection_string = 'postgresql://{}:{}@{}:{}/{}'.format(db_config['user'],\n",
    " db_config['pwd'],\n",
    " db_config['host'],\n",
    " db_config['port'],\n",
    " db_config['db'])\n",
    "# сохраняем коннектор\n",
    "engine = create_engine(connection_string, connect_args={'sslmode':'require'}) "
   ]
  },
  {
   "cell_type": "markdown",
   "metadata": {},
   "source": [
    "<div class=\"alert alert-success\">\n",
    "<h2> Комментарий ревьюера <a class=\"tocSkip\"> </h2>\n",
    "\n",
    "<b>Все отлично!👍:</b> Библиотеки импортировали, коннектор сделали - отлично!\n",
    "    \n",
    "Спасибо, что перезапускаешь ядро проекта перед отправкой на ревью - это важный шаг, который поможет избежать простых и досадных ошибок при воспроизведении решнеия:)\n",
    "</div>"
   ]
  },
  {
   "cell_type": "code",
   "execution_count": 3,
   "metadata": {},
   "outputs": [],
   "source": [
    "#pd.io.sql.read_sql(query, con = engine) "
   ]
  },
  {
   "cell_type": "code",
   "execution_count": 4,
   "metadata": {},
   "outputs": [
    {
     "data": {
      "text/html": [
       "<div>\n",
       "<style scoped>\n",
       "    .dataframe tbody tr th:only-of-type {\n",
       "        vertical-align: middle;\n",
       "    }\n",
       "\n",
       "    .dataframe tbody tr th {\n",
       "        vertical-align: top;\n",
       "    }\n",
       "\n",
       "    .dataframe thead th {\n",
       "        text-align: right;\n",
       "    }\n",
       "</style>\n",
       "<table border=\"1\" class=\"dataframe\">\n",
       "  <thead>\n",
       "    <tr style=\"text-align: right;\">\n",
       "      <th></th>\n",
       "      <th>book_id</th>\n",
       "      <th>author_id</th>\n",
       "      <th>title</th>\n",
       "      <th>num_pages</th>\n",
       "      <th>publication_date</th>\n",
       "      <th>publisher_id</th>\n",
       "    </tr>\n",
       "  </thead>\n",
       "  <tbody>\n",
       "    <tr>\n",
       "      <th>0</th>\n",
       "      <td>1</td>\n",
       "      <td>546</td>\n",
       "      <td>'Salem's Lot</td>\n",
       "      <td>594</td>\n",
       "      <td>2005-11-01</td>\n",
       "      <td>93</td>\n",
       "    </tr>\n",
       "    <tr>\n",
       "      <th>1</th>\n",
       "      <td>2</td>\n",
       "      <td>465</td>\n",
       "      <td>1 000 Places to See Before You Die</td>\n",
       "      <td>992</td>\n",
       "      <td>2003-05-22</td>\n",
       "      <td>336</td>\n",
       "    </tr>\n",
       "    <tr>\n",
       "      <th>2</th>\n",
       "      <td>3</td>\n",
       "      <td>407</td>\n",
       "      <td>13 Little Blue Envelopes (Little Blue Envelope...</td>\n",
       "      <td>322</td>\n",
       "      <td>2010-12-21</td>\n",
       "      <td>135</td>\n",
       "    </tr>\n",
       "    <tr>\n",
       "      <th>3</th>\n",
       "      <td>4</td>\n",
       "      <td>82</td>\n",
       "      <td>1491: New Revelations of the Americas Before C...</td>\n",
       "      <td>541</td>\n",
       "      <td>2006-10-10</td>\n",
       "      <td>309</td>\n",
       "    </tr>\n",
       "    <tr>\n",
       "      <th>4</th>\n",
       "      <td>5</td>\n",
       "      <td>125</td>\n",
       "      <td>1776</td>\n",
       "      <td>386</td>\n",
       "      <td>2006-07-04</td>\n",
       "      <td>268</td>\n",
       "    </tr>\n",
       "  </tbody>\n",
       "</table>\n",
       "</div>"
      ],
      "text/plain": [
       "   book_id  author_id                                              title  \\\n",
       "0        1        546                                       'Salem's Lot   \n",
       "1        2        465                 1 000 Places to See Before You Die   \n",
       "2        3        407  13 Little Blue Envelopes (Little Blue Envelope...   \n",
       "3        4         82  1491: New Revelations of the Americas Before C...   \n",
       "4        5        125                                               1776   \n",
       "\n",
       "   num_pages publication_date  publisher_id  \n",
       "0        594       2005-11-01            93  \n",
       "1        992       2003-05-22           336  \n",
       "2        322       2010-12-21           135  \n",
       "3        541       2006-10-10           309  \n",
       "4        386       2006-07-04           268  "
      ]
     },
     "execution_count": 4,
     "metadata": {},
     "output_type": "execute_result"
    }
   ],
   "source": [
    "query = '''\n",
    "           SELECT * FROM books\n",
    "       '''\n",
    "books = pd.io.sql.read_sql(query, con = engine) \n",
    "books.head()"
   ]
  },
  {
   "cell_type": "code",
   "execution_count": 5,
   "metadata": {},
   "outputs": [
    {
     "data": {
      "text/html": [
       "<div>\n",
       "<style scoped>\n",
       "    .dataframe tbody tr th:only-of-type {\n",
       "        vertical-align: middle;\n",
       "    }\n",
       "\n",
       "    .dataframe tbody tr th {\n",
       "        vertical-align: top;\n",
       "    }\n",
       "\n",
       "    .dataframe thead th {\n",
       "        text-align: right;\n",
       "    }\n",
       "</style>\n",
       "<table border=\"1\" class=\"dataframe\">\n",
       "  <thead>\n",
       "    <tr style=\"text-align: right;\">\n",
       "      <th></th>\n",
       "      <th>author_id</th>\n",
       "      <th>author</th>\n",
       "    </tr>\n",
       "  </thead>\n",
       "  <tbody>\n",
       "    <tr>\n",
       "      <th>0</th>\n",
       "      <td>1</td>\n",
       "      <td>A.S. Byatt</td>\n",
       "    </tr>\n",
       "    <tr>\n",
       "      <th>1</th>\n",
       "      <td>2</td>\n",
       "      <td>Aesop/Laura Harris/Laura Gibbs</td>\n",
       "    </tr>\n",
       "    <tr>\n",
       "      <th>2</th>\n",
       "      <td>3</td>\n",
       "      <td>Agatha Christie</td>\n",
       "    </tr>\n",
       "    <tr>\n",
       "      <th>3</th>\n",
       "      <td>4</td>\n",
       "      <td>Alan Brennert</td>\n",
       "    </tr>\n",
       "    <tr>\n",
       "      <th>4</th>\n",
       "      <td>5</td>\n",
       "      <td>Alan Moore/David   Lloyd</td>\n",
       "    </tr>\n",
       "  </tbody>\n",
       "</table>\n",
       "</div>"
      ],
      "text/plain": [
       "   author_id                          author\n",
       "0          1                      A.S. Byatt\n",
       "1          2  Aesop/Laura Harris/Laura Gibbs\n",
       "2          3                 Agatha Christie\n",
       "3          4                   Alan Brennert\n",
       "4          5        Alan Moore/David   Lloyd"
      ]
     },
     "execution_count": 5,
     "metadata": {},
     "output_type": "execute_result"
    }
   ],
   "source": [
    "query = '''\n",
    "           SELECT * FROM authors\n",
    "       '''\n",
    "authors = pd.io.sql.read_sql(query, con = engine) \n",
    "authors.head()"
   ]
  },
  {
   "cell_type": "code",
   "execution_count": 6,
   "metadata": {},
   "outputs": [
    {
     "data": {
      "text/html": [
       "<div>\n",
       "<style scoped>\n",
       "    .dataframe tbody tr th:only-of-type {\n",
       "        vertical-align: middle;\n",
       "    }\n",
       "\n",
       "    .dataframe tbody tr th {\n",
       "        vertical-align: top;\n",
       "    }\n",
       "\n",
       "    .dataframe thead th {\n",
       "        text-align: right;\n",
       "    }\n",
       "</style>\n",
       "<table border=\"1\" class=\"dataframe\">\n",
       "  <thead>\n",
       "    <tr style=\"text-align: right;\">\n",
       "      <th></th>\n",
       "      <th>publisher_id</th>\n",
       "      <th>publisher</th>\n",
       "    </tr>\n",
       "  </thead>\n",
       "  <tbody>\n",
       "    <tr>\n",
       "      <th>0</th>\n",
       "      <td>1</td>\n",
       "      <td>Ace</td>\n",
       "    </tr>\n",
       "    <tr>\n",
       "      <th>1</th>\n",
       "      <td>2</td>\n",
       "      <td>Ace Book</td>\n",
       "    </tr>\n",
       "    <tr>\n",
       "      <th>2</th>\n",
       "      <td>3</td>\n",
       "      <td>Ace Books</td>\n",
       "    </tr>\n",
       "    <tr>\n",
       "      <th>3</th>\n",
       "      <td>4</td>\n",
       "      <td>Ace Hardcover</td>\n",
       "    </tr>\n",
       "    <tr>\n",
       "      <th>4</th>\n",
       "      <td>5</td>\n",
       "      <td>Addison Wesley Publishing Company</td>\n",
       "    </tr>\n",
       "  </tbody>\n",
       "</table>\n",
       "</div>"
      ],
      "text/plain": [
       "   publisher_id                          publisher\n",
       "0             1                                Ace\n",
       "1             2                           Ace Book\n",
       "2             3                          Ace Books\n",
       "3             4                      Ace Hardcover\n",
       "4             5  Addison Wesley Publishing Company"
      ]
     },
     "execution_count": 6,
     "metadata": {},
     "output_type": "execute_result"
    }
   ],
   "source": [
    "query = '''\n",
    "           SELECT * FROM publishers\n",
    "       '''\n",
    "publishers = pd.io.sql.read_sql(query, con = engine)\n",
    "publishers.head()"
   ]
  },
  {
   "cell_type": "code",
   "execution_count": 7,
   "metadata": {},
   "outputs": [
    {
     "data": {
      "text/html": [
       "<div>\n",
       "<style scoped>\n",
       "    .dataframe tbody tr th:only-of-type {\n",
       "        vertical-align: middle;\n",
       "    }\n",
       "\n",
       "    .dataframe tbody tr th {\n",
       "        vertical-align: top;\n",
       "    }\n",
       "\n",
       "    .dataframe thead th {\n",
       "        text-align: right;\n",
       "    }\n",
       "</style>\n",
       "<table border=\"1\" class=\"dataframe\">\n",
       "  <thead>\n",
       "    <tr style=\"text-align: right;\">\n",
       "      <th></th>\n",
       "      <th>rating_id</th>\n",
       "      <th>book_id</th>\n",
       "      <th>username</th>\n",
       "      <th>rating</th>\n",
       "    </tr>\n",
       "  </thead>\n",
       "  <tbody>\n",
       "    <tr>\n",
       "      <th>0</th>\n",
       "      <td>1</td>\n",
       "      <td>1</td>\n",
       "      <td>ryanfranco</td>\n",
       "      <td>4</td>\n",
       "    </tr>\n",
       "    <tr>\n",
       "      <th>1</th>\n",
       "      <td>2</td>\n",
       "      <td>1</td>\n",
       "      <td>grantpatricia</td>\n",
       "      <td>2</td>\n",
       "    </tr>\n",
       "    <tr>\n",
       "      <th>2</th>\n",
       "      <td>3</td>\n",
       "      <td>1</td>\n",
       "      <td>brandtandrea</td>\n",
       "      <td>5</td>\n",
       "    </tr>\n",
       "    <tr>\n",
       "      <th>3</th>\n",
       "      <td>4</td>\n",
       "      <td>2</td>\n",
       "      <td>lorichen</td>\n",
       "      <td>3</td>\n",
       "    </tr>\n",
       "    <tr>\n",
       "      <th>4</th>\n",
       "      <td>5</td>\n",
       "      <td>2</td>\n",
       "      <td>mariokeller</td>\n",
       "      <td>2</td>\n",
       "    </tr>\n",
       "  </tbody>\n",
       "</table>\n",
       "</div>"
      ],
      "text/plain": [
       "   rating_id  book_id       username  rating\n",
       "0          1        1     ryanfranco       4\n",
       "1          2        1  grantpatricia       2\n",
       "2          3        1   brandtandrea       5\n",
       "3          4        2       lorichen       3\n",
       "4          5        2    mariokeller       2"
      ]
     },
     "execution_count": 7,
     "metadata": {},
     "output_type": "execute_result"
    }
   ],
   "source": [
    "query = '''\n",
    "           SELECT * FROM ratings\n",
    "       '''\n",
    "ratings = pd.io.sql.read_sql(query, con = engine)  \n",
    "ratings.head()"
   ]
  },
  {
   "cell_type": "code",
   "execution_count": 8,
   "metadata": {},
   "outputs": [
    {
     "data": {
      "text/html": [
       "<div>\n",
       "<style scoped>\n",
       "    .dataframe tbody tr th:only-of-type {\n",
       "        vertical-align: middle;\n",
       "    }\n",
       "\n",
       "    .dataframe tbody tr th {\n",
       "        vertical-align: top;\n",
       "    }\n",
       "\n",
       "    .dataframe thead th {\n",
       "        text-align: right;\n",
       "    }\n",
       "</style>\n",
       "<table border=\"1\" class=\"dataframe\">\n",
       "  <thead>\n",
       "    <tr style=\"text-align: right;\">\n",
       "      <th></th>\n",
       "      <th>review_id</th>\n",
       "      <th>book_id</th>\n",
       "      <th>username</th>\n",
       "      <th>text</th>\n",
       "    </tr>\n",
       "  </thead>\n",
       "  <tbody>\n",
       "    <tr>\n",
       "      <th>0</th>\n",
       "      <td>1</td>\n",
       "      <td>1</td>\n",
       "      <td>brandtandrea</td>\n",
       "      <td>Mention society tell send professor analysis. ...</td>\n",
       "    </tr>\n",
       "    <tr>\n",
       "      <th>1</th>\n",
       "      <td>2</td>\n",
       "      <td>1</td>\n",
       "      <td>ryanfranco</td>\n",
       "      <td>Foot glass pretty audience hit themselves. Amo...</td>\n",
       "    </tr>\n",
       "    <tr>\n",
       "      <th>2</th>\n",
       "      <td>3</td>\n",
       "      <td>2</td>\n",
       "      <td>lorichen</td>\n",
       "      <td>Listen treat keep worry. Miss husband tax but ...</td>\n",
       "    </tr>\n",
       "    <tr>\n",
       "      <th>3</th>\n",
       "      <td>4</td>\n",
       "      <td>3</td>\n",
       "      <td>johnsonamanda</td>\n",
       "      <td>Finally month interesting blue could nature cu...</td>\n",
       "    </tr>\n",
       "    <tr>\n",
       "      <th>4</th>\n",
       "      <td>5</td>\n",
       "      <td>3</td>\n",
       "      <td>scotttamara</td>\n",
       "      <td>Nation purpose heavy give wait song will. List...</td>\n",
       "    </tr>\n",
       "  </tbody>\n",
       "</table>\n",
       "</div>"
      ],
      "text/plain": [
       "   review_id  book_id       username  \\\n",
       "0          1        1   brandtandrea   \n",
       "1          2        1     ryanfranco   \n",
       "2          3        2       lorichen   \n",
       "3          4        3  johnsonamanda   \n",
       "4          5        3    scotttamara   \n",
       "\n",
       "                                                text  \n",
       "0  Mention society tell send professor analysis. ...  \n",
       "1  Foot glass pretty audience hit themselves. Amo...  \n",
       "2  Listen treat keep worry. Miss husband tax but ...  \n",
       "3  Finally month interesting blue could nature cu...  \n",
       "4  Nation purpose heavy give wait song will. List...  "
      ]
     },
     "execution_count": 8,
     "metadata": {},
     "output_type": "execute_result"
    }
   ],
   "source": [
    "query = '''\n",
    "           SELECT * FROM reviews\n",
    "       '''\n",
    "reviews = pd.io.sql.read_sql(query, con = engine)  \n",
    "reviews.head()"
   ]
  },
  {
   "cell_type": "markdown",
   "metadata": {},
   "source": [
    "<div class=\"alert alert-success\">\n",
    "<h2> Комментарий ревьюера <a class=\"tocSkip\"> </h2>\n",
    "\n",
    "<b>Все отлично!👍:</b> Данные осмотрели - отлично!"
   ]
  },
  {
   "cell_type": "markdown",
   "metadata": {},
   "source": [
    "<div class=\"alert alert-warning\">\n",
    "    <h2> Комментарий ревьюера <a class=\"tocSkip\"> </h2>\n",
    "    \n",
    "<b>Некоторые замечания и рекомендации⚠️:</b> \n",
    "Есть дублирующийся код - ты выполняешь один и тот же запрос, меняя названия таблиц. Давай попробуем организовать этот процесс через цикл? Подставлять название таблицы в строку-запрос можно с помощью `f-строки` или метода `format()`. Саму строку-запрос можно создавать внутри цикла на каждой итерации.\n",
    "\n",
    "</div>"
   ]
  },
  {
   "cell_type": "markdown",
   "metadata": {},
   "source": [
    "## Исследовательский анализ "
   ]
  },
  {
   "cell_type": "markdown",
   "metadata": {},
   "source": [
    "- Посчитаем, сколько книг вышло после 1 января 2000 года."
   ]
  },
  {
   "cell_type": "code",
   "execution_count": 9,
   "metadata": {
    "scrolled": false
   },
   "outputs": [
    {
     "data": {
      "text/html": [
       "<div>\n",
       "<style scoped>\n",
       "    .dataframe tbody tr th:only-of-type {\n",
       "        vertical-align: middle;\n",
       "    }\n",
       "\n",
       "    .dataframe tbody tr th {\n",
       "        vertical-align: top;\n",
       "    }\n",
       "\n",
       "    .dataframe thead th {\n",
       "        text-align: right;\n",
       "    }\n",
       "</style>\n",
       "<table border=\"1\" class=\"dataframe\">\n",
       "  <thead>\n",
       "    <tr style=\"text-align: right;\">\n",
       "      <th></th>\n",
       "      <th>count</th>\n",
       "    </tr>\n",
       "  </thead>\n",
       "  <tbody>\n",
       "    <tr>\n",
       "      <th>0</th>\n",
       "      <td>821</td>\n",
       "    </tr>\n",
       "  </tbody>\n",
       "</table>\n",
       "</div>"
      ],
      "text/plain": [
       "   count\n",
       "0    821"
      ]
     },
     "execution_count": 9,
     "metadata": {},
     "output_type": "execute_result"
    }
   ],
   "source": [
    "query = '''\n",
    "           SELECT COUNT(book_id) \n",
    "           FROM books\n",
    "           WHERE EXTRACT(YEAR FROM CAST(publication_date AS date)) >= 2000\n",
    "\n",
    "       '''\n",
    "data = pd.io.sql.read_sql(query, con = engine)\n",
    "data"
   ]
  },
  {
   "cell_type": "markdown",
   "metadata": {},
   "source": [
    "<div class=\"alert alert-success\">\n",
    "<h2> Комментарий ревьюера <a class=\"tocSkip\"> </h2>\n",
    "\n",
    "<b>Все отлично!👍:</b> Правильно!\n",
    "    \n",
    "Отмечу, что условие фильтрации `publication_date >= '2000-01-01' ` также было бы правильным, хоть и привело бы к другому результату - в реальных проектах о том, включается ли дата в диапазон или нет, всегда стоит уточнять заранее:)\n",
    "\n",
    "</div>"
   ]
  },
  {
   "cell_type": "markdown",
   "metadata": {},
   "source": [
    "- Для каждой книги посчитаем количество обзоров и среднюю оценку."
   ]
  },
  {
   "cell_type": "code",
   "execution_count": 10,
   "metadata": {
    "scrolled": true
   },
   "outputs": [
    {
     "data": {
      "text/html": [
       "<div>\n",
       "<style scoped>\n",
       "    .dataframe tbody tr th:only-of-type {\n",
       "        vertical-align: middle;\n",
       "    }\n",
       "\n",
       "    .dataframe tbody tr th {\n",
       "        vertical-align: top;\n",
       "    }\n",
       "\n",
       "    .dataframe thead th {\n",
       "        text-align: right;\n",
       "    }\n",
       "</style>\n",
       "<table border=\"1\" class=\"dataframe\">\n",
       "  <thead>\n",
       "    <tr style=\"text-align: right;\">\n",
       "      <th></th>\n",
       "      <th>book_id</th>\n",
       "      <th>title</th>\n",
       "      <th>review_count</th>\n",
       "      <th>rating_avg</th>\n",
       "    </tr>\n",
       "  </thead>\n",
       "  <tbody>\n",
       "    <tr>\n",
       "      <th>0</th>\n",
       "      <td>948</td>\n",
       "      <td>Twilight (Twilight  #1)</td>\n",
       "      <td>7</td>\n",
       "      <td>3.662500</td>\n",
       "    </tr>\n",
       "    <tr>\n",
       "      <th>1</th>\n",
       "      <td>750</td>\n",
       "      <td>The Hobbit  or There and Back Again</td>\n",
       "      <td>6</td>\n",
       "      <td>4.125000</td>\n",
       "    </tr>\n",
       "    <tr>\n",
       "      <th>2</th>\n",
       "      <td>673</td>\n",
       "      <td>The Catcher in the Rye</td>\n",
       "      <td>6</td>\n",
       "      <td>3.825581</td>\n",
       "    </tr>\n",
       "    <tr>\n",
       "      <th>3</th>\n",
       "      <td>302</td>\n",
       "      <td>Harry Potter and the Prisoner of Azkaban (Harr...</td>\n",
       "      <td>6</td>\n",
       "      <td>4.414634</td>\n",
       "    </tr>\n",
       "    <tr>\n",
       "      <th>4</th>\n",
       "      <td>299</td>\n",
       "      <td>Harry Potter and the Chamber of Secrets (Harry...</td>\n",
       "      <td>6</td>\n",
       "      <td>4.287500</td>\n",
       "    </tr>\n",
       "    <tr>\n",
       "      <th>5</th>\n",
       "      <td>75</td>\n",
       "      <td>Angels &amp; Demons (Robert Langdon  #1)</td>\n",
       "      <td>5</td>\n",
       "      <td>3.678571</td>\n",
       "    </tr>\n",
       "    <tr>\n",
       "      <th>6</th>\n",
       "      <td>301</td>\n",
       "      <td>Harry Potter and the Order of the Phoenix (Har...</td>\n",
       "      <td>5</td>\n",
       "      <td>4.186667</td>\n",
       "    </tr>\n",
       "    <tr>\n",
       "      <th>7</th>\n",
       "      <td>779</td>\n",
       "      <td>The Lightning Thief (Percy Jackson and the Oly...</td>\n",
       "      <td>6</td>\n",
       "      <td>4.080645</td>\n",
       "    </tr>\n",
       "    <tr>\n",
       "      <th>8</th>\n",
       "      <td>722</td>\n",
       "      <td>The Fellowship of the Ring (The Lord of the Ri...</td>\n",
       "      <td>5</td>\n",
       "      <td>4.391892</td>\n",
       "    </tr>\n",
       "    <tr>\n",
       "      <th>9</th>\n",
       "      <td>79</td>\n",
       "      <td>Animal Farm</td>\n",
       "      <td>5</td>\n",
       "      <td>3.729730</td>\n",
       "    </tr>\n",
       "  </tbody>\n",
       "</table>\n",
       "</div>"
      ],
      "text/plain": [
       "   book_id                                              title  review_count  \\\n",
       "0      948                            Twilight (Twilight  #1)             7   \n",
       "1      750                The Hobbit  or There and Back Again             6   \n",
       "2      673                             The Catcher in the Rye             6   \n",
       "3      302  Harry Potter and the Prisoner of Azkaban (Harr...             6   \n",
       "4      299  Harry Potter and the Chamber of Secrets (Harry...             6   \n",
       "5       75               Angels & Demons (Robert Langdon  #1)             5   \n",
       "6      301  Harry Potter and the Order of the Phoenix (Har...             5   \n",
       "7      779  The Lightning Thief (Percy Jackson and the Oly...             6   \n",
       "8      722  The Fellowship of the Ring (The Lord of the Ri...             5   \n",
       "9       79                                        Animal Farm             5   \n",
       "\n",
       "   rating_avg  \n",
       "0    3.662500  \n",
       "1    4.125000  \n",
       "2    3.825581  \n",
       "3    4.414634  \n",
       "4    4.287500  \n",
       "5    3.678571  \n",
       "6    4.186667  \n",
       "7    4.080645  \n",
       "8    4.391892  \n",
       "9    3.729730  "
      ]
     },
     "execution_count": 10,
     "metadata": {},
     "output_type": "execute_result"
    }
   ],
   "source": [
    "query = '''\n",
    "           SELECT r.book_id,\n",
    "                  title,\n",
    "                  COUNT(DISTINCT review_id) AS review_count, \n",
    "                  AVG(rating) AS rating_avg\n",
    "           FROM ratings AS r\n",
    "           LEFT JOIN reviews AS o ON o.book_id=r.book_id\n",
    "           LEFT JOIN books AS b ON r.book_id=b.book_id\n",
    "           GROUP BY r.book_id, title\n",
    "           ORDER BY COUNT(review_id) DESC\n",
    "       '''\n",
    "data_1 = pd.io.sql.read_sql(query, con = engine)\n",
    "data_1.head(10)"
   ]
  },
  {
   "cell_type": "markdown",
   "metadata": {},
   "source": [
    "<div class=\"alert alert-block alert-danger\">\n",
    "<h2> Комментарий ревьюера <a class=\"tocSkip\"></h2>\n",
    "\n",
    "    \n",
    "<b>На доработку❌:</b>\n",
    "Не совсем верно посчитано количество отзывов - рекомендую взять книгу из первой позиции твоего ответа и сверить с исходными данными в таблице `reviews` - будет ли сходиться число отзывов?\n",
    "</div>"
   ]
  },
  {
   "cell_type": "markdown",
   "metadata": {},
   "source": [
    "<div class=\"alert alert-success\">\n",
    "<h2> Комментарий ревьюера v.2 <a class=\"tocSkip\"> </h2>\n",
    "\n",
    "<b>Все отлично!👍:</b> Учтено."
   ]
  },
  {
   "cell_type": "markdown",
   "metadata": {},
   "source": [
    "- Определим издательство, которое выпустило наибольшее число книг толще 50 страниц."
   ]
  },
  {
   "cell_type": "code",
   "execution_count": 11,
   "metadata": {
    "scrolled": false
   },
   "outputs": [
    {
     "data": {
      "text/html": [
       "<div>\n",
       "<style scoped>\n",
       "    .dataframe tbody tr th:only-of-type {\n",
       "        vertical-align: middle;\n",
       "    }\n",
       "\n",
       "    .dataframe tbody tr th {\n",
       "        vertical-align: top;\n",
       "    }\n",
       "\n",
       "    .dataframe thead th {\n",
       "        text-align: right;\n",
       "    }\n",
       "</style>\n",
       "<table border=\"1\" class=\"dataframe\">\n",
       "  <thead>\n",
       "    <tr style=\"text-align: right;\">\n",
       "      <th></th>\n",
       "      <th>publisher</th>\n",
       "      <th>count</th>\n",
       "    </tr>\n",
       "  </thead>\n",
       "  <tbody>\n",
       "    <tr>\n",
       "      <th>0</th>\n",
       "      <td>Penguin Books</td>\n",
       "      <td>42</td>\n",
       "    </tr>\n",
       "  </tbody>\n",
       "</table>\n",
       "</div>"
      ],
      "text/plain": [
       "       publisher  count\n",
       "0  Penguin Books     42"
      ]
     },
     "execution_count": 11,
     "metadata": {},
     "output_type": "execute_result"
    }
   ],
   "source": [
    "query = '''\n",
    "           SELECT p.publisher,\n",
    "                  COUNT(DISTINCT b.book_id)\n",
    "           FROM books AS b\n",
    "           LEFT JOIN publishers AS p ON b.publisher_id=p.publisher_id\n",
    "           LEFT JOIN ratings AS r ON b.book_id=r.book_id\n",
    "           WHERE num_pages > 50\n",
    "           GROUP BY p.publisher\n",
    "           ORDER BY COUNT(b.book_id) DESC\n",
    "       '''\n",
    "data_2 = pd.io.sql.read_sql(query, con = engine)\n",
    "data_2.head(1)"
   ]
  },
  {
   "cell_type": "markdown",
   "metadata": {},
   "source": [
    "<div class=\"alert alert-success\">\n",
    "<h2> Комментарий ревьюера <a class=\"tocSkip\"> </h2>\n",
    "\n",
    "<b>Все отлично!👍:</b> Издательство опредили верно!"
   ]
  },
  {
   "cell_type": "markdown",
   "metadata": {},
   "source": [
    "<div class=\"alert alert-warning\">\n",
    "    <h2> Комментарий ревьюера <a class=\"tocSkip\"> </h2>\n",
    "    \n",
    "<b>Некоторые замечания и рекомендации⚠️:</b> \n",
    "Было бы здорово также посчитать количество книг издательства.\n",
    "        </div>"
   ]
  },
  {
   "cell_type": "markdown",
   "metadata": {},
   "source": [
    "<div class=\"alert alert-success\">\n",
    "<h2> Комментарий ревьюера v.2 <a class=\"tocSkip\"> </h2>\n",
    "\n",
    "<b>Все отлично!👍:</b> Учтено."
   ]
  },
  {
   "cell_type": "markdown",
   "metadata": {},
   "source": [
    "- Определим автора с самой высокой средней оценкой книг.\n",
    "\n",
    "\n",
    "Определите автора с самой высокой средней оценкой книг — учитывайте только книги с 50 и более оценками;"
   ]
  },
  {
   "cell_type": "code",
   "execution_count": 12,
   "metadata": {
    "scrolled": false
   },
   "outputs": [
    {
     "data": {
      "text/html": [
       "<div>\n",
       "<style scoped>\n",
       "    .dataframe tbody tr th:only-of-type {\n",
       "        vertical-align: middle;\n",
       "    }\n",
       "\n",
       "    .dataframe tbody tr th {\n",
       "        vertical-align: top;\n",
       "    }\n",
       "\n",
       "    .dataframe thead th {\n",
       "        text-align: right;\n",
       "    }\n",
       "</style>\n",
       "<table border=\"1\" class=\"dataframe\">\n",
       "  <thead>\n",
       "    <tr style=\"text-align: right;\">\n",
       "      <th></th>\n",
       "      <th>author</th>\n",
       "      <th>avg</th>\n",
       "    </tr>\n",
       "  </thead>\n",
       "  <tbody>\n",
       "    <tr>\n",
       "      <th>0</th>\n",
       "      <td>J.K. Rowling/Mary GrandPré</td>\n",
       "      <td>4.287097</td>\n",
       "    </tr>\n",
       "  </tbody>\n",
       "</table>\n",
       "</div>"
      ],
      "text/plain": [
       "                       author       avg\n",
       "0  J.K. Rowling/Mary GrandPré  4.287097"
      ]
     },
     "execution_count": 12,
     "metadata": {},
     "output_type": "execute_result"
    }
   ],
   "source": [
    "query = '''\n",
    "           WITH \n",
    "           avg_r AS \n",
    "           (SELECT a.author_id,\n",
    "                   b.book_id,\n",
    "                   COUNT(DISTINCT rating_id)\n",
    "           FROM ratings AS r\n",
    "           LEFT JOIN books AS b ON r.book_id=b.book_id\n",
    "           LEFT JOIN authors AS a ON b.author_id=a.author_id\n",
    "           GROUP BY a.author_id, b.book_id\n",
    "           HAVING COUNT(rating_id) >= 50\n",
    "           ORDER BY COUNT(rating_id) DESC)\n",
    "\n",
    "           SELECT a.author, \n",
    "                  AVG(rating)\n",
    "           FROM avg_r AS r\n",
    "           LEFT JOIN authors AS a ON r.author_id=a.author_id\n",
    "           LEFT JOIN books AS b ON r.book_id=b.book_id\n",
    "           LEFT JOIN ratings AS ra ON b.book_id=ra.book_id\n",
    "           GROUP BY a.author\n",
    "           ORDER BY AVG(rating) DESC\n",
    "          \n",
    "       '''\n",
    "data_3 = pd.io.sql.read_sql(query, con = engine)\n",
    "data_3.head(1)"
   ]
  },
  {
   "cell_type": "markdown",
   "metadata": {},
   "source": [
    "<div class=\"alert alert-block alert-danger\">\n",
    "<h2> Комментарий ревьюера <a class=\"tocSkip\"></h2>\n",
    "\n",
    "    \n",
    "<b>На доработку❌:</b>\n",
    "Сам автор найден верно, но в этом задании определяющим является значение среднего рейтинга - именно в его расчётах появляются ошибки. Его стоит также вывести в запросе.\n",
    "    \n",
    "По условию задания нужно посчитать средний рейтинг для автора, у чьих книг от 50 оценок. Часто в своём запросе студенты сначала считают рейтинг для всех книг, а только потом через `HAVING` делают сортировку. В результате в агрегацию попадают лишние книги, и значение рейтинга смещается. \n",
    "    \n",
    "Правильнее было бы сначала узнать, для каких книг мы можем считать рейтинг, посчитав для этого количество оценок для книги и отфильтровав результаты через `HAVING`. Далее уже по этим книгам считать средний рейтинг автора.\n",
    "    \n",
    "Альтернативный подход - посчитать средний рейтинг для каждой книги, отфильтровать книги с нужным количеством отзывов и уже из средних рейтингов оставшихся книг считать средний рейтинг автора как среднее из средних.\n",
    "    \n",
    "Попробуй, пожалуйста, отредактировать свой запрос с учётом этих рекомендаций.\n",
    "</div>"
   ]
  },
  {
   "cell_type": "markdown",
   "metadata": {},
   "source": [
    "<div class=\"alert alert-success\">\n",
    "<h2> Комментарий ревьюера v.2 <a class=\"tocSkip\"> </h2>\n",
    "\n",
    "<b>Все отлично!👍:</b> Учтено."
   ]
  },
  {
   "cell_type": "markdown",
   "metadata": {},
   "source": [
    "- Посчитаем среднее количество обзоров от пользователей, которые поставили больше 50 оценок."
   ]
  },
  {
   "cell_type": "code",
   "execution_count": 13,
   "metadata": {
    "scrolled": false
   },
   "outputs": [
    {
     "data": {
      "text/html": [
       "<div>\n",
       "<style scoped>\n",
       "    .dataframe tbody tr th:only-of-type {\n",
       "        vertical-align: middle;\n",
       "    }\n",
       "\n",
       "    .dataframe tbody tr th {\n",
       "        vertical-align: top;\n",
       "    }\n",
       "\n",
       "    .dataframe thead th {\n",
       "        text-align: right;\n",
       "    }\n",
       "</style>\n",
       "<table border=\"1\" class=\"dataframe\">\n",
       "  <thead>\n",
       "    <tr style=\"text-align: right;\">\n",
       "      <th></th>\n",
       "      <th>round</th>\n",
       "    </tr>\n",
       "  </thead>\n",
       "  <tbody>\n",
       "    <tr>\n",
       "      <th>0</th>\n",
       "      <td>24.0</td>\n",
       "    </tr>\n",
       "  </tbody>\n",
       "</table>\n",
       "</div>"
      ],
      "text/plain": [
       "   round\n",
       "0   24.0"
      ]
     },
     "execution_count": 13,
     "metadata": {},
     "output_type": "execute_result"
    }
   ],
   "source": [
    "query = '''\n",
    "           WITH \n",
    "           avg_r AS \n",
    "           (SELECT r.username, \n",
    "                  COUNT(rating)\n",
    "           FROM ratings AS r\n",
    "           GROUP BY r.username\n",
    "           HAVING COUNT(rating) > 50),\n",
    "           \n",
    "           avg_c AS\n",
    "           (SELECT r.username,\n",
    "                  COUNT(review_id)\n",
    "           FROM avg_r AS r\n",
    "           LEFT JOIN reviews AS o ON r.username=o.username\n",
    "           GROUP BY r.username)\n",
    "           \n",
    "           SELECT ROUND(AVG(count))\n",
    "           FROM avg_c AS с\n",
    "       '''\n",
    "data_4 = pd.io.sql.read_sql(query, con = engine)\n",
    "data_4"
   ]
  },
  {
   "cell_type": "markdown",
   "metadata": {},
   "source": [
    "<div class=\"alert alert-block alert-danger\">\n",
    "<h2> Комментарий ревьюера <a class=\"tocSkip\"></h2>\n",
    "\n",
    "    \n",
    "<b>На доработку❌:</b>\n",
    "Тут ты нашёл средний ID рейтинга - логически метрика немного бессмысленная:)"
   ]
  },
  {
   "cell_type": "markdown",
   "metadata": {},
   "source": [
    "<div class=\"alert alert-success\">\n",
    "<h2> Комментарий ревьюера v.2 <a class=\"tocSkip\"> </h2>\n",
    "\n",
    "<b>Все отлично!👍:</b> Учтено."
   ]
  },
  {
   "cell_type": "markdown",
   "metadata": {},
   "source": [
    "## Выводы.\n",
    "\n",
    "Итоги иследования:\n",
    "- 821 книга вышло после 1 января 2000 года;\n",
    "- В топ три по количеству обзоров вошли Twilight, The Hobbit or There and Back Again и The Catcher in the Rye, их средняя оценка не привышает четырех;\n",
    "- Penguin Books издательство, которое выпустило наибольшее число книг;\n",
    "- J.K. Rowling/Mary GrandPré автор с самой высокой средней оценкой книг среди 50 и более оценками;\n",
    "- В среднем количество 24 обзора от пользователей, которые поставили больше 50 оценок."
   ]
  },
  {
   "cell_type": "markdown",
   "metadata": {},
   "source": [
    "<div class=\"alert alert-success\">\n",
    "<h2> Комментарий ревьюера <a class=\"tocSkip\"> </h2>\n",
    "\n",
    "<b>Все отлично!👍:</b> Отличный итоговый вывод по проекту!"
   ]
  },
  {
   "cell_type": "markdown",
   "metadata": {},
   "source": [
    "<div class=\"alert alert-block alert-danger\">\n",
    "<h2> Комментарий ревьюера <a class=\"tocSkip\"></h2>\n",
    "\n",
    "    \n",
    "<b>На доработку❌:</b>\n",
    "Нужно будет скорректировать по итогу исправления замечаний."
   ]
  },
  {
   "cell_type": "markdown",
   "metadata": {},
   "source": [
    "<div class=\"alert alert-success\">\n",
    "<h2> Комментарий ревьюера v.2 <a class=\"tocSkip\"> </h2>\n",
    "\n",
    "<b>Все отлично!👍:</b> Учтено."
   ]
  },
  {
   "cell_type": "markdown",
   "metadata": {},
   "source": [
    "<div style=\"border:solid Chocolate 2px; padding: 40px\">\n",
    "\n",
    "# Комментарий ревьюера: общий вывод по проекту.\n",
    "\n",
    "Игорь, хорошая работа над проектом - почти все задания у тебя выполнены верно!\n",
    "\n",
    "Мне нравится твой аналитический подход к выполнению проекта, ты соблюдаешь структуру работы, выполняешь её последовательно - это очень хорошо! Шаги проекта выполнены по порядку согласно плану проекта, нет смысловых и структурных ям. Важно, что не забываешь про выводы.\n",
    "    \n",
    "SQL запросы написаны хорошо и оптимально, в них нет избыточных действий, они возвращают верный результат - это здорово, кажется, тебе удалось здорово разобраться в теме.\n",
    "    \n",
    "Есть небольшие рекомендации по улучшению проекта - некритичная мелочь, которая не займёт много времени, но сделает твой проект стилистически более совершенным. Будет классно, если эти рекомендации будут учтены в твоей работе:)\n",
    "    \n",
    "К нескольким заданиям стоит вернуться - к ним я оставил комментарии красного цвета с пояснениями внутри. Думаю, ты быстро разберёшься, в чём дело.\n",
    "\n",
    "Также буду рад ответить на любые твои вопросы по проекту или на какие-либо другие, если они у тебя имеются - оставь их в комментариях, и я постараюсь ответить:)\n",
    "    \n",
    "Жду твой проект на повторном ревью. До встречи:)"
   ]
  },
  {
   "cell_type": "markdown",
   "metadata": {},
   "source": [
    "<div style=\"border:solid Chocolate 2px; padding: 40px\">\n",
    "\n",
    "# Комментарий ревьюера: общий вывод по проекту v.2.\n",
    "\n",
    "Игорь, все замечания учтены - проект принят!\n",
    "    \n",
    "Спасибо за работу над проектом, желаю приятного завершения выпускного модуля:)"
   ]
  }
 ],
 "metadata": {
  "ExecuteTimeLog": [
   {
    "duration": 470,
    "start_time": "2023-04-23T08:36:31.553Z"
   },
   {
    "duration": 8794,
    "start_time": "2023-04-23T08:36:32.351Z"
   },
   {
    "duration": 64,
    "start_time": "2023-04-23T08:37:00.590Z"
   },
   {
    "duration": 72,
    "start_time": "2023-04-23T08:37:55.107Z"
   },
   {
    "duration": 2,
    "start_time": "2023-04-23T08:45:21.681Z"
   },
   {
    "duration": 2,
    "start_time": "2023-04-23T08:46:43.271Z"
   },
   {
    "duration": 4,
    "start_time": "2023-04-23T08:46:43.719Z"
   },
   {
    "duration": 62,
    "start_time": "2023-04-23T08:46:54.402Z"
   },
   {
    "duration": 3,
    "start_time": "2023-04-23T08:47:05.081Z"
   },
   {
    "duration": 2,
    "start_time": "2023-04-23T08:49:56.442Z"
   },
   {
    "duration": 4,
    "start_time": "2023-04-23T08:49:57.083Z"
   },
   {
    "duration": 40,
    "start_time": "2023-04-23T08:49:57.943Z"
   },
   {
    "duration": 3,
    "start_time": "2023-04-23T08:50:45.838Z"
   },
   {
    "duration": 11,
    "start_time": "2023-04-23T08:51:36.667Z"
   },
   {
    "duration": 2,
    "start_time": "2023-04-23T08:51:40.351Z"
   },
   {
    "duration": 4,
    "start_time": "2023-04-23T08:51:40.545Z"
   },
   {
    "duration": 3,
    "start_time": "2023-04-23T08:59:48.026Z"
   },
   {
    "duration": 3,
    "start_time": "2023-04-23T08:59:49.432Z"
   },
   {
    "duration": 3,
    "start_time": "2023-04-23T09:00:19.359Z"
   },
   {
    "duration": 8,
    "start_time": "2023-04-23T09:03:28.219Z"
   },
   {
    "duration": 6,
    "start_time": "2023-04-23T09:03:28.836Z"
   },
   {
    "duration": 3,
    "start_time": "2023-04-23T09:15:31.962Z"
   },
   {
    "duration": 8,
    "start_time": "2023-04-23T09:15:35.564Z"
   },
   {
    "duration": 6,
    "start_time": "2023-04-23T09:15:35.974Z"
   },
   {
    "duration": 12,
    "start_time": "2023-04-23T10:33:28.980Z"
   },
   {
    "duration": 27,
    "start_time": "2023-04-23T10:33:30.417Z"
   },
   {
    "duration": 19,
    "start_time": "2023-04-23T10:33:31.266Z"
   },
   {
    "duration": 14,
    "start_time": "2023-04-23T10:33:48.816Z"
   },
   {
    "duration": 13,
    "start_time": "2023-04-23T10:34:07.876Z"
   },
   {
    "duration": 18,
    "start_time": "2023-04-23T10:34:57.124Z"
   },
   {
    "duration": 17,
    "start_time": "2023-04-23T10:35:40.978Z"
   },
   {
    "duration": 494,
    "start_time": "2023-04-23T10:35:59.764Z"
   },
   {
    "duration": 7968,
    "start_time": "2023-04-23T10:36:00.260Z"
   },
   {
    "duration": 62,
    "start_time": "2023-04-23T10:36:08.229Z"
   },
   {
    "duration": 0,
    "start_time": "2023-04-23T10:36:08.292Z"
   },
   {
    "duration": 0,
    "start_time": "2023-04-23T10:36:08.293Z"
   },
   {
    "duration": 0,
    "start_time": "2023-04-23T10:36:08.295Z"
   },
   {
    "duration": 0,
    "start_time": "2023-04-23T10:36:08.296Z"
   },
   {
    "duration": 0,
    "start_time": "2023-04-23T10:36:08.297Z"
   },
   {
    "duration": 55,
    "start_time": "2023-04-23T10:36:21.226Z"
   },
   {
    "duration": 2,
    "start_time": "2023-04-23T10:36:28.470Z"
   },
   {
    "duration": 489,
    "start_time": "2023-04-23T10:36:35.270Z"
   },
   {
    "duration": 7753,
    "start_time": "2023-04-23T10:36:35.761Z"
   },
   {
    "duration": 2,
    "start_time": "2023-04-23T10:36:43.516Z"
   },
   {
    "duration": 65,
    "start_time": "2023-04-23T10:36:43.520Z"
   },
   {
    "duration": 12,
    "start_time": "2023-04-23T10:36:43.587Z"
   },
   {
    "duration": 11,
    "start_time": "2023-04-23T10:36:43.601Z"
   },
   {
    "duration": 25,
    "start_time": "2023-04-23T10:36:43.613Z"
   },
   {
    "duration": 18,
    "start_time": "2023-04-23T10:36:43.639Z"
   },
   {
    "duration": 11,
    "start_time": "2023-04-23T10:38:31.340Z"
   },
   {
    "duration": 8,
    "start_time": "2023-04-23T10:38:34.468Z"
   },
   {
    "duration": 8,
    "start_time": "2023-04-23T10:38:37.448Z"
   },
   {
    "duration": 15,
    "start_time": "2023-04-23T11:41:28.234Z"
   },
   {
    "duration": 12,
    "start_time": "2023-04-23T11:41:32.286Z"
   },
   {
    "duration": 11,
    "start_time": "2023-04-23T11:41:36.311Z"
   },
   {
    "duration": 22,
    "start_time": "2023-04-23T11:41:39.819Z"
   },
   {
    "duration": 19,
    "start_time": "2023-04-23T11:41:43.829Z"
   },
   {
    "duration": 9,
    "start_time": "2023-04-23T11:50:13.706Z"
   },
   {
    "duration": 13,
    "start_time": "2023-04-23T11:50:22.429Z"
   },
   {
    "duration": 17,
    "start_time": "2023-04-23T11:59:16.440Z"
   },
   {
    "duration": 13,
    "start_time": "2023-04-23T11:59:54.522Z"
   },
   {
    "duration": 77,
    "start_time": "2023-04-23T12:00:39.074Z"
   },
   {
    "duration": 15,
    "start_time": "2023-04-23T12:01:54.751Z"
   },
   {
    "duration": 121,
    "start_time": "2023-04-23T13:33:38.124Z"
   },
   {
    "duration": 441,
    "start_time": "2023-04-23T13:34:11.340Z"
   },
   {
    "duration": 7929,
    "start_time": "2023-04-23T13:34:11.783Z"
   },
   {
    "duration": 3,
    "start_time": "2023-04-23T13:34:19.713Z"
   },
   {
    "duration": 77,
    "start_time": "2023-04-23T13:34:19.718Z"
   },
   {
    "duration": 14,
    "start_time": "2023-04-23T13:34:19.796Z"
   },
   {
    "duration": 11,
    "start_time": "2023-04-23T13:34:19.811Z"
   },
   {
    "duration": 25,
    "start_time": "2023-04-23T13:34:19.823Z"
   },
   {
    "duration": 23,
    "start_time": "2023-04-23T13:34:19.849Z"
   },
   {
    "duration": 2,
    "start_time": "2023-04-23T13:34:19.874Z"
   },
   {
    "duration": 3,
    "start_time": "2023-04-23T13:34:19.893Z"
   },
   {
    "duration": 24,
    "start_time": "2023-04-23T13:34:19.898Z"
   },
   {
    "duration": 156,
    "start_time": "2023-04-23T13:34:19.924Z"
   },
   {
    "duration": 11,
    "start_time": "2023-04-23T13:36:10.720Z"
   },
   {
    "duration": 11,
    "start_time": "2023-04-23T13:36:29.006Z"
   },
   {
    "duration": 10,
    "start_time": "2023-04-23T13:57:13.954Z"
   },
   {
    "duration": 11,
    "start_time": "2023-04-23T13:57:26.390Z"
   },
   {
    "duration": 571,
    "start_time": "2023-04-24T08:44:13.479Z"
   },
   {
    "duration": 9271,
    "start_time": "2023-04-24T08:44:14.052Z"
   },
   {
    "duration": 3,
    "start_time": "2023-04-24T08:44:23.325Z"
   },
   {
    "duration": 68,
    "start_time": "2023-04-24T08:44:23.331Z"
   },
   {
    "duration": 16,
    "start_time": "2023-04-24T08:44:23.400Z"
   },
   {
    "duration": 17,
    "start_time": "2023-04-24T08:44:23.418Z"
   },
   {
    "duration": 38,
    "start_time": "2023-04-24T08:44:23.437Z"
   },
   {
    "duration": 19,
    "start_time": "2023-04-24T08:44:23.476Z"
   },
   {
    "duration": 26,
    "start_time": "2023-04-24T08:44:23.496Z"
   },
   {
    "duration": 14,
    "start_time": "2023-04-24T08:44:23.526Z"
   },
   {
    "duration": 28,
    "start_time": "2023-04-24T08:44:23.542Z"
   },
   {
    "duration": 25,
    "start_time": "2023-04-24T08:56:59.173Z"
   },
   {
    "duration": 73,
    "start_time": "2023-04-24T08:59:14.575Z"
   },
   {
    "duration": 20,
    "start_time": "2023-04-24T09:01:23.032Z"
   },
   {
    "duration": 28,
    "start_time": "2023-04-24T09:02:16.187Z"
   },
   {
    "duration": 18,
    "start_time": "2023-04-24T09:02:35.284Z"
   },
   {
    "duration": 173,
    "start_time": "2023-04-24T09:09:20.939Z"
   },
   {
    "duration": 139,
    "start_time": "2023-04-24T09:09:56.275Z"
   },
   {
    "duration": 23,
    "start_time": "2023-04-24T09:10:17.740Z"
   },
   {
    "duration": 25,
    "start_time": "2023-04-24T09:10:36.227Z"
   },
   {
    "duration": 26,
    "start_time": "2023-04-24T09:18:49.061Z"
   },
   {
    "duration": 22,
    "start_time": "2023-04-24T09:19:04.581Z"
   },
   {
    "duration": 11,
    "start_time": "2023-04-24T09:32:30.941Z"
   },
   {
    "duration": 16,
    "start_time": "2023-04-24T09:38:16.741Z"
   },
   {
    "duration": 110,
    "start_time": "2023-04-24T09:39:24.013Z"
   },
   {
    "duration": 16,
    "start_time": "2023-04-24T09:40:10.540Z"
   },
   {
    "duration": 16,
    "start_time": "2023-04-24T09:40:49.958Z"
   },
   {
    "duration": 16,
    "start_time": "2023-04-24T09:41:33.129Z"
   },
   {
    "duration": 16,
    "start_time": "2023-04-24T09:41:44.561Z"
   },
   {
    "duration": 18,
    "start_time": "2023-04-24T10:41:47.961Z"
   },
   {
    "duration": 101,
    "start_time": "2023-04-24T10:44:58.385Z"
   },
   {
    "duration": 15,
    "start_time": "2023-04-24T10:46:29.271Z"
   },
   {
    "duration": 14,
    "start_time": "2023-04-24T10:46:41.404Z"
   },
   {
    "duration": 107,
    "start_time": "2023-04-24T10:58:50.226Z"
   },
   {
    "duration": 97,
    "start_time": "2023-04-24T10:59:28.381Z"
   },
   {
    "duration": 95,
    "start_time": "2023-04-24T10:59:36.679Z"
   },
   {
    "duration": 376,
    "start_time": "2023-04-24T11:00:17.973Z"
   },
   {
    "duration": 102,
    "start_time": "2023-04-24T11:00:24.169Z"
   },
   {
    "duration": 108,
    "start_time": "2023-04-24T11:01:00.831Z"
   },
   {
    "duration": 121,
    "start_time": "2023-04-24T11:02:13.811Z"
   },
   {
    "duration": 94,
    "start_time": "2023-04-24T11:02:42.141Z"
   },
   {
    "duration": 557,
    "start_time": "2023-04-24T11:02:56.291Z"
   },
   {
    "duration": 8494,
    "start_time": "2023-04-24T11:02:56.850Z"
   },
   {
    "duration": 3,
    "start_time": "2023-04-24T11:03:05.346Z"
   },
   {
    "duration": 58,
    "start_time": "2023-04-24T11:03:05.351Z"
   },
   {
    "duration": 13,
    "start_time": "2023-04-24T11:03:05.411Z"
   },
   {
    "duration": 11,
    "start_time": "2023-04-24T11:03:05.425Z"
   },
   {
    "duration": 25,
    "start_time": "2023-04-24T11:03:05.437Z"
   },
   {
    "duration": 18,
    "start_time": "2023-04-24T11:03:05.463Z"
   },
   {
    "duration": 29,
    "start_time": "2023-04-24T11:03:05.483Z"
   },
   {
    "duration": 23,
    "start_time": "2023-04-24T11:03:05.513Z"
   },
   {
    "duration": 18,
    "start_time": "2023-04-24T11:03:05.538Z"
   },
   {
    "duration": 158,
    "start_time": "2023-04-24T11:03:05.558Z"
   },
   {
    "duration": 1,
    "start_time": "2023-04-24T11:03:05.717Z"
   },
   {
    "duration": 99,
    "start_time": "2023-04-24T11:03:56.850Z"
   },
   {
    "duration": 103,
    "start_time": "2023-04-24T11:04:26.470Z"
   },
   {
    "duration": 103,
    "start_time": "2023-04-24T11:04:37.673Z"
   },
   {
    "duration": 14,
    "start_time": "2023-04-24T11:05:06.999Z"
   },
   {
    "duration": 17,
    "start_time": "2023-04-24T11:05:39.288Z"
   },
   {
    "duration": 18,
    "start_time": "2023-04-24T11:05:56.627Z"
   },
   {
    "duration": 15,
    "start_time": "2023-04-24T11:06:17.530Z"
   },
   {
    "duration": 92,
    "start_time": "2023-04-24T11:22:49.470Z"
   },
   {
    "duration": 104,
    "start_time": "2023-04-24T11:23:53.908Z"
   },
   {
    "duration": 16,
    "start_time": "2023-04-24T11:24:48.822Z"
   },
   {
    "duration": 14,
    "start_time": "2023-04-24T11:30:46.660Z"
   },
   {
    "duration": 12,
    "start_time": "2023-04-24T11:31:32.640Z"
   },
   {
    "duration": 15,
    "start_time": "2023-04-24T11:31:41.080Z"
   },
   {
    "duration": 104,
    "start_time": "2023-04-24T11:35:33.630Z"
   },
   {
    "duration": 96,
    "start_time": "2023-04-24T11:35:59.489Z"
   },
   {
    "duration": 15,
    "start_time": "2023-04-24T11:36:33.067Z"
   },
   {
    "duration": 15,
    "start_time": "2023-04-24T11:37:10.280Z"
   },
   {
    "duration": 15,
    "start_time": "2023-04-24T11:38:54.090Z"
   },
   {
    "duration": 16,
    "start_time": "2023-04-24T11:46:46.130Z"
   },
   {
    "duration": 15,
    "start_time": "2023-04-24T11:46:53.078Z"
   },
   {
    "duration": 51,
    "start_time": "2023-04-25T12:21:38.027Z"
   },
   {
    "duration": 549,
    "start_time": "2023-04-25T12:21:43.799Z"
   },
   {
    "duration": 7828,
    "start_time": "2023-04-25T12:21:44.797Z"
   },
   {
    "duration": 3,
    "start_time": "2023-04-25T12:21:52.628Z"
   },
   {
    "duration": 62,
    "start_time": "2023-04-25T12:21:52.632Z"
   },
   {
    "duration": 16,
    "start_time": "2023-04-25T12:21:52.696Z"
   },
   {
    "duration": 13,
    "start_time": "2023-04-25T12:21:52.714Z"
   },
   {
    "duration": 35,
    "start_time": "2023-04-25T12:21:52.729Z"
   },
   {
    "duration": 24,
    "start_time": "2023-04-25T12:21:52.766Z"
   },
   {
    "duration": 13,
    "start_time": "2023-04-25T12:21:52.792Z"
   },
   {
    "duration": 157,
    "start_time": "2023-04-25T12:21:52.818Z"
   },
   {
    "duration": 0,
    "start_time": "2023-04-25T12:21:52.977Z"
   },
   {
    "duration": 0,
    "start_time": "2023-04-25T12:21:52.979Z"
   },
   {
    "duration": 0,
    "start_time": "2023-04-25T12:21:52.980Z"
   },
   {
    "duration": 27,
    "start_time": "2023-04-25T12:23:32.942Z"
   },
   {
    "duration": 30,
    "start_time": "2023-04-25T12:23:53.969Z"
   },
   {
    "duration": 24,
    "start_time": "2023-04-25T12:24:23.394Z"
   },
   {
    "duration": 25,
    "start_time": "2023-04-25T12:25:37.059Z"
   },
   {
    "duration": 26,
    "start_time": "2023-04-25T12:26:02.792Z"
   },
   {
    "duration": 13,
    "start_time": "2023-04-25T12:26:34.340Z"
   },
   {
    "duration": 13,
    "start_time": "2023-04-25T12:26:36.762Z"
   },
   {
    "duration": 14,
    "start_time": "2023-04-25T12:26:39.094Z"
   },
   {
    "duration": 13,
    "start_time": "2023-04-25T12:31:08.301Z"
   },
   {
    "duration": 50,
    "start_time": "2023-04-26T12:37:38.616Z"
   },
   {
    "duration": 585,
    "start_time": "2023-04-26T12:37:44.653Z"
   },
   {
    "duration": 8160,
    "start_time": "2023-04-26T12:37:45.241Z"
   },
   {
    "duration": 3,
    "start_time": "2023-04-26T12:37:53.403Z"
   },
   {
    "duration": 139,
    "start_time": "2023-04-26T12:37:53.408Z"
   },
   {
    "duration": 14,
    "start_time": "2023-04-26T12:37:53.549Z"
   },
   {
    "duration": 14,
    "start_time": "2023-04-26T12:37:53.565Z"
   },
   {
    "duration": 26,
    "start_time": "2023-04-26T12:37:53.582Z"
   },
   {
    "duration": 19,
    "start_time": "2023-04-26T12:37:53.610Z"
   },
   {
    "duration": 13,
    "start_time": "2023-04-26T12:37:53.632Z"
   },
   {
    "duration": 35,
    "start_time": "2023-04-26T12:37:53.648Z"
   },
   {
    "duration": 25,
    "start_time": "2023-04-26T12:37:53.686Z"
   },
   {
    "duration": 17,
    "start_time": "2023-04-26T12:37:53.713Z"
   },
   {
    "duration": 17,
    "start_time": "2023-04-26T12:37:53.732Z"
   },
   {
    "duration": 16,
    "start_time": "2023-04-26T12:40:35.348Z"
   },
   {
    "duration": 15,
    "start_time": "2023-04-26T12:41:19.959Z"
   },
   {
    "duration": 176,
    "start_time": "2023-04-26T12:41:47.715Z"
   },
   {
    "duration": 15,
    "start_time": "2023-04-26T12:42:10.612Z"
   },
   {
    "duration": 14,
    "start_time": "2023-04-26T12:50:17.594Z"
   },
   {
    "duration": 15,
    "start_time": "2023-04-26T12:50:39.325Z"
   },
   {
    "duration": 118,
    "start_time": "2023-04-26T12:58:14.825Z"
   },
   {
    "duration": 110,
    "start_time": "2023-04-26T13:02:14.626Z"
   },
   {
    "duration": 160,
    "start_time": "2023-04-26T13:06:15.172Z"
   },
   {
    "duration": 18,
    "start_time": "2023-04-26T13:06:27.949Z"
   },
   {
    "duration": 16,
    "start_time": "2023-04-26T13:06:37.623Z"
   },
   {
    "duration": 18,
    "start_time": "2023-04-26T13:07:05.937Z"
   },
   {
    "duration": 112,
    "start_time": "2023-04-26T13:08:54.871Z"
   },
   {
    "duration": 98,
    "start_time": "2023-04-26T13:09:24.047Z"
   },
   {
    "duration": 25,
    "start_time": "2023-04-26T13:09:39.097Z"
   },
   {
    "duration": 125,
    "start_time": "2023-04-26T13:10:02.716Z"
   },
   {
    "duration": 109,
    "start_time": "2023-04-26T13:12:34.338Z"
   },
   {
    "duration": 17,
    "start_time": "2023-04-26T13:14:19.772Z"
   },
   {
    "duration": 18,
    "start_time": "2023-04-26T13:15:35.374Z"
   },
   {
    "duration": 134,
    "start_time": "2023-04-26T13:16:18.994Z"
   },
   {
    "duration": 130,
    "start_time": "2023-04-26T13:16:43.468Z"
   },
   {
    "duration": 105,
    "start_time": "2023-04-26T13:16:51.186Z"
   },
   {
    "duration": 130,
    "start_time": "2023-04-26T13:18:50.152Z"
   },
   {
    "duration": 20,
    "start_time": "2023-04-26T13:19:03.874Z"
   },
   {
    "duration": 108,
    "start_time": "2023-04-26T13:21:23.233Z"
   },
   {
    "duration": 15,
    "start_time": "2023-04-26T13:22:42.942Z"
   },
   {
    "duration": 24,
    "start_time": "2023-04-26T13:24:31.583Z"
   },
   {
    "duration": 19,
    "start_time": "2023-04-26T13:30:58.404Z"
   },
   {
    "duration": 116,
    "start_time": "2023-04-26T13:33:37.936Z"
   },
   {
    "duration": 18,
    "start_time": "2023-04-26T13:33:53.826Z"
   },
   {
    "duration": 15,
    "start_time": "2023-04-26T13:34:59.507Z"
   },
   {
    "duration": 19,
    "start_time": "2023-04-26T13:36:14.411Z"
   },
   {
    "duration": 20,
    "start_time": "2023-04-26T13:36:33.301Z"
   },
   {
    "duration": 21,
    "start_time": "2023-04-26T13:37:46.544Z"
   },
   {
    "duration": 20,
    "start_time": "2023-04-26T13:38:01.070Z"
   },
   {
    "duration": 34,
    "start_time": "2023-04-26T13:39:12.318Z"
   },
   {
    "duration": 17,
    "start_time": "2023-04-26T13:40:24.662Z"
   },
   {
    "duration": 25,
    "start_time": "2023-04-26T13:43:27.914Z"
   },
   {
    "duration": 19,
    "start_time": "2023-04-26T13:43:45.461Z"
   },
   {
    "duration": 19,
    "start_time": "2023-04-26T13:44:08.875Z"
   },
   {
    "duration": 104,
    "start_time": "2023-04-26T13:49:07.354Z"
   },
   {
    "duration": 26,
    "start_time": "2023-04-26T13:49:51.237Z"
   },
   {
    "duration": 31,
    "start_time": "2023-04-26T13:51:32.790Z"
   },
   {
    "duration": 18,
    "start_time": "2023-04-26T13:52:29.403Z"
   },
   {
    "duration": 108,
    "start_time": "2023-04-26T13:54:04.836Z"
   },
   {
    "duration": 16,
    "start_time": "2023-04-26T13:54:22.233Z"
   },
   {
    "duration": 38,
    "start_time": "2023-04-26T13:55:36.230Z"
   },
   {
    "duration": 27,
    "start_time": "2023-04-26T13:55:58.920Z"
   },
   {
    "duration": 104,
    "start_time": "2023-04-26T14:10:41.499Z"
   },
   {
    "duration": 16,
    "start_time": "2023-04-26T14:10:48.931Z"
   },
   {
    "duration": 16,
    "start_time": "2023-04-26T14:11:33.364Z"
   },
   {
    "duration": 27,
    "start_time": "2023-04-26T14:12:38.057Z"
   },
   {
    "duration": 26,
    "start_time": "2023-04-26T14:12:42.382Z"
   },
   {
    "duration": 31,
    "start_time": "2023-04-26T14:13:24.580Z"
   },
   {
    "duration": 32,
    "start_time": "2023-04-26T14:14:04.754Z"
   },
   {
    "duration": 32,
    "start_time": "2023-04-26T14:14:33.830Z"
   },
   {
    "duration": 11,
    "start_time": "2023-04-26T14:32:02.430Z"
   },
   {
    "duration": 14,
    "start_time": "2023-04-26T14:32:29.901Z"
   },
   {
    "duration": 16,
    "start_time": "2023-04-26T14:32:51.993Z"
   },
   {
    "duration": 563,
    "start_time": "2023-04-26T14:35:34.069Z"
   },
   {
    "duration": 8286,
    "start_time": "2023-04-26T14:35:34.634Z"
   },
   {
    "duration": 3,
    "start_time": "2023-04-26T14:35:42.922Z"
   },
   {
    "duration": 81,
    "start_time": "2023-04-26T14:35:42.929Z"
   },
   {
    "duration": 17,
    "start_time": "2023-04-26T14:35:43.012Z"
   },
   {
    "duration": 17,
    "start_time": "2023-04-26T14:35:43.031Z"
   },
   {
    "duration": 27,
    "start_time": "2023-04-26T14:35:43.050Z"
   },
   {
    "duration": 33,
    "start_time": "2023-04-26T14:35:43.079Z"
   },
   {
    "duration": 12,
    "start_time": "2023-04-26T14:35:43.113Z"
   },
   {
    "duration": 34,
    "start_time": "2023-04-26T14:35:43.128Z"
   },
   {
    "duration": 18,
    "start_time": "2023-04-26T14:35:43.164Z"
   },
   {
    "duration": 47,
    "start_time": "2023-04-26T14:35:43.184Z"
   },
   {
    "duration": 14,
    "start_time": "2023-04-26T14:35:43.234Z"
   },
   {
    "duration": 512,
    "start_time": "2023-04-27T13:30:38.560Z"
   },
   {
    "duration": 13696,
    "start_time": "2023-04-27T13:30:39.074Z"
   },
   {
    "duration": 2,
    "start_time": "2023-04-27T13:30:52.772Z"
   },
   {
    "duration": 274,
    "start_time": "2023-04-27T13:30:52.776Z"
   },
   {
    "duration": 70,
    "start_time": "2023-04-27T13:30:53.051Z"
   },
   {
    "duration": 67,
    "start_time": "2023-04-27T13:30:53.123Z"
   },
   {
    "duration": 92,
    "start_time": "2023-04-27T13:30:53.193Z"
   },
   {
    "duration": 83,
    "start_time": "2023-04-27T13:30:53.287Z"
   },
   {
    "duration": 67,
    "start_time": "2023-04-27T13:30:53.372Z"
   },
   {
    "duration": 87,
    "start_time": "2023-04-27T13:30:53.442Z"
   },
   {
    "duration": 73,
    "start_time": "2023-04-27T13:30:53.531Z"
   },
   {
    "duration": 75,
    "start_time": "2023-04-27T13:30:53.606Z"
   },
   {
    "duration": 71,
    "start_time": "2023-04-27T13:30:53.683Z"
   }
  ],
  "kernelspec": {
   "display_name": "Python 3 (ipykernel)",
   "language": "python",
   "name": "python3"
  },
  "language_info": {
   "codemirror_mode": {
    "name": "ipython",
    "version": 3
   },
   "file_extension": ".py",
   "mimetype": "text/x-python",
   "name": "python",
   "nbconvert_exporter": "python",
   "pygments_lexer": "ipython3",
   "version": "3.9.5"
  },
  "toc": {
   "base_numbering": 1,
   "nav_menu": {},
   "number_sections": true,
   "sideBar": true,
   "skip_h1_title": true,
   "title_cell": "Table of Contents",
   "title_sidebar": "Contents",
   "toc_cell": false,
   "toc_position": {},
   "toc_section_display": true,
   "toc_window_display": true
  }
 },
 "nbformat": 4,
 "nbformat_minor": 2
}
