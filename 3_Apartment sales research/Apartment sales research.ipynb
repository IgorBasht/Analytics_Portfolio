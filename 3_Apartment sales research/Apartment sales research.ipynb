{
 "cells": [
  {
   "cell_type": "markdown",
   "metadata": {},
   "source": [
    "# Исследование объявлений о продаже квартир\n",
    "\n",
    "В вашем распоряжении данные сервиса Яндекс.Недвижимость — архив объявлений о продаже квартир в Санкт-Петербурге и соседних населённых пунктов за несколько лет. Нужно научиться определять рыночную стоимость объектов недвижимости. Ваша задача — установить параметры. Это позволит построить автоматизированную систему: она отследит аномалии и мошенническую деятельность. \n",
    "\n",
    "По каждой квартире на продажу доступны два вида данных. Первые вписаны пользователем, вторые — получены автоматически на основе картографических данных. Например, расстояние до центра, аэропорта, ближайшего парка и водоёма. "
   ]
  },
  {
   "cell_type": "markdown",
   "metadata": {},
   "source": [
    "## Откройте файл с данными и изучите общую информацию. "
   ]
  },
  {
   "cell_type": "code",
   "execution_count": 1,
   "metadata": {},
   "outputs": [
    {
     "ename": "FileNotFoundError",
     "evalue": "[Errno 2] No such file or directory: '/datasets/real_estate_data.csv'",
     "output_type": "error",
     "traceback": [
      "\u001b[1;31m---------------------------------------------------------------------------\u001b[0m",
      "\u001b[1;31mFileNotFoundError\u001b[0m                         Traceback (most recent call last)",
      "Input \u001b[1;32mIn [1]\u001b[0m, in \u001b[0;36m<cell line: 2>\u001b[1;34m()\u001b[0m\n\u001b[0;32m      1\u001b[0m \u001b[38;5;28;01mimport\u001b[39;00m \u001b[38;5;21;01mpandas\u001b[39;00m \u001b[38;5;28;01mas\u001b[39;00m \u001b[38;5;21;01mpd\u001b[39;00m\n\u001b[1;32m----> 2\u001b[0m data \u001b[38;5;241m=\u001b[39m \u001b[43mpd\u001b[49m\u001b[38;5;241;43m.\u001b[39;49m\u001b[43mread_csv\u001b[49m\u001b[43m(\u001b[49m\u001b[38;5;124;43m'\u001b[39;49m\u001b[38;5;124;43m/datasets/real_estate_data.csv\u001b[39;49m\u001b[38;5;124;43m'\u001b[39;49m\u001b[43m,\u001b[49m\u001b[43m \u001b[49m\u001b[43msep\u001b[49m\u001b[38;5;241;43m=\u001b[39;49m\u001b[38;5;124;43m'\u001b[39;49m\u001b[38;5;130;43;01m\\t\u001b[39;49;00m\u001b[38;5;124;43m'\u001b[39;49m\u001b[43m)\u001b[49m\n\u001b[0;32m      3\u001b[0m \u001b[38;5;28;01mimport\u001b[39;00m \u001b[38;5;21;01mmatplotlib\u001b[39;00m\u001b[38;5;21;01m.\u001b[39;00m\u001b[38;5;21;01mpyplot\u001b[39;00m \u001b[38;5;28;01mas\u001b[39;00m \u001b[38;5;21;01mplt\u001b[39;00m \n\u001b[0;32m      4\u001b[0m \u001b[38;5;28;01mimport\u001b[39;00m \u001b[38;5;21;01mseaborn\u001b[39;00m \u001b[38;5;28;01mas\u001b[39;00m \u001b[38;5;21;01msns\u001b[39;00m\n",
      "File \u001b[1;32m~\\anaconda3\\lib\\site-packages\\pandas\\util\\_decorators.py:311\u001b[0m, in \u001b[0;36mdeprecate_nonkeyword_arguments.<locals>.decorate.<locals>.wrapper\u001b[1;34m(*args, **kwargs)\u001b[0m\n\u001b[0;32m    305\u001b[0m \u001b[38;5;28;01mif\u001b[39;00m \u001b[38;5;28mlen\u001b[39m(args) \u001b[38;5;241m>\u001b[39m num_allow_args:\n\u001b[0;32m    306\u001b[0m     warnings\u001b[38;5;241m.\u001b[39mwarn(\n\u001b[0;32m    307\u001b[0m         msg\u001b[38;5;241m.\u001b[39mformat(arguments\u001b[38;5;241m=\u001b[39marguments),\n\u001b[0;32m    308\u001b[0m         \u001b[38;5;167;01mFutureWarning\u001b[39;00m,\n\u001b[0;32m    309\u001b[0m         stacklevel\u001b[38;5;241m=\u001b[39mstacklevel,\n\u001b[0;32m    310\u001b[0m     )\n\u001b[1;32m--> 311\u001b[0m \u001b[38;5;28;01mreturn\u001b[39;00m func(\u001b[38;5;241m*\u001b[39margs, \u001b[38;5;241m*\u001b[39m\u001b[38;5;241m*\u001b[39mkwargs)\n",
      "File \u001b[1;32m~\\anaconda3\\lib\\site-packages\\pandas\\io\\parsers\\readers.py:680\u001b[0m, in \u001b[0;36mread_csv\u001b[1;34m(filepath_or_buffer, sep, delimiter, header, names, index_col, usecols, squeeze, prefix, mangle_dupe_cols, dtype, engine, converters, true_values, false_values, skipinitialspace, skiprows, skipfooter, nrows, na_values, keep_default_na, na_filter, verbose, skip_blank_lines, parse_dates, infer_datetime_format, keep_date_col, date_parser, dayfirst, cache_dates, iterator, chunksize, compression, thousands, decimal, lineterminator, quotechar, quoting, doublequote, escapechar, comment, encoding, encoding_errors, dialect, error_bad_lines, warn_bad_lines, on_bad_lines, delim_whitespace, low_memory, memory_map, float_precision, storage_options)\u001b[0m\n\u001b[0;32m    665\u001b[0m kwds_defaults \u001b[38;5;241m=\u001b[39m _refine_defaults_read(\n\u001b[0;32m    666\u001b[0m     dialect,\n\u001b[0;32m    667\u001b[0m     delimiter,\n\u001b[1;32m   (...)\u001b[0m\n\u001b[0;32m    676\u001b[0m     defaults\u001b[38;5;241m=\u001b[39m{\u001b[38;5;124m\"\u001b[39m\u001b[38;5;124mdelimiter\u001b[39m\u001b[38;5;124m\"\u001b[39m: \u001b[38;5;124m\"\u001b[39m\u001b[38;5;124m,\u001b[39m\u001b[38;5;124m\"\u001b[39m},\n\u001b[0;32m    677\u001b[0m )\n\u001b[0;32m    678\u001b[0m kwds\u001b[38;5;241m.\u001b[39mupdate(kwds_defaults)\n\u001b[1;32m--> 680\u001b[0m \u001b[38;5;28;01mreturn\u001b[39;00m \u001b[43m_read\u001b[49m\u001b[43m(\u001b[49m\u001b[43mfilepath_or_buffer\u001b[49m\u001b[43m,\u001b[49m\u001b[43m \u001b[49m\u001b[43mkwds\u001b[49m\u001b[43m)\u001b[49m\n",
      "File \u001b[1;32m~\\anaconda3\\lib\\site-packages\\pandas\\io\\parsers\\readers.py:575\u001b[0m, in \u001b[0;36m_read\u001b[1;34m(filepath_or_buffer, kwds)\u001b[0m\n\u001b[0;32m    572\u001b[0m _validate_names(kwds\u001b[38;5;241m.\u001b[39mget(\u001b[38;5;124m\"\u001b[39m\u001b[38;5;124mnames\u001b[39m\u001b[38;5;124m\"\u001b[39m, \u001b[38;5;28;01mNone\u001b[39;00m))\n\u001b[0;32m    574\u001b[0m \u001b[38;5;66;03m# Create the parser.\u001b[39;00m\n\u001b[1;32m--> 575\u001b[0m parser \u001b[38;5;241m=\u001b[39m TextFileReader(filepath_or_buffer, \u001b[38;5;241m*\u001b[39m\u001b[38;5;241m*\u001b[39mkwds)\n\u001b[0;32m    577\u001b[0m \u001b[38;5;28;01mif\u001b[39;00m chunksize \u001b[38;5;129;01mor\u001b[39;00m iterator:\n\u001b[0;32m    578\u001b[0m     \u001b[38;5;28;01mreturn\u001b[39;00m parser\n",
      "File \u001b[1;32m~\\anaconda3\\lib\\site-packages\\pandas\\io\\parsers\\readers.py:933\u001b[0m, in \u001b[0;36mTextFileReader.__init__\u001b[1;34m(self, f, engine, **kwds)\u001b[0m\n\u001b[0;32m    930\u001b[0m     \u001b[38;5;28mself\u001b[39m\u001b[38;5;241m.\u001b[39moptions[\u001b[38;5;124m\"\u001b[39m\u001b[38;5;124mhas_index_names\u001b[39m\u001b[38;5;124m\"\u001b[39m] \u001b[38;5;241m=\u001b[39m kwds[\u001b[38;5;124m\"\u001b[39m\u001b[38;5;124mhas_index_names\u001b[39m\u001b[38;5;124m\"\u001b[39m]\n\u001b[0;32m    932\u001b[0m \u001b[38;5;28mself\u001b[39m\u001b[38;5;241m.\u001b[39mhandles: IOHandles \u001b[38;5;241m|\u001b[39m \u001b[38;5;28;01mNone\u001b[39;00m \u001b[38;5;241m=\u001b[39m \u001b[38;5;28;01mNone\u001b[39;00m\n\u001b[1;32m--> 933\u001b[0m \u001b[38;5;28mself\u001b[39m\u001b[38;5;241m.\u001b[39m_engine \u001b[38;5;241m=\u001b[39m \u001b[38;5;28;43mself\u001b[39;49m\u001b[38;5;241;43m.\u001b[39;49m\u001b[43m_make_engine\u001b[49m\u001b[43m(\u001b[49m\u001b[43mf\u001b[49m\u001b[43m,\u001b[49m\u001b[43m \u001b[49m\u001b[38;5;28;43mself\u001b[39;49m\u001b[38;5;241;43m.\u001b[39;49m\u001b[43mengine\u001b[49m\u001b[43m)\u001b[49m\n",
      "File \u001b[1;32m~\\anaconda3\\lib\\site-packages\\pandas\\io\\parsers\\readers.py:1217\u001b[0m, in \u001b[0;36mTextFileReader._make_engine\u001b[1;34m(self, f, engine)\u001b[0m\n\u001b[0;32m   1213\u001b[0m     mode \u001b[38;5;241m=\u001b[39m \u001b[38;5;124m\"\u001b[39m\u001b[38;5;124mrb\u001b[39m\u001b[38;5;124m\"\u001b[39m\n\u001b[0;32m   1214\u001b[0m \u001b[38;5;66;03m# error: No overload variant of \"get_handle\" matches argument types\u001b[39;00m\n\u001b[0;32m   1215\u001b[0m \u001b[38;5;66;03m# \"Union[str, PathLike[str], ReadCsvBuffer[bytes], ReadCsvBuffer[str]]\"\u001b[39;00m\n\u001b[0;32m   1216\u001b[0m \u001b[38;5;66;03m# , \"str\", \"bool\", \"Any\", \"Any\", \"Any\", \"Any\", \"Any\"\u001b[39;00m\n\u001b[1;32m-> 1217\u001b[0m \u001b[38;5;28mself\u001b[39m\u001b[38;5;241m.\u001b[39mhandles \u001b[38;5;241m=\u001b[39m \u001b[43mget_handle\u001b[49m\u001b[43m(\u001b[49m\u001b[43m  \u001b[49m\u001b[38;5;66;43;03m# type: ignore[call-overload]\u001b[39;49;00m\n\u001b[0;32m   1218\u001b[0m \u001b[43m    \u001b[49m\u001b[43mf\u001b[49m\u001b[43m,\u001b[49m\n\u001b[0;32m   1219\u001b[0m \u001b[43m    \u001b[49m\u001b[43mmode\u001b[49m\u001b[43m,\u001b[49m\n\u001b[0;32m   1220\u001b[0m \u001b[43m    \u001b[49m\u001b[43mencoding\u001b[49m\u001b[38;5;241;43m=\u001b[39;49m\u001b[38;5;28;43mself\u001b[39;49m\u001b[38;5;241;43m.\u001b[39;49m\u001b[43moptions\u001b[49m\u001b[38;5;241;43m.\u001b[39;49m\u001b[43mget\u001b[49m\u001b[43m(\u001b[49m\u001b[38;5;124;43m\"\u001b[39;49m\u001b[38;5;124;43mencoding\u001b[39;49m\u001b[38;5;124;43m\"\u001b[39;49m\u001b[43m,\u001b[49m\u001b[43m \u001b[49m\u001b[38;5;28;43;01mNone\u001b[39;49;00m\u001b[43m)\u001b[49m\u001b[43m,\u001b[49m\n\u001b[0;32m   1221\u001b[0m \u001b[43m    \u001b[49m\u001b[43mcompression\u001b[49m\u001b[38;5;241;43m=\u001b[39;49m\u001b[38;5;28;43mself\u001b[39;49m\u001b[38;5;241;43m.\u001b[39;49m\u001b[43moptions\u001b[49m\u001b[38;5;241;43m.\u001b[39;49m\u001b[43mget\u001b[49m\u001b[43m(\u001b[49m\u001b[38;5;124;43m\"\u001b[39;49m\u001b[38;5;124;43mcompression\u001b[39;49m\u001b[38;5;124;43m\"\u001b[39;49m\u001b[43m,\u001b[49m\u001b[43m \u001b[49m\u001b[38;5;28;43;01mNone\u001b[39;49;00m\u001b[43m)\u001b[49m\u001b[43m,\u001b[49m\n\u001b[0;32m   1222\u001b[0m \u001b[43m    \u001b[49m\u001b[43mmemory_map\u001b[49m\u001b[38;5;241;43m=\u001b[39;49m\u001b[38;5;28;43mself\u001b[39;49m\u001b[38;5;241;43m.\u001b[39;49m\u001b[43moptions\u001b[49m\u001b[38;5;241;43m.\u001b[39;49m\u001b[43mget\u001b[49m\u001b[43m(\u001b[49m\u001b[38;5;124;43m\"\u001b[39;49m\u001b[38;5;124;43mmemory_map\u001b[39;49m\u001b[38;5;124;43m\"\u001b[39;49m\u001b[43m,\u001b[49m\u001b[43m \u001b[49m\u001b[38;5;28;43;01mFalse\u001b[39;49;00m\u001b[43m)\u001b[49m\u001b[43m,\u001b[49m\n\u001b[0;32m   1223\u001b[0m \u001b[43m    \u001b[49m\u001b[43mis_text\u001b[49m\u001b[38;5;241;43m=\u001b[39;49m\u001b[43mis_text\u001b[49m\u001b[43m,\u001b[49m\n\u001b[0;32m   1224\u001b[0m \u001b[43m    \u001b[49m\u001b[43merrors\u001b[49m\u001b[38;5;241;43m=\u001b[39;49m\u001b[38;5;28;43mself\u001b[39;49m\u001b[38;5;241;43m.\u001b[39;49m\u001b[43moptions\u001b[49m\u001b[38;5;241;43m.\u001b[39;49m\u001b[43mget\u001b[49m\u001b[43m(\u001b[49m\u001b[38;5;124;43m\"\u001b[39;49m\u001b[38;5;124;43mencoding_errors\u001b[39;49m\u001b[38;5;124;43m\"\u001b[39;49m\u001b[43m,\u001b[49m\u001b[43m \u001b[49m\u001b[38;5;124;43m\"\u001b[39;49m\u001b[38;5;124;43mstrict\u001b[39;49m\u001b[38;5;124;43m\"\u001b[39;49m\u001b[43m)\u001b[49m\u001b[43m,\u001b[49m\n\u001b[0;32m   1225\u001b[0m \u001b[43m    \u001b[49m\u001b[43mstorage_options\u001b[49m\u001b[38;5;241;43m=\u001b[39;49m\u001b[38;5;28;43mself\u001b[39;49m\u001b[38;5;241;43m.\u001b[39;49m\u001b[43moptions\u001b[49m\u001b[38;5;241;43m.\u001b[39;49m\u001b[43mget\u001b[49m\u001b[43m(\u001b[49m\u001b[38;5;124;43m\"\u001b[39;49m\u001b[38;5;124;43mstorage_options\u001b[39;49m\u001b[38;5;124;43m\"\u001b[39;49m\u001b[43m,\u001b[49m\u001b[43m \u001b[49m\u001b[38;5;28;43;01mNone\u001b[39;49;00m\u001b[43m)\u001b[49m\u001b[43m,\u001b[49m\n\u001b[0;32m   1226\u001b[0m \u001b[43m\u001b[49m\u001b[43m)\u001b[49m\n\u001b[0;32m   1227\u001b[0m \u001b[38;5;28;01massert\u001b[39;00m \u001b[38;5;28mself\u001b[39m\u001b[38;5;241m.\u001b[39mhandles \u001b[38;5;129;01mis\u001b[39;00m \u001b[38;5;129;01mnot\u001b[39;00m \u001b[38;5;28;01mNone\u001b[39;00m\n\u001b[0;32m   1228\u001b[0m f \u001b[38;5;241m=\u001b[39m \u001b[38;5;28mself\u001b[39m\u001b[38;5;241m.\u001b[39mhandles\u001b[38;5;241m.\u001b[39mhandle\n",
      "File \u001b[1;32m~\\anaconda3\\lib\\site-packages\\pandas\\io\\common.py:789\u001b[0m, in \u001b[0;36mget_handle\u001b[1;34m(path_or_buf, mode, encoding, compression, memory_map, is_text, errors, storage_options)\u001b[0m\n\u001b[0;32m    784\u001b[0m \u001b[38;5;28;01melif\u001b[39;00m \u001b[38;5;28misinstance\u001b[39m(handle, \u001b[38;5;28mstr\u001b[39m):\n\u001b[0;32m    785\u001b[0m     \u001b[38;5;66;03m# Check whether the filename is to be opened in binary mode.\u001b[39;00m\n\u001b[0;32m    786\u001b[0m     \u001b[38;5;66;03m# Binary mode does not support 'encoding' and 'newline'.\u001b[39;00m\n\u001b[0;32m    787\u001b[0m     \u001b[38;5;28;01mif\u001b[39;00m ioargs\u001b[38;5;241m.\u001b[39mencoding \u001b[38;5;129;01mand\u001b[39;00m \u001b[38;5;124m\"\u001b[39m\u001b[38;5;124mb\u001b[39m\u001b[38;5;124m\"\u001b[39m \u001b[38;5;129;01mnot\u001b[39;00m \u001b[38;5;129;01min\u001b[39;00m ioargs\u001b[38;5;241m.\u001b[39mmode:\n\u001b[0;32m    788\u001b[0m         \u001b[38;5;66;03m# Encoding\u001b[39;00m\n\u001b[1;32m--> 789\u001b[0m         handle \u001b[38;5;241m=\u001b[39m \u001b[38;5;28;43mopen\u001b[39;49m\u001b[43m(\u001b[49m\n\u001b[0;32m    790\u001b[0m \u001b[43m            \u001b[49m\u001b[43mhandle\u001b[49m\u001b[43m,\u001b[49m\n\u001b[0;32m    791\u001b[0m \u001b[43m            \u001b[49m\u001b[43mioargs\u001b[49m\u001b[38;5;241;43m.\u001b[39;49m\u001b[43mmode\u001b[49m\u001b[43m,\u001b[49m\n\u001b[0;32m    792\u001b[0m \u001b[43m            \u001b[49m\u001b[43mencoding\u001b[49m\u001b[38;5;241;43m=\u001b[39;49m\u001b[43mioargs\u001b[49m\u001b[38;5;241;43m.\u001b[39;49m\u001b[43mencoding\u001b[49m\u001b[43m,\u001b[49m\n\u001b[0;32m    793\u001b[0m \u001b[43m            \u001b[49m\u001b[43merrors\u001b[49m\u001b[38;5;241;43m=\u001b[39;49m\u001b[43merrors\u001b[49m\u001b[43m,\u001b[49m\n\u001b[0;32m    794\u001b[0m \u001b[43m            \u001b[49m\u001b[43mnewline\u001b[49m\u001b[38;5;241;43m=\u001b[39;49m\u001b[38;5;124;43m\"\u001b[39;49m\u001b[38;5;124;43m\"\u001b[39;49m\u001b[43m,\u001b[49m\n\u001b[0;32m    795\u001b[0m \u001b[43m        \u001b[49m\u001b[43m)\u001b[49m\n\u001b[0;32m    796\u001b[0m     \u001b[38;5;28;01melse\u001b[39;00m:\n\u001b[0;32m    797\u001b[0m         \u001b[38;5;66;03m# Binary mode\u001b[39;00m\n\u001b[0;32m    798\u001b[0m         handle \u001b[38;5;241m=\u001b[39m \u001b[38;5;28mopen\u001b[39m(handle, ioargs\u001b[38;5;241m.\u001b[39mmode)\n",
      "\u001b[1;31mFileNotFoundError\u001b[0m: [Errno 2] No such file or directory: '/datasets/real_estate_data.csv'"
     ]
    }
   ],
   "source": [
    "import pandas as pd\n",
    "data = pd.read_csv('/datasets/real_estate_data.csv', sep='\\t')\n",
    "import matplotlib.pyplot as plt \n",
    "import seaborn as sns\n",
    "data_02 = data.copy()\n",
    "\n",
    "display(data.head())"
   ]
  },
  {
   "cell_type": "code",
   "execution_count": null,
   "metadata": {},
   "outputs": [],
   "source": [
    "data.info()"
   ]
  },
  {
   "cell_type": "code",
   "execution_count": null,
   "metadata": {},
   "outputs": [],
   "source": [
    "data.hist(figsize=(15, 20));"
   ]
  },
  {
   "cell_type": "markdown",
   "metadata": {},
   "source": [
    "## Предобработка данных"
   ]
  },
  {
   "cell_type": "code",
   "execution_count": null,
   "metadata": {
    "scrolled": true
   },
   "outputs": [],
   "source": [
    "data.columns"
   ]
  },
  {
   "cell_type": "code",
   "execution_count": null,
   "metadata": {},
   "outputs": [],
   "source": [
    "data = (\n",
    "    data.rename(columns={'cityCenters_nearest' : 'city_centers_nearest',\n",
    "                         'parks_around3000' : 'parks_around_3000',\n",
    "                         'ponds_around3000' : 'ponds_around_3000'})\n",
    ")"
   ]
  },
  {
   "cell_type": "code",
   "execution_count": null,
   "metadata": {},
   "outputs": [],
   "source": [
    "data.columns"
   ]
  },
  {
   "cell_type": "code",
   "execution_count": null,
   "metadata": {
    "scrolled": false
   },
   "outputs": [],
   "source": [
    "data.isna().sum()"
   ]
  },
  {
   "cell_type": "code",
   "execution_count": null,
   "metadata": {},
   "outputs": [],
   "source": [
    "# check\n",
    "# пропущенные значения бары\n",
    "\n",
    "def pass_value_barh(df):\n",
    "    try:\n",
    "        (\n",
    "            (df.isna().mean()*100)\n",
    "            .to_frame()\n",
    "            .rename(columns = {0:'space'})\n",
    "            .query('space > 0')\n",
    "            .sort_values(by = 'space', ascending = True)\n",
    "            .plot(kind= 'barh', figsize=(19,6), rot = -5, legend = False, fontsize = 16)\n",
    "            .set_title('Пример' + \"\\n\", fontsize = 22, color = 'SteelBlue')    \n",
    "        );    \n",
    "    except:\n",
    "        print('пропусков не осталось :) ')"
   ]
  },
  {
   "cell_type": "code",
   "execution_count": null,
   "metadata": {},
   "outputs": [],
   "source": [
    "pass_value_barh(data)"
   ]
  },
  {
   "cell_type": "code",
   "execution_count": null,
   "metadata": {},
   "outputs": [],
   "source": [
    "data['living_area'] = data['living_area'].round(0)\n",
    "data['living_area'] = data['living_area'].fillna(data.groupby('rooms')['living_area'].transform('median'))\n",
    "data['living_area'].sort_values().unique()"
   ]
  },
  {
   "cell_type": "code",
   "execution_count": null,
   "metadata": {
    "scrolled": true
   },
   "outputs": [],
   "source": [
    "data['kitchen_area'] = data['kitchen_area'].round(0)\n",
    "data['kitchen_area'] = data['kitchen_area'].fillna(data.groupby('rooms')['kitchen_area'].transform('median'))\n",
    "data['kitchen_area'].sort_values().unique()\n",
    "#x = data['total_area']*0.9 <= data['living_area'] + data['kitchen_area']\n",
    "#print(x.head(10))"
   ]
  },
  {
   "cell_type": "markdown",
   "metadata": {},
   "source": [
    "- В столбце площадь кухни и жилая площадь пропуски скорее всего из-за невнимательности людей и носят скорее всего полностью случайный характер. "
   ]
  },
  {
   "cell_type": "code",
   "execution_count": null,
   "metadata": {},
   "outputs": [],
   "source": [
    "data.isna().sum()"
   ]
  },
  {
   "cell_type": "code",
   "execution_count": null,
   "metadata": {},
   "outputs": [],
   "source": [
    "# check\n",
    "data[data['total_area']*0.9 <= data['living_area'] + data['kitchen_area']].head()"
   ]
  },
  {
   "cell_type": "code",
   "execution_count": null,
   "metadata": {},
   "outputs": [],
   "source": [
    "data['is_apartment'] = data['is_apartment'].fillna(False)\n",
    "data['is_apartment'].unique()"
   ]
  },
  {
   "cell_type": "markdown",
   "metadata": {},
   "source": [
    "- Здесь скорее всего из за того что в местах где апартаментов нет просто оставляли пропуски, их можно заменить значением False. "
   ]
  },
  {
   "cell_type": "code",
   "execution_count": null,
   "metadata": {},
   "outputs": [],
   "source": [
    "data['balcony'] = data['balcony'].fillna(0)\n",
    "data['balcony'].unique()"
   ]
  },
  {
   "cell_type": "markdown",
   "metadata": {},
   "source": [
    "- Здесь отсутствующие балконы можно заменить на 0, скорее всего люди пропускали этот пункт если балконов у них нет."
   ]
  },
  {
   "cell_type": "code",
   "execution_count": null,
   "metadata": {},
   "outputs": [],
   "source": [
    "data['parks_around_3000'] = data['parks_around_3000'].fillna(0)\n",
    "data['parks_around_3000'].unique()         "
   ]
  },
  {
   "cell_type": "code",
   "execution_count": null,
   "metadata": {},
   "outputs": [],
   "source": [
    "data['ponds_around_3000'] = data['ponds_around_3000'].fillna(0)\n",
    "data['ponds_around_3000'].unique()"
   ]
  },
  {
   "cell_type": "markdown",
   "metadata": {},
   "source": [
    "- Пропуски в колонках число парков и водоемов в радиусе 3 км. можно объяснить их отсутствием и можно заменить на 0. "
   ]
  },
  {
   "cell_type": "code",
   "execution_count": null,
   "metadata": {},
   "outputs": [],
   "source": [
    "data['locality_name'] = data['locality_name'].astype(str)\n",
    "\n",
    "def locality_name_02(name_02, locality_02):\n",
    "    for x in name_02:\n",
    "        data['locality_name'] = data['locality_name'].str.replace(name_02, locality_02)\n",
    "x_1 = 'поселок'\n",
    "name = 'посёлок'\n",
    "locality_name_02(x_1, name)\n",
    "x_4 = 'посёлок городского типа'\n",
    "x_5 = 'городской посёлок'\n",
    "locality_name_02(x_5, x_4)\n"
   ]
  },
  {
   "cell_type": "code",
   "execution_count": null,
   "metadata": {
    "scrolled": false
   },
   "outputs": [],
   "source": [
    "# check\n",
    "data['locality_name'].sort_values().unique()"
   ]
  },
  {
   "cell_type": "code",
   "execution_count": null,
   "metadata": {
    "scrolled": false
   },
   "outputs": [],
   "source": [
    "data['is_apartment'] = data['is_apartment'].astype(bool)\n",
    "data['first_day_exposition'] = pd.to_datetime(data['first_day_exposition'], format='%Y-%m-%dT%H:%M:%S')\n",
    "data.dropna(subset=['floors_total'])\n",
    "data['floors_total'] = data['floors_total'].fillna(0).astype(int)\n",
    "data['floors_total'].value_counts()\n",
    "print(data.groupby('floors_total')['floor'].value_counts())\n",
    "#data.info()"
   ]
  },
  {
   "cell_type": "markdown",
   "metadata": {},
   "source": [
    "- Заменяем в колонке апартаменты с булевыми значениями, дата публикации и этажность дома на соответствующий им тип данных для упрощения с ними работы. "
   ]
  },
  {
   "cell_type": "code",
   "execution_count": null,
   "metadata": {
    "scrolled": true
   },
   "outputs": [],
   "source": [
    "data['ceiling_height'] = data['ceiling_height'].replace(25, 2.5) \n",
    "data['ceiling_height'] = data['ceiling_height'].replace(24, 2.4)\n",
    "data['ceiling_height'] = data['ceiling_height'].replace(26, 2.6)\n",
    "data['ceiling_height'] = data['ceiling_height'].replace(23, 2.3)\n",
    "data['ceiling_height'] = data['ceiling_height'].replace(27, 2.7) \n",
    "data['ceiling_height'] = data['ceiling_height'].replace(28, 2.8)\n",
    "data['ceiling_height'] = data['ceiling_height'].replace(20, 2.0)\n",
    "data['ceiling_height'] = data['ceiling_height'].replace(32, 3.2)\n",
    "data['ceiling_height'] = data['ceiling_height'].replace(14, 1.4)\n",
    "data['ceiling_height'] = data['ceiling_height'].replace(10, 1.0)\n",
    "data['ceiling_height'] = data['ceiling_height'].replace(100, 1.0)\n",
    "data = data.query('ceiling_height != 22.6 and ceiling_height != 10.3 and ceiling_height != 27.5')\n",
    "data['ceiling_height'] = data['ceiling_height'].round(0)\n",
    "print(data['ceiling_height'].value_counts().sort_values())"
   ]
  },
  {
   "cell_type": "markdown",
   "metadata": {},
   "source": [
    "- Здесь большое значение пропусков, наврятли эта толька человечиский фактор так как площить жилья и кухни таких пропусков имеет меньше возможна была техническая ошибка либа сбой, заменить их медианой от какой нибуть другой категории не имеет возможности. Есть выбивающиеся значения которое скорее всего являются опечатками. "
   ]
  },
  {
   "cell_type": "code",
   "execution_count": null,
   "metadata": {
    "scrolled": true
   },
   "outputs": [],
   "source": [
    "# check\n",
    "\n",
    "# Показатели о кол-ве объявлений в датасете, минимальных и максимальных значениях \n",
    "# в выбранных параметрах о продаже квартир\n",
    "# сырые данные\n",
    "\n",
    "(\n",
    "    data[['rooms', 'total_area', 'ceiling_height', 'days_exposition', 'last_price', 'living_area',  'kitchen_area',\n",
    "          'floor', 'floors_total']]\n",
    "    .apply (['count', 'min', 'max'])   \n",
    "    .style.format(\"{:,.2f}\")\n",
    ")"
   ]
  },
  {
   "cell_type": "code",
   "execution_count": null,
   "metadata": {},
   "outputs": [],
   "source": [
    "# check\n",
    "data.rooms.value_counts().to_frame()"
   ]
  },
  {
   "cell_type": "code",
   "execution_count": null,
   "metadata": {
    "scrolled": false
   },
   "outputs": [],
   "source": [
    "# check\n",
    "data.total_area.hist(bins = 150, figsize = (15,3));"
   ]
  },
  {
   "cell_type": "code",
   "execution_count": null,
   "metadata": {
    "scrolled": true
   },
   "outputs": [],
   "source": [
    "# check\n",
    "data.total_area.hist(bins = 150, figsize = (15,3), range = (180,500));"
   ]
  },
  {
   "cell_type": "code",
   "execution_count": null,
   "metadata": {},
   "outputs": [],
   "source": [
    "#Собрал всю работу над редкими и выбивающимися значениями здесь\n",
    "data = data.query('rooms < 7 and rooms !=0')\n",
    "data = data.query('25 < total_area < 200')\n",
    "data = data.query('last_price < 25000000')\n",
    "data = data.query('ceiling_height != 1.0 and ceiling_height != 5.0 and ceiling_height != 6.0 and ceiling_height != 8.0')\n",
    "data = data.query('kitchen_area != 1.0 and kitchen_area != 2.0 and kitchen_area != 3.0')\n",
    "data = data.query('floors_total != 1 and floors_total != 0 and floors_total < 30')\n",
    "data['days_exposition'] = data['days_exposition'].fillna(0)#Заменил все NaN на 0 чтобы сохранить данные и знать какие квартиры еще не проданы \n",
    "data = data.query('days_exposition < 900')\n",
    "import numpy as np\n",
    "data['kitchen_area'] = data['kitchen_area'].fillna(0)\n",
    "data = data.query('kitchen_area < 30')\n",
    "data.loc[data[\"kitchen_area\"] == 0, \"kitchen_area\"] = np.nan\n",
    "data.loc[data[\"days_exposition\"] == 0, \"days_exposition\"] = np.nan\n",
    "#data.isna().sum()\n",
    "data.floors_total.value_counts().to_frame()\n",
    "#data.info()"
   ]
  },
  {
   "cell_type": "code",
   "execution_count": null,
   "metadata": {},
   "outputs": [],
   "source": [
    "# check\n",
    "\n",
    "# Значения параметров объектов недвижимости на разных квантилях\n",
    "\n",
    "(\n",
    "    data[['rooms', 'total_area', 'ceiling_height', 'days_exposition', 'last_price', 'living_area',  \n",
    "        'kitchen_area', 'floor',   'floors_total']]\n",
    "    .quantile([0.01, .5, .90, .9976])  \n",
    "    .style.format(\"{:,.2f}\")\n",
    ")\n",
    "\n",
    "(\n",
    "    data[['rooms', 'total_area', 'ceiling_height', 'days_exposition', 'last_price', 'living_area',  'kitchen_area',\n",
    "          'floor', 'floors_total']]\n",
    "    .apply (['count', 'min', 'max'])   \n",
    "    .style.format(\"{:,.2f}\")\n",
    ")"
   ]
  },
  {
   "cell_type": "code",
   "execution_count": null,
   "metadata": {
    "scrolled": true
   },
   "outputs": [],
   "source": [
    "# check\n",
    "\n",
    "# Показатели о кол-ве объявлений в датасете, минимальных и максимальных значениях \n",
    "# в выбранных параметрах о продаже квартир\n",
    "\n",
    "\n",
    "(\n",
    "    data[['rooms', 'total_area', 'ceiling_height', 'days_exposition', 'last_price', 'living_area',  'kitchen_area',\n",
    "          'floor', 'floors_total']]\n",
    "    .apply (['count', 'min', 'max'])   \n",
    "    .style.format(\"{:,.2f}\")\n",
    ")"
   ]
  },
  {
   "cell_type": "markdown",
   "metadata": {},
   "source": [
    "## Посчитайте и добавьте в таблицу новые столбцы"
   ]
  },
  {
   "cell_type": "code",
   "execution_count": null,
   "metadata": {},
   "outputs": [],
   "source": [
    "data['price_one_square_meter'] = data['last_price'] / data['living_area']\n",
    "data['price_one_square_meter'] = data['price_one_square_meter'].round(1)"
   ]
  },
  {
   "cell_type": "code",
   "execution_count": null,
   "metadata": {},
   "outputs": [],
   "source": [
    "data['weekday'] = pd.DatetimeIndex(data['first_day_exposition']).weekday\n",
    "data['month'] = pd.DatetimeIndex(data['first_day_exposition']).month\n",
    "data[\"year\"] = data[\"first_day_exposition\"].dt.to_period(\"Y\")"
   ]
  },
  {
   "cell_type": "code",
   "execution_count": null,
   "metadata": {},
   "outputs": [],
   "source": [
    "def categorize_floor(row):\n",
    "    floor_01 = row['floor']\n",
    "    floor_02 = row['floors_total']\n",
    "    \n",
    "    try:\n",
    "        if floor_01 == floor_02:\n",
    "            return 'последний'\n",
    "        if floor_01 == 1:\n",
    "            return 'первый'\n",
    "        if floor_01 != floor_02:\n",
    "            return'другой'\n",
    "    except:  \n",
    "        return 'x'\n",
    "data['categorize_floors'] = data.apply(categorize_floor, axis=1)\n",
    "#print(data.loc[:, ['floors_total', 'categorize_floors','floor']].head(60))\n",
    "# Я тут решил проблему проста избавившись от одноэтажных зданий, \n",
    " #их всего 23 значения и не факт что они не попали сюда случайно, по идеи проблемы быть не должно.   "
   ]
  },
  {
   "cell_type": "code",
   "execution_count": null,
   "metadata": {
    "scrolled": true
   },
   "outputs": [],
   "source": [
    "data['city_centers_nearest_km'] = data['city_centers_nearest'] / 1000\n",
    "data['city_centers_nearest_km'] = data['city_centers_nearest_km'].round(0)"
   ]
  },
  {
   "cell_type": "markdown",
   "metadata": {},
   "source": [
    "## Проведите исследовательский анализ данных "
   ]
  },
  {
   "cell_type": "markdown",
   "metadata": {},
   "source": [
    "### Изучение параметров объектов:"
   ]
  },
  {
   "cell_type": "code",
   "execution_count": null,
   "metadata": {
    "scrolled": true
   },
   "outputs": [],
   "source": [
    "fig, ax = plt.subplots()\n",
    "data['total_area'].hist(bins=175, range=(0, 200))\n",
    "ax.set_title('Общая площадь')\n",
    "ax.set_xlabel('Площадь, м²')\n",
    "ax.set_ylabel('Квартиры')\n",
    "plt.show()\n",
    "#print(data['total_area'].describe()) \n",
    "#print(data['total_area'].median())\n",
    "print(data['total_area'].corr(data['living_area']))\n",
    "print(data['total_area'].corr(data['kitchen_area']))\n",
    "print(data['living_area'].corr(data['kitchen_area']))"
   ]
  },
  {
   "cell_type": "markdown",
   "metadata": {},
   "source": []
  },
  {
   "cell_type": "code",
   "execution_count": null,
   "metadata": {},
   "outputs": [],
   "source": [
    "# check\n",
    "data.info()"
   ]
  },
  {
   "cell_type": "code",
   "execution_count": null,
   "metadata": {
    "scrolled": true
   },
   "outputs": [],
   "source": [
    "print(data['living_area'].describe())\n",
    "print(data['living_area'].median())\n",
    "print(data['living_area'].value_counts().sort_values(ascending=False).head(3))"
   ]
  },
  {
   "cell_type": "code",
   "execution_count": null,
   "metadata": {},
   "outputs": [],
   "source": [
    "# check\n",
    "data.shape"
   ]
  },
  {
   "cell_type": "code",
   "execution_count": null,
   "metadata": {},
   "outputs": [],
   "source": [
    "fig, ax = plt.subplots()\n",
    "data['living_area'].hist(bins=100, range=(0, 100))\n",
    "ax.set_title('Жилая площадь')\n",
    "ax.set_xlabel('Площадь, м²')\n",
    "ax.set_ylabel('Квартиры')\n",
    "plt.show()"
   ]
  },
  {
   "cell_type": "code",
   "execution_count": null,
   "metadata": {},
   "outputs": [],
   "source": [
    "fig, ax = plt.subplots()\n",
    "data['kitchen_area'].hist(bins=30, range=(0, 35))\n",
    "ax.set_title('Площадь кухни')\n",
    "ax.set_xlabel('Площадь, м²')\n",
    "ax.set_ylabel('Квартиры')\n",
    "plt.show()\n",
    "print(data['kitchen_area'].median())\n",
    "#data['kitchen_area'].describe()\n"
   ]
  },
  {
   "cell_type": "code",
   "execution_count": null,
   "metadata": {},
   "outputs": [],
   "source": [
    "# check\n",
    "data.shape"
   ]
  },
  {
   "cell_type": "code",
   "execution_count": null,
   "metadata": {
    "scrolled": true
   },
   "outputs": [],
   "source": [
    "data['last_price'] = data['last_price'].round(0)\n",
    "fig, ax = plt.subplots()\n",
    "data['last_price'].hist(bins=10)\n",
    "ax.set_title('Цена на момент снятия с публикации')\n",
    "ax.set_xlabel('Цена')\n",
    "ax.set_ylabel('Квартиры')\n",
    "plt.show()\n",
    "\n",
    "#data['last_price'].describe()"
   ]
  },
  {
   "cell_type": "code",
   "execution_count": null,
   "metadata": {},
   "outputs": [],
   "source": [
    "fig, ax = plt.subplots()\n",
    "data['rooms'].hist(bins=8, range=(1, 8))\n",
    "ax.set_title('Число комнат')\n",
    "ax.set_xlabel('Комнаты')\n",
    "ax.set_ylabel('Квартиры')\n",
    "plt.show()\n",
    "\n",
    "#data['rooms'].describe()"
   ]
  },
  {
   "cell_type": "code",
   "execution_count": null,
   "metadata": {},
   "outputs": [],
   "source": [
    "fig, ax = plt.subplots()\n",
    "data['ceiling_height'].hist(bins=4, range=(1, 5))\n",
    "ax.set_title('Высота потолков')\n",
    "ax.set_xlabel('Высота, м')\n",
    "ax.set_ylabel('Квартиры')\n",
    "plt.show()\n",
    "\n",
    "#data['ceiling_height'].describe()\n",
    "#print(data['ceiling_height'].value_counts())"
   ]
  },
  {
   "cell_type": "code",
   "execution_count": null,
   "metadata": {
    "scrolled": true
   },
   "outputs": [],
   "source": [
    "fig, ax = plt.subplots()\n",
    "data['floor'].hist(bins=25, range=(0, 25))\n",
    "ax.set_title('Этаж квартиры')\n",
    "ax.set_xlabel('Этаж')\n",
    "ax.set_ylabel('Квартиры')\n",
    "plt.show()\n",
    "\n",
    "#data['floor'].describe()\n",
    "#print(data['floor'].value_counts().sort_values())"
   ]
  },
  {
   "cell_type": "code",
   "execution_count": null,
   "metadata": {},
   "outputs": [],
   "source": [
    "fig, ax = plt.subplots()\n",
    "data['floors_total'].hist(bins=30, range=(0, 30))\n",
    "ax.set_title('Всего этажей в доме')\n",
    "ax.set_xlabel('Этаж')\n",
    "ax.set_ylabel('Квартиры')\n",
    "plt.show()\n",
    "data['floors_total'].describe()\n",
    "print(data['floors_total'].median())\n",
    "print(data['floor'].corr(data['floors_total']))"
   ]
  },
  {
   "cell_type": "markdown",
   "metadata": {},
   "source": [
    "- С данными по этажности дома где продаётся квартира сильные искажения, на них лучше не полагаться."
   ]
  },
  {
   "cell_type": "code",
   "execution_count": null,
   "metadata": {
    "scrolled": true
   },
   "outputs": [],
   "source": [
    "fig, ax = plt.subplots()\n",
    "data['categorize_floors'].hist(bins=4, range=(0, 3))\n",
    "ax.set_title('Тип этажа квартиры')\n",
    "ax.set_xlabel('Этаж')\n",
    "ax.set_ylabel('Квартиры')\n",
    "plt.show()\n"
   ]
  },
  {
   "cell_type": "code",
   "execution_count": null,
   "metadata": {},
   "outputs": [],
   "source": [
    "fig, ax = plt.subplots()\n",
    "data['city_centers_nearest_km'].hist(bins=10, range=(1, 100))\n",
    "ax.set_title('Расстояние до центра города')\n",
    "ax.set_xlabel('Расстояние, км')\n",
    "ax.set_ylabel('Квартиры')\n",
    "plt.show()\n",
    "\n",
    "#data['city_centers_nearest_km'].describe()"
   ]
  },
  {
   "cell_type": "code",
   "execution_count": null,
   "metadata": {},
   "outputs": [],
   "source": [
    "fig, ax = plt.subplots()\n",
    "data['airports_nearest'].hist(bins=10, range=(1, 70000))\n",
    "ax.set_title('Расстояние до ближайшего аэропорта ')\n",
    "ax.set_xlabel('Расстояние, м')\n",
    "ax.set_ylabel('Квартиры')\n",
    "plt.show()\n",
    "\n",
    "#data['airports_nearest'].describe()"
   ]
  },
  {
   "cell_type": "code",
   "execution_count": null,
   "metadata": {
    "scrolled": true
   },
   "outputs": [],
   "source": [
    "fig, ax = plt.subplots()\n",
    "data['parks_nearest'].hist(bins=30, range=(1, 1500))\n",
    "ax.set_title('Расстояние до ближайшего парка')\n",
    "ax.set_xlabel('Расстояние, м')\n",
    "ax.set_ylabel('Квартиры')\n",
    "plt.show()\n",
    "\n",
    "#data['parks_nearest'].describe()"
   ]
  },
  {
   "cell_type": "code",
   "execution_count": null,
   "metadata": {
    "scrolled": true
   },
   "outputs": [],
   "source": [
    "fig, ax = plt.subplots()\n",
    "data['ponds_nearest'].hist(bins=15, range=(1, 1200))\n",
    "ax.set_title('Расстояние до ближайшего водоёма')\n",
    "ax.set_xlabel('Расстояние, м')\n",
    "ax.set_ylabel('Квартиры')\n",
    "plt.show()\n"
   ]
  },
  {
   "cell_type": "code",
   "execution_count": null,
   "metadata": {},
   "outputs": [],
   "source": [
    "fig, ax = plt.subplots()\n",
    "data['month'].hist(bins=13, range=(0, 13))\n",
    "ax.set_title('Месяц публикации объявления')\n",
    "ax.set_xlabel('Месяц')\n",
    "ax.set_ylabel('Квартиры')\n",
    "plt.show()"
   ]
  },
  {
   "cell_type": "code",
   "execution_count": null,
   "metadata": {
    "scrolled": true
   },
   "outputs": [],
   "source": [
    "fig, ax = plt.subplots()\n",
    "data['weekday'].hist(bins=7, range=(0, 7))\n",
    "ax.set_title('День недели публикации объявления')\n",
    "ax.set_xlabel('День')\n",
    "ax.set_ylabel('Квартиры')\n",
    "plt.show()\n"
   ]
  },
  {
   "cell_type": "markdown",
   "metadata": {},
   "source": [
    "- Есть проблемы с площадями квартиры, у общей и у жилой площади есть большие просадки и шумы хотя выборка достаточно большая, а у площади кухни таких просадок нет, на гистограмме максимального этажа есть очень большие перепады. Остальные соответствуют нормальному распределению кроме месяца и дня недели, но они скорее зависят от выходных дней и сезона отпусков."
   ]
  },
  {
   "cell_type": "code",
   "execution_count": null,
   "metadata": {
    "scrolled": false
   },
   "outputs": [],
   "source": [
    "# check\n",
    "\n",
    "# Показатели о кол-ве объявлений в датасете, минимальных и максимальных значениях \n",
    "# в выбранных параметрах о продаже квартир\n",
    "# сырые данные\n",
    "\n",
    "(\n",
    "    data[['rooms', 'total_area', 'ceiling_height', 'days_exposition', 'last_price', 'living_area',  'kitchen_area',\n",
    "          'floor', 'floors_total']]\n",
    "    .apply (['count', 'min', 'max'])   \n",
    "    .style.format(\"{:,.2f}\")\n",
    ")"
   ]
  },
  {
   "cell_type": "markdown",
   "metadata": {},
   "source": [
    "### Изучение сколько дней проходит с появления объявления о продаже квартиры:"
   ]
  },
  {
   "cell_type": "code",
   "execution_count": null,
   "metadata": {},
   "outputs": [],
   "source": [
    "data_floor = data.query('floor < 10')\n",
    "floor_exposition = data_floor.pivot_table(index='floor', values='days_exposition')\n",
    "floor_days_exposition_01 = data_floor.pivot_table(index='floor', values='days_exposition', aggfunc='median')\n",
    "floor_exposition.columns = ['days_exposition_mean']\n",
    "floor_days_exposition_01.columns = ['days_exposition_median']\n",
    "floor_exposition_02 = floor_exposition.join(floor_days_exposition_01)\n",
    "floor_exposition_02['days_exposition_mean'] = floor_exposition_02['days_exposition_mean'].round(1)\n",
    "floor_exposition_02.plot(kind='bar', y='days_exposition_median', figsize=(10, 5))\n",
    "display(floor_exposition_02.reset_index().sort_values(by='days_exposition_median'))"
   ]
  },
  {
   "cell_type": "code",
   "execution_count": null,
   "metadata": {},
   "outputs": [],
   "source": [
    "data_floor['days_exposition'].hist()\n",
    "print(data_floor['days_exposition'].describe())\n",
    "print(data_floor['days_exposition'].median())\n"
   ]
  },
  {
   "cell_type": "markdown",
   "metadata": {},
   "source": [
    " - Многие квартиры могут продаваться очень быстра, часта за 3-4 дня, примерна от 100 дней покупки становятся сильно реже и на 800 стремятся к 0. Наиболее быстро продаются 5, 6 и 7 этаж, первый этаж продается дольше всех. После 9 этажа выборка становится значительна меньше и по ним сложна делать выводы. Медиана 94 дня, средняя 163 из-за больших выбросов, чаще всего продажи занимают не более 100 дней. "
   ]
  },
  {
   "cell_type": "code",
   "execution_count": null,
   "metadata": {},
   "outputs": [],
   "source": [
    "# check\n",
    "# Моды на реальных данных\n",
    "\n",
    "try:\n",
    "    df_check = pd.read_csv('real_estate_data.csv', sep='\\t') \n",
    "except:\n",
    "    df_check = pd.read_csv('/datasets/real_estate_data.csv', sep = '\\t')\n",
    "    \n",
    "df_check['days_exposition'].value_counts().to_frame().head(20).plot(kind = 'barh', figsize = (15,6), rot = 0);"
   ]
  },
  {
   "cell_type": "markdown",
   "metadata": {},
   "source": [
    "### Изучение факторов больше всего влияющих на общую стоимость объекта?"
   ]
  },
  {
   "cell_type": "code",
   "execution_count": null,
   "metadata": {
    "scrolled": true
   },
   "outputs": [],
   "source": [
    "last_price_01 = data.pivot_table(index='floor', values=['last_price', 'total_area', 'living_area', 'kitchen_area' ], aggfunc='median')\n",
    "#data.info()\n",
    "print(last_price_01.head(10))"
   ]
  },
  {
   "cell_type": "code",
   "execution_count": null,
   "metadata": {},
   "outputs": [],
   "source": [
    "data.plot(kind='scatter', x='total_area', y='last_price', figsize=(10, 5)) "
   ]
  },
  {
   "cell_type": "code",
   "execution_count": null,
   "metadata": {
    "scrolled": true
   },
   "outputs": [],
   "source": [
    "data.plot(kind='scatter', x='living_area', y='last_price', figsize=(10, 5)); "
   ]
  },
  {
   "cell_type": "code",
   "execution_count": null,
   "metadata": {
    "scrolled": false
   },
   "outputs": [],
   "source": [
    "data.plot(kind='scatter', x='kitchen_area', y='last_price', figsize=(10, 5)) "
   ]
  },
  {
   "cell_type": "markdown",
   "metadata": {},
   "source": [
    "- Цена стоимости по площадям как видна на графиках имеет большой разброс, тут скорее всего есть искажения. Делать конкретные выводы по таким показателям нельзя. Возможна для привлечения внимания намерена завышают площадь квартиры. "
   ]
  },
  {
   "cell_type": "code",
   "execution_count": null,
   "metadata": {
    "scrolled": true
   },
   "outputs": [],
   "source": [
    "last_price_room = data.pivot_table(index='rooms', values=['last_price'], aggfunc='median')\n",
    "#data.plot(kind='scatter', x='rooms', y='last_price', figsize=(10, 5)) \n",
    "last_price_room.plot(kind='bar', y='last_price', figsize=(10, 5));"
   ]
  },
  {
   "cell_type": "markdown",
   "metadata": {},
   "source": [
    "- Чем больше комнат тем больше цена, но из-за разности выборки сложна будет оценить этот разрыв на данных с большим количеством комнат, сравнивать квартиры можно только с одной до четырех комнат."
   ]
  },
  {
   "cell_type": "code",
   "execution_count": null,
   "metadata": {},
   "outputs": [],
   "source": [
    "last_price_01.plot(kind='bar', y='last_price', figsize=(10, 5))"
   ]
  },
  {
   "cell_type": "code",
   "execution_count": null,
   "metadata": {
    "scrolled": false
   },
   "outputs": [],
   "source": [
    "last_price_floors = data.pivot_table(index='categorize_floors', values=['last_price'], aggfunc='median')\n",
    "last_price_floors.plot(kind='bar', y='last_price', figsize=(8, 4));\n",
    "print(last_price_floors) "
   ]
  },
  {
   "cell_type": "markdown",
   "metadata": {},
   "source": [
    "- Первый этаж является самым не популярным, cложна делать выводы по последнему этажу тут есть сильные искажения. "
   ]
  },
  {
   "cell_type": "code",
   "execution_count": null,
   "metadata": {
    "scrolled": false
   },
   "outputs": [],
   "source": [
    "last_price_weekday = data.pivot_table(index='weekday', values=['last_price'], aggfunc='median').reset_index()\n",
    "last_price_month = data.pivot_table(index='month', values=['last_price'], aggfunc='median').reset_index()\n",
    "last_price_year = data.pivot_table(index='year', values=['last_price'], aggfunc='median')\n",
    "groupby_year = data.pivot_table(index='year', values=['last_price'], aggfunc='count')\n",
    "groupby_year.columns = ['count']\n",
    "last_price_year = last_price_year.join(groupby_year).reset_index()\n",
    "last_price_weekday.plot(x='weekday', y='last_price', style='o-', ylim=(4400000, 4750000), grid=True, figsize=(10, 6))\n",
    "display(last_price_weekday.sort_values(by='last_price', ascending=False))"
   ]
  },
  {
   "cell_type": "markdown",
   "metadata": {},
   "source": [
    "- Ближе к выходном дням и на самих выходных люди предпочитают выкладывать предложения с более низкой ценой. Стоимость квартир повышается с понедельника на вторник и дальше снижается."
   ]
  },
  {
   "cell_type": "code",
   "execution_count": null,
   "metadata": {
    "scrolled": true
   },
   "outputs": [],
   "source": [
    "#last_price_month.plot(kind='bar', y='last_price', figsize=(10, 7))\n",
    "display(last_price_month.sort_values(by='last_price', ascending=False).head(10))"
   ]
  },
  {
   "cell_type": "code",
   "execution_count": null,
   "metadata": {},
   "outputs": [],
   "source": [
    "last_price_month.plot(x='month', y='last_price', style='o-',  grid=True, figsize=(10, 6))"
   ]
  },
  {
   "cell_type": "markdown",
   "metadata": {},
   "source": [
    "- К середине года цены сильно проседают, но постепенно возвращаются к своим показателям к концу. Наибольшую цену они имеют в апреле."
   ]
  },
  {
   "cell_type": "code",
   "execution_count": null,
   "metadata": {
    "scrolled": true
   },
   "outputs": [],
   "source": [
    "display(last_price_year.sort_values(by='last_price',  ascending=False))"
   ]
  },
  {
   "cell_type": "code",
   "execution_count": null,
   "metadata": {},
   "outputs": [],
   "source": [
    "last_price_year.plot(x='year', y='last_price', style='o-', xlim=(44, 50), ylim=(3400000, 8382500),  grid=True, figsize=(10, 5));"
   ]
  },
  {
   "cell_type": "markdown",
   "metadata": {},
   "source": [
    "- В 2014 году цены были наиболее высокие, но наблюдений недостаточно нельзя делать окончательные выводы тут нужна больше выборки и дополнительные исследования, наиболее низкие цены были в 2016 году после чего снова начали расти. "
   ]
  },
  {
   "cell_type": "markdown",
   "metadata": {},
   "source": [
    "### Изучение цены одного квадратного метра и числа объявлений."
   ]
  },
  {
   "cell_type": "code",
   "execution_count": null,
   "metadata": {
    "scrolled": true
   },
   "outputs": [],
   "source": [
    "locality_name_median = data.pivot_table(index='locality_name', values='price_one_square_meter', aggfunc='median')\n",
    "locality_name_price = data.pivot_table(index='locality_name', values=['days_exposition'], aggfunc= 'count')\n",
    "locality_name_square_meter = locality_name_median.join(locality_name_price)\n",
    "locality_name_square_meter['price_one_square_meter'] = locality_name_square_meter['price_one_square_meter'].round(1)\n",
    "locality_name_square_meter = locality_name_square_meter.query('days_exposition > 50')\n",
    "display(locality_name_square_meter.sort_values(by='days_exposition', ascending=False).head(10))"
   ]
  },
  {
   "cell_type": "code",
   "execution_count": null,
   "metadata": {},
   "outputs": [],
   "source": [
    "data['price_one_square_meter'].hist(bins=15, range=(0, 800000))"
   ]
  },
  {
   "cell_type": "markdown",
   "metadata": {},
   "source": [
    "- Если брать выборку начиная с 50 то самая низкое стоимостью квадратного метра в Сланцах, а самая высокая в Кудрово. "
   ]
  },
  {
   "cell_type": "markdown",
   "metadata": {},
   "source": [
    "### Изучение зависимости стоимости объектов от расстояния до центра города."
   ]
  },
  {
   "cell_type": "code",
   "execution_count": null,
   "metadata": {},
   "outputs": [],
   "source": [
    "locality_name_centers_01 = (data[data['locality_name'] == 'Санкт-Петербург'])\n",
    "locality_name_centers_sp = locality_name_centers_01.pivot_table(index='city_centers_nearest_km', columns='locality_name', values='price_one_square_meter')\n",
    "locality_name_centers_sp =locality_name_centers_sp.reset_index()\n",
    "locality_name_centers_sp['price_centers_nearest'] = locality_name_centers_sp['Санкт-Петербург'] / locality_name_centers_sp['city_centers_nearest_km']\n",
    "locality_name_centers_sp.rename(columns={'Санкт-Петербург' : 'price_one_square_m'}, inplace = True)\n",
    "locality_name_centers_sp['price_centers_nearest'] = locality_name_centers_sp['price_centers_nearest'].round(1)\n",
    "data_count = data.groupby('city_centers_nearest_km')['city_centers_nearest_km'].count()\n",
    "locality_name_centers_sp['price_one_square_m'] = locality_name_centers_sp['price_one_square_m'].round(1)\n",
    "display(locality_name_centers_sp.sort_values(by='city_centers_nearest_km', ascending=False).head(10))\n",
    "display(data_count.sort_values(ascending=False).head(10))"
   ]
  },
  {
   "cell_type": "code",
   "execution_count": null,
   "metadata": {},
   "outputs": [],
   "source": [
    "locality_name_centers_sp.plot(kind='bar', x='city_centers_nearest_km', y='price_one_square_m', style='o', grid=True, figsize=(12, 6))\n",
    "x = locality_name_centers_sp['price_one_square_m'].median() \n",
    "y = locality_name_centers_sp['city_centers_nearest_km'].median()\n",
    "print(x / y)"
   ]
  },
  {
   "cell_type": "markdown",
   "metadata": {},
   "source": [
    "- Средняя цена километра 13000 за один квадратный метр. Цена квартиры увеличивается по мере приближения к центру, но люди видимо предпочитают все таки покупать квартиры на небольшом удалении нежили прилегающие в плотную к центру. Двадцать седьмой километр сильно выбивается, возможна есть проблемы с самими данными."
   ]
  },
  {
   "cell_type": "markdown",
   "metadata": {},
   "source": [
    "## Общий вывод"
   ]
  },
  {
   "cell_type": "markdown",
   "metadata": {},
   "source": [
    "Из проведённого исследования можно сделать выводы что:\n",
    " - Возможна данные по площади квартиры и максимальному этажу в доме часта искажаются. Нужна обращать внимания на слишком низкие цены и большие площади и то сколько этажей в доме.\n",
    " - На цену сильна влияют количество комнат и удаленность квартиры от центра. Также значение имеет этаж, не популярными являются первые этажи их цена наиболее низкая, сложна сказать являются данные по последним этажам достоверными.\n",
    " - К середине года цены падают, но постепенно возвращаются к своим показателям к концу. Стоимость квартир повышается с понедельника на вторник и дальше снижается.\n",
    " - Наиболее низкие цены были в 2016 году после чего снова начали расти, по 2014 году наблюдений недостаточно, нельзя делать окончательные выводы тут нужна больше выборки и дополнительные исследования.\n",
    " - Больше всего предложений в Санкт-Петербурге, самая низкое стоимостью квадратного метра в Сланцах, а самая высокая в Кудрово."
   ]
  }
 ],
 "metadata": {
  "ExecuteTimeLog": [
   {
    "duration": 457,
    "start_time": "2022-09-21T17:26:34.604Z"
   },
   {
    "duration": 682,
    "start_time": "2022-09-21T17:26:51.052Z"
   },
   {
    "duration": 115,
    "start_time": "2022-09-21T17:32:35.021Z"
   },
   {
    "duration": 101,
    "start_time": "2022-09-21T17:34:38.457Z"
   },
   {
    "duration": 93,
    "start_time": "2022-09-21T17:34:53.927Z"
   },
   {
    "duration": 2197,
    "start_time": "2022-09-22T08:32:54.810Z"
   },
   {
    "duration": 1154,
    "start_time": "2022-09-22T08:33:18.606Z"
   },
   {
    "duration": 1118,
    "start_time": "2022-09-22T08:33:25.673Z"
   },
   {
    "duration": 2229,
    "start_time": "2022-09-22T08:33:37.350Z"
   },
   {
    "duration": 100,
    "start_time": "2022-09-22T08:34:23.646Z"
   },
   {
    "duration": 2178,
    "start_time": "2022-09-22T08:34:28.199Z"
   },
   {
    "duration": 19,
    "start_time": "2022-09-22T08:35:16.506Z"
   },
   {
    "duration": 99,
    "start_time": "2022-09-22T08:35:28.035Z"
   },
   {
    "duration": 9,
    "start_time": "2022-09-22T08:57:24.431Z"
   },
   {
    "duration": 5,
    "start_time": "2022-09-22T09:03:52.848Z"
   },
   {
    "duration": 5,
    "start_time": "2022-09-22T09:04:19.903Z"
   },
   {
    "duration": 10,
    "start_time": "2022-09-22T09:05:45.461Z"
   },
   {
    "duration": 110,
    "start_time": "2022-09-22T09:14:24.335Z"
   },
   {
    "duration": 9,
    "start_time": "2022-09-22T09:26:18.975Z"
   },
   {
    "duration": 158,
    "start_time": "2022-09-22T09:27:17.412Z"
   },
   {
    "duration": 7,
    "start_time": "2022-09-22T09:28:21.168Z"
   },
   {
    "duration": 159,
    "start_time": "2022-09-22T09:28:40.256Z"
   },
   {
    "duration": 7,
    "start_time": "2022-09-22T09:29:04.659Z"
   },
   {
    "duration": 7,
    "start_time": "2022-09-22T09:31:20.163Z"
   },
   {
    "duration": 6,
    "start_time": "2022-09-22T09:31:34.699Z"
   },
   {
    "duration": 7,
    "start_time": "2022-09-22T09:31:44.528Z"
   },
   {
    "duration": 7,
    "start_time": "2022-09-22T09:31:49.253Z"
   },
   {
    "duration": 6,
    "start_time": "2022-09-22T09:31:55.722Z"
   },
   {
    "duration": 7,
    "start_time": "2022-09-22T09:32:24.572Z"
   },
   {
    "duration": 8,
    "start_time": "2022-09-22T09:34:25.499Z"
   },
   {
    "duration": 7,
    "start_time": "2022-09-22T09:34:34.202Z"
   },
   {
    "duration": 17,
    "start_time": "2022-09-22T09:34:41.127Z"
   },
   {
    "duration": 9,
    "start_time": "2022-09-22T09:35:12.319Z"
   },
   {
    "duration": 6,
    "start_time": "2022-09-22T09:35:31.974Z"
   },
   {
    "duration": 9,
    "start_time": "2022-09-22T09:35:41.849Z"
   },
   {
    "duration": 9,
    "start_time": "2022-09-22T09:36:01.404Z"
   },
   {
    "duration": 7,
    "start_time": "2022-09-22T09:36:10.598Z"
   },
   {
    "duration": 6,
    "start_time": "2022-09-22T09:36:26.903Z"
   },
   {
    "duration": 20,
    "start_time": "2022-09-22T09:38:05.119Z"
   },
   {
    "duration": 16,
    "start_time": "2022-09-22T09:38:17.851Z"
   },
   {
    "duration": 134,
    "start_time": "2022-09-22T09:43:23.451Z"
   },
   {
    "duration": 10,
    "start_time": "2022-09-22T09:44:13.696Z"
   },
   {
    "duration": 8,
    "start_time": "2022-09-22T09:44:30.248Z"
   },
   {
    "duration": 7,
    "start_time": "2022-09-22T09:44:45.284Z"
   },
   {
    "duration": 8,
    "start_time": "2022-09-22T09:45:03.583Z"
   },
   {
    "duration": 24,
    "start_time": "2022-09-22T09:47:30.282Z"
   },
   {
    "duration": 13,
    "start_time": "2022-09-22T09:47:56.451Z"
   },
   {
    "duration": 11,
    "start_time": "2022-09-22T09:48:21.577Z"
   },
   {
    "duration": 12,
    "start_time": "2022-09-22T09:48:46.715Z"
   },
   {
    "duration": 12,
    "start_time": "2022-09-22T09:48:49.941Z"
   },
   {
    "duration": 13,
    "start_time": "2022-09-22T09:49:05.820Z"
   },
   {
    "duration": 12,
    "start_time": "2022-09-22T09:49:24.040Z"
   },
   {
    "duration": 11,
    "start_time": "2022-09-22T09:49:42.052Z"
   },
   {
    "duration": 10,
    "start_time": "2022-09-22T09:57:33.758Z"
   },
   {
    "duration": 168,
    "start_time": "2022-09-22T10:00:24.646Z"
   },
   {
    "duration": 171,
    "start_time": "2022-09-22T10:02:41.306Z"
   },
   {
    "duration": 149,
    "start_time": "2022-09-22T10:04:30.760Z"
   },
   {
    "duration": 11,
    "start_time": "2022-09-22T10:06:54.775Z"
   },
   {
    "duration": 11,
    "start_time": "2022-09-22T10:07:51.133Z"
   },
   {
    "duration": 12,
    "start_time": "2022-09-22T10:08:11.488Z"
   },
   {
    "duration": 16,
    "start_time": "2022-09-22T10:09:18.728Z"
   },
   {
    "duration": 10,
    "start_time": "2022-09-22T10:09:34.340Z"
   },
   {
    "duration": 10,
    "start_time": "2022-09-22T10:12:52.278Z"
   },
   {
    "duration": 4,
    "start_time": "2022-09-22T10:13:36.678Z"
   },
   {
    "duration": 11,
    "start_time": "2022-09-22T10:13:46.973Z"
   },
   {
    "duration": 13,
    "start_time": "2022-09-22T10:14:17.244Z"
   },
   {
    "duration": 152,
    "start_time": "2022-09-22T10:14:45.896Z"
   },
   {
    "duration": 133,
    "start_time": "2022-09-22T10:19:09.642Z"
   },
   {
    "duration": 140,
    "start_time": "2022-09-22T10:19:20.647Z"
   },
   {
    "duration": 140,
    "start_time": "2022-09-22T10:19:46.207Z"
   },
   {
    "duration": 12,
    "start_time": "2022-09-22T10:21:03.401Z"
   },
   {
    "duration": 8,
    "start_time": "2022-09-22T10:50:11.494Z"
   },
   {
    "duration": 11,
    "start_time": "2022-09-22T10:51:48.084Z"
   },
   {
    "duration": 11,
    "start_time": "2022-09-22T10:51:55.763Z"
   },
   {
    "duration": 8,
    "start_time": "2022-09-22T10:51:58.693Z"
   },
   {
    "duration": 22,
    "start_time": "2022-09-22T10:52:51.473Z"
   },
   {
    "duration": 7,
    "start_time": "2022-09-22T10:55:06.612Z"
   },
   {
    "duration": 8,
    "start_time": "2022-09-22T10:55:11.451Z"
   },
   {
    "duration": 9,
    "start_time": "2022-09-22T10:55:27.419Z"
   },
   {
    "duration": 8,
    "start_time": "2022-09-22T10:55:33.392Z"
   },
   {
    "duration": 8,
    "start_time": "2022-09-22T10:55:34.647Z"
   },
   {
    "duration": 108,
    "start_time": "2022-09-22T10:55:50.636Z"
   },
   {
    "duration": 22,
    "start_time": "2022-09-22T10:55:54.841Z"
   },
   {
    "duration": 14,
    "start_time": "2022-09-22T10:56:18.173Z"
   },
   {
    "duration": 8,
    "start_time": "2022-09-22T10:56:29.804Z"
   },
   {
    "duration": 28,
    "start_time": "2022-09-22T10:56:37.515Z"
   },
   {
    "duration": 26,
    "start_time": "2022-09-22T10:56:52.926Z"
   },
   {
    "duration": 10,
    "start_time": "2022-09-22T10:57:07.451Z"
   },
   {
    "duration": 62,
    "start_time": "2022-09-22T10:58:43.797Z"
   },
   {
    "duration": 121,
    "start_time": "2022-09-22T10:58:56.178Z"
   },
   {
    "duration": 23,
    "start_time": "2022-09-22T10:59:24.953Z"
   },
   {
    "duration": 10,
    "start_time": "2022-09-22T10:59:35.276Z"
   },
   {
    "duration": 9,
    "start_time": "2022-09-22T10:59:46.350Z"
   },
   {
    "duration": 8,
    "start_time": "2022-09-22T10:59:58.405Z"
   },
   {
    "duration": 10,
    "start_time": "2022-09-22T11:00:01.644Z"
   },
   {
    "duration": 554,
    "start_time": "2022-09-22T11:00:12.799Z"
   },
   {
    "duration": 17,
    "start_time": "2022-09-22T11:00:13.355Z"
   },
   {
    "duration": 2478,
    "start_time": "2022-09-22T11:00:13.374Z"
   },
   {
    "duration": 6,
    "start_time": "2022-09-22T11:00:15.855Z"
   },
   {
    "duration": 15,
    "start_time": "2022-09-22T11:00:15.863Z"
   },
   {
    "duration": 20,
    "start_time": "2022-09-22T11:00:15.880Z"
   },
   {
    "duration": 26,
    "start_time": "2022-09-22T11:00:15.902Z"
   },
   {
    "duration": 10,
    "start_time": "2022-09-22T11:00:15.930Z"
   },
   {
    "duration": 22,
    "start_time": "2022-09-22T11:00:15.942Z"
   },
   {
    "duration": 6,
    "start_time": "2022-09-22T11:00:37.501Z"
   },
   {
    "duration": 17,
    "start_time": "2022-09-22T11:01:27.080Z"
   },
   {
    "duration": 7,
    "start_time": "2022-09-22T11:01:47.200Z"
   },
   {
    "duration": 13,
    "start_time": "2022-09-22T11:02:29.351Z"
   },
   {
    "duration": 7,
    "start_time": "2022-09-22T11:02:38.759Z"
   },
   {
    "duration": 7,
    "start_time": "2022-09-22T11:02:42.440Z"
   },
   {
    "duration": 515,
    "start_time": "2022-09-22T11:02:54.855Z"
   },
   {
    "duration": 18,
    "start_time": "2022-09-22T11:02:55.372Z"
   },
   {
    "duration": 2405,
    "start_time": "2022-09-22T11:02:55.392Z"
   },
   {
    "duration": 21,
    "start_time": "2022-09-22T11:02:57.800Z"
   },
   {
    "duration": 13,
    "start_time": "2022-09-22T11:02:57.825Z"
   },
   {
    "duration": 16,
    "start_time": "2022-09-22T11:02:57.840Z"
   },
   {
    "duration": 16,
    "start_time": "2022-09-22T11:02:57.858Z"
   },
   {
    "duration": 9,
    "start_time": "2022-09-22T11:02:57.876Z"
   },
   {
    "duration": 11,
    "start_time": "2022-09-22T11:02:57.887Z"
   },
   {
    "duration": 5,
    "start_time": "2022-09-22T11:08:14.472Z"
   },
   {
    "duration": 4,
    "start_time": "2022-09-22T11:09:42.789Z"
   },
   {
    "duration": 4,
    "start_time": "2022-09-22T11:09:47.930Z"
   },
   {
    "duration": 8,
    "start_time": "2022-09-22T11:10:02.850Z"
   },
   {
    "duration": 10,
    "start_time": "2022-09-22T11:10:25.334Z"
   },
   {
    "duration": 169,
    "start_time": "2022-09-22T11:12:02.948Z"
   },
   {
    "duration": 8,
    "start_time": "2022-09-22T11:13:14.871Z"
   },
   {
    "duration": 8,
    "start_time": "2022-09-22T11:13:40.550Z"
   },
   {
    "duration": 76,
    "start_time": "2022-09-22T11:17:04.709Z"
   },
   {
    "duration": 47,
    "start_time": "2022-09-22T11:18:40.706Z"
   },
   {
    "duration": 11,
    "start_time": "2022-09-22T11:19:09.900Z"
   },
   {
    "duration": 10,
    "start_time": "2022-09-22T11:19:37.374Z"
   },
   {
    "duration": 7,
    "start_time": "2022-09-22T11:20:37.180Z"
   },
   {
    "duration": 574,
    "start_time": "2022-09-22T11:20:56.736Z"
   },
   {
    "duration": 23,
    "start_time": "2022-09-22T11:20:57.312Z"
   },
   {
    "duration": 2504,
    "start_time": "2022-09-22T11:20:57.337Z"
   },
   {
    "duration": 5,
    "start_time": "2022-09-22T11:20:59.847Z"
   },
   {
    "duration": 30,
    "start_time": "2022-09-22T11:20:59.854Z"
   },
   {
    "duration": 5,
    "start_time": "2022-09-22T11:20:59.886Z"
   },
   {
    "duration": 27,
    "start_time": "2022-09-22T11:20:59.893Z"
   },
   {
    "duration": 10,
    "start_time": "2022-09-22T11:20:59.922Z"
   },
   {
    "duration": 8,
    "start_time": "2022-09-22T11:20:59.933Z"
   },
   {
    "duration": 7,
    "start_time": "2022-09-22T11:21:11.745Z"
   },
   {
    "duration": 7,
    "start_time": "2022-09-22T11:21:34.134Z"
   },
   {
    "duration": 536,
    "start_time": "2022-09-22T11:21:49.892Z"
   },
   {
    "duration": 20,
    "start_time": "2022-09-22T11:21:50.431Z"
   },
   {
    "duration": 2352,
    "start_time": "2022-09-22T11:21:50.453Z"
   },
   {
    "duration": 5,
    "start_time": "2022-09-22T11:21:52.807Z"
   },
   {
    "duration": 24,
    "start_time": "2022-09-22T11:21:52.821Z"
   },
   {
    "duration": 18,
    "start_time": "2022-09-22T11:21:52.847Z"
   },
   {
    "duration": 25,
    "start_time": "2022-09-22T11:21:52.868Z"
   },
   {
    "duration": 16,
    "start_time": "2022-09-22T11:21:52.894Z"
   },
   {
    "duration": 26,
    "start_time": "2022-09-22T11:21:52.912Z"
   },
   {
    "duration": 6,
    "start_time": "2022-09-22T11:22:20.238Z"
   },
   {
    "duration": 9,
    "start_time": "2022-09-22T11:22:32.189Z"
   },
   {
    "duration": 87,
    "start_time": "2022-09-22T11:34:55.336Z"
   },
   {
    "duration": 9,
    "start_time": "2022-09-22T11:35:20.150Z"
   },
   {
    "duration": 9,
    "start_time": "2022-09-22T11:36:28.354Z"
   },
   {
    "duration": 7,
    "start_time": "2022-09-22T11:37:08.390Z"
   },
   {
    "duration": 10,
    "start_time": "2022-09-22T11:38:53.457Z"
   },
   {
    "duration": 14,
    "start_time": "2022-09-22T11:39:37.533Z"
   },
   {
    "duration": 9,
    "start_time": "2022-09-22T11:40:03.103Z"
   },
   {
    "duration": 10,
    "start_time": "2022-09-22T11:40:23.531Z"
   },
   {
    "duration": 522,
    "start_time": "2022-09-22T11:40:37.026Z"
   },
   {
    "duration": 16,
    "start_time": "2022-09-22T11:40:37.551Z"
   },
   {
    "duration": 2484,
    "start_time": "2022-09-22T11:40:37.568Z"
   },
   {
    "duration": 5,
    "start_time": "2022-09-22T11:40:40.054Z"
   },
   {
    "duration": 25,
    "start_time": "2022-09-22T11:40:40.061Z"
   },
   {
    "duration": 31,
    "start_time": "2022-09-22T11:40:40.088Z"
   },
   {
    "duration": 32,
    "start_time": "2022-09-22T11:40:40.120Z"
   },
   {
    "duration": 26,
    "start_time": "2022-09-22T11:40:40.154Z"
   },
   {
    "duration": 26,
    "start_time": "2022-09-22T11:40:40.182Z"
   },
   {
    "duration": 7,
    "start_time": "2022-09-22T11:41:07.703Z"
   },
   {
    "duration": 8,
    "start_time": "2022-09-22T11:41:12.890Z"
   },
   {
    "duration": 564,
    "start_time": "2022-09-22T11:41:20.496Z"
   },
   {
    "duration": 17,
    "start_time": "2022-09-22T11:41:21.063Z"
   },
   {
    "duration": 2426,
    "start_time": "2022-09-22T11:41:21.082Z"
   },
   {
    "duration": 11,
    "start_time": "2022-09-22T11:41:23.510Z"
   },
   {
    "duration": 39,
    "start_time": "2022-09-22T11:41:23.523Z"
   },
   {
    "duration": 37,
    "start_time": "2022-09-22T11:41:23.564Z"
   },
   {
    "duration": 28,
    "start_time": "2022-09-22T11:41:23.602Z"
   },
   {
    "duration": 29,
    "start_time": "2022-09-22T11:41:23.632Z"
   },
   {
    "duration": 48,
    "start_time": "2022-09-22T11:41:23.663Z"
   },
   {
    "duration": 515,
    "start_time": "2022-09-22T11:41:51.852Z"
   },
   {
    "duration": 16,
    "start_time": "2022-09-22T11:41:52.370Z"
   },
   {
    "duration": 2439,
    "start_time": "2022-09-22T11:41:52.387Z"
   },
   {
    "duration": 6,
    "start_time": "2022-09-22T11:41:54.829Z"
   },
   {
    "duration": 27,
    "start_time": "2022-09-22T11:41:54.837Z"
   },
   {
    "duration": 7,
    "start_time": "2022-09-22T11:41:54.867Z"
   },
   {
    "duration": 16,
    "start_time": "2022-09-22T11:41:54.876Z"
   },
   {
    "duration": 87,
    "start_time": "2022-09-22T11:41:54.894Z"
   },
   {
    "duration": 0,
    "start_time": "2022-09-22T11:41:54.983Z"
   },
   {
    "duration": 18,
    "start_time": "2022-09-22T11:42:19.097Z"
   },
   {
    "duration": 561,
    "start_time": "2022-09-22T11:42:28.330Z"
   },
   {
    "duration": 17,
    "start_time": "2022-09-22T11:42:28.893Z"
   },
   {
    "duration": 2388,
    "start_time": "2022-09-22T11:42:28.921Z"
   },
   {
    "duration": 11,
    "start_time": "2022-09-22T11:42:31.311Z"
   },
   {
    "duration": 37,
    "start_time": "2022-09-22T11:42:31.325Z"
   },
   {
    "duration": 22,
    "start_time": "2022-09-22T11:42:31.364Z"
   },
   {
    "duration": 53,
    "start_time": "2022-09-22T11:42:31.387Z"
   },
   {
    "duration": 90,
    "start_time": "2022-09-22T11:42:31.441Z"
   },
   {
    "duration": 0,
    "start_time": "2022-09-22T11:42:31.533Z"
   },
   {
    "duration": 14,
    "start_time": "2022-09-22T11:42:51.333Z"
   },
   {
    "duration": 12,
    "start_time": "2022-09-22T11:44:34.513Z"
   },
   {
    "duration": 12,
    "start_time": "2022-09-22T11:44:52.916Z"
   },
   {
    "duration": 12,
    "start_time": "2022-09-22T11:44:56.432Z"
   },
   {
    "duration": 523,
    "start_time": "2022-09-22T11:45:04.827Z"
   },
   {
    "duration": 16,
    "start_time": "2022-09-22T11:45:05.353Z"
   },
   {
    "duration": 2374,
    "start_time": "2022-09-22T11:45:05.371Z"
   },
   {
    "duration": 5,
    "start_time": "2022-09-22T11:45:07.747Z"
   },
   {
    "duration": 18,
    "start_time": "2022-09-22T11:45:07.755Z"
   },
   {
    "duration": 28,
    "start_time": "2022-09-22T11:45:07.774Z"
   },
   {
    "duration": 31,
    "start_time": "2022-09-22T11:45:07.804Z"
   },
   {
    "duration": 14,
    "start_time": "2022-09-22T11:45:07.837Z"
   },
   {
    "duration": 14,
    "start_time": "2022-09-22T11:45:07.854Z"
   },
   {
    "duration": 12,
    "start_time": "2022-09-22T11:46:40.051Z"
   },
   {
    "duration": 13,
    "start_time": "2022-09-22T11:48:44.892Z"
   },
   {
    "duration": 14,
    "start_time": "2022-09-22T11:49:47.649Z"
   },
   {
    "duration": 14,
    "start_time": "2022-09-22T11:50:06.739Z"
   },
   {
    "duration": 531,
    "start_time": "2022-09-22T11:50:16.184Z"
   },
   {
    "duration": 17,
    "start_time": "2022-09-22T11:50:16.718Z"
   },
   {
    "duration": 2486,
    "start_time": "2022-09-22T11:50:16.738Z"
   },
   {
    "duration": 8,
    "start_time": "2022-09-22T11:50:19.228Z"
   },
   {
    "duration": 32,
    "start_time": "2022-09-22T11:50:19.238Z"
   },
   {
    "duration": 5,
    "start_time": "2022-09-22T11:50:19.272Z"
   },
   {
    "duration": 15,
    "start_time": "2022-09-22T11:50:19.279Z"
   },
   {
    "duration": 17,
    "start_time": "2022-09-22T11:50:19.295Z"
   },
   {
    "duration": 14,
    "start_time": "2022-09-22T11:50:19.314Z"
   },
   {
    "duration": 23,
    "start_time": "2022-09-22T11:51:16.325Z"
   },
   {
    "duration": 595,
    "start_time": "2022-09-22T11:53:57.312Z"
   },
   {
    "duration": 27,
    "start_time": "2022-09-22T11:53:57.910Z"
   },
   {
    "duration": 2566,
    "start_time": "2022-09-22T11:53:57.940Z"
   },
   {
    "duration": 14,
    "start_time": "2022-09-22T11:54:00.508Z"
   },
   {
    "duration": 20,
    "start_time": "2022-09-22T11:54:00.525Z"
   },
   {
    "duration": 25,
    "start_time": "2022-09-22T11:54:00.547Z"
   },
   {
    "duration": 88,
    "start_time": "2022-09-22T11:54:00.574Z"
   },
   {
    "duration": 42,
    "start_time": "2022-09-22T11:54:00.664Z"
   },
   {
    "duration": 47,
    "start_time": "2022-09-22T11:54:00.708Z"
   },
   {
    "duration": 8,
    "start_time": "2022-09-22T11:54:32.970Z"
   },
   {
    "duration": 16,
    "start_time": "2022-09-22T11:59:28.868Z"
   },
   {
    "duration": 11,
    "start_time": "2022-09-22T12:00:23.497Z"
   },
   {
    "duration": 14,
    "start_time": "2022-09-22T12:00:48.751Z"
   },
   {
    "duration": 14,
    "start_time": "2022-09-22T12:01:00.632Z"
   },
   {
    "duration": 9,
    "start_time": "2022-09-22T12:01:15.535Z"
   },
   {
    "duration": 524,
    "start_time": "2022-09-22T12:01:22.689Z"
   },
   {
    "duration": 21,
    "start_time": "2022-09-22T12:01:23.215Z"
   },
   {
    "duration": 2369,
    "start_time": "2022-09-22T12:01:23.238Z"
   },
   {
    "duration": 14,
    "start_time": "2022-09-22T12:01:25.611Z"
   },
   {
    "duration": 21,
    "start_time": "2022-09-22T12:01:25.627Z"
   },
   {
    "duration": 8,
    "start_time": "2022-09-22T12:01:25.650Z"
   },
   {
    "duration": 16,
    "start_time": "2022-09-22T12:01:25.660Z"
   },
   {
    "duration": 15,
    "start_time": "2022-09-22T12:01:25.678Z"
   },
   {
    "duration": 27,
    "start_time": "2022-09-22T12:01:25.695Z"
   },
   {
    "duration": 8,
    "start_time": "2022-09-22T12:01:54.010Z"
   },
   {
    "duration": 12,
    "start_time": "2022-09-22T12:02:06.986Z"
   },
   {
    "duration": 14,
    "start_time": "2022-09-22T12:02:32.456Z"
   },
   {
    "duration": 7,
    "start_time": "2022-09-22T12:02:35.378Z"
   },
   {
    "duration": 7,
    "start_time": "2022-09-22T12:06:30.669Z"
   },
   {
    "duration": 13,
    "start_time": "2022-09-22T12:06:47.022Z"
   },
   {
    "duration": 13,
    "start_time": "2022-09-22T12:06:56.458Z"
   },
   {
    "duration": 606,
    "start_time": "2022-09-22T12:07:06.192Z"
   },
   {
    "duration": 29,
    "start_time": "2022-09-22T12:07:06.800Z"
   },
   {
    "duration": 3041,
    "start_time": "2022-09-22T12:07:06.831Z"
   },
   {
    "duration": 5,
    "start_time": "2022-09-22T12:07:09.874Z"
   },
   {
    "duration": 13,
    "start_time": "2022-09-22T12:07:09.881Z"
   },
   {
    "duration": 4,
    "start_time": "2022-09-22T12:07:09.896Z"
   },
   {
    "duration": 14,
    "start_time": "2022-09-22T12:07:09.920Z"
   },
   {
    "duration": 20,
    "start_time": "2022-09-22T12:07:09.937Z"
   },
   {
    "duration": 8,
    "start_time": "2022-09-22T12:07:09.959Z"
   },
   {
    "duration": 12,
    "start_time": "2022-09-22T12:07:09.970Z"
   },
   {
    "duration": 13,
    "start_time": "2022-09-22T12:07:24.558Z"
   },
   {
    "duration": 21,
    "start_time": "2022-09-22T12:07:44.549Z"
   },
   {
    "duration": 7,
    "start_time": "2022-09-22T12:11:04.867Z"
   },
   {
    "duration": 12,
    "start_time": "2022-09-22T12:12:01.836Z"
   },
   {
    "duration": 585,
    "start_time": "2022-09-22T12:12:12.424Z"
   },
   {
    "duration": 33,
    "start_time": "2022-09-22T12:12:13.011Z"
   },
   {
    "duration": 3416,
    "start_time": "2022-09-22T12:12:13.046Z"
   },
   {
    "duration": 6,
    "start_time": "2022-09-22T12:12:16.464Z"
   },
   {
    "duration": 13,
    "start_time": "2022-09-22T12:12:16.472Z"
   },
   {
    "duration": 7,
    "start_time": "2022-09-22T12:12:16.487Z"
   },
   {
    "duration": 35,
    "start_time": "2022-09-22T12:12:16.496Z"
   },
   {
    "duration": 27,
    "start_time": "2022-09-22T12:12:16.533Z"
   },
   {
    "duration": 18,
    "start_time": "2022-09-22T12:12:16.562Z"
   },
   {
    "duration": 13,
    "start_time": "2022-09-22T12:12:16.582Z"
   },
   {
    "duration": 24,
    "start_time": "2022-09-22T12:12:16.597Z"
   },
   {
    "duration": 9,
    "start_time": "2022-09-22T12:14:25.674Z"
   },
   {
    "duration": 85,
    "start_time": "2022-09-22T12:15:34.057Z"
   },
   {
    "duration": 12,
    "start_time": "2022-09-22T12:15:50.158Z"
   },
   {
    "duration": 11,
    "start_time": "2022-09-22T12:16:18.156Z"
   },
   {
    "duration": 8,
    "start_time": "2022-09-22T12:16:26.453Z"
   },
   {
    "duration": 515,
    "start_time": "2022-09-22T12:16:37.868Z"
   },
   {
    "duration": 17,
    "start_time": "2022-09-22T12:16:38.386Z"
   },
   {
    "duration": 2628,
    "start_time": "2022-09-22T12:16:38.406Z"
   },
   {
    "duration": 5,
    "start_time": "2022-09-22T12:16:41.036Z"
   },
   {
    "duration": 20,
    "start_time": "2022-09-22T12:16:41.044Z"
   },
   {
    "duration": 6,
    "start_time": "2022-09-22T12:16:41.065Z"
   },
   {
    "duration": 18,
    "start_time": "2022-09-22T12:16:41.073Z"
   },
   {
    "duration": 35,
    "start_time": "2022-09-22T12:16:41.093Z"
   },
   {
    "duration": 10,
    "start_time": "2022-09-22T12:16:41.130Z"
   },
   {
    "duration": 13,
    "start_time": "2022-09-22T12:16:41.142Z"
   },
   {
    "duration": 10,
    "start_time": "2022-09-22T12:16:41.157Z"
   },
   {
    "duration": 12,
    "start_time": "2022-09-22T12:17:30.106Z"
   },
   {
    "duration": 5,
    "start_time": "2022-09-22T12:19:06.179Z"
   },
   {
    "duration": 10,
    "start_time": "2022-09-22T12:19:19.258Z"
   },
   {
    "duration": 7,
    "start_time": "2022-09-22T12:20:14.336Z"
   },
   {
    "duration": 6,
    "start_time": "2022-09-22T12:29:55.345Z"
   },
   {
    "duration": 6,
    "start_time": "2022-09-22T12:35:34.302Z"
   },
   {
    "duration": 6,
    "start_time": "2022-09-22T12:36:19.118Z"
   },
   {
    "duration": 6,
    "start_time": "2022-09-22T12:36:40.782Z"
   },
   {
    "duration": 7,
    "start_time": "2022-09-22T12:47:33.994Z"
   },
   {
    "duration": 12,
    "start_time": "2022-09-22T12:48:41.624Z"
   },
   {
    "duration": 11,
    "start_time": "2022-09-22T12:51:24.278Z"
   },
   {
    "duration": 7,
    "start_time": "2022-09-22T12:53:34.306Z"
   },
   {
    "duration": 594,
    "start_time": "2022-09-22T12:53:40.019Z"
   },
   {
    "duration": 26,
    "start_time": "2022-09-22T12:53:40.615Z"
   },
   {
    "duration": 2494,
    "start_time": "2022-09-22T12:53:40.644Z"
   },
   {
    "duration": 5,
    "start_time": "2022-09-22T12:53:43.141Z"
   },
   {
    "duration": 24,
    "start_time": "2022-09-22T12:53:43.148Z"
   },
   {
    "duration": 24,
    "start_time": "2022-09-22T12:53:43.174Z"
   },
   {
    "duration": 50,
    "start_time": "2022-09-22T12:53:43.200Z"
   },
   {
    "duration": 29,
    "start_time": "2022-09-22T12:53:43.253Z"
   },
   {
    "duration": 9,
    "start_time": "2022-09-22T12:53:43.284Z"
   },
   {
    "duration": 31,
    "start_time": "2022-09-22T12:53:43.296Z"
   },
   {
    "duration": 20,
    "start_time": "2022-09-22T12:53:43.329Z"
   },
   {
    "duration": 25,
    "start_time": "2022-09-22T12:53:43.352Z"
   },
   {
    "duration": 9,
    "start_time": "2022-09-22T12:53:43.380Z"
   },
   {
    "duration": 26,
    "start_time": "2022-09-22T12:53:43.391Z"
   },
   {
    "duration": 38,
    "start_time": "2022-09-22T12:53:43.419Z"
   },
   {
    "duration": 5,
    "start_time": "2022-09-22T12:55:11.025Z"
   },
   {
    "duration": 17,
    "start_time": "2022-09-22T12:55:28.213Z"
   },
   {
    "duration": 12,
    "start_time": "2022-09-22T12:55:53.961Z"
   },
   {
    "duration": 88,
    "start_time": "2022-09-22T13:00:03.129Z"
   },
   {
    "duration": 13,
    "start_time": "2022-09-22T13:00:16.838Z"
   },
   {
    "duration": 13,
    "start_time": "2022-09-22T13:00:43.616Z"
   },
   {
    "duration": 19,
    "start_time": "2022-09-22T13:16:57.360Z"
   },
   {
    "duration": 154,
    "start_time": "2022-09-22T13:19:58.450Z"
   },
   {
    "duration": 20,
    "start_time": "2022-09-22T13:21:16.781Z"
   },
   {
    "duration": 16,
    "start_time": "2022-09-22T13:21:20.132Z"
   },
   {
    "duration": 12,
    "start_time": "2022-09-22T13:21:36.880Z"
   },
   {
    "duration": 559,
    "start_time": "2022-09-22T13:21:42.985Z"
   },
   {
    "duration": 22,
    "start_time": "2022-09-22T13:21:43.546Z"
   },
   {
    "duration": 2851,
    "start_time": "2022-09-22T13:21:43.571Z"
   },
   {
    "duration": 7,
    "start_time": "2022-09-22T13:21:46.424Z"
   },
   {
    "duration": 11,
    "start_time": "2022-09-22T13:21:46.435Z"
   },
   {
    "duration": 8,
    "start_time": "2022-09-22T13:21:46.448Z"
   },
   {
    "duration": 15,
    "start_time": "2022-09-22T13:21:46.458Z"
   },
   {
    "duration": 49,
    "start_time": "2022-09-22T13:21:46.475Z"
   },
   {
    "duration": 9,
    "start_time": "2022-09-22T13:21:46.527Z"
   },
   {
    "duration": 23,
    "start_time": "2022-09-22T13:21:46.538Z"
   },
   {
    "duration": 13,
    "start_time": "2022-09-22T13:21:46.563Z"
   },
   {
    "duration": 18,
    "start_time": "2022-09-22T13:21:46.578Z"
   },
   {
    "duration": 25,
    "start_time": "2022-09-22T13:21:46.598Z"
   },
   {
    "duration": 13,
    "start_time": "2022-09-22T13:21:46.626Z"
   },
   {
    "duration": 27,
    "start_time": "2022-09-22T13:21:46.641Z"
   },
   {
    "duration": 17,
    "start_time": "2022-09-22T13:22:38.480Z"
   },
   {
    "duration": 19,
    "start_time": "2022-09-22T13:22:49.070Z"
   },
   {
    "duration": 14,
    "start_time": "2022-09-22T13:23:06.182Z"
   },
   {
    "duration": 14,
    "start_time": "2022-09-22T13:34:31.537Z"
   },
   {
    "duration": 16,
    "start_time": "2022-09-22T13:34:45.140Z"
   },
   {
    "duration": 16,
    "start_time": "2022-09-22T13:35:02.665Z"
   },
   {
    "duration": 14,
    "start_time": "2022-09-22T13:35:42.740Z"
   },
   {
    "duration": 8,
    "start_time": "2022-09-22T13:37:26.056Z"
   },
   {
    "duration": 19,
    "start_time": "2022-09-22T13:38:49.783Z"
   },
   {
    "duration": 87,
    "start_time": "2022-09-22T13:39:34.000Z"
   },
   {
    "duration": 23,
    "start_time": "2022-09-22T13:39:47.504Z"
   },
   {
    "duration": 22,
    "start_time": "2022-09-22T13:40:01.635Z"
   },
   {
    "duration": 25,
    "start_time": "2022-09-22T13:40:36.349Z"
   },
   {
    "duration": 58,
    "start_time": "2022-09-22T13:41:44.668Z"
   },
   {
    "duration": 39,
    "start_time": "2022-09-22T13:42:11.373Z"
   },
   {
    "duration": 42,
    "start_time": "2022-09-22T13:43:16.040Z"
   },
   {
    "duration": 30,
    "start_time": "2022-09-22T13:43:22.445Z"
   },
   {
    "duration": 22,
    "start_time": "2022-09-22T13:43:43.491Z"
   },
   {
    "duration": 14,
    "start_time": "2022-09-22T13:43:54.488Z"
   },
   {
    "duration": 20,
    "start_time": "2022-09-22T13:45:18.087Z"
   },
   {
    "duration": 7,
    "start_time": "2022-09-22T13:51:14.345Z"
   },
   {
    "duration": 587,
    "start_time": "2022-09-22T13:51:21.614Z"
   },
   {
    "duration": 22,
    "start_time": "2022-09-22T13:51:22.203Z"
   },
   {
    "duration": 2308,
    "start_time": "2022-09-22T13:51:22.227Z"
   },
   {
    "duration": 5,
    "start_time": "2022-09-22T13:51:24.537Z"
   },
   {
    "duration": 16,
    "start_time": "2022-09-22T13:51:24.544Z"
   },
   {
    "duration": 5,
    "start_time": "2022-09-22T13:51:24.562Z"
   },
   {
    "duration": 13,
    "start_time": "2022-09-22T13:51:24.569Z"
   },
   {
    "duration": 12,
    "start_time": "2022-09-22T13:51:24.584Z"
   },
   {
    "duration": 28,
    "start_time": "2022-09-22T13:51:24.597Z"
   },
   {
    "duration": 10,
    "start_time": "2022-09-22T13:51:24.627Z"
   },
   {
    "duration": 8,
    "start_time": "2022-09-22T13:51:24.639Z"
   },
   {
    "duration": 11,
    "start_time": "2022-09-22T13:51:24.649Z"
   },
   {
    "duration": 6,
    "start_time": "2022-09-22T13:51:24.661Z"
   },
   {
    "duration": 6,
    "start_time": "2022-09-22T13:51:24.669Z"
   },
   {
    "duration": 46,
    "start_time": "2022-09-22T13:51:24.676Z"
   },
   {
    "duration": 86,
    "start_time": "2022-09-22T14:08:09.089Z"
   },
   {
    "duration": 12,
    "start_time": "2022-09-22T14:08:39.104Z"
   },
   {
    "duration": 19,
    "start_time": "2022-09-22T14:08:58.623Z"
   },
   {
    "duration": 134,
    "start_time": "2022-09-22T14:13:18.127Z"
   },
   {
    "duration": 121,
    "start_time": "2022-09-22T14:13:55.749Z"
   },
   {
    "duration": 15,
    "start_time": "2022-09-22T14:18:31.113Z"
   },
   {
    "duration": 10,
    "start_time": "2022-09-22T14:20:00.011Z"
   },
   {
    "duration": 10,
    "start_time": "2022-09-22T14:23:07.608Z"
   },
   {
    "duration": 613,
    "start_time": "2022-09-22T14:23:33.926Z"
   },
   {
    "duration": 21,
    "start_time": "2022-09-22T14:23:34.542Z"
   },
   {
    "duration": 2363,
    "start_time": "2022-09-22T14:23:34.564Z"
   },
   {
    "duration": 5,
    "start_time": "2022-09-22T14:23:36.930Z"
   },
   {
    "duration": 13,
    "start_time": "2022-09-22T14:23:36.937Z"
   },
   {
    "duration": 5,
    "start_time": "2022-09-22T14:23:36.952Z"
   },
   {
    "duration": 15,
    "start_time": "2022-09-22T14:23:36.959Z"
   },
   {
    "duration": 12,
    "start_time": "2022-09-22T14:23:36.975Z"
   },
   {
    "duration": 14,
    "start_time": "2022-09-22T14:23:37.020Z"
   },
   {
    "duration": 11,
    "start_time": "2022-09-22T14:23:37.037Z"
   },
   {
    "duration": 13,
    "start_time": "2022-09-22T14:23:37.050Z"
   },
   {
    "duration": 8,
    "start_time": "2022-09-22T14:23:37.065Z"
   },
   {
    "duration": 8,
    "start_time": "2022-09-22T14:23:37.075Z"
   },
   {
    "duration": 37,
    "start_time": "2022-09-22T14:23:37.085Z"
   },
   {
    "duration": 20,
    "start_time": "2022-09-22T14:23:37.124Z"
   },
   {
    "duration": 12,
    "start_time": "2022-09-22T14:23:37.146Z"
   },
   {
    "duration": 7,
    "start_time": "2022-09-22T14:38:14.348Z"
   },
   {
    "duration": 10,
    "start_time": "2022-09-22T14:38:17.049Z"
   },
   {
    "duration": 11,
    "start_time": "2022-09-22T14:49:55.238Z"
   },
   {
    "duration": 19,
    "start_time": "2022-09-22T14:53:56.419Z"
   },
   {
    "duration": 18,
    "start_time": "2022-09-22T14:54:14.092Z"
   },
   {
    "duration": 2,
    "start_time": "2022-09-22T14:55:46.977Z"
   },
   {
    "duration": 53,
    "start_time": "2022-09-22T14:59:07.800Z"
   },
   {
    "duration": 35,
    "start_time": "2022-09-22T14:59:19.758Z"
   },
   {
    "duration": 33,
    "start_time": "2022-09-22T14:59:24.075Z"
   },
   {
    "duration": 39,
    "start_time": "2022-09-22T14:59:46.015Z"
   },
   {
    "duration": 18,
    "start_time": "2022-09-22T15:01:19.773Z"
   },
   {
    "duration": 5,
    "start_time": "2022-09-22T15:05:04.601Z"
   },
   {
    "duration": 14,
    "start_time": "2022-09-22T15:07:52.745Z"
   },
   {
    "duration": 11,
    "start_time": "2022-09-22T15:07:55.845Z"
   },
   {
    "duration": 13,
    "start_time": "2022-09-22T15:08:10.911Z"
   },
   {
    "duration": 86,
    "start_time": "2022-09-22T15:08:43.575Z"
   },
   {
    "duration": 11,
    "start_time": "2022-09-22T15:09:26.112Z"
   },
   {
    "duration": 12,
    "start_time": "2022-09-22T15:12:11.363Z"
   },
   {
    "duration": 11,
    "start_time": "2022-09-22T15:12:18.900Z"
   },
   {
    "duration": 11,
    "start_time": "2022-09-22T15:12:41.087Z"
   },
   {
    "duration": 18,
    "start_time": "2022-09-22T15:17:05.293Z"
   },
   {
    "duration": 16,
    "start_time": "2022-09-22T15:17:36.740Z"
   },
   {
    "duration": 20,
    "start_time": "2022-09-22T15:17:56.983Z"
   },
   {
    "duration": 21,
    "start_time": "2022-09-22T15:20:07.962Z"
   },
   {
    "duration": 24,
    "start_time": "2022-09-22T15:20:40.840Z"
   },
   {
    "duration": 24,
    "start_time": "2022-09-22T15:21:09.910Z"
   },
   {
    "duration": 24,
    "start_time": "2022-09-22T15:21:24.180Z"
   },
   {
    "duration": 523,
    "start_time": "2022-09-22T15:21:42.766Z"
   },
   {
    "duration": 18,
    "start_time": "2022-09-22T15:21:43.292Z"
   },
   {
    "duration": 2453,
    "start_time": "2022-09-22T15:21:43.320Z"
   },
   {
    "duration": 4,
    "start_time": "2022-09-22T15:21:45.775Z"
   },
   {
    "duration": 32,
    "start_time": "2022-09-22T15:21:45.781Z"
   },
   {
    "duration": 34,
    "start_time": "2022-09-22T15:21:45.815Z"
   },
   {
    "duration": 58,
    "start_time": "2022-09-22T15:21:45.851Z"
   },
   {
    "duration": 39,
    "start_time": "2022-09-22T15:21:45.911Z"
   },
   {
    "duration": 51,
    "start_time": "2022-09-22T15:21:45.952Z"
   },
   {
    "duration": 39,
    "start_time": "2022-09-22T15:21:46.005Z"
   },
   {
    "duration": 33,
    "start_time": "2022-09-22T15:21:46.046Z"
   },
   {
    "duration": 33,
    "start_time": "2022-09-22T15:21:46.080Z"
   },
   {
    "duration": 60,
    "start_time": "2022-09-22T15:21:46.115Z"
   },
   {
    "duration": 25,
    "start_time": "2022-09-22T15:21:46.177Z"
   },
   {
    "duration": 43,
    "start_time": "2022-09-22T15:21:46.204Z"
   },
   {
    "duration": 22,
    "start_time": "2022-09-22T15:21:46.249Z"
   },
   {
    "duration": 27,
    "start_time": "2022-09-22T15:21:46.273Z"
   },
   {
    "duration": 63,
    "start_time": "2022-09-22T15:21:46.302Z"
   },
   {
    "duration": 31,
    "start_time": "2022-09-22T15:22:42.702Z"
   },
   {
    "duration": 29,
    "start_time": "2022-09-22T15:24:00.640Z"
   },
   {
    "duration": 521,
    "start_time": "2022-09-22T15:24:22.680Z"
   },
   {
    "duration": 27,
    "start_time": "2022-09-22T15:24:23.203Z"
   },
   {
    "duration": 2434,
    "start_time": "2022-09-22T15:24:23.236Z"
   },
   {
    "duration": 5,
    "start_time": "2022-09-22T15:24:25.672Z"
   },
   {
    "duration": 17,
    "start_time": "2022-09-22T15:24:25.679Z"
   },
   {
    "duration": 15,
    "start_time": "2022-09-22T15:24:25.697Z"
   },
   {
    "duration": 36,
    "start_time": "2022-09-22T15:24:25.722Z"
   },
   {
    "duration": 14,
    "start_time": "2022-09-22T15:24:25.760Z"
   },
   {
    "duration": 12,
    "start_time": "2022-09-22T15:24:25.776Z"
   },
   {
    "duration": 10,
    "start_time": "2022-09-22T15:24:25.790Z"
   },
   {
    "duration": 10,
    "start_time": "2022-09-22T15:24:25.802Z"
   },
   {
    "duration": 45,
    "start_time": "2022-09-22T15:24:25.814Z"
   },
   {
    "duration": 14,
    "start_time": "2022-09-22T15:24:25.861Z"
   },
   {
    "duration": 18,
    "start_time": "2022-09-22T15:24:25.877Z"
   },
   {
    "duration": 36,
    "start_time": "2022-09-22T15:24:25.897Z"
   },
   {
    "duration": 18,
    "start_time": "2022-09-22T15:24:25.934Z"
   },
   {
    "duration": 9,
    "start_time": "2022-09-22T15:24:25.954Z"
   },
   {
    "duration": 35,
    "start_time": "2022-09-22T15:24:25.965Z"
   },
   {
    "duration": 5,
    "start_time": "2022-09-22T15:32:10.938Z"
   },
   {
    "duration": 16,
    "start_time": "2022-09-22T15:32:57.760Z"
   },
   {
    "duration": 13,
    "start_time": "2022-09-22T15:33:22.416Z"
   },
   {
    "duration": 14,
    "start_time": "2022-09-22T15:33:36.987Z"
   },
   {
    "duration": 14,
    "start_time": "2022-09-22T15:33:59.682Z"
   },
   {
    "duration": 15,
    "start_time": "2022-09-22T15:34:25.984Z"
   },
   {
    "duration": 583,
    "start_time": "2022-09-23T08:59:23.992Z"
   },
   {
    "duration": 15,
    "start_time": "2022-09-23T08:59:24.577Z"
   },
   {
    "duration": 2454,
    "start_time": "2022-09-23T08:59:24.594Z"
   },
   {
    "duration": 4,
    "start_time": "2022-09-23T08:59:27.051Z"
   },
   {
    "duration": 12,
    "start_time": "2022-09-23T08:59:27.057Z"
   },
   {
    "duration": 4,
    "start_time": "2022-09-23T08:59:27.070Z"
   },
   {
    "duration": 10,
    "start_time": "2022-09-23T08:59:27.076Z"
   },
   {
    "duration": 12,
    "start_time": "2022-09-23T08:59:27.087Z"
   },
   {
    "duration": 10,
    "start_time": "2022-09-23T08:59:27.100Z"
   },
   {
    "duration": 8,
    "start_time": "2022-09-23T08:59:27.112Z"
   },
   {
    "duration": 7,
    "start_time": "2022-09-23T08:59:27.122Z"
   },
   {
    "duration": 8,
    "start_time": "2022-09-23T08:59:27.131Z"
   },
   {
    "duration": 6,
    "start_time": "2022-09-23T08:59:27.141Z"
   },
   {
    "duration": 6,
    "start_time": "2022-09-23T08:59:27.148Z"
   },
   {
    "duration": 55,
    "start_time": "2022-09-23T08:59:27.156Z"
   },
   {
    "duration": 5,
    "start_time": "2022-09-23T08:59:27.213Z"
   },
   {
    "duration": 7,
    "start_time": "2022-09-23T08:59:27.220Z"
   },
   {
    "duration": 24,
    "start_time": "2022-09-23T08:59:27.228Z"
   },
   {
    "duration": 2,
    "start_time": "2022-09-23T08:59:27.254Z"
   },
   {
    "duration": 89,
    "start_time": "2022-09-23T09:01:21.487Z"
   },
   {
    "duration": 27,
    "start_time": "2022-09-23T09:01:28.717Z"
   },
   {
    "duration": 23,
    "start_time": "2022-09-23T09:02:30.279Z"
   },
   {
    "duration": 32,
    "start_time": "2022-09-23T09:03:16.604Z"
   },
   {
    "duration": 24,
    "start_time": "2022-09-23T09:03:35.069Z"
   },
   {
    "duration": 22,
    "start_time": "2022-09-23T09:03:57.097Z"
   },
   {
    "duration": 34,
    "start_time": "2022-09-23T09:30:02.162Z"
   },
   {
    "duration": 20,
    "start_time": "2022-09-23T09:30:13.609Z"
   },
   {
    "duration": 19,
    "start_time": "2022-09-23T09:30:35.243Z"
   },
   {
    "duration": 20,
    "start_time": "2022-09-23T09:30:45.526Z"
   },
   {
    "duration": 24,
    "start_time": "2022-09-23T09:31:06.821Z"
   },
   {
    "duration": 22,
    "start_time": "2022-09-23T09:31:21.039Z"
   },
   {
    "duration": 23,
    "start_time": "2022-09-23T09:32:28.036Z"
   },
   {
    "duration": 19,
    "start_time": "2022-09-23T09:32:33.076Z"
   },
   {
    "duration": 12,
    "start_time": "2022-09-23T09:32:41.550Z"
   },
   {
    "duration": 19,
    "start_time": "2022-09-23T09:33:08.121Z"
   },
   {
    "duration": 10,
    "start_time": "2022-09-23T09:33:15.455Z"
   },
   {
    "duration": 7,
    "start_time": "2022-09-23T09:33:36.647Z"
   },
   {
    "duration": 19,
    "start_time": "2022-09-23T09:33:52.045Z"
   },
   {
    "duration": 20,
    "start_time": "2022-09-23T09:34:01.605Z"
   },
   {
    "duration": 21,
    "start_time": "2022-09-23T09:35:18.921Z"
   },
   {
    "duration": 9,
    "start_time": "2022-09-23T09:36:23.118Z"
   },
   {
    "duration": 6,
    "start_time": "2022-09-23T09:36:30.137Z"
   },
   {
    "duration": 8,
    "start_time": "2022-09-23T09:36:57.636Z"
   },
   {
    "duration": 7,
    "start_time": "2022-09-23T09:37:06.552Z"
   },
   {
    "duration": 5,
    "start_time": "2022-09-23T09:37:15.987Z"
   },
   {
    "duration": 8,
    "start_time": "2022-09-23T09:38:30.823Z"
   },
   {
    "duration": 6,
    "start_time": "2022-09-23T09:38:36.324Z"
   },
   {
    "duration": 6,
    "start_time": "2022-09-23T09:38:55.517Z"
   },
   {
    "duration": 18,
    "start_time": "2022-09-23T09:39:15.662Z"
   },
   {
    "duration": 36,
    "start_time": "2022-09-23T10:05:56.383Z"
   },
   {
    "duration": 48,
    "start_time": "2022-09-23T10:06:08.240Z"
   },
   {
    "duration": 48,
    "start_time": "2022-09-23T10:06:11.274Z"
   },
   {
    "duration": 22,
    "start_time": "2022-09-23T10:06:44.005Z"
   },
   {
    "duration": 535,
    "start_time": "2022-09-23T10:07:18.755Z"
   },
   {
    "duration": 18,
    "start_time": "2022-09-23T10:07:19.293Z"
   },
   {
    "duration": 2467,
    "start_time": "2022-09-23T10:07:19.313Z"
   },
   {
    "duration": 5,
    "start_time": "2022-09-23T10:07:21.782Z"
   },
   {
    "duration": 11,
    "start_time": "2022-09-23T10:07:21.790Z"
   },
   {
    "duration": 4,
    "start_time": "2022-09-23T10:07:21.804Z"
   },
   {
    "duration": 14,
    "start_time": "2022-09-23T10:07:21.809Z"
   },
   {
    "duration": 13,
    "start_time": "2022-09-23T10:07:21.826Z"
   },
   {
    "duration": 13,
    "start_time": "2022-09-23T10:07:21.840Z"
   },
   {
    "duration": 44,
    "start_time": "2022-09-23T10:07:21.855Z"
   },
   {
    "duration": 9,
    "start_time": "2022-09-23T10:07:21.901Z"
   },
   {
    "duration": 15,
    "start_time": "2022-09-23T10:07:21.911Z"
   },
   {
    "duration": 8,
    "start_time": "2022-09-23T10:07:21.928Z"
   },
   {
    "duration": 11,
    "start_time": "2022-09-23T10:07:21.939Z"
   },
   {
    "duration": 61,
    "start_time": "2022-09-23T10:07:21.952Z"
   },
   {
    "duration": 7,
    "start_time": "2022-09-23T10:07:22.015Z"
   },
   {
    "duration": 18,
    "start_time": "2022-09-23T10:07:22.024Z"
   },
   {
    "duration": 127,
    "start_time": "2022-09-23T10:07:22.044Z"
   },
   {
    "duration": 0,
    "start_time": "2022-09-23T10:07:22.173Z"
   },
   {
    "duration": 3403,
    "start_time": "2022-09-23T10:35:39.662Z"
   },
   {
    "duration": 2422,
    "start_time": "2022-09-23T10:36:21.865Z"
   },
   {
    "duration": 4389,
    "start_time": "2022-09-23T10:38:18.343Z"
   },
   {
    "duration": 6,
    "start_time": "2022-09-23T10:38:23.263Z"
   },
   {
    "duration": 2163,
    "start_time": "2022-09-23T10:39:38.872Z"
   },
   {
    "duration": 29,
    "start_time": "2022-09-23T10:40:43.264Z"
   },
   {
    "duration": 30,
    "start_time": "2022-09-23T10:40:48.192Z"
   },
   {
    "duration": 31,
    "start_time": "2022-09-23T10:41:05.734Z"
   },
   {
    "duration": 33,
    "start_time": "2022-09-23T11:08:42.712Z"
   },
   {
    "duration": 1321,
    "start_time": "2022-09-23T11:09:04.711Z"
   },
   {
    "duration": 605,
    "start_time": "2022-09-23T11:09:24.986Z"
   },
   {
    "duration": 680,
    "start_time": "2022-09-23T11:16:57.053Z"
   },
   {
    "duration": 483,
    "start_time": "2022-09-23T11:17:05.228Z"
   },
   {
    "duration": 15,
    "start_time": "2022-09-23T11:17:05.713Z"
   },
   {
    "duration": 2482,
    "start_time": "2022-09-23T11:17:05.730Z"
   },
   {
    "duration": 5,
    "start_time": "2022-09-23T11:17:08.214Z"
   },
   {
    "duration": 8,
    "start_time": "2022-09-23T11:17:08.222Z"
   },
   {
    "duration": 7,
    "start_time": "2022-09-23T11:17:08.232Z"
   },
   {
    "duration": 13,
    "start_time": "2022-09-23T11:17:08.241Z"
   },
   {
    "duration": 12,
    "start_time": "2022-09-23T11:17:08.255Z"
   },
   {
    "duration": 27,
    "start_time": "2022-09-23T11:17:08.269Z"
   },
   {
    "duration": 9,
    "start_time": "2022-09-23T11:17:08.297Z"
   },
   {
    "duration": 10,
    "start_time": "2022-09-23T11:17:08.308Z"
   },
   {
    "duration": 16,
    "start_time": "2022-09-23T11:17:08.320Z"
   },
   {
    "duration": 19,
    "start_time": "2022-09-23T11:17:08.337Z"
   },
   {
    "duration": 13,
    "start_time": "2022-09-23T11:17:08.358Z"
   },
   {
    "duration": 58,
    "start_time": "2022-09-23T11:17:08.373Z"
   },
   {
    "duration": 5,
    "start_time": "2022-09-23T11:17:08.433Z"
   },
   {
    "duration": 20,
    "start_time": "2022-09-23T11:17:08.440Z"
   },
   {
    "duration": 115,
    "start_time": "2022-09-23T11:17:08.462Z"
   },
   {
    "duration": 0,
    "start_time": "2022-09-23T11:17:08.579Z"
   },
   {
    "duration": 3,
    "start_time": "2022-09-23T11:28:48.666Z"
   },
   {
    "duration": 73,
    "start_time": "2022-09-23T11:29:01.236Z"
   },
   {
    "duration": 79,
    "start_time": "2022-09-23T11:30:56.676Z"
   },
   {
    "duration": 111,
    "start_time": "2022-09-23T11:31:10.159Z"
   },
   {
    "duration": 1187,
    "start_time": "2022-09-23T11:31:52.449Z"
   },
   {
    "duration": 6,
    "start_time": "2022-09-23T11:31:54.105Z"
   },
   {
    "duration": 0,
    "start_time": "2022-09-23T11:32:45.832Z"
   },
   {
    "duration": 0,
    "start_time": "2022-09-23T11:32:45.833Z"
   },
   {
    "duration": 5915,
    "start_time": "2022-09-23T11:32:48.288Z"
   },
   {
    "duration": 81,
    "start_time": "2022-09-23T11:33:51.595Z"
   },
   {
    "duration": 1186,
    "start_time": "2022-09-23T11:34:07.036Z"
   },
   {
    "duration": 17,
    "start_time": "2022-09-23T11:35:02.407Z"
   },
   {
    "duration": 19,
    "start_time": "2022-09-23T11:35:13.887Z"
   },
   {
    "duration": 19,
    "start_time": "2022-09-23T11:35:57.606Z"
   },
   {
    "duration": 19,
    "start_time": "2022-09-23T11:36:03.894Z"
   },
   {
    "duration": 3,
    "start_time": "2022-09-23T11:39:11.400Z"
   },
   {
    "duration": 20,
    "start_time": "2022-09-23T11:39:16.656Z"
   },
   {
    "duration": 21,
    "start_time": "2022-09-23T11:39:22.006Z"
   },
   {
    "duration": 576,
    "start_time": "2022-09-23T11:39:31.758Z"
   },
   {
    "duration": 16,
    "start_time": "2022-09-23T11:39:32.336Z"
   },
   {
    "duration": 2382,
    "start_time": "2022-09-23T11:39:32.354Z"
   },
   {
    "duration": 5,
    "start_time": "2022-09-23T11:39:34.738Z"
   },
   {
    "duration": 15,
    "start_time": "2022-09-23T11:39:34.745Z"
   },
   {
    "duration": 6,
    "start_time": "2022-09-23T11:39:34.762Z"
   },
   {
    "duration": 16,
    "start_time": "2022-09-23T11:39:34.770Z"
   },
   {
    "duration": 13,
    "start_time": "2022-09-23T11:39:34.788Z"
   },
   {
    "duration": 19,
    "start_time": "2022-09-23T11:39:34.802Z"
   },
   {
    "duration": 14,
    "start_time": "2022-09-23T11:39:34.823Z"
   },
   {
    "duration": 30,
    "start_time": "2022-09-23T11:39:34.839Z"
   },
   {
    "duration": 32,
    "start_time": "2022-09-23T11:39:34.871Z"
   },
   {
    "duration": 47,
    "start_time": "2022-09-23T11:39:34.905Z"
   },
   {
    "duration": 48,
    "start_time": "2022-09-23T11:39:34.956Z"
   },
   {
    "duration": 44,
    "start_time": "2022-09-23T11:39:35.006Z"
   },
   {
    "duration": 6,
    "start_time": "2022-09-23T11:39:35.053Z"
   },
   {
    "duration": 20,
    "start_time": "2022-09-23T11:39:35.060Z"
   },
   {
    "duration": 107,
    "start_time": "2022-09-23T11:39:35.082Z"
   },
   {
    "duration": 0,
    "start_time": "2022-09-23T11:39:35.191Z"
   },
   {
    "duration": 14,
    "start_time": "2022-09-23T11:41:08.991Z"
   },
   {
    "duration": 11,
    "start_time": "2022-09-23T11:42:47.233Z"
   },
   {
    "duration": 16,
    "start_time": "2022-09-23T11:43:35.034Z"
   },
   {
    "duration": 15,
    "start_time": "2022-09-23T11:43:58.442Z"
   },
   {
    "duration": 9,
    "start_time": "2022-09-23T11:44:11.832Z"
   },
   {
    "duration": 14,
    "start_time": "2022-09-23T11:44:17.651Z"
   },
   {
    "duration": 17,
    "start_time": "2022-09-23T11:44:43.213Z"
   },
   {
    "duration": 22,
    "start_time": "2022-09-23T11:45:04.653Z"
   },
   {
    "duration": 19,
    "start_time": "2022-09-23T11:48:34.353Z"
   },
   {
    "duration": 518,
    "start_time": "2022-09-23T11:48:41.311Z"
   },
   {
    "duration": 16,
    "start_time": "2022-09-23T11:48:41.830Z"
   },
   {
    "duration": 2180,
    "start_time": "2022-09-23T11:48:41.848Z"
   },
   {
    "duration": 4,
    "start_time": "2022-09-23T11:48:44.031Z"
   },
   {
    "duration": 9,
    "start_time": "2022-09-23T11:48:44.037Z"
   },
   {
    "duration": 4,
    "start_time": "2022-09-23T11:48:44.048Z"
   },
   {
    "duration": 12,
    "start_time": "2022-09-23T11:48:44.054Z"
   },
   {
    "duration": 12,
    "start_time": "2022-09-23T11:48:44.068Z"
   },
   {
    "duration": 22,
    "start_time": "2022-09-23T11:48:44.081Z"
   },
   {
    "duration": 11,
    "start_time": "2022-09-23T11:48:44.106Z"
   },
   {
    "duration": 8,
    "start_time": "2022-09-23T11:48:44.118Z"
   },
   {
    "duration": 7,
    "start_time": "2022-09-23T11:48:44.127Z"
   },
   {
    "duration": 5,
    "start_time": "2022-09-23T11:48:44.136Z"
   },
   {
    "duration": 7,
    "start_time": "2022-09-23T11:48:44.142Z"
   },
   {
    "duration": 54,
    "start_time": "2022-09-23T11:48:44.151Z"
   },
   {
    "duration": 6,
    "start_time": "2022-09-23T11:48:44.207Z"
   },
   {
    "duration": 4,
    "start_time": "2022-09-23T11:48:44.214Z"
   },
   {
    "duration": 23,
    "start_time": "2022-09-23T11:48:44.219Z"
   },
   {
    "duration": 14,
    "start_time": "2022-09-23T11:48:44.244Z"
   },
   {
    "duration": 12,
    "start_time": "2022-09-23T11:49:34.003Z"
   },
   {
    "duration": 8,
    "start_time": "2022-09-23T11:55:29.471Z"
   },
   {
    "duration": 12,
    "start_time": "2022-09-23T11:55:33.170Z"
   },
   {
    "duration": 22,
    "start_time": "2022-09-23T11:55:52.092Z"
   },
   {
    "duration": 550,
    "start_time": "2022-09-23T11:56:58.060Z"
   },
   {
    "duration": 15,
    "start_time": "2022-09-23T11:56:58.612Z"
   },
   {
    "duration": 2243,
    "start_time": "2022-09-23T11:56:58.629Z"
   },
   {
    "duration": 5,
    "start_time": "2022-09-23T11:57:00.874Z"
   },
   {
    "duration": 16,
    "start_time": "2022-09-23T11:57:00.880Z"
   },
   {
    "duration": 9,
    "start_time": "2022-09-23T11:57:00.897Z"
   },
   {
    "duration": 21,
    "start_time": "2022-09-23T11:57:00.907Z"
   },
   {
    "duration": 12,
    "start_time": "2022-09-23T11:57:00.929Z"
   },
   {
    "duration": 13,
    "start_time": "2022-09-23T11:57:00.943Z"
   },
   {
    "duration": 8,
    "start_time": "2022-09-23T11:57:00.958Z"
   },
   {
    "duration": 18,
    "start_time": "2022-09-23T11:57:00.967Z"
   },
   {
    "duration": 6,
    "start_time": "2022-09-23T11:57:00.994Z"
   },
   {
    "duration": 7,
    "start_time": "2022-09-23T11:57:01.002Z"
   },
   {
    "duration": 7,
    "start_time": "2022-09-23T11:57:01.012Z"
   },
   {
    "duration": 3,
    "start_time": "2022-09-23T11:57:01.021Z"
   },
   {
    "duration": 17,
    "start_time": "2022-09-23T11:57:01.026Z"
   },
   {
    "duration": 13,
    "start_time": "2022-09-23T11:57:01.045Z"
   },
   {
    "duration": 27,
    "start_time": "2022-09-23T11:57:01.059Z"
   },
   {
    "duration": 15,
    "start_time": "2022-09-23T11:57:01.088Z"
   },
   {
    "duration": 7,
    "start_time": "2022-09-23T12:35:57.273Z"
   },
   {
    "duration": 101,
    "start_time": "2022-09-23T12:50:54.062Z"
   },
   {
    "duration": 81,
    "start_time": "2022-09-23T12:55:14.257Z"
   },
   {
    "duration": 10,
    "start_time": "2022-09-23T13:24:27.862Z"
   },
   {
    "duration": 23,
    "start_time": "2022-09-23T13:32:42.309Z"
   },
   {
    "duration": 13,
    "start_time": "2022-09-23T13:33:02.921Z"
   },
   {
    "duration": 36,
    "start_time": "2022-09-23T13:47:13.538Z"
   },
   {
    "duration": 18,
    "start_time": "2022-09-23T13:47:40.051Z"
   },
   {
    "duration": 72,
    "start_time": "2022-09-23T14:33:52.584Z"
   },
   {
    "duration": 12,
    "start_time": "2022-09-23T14:36:41.435Z"
   },
   {
    "duration": 12,
    "start_time": "2022-09-23T14:39:13.685Z"
   },
   {
    "duration": 11,
    "start_time": "2022-09-23T14:39:36.433Z"
   },
   {
    "duration": 18,
    "start_time": "2022-09-23T14:40:00.236Z"
   },
   {
    "duration": 19,
    "start_time": "2022-09-23T14:40:34.681Z"
   },
   {
    "duration": 13,
    "start_time": "2022-09-23T14:40:56.156Z"
   },
   {
    "duration": 520,
    "start_time": "2022-09-23T14:41:05.585Z"
   },
   {
    "duration": 15,
    "start_time": "2022-09-23T14:41:06.107Z"
   },
   {
    "duration": 2466,
    "start_time": "2022-09-23T14:41:06.123Z"
   },
   {
    "duration": 5,
    "start_time": "2022-09-23T14:41:08.591Z"
   },
   {
    "duration": 14,
    "start_time": "2022-09-23T14:41:08.597Z"
   },
   {
    "duration": 8,
    "start_time": "2022-09-23T14:41:08.613Z"
   },
   {
    "duration": 14,
    "start_time": "2022-09-23T14:41:08.623Z"
   },
   {
    "duration": 7,
    "start_time": "2022-09-23T14:41:08.638Z"
   },
   {
    "duration": 10,
    "start_time": "2022-09-23T14:41:08.647Z"
   },
   {
    "duration": 8,
    "start_time": "2022-09-23T14:41:08.659Z"
   },
   {
    "duration": 29,
    "start_time": "2022-09-23T14:41:08.669Z"
   },
   {
    "duration": 10,
    "start_time": "2022-09-23T14:41:08.700Z"
   },
   {
    "duration": 7,
    "start_time": "2022-09-23T14:41:08.711Z"
   },
   {
    "duration": 105,
    "start_time": "2022-09-23T14:41:08.719Z"
   },
   {
    "duration": 0,
    "start_time": "2022-09-23T14:41:08.826Z"
   },
   {
    "duration": 0,
    "start_time": "2022-09-23T14:41:08.828Z"
   },
   {
    "duration": 0,
    "start_time": "2022-09-23T14:41:08.829Z"
   },
   {
    "duration": 1,
    "start_time": "2022-09-23T14:41:08.830Z"
   },
   {
    "duration": 14,
    "start_time": "2022-09-23T14:41:19.414Z"
   },
   {
    "duration": 14,
    "start_time": "2022-09-23T14:43:22.157Z"
   },
   {
    "duration": 13,
    "start_time": "2022-09-23T14:51:36.605Z"
   },
   {
    "duration": 99,
    "start_time": "2022-09-23T14:52:01.041Z"
   },
   {
    "duration": 19,
    "start_time": "2022-09-23T14:53:02.670Z"
   },
   {
    "duration": 106,
    "start_time": "2022-09-23T14:53:37.559Z"
   },
   {
    "duration": 74,
    "start_time": "2022-09-23T14:56:41.030Z"
   },
   {
    "duration": 79,
    "start_time": "2022-09-23T14:56:58.432Z"
   },
   {
    "duration": 17,
    "start_time": "2022-09-23T14:57:16.140Z"
   },
   {
    "duration": 28,
    "start_time": "2022-09-23T14:57:33.430Z"
   },
   {
    "duration": 15,
    "start_time": "2022-09-23T14:57:42.261Z"
   },
   {
    "duration": 26,
    "start_time": "2022-09-23T14:57:55.921Z"
   },
   {
    "duration": 20,
    "start_time": "2022-09-23T14:58:18.932Z"
   },
   {
    "duration": 17,
    "start_time": "2022-09-23T14:59:09.726Z"
   },
   {
    "duration": 18,
    "start_time": "2022-09-23T15:02:27.380Z"
   },
   {
    "duration": 29,
    "start_time": "2022-09-23T15:03:49.954Z"
   },
   {
    "duration": 16,
    "start_time": "2022-09-23T15:04:17.982Z"
   },
   {
    "duration": 17,
    "start_time": "2022-09-23T15:04:31.520Z"
   },
   {
    "duration": 15,
    "start_time": "2022-09-23T15:04:55.198Z"
   },
   {
    "duration": 16,
    "start_time": "2022-09-23T15:14:29.772Z"
   },
   {
    "duration": 17,
    "start_time": "2022-09-23T15:14:45.138Z"
   },
   {
    "duration": 72,
    "start_time": "2022-09-23T15:21:08.904Z"
   },
   {
    "duration": 18,
    "start_time": "2022-09-23T15:21:20.058Z"
   },
   {
    "duration": 16,
    "start_time": "2022-09-23T15:22:08.052Z"
   },
   {
    "duration": 25,
    "start_time": "2022-09-23T15:22:18.800Z"
   },
   {
    "duration": 21,
    "start_time": "2022-09-23T15:22:29.851Z"
   },
   {
    "duration": 23,
    "start_time": "2022-09-23T15:22:52.343Z"
   },
   {
    "duration": 17,
    "start_time": "2022-09-23T15:24:34.000Z"
   },
   {
    "duration": 110,
    "start_time": "2022-09-23T15:25:17.793Z"
   },
   {
    "duration": 101,
    "start_time": "2022-09-23T15:25:39.220Z"
   },
   {
    "duration": 6,
    "start_time": "2022-09-23T15:25:41.094Z"
   },
   {
    "duration": 98,
    "start_time": "2022-09-23T15:25:42.981Z"
   },
   {
    "duration": 501,
    "start_time": "2022-09-23T15:25:49.217Z"
   },
   {
    "duration": 22,
    "start_time": "2022-09-23T15:25:49.721Z"
   },
   {
    "duration": 2300,
    "start_time": "2022-09-23T15:25:49.745Z"
   },
   {
    "duration": 5,
    "start_time": "2022-09-23T15:25:52.048Z"
   },
   {
    "duration": 11,
    "start_time": "2022-09-23T15:25:52.055Z"
   },
   {
    "duration": 6,
    "start_time": "2022-09-23T15:25:52.067Z"
   },
   {
    "duration": 23,
    "start_time": "2022-09-23T15:25:52.075Z"
   },
   {
    "duration": 7,
    "start_time": "2022-09-23T15:25:52.099Z"
   },
   {
    "duration": 8,
    "start_time": "2022-09-23T15:25:52.108Z"
   },
   {
    "duration": 7,
    "start_time": "2022-09-23T15:25:52.119Z"
   },
   {
    "duration": 13,
    "start_time": "2022-09-23T15:25:52.127Z"
   },
   {
    "duration": 6,
    "start_time": "2022-09-23T15:25:52.142Z"
   },
   {
    "duration": 6,
    "start_time": "2022-09-23T15:25:52.149Z"
   },
   {
    "duration": 145,
    "start_time": "2022-09-23T15:25:52.156Z"
   },
   {
    "duration": 6,
    "start_time": "2022-09-23T15:25:52.303Z"
   },
   {
    "duration": 9,
    "start_time": "2022-09-23T15:25:52.311Z"
   },
   {
    "duration": 9,
    "start_time": "2022-09-23T15:25:52.322Z"
   },
   {
    "duration": 19,
    "start_time": "2022-09-23T15:25:52.332Z"
   },
   {
    "duration": 108,
    "start_time": "2022-09-23T15:26:46.551Z"
   },
   {
    "duration": 541,
    "start_time": "2022-09-23T15:26:52.986Z"
   },
   {
    "duration": 15,
    "start_time": "2022-09-23T15:26:53.529Z"
   },
   {
    "duration": 2383,
    "start_time": "2022-09-23T15:26:53.545Z"
   },
   {
    "duration": 4,
    "start_time": "2022-09-23T15:26:55.931Z"
   },
   {
    "duration": 12,
    "start_time": "2022-09-23T15:26:55.936Z"
   },
   {
    "duration": 5,
    "start_time": "2022-09-23T15:26:55.949Z"
   },
   {
    "duration": 11,
    "start_time": "2022-09-23T15:26:55.955Z"
   },
   {
    "duration": 7,
    "start_time": "2022-09-23T15:26:55.968Z"
   },
   {
    "duration": 18,
    "start_time": "2022-09-23T15:26:55.977Z"
   },
   {
    "duration": 8,
    "start_time": "2022-09-23T15:26:55.998Z"
   },
   {
    "duration": 7,
    "start_time": "2022-09-23T15:26:56.007Z"
   },
   {
    "duration": 6,
    "start_time": "2022-09-23T15:26:56.016Z"
   },
   {
    "duration": 8,
    "start_time": "2022-09-23T15:26:56.023Z"
   },
   {
    "duration": 113,
    "start_time": "2022-09-23T15:26:56.033Z"
   },
   {
    "duration": 1,
    "start_time": "2022-09-23T15:26:56.148Z"
   },
   {
    "duration": 0,
    "start_time": "2022-09-23T15:26:56.150Z"
   },
   {
    "duration": 0,
    "start_time": "2022-09-23T15:26:56.151Z"
   },
   {
    "duration": 0,
    "start_time": "2022-09-23T15:26:56.152Z"
   },
   {
    "duration": 19,
    "start_time": "2022-09-23T15:27:19.705Z"
   },
   {
    "duration": 547,
    "start_time": "2022-09-23T15:27:29.193Z"
   },
   {
    "duration": 17,
    "start_time": "2022-09-23T15:27:29.742Z"
   },
   {
    "duration": 2463,
    "start_time": "2022-09-23T15:27:29.761Z"
   },
   {
    "duration": 4,
    "start_time": "2022-09-23T15:27:32.227Z"
   },
   {
    "duration": 10,
    "start_time": "2022-09-23T15:27:32.233Z"
   },
   {
    "duration": 5,
    "start_time": "2022-09-23T15:27:32.244Z"
   },
   {
    "duration": 13,
    "start_time": "2022-09-23T15:27:32.251Z"
   },
   {
    "duration": 7,
    "start_time": "2022-09-23T15:27:32.266Z"
   },
   {
    "duration": 27,
    "start_time": "2022-09-23T15:27:32.275Z"
   },
   {
    "duration": 9,
    "start_time": "2022-09-23T15:27:32.305Z"
   },
   {
    "duration": 12,
    "start_time": "2022-09-23T15:27:32.315Z"
   },
   {
    "duration": 7,
    "start_time": "2022-09-23T15:27:32.328Z"
   },
   {
    "duration": 6,
    "start_time": "2022-09-23T15:27:32.336Z"
   },
   {
    "duration": 118,
    "start_time": "2022-09-23T15:27:32.343Z"
   },
   {
    "duration": 0,
    "start_time": "2022-09-23T15:27:32.463Z"
   },
   {
    "duration": 0,
    "start_time": "2022-09-23T15:27:32.465Z"
   },
   {
    "duration": 0,
    "start_time": "2022-09-23T15:27:32.466Z"
   },
   {
    "duration": 0,
    "start_time": "2022-09-23T15:27:32.468Z"
   },
   {
    "duration": 25,
    "start_time": "2022-09-23T15:28:19.829Z"
   },
   {
    "duration": 476,
    "start_time": "2022-09-23T15:29:31.658Z"
   },
   {
    "duration": 15,
    "start_time": "2022-09-23T15:29:32.136Z"
   },
   {
    "duration": 2239,
    "start_time": "2022-09-23T15:29:32.153Z"
   },
   {
    "duration": 4,
    "start_time": "2022-09-23T15:29:34.394Z"
   },
   {
    "duration": 10,
    "start_time": "2022-09-23T15:29:34.400Z"
   },
   {
    "duration": 4,
    "start_time": "2022-09-23T15:29:34.411Z"
   },
   {
    "duration": 12,
    "start_time": "2022-09-23T15:29:34.417Z"
   },
   {
    "duration": 6,
    "start_time": "2022-09-23T15:29:34.431Z"
   },
   {
    "duration": 10,
    "start_time": "2022-09-23T15:29:34.439Z"
   },
   {
    "duration": 11,
    "start_time": "2022-09-23T15:29:34.450Z"
   },
   {
    "duration": 8,
    "start_time": "2022-09-23T15:29:34.494Z"
   },
   {
    "duration": 6,
    "start_time": "2022-09-23T15:29:34.503Z"
   },
   {
    "duration": 10,
    "start_time": "2022-09-23T15:29:34.510Z"
   },
   {
    "duration": 103,
    "start_time": "2022-09-23T15:29:34.522Z"
   },
   {
    "duration": 0,
    "start_time": "2022-09-23T15:29:34.627Z"
   },
   {
    "duration": 0,
    "start_time": "2022-09-23T15:29:34.628Z"
   },
   {
    "duration": 0,
    "start_time": "2022-09-23T15:29:34.630Z"
   },
   {
    "duration": 0,
    "start_time": "2022-09-23T15:29:34.631Z"
   },
   {
    "duration": 20,
    "start_time": "2022-09-23T15:29:52.870Z"
   },
   {
    "duration": 472,
    "start_time": "2022-09-23T15:30:01.242Z"
   },
   {
    "duration": 15,
    "start_time": "2022-09-23T15:30:01.716Z"
   },
   {
    "duration": 2417,
    "start_time": "2022-09-23T15:30:01.732Z"
   },
   {
    "duration": 5,
    "start_time": "2022-09-23T15:30:04.151Z"
   },
   {
    "duration": 9,
    "start_time": "2022-09-23T15:30:04.160Z"
   },
   {
    "duration": 5,
    "start_time": "2022-09-23T15:30:04.171Z"
   },
   {
    "duration": 13,
    "start_time": "2022-09-23T15:30:04.178Z"
   },
   {
    "duration": 7,
    "start_time": "2022-09-23T15:30:04.193Z"
   },
   {
    "duration": 17,
    "start_time": "2022-09-23T15:30:04.202Z"
   },
   {
    "duration": 11,
    "start_time": "2022-09-23T15:30:04.221Z"
   },
   {
    "duration": 7,
    "start_time": "2022-09-23T15:30:04.233Z"
   },
   {
    "duration": 6,
    "start_time": "2022-09-23T15:30:04.242Z"
   },
   {
    "duration": 7,
    "start_time": "2022-09-23T15:30:04.250Z"
   },
   {
    "duration": 124,
    "start_time": "2022-09-23T15:30:04.259Z"
   },
   {
    "duration": 0,
    "start_time": "2022-09-23T15:30:04.384Z"
   },
   {
    "duration": 0,
    "start_time": "2022-09-23T15:30:04.395Z"
   },
   {
    "duration": 0,
    "start_time": "2022-09-23T15:30:04.396Z"
   },
   {
    "duration": 0,
    "start_time": "2022-09-23T15:30:04.397Z"
   },
   {
    "duration": 20,
    "start_time": "2022-09-23T15:32:23.291Z"
   },
   {
    "duration": 20,
    "start_time": "2022-09-23T15:33:43.385Z"
   },
   {
    "duration": 26,
    "start_time": "2022-09-23T15:33:48.081Z"
   },
   {
    "duration": 25,
    "start_time": "2022-09-23T15:35:47.799Z"
   },
   {
    "duration": 18,
    "start_time": "2022-09-23T15:36:09.071Z"
   },
   {
    "duration": 109,
    "start_time": "2022-09-23T15:36:29.097Z"
   },
   {
    "duration": 187,
    "start_time": "2022-09-23T15:41:13.058Z"
   },
   {
    "duration": 359,
    "start_time": "2022-09-23T15:45:33.040Z"
   },
   {
    "duration": 512,
    "start_time": "2022-09-23T15:46:38.394Z"
   },
   {
    "duration": 14,
    "start_time": "2022-09-23T15:46:38.908Z"
   },
   {
    "duration": 2492,
    "start_time": "2022-09-23T15:46:38.924Z"
   },
   {
    "duration": 5,
    "start_time": "2022-09-23T15:46:41.418Z"
   },
   {
    "duration": 9,
    "start_time": "2022-09-23T15:46:41.424Z"
   },
   {
    "duration": 3,
    "start_time": "2022-09-23T15:46:41.435Z"
   },
   {
    "duration": 11,
    "start_time": "2022-09-23T15:46:41.440Z"
   },
   {
    "duration": 7,
    "start_time": "2022-09-23T15:46:41.452Z"
   },
   {
    "duration": 8,
    "start_time": "2022-09-23T15:46:41.461Z"
   },
   {
    "duration": 28,
    "start_time": "2022-09-23T15:46:41.472Z"
   },
   {
    "duration": 7,
    "start_time": "2022-09-23T15:46:41.502Z"
   },
   {
    "duration": 6,
    "start_time": "2022-09-23T15:46:41.511Z"
   },
   {
    "duration": 6,
    "start_time": "2022-09-23T15:46:41.518Z"
   },
   {
    "duration": 417,
    "start_time": "2022-09-23T15:46:41.526Z"
   },
   {
    "duration": 6,
    "start_time": "2022-09-23T15:46:41.944Z"
   },
   {
    "duration": 12,
    "start_time": "2022-09-23T15:46:41.951Z"
   },
   {
    "duration": 6,
    "start_time": "2022-09-23T15:46:41.965Z"
   },
   {
    "duration": 33,
    "start_time": "2022-09-23T15:46:41.973Z"
   },
   {
    "duration": 375,
    "start_time": "2022-09-23T15:47:50.775Z"
   },
   {
    "duration": 126,
    "start_time": "2022-09-23T15:48:16.145Z"
   },
   {
    "duration": 783,
    "start_time": "2022-09-23T15:49:02.643Z"
   },
   {
    "duration": 766,
    "start_time": "2022-09-23T15:50:33.767Z"
   },
   {
    "duration": 741,
    "start_time": "2022-09-23T15:50:43.555Z"
   },
   {
    "duration": 745,
    "start_time": "2022-09-23T15:50:55.155Z"
   },
   {
    "duration": 301,
    "start_time": "2022-09-23T15:54:00.965Z"
   },
   {
    "duration": 559,
    "start_time": "2022-09-23T15:54:11.528Z"
   },
   {
    "duration": 16,
    "start_time": "2022-09-23T15:54:12.089Z"
   },
   {
    "duration": 2489,
    "start_time": "2022-09-23T15:54:12.106Z"
   },
   {
    "duration": 4,
    "start_time": "2022-09-23T15:54:14.597Z"
   },
   {
    "duration": 9,
    "start_time": "2022-09-23T15:54:14.603Z"
   },
   {
    "duration": 8,
    "start_time": "2022-09-23T15:54:14.613Z"
   },
   {
    "duration": 14,
    "start_time": "2022-09-23T15:54:14.623Z"
   },
   {
    "duration": 8,
    "start_time": "2022-09-23T15:54:14.638Z"
   },
   {
    "duration": 10,
    "start_time": "2022-09-23T15:54:14.647Z"
   },
   {
    "duration": 8,
    "start_time": "2022-09-23T15:54:14.658Z"
   },
   {
    "duration": 33,
    "start_time": "2022-09-23T15:54:14.667Z"
   },
   {
    "duration": 6,
    "start_time": "2022-09-23T15:54:14.701Z"
   },
   {
    "duration": 5,
    "start_time": "2022-09-23T15:54:14.709Z"
   },
   {
    "duration": 312,
    "start_time": "2022-09-23T15:54:14.717Z"
   },
   {
    "duration": 6,
    "start_time": "2022-09-23T15:54:15.030Z"
   },
   {
    "duration": 27,
    "start_time": "2022-09-23T15:54:15.037Z"
   },
   {
    "duration": 15,
    "start_time": "2022-09-23T15:54:15.066Z"
   },
   {
    "duration": 22,
    "start_time": "2022-09-23T15:54:15.082Z"
   },
   {
    "duration": 301,
    "start_time": "2022-09-23T15:54:47.529Z"
   },
   {
    "duration": 311,
    "start_time": "2022-09-23T15:55:23.841Z"
   },
   {
    "duration": 280,
    "start_time": "2022-09-23T15:56:22.151Z"
   },
   {
    "duration": 263,
    "start_time": "2022-09-23T15:56:30.079Z"
   },
   {
    "duration": 337,
    "start_time": "2022-09-23T15:56:53.871Z"
   },
   {
    "duration": 280,
    "start_time": "2022-09-23T15:58:05.111Z"
   },
   {
    "duration": 263,
    "start_time": "2022-09-23T15:58:12.875Z"
   },
   {
    "duration": 256,
    "start_time": "2022-09-23T15:58:29.409Z"
   },
   {
    "duration": 301,
    "start_time": "2022-09-23T15:59:03.371Z"
   },
   {
    "duration": 268,
    "start_time": "2022-09-23T15:59:13.670Z"
   },
   {
    "duration": 312,
    "start_time": "2022-09-23T16:00:01.969Z"
   },
   {
    "duration": 309,
    "start_time": "2022-09-23T16:00:19.080Z"
   },
   {
    "duration": 310,
    "start_time": "2022-09-23T16:00:30.599Z"
   },
   {
    "duration": 543,
    "start_time": "2022-09-23T16:00:38.788Z"
   },
   {
    "duration": 15,
    "start_time": "2022-09-23T16:00:39.333Z"
   },
   {
    "duration": 2470,
    "start_time": "2022-09-23T16:00:39.350Z"
   },
   {
    "duration": 5,
    "start_time": "2022-09-23T16:00:41.828Z"
   },
   {
    "duration": 23,
    "start_time": "2022-09-23T16:00:41.837Z"
   },
   {
    "duration": 5,
    "start_time": "2022-09-23T16:00:41.863Z"
   },
   {
    "duration": 20,
    "start_time": "2022-09-23T16:00:41.870Z"
   },
   {
    "duration": 9,
    "start_time": "2022-09-23T16:00:41.892Z"
   },
   {
    "duration": 19,
    "start_time": "2022-09-23T16:00:41.904Z"
   },
   {
    "duration": 8,
    "start_time": "2022-09-23T16:00:41.925Z"
   },
   {
    "duration": 11,
    "start_time": "2022-09-23T16:00:41.935Z"
   },
   {
    "duration": 8,
    "start_time": "2022-09-23T16:00:41.948Z"
   },
   {
    "duration": 11,
    "start_time": "2022-09-23T16:00:41.958Z"
   },
   {
    "duration": 376,
    "start_time": "2022-09-23T16:00:41.994Z"
   },
   {
    "duration": 0,
    "start_time": "2022-09-23T16:00:42.372Z"
   },
   {
    "duration": 0,
    "start_time": "2022-09-23T16:00:42.373Z"
   },
   {
    "duration": 0,
    "start_time": "2022-09-23T16:00:42.374Z"
   },
   {
    "duration": 0,
    "start_time": "2022-09-23T16:00:42.376Z"
   },
   {
    "duration": 299,
    "start_time": "2022-09-23T16:02:31.748Z"
   },
   {
    "duration": 269,
    "start_time": "2022-09-23T16:03:35.841Z"
   },
   {
    "duration": 294,
    "start_time": "2022-09-23T16:03:44.916Z"
   },
   {
    "duration": 287,
    "start_time": "2022-09-23T16:03:52.924Z"
   },
   {
    "duration": 270,
    "start_time": "2022-09-23T16:04:11.997Z"
   },
   {
    "duration": 6,
    "start_time": "2022-09-23T16:04:14.396Z"
   },
   {
    "duration": 292,
    "start_time": "2022-09-23T16:04:16.208Z"
   },
   {
    "duration": 270,
    "start_time": "2022-09-23T16:04:26.256Z"
   },
   {
    "duration": 259,
    "start_time": "2022-09-23T16:04:28.128Z"
   },
   {
    "duration": 79,
    "start_time": "2022-09-23T16:04:40.077Z"
   },
   {
    "duration": 317,
    "start_time": "2022-09-23T16:04:52.508Z"
   },
   {
    "duration": 20,
    "start_time": "2022-09-23T16:16:43.716Z"
   },
   {
    "duration": 13,
    "start_time": "2022-09-23T16:16:56.149Z"
   },
   {
    "duration": 19,
    "start_time": "2022-09-23T16:19:39.606Z"
   },
   {
    "duration": 163,
    "start_time": "2022-09-23T16:21:34.837Z"
   },
   {
    "duration": 159,
    "start_time": "2022-09-23T16:22:00.986Z"
   },
   {
    "duration": 19,
    "start_time": "2022-09-23T16:22:20.096Z"
   },
   {
    "duration": 26,
    "start_time": "2022-09-23T16:24:43.197Z"
   },
   {
    "duration": 705,
    "start_time": "2022-09-23T16:25:10.818Z"
   },
   {
    "duration": 14,
    "start_time": "2022-09-23T16:25:30.254Z"
   },
   {
    "duration": 16,
    "start_time": "2022-09-23T16:25:37.007Z"
   },
   {
    "duration": 17,
    "start_time": "2022-09-23T16:25:48.492Z"
   },
   {
    "duration": 19,
    "start_time": "2022-09-23T16:25:58.017Z"
   },
   {
    "duration": 98,
    "start_time": "2022-09-23T16:27:30.321Z"
   },
   {
    "duration": 16,
    "start_time": "2022-09-23T16:28:41.306Z"
   },
   {
    "duration": 16,
    "start_time": "2022-09-23T16:28:52.236Z"
   },
   {
    "duration": 17,
    "start_time": "2022-09-23T16:29:18.074Z"
   },
   {
    "duration": 17,
    "start_time": "2022-09-23T16:32:41.347Z"
   },
   {
    "duration": 542,
    "start_time": "2022-09-23T16:32:49.297Z"
   },
   {
    "duration": 15,
    "start_time": "2022-09-23T16:32:49.841Z"
   },
   {
    "duration": 2483,
    "start_time": "2022-09-23T16:32:49.857Z"
   },
   {
    "duration": 5,
    "start_time": "2022-09-23T16:32:52.343Z"
   },
   {
    "duration": 12,
    "start_time": "2022-09-23T16:32:52.350Z"
   },
   {
    "duration": 6,
    "start_time": "2022-09-23T16:32:52.364Z"
   },
   {
    "duration": 22,
    "start_time": "2022-09-23T16:32:52.372Z"
   },
   {
    "duration": 7,
    "start_time": "2022-09-23T16:32:52.396Z"
   },
   {
    "duration": 11,
    "start_time": "2022-09-23T16:32:52.405Z"
   },
   {
    "duration": 10,
    "start_time": "2022-09-23T16:32:52.420Z"
   },
   {
    "duration": 32,
    "start_time": "2022-09-23T16:32:52.432Z"
   },
   {
    "duration": 7,
    "start_time": "2022-09-23T16:32:52.467Z"
   },
   {
    "duration": 21,
    "start_time": "2022-09-23T16:32:52.476Z"
   },
   {
    "duration": 302,
    "start_time": "2022-09-23T16:32:52.498Z"
   },
   {
    "duration": 6,
    "start_time": "2022-09-23T16:32:52.802Z"
   },
   {
    "duration": 17,
    "start_time": "2022-09-23T16:32:52.809Z"
   },
   {
    "duration": 12,
    "start_time": "2022-09-23T16:32:52.828Z"
   },
   {
    "duration": 33,
    "start_time": "2022-09-23T16:32:52.842Z"
   },
   {
    "duration": 93,
    "start_time": "2022-09-23T16:33:18.306Z"
   },
   {
    "duration": 506,
    "start_time": "2022-09-23T16:33:23.461Z"
   },
   {
    "duration": 16,
    "start_time": "2022-09-23T16:33:23.970Z"
   },
   {
    "duration": 2451,
    "start_time": "2022-09-23T16:33:23.994Z"
   },
   {
    "duration": 6,
    "start_time": "2022-09-23T16:33:26.448Z"
   },
   {
    "duration": 17,
    "start_time": "2022-09-23T16:33:26.456Z"
   },
   {
    "duration": 16,
    "start_time": "2022-09-23T16:33:26.476Z"
   },
   {
    "duration": 16,
    "start_time": "2022-09-23T16:33:26.494Z"
   },
   {
    "duration": 32,
    "start_time": "2022-09-23T16:33:26.512Z"
   },
   {
    "duration": 30,
    "start_time": "2022-09-23T16:33:26.546Z"
   },
   {
    "duration": 13,
    "start_time": "2022-09-23T16:33:26.580Z"
   },
   {
    "duration": 20,
    "start_time": "2022-09-23T16:33:26.595Z"
   },
   {
    "duration": 25,
    "start_time": "2022-09-23T16:33:26.618Z"
   },
   {
    "duration": 18,
    "start_time": "2022-09-23T16:33:26.646Z"
   },
   {
    "duration": 496,
    "start_time": "2022-09-23T16:33:26.667Z"
   },
   {
    "duration": 5,
    "start_time": "2022-09-23T16:33:27.165Z"
   },
   {
    "duration": 12,
    "start_time": "2022-09-23T16:33:27.171Z"
   },
   {
    "duration": 13,
    "start_time": "2022-09-23T16:33:27.185Z"
   },
   {
    "duration": 83,
    "start_time": "2022-09-23T16:33:27.199Z"
   },
   {
    "duration": 516,
    "start_time": "2022-09-23T16:34:04.998Z"
   },
   {
    "duration": 15,
    "start_time": "2022-09-23T16:34:05.516Z"
   },
   {
    "duration": 2484,
    "start_time": "2022-09-23T16:34:05.533Z"
   },
   {
    "duration": 6,
    "start_time": "2022-09-23T16:34:08.020Z"
   },
   {
    "duration": 14,
    "start_time": "2022-09-23T16:34:08.028Z"
   },
   {
    "duration": 11,
    "start_time": "2022-09-23T16:34:08.044Z"
   },
   {
    "duration": 12,
    "start_time": "2022-09-23T16:34:08.057Z"
   },
   {
    "duration": 15,
    "start_time": "2022-09-23T16:34:08.071Z"
   },
   {
    "duration": 18,
    "start_time": "2022-09-23T16:34:08.087Z"
   },
   {
    "duration": 9,
    "start_time": "2022-09-23T16:34:08.109Z"
   },
   {
    "duration": 7,
    "start_time": "2022-09-23T16:34:08.120Z"
   },
   {
    "duration": 7,
    "start_time": "2022-09-23T16:34:08.129Z"
   },
   {
    "duration": 11,
    "start_time": "2022-09-23T16:34:08.137Z"
   },
   {
    "duration": 295,
    "start_time": "2022-09-23T16:34:08.150Z"
   },
   {
    "duration": 7,
    "start_time": "2022-09-23T16:34:08.447Z"
   },
   {
    "duration": 9,
    "start_time": "2022-09-23T16:34:08.455Z"
   },
   {
    "duration": 8,
    "start_time": "2022-09-23T16:34:08.466Z"
   },
   {
    "duration": 36,
    "start_time": "2022-09-23T16:34:08.475Z"
   },
   {
    "duration": 86,
    "start_time": "2022-09-23T16:34:38.089Z"
   },
   {
    "duration": 496,
    "start_time": "2022-09-23T16:34:47.313Z"
   },
   {
    "duration": 16,
    "start_time": "2022-09-23T16:34:47.812Z"
   },
   {
    "duration": 2414,
    "start_time": "2022-09-23T16:34:47.830Z"
   },
   {
    "duration": 4,
    "start_time": "2022-09-23T16:34:50.247Z"
   },
   {
    "duration": 10,
    "start_time": "2022-09-23T16:34:50.253Z"
   },
   {
    "duration": 4,
    "start_time": "2022-09-23T16:34:50.265Z"
   },
   {
    "duration": 12,
    "start_time": "2022-09-23T16:34:50.270Z"
   },
   {
    "duration": 6,
    "start_time": "2022-09-23T16:34:50.284Z"
   },
   {
    "duration": 9,
    "start_time": "2022-09-23T16:34:50.292Z"
   },
   {
    "duration": 7,
    "start_time": "2022-09-23T16:34:50.303Z"
   },
   {
    "duration": 12,
    "start_time": "2022-09-23T16:34:50.312Z"
   },
   {
    "duration": 7,
    "start_time": "2022-09-23T16:34:50.326Z"
   },
   {
    "duration": 8,
    "start_time": "2022-09-23T16:34:50.335Z"
   },
   {
    "duration": 312,
    "start_time": "2022-09-23T16:34:50.345Z"
   },
   {
    "duration": 7,
    "start_time": "2022-09-23T16:34:50.659Z"
   },
   {
    "duration": 10,
    "start_time": "2022-09-23T16:34:50.668Z"
   },
   {
    "duration": 18,
    "start_time": "2022-09-23T16:34:50.679Z"
   },
   {
    "duration": 79,
    "start_time": "2022-09-23T16:34:50.699Z"
   },
   {
    "duration": 96,
    "start_time": "2022-09-23T16:35:18.837Z"
   },
   {
    "duration": 31,
    "start_time": "2022-09-23T16:35:32.718Z"
   },
   {
    "duration": 523,
    "start_time": "2022-09-23T16:35:43.221Z"
   },
   {
    "duration": 18,
    "start_time": "2022-09-23T16:35:43.746Z"
   },
   {
    "duration": 2599,
    "start_time": "2022-09-23T16:35:43.765Z"
   },
   {
    "duration": 5,
    "start_time": "2022-09-23T16:35:46.366Z"
   },
   {
    "duration": 13,
    "start_time": "2022-09-23T16:35:46.374Z"
   },
   {
    "duration": 5,
    "start_time": "2022-09-23T16:35:46.389Z"
   },
   {
    "duration": 14,
    "start_time": "2022-09-23T16:35:46.396Z"
   },
   {
    "duration": 7,
    "start_time": "2022-09-23T16:35:46.411Z"
   },
   {
    "duration": 11,
    "start_time": "2022-09-23T16:35:46.420Z"
   },
   {
    "duration": 9,
    "start_time": "2022-09-23T16:35:46.433Z"
   },
   {
    "duration": 7,
    "start_time": "2022-09-23T16:35:46.445Z"
   },
   {
    "duration": 6,
    "start_time": "2022-09-23T16:35:46.454Z"
   },
   {
    "duration": 38,
    "start_time": "2022-09-23T16:35:46.462Z"
   },
   {
    "duration": 374,
    "start_time": "2022-09-23T16:35:46.503Z"
   },
   {
    "duration": 5,
    "start_time": "2022-09-23T16:35:46.879Z"
   },
   {
    "duration": 18,
    "start_time": "2022-09-23T16:35:46.886Z"
   },
   {
    "duration": 7,
    "start_time": "2022-09-23T16:35:46.906Z"
   },
   {
    "duration": 20,
    "start_time": "2022-09-23T16:35:46.915Z"
   },
   {
    "duration": 113,
    "start_time": "2022-09-23T16:36:15.692Z"
   },
   {
    "duration": 30,
    "start_time": "2022-09-23T16:37:01.239Z"
   },
   {
    "duration": 512,
    "start_time": "2022-09-23T16:37:38.811Z"
   },
   {
    "duration": 16,
    "start_time": "2022-09-23T16:37:39.325Z"
   },
   {
    "duration": 2242,
    "start_time": "2022-09-23T16:37:39.343Z"
   },
   {
    "duration": 5,
    "start_time": "2022-09-23T16:37:41.586Z"
   },
   {
    "duration": 10,
    "start_time": "2022-09-23T16:37:41.594Z"
   },
   {
    "duration": 4,
    "start_time": "2022-09-23T16:37:41.606Z"
   },
   {
    "duration": 12,
    "start_time": "2022-09-23T16:37:41.612Z"
   },
   {
    "duration": 7,
    "start_time": "2022-09-23T16:37:41.625Z"
   },
   {
    "duration": 10,
    "start_time": "2022-09-23T16:37:41.633Z"
   },
   {
    "duration": 8,
    "start_time": "2022-09-23T16:37:41.645Z"
   },
   {
    "duration": 40,
    "start_time": "2022-09-23T16:37:41.655Z"
   },
   {
    "duration": 6,
    "start_time": "2022-09-23T16:37:41.697Z"
   },
   {
    "duration": 11,
    "start_time": "2022-09-23T16:37:41.705Z"
   },
   {
    "duration": 293,
    "start_time": "2022-09-23T16:37:41.719Z"
   },
   {
    "duration": 6,
    "start_time": "2022-09-23T16:37:42.014Z"
   },
   {
    "duration": 10,
    "start_time": "2022-09-23T16:37:42.022Z"
   },
   {
    "duration": 8,
    "start_time": "2022-09-23T16:37:42.033Z"
   },
   {
    "duration": 16,
    "start_time": "2022-09-23T16:37:42.043Z"
   },
   {
    "duration": 18,
    "start_time": "2022-09-23T16:37:59.330Z"
   },
   {
    "duration": 105,
    "start_time": "2022-09-23T16:38:15.451Z"
   },
   {
    "duration": 500,
    "start_time": "2022-09-23T16:38:37.054Z"
   },
   {
    "duration": 16,
    "start_time": "2022-09-23T16:38:37.556Z"
   },
   {
    "duration": 2352,
    "start_time": "2022-09-23T16:38:37.573Z"
   },
   {
    "duration": 5,
    "start_time": "2022-09-23T16:38:39.926Z"
   },
   {
    "duration": 12,
    "start_time": "2022-09-23T16:38:39.933Z"
   },
   {
    "duration": 5,
    "start_time": "2022-09-23T16:38:39.947Z"
   },
   {
    "duration": 21,
    "start_time": "2022-09-23T16:38:39.954Z"
   },
   {
    "duration": 21,
    "start_time": "2022-09-23T16:38:39.977Z"
   },
   {
    "duration": 13,
    "start_time": "2022-09-23T16:38:40.001Z"
   },
   {
    "duration": 18,
    "start_time": "2022-09-23T16:38:40.016Z"
   },
   {
    "duration": 31,
    "start_time": "2022-09-23T16:38:40.036Z"
   },
   {
    "duration": 8,
    "start_time": "2022-09-23T16:38:40.070Z"
   },
   {
    "duration": 16,
    "start_time": "2022-09-23T16:38:40.080Z"
   },
   {
    "duration": 303,
    "start_time": "2022-09-23T16:38:40.100Z"
   },
   {
    "duration": 6,
    "start_time": "2022-09-23T16:38:40.404Z"
   },
   {
    "duration": 12,
    "start_time": "2022-09-23T16:38:40.412Z"
   },
   {
    "duration": 7,
    "start_time": "2022-09-23T16:38:40.426Z"
   },
   {
    "duration": 19,
    "start_time": "2022-09-23T16:38:40.436Z"
   },
   {
    "duration": 25,
    "start_time": "2022-09-23T16:41:40.327Z"
   },
   {
    "duration": 22,
    "start_time": "2022-09-23T16:41:58.166Z"
   },
   {
    "duration": 601,
    "start_time": "2022-09-23T16:42:18.983Z"
   },
   {
    "duration": 33,
    "start_time": "2022-09-23T16:42:19.587Z"
   },
   {
    "duration": 2567,
    "start_time": "2022-09-23T16:42:19.622Z"
   },
   {
    "duration": 6,
    "start_time": "2022-09-23T16:42:22.191Z"
   },
   {
    "duration": 14,
    "start_time": "2022-09-23T16:42:22.200Z"
   },
   {
    "duration": 18,
    "start_time": "2022-09-23T16:42:22.216Z"
   },
   {
    "duration": 21,
    "start_time": "2022-09-23T16:42:22.237Z"
   },
   {
    "duration": 15,
    "start_time": "2022-09-23T16:42:22.260Z"
   },
   {
    "duration": 24,
    "start_time": "2022-09-23T16:42:22.277Z"
   },
   {
    "duration": 12,
    "start_time": "2022-09-23T16:42:22.303Z"
   },
   {
    "duration": 14,
    "start_time": "2022-09-23T16:42:22.317Z"
   },
   {
    "duration": 15,
    "start_time": "2022-09-23T16:42:22.333Z"
   },
   {
    "duration": 29,
    "start_time": "2022-09-23T16:42:22.350Z"
   },
   {
    "duration": 527,
    "start_time": "2022-09-23T16:42:22.383Z"
   },
   {
    "duration": 8,
    "start_time": "2022-09-23T16:42:22.912Z"
   },
   {
    "duration": 34,
    "start_time": "2022-09-23T16:42:22.923Z"
   },
   {
    "duration": 13,
    "start_time": "2022-09-23T16:42:22.959Z"
   },
   {
    "duration": 33,
    "start_time": "2022-09-23T16:42:22.975Z"
   },
   {
    "duration": 104,
    "start_time": "2022-09-23T16:42:37.158Z"
   },
   {
    "duration": 63,
    "start_time": "2022-09-23T16:43:37.760Z"
   },
   {
    "duration": 21,
    "start_time": "2022-09-23T16:43:48.779Z"
   },
   {
    "duration": 30,
    "start_time": "2022-09-23T16:44:14.700Z"
   },
   {
    "duration": 23,
    "start_time": "2022-09-23T16:44:49.783Z"
   },
   {
    "duration": 17,
    "start_time": "2022-09-23T16:45:36.920Z"
   },
   {
    "duration": 553,
    "start_time": "2022-09-23T16:45:42.560Z"
   },
   {
    "duration": 17,
    "start_time": "2022-09-23T16:45:43.115Z"
   },
   {
    "duration": 2467,
    "start_time": "2022-09-23T16:45:43.134Z"
   },
   {
    "duration": 7,
    "start_time": "2022-09-23T16:45:45.604Z"
   },
   {
    "duration": 17,
    "start_time": "2022-09-23T16:45:45.613Z"
   },
   {
    "duration": 5,
    "start_time": "2022-09-23T16:45:45.632Z"
   },
   {
    "duration": 15,
    "start_time": "2022-09-23T16:45:45.639Z"
   },
   {
    "duration": 8,
    "start_time": "2022-09-23T16:45:45.656Z"
   },
   {
    "duration": 31,
    "start_time": "2022-09-23T16:45:45.666Z"
   },
   {
    "duration": 12,
    "start_time": "2022-09-23T16:45:45.701Z"
   },
   {
    "duration": 9,
    "start_time": "2022-09-23T16:45:45.716Z"
   },
   {
    "duration": 8,
    "start_time": "2022-09-23T16:45:45.726Z"
   },
   {
    "duration": 10,
    "start_time": "2022-09-23T16:45:45.736Z"
   },
   {
    "duration": 341,
    "start_time": "2022-09-23T16:45:45.748Z"
   },
   {
    "duration": 7,
    "start_time": "2022-09-23T16:45:46.091Z"
   },
   {
    "duration": 22,
    "start_time": "2022-09-23T16:45:46.100Z"
   },
   {
    "duration": 7,
    "start_time": "2022-09-23T16:45:46.124Z"
   },
   {
    "duration": 24,
    "start_time": "2022-09-23T16:45:46.133Z"
   },
   {
    "duration": 491,
    "start_time": "2022-09-23T16:46:06.053Z"
   },
   {
    "duration": 24,
    "start_time": "2022-09-23T16:46:06.547Z"
   },
   {
    "duration": 2428,
    "start_time": "2022-09-23T16:46:06.573Z"
   },
   {
    "duration": 4,
    "start_time": "2022-09-23T16:46:09.003Z"
   },
   {
    "duration": 9,
    "start_time": "2022-09-23T16:46:09.009Z"
   },
   {
    "duration": 9,
    "start_time": "2022-09-23T16:46:09.020Z"
   },
   {
    "duration": 13,
    "start_time": "2022-09-23T16:46:09.031Z"
   },
   {
    "duration": 7,
    "start_time": "2022-09-23T16:46:09.046Z"
   },
   {
    "duration": 10,
    "start_time": "2022-09-23T16:46:09.055Z"
   },
   {
    "duration": 34,
    "start_time": "2022-09-23T16:46:09.067Z"
   },
   {
    "duration": 8,
    "start_time": "2022-09-23T16:46:09.103Z"
   },
   {
    "duration": 6,
    "start_time": "2022-09-23T16:46:09.113Z"
   },
   {
    "duration": 13,
    "start_time": "2022-09-23T16:46:09.121Z"
   },
   {
    "duration": 302,
    "start_time": "2022-09-23T16:46:09.137Z"
   },
   {
    "duration": 6,
    "start_time": "2022-09-23T16:46:09.441Z"
   },
   {
    "duration": 15,
    "start_time": "2022-09-23T16:46:09.448Z"
   },
   {
    "duration": 9,
    "start_time": "2022-09-23T16:46:09.465Z"
   },
   {
    "duration": 33,
    "start_time": "2022-09-23T16:46:09.476Z"
   },
   {
    "duration": 25,
    "start_time": "2022-09-23T16:46:30.081Z"
   },
   {
    "duration": 22,
    "start_time": "2022-09-23T16:47:50.971Z"
   },
   {
    "duration": 526,
    "start_time": "2022-09-23T16:48:00.774Z"
   },
   {
    "duration": 15,
    "start_time": "2022-09-23T16:48:01.301Z"
   },
   {
    "duration": 2455,
    "start_time": "2022-09-23T16:48:01.318Z"
   },
   {
    "duration": 5,
    "start_time": "2022-09-23T16:48:03.775Z"
   },
   {
    "duration": 19,
    "start_time": "2022-09-23T16:48:03.783Z"
   },
   {
    "duration": 4,
    "start_time": "2022-09-23T16:48:03.805Z"
   },
   {
    "duration": 16,
    "start_time": "2022-09-23T16:48:03.811Z"
   },
   {
    "duration": 8,
    "start_time": "2022-09-23T16:48:03.829Z"
   },
   {
    "duration": 10,
    "start_time": "2022-09-23T16:48:03.839Z"
   },
   {
    "duration": 8,
    "start_time": "2022-09-23T16:48:03.851Z"
   },
   {
    "duration": 36,
    "start_time": "2022-09-23T16:48:03.860Z"
   },
   {
    "duration": 7,
    "start_time": "2022-09-23T16:48:03.898Z"
   },
   {
    "duration": 10,
    "start_time": "2022-09-23T16:48:03.907Z"
   },
   {
    "duration": 319,
    "start_time": "2022-09-23T16:48:03.920Z"
   },
   {
    "duration": 6,
    "start_time": "2022-09-23T16:48:04.241Z"
   },
   {
    "duration": 9,
    "start_time": "2022-09-23T16:48:04.249Z"
   },
   {
    "duration": 14,
    "start_time": "2022-09-23T16:48:04.260Z"
   },
   {
    "duration": 42,
    "start_time": "2022-09-23T16:48:04.277Z"
   },
   {
    "duration": 16,
    "start_time": "2022-09-23T16:48:32.208Z"
   },
   {
    "duration": 556,
    "start_time": "2022-09-23T16:52:28.972Z"
   },
   {
    "duration": 17,
    "start_time": "2022-09-23T16:52:29.530Z"
   },
   {
    "duration": 2317,
    "start_time": "2022-09-23T16:52:29.548Z"
   },
   {
    "duration": 5,
    "start_time": "2022-09-23T16:52:31.867Z"
   },
   {
    "duration": 24,
    "start_time": "2022-09-23T16:52:31.875Z"
   },
   {
    "duration": 14,
    "start_time": "2022-09-23T16:52:31.901Z"
   },
   {
    "duration": 22,
    "start_time": "2022-09-23T16:52:31.917Z"
   },
   {
    "duration": 8,
    "start_time": "2022-09-23T16:52:31.941Z"
   },
   {
    "duration": 13,
    "start_time": "2022-09-23T16:52:31.950Z"
   },
   {
    "duration": 8,
    "start_time": "2022-09-23T16:52:31.965Z"
   },
   {
    "duration": 21,
    "start_time": "2022-09-23T16:52:31.974Z"
   },
   {
    "duration": 15,
    "start_time": "2022-09-23T16:52:31.997Z"
   },
   {
    "duration": 12,
    "start_time": "2022-09-23T16:52:32.013Z"
   },
   {
    "duration": 295,
    "start_time": "2022-09-23T16:52:32.028Z"
   },
   {
    "duration": 6,
    "start_time": "2022-09-23T16:52:32.325Z"
   },
   {
    "duration": 13,
    "start_time": "2022-09-23T16:52:32.333Z"
   },
   {
    "duration": 19,
    "start_time": "2022-09-23T16:52:32.348Z"
   },
   {
    "duration": 29,
    "start_time": "2022-09-23T16:52:32.369Z"
   },
   {
    "duration": 1063,
    "start_time": "2022-09-24T08:45:39.877Z"
   },
   {
    "duration": 12,
    "start_time": "2022-09-24T08:45:40.942Z"
   },
   {
    "duration": 2503,
    "start_time": "2022-09-24T08:45:40.956Z"
   },
   {
    "duration": 6,
    "start_time": "2022-09-24T08:45:43.461Z"
   },
   {
    "duration": 11,
    "start_time": "2022-09-24T08:45:43.469Z"
   },
   {
    "duration": 7,
    "start_time": "2022-09-24T08:45:43.481Z"
   },
   {
    "duration": 11,
    "start_time": "2022-09-24T08:45:43.489Z"
   },
   {
    "duration": 6,
    "start_time": "2022-09-24T08:45:43.501Z"
   },
   {
    "duration": 9,
    "start_time": "2022-09-24T08:45:43.508Z"
   },
   {
    "duration": 6,
    "start_time": "2022-09-24T08:45:43.518Z"
   },
   {
    "duration": 5,
    "start_time": "2022-09-24T08:45:43.526Z"
   },
   {
    "duration": 9,
    "start_time": "2022-09-24T08:45:43.532Z"
   },
   {
    "duration": 7,
    "start_time": "2022-09-24T08:45:43.543Z"
   },
   {
    "duration": 272,
    "start_time": "2022-09-24T08:45:43.552Z"
   },
   {
    "duration": 5,
    "start_time": "2022-09-24T08:45:43.825Z"
   },
   {
    "duration": 9,
    "start_time": "2022-09-24T08:45:43.831Z"
   },
   {
    "duration": 7,
    "start_time": "2022-09-24T08:45:43.841Z"
   },
   {
    "duration": 19,
    "start_time": "2022-09-24T08:45:43.850Z"
   },
   {
    "duration": 15,
    "start_time": "2022-09-24T08:46:04.620Z"
   },
   {
    "duration": 20,
    "start_time": "2022-09-24T08:47:12.513Z"
   },
   {
    "duration": 8,
    "start_time": "2022-09-24T08:47:51.090Z"
   },
   {
    "duration": 20,
    "start_time": "2022-09-24T08:55:39.978Z"
   },
   {
    "duration": 481,
    "start_time": "2022-09-24T08:55:49.578Z"
   },
   {
    "duration": 12,
    "start_time": "2022-09-24T08:55:50.061Z"
   },
   {
    "duration": 1937,
    "start_time": "2022-09-24T08:55:50.074Z"
   },
   {
    "duration": 3,
    "start_time": "2022-09-24T08:55:52.013Z"
   },
   {
    "duration": 9,
    "start_time": "2022-09-24T08:55:52.018Z"
   },
   {
    "duration": 4,
    "start_time": "2022-09-24T08:55:52.029Z"
   },
   {
    "duration": 10,
    "start_time": "2022-09-24T08:55:52.034Z"
   },
   {
    "duration": 6,
    "start_time": "2022-09-24T08:55:52.045Z"
   },
   {
    "duration": 9,
    "start_time": "2022-09-24T08:55:52.052Z"
   },
   {
    "duration": 6,
    "start_time": "2022-09-24T08:55:52.062Z"
   },
   {
    "duration": 30,
    "start_time": "2022-09-24T08:55:52.070Z"
   },
   {
    "duration": 5,
    "start_time": "2022-09-24T08:55:52.102Z"
   },
   {
    "duration": 6,
    "start_time": "2022-09-24T08:55:52.108Z"
   },
   {
    "duration": 252,
    "start_time": "2022-09-24T08:55:52.116Z"
   },
   {
    "duration": 5,
    "start_time": "2022-09-24T08:55:52.369Z"
   },
   {
    "duration": 9,
    "start_time": "2022-09-24T08:55:52.375Z"
   },
   {
    "duration": 16,
    "start_time": "2022-09-24T08:55:52.385Z"
   },
   {
    "duration": 20,
    "start_time": "2022-09-24T08:55:52.402Z"
   },
   {
    "duration": 6,
    "start_time": "2022-09-24T08:55:52.423Z"
   },
   {
    "duration": 498,
    "start_time": "2022-09-24T08:56:29.905Z"
   },
   {
    "duration": 14,
    "start_time": "2022-09-24T08:56:30.405Z"
   },
   {
    "duration": 1947,
    "start_time": "2022-09-24T08:56:30.420Z"
   },
   {
    "duration": 4,
    "start_time": "2022-09-24T08:56:32.369Z"
   },
   {
    "duration": 10,
    "start_time": "2022-09-24T08:56:32.375Z"
   },
   {
    "duration": 24,
    "start_time": "2022-09-24T08:56:32.386Z"
   },
   {
    "duration": 21,
    "start_time": "2022-09-24T08:56:32.411Z"
   },
   {
    "duration": 20,
    "start_time": "2022-09-24T08:56:32.433Z"
   },
   {
    "duration": 20,
    "start_time": "2022-09-24T08:56:32.455Z"
   },
   {
    "duration": 22,
    "start_time": "2022-09-24T08:56:32.476Z"
   },
   {
    "duration": 19,
    "start_time": "2022-09-24T08:56:32.500Z"
   },
   {
    "duration": 28,
    "start_time": "2022-09-24T08:56:32.520Z"
   },
   {
    "duration": 23,
    "start_time": "2022-09-24T08:56:32.549Z"
   },
   {
    "duration": 255,
    "start_time": "2022-09-24T08:56:32.574Z"
   },
   {
    "duration": 4,
    "start_time": "2022-09-24T08:56:32.831Z"
   },
   {
    "duration": 23,
    "start_time": "2022-09-24T08:56:32.836Z"
   },
   {
    "duration": 17,
    "start_time": "2022-09-24T08:56:32.860Z"
   },
   {
    "duration": 34,
    "start_time": "2022-09-24T08:56:32.878Z"
   },
   {
    "duration": 21,
    "start_time": "2022-09-24T08:56:32.914Z"
   },
   {
    "duration": 475,
    "start_time": "2022-09-24T08:58:03.097Z"
   },
   {
    "duration": 12,
    "start_time": "2022-09-24T08:58:03.574Z"
   },
   {
    "duration": 2044,
    "start_time": "2022-09-24T08:58:03.587Z"
   },
   {
    "duration": 4,
    "start_time": "2022-09-24T08:58:05.633Z"
   },
   {
    "duration": 12,
    "start_time": "2022-09-24T08:58:05.638Z"
   },
   {
    "duration": 5,
    "start_time": "2022-09-24T08:58:05.652Z"
   },
   {
    "duration": 17,
    "start_time": "2022-09-24T08:58:05.658Z"
   },
   {
    "duration": 6,
    "start_time": "2022-09-24T08:58:05.676Z"
   },
   {
    "duration": 8,
    "start_time": "2022-09-24T08:58:05.684Z"
   },
   {
    "duration": 10,
    "start_time": "2022-09-24T08:58:05.694Z"
   },
   {
    "duration": 8,
    "start_time": "2022-09-24T08:58:05.705Z"
   },
   {
    "duration": 10,
    "start_time": "2022-09-24T08:58:05.714Z"
   },
   {
    "duration": 10,
    "start_time": "2022-09-24T08:58:05.726Z"
   },
   {
    "duration": 262,
    "start_time": "2022-09-24T08:58:05.738Z"
   },
   {
    "duration": 5,
    "start_time": "2022-09-24T08:58:06.002Z"
   },
   {
    "duration": 13,
    "start_time": "2022-09-24T08:58:06.008Z"
   },
   {
    "duration": 16,
    "start_time": "2022-09-24T08:58:06.022Z"
   },
   {
    "duration": 14,
    "start_time": "2022-09-24T08:58:06.039Z"
   },
   {
    "duration": 5,
    "start_time": "2022-09-24T08:58:06.055Z"
   },
   {
    "duration": 530,
    "start_time": "2022-09-24T09:52:24.275Z"
   },
   {
    "duration": 14,
    "start_time": "2022-09-24T09:52:24.807Z"
   },
   {
    "duration": 1951,
    "start_time": "2022-09-24T09:52:24.824Z"
   },
   {
    "duration": 4,
    "start_time": "2022-09-24T09:52:26.777Z"
   },
   {
    "duration": 10,
    "start_time": "2022-09-24T09:52:26.782Z"
   },
   {
    "duration": 5,
    "start_time": "2022-09-24T09:52:26.793Z"
   },
   {
    "duration": 9,
    "start_time": "2022-09-24T09:52:26.799Z"
   },
   {
    "duration": 9,
    "start_time": "2022-09-24T09:52:26.809Z"
   },
   {
    "duration": 12,
    "start_time": "2022-09-24T09:52:26.820Z"
   },
   {
    "duration": 7,
    "start_time": "2022-09-24T09:52:26.835Z"
   },
   {
    "duration": 6,
    "start_time": "2022-09-24T09:52:26.843Z"
   },
   {
    "duration": 8,
    "start_time": "2022-09-24T09:52:26.851Z"
   },
   {
    "duration": 7,
    "start_time": "2022-09-24T09:52:26.861Z"
   },
   {
    "duration": 257,
    "start_time": "2022-09-24T09:52:26.869Z"
   },
   {
    "duration": 4,
    "start_time": "2022-09-24T09:52:27.128Z"
   },
   {
    "duration": 9,
    "start_time": "2022-09-24T09:52:27.134Z"
   },
   {
    "duration": 7,
    "start_time": "2022-09-24T09:52:27.144Z"
   },
   {
    "duration": 14,
    "start_time": "2022-09-24T09:52:27.152Z"
   },
   {
    "duration": 9,
    "start_time": "2022-09-24T09:52:27.168Z"
   },
   {
    "duration": 25,
    "start_time": "2022-09-24T10:01:46.774Z"
   },
   {
    "duration": 503,
    "start_time": "2022-09-24T10:02:23.902Z"
   },
   {
    "duration": 17,
    "start_time": "2022-09-24T10:02:24.408Z"
   },
   {
    "duration": 2016,
    "start_time": "2022-09-24T10:02:24.427Z"
   },
   {
    "duration": 4,
    "start_time": "2022-09-24T10:02:26.444Z"
   },
   {
    "duration": 13,
    "start_time": "2022-09-24T10:02:26.450Z"
   },
   {
    "duration": 3,
    "start_time": "2022-09-24T10:02:26.465Z"
   },
   {
    "duration": 10,
    "start_time": "2022-09-24T10:02:26.469Z"
   },
   {
    "duration": 6,
    "start_time": "2022-09-24T10:02:26.480Z"
   },
   {
    "duration": 7,
    "start_time": "2022-09-24T10:02:26.487Z"
   },
   {
    "duration": 7,
    "start_time": "2022-09-24T10:02:26.495Z"
   },
   {
    "duration": 8,
    "start_time": "2022-09-24T10:02:26.503Z"
   },
   {
    "duration": 8,
    "start_time": "2022-09-24T10:02:26.512Z"
   },
   {
    "duration": 4,
    "start_time": "2022-09-24T10:02:26.521Z"
   },
   {
    "duration": 250,
    "start_time": "2022-09-24T10:02:26.527Z"
   },
   {
    "duration": 5,
    "start_time": "2022-09-24T10:02:26.778Z"
   },
   {
    "duration": 16,
    "start_time": "2022-09-24T10:02:26.785Z"
   },
   {
    "duration": 5,
    "start_time": "2022-09-24T10:02:26.802Z"
   },
   {
    "duration": 22,
    "start_time": "2022-09-24T10:02:26.808Z"
   },
   {
    "duration": 7,
    "start_time": "2022-09-24T10:02:26.831Z"
   },
   {
    "duration": 19,
    "start_time": "2022-09-24T10:05:38.635Z"
   },
   {
    "duration": 21,
    "start_time": "2022-09-24T10:07:00.680Z"
   },
   {
    "duration": 431,
    "start_time": "2022-09-24T10:07:36.040Z"
   },
   {
    "duration": 12,
    "start_time": "2022-09-24T10:07:36.473Z"
   },
   {
    "duration": 2060,
    "start_time": "2022-09-24T10:07:36.487Z"
   },
   {
    "duration": 4,
    "start_time": "2022-09-24T10:07:38.549Z"
   },
   {
    "duration": 18,
    "start_time": "2022-09-24T10:07:38.556Z"
   },
   {
    "duration": 27,
    "start_time": "2022-09-24T10:07:38.575Z"
   },
   {
    "duration": 20,
    "start_time": "2022-09-24T10:07:38.603Z"
   },
   {
    "duration": 20,
    "start_time": "2022-09-24T10:07:38.625Z"
   },
   {
    "duration": 23,
    "start_time": "2022-09-24T10:07:38.647Z"
   },
   {
    "duration": 16,
    "start_time": "2022-09-24T10:07:38.671Z"
   },
   {
    "duration": 35,
    "start_time": "2022-09-24T10:07:38.689Z"
   },
   {
    "duration": 26,
    "start_time": "2022-09-24T10:07:38.726Z"
   },
   {
    "duration": 24,
    "start_time": "2022-09-24T10:07:38.754Z"
   },
   {
    "duration": 261,
    "start_time": "2022-09-24T10:07:38.781Z"
   },
   {
    "duration": 6,
    "start_time": "2022-09-24T10:07:39.043Z"
   },
   {
    "duration": 22,
    "start_time": "2022-09-24T10:07:39.051Z"
   },
   {
    "duration": 25,
    "start_time": "2022-09-24T10:07:39.075Z"
   },
   {
    "duration": 36,
    "start_time": "2022-09-24T10:07:39.102Z"
   },
   {
    "duration": 27,
    "start_time": "2022-09-24T10:07:39.140Z"
   },
   {
    "duration": 17,
    "start_time": "2022-09-24T10:08:58.148Z"
   },
   {
    "duration": 132,
    "start_time": "2022-09-24T10:09:51.042Z"
   },
   {
    "duration": 96,
    "start_time": "2022-09-24T10:10:11.919Z"
   },
   {
    "duration": 21,
    "start_time": "2022-09-24T10:10:23.969Z"
   },
   {
    "duration": 20,
    "start_time": "2022-09-24T10:13:58.420Z"
   },
   {
    "duration": 24,
    "start_time": "2022-09-24T10:14:32.011Z"
   },
   {
    "duration": 19,
    "start_time": "2022-09-24T10:14:36.778Z"
   },
   {
    "duration": 9,
    "start_time": "2022-09-24T10:14:51.006Z"
   },
   {
    "duration": 18,
    "start_time": "2022-09-24T10:15:27.552Z"
   },
   {
    "duration": 523,
    "start_time": "2022-09-24T10:15:34.195Z"
   },
   {
    "duration": 13,
    "start_time": "2022-09-24T10:15:34.720Z"
   },
   {
    "duration": 2057,
    "start_time": "2022-09-24T10:15:34.734Z"
   },
   {
    "duration": 5,
    "start_time": "2022-09-24T10:15:36.793Z"
   },
   {
    "duration": 8,
    "start_time": "2022-09-24T10:15:36.800Z"
   },
   {
    "duration": 4,
    "start_time": "2022-09-24T10:15:36.810Z"
   },
   {
    "duration": 12,
    "start_time": "2022-09-24T10:15:36.815Z"
   },
   {
    "duration": 6,
    "start_time": "2022-09-24T10:15:36.829Z"
   },
   {
    "duration": 12,
    "start_time": "2022-09-24T10:15:36.837Z"
   },
   {
    "duration": 8,
    "start_time": "2022-09-24T10:15:36.851Z"
   },
   {
    "duration": 6,
    "start_time": "2022-09-24T10:15:36.861Z"
   },
   {
    "duration": 7,
    "start_time": "2022-09-24T10:15:36.899Z"
   },
   {
    "duration": 8,
    "start_time": "2022-09-24T10:15:36.908Z"
   },
   {
    "duration": 279,
    "start_time": "2022-09-24T10:15:36.918Z"
   },
   {
    "duration": 5,
    "start_time": "2022-09-24T10:15:37.200Z"
   },
   {
    "duration": 9,
    "start_time": "2022-09-24T10:15:37.206Z"
   },
   {
    "duration": 6,
    "start_time": "2022-09-24T10:15:37.217Z"
   },
   {
    "duration": 23,
    "start_time": "2022-09-24T10:15:37.224Z"
   },
   {
    "duration": 8,
    "start_time": "2022-09-24T10:15:37.249Z"
   },
   {
    "duration": 22,
    "start_time": "2022-09-24T10:16:10.896Z"
   },
   {
    "duration": 22,
    "start_time": "2022-09-24T10:16:35.349Z"
   },
   {
    "duration": 30,
    "start_time": "2022-09-24T10:23:22.897Z"
   },
   {
    "duration": 8,
    "start_time": "2022-09-24T10:24:35.071Z"
   },
   {
    "duration": 18,
    "start_time": "2022-09-24T10:31:16.341Z"
   },
   {
    "duration": 17,
    "start_time": "2022-09-24T10:36:03.087Z"
   },
   {
    "duration": 9,
    "start_time": "2022-09-24T10:49:15.470Z"
   },
   {
    "duration": 24,
    "start_time": "2022-09-24T10:50:05.438Z"
   },
   {
    "duration": 21,
    "start_time": "2022-09-24T10:50:22.400Z"
   },
   {
    "duration": 467,
    "start_time": "2022-09-24T10:50:27.905Z"
   },
   {
    "duration": 13,
    "start_time": "2022-09-24T10:50:28.374Z"
   },
   {
    "duration": 2050,
    "start_time": "2022-09-24T10:50:28.389Z"
   },
   {
    "duration": 5,
    "start_time": "2022-09-24T10:50:30.441Z"
   },
   {
    "duration": 14,
    "start_time": "2022-09-24T10:50:30.449Z"
   },
   {
    "duration": 18,
    "start_time": "2022-09-24T10:50:30.465Z"
   },
   {
    "duration": 23,
    "start_time": "2022-09-24T10:50:30.486Z"
   },
   {
    "duration": 23,
    "start_time": "2022-09-24T10:50:30.511Z"
   },
   {
    "duration": 20,
    "start_time": "2022-09-24T10:50:30.536Z"
   },
   {
    "duration": 23,
    "start_time": "2022-09-24T10:50:30.558Z"
   },
   {
    "duration": 14,
    "start_time": "2022-09-24T10:50:30.583Z"
   },
   {
    "duration": 40,
    "start_time": "2022-09-24T10:50:30.599Z"
   },
   {
    "duration": 14,
    "start_time": "2022-09-24T10:50:30.641Z"
   },
   {
    "duration": 262,
    "start_time": "2022-09-24T10:50:30.658Z"
   },
   {
    "duration": 5,
    "start_time": "2022-09-24T10:50:30.921Z"
   },
   {
    "duration": 9,
    "start_time": "2022-09-24T10:50:30.928Z"
   },
   {
    "duration": 11,
    "start_time": "2022-09-24T10:50:30.938Z"
   },
   {
    "duration": 27,
    "start_time": "2022-09-24T10:50:30.950Z"
   },
   {
    "duration": 29,
    "start_time": "2022-09-24T10:50:30.978Z"
   },
   {
    "duration": 22,
    "start_time": "2022-09-24T10:51:33.651Z"
   },
   {
    "duration": 25,
    "start_time": "2022-09-24T10:54:47.966Z"
   },
   {
    "duration": 39,
    "start_time": "2022-09-24T10:55:02.842Z"
   },
   {
    "duration": 16,
    "start_time": "2022-09-24T10:55:22.190Z"
   },
   {
    "duration": 448,
    "start_time": "2022-09-24T10:55:36.950Z"
   },
   {
    "duration": 14,
    "start_time": "2022-09-24T10:55:37.400Z"
   },
   {
    "duration": 2076,
    "start_time": "2022-09-24T10:55:37.415Z"
   },
   {
    "duration": 4,
    "start_time": "2022-09-24T10:55:39.493Z"
   },
   {
    "duration": 14,
    "start_time": "2022-09-24T10:55:39.499Z"
   },
   {
    "duration": 6,
    "start_time": "2022-09-24T10:55:39.515Z"
   },
   {
    "duration": 15,
    "start_time": "2022-09-24T10:55:39.523Z"
   },
   {
    "duration": 9,
    "start_time": "2022-09-24T10:55:39.540Z"
   },
   {
    "duration": 8,
    "start_time": "2022-09-24T10:55:39.551Z"
   },
   {
    "duration": 8,
    "start_time": "2022-09-24T10:55:39.561Z"
   },
   {
    "duration": 7,
    "start_time": "2022-09-24T10:55:39.571Z"
   },
   {
    "duration": 5,
    "start_time": "2022-09-24T10:55:39.601Z"
   },
   {
    "duration": 6,
    "start_time": "2022-09-24T10:55:39.607Z"
   },
   {
    "duration": 259,
    "start_time": "2022-09-24T10:55:39.615Z"
   },
   {
    "duration": 4,
    "start_time": "2022-09-24T10:55:39.876Z"
   },
   {
    "duration": 8,
    "start_time": "2022-09-24T10:55:39.882Z"
   },
   {
    "duration": 6,
    "start_time": "2022-09-24T10:55:39.900Z"
   },
   {
    "duration": 23,
    "start_time": "2022-09-24T10:55:39.907Z"
   },
   {
    "duration": 17,
    "start_time": "2022-09-24T10:55:39.931Z"
   },
   {
    "duration": 16,
    "start_time": "2022-09-24T11:08:13.219Z"
   },
   {
    "duration": 15,
    "start_time": "2022-09-24T11:08:16.377Z"
   },
   {
    "duration": 498,
    "start_time": "2022-09-24T11:08:35.072Z"
   },
   {
    "duration": 13,
    "start_time": "2022-09-24T11:08:35.572Z"
   },
   {
    "duration": 1981,
    "start_time": "2022-09-24T11:08:35.586Z"
   },
   {
    "duration": 4,
    "start_time": "2022-09-24T11:08:37.569Z"
   },
   {
    "duration": 9,
    "start_time": "2022-09-24T11:08:37.575Z"
   },
   {
    "duration": 3,
    "start_time": "2022-09-24T11:08:37.586Z"
   },
   {
    "duration": 14,
    "start_time": "2022-09-24T11:08:37.590Z"
   },
   {
    "duration": 9,
    "start_time": "2022-09-24T11:08:37.605Z"
   },
   {
    "duration": 7,
    "start_time": "2022-09-24T11:08:37.616Z"
   },
   {
    "duration": 6,
    "start_time": "2022-09-24T11:08:37.626Z"
   },
   {
    "duration": 6,
    "start_time": "2022-09-24T11:08:37.633Z"
   },
   {
    "duration": 6,
    "start_time": "2022-09-24T11:08:37.640Z"
   },
   {
    "duration": 5,
    "start_time": "2022-09-24T11:08:37.648Z"
   },
   {
    "duration": 287,
    "start_time": "2022-09-24T11:08:37.654Z"
   },
   {
    "duration": 5,
    "start_time": "2022-09-24T11:08:37.943Z"
   },
   {
    "duration": 9,
    "start_time": "2022-09-24T11:08:37.950Z"
   },
   {
    "duration": 17,
    "start_time": "2022-09-24T11:08:37.960Z"
   },
   {
    "duration": 32,
    "start_time": "2022-09-24T11:08:37.979Z"
   },
   {
    "duration": 18,
    "start_time": "2022-09-24T11:08:38.013Z"
   },
   {
    "duration": 2,
    "start_time": "2022-09-24T11:18:21.177Z"
   },
   {
    "duration": 12,
    "start_time": "2022-09-24T11:26:26.936Z"
   },
   {
    "duration": 16,
    "start_time": "2022-09-24T11:34:02.556Z"
   },
   {
    "duration": 16,
    "start_time": "2022-09-24T11:36:46.681Z"
   },
   {
    "duration": 6,
    "start_time": "2022-09-24T11:37:51.102Z"
   },
   {
    "duration": 4,
    "start_time": "2022-09-24T11:38:02.472Z"
   },
   {
    "duration": 65,
    "start_time": "2022-09-24T11:58:43.557Z"
   },
   {
    "duration": 8,
    "start_time": "2022-09-24T11:59:28.419Z"
   },
   {
    "duration": 15,
    "start_time": "2022-09-24T11:59:38.701Z"
   },
   {
    "duration": 7,
    "start_time": "2022-09-24T12:08:22.709Z"
   },
   {
    "duration": 7,
    "start_time": "2022-09-24T12:08:31.048Z"
   },
   {
    "duration": 6,
    "start_time": "2022-09-24T12:08:47.140Z"
   },
   {
    "duration": 14,
    "start_time": "2022-09-24T12:09:12.872Z"
   },
   {
    "duration": 26,
    "start_time": "2022-09-24T12:09:48.200Z"
   },
   {
    "duration": 49,
    "start_time": "2022-09-24T12:10:54.750Z"
   },
   {
    "duration": 53,
    "start_time": "2022-09-24T12:12:06.277Z"
   },
   {
    "duration": 46,
    "start_time": "2022-09-24T12:17:55.706Z"
   },
   {
    "duration": 485,
    "start_time": "2022-09-24T12:18:37.647Z"
   },
   {
    "duration": 14,
    "start_time": "2022-09-24T12:18:38.135Z"
   },
   {
    "duration": 1994,
    "start_time": "2022-09-24T12:18:38.151Z"
   },
   {
    "duration": 4,
    "start_time": "2022-09-24T12:18:40.147Z"
   },
   {
    "duration": 9,
    "start_time": "2022-09-24T12:18:40.153Z"
   },
   {
    "duration": 5,
    "start_time": "2022-09-24T12:18:40.163Z"
   },
   {
    "duration": 40,
    "start_time": "2022-09-24T12:18:40.170Z"
   },
   {
    "duration": 13,
    "start_time": "2022-09-24T12:18:40.212Z"
   },
   {
    "duration": 9,
    "start_time": "2022-09-24T12:18:40.227Z"
   },
   {
    "duration": 6,
    "start_time": "2022-09-24T12:18:40.238Z"
   },
   {
    "duration": 8,
    "start_time": "2022-09-24T12:18:40.245Z"
   },
   {
    "duration": 6,
    "start_time": "2022-09-24T12:18:40.254Z"
   },
   {
    "duration": 40,
    "start_time": "2022-09-24T12:18:40.262Z"
   },
   {
    "duration": 248,
    "start_time": "2022-09-24T12:18:40.304Z"
   },
   {
    "duration": 5,
    "start_time": "2022-09-24T12:18:40.553Z"
   },
   {
    "duration": 8,
    "start_time": "2022-09-24T12:18:40.559Z"
   },
   {
    "duration": 6,
    "start_time": "2022-09-24T12:18:40.569Z"
   },
   {
    "duration": 35,
    "start_time": "2022-09-24T12:18:40.576Z"
   },
   {
    "duration": 12,
    "start_time": "2022-09-24T12:18:40.612Z"
   },
   {
    "duration": 5,
    "start_time": "2022-09-24T12:18:40.625Z"
   },
   {
    "duration": 50,
    "start_time": "2022-09-24T12:18:40.631Z"
   },
   {
    "duration": 0,
    "start_time": "2022-09-24T12:18:40.683Z"
   },
   {
    "duration": 66,
    "start_time": "2022-09-24T12:19:01.063Z"
   },
   {
    "duration": 49,
    "start_time": "2022-09-24T12:19:21.150Z"
   },
   {
    "duration": 59,
    "start_time": "2022-09-24T12:19:34.179Z"
   },
   {
    "duration": 45,
    "start_time": "2022-09-24T12:19:53.108Z"
   },
   {
    "duration": 464,
    "start_time": "2022-09-24T12:20:04.815Z"
   },
   {
    "duration": 14,
    "start_time": "2022-09-24T12:20:05.281Z"
   },
   {
    "duration": 1987,
    "start_time": "2022-09-24T12:20:05.296Z"
   },
   {
    "duration": 4,
    "start_time": "2022-09-24T12:20:07.285Z"
   },
   {
    "duration": 13,
    "start_time": "2022-09-24T12:20:07.290Z"
   },
   {
    "duration": 4,
    "start_time": "2022-09-24T12:20:07.305Z"
   },
   {
    "duration": 16,
    "start_time": "2022-09-24T12:20:07.311Z"
   },
   {
    "duration": 13,
    "start_time": "2022-09-24T12:20:07.329Z"
   },
   {
    "duration": 7,
    "start_time": "2022-09-24T12:20:07.344Z"
   },
   {
    "duration": 7,
    "start_time": "2022-09-24T12:20:07.354Z"
   },
   {
    "duration": 11,
    "start_time": "2022-09-24T12:20:07.363Z"
   },
   {
    "duration": 7,
    "start_time": "2022-09-24T12:20:07.401Z"
   },
   {
    "duration": 12,
    "start_time": "2022-09-24T12:20:07.409Z"
   },
   {
    "duration": 268,
    "start_time": "2022-09-24T12:20:07.423Z"
   },
   {
    "duration": 9,
    "start_time": "2022-09-24T12:20:07.693Z"
   },
   {
    "duration": 19,
    "start_time": "2022-09-24T12:20:07.703Z"
   },
   {
    "duration": 9,
    "start_time": "2022-09-24T12:20:07.723Z"
   },
   {
    "duration": 21,
    "start_time": "2022-09-24T12:20:07.733Z"
   },
   {
    "duration": 15,
    "start_time": "2022-09-24T12:20:07.755Z"
   },
   {
    "duration": 5,
    "start_time": "2022-09-24T12:20:07.772Z"
   },
   {
    "duration": 59,
    "start_time": "2022-09-24T12:20:07.778Z"
   },
   {
    "duration": 0,
    "start_time": "2022-09-24T12:20:07.839Z"
   },
   {
    "duration": 47,
    "start_time": "2022-09-24T12:20:32.472Z"
   },
   {
    "duration": 47,
    "start_time": "2022-09-24T12:20:37.005Z"
   },
   {
    "duration": 12,
    "start_time": "2022-09-24T12:20:53.971Z"
   },
   {
    "duration": 8,
    "start_time": "2022-09-24T12:28:32.960Z"
   },
   {
    "duration": 25,
    "start_time": "2022-09-24T12:28:38.367Z"
   },
   {
    "duration": 77,
    "start_time": "2022-09-24T12:46:07.857Z"
   },
   {
    "duration": 12,
    "start_time": "2022-09-24T12:58:31.041Z"
   },
   {
    "duration": 451,
    "start_time": "2022-09-24T12:58:46.830Z"
   },
   {
    "duration": 14,
    "start_time": "2022-09-24T12:58:47.283Z"
   },
   {
    "duration": 1944,
    "start_time": "2022-09-24T12:58:47.298Z"
   },
   {
    "duration": 5,
    "start_time": "2022-09-24T12:58:49.244Z"
   },
   {
    "duration": 14,
    "start_time": "2022-09-24T12:58:49.250Z"
   },
   {
    "duration": 7,
    "start_time": "2022-09-24T12:58:49.265Z"
   },
   {
    "duration": 30,
    "start_time": "2022-09-24T12:58:49.273Z"
   },
   {
    "duration": 12,
    "start_time": "2022-09-24T12:58:49.304Z"
   },
   {
    "duration": 8,
    "start_time": "2022-09-24T12:58:49.317Z"
   },
   {
    "duration": 6,
    "start_time": "2022-09-24T12:58:49.327Z"
   },
   {
    "duration": 9,
    "start_time": "2022-09-24T12:58:49.335Z"
   },
   {
    "duration": 5,
    "start_time": "2022-09-24T12:58:49.346Z"
   },
   {
    "duration": 6,
    "start_time": "2022-09-24T12:58:49.352Z"
   },
   {
    "duration": 294,
    "start_time": "2022-09-24T12:58:49.359Z"
   },
   {
    "duration": 5,
    "start_time": "2022-09-24T12:58:49.655Z"
   },
   {
    "duration": 10,
    "start_time": "2022-09-24T12:58:49.662Z"
   },
   {
    "duration": 5,
    "start_time": "2022-09-24T12:58:49.674Z"
   },
   {
    "duration": 35,
    "start_time": "2022-09-24T12:58:49.681Z"
   },
   {
    "duration": 12,
    "start_time": "2022-09-24T12:58:49.718Z"
   },
   {
    "duration": 4,
    "start_time": "2022-09-24T12:58:49.731Z"
   },
   {
    "duration": 13,
    "start_time": "2022-09-24T12:58:49.737Z"
   },
   {
    "duration": 49,
    "start_time": "2022-09-24T12:58:49.752Z"
   },
   {
    "duration": 60,
    "start_time": "2022-09-24T12:58:49.803Z"
   },
   {
    "duration": 11,
    "start_time": "2022-09-24T12:59:19.310Z"
   },
   {
    "duration": 26,
    "start_time": "2022-09-24T12:59:32.975Z"
   },
   {
    "duration": 2318,
    "start_time": "2022-09-24T13:24:31.892Z"
   },
   {
    "duration": 16,
    "start_time": "2022-09-24T13:24:59.552Z"
   },
   {
    "duration": 5,
    "start_time": "2022-09-24T13:25:31.223Z"
   },
   {
    "duration": 5,
    "start_time": "2022-09-24T13:25:50.165Z"
   },
   {
    "duration": 4,
    "start_time": "2022-09-24T13:26:06.806Z"
   },
   {
    "duration": 6,
    "start_time": "2022-09-24T13:27:18.224Z"
   },
   {
    "duration": 496,
    "start_time": "2022-09-24T13:28:22.099Z"
   },
   {
    "duration": 14,
    "start_time": "2022-09-24T13:28:22.598Z"
   },
   {
    "duration": 2183,
    "start_time": "2022-09-24T13:28:22.614Z"
   },
   {
    "duration": 4,
    "start_time": "2022-09-24T13:28:24.799Z"
   },
   {
    "duration": 10,
    "start_time": "2022-09-24T13:28:24.805Z"
   },
   {
    "duration": 5,
    "start_time": "2022-09-24T13:28:24.816Z"
   },
   {
    "duration": 17,
    "start_time": "2022-09-24T13:28:24.822Z"
   },
   {
    "duration": 9,
    "start_time": "2022-09-24T13:28:24.840Z"
   },
   {
    "duration": 7,
    "start_time": "2022-09-24T13:28:24.851Z"
   },
   {
    "duration": 45,
    "start_time": "2022-09-24T13:28:24.859Z"
   },
   {
    "duration": 5,
    "start_time": "2022-09-24T13:28:24.906Z"
   },
   {
    "duration": 8,
    "start_time": "2022-09-24T13:28:24.913Z"
   },
   {
    "duration": 8,
    "start_time": "2022-09-24T13:28:24.922Z"
   },
   {
    "duration": 267,
    "start_time": "2022-09-24T13:28:24.933Z"
   },
   {
    "duration": 5,
    "start_time": "2022-09-24T13:28:25.202Z"
   },
   {
    "duration": 29,
    "start_time": "2022-09-24T13:28:25.209Z"
   },
   {
    "duration": 9,
    "start_time": "2022-09-24T13:28:25.239Z"
   },
   {
    "duration": 19,
    "start_time": "2022-09-24T13:28:25.250Z"
   },
   {
    "duration": 12,
    "start_time": "2022-09-24T13:28:25.271Z"
   },
   {
    "duration": 4,
    "start_time": "2022-09-24T13:28:25.285Z"
   },
   {
    "duration": 22,
    "start_time": "2022-09-24T13:28:25.290Z"
   },
   {
    "duration": 30,
    "start_time": "2022-09-24T13:28:25.314Z"
   },
   {
    "duration": 0,
    "start_time": "2022-09-24T13:29:51.450Z"
   },
   {
    "duration": 0,
    "start_time": "2022-09-24T13:29:51.451Z"
   },
   {
    "duration": 0,
    "start_time": "2022-09-24T13:29:51.452Z"
   },
   {
    "duration": 69,
    "start_time": "2022-09-24T13:31:12.043Z"
   },
   {
    "duration": 12,
    "start_time": "2022-09-24T13:31:24.973Z"
   },
   {
    "duration": 14,
    "start_time": "2022-09-24T13:32:01.195Z"
   },
   {
    "duration": 9,
    "start_time": "2022-09-24T13:38:13.016Z"
   },
   {
    "duration": 13,
    "start_time": "2022-09-24T13:38:25.027Z"
   },
   {
    "duration": 16,
    "start_time": "2022-09-24T13:40:19.952Z"
   },
   {
    "duration": 11,
    "start_time": "2022-09-24T13:40:43.318Z"
   },
   {
    "duration": 2113,
    "start_time": "2022-09-24T13:42:03.106Z"
   },
   {
    "duration": 27,
    "start_time": "2022-09-24T13:42:07.475Z"
   },
   {
    "duration": 2105,
    "start_time": "2022-09-24T13:42:56.515Z"
   },
   {
    "duration": 506,
    "start_time": "2022-09-24T13:43:03.677Z"
   },
   {
    "duration": 22,
    "start_time": "2022-09-24T13:43:04.186Z"
   },
   {
    "duration": 2218,
    "start_time": "2022-09-24T13:43:04.210Z"
   },
   {
    "duration": 5,
    "start_time": "2022-09-24T13:43:06.431Z"
   },
   {
    "duration": 21,
    "start_time": "2022-09-24T13:43:06.438Z"
   },
   {
    "duration": 10,
    "start_time": "2022-09-24T13:43:06.461Z"
   },
   {
    "duration": 12,
    "start_time": "2022-09-24T13:43:06.473Z"
   },
   {
    "duration": 31,
    "start_time": "2022-09-24T13:43:06.486Z"
   },
   {
    "duration": 12,
    "start_time": "2022-09-24T13:43:06.518Z"
   },
   {
    "duration": 29,
    "start_time": "2022-09-24T13:43:06.532Z"
   },
   {
    "duration": 33,
    "start_time": "2022-09-24T13:43:06.562Z"
   },
   {
    "duration": 13,
    "start_time": "2022-09-24T13:43:06.597Z"
   },
   {
    "duration": 11,
    "start_time": "2022-09-24T13:43:06.611Z"
   },
   {
    "duration": 354,
    "start_time": "2022-09-24T13:43:06.624Z"
   },
   {
    "duration": 6,
    "start_time": "2022-09-24T13:43:06.979Z"
   },
   {
    "duration": 16,
    "start_time": "2022-09-24T13:43:06.986Z"
   },
   {
    "duration": 9,
    "start_time": "2022-09-24T13:43:07.004Z"
   },
   {
    "duration": 24,
    "start_time": "2022-09-24T13:43:07.015Z"
   },
   {
    "duration": 12,
    "start_time": "2022-09-24T13:43:07.040Z"
   },
   {
    "duration": 7,
    "start_time": "2022-09-24T13:43:07.053Z"
   },
   {
    "duration": 44,
    "start_time": "2022-09-24T13:43:07.062Z"
   },
   {
    "duration": 36,
    "start_time": "2022-09-24T13:43:07.108Z"
   },
   {
    "duration": 2106,
    "start_time": "2022-09-24T13:43:07.146Z"
   },
   {
    "duration": 30,
    "start_time": "2022-09-24T13:43:09.254Z"
   },
   {
    "duration": 3,
    "start_time": "2022-09-24T13:43:09.299Z"
   },
   {
    "duration": 2022,
    "start_time": "2022-09-24T13:46:05.635Z"
   },
   {
    "duration": 28,
    "start_time": "2022-09-24T13:46:37.381Z"
   },
   {
    "duration": 33,
    "start_time": "2022-09-24T13:47:02.049Z"
   },
   {
    "duration": 4,
    "start_time": "2022-09-24T13:47:26.489Z"
   },
   {
    "duration": 54,
    "start_time": "2022-09-24T13:48:19.106Z"
   },
   {
    "duration": 4,
    "start_time": "2022-09-24T13:48:25.576Z"
   },
   {
    "duration": 44,
    "start_time": "2022-09-24T13:50:32.672Z"
   },
   {
    "duration": 4,
    "start_time": "2022-09-24T13:50:37.188Z"
   },
   {
    "duration": 447,
    "start_time": "2022-09-24T13:51:12.226Z"
   },
   {
    "duration": 13,
    "start_time": "2022-09-24T13:51:12.675Z"
   },
   {
    "duration": 2087,
    "start_time": "2022-09-24T13:51:12.689Z"
   },
   {
    "duration": 5,
    "start_time": "2022-09-24T13:51:14.778Z"
   },
   {
    "duration": 26,
    "start_time": "2022-09-24T13:51:14.784Z"
   },
   {
    "duration": 20,
    "start_time": "2022-09-24T13:51:14.812Z"
   },
   {
    "duration": 30,
    "start_time": "2022-09-24T13:51:14.834Z"
   },
   {
    "duration": 26,
    "start_time": "2022-09-24T13:51:14.865Z"
   },
   {
    "duration": 35,
    "start_time": "2022-09-24T13:51:14.893Z"
   },
   {
    "duration": 39,
    "start_time": "2022-09-24T13:51:14.931Z"
   },
   {
    "duration": 37,
    "start_time": "2022-09-24T13:51:14.972Z"
   },
   {
    "duration": 9,
    "start_time": "2022-09-24T13:51:15.011Z"
   },
   {
    "duration": 6,
    "start_time": "2022-09-24T13:51:15.022Z"
   },
   {
    "duration": 266,
    "start_time": "2022-09-24T13:51:15.029Z"
   },
   {
    "duration": 7,
    "start_time": "2022-09-24T13:51:15.297Z"
   },
   {
    "duration": 21,
    "start_time": "2022-09-24T13:51:15.305Z"
   },
   {
    "duration": 7,
    "start_time": "2022-09-24T13:51:15.330Z"
   },
   {
    "duration": 24,
    "start_time": "2022-09-24T13:51:15.339Z"
   },
   {
    "duration": 14,
    "start_time": "2022-09-24T13:51:15.364Z"
   },
   {
    "duration": 4,
    "start_time": "2022-09-24T13:51:15.380Z"
   },
   {
    "duration": 25,
    "start_time": "2022-09-24T13:51:15.386Z"
   },
   {
    "duration": 29,
    "start_time": "2022-09-24T13:51:15.413Z"
   },
   {
    "duration": 69,
    "start_time": "2022-09-24T13:51:15.444Z"
   },
   {
    "duration": 5,
    "start_time": "2022-09-24T13:51:15.515Z"
   },
   {
    "duration": 35,
    "start_time": "2022-09-24T13:51:15.521Z"
   },
   {
    "duration": 434,
    "start_time": "2022-09-24T13:52:07.342Z"
   },
   {
    "duration": 13,
    "start_time": "2022-09-24T13:52:07.777Z"
   },
   {
    "duration": 1971,
    "start_time": "2022-09-24T13:52:07.791Z"
   },
   {
    "duration": 3,
    "start_time": "2022-09-24T13:52:09.764Z"
   },
   {
    "duration": 9,
    "start_time": "2022-09-24T13:52:09.769Z"
   },
   {
    "duration": 4,
    "start_time": "2022-09-24T13:52:09.779Z"
   },
   {
    "duration": 19,
    "start_time": "2022-09-24T13:52:09.784Z"
   },
   {
    "duration": 9,
    "start_time": "2022-09-24T13:52:09.805Z"
   },
   {
    "duration": 7,
    "start_time": "2022-09-24T13:52:09.815Z"
   },
   {
    "duration": 8,
    "start_time": "2022-09-24T13:52:09.823Z"
   },
   {
    "duration": 6,
    "start_time": "2022-09-24T13:52:09.832Z"
   },
   {
    "duration": 5,
    "start_time": "2022-09-24T13:52:09.839Z"
   },
   {
    "duration": 7,
    "start_time": "2022-09-24T13:52:09.845Z"
   },
   {
    "duration": 274,
    "start_time": "2022-09-24T13:52:09.854Z"
   },
   {
    "duration": 5,
    "start_time": "2022-09-24T13:52:10.129Z"
   },
   {
    "duration": 11,
    "start_time": "2022-09-24T13:52:10.135Z"
   },
   {
    "duration": 6,
    "start_time": "2022-09-24T13:52:10.147Z"
   },
   {
    "duration": 21,
    "start_time": "2022-09-24T13:52:10.154Z"
   },
   {
    "duration": 30,
    "start_time": "2022-09-24T13:52:10.176Z"
   },
   {
    "duration": 4,
    "start_time": "2022-09-24T13:52:10.207Z"
   },
   {
    "duration": 14,
    "start_time": "2022-09-24T13:52:10.212Z"
   },
   {
    "duration": 25,
    "start_time": "2022-09-24T13:52:10.227Z"
   },
   {
    "duration": 63,
    "start_time": "2022-09-24T13:52:10.253Z"
   },
   {
    "duration": 4,
    "start_time": "2022-09-24T13:52:10.318Z"
   },
   {
    "duration": 31,
    "start_time": "2022-09-24T13:52:10.323Z"
   },
   {
    "duration": 1957,
    "start_time": "2022-09-24T13:53:26.274Z"
   },
   {
    "duration": 4,
    "start_time": "2022-09-24T13:53:29.922Z"
   },
   {
    "duration": 51,
    "start_time": "2022-09-24T13:55:03.514Z"
   },
   {
    "duration": 5,
    "start_time": "2022-09-24T13:55:06.363Z"
   },
   {
    "duration": 45,
    "start_time": "2022-09-24T13:55:50.254Z"
   },
   {
    "duration": 5,
    "start_time": "2022-09-24T13:55:54.522Z"
   },
   {
    "duration": 90,
    "start_time": "2022-09-24T13:56:10.430Z"
   },
   {
    "duration": 81,
    "start_time": "2022-09-24T13:56:23.323Z"
   },
   {
    "duration": 50,
    "start_time": "2022-09-24T13:58:58.510Z"
   },
   {
    "duration": 5,
    "start_time": "2022-09-24T13:59:00.604Z"
   },
   {
    "duration": 283,
    "start_time": "2022-09-24T13:59:10.294Z"
   },
   {
    "duration": 68,
    "start_time": "2022-09-24T14:00:06.314Z"
   },
   {
    "duration": 4,
    "start_time": "2022-09-24T14:00:11.510Z"
   },
   {
    "duration": 50,
    "start_time": "2022-09-24T14:00:32.972Z"
   },
   {
    "duration": 4,
    "start_time": "2022-09-24T14:00:36.212Z"
   },
   {
    "duration": 63,
    "start_time": "2022-09-24T14:01:17.237Z"
   },
   {
    "duration": 5,
    "start_time": "2022-09-24T14:01:19.605Z"
   },
   {
    "duration": 35,
    "start_time": "2022-09-24T14:01:41.605Z"
   },
   {
    "duration": 36,
    "start_time": "2022-09-24T14:01:54.198Z"
   },
   {
    "duration": 45,
    "start_time": "2022-09-24T14:02:02.038Z"
   },
   {
    "duration": 4,
    "start_time": "2022-09-24T14:02:08.585Z"
   },
   {
    "duration": 48,
    "start_time": "2022-09-24T14:02:16.898Z"
   },
   {
    "duration": 49,
    "start_time": "2022-09-24T14:05:12.902Z"
   },
   {
    "duration": 4,
    "start_time": "2022-09-24T14:05:16.243Z"
   },
   {
    "duration": 1982,
    "start_time": "2022-09-24T14:05:44.998Z"
   },
   {
    "duration": 4,
    "start_time": "2022-09-24T14:05:48.061Z"
   },
   {
    "duration": 2030,
    "start_time": "2022-09-24T14:06:09.548Z"
   },
   {
    "duration": 5,
    "start_time": "2022-09-24T14:06:12.506Z"
   },
   {
    "duration": 1962,
    "start_time": "2022-09-24T14:06:58.183Z"
   },
   {
    "duration": 4,
    "start_time": "2022-09-24T14:07:00.623Z"
   },
   {
    "duration": 2098,
    "start_time": "2022-09-24T14:08:14.306Z"
   },
   {
    "duration": 50,
    "start_time": "2022-09-24T14:08:37.736Z"
   },
   {
    "duration": 4,
    "start_time": "2022-09-24T14:08:39.782Z"
   },
   {
    "duration": 15,
    "start_time": "2022-09-24T14:15:33.373Z"
   },
   {
    "duration": 4,
    "start_time": "2022-09-24T14:15:35.407Z"
   },
   {
    "duration": 20,
    "start_time": "2022-09-24T14:16:00.621Z"
   },
   {
    "duration": 6,
    "start_time": "2022-09-24T14:16:02.967Z"
   },
   {
    "duration": 21,
    "start_time": "2022-09-24T14:16:38.961Z"
   },
   {
    "duration": 6,
    "start_time": "2022-09-24T14:16:41.215Z"
   },
   {
    "duration": 2113,
    "start_time": "2022-09-24T14:17:17.838Z"
   },
   {
    "duration": 4,
    "start_time": "2022-09-24T14:17:20.669Z"
   },
   {
    "duration": 490,
    "start_time": "2022-09-24T14:17:28.372Z"
   },
   {
    "duration": 14,
    "start_time": "2022-09-24T14:17:28.864Z"
   },
   {
    "duration": 2198,
    "start_time": "2022-09-24T14:17:28.879Z"
   },
   {
    "duration": 5,
    "start_time": "2022-09-24T14:17:31.080Z"
   },
   {
    "duration": 12,
    "start_time": "2022-09-24T14:17:31.100Z"
   },
   {
    "duration": 6,
    "start_time": "2022-09-24T14:17:31.115Z"
   },
   {
    "duration": 11,
    "start_time": "2022-09-24T14:17:31.124Z"
   },
   {
    "duration": 12,
    "start_time": "2022-09-24T14:17:31.137Z"
   },
   {
    "duration": 12,
    "start_time": "2022-09-24T14:17:31.150Z"
   },
   {
    "duration": 9,
    "start_time": "2022-09-24T14:17:31.165Z"
   },
   {
    "duration": 5,
    "start_time": "2022-09-24T14:17:31.200Z"
   },
   {
    "duration": 9,
    "start_time": "2022-09-24T14:17:31.207Z"
   },
   {
    "duration": 6,
    "start_time": "2022-09-24T14:17:31.217Z"
   },
   {
    "duration": 301,
    "start_time": "2022-09-24T14:17:31.225Z"
   },
   {
    "duration": 6,
    "start_time": "2022-09-24T14:17:31.528Z"
   },
   {
    "duration": 8,
    "start_time": "2022-09-24T14:17:31.536Z"
   },
   {
    "duration": 6,
    "start_time": "2022-09-24T14:17:31.545Z"
   },
   {
    "duration": 20,
    "start_time": "2022-09-24T14:17:31.553Z"
   },
   {
    "duration": 35,
    "start_time": "2022-09-24T14:17:31.575Z"
   },
   {
    "duration": 5,
    "start_time": "2022-09-24T14:17:31.612Z"
   },
   {
    "duration": 17,
    "start_time": "2022-09-24T14:17:31.619Z"
   },
   {
    "duration": 29,
    "start_time": "2022-09-24T14:17:31.637Z"
   },
   {
    "duration": 2075,
    "start_time": "2022-09-24T14:17:31.668Z"
   },
   {
    "duration": 4,
    "start_time": "2022-09-24T14:17:33.745Z"
   },
   {
    "duration": 34,
    "start_time": "2022-09-24T14:17:33.750Z"
   },
   {
    "duration": 1998,
    "start_time": "2022-09-24T14:17:55.350Z"
   },
   {
    "duration": 4,
    "start_time": "2022-09-24T14:17:57.349Z"
   },
   {
    "duration": 15,
    "start_time": "2022-09-24T14:19:28.440Z"
   },
   {
    "duration": 4,
    "start_time": "2022-09-24T14:19:31.209Z"
   },
   {
    "duration": 2508,
    "start_time": "2022-09-24T14:21:49.063Z"
   },
   {
    "duration": 134,
    "start_time": "2022-09-24T14:23:12.373Z"
   },
   {
    "duration": 207,
    "start_time": "2022-09-24T14:23:36.673Z"
   },
   {
    "duration": 9,
    "start_time": "2022-09-24T14:25:10.392Z"
   },
   {
    "duration": 5,
    "start_time": "2022-09-24T14:25:13.089Z"
   },
   {
    "duration": 10,
    "start_time": "2022-09-24T14:26:28.527Z"
   },
   {
    "duration": 10,
    "start_time": "2022-09-24T14:26:45.232Z"
   },
   {
    "duration": 1034,
    "start_time": "2022-09-24T14:26:48.184Z"
   },
   {
    "duration": 9,
    "start_time": "2022-09-24T14:27:32.322Z"
   },
   {
    "duration": 808,
    "start_time": "2022-09-24T14:27:37.493Z"
   },
   {
    "duration": 452,
    "start_time": "2022-09-24T14:28:00.529Z"
   },
   {
    "duration": 14,
    "start_time": "2022-09-24T14:28:00.983Z"
   },
   {
    "duration": 2020,
    "start_time": "2022-09-24T14:28:00.999Z"
   },
   {
    "duration": 3,
    "start_time": "2022-09-24T14:28:03.021Z"
   },
   {
    "duration": 17,
    "start_time": "2022-09-24T14:28:03.026Z"
   },
   {
    "duration": 13,
    "start_time": "2022-09-24T14:28:03.044Z"
   },
   {
    "duration": 23,
    "start_time": "2022-09-24T14:28:03.059Z"
   },
   {
    "duration": 12,
    "start_time": "2022-09-24T14:28:03.083Z"
   },
   {
    "duration": 8,
    "start_time": "2022-09-24T14:28:03.096Z"
   },
   {
    "duration": 7,
    "start_time": "2022-09-24T14:28:03.106Z"
   },
   {
    "duration": 13,
    "start_time": "2022-09-24T14:28:03.114Z"
   },
   {
    "duration": 6,
    "start_time": "2022-09-24T14:28:03.128Z"
   },
   {
    "duration": 9,
    "start_time": "2022-09-24T14:28:03.135Z"
   },
   {
    "duration": 262,
    "start_time": "2022-09-24T14:28:03.146Z"
   },
   {
    "duration": 5,
    "start_time": "2022-09-24T14:28:03.409Z"
   },
   {
    "duration": 15,
    "start_time": "2022-09-24T14:28:03.416Z"
   },
   {
    "duration": 14,
    "start_time": "2022-09-24T14:28:03.433Z"
   },
   {
    "duration": 22,
    "start_time": "2022-09-24T14:28:03.449Z"
   },
   {
    "duration": 12,
    "start_time": "2022-09-24T14:28:03.472Z"
   },
   {
    "duration": 17,
    "start_time": "2022-09-24T14:28:03.485Z"
   },
   {
    "duration": 12,
    "start_time": "2022-09-24T14:28:03.504Z"
   },
   {
    "duration": 29,
    "start_time": "2022-09-24T14:28:03.517Z"
   },
   {
    "duration": 80,
    "start_time": "2022-09-24T14:28:03.547Z"
   },
   {
    "duration": 0,
    "start_time": "2022-09-24T14:28:03.629Z"
   },
   {
    "duration": 0,
    "start_time": "2022-09-24T14:28:03.630Z"
   },
   {
    "duration": 2090,
    "start_time": "2022-09-24T14:28:37.401Z"
   },
   {
    "duration": 4,
    "start_time": "2022-09-24T14:28:40.587Z"
   },
   {
    "duration": 2165,
    "start_time": "2022-09-24T14:29:43.955Z"
   },
   {
    "duration": 5,
    "start_time": "2022-09-24T14:29:47.515Z"
   },
   {
    "duration": 1985,
    "start_time": "2022-09-24T14:31:00.915Z"
   },
   {
    "duration": 5,
    "start_time": "2022-09-24T14:31:04.932Z"
   },
   {
    "duration": 93,
    "start_time": "2022-09-24T14:31:14.883Z"
   },
   {
    "duration": 1966,
    "start_time": "2022-09-24T14:31:31.273Z"
   },
   {
    "duration": 4,
    "start_time": "2022-09-24T14:31:33.892Z"
   },
   {
    "duration": 1993,
    "start_time": "2022-09-24T14:32:00.363Z"
   },
   {
    "duration": 5,
    "start_time": "2022-09-24T14:32:02.965Z"
   },
   {
    "duration": 29,
    "start_time": "2022-09-24T14:32:13.676Z"
   },
   {
    "duration": 4,
    "start_time": "2022-09-24T14:32:14.985Z"
   },
   {
    "duration": 21,
    "start_time": "2022-09-24T14:32:58.959Z"
   },
   {
    "duration": 4,
    "start_time": "2022-09-24T14:33:01.536Z"
   },
   {
    "duration": 15,
    "start_time": "2022-09-24T14:33:32.066Z"
   },
   {
    "duration": 5,
    "start_time": "2022-09-24T14:33:33.977Z"
   },
   {
    "duration": 16,
    "start_time": "2022-09-24T14:34:18.143Z"
   },
   {
    "duration": 5,
    "start_time": "2022-09-24T14:34:20.207Z"
   },
   {
    "duration": 30,
    "start_time": "2022-09-24T14:34:22.017Z"
   },
   {
    "duration": 15,
    "start_time": "2022-09-24T14:34:52.426Z"
   },
   {
    "duration": 6,
    "start_time": "2022-09-24T14:34:54.427Z"
   },
   {
    "duration": 435,
    "start_time": "2022-09-24T14:35:12.632Z"
   },
   {
    "duration": 13,
    "start_time": "2022-09-24T14:35:13.068Z"
   },
   {
    "duration": 2062,
    "start_time": "2022-09-24T14:35:13.083Z"
   },
   {
    "duration": 5,
    "start_time": "2022-09-24T14:35:15.146Z"
   },
   {
    "duration": 8,
    "start_time": "2022-09-24T14:35:15.152Z"
   },
   {
    "duration": 4,
    "start_time": "2022-09-24T14:35:15.161Z"
   },
   {
    "duration": 35,
    "start_time": "2022-09-24T14:35:15.166Z"
   },
   {
    "duration": 10,
    "start_time": "2022-09-24T14:35:15.202Z"
   },
   {
    "duration": 8,
    "start_time": "2022-09-24T14:35:15.213Z"
   },
   {
    "duration": 6,
    "start_time": "2022-09-24T14:35:15.222Z"
   },
   {
    "duration": 6,
    "start_time": "2022-09-24T14:35:15.229Z"
   },
   {
    "duration": 5,
    "start_time": "2022-09-24T14:35:15.237Z"
   },
   {
    "duration": 5,
    "start_time": "2022-09-24T14:35:15.243Z"
   },
   {
    "duration": 322,
    "start_time": "2022-09-24T14:35:15.250Z"
   },
   {
    "duration": 5,
    "start_time": "2022-09-24T14:35:15.574Z"
   },
   {
    "duration": 9,
    "start_time": "2022-09-24T14:35:15.580Z"
   },
   {
    "duration": 12,
    "start_time": "2022-09-24T14:35:15.590Z"
   },
   {
    "duration": 19,
    "start_time": "2022-09-24T14:35:15.604Z"
   },
   {
    "duration": 12,
    "start_time": "2022-09-24T14:35:15.625Z"
   },
   {
    "duration": 5,
    "start_time": "2022-09-24T14:35:15.638Z"
   },
   {
    "duration": 19,
    "start_time": "2022-09-24T14:35:15.644Z"
   },
   {
    "duration": 51,
    "start_time": "2022-09-24T14:35:15.665Z"
   },
   {
    "duration": 84,
    "start_time": "2022-09-24T14:35:15.717Z"
   },
   {
    "duration": 0,
    "start_time": "2022-09-24T14:35:15.803Z"
   },
   {
    "duration": 0,
    "start_time": "2022-09-24T14:35:15.805Z"
   },
   {
    "duration": 845,
    "start_time": "2022-09-24T14:35:22.349Z"
   },
   {
    "duration": 16,
    "start_time": "2022-09-24T14:36:20.208Z"
   },
   {
    "duration": 864,
    "start_time": "2022-09-24T14:36:32.806Z"
   },
   {
    "duration": 386,
    "start_time": "2022-09-24T14:36:58.380Z"
   },
   {
    "duration": 387,
    "start_time": "2022-09-24T14:37:12.523Z"
   },
   {
    "duration": 21,
    "start_time": "2022-09-24T14:37:21.424Z"
   },
   {
    "duration": 6,
    "start_time": "2022-09-24T14:37:25.612Z"
   },
   {
    "duration": 2021,
    "start_time": "2022-09-24T14:38:23.520Z"
   },
   {
    "duration": 6,
    "start_time": "2022-09-24T14:38:34.091Z"
   },
   {
    "duration": 14,
    "start_time": "2022-09-24T14:39:10.622Z"
   },
   {
    "duration": 4,
    "start_time": "2022-09-24T14:39:13.548Z"
   },
   {
    "duration": 478,
    "start_time": "2022-09-24T14:39:26.996Z"
   },
   {
    "duration": 14,
    "start_time": "2022-09-24T14:39:27.476Z"
   },
   {
    "duration": 2025,
    "start_time": "2022-09-24T14:39:27.491Z"
   },
   {
    "duration": 5,
    "start_time": "2022-09-24T14:39:29.518Z"
   },
   {
    "duration": 13,
    "start_time": "2022-09-24T14:39:29.525Z"
   },
   {
    "duration": 5,
    "start_time": "2022-09-24T14:39:29.539Z"
   },
   {
    "duration": 9,
    "start_time": "2022-09-24T14:39:29.546Z"
   },
   {
    "duration": 9,
    "start_time": "2022-09-24T14:39:29.557Z"
   },
   {
    "duration": 34,
    "start_time": "2022-09-24T14:39:29.568Z"
   },
   {
    "duration": 8,
    "start_time": "2022-09-24T14:39:29.604Z"
   },
   {
    "duration": 6,
    "start_time": "2022-09-24T14:39:29.613Z"
   },
   {
    "duration": 8,
    "start_time": "2022-09-24T14:39:29.620Z"
   },
   {
    "duration": 5,
    "start_time": "2022-09-24T14:39:29.630Z"
   },
   {
    "duration": 287,
    "start_time": "2022-09-24T14:39:29.638Z"
   },
   {
    "duration": 6,
    "start_time": "2022-09-24T14:39:29.926Z"
   },
   {
    "duration": 10,
    "start_time": "2022-09-24T14:39:29.933Z"
   },
   {
    "duration": 6,
    "start_time": "2022-09-24T14:39:29.945Z"
   },
   {
    "duration": 18,
    "start_time": "2022-09-24T14:39:29.952Z"
   },
   {
    "duration": 28,
    "start_time": "2022-09-24T14:39:29.972Z"
   },
   {
    "duration": 6,
    "start_time": "2022-09-24T14:39:30.002Z"
   },
   {
    "duration": 31,
    "start_time": "2022-09-24T14:39:30.009Z"
   },
   {
    "duration": 43,
    "start_time": "2022-09-24T14:39:30.041Z"
   },
   {
    "duration": 116,
    "start_time": "2022-09-24T14:39:30.085Z"
   },
   {
    "duration": 0,
    "start_time": "2022-09-24T14:39:30.203Z"
   },
   {
    "duration": 0,
    "start_time": "2022-09-24T14:39:30.204Z"
   },
   {
    "duration": 1044,
    "start_time": "2022-09-24T14:40:33.835Z"
   },
   {
    "duration": 482,
    "start_time": "2022-09-24T14:41:49.700Z"
   },
   {
    "duration": 17,
    "start_time": "2022-09-24T14:41:50.184Z"
   },
   {
    "duration": 2097,
    "start_time": "2022-09-24T14:41:50.202Z"
   },
   {
    "duration": 4,
    "start_time": "2022-09-24T14:41:52.301Z"
   },
   {
    "duration": 12,
    "start_time": "2022-09-24T14:41:52.307Z"
   },
   {
    "duration": 6,
    "start_time": "2022-09-24T14:41:52.320Z"
   },
   {
    "duration": 14,
    "start_time": "2022-09-24T14:41:52.327Z"
   },
   {
    "duration": 10,
    "start_time": "2022-09-24T14:41:52.343Z"
   },
   {
    "duration": 8,
    "start_time": "2022-09-24T14:41:52.354Z"
   },
   {
    "duration": 9,
    "start_time": "2022-09-24T14:41:52.364Z"
   },
   {
    "duration": 29,
    "start_time": "2022-09-24T14:41:52.374Z"
   },
   {
    "duration": 5,
    "start_time": "2022-09-24T14:41:52.404Z"
   },
   {
    "duration": 11,
    "start_time": "2022-09-24T14:41:52.410Z"
   },
   {
    "duration": 256,
    "start_time": "2022-09-24T14:41:52.422Z"
   },
   {
    "duration": 6,
    "start_time": "2022-09-24T14:41:52.680Z"
   },
   {
    "duration": 17,
    "start_time": "2022-09-24T14:41:52.688Z"
   },
   {
    "duration": 8,
    "start_time": "2022-09-24T14:41:52.707Z"
   },
   {
    "duration": 23,
    "start_time": "2022-09-24T14:41:52.717Z"
   },
   {
    "duration": 12,
    "start_time": "2022-09-24T14:41:52.742Z"
   },
   {
    "duration": 4,
    "start_time": "2022-09-24T14:41:52.756Z"
   },
   {
    "duration": 22,
    "start_time": "2022-09-24T14:41:52.762Z"
   },
   {
    "duration": 36,
    "start_time": "2022-09-24T14:41:52.785Z"
   },
   {
    "duration": 492,
    "start_time": "2022-09-24T14:43:01.476Z"
   },
   {
    "duration": 14,
    "start_time": "2022-09-24T14:43:01.970Z"
   },
   {
    "duration": 2044,
    "start_time": "2022-09-24T14:43:01.986Z"
   },
   {
    "duration": 4,
    "start_time": "2022-09-24T14:43:04.032Z"
   },
   {
    "duration": 9,
    "start_time": "2022-09-24T14:43:04.037Z"
   },
   {
    "duration": 3,
    "start_time": "2022-09-24T14:43:04.048Z"
   },
   {
    "duration": 15,
    "start_time": "2022-09-24T14:43:04.053Z"
   },
   {
    "duration": 9,
    "start_time": "2022-09-24T14:43:04.070Z"
   },
   {
    "duration": 11,
    "start_time": "2022-09-24T14:43:04.100Z"
   },
   {
    "duration": 7,
    "start_time": "2022-09-24T14:43:04.113Z"
   },
   {
    "duration": 8,
    "start_time": "2022-09-24T14:43:04.122Z"
   },
   {
    "duration": 4,
    "start_time": "2022-09-24T14:43:04.132Z"
   },
   {
    "duration": 10,
    "start_time": "2022-09-24T14:43:04.138Z"
   },
   {
    "duration": 280,
    "start_time": "2022-09-24T14:43:04.151Z"
   },
   {
    "duration": 6,
    "start_time": "2022-09-24T14:43:04.433Z"
   },
   {
    "duration": 8,
    "start_time": "2022-09-24T14:43:04.442Z"
   },
   {
    "duration": 14,
    "start_time": "2022-09-24T14:43:04.452Z"
   },
   {
    "duration": 35,
    "start_time": "2022-09-24T14:43:04.467Z"
   },
   {
    "duration": 16,
    "start_time": "2022-09-24T14:43:04.504Z"
   },
   {
    "duration": 5,
    "start_time": "2022-09-24T14:43:04.523Z"
   },
   {
    "duration": 24,
    "start_time": "2022-09-24T14:43:04.530Z"
   },
   {
    "duration": 47,
    "start_time": "2022-09-24T14:43:04.556Z"
   },
   {
    "duration": 2016,
    "start_time": "2022-09-24T14:43:04.604Z"
   },
   {
    "duration": 4,
    "start_time": "2022-09-24T14:43:06.621Z"
   },
   {
    "duration": 42,
    "start_time": "2022-09-24T14:43:06.627Z"
   },
   {
    "duration": 428,
    "start_time": "2022-09-24T14:43:46.057Z"
   },
   {
    "duration": 15,
    "start_time": "2022-09-24T14:43:46.487Z"
   },
   {
    "duration": 1885,
    "start_time": "2022-09-24T14:43:46.503Z"
   },
   {
    "duration": 4,
    "start_time": "2022-09-24T14:43:48.390Z"
   },
   {
    "duration": 6,
    "start_time": "2022-09-24T14:43:48.400Z"
   },
   {
    "duration": 4,
    "start_time": "2022-09-24T14:43:48.408Z"
   },
   {
    "duration": 11,
    "start_time": "2022-09-24T14:43:48.414Z"
   },
   {
    "duration": 8,
    "start_time": "2022-09-24T14:43:48.427Z"
   },
   {
    "duration": 7,
    "start_time": "2022-09-24T14:43:48.437Z"
   },
   {
    "duration": 6,
    "start_time": "2022-09-24T14:43:48.446Z"
   },
   {
    "duration": 10,
    "start_time": "2022-09-24T14:43:48.453Z"
   },
   {
    "duration": 40,
    "start_time": "2022-09-24T14:43:48.464Z"
   },
   {
    "duration": 4,
    "start_time": "2022-09-24T14:43:48.506Z"
   },
   {
    "duration": 253,
    "start_time": "2022-09-24T14:43:48.512Z"
   },
   {
    "duration": 4,
    "start_time": "2022-09-24T14:43:48.767Z"
   },
   {
    "duration": 13,
    "start_time": "2022-09-24T14:43:48.772Z"
   },
   {
    "duration": 7,
    "start_time": "2022-09-24T14:43:48.786Z"
   },
   {
    "duration": 19,
    "start_time": "2022-09-24T14:43:48.794Z"
   },
   {
    "duration": 11,
    "start_time": "2022-09-24T14:43:48.814Z"
   },
   {
    "duration": 4,
    "start_time": "2022-09-24T14:43:48.826Z"
   },
   {
    "duration": 17,
    "start_time": "2022-09-24T14:43:48.831Z"
   },
   {
    "duration": 24,
    "start_time": "2022-09-24T14:43:48.849Z"
   },
   {
    "duration": 476,
    "start_time": "2022-09-24T14:44:29.201Z"
   },
   {
    "duration": 13,
    "start_time": "2022-09-24T14:44:29.678Z"
   },
   {
    "duration": 1886,
    "start_time": "2022-09-24T14:44:29.692Z"
   },
   {
    "duration": 3,
    "start_time": "2022-09-24T14:44:31.580Z"
   },
   {
    "duration": 21,
    "start_time": "2022-09-24T14:44:31.585Z"
   },
   {
    "duration": 8,
    "start_time": "2022-09-24T14:44:31.607Z"
   },
   {
    "duration": 24,
    "start_time": "2022-09-24T14:44:31.617Z"
   },
   {
    "duration": 12,
    "start_time": "2022-09-24T14:44:31.643Z"
   },
   {
    "duration": 7,
    "start_time": "2022-09-24T14:44:31.656Z"
   },
   {
    "duration": 10,
    "start_time": "2022-09-24T14:44:31.665Z"
   },
   {
    "duration": 14,
    "start_time": "2022-09-24T14:44:31.676Z"
   },
   {
    "duration": 5,
    "start_time": "2022-09-24T14:44:31.691Z"
   },
   {
    "duration": 9,
    "start_time": "2022-09-24T14:44:31.699Z"
   },
   {
    "duration": 234,
    "start_time": "2022-09-24T14:44:31.709Z"
   },
   {
    "duration": 5,
    "start_time": "2022-09-24T14:44:31.944Z"
   },
   {
    "duration": 8,
    "start_time": "2022-09-24T14:44:31.950Z"
   },
   {
    "duration": 6,
    "start_time": "2022-09-24T14:44:31.959Z"
   },
   {
    "duration": 36,
    "start_time": "2022-09-24T14:44:31.966Z"
   },
   {
    "duration": 12,
    "start_time": "2022-09-24T14:44:32.003Z"
   },
   {
    "duration": 4,
    "start_time": "2022-09-24T14:44:32.016Z"
   },
   {
    "duration": 12,
    "start_time": "2022-09-24T14:44:32.022Z"
   },
   {
    "duration": 24,
    "start_time": "2022-09-24T14:44:32.035Z"
   },
   {
    "duration": 2102,
    "start_time": "2022-09-24T14:44:32.061Z"
   },
   {
    "duration": 5,
    "start_time": "2022-09-24T14:44:34.164Z"
   },
   {
    "duration": 44,
    "start_time": "2022-09-24T14:44:34.171Z"
   },
   {
    "duration": 14,
    "start_time": "2022-09-24T14:44:52.675Z"
   },
   {
    "duration": 4,
    "start_time": "2022-09-24T14:44:55.911Z"
   },
   {
    "duration": 1989,
    "start_time": "2022-09-24T14:45:21.968Z"
   },
   {
    "duration": 5,
    "start_time": "2022-09-24T14:45:24.642Z"
   },
   {
    "duration": 1991,
    "start_time": "2022-09-24T14:46:09.915Z"
   },
   {
    "duration": 5,
    "start_time": "2022-09-24T14:46:11.907Z"
   },
   {
    "duration": 2017,
    "start_time": "2022-09-24T14:46:35.086Z"
   },
   {
    "duration": 4,
    "start_time": "2022-09-24T14:46:38.237Z"
   },
   {
    "duration": 2359,
    "start_time": "2022-09-24T14:48:13.125Z"
   },
   {
    "duration": 4,
    "start_time": "2022-09-24T14:48:15.487Z"
   },
   {
    "duration": 2318,
    "start_time": "2022-09-24T14:48:48.669Z"
   },
   {
    "duration": 4,
    "start_time": "2022-09-24T14:48:50.989Z"
   },
   {
    "duration": 1971,
    "start_time": "2022-09-24T14:49:15.403Z"
   },
   {
    "duration": 5,
    "start_time": "2022-09-24T14:49:19.229Z"
   },
   {
    "duration": 392,
    "start_time": "2022-09-24T15:01:28.177Z"
   },
   {
    "duration": 2011,
    "start_time": "2022-09-24T15:01:54.439Z"
   },
   {
    "duration": 4,
    "start_time": "2022-09-24T15:01:56.916Z"
   },
   {
    "duration": 1925,
    "start_time": "2022-09-24T15:02:26.794Z"
   },
   {
    "duration": 2002,
    "start_time": "2022-09-24T15:10:50.276Z"
   },
   {
    "duration": 86,
    "start_time": "2022-09-24T15:11:03.402Z"
   },
   {
    "duration": 4,
    "start_time": "2022-09-24T15:35:29.823Z"
   },
   {
    "duration": 25,
    "start_time": "2022-09-24T15:35:54.631Z"
   },
   {
    "duration": 13,
    "start_time": "2022-09-24T15:36:36.148Z"
   },
   {
    "duration": 229,
    "start_time": "2022-09-24T15:37:26.427Z"
   },
   {
    "duration": 487,
    "start_time": "2022-09-24T15:37:33.482Z"
   },
   {
    "duration": 13,
    "start_time": "2022-09-24T15:37:33.971Z"
   },
   {
    "duration": 2090,
    "start_time": "2022-09-24T15:37:33.986Z"
   },
   {
    "duration": 5,
    "start_time": "2022-09-24T15:37:36.077Z"
   },
   {
    "duration": 17,
    "start_time": "2022-09-24T15:37:36.084Z"
   },
   {
    "duration": 4,
    "start_time": "2022-09-24T15:37:36.103Z"
   },
   {
    "duration": 9,
    "start_time": "2022-09-24T15:37:36.108Z"
   },
   {
    "duration": 8,
    "start_time": "2022-09-24T15:37:36.119Z"
   },
   {
    "duration": 8,
    "start_time": "2022-09-24T15:37:36.128Z"
   },
   {
    "duration": 6,
    "start_time": "2022-09-24T15:37:36.137Z"
   },
   {
    "duration": 7,
    "start_time": "2022-09-24T15:37:36.145Z"
   },
   {
    "duration": 9,
    "start_time": "2022-09-24T15:37:36.154Z"
   },
   {
    "duration": 37,
    "start_time": "2022-09-24T15:37:36.165Z"
   },
   {
    "duration": 246,
    "start_time": "2022-09-24T15:37:36.204Z"
   },
   {
    "duration": 6,
    "start_time": "2022-09-24T15:37:36.451Z"
   },
   {
    "duration": 7,
    "start_time": "2022-09-24T15:37:36.458Z"
   },
   {
    "duration": 6,
    "start_time": "2022-09-24T15:37:36.466Z"
   },
   {
    "duration": 36,
    "start_time": "2022-09-24T15:37:36.473Z"
   },
   {
    "duration": 12,
    "start_time": "2022-09-24T15:37:36.510Z"
   },
   {
    "duration": 4,
    "start_time": "2022-09-24T15:37:36.523Z"
   },
   {
    "duration": 12,
    "start_time": "2022-09-24T15:37:36.528Z"
   },
   {
    "duration": 25,
    "start_time": "2022-09-24T15:37:36.541Z"
   },
   {
    "duration": 68,
    "start_time": "2022-09-24T15:37:36.601Z"
   },
   {
    "duration": 0,
    "start_time": "2022-09-24T15:37:36.670Z"
   },
   {
    "duration": 0,
    "start_time": "2022-09-24T15:37:36.672Z"
   },
   {
    "duration": 100,
    "start_time": "2022-09-24T15:37:50.089Z"
   },
   {
    "duration": 494,
    "start_time": "2022-09-24T15:39:10.696Z"
   },
   {
    "duration": 14,
    "start_time": "2022-09-24T15:39:11.193Z"
   },
   {
    "duration": 1974,
    "start_time": "2022-09-24T15:39:11.209Z"
   },
   {
    "duration": 4,
    "start_time": "2022-09-24T15:39:13.184Z"
   },
   {
    "duration": 7,
    "start_time": "2022-09-24T15:39:13.199Z"
   },
   {
    "duration": 4,
    "start_time": "2022-09-24T15:39:13.208Z"
   },
   {
    "duration": 9,
    "start_time": "2022-09-24T15:39:13.214Z"
   },
   {
    "duration": 10,
    "start_time": "2022-09-24T15:39:13.224Z"
   },
   {
    "duration": 8,
    "start_time": "2022-09-24T15:39:13.235Z"
   },
   {
    "duration": 6,
    "start_time": "2022-09-24T15:39:13.245Z"
   },
   {
    "duration": 6,
    "start_time": "2022-09-24T15:39:13.252Z"
   },
   {
    "duration": 45,
    "start_time": "2022-09-24T15:39:13.259Z"
   },
   {
    "duration": 6,
    "start_time": "2022-09-24T15:39:13.305Z"
   },
   {
    "duration": 253,
    "start_time": "2022-09-24T15:39:13.314Z"
   },
   {
    "duration": 6,
    "start_time": "2022-09-24T15:39:13.569Z"
   },
   {
    "duration": 11,
    "start_time": "2022-09-24T15:39:13.576Z"
   },
   {
    "duration": 15,
    "start_time": "2022-09-24T15:39:13.588Z"
   },
   {
    "duration": 31,
    "start_time": "2022-09-24T15:39:13.604Z"
   },
   {
    "duration": 11,
    "start_time": "2022-09-24T15:39:13.637Z"
   },
   {
    "duration": 4,
    "start_time": "2022-09-24T15:39:13.649Z"
   },
   {
    "duration": 15,
    "start_time": "2022-09-24T15:39:13.654Z"
   },
   {
    "duration": 36,
    "start_time": "2022-09-24T15:39:13.671Z"
   },
   {
    "duration": 433,
    "start_time": "2022-09-24T15:39:48.546Z"
   },
   {
    "duration": 15,
    "start_time": "2022-09-24T15:39:48.981Z"
   },
   {
    "duration": 1926,
    "start_time": "2022-09-24T15:39:48.997Z"
   },
   {
    "duration": 3,
    "start_time": "2022-09-24T15:39:50.925Z"
   },
   {
    "duration": 26,
    "start_time": "2022-09-24T15:39:50.931Z"
   },
   {
    "duration": 19,
    "start_time": "2022-09-24T15:39:50.958Z"
   },
   {
    "duration": 30,
    "start_time": "2022-09-24T15:39:50.979Z"
   },
   {
    "duration": 41,
    "start_time": "2022-09-24T15:39:51.010Z"
   },
   {
    "duration": 14,
    "start_time": "2022-09-24T15:39:51.053Z"
   },
   {
    "duration": 24,
    "start_time": "2022-09-24T15:39:51.068Z"
   },
   {
    "duration": 32,
    "start_time": "2022-09-24T15:39:51.094Z"
   },
   {
    "duration": 26,
    "start_time": "2022-09-24T15:39:51.127Z"
   },
   {
    "duration": 22,
    "start_time": "2022-09-24T15:39:51.154Z"
   },
   {
    "duration": 265,
    "start_time": "2022-09-24T15:39:51.179Z"
   },
   {
    "duration": 6,
    "start_time": "2022-09-24T15:39:51.446Z"
   },
   {
    "duration": 31,
    "start_time": "2022-09-24T15:39:51.453Z"
   },
   {
    "duration": 13,
    "start_time": "2022-09-24T15:39:51.486Z"
   },
   {
    "duration": 35,
    "start_time": "2022-09-24T15:39:51.500Z"
   },
   {
    "duration": 32,
    "start_time": "2022-09-24T15:39:51.536Z"
   },
   {
    "duration": 8,
    "start_time": "2022-09-24T15:39:51.569Z"
   },
   {
    "duration": 26,
    "start_time": "2022-09-24T15:39:51.578Z"
   },
   {
    "duration": 26,
    "start_time": "2022-09-24T15:39:51.606Z"
   },
   {
    "duration": 90,
    "start_time": "2022-09-24T15:39:51.634Z"
   },
   {
    "duration": 4,
    "start_time": "2022-09-24T15:39:51.725Z"
   },
   {
    "duration": 20,
    "start_time": "2022-09-24T15:39:51.730Z"
   },
   {
    "duration": 4,
    "start_time": "2022-09-24T15:40:32.142Z"
   },
   {
    "duration": 14,
    "start_time": "2022-09-24T15:40:37.509Z"
   },
   {
    "duration": 4,
    "start_time": "2022-09-24T15:40:44.855Z"
   },
   {
    "duration": 14,
    "start_time": "2022-09-24T15:40:45.999Z"
   },
   {
    "duration": 498,
    "start_time": "2022-09-24T15:40:54.008Z"
   },
   {
    "duration": 15,
    "start_time": "2022-09-24T15:40:54.509Z"
   },
   {
    "duration": 1977,
    "start_time": "2022-09-24T15:40:54.527Z"
   },
   {
    "duration": 4,
    "start_time": "2022-09-24T15:40:56.506Z"
   },
   {
    "duration": 11,
    "start_time": "2022-09-24T15:40:56.512Z"
   },
   {
    "duration": 3,
    "start_time": "2022-09-24T15:40:56.524Z"
   },
   {
    "duration": 10,
    "start_time": "2022-09-24T15:40:56.529Z"
   },
   {
    "duration": 9,
    "start_time": "2022-09-24T15:40:56.540Z"
   },
   {
    "duration": 7,
    "start_time": "2022-09-24T15:40:56.550Z"
   },
   {
    "duration": 7,
    "start_time": "2022-09-24T15:40:56.559Z"
   },
   {
    "duration": 6,
    "start_time": "2022-09-24T15:40:56.600Z"
   },
   {
    "duration": 5,
    "start_time": "2022-09-24T15:40:56.607Z"
   },
   {
    "duration": 5,
    "start_time": "2022-09-24T15:40:56.613Z"
   },
   {
    "duration": 270,
    "start_time": "2022-09-24T15:40:56.620Z"
   },
   {
    "duration": 9,
    "start_time": "2022-09-24T15:40:56.891Z"
   },
   {
    "duration": 8,
    "start_time": "2022-09-24T15:40:56.902Z"
   },
   {
    "duration": 6,
    "start_time": "2022-09-24T15:40:56.911Z"
   },
   {
    "duration": 18,
    "start_time": "2022-09-24T15:40:56.919Z"
   },
   {
    "duration": 12,
    "start_time": "2022-09-24T15:40:56.939Z"
   },
   {
    "duration": 4,
    "start_time": "2022-09-24T15:40:56.952Z"
   },
   {
    "duration": 42,
    "start_time": "2022-09-24T15:40:56.958Z"
   },
   {
    "duration": 28,
    "start_time": "2022-09-24T15:40:57.002Z"
   },
   {
    "duration": 100,
    "start_time": "2022-09-24T15:40:57.032Z"
   },
   {
    "duration": 3,
    "start_time": "2022-09-24T15:40:57.134Z"
   },
   {
    "duration": 16,
    "start_time": "2022-09-24T15:40:57.138Z"
   },
   {
    "duration": 5,
    "start_time": "2022-09-24T15:42:34.221Z"
   },
   {
    "duration": 582,
    "start_time": "2022-09-24T17:03:20.134Z"
   },
   {
    "duration": 1546,
    "start_time": "2022-09-24T17:03:50.151Z"
   },
   {
    "duration": 371,
    "start_time": "2022-09-24T17:04:15.474Z"
   },
   {
    "duration": 5,
    "start_time": "2022-09-24T17:10:57.234Z"
   },
   {
    "duration": 130,
    "start_time": "2022-09-24T17:11:03.601Z"
   },
   {
    "duration": 30,
    "start_time": "2022-09-24T17:11:55.415Z"
   },
   {
    "duration": 73,
    "start_time": "2022-09-24T17:13:00.740Z"
   },
   {
    "duration": 22,
    "start_time": "2022-09-24T17:13:25.513Z"
   },
   {
    "duration": 47,
    "start_time": "2022-09-25T17:54:14.237Z"
   },
   {
    "duration": 986,
    "start_time": "2022-09-25T17:54:22.020Z"
   },
   {
    "duration": 14,
    "start_time": "2022-09-25T17:54:23.007Z"
   },
   {
    "duration": 2237,
    "start_time": "2022-09-25T17:54:23.023Z"
   },
   {
    "duration": 5,
    "start_time": "2022-09-25T17:54:25.263Z"
   },
   {
    "duration": 35,
    "start_time": "2022-09-25T17:54:25.270Z"
   },
   {
    "duration": 7,
    "start_time": "2022-09-25T17:54:25.306Z"
   },
   {
    "duration": 15,
    "start_time": "2022-09-25T17:54:25.314Z"
   },
   {
    "duration": 12,
    "start_time": "2022-09-25T17:54:25.331Z"
   },
   {
    "duration": 14,
    "start_time": "2022-09-25T17:54:25.345Z"
   },
   {
    "duration": 20,
    "start_time": "2022-09-25T17:54:25.362Z"
   },
   {
    "duration": 9,
    "start_time": "2022-09-25T17:54:25.384Z"
   },
   {
    "duration": 7,
    "start_time": "2022-09-25T17:54:25.394Z"
   },
   {
    "duration": 5,
    "start_time": "2022-09-25T17:54:25.402Z"
   },
   {
    "duration": 276,
    "start_time": "2022-09-25T17:54:25.409Z"
   },
   {
    "duration": 5,
    "start_time": "2022-09-25T17:54:25.687Z"
   },
   {
    "duration": 11,
    "start_time": "2022-09-25T17:54:25.693Z"
   },
   {
    "duration": 7,
    "start_time": "2022-09-25T17:54:25.706Z"
   },
   {
    "duration": 21,
    "start_time": "2022-09-25T17:54:25.715Z"
   },
   {
    "duration": 13,
    "start_time": "2022-09-25T17:54:25.737Z"
   },
   {
    "duration": 28,
    "start_time": "2022-09-25T17:54:25.751Z"
   },
   {
    "duration": 15,
    "start_time": "2022-09-25T17:54:25.780Z"
   },
   {
    "duration": 385,
    "start_time": "2022-09-25T17:54:25.797Z"
   },
   {
    "duration": 4,
    "start_time": "2022-09-25T17:54:26.184Z"
   },
   {
    "duration": 20,
    "start_time": "2022-09-25T17:54:26.189Z"
   },
   {
    "duration": 81,
    "start_time": "2022-09-25T17:54:26.211Z"
   },
   {
    "duration": 0,
    "start_time": "2022-09-25T17:54:26.294Z"
   },
   {
    "duration": 12,
    "start_time": "2022-09-25T17:54:56.584Z"
   },
   {
    "duration": 14,
    "start_time": "2022-09-25T17:55:15.732Z"
   },
   {
    "duration": 1026,
    "start_time": "2022-09-25T17:57:30.676Z"
   },
   {
    "duration": 16,
    "start_time": "2022-09-25T17:58:03.870Z"
   },
   {
    "duration": 10,
    "start_time": "2022-09-25T17:59:09.912Z"
   },
   {
    "duration": 8,
    "start_time": "2022-09-25T17:59:30.914Z"
   },
   {
    "duration": 7,
    "start_time": "2022-09-25T17:59:39.254Z"
   },
   {
    "duration": 22,
    "start_time": "2022-09-25T17:59:45.195Z"
   },
   {
    "duration": 23,
    "start_time": "2022-09-25T17:59:56.582Z"
   },
   {
    "duration": 550,
    "start_time": "2022-09-25T18:00:04.754Z"
   },
   {
    "duration": 19,
    "start_time": "2022-09-25T18:00:05.306Z"
   },
   {
    "duration": 2341,
    "start_time": "2022-09-25T18:00:05.327Z"
   },
   {
    "duration": 4,
    "start_time": "2022-09-25T18:00:07.671Z"
   },
   {
    "duration": 9,
    "start_time": "2022-09-25T18:00:07.677Z"
   },
   {
    "duration": 3,
    "start_time": "2022-09-25T18:00:07.688Z"
   },
   {
    "duration": 10,
    "start_time": "2022-09-25T18:00:07.693Z"
   },
   {
    "duration": 9,
    "start_time": "2022-09-25T18:00:07.705Z"
   },
   {
    "duration": 7,
    "start_time": "2022-09-25T18:00:07.715Z"
   },
   {
    "duration": 6,
    "start_time": "2022-09-25T18:00:07.725Z"
   },
   {
    "duration": 6,
    "start_time": "2022-09-25T18:00:07.733Z"
   },
   {
    "duration": 37,
    "start_time": "2022-09-25T18:00:07.740Z"
   },
   {
    "duration": 11,
    "start_time": "2022-09-25T18:00:07.779Z"
   },
   {
    "duration": 263,
    "start_time": "2022-09-25T18:00:07.791Z"
   },
   {
    "duration": 6,
    "start_time": "2022-09-25T18:00:08.056Z"
   },
   {
    "duration": 17,
    "start_time": "2022-09-25T18:00:08.063Z"
   },
   {
    "duration": 6,
    "start_time": "2022-09-25T18:00:08.082Z"
   },
   {
    "duration": 18,
    "start_time": "2022-09-25T18:00:08.090Z"
   },
   {
    "duration": 12,
    "start_time": "2022-09-25T18:00:08.110Z"
   },
   {
    "duration": 4,
    "start_time": "2022-09-25T18:00:08.123Z"
   },
   {
    "duration": 18,
    "start_time": "2022-09-25T18:00:08.128Z"
   },
   {
    "duration": 336,
    "start_time": "2022-09-25T18:00:08.148Z"
   },
   {
    "duration": 4,
    "start_time": "2022-09-25T18:00:08.486Z"
   },
   {
    "duration": 23,
    "start_time": "2022-09-25T18:00:08.491Z"
   },
   {
    "duration": 23,
    "start_time": "2022-09-25T18:00:08.516Z"
   },
   {
    "duration": 245,
    "start_time": "2022-09-25T18:00:08.540Z"
   },
   {
    "duration": 23,
    "start_time": "2022-09-25T18:00:31.466Z"
   },
   {
    "duration": 70,
    "start_time": "2022-09-25T18:02:41.980Z"
   },
   {
    "duration": 147,
    "start_time": "2022-09-25T18:02:44.140Z"
   },
   {
    "duration": 16,
    "start_time": "2022-09-25T18:03:15.176Z"
   },
   {
    "duration": 16,
    "start_time": "2022-09-25T18:05:20.398Z"
   },
   {
    "duration": 1776,
    "start_time": "2022-09-25T18:06:26.057Z"
   },
   {
    "duration": 24,
    "start_time": "2022-09-25T18:06:38.757Z"
   },
   {
    "duration": 145,
    "start_time": "2022-09-25T18:08:05.028Z"
   },
   {
    "duration": 25,
    "start_time": "2022-09-25T18:08:50.212Z"
   },
   {
    "duration": 135,
    "start_time": "2022-09-25T18:09:44.636Z"
   },
   {
    "duration": 138,
    "start_time": "2022-09-25T18:12:54.895Z"
   },
   {
    "duration": 142,
    "start_time": "2022-09-25T18:14:12.712Z"
   },
   {
    "duration": 484,
    "start_time": "2022-09-25T18:20:42.909Z"
   },
   {
    "duration": 15,
    "start_time": "2022-09-25T18:20:43.395Z"
   },
   {
    "duration": 494,
    "start_time": "2022-09-25T18:21:39.375Z"
   },
   {
    "duration": 14,
    "start_time": "2022-09-25T18:21:39.871Z"
   },
   {
    "duration": 2066,
    "start_time": "2022-09-25T18:21:39.886Z"
   },
   {
    "duration": 4,
    "start_time": "2022-09-25T18:21:41.954Z"
   },
   {
    "duration": 10,
    "start_time": "2022-09-25T18:21:41.960Z"
   },
   {
    "duration": 3,
    "start_time": "2022-09-25T18:21:41.972Z"
   },
   {
    "duration": 13,
    "start_time": "2022-09-25T18:21:41.976Z"
   },
   {
    "duration": 9,
    "start_time": "2022-09-25T18:21:41.990Z"
   },
   {
    "duration": 8,
    "start_time": "2022-09-25T18:21:42.000Z"
   },
   {
    "duration": 7,
    "start_time": "2022-09-25T18:21:42.009Z"
   },
   {
    "duration": 5,
    "start_time": "2022-09-25T18:21:42.017Z"
   },
   {
    "duration": 5,
    "start_time": "2022-09-25T18:21:42.024Z"
   },
   {
    "duration": 7,
    "start_time": "2022-09-25T18:21:42.030Z"
   },
   {
    "duration": 297,
    "start_time": "2022-09-25T18:21:42.039Z"
   },
   {
    "duration": 6,
    "start_time": "2022-09-25T18:21:42.338Z"
   },
   {
    "duration": 9,
    "start_time": "2022-09-25T18:21:42.345Z"
   },
   {
    "duration": 20,
    "start_time": "2022-09-25T18:21:42.356Z"
   },
   {
    "duration": 19,
    "start_time": "2022-09-25T18:21:42.378Z"
   },
   {
    "duration": 13,
    "start_time": "2022-09-25T18:21:42.398Z"
   },
   {
    "duration": 4,
    "start_time": "2022-09-25T18:21:42.413Z"
   },
   {
    "duration": 18,
    "start_time": "2022-09-25T18:21:42.418Z"
   },
   {
    "duration": 354,
    "start_time": "2022-09-25T18:21:42.437Z"
   },
   {
    "duration": 3,
    "start_time": "2022-09-25T18:21:42.793Z"
   },
   {
    "duration": 20,
    "start_time": "2022-09-25T18:21:42.798Z"
   },
   {
    "duration": 206,
    "start_time": "2022-09-25T18:21:42.820Z"
   },
   {
    "duration": 162,
    "start_time": "2022-09-25T18:21:43.028Z"
   },
   {
    "duration": 147,
    "start_time": "2022-09-25T18:21:43.193Z"
   },
   {
    "duration": 146,
    "start_time": "2022-09-25T18:21:43.341Z"
   },
   {
    "duration": 159,
    "start_time": "2022-09-25T18:21:43.489Z"
   },
   {
    "duration": 45,
    "start_time": "2022-09-25T18:21:43.649Z"
   },
   {
    "duration": 0,
    "start_time": "2022-09-25T18:21:43.696Z"
   },
   {
    "duration": 0,
    "start_time": "2022-09-25T18:21:43.698Z"
   },
   {
    "duration": 0,
    "start_time": "2022-09-25T18:21:43.700Z"
   },
   {
    "duration": 0,
    "start_time": "2022-09-25T18:21:43.701Z"
   },
   {
    "duration": 128,
    "start_time": "2022-09-25T18:22:12.185Z"
   },
   {
    "duration": 150,
    "start_time": "2022-09-25T18:24:46.027Z"
   },
   {
    "duration": 235,
    "start_time": "2022-09-25T18:31:01.357Z"
   },
   {
    "duration": 249,
    "start_time": "2022-09-25T18:31:29.216Z"
   },
   {
    "duration": 312,
    "start_time": "2022-09-25T18:31:37.264Z"
   },
   {
    "duration": 239,
    "start_time": "2022-09-25T18:31:44.684Z"
   },
   {
    "duration": 229,
    "start_time": "2022-09-25T18:31:52.944Z"
   },
   {
    "duration": 236,
    "start_time": "2022-09-25T18:32:00.445Z"
   },
   {
    "duration": 243,
    "start_time": "2022-09-25T18:32:19.639Z"
   },
   {
    "duration": 318,
    "start_time": "2022-09-25T18:32:32.164Z"
   },
   {
    "duration": 227,
    "start_time": "2022-09-25T18:32:39.165Z"
   },
   {
    "duration": 250,
    "start_time": "2022-09-25T18:32:48.382Z"
   },
   {
    "duration": 240,
    "start_time": "2022-09-25T18:38:23.904Z"
   },
   {
    "duration": 214,
    "start_time": "2022-09-25T18:38:38.144Z"
   },
   {
    "duration": 235,
    "start_time": "2022-09-25T18:38:47.066Z"
   },
   {
    "duration": 346,
    "start_time": "2022-09-25T18:39:00.524Z"
   },
   {
    "duration": 233,
    "start_time": "2022-09-25T18:39:17.294Z"
   },
   {
    "duration": 128,
    "start_time": "2022-09-25T18:39:30.146Z"
   },
   {
    "duration": 248,
    "start_time": "2022-09-25T18:39:42.705Z"
   },
   {
    "duration": 178,
    "start_time": "2022-09-25T18:39:53.684Z"
   },
   {
    "duration": 146,
    "start_time": "2022-09-25T18:40:04.543Z"
   },
   {
    "duration": 138,
    "start_time": "2022-09-25T18:40:10.760Z"
   },
   {
    "duration": 169,
    "start_time": "2022-09-25T18:52:22.054Z"
   },
   {
    "duration": 54,
    "start_time": "2022-09-25T18:52:56.794Z"
   },
   {
    "duration": 129,
    "start_time": "2022-09-25T18:52:59.856Z"
   },
   {
    "duration": 234,
    "start_time": "2022-09-25T18:53:35.582Z"
   },
   {
    "duration": 135,
    "start_time": "2022-09-25T18:53:44.104Z"
   },
   {
    "duration": 135,
    "start_time": "2022-09-25T18:54:52.118Z"
   },
   {
    "duration": 136,
    "start_time": "2022-09-25T18:55:01.593Z"
   },
   {
    "duration": 120,
    "start_time": "2022-09-25T18:55:39.493Z"
   },
   {
    "duration": 275,
    "start_time": "2022-09-25T18:55:52.360Z"
   },
   {
    "duration": 121,
    "start_time": "2022-09-25T18:56:01.526Z"
   },
   {
    "duration": 135,
    "start_time": "2022-09-25T18:56:11.223Z"
   },
   {
    "duration": 222,
    "start_time": "2022-09-25T19:05:48.920Z"
   },
   {
    "duration": 236,
    "start_time": "2022-09-25T19:05:57.474Z"
   },
   {
    "duration": 232,
    "start_time": "2022-09-25T19:06:05.373Z"
   },
   {
    "duration": 228,
    "start_time": "2022-09-25T19:06:21.157Z"
   },
   {
    "duration": 240,
    "start_time": "2022-09-25T19:06:31.175Z"
   },
   {
    "duration": 230,
    "start_time": "2022-09-25T19:06:48.319Z"
   },
   {
    "duration": 226,
    "start_time": "2022-09-25T19:06:59.358Z"
   },
   {
    "duration": 174,
    "start_time": "2022-09-25T19:07:35.923Z"
   },
   {
    "duration": 352,
    "start_time": "2022-09-25T19:07:48.405Z"
   },
   {
    "duration": 154,
    "start_time": "2022-09-25T19:08:00.046Z"
   },
   {
    "duration": 139,
    "start_time": "2022-09-25T19:09:02.129Z"
   },
   {
    "duration": 873,
    "start_time": "2022-09-26T09:39:20.200Z"
   },
   {
    "duration": 14,
    "start_time": "2022-09-26T09:39:21.075Z"
   },
   {
    "duration": 1753,
    "start_time": "2022-09-26T09:39:21.091Z"
   },
   {
    "duration": 5,
    "start_time": "2022-09-26T09:39:22.846Z"
   },
   {
    "duration": 19,
    "start_time": "2022-09-26T09:39:22.854Z"
   },
   {
    "duration": 8,
    "start_time": "2022-09-26T09:39:22.875Z"
   },
   {
    "duration": 27,
    "start_time": "2022-09-26T09:39:22.884Z"
   },
   {
    "duration": 14,
    "start_time": "2022-09-26T09:39:22.913Z"
   },
   {
    "duration": 17,
    "start_time": "2022-09-26T09:39:22.928Z"
   },
   {
    "duration": 28,
    "start_time": "2022-09-26T09:39:22.947Z"
   },
   {
    "duration": 11,
    "start_time": "2022-09-26T09:39:22.977Z"
   },
   {
    "duration": 21,
    "start_time": "2022-09-26T09:39:22.989Z"
   },
   {
    "duration": 15,
    "start_time": "2022-09-26T09:39:23.011Z"
   },
   {
    "duration": 304,
    "start_time": "2022-09-26T09:39:23.030Z"
   },
   {
    "duration": 5,
    "start_time": "2022-09-26T09:39:23.335Z"
   },
   {
    "duration": 16,
    "start_time": "2022-09-26T09:39:23.341Z"
   },
   {
    "duration": 26,
    "start_time": "2022-09-26T09:39:23.359Z"
   },
   {
    "duration": 52,
    "start_time": "2022-09-26T09:39:23.387Z"
   },
   {
    "duration": 11,
    "start_time": "2022-09-26T09:39:23.440Z"
   },
   {
    "duration": 14,
    "start_time": "2022-09-26T09:39:23.452Z"
   },
   {
    "duration": 32,
    "start_time": "2022-09-26T09:39:23.467Z"
   },
   {
    "duration": 297,
    "start_time": "2022-09-26T09:39:23.500Z"
   },
   {
    "duration": 8,
    "start_time": "2022-09-26T09:39:23.798Z"
   },
   {
    "duration": 21,
    "start_time": "2022-09-26T09:39:23.807Z"
   },
   {
    "duration": 271,
    "start_time": "2022-09-26T09:39:23.830Z"
   },
   {
    "duration": 215,
    "start_time": "2022-09-26T09:39:24.104Z"
   },
   {
    "duration": 174,
    "start_time": "2022-09-26T09:39:24.320Z"
   },
   {
    "duration": 137,
    "start_time": "2022-09-26T09:39:24.496Z"
   },
   {
    "duration": 132,
    "start_time": "2022-09-26T09:39:24.634Z"
   },
   {
    "duration": 104,
    "start_time": "2022-09-26T09:39:24.767Z"
   },
   {
    "duration": 0,
    "start_time": "2022-09-26T09:39:24.873Z"
   },
   {
    "duration": 0,
    "start_time": "2022-09-26T09:39:24.874Z"
   },
   {
    "duration": 0,
    "start_time": "2022-09-26T09:39:24.875Z"
   },
   {
    "duration": 0,
    "start_time": "2022-09-26T09:39:24.876Z"
   },
   {
    "duration": 212,
    "start_time": "2022-09-26T09:43:09.210Z"
   },
   {
    "duration": 206,
    "start_time": "2022-09-26T09:43:44.512Z"
   },
   {
    "duration": 287,
    "start_time": "2022-09-26T09:44:54.386Z"
   },
   {
    "duration": 171,
    "start_time": "2022-09-26T09:45:07.128Z"
   },
   {
    "duration": 162,
    "start_time": "2022-09-26T09:45:31.742Z"
   },
   {
    "duration": 149,
    "start_time": "2022-09-26T09:45:57.924Z"
   },
   {
    "duration": 130,
    "start_time": "2022-09-26T09:46:39.300Z"
   },
   {
    "duration": 80,
    "start_time": "2022-09-26T09:47:15.836Z"
   },
   {
    "duration": 9,
    "start_time": "2022-09-26T09:47:23.541Z"
   },
   {
    "duration": 122,
    "start_time": "2022-09-26T09:47:31.461Z"
   },
   {
    "duration": 122,
    "start_time": "2022-09-26T09:47:50.048Z"
   },
   {
    "duration": 139,
    "start_time": "2022-09-26T09:48:25.231Z"
   },
   {
    "duration": 136,
    "start_time": "2022-09-26T09:48:32.471Z"
   },
   {
    "duration": 134,
    "start_time": "2022-09-26T09:52:37.883Z"
   },
   {
    "duration": 120,
    "start_time": "2022-09-26T09:52:47.583Z"
   },
   {
    "duration": 219,
    "start_time": "2022-09-26T09:52:57.020Z"
   },
   {
    "duration": 117,
    "start_time": "2022-09-26T09:53:03.195Z"
   },
   {
    "duration": 117,
    "start_time": "2022-09-26T09:53:05.535Z"
   },
   {
    "duration": 111,
    "start_time": "2022-09-26T09:53:15.242Z"
   },
   {
    "duration": 112,
    "start_time": "2022-09-26T09:53:18.262Z"
   },
   {
    "duration": 118,
    "start_time": "2022-09-26T09:53:21.034Z"
   },
   {
    "duration": 682,
    "start_time": "2022-09-26T09:53:26.100Z"
   },
   {
    "duration": 14,
    "start_time": "2022-09-26T09:53:26.783Z"
   },
   {
    "duration": 1816,
    "start_time": "2022-09-26T09:53:26.799Z"
   },
   {
    "duration": 5,
    "start_time": "2022-09-26T09:53:28.617Z"
   },
   {
    "duration": 9,
    "start_time": "2022-09-26T09:53:28.623Z"
   },
   {
    "duration": 4,
    "start_time": "2022-09-26T09:53:28.634Z"
   },
   {
    "duration": 12,
    "start_time": "2022-09-26T09:53:28.639Z"
   },
   {
    "duration": 10,
    "start_time": "2022-09-26T09:53:28.652Z"
   },
   {
    "duration": 7,
    "start_time": "2022-09-26T09:53:28.663Z"
   },
   {
    "duration": 5,
    "start_time": "2022-09-26T09:53:28.672Z"
   },
   {
    "duration": 27,
    "start_time": "2022-09-26T09:53:28.679Z"
   },
   {
    "duration": 6,
    "start_time": "2022-09-26T09:53:28.707Z"
   },
   {
    "duration": 8,
    "start_time": "2022-09-26T09:53:28.714Z"
   },
   {
    "duration": 257,
    "start_time": "2022-09-26T09:53:28.724Z"
   },
   {
    "duration": 5,
    "start_time": "2022-09-26T09:53:28.983Z"
   },
   {
    "duration": 16,
    "start_time": "2022-09-26T09:53:28.989Z"
   },
   {
    "duration": 4,
    "start_time": "2022-09-26T09:53:29.007Z"
   },
   {
    "duration": 20,
    "start_time": "2022-09-26T09:53:29.012Z"
   },
   {
    "duration": 12,
    "start_time": "2022-09-26T09:53:29.033Z"
   },
   {
    "duration": 4,
    "start_time": "2022-09-26T09:53:29.046Z"
   },
   {
    "duration": 19,
    "start_time": "2022-09-26T09:53:29.051Z"
   },
   {
    "duration": 306,
    "start_time": "2022-09-26T09:53:29.071Z"
   },
   {
    "duration": 4,
    "start_time": "2022-09-26T09:53:29.378Z"
   },
   {
    "duration": 22,
    "start_time": "2022-09-26T09:53:29.383Z"
   },
   {
    "duration": 279,
    "start_time": "2022-09-26T09:53:29.406Z"
   },
   {
    "duration": 218,
    "start_time": "2022-09-26T09:53:29.686Z"
   },
   {
    "duration": 173,
    "start_time": "2022-09-26T09:53:29.905Z"
   },
   {
    "duration": 136,
    "start_time": "2022-09-26T09:53:30.081Z"
   },
   {
    "duration": 146,
    "start_time": "2022-09-26T09:53:30.218Z"
   },
   {
    "duration": 9,
    "start_time": "2022-09-26T09:53:30.365Z"
   },
   {
    "duration": 149,
    "start_time": "2022-09-26T09:53:30.375Z"
   },
   {
    "duration": 163,
    "start_time": "2022-09-26T09:53:30.525Z"
   },
   {
    "duration": 84,
    "start_time": "2022-09-26T09:53:30.690Z"
   },
   {
    "duration": 0,
    "start_time": "2022-09-26T09:53:30.775Z"
   },
   {
    "duration": 131,
    "start_time": "2022-09-26T09:54:11.515Z"
   },
   {
    "duration": 129,
    "start_time": "2022-09-26T09:54:25.100Z"
   },
   {
    "duration": 204,
    "start_time": "2022-09-26T09:54:44.297Z"
   },
   {
    "duration": 68,
    "start_time": "2022-09-26T09:57:25.182Z"
   },
   {
    "duration": 11,
    "start_time": "2022-09-26T09:57:31.714Z"
   },
   {
    "duration": 11,
    "start_time": "2022-09-26T09:57:43.621Z"
   },
   {
    "duration": 11,
    "start_time": "2022-09-26T09:57:47.170Z"
   },
   {
    "duration": 11,
    "start_time": "2022-09-26T09:58:13.754Z"
   },
   {
    "duration": 10,
    "start_time": "2022-09-26T09:58:32.421Z"
   },
   {
    "duration": 9,
    "start_time": "2022-09-26T09:59:13.997Z"
   },
   {
    "duration": 9,
    "start_time": "2022-09-26T09:59:39.147Z"
   },
   {
    "duration": 12,
    "start_time": "2022-09-26T09:59:42.842Z"
   },
   {
    "duration": 9,
    "start_time": "2022-09-26T09:59:46.503Z"
   },
   {
    "duration": 8,
    "start_time": "2022-09-26T09:59:49.587Z"
   },
   {
    "duration": 9,
    "start_time": "2022-09-26T09:59:51.543Z"
   },
   {
    "duration": 674,
    "start_time": "2022-09-26T09:59:56.768Z"
   },
   {
    "duration": 13,
    "start_time": "2022-09-26T09:59:57.443Z"
   },
   {
    "duration": 1706,
    "start_time": "2022-09-26T09:59:57.457Z"
   },
   {
    "duration": 5,
    "start_time": "2022-09-26T09:59:59.166Z"
   },
   {
    "duration": 21,
    "start_time": "2022-09-26T09:59:59.172Z"
   },
   {
    "duration": 5,
    "start_time": "2022-09-26T09:59:59.195Z"
   },
   {
    "duration": 12,
    "start_time": "2022-09-26T09:59:59.202Z"
   },
   {
    "duration": 9,
    "start_time": "2022-09-26T09:59:59.216Z"
   },
   {
    "duration": 14,
    "start_time": "2022-09-26T09:59:59.227Z"
   },
   {
    "duration": 7,
    "start_time": "2022-09-26T09:59:59.243Z"
   },
   {
    "duration": 8,
    "start_time": "2022-09-26T09:59:59.251Z"
   },
   {
    "duration": 5,
    "start_time": "2022-09-26T09:59:59.261Z"
   },
   {
    "duration": 7,
    "start_time": "2022-09-26T09:59:59.267Z"
   },
   {
    "duration": 258,
    "start_time": "2022-09-26T09:59:59.275Z"
   },
   {
    "duration": 5,
    "start_time": "2022-09-26T09:59:59.534Z"
   },
   {
    "duration": 9,
    "start_time": "2022-09-26T09:59:59.540Z"
   },
   {
    "duration": 5,
    "start_time": "2022-09-26T09:59:59.550Z"
   },
   {
    "duration": 18,
    "start_time": "2022-09-26T09:59:59.557Z"
   },
   {
    "duration": 30,
    "start_time": "2022-09-26T09:59:59.576Z"
   },
   {
    "duration": 4,
    "start_time": "2022-09-26T09:59:59.607Z"
   },
   {
    "duration": 14,
    "start_time": "2022-09-26T09:59:59.612Z"
   },
   {
    "duration": 369,
    "start_time": "2022-09-26T09:59:59.627Z"
   },
   {
    "duration": 7,
    "start_time": "2022-09-26T09:59:59.998Z"
   },
   {
    "duration": 17,
    "start_time": "2022-09-26T10:00:00.006Z"
   },
   {
    "duration": 245,
    "start_time": "2022-09-26T10:00:00.025Z"
   },
   {
    "duration": 256,
    "start_time": "2022-09-26T10:00:00.272Z"
   },
   {
    "duration": 183,
    "start_time": "2022-09-26T10:00:00.529Z"
   },
   {
    "duration": 147,
    "start_time": "2022-09-26T10:00:00.715Z"
   },
   {
    "duration": 165,
    "start_time": "2022-09-26T10:00:00.864Z"
   },
   {
    "duration": 9,
    "start_time": "2022-09-26T10:00:01.030Z"
   },
   {
    "duration": 142,
    "start_time": "2022-09-26T10:00:01.041Z"
   },
   {
    "duration": 154,
    "start_time": "2022-09-26T10:00:01.185Z"
   },
   {
    "duration": 84,
    "start_time": "2022-09-26T10:00:01.341Z"
   },
   {
    "duration": 0,
    "start_time": "2022-09-26T10:00:01.427Z"
   },
   {
    "duration": 247,
    "start_time": "2022-09-26T10:04:34.512Z"
   },
   {
    "duration": 10,
    "start_time": "2022-09-26T10:05:39.568Z"
   },
   {
    "duration": 12,
    "start_time": "2022-09-26T10:06:01.382Z"
   },
   {
    "duration": 12,
    "start_time": "2022-09-26T10:06:23.478Z"
   },
   {
    "duration": 12,
    "start_time": "2022-09-26T10:06:41.983Z"
   },
   {
    "duration": 12,
    "start_time": "2022-09-26T10:06:48.372Z"
   },
   {
    "duration": 14,
    "start_time": "2022-09-26T10:13:54.230Z"
   },
   {
    "duration": 221,
    "start_time": "2022-09-26T10:53:19.904Z"
   },
   {
    "duration": 319,
    "start_time": "2022-09-26T10:53:36.270Z"
   },
   {
    "duration": 219,
    "start_time": "2022-09-26T10:54:18.931Z"
   },
   {
    "duration": 199,
    "start_time": "2022-09-26T10:54:40.408Z"
   },
   {
    "duration": 163,
    "start_time": "2022-09-26T10:55:25.748Z"
   },
   {
    "duration": 165,
    "start_time": "2022-09-26T10:55:33.318Z"
   },
   {
    "duration": 198,
    "start_time": "2022-09-26T10:56:08.128Z"
   },
   {
    "duration": 144,
    "start_time": "2022-09-26T10:57:04.099Z"
   },
   {
    "duration": 141,
    "start_time": "2022-09-26T10:57:40.765Z"
   },
   {
    "duration": 633,
    "start_time": "2022-09-26T10:57:52.354Z"
   },
   {
    "duration": 17,
    "start_time": "2022-09-26T10:57:52.989Z"
   },
   {
    "duration": 1720,
    "start_time": "2022-09-26T10:57:53.007Z"
   },
   {
    "duration": 4,
    "start_time": "2022-09-26T10:57:54.729Z"
   },
   {
    "duration": 21,
    "start_time": "2022-09-26T10:57:54.735Z"
   },
   {
    "duration": 5,
    "start_time": "2022-09-26T10:57:54.758Z"
   },
   {
    "duration": 18,
    "start_time": "2022-09-26T10:57:54.764Z"
   },
   {
    "duration": 12,
    "start_time": "2022-09-26T10:57:54.783Z"
   },
   {
    "duration": 18,
    "start_time": "2022-09-26T10:57:54.797Z"
   },
   {
    "duration": 16,
    "start_time": "2022-09-26T10:57:54.816Z"
   },
   {
    "duration": 7,
    "start_time": "2022-09-26T10:57:54.834Z"
   },
   {
    "duration": 21,
    "start_time": "2022-09-26T10:57:54.842Z"
   },
   {
    "duration": 9,
    "start_time": "2022-09-26T10:57:54.865Z"
   },
   {
    "duration": 245,
    "start_time": "2022-09-26T10:57:54.877Z"
   },
   {
    "duration": 5,
    "start_time": "2022-09-26T10:57:55.123Z"
   },
   {
    "duration": 24,
    "start_time": "2022-09-26T10:57:55.130Z"
   },
   {
    "duration": 26,
    "start_time": "2022-09-26T10:57:55.156Z"
   },
   {
    "duration": 18,
    "start_time": "2022-09-26T10:57:55.184Z"
   },
   {
    "duration": 14,
    "start_time": "2022-09-26T10:57:55.204Z"
   },
   {
    "duration": 5,
    "start_time": "2022-09-26T10:57:55.220Z"
   },
   {
    "duration": 21,
    "start_time": "2022-09-26T10:57:55.226Z"
   },
   {
    "duration": 360,
    "start_time": "2022-09-26T10:57:55.249Z"
   },
   {
    "duration": 4,
    "start_time": "2022-09-26T10:57:55.610Z"
   },
   {
    "duration": 27,
    "start_time": "2022-09-26T10:57:55.615Z"
   },
   {
    "duration": 229,
    "start_time": "2022-09-26T10:57:55.644Z"
   },
   {
    "duration": 206,
    "start_time": "2022-09-26T10:57:55.875Z"
   },
   {
    "duration": 175,
    "start_time": "2022-09-26T10:57:56.082Z"
   },
   {
    "duration": 125,
    "start_time": "2022-09-26T10:57:56.258Z"
   },
   {
    "duration": 131,
    "start_time": "2022-09-26T10:57:56.385Z"
   },
   {
    "duration": 8,
    "start_time": "2022-09-26T10:57:56.517Z"
   },
   {
    "duration": 131,
    "start_time": "2022-09-26T10:57:56.526Z"
   },
   {
    "duration": 148,
    "start_time": "2022-09-26T10:57:56.659Z"
   },
   {
    "duration": 76,
    "start_time": "2022-09-26T10:57:56.808Z"
   },
   {
    "duration": 0,
    "start_time": "2022-09-26T10:57:56.886Z"
   },
   {
    "duration": 146,
    "start_time": "2022-09-26T10:58:51.782Z"
   },
   {
    "duration": 667,
    "start_time": "2022-09-26T10:59:03.518Z"
   },
   {
    "duration": 13,
    "start_time": "2022-09-26T10:59:04.187Z"
   },
   {
    "duration": 1679,
    "start_time": "2022-09-26T10:59:04.204Z"
   },
   {
    "duration": 4,
    "start_time": "2022-09-26T10:59:05.885Z"
   },
   {
    "duration": 10,
    "start_time": "2022-09-26T10:59:05.891Z"
   },
   {
    "duration": 3,
    "start_time": "2022-09-26T10:59:05.903Z"
   },
   {
    "duration": 12,
    "start_time": "2022-09-26T10:59:05.907Z"
   },
   {
    "duration": 12,
    "start_time": "2022-09-26T10:59:05.920Z"
   },
   {
    "duration": 15,
    "start_time": "2022-09-26T10:59:05.934Z"
   },
   {
    "duration": 6,
    "start_time": "2022-09-26T10:59:05.951Z"
   },
   {
    "duration": 8,
    "start_time": "2022-09-26T10:59:05.958Z"
   },
   {
    "duration": 7,
    "start_time": "2022-09-26T10:59:05.967Z"
   },
   {
    "duration": 30,
    "start_time": "2022-09-26T10:59:05.975Z"
   },
   {
    "duration": 253,
    "start_time": "2022-09-26T10:59:06.007Z"
   },
   {
    "duration": 7,
    "start_time": "2022-09-26T10:59:06.262Z"
   },
   {
    "duration": 9,
    "start_time": "2022-09-26T10:59:06.270Z"
   },
   {
    "duration": 9,
    "start_time": "2022-09-26T10:59:06.282Z"
   },
   {
    "duration": 21,
    "start_time": "2022-09-26T10:59:06.293Z"
   },
   {
    "duration": 12,
    "start_time": "2022-09-26T10:59:06.315Z"
   },
   {
    "duration": 4,
    "start_time": "2022-09-26T10:59:06.328Z"
   },
   {
    "duration": 12,
    "start_time": "2022-09-26T10:59:06.333Z"
   },
   {
    "duration": 377,
    "start_time": "2022-09-26T10:59:06.346Z"
   },
   {
    "duration": 3,
    "start_time": "2022-09-26T10:59:06.725Z"
   },
   {
    "duration": 16,
    "start_time": "2022-09-26T10:59:06.729Z"
   },
   {
    "duration": 233,
    "start_time": "2022-09-26T10:59:06.747Z"
   },
   {
    "duration": 217,
    "start_time": "2022-09-26T10:59:06.981Z"
   },
   {
    "duration": 198,
    "start_time": "2022-09-26T10:59:07.200Z"
   },
   {
    "duration": 203,
    "start_time": "2022-09-26T10:59:07.404Z"
   },
   {
    "duration": 140,
    "start_time": "2022-09-26T10:59:07.608Z"
   },
   {
    "duration": 8,
    "start_time": "2022-09-26T10:59:07.749Z"
   },
   {
    "duration": 153,
    "start_time": "2022-09-26T10:59:07.758Z"
   },
   {
    "duration": 187,
    "start_time": "2022-09-26T10:59:07.913Z"
   },
   {
    "duration": 79,
    "start_time": "2022-09-26T10:59:08.104Z"
   },
   {
    "duration": 0,
    "start_time": "2022-09-26T10:59:08.185Z"
   },
   {
    "duration": 162,
    "start_time": "2022-09-26T10:59:36.135Z"
   },
   {
    "duration": 322,
    "start_time": "2022-09-26T11:00:29.743Z"
   },
   {
    "duration": 236,
    "start_time": "2022-09-26T11:00:40.007Z"
   },
   {
    "duration": 255,
    "start_time": "2022-09-26T11:01:06.036Z"
   },
   {
    "duration": 251,
    "start_time": "2022-09-26T11:01:21.265Z"
   },
   {
    "duration": 297,
    "start_time": "2022-09-26T11:01:27.346Z"
   },
   {
    "duration": 694,
    "start_time": "2022-09-26T11:01:42.307Z"
   },
   {
    "duration": 13,
    "start_time": "2022-09-26T11:01:43.003Z"
   },
   {
    "duration": 1790,
    "start_time": "2022-09-26T11:01:43.017Z"
   },
   {
    "duration": 4,
    "start_time": "2022-09-26T11:01:44.809Z"
   },
   {
    "duration": 9,
    "start_time": "2022-09-26T11:01:44.815Z"
   },
   {
    "duration": 5,
    "start_time": "2022-09-26T11:01:44.825Z"
   },
   {
    "duration": 13,
    "start_time": "2022-09-26T11:01:44.831Z"
   },
   {
    "duration": 15,
    "start_time": "2022-09-26T11:01:44.846Z"
   },
   {
    "duration": 14,
    "start_time": "2022-09-26T11:01:44.863Z"
   },
   {
    "duration": 8,
    "start_time": "2022-09-26T11:01:44.905Z"
   },
   {
    "duration": 6,
    "start_time": "2022-09-26T11:01:44.914Z"
   },
   {
    "duration": 5,
    "start_time": "2022-09-26T11:01:44.921Z"
   },
   {
    "duration": 7,
    "start_time": "2022-09-26T11:01:44.927Z"
   },
   {
    "duration": 270,
    "start_time": "2022-09-26T11:01:44.937Z"
   },
   {
    "duration": 5,
    "start_time": "2022-09-26T11:01:45.208Z"
   },
   {
    "duration": 12,
    "start_time": "2022-09-26T11:01:45.214Z"
   },
   {
    "duration": 7,
    "start_time": "2022-09-26T11:01:45.228Z"
   },
   {
    "duration": 20,
    "start_time": "2022-09-26T11:01:45.236Z"
   },
   {
    "duration": 12,
    "start_time": "2022-09-26T11:01:45.257Z"
   },
   {
    "duration": 4,
    "start_time": "2022-09-26T11:01:45.271Z"
   },
   {
    "duration": 38,
    "start_time": "2022-09-26T11:01:45.276Z"
   },
   {
    "duration": 385,
    "start_time": "2022-09-26T11:01:45.316Z"
   },
   {
    "duration": 3,
    "start_time": "2022-09-26T11:01:45.703Z"
   },
   {
    "duration": 20,
    "start_time": "2022-09-26T11:01:45.707Z"
   },
   {
    "duration": 265,
    "start_time": "2022-09-26T11:01:45.728Z"
   },
   {
    "duration": 215,
    "start_time": "2022-09-26T11:01:45.995Z"
   },
   {
    "duration": 208,
    "start_time": "2022-09-26T11:01:46.211Z"
   },
   {
    "duration": 139,
    "start_time": "2022-09-26T11:01:46.421Z"
   },
   {
    "duration": 133,
    "start_time": "2022-09-26T11:01:46.561Z"
   },
   {
    "duration": 16,
    "start_time": "2022-09-26T11:01:46.695Z"
   },
   {
    "duration": 136,
    "start_time": "2022-09-26T11:01:46.713Z"
   },
   {
    "duration": 171,
    "start_time": "2022-09-26T11:01:46.850Z"
   },
   {
    "duration": 71,
    "start_time": "2022-09-26T11:01:47.023Z"
   },
   {
    "duration": 0,
    "start_time": "2022-09-26T11:01:47.095Z"
   },
   {
    "duration": 323,
    "start_time": "2022-09-26T11:03:08.467Z"
   },
   {
    "duration": 236,
    "start_time": "2022-09-26T11:03:46.040Z"
   },
   {
    "duration": 233,
    "start_time": "2022-09-26T11:04:16.291Z"
   },
   {
    "duration": 242,
    "start_time": "2022-09-26T11:04:28.608Z"
   },
   {
    "duration": 693,
    "start_time": "2022-09-26T11:04:43.710Z"
   },
   {
    "duration": 13,
    "start_time": "2022-09-26T11:04:44.405Z"
   },
   {
    "duration": 1680,
    "start_time": "2022-09-26T11:04:44.419Z"
   },
   {
    "duration": 4,
    "start_time": "2022-09-26T11:04:46.101Z"
   },
   {
    "duration": 8,
    "start_time": "2022-09-26T11:04:46.106Z"
   },
   {
    "duration": 9,
    "start_time": "2022-09-26T11:04:46.115Z"
   },
   {
    "duration": 9,
    "start_time": "2022-09-26T11:04:46.125Z"
   },
   {
    "duration": 12,
    "start_time": "2022-09-26T11:04:46.135Z"
   },
   {
    "duration": 13,
    "start_time": "2022-09-26T11:04:46.148Z"
   },
   {
    "duration": 6,
    "start_time": "2022-09-26T11:04:46.162Z"
   },
   {
    "duration": 9,
    "start_time": "2022-09-26T11:04:46.170Z"
   },
   {
    "duration": 5,
    "start_time": "2022-09-26T11:04:46.205Z"
   },
   {
    "duration": 7,
    "start_time": "2022-09-26T11:04:46.211Z"
   },
   {
    "duration": 266,
    "start_time": "2022-09-26T11:04:46.220Z"
   },
   {
    "duration": 5,
    "start_time": "2022-09-26T11:04:46.488Z"
   },
   {
    "duration": 12,
    "start_time": "2022-09-26T11:04:46.494Z"
   },
   {
    "duration": 6,
    "start_time": "2022-09-26T11:04:46.507Z"
   },
   {
    "duration": 22,
    "start_time": "2022-09-26T11:04:46.514Z"
   },
   {
    "duration": 12,
    "start_time": "2022-09-26T11:04:46.537Z"
   },
   {
    "duration": 4,
    "start_time": "2022-09-26T11:04:46.550Z"
   },
   {
    "duration": 20,
    "start_time": "2022-09-26T11:04:46.556Z"
   },
   {
    "duration": 379,
    "start_time": "2022-09-26T11:04:46.578Z"
   },
   {
    "duration": 3,
    "start_time": "2022-09-26T11:04:46.958Z"
   },
   {
    "duration": 16,
    "start_time": "2022-09-26T11:04:46.963Z"
   },
   {
    "duration": 231,
    "start_time": "2022-09-26T11:04:46.981Z"
   },
   {
    "duration": 212,
    "start_time": "2022-09-26T11:04:47.213Z"
   },
   {
    "duration": 243,
    "start_time": "2022-09-26T11:04:47.427Z"
   },
   {
    "duration": 133,
    "start_time": "2022-09-26T11:04:47.672Z"
   },
   {
    "duration": 139,
    "start_time": "2022-09-26T11:04:47.807Z"
   },
   {
    "duration": 9,
    "start_time": "2022-09-26T11:04:47.948Z"
   },
   {
    "duration": 151,
    "start_time": "2022-09-26T11:04:47.958Z"
   },
   {
    "duration": 159,
    "start_time": "2022-09-26T11:04:48.111Z"
   },
   {
    "duration": 94,
    "start_time": "2022-09-26T11:04:48.272Z"
   },
   {
    "duration": 0,
    "start_time": "2022-09-26T11:04:48.368Z"
   },
   {
    "duration": 319,
    "start_time": "2022-09-26T11:05:41.310Z"
   },
   {
    "duration": 223,
    "start_time": "2022-09-26T11:05:55.871Z"
   },
   {
    "duration": 229,
    "start_time": "2022-09-26T11:06:09.840Z"
   },
   {
    "duration": 221,
    "start_time": "2022-09-26T11:06:20.986Z"
   },
   {
    "duration": 237,
    "start_time": "2022-09-26T11:06:37.781Z"
   },
   {
    "duration": 223,
    "start_time": "2022-09-26T11:06:49.040Z"
   },
   {
    "duration": 324,
    "start_time": "2022-09-26T11:06:59.750Z"
   },
   {
    "duration": 216,
    "start_time": "2022-09-26T11:07:24.717Z"
   },
   {
    "duration": 214,
    "start_time": "2022-09-26T11:07:59.251Z"
   },
   {
    "duration": 166,
    "start_time": "2022-09-26T11:08:25.088Z"
   },
   {
    "duration": 157,
    "start_time": "2022-09-26T11:08:31.450Z"
   },
   {
    "duration": 180,
    "start_time": "2022-09-26T11:08:39.469Z"
   },
   {
    "duration": 161,
    "start_time": "2022-09-26T11:08:56.572Z"
   },
   {
    "duration": 260,
    "start_time": "2022-09-26T11:09:49.697Z"
   },
   {
    "duration": 138,
    "start_time": "2022-09-26T11:10:01.667Z"
   },
   {
    "duration": 171,
    "start_time": "2022-09-26T11:12:31.541Z"
   },
   {
    "duration": 691,
    "start_time": "2022-09-26T12:06:18.334Z"
   },
   {
    "duration": 15,
    "start_time": "2022-09-26T12:06:19.027Z"
   },
   {
    "duration": 1755,
    "start_time": "2022-09-26T12:06:19.044Z"
   },
   {
    "duration": 4,
    "start_time": "2022-09-26T12:06:20.801Z"
   },
   {
    "duration": 9,
    "start_time": "2022-09-26T12:06:20.806Z"
   },
   {
    "duration": 3,
    "start_time": "2022-09-26T12:06:20.817Z"
   },
   {
    "duration": 11,
    "start_time": "2022-09-26T12:06:20.821Z"
   },
   {
    "duration": 13,
    "start_time": "2022-09-26T12:06:20.833Z"
   },
   {
    "duration": 16,
    "start_time": "2022-09-26T12:06:20.847Z"
   },
   {
    "duration": 8,
    "start_time": "2022-09-26T12:06:20.865Z"
   },
   {
    "duration": 32,
    "start_time": "2022-09-26T12:06:20.874Z"
   },
   {
    "duration": 11,
    "start_time": "2022-09-26T12:06:20.908Z"
   },
   {
    "duration": 7,
    "start_time": "2022-09-26T12:06:20.921Z"
   },
   {
    "duration": 250,
    "start_time": "2022-09-26T12:06:20.930Z"
   },
   {
    "duration": 7,
    "start_time": "2022-09-26T12:06:21.181Z"
   },
   {
    "duration": 21,
    "start_time": "2022-09-26T12:06:21.190Z"
   },
   {
    "duration": 9,
    "start_time": "2022-09-26T12:06:21.212Z"
   },
   {
    "duration": 18,
    "start_time": "2022-09-26T12:06:21.222Z"
   },
   {
    "duration": 12,
    "start_time": "2022-09-26T12:06:21.242Z"
   },
   {
    "duration": 4,
    "start_time": "2022-09-26T12:06:21.255Z"
   },
   {
    "duration": 16,
    "start_time": "2022-09-26T12:06:21.261Z"
   },
   {
    "duration": 386,
    "start_time": "2022-09-26T12:06:21.279Z"
   },
   {
    "duration": 3,
    "start_time": "2022-09-26T12:06:21.667Z"
   },
   {
    "duration": 50,
    "start_time": "2022-09-26T12:06:21.672Z"
   },
   {
    "duration": 236,
    "start_time": "2022-09-26T12:06:21.723Z"
   },
   {
    "duration": 206,
    "start_time": "2022-09-26T12:06:21.961Z"
   },
   {
    "duration": 173,
    "start_time": "2022-09-26T12:06:22.169Z"
   },
   {
    "duration": 5,
    "start_time": "2022-09-26T12:06:22.345Z"
   },
   {
    "duration": 156,
    "start_time": "2022-09-26T12:06:22.351Z"
   },
   {
    "duration": 8,
    "start_time": "2022-09-26T12:06:22.508Z"
   },
   {
    "duration": 129,
    "start_time": "2022-09-26T12:06:22.518Z"
   },
   {
    "duration": 166,
    "start_time": "2022-09-26T12:06:22.648Z"
   },
   {
    "duration": 200,
    "start_time": "2022-09-26T12:06:22.816Z"
   },
   {
    "duration": 0,
    "start_time": "2022-09-26T12:06:23.018Z"
   },
   {
    "duration": 10,
    "start_time": "2022-09-26T12:07:21.763Z"
   },
   {
    "duration": 11,
    "start_time": "2022-09-26T12:08:53.961Z"
   },
   {
    "duration": 10,
    "start_time": "2022-09-26T12:11:19.194Z"
   },
   {
    "duration": 8,
    "start_time": "2022-09-26T12:11:38.122Z"
   },
   {
    "duration": 8,
    "start_time": "2022-09-26T12:11:40.299Z"
   },
   {
    "duration": 4,
    "start_time": "2022-09-26T12:12:58.054Z"
   },
   {
    "duration": 114,
    "start_time": "2022-09-26T12:13:11.114Z"
   },
   {
    "duration": 116,
    "start_time": "2022-09-26T12:13:25.311Z"
   },
   {
    "duration": 647,
    "start_time": "2022-09-26T12:29:37.595Z"
   },
   {
    "duration": 77,
    "start_time": "2022-09-26T12:30:34.387Z"
   },
   {
    "duration": 88,
    "start_time": "2022-09-26T12:30:55.320Z"
   },
   {
    "duration": 117,
    "start_time": "2022-09-26T12:36:40.288Z"
   },
   {
    "duration": 574,
    "start_time": "2022-09-26T12:38:51.155Z"
   },
   {
    "duration": 508,
    "start_time": "2022-09-26T12:40:04.494Z"
   },
   {
    "duration": 10,
    "start_time": "2022-09-26T12:40:18.589Z"
   },
   {
    "duration": 527,
    "start_time": "2022-09-26T12:40:31.492Z"
   },
   {
    "duration": 578,
    "start_time": "2022-09-26T12:40:48.281Z"
   },
   {
    "duration": 8,
    "start_time": "2022-09-26T12:42:36.548Z"
   },
   {
    "duration": 8,
    "start_time": "2022-09-26T12:42:51.884Z"
   },
   {
    "duration": 7,
    "start_time": "2022-09-26T12:43:09.156Z"
   },
   {
    "duration": 11,
    "start_time": "2022-09-26T12:43:11.888Z"
   },
   {
    "duration": 1144,
    "start_time": "2022-09-26T12:43:18.953Z"
   },
   {
    "duration": 16,
    "start_time": "2022-09-26T12:43:20.099Z"
   },
   {
    "duration": 1755,
    "start_time": "2022-09-26T12:43:20.116Z"
   },
   {
    "duration": 4,
    "start_time": "2022-09-26T12:43:21.874Z"
   },
   {
    "duration": 9,
    "start_time": "2022-09-26T12:43:21.879Z"
   },
   {
    "duration": 4,
    "start_time": "2022-09-26T12:43:21.889Z"
   },
   {
    "duration": 10,
    "start_time": "2022-09-26T12:43:21.895Z"
   },
   {
    "duration": 11,
    "start_time": "2022-09-26T12:43:21.907Z"
   },
   {
    "duration": 8,
    "start_time": "2022-09-26T12:43:21.920Z"
   },
   {
    "duration": 7,
    "start_time": "2022-09-26T12:43:21.930Z"
   },
   {
    "duration": 6,
    "start_time": "2022-09-26T12:43:21.938Z"
   },
   {
    "duration": 5,
    "start_time": "2022-09-26T12:43:21.945Z"
   },
   {
    "duration": 6,
    "start_time": "2022-09-26T12:43:21.952Z"
   },
   {
    "duration": 277,
    "start_time": "2022-09-26T12:43:21.959Z"
   },
   {
    "duration": 6,
    "start_time": "2022-09-26T12:43:22.238Z"
   },
   {
    "duration": 7,
    "start_time": "2022-09-26T12:43:22.246Z"
   },
   {
    "duration": 10,
    "start_time": "2022-09-26T12:43:22.255Z"
   },
   {
    "duration": 22,
    "start_time": "2022-09-26T12:43:22.267Z"
   },
   {
    "duration": 23,
    "start_time": "2022-09-26T12:43:22.291Z"
   },
   {
    "duration": 4,
    "start_time": "2022-09-26T12:43:22.316Z"
   },
   {
    "duration": 7,
    "start_time": "2022-09-26T12:43:22.322Z"
   },
   {
    "duration": 127,
    "start_time": "2022-09-26T12:43:22.330Z"
   },
   {
    "duration": 3,
    "start_time": "2022-09-26T12:43:22.459Z"
   },
   {
    "duration": 17,
    "start_time": "2022-09-26T12:43:22.464Z"
   },
   {
    "duration": 227,
    "start_time": "2022-09-26T12:43:22.483Z"
   },
   {
    "duration": 229,
    "start_time": "2022-09-26T12:43:22.712Z"
   },
   {
    "duration": 172,
    "start_time": "2022-09-26T12:43:22.942Z"
   },
   {
    "duration": 267,
    "start_time": "2022-09-26T12:43:23.117Z"
   },
   {
    "duration": 9,
    "start_time": "2022-09-26T12:43:23.386Z"
   },
   {
    "duration": 128,
    "start_time": "2022-09-26T12:43:23.405Z"
   },
   {
    "duration": 133,
    "start_time": "2022-09-26T12:43:23.534Z"
   },
   {
    "duration": 249,
    "start_time": "2022-09-26T12:43:23.669Z"
   },
   {
    "duration": 77,
    "start_time": "2022-09-26T12:43:23.919Z"
   },
   {
    "duration": 0,
    "start_time": "2022-09-26T12:43:23.997Z"
   },
   {
    "duration": 145,
    "start_time": "2022-09-26T12:47:34.432Z"
   },
   {
    "duration": 155,
    "start_time": "2022-09-26T12:48:11.147Z"
   },
   {
    "duration": 233,
    "start_time": "2022-09-26T12:48:33.195Z"
   },
   {
    "duration": 159,
    "start_time": "2022-09-26T12:48:54.513Z"
   },
   {
    "duration": 177,
    "start_time": "2022-09-26T12:48:57.958Z"
   },
   {
    "duration": 150,
    "start_time": "2022-09-26T12:49:14.636Z"
   },
   {
    "duration": 151,
    "start_time": "2022-09-26T12:49:53.612Z"
   },
   {
    "duration": 166,
    "start_time": "2022-09-26T12:50:02.126Z"
   },
   {
    "duration": 159,
    "start_time": "2022-09-26T12:50:18.733Z"
   },
   {
    "duration": 151,
    "start_time": "2022-09-26T12:51:48.683Z"
   },
   {
    "duration": 281,
    "start_time": "2022-09-26T12:52:00.683Z"
   },
   {
    "duration": 140,
    "start_time": "2022-09-26T12:52:05.693Z"
   },
   {
    "duration": 160,
    "start_time": "2022-09-26T12:52:11.588Z"
   },
   {
    "duration": 1169,
    "start_time": "2022-09-26T12:52:22.712Z"
   },
   {
    "duration": 13,
    "start_time": "2022-09-26T12:52:23.882Z"
   },
   {
    "duration": 1844,
    "start_time": "2022-09-26T12:52:23.896Z"
   },
   {
    "duration": 4,
    "start_time": "2022-09-26T12:52:25.742Z"
   },
   {
    "duration": 19,
    "start_time": "2022-09-26T12:52:25.748Z"
   },
   {
    "duration": 13,
    "start_time": "2022-09-26T12:52:25.769Z"
   },
   {
    "duration": 10,
    "start_time": "2022-09-26T12:52:25.784Z"
   },
   {
    "duration": 11,
    "start_time": "2022-09-26T12:52:25.796Z"
   },
   {
    "duration": 11,
    "start_time": "2022-09-26T12:52:25.808Z"
   },
   {
    "duration": 7,
    "start_time": "2022-09-26T12:52:25.821Z"
   },
   {
    "duration": 7,
    "start_time": "2022-09-26T12:52:25.829Z"
   },
   {
    "duration": 8,
    "start_time": "2022-09-26T12:52:25.837Z"
   },
   {
    "duration": 6,
    "start_time": "2022-09-26T12:52:25.847Z"
   },
   {
    "duration": 264,
    "start_time": "2022-09-26T12:52:25.856Z"
   },
   {
    "duration": 6,
    "start_time": "2022-09-26T12:52:26.122Z"
   },
   {
    "duration": 17,
    "start_time": "2022-09-26T12:52:26.130Z"
   },
   {
    "duration": 22,
    "start_time": "2022-09-26T12:52:26.148Z"
   },
   {
    "duration": 25,
    "start_time": "2022-09-26T12:52:26.172Z"
   },
   {
    "duration": 15,
    "start_time": "2022-09-26T12:52:26.199Z"
   },
   {
    "duration": 19,
    "start_time": "2022-09-26T12:52:26.216Z"
   },
   {
    "duration": 31,
    "start_time": "2022-09-26T12:52:26.237Z"
   },
   {
    "duration": 131,
    "start_time": "2022-09-26T12:52:26.270Z"
   },
   {
    "duration": 3,
    "start_time": "2022-09-26T12:52:26.405Z"
   },
   {
    "duration": 33,
    "start_time": "2022-09-26T12:52:26.409Z"
   },
   {
    "duration": 211,
    "start_time": "2022-09-26T12:52:26.444Z"
   },
   {
    "duration": 218,
    "start_time": "2022-09-26T12:52:26.657Z"
   },
   {
    "duration": 159,
    "start_time": "2022-09-26T12:52:26.876Z"
   },
   {
    "duration": 140,
    "start_time": "2022-09-26T12:52:27.036Z"
   },
   {
    "duration": 9,
    "start_time": "2022-09-26T12:52:27.178Z"
   },
   {
    "duration": 137,
    "start_time": "2022-09-26T12:52:27.188Z"
   },
   {
    "duration": 189,
    "start_time": "2022-09-26T12:52:27.327Z"
   },
   {
    "duration": 281,
    "start_time": "2022-09-26T12:52:27.518Z"
   },
   {
    "duration": 108,
    "start_time": "2022-09-26T12:52:27.804Z"
   },
   {
    "duration": 0,
    "start_time": "2022-09-26T12:52:27.914Z"
   },
   {
    "duration": 198,
    "start_time": "2022-09-26T12:54:11.589Z"
   },
   {
    "duration": 149,
    "start_time": "2022-09-26T12:54:39.397Z"
   },
   {
    "duration": 155,
    "start_time": "2022-09-26T12:56:48.996Z"
   },
   {
    "duration": 130,
    "start_time": "2022-09-26T12:59:24.206Z"
   },
   {
    "duration": 220,
    "start_time": "2022-09-26T13:00:20.096Z"
   },
   {
    "duration": 218,
    "start_time": "2022-09-26T13:00:40.645Z"
   },
   {
    "duration": 217,
    "start_time": "2022-09-26T13:01:17.681Z"
   },
   {
    "duration": 360,
    "start_time": "2022-09-26T13:01:36.285Z"
   },
   {
    "duration": 219,
    "start_time": "2022-09-26T13:01:50.596Z"
   },
   {
    "duration": 127,
    "start_time": "2022-09-26T14:02:46.507Z"
   },
   {
    "duration": 112,
    "start_time": "2022-09-26T14:03:46.630Z"
   },
   {
    "duration": 156,
    "start_time": "2022-09-26T14:06:28.266Z"
   },
   {
    "duration": 135,
    "start_time": "2022-09-26T14:06:55.991Z"
   },
   {
    "duration": 157,
    "start_time": "2022-09-26T14:07:07.940Z"
   },
   {
    "duration": 113,
    "start_time": "2022-09-26T14:07:20.695Z"
   },
   {
    "duration": 115,
    "start_time": "2022-09-26T14:07:58.417Z"
   },
   {
    "duration": 168,
    "start_time": "2022-09-26T14:09:41.929Z"
   },
   {
    "duration": 241,
    "start_time": "2022-09-26T14:10:34.195Z"
   },
   {
    "duration": 151,
    "start_time": "2022-09-26T14:10:50.936Z"
   },
   {
    "duration": 223,
    "start_time": "2022-09-26T14:11:24.101Z"
   },
   {
    "duration": 209,
    "start_time": "2022-09-26T14:11:34.914Z"
   },
   {
    "duration": 159,
    "start_time": "2022-09-26T14:11:49.699Z"
   },
   {
    "duration": 219,
    "start_time": "2022-09-26T14:13:54.631Z"
   },
   {
    "duration": 114,
    "start_time": "2022-09-26T14:14:52.495Z"
   },
   {
    "duration": 114,
    "start_time": "2022-09-26T14:15:04.101Z"
   },
   {
    "duration": 222,
    "start_time": "2022-09-26T14:15:19.311Z"
   },
   {
    "duration": 112,
    "start_time": "2022-09-26T14:15:33.306Z"
   },
   {
    "duration": 106,
    "start_time": "2022-09-26T14:15:45.199Z"
   },
   {
    "duration": 109,
    "start_time": "2022-09-26T14:15:54.066Z"
   },
   {
    "duration": 108,
    "start_time": "2022-09-26T14:16:02.985Z"
   },
   {
    "duration": 108,
    "start_time": "2022-09-26T14:16:16.138Z"
   },
   {
    "duration": 136,
    "start_time": "2022-09-26T14:16:53.536Z"
   },
   {
    "duration": 197,
    "start_time": "2022-09-26T14:17:07.500Z"
   },
   {
    "duration": 158,
    "start_time": "2022-09-26T14:17:13.820Z"
   },
   {
    "duration": 156,
    "start_time": "2022-09-26T14:17:35.855Z"
   },
   {
    "duration": 132,
    "start_time": "2022-09-26T14:17:45.536Z"
   },
   {
    "duration": 142,
    "start_time": "2022-09-26T14:17:53.014Z"
   },
   {
    "duration": 159,
    "start_time": "2022-09-26T14:18:02.493Z"
   },
   {
    "duration": 135,
    "start_time": "2022-09-26T14:18:19.665Z"
   },
   {
    "duration": 304,
    "start_time": "2022-09-26T14:18:30.154Z"
   },
   {
    "duration": 1147,
    "start_time": "2022-09-26T14:19:23.142Z"
   },
   {
    "duration": 17,
    "start_time": "2022-09-26T14:19:24.291Z"
   },
   {
    "duration": 1785,
    "start_time": "2022-09-26T14:19:24.310Z"
   },
   {
    "duration": 5,
    "start_time": "2022-09-26T14:19:26.098Z"
   },
   {
    "duration": 9,
    "start_time": "2022-09-26T14:19:26.104Z"
   },
   {
    "duration": 3,
    "start_time": "2022-09-26T14:19:26.115Z"
   },
   {
    "duration": 9,
    "start_time": "2022-09-26T14:19:26.120Z"
   },
   {
    "duration": 11,
    "start_time": "2022-09-26T14:19:26.130Z"
   },
   {
    "duration": 9,
    "start_time": "2022-09-26T14:19:26.143Z"
   },
   {
    "duration": 6,
    "start_time": "2022-09-26T14:19:26.155Z"
   },
   {
    "duration": 5,
    "start_time": "2022-09-26T14:19:26.163Z"
   },
   {
    "duration": 39,
    "start_time": "2022-09-26T14:19:26.170Z"
   },
   {
    "duration": 11,
    "start_time": "2022-09-26T14:19:26.211Z"
   },
   {
    "duration": 256,
    "start_time": "2022-09-26T14:19:26.223Z"
   },
   {
    "duration": 5,
    "start_time": "2022-09-26T14:19:26.480Z"
   },
   {
    "duration": 11,
    "start_time": "2022-09-26T14:19:26.487Z"
   },
   {
    "duration": 9,
    "start_time": "2022-09-26T14:19:26.505Z"
   },
   {
    "duration": 14,
    "start_time": "2022-09-26T14:19:26.516Z"
   },
   {
    "duration": 10,
    "start_time": "2022-09-26T14:19:26.532Z"
   },
   {
    "duration": 3,
    "start_time": "2022-09-26T14:19:26.544Z"
   },
   {
    "duration": 10,
    "start_time": "2022-09-26T14:19:26.549Z"
   },
   {
    "duration": 137,
    "start_time": "2022-09-26T14:19:26.560Z"
   },
   {
    "duration": 8,
    "start_time": "2022-09-26T14:19:26.699Z"
   },
   {
    "duration": 14,
    "start_time": "2022-09-26T14:19:26.709Z"
   },
   {
    "duration": 234,
    "start_time": "2022-09-26T14:19:26.725Z"
   },
   {
    "duration": 233,
    "start_time": "2022-09-26T14:19:26.961Z"
   },
   {
    "duration": 198,
    "start_time": "2022-09-26T14:19:27.196Z"
   },
   {
    "duration": 233,
    "start_time": "2022-09-26T14:19:27.398Z"
   },
   {
    "duration": 118,
    "start_time": "2022-09-26T14:19:27.633Z"
   },
   {
    "duration": 294,
    "start_time": "2022-09-26T14:19:27.752Z"
   },
   {
    "duration": 157,
    "start_time": "2022-09-26T14:19:28.048Z"
   },
   {
    "duration": 191,
    "start_time": "2022-09-26T14:19:28.206Z"
   },
   {
    "duration": 85,
    "start_time": "2022-09-26T14:19:28.399Z"
   },
   {
    "duration": 0,
    "start_time": "2022-09-26T14:19:28.485Z"
   },
   {
    "duration": 205,
    "start_time": "2022-09-26T14:20:03.660Z"
   },
   {
    "duration": 16,
    "start_time": "2022-09-26T14:21:00.897Z"
   },
   {
    "duration": 16,
    "start_time": "2022-09-26T14:21:44.985Z"
   },
   {
    "duration": 17,
    "start_time": "2022-09-26T14:27:19.719Z"
   },
   {
    "duration": 217,
    "start_time": "2022-09-26T14:27:47.223Z"
   },
   {
    "duration": 124,
    "start_time": "2022-09-26T14:28:04.272Z"
   },
   {
    "duration": 120,
    "start_time": "2022-09-26T14:28:16.619Z"
   },
   {
    "duration": 141,
    "start_time": "2022-09-26T14:35:29.520Z"
   },
   {
    "duration": 139,
    "start_time": "2022-09-26T14:35:49.900Z"
   },
   {
    "duration": 341,
    "start_time": "2022-09-26T14:41:58.761Z"
   },
   {
    "duration": 238,
    "start_time": "2022-09-26T14:42:19.741Z"
   },
   {
    "duration": 238,
    "start_time": "2022-09-26T14:43:40.013Z"
   },
   {
    "duration": 228,
    "start_time": "2022-09-26T14:44:01.160Z"
   },
   {
    "duration": 247,
    "start_time": "2022-09-26T14:44:37.697Z"
   },
   {
    "duration": 419,
    "start_time": "2022-09-26T14:44:58.542Z"
   },
   {
    "duration": 246,
    "start_time": "2022-09-26T14:45:09.515Z"
   },
   {
    "duration": 234,
    "start_time": "2022-09-26T14:46:42.417Z"
   },
   {
    "duration": 258,
    "start_time": "2022-09-26T14:46:58.878Z"
   },
   {
    "duration": 307,
    "start_time": "2022-09-26T14:47:27.972Z"
   },
   {
    "duration": 265,
    "start_time": "2022-09-26T14:48:11.456Z"
   },
   {
    "duration": 390,
    "start_time": "2022-09-26T14:49:34.639Z"
   },
   {
    "duration": 211,
    "start_time": "2022-09-26T14:49:51.495Z"
   },
   {
    "duration": 257,
    "start_time": "2022-09-26T14:50:07.816Z"
   },
   {
    "duration": 244,
    "start_time": "2022-09-26T14:50:24.623Z"
   },
   {
    "duration": 7,
    "start_time": "2022-09-26T14:58:43.177Z"
   },
   {
    "duration": 90,
    "start_time": "2022-09-26T14:58:51.030Z"
   },
   {
    "duration": 98,
    "start_time": "2022-09-26T14:59:11.188Z"
   },
   {
    "duration": 95,
    "start_time": "2022-09-26T14:59:20.337Z"
   },
   {
    "duration": 91,
    "start_time": "2022-09-26T15:01:29.572Z"
   },
   {
    "duration": 226,
    "start_time": "2022-09-26T15:01:36.212Z"
   },
   {
    "duration": 160,
    "start_time": "2022-09-26T15:05:47.144Z"
   },
   {
    "duration": 109,
    "start_time": "2022-09-26T15:06:17.184Z"
   },
   {
    "duration": 128,
    "start_time": "2022-09-26T15:06:20.989Z"
   },
   {
    "duration": 112,
    "start_time": "2022-09-26T15:06:25.254Z"
   },
   {
    "duration": 111,
    "start_time": "2022-09-26T15:08:05.013Z"
   },
   {
    "duration": 132,
    "start_time": "2022-09-26T15:08:07.772Z"
   },
   {
    "duration": 119,
    "start_time": "2022-09-26T15:08:10.732Z"
   },
   {
    "duration": 112,
    "start_time": "2022-09-26T15:10:01.696Z"
   },
   {
    "duration": 110,
    "start_time": "2022-09-26T15:10:09.178Z"
   },
   {
    "duration": 119,
    "start_time": "2022-09-26T15:12:30.860Z"
   },
   {
    "duration": 708,
    "start_time": "2022-09-26T15:21:07.300Z"
   },
   {
    "duration": 607,
    "start_time": "2022-09-26T15:21:16.983Z"
   },
   {
    "duration": 1240,
    "start_time": "2022-09-26T15:21:26.334Z"
   },
   {
    "duration": 14,
    "start_time": "2022-09-26T15:21:27.576Z"
   },
   {
    "duration": 2001,
    "start_time": "2022-09-26T15:21:27.591Z"
   },
   {
    "duration": 5,
    "start_time": "2022-09-26T15:21:29.593Z"
   },
   {
    "duration": 11,
    "start_time": "2022-09-26T15:21:29.600Z"
   },
   {
    "duration": 4,
    "start_time": "2022-09-26T15:21:29.613Z"
   },
   {
    "duration": 11,
    "start_time": "2022-09-26T15:21:29.618Z"
   },
   {
    "duration": 12,
    "start_time": "2022-09-26T15:21:29.631Z"
   },
   {
    "duration": 10,
    "start_time": "2022-09-26T15:21:29.645Z"
   },
   {
    "duration": 7,
    "start_time": "2022-09-26T15:21:29.656Z"
   },
   {
    "duration": 6,
    "start_time": "2022-09-26T15:21:29.664Z"
   },
   {
    "duration": 34,
    "start_time": "2022-09-26T15:21:29.672Z"
   },
   {
    "duration": 6,
    "start_time": "2022-09-26T15:21:29.708Z"
   },
   {
    "duration": 294,
    "start_time": "2022-09-26T15:21:29.717Z"
   },
   {
    "duration": 5,
    "start_time": "2022-09-26T15:21:30.013Z"
   },
   {
    "duration": 18,
    "start_time": "2022-09-26T15:21:30.019Z"
   },
   {
    "duration": 15,
    "start_time": "2022-09-26T15:21:30.039Z"
   },
   {
    "duration": 795,
    "start_time": "2022-09-26T15:21:30.055Z"
   },
   {
    "duration": 0,
    "start_time": "2022-09-26T15:21:30.851Z"
   },
   {
    "duration": 0,
    "start_time": "2022-09-26T15:21:30.853Z"
   },
   {
    "duration": 0,
    "start_time": "2022-09-26T15:21:30.854Z"
   },
   {
    "duration": 0,
    "start_time": "2022-09-26T15:21:30.855Z"
   },
   {
    "duration": 0,
    "start_time": "2022-09-26T15:21:30.856Z"
   },
   {
    "duration": 0,
    "start_time": "2022-09-26T15:21:30.858Z"
   },
   {
    "duration": 0,
    "start_time": "2022-09-26T15:21:30.859Z"
   },
   {
    "duration": 0,
    "start_time": "2022-09-26T15:21:30.860Z"
   },
   {
    "duration": 0,
    "start_time": "2022-09-26T15:21:30.861Z"
   },
   {
    "duration": 0,
    "start_time": "2022-09-26T15:21:30.862Z"
   },
   {
    "duration": 0,
    "start_time": "2022-09-26T15:21:30.863Z"
   },
   {
    "duration": 0,
    "start_time": "2022-09-26T15:21:30.864Z"
   },
   {
    "duration": 0,
    "start_time": "2022-09-26T15:21:30.865Z"
   },
   {
    "duration": 0,
    "start_time": "2022-09-26T15:21:30.866Z"
   },
   {
    "duration": 0,
    "start_time": "2022-09-26T15:21:30.867Z"
   },
   {
    "duration": 0,
    "start_time": "2022-09-26T15:21:30.868Z"
   },
   {
    "duration": 0,
    "start_time": "2022-09-26T15:21:30.869Z"
   },
   {
    "duration": 0,
    "start_time": "2022-09-26T15:21:30.870Z"
   },
   {
    "duration": 0,
    "start_time": "2022-09-26T15:21:30.871Z"
   },
   {
    "duration": 0,
    "start_time": "2022-09-26T15:21:30.873Z"
   },
   {
    "duration": 15,
    "start_time": "2022-09-26T15:21:44.809Z"
   },
   {
    "duration": 1213,
    "start_time": "2022-09-26T15:22:03.873Z"
   },
   {
    "duration": 20,
    "start_time": "2022-09-26T15:22:05.088Z"
   },
   {
    "duration": 1796,
    "start_time": "2022-09-26T15:22:05.110Z"
   },
   {
    "duration": 3,
    "start_time": "2022-09-26T15:22:06.908Z"
   },
   {
    "duration": 9,
    "start_time": "2022-09-26T15:22:06.913Z"
   },
   {
    "duration": 3,
    "start_time": "2022-09-26T15:22:06.923Z"
   },
   {
    "duration": 11,
    "start_time": "2022-09-26T15:22:06.928Z"
   },
   {
    "duration": 10,
    "start_time": "2022-09-26T15:22:06.940Z"
   },
   {
    "duration": 8,
    "start_time": "2022-09-26T15:22:06.951Z"
   },
   {
    "duration": 8,
    "start_time": "2022-09-26T15:22:06.961Z"
   },
   {
    "duration": 39,
    "start_time": "2022-09-26T15:22:06.971Z"
   },
   {
    "duration": 6,
    "start_time": "2022-09-26T15:22:07.011Z"
   },
   {
    "duration": 5,
    "start_time": "2022-09-26T15:22:07.019Z"
   },
   {
    "duration": 253,
    "start_time": "2022-09-26T15:22:07.026Z"
   },
   {
    "duration": 5,
    "start_time": "2022-09-26T15:22:07.280Z"
   },
   {
    "duration": 8,
    "start_time": "2022-09-26T15:22:07.286Z"
   },
   {
    "duration": 9,
    "start_time": "2022-09-26T15:22:07.304Z"
   },
   {
    "duration": 24,
    "start_time": "2022-09-26T15:22:07.315Z"
   },
   {
    "duration": 12,
    "start_time": "2022-09-26T15:22:07.343Z"
   },
   {
    "duration": 6,
    "start_time": "2022-09-26T15:22:07.356Z"
   },
   {
    "duration": 26,
    "start_time": "2022-09-26T15:22:07.364Z"
   },
   {
    "duration": 134,
    "start_time": "2022-09-26T15:22:07.392Z"
   },
   {
    "duration": 3,
    "start_time": "2022-09-26T15:22:07.528Z"
   },
   {
    "duration": 16,
    "start_time": "2022-09-26T15:22:07.532Z"
   },
   {
    "duration": 227,
    "start_time": "2022-09-26T15:22:07.549Z"
   },
   {
    "duration": 243,
    "start_time": "2022-09-26T15:22:07.778Z"
   },
   {
    "duration": 176,
    "start_time": "2022-09-26T15:22:08.023Z"
   },
   {
    "duration": 216,
    "start_time": "2022-09-26T15:22:08.205Z"
   },
   {
    "duration": 112,
    "start_time": "2022-09-26T15:22:08.423Z"
   },
   {
    "duration": 211,
    "start_time": "2022-09-26T15:22:08.537Z"
   },
   {
    "duration": 136,
    "start_time": "2022-09-26T15:22:08.750Z"
   },
   {
    "duration": 162,
    "start_time": "2022-09-26T15:22:08.887Z"
   },
   {
    "duration": 100,
    "start_time": "2022-09-26T15:22:09.051Z"
   },
   {
    "duration": 121,
    "start_time": "2022-09-26T15:22:09.152Z"
   },
   {
    "duration": 142,
    "start_time": "2022-09-26T15:22:09.274Z"
   },
   {
    "duration": 138,
    "start_time": "2022-09-26T15:22:09.418Z"
   },
   {
    "duration": 77,
    "start_time": "2022-09-26T15:22:09.558Z"
   },
   {
    "duration": 0,
    "start_time": "2022-09-26T15:22:09.636Z"
   },
   {
    "duration": 102,
    "start_time": "2022-09-26T15:22:54.235Z"
   },
   {
    "duration": 123,
    "start_time": "2022-09-26T15:23:00.890Z"
   },
   {
    "duration": 110,
    "start_time": "2022-09-26T15:23:41.067Z"
   },
   {
    "duration": 54,
    "start_time": "2022-09-27T11:09:18.357Z"
   },
   {
    "duration": 1573,
    "start_time": "2022-09-27T11:09:28.116Z"
   },
   {
    "duration": 22,
    "start_time": "2022-09-27T11:09:29.691Z"
   },
   {
    "duration": 1906,
    "start_time": "2022-09-27T11:09:29.717Z"
   },
   {
    "duration": 4,
    "start_time": "2022-09-27T11:09:31.626Z"
   },
   {
    "duration": 13,
    "start_time": "2022-09-27T11:09:31.632Z"
   },
   {
    "duration": 4,
    "start_time": "2022-09-27T11:09:31.647Z"
   },
   {
    "duration": 12,
    "start_time": "2022-09-27T11:09:31.652Z"
   },
   {
    "duration": 12,
    "start_time": "2022-09-27T11:09:31.665Z"
   },
   {
    "duration": 9,
    "start_time": "2022-09-27T11:09:31.678Z"
   },
   {
    "duration": 26,
    "start_time": "2022-09-27T11:09:31.690Z"
   },
   {
    "duration": 9,
    "start_time": "2022-09-27T11:09:31.717Z"
   },
   {
    "duration": 20,
    "start_time": "2022-09-27T11:09:31.728Z"
   },
   {
    "duration": 13,
    "start_time": "2022-09-27T11:09:31.749Z"
   },
   {
    "duration": 268,
    "start_time": "2022-09-27T11:09:31.763Z"
   },
   {
    "duration": 5,
    "start_time": "2022-09-27T11:09:32.033Z"
   },
   {
    "duration": 12,
    "start_time": "2022-09-27T11:09:32.040Z"
   },
   {
    "duration": 16,
    "start_time": "2022-09-27T11:09:32.054Z"
   },
   {
    "duration": 47,
    "start_time": "2022-09-27T11:09:32.071Z"
   },
   {
    "duration": 11,
    "start_time": "2022-09-27T11:09:32.120Z"
   },
   {
    "duration": 9,
    "start_time": "2022-09-27T11:09:32.132Z"
   },
   {
    "duration": 10,
    "start_time": "2022-09-27T11:09:32.142Z"
   },
   {
    "duration": 122,
    "start_time": "2022-09-27T11:09:32.153Z"
   },
   {
    "duration": 4,
    "start_time": "2022-09-27T11:09:32.276Z"
   },
   {
    "duration": 28,
    "start_time": "2022-09-27T11:09:32.282Z"
   },
   {
    "duration": 246,
    "start_time": "2022-09-27T11:09:32.314Z"
   },
   {
    "duration": 251,
    "start_time": "2022-09-27T11:09:32.562Z"
   },
   {
    "duration": 170,
    "start_time": "2022-09-27T11:09:32.815Z"
   },
   {
    "duration": 246,
    "start_time": "2022-09-27T11:09:32.988Z"
   },
   {
    "duration": 120,
    "start_time": "2022-09-27T11:09:33.235Z"
   },
   {
    "duration": 261,
    "start_time": "2022-09-27T11:09:33.357Z"
   },
   {
    "duration": 147,
    "start_time": "2022-09-27T11:09:33.620Z"
   },
   {
    "duration": 186,
    "start_time": "2022-09-27T11:09:33.768Z"
   },
   {
    "duration": 103,
    "start_time": "2022-09-27T11:09:33.956Z"
   },
   {
    "duration": 164,
    "start_time": "2022-09-27T11:09:34.061Z"
   },
   {
    "duration": 157,
    "start_time": "2022-09-27T11:09:34.227Z"
   },
   {
    "duration": 164,
    "start_time": "2022-09-27T11:09:34.385Z"
   },
   {
    "duration": 134,
    "start_time": "2022-09-27T11:09:34.551Z"
   },
   {
    "duration": 0,
    "start_time": "2022-09-27T11:09:34.687Z"
   },
   {
    "duration": 129,
    "start_time": "2022-09-27T11:10:01.897Z"
   },
   {
    "duration": 153,
    "start_time": "2022-09-27T11:30:40.525Z"
   },
   {
    "duration": 71,
    "start_time": "2022-09-27T11:31:41.685Z"
   },
   {
    "duration": 290,
    "start_time": "2022-09-27T11:31:51.398Z"
   },
   {
    "duration": 173,
    "start_time": "2022-09-27T11:33:32.359Z"
   },
   {
    "duration": 179,
    "start_time": "2022-09-27T11:33:51.478Z"
   },
   {
    "duration": 279,
    "start_time": "2022-09-27T11:36:17.073Z"
   },
   {
    "duration": 1219,
    "start_time": "2022-09-27T11:42:46.374Z"
   },
   {
    "duration": 18,
    "start_time": "2022-09-27T11:42:47.595Z"
   },
   {
    "duration": 1873,
    "start_time": "2022-09-27T11:42:47.614Z"
   },
   {
    "duration": 4,
    "start_time": "2022-09-27T11:42:49.490Z"
   },
   {
    "duration": 20,
    "start_time": "2022-09-27T11:42:49.495Z"
   },
   {
    "duration": 12,
    "start_time": "2022-09-27T11:42:49.517Z"
   },
   {
    "duration": 25,
    "start_time": "2022-09-27T11:42:49.531Z"
   },
   {
    "duration": 105,
    "start_time": "2022-09-27T11:42:49.558Z"
   },
   {
    "duration": 0,
    "start_time": "2022-09-27T11:42:49.666Z"
   },
   {
    "duration": 0,
    "start_time": "2022-09-27T11:42:49.667Z"
   },
   {
    "duration": 0,
    "start_time": "2022-09-27T11:42:49.668Z"
   },
   {
    "duration": 0,
    "start_time": "2022-09-27T11:42:49.670Z"
   },
   {
    "duration": 0,
    "start_time": "2022-09-27T11:42:49.671Z"
   },
   {
    "duration": 0,
    "start_time": "2022-09-27T11:42:49.673Z"
   },
   {
    "duration": 0,
    "start_time": "2022-09-27T11:42:49.674Z"
   },
   {
    "duration": 0,
    "start_time": "2022-09-27T11:42:49.676Z"
   },
   {
    "duration": 0,
    "start_time": "2022-09-27T11:42:49.677Z"
   },
   {
    "duration": 0,
    "start_time": "2022-09-27T11:42:49.700Z"
   },
   {
    "duration": 1,
    "start_time": "2022-09-27T11:42:49.701Z"
   },
   {
    "duration": 0,
    "start_time": "2022-09-27T11:42:49.703Z"
   },
   {
    "duration": 0,
    "start_time": "2022-09-27T11:42:49.704Z"
   },
   {
    "duration": 0,
    "start_time": "2022-09-27T11:42:49.706Z"
   },
   {
    "duration": 0,
    "start_time": "2022-09-27T11:42:49.707Z"
   },
   {
    "duration": 0,
    "start_time": "2022-09-27T11:42:49.708Z"
   },
   {
    "duration": 0,
    "start_time": "2022-09-27T11:42:49.710Z"
   },
   {
    "duration": 0,
    "start_time": "2022-09-27T11:42:49.711Z"
   },
   {
    "duration": 0,
    "start_time": "2022-09-27T11:42:49.712Z"
   },
   {
    "duration": 0,
    "start_time": "2022-09-27T11:42:49.713Z"
   },
   {
    "duration": 0,
    "start_time": "2022-09-27T11:42:49.714Z"
   },
   {
    "duration": 0,
    "start_time": "2022-09-27T11:42:49.715Z"
   },
   {
    "duration": 0,
    "start_time": "2022-09-27T11:42:49.717Z"
   },
   {
    "duration": 0,
    "start_time": "2022-09-27T11:42:49.718Z"
   },
   {
    "duration": 0,
    "start_time": "2022-09-27T11:42:49.719Z"
   },
   {
    "duration": 0,
    "start_time": "2022-09-27T11:42:49.720Z"
   },
   {
    "duration": 0,
    "start_time": "2022-09-27T11:42:49.721Z"
   },
   {
    "duration": 0,
    "start_time": "2022-09-27T11:42:49.722Z"
   },
   {
    "duration": 0,
    "start_time": "2022-09-27T11:42:49.723Z"
   },
   {
    "duration": 0,
    "start_time": "2022-09-27T11:42:49.724Z"
   },
   {
    "duration": 1144,
    "start_time": "2022-09-27T11:44:31.839Z"
   },
   {
    "duration": 30,
    "start_time": "2022-09-27T11:44:32.984Z"
   },
   {
    "duration": 1940,
    "start_time": "2022-09-27T11:44:33.015Z"
   },
   {
    "duration": 3,
    "start_time": "2022-09-27T11:44:34.957Z"
   },
   {
    "duration": 12,
    "start_time": "2022-09-27T11:44:34.961Z"
   },
   {
    "duration": 3,
    "start_time": "2022-09-27T11:44:34.975Z"
   },
   {
    "duration": 11,
    "start_time": "2022-09-27T11:44:34.979Z"
   },
   {
    "duration": 10,
    "start_time": "2022-09-27T11:44:34.991Z"
   },
   {
    "duration": 36,
    "start_time": "2022-09-27T11:44:35.003Z"
   },
   {
    "duration": 6,
    "start_time": "2022-09-27T11:44:35.042Z"
   },
   {
    "duration": 7,
    "start_time": "2022-09-27T11:44:35.049Z"
   },
   {
    "duration": 12,
    "start_time": "2022-09-27T11:44:35.057Z"
   },
   {
    "duration": 4,
    "start_time": "2022-09-27T11:44:35.071Z"
   },
   {
    "duration": 265,
    "start_time": "2022-09-27T11:44:35.077Z"
   },
   {
    "duration": 5,
    "start_time": "2022-09-27T11:44:35.344Z"
   },
   {
    "duration": 8,
    "start_time": "2022-09-27T11:44:35.351Z"
   },
   {
    "duration": 12,
    "start_time": "2022-09-27T11:44:35.361Z"
   },
   {
    "duration": 40,
    "start_time": "2022-09-27T11:44:35.375Z"
   },
   {
    "duration": 12,
    "start_time": "2022-09-27T11:44:35.417Z"
   },
   {
    "duration": 5,
    "start_time": "2022-09-27T11:44:35.431Z"
   },
   {
    "duration": 24,
    "start_time": "2022-09-27T11:44:35.437Z"
   },
   {
    "duration": 136,
    "start_time": "2022-09-27T11:44:35.462Z"
   },
   {
    "duration": 8,
    "start_time": "2022-09-27T11:44:35.601Z"
   },
   {
    "duration": 28,
    "start_time": "2022-09-27T11:44:35.610Z"
   },
   {
    "duration": 231,
    "start_time": "2022-09-27T11:44:35.639Z"
   },
   {
    "duration": 239,
    "start_time": "2022-09-27T11:44:35.872Z"
   },
   {
    "duration": 167,
    "start_time": "2022-09-27T11:44:36.112Z"
   },
   {
    "duration": 242,
    "start_time": "2022-09-27T11:44:36.282Z"
   },
   {
    "duration": 129,
    "start_time": "2022-09-27T11:44:36.527Z"
   },
   {
    "duration": 219,
    "start_time": "2022-09-27T11:44:36.657Z"
   },
   {
    "duration": 173,
    "start_time": "2022-09-27T11:44:36.878Z"
   },
   {
    "duration": 170,
    "start_time": "2022-09-27T11:44:37.053Z"
   },
   {
    "duration": 107,
    "start_time": "2022-09-27T11:44:37.224Z"
   },
   {
    "duration": 131,
    "start_time": "2022-09-27T11:44:37.333Z"
   },
   {
    "duration": 150,
    "start_time": "2022-09-27T11:44:37.466Z"
   },
   {
    "duration": 130,
    "start_time": "2022-09-27T11:44:37.618Z"
   },
   {
    "duration": 49,
    "start_time": "2022-09-27T11:44:37.749Z"
   },
   {
    "duration": 1,
    "start_time": "2022-09-27T11:44:37.799Z"
   },
   {
    "duration": 157,
    "start_time": "2022-09-27T11:45:37.443Z"
   },
   {
    "duration": 3,
    "start_time": "2022-09-27T11:46:54.525Z"
   },
   {
    "duration": 12,
    "start_time": "2022-09-27T11:46:59.629Z"
   },
   {
    "duration": 11,
    "start_time": "2022-09-27T11:47:32.051Z"
   },
   {
    "duration": 1193,
    "start_time": "2022-09-27T11:47:42.494Z"
   },
   {
    "duration": 23,
    "start_time": "2022-09-27T11:47:43.689Z"
   },
   {
    "duration": 1869,
    "start_time": "2022-09-27T11:47:43.714Z"
   },
   {
    "duration": 4,
    "start_time": "2022-09-27T11:47:45.585Z"
   },
   {
    "duration": 28,
    "start_time": "2022-09-27T11:47:45.590Z"
   },
   {
    "duration": 4,
    "start_time": "2022-09-27T11:47:45.619Z"
   },
   {
    "duration": 12,
    "start_time": "2022-09-27T11:47:45.624Z"
   },
   {
    "duration": 10,
    "start_time": "2022-09-27T11:47:45.637Z"
   },
   {
    "duration": 9,
    "start_time": "2022-09-27T11:47:45.648Z"
   },
   {
    "duration": 13,
    "start_time": "2022-09-27T11:47:45.659Z"
   },
   {
    "duration": 10,
    "start_time": "2022-09-27T11:47:45.673Z"
   },
   {
    "duration": 6,
    "start_time": "2022-09-27T11:47:45.685Z"
   },
   {
    "duration": 29,
    "start_time": "2022-09-27T11:47:45.692Z"
   },
   {
    "duration": 250,
    "start_time": "2022-09-27T11:47:45.722Z"
   },
   {
    "duration": 5,
    "start_time": "2022-09-27T11:47:45.974Z"
   },
   {
    "duration": 11,
    "start_time": "2022-09-27T11:47:45.980Z"
   },
   {
    "duration": 15,
    "start_time": "2022-09-27T11:47:45.992Z"
   },
   {
    "duration": 29,
    "start_time": "2022-09-27T11:47:46.008Z"
   },
   {
    "duration": 12,
    "start_time": "2022-09-27T11:47:46.038Z"
   },
   {
    "duration": 5,
    "start_time": "2022-09-27T11:47:46.052Z"
   },
   {
    "duration": 13,
    "start_time": "2022-09-27T11:47:46.058Z"
   },
   {
    "duration": 351,
    "start_time": "2022-09-27T11:47:46.072Z"
   },
   {
    "duration": 4,
    "start_time": "2022-09-27T11:47:46.424Z"
   },
   {
    "duration": 19,
    "start_time": "2022-09-27T11:47:46.429Z"
   },
   {
    "duration": 264,
    "start_time": "2022-09-27T11:47:46.449Z"
   },
   {
    "duration": 231,
    "start_time": "2022-09-27T11:47:46.715Z"
   },
   {
    "duration": 271,
    "start_time": "2022-09-27T11:47:46.948Z"
   },
   {
    "duration": 247,
    "start_time": "2022-09-27T11:47:47.223Z"
   },
   {
    "duration": 145,
    "start_time": "2022-09-27T11:47:47.471Z"
   },
   {
    "duration": 131,
    "start_time": "2022-09-27T11:47:47.618Z"
   },
   {
    "duration": 165,
    "start_time": "2022-09-27T11:47:47.751Z"
   },
   {
    "duration": 149,
    "start_time": "2022-09-27T11:47:47.917Z"
   },
   {
    "duration": 114,
    "start_time": "2022-09-27T11:47:48.068Z"
   },
   {
    "duration": 134,
    "start_time": "2022-09-27T11:47:48.183Z"
   },
   {
    "duration": 133,
    "start_time": "2022-09-27T11:47:48.318Z"
   },
   {
    "duration": 134,
    "start_time": "2022-09-27T11:47:48.452Z"
   },
   {
    "duration": 99,
    "start_time": "2022-09-27T11:47:48.588Z"
   },
   {
    "duration": 0,
    "start_time": "2022-09-27T11:47:48.688Z"
   },
   {
    "duration": 305,
    "start_time": "2022-09-27T12:09:51.882Z"
   },
   {
    "duration": 180,
    "start_time": "2022-09-27T12:10:02.562Z"
   },
   {
    "duration": 154,
    "start_time": "2022-09-27T12:10:14.924Z"
   },
   {
    "duration": 282,
    "start_time": "2022-09-27T12:10:25.357Z"
   },
   {
    "duration": 323,
    "start_time": "2022-09-27T12:10:38.922Z"
   },
   {
    "duration": 114,
    "start_time": "2022-09-27T12:11:17.242Z"
   },
   {
    "duration": 346,
    "start_time": "2022-09-27T12:12:53.112Z"
   },
   {
    "duration": 141,
    "start_time": "2022-09-27T12:20:33.603Z"
   },
   {
    "duration": 1155,
    "start_time": "2022-09-27T12:21:03.163Z"
   },
   {
    "duration": 14,
    "start_time": "2022-09-27T12:21:04.320Z"
   },
   {
    "duration": 1820,
    "start_time": "2022-09-27T12:21:04.335Z"
   },
   {
    "duration": 4,
    "start_time": "2022-09-27T12:21:06.157Z"
   },
   {
    "duration": 8,
    "start_time": "2022-09-27T12:21:06.162Z"
   },
   {
    "duration": 8,
    "start_time": "2022-09-27T12:21:06.172Z"
   },
   {
    "duration": 10,
    "start_time": "2022-09-27T12:21:06.181Z"
   },
   {
    "duration": 10,
    "start_time": "2022-09-27T12:21:06.192Z"
   },
   {
    "duration": 8,
    "start_time": "2022-09-27T12:21:06.203Z"
   },
   {
    "duration": 5,
    "start_time": "2022-09-27T12:21:06.214Z"
   },
   {
    "duration": 6,
    "start_time": "2022-09-27T12:21:06.221Z"
   },
   {
    "duration": 9,
    "start_time": "2022-09-27T12:21:06.228Z"
   },
   {
    "duration": 6,
    "start_time": "2022-09-27T12:21:06.239Z"
   },
   {
    "duration": 263,
    "start_time": "2022-09-27T12:21:06.246Z"
   },
   {
    "duration": 6,
    "start_time": "2022-09-27T12:21:06.510Z"
   },
   {
    "duration": 26,
    "start_time": "2022-09-27T12:21:06.518Z"
   },
   {
    "duration": 5,
    "start_time": "2022-09-27T12:21:06.545Z"
   },
   {
    "duration": 20,
    "start_time": "2022-09-27T12:21:06.552Z"
   },
   {
    "duration": 12,
    "start_time": "2022-09-27T12:21:06.574Z"
   },
   {
    "duration": 15,
    "start_time": "2022-09-27T12:21:06.587Z"
   },
   {
    "duration": 13,
    "start_time": "2022-09-27T12:21:06.603Z"
   },
   {
    "duration": 318,
    "start_time": "2022-09-27T12:21:06.618Z"
   },
   {
    "duration": 3,
    "start_time": "2022-09-27T12:21:06.938Z"
   },
   {
    "duration": 18,
    "start_time": "2022-09-27T12:21:06.943Z"
   },
   {
    "duration": 251,
    "start_time": "2022-09-27T12:21:06.963Z"
   },
   {
    "duration": 205,
    "start_time": "2022-09-27T12:21:07.215Z"
   },
   {
    "duration": 238,
    "start_time": "2022-09-27T12:21:07.422Z"
   },
   {
    "duration": 137,
    "start_time": "2022-09-27T12:21:07.663Z"
   },
   {
    "duration": 130,
    "start_time": "2022-09-27T12:21:07.802Z"
   },
   {
    "duration": 140,
    "start_time": "2022-09-27T12:21:07.934Z"
   },
   {
    "duration": 154,
    "start_time": "2022-09-27T12:21:08.076Z"
   },
   {
    "duration": 151,
    "start_time": "2022-09-27T12:21:08.232Z"
   },
   {
    "duration": 119,
    "start_time": "2022-09-27T12:21:08.385Z"
   },
   {
    "duration": 125,
    "start_time": "2022-09-27T12:21:08.505Z"
   },
   {
    "duration": 129,
    "start_time": "2022-09-27T12:21:08.632Z"
   },
   {
    "duration": 125,
    "start_time": "2022-09-27T12:21:08.762Z"
   },
   {
    "duration": 55,
    "start_time": "2022-09-27T12:21:08.888Z"
   },
   {
    "duration": 0,
    "start_time": "2022-09-27T12:21:08.944Z"
   },
   {
    "duration": 155,
    "start_time": "2022-09-27T12:21:56.531Z"
   },
   {
    "duration": 140,
    "start_time": "2022-09-27T12:22:32.356Z"
   },
   {
    "duration": 258,
    "start_time": "2022-09-27T12:24:47.954Z"
   },
   {
    "duration": 123,
    "start_time": "2022-09-27T12:26:35.816Z"
   },
   {
    "duration": 126,
    "start_time": "2022-09-27T12:26:54.052Z"
   },
   {
    "duration": 8,
    "start_time": "2022-09-27T12:48:53.831Z"
   },
   {
    "duration": 8,
    "start_time": "2022-09-27T12:49:10.399Z"
   },
   {
    "duration": 9,
    "start_time": "2022-09-27T12:49:26.656Z"
   },
   {
    "duration": 11,
    "start_time": "2022-09-27T12:49:35.832Z"
   },
   {
    "duration": 94,
    "start_time": "2022-09-27T12:50:23.696Z"
   },
   {
    "duration": 16,
    "start_time": "2022-09-27T12:50:45.724Z"
   },
   {
    "duration": 18,
    "start_time": "2022-09-27T12:57:04.551Z"
   },
   {
    "duration": 8,
    "start_time": "2022-09-27T13:16:52.096Z"
   },
   {
    "duration": 10,
    "start_time": "2022-09-27T13:18:55.295Z"
   },
   {
    "duration": 1302,
    "start_time": "2022-09-27T13:21:08.007Z"
   },
   {
    "duration": 15,
    "start_time": "2022-09-27T13:21:09.311Z"
   },
   {
    "duration": 1910,
    "start_time": "2022-09-27T13:21:09.328Z"
   },
   {
    "duration": 5,
    "start_time": "2022-09-27T13:21:11.241Z"
   },
   {
    "duration": 40,
    "start_time": "2022-09-27T13:21:11.247Z"
   },
   {
    "duration": 8,
    "start_time": "2022-09-27T13:21:11.290Z"
   },
   {
    "duration": 26,
    "start_time": "2022-09-27T13:21:11.300Z"
   },
   {
    "duration": 15,
    "start_time": "2022-09-27T13:21:11.329Z"
   },
   {
    "duration": 33,
    "start_time": "2022-09-27T13:21:11.346Z"
   },
   {
    "duration": 15,
    "start_time": "2022-09-27T13:21:11.382Z"
   },
   {
    "duration": 15,
    "start_time": "2022-09-27T13:21:11.399Z"
   },
   {
    "duration": 22,
    "start_time": "2022-09-27T13:21:11.416Z"
   },
   {
    "duration": 12,
    "start_time": "2022-09-27T13:21:11.441Z"
   },
   {
    "duration": 416,
    "start_time": "2022-09-27T13:21:11.455Z"
   },
   {
    "duration": 6,
    "start_time": "2022-09-27T13:21:11.873Z"
   },
   {
    "duration": 22,
    "start_time": "2022-09-27T13:21:11.881Z"
   },
   {
    "duration": 110,
    "start_time": "2022-09-27T13:21:11.905Z"
   },
   {
    "duration": 0,
    "start_time": "2022-09-27T13:21:12.018Z"
   },
   {
    "duration": 0,
    "start_time": "2022-09-27T13:21:12.019Z"
   },
   {
    "duration": 0,
    "start_time": "2022-09-27T13:21:12.020Z"
   },
   {
    "duration": 0,
    "start_time": "2022-09-27T13:21:12.021Z"
   },
   {
    "duration": 0,
    "start_time": "2022-09-27T13:21:12.022Z"
   },
   {
    "duration": 0,
    "start_time": "2022-09-27T13:21:12.023Z"
   },
   {
    "duration": 0,
    "start_time": "2022-09-27T13:21:12.024Z"
   },
   {
    "duration": 0,
    "start_time": "2022-09-27T13:21:12.026Z"
   },
   {
    "duration": 0,
    "start_time": "2022-09-27T13:21:12.026Z"
   },
   {
    "duration": 0,
    "start_time": "2022-09-27T13:21:12.027Z"
   },
   {
    "duration": 0,
    "start_time": "2022-09-27T13:21:12.028Z"
   },
   {
    "duration": 0,
    "start_time": "2022-09-27T13:21:12.030Z"
   },
   {
    "duration": 0,
    "start_time": "2022-09-27T13:21:12.031Z"
   },
   {
    "duration": 0,
    "start_time": "2022-09-27T13:21:12.033Z"
   },
   {
    "duration": 0,
    "start_time": "2022-09-27T13:21:12.034Z"
   },
   {
    "duration": 0,
    "start_time": "2022-09-27T13:21:12.035Z"
   },
   {
    "duration": 0,
    "start_time": "2022-09-27T13:21:12.036Z"
   },
   {
    "duration": 0,
    "start_time": "2022-09-27T13:21:12.037Z"
   },
   {
    "duration": 0,
    "start_time": "2022-09-27T13:21:12.038Z"
   },
   {
    "duration": 0,
    "start_time": "2022-09-27T13:21:12.039Z"
   },
   {
    "duration": 0,
    "start_time": "2022-09-27T13:21:12.040Z"
   },
   {
    "duration": 138,
    "start_time": "2022-09-27T13:35:50.093Z"
   },
   {
    "duration": 13,
    "start_time": "2022-09-27T13:36:28.252Z"
   },
   {
    "duration": 1135,
    "start_time": "2022-09-27T13:36:41.454Z"
   },
   {
    "duration": 22,
    "start_time": "2022-09-27T13:36:42.591Z"
   },
   {
    "duration": 1858,
    "start_time": "2022-09-27T13:36:42.614Z"
   },
   {
    "duration": 5,
    "start_time": "2022-09-27T13:36:44.475Z"
   },
   {
    "duration": 16,
    "start_time": "2022-09-27T13:36:44.481Z"
   },
   {
    "duration": 10,
    "start_time": "2022-09-27T13:36:44.499Z"
   },
   {
    "duration": 17,
    "start_time": "2022-09-27T13:36:44.511Z"
   },
   {
    "duration": 16,
    "start_time": "2022-09-27T13:36:44.529Z"
   },
   {
    "duration": 11,
    "start_time": "2022-09-27T13:36:44.547Z"
   },
   {
    "duration": 30,
    "start_time": "2022-09-27T13:36:44.561Z"
   },
   {
    "duration": 12,
    "start_time": "2022-09-27T13:36:44.593Z"
   },
   {
    "duration": 19,
    "start_time": "2022-09-27T13:36:44.610Z"
   },
   {
    "duration": 10,
    "start_time": "2022-09-27T13:36:44.631Z"
   },
   {
    "duration": 278,
    "start_time": "2022-09-27T13:36:44.643Z"
   },
   {
    "duration": 6,
    "start_time": "2022-09-27T13:36:44.922Z"
   },
   {
    "duration": 22,
    "start_time": "2022-09-27T13:36:44.929Z"
   },
   {
    "duration": 32,
    "start_time": "2022-09-27T13:36:44.953Z"
   },
   {
    "duration": 29,
    "start_time": "2022-09-27T13:36:44.986Z"
   },
   {
    "duration": 33,
    "start_time": "2022-09-27T13:36:45.017Z"
   },
   {
    "duration": 26,
    "start_time": "2022-09-27T13:36:45.051Z"
   },
   {
    "duration": 31,
    "start_time": "2022-09-27T13:36:45.078Z"
   },
   {
    "duration": 352,
    "start_time": "2022-09-27T13:36:45.111Z"
   },
   {
    "duration": 4,
    "start_time": "2022-09-27T13:36:45.464Z"
   },
   {
    "duration": 23,
    "start_time": "2022-09-27T13:36:45.469Z"
   },
   {
    "duration": 280,
    "start_time": "2022-09-27T13:36:45.493Z"
   },
   {
    "duration": 245,
    "start_time": "2022-09-27T13:36:45.775Z"
   },
   {
    "duration": 234,
    "start_time": "2022-09-27T13:36:46.022Z"
   },
   {
    "duration": 131,
    "start_time": "2022-09-27T13:36:46.260Z"
   },
   {
    "duration": 133,
    "start_time": "2022-09-27T13:36:46.393Z"
   },
   {
    "duration": 127,
    "start_time": "2022-09-27T13:36:46.527Z"
   },
   {
    "duration": 174,
    "start_time": "2022-09-27T13:36:46.656Z"
   },
   {
    "duration": 185,
    "start_time": "2022-09-27T13:36:46.832Z"
   },
   {
    "duration": 116,
    "start_time": "2022-09-27T13:36:47.019Z"
   },
   {
    "duration": 138,
    "start_time": "2022-09-27T13:36:47.137Z"
   },
   {
    "duration": 150,
    "start_time": "2022-09-27T13:36:47.278Z"
   },
   {
    "duration": 150,
    "start_time": "2022-09-27T13:36:47.430Z"
   },
   {
    "duration": 90,
    "start_time": "2022-09-27T13:36:47.581Z"
   },
   {
    "duration": 0,
    "start_time": "2022-09-27T13:36:47.672Z"
   },
   {
    "duration": 118,
    "start_time": "2022-09-27T13:41:42.166Z"
   },
   {
    "duration": 121,
    "start_time": "2022-09-27T13:41:47.700Z"
   },
   {
    "duration": 121,
    "start_time": "2022-09-27T13:41:58.530Z"
   },
   {
    "duration": 216,
    "start_time": "2022-09-27T13:42:03.589Z"
   },
   {
    "duration": 22,
    "start_time": "2022-09-27T13:43:11.668Z"
   },
   {
    "duration": 95,
    "start_time": "2022-09-27T13:58:52.209Z"
   },
   {
    "duration": 10,
    "start_time": "2022-09-27T13:59:19.015Z"
   },
   {
    "duration": 7,
    "start_time": "2022-09-27T13:59:25.191Z"
   },
   {
    "duration": 19,
    "start_time": "2022-09-27T13:59:45.469Z"
   },
   {
    "duration": 1168,
    "start_time": "2022-09-27T14:00:14.025Z"
   },
   {
    "duration": 13,
    "start_time": "2022-09-27T14:00:15.195Z"
   },
   {
    "duration": 1758,
    "start_time": "2022-09-27T14:00:15.209Z"
   },
   {
    "duration": 4,
    "start_time": "2022-09-27T14:00:16.968Z"
   },
   {
    "duration": 16,
    "start_time": "2022-09-27T14:00:16.973Z"
   },
   {
    "duration": 4,
    "start_time": "2022-09-27T14:00:16.991Z"
   },
   {
    "duration": 13,
    "start_time": "2022-09-27T14:00:16.996Z"
   },
   {
    "duration": 12,
    "start_time": "2022-09-27T14:00:17.011Z"
   },
   {
    "duration": 15,
    "start_time": "2022-09-27T14:00:17.024Z"
   },
   {
    "duration": 8,
    "start_time": "2022-09-27T14:00:17.041Z"
   },
   {
    "duration": 11,
    "start_time": "2022-09-27T14:00:17.051Z"
   },
   {
    "duration": 36,
    "start_time": "2022-09-27T14:00:17.064Z"
   },
   {
    "duration": 4,
    "start_time": "2022-09-27T14:00:17.102Z"
   },
   {
    "duration": 243,
    "start_time": "2022-09-27T14:00:17.109Z"
   },
   {
    "duration": 5,
    "start_time": "2022-09-27T14:00:17.353Z"
   },
   {
    "duration": 12,
    "start_time": "2022-09-27T14:00:17.359Z"
   },
   {
    "duration": 24,
    "start_time": "2022-09-27T14:00:17.373Z"
   },
   {
    "duration": 16,
    "start_time": "2022-09-27T14:00:17.399Z"
   },
   {
    "duration": 39,
    "start_time": "2022-09-27T14:00:17.416Z"
   },
   {
    "duration": 147,
    "start_time": "2022-09-27T14:00:17.457Z"
   },
   {
    "duration": 0,
    "start_time": "2022-09-27T14:00:17.605Z"
   },
   {
    "duration": 0,
    "start_time": "2022-09-27T14:00:17.607Z"
   },
   {
    "duration": 0,
    "start_time": "2022-09-27T14:00:17.607Z"
   },
   {
    "duration": 0,
    "start_time": "2022-09-27T14:00:17.608Z"
   },
   {
    "duration": 0,
    "start_time": "2022-09-27T14:00:17.609Z"
   },
   {
    "duration": 0,
    "start_time": "2022-09-27T14:00:17.610Z"
   },
   {
    "duration": 0,
    "start_time": "2022-09-27T14:00:17.611Z"
   },
   {
    "duration": 0,
    "start_time": "2022-09-27T14:00:17.612Z"
   },
   {
    "duration": 0,
    "start_time": "2022-09-27T14:00:17.612Z"
   },
   {
    "duration": 0,
    "start_time": "2022-09-27T14:00:17.613Z"
   },
   {
    "duration": 0,
    "start_time": "2022-09-27T14:00:17.614Z"
   },
   {
    "duration": 0,
    "start_time": "2022-09-27T14:00:17.615Z"
   },
   {
    "duration": 0,
    "start_time": "2022-09-27T14:00:17.616Z"
   },
   {
    "duration": 0,
    "start_time": "2022-09-27T14:00:17.617Z"
   },
   {
    "duration": 0,
    "start_time": "2022-09-27T14:00:17.618Z"
   },
   {
    "duration": 0,
    "start_time": "2022-09-27T14:00:17.620Z"
   },
   {
    "duration": 0,
    "start_time": "2022-09-27T14:00:17.621Z"
   },
   {
    "duration": 0,
    "start_time": "2022-09-27T14:00:17.622Z"
   },
   {
    "duration": 1188,
    "start_time": "2022-09-27T14:00:28.415Z"
   },
   {
    "duration": 13,
    "start_time": "2022-09-27T14:00:29.605Z"
   },
   {
    "duration": 1839,
    "start_time": "2022-09-27T14:00:29.620Z"
   },
   {
    "duration": 3,
    "start_time": "2022-09-27T14:00:31.462Z"
   },
   {
    "duration": 12,
    "start_time": "2022-09-27T14:00:31.467Z"
   },
   {
    "duration": 9,
    "start_time": "2022-09-27T14:00:31.481Z"
   },
   {
    "duration": 13,
    "start_time": "2022-09-27T14:00:31.491Z"
   },
   {
    "duration": 10,
    "start_time": "2022-09-27T14:00:31.505Z"
   },
   {
    "duration": 9,
    "start_time": "2022-09-27T14:00:31.516Z"
   },
   {
    "duration": 5,
    "start_time": "2022-09-27T14:00:31.527Z"
   },
   {
    "duration": 8,
    "start_time": "2022-09-27T14:00:31.533Z"
   },
   {
    "duration": 6,
    "start_time": "2022-09-27T14:00:31.542Z"
   },
   {
    "duration": 5,
    "start_time": "2022-09-27T14:00:31.549Z"
   },
   {
    "duration": 280,
    "start_time": "2022-09-27T14:00:31.555Z"
   },
   {
    "duration": 5,
    "start_time": "2022-09-27T14:00:31.836Z"
   },
   {
    "duration": 36,
    "start_time": "2022-09-27T14:00:31.842Z"
   },
   {
    "duration": 28,
    "start_time": "2022-09-27T14:00:31.880Z"
   },
   {
    "duration": 18,
    "start_time": "2022-09-27T14:00:31.909Z"
   },
   {
    "duration": 10,
    "start_time": "2022-09-27T14:00:31.928Z"
   },
   {
    "duration": 110,
    "start_time": "2022-09-27T14:00:31.939Z"
   },
   {
    "duration": 0,
    "start_time": "2022-09-27T14:00:32.051Z"
   },
   {
    "duration": 0,
    "start_time": "2022-09-27T14:00:32.052Z"
   },
   {
    "duration": 0,
    "start_time": "2022-09-27T14:00:32.053Z"
   },
   {
    "duration": 0,
    "start_time": "2022-09-27T14:00:32.054Z"
   },
   {
    "duration": 0,
    "start_time": "2022-09-27T14:00:32.055Z"
   },
   {
    "duration": 0,
    "start_time": "2022-09-27T14:00:32.056Z"
   },
   {
    "duration": 0,
    "start_time": "2022-09-27T14:00:32.056Z"
   },
   {
    "duration": 0,
    "start_time": "2022-09-27T14:00:32.057Z"
   },
   {
    "duration": 0,
    "start_time": "2022-09-27T14:00:32.058Z"
   },
   {
    "duration": 0,
    "start_time": "2022-09-27T14:00:32.059Z"
   },
   {
    "duration": 0,
    "start_time": "2022-09-27T14:00:32.059Z"
   },
   {
    "duration": 0,
    "start_time": "2022-09-27T14:00:32.060Z"
   },
   {
    "duration": 0,
    "start_time": "2022-09-27T14:00:32.061Z"
   },
   {
    "duration": 0,
    "start_time": "2022-09-27T14:00:32.062Z"
   },
   {
    "duration": 0,
    "start_time": "2022-09-27T14:00:32.063Z"
   },
   {
    "duration": 0,
    "start_time": "2022-09-27T14:00:32.064Z"
   },
   {
    "duration": 0,
    "start_time": "2022-09-27T14:00:32.065Z"
   },
   {
    "duration": 0,
    "start_time": "2022-09-27T14:00:32.066Z"
   },
   {
    "duration": 10,
    "start_time": "2022-09-27T14:01:20.070Z"
   },
   {
    "duration": 7,
    "start_time": "2022-09-27T14:01:37.456Z"
   },
   {
    "duration": 17,
    "start_time": "2022-09-27T14:01:42.834Z"
   },
   {
    "duration": 14,
    "start_time": "2022-09-27T14:01:49.098Z"
   },
   {
    "duration": 1218,
    "start_time": "2022-09-27T14:01:54.972Z"
   },
   {
    "duration": 16,
    "start_time": "2022-09-27T14:01:56.192Z"
   },
   {
    "duration": 1777,
    "start_time": "2022-09-27T14:01:56.210Z"
   },
   {
    "duration": 5,
    "start_time": "2022-09-27T14:01:57.989Z"
   },
   {
    "duration": 9,
    "start_time": "2022-09-27T14:01:57.997Z"
   },
   {
    "duration": 6,
    "start_time": "2022-09-27T14:01:58.007Z"
   },
   {
    "duration": 10,
    "start_time": "2022-09-27T14:01:58.015Z"
   },
   {
    "duration": 12,
    "start_time": "2022-09-27T14:01:58.027Z"
   },
   {
    "duration": 8,
    "start_time": "2022-09-27T14:01:58.041Z"
   },
   {
    "duration": 11,
    "start_time": "2022-09-27T14:01:58.050Z"
   },
   {
    "duration": 8,
    "start_time": "2022-09-27T14:01:58.062Z"
   },
   {
    "duration": 29,
    "start_time": "2022-09-27T14:01:58.071Z"
   },
   {
    "duration": 6,
    "start_time": "2022-09-27T14:01:58.101Z"
   },
   {
    "duration": 245,
    "start_time": "2022-09-27T14:01:58.109Z"
   },
   {
    "duration": 5,
    "start_time": "2022-09-27T14:01:58.356Z"
   },
   {
    "duration": 11,
    "start_time": "2022-09-27T14:01:58.362Z"
   },
   {
    "duration": 15,
    "start_time": "2022-09-27T14:01:58.374Z"
   },
   {
    "duration": 23,
    "start_time": "2022-09-27T14:01:58.390Z"
   },
   {
    "duration": 29,
    "start_time": "2022-09-27T14:01:58.414Z"
   },
   {
    "duration": 3,
    "start_time": "2022-09-27T14:01:58.445Z"
   },
   {
    "duration": 14,
    "start_time": "2022-09-27T14:01:58.450Z"
   },
   {
    "duration": 307,
    "start_time": "2022-09-27T14:01:58.465Z"
   },
   {
    "duration": 3,
    "start_time": "2022-09-27T14:01:58.774Z"
   },
   {
    "duration": 23,
    "start_time": "2022-09-27T14:01:58.778Z"
   },
   {
    "duration": 224,
    "start_time": "2022-09-27T14:01:58.802Z"
   },
   {
    "duration": 207,
    "start_time": "2022-09-27T14:01:59.028Z"
   },
   {
    "duration": 224,
    "start_time": "2022-09-27T14:01:59.236Z"
   },
   {
    "duration": 114,
    "start_time": "2022-09-27T14:01:59.462Z"
   },
   {
    "duration": 120,
    "start_time": "2022-09-27T14:01:59.577Z"
   },
   {
    "duration": 133,
    "start_time": "2022-09-27T14:01:59.700Z"
   },
   {
    "duration": 155,
    "start_time": "2022-09-27T14:01:59.835Z"
   },
   {
    "duration": 151,
    "start_time": "2022-09-27T14:01:59.991Z"
   },
   {
    "duration": 110,
    "start_time": "2022-09-27T14:02:00.144Z"
   },
   {
    "duration": 127,
    "start_time": "2022-09-27T14:02:00.256Z"
   },
   {
    "duration": 144,
    "start_time": "2022-09-27T14:02:00.385Z"
   },
   {
    "duration": 133,
    "start_time": "2022-09-27T14:02:00.531Z"
   },
   {
    "duration": 50,
    "start_time": "2022-09-27T14:02:00.666Z"
   },
   {
    "duration": 0,
    "start_time": "2022-09-27T14:02:00.717Z"
   },
   {
    "duration": 25,
    "start_time": "2022-09-27T14:02:52.341Z"
   },
   {
    "duration": 78,
    "start_time": "2022-09-27T14:03:46.935Z"
   },
   {
    "duration": 140,
    "start_time": "2022-09-27T14:03:58.380Z"
   },
   {
    "duration": 27,
    "start_time": "2022-09-27T14:04:51.834Z"
   },
   {
    "duration": 28,
    "start_time": "2022-09-27T14:05:08.099Z"
   },
   {
    "duration": 30,
    "start_time": "2022-09-27T14:05:20.467Z"
   },
   {
    "duration": 18,
    "start_time": "2022-09-27T14:06:12.114Z"
   },
   {
    "duration": 20,
    "start_time": "2022-09-27T14:06:15.054Z"
   },
   {
    "duration": 1189,
    "start_time": "2022-09-27T14:06:24.783Z"
   },
   {
    "duration": 12,
    "start_time": "2022-09-27T14:06:25.974Z"
   },
   {
    "duration": 1723,
    "start_time": "2022-09-27T14:06:25.988Z"
   },
   {
    "duration": 3,
    "start_time": "2022-09-27T14:06:27.713Z"
   },
   {
    "duration": 13,
    "start_time": "2022-09-27T14:06:27.717Z"
   },
   {
    "duration": 6,
    "start_time": "2022-09-27T14:06:27.731Z"
   },
   {
    "duration": 13,
    "start_time": "2022-09-27T14:06:27.738Z"
   },
   {
    "duration": 12,
    "start_time": "2022-09-27T14:06:27.752Z"
   },
   {
    "duration": 10,
    "start_time": "2022-09-27T14:06:27.766Z"
   },
   {
    "duration": 6,
    "start_time": "2022-09-27T14:06:27.778Z"
   },
   {
    "duration": 16,
    "start_time": "2022-09-27T14:06:27.785Z"
   },
   {
    "duration": 13,
    "start_time": "2022-09-27T14:06:27.802Z"
   },
   {
    "duration": 8,
    "start_time": "2022-09-27T14:06:27.817Z"
   },
   {
    "duration": 238,
    "start_time": "2022-09-27T14:06:27.827Z"
   },
   {
    "duration": 4,
    "start_time": "2022-09-27T14:06:28.067Z"
   },
   {
    "duration": 9,
    "start_time": "2022-09-27T14:06:28.072Z"
   },
   {
    "duration": 31,
    "start_time": "2022-09-27T14:06:28.082Z"
   },
   {
    "duration": 10,
    "start_time": "2022-09-27T14:06:28.114Z"
   },
   {
    "duration": 4,
    "start_time": "2022-09-27T14:06:28.126Z"
   },
   {
    "duration": 12,
    "start_time": "2022-09-27T14:06:28.131Z"
   },
   {
    "duration": 314,
    "start_time": "2022-09-27T14:06:28.144Z"
   },
   {
    "duration": 3,
    "start_time": "2022-09-27T14:06:28.460Z"
   },
   {
    "duration": 16,
    "start_time": "2022-09-27T14:06:28.464Z"
   },
   {
    "duration": 238,
    "start_time": "2022-09-27T14:06:28.481Z"
   },
   {
    "duration": 210,
    "start_time": "2022-09-27T14:06:28.721Z"
   },
   {
    "duration": 226,
    "start_time": "2022-09-27T14:06:28.932Z"
   },
   {
    "duration": 112,
    "start_time": "2022-09-27T14:06:29.159Z"
   },
   {
    "duration": 120,
    "start_time": "2022-09-27T14:06:29.273Z"
   },
   {
    "duration": 122,
    "start_time": "2022-09-27T14:06:29.394Z"
   },
   {
    "duration": 144,
    "start_time": "2022-09-27T14:06:29.517Z"
   },
   {
    "duration": 141,
    "start_time": "2022-09-27T14:06:29.662Z"
   },
   {
    "duration": 102,
    "start_time": "2022-09-27T14:06:29.804Z"
   },
   {
    "duration": 125,
    "start_time": "2022-09-27T14:06:29.908Z"
   },
   {
    "duration": 131,
    "start_time": "2022-09-27T14:06:30.035Z"
   },
   {
    "duration": 138,
    "start_time": "2022-09-27T14:06:30.168Z"
   },
   {
    "duration": 135,
    "start_time": "2022-09-27T14:06:30.308Z"
   },
   {
    "duration": 0,
    "start_time": "2022-09-27T14:06:30.445Z"
   },
   {
    "duration": 20,
    "start_time": "2022-09-27T14:10:30.434Z"
   },
   {
    "duration": 24,
    "start_time": "2022-09-27T14:17:45.251Z"
   },
   {
    "duration": 1208,
    "start_time": "2022-09-27T14:17:59.067Z"
   },
   {
    "duration": 27,
    "start_time": "2022-09-27T14:18:00.277Z"
   },
   {
    "duration": 1976,
    "start_time": "2022-09-27T14:18:00.307Z"
   },
   {
    "duration": 4,
    "start_time": "2022-09-27T14:18:02.286Z"
   },
   {
    "duration": 13,
    "start_time": "2022-09-27T14:18:02.292Z"
   },
   {
    "duration": 29,
    "start_time": "2022-09-27T14:18:02.306Z"
   },
   {
    "duration": 36,
    "start_time": "2022-09-27T14:18:02.337Z"
   },
   {
    "duration": 20,
    "start_time": "2022-09-27T14:18:02.375Z"
   },
   {
    "duration": 37,
    "start_time": "2022-09-27T14:18:02.397Z"
   },
   {
    "duration": 18,
    "start_time": "2022-09-27T14:18:02.437Z"
   },
   {
    "duration": 23,
    "start_time": "2022-09-27T14:18:02.457Z"
   },
   {
    "duration": 21,
    "start_time": "2022-09-27T14:18:02.481Z"
   },
   {
    "duration": 21,
    "start_time": "2022-09-27T14:18:02.504Z"
   },
   {
    "duration": 254,
    "start_time": "2022-09-27T14:18:02.526Z"
   },
   {
    "duration": 5,
    "start_time": "2022-09-27T14:18:02.782Z"
   },
   {
    "duration": 39,
    "start_time": "2022-09-27T14:18:02.788Z"
   },
   {
    "duration": 42,
    "start_time": "2022-09-27T14:18:02.828Z"
   },
   {
    "duration": 30,
    "start_time": "2022-09-27T14:18:02.872Z"
   },
   {
    "duration": 22,
    "start_time": "2022-09-27T14:18:02.904Z"
   },
   {
    "duration": 42,
    "start_time": "2022-09-27T14:18:02.928Z"
   },
   {
    "duration": 320,
    "start_time": "2022-09-27T14:18:02.972Z"
   },
   {
    "duration": 8,
    "start_time": "2022-09-27T14:18:03.294Z"
   },
   {
    "duration": 28,
    "start_time": "2022-09-27T14:18:03.303Z"
   },
   {
    "duration": 284,
    "start_time": "2022-09-27T14:18:03.333Z"
   },
   {
    "duration": 230,
    "start_time": "2022-09-27T14:18:03.619Z"
   },
   {
    "duration": 275,
    "start_time": "2022-09-27T14:18:03.851Z"
   },
   {
    "duration": 157,
    "start_time": "2022-09-27T14:18:04.128Z"
   },
   {
    "duration": 147,
    "start_time": "2022-09-27T14:18:04.287Z"
   },
   {
    "duration": 191,
    "start_time": "2022-09-27T14:18:04.436Z"
   },
   {
    "duration": 181,
    "start_time": "2022-09-27T14:18:04.628Z"
   },
   {
    "duration": 149,
    "start_time": "2022-09-27T14:18:04.811Z"
   },
   {
    "duration": 119,
    "start_time": "2022-09-27T14:18:04.961Z"
   },
   {
    "duration": 138,
    "start_time": "2022-09-27T14:18:05.082Z"
   },
   {
    "duration": 136,
    "start_time": "2022-09-27T14:18:05.221Z"
   },
   {
    "duration": 172,
    "start_time": "2022-09-27T14:18:05.359Z"
   },
   {
    "duration": 73,
    "start_time": "2022-09-27T14:18:05.533Z"
   },
   {
    "duration": 0,
    "start_time": "2022-09-27T14:18:05.608Z"
   },
   {
    "duration": 22,
    "start_time": "2022-09-27T14:20:42.227Z"
   },
   {
    "duration": 1243,
    "start_time": "2022-09-27T14:21:12.461Z"
   },
   {
    "duration": 16,
    "start_time": "2022-09-27T14:21:13.706Z"
   },
   {
    "duration": 1944,
    "start_time": "2022-09-27T14:21:13.723Z"
   },
   {
    "duration": 4,
    "start_time": "2022-09-27T14:21:15.669Z"
   },
   {
    "duration": 10,
    "start_time": "2022-09-27T14:21:15.674Z"
   },
   {
    "duration": 4,
    "start_time": "2022-09-27T14:21:15.685Z"
   },
   {
    "duration": 10,
    "start_time": "2022-09-27T14:21:15.691Z"
   },
   {
    "duration": 11,
    "start_time": "2022-09-27T14:21:15.703Z"
   },
   {
    "duration": 9,
    "start_time": "2022-09-27T14:21:15.715Z"
   },
   {
    "duration": 6,
    "start_time": "2022-09-27T14:21:15.727Z"
   },
   {
    "duration": 8,
    "start_time": "2022-09-27T14:21:15.735Z"
   },
   {
    "duration": 5,
    "start_time": "2022-09-27T14:21:15.745Z"
   },
   {
    "duration": 9,
    "start_time": "2022-09-27T14:21:15.751Z"
   },
   {
    "duration": 271,
    "start_time": "2022-09-27T14:21:15.761Z"
   },
   {
    "duration": 5,
    "start_time": "2022-09-27T14:21:16.034Z"
   },
   {
    "duration": 12,
    "start_time": "2022-09-27T14:21:16.040Z"
   },
   {
    "duration": 22,
    "start_time": "2022-09-27T14:21:16.054Z"
   },
   {
    "duration": 26,
    "start_time": "2022-09-27T14:21:16.078Z"
   },
   {
    "duration": 4,
    "start_time": "2022-09-27T14:21:16.106Z"
   },
   {
    "duration": 14,
    "start_time": "2022-09-27T14:21:16.111Z"
   },
   {
    "duration": 332,
    "start_time": "2022-09-27T14:21:16.126Z"
   },
   {
    "duration": 4,
    "start_time": "2022-09-27T14:21:16.460Z"
   },
   {
    "duration": 40,
    "start_time": "2022-09-27T14:21:16.466Z"
   },
   {
    "duration": 265,
    "start_time": "2022-09-27T14:21:16.508Z"
   },
   {
    "duration": 234,
    "start_time": "2022-09-27T14:21:16.775Z"
   },
   {
    "duration": 239,
    "start_time": "2022-09-27T14:21:17.010Z"
   },
   {
    "duration": 141,
    "start_time": "2022-09-27T14:21:17.251Z"
   },
   {
    "duration": 128,
    "start_time": "2022-09-27T14:21:17.401Z"
   },
   {
    "duration": 130,
    "start_time": "2022-09-27T14:21:17.531Z"
   },
   {
    "duration": 154,
    "start_time": "2022-09-27T14:21:17.663Z"
   },
   {
    "duration": 145,
    "start_time": "2022-09-27T14:21:17.818Z"
   },
   {
    "duration": 114,
    "start_time": "2022-09-27T14:21:17.965Z"
   },
   {
    "duration": 142,
    "start_time": "2022-09-27T14:21:18.081Z"
   },
   {
    "duration": 146,
    "start_time": "2022-09-27T14:21:18.225Z"
   },
   {
    "duration": 163,
    "start_time": "2022-09-27T14:21:18.373Z"
   },
   {
    "duration": 44,
    "start_time": "2022-09-27T14:21:18.538Z"
   },
   {
    "duration": 0,
    "start_time": "2022-09-27T14:21:18.583Z"
   },
   {
    "duration": 144,
    "start_time": "2022-09-27T14:35:29.898Z"
   },
   {
    "duration": 20,
    "start_time": "2022-09-27T14:35:35.537Z"
   },
   {
    "duration": 62,
    "start_time": "2022-09-27T14:50:40.179Z"
   },
   {
    "duration": 185,
    "start_time": "2022-09-27T14:50:50.659Z"
   },
   {
    "duration": 184,
    "start_time": "2022-09-27T14:51:33.167Z"
   },
   {
    "duration": 291,
    "start_time": "2022-09-27T14:52:00.539Z"
   },
   {
    "duration": 174,
    "start_time": "2022-09-27T14:52:10.436Z"
   },
   {
    "duration": 187,
    "start_time": "2022-09-27T14:52:24.229Z"
   },
   {
    "duration": 200,
    "start_time": "2022-09-27T14:52:33.007Z"
   },
   {
    "duration": 175,
    "start_time": "2022-09-27T14:52:43.480Z"
   },
   {
    "duration": 173,
    "start_time": "2022-09-27T14:52:52.158Z"
   },
   {
    "duration": 444,
    "start_time": "2022-09-27T14:54:25.358Z"
   },
   {
    "duration": 1245,
    "start_time": "2022-09-27T14:54:37.366Z"
   },
   {
    "duration": 15,
    "start_time": "2022-09-27T14:54:38.613Z"
   },
   {
    "duration": 1957,
    "start_time": "2022-09-27T14:54:38.630Z"
   },
   {
    "duration": 4,
    "start_time": "2022-09-27T14:54:40.589Z"
   },
   {
    "duration": 10,
    "start_time": "2022-09-27T14:54:40.595Z"
   },
   {
    "duration": 5,
    "start_time": "2022-09-27T14:54:40.607Z"
   },
   {
    "duration": 14,
    "start_time": "2022-09-27T14:54:40.614Z"
   },
   {
    "duration": 13,
    "start_time": "2022-09-27T14:54:40.631Z"
   },
   {
    "duration": 11,
    "start_time": "2022-09-27T14:54:40.646Z"
   },
   {
    "duration": 6,
    "start_time": "2022-09-27T14:54:40.659Z"
   },
   {
    "duration": 11,
    "start_time": "2022-09-27T14:54:40.666Z"
   },
   {
    "duration": 27,
    "start_time": "2022-09-27T14:54:40.679Z"
   },
   {
    "duration": 6,
    "start_time": "2022-09-27T14:54:40.707Z"
   },
   {
    "duration": 262,
    "start_time": "2022-09-27T14:54:40.716Z"
   },
   {
    "duration": 5,
    "start_time": "2022-09-27T14:54:40.979Z"
   },
   {
    "duration": 19,
    "start_time": "2022-09-27T14:54:40.986Z"
   },
   {
    "duration": 1199,
    "start_time": "2022-09-27T14:54:48.703Z"
   },
   {
    "duration": 13,
    "start_time": "2022-09-27T14:54:49.904Z"
   },
   {
    "duration": 1837,
    "start_time": "2022-09-27T14:54:49.918Z"
   },
   {
    "duration": 3,
    "start_time": "2022-09-27T14:54:51.757Z"
   },
   {
    "duration": 9,
    "start_time": "2022-09-27T14:54:51.762Z"
   },
   {
    "duration": 3,
    "start_time": "2022-09-27T14:54:51.773Z"
   },
   {
    "duration": 10,
    "start_time": "2022-09-27T14:54:51.777Z"
   },
   {
    "duration": 11,
    "start_time": "2022-09-27T14:54:51.788Z"
   },
   {
    "duration": 8,
    "start_time": "2022-09-27T14:54:51.801Z"
   },
   {
    "duration": 6,
    "start_time": "2022-09-27T14:54:51.811Z"
   },
   {
    "duration": 5,
    "start_time": "2022-09-27T14:54:51.818Z"
   },
   {
    "duration": 10,
    "start_time": "2022-09-27T14:54:51.824Z"
   },
   {
    "duration": 6,
    "start_time": "2022-09-27T14:54:51.835Z"
   },
   {
    "duration": 265,
    "start_time": "2022-09-27T14:54:51.843Z"
   },
   {
    "duration": 5,
    "start_time": "2022-09-27T14:54:52.109Z"
   },
   {
    "duration": 42,
    "start_time": "2022-09-27T14:54:52.115Z"
   },
   {
    "duration": 31,
    "start_time": "2022-09-27T14:54:52.159Z"
   },
   {
    "duration": 11,
    "start_time": "2022-09-27T14:54:52.191Z"
   },
   {
    "duration": 4,
    "start_time": "2022-09-27T14:54:52.204Z"
   },
   {
    "duration": 19,
    "start_time": "2022-09-27T14:54:52.209Z"
   },
   {
    "duration": 316,
    "start_time": "2022-09-27T14:54:52.229Z"
   },
   {
    "duration": 4,
    "start_time": "2022-09-27T14:54:52.547Z"
   },
   {
    "duration": 25,
    "start_time": "2022-09-27T14:54:52.553Z"
   },
   {
    "duration": 258,
    "start_time": "2022-09-27T14:54:52.580Z"
   },
   {
    "duration": 225,
    "start_time": "2022-09-27T14:54:52.840Z"
   },
   {
    "duration": 251,
    "start_time": "2022-09-27T14:54:53.067Z"
   },
   {
    "duration": 131,
    "start_time": "2022-09-27T14:54:53.320Z"
   },
   {
    "duration": 126,
    "start_time": "2022-09-27T14:54:53.453Z"
   },
   {
    "duration": 141,
    "start_time": "2022-09-27T14:54:53.581Z"
   },
   {
    "duration": 158,
    "start_time": "2022-09-27T14:54:53.724Z"
   },
   {
    "duration": 147,
    "start_time": "2022-09-27T14:54:53.884Z"
   },
   {
    "duration": 118,
    "start_time": "2022-09-27T14:54:54.032Z"
   },
   {
    "duration": 167,
    "start_time": "2022-09-27T14:54:54.152Z"
   },
   {
    "duration": 137,
    "start_time": "2022-09-27T14:54:54.321Z"
   },
   {
    "duration": 175,
    "start_time": "2022-09-27T14:54:54.460Z"
   },
   {
    "duration": 130,
    "start_time": "2022-09-27T14:54:54.636Z"
   },
   {
    "duration": 105,
    "start_time": "2022-09-27T14:54:54.768Z"
   },
   {
    "duration": 0,
    "start_time": "2022-09-27T14:54:54.874Z"
   },
   {
    "duration": 462,
    "start_time": "2022-09-27T14:54:59.195Z"
   },
   {
    "duration": 444,
    "start_time": "2022-09-27T14:55:36.635Z"
   },
   {
    "duration": 235,
    "start_time": "2022-09-27T14:56:32.118Z"
   },
   {
    "duration": 115,
    "start_time": "2022-09-27T14:56:42.124Z"
   },
   {
    "duration": 131,
    "start_time": "2022-09-27T14:56:59.074Z"
   },
   {
    "duration": 48,
    "start_time": "2022-09-27T14:59:15.501Z"
   },
   {
    "duration": 121,
    "start_time": "2022-09-27T14:59:20.687Z"
   },
   {
    "duration": 48,
    "start_time": "2022-09-27T14:59:29.735Z"
   },
   {
    "duration": 123,
    "start_time": "2022-09-27T14:59:36.732Z"
   },
   {
    "duration": 412,
    "start_time": "2022-09-27T15:07:21.628Z"
   },
   {
    "duration": 66,
    "start_time": "2022-09-27T15:07:41.707Z"
   },
   {
    "duration": 162,
    "start_time": "2022-09-27T15:08:39.047Z"
   },
   {
    "duration": 128,
    "start_time": "2022-09-27T15:08:55.050Z"
   },
   {
    "duration": 123,
    "start_time": "2022-09-27T15:09:02.643Z"
   },
   {
    "duration": 113,
    "start_time": "2022-09-27T15:09:56.155Z"
   },
   {
    "duration": 116,
    "start_time": "2022-09-27T15:10:05.818Z"
   },
   {
    "duration": 132,
    "start_time": "2022-09-27T15:10:13.984Z"
   },
   {
    "duration": 6,
    "start_time": "2022-09-27T15:11:28.534Z"
   },
   {
    "duration": 19,
    "start_time": "2022-09-27T15:11:47.729Z"
   },
   {
    "duration": 18,
    "start_time": "2022-09-27T15:11:53.226Z"
   },
   {
    "duration": 21,
    "start_time": "2022-09-27T15:12:04.400Z"
   },
   {
    "duration": 1201,
    "start_time": "2022-09-27T15:12:14.514Z"
   },
   {
    "duration": 13,
    "start_time": "2022-09-27T15:12:15.718Z"
   },
   {
    "duration": 1794,
    "start_time": "2022-09-27T15:12:15.733Z"
   },
   {
    "duration": 5,
    "start_time": "2022-09-27T15:12:17.529Z"
   },
   {
    "duration": 11,
    "start_time": "2022-09-27T15:12:17.536Z"
   },
   {
    "duration": 6,
    "start_time": "2022-09-27T15:12:17.548Z"
   },
   {
    "duration": 10,
    "start_time": "2022-09-27T15:12:17.555Z"
   },
   {
    "duration": 10,
    "start_time": "2022-09-27T15:12:17.567Z"
   },
   {
    "duration": 9,
    "start_time": "2022-09-27T15:12:17.579Z"
   },
   {
    "duration": 14,
    "start_time": "2022-09-27T15:12:17.590Z"
   },
   {
    "duration": 5,
    "start_time": "2022-09-27T15:12:17.606Z"
   },
   {
    "duration": 5,
    "start_time": "2022-09-27T15:12:17.613Z"
   },
   {
    "duration": 5,
    "start_time": "2022-09-27T15:12:17.619Z"
   },
   {
    "duration": 290,
    "start_time": "2022-09-27T15:12:17.628Z"
   },
   {
    "duration": 6,
    "start_time": "2022-09-27T15:12:17.920Z"
   },
   {
    "duration": 8,
    "start_time": "2022-09-27T15:12:17.927Z"
   },
   {
    "duration": 22,
    "start_time": "2022-09-27T15:12:17.936Z"
   },
   {
    "duration": 12,
    "start_time": "2022-09-27T15:12:17.960Z"
   },
   {
    "duration": 28,
    "start_time": "2022-09-27T15:12:17.974Z"
   },
   {
    "duration": 14,
    "start_time": "2022-09-27T15:12:18.003Z"
   },
   {
    "duration": 318,
    "start_time": "2022-09-27T15:12:18.018Z"
   },
   {
    "duration": 4,
    "start_time": "2022-09-27T15:12:18.338Z"
   },
   {
    "duration": 10,
    "start_time": "2022-09-27T15:12:18.343Z"
   },
   {
    "duration": 272,
    "start_time": "2022-09-27T15:12:18.354Z"
   },
   {
    "duration": 233,
    "start_time": "2022-09-27T15:12:18.627Z"
   },
   {
    "duration": 226,
    "start_time": "2022-09-27T15:12:18.862Z"
   },
   {
    "duration": 125,
    "start_time": "2022-09-27T15:12:19.089Z"
   },
   {
    "duration": 124,
    "start_time": "2022-09-27T15:12:19.216Z"
   },
   {
    "duration": 148,
    "start_time": "2022-09-27T15:12:19.342Z"
   },
   {
    "duration": 158,
    "start_time": "2022-09-27T15:12:19.492Z"
   },
   {
    "duration": 149,
    "start_time": "2022-09-27T15:12:19.651Z"
   },
   {
    "duration": 117,
    "start_time": "2022-09-27T15:12:19.802Z"
   },
   {
    "duration": 143,
    "start_time": "2022-09-27T15:12:19.921Z"
   },
   {
    "duration": 120,
    "start_time": "2022-09-27T15:12:20.065Z"
   },
   {
    "duration": 143,
    "start_time": "2022-09-27T15:12:20.187Z"
   },
   {
    "duration": 140,
    "start_time": "2022-09-27T15:12:20.332Z"
   },
   {
    "duration": 55,
    "start_time": "2022-09-27T15:12:20.474Z"
   },
   {
    "duration": 0,
    "start_time": "2022-09-27T15:12:20.531Z"
   },
   {
    "duration": 0,
    "start_time": "2022-09-27T15:12:20.532Z"
   },
   {
    "duration": 117,
    "start_time": "2022-09-27T15:12:45.814Z"
   },
   {
    "duration": 128,
    "start_time": "2022-09-27T15:14:17.934Z"
   },
   {
    "duration": 310,
    "start_time": "2022-09-27T15:15:12.955Z"
   },
   {
    "duration": 178,
    "start_time": "2022-09-27T15:15:19.347Z"
   },
   {
    "duration": 112,
    "start_time": "2022-09-27T15:15:35.985Z"
   },
   {
    "duration": 128,
    "start_time": "2022-09-27T15:15:42.119Z"
   },
   {
    "duration": 117,
    "start_time": "2022-09-27T15:15:47.769Z"
   },
   {
    "duration": 130,
    "start_time": "2022-09-27T15:15:57.771Z"
   },
   {
    "duration": 119,
    "start_time": "2022-09-27T15:16:15.081Z"
   },
   {
    "duration": 111,
    "start_time": "2022-09-27T15:16:25.904Z"
   },
   {
    "duration": 104,
    "start_time": "2022-09-27T15:16:57.774Z"
   },
   {
    "duration": 345,
    "start_time": "2022-09-27T15:20:59.758Z"
   },
   {
    "duration": 104,
    "start_time": "2022-09-27T15:21:22.307Z"
   },
   {
    "duration": 101,
    "start_time": "2022-09-27T15:22:00.351Z"
   },
   {
    "duration": 92,
    "start_time": "2022-09-27T15:22:08.358Z"
   },
   {
    "duration": 101,
    "start_time": "2022-09-27T15:24:48.857Z"
   },
   {
    "duration": 208,
    "start_time": "2022-09-27T15:25:01.076Z"
   },
   {
    "duration": 100,
    "start_time": "2022-09-27T15:25:11.118Z"
   },
   {
    "duration": 106,
    "start_time": "2022-09-27T15:25:18.112Z"
   },
   {
    "duration": 126,
    "start_time": "2022-09-27T15:28:37.141Z"
   },
   {
    "duration": 141,
    "start_time": "2022-09-27T15:29:01.734Z"
   },
   {
    "duration": 175,
    "start_time": "2022-09-27T15:29:34.508Z"
   },
   {
    "duration": 140,
    "start_time": "2022-09-27T15:29:48.724Z"
   },
   {
    "duration": 131,
    "start_time": "2022-09-27T15:30:27.017Z"
   },
   {
    "duration": 115,
    "start_time": "2022-09-27T15:30:51.106Z"
   },
   {
    "duration": 130,
    "start_time": "2022-09-27T15:31:46.726Z"
   },
   {
    "duration": 119,
    "start_time": "2022-09-27T15:32:03.734Z"
   },
   {
    "duration": 117,
    "start_time": "2022-09-27T15:32:24.861Z"
   },
   {
    "duration": 152,
    "start_time": "2022-09-27T15:32:34.415Z"
   },
   {
    "duration": 124,
    "start_time": "2022-09-27T15:33:16.837Z"
   },
   {
    "duration": 119,
    "start_time": "2022-09-27T15:33:25.658Z"
   },
   {
    "duration": 116,
    "start_time": "2022-09-27T15:34:18.987Z"
   },
   {
    "duration": 238,
    "start_time": "2022-09-27T15:34:30.929Z"
   },
   {
    "duration": 123,
    "start_time": "2022-09-27T15:34:45.347Z"
   },
   {
    "duration": 140,
    "start_time": "2022-09-27T15:35:37.396Z"
   },
   {
    "duration": 21,
    "start_time": "2022-09-27T15:37:55.369Z"
   },
   {
    "duration": 1224,
    "start_time": "2022-09-27T15:38:20.280Z"
   },
   {
    "duration": 14,
    "start_time": "2022-09-27T15:38:21.506Z"
   },
   {
    "duration": 1825,
    "start_time": "2022-09-27T15:38:21.522Z"
   },
   {
    "duration": 4,
    "start_time": "2022-09-27T15:38:23.349Z"
   },
   {
    "duration": 10,
    "start_time": "2022-09-27T15:38:23.356Z"
   },
   {
    "duration": 9,
    "start_time": "2022-09-27T15:38:23.367Z"
   },
   {
    "duration": 18,
    "start_time": "2022-09-27T15:38:23.378Z"
   },
   {
    "duration": 12,
    "start_time": "2022-09-27T15:38:23.398Z"
   },
   {
    "duration": 10,
    "start_time": "2022-09-27T15:38:23.412Z"
   },
   {
    "duration": 9,
    "start_time": "2022-09-27T15:38:23.423Z"
   },
   {
    "duration": 7,
    "start_time": "2022-09-27T15:38:23.433Z"
   },
   {
    "duration": 10,
    "start_time": "2022-09-27T15:38:23.442Z"
   },
   {
    "duration": 6,
    "start_time": "2022-09-27T15:38:23.453Z"
   },
   {
    "duration": 278,
    "start_time": "2022-09-27T15:38:23.462Z"
   },
   {
    "duration": 5,
    "start_time": "2022-09-27T15:38:23.741Z"
   },
   {
    "duration": 9,
    "start_time": "2022-09-27T15:38:23.747Z"
   },
   {
    "duration": 25,
    "start_time": "2022-09-27T15:38:23.757Z"
   },
   {
    "duration": 23,
    "start_time": "2022-09-27T15:38:23.783Z"
   },
   {
    "duration": 5,
    "start_time": "2022-09-27T15:38:23.808Z"
   },
   {
    "duration": 17,
    "start_time": "2022-09-27T15:38:23.815Z"
   },
   {
    "duration": 326,
    "start_time": "2022-09-27T15:38:23.834Z"
   },
   {
    "duration": 6,
    "start_time": "2022-09-27T15:38:24.162Z"
   },
   {
    "duration": 9,
    "start_time": "2022-09-27T15:38:24.171Z"
   },
   {
    "duration": 309,
    "start_time": "2022-09-27T15:38:24.182Z"
   },
   {
    "duration": 282,
    "start_time": "2022-09-27T15:38:24.494Z"
   },
   {
    "duration": 224,
    "start_time": "2022-09-27T15:38:24.778Z"
   },
   {
    "duration": 123,
    "start_time": "2022-09-27T15:38:25.003Z"
   },
   {
    "duration": 118,
    "start_time": "2022-09-27T15:38:25.128Z"
   },
   {
    "duration": 127,
    "start_time": "2022-09-27T15:38:25.248Z"
   },
   {
    "duration": 177,
    "start_time": "2022-09-27T15:38:25.376Z"
   },
   {
    "duration": 169,
    "start_time": "2022-09-27T15:38:25.554Z"
   },
   {
    "duration": 125,
    "start_time": "2022-09-27T15:38:25.725Z"
   },
   {
    "duration": 131,
    "start_time": "2022-09-27T15:38:25.852Z"
   },
   {
    "duration": 147,
    "start_time": "2022-09-27T15:38:25.985Z"
   },
   {
    "duration": 158,
    "start_time": "2022-09-27T15:38:26.134Z"
   },
   {
    "duration": 142,
    "start_time": "2022-09-27T15:38:26.294Z"
   },
   {
    "duration": 54,
    "start_time": "2022-09-27T15:38:26.438Z"
   },
   {
    "duration": 0,
    "start_time": "2022-09-27T15:38:26.494Z"
   },
   {
    "duration": 0,
    "start_time": "2022-09-27T15:38:26.494Z"
   },
   {
    "duration": 19,
    "start_time": "2022-09-27T15:38:39.624Z"
   },
   {
    "duration": 2,
    "start_time": "2022-09-27T15:39:19.736Z"
   },
   {
    "duration": 355,
    "start_time": "2022-09-27T15:39:33.710Z"
   },
   {
    "duration": 102,
    "start_time": "2022-09-27T15:40:41.876Z"
   },
   {
    "duration": 96,
    "start_time": "2022-09-27T15:41:11.918Z"
   },
   {
    "duration": 113,
    "start_time": "2022-09-27T15:41:22.674Z"
   },
   {
    "duration": 91,
    "start_time": "2022-09-27T15:41:32.509Z"
   },
   {
    "duration": 102,
    "start_time": "2022-09-27T15:42:13.927Z"
   },
   {
    "duration": 126,
    "start_time": "2022-09-27T15:42:29.850Z"
   },
   {
    "duration": 151,
    "start_time": "2022-09-27T15:43:37.057Z"
   },
   {
    "duration": 140,
    "start_time": "2022-09-27T15:43:50.458Z"
   },
   {
    "duration": 150,
    "start_time": "2022-09-27T15:45:37.877Z"
   },
   {
    "duration": 249,
    "start_time": "2022-09-27T15:45:53.831Z"
   },
   {
    "duration": 147,
    "start_time": "2022-09-27T15:46:10.338Z"
   },
   {
    "duration": 142,
    "start_time": "2022-09-27T15:46:18.865Z"
   },
   {
    "duration": 142,
    "start_time": "2022-09-27T15:47:57.096Z"
   },
   {
    "duration": 141,
    "start_time": "2022-09-27T15:48:23.781Z"
   },
   {
    "duration": 1193,
    "start_time": "2022-09-27T15:48:30.209Z"
   },
   {
    "duration": 14,
    "start_time": "2022-09-27T15:48:31.404Z"
   },
   {
    "duration": 1895,
    "start_time": "2022-09-27T15:48:31.420Z"
   },
   {
    "duration": 3,
    "start_time": "2022-09-27T15:48:33.317Z"
   },
   {
    "duration": 9,
    "start_time": "2022-09-27T15:48:33.322Z"
   },
   {
    "duration": 4,
    "start_time": "2022-09-27T15:48:33.332Z"
   },
   {
    "duration": 12,
    "start_time": "2022-09-27T15:48:33.337Z"
   },
   {
    "duration": 12,
    "start_time": "2022-09-27T15:48:33.351Z"
   },
   {
    "duration": 10,
    "start_time": "2022-09-27T15:48:33.364Z"
   },
   {
    "duration": 26,
    "start_time": "2022-09-27T15:48:33.375Z"
   },
   {
    "duration": 6,
    "start_time": "2022-09-27T15:48:33.403Z"
   },
   {
    "duration": 6,
    "start_time": "2022-09-27T15:48:33.410Z"
   },
   {
    "duration": 6,
    "start_time": "2022-09-27T15:48:33.418Z"
   },
   {
    "duration": 283,
    "start_time": "2022-09-27T15:48:33.428Z"
   },
   {
    "duration": 6,
    "start_time": "2022-09-27T15:48:33.713Z"
   },
   {
    "duration": 10,
    "start_time": "2022-09-27T15:48:33.720Z"
   },
   {
    "duration": 24,
    "start_time": "2022-09-27T15:48:33.732Z"
   },
   {
    "duration": 2,
    "start_time": "2022-09-27T15:48:33.758Z"
   },
   {
    "duration": 7,
    "start_time": "2022-09-27T15:48:33.761Z"
   },
   {
    "duration": 36,
    "start_time": "2022-09-27T15:48:33.769Z"
   },
   {
    "duration": 320,
    "start_time": "2022-09-27T15:48:33.807Z"
   },
   {
    "duration": 4,
    "start_time": "2022-09-27T15:48:34.130Z"
   },
   {
    "duration": 15,
    "start_time": "2022-09-27T15:48:34.136Z"
   },
   {
    "duration": 246,
    "start_time": "2022-09-27T15:48:34.153Z"
   },
   {
    "duration": 280,
    "start_time": "2022-09-27T15:48:34.401Z"
   },
   {
    "duration": 232,
    "start_time": "2022-09-27T15:48:34.682Z"
   },
   {
    "duration": 122,
    "start_time": "2022-09-27T15:48:34.916Z"
   },
   {
    "duration": 127,
    "start_time": "2022-09-27T15:48:35.039Z"
   },
   {
    "duration": 128,
    "start_time": "2022-09-27T15:48:35.167Z"
   },
   {
    "duration": 166,
    "start_time": "2022-09-27T15:48:35.301Z"
   },
   {
    "duration": 153,
    "start_time": "2022-09-27T15:48:35.469Z"
   },
   {
    "duration": 106,
    "start_time": "2022-09-27T15:48:35.623Z"
   },
   {
    "duration": 128,
    "start_time": "2022-09-27T15:48:35.730Z"
   },
   {
    "duration": 131,
    "start_time": "2022-09-27T15:48:35.860Z"
   },
   {
    "duration": 151,
    "start_time": "2022-09-27T15:48:35.993Z"
   },
   {
    "duration": 137,
    "start_time": "2022-09-27T15:48:36.146Z"
   },
   {
    "duration": 103,
    "start_time": "2022-09-27T15:48:36.284Z"
   },
   {
    "duration": 0,
    "start_time": "2022-09-27T15:48:36.389Z"
   },
   {
    "duration": 0,
    "start_time": "2022-09-27T15:48:36.390Z"
   },
   {
    "duration": 125,
    "start_time": "2022-09-27T15:49:53.242Z"
   },
   {
    "duration": 133,
    "start_time": "2022-09-27T15:49:56.900Z"
   },
   {
    "duration": 212,
    "start_time": "2022-09-27T15:50:40.676Z"
   },
   {
    "duration": 120,
    "start_time": "2022-09-27T15:50:51.895Z"
   },
   {
    "duration": 120,
    "start_time": "2022-09-27T15:51:09.311Z"
   },
   {
    "duration": 117,
    "start_time": "2022-09-27T15:51:16.418Z"
   },
   {
    "duration": 125,
    "start_time": "2022-09-27T15:51:27.553Z"
   },
   {
    "duration": 115,
    "start_time": "2022-09-27T15:51:35.678Z"
   },
   {
    "duration": 139,
    "start_time": "2022-09-27T16:35:54.354Z"
   },
   {
    "duration": 108,
    "start_time": "2022-09-27T16:36:20.320Z"
   },
   {
    "duration": 1221,
    "start_time": "2022-09-27T16:36:39.585Z"
   },
   {
    "duration": 15,
    "start_time": "2022-09-27T16:36:40.808Z"
   },
   {
    "duration": 1922,
    "start_time": "2022-09-27T16:36:40.825Z"
   },
   {
    "duration": 5,
    "start_time": "2022-09-27T16:36:42.749Z"
   },
   {
    "duration": 11,
    "start_time": "2022-09-27T16:36:42.755Z"
   },
   {
    "duration": 15,
    "start_time": "2022-09-27T16:36:42.767Z"
   },
   {
    "duration": 9,
    "start_time": "2022-09-27T16:36:42.784Z"
   },
   {
    "duration": 16,
    "start_time": "2022-09-27T16:36:42.794Z"
   },
   {
    "duration": 12,
    "start_time": "2022-09-27T16:36:42.812Z"
   },
   {
    "duration": 21,
    "start_time": "2022-09-27T16:36:42.826Z"
   },
   {
    "duration": 15,
    "start_time": "2022-09-27T16:36:42.849Z"
   },
   {
    "duration": 7,
    "start_time": "2022-09-27T16:36:42.865Z"
   },
   {
    "duration": 6,
    "start_time": "2022-09-27T16:36:42.873Z"
   },
   {
    "duration": 234,
    "start_time": "2022-09-27T16:36:42.881Z"
   },
   {
    "duration": 5,
    "start_time": "2022-09-27T16:36:43.116Z"
   },
   {
    "duration": 11,
    "start_time": "2022-09-27T16:36:43.122Z"
   },
   {
    "duration": 23,
    "start_time": "2022-09-27T16:36:43.135Z"
   },
   {
    "duration": 2,
    "start_time": "2022-09-27T16:36:43.160Z"
   },
   {
    "duration": 9,
    "start_time": "2022-09-27T16:36:43.164Z"
   },
   {
    "duration": 28,
    "start_time": "2022-09-27T16:36:43.174Z"
   },
   {
    "duration": 311,
    "start_time": "2022-09-27T16:36:43.204Z"
   },
   {
    "duration": 3,
    "start_time": "2022-09-27T16:36:43.516Z"
   },
   {
    "duration": 32,
    "start_time": "2022-09-27T16:36:43.521Z"
   },
   {
    "duration": 234,
    "start_time": "2022-09-27T16:36:43.555Z"
   },
   {
    "duration": 213,
    "start_time": "2022-09-27T16:36:43.790Z"
   },
   {
    "duration": 249,
    "start_time": "2022-09-27T16:36:44.005Z"
   },
   {
    "duration": 124,
    "start_time": "2022-09-27T16:36:44.256Z"
   },
   {
    "duration": 159,
    "start_time": "2022-09-27T16:36:44.384Z"
   },
   {
    "duration": 146,
    "start_time": "2022-09-27T16:36:44.545Z"
   },
   {
    "duration": 164,
    "start_time": "2022-09-27T16:36:44.693Z"
   },
   {
    "duration": 162,
    "start_time": "2022-09-27T16:36:44.858Z"
   },
   {
    "duration": 112,
    "start_time": "2022-09-27T16:36:45.022Z"
   },
   {
    "duration": 114,
    "start_time": "2022-09-27T16:36:45.136Z"
   },
   {
    "duration": 148,
    "start_time": "2022-09-27T16:36:45.252Z"
   },
   {
    "duration": 158,
    "start_time": "2022-09-27T16:36:45.402Z"
   },
   {
    "duration": 141,
    "start_time": "2022-09-27T16:36:45.561Z"
   },
   {
    "duration": 123,
    "start_time": "2022-09-27T16:36:45.703Z"
   },
   {
    "duration": 137,
    "start_time": "2022-09-27T16:36:45.827Z"
   },
   {
    "duration": 279,
    "start_time": "2022-09-27T16:37:18.201Z"
   },
   {
    "duration": 19,
    "start_time": "2022-09-27T16:37:32.843Z"
   },
   {
    "duration": 106,
    "start_time": "2022-09-27T16:37:43.155Z"
   },
   {
    "duration": 19,
    "start_time": "2022-09-27T16:38:38.896Z"
   },
   {
    "duration": 18,
    "start_time": "2022-09-27T16:38:44.355Z"
   },
   {
    "duration": 1219,
    "start_time": "2022-09-27T16:38:54.286Z"
   },
   {
    "duration": 13,
    "start_time": "2022-09-27T16:38:55.507Z"
   },
   {
    "duration": 1778,
    "start_time": "2022-09-27T16:38:55.521Z"
   },
   {
    "duration": 4,
    "start_time": "2022-09-27T16:38:57.301Z"
   },
   {
    "duration": 14,
    "start_time": "2022-09-27T16:38:57.306Z"
   },
   {
    "duration": 4,
    "start_time": "2022-09-27T16:38:57.321Z"
   },
   {
    "duration": 21,
    "start_time": "2022-09-27T16:38:57.326Z"
   },
   {
    "duration": 19,
    "start_time": "2022-09-27T16:38:57.348Z"
   },
   {
    "duration": 8,
    "start_time": "2022-09-27T16:38:57.368Z"
   },
   {
    "duration": 26,
    "start_time": "2022-09-27T16:38:57.379Z"
   },
   {
    "duration": 19,
    "start_time": "2022-09-27T16:38:57.406Z"
   },
   {
    "duration": 13,
    "start_time": "2022-09-27T16:38:57.427Z"
   },
   {
    "duration": 12,
    "start_time": "2022-09-27T16:38:57.442Z"
   },
   {
    "duration": 250,
    "start_time": "2022-09-27T16:38:57.456Z"
   },
   {
    "duration": 5,
    "start_time": "2022-09-27T16:38:57.707Z"
   },
   {
    "duration": 30,
    "start_time": "2022-09-27T16:38:57.714Z"
   },
   {
    "duration": 26,
    "start_time": "2022-09-27T16:38:57.746Z"
   },
   {
    "duration": 6,
    "start_time": "2022-09-27T16:38:57.773Z"
   },
   {
    "duration": 9,
    "start_time": "2022-09-27T16:38:57.781Z"
   },
   {
    "duration": 18,
    "start_time": "2022-09-27T16:38:57.791Z"
   },
   {
    "duration": 304,
    "start_time": "2022-09-27T16:38:57.811Z"
   },
   {
    "duration": 4,
    "start_time": "2022-09-27T16:38:58.116Z"
   },
   {
    "duration": 24,
    "start_time": "2022-09-27T16:38:58.121Z"
   },
   {
    "duration": 242,
    "start_time": "2022-09-27T16:38:58.146Z"
   },
   {
    "duration": 219,
    "start_time": "2022-09-27T16:38:58.389Z"
   },
   {
    "duration": 247,
    "start_time": "2022-09-27T16:38:58.609Z"
   },
   {
    "duration": 115,
    "start_time": "2022-09-27T16:38:58.858Z"
   },
   {
    "duration": 128,
    "start_time": "2022-09-27T16:38:58.976Z"
   },
   {
    "duration": 133,
    "start_time": "2022-09-27T16:38:59.106Z"
   },
   {
    "duration": 162,
    "start_time": "2022-09-27T16:38:59.240Z"
   },
   {
    "duration": 164,
    "start_time": "2022-09-27T16:38:59.404Z"
   },
   {
    "duration": 108,
    "start_time": "2022-09-27T16:38:59.569Z"
   },
   {
    "duration": 124,
    "start_time": "2022-09-27T16:38:59.679Z"
   },
   {
    "duration": 142,
    "start_time": "2022-09-27T16:38:59.805Z"
   },
   {
    "duration": 159,
    "start_time": "2022-09-27T16:38:59.948Z"
   },
   {
    "duration": 148,
    "start_time": "2022-09-27T16:39:00.108Z"
   },
   {
    "duration": 115,
    "start_time": "2022-09-27T16:39:00.257Z"
   },
   {
    "duration": 135,
    "start_time": "2022-09-27T16:39:00.374Z"
   },
   {
    "duration": 124,
    "start_time": "2022-09-27T16:40:03.995Z"
   },
   {
    "duration": 17,
    "start_time": "2022-09-27T16:40:14.870Z"
   },
   {
    "duration": 102,
    "start_time": "2022-09-27T16:40:33.912Z"
   },
   {
    "duration": 111,
    "start_time": "2022-09-27T16:40:37.411Z"
   },
   {
    "duration": 1199,
    "start_time": "2022-09-27T16:40:46.217Z"
   },
   {
    "duration": 16,
    "start_time": "2022-09-27T16:40:47.417Z"
   },
   {
    "duration": 1896,
    "start_time": "2022-09-27T16:40:47.435Z"
   },
   {
    "duration": 4,
    "start_time": "2022-09-27T16:40:49.334Z"
   },
   {
    "duration": 16,
    "start_time": "2022-09-27T16:40:49.340Z"
   },
   {
    "duration": 5,
    "start_time": "2022-09-27T16:40:49.357Z"
   },
   {
    "duration": 10,
    "start_time": "2022-09-27T16:40:49.364Z"
   },
   {
    "duration": 13,
    "start_time": "2022-09-27T16:40:49.375Z"
   },
   {
    "duration": 19,
    "start_time": "2022-09-27T16:40:49.389Z"
   },
   {
    "duration": 8,
    "start_time": "2022-09-27T16:40:49.410Z"
   },
   {
    "duration": 10,
    "start_time": "2022-09-27T16:40:49.420Z"
   },
   {
    "duration": 12,
    "start_time": "2022-09-27T16:40:49.432Z"
   },
   {
    "duration": 15,
    "start_time": "2022-09-27T16:40:49.446Z"
   },
   {
    "duration": 269,
    "start_time": "2022-09-27T16:40:49.463Z"
   },
   {
    "duration": 4,
    "start_time": "2022-09-27T16:40:49.735Z"
   },
   {
    "duration": 8,
    "start_time": "2022-09-27T16:40:49.741Z"
   },
   {
    "duration": 20,
    "start_time": "2022-09-27T16:40:49.751Z"
   },
   {
    "duration": 2,
    "start_time": "2022-09-27T16:40:49.772Z"
   },
   {
    "duration": 26,
    "start_time": "2022-09-27T16:40:49.776Z"
   },
   {
    "duration": 11,
    "start_time": "2022-09-27T16:40:49.803Z"
   },
   {
    "duration": 308,
    "start_time": "2022-09-27T16:40:49.816Z"
   },
   {
    "duration": 4,
    "start_time": "2022-09-27T16:40:50.125Z"
   },
   {
    "duration": 39,
    "start_time": "2022-09-27T16:40:50.130Z"
   },
   {
    "duration": 294,
    "start_time": "2022-09-27T16:40:50.171Z"
   },
   {
    "duration": 253,
    "start_time": "2022-09-27T16:40:50.467Z"
   },
   {
    "duration": 257,
    "start_time": "2022-09-27T16:40:50.722Z"
   },
   {
    "duration": 127,
    "start_time": "2022-09-27T16:40:50.981Z"
   },
   {
    "duration": 134,
    "start_time": "2022-09-27T16:40:51.111Z"
   },
   {
    "duration": 129,
    "start_time": "2022-09-27T16:40:51.247Z"
   },
   {
    "duration": 186,
    "start_time": "2022-09-27T16:40:51.377Z"
   },
   {
    "duration": 195,
    "start_time": "2022-09-27T16:40:51.566Z"
   },
   {
    "duration": 114,
    "start_time": "2022-09-27T16:40:51.763Z"
   },
   {
    "duration": 132,
    "start_time": "2022-09-27T16:40:51.878Z"
   },
   {
    "duration": 153,
    "start_time": "2022-09-27T16:40:52.012Z"
   },
   {
    "duration": 165,
    "start_time": "2022-09-27T16:40:52.166Z"
   },
   {
    "duration": 173,
    "start_time": "2022-09-27T16:40:52.333Z"
   },
   {
    "duration": 148,
    "start_time": "2022-09-27T16:40:52.508Z"
   },
   {
    "duration": 146,
    "start_time": "2022-09-27T16:40:52.658Z"
   },
   {
    "duration": 48,
    "start_time": "2022-09-27T20:16:23.559Z"
   },
   {
    "duration": 1652,
    "start_time": "2022-09-27T20:16:32.877Z"
   },
   {
    "duration": 20,
    "start_time": "2022-09-27T20:16:34.532Z"
   },
   {
    "duration": 1853,
    "start_time": "2022-09-27T20:16:34.555Z"
   },
   {
    "duration": 5,
    "start_time": "2022-09-27T20:16:36.411Z"
   },
   {
    "duration": 12,
    "start_time": "2022-09-27T20:16:36.419Z"
   },
   {
    "duration": 4,
    "start_time": "2022-09-27T20:16:36.433Z"
   },
   {
    "duration": 12,
    "start_time": "2022-09-27T20:16:36.439Z"
   },
   {
    "duration": 12,
    "start_time": "2022-09-27T20:16:36.452Z"
   },
   {
    "duration": 45,
    "start_time": "2022-09-27T20:16:36.465Z"
   },
   {
    "duration": 17,
    "start_time": "2022-09-27T20:16:36.512Z"
   },
   {
    "duration": 13,
    "start_time": "2022-09-27T20:16:36.531Z"
   },
   {
    "duration": 13,
    "start_time": "2022-09-27T20:16:36.546Z"
   },
   {
    "duration": 14,
    "start_time": "2022-09-27T20:16:36.561Z"
   },
   {
    "duration": 318,
    "start_time": "2022-09-27T20:16:36.579Z"
   },
   {
    "duration": 9,
    "start_time": "2022-09-27T20:16:36.900Z"
   },
   {
    "duration": 12,
    "start_time": "2022-09-27T20:16:36.911Z"
   },
   {
    "duration": 31,
    "start_time": "2022-09-27T20:16:36.925Z"
   },
   {
    "duration": 3,
    "start_time": "2022-09-27T20:16:36.958Z"
   },
   {
    "duration": 7,
    "start_time": "2022-09-27T20:16:36.962Z"
   },
   {
    "duration": 12,
    "start_time": "2022-09-27T20:16:36.970Z"
   },
   {
    "duration": 377,
    "start_time": "2022-09-27T20:16:36.984Z"
   },
   {
    "duration": 4,
    "start_time": "2022-09-27T20:16:37.362Z"
   },
   {
    "duration": 9,
    "start_time": "2022-09-27T20:16:37.368Z"
   },
   {
    "duration": 296,
    "start_time": "2022-09-27T20:16:37.379Z"
   },
   {
    "duration": 218,
    "start_time": "2022-09-27T20:16:37.676Z"
   },
   {
    "duration": 228,
    "start_time": "2022-09-27T20:16:37.896Z"
   },
   {
    "duration": 199,
    "start_time": "2022-09-27T20:16:38.126Z"
   },
   {
    "duration": 149,
    "start_time": "2022-09-27T20:16:38.327Z"
   },
   {
    "duration": 119,
    "start_time": "2022-09-27T20:16:38.477Z"
   },
   {
    "duration": 229,
    "start_time": "2022-09-27T20:16:38.598Z"
   },
   {
    "duration": 151,
    "start_time": "2022-09-27T20:16:38.829Z"
   },
   {
    "duration": 133,
    "start_time": "2022-09-27T20:16:38.981Z"
   },
   {
    "duration": 116,
    "start_time": "2022-09-27T20:16:39.116Z"
   },
   {
    "duration": 144,
    "start_time": "2022-09-27T20:16:39.234Z"
   },
   {
    "duration": 161,
    "start_time": "2022-09-27T20:16:39.379Z"
   },
   {
    "duration": 144,
    "start_time": "2022-09-27T20:16:39.543Z"
   },
   {
    "duration": 157,
    "start_time": "2022-09-27T20:16:39.689Z"
   },
   {
    "duration": 139,
    "start_time": "2022-09-27T20:16:39.848Z"
   },
   {
    "duration": 45,
    "start_time": "2022-09-28T08:40:59.024Z"
   },
   {
    "duration": 1359,
    "start_time": "2022-09-28T08:41:09.372Z"
   },
   {
    "duration": 19,
    "start_time": "2022-09-28T08:41:10.733Z"
   },
   {
    "duration": 2006,
    "start_time": "2022-09-28T08:41:10.754Z"
   },
   {
    "duration": 5,
    "start_time": "2022-09-28T08:41:12.762Z"
   },
   {
    "duration": 11,
    "start_time": "2022-09-28T08:41:12.769Z"
   },
   {
    "duration": 4,
    "start_time": "2022-09-28T08:41:12.782Z"
   },
   {
    "duration": 13,
    "start_time": "2022-09-28T08:41:12.787Z"
   },
   {
    "duration": 22,
    "start_time": "2022-09-28T08:41:12.801Z"
   },
   {
    "duration": 14,
    "start_time": "2022-09-28T08:41:12.824Z"
   },
   {
    "duration": 7,
    "start_time": "2022-09-28T08:41:12.839Z"
   },
   {
    "duration": 13,
    "start_time": "2022-09-28T08:41:12.847Z"
   },
   {
    "duration": 6,
    "start_time": "2022-09-28T08:41:12.861Z"
   },
   {
    "duration": 15,
    "start_time": "2022-09-28T08:41:12.868Z"
   },
   {
    "duration": 270,
    "start_time": "2022-09-28T08:41:12.886Z"
   },
   {
    "duration": 6,
    "start_time": "2022-09-28T08:41:13.157Z"
   },
   {
    "duration": 13,
    "start_time": "2022-09-28T08:41:13.164Z"
   },
   {
    "duration": 25,
    "start_time": "2022-09-28T08:41:13.179Z"
   },
   {
    "duration": 2,
    "start_time": "2022-09-28T08:41:13.206Z"
   },
   {
    "duration": 6,
    "start_time": "2022-09-28T08:41:13.221Z"
   },
   {
    "duration": 18,
    "start_time": "2022-09-28T08:41:13.229Z"
   },
   {
    "duration": 334,
    "start_time": "2022-09-28T08:41:13.249Z"
   },
   {
    "duration": 4,
    "start_time": "2022-09-28T08:41:13.585Z"
   },
   {
    "duration": 14,
    "start_time": "2022-09-28T08:41:13.590Z"
   },
   {
    "duration": 246,
    "start_time": "2022-09-28T08:41:13.606Z"
   },
   {
    "duration": 310,
    "start_time": "2022-09-28T08:41:13.854Z"
   },
   {
    "duration": 164,
    "start_time": "2022-09-28T08:41:14.166Z"
   },
   {
    "duration": 126,
    "start_time": "2022-09-28T08:41:14.331Z"
   },
   {
    "duration": 128,
    "start_time": "2022-09-28T08:41:14.459Z"
   },
   {
    "duration": 120,
    "start_time": "2022-09-28T08:41:14.589Z"
   },
   {
    "duration": 151,
    "start_time": "2022-09-28T08:41:14.711Z"
   },
   {
    "duration": 150,
    "start_time": "2022-09-28T08:41:14.864Z"
   },
   {
    "duration": 106,
    "start_time": "2022-09-28T08:41:15.023Z"
   },
   {
    "duration": 0,
    "start_time": "2022-09-28T08:41:15.131Z"
   },
   {
    "duration": 0,
    "start_time": "2022-09-28T08:41:15.132Z"
   },
   {
    "duration": 0,
    "start_time": "2022-09-28T08:41:15.134Z"
   },
   {
    "duration": 0,
    "start_time": "2022-09-28T08:41:15.136Z"
   },
   {
    "duration": 0,
    "start_time": "2022-09-28T08:41:15.138Z"
   },
   {
    "duration": 0,
    "start_time": "2022-09-28T08:41:15.139Z"
   },
   {
    "duration": 167,
    "start_time": "2022-09-28T08:42:10.564Z"
   },
   {
    "duration": 132,
    "start_time": "2022-09-28T08:45:30.991Z"
   },
   {
    "duration": 129,
    "start_time": "2022-09-28T08:45:38.084Z"
   },
   {
    "duration": 108,
    "start_time": "2022-09-28T08:47:07.905Z"
   },
   {
    "duration": 140,
    "start_time": "2022-09-28T08:47:39.432Z"
   },
   {
    "duration": 14,
    "start_time": "2022-09-28T08:49:21.703Z"
   },
   {
    "duration": 15,
    "start_time": "2022-09-28T08:49:32.205Z"
   },
   {
    "duration": 108,
    "start_time": "2022-09-28T08:51:53.463Z"
   },
   {
    "duration": 1199,
    "start_time": "2022-09-28T08:53:22.808Z"
   },
   {
    "duration": 21,
    "start_time": "2022-09-28T08:53:24.009Z"
   },
   {
    "duration": 1812,
    "start_time": "2022-09-28T08:53:24.032Z"
   },
   {
    "duration": 5,
    "start_time": "2022-09-28T08:53:25.847Z"
   },
   {
    "duration": 10,
    "start_time": "2022-09-28T08:53:25.855Z"
   },
   {
    "duration": 5,
    "start_time": "2022-09-28T08:53:25.867Z"
   },
   {
    "duration": 12,
    "start_time": "2022-09-28T08:53:25.874Z"
   },
   {
    "duration": 10,
    "start_time": "2022-09-28T08:53:25.888Z"
   },
   {
    "duration": 22,
    "start_time": "2022-09-28T08:53:25.900Z"
   },
   {
    "duration": 6,
    "start_time": "2022-09-28T08:53:25.924Z"
   },
   {
    "duration": 7,
    "start_time": "2022-09-28T08:53:25.931Z"
   },
   {
    "duration": 9,
    "start_time": "2022-09-28T08:53:25.940Z"
   },
   {
    "duration": 8,
    "start_time": "2022-09-28T08:53:25.950Z"
   },
   {
    "duration": 315,
    "start_time": "2022-09-28T08:53:25.961Z"
   },
   {
    "duration": 5,
    "start_time": "2022-09-28T08:53:26.278Z"
   },
   {
    "duration": 12,
    "start_time": "2022-09-28T08:53:26.285Z"
   },
   {
    "duration": 30,
    "start_time": "2022-09-28T08:53:26.298Z"
   },
   {
    "duration": 2,
    "start_time": "2022-09-28T08:53:26.330Z"
   },
   {
    "duration": 7,
    "start_time": "2022-09-28T08:53:26.334Z"
   },
   {
    "duration": 13,
    "start_time": "2022-09-28T08:53:26.342Z"
   },
   {
    "duration": 338,
    "start_time": "2022-09-28T08:53:26.357Z"
   },
   {
    "duration": 4,
    "start_time": "2022-09-28T08:53:26.697Z"
   },
   {
    "duration": 18,
    "start_time": "2022-09-28T08:53:26.703Z"
   },
   {
    "duration": 244,
    "start_time": "2022-09-28T08:53:26.723Z"
   },
   {
    "duration": 236,
    "start_time": "2022-09-28T08:53:26.969Z"
   },
   {
    "duration": 271,
    "start_time": "2022-09-28T08:53:27.207Z"
   },
   {
    "duration": 142,
    "start_time": "2022-09-28T08:53:27.480Z"
   },
   {
    "duration": 131,
    "start_time": "2022-09-28T08:53:27.624Z"
   },
   {
    "duration": 121,
    "start_time": "2022-09-28T08:53:27.756Z"
   },
   {
    "duration": 161,
    "start_time": "2022-09-28T08:53:27.879Z"
   },
   {
    "duration": 157,
    "start_time": "2022-09-28T08:53:28.042Z"
   },
   {
    "duration": 122,
    "start_time": "2022-09-28T08:53:28.201Z"
   },
   {
    "duration": 146,
    "start_time": "2022-09-28T08:53:28.325Z"
   },
   {
    "duration": 135,
    "start_time": "2022-09-28T08:53:28.473Z"
   },
   {
    "duration": 162,
    "start_time": "2022-09-28T08:53:28.609Z"
   },
   {
    "duration": 152,
    "start_time": "2022-09-28T08:53:28.772Z"
   },
   {
    "duration": 141,
    "start_time": "2022-09-28T08:53:28.926Z"
   },
   {
    "duration": 141,
    "start_time": "2022-09-28T08:53:29.068Z"
   },
   {
    "duration": 227,
    "start_time": "2022-09-28T08:54:31.548Z"
   },
   {
    "duration": 20,
    "start_time": "2022-09-28T08:55:09.628Z"
   },
   {
    "duration": 103,
    "start_time": "2022-09-28T08:55:18.120Z"
   },
   {
    "duration": 111,
    "start_time": "2022-09-28T08:55:42.303Z"
   },
   {
    "duration": 109,
    "start_time": "2022-09-28T08:55:57.413Z"
   },
   {
    "duration": 133,
    "start_time": "2022-09-28T08:56:11.907Z"
   },
   {
    "duration": 112,
    "start_time": "2022-09-28T08:56:21.420Z"
   },
   {
    "duration": 110,
    "start_time": "2022-09-28T08:56:29.913Z"
   },
   {
    "duration": 105,
    "start_time": "2022-09-28T08:56:55.307Z"
   },
   {
    "duration": 116,
    "start_time": "2022-09-28T08:57:09.103Z"
   },
   {
    "duration": 104,
    "start_time": "2022-09-28T08:57:22.928Z"
   },
   {
    "duration": 1197,
    "start_time": "2022-09-28T08:58:23.314Z"
   },
   {
    "duration": 15,
    "start_time": "2022-09-28T08:58:24.513Z"
   },
   {
    "duration": 1879,
    "start_time": "2022-09-28T08:58:24.529Z"
   },
   {
    "duration": 4,
    "start_time": "2022-09-28T08:58:26.410Z"
   },
   {
    "duration": 14,
    "start_time": "2022-09-28T08:58:26.416Z"
   },
   {
    "duration": 6,
    "start_time": "2022-09-28T08:58:26.431Z"
   },
   {
    "duration": 16,
    "start_time": "2022-09-28T08:58:26.439Z"
   },
   {
    "duration": 11,
    "start_time": "2022-09-28T08:58:26.456Z"
   },
   {
    "duration": 9,
    "start_time": "2022-09-28T08:58:26.468Z"
   },
   {
    "duration": 8,
    "start_time": "2022-09-28T08:58:26.478Z"
   },
   {
    "duration": 6,
    "start_time": "2022-09-28T08:58:26.488Z"
   },
   {
    "duration": 5,
    "start_time": "2022-09-28T08:58:26.496Z"
   },
   {
    "duration": 23,
    "start_time": "2022-09-28T08:58:26.503Z"
   },
   {
    "duration": 262,
    "start_time": "2022-09-28T08:58:26.528Z"
   },
   {
    "duration": 6,
    "start_time": "2022-09-28T08:58:26.791Z"
   },
   {
    "duration": 11,
    "start_time": "2022-09-28T08:58:26.799Z"
   },
   {
    "duration": 29,
    "start_time": "2022-09-28T08:58:26.811Z"
   },
   {
    "duration": 2,
    "start_time": "2022-09-28T08:58:26.841Z"
   },
   {
    "duration": 12,
    "start_time": "2022-09-28T08:58:26.845Z"
   },
   {
    "duration": 16,
    "start_time": "2022-09-28T08:58:26.858Z"
   },
   {
    "duration": 314,
    "start_time": "2022-09-28T08:58:26.876Z"
   },
   {
    "duration": 4,
    "start_time": "2022-09-28T08:58:27.191Z"
   },
   {
    "duration": 9,
    "start_time": "2022-09-28T08:58:27.196Z"
   },
   {
    "duration": 263,
    "start_time": "2022-09-28T08:58:27.206Z"
   },
   {
    "duration": 227,
    "start_time": "2022-09-28T08:58:27.471Z"
   },
   {
    "duration": 250,
    "start_time": "2022-09-28T08:58:27.700Z"
   },
   {
    "duration": 118,
    "start_time": "2022-09-28T08:58:27.951Z"
   },
   {
    "duration": 123,
    "start_time": "2022-09-28T08:58:28.071Z"
   },
   {
    "duration": 1188,
    "start_time": "2022-09-28T08:59:15.539Z"
   },
   {
    "duration": 14,
    "start_time": "2022-09-28T08:59:16.728Z"
   },
   {
    "duration": 1860,
    "start_time": "2022-09-28T08:59:16.744Z"
   },
   {
    "duration": 4,
    "start_time": "2022-09-28T08:59:18.606Z"
   },
   {
    "duration": 13,
    "start_time": "2022-09-28T08:59:18.611Z"
   },
   {
    "duration": 3,
    "start_time": "2022-09-28T08:59:18.626Z"
   },
   {
    "duration": 10,
    "start_time": "2022-09-28T08:59:18.631Z"
   },
   {
    "duration": 11,
    "start_time": "2022-09-28T08:59:18.642Z"
   },
   {
    "duration": 12,
    "start_time": "2022-09-28T08:59:18.654Z"
   },
   {
    "duration": 6,
    "start_time": "2022-09-28T08:59:18.669Z"
   },
   {
    "duration": 8,
    "start_time": "2022-09-28T08:59:18.677Z"
   },
   {
    "duration": 5,
    "start_time": "2022-09-28T08:59:18.687Z"
   },
   {
    "duration": 6,
    "start_time": "2022-09-28T08:59:18.722Z"
   },
   {
    "duration": 255,
    "start_time": "2022-09-28T08:59:18.729Z"
   },
   {
    "duration": 5,
    "start_time": "2022-09-28T08:59:18.985Z"
   },
   {
    "duration": 15,
    "start_time": "2022-09-28T08:59:18.991Z"
   },
   {
    "duration": 35,
    "start_time": "2022-09-28T08:59:19.008Z"
   },
   {
    "duration": 2,
    "start_time": "2022-09-28T08:59:19.045Z"
   },
   {
    "duration": 6,
    "start_time": "2022-09-28T08:59:19.048Z"
   },
   {
    "duration": 14,
    "start_time": "2022-09-28T08:59:19.055Z"
   },
   {
    "duration": 312,
    "start_time": "2022-09-28T08:59:19.070Z"
   },
   {
    "duration": 4,
    "start_time": "2022-09-28T08:59:19.383Z"
   },
   {
    "duration": 28,
    "start_time": "2022-09-28T08:59:19.389Z"
   },
   {
    "duration": 231,
    "start_time": "2022-09-28T08:59:19.420Z"
   },
   {
    "duration": 219,
    "start_time": "2022-09-28T08:59:19.653Z"
   },
   {
    "duration": 238,
    "start_time": "2022-09-28T08:59:19.874Z"
   },
   {
    "duration": 127,
    "start_time": "2022-09-28T08:59:20.114Z"
   },
   {
    "duration": 130,
    "start_time": "2022-09-28T08:59:20.244Z"
   },
   {
    "duration": 1157,
    "start_time": "2022-09-28T09:01:44.273Z"
   },
   {
    "duration": 16,
    "start_time": "2022-09-28T09:01:45.432Z"
   },
   {
    "duration": 2103,
    "start_time": "2022-09-28T09:01:45.449Z"
   },
   {
    "duration": 4,
    "start_time": "2022-09-28T09:01:47.554Z"
   },
   {
    "duration": 12,
    "start_time": "2022-09-28T09:01:47.559Z"
   },
   {
    "duration": 8,
    "start_time": "2022-09-28T09:01:47.572Z"
   },
   {
    "duration": 14,
    "start_time": "2022-09-28T09:01:47.582Z"
   },
   {
    "duration": 15,
    "start_time": "2022-09-28T09:01:47.598Z"
   },
   {
    "duration": 30,
    "start_time": "2022-09-28T09:01:47.615Z"
   },
   {
    "duration": 11,
    "start_time": "2022-09-28T09:01:47.648Z"
   },
   {
    "duration": 10,
    "start_time": "2022-09-28T09:01:47.660Z"
   },
   {
    "duration": 13,
    "start_time": "2022-09-28T09:01:47.671Z"
   },
   {
    "duration": 9,
    "start_time": "2022-09-28T09:01:47.685Z"
   },
   {
    "duration": 352,
    "start_time": "2022-09-28T09:01:47.695Z"
   },
   {
    "duration": 6,
    "start_time": "2022-09-28T09:01:48.049Z"
   },
   {
    "duration": 1356,
    "start_time": "2022-09-28T09:02:10.743Z"
   },
   {
    "duration": 14,
    "start_time": "2022-09-28T09:02:12.100Z"
   },
   {
    "duration": 2083,
    "start_time": "2022-09-28T09:02:12.125Z"
   },
   {
    "duration": 4,
    "start_time": "2022-09-28T09:02:14.210Z"
   },
   {
    "duration": 21,
    "start_time": "2022-09-28T09:02:14.215Z"
   },
   {
    "duration": 10,
    "start_time": "2022-09-28T09:02:14.238Z"
   },
   {
    "duration": 13,
    "start_time": "2022-09-28T09:02:14.249Z"
   },
   {
    "duration": 14,
    "start_time": "2022-09-28T09:02:14.263Z"
   },
   {
    "duration": 9,
    "start_time": "2022-09-28T09:02:14.278Z"
   },
   {
    "duration": 6,
    "start_time": "2022-09-28T09:02:14.290Z"
   },
   {
    "duration": 11,
    "start_time": "2022-09-28T09:02:14.297Z"
   },
   {
    "duration": 21,
    "start_time": "2022-09-28T09:02:14.309Z"
   },
   {
    "duration": 8,
    "start_time": "2022-09-28T09:02:14.331Z"
   },
   {
    "duration": 267,
    "start_time": "2022-09-28T09:02:14.341Z"
   },
   {
    "duration": 5,
    "start_time": "2022-09-28T09:02:14.609Z"
   },
   {
    "duration": 21,
    "start_time": "2022-09-28T09:02:14.623Z"
   },
   {
    "duration": 21,
    "start_time": "2022-09-28T09:02:14.645Z"
   },
   {
    "duration": 2,
    "start_time": "2022-09-28T09:02:14.668Z"
   },
   {
    "duration": 10,
    "start_time": "2022-09-28T09:02:14.672Z"
   },
   {
    "duration": 13,
    "start_time": "2022-09-28T09:02:14.683Z"
   },
   {
    "duration": 338,
    "start_time": "2022-09-28T09:02:14.697Z"
   },
   {
    "duration": 4,
    "start_time": "2022-09-28T09:02:15.037Z"
   },
   {
    "duration": 14,
    "start_time": "2022-09-28T09:02:15.042Z"
   },
   {
    "duration": 248,
    "start_time": "2022-09-28T09:02:15.057Z"
   },
   {
    "duration": 243,
    "start_time": "2022-09-28T09:02:15.308Z"
   },
   {
    "duration": 241,
    "start_time": "2022-09-28T09:02:15.552Z"
   },
   {
    "duration": 153,
    "start_time": "2022-09-28T09:02:15.794Z"
   },
   {
    "duration": 155,
    "start_time": "2022-09-28T09:02:15.950Z"
   },
   {
    "duration": 1269,
    "start_time": "2022-09-28T09:03:05.753Z"
   },
   {
    "duration": 16,
    "start_time": "2022-09-28T09:03:07.024Z"
   },
   {
    "duration": 1930,
    "start_time": "2022-09-28T09:03:07.042Z"
   },
   {
    "duration": 4,
    "start_time": "2022-09-28T09:03:08.974Z"
   },
   {
    "duration": 9,
    "start_time": "2022-09-28T09:03:08.980Z"
   },
   {
    "duration": 13,
    "start_time": "2022-09-28T09:03:08.991Z"
   },
   {
    "duration": 23,
    "start_time": "2022-09-28T09:03:09.006Z"
   },
   {
    "duration": 17,
    "start_time": "2022-09-28T09:03:09.040Z"
   },
   {
    "duration": 13,
    "start_time": "2022-09-28T09:03:09.059Z"
   },
   {
    "duration": 19,
    "start_time": "2022-09-28T09:03:09.074Z"
   },
   {
    "duration": 17,
    "start_time": "2022-09-28T09:03:09.095Z"
   },
   {
    "duration": 34,
    "start_time": "2022-09-28T09:03:09.113Z"
   },
   {
    "duration": 17,
    "start_time": "2022-09-28T09:03:09.148Z"
   },
   {
    "duration": 297,
    "start_time": "2022-09-28T09:03:09.167Z"
   },
   {
    "duration": 5,
    "start_time": "2022-09-28T09:03:09.466Z"
   },
   {
    "duration": 18,
    "start_time": "2022-09-28T09:03:09.473Z"
   },
   {
    "duration": 65,
    "start_time": "2022-09-28T09:03:09.493Z"
   },
   {
    "duration": 7,
    "start_time": "2022-09-28T09:03:09.559Z"
   },
   {
    "duration": 30,
    "start_time": "2022-09-28T09:03:09.567Z"
   },
   {
    "duration": 46,
    "start_time": "2022-09-28T09:03:09.599Z"
   },
   {
    "duration": 356,
    "start_time": "2022-09-28T09:03:09.646Z"
   },
   {
    "duration": 4,
    "start_time": "2022-09-28T09:03:10.004Z"
   },
   {
    "duration": 43,
    "start_time": "2022-09-28T09:03:10.009Z"
   },
   {
    "duration": 287,
    "start_time": "2022-09-28T09:03:10.054Z"
   },
   {
    "duration": 223,
    "start_time": "2022-09-28T09:03:10.343Z"
   },
   {
    "duration": 245,
    "start_time": "2022-09-28T09:03:10.567Z"
   },
   {
    "duration": 137,
    "start_time": "2022-09-28T09:03:10.815Z"
   },
   {
    "duration": 162,
    "start_time": "2022-09-28T09:03:10.955Z"
   },
   {
    "duration": 117,
    "start_time": "2022-09-28T09:03:11.118Z"
   },
   {
    "duration": 159,
    "start_time": "2022-09-28T09:03:11.242Z"
   },
   {
    "duration": 264,
    "start_time": "2022-09-28T09:03:11.405Z"
   },
   {
    "duration": 187,
    "start_time": "2022-09-28T09:03:11.671Z"
   },
   {
    "duration": 191,
    "start_time": "2022-09-28T09:03:11.861Z"
   },
   {
    "duration": 149,
    "start_time": "2022-09-28T09:03:12.053Z"
   },
   {
    "duration": 164,
    "start_time": "2022-09-28T09:03:12.204Z"
   },
   {
    "duration": 147,
    "start_time": "2022-09-28T09:03:12.370Z"
   },
   {
    "duration": 183,
    "start_time": "2022-09-28T09:03:12.518Z"
   },
   {
    "duration": 202,
    "start_time": "2022-09-28T09:03:12.703Z"
   },
   {
    "duration": 209,
    "start_time": "2022-09-28T09:04:18.559Z"
   },
   {
    "duration": 124,
    "start_time": "2022-09-28T09:04:32.308Z"
   },
   {
    "duration": 130,
    "start_time": "2022-09-28T09:04:38.342Z"
   },
   {
    "duration": 171,
    "start_time": "2022-09-28T09:04:46.010Z"
   },
   {
    "duration": 106,
    "start_time": "2022-09-28T09:05:09.906Z"
   },
   {
    "duration": 146,
    "start_time": "2022-09-28T09:05:15.907Z"
   },
   {
    "duration": 2,
    "start_time": "2022-09-28T09:10:08.638Z"
   },
   {
    "duration": 1215,
    "start_time": "2022-09-28T09:10:18.409Z"
   },
   {
    "duration": 19,
    "start_time": "2022-09-28T09:10:19.630Z"
   },
   {
    "duration": 1934,
    "start_time": "2022-09-28T09:10:19.650Z"
   },
   {
    "duration": 3,
    "start_time": "2022-09-28T09:10:21.586Z"
   },
   {
    "duration": 9,
    "start_time": "2022-09-28T09:10:21.591Z"
   },
   {
    "duration": 4,
    "start_time": "2022-09-28T09:10:21.601Z"
   },
   {
    "duration": 13,
    "start_time": "2022-09-28T09:10:21.606Z"
   },
   {
    "duration": 13,
    "start_time": "2022-09-28T09:10:21.621Z"
   },
   {
    "duration": 19,
    "start_time": "2022-09-28T09:10:21.637Z"
   },
   {
    "duration": 8,
    "start_time": "2022-09-28T09:10:21.658Z"
   },
   {
    "duration": 6,
    "start_time": "2022-09-28T09:10:21.669Z"
   },
   {
    "duration": 6,
    "start_time": "2022-09-28T09:10:21.676Z"
   },
   {
    "duration": 6,
    "start_time": "2022-09-28T09:10:21.683Z"
   },
   {
    "duration": 286,
    "start_time": "2022-09-28T09:10:21.693Z"
   },
   {
    "duration": 5,
    "start_time": "2022-09-28T09:10:21.981Z"
   },
   {
    "duration": 10,
    "start_time": "2022-09-28T09:10:21.987Z"
   },
   {
    "duration": 38,
    "start_time": "2022-09-28T09:10:21.999Z"
   },
   {
    "duration": 2,
    "start_time": "2022-09-28T09:10:22.039Z"
   },
   {
    "duration": 9,
    "start_time": "2022-09-28T09:10:22.042Z"
   },
   {
    "duration": 15,
    "start_time": "2022-09-28T09:10:22.053Z"
   },
   {
    "duration": 366,
    "start_time": "2022-09-28T09:10:22.070Z"
   },
   {
    "duration": 4,
    "start_time": "2022-09-28T09:10:22.438Z"
   },
   {
    "duration": 5,
    "start_time": "2022-09-28T09:10:22.444Z"
   },
   {
    "duration": 259,
    "start_time": "2022-09-28T09:10:22.451Z"
   },
   {
    "duration": 232,
    "start_time": "2022-09-28T09:10:22.712Z"
   },
   {
    "duration": 241,
    "start_time": "2022-09-28T09:10:22.946Z"
   },
   {
    "duration": 160,
    "start_time": "2022-09-28T09:10:23.189Z"
   },
   {
    "duration": 133,
    "start_time": "2022-09-28T09:10:23.351Z"
   },
   {
    "duration": 126,
    "start_time": "2022-09-28T09:10:23.486Z"
   },
   {
    "duration": 158,
    "start_time": "2022-09-28T09:10:23.614Z"
   },
   {
    "duration": 166,
    "start_time": "2022-09-28T09:10:23.774Z"
   },
   {
    "duration": 111,
    "start_time": "2022-09-28T09:10:23.942Z"
   },
   {
    "duration": 136,
    "start_time": "2022-09-28T09:10:24.055Z"
   },
   {
    "duration": 147,
    "start_time": "2022-09-28T09:10:24.193Z"
   },
   {
    "duration": 155,
    "start_time": "2022-09-28T09:10:24.342Z"
   },
   {
    "duration": 151,
    "start_time": "2022-09-28T09:10:24.499Z"
   },
   {
    "duration": 140,
    "start_time": "2022-09-28T09:10:24.652Z"
   },
   {
    "duration": 143,
    "start_time": "2022-09-28T09:10:24.794Z"
   },
   {
    "duration": 387,
    "start_time": "2022-09-28T09:18:58.566Z"
   },
   {
    "duration": 209,
    "start_time": "2022-09-28T09:19:27.291Z"
   },
   {
    "duration": 7264,
    "start_time": "2022-09-28T09:20:01.105Z"
   },
   {
    "duration": 176,
    "start_time": "2022-09-28T09:20:27.895Z"
   },
   {
    "duration": 163,
    "start_time": "2022-09-28T09:21:51.132Z"
   },
   {
    "duration": 6,
    "start_time": "2022-09-28T09:24:20.039Z"
   },
   {
    "duration": 9,
    "start_time": "2022-09-28T09:24:23.358Z"
   },
   {
    "duration": 200,
    "start_time": "2022-09-28T09:24:33.603Z"
   },
   {
    "duration": 160,
    "start_time": "2022-09-28T09:25:15.545Z"
   },
   {
    "duration": 189,
    "start_time": "2022-09-28T09:27:07.242Z"
   },
   {
    "duration": 243,
    "start_time": "2022-09-28T09:27:27.085Z"
   },
   {
    "duration": 1423,
    "start_time": "2022-09-28T09:27:42.621Z"
   },
   {
    "duration": 23,
    "start_time": "2022-09-28T09:27:44.047Z"
   },
   {
    "duration": 2144,
    "start_time": "2022-09-28T09:27:44.072Z"
   },
   {
    "duration": 9,
    "start_time": "2022-09-28T09:27:46.220Z"
   },
   {
    "duration": 45,
    "start_time": "2022-09-28T09:27:46.231Z"
   },
   {
    "duration": 14,
    "start_time": "2022-09-28T09:27:46.278Z"
   },
   {
    "duration": 31,
    "start_time": "2022-09-28T09:27:46.295Z"
   },
   {
    "duration": 49,
    "start_time": "2022-09-28T09:27:46.332Z"
   },
   {
    "duration": 65,
    "start_time": "2022-09-28T09:27:46.383Z"
   },
   {
    "duration": 29,
    "start_time": "2022-09-28T09:27:46.451Z"
   },
   {
    "duration": 11,
    "start_time": "2022-09-28T09:27:46.482Z"
   },
   {
    "duration": 10,
    "start_time": "2022-09-28T09:27:46.495Z"
   },
   {
    "duration": 7,
    "start_time": "2022-09-28T09:27:46.507Z"
   },
   {
    "duration": 295,
    "start_time": "2022-09-28T09:27:46.515Z"
   },
   {
    "duration": 9,
    "start_time": "2022-09-28T09:27:46.812Z"
   },
   {
    "duration": 33,
    "start_time": "2022-09-28T09:27:46.824Z"
   },
   {
    "duration": 36,
    "start_time": "2022-09-28T09:27:46.860Z"
   },
   {
    "duration": 9,
    "start_time": "2022-09-28T09:27:46.898Z"
   },
   {
    "duration": 39,
    "start_time": "2022-09-28T09:27:46.909Z"
   },
   {
    "duration": 23,
    "start_time": "2022-09-28T09:27:46.950Z"
   },
   {
    "duration": 420,
    "start_time": "2022-09-28T09:27:46.975Z"
   },
   {
    "duration": 5,
    "start_time": "2022-09-28T09:27:47.397Z"
   },
   {
    "duration": 18,
    "start_time": "2022-09-28T09:27:47.406Z"
   },
   {
    "duration": 335,
    "start_time": "2022-09-28T09:27:47.427Z"
   },
   {
    "duration": 284,
    "start_time": "2022-09-28T09:27:47.763Z"
   },
   {
    "duration": 277,
    "start_time": "2022-09-28T09:27:48.049Z"
   },
   {
    "duration": 146,
    "start_time": "2022-09-28T09:27:48.328Z"
   },
   {
    "duration": 156,
    "start_time": "2022-09-28T09:27:48.478Z"
   },
   {
    "duration": 137,
    "start_time": "2022-09-28T09:27:48.639Z"
   },
   {
    "duration": 166,
    "start_time": "2022-09-28T09:27:48.777Z"
   },
   {
    "duration": 184,
    "start_time": "2022-09-28T09:27:48.945Z"
   },
   {
    "duration": 132,
    "start_time": "2022-09-28T09:27:49.133Z"
   },
   {
    "duration": 142,
    "start_time": "2022-09-28T09:27:49.267Z"
   },
   {
    "duration": 205,
    "start_time": "2022-09-28T09:27:49.411Z"
   },
   {
    "duration": 193,
    "start_time": "2022-09-28T09:27:49.618Z"
   },
   {
    "duration": 173,
    "start_time": "2022-09-28T09:27:49.813Z"
   },
   {
    "duration": 174,
    "start_time": "2022-09-28T09:27:49.988Z"
   },
   {
    "duration": 156,
    "start_time": "2022-09-28T09:27:50.164Z"
   },
   {
    "duration": 304,
    "start_time": "2022-09-28T09:33:47.300Z"
   },
   {
    "duration": 180,
    "start_time": "2022-09-28T09:35:08.397Z"
   },
   {
    "duration": 167,
    "start_time": "2022-09-28T09:35:33.972Z"
   },
   {
    "duration": 176,
    "start_time": "2022-09-28T09:36:51.699Z"
   },
   {
    "duration": 149,
    "start_time": "2022-09-28T09:37:50.797Z"
   },
   {
    "duration": 152,
    "start_time": "2022-09-28T09:38:04.837Z"
   },
   {
    "duration": 235,
    "start_time": "2022-09-28T09:41:13.337Z"
   },
   {
    "duration": 216,
    "start_time": "2022-09-28T09:42:21.781Z"
   },
   {
    "duration": 330,
    "start_time": "2022-09-28T09:42:57.433Z"
   },
   {
    "duration": 10,
    "start_time": "2022-09-28T09:43:43.661Z"
   },
   {
    "duration": 1209,
    "start_time": "2022-09-28T09:43:55.033Z"
   },
   {
    "duration": 16,
    "start_time": "2022-09-28T09:43:56.244Z"
   },
   {
    "duration": 1887,
    "start_time": "2022-09-28T09:43:56.261Z"
   },
   {
    "duration": 4,
    "start_time": "2022-09-28T09:43:58.150Z"
   },
   {
    "duration": 8,
    "start_time": "2022-09-28T09:43:58.157Z"
   },
   {
    "duration": 5,
    "start_time": "2022-09-28T09:43:58.166Z"
   },
   {
    "duration": 11,
    "start_time": "2022-09-28T09:43:58.172Z"
   },
   {
    "duration": 10,
    "start_time": "2022-09-28T09:43:58.185Z"
   },
   {
    "duration": 35,
    "start_time": "2022-09-28T09:43:58.197Z"
   },
   {
    "duration": 7,
    "start_time": "2022-09-28T09:43:58.234Z"
   },
   {
    "duration": 8,
    "start_time": "2022-09-28T09:43:58.242Z"
   },
   {
    "duration": 18,
    "start_time": "2022-09-28T09:43:58.251Z"
   },
   {
    "duration": 25,
    "start_time": "2022-09-28T09:43:58.271Z"
   },
   {
    "duration": 282,
    "start_time": "2022-09-28T09:43:58.300Z"
   },
   {
    "duration": 6,
    "start_time": "2022-09-28T09:43:58.584Z"
   },
   {
    "duration": 9,
    "start_time": "2022-09-28T09:43:58.592Z"
   },
   {
    "duration": 33,
    "start_time": "2022-09-28T09:43:58.602Z"
   },
   {
    "duration": 2,
    "start_time": "2022-09-28T09:43:58.637Z"
   },
   {
    "duration": 12,
    "start_time": "2022-09-28T09:43:58.641Z"
   },
   {
    "duration": 19,
    "start_time": "2022-09-28T09:43:58.655Z"
   },
   {
    "duration": 328,
    "start_time": "2022-09-28T09:43:58.676Z"
   },
   {
    "duration": 5,
    "start_time": "2022-09-28T09:43:59.005Z"
   },
   {
    "duration": 15,
    "start_time": "2022-09-28T09:43:59.011Z"
   },
   {
    "duration": 265,
    "start_time": "2022-09-28T09:43:59.027Z"
   },
   {
    "duration": 247,
    "start_time": "2022-09-28T09:43:59.294Z"
   },
   {
    "duration": 221,
    "start_time": "2022-09-28T09:43:59.543Z"
   },
   {
    "duration": 122,
    "start_time": "2022-09-28T09:43:59.766Z"
   },
   {
    "duration": 120,
    "start_time": "2022-09-28T09:43:59.889Z"
   },
   {
    "duration": 154,
    "start_time": "2022-09-28T09:44:00.011Z"
   },
   {
    "duration": 151,
    "start_time": "2022-09-28T09:44:00.167Z"
   },
   {
    "duration": 112,
    "start_time": "2022-09-28T09:44:00.333Z"
   },
   {
    "duration": 132,
    "start_time": "2022-09-28T09:44:00.446Z"
   },
   {
    "duration": 166,
    "start_time": "2022-09-28T09:44:00.580Z"
   },
   {
    "duration": 169,
    "start_time": "2022-09-28T09:44:00.747Z"
   },
   {
    "duration": 144,
    "start_time": "2022-09-28T09:44:00.917Z"
   },
   {
    "duration": 174,
    "start_time": "2022-09-28T09:44:01.063Z"
   },
   {
    "duration": 135,
    "start_time": "2022-09-28T09:44:01.238Z"
   },
   {
    "duration": 320,
    "start_time": "2022-09-28T09:44:55.242Z"
   },
   {
    "duration": 216,
    "start_time": "2022-09-28T09:45:05.663Z"
   },
   {
    "duration": 140,
    "start_time": "2022-09-28T09:46:08.254Z"
   },
   {
    "duration": 11,
    "start_time": "2022-09-28T09:46:34.886Z"
   },
   {
    "duration": 209,
    "start_time": "2022-09-28T09:46:44.660Z"
   },
   {
    "duration": 254,
    "start_time": "2022-09-28T09:48:52.995Z"
   },
   {
    "duration": 222,
    "start_time": "2022-09-28T09:49:11.084Z"
   },
   {
    "duration": 336,
    "start_time": "2022-09-28T09:49:33.005Z"
   },
   {
    "duration": 237,
    "start_time": "2022-09-28T09:49:40.076Z"
   },
   {
    "duration": 1258,
    "start_time": "2022-09-28T09:49:50.016Z"
   },
   {
    "duration": 14,
    "start_time": "2022-09-28T09:49:51.276Z"
   },
   {
    "duration": 2177,
    "start_time": "2022-09-28T09:49:51.291Z"
   },
   {
    "duration": 5,
    "start_time": "2022-09-28T09:49:53.470Z"
   },
   {
    "duration": 16,
    "start_time": "2022-09-28T09:49:53.477Z"
   },
   {
    "duration": 6,
    "start_time": "2022-09-28T09:49:53.494Z"
   },
   {
    "duration": 13,
    "start_time": "2022-09-28T09:49:53.502Z"
   },
   {
    "duration": 29,
    "start_time": "2022-09-28T09:49:53.517Z"
   },
   {
    "duration": 10,
    "start_time": "2022-09-28T09:49:53.548Z"
   },
   {
    "duration": 10,
    "start_time": "2022-09-28T09:49:53.559Z"
   },
   {
    "duration": 14,
    "start_time": "2022-09-28T09:49:53.570Z"
   },
   {
    "duration": 12,
    "start_time": "2022-09-28T09:49:53.586Z"
   },
   {
    "duration": 10,
    "start_time": "2022-09-28T09:49:53.600Z"
   },
   {
    "duration": 298,
    "start_time": "2022-09-28T09:49:53.613Z"
   },
   {
    "duration": 13,
    "start_time": "2022-09-28T09:49:53.912Z"
   },
   {
    "duration": 9,
    "start_time": "2022-09-28T09:49:53.936Z"
   },
   {
    "duration": 30,
    "start_time": "2022-09-28T09:49:53.947Z"
   },
   {
    "duration": 3,
    "start_time": "2022-09-28T09:49:53.979Z"
   },
   {
    "duration": 14,
    "start_time": "2022-09-28T09:49:53.984Z"
   },
   {
    "duration": 28,
    "start_time": "2022-09-28T09:49:54.000Z"
   },
   {
    "duration": 342,
    "start_time": "2022-09-28T09:49:54.033Z"
   },
   {
    "duration": 3,
    "start_time": "2022-09-28T09:49:54.377Z"
   },
   {
    "duration": 17,
    "start_time": "2022-09-28T09:49:54.382Z"
   },
   {
    "duration": 270,
    "start_time": "2022-09-28T09:49:54.400Z"
   },
   {
    "duration": 245,
    "start_time": "2022-09-28T09:49:54.671Z"
   },
   {
    "duration": 271,
    "start_time": "2022-09-28T09:49:54.917Z"
   },
   {
    "duration": 148,
    "start_time": "2022-09-28T09:49:55.191Z"
   },
   {
    "duration": 126,
    "start_time": "2022-09-28T09:49:55.341Z"
   },
   {
    "duration": 125,
    "start_time": "2022-09-28T09:49:55.469Z"
   },
   {
    "duration": 174,
    "start_time": "2022-09-28T09:49:55.596Z"
   },
   {
    "duration": 165,
    "start_time": "2022-09-28T09:49:55.772Z"
   },
   {
    "duration": 131,
    "start_time": "2022-09-28T09:49:55.939Z"
   },
   {
    "duration": 183,
    "start_time": "2022-09-28T09:49:56.072Z"
   },
   {
    "duration": 184,
    "start_time": "2022-09-28T09:49:56.257Z"
   },
   {
    "duration": 191,
    "start_time": "2022-09-28T09:49:56.444Z"
   },
   {
    "duration": 147,
    "start_time": "2022-09-28T09:49:56.639Z"
   },
   {
    "duration": 154,
    "start_time": "2022-09-28T09:49:56.788Z"
   },
   {
    "duration": 139,
    "start_time": "2022-09-28T09:49:56.944Z"
   },
   {
    "duration": 353,
    "start_time": "2022-09-28T09:51:01.843Z"
   },
   {
    "duration": 244,
    "start_time": "2022-09-28T09:52:39.732Z"
   },
   {
    "duration": 1353,
    "start_time": "2022-09-28T09:52:51.602Z"
   },
   {
    "duration": 15,
    "start_time": "2022-09-28T09:52:52.957Z"
   },
   {
    "duration": 2082,
    "start_time": "2022-09-28T09:52:52.974Z"
   },
   {
    "duration": 5,
    "start_time": "2022-09-28T09:52:55.059Z"
   },
   {
    "duration": 12,
    "start_time": "2022-09-28T09:52:55.067Z"
   },
   {
    "duration": 6,
    "start_time": "2022-09-28T09:52:55.081Z"
   },
   {
    "duration": 13,
    "start_time": "2022-09-28T09:52:55.088Z"
   },
   {
    "duration": 17,
    "start_time": "2022-09-28T09:52:55.103Z"
   },
   {
    "duration": 19,
    "start_time": "2022-09-28T09:52:55.122Z"
   },
   {
    "duration": 9,
    "start_time": "2022-09-28T09:52:55.145Z"
   },
   {
    "duration": 7,
    "start_time": "2022-09-28T09:52:55.156Z"
   },
   {
    "duration": 8,
    "start_time": "2022-09-28T09:52:55.165Z"
   },
   {
    "duration": 6,
    "start_time": "2022-09-28T09:52:55.175Z"
   },
   {
    "duration": 309,
    "start_time": "2022-09-28T09:52:55.183Z"
   },
   {
    "duration": 5,
    "start_time": "2022-09-28T09:52:55.494Z"
   },
   {
    "duration": 26,
    "start_time": "2022-09-28T09:52:55.500Z"
   },
   {
    "duration": 28,
    "start_time": "2022-09-28T09:52:55.536Z"
   },
   {
    "duration": 3,
    "start_time": "2022-09-28T09:52:55.566Z"
   },
   {
    "duration": 9,
    "start_time": "2022-09-28T09:52:55.570Z"
   },
   {
    "duration": 16,
    "start_time": "2022-09-28T09:52:55.581Z"
   },
   {
    "duration": 331,
    "start_time": "2022-09-28T09:52:55.598Z"
   },
   {
    "duration": 4,
    "start_time": "2022-09-28T09:52:55.930Z"
   },
   {
    "duration": 9,
    "start_time": "2022-09-28T09:52:55.936Z"
   },
   {
    "duration": 310,
    "start_time": "2022-09-28T09:52:55.947Z"
   },
   {
    "duration": 288,
    "start_time": "2022-09-28T09:52:56.259Z"
   },
   {
    "duration": 249,
    "start_time": "2022-09-28T09:52:56.548Z"
   },
   {
    "duration": 143,
    "start_time": "2022-09-28T09:52:56.798Z"
   },
   {
    "duration": 136,
    "start_time": "2022-09-28T09:52:56.944Z"
   },
   {
    "duration": 131,
    "start_time": "2022-09-28T09:52:57.082Z"
   },
   {
    "duration": 1144,
    "start_time": "2022-09-28T09:53:16.082Z"
   },
   {
    "duration": 19,
    "start_time": "2022-09-28T09:53:17.228Z"
   },
   {
    "duration": 1959,
    "start_time": "2022-09-28T09:53:17.249Z"
   },
   {
    "duration": 4,
    "start_time": "2022-09-28T09:53:19.210Z"
   },
   {
    "duration": 15,
    "start_time": "2022-09-28T09:53:19.216Z"
   },
   {
    "duration": 9,
    "start_time": "2022-09-28T09:53:19.236Z"
   },
   {
    "duration": 12,
    "start_time": "2022-09-28T09:53:19.247Z"
   },
   {
    "duration": 13,
    "start_time": "2022-09-28T09:53:19.261Z"
   },
   {
    "duration": 39,
    "start_time": "2022-09-28T09:53:19.276Z"
   },
   {
    "duration": 17,
    "start_time": "2022-09-28T09:53:19.317Z"
   },
   {
    "duration": 19,
    "start_time": "2022-09-28T09:53:19.336Z"
   },
   {
    "duration": 11,
    "start_time": "2022-09-28T09:53:19.357Z"
   },
   {
    "duration": 29,
    "start_time": "2022-09-28T09:53:19.369Z"
   },
   {
    "duration": 334,
    "start_time": "2022-09-28T09:53:19.402Z"
   },
   {
    "duration": 6,
    "start_time": "2022-09-28T09:53:19.738Z"
   },
   {
    "duration": 46,
    "start_time": "2022-09-28T09:53:19.746Z"
   },
   {
    "duration": 50,
    "start_time": "2022-09-28T09:53:19.793Z"
   },
   {
    "duration": 27,
    "start_time": "2022-09-28T09:53:19.844Z"
   },
   {
    "duration": 35,
    "start_time": "2022-09-28T09:53:19.872Z"
   },
   {
    "duration": 41,
    "start_time": "2022-09-28T09:53:19.909Z"
   },
   {
    "duration": 320,
    "start_time": "2022-09-28T09:53:19.952Z"
   },
   {
    "duration": 4,
    "start_time": "2022-09-28T09:53:20.273Z"
   },
   {
    "duration": 18,
    "start_time": "2022-09-28T09:53:20.278Z"
   },
   {
    "duration": 259,
    "start_time": "2022-09-28T09:53:20.297Z"
   },
   {
    "duration": 235,
    "start_time": "2022-09-28T09:53:20.558Z"
   },
   {
    "duration": 252,
    "start_time": "2022-09-28T09:53:20.794Z"
   },
   {
    "duration": 138,
    "start_time": "2022-09-28T09:53:21.047Z"
   },
   {
    "duration": 139,
    "start_time": "2022-09-28T09:53:21.187Z"
   },
   {
    "duration": 126,
    "start_time": "2022-09-28T09:53:21.328Z"
   },
   {
    "duration": 163,
    "start_time": "2022-09-28T09:53:21.455Z"
   },
   {
    "duration": 160,
    "start_time": "2022-09-28T09:53:21.619Z"
   },
   {
    "duration": 118,
    "start_time": "2022-09-28T09:53:21.780Z"
   },
   {
    "duration": 138,
    "start_time": "2022-09-28T09:53:21.900Z"
   },
   {
    "duration": 152,
    "start_time": "2022-09-28T09:53:22.040Z"
   },
   {
    "duration": 166,
    "start_time": "2022-09-28T09:53:22.194Z"
   },
   {
    "duration": 150,
    "start_time": "2022-09-28T09:53:22.361Z"
   },
   {
    "duration": 144,
    "start_time": "2022-09-28T09:53:22.512Z"
   },
   {
    "duration": 135,
    "start_time": "2022-09-28T09:53:22.658Z"
   },
   {
    "duration": 358,
    "start_time": "2022-09-28T10:01:36.961Z"
   },
   {
    "duration": 250,
    "start_time": "2022-09-28T10:02:05.642Z"
   },
   {
    "duration": 218,
    "start_time": "2022-09-28T10:02:50.412Z"
   },
   {
    "duration": 148,
    "start_time": "2022-09-28T10:03:55.217Z"
   },
   {
    "duration": 195,
    "start_time": "2022-09-28T10:04:47.541Z"
   },
   {
    "duration": 1258,
    "start_time": "2022-09-28T10:16:17.140Z"
   },
   {
    "duration": 14,
    "start_time": "2022-09-28T10:16:18.400Z"
   },
   {
    "duration": 1767,
    "start_time": "2022-09-28T10:16:18.421Z"
   },
   {
    "duration": 4,
    "start_time": "2022-09-28T10:16:20.189Z"
   },
   {
    "duration": 8,
    "start_time": "2022-09-28T10:16:20.196Z"
   },
   {
    "duration": 6,
    "start_time": "2022-09-28T10:16:20.206Z"
   },
   {
    "duration": 12,
    "start_time": "2022-09-28T10:16:20.213Z"
   },
   {
    "duration": 12,
    "start_time": "2022-09-28T10:16:20.226Z"
   },
   {
    "duration": 19,
    "start_time": "2022-09-28T10:16:20.240Z"
   },
   {
    "duration": 8,
    "start_time": "2022-09-28T10:16:20.261Z"
   },
   {
    "duration": 10,
    "start_time": "2022-09-28T10:16:20.271Z"
   },
   {
    "duration": 6,
    "start_time": "2022-09-28T10:16:20.282Z"
   },
   {
    "duration": 39,
    "start_time": "2022-09-28T10:16:20.289Z"
   },
   {
    "duration": 281,
    "start_time": "2022-09-28T10:16:20.331Z"
   },
   {
    "duration": 10,
    "start_time": "2022-09-28T10:16:20.614Z"
   },
   {
    "duration": 9,
    "start_time": "2022-09-28T10:16:20.625Z"
   },
   {
    "duration": 26,
    "start_time": "2022-09-28T10:16:20.636Z"
   },
   {
    "duration": 3,
    "start_time": "2022-09-28T10:16:20.663Z"
   },
   {
    "duration": 8,
    "start_time": "2022-09-28T10:16:20.667Z"
   },
   {
    "duration": 14,
    "start_time": "2022-09-28T10:16:20.676Z"
   },
   {
    "duration": 315,
    "start_time": "2022-09-28T10:16:20.692Z"
   },
   {
    "duration": 6,
    "start_time": "2022-09-28T10:16:21.009Z"
   },
   {
    "duration": 4,
    "start_time": "2022-09-28T10:16:21.022Z"
   },
   {
    "duration": 237,
    "start_time": "2022-09-28T10:16:21.027Z"
   },
   {
    "duration": 232,
    "start_time": "2022-09-28T10:16:21.266Z"
   },
   {
    "duration": 247,
    "start_time": "2022-09-28T10:16:21.500Z"
   },
   {
    "duration": 129,
    "start_time": "2022-09-28T10:16:21.749Z"
   },
   {
    "duration": 147,
    "start_time": "2022-09-28T10:16:21.879Z"
   },
   {
    "duration": 111,
    "start_time": "2022-09-28T10:16:22.027Z"
   },
   {
    "duration": 147,
    "start_time": "2022-09-28T10:16:22.139Z"
   },
   {
    "duration": 145,
    "start_time": "2022-09-28T10:16:22.288Z"
   },
   {
    "duration": 123,
    "start_time": "2022-09-28T10:16:22.434Z"
   },
   {
    "duration": 118,
    "start_time": "2022-09-28T10:16:22.558Z"
   },
   {
    "duration": 133,
    "start_time": "2022-09-28T10:16:22.677Z"
   },
   {
    "duration": 175,
    "start_time": "2022-09-28T10:16:22.811Z"
   },
   {
    "duration": 185,
    "start_time": "2022-09-28T10:16:22.988Z"
   },
   {
    "duration": 135,
    "start_time": "2022-09-28T10:16:23.175Z"
   },
   {
    "duration": 135,
    "start_time": "2022-09-28T10:16:23.321Z"
   },
   {
    "duration": 84,
    "start_time": "2022-09-28T10:17:28.452Z"
   },
   {
    "duration": 360,
    "start_time": "2022-09-28T10:17:41.163Z"
   },
   {
    "duration": 237,
    "start_time": "2022-09-28T10:18:00.199Z"
   },
   {
    "duration": 157,
    "start_time": "2022-09-28T10:21:03.955Z"
   },
   {
    "duration": 148,
    "start_time": "2022-09-28T10:33:34.286Z"
   },
   {
    "duration": 218,
    "start_time": "2022-09-28T10:34:56.580Z"
   },
   {
    "duration": 227,
    "start_time": "2022-09-28T10:35:19.164Z"
   },
   {
    "duration": 352,
    "start_time": "2022-09-28T10:39:56.683Z"
   },
   {
    "duration": 261,
    "start_time": "2022-09-28T10:41:06.753Z"
   },
   {
    "duration": 138,
    "start_time": "2022-09-28T10:53:27.980Z"
   },
   {
    "duration": 321,
    "start_time": "2022-09-28T11:10:36.659Z"
   },
   {
    "duration": 333,
    "start_time": "2022-09-28T11:11:01.869Z"
   },
   {
    "duration": 353,
    "start_time": "2022-09-28T11:11:18.357Z"
   },
   {
    "duration": 323,
    "start_time": "2022-09-28T11:11:35.249Z"
   },
   {
    "duration": 283,
    "start_time": "2022-09-28T11:12:27.867Z"
   },
   {
    "duration": 406,
    "start_time": "2022-09-28T11:12:41.141Z"
   },
   {
    "duration": 121,
    "start_time": "2022-09-28T11:20:32.780Z"
   },
   {
    "duration": 234,
    "start_time": "2022-09-28T11:21:00.257Z"
   },
   {
    "duration": 131,
    "start_time": "2022-09-28T11:42:40.770Z"
   },
   {
    "duration": 22,
    "start_time": "2022-09-28T12:11:38.858Z"
   },
   {
    "duration": 19,
    "start_time": "2022-09-28T12:13:54.140Z"
   },
   {
    "duration": 18,
    "start_time": "2022-09-28T12:14:20.692Z"
   },
   {
    "duration": 1431,
    "start_time": "2022-09-28T12:16:06.174Z"
   },
   {
    "duration": 1329,
    "start_time": "2022-09-28T12:16:29.394Z"
   },
   {
    "duration": 1433,
    "start_time": "2022-09-28T12:16:37.444Z"
   },
   {
    "duration": 80,
    "start_time": "2022-09-28T12:16:57.184Z"
   },
   {
    "duration": 144,
    "start_time": "2022-09-28T12:20:56.131Z"
   },
   {
    "duration": 116,
    "start_time": "2022-09-28T12:21:07.804Z"
   },
   {
    "duration": 288,
    "start_time": "2022-09-28T12:21:27.318Z"
   },
   {
    "duration": 350,
    "start_time": "2022-09-28T12:21:45.900Z"
   },
   {
    "duration": 273,
    "start_time": "2022-09-28T12:23:07.870Z"
   },
   {
    "duration": 280,
    "start_time": "2022-09-28T12:23:23.691Z"
   },
   {
    "duration": 76,
    "start_time": "2022-09-28T12:25:11.144Z"
   },
   {
    "duration": 129,
    "start_time": "2022-09-28T12:25:31.335Z"
   },
   {
    "duration": 866,
    "start_time": "2022-09-28T12:26:20.380Z"
   },
   {
    "duration": 832,
    "start_time": "2022-09-28T12:26:50.039Z"
   },
   {
    "duration": 926,
    "start_time": "2022-09-28T12:29:30.062Z"
   },
   {
    "duration": 787,
    "start_time": "2022-09-28T12:29:43.694Z"
   },
   {
    "duration": 32,
    "start_time": "2022-09-28T12:30:11.895Z"
   },
   {
    "duration": 26,
    "start_time": "2022-09-28T12:30:28.760Z"
   },
   {
    "duration": 1249,
    "start_time": "2022-09-28T12:30:51.300Z"
   },
   {
    "duration": 15,
    "start_time": "2022-09-28T12:30:52.551Z"
   },
   {
    "duration": 2169,
    "start_time": "2022-09-28T12:30:52.567Z"
   },
   {
    "duration": 4,
    "start_time": "2022-09-28T12:30:54.738Z"
   },
   {
    "duration": 20,
    "start_time": "2022-09-28T12:30:54.744Z"
   },
   {
    "duration": 10,
    "start_time": "2022-09-28T12:30:54.766Z"
   },
   {
    "duration": 21,
    "start_time": "2022-09-28T12:30:54.777Z"
   },
   {
    "duration": 20,
    "start_time": "2022-09-28T12:30:54.799Z"
   },
   {
    "duration": 40,
    "start_time": "2022-09-28T12:30:54.821Z"
   },
   {
    "duration": 22,
    "start_time": "2022-09-28T12:30:54.863Z"
   },
   {
    "duration": 20,
    "start_time": "2022-09-28T12:30:54.887Z"
   },
   {
    "duration": 29,
    "start_time": "2022-09-28T12:30:54.909Z"
   },
   {
    "duration": 14,
    "start_time": "2022-09-28T12:30:54.939Z"
   },
   {
    "duration": 296,
    "start_time": "2022-09-28T12:30:54.956Z"
   },
   {
    "duration": 6,
    "start_time": "2022-09-28T12:30:55.253Z"
   },
   {
    "duration": 15,
    "start_time": "2022-09-28T12:30:55.260Z"
   },
   {
    "duration": 31,
    "start_time": "2022-09-28T12:30:55.277Z"
   },
   {
    "duration": 10,
    "start_time": "2022-09-28T12:30:55.310Z"
   },
   {
    "duration": 19,
    "start_time": "2022-09-28T12:30:55.321Z"
   },
   {
    "duration": 24,
    "start_time": "2022-09-28T12:30:55.341Z"
   },
   {
    "duration": 362,
    "start_time": "2022-09-28T12:30:55.366Z"
   },
   {
    "duration": 4,
    "start_time": "2022-09-28T12:30:55.737Z"
   },
   {
    "duration": 23,
    "start_time": "2022-09-28T12:30:55.743Z"
   },
   {
    "duration": 401,
    "start_time": "2022-09-28T12:30:55.767Z"
   },
   {
    "duration": 327,
    "start_time": "2022-09-28T12:30:56.170Z"
   },
   {
    "duration": 161,
    "start_time": "2022-09-28T12:30:56.498Z"
   },
   {
    "duration": 130,
    "start_time": "2022-09-28T12:30:56.660Z"
   },
   {
    "duration": 127,
    "start_time": "2022-09-28T12:30:56.791Z"
   },
   {
    "duration": 132,
    "start_time": "2022-09-28T12:30:56.921Z"
   },
   {
    "duration": 157,
    "start_time": "2022-09-28T12:30:57.055Z"
   },
   {
    "duration": 163,
    "start_time": "2022-09-28T12:30:57.213Z"
   },
   {
    "duration": 121,
    "start_time": "2022-09-28T12:30:57.378Z"
   },
   {
    "duration": 124,
    "start_time": "2022-09-28T12:30:57.502Z"
   },
   {
    "duration": 155,
    "start_time": "2022-09-28T12:30:57.628Z"
   },
   {
    "duration": 183,
    "start_time": "2022-09-28T12:30:57.785Z"
   },
   {
    "duration": 149,
    "start_time": "2022-09-28T12:30:57.969Z"
   },
   {
    "duration": 125,
    "start_time": "2022-09-28T12:30:58.125Z"
   },
   {
    "duration": 243,
    "start_time": "2022-09-28T12:30:58.252Z"
   },
   {
    "duration": 119,
    "start_time": "2022-09-28T12:30:58.496Z"
   },
   {
    "duration": 31,
    "start_time": "2022-09-28T12:31:41.687Z"
   },
   {
    "duration": 23,
    "start_time": "2022-09-28T12:31:51.188Z"
   },
   {
    "duration": 1388,
    "start_time": "2022-09-28T12:32:00.393Z"
   },
   {
    "duration": 14,
    "start_time": "2022-09-28T12:32:01.784Z"
   },
   {
    "duration": 2185,
    "start_time": "2022-09-28T12:32:01.799Z"
   },
   {
    "duration": 4,
    "start_time": "2022-09-28T12:32:03.987Z"
   },
   {
    "duration": 11,
    "start_time": "2022-09-28T12:32:03.993Z"
   },
   {
    "duration": 8,
    "start_time": "2022-09-28T12:32:04.005Z"
   },
   {
    "duration": 22,
    "start_time": "2022-09-28T12:32:04.024Z"
   },
   {
    "duration": 20,
    "start_time": "2022-09-28T12:32:04.048Z"
   },
   {
    "duration": 17,
    "start_time": "2022-09-28T12:32:04.070Z"
   },
   {
    "duration": 11,
    "start_time": "2022-09-28T12:32:04.090Z"
   },
   {
    "duration": 26,
    "start_time": "2022-09-28T12:32:04.103Z"
   },
   {
    "duration": 15,
    "start_time": "2022-09-28T12:32:04.137Z"
   },
   {
    "duration": 15,
    "start_time": "2022-09-28T12:32:04.154Z"
   },
   {
    "duration": 344,
    "start_time": "2022-09-28T12:32:04.171Z"
   },
   {
    "duration": 21,
    "start_time": "2022-09-28T12:32:04.517Z"
   },
   {
    "duration": 17,
    "start_time": "2022-09-28T12:32:04.539Z"
   },
   {
    "duration": 26,
    "start_time": "2022-09-28T12:32:04.559Z"
   },
   {
    "duration": 3,
    "start_time": "2022-09-28T12:32:04.587Z"
   },
   {
    "duration": 9,
    "start_time": "2022-09-28T12:32:04.591Z"
   },
   {
    "duration": 21,
    "start_time": "2022-09-28T12:32:04.602Z"
   },
   {
    "duration": 355,
    "start_time": "2022-09-28T12:32:04.631Z"
   },
   {
    "duration": 4,
    "start_time": "2022-09-28T12:32:04.988Z"
   },
   {
    "duration": 6,
    "start_time": "2022-09-28T12:32:04.993Z"
   },
   {
    "duration": 401,
    "start_time": "2022-09-28T12:32:05.001Z"
   },
   {
    "duration": 364,
    "start_time": "2022-09-28T12:32:05.404Z"
   },
   {
    "duration": 193,
    "start_time": "2022-09-28T12:32:05.770Z"
   },
   {
    "duration": 174,
    "start_time": "2022-09-28T12:32:05.965Z"
   },
   {
    "duration": 152,
    "start_time": "2022-09-28T12:32:06.142Z"
   },
   {
    "duration": 173,
    "start_time": "2022-09-28T12:32:06.296Z"
   },
   {
    "duration": 166,
    "start_time": "2022-09-28T12:32:06.471Z"
   },
   {
    "duration": 246,
    "start_time": "2022-09-28T12:32:06.639Z"
   },
   {
    "duration": 132,
    "start_time": "2022-09-28T12:32:06.886Z"
   },
   {
    "duration": 132,
    "start_time": "2022-09-28T12:32:07.024Z"
   },
   {
    "duration": 155,
    "start_time": "2022-09-28T12:32:07.158Z"
   },
   {
    "duration": 257,
    "start_time": "2022-09-28T12:32:07.314Z"
   },
   {
    "duration": 184,
    "start_time": "2022-09-28T12:32:07.573Z"
   },
   {
    "duration": 148,
    "start_time": "2022-09-28T12:32:07.760Z"
   },
   {
    "duration": 261,
    "start_time": "2022-09-28T12:32:07.910Z"
   },
   {
    "duration": 116,
    "start_time": "2022-09-28T12:32:08.172Z"
   },
   {
    "duration": 21,
    "start_time": "2022-09-28T12:36:19.174Z"
   },
   {
    "duration": 13,
    "start_time": "2022-09-28T12:36:32.390Z"
   },
   {
    "duration": 788,
    "start_time": "2022-09-28T12:36:56.316Z"
   },
   {
    "duration": 815,
    "start_time": "2022-09-28T12:37:03.600Z"
   },
   {
    "duration": 763,
    "start_time": "2022-09-28T12:37:18.433Z"
   },
   {
    "duration": 4,
    "start_time": "2022-09-28T12:40:39.733Z"
   },
   {
    "duration": 21,
    "start_time": "2022-09-28T12:40:44.648Z"
   },
   {
    "duration": 26,
    "start_time": "2022-09-28T12:41:11.722Z"
   },
   {
    "duration": 23,
    "start_time": "2022-09-28T12:41:44.826Z"
   },
   {
    "duration": 28,
    "start_time": "2022-09-28T12:42:10.605Z"
   },
   {
    "duration": 20,
    "start_time": "2022-09-28T12:42:30.142Z"
   },
   {
    "duration": 23,
    "start_time": "2022-09-28T12:42:54.333Z"
   },
   {
    "duration": 26,
    "start_time": "2022-09-28T12:43:35.002Z"
   },
   {
    "duration": 24,
    "start_time": "2022-09-28T12:44:25.019Z"
   },
   {
    "duration": 27,
    "start_time": "2022-09-28T12:44:36.361Z"
   },
   {
    "duration": 1090,
    "start_time": "2022-09-28T12:45:11.158Z"
   },
   {
    "duration": 976,
    "start_time": "2022-09-28T12:45:38.141Z"
   },
   {
    "duration": 909,
    "start_time": "2022-09-28T12:47:32.510Z"
   },
   {
    "duration": 858,
    "start_time": "2022-09-28T12:49:39.212Z"
   },
   {
    "duration": 872,
    "start_time": "2022-09-28T12:50:01.323Z"
   },
   {
    "duration": 935,
    "start_time": "2022-09-28T12:50:53.980Z"
   },
   {
    "duration": 1396,
    "start_time": "2022-09-28T12:51:52.721Z"
   },
   {
    "duration": 1350,
    "start_time": "2022-09-28T12:53:08.844Z"
   },
   {
    "duration": 1837,
    "start_time": "2022-09-28T12:54:54.850Z"
   },
   {
    "duration": 197,
    "start_time": "2022-09-28T12:55:51.180Z"
   },
   {
    "duration": 46,
    "start_time": "2022-09-28T12:56:36.029Z"
   },
   {
    "duration": 1475,
    "start_time": "2022-09-28T12:57:15.658Z"
   },
   {
    "duration": 199,
    "start_time": "2022-09-28T12:58:26.632Z"
   },
   {
    "duration": 1331,
    "start_time": "2022-09-28T12:58:58.269Z"
   },
   {
    "duration": 190,
    "start_time": "2022-09-28T12:59:19.367Z"
   },
   {
    "duration": 302,
    "start_time": "2022-09-28T13:27:50.393Z"
   },
   {
    "duration": 327,
    "start_time": "2022-09-28T13:29:46.319Z"
   },
   {
    "duration": 461,
    "start_time": "2022-09-28T13:30:12.123Z"
   },
   {
    "duration": 314,
    "start_time": "2022-09-28T13:31:44.886Z"
   },
   {
    "duration": 199,
    "start_time": "2022-09-28T13:33:58.983Z"
   },
   {
    "duration": 196,
    "start_time": "2022-09-28T13:36:25.288Z"
   },
   {
    "duration": 549,
    "start_time": "2022-09-28T13:43:29.666Z"
   },
   {
    "duration": 658,
    "start_time": "2022-09-28T13:43:55.140Z"
   },
   {
    "duration": 510,
    "start_time": "2022-09-28T13:44:22.749Z"
   },
   {
    "duration": 1287,
    "start_time": "2022-09-28T13:50:52.027Z"
   },
   {
    "duration": 17,
    "start_time": "2022-09-28T13:50:53.316Z"
   },
   {
    "duration": 2017,
    "start_time": "2022-09-28T13:50:53.335Z"
   },
   {
    "duration": 4,
    "start_time": "2022-09-28T13:50:55.355Z"
   },
   {
    "duration": 16,
    "start_time": "2022-09-28T13:50:55.361Z"
   },
   {
    "duration": 9,
    "start_time": "2022-09-28T13:50:55.378Z"
   },
   {
    "duration": 12,
    "start_time": "2022-09-28T13:50:55.388Z"
   },
   {
    "duration": 11,
    "start_time": "2022-09-28T13:50:55.401Z"
   },
   {
    "duration": 10,
    "start_time": "2022-09-28T13:50:55.413Z"
   },
   {
    "duration": 6,
    "start_time": "2022-09-28T13:50:55.426Z"
   },
   {
    "duration": 8,
    "start_time": "2022-09-28T13:50:55.434Z"
   },
   {
    "duration": 10,
    "start_time": "2022-09-28T13:50:55.444Z"
   },
   {
    "duration": 10,
    "start_time": "2022-09-28T13:50:55.456Z"
   },
   {
    "duration": 279,
    "start_time": "2022-09-28T13:50:55.468Z"
   },
   {
    "duration": 5,
    "start_time": "2022-09-28T13:50:55.748Z"
   },
   {
    "duration": 9,
    "start_time": "2022-09-28T13:50:55.755Z"
   },
   {
    "duration": 21,
    "start_time": "2022-09-28T13:50:55.766Z"
   },
   {
    "duration": 2,
    "start_time": "2022-09-28T13:50:55.789Z"
   },
   {
    "duration": 17,
    "start_time": "2022-09-28T13:50:55.793Z"
   },
   {
    "duration": 11,
    "start_time": "2022-09-28T13:50:55.822Z"
   },
   {
    "duration": 386,
    "start_time": "2022-09-28T13:50:55.835Z"
   },
   {
    "duration": 5,
    "start_time": "2022-09-28T13:50:56.223Z"
   },
   {
    "duration": 9,
    "start_time": "2022-09-28T13:50:56.230Z"
   },
   {
    "duration": 341,
    "start_time": "2022-09-28T13:50:56.242Z"
   },
   {
    "duration": 313,
    "start_time": "2022-09-28T13:50:56.584Z"
   },
   {
    "duration": 162,
    "start_time": "2022-09-28T13:50:56.898Z"
   },
   {
    "duration": 134,
    "start_time": "2022-09-28T13:50:57.061Z"
   },
   {
    "duration": 131,
    "start_time": "2022-09-28T13:50:57.198Z"
   },
   {
    "duration": 128,
    "start_time": "2022-09-28T13:50:57.330Z"
   },
   {
    "duration": 142,
    "start_time": "2022-09-28T13:50:57.462Z"
   },
   {
    "duration": 151,
    "start_time": "2022-09-28T13:50:57.606Z"
   },
   {
    "duration": 134,
    "start_time": "2022-09-28T13:50:57.758Z"
   },
   {
    "duration": 130,
    "start_time": "2022-09-28T13:50:57.893Z"
   },
   {
    "duration": 139,
    "start_time": "2022-09-28T13:50:58.025Z"
   },
   {
    "duration": 156,
    "start_time": "2022-09-28T13:50:58.166Z"
   },
   {
    "duration": 153,
    "start_time": "2022-09-28T13:50:58.323Z"
   },
   {
    "duration": 132,
    "start_time": "2022-09-28T13:50:58.478Z"
   },
   {
    "duration": 246,
    "start_time": "2022-09-28T13:50:58.612Z"
   },
   {
    "duration": 600,
    "start_time": "2022-09-28T13:50:58.860Z"
   },
   {
    "duration": 229,
    "start_time": "2022-09-28T13:51:40.868Z"
   },
   {
    "duration": 235,
    "start_time": "2022-09-28T13:52:01.528Z"
   },
   {
    "duration": 500,
    "start_time": "2022-09-28T13:52:23.009Z"
   },
   {
    "duration": 196,
    "start_time": "2022-09-28T13:52:33.786Z"
   },
   {
    "duration": 210,
    "start_time": "2022-09-28T13:52:52.883Z"
   },
   {
    "duration": 197,
    "start_time": "2022-09-28T13:54:00.026Z"
   },
   {
    "duration": 193,
    "start_time": "2022-09-28T13:54:13.353Z"
   },
   {
    "duration": 186,
    "start_time": "2022-09-28T13:54:22.574Z"
   },
   {
    "duration": 191,
    "start_time": "2022-09-28T13:56:51.556Z"
   },
   {
    "duration": 1658,
    "start_time": "2022-09-28T13:58:20.772Z"
   },
   {
    "duration": 357,
    "start_time": "2022-09-28T14:01:06.194Z"
   },
   {
    "duration": 204,
    "start_time": "2022-09-28T14:01:23.365Z"
   },
   {
    "duration": 5,
    "start_time": "2022-09-28T14:02:05.825Z"
   },
   {
    "duration": 38,
    "start_time": "2022-09-28T14:02:19.480Z"
   },
   {
    "duration": 185,
    "start_time": "2022-09-28T14:02:48.988Z"
   },
   {
    "duration": 1167,
    "start_time": "2022-09-28T14:03:00.082Z"
   },
   {
    "duration": 13,
    "start_time": "2022-09-28T14:03:01.251Z"
   },
   {
    "duration": 1839,
    "start_time": "2022-09-28T14:03:01.265Z"
   },
   {
    "duration": 4,
    "start_time": "2022-09-28T14:03:03.107Z"
   },
   {
    "duration": 8,
    "start_time": "2022-09-28T14:03:03.113Z"
   },
   {
    "duration": 7,
    "start_time": "2022-09-28T14:03:03.122Z"
   },
   {
    "duration": 11,
    "start_time": "2022-09-28T14:03:03.131Z"
   },
   {
    "duration": 12,
    "start_time": "2022-09-28T14:03:03.143Z"
   },
   {
    "duration": 10,
    "start_time": "2022-09-28T14:03:03.156Z"
   },
   {
    "duration": 9,
    "start_time": "2022-09-28T14:03:03.169Z"
   },
   {
    "duration": 9,
    "start_time": "2022-09-28T14:03:03.179Z"
   },
   {
    "duration": 9,
    "start_time": "2022-09-28T14:03:03.189Z"
   },
   {
    "duration": 23,
    "start_time": "2022-09-28T14:03:03.199Z"
   },
   {
    "duration": 252,
    "start_time": "2022-09-28T14:03:03.224Z"
   },
   {
    "duration": 5,
    "start_time": "2022-09-28T14:03:03.478Z"
   },
   {
    "duration": 18,
    "start_time": "2022-09-28T14:03:03.484Z"
   },
   {
    "duration": 20,
    "start_time": "2022-09-28T14:03:03.504Z"
   },
   {
    "duration": 4,
    "start_time": "2022-09-28T14:03:03.525Z"
   },
   {
    "duration": 8,
    "start_time": "2022-09-28T14:03:03.530Z"
   },
   {
    "duration": 13,
    "start_time": "2022-09-28T14:03:03.540Z"
   },
   {
    "duration": 319,
    "start_time": "2022-09-28T14:03:03.554Z"
   },
   {
    "duration": 3,
    "start_time": "2022-09-28T14:03:03.875Z"
   },
   {
    "duration": 7,
    "start_time": "2022-09-28T14:03:03.880Z"
   },
   {
    "duration": 336,
    "start_time": "2022-09-28T14:03:03.888Z"
   },
   {
    "duration": 331,
    "start_time": "2022-09-28T14:03:04.226Z"
   },
   {
    "duration": 164,
    "start_time": "2022-09-28T14:03:04.559Z"
   },
   {
    "duration": 142,
    "start_time": "2022-09-28T14:03:04.725Z"
   },
   {
    "duration": 112,
    "start_time": "2022-09-28T14:03:04.871Z"
   },
   {
    "duration": 120,
    "start_time": "2022-09-28T14:03:04.984Z"
   },
   {
    "duration": 162,
    "start_time": "2022-09-28T14:03:05.106Z"
   },
   {
    "duration": 176,
    "start_time": "2022-09-28T14:03:05.270Z"
   },
   {
    "duration": 115,
    "start_time": "2022-09-28T14:03:05.447Z"
   },
   {
    "duration": 127,
    "start_time": "2022-09-28T14:03:05.564Z"
   },
   {
    "duration": 154,
    "start_time": "2022-09-28T14:03:05.693Z"
   },
   {
    "duration": 155,
    "start_time": "2022-09-28T14:03:05.849Z"
   },
   {
    "duration": 204,
    "start_time": "2022-09-28T14:03:06.006Z"
   },
   {
    "duration": 135,
    "start_time": "2022-09-28T14:03:06.212Z"
   },
   {
    "duration": 242,
    "start_time": "2022-09-28T14:03:06.349Z"
   },
   {
    "duration": 243,
    "start_time": "2022-09-28T14:03:06.593Z"
   },
   {
    "duration": 349,
    "start_time": "2022-09-28T14:08:53.558Z"
   },
   {
    "duration": 1203,
    "start_time": "2022-09-28T14:39:30.306Z"
   },
   {
    "duration": 16,
    "start_time": "2022-09-28T14:39:31.511Z"
   },
   {
    "duration": 1867,
    "start_time": "2022-09-28T14:39:31.529Z"
   },
   {
    "duration": 4,
    "start_time": "2022-09-28T14:39:33.398Z"
   },
   {
    "duration": 9,
    "start_time": "2022-09-28T14:39:33.404Z"
   },
   {
    "duration": 7,
    "start_time": "2022-09-28T14:39:33.414Z"
   },
   {
    "duration": 10,
    "start_time": "2022-09-28T14:39:33.422Z"
   },
   {
    "duration": 16,
    "start_time": "2022-09-28T14:39:33.433Z"
   },
   {
    "duration": 9,
    "start_time": "2022-09-28T14:39:33.451Z"
   },
   {
    "duration": 5,
    "start_time": "2022-09-28T14:39:33.462Z"
   },
   {
    "duration": 8,
    "start_time": "2022-09-28T14:39:33.469Z"
   },
   {
    "duration": 5,
    "start_time": "2022-09-28T14:39:33.478Z"
   },
   {
    "duration": 6,
    "start_time": "2022-09-28T14:39:33.484Z"
   },
   {
    "duration": 289,
    "start_time": "2022-09-28T14:39:33.492Z"
   },
   {
    "duration": 5,
    "start_time": "2022-09-28T14:39:33.783Z"
   },
   {
    "duration": 10,
    "start_time": "2022-09-28T14:39:33.789Z"
   },
   {
    "duration": 32,
    "start_time": "2022-09-28T14:39:33.801Z"
   },
   {
    "duration": 2,
    "start_time": "2022-09-28T14:39:33.835Z"
   },
   {
    "duration": 9,
    "start_time": "2022-09-28T14:39:33.839Z"
   },
   {
    "duration": 15,
    "start_time": "2022-09-28T14:39:33.850Z"
   },
   {
    "duration": 314,
    "start_time": "2022-09-28T14:39:33.866Z"
   },
   {
    "duration": 5,
    "start_time": "2022-09-28T14:39:34.181Z"
   },
   {
    "duration": 6,
    "start_time": "2022-09-28T14:39:34.187Z"
   },
   {
    "duration": 342,
    "start_time": "2022-09-28T14:39:34.194Z"
   },
   {
    "duration": 298,
    "start_time": "2022-09-28T14:39:34.538Z"
   },
   {
    "duration": 157,
    "start_time": "2022-09-28T14:39:34.838Z"
   },
   {
    "duration": 118,
    "start_time": "2022-09-28T14:39:34.996Z"
   },
   {
    "duration": 115,
    "start_time": "2022-09-28T14:39:35.121Z"
   },
   {
    "duration": 114,
    "start_time": "2022-09-28T14:39:35.238Z"
   },
   {
    "duration": 150,
    "start_time": "2022-09-28T14:39:35.354Z"
   },
   {
    "duration": 154,
    "start_time": "2022-09-28T14:39:35.506Z"
   },
   {
    "duration": 114,
    "start_time": "2022-09-28T14:39:35.662Z"
   },
   {
    "duration": 125,
    "start_time": "2022-09-28T14:39:35.778Z"
   },
   {
    "duration": 169,
    "start_time": "2022-09-28T14:39:35.904Z"
   },
   {
    "duration": 206,
    "start_time": "2022-09-28T14:39:36.075Z"
   },
   {
    "duration": 158,
    "start_time": "2022-09-28T14:39:36.283Z"
   },
   {
    "duration": 126,
    "start_time": "2022-09-28T14:39:36.442Z"
   },
   {
    "duration": 234,
    "start_time": "2022-09-28T14:39:36.570Z"
   },
   {
    "duration": 205,
    "start_time": "2022-09-28T14:39:36.805Z"
   },
   {
    "duration": 200,
    "start_time": "2022-09-28T14:45:27.521Z"
   },
   {
    "duration": 196,
    "start_time": "2022-09-28T14:55:26.530Z"
   },
   {
    "duration": 211,
    "start_time": "2022-09-28T14:55:46.737Z"
   },
   {
    "duration": 196,
    "start_time": "2022-09-28T14:56:06.748Z"
   },
   {
    "duration": 230,
    "start_time": "2022-09-28T14:56:16.125Z"
   },
   {
    "duration": 185,
    "start_time": "2022-09-28T14:57:34.085Z"
   },
   {
    "duration": 216,
    "start_time": "2022-09-28T14:58:05.219Z"
   },
   {
    "duration": 345,
    "start_time": "2022-09-28T14:58:30.722Z"
   },
   {
    "duration": 461,
    "start_time": "2022-09-28T14:59:19.696Z"
   },
   {
    "duration": 320,
    "start_time": "2022-09-28T14:59:29.049Z"
   },
   {
    "duration": 1540,
    "start_time": "2022-09-28T14:59:50.464Z"
   },
   {
    "duration": 1773,
    "start_time": "2022-09-28T15:00:40.570Z"
   },
   {
    "duration": 1618,
    "start_time": "2022-09-28T15:01:26.550Z"
   },
   {
    "duration": 1510,
    "start_time": "2022-09-28T15:02:07.937Z"
   },
   {
    "duration": 1677,
    "start_time": "2022-09-28T15:02:35.367Z"
   },
   {
    "duration": 2289,
    "start_time": "2022-09-28T15:03:02.825Z"
   },
   {
    "duration": 2207,
    "start_time": "2022-09-28T15:04:48.448Z"
   },
   {
    "duration": 2435,
    "start_time": "2022-09-28T15:05:11.218Z"
   },
   {
    "duration": 2227,
    "start_time": "2022-09-28T15:06:19.048Z"
   },
   {
    "duration": 2201,
    "start_time": "2022-09-28T15:12:01.133Z"
   },
   {
    "duration": 2259,
    "start_time": "2022-09-28T15:12:58.212Z"
   },
   {
    "duration": 2330,
    "start_time": "2022-09-28T15:13:09.814Z"
   },
   {
    "duration": 2181,
    "start_time": "2022-09-28T15:13:32.146Z"
   },
   {
    "duration": 2423,
    "start_time": "2022-09-28T15:13:51.929Z"
   },
   {
    "duration": 2144,
    "start_time": "2022-09-28T15:14:16.907Z"
   },
   {
    "duration": 2316,
    "start_time": "2022-09-28T15:15:28.052Z"
   },
   {
    "duration": 2438,
    "start_time": "2022-09-28T15:17:35.249Z"
   },
   {
    "duration": 2560,
    "start_time": "2022-09-28T15:19:10.728Z"
   },
   {
    "duration": 2574,
    "start_time": "2022-09-28T15:19:48.663Z"
   },
   {
    "duration": 2645,
    "start_time": "2022-09-28T15:20:12.887Z"
   },
   {
    "duration": 269,
    "start_time": "2022-09-28T15:22:37.426Z"
   },
   {
    "duration": 1349,
    "start_time": "2022-09-28T15:22:53.846Z"
   },
   {
    "duration": 15,
    "start_time": "2022-09-28T15:22:55.196Z"
   },
   {
    "duration": 2086,
    "start_time": "2022-09-28T15:22:55.222Z"
   },
   {
    "duration": 4,
    "start_time": "2022-09-28T15:22:57.311Z"
   },
   {
    "duration": 26,
    "start_time": "2022-09-28T15:22:57.316Z"
   },
   {
    "duration": 20,
    "start_time": "2022-09-28T15:22:57.345Z"
   },
   {
    "duration": 24,
    "start_time": "2022-09-28T15:22:57.366Z"
   },
   {
    "duration": 22,
    "start_time": "2022-09-28T15:22:57.392Z"
   },
   {
    "duration": 31,
    "start_time": "2022-09-28T15:22:57.416Z"
   },
   {
    "duration": 30,
    "start_time": "2022-09-28T15:22:57.450Z"
   },
   {
    "duration": 17,
    "start_time": "2022-09-28T15:22:57.482Z"
   },
   {
    "duration": 39,
    "start_time": "2022-09-28T15:22:57.501Z"
   },
   {
    "duration": 13,
    "start_time": "2022-09-28T15:22:57.543Z"
   },
   {
    "duration": 291,
    "start_time": "2022-09-28T15:22:57.558Z"
   },
   {
    "duration": 5,
    "start_time": "2022-09-28T15:22:57.850Z"
   },
   {
    "duration": 11,
    "start_time": "2022-09-28T15:22:57.856Z"
   },
   {
    "duration": 27,
    "start_time": "2022-09-28T15:22:57.869Z"
   },
   {
    "duration": 2,
    "start_time": "2022-09-28T15:22:57.898Z"
   },
   {
    "duration": 21,
    "start_time": "2022-09-28T15:22:57.901Z"
   },
   {
    "duration": 26,
    "start_time": "2022-09-28T15:22:57.924Z"
   },
   {
    "duration": 362,
    "start_time": "2022-09-28T15:22:57.952Z"
   },
   {
    "duration": 8,
    "start_time": "2022-09-28T15:22:58.315Z"
   },
   {
    "duration": 13,
    "start_time": "2022-09-28T15:22:58.324Z"
   },
   {
    "duration": 359,
    "start_time": "2022-09-28T15:22:58.339Z"
   },
   {
    "duration": 355,
    "start_time": "2022-09-28T15:22:58.700Z"
   },
   {
    "duration": 180,
    "start_time": "2022-09-28T15:22:59.057Z"
   },
   {
    "duration": 155,
    "start_time": "2022-09-28T15:22:59.239Z"
   },
   {
    "duration": 148,
    "start_time": "2022-09-28T15:22:59.397Z"
   },
   {
    "duration": 152,
    "start_time": "2022-09-28T15:22:59.547Z"
   },
   {
    "duration": 185,
    "start_time": "2022-09-28T15:22:59.701Z"
   },
   {
    "duration": 173,
    "start_time": "2022-09-28T15:22:59.888Z"
   },
   {
    "duration": 124,
    "start_time": "2022-09-28T15:23:00.062Z"
   },
   {
    "duration": 116,
    "start_time": "2022-09-28T15:23:00.187Z"
   },
   {
    "duration": 174,
    "start_time": "2022-09-28T15:23:00.304Z"
   },
   {
    "duration": 178,
    "start_time": "2022-09-28T15:23:00.480Z"
   },
   {
    "duration": 155,
    "start_time": "2022-09-28T15:23:00.659Z"
   },
   {
    "duration": 141,
    "start_time": "2022-09-28T15:23:00.815Z"
   },
   {
    "duration": 269,
    "start_time": "2022-09-28T15:23:00.958Z"
   },
   {
    "duration": 249,
    "start_time": "2022-09-28T15:23:01.229Z"
   },
   {
    "duration": 2453,
    "start_time": "2022-09-28T15:25:50.422Z"
   },
   {
    "duration": 2470,
    "start_time": "2022-09-28T15:30:21.538Z"
   },
   {
    "duration": 2712,
    "start_time": "2022-09-28T15:30:45.763Z"
   },
   {
    "duration": 376,
    "start_time": "2022-09-28T15:35:03.265Z"
   },
   {
    "duration": 285,
    "start_time": "2022-09-28T15:39:25.486Z"
   },
   {
    "duration": 272,
    "start_time": "2022-09-28T15:39:46.622Z"
   },
   {
    "duration": 254,
    "start_time": "2022-09-28T15:40:00.929Z"
   },
   {
    "duration": 275,
    "start_time": "2022-09-28T15:40:25.062Z"
   },
   {
    "duration": 1483,
    "start_time": "2022-09-28T15:40:34.948Z"
   },
   {
    "duration": 22,
    "start_time": "2022-09-28T15:40:36.434Z"
   },
   {
    "duration": 2262,
    "start_time": "2022-09-28T15:40:36.458Z"
   },
   {
    "duration": 4,
    "start_time": "2022-09-28T15:40:38.723Z"
   },
   {
    "duration": 28,
    "start_time": "2022-09-28T15:40:38.730Z"
   },
   {
    "duration": 5,
    "start_time": "2022-09-28T15:40:38.760Z"
   },
   {
    "duration": 11,
    "start_time": "2022-09-28T15:40:38.767Z"
   },
   {
    "duration": 12,
    "start_time": "2022-09-28T15:40:38.780Z"
   },
   {
    "duration": 39,
    "start_time": "2022-09-28T15:40:38.794Z"
   },
   {
    "duration": 13,
    "start_time": "2022-09-28T15:40:38.836Z"
   },
   {
    "duration": 9,
    "start_time": "2022-09-28T15:40:38.851Z"
   },
   {
    "duration": 15,
    "start_time": "2022-09-28T15:40:38.861Z"
   },
   {
    "duration": 10,
    "start_time": "2022-09-28T15:40:38.878Z"
   },
   {
    "duration": 362,
    "start_time": "2022-09-28T15:40:38.891Z"
   },
   {
    "duration": 7,
    "start_time": "2022-09-28T15:40:39.255Z"
   },
   {
    "duration": 19,
    "start_time": "2022-09-28T15:40:39.264Z"
   },
   {
    "duration": 42,
    "start_time": "2022-09-28T15:40:39.285Z"
   },
   {
    "duration": 3,
    "start_time": "2022-09-28T15:40:39.330Z"
   },
   {
    "duration": 16,
    "start_time": "2022-09-28T15:40:39.335Z"
   },
   {
    "duration": 23,
    "start_time": "2022-09-28T15:40:39.353Z"
   },
   {
    "duration": 378,
    "start_time": "2022-09-28T15:40:39.378Z"
   },
   {
    "duration": 6,
    "start_time": "2022-09-28T15:40:39.759Z"
   },
   {
    "duration": 7,
    "start_time": "2022-09-28T15:40:39.768Z"
   },
   {
    "duration": 428,
    "start_time": "2022-09-28T15:40:39.777Z"
   },
   {
    "duration": 392,
    "start_time": "2022-09-28T15:40:40.207Z"
   },
   {
    "duration": 189,
    "start_time": "2022-09-28T15:40:40.601Z"
   },
   {
    "duration": 163,
    "start_time": "2022-09-28T15:40:40.792Z"
   },
   {
    "duration": 158,
    "start_time": "2022-09-28T15:40:40.957Z"
   },
   {
    "duration": 170,
    "start_time": "2022-09-28T15:40:41.123Z"
   },
   {
    "duration": 191,
    "start_time": "2022-09-28T15:40:41.295Z"
   },
   {
    "duration": 227,
    "start_time": "2022-09-28T15:40:41.488Z"
   },
   {
    "duration": 174,
    "start_time": "2022-09-28T15:40:41.721Z"
   },
   {
    "duration": 174,
    "start_time": "2022-09-28T15:40:41.897Z"
   },
   {
    "duration": 193,
    "start_time": "2022-09-28T15:40:42.073Z"
   },
   {
    "duration": 200,
    "start_time": "2022-09-28T15:40:42.268Z"
   },
   {
    "duration": 180,
    "start_time": "2022-09-28T15:40:42.470Z"
   },
   {
    "duration": 150,
    "start_time": "2022-09-28T15:40:42.651Z"
   },
   {
    "duration": 281,
    "start_time": "2022-09-28T15:40:42.803Z"
   },
   {
    "duration": 325,
    "start_time": "2022-09-28T15:40:43.085Z"
   },
   {
    "duration": 1332,
    "start_time": "2022-09-28T15:42:47.098Z"
   },
   {
    "duration": 23,
    "start_time": "2022-09-28T15:42:48.433Z"
   },
   {
    "duration": 2083,
    "start_time": "2022-09-28T15:42:48.458Z"
   },
   {
    "duration": 5,
    "start_time": "2022-09-28T15:42:50.544Z"
   },
   {
    "duration": 9,
    "start_time": "2022-09-28T15:42:50.551Z"
   },
   {
    "duration": 4,
    "start_time": "2022-09-28T15:42:50.562Z"
   },
   {
    "duration": 11,
    "start_time": "2022-09-28T15:42:50.567Z"
   },
   {
    "duration": 11,
    "start_time": "2022-09-28T15:42:50.579Z"
   },
   {
    "duration": 9,
    "start_time": "2022-09-28T15:42:50.591Z"
   },
   {
    "duration": 1241,
    "start_time": "2022-09-28T15:49:14.174Z"
   },
   {
    "duration": 28,
    "start_time": "2022-09-28T15:49:15.416Z"
   },
   {
    "duration": 2196,
    "start_time": "2022-09-28T15:49:15.445Z"
   },
   {
    "duration": 7,
    "start_time": "2022-09-28T15:49:17.644Z"
   },
   {
    "duration": 11,
    "start_time": "2022-09-28T15:49:17.655Z"
   },
   {
    "duration": 4,
    "start_time": "2022-09-28T15:49:17.668Z"
   },
   {
    "duration": 14,
    "start_time": "2022-09-28T15:49:17.673Z"
   },
   {
    "duration": 13,
    "start_time": "2022-09-28T15:49:17.688Z"
   },
   {
    "duration": 23,
    "start_time": "2022-09-28T15:49:17.703Z"
   },
   {
    "duration": 12,
    "start_time": "2022-09-28T15:49:17.728Z"
   },
   {
    "duration": 12,
    "start_time": "2022-09-28T15:49:17.742Z"
   },
   {
    "duration": 7,
    "start_time": "2022-09-28T15:49:17.755Z"
   },
   {
    "duration": 17,
    "start_time": "2022-09-28T15:49:17.764Z"
   },
   {
    "duration": 312,
    "start_time": "2022-09-28T15:49:17.784Z"
   },
   {
    "duration": 5,
    "start_time": "2022-09-28T15:49:18.098Z"
   },
   {
    "duration": 24,
    "start_time": "2022-09-28T15:49:18.105Z"
   },
   {
    "duration": 29,
    "start_time": "2022-09-28T15:49:18.133Z"
   },
   {
    "duration": 2,
    "start_time": "2022-09-28T15:49:18.163Z"
   },
   {
    "duration": 8,
    "start_time": "2022-09-28T15:49:18.167Z"
   },
   {
    "duration": 19,
    "start_time": "2022-09-28T15:49:18.176Z"
   },
   {
    "duration": 375,
    "start_time": "2022-09-28T15:49:18.196Z"
   },
   {
    "duration": 5,
    "start_time": "2022-09-28T15:49:18.572Z"
   },
   {
    "duration": 5,
    "start_time": "2022-09-28T15:49:18.578Z"
   },
   {
    "duration": 378,
    "start_time": "2022-09-28T15:49:18.584Z"
   },
   {
    "duration": 337,
    "start_time": "2022-09-28T15:49:18.963Z"
   },
   {
    "duration": 177,
    "start_time": "2022-09-28T15:49:19.302Z"
   },
   {
    "duration": 134,
    "start_time": "2022-09-28T15:49:19.481Z"
   },
   {
    "duration": 134,
    "start_time": "2022-09-28T15:49:19.616Z"
   },
   {
    "duration": 167,
    "start_time": "2022-09-28T15:49:19.753Z"
   },
   {
    "duration": 173,
    "start_time": "2022-09-28T15:49:19.928Z"
   },
   {
    "duration": 164,
    "start_time": "2022-09-28T15:49:20.103Z"
   },
   {
    "duration": 125,
    "start_time": "2022-09-28T15:49:20.268Z"
   },
   {
    "duration": 136,
    "start_time": "2022-09-28T15:49:20.395Z"
   },
   {
    "duration": 158,
    "start_time": "2022-09-28T15:49:20.534Z"
   },
   {
    "duration": 155,
    "start_time": "2022-09-28T15:49:20.693Z"
   },
   {
    "duration": 151,
    "start_time": "2022-09-28T15:49:20.850Z"
   },
   {
    "duration": 146,
    "start_time": "2022-09-28T15:49:21.002Z"
   },
   {
    "duration": 251,
    "start_time": "2022-09-28T15:49:21.150Z"
   },
   {
    "duration": 383,
    "start_time": "2022-09-28T15:49:21.403Z"
   },
   {
    "duration": 371,
    "start_time": "2022-09-28T15:51:09.691Z"
   },
   {
    "duration": 352,
    "start_time": "2022-09-28T15:51:22.452Z"
   },
   {
    "duration": 376,
    "start_time": "2022-09-28T15:52:18.097Z"
   },
   {
    "duration": 356,
    "start_time": "2022-09-28T15:53:01.791Z"
   },
   {
    "duration": 310,
    "start_time": "2022-09-28T15:53:27.190Z"
   },
   {
    "duration": 1236,
    "start_time": "2022-09-28T15:55:12.316Z"
   },
   {
    "duration": 16,
    "start_time": "2022-09-28T15:55:13.554Z"
   },
   {
    "duration": 1944,
    "start_time": "2022-09-28T15:55:13.572Z"
   },
   {
    "duration": 5,
    "start_time": "2022-09-28T15:55:15.518Z"
   },
   {
    "duration": 9,
    "start_time": "2022-09-28T15:55:15.525Z"
   },
   {
    "duration": 14,
    "start_time": "2022-09-28T15:55:15.536Z"
   },
   {
    "duration": 15,
    "start_time": "2022-09-28T15:55:15.551Z"
   },
   {
    "duration": 11,
    "start_time": "2022-09-28T15:55:15.567Z"
   },
   {
    "duration": 22,
    "start_time": "2022-09-28T15:55:15.579Z"
   },
   {
    "duration": 6,
    "start_time": "2022-09-28T15:55:15.603Z"
   },
   {
    "duration": 10,
    "start_time": "2022-09-28T15:55:15.611Z"
   },
   {
    "duration": 4,
    "start_time": "2022-09-28T15:55:15.623Z"
   },
   {
    "duration": 6,
    "start_time": "2022-09-28T15:55:15.628Z"
   },
   {
    "duration": 261,
    "start_time": "2022-09-28T15:55:15.637Z"
   },
   {
    "duration": 5,
    "start_time": "2022-09-28T15:55:15.900Z"
   },
   {
    "duration": 11,
    "start_time": "2022-09-28T15:55:15.906Z"
   },
   {
    "duration": 22,
    "start_time": "2022-09-28T15:55:15.922Z"
   },
   {
    "duration": 3,
    "start_time": "2022-09-28T15:55:15.946Z"
   },
   {
    "duration": 6,
    "start_time": "2022-09-28T15:55:15.950Z"
   },
   {
    "duration": 13,
    "start_time": "2022-09-28T15:55:15.957Z"
   },
   {
    "duration": 379,
    "start_time": "2022-09-28T15:55:15.971Z"
   },
   {
    "duration": 3,
    "start_time": "2022-09-28T15:55:16.352Z"
   },
   {
    "duration": 5,
    "start_time": "2022-09-28T15:55:16.357Z"
   },
   {
    "duration": 337,
    "start_time": "2022-09-28T15:55:16.363Z"
   },
   {
    "duration": 321,
    "start_time": "2022-09-28T15:55:16.702Z"
   },
   {
    "duration": 152,
    "start_time": "2022-09-28T15:55:17.025Z"
   },
   {
    "duration": 129,
    "start_time": "2022-09-28T15:55:17.178Z"
   },
   {
    "duration": 140,
    "start_time": "2022-09-28T15:55:17.309Z"
   },
   {
    "duration": 125,
    "start_time": "2022-09-28T15:55:17.451Z"
   },
   {
    "duration": 153,
    "start_time": "2022-09-28T15:55:17.577Z"
   },
   {
    "duration": 190,
    "start_time": "2022-09-28T15:55:17.731Z"
   },
   {
    "duration": 118,
    "start_time": "2022-09-28T15:55:17.923Z"
   },
   {
    "duration": 133,
    "start_time": "2022-09-28T15:55:18.042Z"
   },
   {
    "duration": 146,
    "start_time": "2022-09-28T15:55:18.177Z"
   },
   {
    "duration": 155,
    "start_time": "2022-09-28T15:55:18.325Z"
   },
   {
    "duration": 139,
    "start_time": "2022-09-28T15:55:18.482Z"
   },
   {
    "duration": 122,
    "start_time": "2022-09-28T15:55:18.624Z"
   },
   {
    "duration": 250,
    "start_time": "2022-09-28T15:55:18.748Z"
   },
   {
    "duration": 300,
    "start_time": "2022-09-28T15:55:18.999Z"
   },
   {
    "duration": 150,
    "start_time": "2022-09-28T15:58:00.450Z"
   },
   {
    "duration": 171,
    "start_time": "2022-09-28T15:58:05.816Z"
   },
   {
    "duration": 133,
    "start_time": "2022-09-28T15:58:22.976Z"
   },
   {
    "duration": 150,
    "start_time": "2022-09-28T15:58:45.458Z"
   },
   {
    "duration": 131,
    "start_time": "2022-09-28T16:00:34.193Z"
   },
   {
    "duration": 1187,
    "start_time": "2022-09-28T16:01:00.063Z"
   },
   {
    "duration": 15,
    "start_time": "2022-09-28T16:01:01.252Z"
   },
   {
    "duration": 2111,
    "start_time": "2022-09-28T16:01:01.269Z"
   },
   {
    "duration": 4,
    "start_time": "2022-09-28T16:01:03.382Z"
   },
   {
    "duration": 14,
    "start_time": "2022-09-28T16:01:03.388Z"
   },
   {
    "duration": 8,
    "start_time": "2022-09-28T16:01:03.404Z"
   },
   {
    "duration": 12,
    "start_time": "2022-09-28T16:01:03.414Z"
   },
   {
    "duration": 11,
    "start_time": "2022-09-28T16:01:03.427Z"
   },
   {
    "duration": 10,
    "start_time": "2022-09-28T16:01:03.439Z"
   },
   {
    "duration": 11,
    "start_time": "2022-09-28T16:01:03.451Z"
   },
   {
    "duration": 5,
    "start_time": "2022-09-28T16:01:03.464Z"
   },
   {
    "duration": 11,
    "start_time": "2022-09-28T16:01:03.470Z"
   },
   {
    "duration": 7,
    "start_time": "2022-09-28T16:01:03.483Z"
   },
   {
    "duration": 274,
    "start_time": "2022-09-28T16:01:03.493Z"
   },
   {
    "duration": 6,
    "start_time": "2022-09-28T16:01:03.768Z"
   },
   {
    "duration": 8,
    "start_time": "2022-09-28T16:01:03.775Z"
   },
   {
    "duration": 20,
    "start_time": "2022-09-28T16:01:03.784Z"
   },
   {
    "duration": 16,
    "start_time": "2022-09-28T16:01:03.806Z"
   },
   {
    "duration": 5,
    "start_time": "2022-09-28T16:01:03.823Z"
   },
   {
    "duration": 17,
    "start_time": "2022-09-28T16:01:03.830Z"
   },
   {
    "duration": 313,
    "start_time": "2022-09-28T16:01:03.848Z"
   },
   {
    "duration": 4,
    "start_time": "2022-09-28T16:01:04.163Z"
   },
   {
    "duration": 12,
    "start_time": "2022-09-28T16:01:04.168Z"
   },
   {
    "duration": 372,
    "start_time": "2022-09-28T16:01:04.181Z"
   },
   {
    "duration": 307,
    "start_time": "2022-09-28T16:01:04.555Z"
   },
   {
    "duration": 143,
    "start_time": "2022-09-28T16:01:04.864Z"
   },
   {
    "duration": 121,
    "start_time": "2022-09-28T16:01:05.008Z"
   },
   {
    "duration": 123,
    "start_time": "2022-09-28T16:01:05.131Z"
   },
   {
    "duration": 122,
    "start_time": "2022-09-28T16:01:05.256Z"
   },
   {
    "duration": 150,
    "start_time": "2022-09-28T16:01:05.380Z"
   },
   {
    "duration": 158,
    "start_time": "2022-09-28T16:01:05.532Z"
   },
   {
    "duration": 119,
    "start_time": "2022-09-28T16:01:05.692Z"
   },
   {
    "duration": 134,
    "start_time": "2022-09-28T16:01:05.812Z"
   },
   {
    "duration": 166,
    "start_time": "2022-09-28T16:01:05.948Z"
   },
   {
    "duration": 196,
    "start_time": "2022-09-28T16:01:06.121Z"
   },
   {
    "duration": 137,
    "start_time": "2022-09-28T16:01:06.322Z"
   },
   {
    "duration": 122,
    "start_time": "2022-09-28T16:01:06.461Z"
   },
   {
    "duration": 237,
    "start_time": "2022-09-28T16:01:06.585Z"
   },
   {
    "duration": 154,
    "start_time": "2022-09-28T16:01:06.823Z"
   },
   {
    "duration": 146,
    "start_time": "2022-09-28T16:01:06.978Z"
   },
   {
    "duration": 165,
    "start_time": "2022-09-28T16:02:39.507Z"
   },
   {
    "duration": 1166,
    "start_time": "2022-09-28T16:02:50.235Z"
   },
   {
    "duration": 20,
    "start_time": "2022-09-28T16:02:51.403Z"
   },
   {
    "duration": 1823,
    "start_time": "2022-09-28T16:02:51.425Z"
   },
   {
    "duration": 4,
    "start_time": "2022-09-28T16:02:53.249Z"
   },
   {
    "duration": 9,
    "start_time": "2022-09-28T16:02:53.255Z"
   },
   {
    "duration": 4,
    "start_time": "2022-09-28T16:02:53.266Z"
   },
   {
    "duration": 9,
    "start_time": "2022-09-28T16:02:53.272Z"
   },
   {
    "duration": 10,
    "start_time": "2022-09-28T16:02:53.283Z"
   },
   {
    "duration": 10,
    "start_time": "2022-09-28T16:02:53.295Z"
   },
   {
    "duration": 18,
    "start_time": "2022-09-28T16:02:53.306Z"
   },
   {
    "duration": 18,
    "start_time": "2022-09-28T16:02:53.325Z"
   },
   {
    "duration": 9,
    "start_time": "2022-09-28T16:02:53.344Z"
   },
   {
    "duration": 10,
    "start_time": "2022-09-28T16:02:53.355Z"
   },
   {
    "duration": 268,
    "start_time": "2022-09-28T16:02:53.368Z"
   },
   {
    "duration": 7,
    "start_time": "2022-09-28T16:02:53.638Z"
   },
   {
    "duration": 17,
    "start_time": "2022-09-28T16:02:53.647Z"
   },
   {
    "duration": 27,
    "start_time": "2022-09-28T16:02:53.666Z"
   },
   {
    "duration": 10,
    "start_time": "2022-09-28T16:02:53.695Z"
   },
   {
    "duration": 22,
    "start_time": "2022-09-28T16:02:53.707Z"
   },
   {
    "duration": 25,
    "start_time": "2022-09-28T16:02:53.731Z"
   },
   {
    "duration": 328,
    "start_time": "2022-09-28T16:02:53.758Z"
   },
   {
    "duration": 5,
    "start_time": "2022-09-28T16:02:54.087Z"
   },
   {
    "duration": 5,
    "start_time": "2022-09-28T16:02:54.093Z"
   },
   {
    "duration": 356,
    "start_time": "2022-09-28T16:02:54.099Z"
   },
   {
    "duration": 329,
    "start_time": "2022-09-28T16:02:54.457Z"
   },
   {
    "duration": 158,
    "start_time": "2022-09-28T16:02:54.788Z"
   },
   {
    "duration": 130,
    "start_time": "2022-09-28T16:02:54.947Z"
   },
   {
    "duration": 130,
    "start_time": "2022-09-28T16:02:55.079Z"
   },
   {
    "duration": 115,
    "start_time": "2022-09-28T16:02:55.211Z"
   },
   {
    "duration": 150,
    "start_time": "2022-09-28T16:02:55.328Z"
   },
   {
    "duration": 149,
    "start_time": "2022-09-28T16:02:55.480Z"
   },
   {
    "duration": 117,
    "start_time": "2022-09-28T16:02:55.631Z"
   },
   {
    "duration": 125,
    "start_time": "2022-09-28T16:02:55.750Z"
   },
   {
    "duration": 139,
    "start_time": "2022-09-28T16:02:55.876Z"
   },
   {
    "duration": 195,
    "start_time": "2022-09-28T16:02:56.022Z"
   },
   {
    "duration": 186,
    "start_time": "2022-09-28T16:02:56.222Z"
   },
   {
    "duration": 137,
    "start_time": "2022-09-28T16:02:56.409Z"
   },
   {
    "duration": 256,
    "start_time": "2022-09-28T16:02:56.547Z"
   },
   {
    "duration": 170,
    "start_time": "2022-09-28T16:02:56.804Z"
   },
   {
    "duration": 148,
    "start_time": "2022-09-28T16:02:56.975Z"
   },
   {
    "duration": 171,
    "start_time": "2022-09-28T16:08:37.693Z"
   },
   {
    "duration": 170,
    "start_time": "2022-09-28T16:08:58.998Z"
   },
   {
    "duration": 147,
    "start_time": "2022-09-28T16:11:09.051Z"
   },
   {
    "duration": 147,
    "start_time": "2022-09-28T16:11:15.274Z"
   },
   {
    "duration": 152,
    "start_time": "2022-09-28T16:11:21.373Z"
   },
   {
    "duration": 134,
    "start_time": "2022-09-28T16:11:25.435Z"
   },
   {
    "duration": 1118,
    "start_time": "2022-09-28T16:11:48.585Z"
   },
   {
    "duration": 20,
    "start_time": "2022-09-28T16:11:49.705Z"
   },
   {
    "duration": 1818,
    "start_time": "2022-09-28T16:11:49.726Z"
   },
   {
    "duration": 5,
    "start_time": "2022-09-28T16:11:51.546Z"
   },
   {
    "duration": 16,
    "start_time": "2022-09-28T16:11:51.553Z"
   },
   {
    "duration": 4,
    "start_time": "2022-09-28T16:11:51.570Z"
   },
   {
    "duration": 10,
    "start_time": "2022-09-28T16:11:51.576Z"
   },
   {
    "duration": 11,
    "start_time": "2022-09-28T16:11:51.587Z"
   },
   {
    "duration": 9,
    "start_time": "2022-09-28T16:11:51.600Z"
   },
   {
    "duration": 11,
    "start_time": "2022-09-28T16:11:51.611Z"
   },
   {
    "duration": 4,
    "start_time": "2022-09-28T16:11:51.624Z"
   },
   {
    "duration": 5,
    "start_time": "2022-09-28T16:11:51.630Z"
   },
   {
    "duration": 8,
    "start_time": "2022-09-28T16:11:51.636Z"
   },
   {
    "duration": 261,
    "start_time": "2022-09-28T16:11:51.646Z"
   },
   {
    "duration": 4,
    "start_time": "2022-09-28T16:11:51.909Z"
   },
   {
    "duration": 14,
    "start_time": "2022-09-28T16:11:51.914Z"
   },
   {
    "duration": 24,
    "start_time": "2022-09-28T16:11:51.929Z"
   },
   {
    "duration": 2,
    "start_time": "2022-09-28T16:11:51.954Z"
   },
   {
    "duration": 9,
    "start_time": "2022-09-28T16:11:51.957Z"
   },
   {
    "duration": 13,
    "start_time": "2022-09-28T16:11:51.967Z"
   },
   {
    "duration": 318,
    "start_time": "2022-09-28T16:11:51.982Z"
   },
   {
    "duration": 3,
    "start_time": "2022-09-28T16:11:52.302Z"
   },
   {
    "duration": 14,
    "start_time": "2022-09-28T16:11:52.307Z"
   },
   {
    "duration": 329,
    "start_time": "2022-09-28T16:11:52.323Z"
   },
   {
    "duration": 340,
    "start_time": "2022-09-28T16:11:52.654Z"
   },
   {
    "duration": 157,
    "start_time": "2022-09-28T16:11:52.995Z"
   },
   {
    "duration": 143,
    "start_time": "2022-09-28T16:11:53.154Z"
   },
   {
    "duration": 133,
    "start_time": "2022-09-28T16:11:53.298Z"
   },
   {
    "duration": 140,
    "start_time": "2022-09-28T16:11:53.433Z"
   },
   {
    "duration": 168,
    "start_time": "2022-09-28T16:11:53.575Z"
   },
   {
    "duration": 171,
    "start_time": "2022-09-28T16:11:53.744Z"
   },
   {
    "duration": 125,
    "start_time": "2022-09-28T16:11:53.917Z"
   },
   {
    "duration": 139,
    "start_time": "2022-09-28T16:11:54.044Z"
   },
   {
    "duration": 150,
    "start_time": "2022-09-28T16:11:54.185Z"
   },
   {
    "duration": 209,
    "start_time": "2022-09-28T16:11:54.336Z"
   },
   {
    "duration": 161,
    "start_time": "2022-09-28T16:11:54.547Z"
   },
   {
    "duration": 137,
    "start_time": "2022-09-28T16:11:54.710Z"
   },
   {
    "duration": 274,
    "start_time": "2022-09-28T16:11:54.849Z"
   },
   {
    "duration": 193,
    "start_time": "2022-09-28T16:11:55.125Z"
   },
   {
    "duration": 161,
    "start_time": "2022-09-28T16:11:55.319Z"
   },
   {
    "duration": 146,
    "start_time": "2022-09-28T16:12:41.836Z"
   },
   {
    "duration": 148,
    "start_time": "2022-09-28T16:14:31.180Z"
   },
   {
    "duration": 120,
    "start_time": "2022-09-28T16:14:32.054Z"
   },
   {
    "duration": 209,
    "start_time": "2022-09-28T16:15:09.502Z"
   },
   {
    "duration": 160,
    "start_time": "2022-09-28T16:15:17.847Z"
   },
   {
    "duration": 153,
    "start_time": "2022-09-28T16:15:39.949Z"
   },
   {
    "duration": 124,
    "start_time": "2022-09-28T16:16:03.637Z"
   },
   {
    "duration": 10,
    "start_time": "2022-09-28T16:44:38.639Z"
   },
   {
    "duration": 24,
    "start_time": "2022-09-28T16:44:48.089Z"
   },
   {
    "duration": 13,
    "start_time": "2022-09-28T16:45:03.604Z"
   },
   {
    "duration": 29,
    "start_time": "2022-09-28T16:48:08.592Z"
   },
   {
    "duration": 9,
    "start_time": "2022-09-28T16:48:46.684Z"
   },
   {
    "duration": 19,
    "start_time": "2022-09-28T16:49:10.745Z"
   },
   {
    "duration": 28,
    "start_time": "2022-09-28T17:01:01.006Z"
   },
   {
    "duration": 22,
    "start_time": "2022-09-28T17:01:23.531Z"
   },
   {
    "duration": 22,
    "start_time": "2022-09-28T17:02:01.400Z"
   },
   {
    "duration": 21,
    "start_time": "2022-09-28T17:03:28.555Z"
   },
   {
    "duration": 12,
    "start_time": "2022-09-28T17:03:39.887Z"
   },
   {
    "duration": 239,
    "start_time": "2022-09-28T17:05:31.392Z"
   },
   {
    "duration": 10,
    "start_time": "2022-09-28T17:06:55.985Z"
   },
   {
    "duration": 73,
    "start_time": "2022-09-28T17:07:24.411Z"
   },
   {
    "duration": 78,
    "start_time": "2022-09-28T17:08:04.479Z"
   },
   {
    "duration": 82,
    "start_time": "2022-09-28T17:08:18.109Z"
   },
   {
    "duration": 245,
    "start_time": "2022-09-28T17:08:23.864Z"
   },
   {
    "duration": 1107,
    "start_time": "2022-09-28T17:10:05.532Z"
   },
   {
    "duration": 222,
    "start_time": "2022-09-28T17:11:00.129Z"
   },
   {
    "duration": 216,
    "start_time": "2022-09-28T17:11:03.401Z"
   },
   {
    "duration": 225,
    "start_time": "2022-09-28T17:11:06.985Z"
   },
   {
    "duration": 224,
    "start_time": "2022-09-28T17:11:10.090Z"
   },
   {
    "duration": 5510,
    "start_time": "2022-09-28T17:14:53.839Z"
   },
   {
    "duration": 17,
    "start_time": "2022-09-28T17:15:10.406Z"
   },
   {
    "duration": 17,
    "start_time": "2022-09-28T17:15:39.987Z"
   },
   {
    "duration": 22,
    "start_time": "2022-09-28T17:18:36.428Z"
   },
   {
    "duration": 43,
    "start_time": "2022-09-28T17:25:25.948Z"
   },
   {
    "duration": 36,
    "start_time": "2022-09-28T17:25:43.597Z"
   },
   {
    "duration": 36,
    "start_time": "2022-09-28T17:26:03.798Z"
   },
   {
    "duration": 253,
    "start_time": "2022-09-28T17:29:46.304Z"
   },
   {
    "duration": 1127,
    "start_time": "2022-09-28T17:29:54.880Z"
   },
   {
    "duration": 25,
    "start_time": "2022-09-28T17:29:56.010Z"
   },
   {
    "duration": 1763,
    "start_time": "2022-09-28T17:29:56.037Z"
   },
   {
    "duration": 4,
    "start_time": "2022-09-28T17:29:57.802Z"
   },
   {
    "duration": 14,
    "start_time": "2022-09-28T17:29:57.807Z"
   },
   {
    "duration": 3,
    "start_time": "2022-09-28T17:29:57.823Z"
   },
   {
    "duration": 14,
    "start_time": "2022-09-28T17:29:57.827Z"
   },
   {
    "duration": 18,
    "start_time": "2022-09-28T17:29:57.842Z"
   },
   {
    "duration": 10,
    "start_time": "2022-09-28T17:29:57.861Z"
   },
   {
    "duration": 18,
    "start_time": "2022-09-28T17:29:57.873Z"
   },
   {
    "duration": 5,
    "start_time": "2022-09-28T17:29:57.892Z"
   },
   {
    "duration": 4,
    "start_time": "2022-09-28T17:29:57.899Z"
   },
   {
    "duration": 4,
    "start_time": "2022-09-28T17:29:57.905Z"
   },
   {
    "duration": 235,
    "start_time": "2022-09-28T17:29:57.921Z"
   },
   {
    "duration": 6,
    "start_time": "2022-09-28T17:29:58.158Z"
   },
   {
    "duration": 21,
    "start_time": "2022-09-28T17:29:58.165Z"
   },
   {
    "duration": 20,
    "start_time": "2022-09-28T17:29:58.188Z"
   },
   {
    "duration": 12,
    "start_time": "2022-09-28T17:29:58.210Z"
   },
   {
    "duration": 10,
    "start_time": "2022-09-28T17:29:58.224Z"
   },
   {
    "duration": 13,
    "start_time": "2022-09-28T17:29:58.235Z"
   },
   {
    "duration": 311,
    "start_time": "2022-09-28T17:29:58.250Z"
   },
   {
    "duration": 4,
    "start_time": "2022-09-28T17:29:58.563Z"
   },
   {
    "duration": 5,
    "start_time": "2022-09-28T17:29:58.569Z"
   },
   {
    "duration": 311,
    "start_time": "2022-09-28T17:29:58.576Z"
   },
   {
    "duration": 295,
    "start_time": "2022-09-28T17:29:58.889Z"
   },
   {
    "duration": 150,
    "start_time": "2022-09-28T17:29:59.186Z"
   },
   {
    "duration": 115,
    "start_time": "2022-09-28T17:29:59.337Z"
   },
   {
    "duration": 117,
    "start_time": "2022-09-28T17:29:59.455Z"
   },
   {
    "duration": 111,
    "start_time": "2022-09-28T17:29:59.574Z"
   },
   {
    "duration": 151,
    "start_time": "2022-09-28T17:29:59.686Z"
   },
   {
    "duration": 146,
    "start_time": "2022-09-28T17:29:59.838Z"
   },
   {
    "duration": 114,
    "start_time": "2022-09-28T17:29:59.985Z"
   },
   {
    "duration": 113,
    "start_time": "2022-09-28T17:30:00.100Z"
   },
   {
    "duration": 138,
    "start_time": "2022-09-28T17:30:00.215Z"
   },
   {
    "duration": 151,
    "start_time": "2022-09-28T17:30:00.355Z"
   },
   {
    "duration": 143,
    "start_time": "2022-09-28T17:30:00.508Z"
   },
   {
    "duration": 127,
    "start_time": "2022-09-28T17:30:00.653Z"
   },
   {
    "duration": 251,
    "start_time": "2022-09-28T17:30:00.782Z"
   },
   {
    "duration": 172,
    "start_time": "2022-09-28T17:30:01.035Z"
   },
   {
    "duration": 135,
    "start_time": "2022-09-28T17:30:01.209Z"
   },
   {
    "duration": 256,
    "start_time": "2022-09-28T17:30:01.345Z"
   },
   {
    "duration": 1055,
    "start_time": "2022-09-28T17:30:01.603Z"
   },
   {
    "duration": 1881,
    "start_time": "2022-09-28T17:30:02.660Z"
   },
   {
    "duration": 0,
    "start_time": "2022-09-28T17:30:04.543Z"
   },
   {
    "duration": 0,
    "start_time": "2022-09-28T17:30:04.545Z"
   },
   {
    "duration": 0,
    "start_time": "2022-09-28T17:30:04.546Z"
   },
   {
    "duration": 1225,
    "start_time": "2022-09-28T17:33:34.277Z"
   },
   {
    "duration": 1204,
    "start_time": "2022-09-28T17:33:41.189Z"
   },
   {
    "duration": 1120,
    "start_time": "2022-09-28T17:33:43.332Z"
   },
   {
    "duration": 228,
    "start_time": "2022-09-28T17:40:08.044Z"
   },
   {
    "duration": 291,
    "start_time": "2022-09-28T17:41:19.002Z"
   },
   {
    "duration": 243,
    "start_time": "2022-09-28T17:44:30.632Z"
   },
   {
    "duration": 279,
    "start_time": "2022-09-28T17:44:39.447Z"
   },
   {
    "duration": 75,
    "start_time": "2022-09-28T17:53:12.688Z"
   },
   {
    "duration": 383,
    "start_time": "2022-09-28T17:53:24.857Z"
   },
   {
    "duration": 1199,
    "start_time": "2022-09-28T17:53:35.069Z"
   },
   {
    "duration": 14,
    "start_time": "2022-09-28T17:53:36.270Z"
   },
   {
    "duration": 1970,
    "start_time": "2022-09-28T17:53:36.286Z"
   },
   {
    "duration": 4,
    "start_time": "2022-09-28T17:53:38.258Z"
   },
   {
    "duration": 9,
    "start_time": "2022-09-28T17:53:38.264Z"
   },
   {
    "duration": 4,
    "start_time": "2022-09-28T17:53:38.275Z"
   },
   {
    "duration": 12,
    "start_time": "2022-09-28T17:53:38.282Z"
   },
   {
    "duration": 15,
    "start_time": "2022-09-28T17:53:38.296Z"
   },
   {
    "duration": 15,
    "start_time": "2022-09-28T17:53:38.313Z"
   },
   {
    "duration": 8,
    "start_time": "2022-09-28T17:53:38.331Z"
   },
   {
    "duration": 10,
    "start_time": "2022-09-28T17:53:38.341Z"
   },
   {
    "duration": 9,
    "start_time": "2022-09-28T17:53:38.353Z"
   },
   {
    "duration": 8,
    "start_time": "2022-09-28T17:53:38.363Z"
   },
   {
    "duration": 297,
    "start_time": "2022-09-28T17:53:38.372Z"
   },
   {
    "duration": 6,
    "start_time": "2022-09-28T17:53:38.671Z"
   },
   {
    "duration": 18,
    "start_time": "2022-09-28T17:53:38.680Z"
   },
   {
    "duration": 45,
    "start_time": "2022-09-28T17:53:38.700Z"
   },
   {
    "duration": 3,
    "start_time": "2022-09-28T17:53:38.747Z"
   },
   {
    "duration": 10,
    "start_time": "2022-09-28T17:53:38.752Z"
   },
   {
    "duration": 17,
    "start_time": "2022-09-28T17:53:38.764Z"
   },
   {
    "duration": 383,
    "start_time": "2022-09-28T17:53:38.783Z"
   },
   {
    "duration": 5,
    "start_time": "2022-09-28T17:53:39.168Z"
   },
   {
    "duration": 7,
    "start_time": "2022-09-28T17:53:39.175Z"
   },
   {
    "duration": 376,
    "start_time": "2022-09-28T17:53:39.184Z"
   },
   {
    "duration": 341,
    "start_time": "2022-09-28T17:53:39.562Z"
   },
   {
    "duration": 148,
    "start_time": "2022-09-28T17:53:39.904Z"
   },
   {
    "duration": 145,
    "start_time": "2022-09-28T17:53:40.053Z"
   },
   {
    "duration": 136,
    "start_time": "2022-09-28T17:53:40.201Z"
   },
   {
    "duration": 135,
    "start_time": "2022-09-28T17:53:40.338Z"
   },
   {
    "duration": 163,
    "start_time": "2022-09-28T17:53:40.475Z"
   },
   {
    "duration": 165,
    "start_time": "2022-09-28T17:53:40.640Z"
   },
   {
    "duration": 123,
    "start_time": "2022-09-28T17:53:40.807Z"
   },
   {
    "duration": 140,
    "start_time": "2022-09-28T17:53:40.931Z"
   },
   {
    "duration": 177,
    "start_time": "2022-09-28T17:53:41.073Z"
   },
   {
    "duration": 181,
    "start_time": "2022-09-28T17:53:41.252Z"
   },
   {
    "duration": 173,
    "start_time": "2022-09-28T17:53:41.435Z"
   },
   {
    "duration": 161,
    "start_time": "2022-09-28T17:53:41.610Z"
   },
   {
    "duration": 271,
    "start_time": "2022-09-28T17:53:41.774Z"
   },
   {
    "duration": 190,
    "start_time": "2022-09-28T17:53:42.047Z"
   },
   {
    "duration": 161,
    "start_time": "2022-09-28T17:53:42.238Z"
   },
   {
    "duration": 292,
    "start_time": "2022-09-28T17:53:42.401Z"
   },
   {
    "duration": 307,
    "start_time": "2022-09-28T17:54:39.535Z"
   },
   {
    "duration": 6,
    "start_time": "2022-09-28T17:56:58.284Z"
   },
   {
    "duration": 353,
    "start_time": "2022-09-28T17:57:04.671Z"
   },
   {
    "duration": 235,
    "start_time": "2022-09-28T17:57:55.600Z"
   },
   {
    "duration": 1642,
    "start_time": "2022-09-29T18:18:26.441Z"
   },
   {
    "duration": 33,
    "start_time": "2022-09-29T18:18:28.085Z"
   },
   {
    "duration": 2343,
    "start_time": "2022-09-29T18:18:28.122Z"
   },
   {
    "duration": 5,
    "start_time": "2022-09-29T18:18:30.467Z"
   },
   {
    "duration": 53,
    "start_time": "2022-09-29T18:18:30.474Z"
   },
   {
    "duration": 18,
    "start_time": "2022-09-29T18:18:30.529Z"
   },
   {
    "duration": 36,
    "start_time": "2022-09-29T18:18:30.548Z"
   },
   {
    "duration": 44,
    "start_time": "2022-09-29T18:18:30.586Z"
   },
   {
    "duration": 29,
    "start_time": "2022-09-29T18:18:30.632Z"
   },
   {
    "duration": 44,
    "start_time": "2022-09-29T18:18:30.663Z"
   },
   {
    "duration": 29,
    "start_time": "2022-09-29T18:18:30.709Z"
   },
   {
    "duration": 79,
    "start_time": "2022-09-29T18:18:30.740Z"
   },
   {
    "duration": 16,
    "start_time": "2022-09-29T18:18:30.821Z"
   },
   {
    "duration": 390,
    "start_time": "2022-09-29T18:18:30.840Z"
   },
   {
    "duration": 7,
    "start_time": "2022-09-29T18:18:31.233Z"
   },
   {
    "duration": 53,
    "start_time": "2022-09-29T18:18:31.241Z"
   },
   {
    "duration": 97,
    "start_time": "2022-09-29T18:18:31.296Z"
   },
   {
    "duration": 22,
    "start_time": "2022-09-29T18:18:31.395Z"
   },
   {
    "duration": 33,
    "start_time": "2022-09-29T18:18:31.419Z"
   },
   {
    "duration": 34,
    "start_time": "2022-09-29T18:18:31.454Z"
   },
   {
    "duration": 493,
    "start_time": "2022-09-29T18:18:31.492Z"
   },
   {
    "duration": 8,
    "start_time": "2022-09-29T18:18:31.987Z"
   },
   {
    "duration": 46,
    "start_time": "2022-09-29T18:18:31.999Z"
   },
   {
    "duration": 475,
    "start_time": "2022-09-29T18:18:32.047Z"
   },
   {
    "duration": 394,
    "start_time": "2022-09-29T18:18:32.524Z"
   },
   {
    "duration": 180,
    "start_time": "2022-09-29T18:18:32.926Z"
   },
   {
    "duration": 157,
    "start_time": "2022-09-29T18:18:33.108Z"
   },
   {
    "duration": 165,
    "start_time": "2022-09-29T18:18:33.268Z"
   },
   {
    "duration": 149,
    "start_time": "2022-09-29T18:18:33.434Z"
   },
   {
    "duration": 183,
    "start_time": "2022-09-29T18:18:33.589Z"
   },
   {
    "duration": 195,
    "start_time": "2022-09-29T18:18:33.774Z"
   },
   {
    "duration": 149,
    "start_time": "2022-09-29T18:18:33.971Z"
   },
   {
    "duration": 143,
    "start_time": "2022-09-29T18:18:34.122Z"
   },
   {
    "duration": 179,
    "start_time": "2022-09-29T18:18:34.267Z"
   },
   {
    "duration": 200,
    "start_time": "2022-09-29T18:18:34.449Z"
   },
   {
    "duration": 188,
    "start_time": "2022-09-29T18:18:34.651Z"
   },
   {
    "duration": 154,
    "start_time": "2022-09-29T18:18:34.841Z"
   },
   {
    "duration": 302,
    "start_time": "2022-09-29T18:18:34.997Z"
   },
   {
    "duration": 227,
    "start_time": "2022-09-29T18:18:35.302Z"
   },
   {
    "duration": 182,
    "start_time": "2022-09-29T18:18:35.531Z"
   },
   {
    "duration": 319,
    "start_time": "2022-09-29T18:18:35.716Z"
   },
   {
    "duration": 162,
    "start_time": "2022-09-29T18:18:36.037Z"
   },
   {
    "duration": 28776,
    "start_time": "2022-09-29T18:18:36.201Z"
   },
   {
    "duration": 1379,
    "start_time": "2022-09-29T18:27:12.121Z"
   },
   {
    "duration": 17,
    "start_time": "2022-09-29T18:27:13.502Z"
   },
   {
    "duration": 2265,
    "start_time": "2022-09-29T18:27:13.521Z"
   },
   {
    "duration": 18,
    "start_time": "2022-09-29T18:27:15.788Z"
   },
   {
    "duration": 16,
    "start_time": "2022-09-29T18:27:15.808Z"
   },
   {
    "duration": 33,
    "start_time": "2022-09-29T18:27:15.826Z"
   },
   {
    "duration": 26,
    "start_time": "2022-09-29T18:27:15.861Z"
   },
   {
    "duration": 38,
    "start_time": "2022-09-29T18:27:15.889Z"
   },
   {
    "duration": 21,
    "start_time": "2022-09-29T18:27:15.929Z"
   },
   {
    "duration": 18,
    "start_time": "2022-09-29T18:27:15.953Z"
   },
   {
    "duration": 21,
    "start_time": "2022-09-29T18:27:15.973Z"
   },
   {
    "duration": 38,
    "start_time": "2022-09-29T18:27:15.995Z"
   },
   {
    "duration": 13,
    "start_time": "2022-09-29T18:27:16.034Z"
   },
   {
    "duration": 355,
    "start_time": "2022-09-29T18:27:16.049Z"
   },
   {
    "duration": 7,
    "start_time": "2022-09-29T18:27:16.407Z"
   },
   {
    "duration": 20,
    "start_time": "2022-09-29T18:27:16.416Z"
   },
   {
    "duration": 65,
    "start_time": "2022-09-29T18:27:16.438Z"
   },
   {
    "duration": 6,
    "start_time": "2022-09-29T18:27:16.504Z"
   },
   {
    "duration": 22,
    "start_time": "2022-09-29T18:27:16.512Z"
   },
   {
    "duration": 29,
    "start_time": "2022-09-29T18:27:16.536Z"
   },
   {
    "duration": 384,
    "start_time": "2022-09-29T18:27:16.566Z"
   },
   {
    "duration": 4,
    "start_time": "2022-09-29T18:27:16.952Z"
   },
   {
    "duration": 28,
    "start_time": "2022-09-29T18:27:16.957Z"
   },
   {
    "duration": 430,
    "start_time": "2022-09-29T18:27:16.987Z"
   },
   {
    "duration": 363,
    "start_time": "2022-09-29T18:27:17.419Z"
   },
   {
    "duration": 168,
    "start_time": "2022-09-29T18:27:17.783Z"
   },
   {
    "duration": 154,
    "start_time": "2022-09-29T18:27:17.953Z"
   },
   {
    "duration": 170,
    "start_time": "2022-09-29T18:27:18.110Z"
   },
   {
    "duration": 161,
    "start_time": "2022-09-29T18:27:18.281Z"
   },
   {
    "duration": 196,
    "start_time": "2022-09-29T18:27:18.444Z"
   },
   {
    "duration": 183,
    "start_time": "2022-09-29T18:27:18.642Z"
   },
   {
    "duration": 142,
    "start_time": "2022-09-29T18:27:18.827Z"
   },
   {
    "duration": 153,
    "start_time": "2022-09-29T18:27:18.970Z"
   },
   {
    "duration": 202,
    "start_time": "2022-09-29T18:27:19.125Z"
   },
   {
    "duration": 189,
    "start_time": "2022-09-29T18:27:19.329Z"
   },
   {
    "duration": 181,
    "start_time": "2022-09-29T18:27:19.520Z"
   },
   {
    "duration": 143,
    "start_time": "2022-09-29T18:27:19.706Z"
   },
   {
    "duration": 291,
    "start_time": "2022-09-29T18:27:19.851Z"
   },
   {
    "duration": 196,
    "start_time": "2022-09-29T18:27:20.143Z"
   },
   {
    "duration": 179,
    "start_time": "2022-09-29T18:27:20.341Z"
   },
   {
    "duration": 334,
    "start_time": "2022-09-29T18:27:20.522Z"
   },
   {
    "duration": 156,
    "start_time": "2022-09-29T18:27:20.858Z"
   },
   {
    "duration": 27445,
    "start_time": "2022-09-29T18:27:21.016Z"
   },
   {
    "duration": 0,
    "start_time": "2022-09-29T18:32:15.158Z"
   },
   {
    "duration": 9,
    "start_time": "2022-09-29T18:35:01.776Z"
   },
   {
    "duration": 7,
    "start_time": "2022-09-29T18:35:25.690Z"
   },
   {
    "duration": 3028,
    "start_time": "2022-09-29T18:35:32.175Z"
   },
   {
    "duration": 375,
    "start_time": "2022-09-29T18:37:51.267Z"
   },
   {
    "duration": 375,
    "start_time": "2022-09-29T18:38:53.488Z"
   },
   {
    "duration": 384,
    "start_time": "2022-09-29T18:40:09.840Z"
   },
   {
    "duration": 158,
    "start_time": "2022-09-29T18:41:45.916Z"
   },
   {
    "duration": 149,
    "start_time": "2022-09-29T18:42:55.720Z"
   },
   {
    "duration": 1475,
    "start_time": "2022-09-29T18:44:13.482Z"
   },
   {
    "duration": 251,
    "start_time": "2022-09-29T18:44:22.268Z"
   },
   {
    "duration": 221,
    "start_time": "2022-09-29T18:44:29.262Z"
   },
   {
    "duration": 186,
    "start_time": "2022-09-29T18:46:01.020Z"
   },
   {
    "duration": 174,
    "start_time": "2022-09-29T18:47:18.766Z"
   },
   {
    "duration": 216,
    "start_time": "2022-09-29T18:48:15.170Z"
   },
   {
    "duration": 184,
    "start_time": "2022-09-29T18:48:25.871Z"
   },
   {
    "duration": 162,
    "start_time": "2022-09-29T18:48:36.300Z"
   },
   {
    "duration": 213,
    "start_time": "2022-09-29T18:49:50.086Z"
   },
   {
    "duration": 597,
    "start_time": "2022-09-29T18:50:58.105Z"
   },
   {
    "duration": 1437,
    "start_time": "2022-09-29T18:51:45.412Z"
   },
   {
    "duration": 18,
    "start_time": "2022-09-29T18:51:46.851Z"
   },
   {
    "duration": 2282,
    "start_time": "2022-09-29T18:51:46.871Z"
   },
   {
    "duration": 5,
    "start_time": "2022-09-29T18:51:49.155Z"
   },
   {
    "duration": 12,
    "start_time": "2022-09-29T18:51:49.162Z"
   },
   {
    "duration": 4,
    "start_time": "2022-09-29T18:51:49.176Z"
   },
   {
    "duration": 17,
    "start_time": "2022-09-29T18:51:49.182Z"
   },
   {
    "duration": 19,
    "start_time": "2022-09-29T18:51:49.201Z"
   },
   {
    "duration": 11,
    "start_time": "2022-09-29T18:51:49.222Z"
   },
   {
    "duration": 8,
    "start_time": "2022-09-29T18:51:49.236Z"
   },
   {
    "duration": 7,
    "start_time": "2022-09-29T18:51:49.246Z"
   },
   {
    "duration": 36,
    "start_time": "2022-09-29T18:51:49.255Z"
   },
   {
    "duration": 20,
    "start_time": "2022-09-29T18:51:49.294Z"
   },
   {
    "duration": 323,
    "start_time": "2022-09-29T18:51:49.315Z"
   },
   {
    "duration": 5,
    "start_time": "2022-09-29T18:51:49.640Z"
   },
   {
    "duration": 10,
    "start_time": "2022-09-29T18:51:49.647Z"
   },
   {
    "duration": 47,
    "start_time": "2022-09-29T18:51:49.659Z"
   },
   {
    "duration": 3,
    "start_time": "2022-09-29T18:51:49.708Z"
   },
   {
    "duration": 9,
    "start_time": "2022-09-29T18:51:49.713Z"
   },
   {
    "duration": 15,
    "start_time": "2022-09-29T18:51:49.724Z"
   },
   {
    "duration": 407,
    "start_time": "2022-09-29T18:51:49.741Z"
   },
   {
    "duration": 6,
    "start_time": "2022-09-29T18:51:50.150Z"
   },
   {
    "duration": 7,
    "start_time": "2022-09-29T18:51:50.157Z"
   },
   {
    "duration": 405,
    "start_time": "2022-09-29T18:51:50.165Z"
   },
   {
    "duration": 397,
    "start_time": "2022-09-29T18:51:50.572Z"
   },
   {
    "duration": 213,
    "start_time": "2022-09-29T18:51:50.971Z"
   },
   {
    "duration": 156,
    "start_time": "2022-09-29T18:51:51.189Z"
   },
   {
    "duration": 168,
    "start_time": "2022-09-29T18:51:51.349Z"
   },
   {
    "duration": 182,
    "start_time": "2022-09-29T18:51:51.518Z"
   },
   {
    "duration": 269,
    "start_time": "2022-09-29T18:51:51.702Z"
   },
   {
    "duration": 247,
    "start_time": "2022-09-29T18:51:51.974Z"
   },
   {
    "duration": 171,
    "start_time": "2022-09-29T18:51:52.224Z"
   },
   {
    "duration": 159,
    "start_time": "2022-09-29T18:51:52.397Z"
   },
   {
    "duration": 166,
    "start_time": "2022-09-29T18:51:52.558Z"
   },
   {
    "duration": 191,
    "start_time": "2022-09-29T18:51:52.726Z"
   },
   {
    "duration": 185,
    "start_time": "2022-09-29T18:51:52.920Z"
   },
   {
    "duration": 169,
    "start_time": "2022-09-29T18:51:53.107Z"
   },
   {
    "duration": 293,
    "start_time": "2022-09-29T18:51:53.278Z"
   },
   {
    "duration": 206,
    "start_time": "2022-09-29T18:51:53.573Z"
   },
   {
    "duration": 176,
    "start_time": "2022-09-29T18:51:53.789Z"
   },
   {
    "duration": 324,
    "start_time": "2022-09-29T18:51:53.968Z"
   },
   {
    "duration": 172,
    "start_time": "2022-09-29T18:51:54.294Z"
   },
   {
    "duration": 558,
    "start_time": "2022-09-29T18:51:54.468Z"
   },
   {
    "duration": 155,
    "start_time": "2022-09-29T18:53:50.329Z"
   },
   {
    "duration": 519,
    "start_time": "2022-09-29T18:55:18.744Z"
   },
   {
    "duration": 530,
    "start_time": "2022-09-29T18:55:36.085Z"
   },
   {
    "duration": 570,
    "start_time": "2022-09-29T19:00:05.425Z"
   },
   {
    "duration": 327,
    "start_time": "2022-09-29T19:00:43.705Z"
   },
   {
    "duration": 346,
    "start_time": "2022-09-29T19:01:10.717Z"
   },
   {
    "duration": 286,
    "start_time": "2022-09-29T19:01:29.676Z"
   },
   {
    "duration": 346,
    "start_time": "2022-09-29T19:01:55.136Z"
   },
   {
    "duration": 293,
    "start_time": "2022-09-29T19:02:18.239Z"
   },
   {
    "duration": 183,
    "start_time": "2022-09-29T19:09:49.024Z"
   },
   {
    "duration": 164,
    "start_time": "2022-09-29T19:11:06.685Z"
   },
   {
    "duration": 184,
    "start_time": "2022-09-29T19:11:25.013Z"
   },
   {
    "duration": 218,
    "start_time": "2022-09-29T19:12:32.279Z"
   },
   {
    "duration": 263,
    "start_time": "2022-09-29T19:13:19.368Z"
   },
   {
    "duration": 238,
    "start_time": "2022-09-29T19:17:08.331Z"
   },
   {
    "duration": 342,
    "start_time": "2022-09-29T19:17:57.876Z"
   },
   {
    "duration": 1377,
    "start_time": "2022-09-29T19:18:06.879Z"
   },
   {
    "duration": 32,
    "start_time": "2022-09-29T19:18:08.259Z"
   },
   {
    "duration": 2231,
    "start_time": "2022-09-29T19:18:08.294Z"
   },
   {
    "duration": 5,
    "start_time": "2022-09-29T19:18:10.528Z"
   },
   {
    "duration": 10,
    "start_time": "2022-09-29T19:18:10.534Z"
   },
   {
    "duration": 5,
    "start_time": "2022-09-29T19:18:10.546Z"
   },
   {
    "duration": 16,
    "start_time": "2022-09-29T19:18:10.553Z"
   },
   {
    "duration": 19,
    "start_time": "2022-09-29T19:18:10.572Z"
   },
   {
    "duration": 13,
    "start_time": "2022-09-29T19:18:10.593Z"
   },
   {
    "duration": 15,
    "start_time": "2022-09-29T19:18:10.610Z"
   },
   {
    "duration": 9,
    "start_time": "2022-09-29T19:18:10.627Z"
   },
   {
    "duration": 9,
    "start_time": "2022-09-29T19:18:10.638Z"
   },
   {
    "duration": 8,
    "start_time": "2022-09-29T19:18:10.649Z"
   },
   {
    "duration": 389,
    "start_time": "2022-09-29T19:18:10.660Z"
   },
   {
    "duration": 7,
    "start_time": "2022-09-29T19:18:11.052Z"
   },
   {
    "duration": 18,
    "start_time": "2022-09-29T19:18:11.061Z"
   },
   {
    "duration": 32,
    "start_time": "2022-09-29T19:18:11.081Z"
   },
   {
    "duration": 2,
    "start_time": "2022-09-29T19:18:11.117Z"
   },
   {
    "duration": 9,
    "start_time": "2022-09-29T19:18:11.122Z"
   },
   {
    "duration": 17,
    "start_time": "2022-09-29T19:18:11.132Z"
   },
   {
    "duration": 415,
    "start_time": "2022-09-29T19:18:11.151Z"
   },
   {
    "duration": 5,
    "start_time": "2022-09-29T19:18:11.568Z"
   },
   {
    "duration": 18,
    "start_time": "2022-09-29T19:18:11.575Z"
   },
   {
    "duration": 531,
    "start_time": "2022-09-29T19:18:11.596Z"
   },
   {
    "duration": 370,
    "start_time": "2022-09-29T19:18:12.128Z"
   },
   {
    "duration": 175,
    "start_time": "2022-09-29T19:18:12.500Z"
   },
   {
    "duration": 166,
    "start_time": "2022-09-29T19:18:12.678Z"
   },
   {
    "duration": 152,
    "start_time": "2022-09-29T19:18:12.848Z"
   },
   {
    "duration": 155,
    "start_time": "2022-09-29T19:18:13.002Z"
   },
   {
    "duration": 185,
    "start_time": "2022-09-29T19:18:13.159Z"
   },
   {
    "duration": 207,
    "start_time": "2022-09-29T19:18:13.346Z"
   },
   {
    "duration": 139,
    "start_time": "2022-09-29T19:18:13.555Z"
   },
   {
    "duration": 150,
    "start_time": "2022-09-29T19:18:13.696Z"
   },
   {
    "duration": 173,
    "start_time": "2022-09-29T19:18:13.848Z"
   },
   {
    "duration": 193,
    "start_time": "2022-09-29T19:18:14.023Z"
   },
   {
    "duration": 181,
    "start_time": "2022-09-29T19:18:14.217Z"
   },
   {
    "duration": 157,
    "start_time": "2022-09-29T19:18:14.399Z"
   },
   {
    "duration": 280,
    "start_time": "2022-09-29T19:18:14.558Z"
   },
   {
    "duration": 195,
    "start_time": "2022-09-29T19:18:14.840Z"
   },
   {
    "duration": 175,
    "start_time": "2022-09-29T19:18:15.037Z"
   },
   {
    "duration": 11,
    "start_time": "2022-09-29T19:18:15.214Z"
   },
   {
    "duration": 229,
    "start_time": "2022-09-29T19:18:15.227Z"
   },
   {
    "duration": 225,
    "start_time": "2022-09-29T19:18:15.458Z"
   },
   {
    "duration": 238,
    "start_time": "2022-09-29T19:18:15.690Z"
   },
   {
    "duration": 309,
    "start_time": "2022-09-29T19:18:15.931Z"
   },
   {
    "duration": 185,
    "start_time": "2022-09-29T19:18:16.242Z"
   },
   {
    "duration": 561,
    "start_time": "2022-09-29T19:18:16.429Z"
   },
   {
    "duration": 350,
    "start_time": "2022-09-29T19:29:38.705Z"
   },
   {
    "duration": 288,
    "start_time": "2022-09-29T19:29:55.352Z"
   },
   {
    "duration": 21,
    "start_time": "2022-09-29T19:34:07.525Z"
   },
   {
    "duration": 11,
    "start_time": "2022-09-29T19:34:25.804Z"
   },
   {
    "duration": 11,
    "start_time": "2022-09-29T19:34:48.607Z"
   },
   {
    "duration": 11,
    "start_time": "2022-09-29T19:34:58.759Z"
   },
   {
    "duration": 16,
    "start_time": "2022-09-29T19:35:39.357Z"
   },
   {
    "duration": 15,
    "start_time": "2022-09-29T19:37:24.113Z"
   },
   {
    "duration": 18,
    "start_time": "2022-09-29T19:37:50.716Z"
   },
   {
    "duration": 18,
    "start_time": "2022-09-29T19:38:23.967Z"
   },
   {
    "duration": 1239,
    "start_time": "2022-09-29T19:39:25.603Z"
   },
   {
    "duration": 145,
    "start_time": "2022-09-29T19:39:59.210Z"
   },
   {
    "duration": 23,
    "start_time": "2022-09-29T19:40:37.780Z"
   },
   {
    "duration": 27,
    "start_time": "2022-09-29T19:41:03.304Z"
   },
   {
    "duration": 14,
    "start_time": "2022-09-29T19:41:36.844Z"
   },
   {
    "duration": 26,
    "start_time": "2022-09-29T19:41:46.937Z"
   },
   {
    "duration": 31,
    "start_time": "2022-09-29T19:42:07.085Z"
   },
   {
    "duration": 160,
    "start_time": "2022-09-29T19:42:37.012Z"
   },
   {
    "duration": 25,
    "start_time": "2022-09-29T19:42:56.214Z"
   },
   {
    "duration": 14,
    "start_time": "2022-09-29T19:43:05.468Z"
   },
   {
    "duration": 28,
    "start_time": "2022-09-29T19:43:35.350Z"
   },
   {
    "duration": 22,
    "start_time": "2022-09-29T19:45:00.167Z"
   },
   {
    "duration": 22,
    "start_time": "2022-09-29T19:45:43.116Z"
   },
   {
    "duration": 26,
    "start_time": "2022-09-29T19:46:06.519Z"
   },
   {
    "duration": 21,
    "start_time": "2022-09-29T19:46:32.318Z"
   },
   {
    "duration": 31,
    "start_time": "2022-09-29T19:47:19.466Z"
   },
   {
    "duration": 25,
    "start_time": "2022-09-29T19:47:47.022Z"
   },
   {
    "duration": 31,
    "start_time": "2022-09-29T19:49:42.248Z"
   },
   {
    "duration": 34,
    "start_time": "2022-09-29T19:50:07.504Z"
   },
   {
    "duration": 30,
    "start_time": "2022-09-29T19:50:24.781Z"
   },
   {
    "duration": 33,
    "start_time": "2022-09-29T19:50:38.549Z"
   },
   {
    "duration": 23,
    "start_time": "2022-09-29T19:52:38.906Z"
   },
   {
    "duration": 22,
    "start_time": "2022-09-29T19:54:13.518Z"
   },
   {
    "duration": 23,
    "start_time": "2022-09-29T19:54:39.529Z"
   },
   {
    "duration": 24,
    "start_time": "2022-09-29T19:55:18.926Z"
   },
   {
    "duration": 22,
    "start_time": "2022-09-29T19:55:35.725Z"
   },
   {
    "duration": 29,
    "start_time": "2022-09-29T19:56:01.769Z"
   },
   {
    "duration": 23,
    "start_time": "2022-09-29T19:56:35.407Z"
   },
   {
    "duration": 23,
    "start_time": "2022-09-29T19:56:51.504Z"
   },
   {
    "duration": 24,
    "start_time": "2022-09-29T19:57:09.284Z"
   },
   {
    "duration": 277,
    "start_time": "2022-09-29T19:58:17.503Z"
   },
   {
    "duration": 285,
    "start_time": "2022-09-29T20:02:01.033Z"
   },
   {
    "duration": 300,
    "start_time": "2022-09-29T20:08:01.963Z"
   },
   {
    "duration": 272,
    "start_time": "2022-09-29T20:10:56.212Z"
   },
   {
    "duration": 375,
    "start_time": "2022-09-29T20:12:12.632Z"
   },
   {
    "duration": 276,
    "start_time": "2022-09-29T20:12:51.074Z"
   },
   {
    "duration": 1326,
    "start_time": "2022-09-29T20:13:25.285Z"
   },
   {
    "duration": 17,
    "start_time": "2022-09-29T20:13:26.613Z"
   },
   {
    "duration": 2157,
    "start_time": "2022-09-29T20:13:26.632Z"
   },
   {
    "duration": 12,
    "start_time": "2022-09-29T20:13:28.791Z"
   },
   {
    "duration": 16,
    "start_time": "2022-09-29T20:13:28.805Z"
   },
   {
    "duration": 5,
    "start_time": "2022-09-29T20:13:28.822Z"
   },
   {
    "duration": 11,
    "start_time": "2022-09-29T20:13:28.829Z"
   },
   {
    "duration": 13,
    "start_time": "2022-09-29T20:13:28.842Z"
   },
   {
    "duration": 10,
    "start_time": "2022-09-29T20:13:28.856Z"
   },
   {
    "duration": 28,
    "start_time": "2022-09-29T20:13:28.868Z"
   },
   {
    "duration": 6,
    "start_time": "2022-09-29T20:13:28.906Z"
   },
   {
    "duration": 6,
    "start_time": "2022-09-29T20:13:28.914Z"
   },
   {
    "duration": 9,
    "start_time": "2022-09-29T20:13:28.922Z"
   },
   {
    "duration": 356,
    "start_time": "2022-09-29T20:13:28.935Z"
   },
   {
    "duration": 6,
    "start_time": "2022-09-29T20:13:29.305Z"
   },
   {
    "duration": 8,
    "start_time": "2022-09-29T20:13:29.313Z"
   },
   {
    "duration": 25,
    "start_time": "2022-09-29T20:13:29.322Z"
   },
   {
    "duration": 3,
    "start_time": "2022-09-29T20:13:29.349Z"
   },
   {
    "duration": 12,
    "start_time": "2022-09-29T20:13:29.354Z"
   },
   {
    "duration": 26,
    "start_time": "2022-09-29T20:13:29.368Z"
   },
   {
    "duration": 348,
    "start_time": "2022-09-29T20:13:29.406Z"
   },
   {
    "duration": 5,
    "start_time": "2022-09-29T20:13:29.756Z"
   },
   {
    "duration": 6,
    "start_time": "2022-09-29T20:13:29.763Z"
   },
   {
    "duration": 383,
    "start_time": "2022-09-29T20:13:29.770Z"
   },
   {
    "duration": 357,
    "start_time": "2022-09-29T20:13:30.155Z"
   },
   {
    "duration": 190,
    "start_time": "2022-09-29T20:13:30.514Z"
   },
   {
    "duration": 157,
    "start_time": "2022-09-29T20:13:30.706Z"
   },
   {
    "duration": 148,
    "start_time": "2022-09-29T20:13:30.865Z"
   },
   {
    "duration": 146,
    "start_time": "2022-09-29T20:13:31.015Z"
   },
   {
    "duration": 179,
    "start_time": "2022-09-29T20:13:31.163Z"
   },
   {
    "duration": 174,
    "start_time": "2022-09-29T20:13:31.344Z"
   },
   {
    "duration": 135,
    "start_time": "2022-09-29T20:13:31.519Z"
   },
   {
    "duration": 150,
    "start_time": "2022-09-29T20:13:31.655Z"
   },
   {
    "duration": 178,
    "start_time": "2022-09-29T20:13:31.807Z"
   },
   {
    "duration": 217,
    "start_time": "2022-09-29T20:13:31.995Z"
   },
   {
    "duration": 168,
    "start_time": "2022-09-29T20:13:32.214Z"
   },
   {
    "duration": 147,
    "start_time": "2022-09-29T20:13:32.383Z"
   },
   {
    "duration": 278,
    "start_time": "2022-09-29T20:13:32.531Z"
   },
   {
    "duration": 179,
    "start_time": "2022-09-29T20:13:32.811Z"
   },
   {
    "duration": 159,
    "start_time": "2022-09-29T20:13:32.992Z"
   },
   {
    "duration": 21,
    "start_time": "2022-09-29T20:13:33.155Z"
   },
   {
    "duration": 211,
    "start_time": "2022-09-29T20:13:33.178Z"
   },
   {
    "duration": 217,
    "start_time": "2022-09-29T20:13:33.390Z"
   },
   {
    "duration": 216,
    "start_time": "2022-09-29T20:13:33.609Z"
   },
   {
    "duration": 275,
    "start_time": "2022-09-29T20:13:33.827Z"
   },
   {
    "duration": 153,
    "start_time": "2022-09-29T20:13:34.104Z"
   },
   {
    "duration": 553,
    "start_time": "2022-09-29T20:13:34.259Z"
   },
   {
    "duration": 23,
    "start_time": "2022-09-29T20:13:34.814Z"
   },
   {
    "duration": 338,
    "start_time": "2022-09-29T20:14:43.311Z"
   },
   {
    "duration": 355,
    "start_time": "2022-09-29T20:16:14.929Z"
   },
   {
    "duration": 1455,
    "start_time": "2022-09-29T20:17:13.705Z"
   },
   {
    "duration": 17,
    "start_time": "2022-09-29T20:17:15.162Z"
   },
   {
    "duration": 2225,
    "start_time": "2022-09-29T20:17:15.181Z"
   },
   {
    "duration": 4,
    "start_time": "2022-09-29T20:17:17.408Z"
   },
   {
    "duration": 12,
    "start_time": "2022-09-29T20:17:17.414Z"
   },
   {
    "duration": 7,
    "start_time": "2022-09-29T20:17:17.427Z"
   },
   {
    "duration": 14,
    "start_time": "2022-09-29T20:17:17.436Z"
   },
   {
    "duration": 13,
    "start_time": "2022-09-29T20:17:17.451Z"
   },
   {
    "duration": 11,
    "start_time": "2022-09-29T20:17:17.465Z"
   },
   {
    "duration": 13,
    "start_time": "2022-09-29T20:17:17.489Z"
   },
   {
    "duration": 10,
    "start_time": "2022-09-29T20:17:17.507Z"
   },
   {
    "duration": 8,
    "start_time": "2022-09-29T20:17:17.519Z"
   },
   {
    "duration": 5,
    "start_time": "2022-09-29T20:17:17.528Z"
   },
   {
    "duration": 413,
    "start_time": "2022-09-29T20:17:17.535Z"
   },
   {
    "duration": 6,
    "start_time": "2022-09-29T20:17:17.950Z"
   },
   {
    "duration": 12,
    "start_time": "2022-09-29T20:17:17.957Z"
   },
   {
    "duration": 43,
    "start_time": "2022-09-29T20:17:17.970Z"
   },
   {
    "duration": 3,
    "start_time": "2022-09-29T20:17:18.015Z"
   },
   {
    "duration": 8,
    "start_time": "2022-09-29T20:17:18.020Z"
   },
   {
    "duration": 15,
    "start_time": "2022-09-29T20:17:18.029Z"
   },
   {
    "duration": 391,
    "start_time": "2022-09-29T20:17:18.045Z"
   },
   {
    "duration": 4,
    "start_time": "2022-09-29T20:17:18.438Z"
   },
   {
    "duration": 6,
    "start_time": "2022-09-29T20:17:18.444Z"
   },
   {
    "duration": 384,
    "start_time": "2022-09-29T20:17:18.451Z"
   },
   {
    "duration": 376,
    "start_time": "2022-09-29T20:17:18.837Z"
   },
   {
    "duration": 186,
    "start_time": "2022-09-29T20:17:19.215Z"
   },
   {
    "duration": 159,
    "start_time": "2022-09-29T20:17:19.406Z"
   },
   {
    "duration": 154,
    "start_time": "2022-09-29T20:17:19.569Z"
   },
   {
    "duration": 184,
    "start_time": "2022-09-29T20:17:19.725Z"
   },
   {
    "duration": 199,
    "start_time": "2022-09-29T20:17:19.911Z"
   },
   {
    "duration": 196,
    "start_time": "2022-09-29T20:17:20.112Z"
   },
   {
    "duration": 148,
    "start_time": "2022-09-29T20:17:20.310Z"
   },
   {
    "duration": 152,
    "start_time": "2022-09-29T20:17:20.460Z"
   },
   {
    "duration": 170,
    "start_time": "2022-09-29T20:17:20.614Z"
   },
   {
    "duration": 192,
    "start_time": "2022-09-29T20:17:20.788Z"
   },
   {
    "duration": 191,
    "start_time": "2022-09-29T20:17:20.982Z"
   },
   {
    "duration": 148,
    "start_time": "2022-09-29T20:17:21.174Z"
   },
   {
    "duration": 298,
    "start_time": "2022-09-29T20:17:21.323Z"
   },
   {
    "duration": 239,
    "start_time": "2022-09-29T20:17:21.623Z"
   },
   {
    "duration": 203,
    "start_time": "2022-09-29T20:17:21.865Z"
   },
   {
    "duration": 41,
    "start_time": "2022-09-29T20:17:22.070Z"
   },
   {
    "duration": 306,
    "start_time": "2022-09-29T20:17:22.115Z"
   },
   {
    "duration": 227,
    "start_time": "2022-09-29T20:17:22.423Z"
   },
   {
    "duration": 256,
    "start_time": "2022-09-29T20:17:22.652Z"
   },
   {
    "duration": 312,
    "start_time": "2022-09-29T20:17:22.910Z"
   },
   {
    "duration": 175,
    "start_time": "2022-09-29T20:17:23.224Z"
   },
   {
    "duration": 529,
    "start_time": "2022-09-29T20:17:23.405Z"
   },
   {
    "duration": 24,
    "start_time": "2022-09-29T20:17:23.937Z"
   },
   {
    "duration": 646,
    "start_time": "2022-09-29T20:18:51.468Z"
   },
   {
    "duration": 519,
    "start_time": "2022-09-29T20:19:34.660Z"
   },
   {
    "duration": 557,
    "start_time": "2022-09-29T20:20:11.007Z"
   },
   {
    "duration": 24,
    "start_time": "2022-09-29T20:20:33.415Z"
   },
   {
    "duration": 25,
    "start_time": "2022-09-29T20:22:46.412Z"
   },
   {
    "duration": 24,
    "start_time": "2022-09-29T20:23:25.913Z"
   },
   {
    "duration": 23,
    "start_time": "2022-09-29T20:23:31.709Z"
   },
   {
    "duration": 24,
    "start_time": "2022-09-29T20:23:41.577Z"
   },
   {
    "duration": 28,
    "start_time": "2022-09-29T20:24:18.294Z"
   },
   {
    "duration": 62,
    "start_time": "2022-09-30T08:30:27.830Z"
   },
   {
    "duration": 1760,
    "start_time": "2022-09-30T08:30:43.646Z"
   },
   {
    "duration": 26,
    "start_time": "2022-09-30T08:30:45.409Z"
   },
   {
    "duration": 1920,
    "start_time": "2022-09-30T08:30:45.437Z"
   },
   {
    "duration": 4,
    "start_time": "2022-09-30T08:30:47.358Z"
   },
   {
    "duration": 9,
    "start_time": "2022-09-30T08:30:47.364Z"
   },
   {
    "duration": 6,
    "start_time": "2022-09-30T08:30:47.375Z"
   },
   {
    "duration": 10,
    "start_time": "2022-09-30T08:30:47.383Z"
   },
   {
    "duration": 10,
    "start_time": "2022-09-30T08:30:47.395Z"
   },
   {
    "duration": 17,
    "start_time": "2022-09-30T08:30:47.407Z"
   },
   {
    "duration": 19,
    "start_time": "2022-09-30T08:30:47.426Z"
   },
   {
    "duration": 11,
    "start_time": "2022-09-30T08:30:47.446Z"
   },
   {
    "duration": 12,
    "start_time": "2022-09-30T08:30:47.459Z"
   },
   {
    "duration": 6,
    "start_time": "2022-09-30T08:30:47.473Z"
   },
   {
    "duration": 618,
    "start_time": "2022-09-30T08:30:47.482Z"
   },
   {
    "duration": 7,
    "start_time": "2022-09-30T08:30:48.102Z"
   },
   {
    "duration": 28,
    "start_time": "2022-09-30T08:30:48.118Z"
   },
   {
    "duration": 23,
    "start_time": "2022-09-30T08:30:48.148Z"
   },
   {
    "duration": 2,
    "start_time": "2022-09-30T08:30:48.172Z"
   },
   {
    "duration": 7,
    "start_time": "2022-09-30T08:30:48.175Z"
   },
   {
    "duration": 13,
    "start_time": "2022-09-30T08:30:48.183Z"
   },
   {
    "duration": 395,
    "start_time": "2022-09-30T08:30:48.197Z"
   },
   {
    "duration": 5,
    "start_time": "2022-09-30T08:30:48.593Z"
   },
   {
    "duration": 30,
    "start_time": "2022-09-30T08:30:48.599Z"
   },
   {
    "duration": 370,
    "start_time": "2022-09-30T08:30:48.632Z"
   },
   {
    "duration": 315,
    "start_time": "2022-09-30T08:30:49.003Z"
   },
   {
    "duration": 152,
    "start_time": "2022-09-30T08:30:49.328Z"
   },
   {
    "duration": 152,
    "start_time": "2022-09-30T08:30:49.482Z"
   },
   {
    "duration": 136,
    "start_time": "2022-09-30T08:30:49.636Z"
   },
   {
    "duration": 127,
    "start_time": "2022-09-30T08:30:49.773Z"
   },
   {
    "duration": 162,
    "start_time": "2022-09-30T08:30:49.901Z"
   },
   {
    "duration": 165,
    "start_time": "2022-09-30T08:30:50.065Z"
   },
   {
    "duration": 108,
    "start_time": "2022-09-30T08:30:50.233Z"
   },
   {
    "duration": 128,
    "start_time": "2022-09-30T08:30:50.342Z"
   },
   {
    "duration": 157,
    "start_time": "2022-09-30T08:30:50.471Z"
   },
   {
    "duration": 162,
    "start_time": "2022-09-30T08:30:50.630Z"
   },
   {
    "duration": 153,
    "start_time": "2022-09-30T08:30:50.794Z"
   },
   {
    "duration": 137,
    "start_time": "2022-09-30T08:30:50.948Z"
   },
   {
    "duration": 245,
    "start_time": "2022-09-30T08:30:51.087Z"
   },
   {
    "duration": 160,
    "start_time": "2022-09-30T08:30:51.334Z"
   },
   {
    "duration": 151,
    "start_time": "2022-09-30T08:30:51.496Z"
   },
   {
    "duration": 20,
    "start_time": "2022-09-30T08:30:51.650Z"
   },
   {
    "duration": 202,
    "start_time": "2022-09-30T08:30:51.671Z"
   },
   {
    "duration": 210,
    "start_time": "2022-09-30T08:30:51.875Z"
   },
   {
    "duration": 216,
    "start_time": "2022-09-30T08:30:52.086Z"
   },
   {
    "duration": 254,
    "start_time": "2022-09-30T08:30:52.308Z"
   },
   {
    "duration": 182,
    "start_time": "2022-09-30T08:30:52.564Z"
   },
   {
    "duration": 526,
    "start_time": "2022-09-30T08:30:52.748Z"
   },
   {
    "duration": 35,
    "start_time": "2022-09-30T08:30:53.276Z"
   },
   {
    "duration": 147,
    "start_time": "2022-09-30T08:32:11.232Z"
   },
   {
    "duration": 31,
    "start_time": "2022-09-30T08:32:24.124Z"
   },
   {
    "duration": 29,
    "start_time": "2022-09-30T08:32:56.443Z"
   },
   {
    "duration": 27,
    "start_time": "2022-09-30T08:33:33.548Z"
   },
   {
    "duration": 41,
    "start_time": "2022-09-30T08:35:05.238Z"
   },
   {
    "duration": 31,
    "start_time": "2022-09-30T08:35:50.360Z"
   },
   {
    "duration": 21,
    "start_time": "2022-09-30T08:36:26.231Z"
   },
   {
    "duration": 214,
    "start_time": "2022-09-30T08:37:59.138Z"
   },
   {
    "duration": 139,
    "start_time": "2022-09-30T08:38:49.736Z"
   },
   {
    "duration": 114,
    "start_time": "2022-09-30T08:39:15.446Z"
   },
   {
    "duration": 162,
    "start_time": "2022-09-30T08:39:21.911Z"
   },
   {
    "duration": 163,
    "start_time": "2022-09-30T08:39:29.300Z"
   },
   {
    "duration": 234,
    "start_time": "2022-09-30T08:39:59.638Z"
   },
   {
    "duration": 177,
    "start_time": "2022-09-30T08:40:17.104Z"
   },
   {
    "duration": 185,
    "start_time": "2022-09-30T08:40:47.558Z"
   },
   {
    "duration": 205,
    "start_time": "2022-09-30T08:42:29.242Z"
   },
   {
    "duration": 182,
    "start_time": "2022-09-30T08:44:11.446Z"
   },
   {
    "duration": 181,
    "start_time": "2022-09-30T08:45:15.391Z"
   },
   {
    "duration": 185,
    "start_time": "2022-09-30T08:45:42.069Z"
   },
   {
    "duration": 163,
    "start_time": "2022-09-30T08:46:07.798Z"
   },
   {
    "duration": 13,
    "start_time": "2022-09-30T08:46:40.645Z"
   },
   {
    "duration": 189,
    "start_time": "2022-09-30T08:48:29.496Z"
   },
   {
    "duration": 170,
    "start_time": "2022-09-30T08:49:06.009Z"
   },
   {
    "duration": 160,
    "start_time": "2022-09-30T08:49:18.934Z"
   },
   {
    "duration": 168,
    "start_time": "2022-09-30T08:50:00.901Z"
   },
   {
    "duration": 2,
    "start_time": "2022-09-30T08:50:47.667Z"
   },
   {
    "duration": 20,
    "start_time": "2022-09-30T08:50:52.730Z"
   },
   {
    "duration": 13,
    "start_time": "2022-09-30T08:51:07.008Z"
   },
   {
    "duration": 157,
    "start_time": "2022-09-30T08:52:51.121Z"
   },
   {
    "duration": 166,
    "start_time": "2022-09-30T08:53:15.637Z"
   },
   {
    "duration": 10,
    "start_time": "2022-09-30T08:53:21.747Z"
   },
   {
    "duration": 22,
    "start_time": "2022-09-30T08:53:36.396Z"
   },
   {
    "duration": 1500,
    "start_time": "2022-09-30T08:54:08.020Z"
   },
   {
    "duration": 14,
    "start_time": "2022-09-30T08:54:09.522Z"
   },
   {
    "duration": 1792,
    "start_time": "2022-09-30T08:54:09.537Z"
   },
   {
    "duration": 4,
    "start_time": "2022-09-30T08:54:11.331Z"
   },
   {
    "duration": 9,
    "start_time": "2022-09-30T08:54:11.337Z"
   },
   {
    "duration": 4,
    "start_time": "2022-09-30T08:54:11.347Z"
   },
   {
    "duration": 11,
    "start_time": "2022-09-30T08:54:11.352Z"
   },
   {
    "duration": 12,
    "start_time": "2022-09-30T08:54:11.365Z"
   },
   {
    "duration": 9,
    "start_time": "2022-09-30T08:54:11.378Z"
   },
   {
    "duration": 21,
    "start_time": "2022-09-30T08:54:11.390Z"
   },
   {
    "duration": 6,
    "start_time": "2022-09-30T08:54:11.412Z"
   },
   {
    "duration": 4,
    "start_time": "2022-09-30T08:54:11.420Z"
   },
   {
    "duration": 5,
    "start_time": "2022-09-30T08:54:11.425Z"
   },
   {
    "duration": 606,
    "start_time": "2022-09-30T08:54:11.432Z"
   },
   {
    "duration": 5,
    "start_time": "2022-09-30T08:54:12.039Z"
   },
   {
    "duration": 10,
    "start_time": "2022-09-30T08:54:12.045Z"
   },
   {
    "duration": 21,
    "start_time": "2022-09-30T08:54:12.057Z"
   },
   {
    "duration": 2,
    "start_time": "2022-09-30T08:54:12.079Z"
   },
   {
    "duration": 7,
    "start_time": "2022-09-30T08:54:12.083Z"
   },
   {
    "duration": 9,
    "start_time": "2022-09-30T08:54:12.109Z"
   },
   {
    "duration": 357,
    "start_time": "2022-09-30T08:54:12.120Z"
   },
   {
    "duration": 4,
    "start_time": "2022-09-30T08:54:12.479Z"
   },
   {
    "duration": 6,
    "start_time": "2022-09-30T08:54:12.485Z"
   },
   {
    "duration": 384,
    "start_time": "2022-09-30T08:54:12.493Z"
   },
   {
    "duration": 308,
    "start_time": "2022-09-30T08:54:12.879Z"
   },
   {
    "duration": 149,
    "start_time": "2022-09-30T08:54:13.189Z"
   },
   {
    "duration": 132,
    "start_time": "2022-09-30T08:54:13.340Z"
   },
   {
    "duration": 127,
    "start_time": "2022-09-30T08:54:13.475Z"
   },
   {
    "duration": 117,
    "start_time": "2022-09-30T08:54:13.603Z"
   },
   {
    "duration": 155,
    "start_time": "2022-09-30T08:54:13.721Z"
   },
   {
    "duration": 151,
    "start_time": "2022-09-30T08:54:13.878Z"
   },
   {
    "duration": 126,
    "start_time": "2022-09-30T08:54:14.030Z"
   },
   {
    "duration": 127,
    "start_time": "2022-09-30T08:54:14.158Z"
   },
   {
    "duration": 141,
    "start_time": "2022-09-30T08:54:14.287Z"
   },
   {
    "duration": 149,
    "start_time": "2022-09-30T08:54:14.430Z"
   },
   {
    "duration": 151,
    "start_time": "2022-09-30T08:54:14.580Z"
   },
   {
    "duration": 131,
    "start_time": "2022-09-30T08:54:14.733Z"
   },
   {
    "duration": 223,
    "start_time": "2022-09-30T08:54:14.866Z"
   },
   {
    "duration": 163,
    "start_time": "2022-09-30T08:54:15.090Z"
   },
   {
    "duration": 141,
    "start_time": "2022-09-30T08:54:15.254Z"
   },
   {
    "duration": 24,
    "start_time": "2022-09-30T08:54:15.396Z"
   },
   {
    "duration": 180,
    "start_time": "2022-09-30T08:54:15.421Z"
   },
   {
    "duration": 190,
    "start_time": "2022-09-30T08:54:15.603Z"
   },
   {
    "duration": 200,
    "start_time": "2022-09-30T08:54:15.794Z"
   },
   {
    "duration": 247,
    "start_time": "2022-09-30T08:54:15.995Z"
   },
   {
    "duration": 137,
    "start_time": "2022-09-30T08:54:16.244Z"
   },
   {
    "duration": 472,
    "start_time": "2022-09-30T08:54:16.382Z"
   },
   {
    "duration": 156,
    "start_time": "2022-09-30T08:54:16.855Z"
   },
   {
    "duration": 10,
    "start_time": "2022-09-30T08:54:17.013Z"
   },
   {
    "duration": 162,
    "start_time": "2022-09-30T08:55:38.528Z"
   },
   {
    "duration": 158,
    "start_time": "2022-09-30T08:55:49.458Z"
   },
   {
    "duration": 199,
    "start_time": "2022-09-30T08:56:13.828Z"
   },
   {
    "duration": 277,
    "start_time": "2022-09-30T08:57:01.540Z"
   },
   {
    "duration": 9,
    "start_time": "2022-09-30T08:57:20.716Z"
   },
   {
    "duration": 1213,
    "start_time": "2022-09-30T08:57:52.813Z"
   },
   {
    "duration": 14,
    "start_time": "2022-09-30T08:57:54.028Z"
   },
   {
    "duration": 1857,
    "start_time": "2022-09-30T08:57:54.044Z"
   },
   {
    "duration": 4,
    "start_time": "2022-09-30T08:57:55.903Z"
   },
   {
    "duration": 9,
    "start_time": "2022-09-30T08:57:55.908Z"
   },
   {
    "duration": 4,
    "start_time": "2022-09-30T08:57:55.919Z"
   },
   {
    "duration": 13,
    "start_time": "2022-09-30T08:57:55.924Z"
   },
   {
    "duration": 16,
    "start_time": "2022-09-30T08:57:55.938Z"
   },
   {
    "duration": 9,
    "start_time": "2022-09-30T08:57:55.956Z"
   },
   {
    "duration": 9,
    "start_time": "2022-09-30T08:57:55.967Z"
   },
   {
    "duration": 5,
    "start_time": "2022-09-30T08:57:55.977Z"
   },
   {
    "duration": 28,
    "start_time": "2022-09-30T08:57:55.984Z"
   },
   {
    "duration": 6,
    "start_time": "2022-09-30T08:57:56.014Z"
   },
   {
    "duration": 564,
    "start_time": "2022-09-30T08:57:56.021Z"
   },
   {
    "duration": 5,
    "start_time": "2022-09-30T08:57:56.587Z"
   },
   {
    "duration": 16,
    "start_time": "2022-09-30T08:57:56.593Z"
   },
   {
    "duration": 23,
    "start_time": "2022-09-30T08:57:56.610Z"
   },
   {
    "duration": 3,
    "start_time": "2022-09-30T08:57:56.634Z"
   },
   {
    "duration": 7,
    "start_time": "2022-09-30T08:57:56.638Z"
   },
   {
    "duration": 12,
    "start_time": "2022-09-30T08:57:56.647Z"
   },
   {
    "duration": 365,
    "start_time": "2022-09-30T08:57:56.661Z"
   },
   {
    "duration": 3,
    "start_time": "2022-09-30T08:57:57.028Z"
   },
   {
    "duration": 8,
    "start_time": "2022-09-30T08:57:57.032Z"
   },
   {
    "duration": 308,
    "start_time": "2022-09-30T08:57:57.041Z"
   },
   {
    "duration": 286,
    "start_time": "2022-09-30T08:57:57.351Z"
   },
   {
    "duration": 148,
    "start_time": "2022-09-30T08:57:57.639Z"
   },
   {
    "duration": 135,
    "start_time": "2022-09-30T08:57:57.789Z"
   },
   {
    "duration": 128,
    "start_time": "2022-09-30T08:57:57.928Z"
   },
   {
    "duration": 133,
    "start_time": "2022-09-30T08:57:58.058Z"
   },
   {
    "duration": 149,
    "start_time": "2022-09-30T08:57:58.193Z"
   },
   {
    "duration": 148,
    "start_time": "2022-09-30T08:57:58.344Z"
   },
   {
    "duration": 136,
    "start_time": "2022-09-30T08:57:58.494Z"
   },
   {
    "duration": 131,
    "start_time": "2022-09-30T08:57:58.632Z"
   },
   {
    "duration": 148,
    "start_time": "2022-09-30T08:57:58.765Z"
   },
   {
    "duration": 165,
    "start_time": "2022-09-30T08:57:58.914Z"
   },
   {
    "duration": 144,
    "start_time": "2022-09-30T08:57:59.081Z"
   },
   {
    "duration": 129,
    "start_time": "2022-09-30T08:57:59.227Z"
   },
   {
    "duration": 272,
    "start_time": "2022-09-30T08:57:59.357Z"
   },
   {
    "duration": 164,
    "start_time": "2022-09-30T08:57:59.631Z"
   },
   {
    "duration": 146,
    "start_time": "2022-09-30T08:57:59.797Z"
   },
   {
    "duration": 20,
    "start_time": "2022-09-30T08:57:59.945Z"
   },
   {
    "duration": 201,
    "start_time": "2022-09-30T08:57:59.967Z"
   },
   {
    "duration": 198,
    "start_time": "2022-09-30T08:58:00.169Z"
   },
   {
    "duration": 198,
    "start_time": "2022-09-30T08:58:00.369Z"
   },
   {
    "duration": 252,
    "start_time": "2022-09-30T08:58:00.569Z"
   },
   {
    "duration": 154,
    "start_time": "2022-09-30T08:58:00.823Z"
   },
   {
    "duration": 502,
    "start_time": "2022-09-30T08:58:00.979Z"
   },
   {
    "duration": 165,
    "start_time": "2022-09-30T08:58:01.482Z"
   },
   {
    "duration": 9,
    "start_time": "2022-09-30T08:58:01.649Z"
   },
   {
    "duration": 10,
    "start_time": "2022-09-30T08:59:20.747Z"
   },
   {
    "duration": 10,
    "start_time": "2022-09-30T09:01:54.200Z"
   },
   {
    "duration": 153,
    "start_time": "2022-09-30T09:03:21.704Z"
   },
   {
    "duration": 20,
    "start_time": "2022-09-30T09:13:00.507Z"
   },
   {
    "duration": 19,
    "start_time": "2022-09-30T09:14:53.847Z"
   },
   {
    "duration": 22,
    "start_time": "2022-09-30T09:15:08.604Z"
   },
   {
    "duration": 21,
    "start_time": "2022-09-30T09:16:59.809Z"
   },
   {
    "duration": 20,
    "start_time": "2022-09-30T09:17:10.100Z"
   },
   {
    "duration": 21,
    "start_time": "2022-09-30T09:17:20.308Z"
   },
   {
    "duration": 20,
    "start_time": "2022-09-30T09:17:35.467Z"
   },
   {
    "duration": 33,
    "start_time": "2022-09-30T09:24:20.467Z"
   },
   {
    "duration": 21,
    "start_time": "2022-09-30T09:24:37.367Z"
   },
   {
    "duration": 24,
    "start_time": "2022-09-30T09:25:54.924Z"
   },
   {
    "duration": 32,
    "start_time": "2022-09-30T09:31:26.507Z"
   },
   {
    "duration": 31,
    "start_time": "2022-09-30T09:31:47.130Z"
   },
   {
    "duration": 1261,
    "start_time": "2022-09-30T09:33:13.665Z"
   },
   {
    "duration": 14,
    "start_time": "2022-09-30T09:33:14.929Z"
   },
   {
    "duration": 1860,
    "start_time": "2022-09-30T09:33:14.945Z"
   },
   {
    "duration": 4,
    "start_time": "2022-09-30T09:33:16.807Z"
   },
   {
    "duration": 9,
    "start_time": "2022-09-30T09:33:16.812Z"
   },
   {
    "duration": 4,
    "start_time": "2022-09-30T09:33:16.823Z"
   },
   {
    "duration": 22,
    "start_time": "2022-09-30T09:33:16.829Z"
   },
   {
    "duration": 11,
    "start_time": "2022-09-30T09:33:16.853Z"
   },
   {
    "duration": 13,
    "start_time": "2022-09-30T09:33:16.866Z"
   },
   {
    "duration": 7,
    "start_time": "2022-09-30T09:33:16.882Z"
   },
   {
    "duration": 18,
    "start_time": "2022-09-30T09:33:16.891Z"
   },
   {
    "duration": 6,
    "start_time": "2022-09-30T09:33:16.911Z"
   },
   {
    "duration": 8,
    "start_time": "2022-09-30T09:33:16.919Z"
   },
   {
    "duration": 592,
    "start_time": "2022-09-30T09:33:16.929Z"
   },
   {
    "duration": 6,
    "start_time": "2022-09-30T09:33:17.523Z"
   },
   {
    "duration": 10,
    "start_time": "2022-09-30T09:33:17.530Z"
   },
   {
    "duration": 22,
    "start_time": "2022-09-30T09:33:17.541Z"
   },
   {
    "duration": 3,
    "start_time": "2022-09-30T09:33:17.564Z"
   },
   {
    "duration": 7,
    "start_time": "2022-09-30T09:33:17.568Z"
   },
   {
    "duration": 15,
    "start_time": "2022-09-30T09:33:17.576Z"
   },
   {
    "duration": 389,
    "start_time": "2022-09-30T09:33:17.592Z"
   },
   {
    "duration": 4,
    "start_time": "2022-09-30T09:33:17.982Z"
   },
   {
    "duration": 7,
    "start_time": "2022-09-30T09:33:17.987Z"
   },
   {
    "duration": 330,
    "start_time": "2022-09-30T09:33:17.996Z"
   },
   {
    "duration": 291,
    "start_time": "2022-09-30T09:33:18.327Z"
   },
   {
    "duration": 144,
    "start_time": "2022-09-30T09:33:18.619Z"
   },
   {
    "duration": 135,
    "start_time": "2022-09-30T09:33:18.764Z"
   },
   {
    "duration": 125,
    "start_time": "2022-09-30T09:33:18.902Z"
   },
   {
    "duration": 130,
    "start_time": "2022-09-30T09:33:19.029Z"
   },
   {
    "duration": 165,
    "start_time": "2022-09-30T09:33:19.160Z"
   },
   {
    "duration": 156,
    "start_time": "2022-09-30T09:33:19.327Z"
   },
   {
    "duration": 112,
    "start_time": "2022-09-30T09:33:19.485Z"
   },
   {
    "duration": 129,
    "start_time": "2022-09-30T09:33:19.599Z"
   },
   {
    "duration": 143,
    "start_time": "2022-09-30T09:33:19.730Z"
   },
   {
    "duration": 159,
    "start_time": "2022-09-30T09:33:19.875Z"
   },
   {
    "duration": 151,
    "start_time": "2022-09-30T09:33:20.035Z"
   },
   {
    "duration": 131,
    "start_time": "2022-09-30T09:33:20.187Z"
   },
   {
    "duration": 226,
    "start_time": "2022-09-30T09:33:20.320Z"
   },
   {
    "duration": 172,
    "start_time": "2022-09-30T09:33:20.548Z"
   },
   {
    "duration": 134,
    "start_time": "2022-09-30T09:33:20.722Z"
   },
   {
    "duration": 20,
    "start_time": "2022-09-30T09:33:20.858Z"
   },
   {
    "duration": 195,
    "start_time": "2022-09-30T09:33:20.880Z"
   },
   {
    "duration": 197,
    "start_time": "2022-09-30T09:33:21.077Z"
   },
   {
    "duration": 199,
    "start_time": "2022-09-30T09:33:21.276Z"
   },
   {
    "duration": 241,
    "start_time": "2022-09-30T09:33:21.477Z"
   },
   {
    "duration": 143,
    "start_time": "2022-09-30T09:33:21.720Z"
   },
   {
    "duration": 477,
    "start_time": "2022-09-30T09:33:21.865Z"
   },
   {
    "duration": 161,
    "start_time": "2022-09-30T09:33:22.344Z"
   },
   {
    "duration": 42,
    "start_time": "2022-09-30T09:33:22.506Z"
   },
   {
    "duration": 25,
    "start_time": "2022-09-30T09:34:40.240Z"
   },
   {
    "duration": 26,
    "start_time": "2022-09-30T09:34:55.155Z"
   },
   {
    "duration": 24,
    "start_time": "2022-09-30T09:36:37.912Z"
   },
   {
    "duration": 26,
    "start_time": "2022-09-30T09:37:30.656Z"
   },
   {
    "duration": 165,
    "start_time": "2022-09-30T09:41:47.575Z"
   },
   {
    "duration": 163,
    "start_time": "2022-09-30T09:42:21.465Z"
   },
   {
    "duration": 179,
    "start_time": "2022-09-30T09:42:32.778Z"
   },
   {
    "duration": 266,
    "start_time": "2022-09-30T09:42:52.727Z"
   },
   {
    "duration": 181,
    "start_time": "2022-09-30T09:44:18.449Z"
   },
   {
    "duration": 175,
    "start_time": "2022-09-30T09:46:16.259Z"
   },
   {
    "duration": 165,
    "start_time": "2022-09-30T09:47:29.551Z"
   },
   {
    "duration": 153,
    "start_time": "2022-09-30T09:47:46.164Z"
   },
   {
    "duration": 150,
    "start_time": "2022-09-30T09:48:15.050Z"
   },
   {
    "duration": 152,
    "start_time": "2022-09-30T09:48:40.840Z"
   },
   {
    "duration": 156,
    "start_time": "2022-09-30T09:49:39.769Z"
   },
   {
    "duration": 149,
    "start_time": "2022-09-30T09:50:00.155Z"
   },
   {
    "duration": 149,
    "start_time": "2022-09-30T09:50:10.455Z"
   },
   {
    "duration": 168,
    "start_time": "2022-09-30T09:51:26.778Z"
   },
   {
    "duration": 204,
    "start_time": "2022-09-30T09:55:12.547Z"
   },
   {
    "duration": 151,
    "start_time": "2022-09-30T09:55:35.634Z"
   },
   {
    "duration": 26,
    "start_time": "2022-09-30T09:59:40.366Z"
   },
   {
    "duration": 266,
    "start_time": "2022-09-30T10:06:13.058Z"
   },
   {
    "duration": 33,
    "start_time": "2022-09-30T10:06:51.558Z"
   },
   {
    "duration": 31,
    "start_time": "2022-09-30T10:07:05.811Z"
   },
   {
    "duration": 52,
    "start_time": "2022-09-30T10:07:13.177Z"
   },
   {
    "duration": 53,
    "start_time": "2022-09-30T10:07:58.312Z"
   },
   {
    "duration": 929,
    "start_time": "2022-09-30T10:10:56.736Z"
   },
   {
    "duration": 1313,
    "start_time": "2022-09-30T10:12:17.804Z"
   },
   {
    "duration": 50,
    "start_time": "2022-09-30T10:12:50.001Z"
   },
   {
    "duration": 29,
    "start_time": "2022-09-30T10:13:50.602Z"
   },
   {
    "duration": 45,
    "start_time": "2022-09-30T10:14:29.203Z"
   },
   {
    "duration": 42,
    "start_time": "2022-09-30T10:15:14.715Z"
   },
   {
    "duration": 42,
    "start_time": "2022-09-30T10:16:29.748Z"
   },
   {
    "duration": 34,
    "start_time": "2022-09-30T10:16:46.514Z"
   },
   {
    "duration": 36,
    "start_time": "2022-09-30T10:24:03.203Z"
   },
   {
    "duration": 41,
    "start_time": "2022-09-30T10:24:57.904Z"
   },
   {
    "duration": 43,
    "start_time": "2022-09-30T10:27:26.517Z"
   },
   {
    "duration": 20,
    "start_time": "2022-09-30T10:27:54.160Z"
   },
   {
    "duration": 19,
    "start_time": "2022-09-30T10:28:10.403Z"
   },
   {
    "duration": 21,
    "start_time": "2022-09-30T10:29:39.700Z"
   },
   {
    "duration": 32,
    "start_time": "2022-09-30T11:04:30.327Z"
   },
   {
    "duration": 1269,
    "start_time": "2022-09-30T11:04:49.700Z"
   },
   {
    "duration": 14,
    "start_time": "2022-09-30T11:04:50.971Z"
   },
   {
    "duration": 1935,
    "start_time": "2022-09-30T11:04:50.986Z"
   },
   {
    "duration": 5,
    "start_time": "2022-09-30T11:04:52.923Z"
   },
   {
    "duration": 11,
    "start_time": "2022-09-30T11:04:52.930Z"
   },
   {
    "duration": 5,
    "start_time": "2022-09-30T11:04:52.942Z"
   },
   {
    "duration": 13,
    "start_time": "2022-09-30T11:04:52.949Z"
   },
   {
    "duration": 15,
    "start_time": "2022-09-30T11:04:52.963Z"
   },
   {
    "duration": 9,
    "start_time": "2022-09-30T11:04:52.979Z"
   },
   {
    "duration": 18,
    "start_time": "2022-09-30T11:04:52.991Z"
   },
   {
    "duration": 7,
    "start_time": "2022-09-30T11:04:53.011Z"
   },
   {
    "duration": 10,
    "start_time": "2022-09-30T11:04:53.020Z"
   },
   {
    "duration": 5,
    "start_time": "2022-09-30T11:04:53.032Z"
   },
   {
    "duration": 561,
    "start_time": "2022-09-30T11:04:53.038Z"
   },
   {
    "duration": 11,
    "start_time": "2022-09-30T11:04:53.600Z"
   },
   {
    "duration": 8,
    "start_time": "2022-09-30T11:04:53.612Z"
   },
   {
    "duration": 27,
    "start_time": "2022-09-30T11:04:53.622Z"
   },
   {
    "duration": 2,
    "start_time": "2022-09-30T11:04:53.651Z"
   },
   {
    "duration": 16,
    "start_time": "2022-09-30T11:04:53.654Z"
   },
   {
    "duration": 24,
    "start_time": "2022-09-30T11:04:53.672Z"
   },
   {
    "duration": 405,
    "start_time": "2022-09-30T11:04:53.698Z"
   },
   {
    "duration": 5,
    "start_time": "2022-09-30T11:04:54.104Z"
   },
   {
    "duration": 16,
    "start_time": "2022-09-30T11:04:54.110Z"
   },
   {
    "duration": 347,
    "start_time": "2022-09-30T11:04:54.128Z"
   },
   {
    "duration": 295,
    "start_time": "2022-09-30T11:04:54.476Z"
   },
   {
    "duration": 157,
    "start_time": "2022-09-30T11:04:54.773Z"
   },
   {
    "duration": 127,
    "start_time": "2022-09-30T11:04:54.932Z"
   },
   {
    "duration": 130,
    "start_time": "2022-09-30T11:04:55.063Z"
   },
   {
    "duration": 128,
    "start_time": "2022-09-30T11:04:55.194Z"
   },
   {
    "duration": 156,
    "start_time": "2022-09-30T11:04:55.324Z"
   },
   {
    "duration": 154,
    "start_time": "2022-09-30T11:04:55.481Z"
   },
   {
    "duration": 111,
    "start_time": "2022-09-30T11:04:55.637Z"
   },
   {
    "duration": 124,
    "start_time": "2022-09-30T11:04:55.750Z"
   },
   {
    "duration": 144,
    "start_time": "2022-09-30T11:04:55.875Z"
   },
   {
    "duration": 157,
    "start_time": "2022-09-30T11:04:56.021Z"
   },
   {
    "duration": 148,
    "start_time": "2022-09-30T11:04:56.179Z"
   },
   {
    "duration": 132,
    "start_time": "2022-09-30T11:04:56.329Z"
   },
   {
    "duration": 222,
    "start_time": "2022-09-30T11:04:56.462Z"
   },
   {
    "duration": 173,
    "start_time": "2022-09-30T11:04:56.686Z"
   },
   {
    "duration": 155,
    "start_time": "2022-09-30T11:04:56.861Z"
   },
   {
    "duration": 25,
    "start_time": "2022-09-30T11:04:57.018Z"
   },
   {
    "duration": 214,
    "start_time": "2022-09-30T11:04:57.045Z"
   },
   {
    "duration": 210,
    "start_time": "2022-09-30T11:04:57.261Z"
   },
   {
    "duration": 211,
    "start_time": "2022-09-30T11:04:57.473Z"
   },
   {
    "duration": 262,
    "start_time": "2022-09-30T11:04:57.686Z"
   },
   {
    "duration": 160,
    "start_time": "2022-09-30T11:04:57.950Z"
   },
   {
    "duration": 478,
    "start_time": "2022-09-30T11:04:58.112Z"
   },
   {
    "duration": 182,
    "start_time": "2022-09-30T11:04:58.592Z"
   },
   {
    "duration": 148,
    "start_time": "2022-09-30T11:04:58.776Z"
   },
   {
    "duration": 0,
    "start_time": "2022-09-30T11:04:58.925Z"
   },
   {
    "duration": 27,
    "start_time": "2022-09-30T11:05:24.278Z"
   },
   {
    "duration": 28,
    "start_time": "2022-09-30T11:06:49.896Z"
   },
   {
    "duration": 31,
    "start_time": "2022-09-30T11:08:17.903Z"
   },
   {
    "duration": 29,
    "start_time": "2022-09-30T11:08:25.809Z"
   },
   {
    "duration": 22,
    "start_time": "2022-09-30T11:09:14.669Z"
   },
   {
    "duration": 20,
    "start_time": "2022-09-30T11:09:40.711Z"
   },
   {
    "duration": 22,
    "start_time": "2022-09-30T11:10:09.916Z"
   },
   {
    "duration": 1050,
    "start_time": "2022-09-30T11:13:18.716Z"
   },
   {
    "duration": 1096,
    "start_time": "2022-09-30T11:13:54.418Z"
   },
   {
    "duration": 41,
    "start_time": "2022-09-30T11:14:34.912Z"
   },
   {
    "duration": 1043,
    "start_time": "2022-09-30T11:15:55.968Z"
   },
   {
    "duration": 1125,
    "start_time": "2022-09-30T11:16:17.210Z"
   },
   {
    "duration": 1084,
    "start_time": "2022-09-30T11:16:41.678Z"
   },
   {
    "duration": 26,
    "start_time": "2022-09-30T11:17:33.405Z"
   },
   {
    "duration": 25,
    "start_time": "2022-09-30T11:17:48.365Z"
   },
   {
    "duration": 1156,
    "start_time": "2022-09-30T11:17:58.841Z"
   },
   {
    "duration": 14,
    "start_time": "2022-09-30T11:17:59.999Z"
   },
   {
    "duration": 1862,
    "start_time": "2022-09-30T11:18:00.015Z"
   },
   {
    "duration": 4,
    "start_time": "2022-09-30T11:18:01.879Z"
   },
   {
    "duration": 28,
    "start_time": "2022-09-30T11:18:01.885Z"
   },
   {
    "duration": 11,
    "start_time": "2022-09-30T11:18:01.914Z"
   },
   {
    "duration": 18,
    "start_time": "2022-09-30T11:18:01.926Z"
   },
   {
    "duration": 21,
    "start_time": "2022-09-30T11:18:01.946Z"
   },
   {
    "duration": 18,
    "start_time": "2022-09-30T11:18:01.969Z"
   },
   {
    "duration": 32,
    "start_time": "2022-09-30T11:18:01.991Z"
   },
   {
    "duration": 18,
    "start_time": "2022-09-30T11:18:02.025Z"
   },
   {
    "duration": 17,
    "start_time": "2022-09-30T11:18:02.044Z"
   },
   {
    "duration": 41,
    "start_time": "2022-09-30T11:18:02.063Z"
   },
   {
    "duration": 667,
    "start_time": "2022-09-30T11:18:02.107Z"
   },
   {
    "duration": 7,
    "start_time": "2022-09-30T11:18:02.776Z"
   },
   {
    "duration": 17,
    "start_time": "2022-09-30T11:18:02.785Z"
   },
   {
    "duration": 25,
    "start_time": "2022-09-30T11:18:02.809Z"
   },
   {
    "duration": 2,
    "start_time": "2022-09-30T11:18:02.836Z"
   },
   {
    "duration": 10,
    "start_time": "2022-09-30T11:18:02.840Z"
   },
   {
    "duration": 16,
    "start_time": "2022-09-30T11:18:02.851Z"
   },
   {
    "duration": 371,
    "start_time": "2022-09-30T11:18:02.869Z"
   },
   {
    "duration": 4,
    "start_time": "2022-09-30T11:18:03.242Z"
   },
   {
    "duration": 13,
    "start_time": "2022-09-30T11:18:03.247Z"
   },
   {
    "duration": 308,
    "start_time": "2022-09-30T11:18:03.261Z"
   },
   {
    "duration": 299,
    "start_time": "2022-09-30T11:18:03.571Z"
   },
   {
    "duration": 155,
    "start_time": "2022-09-30T11:18:03.872Z"
   },
   {
    "duration": 152,
    "start_time": "2022-09-30T11:18:04.028Z"
   },
   {
    "duration": 142,
    "start_time": "2022-09-30T11:18:04.182Z"
   },
   {
    "duration": 123,
    "start_time": "2022-09-30T11:18:04.326Z"
   },
   {
    "duration": 147,
    "start_time": "2022-09-30T11:18:04.451Z"
   },
   {
    "duration": 152,
    "start_time": "2022-09-30T11:18:04.600Z"
   },
   {
    "duration": 132,
    "start_time": "2022-09-30T11:18:04.754Z"
   },
   {
    "duration": 139,
    "start_time": "2022-09-30T11:18:04.888Z"
   },
   {
    "duration": 143,
    "start_time": "2022-09-30T11:18:05.029Z"
   },
   {
    "duration": 155,
    "start_time": "2022-09-30T11:18:05.174Z"
   },
   {
    "duration": 144,
    "start_time": "2022-09-30T11:18:05.330Z"
   },
   {
    "duration": 126,
    "start_time": "2022-09-30T11:18:05.476Z"
   },
   {
    "duration": 219,
    "start_time": "2022-09-30T11:18:05.603Z"
   },
   {
    "duration": 167,
    "start_time": "2022-09-30T11:18:05.824Z"
   },
   {
    "duration": 150,
    "start_time": "2022-09-30T11:18:05.993Z"
   },
   {
    "duration": 20,
    "start_time": "2022-09-30T11:18:06.147Z"
   },
   {
    "duration": 191,
    "start_time": "2022-09-30T11:18:06.169Z"
   },
   {
    "duration": 199,
    "start_time": "2022-09-30T11:18:06.362Z"
   },
   {
    "duration": 191,
    "start_time": "2022-09-30T11:18:06.562Z"
   },
   {
    "duration": 255,
    "start_time": "2022-09-30T11:18:06.754Z"
   },
   {
    "duration": 140,
    "start_time": "2022-09-30T11:18:07.010Z"
   },
   {
    "duration": 472,
    "start_time": "2022-09-30T11:18:07.152Z"
   },
   {
    "duration": 152,
    "start_time": "2022-09-30T11:18:07.626Z"
   },
   {
    "duration": 145,
    "start_time": "2022-09-30T11:18:07.780Z"
   },
   {
    "duration": 0,
    "start_time": "2022-09-30T11:18:07.926Z"
   },
   {
    "duration": 9,
    "start_time": "2022-09-30T11:18:21.709Z"
   },
   {
    "duration": 25,
    "start_time": "2022-09-30T11:18:54.207Z"
   },
   {
    "duration": 11,
    "start_time": "2022-09-30T11:19:52.913Z"
   },
   {
    "duration": 71,
    "start_time": "2022-09-30T11:22:07.304Z"
   },
   {
    "duration": 80,
    "start_time": "2022-09-30T11:22:20.915Z"
   },
   {
    "duration": 1058,
    "start_time": "2022-09-30T11:22:30.273Z"
   },
   {
    "duration": 87,
    "start_time": "2022-09-30T11:22:58.435Z"
   },
   {
    "duration": 1118,
    "start_time": "2022-09-30T11:24:03.434Z"
   },
   {
    "duration": 3,
    "start_time": "2022-09-30T11:29:51.467Z"
   },
   {
    "duration": 7,
    "start_time": "2022-09-30T11:30:29.500Z"
   },
   {
    "duration": 5,
    "start_time": "2022-09-30T11:33:22.538Z"
   },
   {
    "duration": 849,
    "start_time": "2022-09-30T11:35:35.264Z"
   },
   {
    "duration": 1183,
    "start_time": "2022-09-30T11:36:15.315Z"
   },
   {
    "duration": 36,
    "start_time": "2022-09-30T11:36:41.494Z"
   },
   {
    "duration": 15,
    "start_time": "2022-09-30T11:37:02.334Z"
   },
   {
    "duration": 30,
    "start_time": "2022-09-30T11:38:31.034Z"
   },
   {
    "duration": 26,
    "start_time": "2022-09-30T11:38:44.779Z"
   },
   {
    "duration": 28,
    "start_time": "2022-09-30T11:39:18.835Z"
   },
   {
    "duration": 26,
    "start_time": "2022-09-30T11:40:05.505Z"
   },
   {
    "duration": 394,
    "start_time": "2022-09-30T11:41:19.721Z"
   },
   {
    "duration": 258,
    "start_time": "2022-09-30T11:41:30.299Z"
   },
   {
    "duration": 28,
    "start_time": "2022-09-30T11:41:44.415Z"
   },
   {
    "duration": 23,
    "start_time": "2022-09-30T11:42:05.660Z"
   },
   {
    "duration": 946,
    "start_time": "2022-09-30T11:43:41.913Z"
   },
   {
    "duration": 28,
    "start_time": "2022-09-30T11:43:59.204Z"
   },
   {
    "duration": 777,
    "start_time": "2022-09-30T11:44:13.233Z"
   },
   {
    "duration": 978,
    "start_time": "2022-09-30T11:44:27.215Z"
   },
   {
    "duration": 1482,
    "start_time": "2022-09-30T11:45:11.705Z"
   },
   {
    "duration": 285,
    "start_time": "2022-09-30T11:47:10.826Z"
   },
   {
    "duration": 3175,
    "start_time": "2022-09-30T11:49:07.834Z"
   },
   {
    "duration": 1916,
    "start_time": "2022-09-30T11:49:44.215Z"
   },
   {
    "duration": 34,
    "start_time": "2022-09-30T11:50:41.999Z"
   },
   {
    "duration": 35,
    "start_time": "2022-09-30T11:51:02.672Z"
   },
   {
    "duration": 29,
    "start_time": "2022-09-30T11:51:11.304Z"
   },
   {
    "duration": 2,
    "start_time": "2022-09-30T11:54:06.000Z"
   },
   {
    "duration": 1232,
    "start_time": "2022-09-30T11:54:16.901Z"
   },
   {
    "duration": 16,
    "start_time": "2022-09-30T11:54:18.135Z"
   },
   {
    "duration": 1820,
    "start_time": "2022-09-30T11:54:18.153Z"
   },
   {
    "duration": 4,
    "start_time": "2022-09-30T11:54:19.974Z"
   },
   {
    "duration": 33,
    "start_time": "2022-09-30T11:54:19.980Z"
   },
   {
    "duration": 14,
    "start_time": "2022-09-30T11:54:20.015Z"
   },
   {
    "duration": 33,
    "start_time": "2022-09-30T11:54:20.031Z"
   },
   {
    "duration": 24,
    "start_time": "2022-09-30T11:54:20.065Z"
   },
   {
    "duration": 43,
    "start_time": "2022-09-30T11:54:20.091Z"
   },
   {
    "duration": 12,
    "start_time": "2022-09-30T11:54:20.135Z"
   },
   {
    "duration": 43,
    "start_time": "2022-09-30T11:54:20.148Z"
   },
   {
    "duration": 26,
    "start_time": "2022-09-30T11:54:20.193Z"
   },
   {
    "duration": 21,
    "start_time": "2022-09-30T11:54:20.221Z"
   },
   {
    "duration": 569,
    "start_time": "2022-09-30T11:54:20.245Z"
   },
   {
    "duration": 5,
    "start_time": "2022-09-30T11:54:20.815Z"
   },
   {
    "duration": 67,
    "start_time": "2022-09-30T11:54:20.822Z"
   },
   {
    "duration": 41,
    "start_time": "2022-09-30T11:54:20.891Z"
   },
   {
    "duration": 10,
    "start_time": "2022-09-30T11:54:20.934Z"
   },
   {
    "duration": 15,
    "start_time": "2022-09-30T11:54:20.945Z"
   },
   {
    "duration": 36,
    "start_time": "2022-09-30T11:54:20.961Z"
   },
   {
    "duration": 380,
    "start_time": "2022-09-30T11:54:20.998Z"
   },
   {
    "duration": 3,
    "start_time": "2022-09-30T11:54:21.380Z"
   },
   {
    "duration": 6,
    "start_time": "2022-09-30T11:54:21.385Z"
   },
   {
    "duration": 324,
    "start_time": "2022-09-30T11:54:21.392Z"
   },
   {
    "duration": 303,
    "start_time": "2022-09-30T11:54:21.718Z"
   },
   {
    "duration": 154,
    "start_time": "2022-09-30T11:54:22.022Z"
   },
   {
    "duration": 131,
    "start_time": "2022-09-30T11:54:22.177Z"
   },
   {
    "duration": 120,
    "start_time": "2022-09-30T11:54:22.310Z"
   },
   {
    "duration": 131,
    "start_time": "2022-09-30T11:54:22.431Z"
   },
   {
    "duration": 199,
    "start_time": "2022-09-30T11:54:22.564Z"
   },
   {
    "duration": 156,
    "start_time": "2022-09-30T11:54:22.766Z"
   },
   {
    "duration": 115,
    "start_time": "2022-09-30T11:54:22.924Z"
   },
   {
    "duration": 122,
    "start_time": "2022-09-30T11:54:23.041Z"
   },
   {
    "duration": 137,
    "start_time": "2022-09-30T11:54:23.165Z"
   },
   {
    "duration": 147,
    "start_time": "2022-09-30T11:54:23.308Z"
   },
   {
    "duration": 138,
    "start_time": "2022-09-30T11:54:23.457Z"
   },
   {
    "duration": 124,
    "start_time": "2022-09-30T11:54:23.597Z"
   },
   {
    "duration": 229,
    "start_time": "2022-09-30T11:54:23.722Z"
   },
   {
    "duration": 168,
    "start_time": "2022-09-30T11:54:23.953Z"
   },
   {
    "duration": 148,
    "start_time": "2022-09-30T11:54:24.123Z"
   },
   {
    "duration": 19,
    "start_time": "2022-09-30T11:54:24.275Z"
   },
   {
    "duration": 176,
    "start_time": "2022-09-30T11:54:24.309Z"
   },
   {
    "duration": 199,
    "start_time": "2022-09-30T11:54:24.487Z"
   },
   {
    "duration": 199,
    "start_time": "2022-09-30T11:54:24.688Z"
   },
   {
    "duration": 235,
    "start_time": "2022-09-30T11:54:24.889Z"
   },
   {
    "duration": 137,
    "start_time": "2022-09-30T11:54:25.126Z"
   },
   {
    "duration": 463,
    "start_time": "2022-09-30T11:54:25.264Z"
   },
   {
    "duration": 165,
    "start_time": "2022-09-30T11:54:25.728Z"
   },
   {
    "duration": 40,
    "start_time": "2022-09-30T11:54:25.895Z"
   },
   {
    "duration": 161,
    "start_time": "2022-09-30T11:54:25.937Z"
   },
   {
    "duration": 27,
    "start_time": "2022-09-30T11:54:41.224Z"
   },
   {
    "duration": 30,
    "start_time": "2022-09-30T11:55:01.410Z"
   },
   {
    "duration": 20,
    "start_time": "2022-09-30T11:55:16.744Z"
   },
   {
    "duration": 30,
    "start_time": "2022-09-30T11:55:44.900Z"
   },
   {
    "duration": 28,
    "start_time": "2022-09-30T11:56:24.124Z"
   },
   {
    "duration": 25,
    "start_time": "2022-09-30T11:56:49.098Z"
   },
   {
    "duration": 150,
    "start_time": "2022-09-30T11:58:00.003Z"
   },
   {
    "duration": 1337,
    "start_time": "2022-09-30T11:58:35.856Z"
   },
   {
    "duration": 146,
    "start_time": "2022-09-30T11:59:00.023Z"
   },
   {
    "duration": 25,
    "start_time": "2022-09-30T12:04:31.164Z"
   },
   {
    "duration": 28,
    "start_time": "2022-09-30T12:04:50.566Z"
   },
   {
    "duration": 451,
    "start_time": "2022-09-30T12:06:46.116Z"
   },
   {
    "duration": 517,
    "start_time": "2022-09-30T12:08:44.309Z"
   },
   {
    "duration": 598,
    "start_time": "2022-09-30T12:09:02.328Z"
   },
   {
    "duration": 191,
    "start_time": "2022-09-30T12:09:16.986Z"
   },
   {
    "duration": 29,
    "start_time": "2022-09-30T12:22:33.305Z"
   },
   {
    "duration": 212,
    "start_time": "2022-09-30T12:23:56.969Z"
   },
   {
    "duration": 30,
    "start_time": "2022-09-30T12:24:22.856Z"
   },
   {
    "duration": 895,
    "start_time": "2022-09-30T12:24:36.453Z"
   },
   {
    "duration": 205,
    "start_time": "2022-09-30T12:24:59.969Z"
   },
   {
    "duration": 200,
    "start_time": "2022-09-30T12:26:55.009Z"
   },
   {
    "duration": 25,
    "start_time": "2022-09-30T12:30:08.635Z"
   },
   {
    "duration": 26,
    "start_time": "2022-09-30T12:30:54.322Z"
   },
   {
    "duration": 28,
    "start_time": "2022-09-30T12:32:05.862Z"
   },
   {
    "duration": 27,
    "start_time": "2022-09-30T12:32:17.524Z"
   },
   {
    "duration": 30,
    "start_time": "2022-09-30T12:35:02.609Z"
   },
   {
    "duration": 27,
    "start_time": "2022-09-30T12:35:30.917Z"
   },
   {
    "duration": 203,
    "start_time": "2022-09-30T12:38:23.914Z"
   },
   {
    "duration": 204,
    "start_time": "2022-09-30T12:38:34.342Z"
   },
   {
    "duration": 334,
    "start_time": "2022-09-30T12:39:04.326Z"
   },
   {
    "duration": 222,
    "start_time": "2022-09-30T12:40:10.213Z"
   },
   {
    "duration": 227,
    "start_time": "2022-09-30T12:40:39.068Z"
   },
   {
    "duration": 39,
    "start_time": "2022-09-30T12:40:44.411Z"
   },
   {
    "duration": 44,
    "start_time": "2022-09-30T12:45:32.008Z"
   },
   {
    "duration": 207,
    "start_time": "2022-09-30T12:47:14.116Z"
   },
   {
    "duration": 38,
    "start_time": "2022-09-30T12:48:10.124Z"
   },
   {
    "duration": 200,
    "start_time": "2022-09-30T12:48:23.642Z"
   },
   {
    "duration": 41,
    "start_time": "2022-09-30T12:48:41.833Z"
   },
   {
    "duration": 1809,
    "start_time": "2022-09-30T12:49:00.471Z"
   },
   {
    "duration": 1809,
    "start_time": "2022-09-30T12:49:17.224Z"
   },
   {
    "duration": 1668,
    "start_time": "2022-09-30T12:49:30.625Z"
   },
   {
    "duration": 1228,
    "start_time": "2022-09-30T12:50:00.312Z"
   },
   {
    "duration": 15,
    "start_time": "2022-09-30T12:50:01.542Z"
   },
   {
    "duration": 1975,
    "start_time": "2022-09-30T12:50:01.558Z"
   },
   {
    "duration": 4,
    "start_time": "2022-09-30T12:50:03.534Z"
   },
   {
    "duration": 32,
    "start_time": "2022-09-30T12:50:03.540Z"
   },
   {
    "duration": 36,
    "start_time": "2022-09-30T12:50:03.573Z"
   },
   {
    "duration": 45,
    "start_time": "2022-09-30T12:50:03.611Z"
   },
   {
    "duration": 28,
    "start_time": "2022-09-30T12:50:03.658Z"
   },
   {
    "duration": 23,
    "start_time": "2022-09-30T12:50:03.687Z"
   },
   {
    "duration": 30,
    "start_time": "2022-09-30T12:50:03.712Z"
   },
   {
    "duration": 37,
    "start_time": "2022-09-30T12:50:03.744Z"
   },
   {
    "duration": 34,
    "start_time": "2022-09-30T12:50:03.783Z"
   },
   {
    "duration": 41,
    "start_time": "2022-09-30T12:50:03.818Z"
   },
   {
    "duration": 611,
    "start_time": "2022-09-30T12:50:03.863Z"
   },
   {
    "duration": 5,
    "start_time": "2022-09-30T12:50:04.475Z"
   },
   {
    "duration": 29,
    "start_time": "2022-09-30T12:50:04.482Z"
   },
   {
    "duration": 69,
    "start_time": "2022-09-30T12:50:04.513Z"
   },
   {
    "duration": 26,
    "start_time": "2022-09-30T12:50:04.584Z"
   },
   {
    "duration": 26,
    "start_time": "2022-09-30T12:50:04.611Z"
   },
   {
    "duration": 44,
    "start_time": "2022-09-30T12:50:04.639Z"
   },
   {
    "duration": 378,
    "start_time": "2022-09-30T12:50:04.685Z"
   },
   {
    "duration": 4,
    "start_time": "2022-09-30T12:50:05.064Z"
   },
   {
    "duration": 51,
    "start_time": "2022-09-30T12:50:05.069Z"
   },
   {
    "duration": 340,
    "start_time": "2022-09-30T12:50:05.121Z"
   },
   {
    "duration": 306,
    "start_time": "2022-09-30T12:50:05.463Z"
   },
   {
    "duration": 151,
    "start_time": "2022-09-30T12:50:05.770Z"
   },
   {
    "duration": 125,
    "start_time": "2022-09-30T12:50:05.923Z"
   },
   {
    "duration": 127,
    "start_time": "2022-09-30T12:50:06.050Z"
   },
   {
    "duration": 121,
    "start_time": "2022-09-30T12:50:06.178Z"
   },
   {
    "duration": 147,
    "start_time": "2022-09-30T12:50:06.301Z"
   },
   {
    "duration": 148,
    "start_time": "2022-09-30T12:50:06.450Z"
   },
   {
    "duration": 120,
    "start_time": "2022-09-30T12:50:06.600Z"
   },
   {
    "duration": 118,
    "start_time": "2022-09-30T12:50:06.721Z"
   },
   {
    "duration": 139,
    "start_time": "2022-09-30T12:50:06.841Z"
   },
   {
    "duration": 162,
    "start_time": "2022-09-30T12:50:06.981Z"
   },
   {
    "duration": 146,
    "start_time": "2022-09-30T12:50:07.145Z"
   },
   {
    "duration": 129,
    "start_time": "2022-09-30T12:50:07.292Z"
   },
   {
    "duration": 222,
    "start_time": "2022-09-30T12:50:07.422Z"
   },
   {
    "duration": 163,
    "start_time": "2022-09-30T12:50:07.646Z"
   },
   {
    "duration": 140,
    "start_time": "2022-09-30T12:50:07.810Z"
   },
   {
    "duration": 20,
    "start_time": "2022-09-30T12:50:07.953Z"
   },
   {
    "duration": 193,
    "start_time": "2022-09-30T12:50:07.974Z"
   },
   {
    "duration": 189,
    "start_time": "2022-09-30T12:50:08.169Z"
   },
   {
    "duration": 216,
    "start_time": "2022-09-30T12:50:08.360Z"
   },
   {
    "duration": 239,
    "start_time": "2022-09-30T12:50:08.578Z"
   },
   {
    "duration": 139,
    "start_time": "2022-09-30T12:50:08.819Z"
   },
   {
    "duration": 460,
    "start_time": "2022-09-30T12:50:08.960Z"
   },
   {
    "duration": 156,
    "start_time": "2022-09-30T12:50:09.421Z"
   },
   {
    "duration": 38,
    "start_time": "2022-09-30T12:50:09.579Z"
   },
   {
    "duration": 3056,
    "start_time": "2022-09-30T12:50:09.619Z"
   },
   {
    "duration": 1364,
    "start_time": "2022-09-30T12:51:22.209Z"
   },
   {
    "duration": 211,
    "start_time": "2022-09-30T12:51:36.308Z"
   },
   {
    "duration": 40,
    "start_time": "2022-09-30T12:52:23.544Z"
   },
   {
    "duration": 27,
    "start_time": "2022-09-30T12:55:28.636Z"
   },
   {
    "duration": 190,
    "start_time": "2022-09-30T12:55:41.203Z"
   },
   {
    "duration": 186,
    "start_time": "2022-09-30T12:57:19.515Z"
   },
   {
    "duration": 298,
    "start_time": "2022-09-30T12:57:43.811Z"
   },
   {
    "duration": 30,
    "start_time": "2022-09-30T13:00:31.519Z"
   },
   {
    "duration": 1825,
    "start_time": "2022-09-30T13:01:49.098Z"
   },
   {
    "duration": 1183,
    "start_time": "2022-09-30T13:02:05.663Z"
   },
   {
    "duration": 1699,
    "start_time": "2022-09-30T13:02:20.245Z"
   },
   {
    "duration": 32,
    "start_time": "2022-09-30T13:02:42.036Z"
   },
   {
    "duration": 29,
    "start_time": "2022-09-30T13:03:53.325Z"
   },
   {
    "duration": 29,
    "start_time": "2022-09-30T13:05:01.358Z"
   },
   {
    "duration": 26,
    "start_time": "2022-09-30T13:05:17.678Z"
   },
   {
    "duration": 195,
    "start_time": "2022-09-30T13:05:29.892Z"
   },
   {
    "duration": 1185,
    "start_time": "2022-09-30T13:08:30.001Z"
   },
   {
    "duration": 1295,
    "start_time": "2022-09-30T13:08:54.952Z"
   },
   {
    "duration": 2031,
    "start_time": "2022-09-30T13:09:15.309Z"
   },
   {
    "duration": 199,
    "start_time": "2022-09-30T13:11:43.265Z"
   },
   {
    "duration": 227,
    "start_time": "2022-09-30T13:16:23.799Z"
   },
   {
    "duration": 211,
    "start_time": "2022-09-30T13:17:38.645Z"
   },
   {
    "duration": 214,
    "start_time": "2022-09-30T13:19:03.264Z"
   },
   {
    "duration": 1080,
    "start_time": "2022-09-30T13:19:40.763Z"
   },
   {
    "duration": 1358,
    "start_time": "2022-09-30T13:20:51.332Z"
   },
   {
    "duration": 225,
    "start_time": "2022-09-30T13:22:59.868Z"
   },
   {
    "duration": 227,
    "start_time": "2022-09-30T13:23:14.931Z"
   },
   {
    "duration": 211,
    "start_time": "2022-09-30T13:23:27.834Z"
   },
   {
    "duration": 195,
    "start_time": "2022-09-30T13:27:10.208Z"
   },
   {
    "duration": 197,
    "start_time": "2022-09-30T13:27:21.544Z"
   },
   {
    "duration": 200,
    "start_time": "2022-09-30T13:27:30.108Z"
   },
   {
    "duration": 194,
    "start_time": "2022-09-30T13:27:59.139Z"
   },
   {
    "duration": 184,
    "start_time": "2022-09-30T13:28:17.008Z"
   },
   {
    "duration": 224,
    "start_time": "2022-09-30T13:28:28.847Z"
   },
   {
    "duration": 1200,
    "start_time": "2022-09-30T13:29:24.332Z"
   },
   {
    "duration": 70,
    "start_time": "2022-09-30T13:30:48.662Z"
   },
   {
    "duration": 185,
    "start_time": "2022-09-30T13:31:03.499Z"
   },
   {
    "duration": 210,
    "start_time": "2022-09-30T13:31:27.242Z"
   },
   {
    "duration": 211,
    "start_time": "2022-09-30T13:32:01.629Z"
   },
   {
    "duration": 325,
    "start_time": "2022-09-30T13:37:24.804Z"
   },
   {
    "duration": 28,
    "start_time": "2022-09-30T13:40:17.977Z"
   },
   {
    "duration": 210,
    "start_time": "2022-09-30T13:40:22.935Z"
   },
   {
    "duration": 212,
    "start_time": "2022-09-30T13:41:11.633Z"
   },
   {
    "duration": 173,
    "start_time": "2022-09-30T13:42:41.131Z"
   },
   {
    "duration": 185,
    "start_time": "2022-09-30T13:43:21.721Z"
   },
   {
    "duration": 164,
    "start_time": "2022-09-30T13:44:18.508Z"
   },
   {
    "duration": 28,
    "start_time": "2022-09-30T13:44:22.755Z"
   },
   {
    "duration": 163,
    "start_time": "2022-09-30T13:45:28.026Z"
   },
   {
    "duration": 172,
    "start_time": "2022-09-30T13:45:31.004Z"
   },
   {
    "duration": 162,
    "start_time": "2022-09-30T13:45:32.403Z"
   },
   {
    "duration": 15,
    "start_time": "2022-09-30T13:45:53.355Z"
   },
   {
    "duration": 124,
    "start_time": "2022-09-30T13:46:23.934Z"
   },
   {
    "duration": 221,
    "start_time": "2022-09-30T13:48:05.541Z"
   },
   {
    "duration": 16,
    "start_time": "2022-09-30T13:48:09.454Z"
   },
   {
    "duration": 5,
    "start_time": "2022-09-30T13:49:54.560Z"
   },
   {
    "duration": 4,
    "start_time": "2022-09-30T13:50:00.833Z"
   },
   {
    "duration": 14,
    "start_time": "2022-09-30T13:50:48.107Z"
   },
   {
    "duration": 8,
    "start_time": "2022-09-30T13:50:51.007Z"
   },
   {
    "duration": 1301,
    "start_time": "2022-09-30T13:51:09.229Z"
   },
   {
    "duration": 17,
    "start_time": "2022-09-30T13:51:10.532Z"
   },
   {
    "duration": 2173,
    "start_time": "2022-09-30T13:51:10.550Z"
   },
   {
    "duration": 9,
    "start_time": "2022-09-30T13:51:12.728Z"
   },
   {
    "duration": 41,
    "start_time": "2022-09-30T13:51:12.741Z"
   },
   {
    "duration": 19,
    "start_time": "2022-09-30T13:51:12.784Z"
   },
   {
    "duration": 50,
    "start_time": "2022-09-30T13:51:12.806Z"
   },
   {
    "duration": 19,
    "start_time": "2022-09-30T13:51:12.858Z"
   },
   {
    "duration": 42,
    "start_time": "2022-09-30T13:51:12.878Z"
   },
   {
    "duration": 23,
    "start_time": "2022-09-30T13:51:12.921Z"
   },
   {
    "duration": 12,
    "start_time": "2022-09-30T13:51:12.946Z"
   },
   {
    "duration": 15,
    "start_time": "2022-09-30T13:51:12.960Z"
   },
   {
    "duration": 21,
    "start_time": "2022-09-30T13:51:12.978Z"
   },
   {
    "duration": 716,
    "start_time": "2022-09-30T13:51:13.003Z"
   },
   {
    "duration": 6,
    "start_time": "2022-09-30T13:51:13.721Z"
   },
   {
    "duration": 13,
    "start_time": "2022-09-30T13:51:13.728Z"
   },
   {
    "duration": 29,
    "start_time": "2022-09-30T13:51:13.743Z"
   },
   {
    "duration": 28,
    "start_time": "2022-09-30T13:51:13.773Z"
   },
   {
    "duration": 35,
    "start_time": "2022-09-30T13:51:13.803Z"
   },
   {
    "duration": 411,
    "start_time": "2022-09-30T13:51:13.840Z"
   },
   {
    "duration": 3,
    "start_time": "2022-09-30T13:51:14.253Z"
   },
   {
    "duration": 327,
    "start_time": "2022-09-30T13:51:14.258Z"
   },
   {
    "duration": 33,
    "start_time": "2022-09-30T13:51:14.587Z"
   },
   {
    "duration": 306,
    "start_time": "2022-09-30T13:51:14.622Z"
   },
   {
    "duration": 142,
    "start_time": "2022-09-30T13:51:14.929Z"
   },
   {
    "duration": 133,
    "start_time": "2022-09-30T13:51:15.073Z"
   },
   {
    "duration": 118,
    "start_time": "2022-09-30T13:51:15.212Z"
   },
   {
    "duration": 128,
    "start_time": "2022-09-30T13:51:15.332Z"
   },
   {
    "duration": 160,
    "start_time": "2022-09-30T13:51:15.462Z"
   },
   {
    "duration": 177,
    "start_time": "2022-09-30T13:51:15.624Z"
   },
   {
    "duration": 123,
    "start_time": "2022-09-30T13:51:15.803Z"
   },
   {
    "duration": 146,
    "start_time": "2022-09-30T13:51:15.928Z"
   },
   {
    "duration": 128,
    "start_time": "2022-09-30T13:51:16.076Z"
   },
   {
    "duration": 172,
    "start_time": "2022-09-30T13:51:16.205Z"
   },
   {
    "duration": 158,
    "start_time": "2022-09-30T13:51:16.380Z"
   },
   {
    "duration": 143,
    "start_time": "2022-09-30T13:51:16.540Z"
   },
   {
    "duration": 262,
    "start_time": "2022-09-30T13:51:16.685Z"
   },
   {
    "duration": 199,
    "start_time": "2022-09-30T13:51:16.949Z"
   },
   {
    "duration": 144,
    "start_time": "2022-09-30T13:51:17.150Z"
   },
   {
    "duration": 23,
    "start_time": "2022-09-30T13:51:17.297Z"
   },
   {
    "duration": 194,
    "start_time": "2022-09-30T13:51:17.325Z"
   },
   {
    "duration": 206,
    "start_time": "2022-09-30T13:51:17.521Z"
   },
   {
    "duration": 210,
    "start_time": "2022-09-30T13:51:17.728Z"
   },
   {
    "duration": 263,
    "start_time": "2022-09-30T13:51:17.940Z"
   },
   {
    "duration": 144,
    "start_time": "2022-09-30T13:51:18.204Z"
   },
   {
    "duration": 172,
    "start_time": "2022-09-30T13:51:18.350Z"
   },
   {
    "duration": 170,
    "start_time": "2022-09-30T13:51:18.524Z"
   },
   {
    "duration": 162,
    "start_time": "2022-09-30T13:51:18.696Z"
   },
   {
    "duration": 21,
    "start_time": "2022-09-30T13:51:18.860Z"
   },
   {
    "duration": 164,
    "start_time": "2022-09-30T13:51:18.883Z"
   },
   {
    "duration": 26,
    "start_time": "2022-09-30T13:51:19.049Z"
   },
   {
    "duration": 197,
    "start_time": "2022-09-30T13:51:19.076Z"
   },
   {
    "duration": 6,
    "start_time": "2022-09-30T14:04:50.547Z"
   },
   {
    "duration": 278,
    "start_time": "2022-09-30T14:04:53.995Z"
   },
   {
    "duration": 267,
    "start_time": "2022-09-30T14:05:18.845Z"
   },
   {
    "duration": 6,
    "start_time": "2022-09-30T14:05:27.755Z"
   },
   {
    "duration": 255,
    "start_time": "2022-09-30T14:10:57.392Z"
   },
   {
    "duration": 16,
    "start_time": "2022-09-30T14:13:29.896Z"
   },
   {
    "duration": 202,
    "start_time": "2022-09-30T14:14:04.005Z"
   },
   {
    "duration": 49,
    "start_time": "2022-09-30T14:21:13.567Z"
   },
   {
    "duration": 136,
    "start_time": "2022-09-30T14:56:17.875Z"
   },
   {
    "duration": 137,
    "start_time": "2022-09-30T14:56:39.773Z"
   },
   {
    "duration": 2,
    "start_time": "2022-09-30T15:28:36.716Z"
   },
   {
    "duration": 337,
    "start_time": "2022-09-30T15:43:52.686Z"
   },
   {
    "duration": 308,
    "start_time": "2022-09-30T15:44:36.447Z"
   },
   {
    "duration": 309,
    "start_time": "2022-09-30T15:45:06.096Z"
   },
   {
    "duration": 339,
    "start_time": "2022-09-30T15:45:38.881Z"
   },
   {
    "duration": 44,
    "start_time": "2022-09-30T19:29:12.297Z"
   },
   {
    "duration": 1192,
    "start_time": "2022-09-30T19:30:03.694Z"
   },
   {
    "duration": 15,
    "start_time": "2022-09-30T19:30:04.888Z"
   },
   {
    "duration": 1756,
    "start_time": "2022-09-30T19:30:04.905Z"
   },
   {
    "duration": 5,
    "start_time": "2022-09-30T19:30:06.663Z"
   },
   {
    "duration": 9,
    "start_time": "2022-09-30T19:30:06.670Z"
   },
   {
    "duration": 4,
    "start_time": "2022-09-30T19:30:06.680Z"
   },
   {
    "duration": 8,
    "start_time": "2022-09-30T19:30:06.700Z"
   },
   {
    "duration": 4,
    "start_time": "2022-09-30T19:30:06.709Z"
   },
   {
    "duration": 225,
    "start_time": "2022-09-30T19:30:06.714Z"
   },
   {
    "duration": 11,
    "start_time": "2022-09-30T19:30:06.941Z"
   },
   {
    "duration": 9,
    "start_time": "2022-09-30T19:30:06.954Z"
   },
   {
    "duration": 6,
    "start_time": "2022-09-30T19:30:06.964Z"
   },
   {
    "duration": 29,
    "start_time": "2022-09-30T19:30:06.972Z"
   },
   {
    "duration": 4,
    "start_time": "2022-09-30T19:30:07.004Z"
   },
   {
    "duration": 5,
    "start_time": "2022-09-30T19:30:07.009Z"
   },
   {
    "duration": 174,
    "start_time": "2022-09-30T19:30:07.015Z"
   },
   {
    "duration": 0,
    "start_time": "2022-09-30T19:30:07.192Z"
   },
   {
    "duration": 0,
    "start_time": "2022-09-30T19:30:07.200Z"
   },
   {
    "duration": 0,
    "start_time": "2022-09-30T19:30:07.201Z"
   },
   {
    "duration": 0,
    "start_time": "2022-09-30T19:30:07.202Z"
   },
   {
    "duration": 0,
    "start_time": "2022-09-30T19:30:07.204Z"
   },
   {
    "duration": 0,
    "start_time": "2022-09-30T19:30:07.205Z"
   },
   {
    "duration": 0,
    "start_time": "2022-09-30T19:30:07.206Z"
   },
   {
    "duration": 0,
    "start_time": "2022-09-30T19:30:07.207Z"
   },
   {
    "duration": 0,
    "start_time": "2022-09-30T19:30:07.208Z"
   },
   {
    "duration": 0,
    "start_time": "2022-09-30T19:30:07.209Z"
   },
   {
    "duration": 0,
    "start_time": "2022-09-30T19:30:07.209Z"
   },
   {
    "duration": 0,
    "start_time": "2022-09-30T19:30:07.210Z"
   },
   {
    "duration": 0,
    "start_time": "2022-09-30T19:30:07.212Z"
   },
   {
    "duration": 0,
    "start_time": "2022-09-30T19:30:07.212Z"
   },
   {
    "duration": 0,
    "start_time": "2022-09-30T19:30:07.214Z"
   },
   {
    "duration": 0,
    "start_time": "2022-09-30T19:30:07.215Z"
   },
   {
    "duration": 0,
    "start_time": "2022-09-30T19:30:07.216Z"
   },
   {
    "duration": 0,
    "start_time": "2022-09-30T19:30:07.216Z"
   },
   {
    "duration": 0,
    "start_time": "2022-09-30T19:30:07.217Z"
   },
   {
    "duration": 0,
    "start_time": "2022-09-30T19:30:07.218Z"
   },
   {
    "duration": 0,
    "start_time": "2022-09-30T19:30:07.219Z"
   },
   {
    "duration": 0,
    "start_time": "2022-09-30T19:30:07.220Z"
   },
   {
    "duration": 0,
    "start_time": "2022-09-30T19:30:07.222Z"
   },
   {
    "duration": 0,
    "start_time": "2022-09-30T19:30:07.222Z"
   },
   {
    "duration": 0,
    "start_time": "2022-09-30T19:30:07.223Z"
   },
   {
    "duration": 0,
    "start_time": "2022-09-30T19:30:07.224Z"
   },
   {
    "duration": 0,
    "start_time": "2022-09-30T19:30:07.225Z"
   },
   {
    "duration": 0,
    "start_time": "2022-09-30T19:30:07.226Z"
   },
   {
    "duration": 0,
    "start_time": "2022-09-30T19:30:07.227Z"
   },
   {
    "duration": 0,
    "start_time": "2022-09-30T19:30:07.228Z"
   },
   {
    "duration": 0,
    "start_time": "2022-09-30T19:30:07.229Z"
   },
   {
    "duration": 0,
    "start_time": "2022-09-30T19:30:07.230Z"
   },
   {
    "duration": 0,
    "start_time": "2022-09-30T19:30:07.230Z"
   },
   {
    "duration": 0,
    "start_time": "2022-09-30T19:30:07.231Z"
   },
   {
    "duration": 0,
    "start_time": "2022-09-30T19:30:07.232Z"
   },
   {
    "duration": 0,
    "start_time": "2022-09-30T19:30:07.233Z"
   },
   {
    "duration": 0,
    "start_time": "2022-09-30T19:30:07.234Z"
   },
   {
    "duration": 0,
    "start_time": "2022-09-30T19:30:07.235Z"
   },
   {
    "duration": 0,
    "start_time": "2022-09-30T19:30:07.236Z"
   },
   {
    "duration": 0,
    "start_time": "2022-09-30T19:30:07.237Z"
   },
   {
    "duration": 0,
    "start_time": "2022-09-30T19:30:07.238Z"
   },
   {
    "duration": 0,
    "start_time": "2022-09-30T19:30:07.239Z"
   },
   {
    "duration": 0,
    "start_time": "2022-09-30T19:30:07.301Z"
   },
   {
    "duration": 0,
    "start_time": "2022-09-30T19:30:07.302Z"
   },
   {
    "duration": 0,
    "start_time": "2022-09-30T19:30:07.303Z"
   },
   {
    "duration": 275,
    "start_time": "2022-09-30T20:19:27.389Z"
   },
   {
    "duration": 8,
    "start_time": "2022-09-30T20:19:30.142Z"
   },
   {
    "duration": 5,
    "start_time": "2022-09-30T20:19:31.022Z"
   },
   {
    "duration": 1202,
    "start_time": "2022-09-30T20:20:17.694Z"
   },
   {
    "duration": 16,
    "start_time": "2022-09-30T20:20:18.900Z"
   },
   {
    "duration": 1712,
    "start_time": "2022-09-30T20:20:18.919Z"
   },
   {
    "duration": 4,
    "start_time": "2022-09-30T20:20:20.633Z"
   },
   {
    "duration": 12,
    "start_time": "2022-09-30T20:20:20.638Z"
   },
   {
    "duration": 8,
    "start_time": "2022-09-30T20:20:20.651Z"
   },
   {
    "duration": 10,
    "start_time": "2022-09-30T20:20:20.661Z"
   },
   {
    "duration": 3,
    "start_time": "2022-09-30T20:20:20.672Z"
   },
   {
    "duration": 228,
    "start_time": "2022-09-30T20:20:20.676Z"
   },
   {
    "duration": 11,
    "start_time": "2022-09-30T20:20:20.905Z"
   },
   {
    "duration": 10,
    "start_time": "2022-09-30T20:20:20.917Z"
   },
   {
    "duration": 6,
    "start_time": "2022-09-30T20:20:20.928Z"
   },
   {
    "duration": 6,
    "start_time": "2022-09-30T20:20:20.936Z"
   },
   {
    "duration": 7,
    "start_time": "2022-09-30T20:20:20.943Z"
   },
   {
    "duration": 5,
    "start_time": "2022-09-30T20:20:20.952Z"
   },
   {
    "duration": 275,
    "start_time": "2022-09-30T20:20:20.958Z"
   },
   {
    "duration": 6,
    "start_time": "2022-09-30T20:20:21.235Z"
   },
   {
    "duration": 7,
    "start_time": "2022-09-30T20:20:21.242Z"
   },
   {
    "duration": 17,
    "start_time": "2022-09-30T20:20:21.250Z"
   },
   {
    "duration": 35,
    "start_time": "2022-09-30T20:20:21.269Z"
   },
   {
    "duration": 50,
    "start_time": "2022-09-30T20:20:21.306Z"
   },
   {
    "duration": 8,
    "start_time": "2022-09-30T20:20:21.358Z"
   },
   {
    "duration": 305,
    "start_time": "2022-09-30T20:20:21.368Z"
   },
   {
    "duration": 292,
    "start_time": "2022-09-30T20:20:21.674Z"
   },
   {
    "duration": 14,
    "start_time": "2022-09-30T20:20:21.968Z"
   },
   {
    "duration": 17,
    "start_time": "2022-09-30T20:20:21.983Z"
   },
   {
    "duration": 12,
    "start_time": "2022-09-30T20:20:22.001Z"
   },
   {
    "duration": 391,
    "start_time": "2022-09-30T20:20:22.014Z"
   },
   {
    "duration": 5,
    "start_time": "2022-09-30T20:20:22.406Z"
   },
   {
    "duration": 304,
    "start_time": "2022-09-30T20:20:22.412Z"
   },
   {
    "duration": 14,
    "start_time": "2022-09-30T20:20:22.718Z"
   },
   {
    "duration": 205,
    "start_time": "2022-09-30T20:20:22.734Z"
   },
   {
    "duration": 142,
    "start_time": "2022-09-30T20:20:22.941Z"
   },
   {
    "duration": 125,
    "start_time": "2022-09-30T20:20:23.085Z"
   },
   {
    "duration": 209,
    "start_time": "2022-09-30T20:20:23.212Z"
   },
   {
    "duration": 131,
    "start_time": "2022-09-30T20:20:23.423Z"
   },
   {
    "duration": 150,
    "start_time": "2022-09-30T20:20:23.555Z"
   },
   {
    "duration": 155,
    "start_time": "2022-09-30T20:20:23.707Z"
   },
   {
    "duration": 112,
    "start_time": "2022-09-30T20:20:23.863Z"
   },
   {
    "duration": 114,
    "start_time": "2022-09-30T20:20:23.979Z"
   },
   {
    "duration": 149,
    "start_time": "2022-09-30T20:20:24.099Z"
   },
   {
    "duration": 168,
    "start_time": "2022-09-30T20:20:24.249Z"
   },
   {
    "duration": 196,
    "start_time": "2022-09-30T20:20:24.419Z"
   },
   {
    "duration": 125,
    "start_time": "2022-09-30T20:20:24.617Z"
   },
   {
    "duration": 136,
    "start_time": "2022-09-30T20:20:24.743Z"
   },
   {
    "duration": 155,
    "start_time": "2022-09-30T20:20:24.880Z"
   },
   {
    "duration": 135,
    "start_time": "2022-09-30T20:20:25.036Z"
   },
   {
    "duration": 13,
    "start_time": "2022-09-30T20:20:25.172Z"
   },
   {
    "duration": 175,
    "start_time": "2022-09-30T20:20:25.187Z"
   },
   {
    "duration": 284,
    "start_time": "2022-09-30T20:20:25.364Z"
   },
   {
    "duration": 194,
    "start_time": "2022-09-30T20:20:25.650Z"
   },
   {
    "duration": 146,
    "start_time": "2022-09-30T20:20:25.845Z"
   },
   {
    "duration": 252,
    "start_time": "2022-09-30T20:20:25.993Z"
   },
   {
    "duration": 129,
    "start_time": "2022-09-30T20:20:26.246Z"
   },
   {
    "duration": 174,
    "start_time": "2022-09-30T20:20:26.377Z"
   },
   {
    "duration": 184,
    "start_time": "2022-09-30T20:20:26.553Z"
   },
   {
    "duration": 157,
    "start_time": "2022-09-30T20:20:26.738Z"
   },
   {
    "duration": 23,
    "start_time": "2022-09-30T20:20:26.896Z"
   },
   {
    "duration": 147,
    "start_time": "2022-09-30T20:20:26.921Z"
   },
   {
    "duration": 32,
    "start_time": "2022-09-30T20:20:27.069Z"
   },
   {
    "duration": 162,
    "start_time": "2022-09-30T20:20:27.103Z"
   },
   {
    "duration": 17,
    "start_time": "2022-09-30T20:20:56.350Z"
   },
   {
    "duration": 93,
    "start_time": "2022-09-30T20:23:01.191Z"
   },
   {
    "duration": 8,
    "start_time": "2022-09-30T20:23:14.076Z"
   },
   {
    "duration": 6,
    "start_time": "2022-09-30T20:25:29.304Z"
   },
   {
    "duration": 6,
    "start_time": "2022-09-30T20:25:41.521Z"
   },
   {
    "duration": 21,
    "start_time": "2022-09-30T20:33:24.404Z"
   },
   {
    "duration": 1127,
    "start_time": "2022-09-30T21:03:31.158Z"
   },
   {
    "duration": 15,
    "start_time": "2022-09-30T21:03:32.287Z"
   },
   {
    "duration": 1773,
    "start_time": "2022-09-30T21:03:32.303Z"
   },
   {
    "duration": 6,
    "start_time": "2022-09-30T21:03:34.077Z"
   },
   {
    "duration": 16,
    "start_time": "2022-09-30T21:03:34.085Z"
   },
   {
    "duration": 4,
    "start_time": "2022-09-30T21:03:34.103Z"
   },
   {
    "duration": 18,
    "start_time": "2022-09-30T21:03:34.109Z"
   },
   {
    "duration": 4,
    "start_time": "2022-09-30T21:03:34.129Z"
   },
   {
    "duration": 243,
    "start_time": "2022-09-30T21:03:34.134Z"
   },
   {
    "duration": 24,
    "start_time": "2022-09-30T21:03:34.379Z"
   },
   {
    "duration": 11,
    "start_time": "2022-09-30T21:03:34.406Z"
   },
   {
    "duration": 9,
    "start_time": "2022-09-30T21:03:34.420Z"
   },
   {
    "duration": 16,
    "start_time": "2022-09-30T21:03:34.431Z"
   },
   {
    "duration": 12,
    "start_time": "2022-09-30T21:03:34.450Z"
   },
   {
    "duration": 10,
    "start_time": "2022-09-30T21:03:34.463Z"
   },
   {
    "duration": 281,
    "start_time": "2022-09-30T21:03:34.475Z"
   },
   {
    "duration": 6,
    "start_time": "2022-09-30T21:03:34.757Z"
   },
   {
    "duration": 8,
    "start_time": "2022-09-30T21:03:34.765Z"
   },
   {
    "duration": 26,
    "start_time": "2022-09-30T21:03:34.775Z"
   },
   {
    "duration": 17,
    "start_time": "2022-09-30T21:03:34.802Z"
   },
   {
    "duration": 45,
    "start_time": "2022-09-30T21:03:34.821Z"
   },
   {
    "duration": 7,
    "start_time": "2022-09-30T21:03:34.868Z"
   },
   {
    "duration": 281,
    "start_time": "2022-09-30T21:03:34.900Z"
   },
   {
    "duration": 302,
    "start_time": "2022-09-30T21:03:35.182Z"
   },
   {
    "duration": 20,
    "start_time": "2022-09-30T21:03:35.486Z"
   },
   {
    "duration": 5,
    "start_time": "2022-09-30T21:03:35.508Z"
   },
   {
    "duration": 17,
    "start_time": "2022-09-30T21:03:35.514Z"
   },
   {
    "duration": 401,
    "start_time": "2022-09-30T21:03:35.532Z"
   },
   {
    "duration": 4,
    "start_time": "2022-09-30T21:03:35.935Z"
   },
   {
    "duration": 18,
    "start_time": "2022-09-30T21:03:35.940Z"
   },
   {
    "duration": 333,
    "start_time": "2022-09-30T21:03:35.959Z"
   },
   {
    "duration": 14,
    "start_time": "2022-09-30T21:03:36.300Z"
   },
   {
    "duration": 16,
    "start_time": "2022-09-30T21:03:36.316Z"
   },
   {
    "duration": 3,
    "start_time": "2022-09-30T21:03:36.334Z"
   },
   {
    "duration": 238,
    "start_time": "2022-09-30T21:03:36.339Z"
   },
   {
    "duration": 143,
    "start_time": "2022-09-30T21:03:36.579Z"
   },
   {
    "duration": 4,
    "start_time": "2022-09-30T21:03:36.724Z"
   },
   {
    "duration": 131,
    "start_time": "2022-09-30T21:03:36.729Z"
   },
   {
    "duration": 223,
    "start_time": "2022-09-30T21:03:36.862Z"
   },
   {
    "duration": 124,
    "start_time": "2022-09-30T21:03:37.087Z"
   },
   {
    "duration": 140,
    "start_time": "2022-09-30T21:03:37.215Z"
   },
   {
    "duration": 156,
    "start_time": "2022-09-30T21:03:37.357Z"
   },
   {
    "duration": 107,
    "start_time": "2022-09-30T21:03:37.514Z"
   },
   {
    "duration": 116,
    "start_time": "2022-09-30T21:03:37.623Z"
   },
   {
    "duration": 135,
    "start_time": "2022-09-30T21:03:37.740Z"
   },
   {
    "duration": 157,
    "start_time": "2022-09-30T21:03:37.876Z"
   },
   {
    "duration": 147,
    "start_time": "2022-09-30T21:03:38.034Z"
   },
   {
    "duration": 124,
    "start_time": "2022-09-30T21:03:38.183Z"
   },
   {
    "duration": 137,
    "start_time": "2022-09-30T21:03:38.309Z"
   },
   {
    "duration": 16,
    "start_time": "2022-09-30T21:03:38.448Z"
   },
   {
    "duration": 173,
    "start_time": "2022-09-30T21:03:38.466Z"
   },
   {
    "duration": 147,
    "start_time": "2022-09-30T21:03:38.640Z"
   },
   {
    "duration": 20,
    "start_time": "2022-09-30T21:03:38.789Z"
   },
   {
    "duration": 182,
    "start_time": "2022-09-30T21:03:38.811Z"
   },
   {
    "duration": 313,
    "start_time": "2022-09-30T21:03:38.999Z"
   },
   {
    "duration": 198,
    "start_time": "2022-09-30T21:03:39.313Z"
   },
   {
    "duration": 169,
    "start_time": "2022-09-30T21:03:39.512Z"
   },
   {
    "duration": 233,
    "start_time": "2022-09-30T21:03:39.683Z"
   },
   {
    "duration": 127,
    "start_time": "2022-09-30T21:03:39.917Z"
   },
   {
    "duration": 173,
    "start_time": "2022-09-30T21:03:40.046Z"
   },
   {
    "duration": 166,
    "start_time": "2022-09-30T21:03:40.220Z"
   },
   {
    "duration": 145,
    "start_time": "2022-09-30T21:03:40.388Z"
   },
   {
    "duration": 22,
    "start_time": "2022-09-30T21:03:40.534Z"
   },
   {
    "duration": 143,
    "start_time": "2022-09-30T21:03:40.558Z"
   },
   {
    "duration": 25,
    "start_time": "2022-09-30T21:03:40.703Z"
   },
   {
    "duration": 176,
    "start_time": "2022-09-30T21:03:40.729Z"
   },
   {
    "duration": 49,
    "start_time": "2022-10-01T10:02:21.463Z"
   },
   {
    "duration": 111,
    "start_time": "2022-10-01T10:03:03.422Z"
   },
   {
    "duration": 1634,
    "start_time": "2022-10-01T10:03:24.852Z"
   },
   {
    "duration": 14,
    "start_time": "2022-10-01T10:03:26.488Z"
   },
   {
    "duration": 2017,
    "start_time": "2022-10-01T10:03:26.503Z"
   },
   {
    "duration": 4,
    "start_time": "2022-10-01T10:03:28.522Z"
   },
   {
    "duration": 27,
    "start_time": "2022-10-01T10:03:28.528Z"
   },
   {
    "duration": 12,
    "start_time": "2022-10-01T10:03:28.557Z"
   },
   {
    "duration": 57,
    "start_time": "2022-10-01T10:03:28.571Z"
   },
   {
    "duration": 8,
    "start_time": "2022-10-01T10:03:28.629Z"
   },
   {
    "duration": 249,
    "start_time": "2022-10-01T10:03:28.638Z"
   },
   {
    "duration": 11,
    "start_time": "2022-10-01T10:03:28.888Z"
   },
   {
    "duration": 41,
    "start_time": "2022-10-01T10:03:28.901Z"
   },
   {
    "duration": 23,
    "start_time": "2022-10-01T10:03:28.944Z"
   },
   {
    "duration": 22,
    "start_time": "2022-10-01T10:03:28.968Z"
   },
   {
    "duration": 20,
    "start_time": "2022-10-01T10:03:28.993Z"
   },
   {
    "duration": 41,
    "start_time": "2022-10-01T10:03:29.014Z"
   },
   {
    "duration": 183,
    "start_time": "2022-10-01T10:03:29.056Z"
   },
   {
    "duration": 0,
    "start_time": "2022-10-01T10:03:29.241Z"
   },
   {
    "duration": 0,
    "start_time": "2022-10-01T10:03:29.242Z"
   },
   {
    "duration": 0,
    "start_time": "2022-10-01T10:03:29.243Z"
   },
   {
    "duration": 0,
    "start_time": "2022-10-01T10:03:29.244Z"
   },
   {
    "duration": 0,
    "start_time": "2022-10-01T10:03:29.245Z"
   },
   {
    "duration": 0,
    "start_time": "2022-10-01T10:03:29.246Z"
   },
   {
    "duration": 0,
    "start_time": "2022-10-01T10:03:29.247Z"
   },
   {
    "duration": 0,
    "start_time": "2022-10-01T10:03:29.248Z"
   },
   {
    "duration": 0,
    "start_time": "2022-10-01T10:03:29.249Z"
   },
   {
    "duration": 0,
    "start_time": "2022-10-01T10:03:29.250Z"
   },
   {
    "duration": 0,
    "start_time": "2022-10-01T10:03:29.251Z"
   },
   {
    "duration": 0,
    "start_time": "2022-10-01T10:03:29.251Z"
   },
   {
    "duration": 0,
    "start_time": "2022-10-01T10:03:29.253Z"
   },
   {
    "duration": 0,
    "start_time": "2022-10-01T10:03:29.254Z"
   },
   {
    "duration": 0,
    "start_time": "2022-10-01T10:03:29.255Z"
   },
   {
    "duration": 0,
    "start_time": "2022-10-01T10:03:29.255Z"
   },
   {
    "duration": 0,
    "start_time": "2022-10-01T10:03:29.256Z"
   },
   {
    "duration": 0,
    "start_time": "2022-10-01T10:03:29.257Z"
   },
   {
    "duration": 0,
    "start_time": "2022-10-01T10:03:29.258Z"
   },
   {
    "duration": 0,
    "start_time": "2022-10-01T10:03:29.259Z"
   },
   {
    "duration": 0,
    "start_time": "2022-10-01T10:03:29.260Z"
   },
   {
    "duration": 0,
    "start_time": "2022-10-01T10:03:29.261Z"
   },
   {
    "duration": 0,
    "start_time": "2022-10-01T10:03:29.262Z"
   },
   {
    "duration": 0,
    "start_time": "2022-10-01T10:03:29.263Z"
   },
   {
    "duration": 0,
    "start_time": "2022-10-01T10:03:29.264Z"
   },
   {
    "duration": 0,
    "start_time": "2022-10-01T10:03:29.264Z"
   },
   {
    "duration": 0,
    "start_time": "2022-10-01T10:03:29.265Z"
   },
   {
    "duration": 0,
    "start_time": "2022-10-01T10:03:29.266Z"
   },
   {
    "duration": 0,
    "start_time": "2022-10-01T10:03:29.267Z"
   },
   {
    "duration": 0,
    "start_time": "2022-10-01T10:03:29.268Z"
   },
   {
    "duration": 0,
    "start_time": "2022-10-01T10:03:29.269Z"
   },
   {
    "duration": 0,
    "start_time": "2022-10-01T10:03:29.270Z"
   },
   {
    "duration": 0,
    "start_time": "2022-10-01T10:03:29.271Z"
   },
   {
    "duration": 0,
    "start_time": "2022-10-01T10:03:29.271Z"
   },
   {
    "duration": 0,
    "start_time": "2022-10-01T10:03:29.272Z"
   },
   {
    "duration": 0,
    "start_time": "2022-10-01T10:03:29.273Z"
   },
   {
    "duration": 0,
    "start_time": "2022-10-01T10:03:29.274Z"
   },
   {
    "duration": 0,
    "start_time": "2022-10-01T10:03:29.275Z"
   },
   {
    "duration": 0,
    "start_time": "2022-10-01T10:03:29.275Z"
   },
   {
    "duration": 0,
    "start_time": "2022-10-01T10:03:29.339Z"
   },
   {
    "duration": 0,
    "start_time": "2022-10-01T10:03:29.340Z"
   },
   {
    "duration": 0,
    "start_time": "2022-10-01T10:03:29.341Z"
   },
   {
    "duration": 0,
    "start_time": "2022-10-01T10:03:29.342Z"
   },
   {
    "duration": 0,
    "start_time": "2022-10-01T10:03:29.343Z"
   },
   {
    "duration": 0,
    "start_time": "2022-10-01T10:03:29.344Z"
   },
   {
    "duration": 0,
    "start_time": "2022-10-01T10:03:29.344Z"
   },
   {
    "duration": 0,
    "start_time": "2022-10-01T10:03:29.345Z"
   },
   {
    "duration": 0,
    "start_time": "2022-10-01T10:03:29.346Z"
   },
   {
    "duration": 0,
    "start_time": "2022-10-01T10:03:29.347Z"
   },
   {
    "duration": 0,
    "start_time": "2022-10-01T10:03:29.348Z"
   },
   {
    "duration": 255,
    "start_time": "2022-10-01T10:07:00.326Z"
   },
   {
    "duration": 293,
    "start_time": "2022-10-01T10:07:07.051Z"
   },
   {
    "duration": 17,
    "start_time": "2022-10-01T10:15:09.830Z"
   },
   {
    "duration": 16,
    "start_time": "2022-10-01T10:22:55.759Z"
   },
   {
    "duration": 22,
    "start_time": "2022-10-01T10:24:40.495Z"
   },
   {
    "duration": 26,
    "start_time": "2022-10-01T10:30:29.378Z"
   },
   {
    "duration": 27,
    "start_time": "2022-10-01T10:30:54.276Z"
   },
   {
    "duration": 23,
    "start_time": "2022-10-01T10:35:29.861Z"
   },
   {
    "duration": 36,
    "start_time": "2022-10-01T10:36:42.636Z"
   },
   {
    "duration": 48,
    "start_time": "2022-10-01T10:38:16.763Z"
   },
   {
    "duration": 9,
    "start_time": "2022-10-01T10:43:39.782Z"
   },
   {
    "duration": 365,
    "start_time": "2022-10-01T10:44:06.788Z"
   },
   {
    "duration": 292,
    "start_time": "2022-10-01T10:44:38.360Z"
   },
   {
    "duration": 48,
    "start_time": "2022-10-01T10:48:34.960Z"
   },
   {
    "duration": 7,
    "start_time": "2022-10-01T10:48:47.715Z"
   },
   {
    "duration": 11,
    "start_time": "2022-10-01T10:49:03.590Z"
   },
   {
    "duration": 11,
    "start_time": "2022-10-01T10:49:32.568Z"
   },
   {
    "duration": 12,
    "start_time": "2022-10-01T10:49:41.337Z"
   },
   {
    "duration": 11,
    "start_time": "2022-10-01T10:49:48.145Z"
   },
   {
    "duration": 12,
    "start_time": "2022-10-01T10:49:54.077Z"
   },
   {
    "duration": 13,
    "start_time": "2022-10-01T10:50:03.910Z"
   },
   {
    "duration": 11,
    "start_time": "2022-10-01T10:50:10.720Z"
   },
   {
    "duration": 18,
    "start_time": "2022-10-01T11:13:34.488Z"
   },
   {
    "duration": 20,
    "start_time": "2022-10-01T11:16:58.816Z"
   },
   {
    "duration": 19,
    "start_time": "2022-10-01T11:17:30.180Z"
   },
   {
    "duration": 51,
    "start_time": "2022-10-01T11:18:30.984Z"
   },
   {
    "duration": 25,
    "start_time": "2022-10-01T11:20:28.776Z"
   },
   {
    "duration": 19,
    "start_time": "2022-10-01T11:21:53.722Z"
   },
   {
    "duration": 20,
    "start_time": "2022-10-01T11:21:58.595Z"
   },
   {
    "duration": 27,
    "start_time": "2022-10-01T11:22:32.231Z"
   },
   {
    "duration": 344,
    "start_time": "2022-10-01T11:23:55.888Z"
   },
   {
    "duration": 573,
    "start_time": "2022-10-01T11:28:56.771Z"
   },
   {
    "duration": 400,
    "start_time": "2022-10-01T11:29:06.492Z"
   },
   {
    "duration": 299,
    "start_time": "2022-10-01T11:29:39.248Z"
   },
   {
    "duration": 356,
    "start_time": "2022-10-01T11:29:53.232Z"
   },
   {
    "duration": 334,
    "start_time": "2022-10-01T11:30:47.385Z"
   },
   {
    "duration": 382,
    "start_time": "2022-10-01T11:30:57.773Z"
   },
   {
    "duration": 331,
    "start_time": "2022-10-01T11:31:05.291Z"
   },
   {
    "duration": 319,
    "start_time": "2022-10-01T11:48:26.755Z"
   },
   {
    "duration": 286,
    "start_time": "2022-10-01T11:49:01.011Z"
   },
   {
    "duration": 400,
    "start_time": "2022-10-01T11:49:22.576Z"
   },
   {
    "duration": 323,
    "start_time": "2022-10-01T11:49:53.294Z"
   },
   {
    "duration": 295,
    "start_time": "2022-10-01T11:50:21.074Z"
   },
   {
    "duration": 283,
    "start_time": "2022-10-01T11:50:37.358Z"
   },
   {
    "duration": 418,
    "start_time": "2022-10-01T11:50:55.643Z"
   },
   {
    "duration": 1307,
    "start_time": "2022-10-01T11:51:02.940Z"
   },
   {
    "duration": 14,
    "start_time": "2022-10-01T11:51:04.248Z"
   },
   {
    "duration": 1836,
    "start_time": "2022-10-01T11:51:04.264Z"
   },
   {
    "duration": 5,
    "start_time": "2022-10-01T11:51:06.101Z"
   },
   {
    "duration": 18,
    "start_time": "2022-10-01T11:51:06.108Z"
   },
   {
    "duration": 7,
    "start_time": "2022-10-01T11:51:06.128Z"
   },
   {
    "duration": 13,
    "start_time": "2022-10-01T11:51:06.136Z"
   },
   {
    "duration": 4,
    "start_time": "2022-10-01T11:51:06.151Z"
   },
   {
    "duration": 223,
    "start_time": "2022-10-01T11:51:06.157Z"
   },
   {
    "duration": 12,
    "start_time": "2022-10-01T11:51:06.383Z"
   },
   {
    "duration": 10,
    "start_time": "2022-10-01T11:51:06.397Z"
   },
   {
    "duration": 30,
    "start_time": "2022-10-01T11:51:06.409Z"
   },
   {
    "duration": 6,
    "start_time": "2022-10-01T11:51:06.441Z"
   },
   {
    "duration": 5,
    "start_time": "2022-10-01T11:51:06.449Z"
   },
   {
    "duration": 5,
    "start_time": "2022-10-01T11:51:06.456Z"
   },
   {
    "duration": 281,
    "start_time": "2022-10-01T11:51:06.463Z"
   },
   {
    "duration": 16,
    "start_time": "2022-10-01T11:51:06.745Z"
   },
   {
    "duration": 2,
    "start_time": "2022-10-01T11:51:06.763Z"
   },
   {
    "duration": 26,
    "start_time": "2022-10-01T11:51:06.767Z"
   },
   {
    "duration": 18,
    "start_time": "2022-10-01T11:51:06.794Z"
   },
   {
    "duration": 68,
    "start_time": "2022-10-01T11:51:06.814Z"
   },
   {
    "duration": 8,
    "start_time": "2022-10-01T11:51:06.884Z"
   },
   {
    "duration": 319,
    "start_time": "2022-10-01T11:51:06.894Z"
   },
   {
    "duration": 308,
    "start_time": "2022-10-01T11:51:07.216Z"
   },
   {
    "duration": 333,
    "start_time": "2022-10-01T11:51:07.526Z"
   },
   {
    "duration": 13,
    "start_time": "2022-10-01T11:51:07.861Z"
   },
   {
    "duration": 5,
    "start_time": "2022-10-01T11:51:07.875Z"
   },
   {
    "duration": 11,
    "start_time": "2022-10-01T11:51:07.883Z"
   },
   {
    "duration": 435,
    "start_time": "2022-10-01T11:51:07.896Z"
   },
   {
    "duration": 8,
    "start_time": "2022-10-01T11:51:08.333Z"
   },
   {
    "duration": 11,
    "start_time": "2022-10-01T11:51:08.343Z"
   },
   {
    "duration": 360,
    "start_time": "2022-10-01T11:51:08.356Z"
   },
   {
    "duration": 26,
    "start_time": "2022-10-01T11:51:08.719Z"
   },
   {
    "duration": 16,
    "start_time": "2022-10-01T11:51:08.747Z"
   },
   {
    "duration": 4,
    "start_time": "2022-10-01T11:51:08.764Z"
   },
   {
    "duration": 228,
    "start_time": "2022-10-01T11:51:08.769Z"
   },
   {
    "duration": 149,
    "start_time": "2022-10-01T11:51:08.999Z"
   },
   {
    "duration": 4,
    "start_time": "2022-10-01T11:51:09.150Z"
   },
   {
    "duration": 205,
    "start_time": "2022-10-01T11:51:09.156Z"
   },
   {
    "duration": 125,
    "start_time": "2022-10-01T11:51:09.362Z"
   },
   {
    "duration": 131,
    "start_time": "2022-10-01T11:51:09.489Z"
   },
   {
    "duration": 148,
    "start_time": "2022-10-01T11:51:09.621Z"
   },
   {
    "duration": 143,
    "start_time": "2022-10-01T11:51:09.770Z"
   },
   {
    "duration": 118,
    "start_time": "2022-10-01T11:51:09.914Z"
   },
   {
    "duration": 113,
    "start_time": "2022-10-01T11:51:10.039Z"
   },
   {
    "duration": 130,
    "start_time": "2022-10-01T11:51:10.153Z"
   },
   {
    "duration": 153,
    "start_time": "2022-10-01T11:51:10.285Z"
   },
   {
    "duration": 143,
    "start_time": "2022-10-01T11:51:10.440Z"
   },
   {
    "duration": 125,
    "start_time": "2022-10-01T11:51:10.584Z"
   },
   {
    "duration": 209,
    "start_time": "2022-10-01T11:51:10.710Z"
   },
   {
    "duration": 22,
    "start_time": "2022-10-01T11:51:10.920Z"
   },
   {
    "duration": 165,
    "start_time": "2022-10-01T11:51:10.943Z"
   },
   {
    "duration": 144,
    "start_time": "2022-10-01T11:51:11.109Z"
   },
   {
    "duration": 14,
    "start_time": "2022-10-01T11:51:11.255Z"
   },
   {
    "duration": 183,
    "start_time": "2022-10-01T11:51:11.271Z"
   },
   {
    "duration": 239,
    "start_time": "2022-10-01T11:51:11.456Z"
   },
   {
    "duration": 210,
    "start_time": "2022-10-01T11:51:11.697Z"
   },
   {
    "duration": 138,
    "start_time": "2022-10-01T11:51:11.909Z"
   },
   {
    "duration": 241,
    "start_time": "2022-10-01T11:51:12.048Z"
   },
   {
    "duration": 135,
    "start_time": "2022-10-01T11:51:12.290Z"
   },
   {
    "duration": 173,
    "start_time": "2022-10-01T11:51:12.426Z"
   },
   {
    "duration": 173,
    "start_time": "2022-10-01T11:51:12.600Z"
   },
   {
    "duration": 143,
    "start_time": "2022-10-01T11:51:12.775Z"
   },
   {
    "duration": 29,
    "start_time": "2022-10-01T11:51:12.919Z"
   },
   {
    "duration": 146,
    "start_time": "2022-10-01T11:51:12.949Z"
   },
   {
    "duration": 27,
    "start_time": "2022-10-01T11:51:13.097Z"
   },
   {
    "duration": 284,
    "start_time": "2022-10-01T11:51:13.126Z"
   },
   {
    "duration": 320,
    "start_time": "2022-10-01T11:52:42.760Z"
   },
   {
    "duration": 308,
    "start_time": "2022-10-01T11:52:59.685Z"
   },
   {
    "duration": 309,
    "start_time": "2022-10-01T11:53:05.936Z"
   },
   {
    "duration": 363,
    "start_time": "2022-10-01T11:53:11.969Z"
   },
   {
    "duration": 320,
    "start_time": "2022-10-01T11:53:12.686Z"
   },
   {
    "duration": 1192,
    "start_time": "2022-10-01T11:53:32.131Z"
   },
   {
    "duration": 19,
    "start_time": "2022-10-01T11:53:33.325Z"
   },
   {
    "duration": 1765,
    "start_time": "2022-10-01T11:53:33.346Z"
   },
   {
    "duration": 5,
    "start_time": "2022-10-01T11:53:35.114Z"
   },
   {
    "duration": 23,
    "start_time": "2022-10-01T11:53:35.121Z"
   },
   {
    "duration": 18,
    "start_time": "2022-10-01T11:53:35.146Z"
   },
   {
    "duration": 26,
    "start_time": "2022-10-01T11:53:35.165Z"
   },
   {
    "duration": 6,
    "start_time": "2022-10-01T11:53:35.193Z"
   },
   {
    "duration": 234,
    "start_time": "2022-10-01T11:53:35.200Z"
   },
   {
    "duration": 12,
    "start_time": "2022-10-01T11:53:35.437Z"
   },
   {
    "duration": 12,
    "start_time": "2022-10-01T11:53:35.451Z"
   },
   {
    "duration": 25,
    "start_time": "2022-10-01T11:53:35.465Z"
   },
   {
    "duration": 36,
    "start_time": "2022-10-01T11:53:35.492Z"
   },
   {
    "duration": 10,
    "start_time": "2022-10-01T11:53:35.530Z"
   },
   {
    "duration": 28,
    "start_time": "2022-10-01T11:53:35.542Z"
   },
   {
    "duration": 253,
    "start_time": "2022-10-01T11:53:35.572Z"
   },
   {
    "duration": 20,
    "start_time": "2022-10-01T11:53:35.827Z"
   },
   {
    "duration": 5,
    "start_time": "2022-10-01T11:53:35.848Z"
   },
   {
    "duration": 26,
    "start_time": "2022-10-01T11:53:35.855Z"
   },
   {
    "duration": 18,
    "start_time": "2022-10-01T11:53:35.884Z"
   },
   {
    "duration": 68,
    "start_time": "2022-10-01T11:53:35.903Z"
   },
   {
    "duration": 8,
    "start_time": "2022-10-01T11:53:35.972Z"
   },
   {
    "duration": 284,
    "start_time": "2022-10-01T11:53:35.981Z"
   },
   {
    "duration": 289,
    "start_time": "2022-10-01T11:53:36.267Z"
   },
   {
    "duration": 338,
    "start_time": "2022-10-01T11:53:36.557Z"
   },
   {
    "duration": 14,
    "start_time": "2022-10-01T11:53:36.896Z"
   },
   {
    "duration": 53,
    "start_time": "2022-10-01T11:53:36.912Z"
   },
   {
    "duration": 28,
    "start_time": "2022-10-01T11:53:36.969Z"
   },
   {
    "duration": 494,
    "start_time": "2022-10-01T11:53:36.999Z"
   },
   {
    "duration": 4,
    "start_time": "2022-10-01T11:53:37.495Z"
   },
   {
    "duration": 37,
    "start_time": "2022-10-01T11:53:37.501Z"
   },
   {
    "duration": 322,
    "start_time": "2022-10-01T11:53:37.540Z"
   },
   {
    "duration": 12,
    "start_time": "2022-10-01T11:53:37.864Z"
   },
   {
    "duration": 23,
    "start_time": "2022-10-01T11:53:37.877Z"
   },
   {
    "duration": 16,
    "start_time": "2022-10-01T11:53:37.902Z"
   },
   {
    "duration": 207,
    "start_time": "2022-10-01T11:53:37.919Z"
   },
   {
    "duration": 141,
    "start_time": "2022-10-01T11:53:38.128Z"
   },
   {
    "duration": 4,
    "start_time": "2022-10-01T11:53:38.270Z"
   },
   {
    "duration": 226,
    "start_time": "2022-10-01T11:53:38.275Z"
   },
   {
    "duration": 154,
    "start_time": "2022-10-01T11:53:38.503Z"
   },
   {
    "duration": 129,
    "start_time": "2022-10-01T11:53:38.660Z"
   },
   {
    "duration": 132,
    "start_time": "2022-10-01T11:53:38.791Z"
   },
   {
    "duration": 153,
    "start_time": "2022-10-01T11:53:38.925Z"
   },
   {
    "duration": 116,
    "start_time": "2022-10-01T11:53:39.079Z"
   },
   {
    "duration": 116,
    "start_time": "2022-10-01T11:53:39.197Z"
   },
   {
    "duration": 136,
    "start_time": "2022-10-01T11:53:39.315Z"
   },
   {
    "duration": 160,
    "start_time": "2022-10-01T11:53:39.453Z"
   },
   {
    "duration": 147,
    "start_time": "2022-10-01T11:53:39.614Z"
   },
   {
    "duration": 131,
    "start_time": "2022-10-01T11:53:39.763Z"
   },
   {
    "duration": 226,
    "start_time": "2022-10-01T11:53:39.896Z"
   },
   {
    "duration": 25,
    "start_time": "2022-10-01T11:53:40.124Z"
   },
   {
    "duration": 164,
    "start_time": "2022-10-01T11:53:40.150Z"
   },
   {
    "duration": 138,
    "start_time": "2022-10-01T11:53:40.316Z"
   },
   {
    "duration": 14,
    "start_time": "2022-10-01T11:53:40.455Z"
   },
   {
    "duration": 192,
    "start_time": "2022-10-01T11:53:40.471Z"
   },
   {
    "duration": 210,
    "start_time": "2022-10-01T11:53:40.665Z"
   },
   {
    "duration": 193,
    "start_time": "2022-10-01T11:53:40.877Z"
   },
   {
    "duration": 140,
    "start_time": "2022-10-01T11:53:41.071Z"
   },
   {
    "duration": 229,
    "start_time": "2022-10-01T11:53:41.213Z"
   },
   {
    "duration": 132,
    "start_time": "2022-10-01T11:53:41.444Z"
   },
   {
    "duration": 175,
    "start_time": "2022-10-01T11:53:41.578Z"
   },
   {
    "duration": 171,
    "start_time": "2022-10-01T11:53:41.754Z"
   },
   {
    "duration": 146,
    "start_time": "2022-10-01T11:53:41.926Z"
   },
   {
    "duration": 21,
    "start_time": "2022-10-01T11:53:42.073Z"
   },
   {
    "duration": 149,
    "start_time": "2022-10-01T11:53:42.096Z"
   },
   {
    "duration": 26,
    "start_time": "2022-10-01T11:53:42.246Z"
   },
   {
    "duration": 273,
    "start_time": "2022-10-01T11:53:42.274Z"
   },
   {
    "duration": 489,
    "start_time": "2022-10-01T12:06:17.130Z"
   },
   {
    "duration": 36,
    "start_time": "2022-10-01T12:06:37.012Z"
   },
   {
    "duration": 24,
    "start_time": "2022-10-01T12:07:06.953Z"
   },
   {
    "duration": 1199,
    "start_time": "2022-10-01T12:07:15.260Z"
   },
   {
    "duration": 14,
    "start_time": "2022-10-01T12:07:16.461Z"
   },
   {
    "duration": 1878,
    "start_time": "2022-10-01T12:07:16.477Z"
   },
   {
    "duration": 4,
    "start_time": "2022-10-01T12:07:18.357Z"
   },
   {
    "duration": 10,
    "start_time": "2022-10-01T12:07:18.363Z"
   },
   {
    "duration": 3,
    "start_time": "2022-10-01T12:07:18.375Z"
   },
   {
    "duration": 12,
    "start_time": "2022-10-01T12:07:18.380Z"
   },
   {
    "duration": 4,
    "start_time": "2022-10-01T12:07:18.394Z"
   },
   {
    "duration": 230,
    "start_time": "2022-10-01T12:07:18.399Z"
   },
   {
    "duration": 12,
    "start_time": "2022-10-01T12:07:18.639Z"
   },
   {
    "duration": 9,
    "start_time": "2022-10-01T12:07:18.653Z"
   },
   {
    "duration": 8,
    "start_time": "2022-10-01T12:07:18.663Z"
   },
   {
    "duration": 5,
    "start_time": "2022-10-01T12:07:18.673Z"
   },
   {
    "duration": 5,
    "start_time": "2022-10-01T12:07:18.680Z"
   },
   {
    "duration": 7,
    "start_time": "2022-10-01T12:07:18.686Z"
   },
   {
    "duration": 284,
    "start_time": "2022-10-01T12:07:18.694Z"
   },
   {
    "duration": 17,
    "start_time": "2022-10-01T12:07:18.979Z"
   },
   {
    "duration": 2,
    "start_time": "2022-10-01T12:07:18.997Z"
   },
   {
    "duration": 39,
    "start_time": "2022-10-01T12:07:19.001Z"
   },
   {
    "duration": 18,
    "start_time": "2022-10-01T12:07:19.041Z"
   },
   {
    "duration": 48,
    "start_time": "2022-10-01T12:07:19.061Z"
   },
   {
    "duration": 29,
    "start_time": "2022-10-01T12:07:19.110Z"
   },
   {
    "duration": 263,
    "start_time": "2022-10-01T12:07:19.141Z"
   },
   {
    "duration": 285,
    "start_time": "2022-10-01T12:07:19.406Z"
   },
   {
    "duration": 30,
    "start_time": "2022-10-01T12:07:19.693Z"
   },
   {
    "duration": 24,
    "start_time": "2022-10-01T12:07:19.724Z"
   },
   {
    "duration": 5,
    "start_time": "2022-10-01T12:07:19.749Z"
   },
   {
    "duration": 12,
    "start_time": "2022-10-01T12:07:19.755Z"
   },
   {
    "duration": 414,
    "start_time": "2022-10-01T12:07:19.768Z"
   },
   {
    "duration": 4,
    "start_time": "2022-10-01T12:07:20.184Z"
   },
   {
    "duration": 11,
    "start_time": "2022-10-01T12:07:20.190Z"
   },
   {
    "duration": 312,
    "start_time": "2022-10-01T12:07:20.203Z"
   },
   {
    "duration": 24,
    "start_time": "2022-10-01T12:07:20.517Z"
   },
   {
    "duration": 18,
    "start_time": "2022-10-01T12:07:20.543Z"
   },
   {
    "duration": 3,
    "start_time": "2022-10-01T12:07:20.562Z"
   },
   {
    "duration": 227,
    "start_time": "2022-10-01T12:07:20.567Z"
   },
   {
    "duration": 142,
    "start_time": "2022-10-01T12:07:20.796Z"
   },
   {
    "duration": 4,
    "start_time": "2022-10-01T12:07:20.940Z"
   },
   {
    "duration": 134,
    "start_time": "2022-10-01T12:07:20.945Z"
   },
   {
    "duration": 125,
    "start_time": "2022-10-01T12:07:21.081Z"
   },
   {
    "duration": 211,
    "start_time": "2022-10-01T12:07:21.211Z"
   },
   {
    "duration": 147,
    "start_time": "2022-10-01T12:07:21.424Z"
   },
   {
    "duration": 145,
    "start_time": "2022-10-01T12:07:21.573Z"
   },
   {
    "duration": 114,
    "start_time": "2022-10-01T12:07:21.719Z"
   },
   {
    "duration": 107,
    "start_time": "2022-10-01T12:07:21.837Z"
   },
   {
    "duration": 133,
    "start_time": "2022-10-01T12:07:21.946Z"
   },
   {
    "duration": 160,
    "start_time": "2022-10-01T12:07:22.080Z"
   },
   {
    "duration": 144,
    "start_time": "2022-10-01T12:07:22.242Z"
   },
   {
    "duration": 122,
    "start_time": "2022-10-01T12:07:22.388Z"
   },
   {
    "duration": 131,
    "start_time": "2022-10-01T12:07:22.511Z"
   },
   {
    "duration": 16,
    "start_time": "2022-10-01T12:07:22.644Z"
   },
   {
    "duration": 164,
    "start_time": "2022-10-01T12:07:22.661Z"
   },
   {
    "duration": 222,
    "start_time": "2022-10-01T12:07:22.827Z"
   },
   {
    "duration": 13,
    "start_time": "2022-10-01T12:07:23.051Z"
   },
   {
    "duration": 202,
    "start_time": "2022-10-01T12:07:23.065Z"
   },
   {
    "duration": 208,
    "start_time": "2022-10-01T12:07:23.268Z"
   },
   {
    "duration": 199,
    "start_time": "2022-10-01T12:07:23.478Z"
   },
   {
    "duration": 155,
    "start_time": "2022-10-01T12:07:23.678Z"
   },
   {
    "duration": 249,
    "start_time": "2022-10-01T12:07:23.838Z"
   },
   {
    "duration": 126,
    "start_time": "2022-10-01T12:07:24.088Z"
   },
   {
    "duration": 171,
    "start_time": "2022-10-01T12:07:24.216Z"
   },
   {
    "duration": 171,
    "start_time": "2022-10-01T12:07:24.389Z"
   },
   {
    "duration": 144,
    "start_time": "2022-10-01T12:07:24.561Z"
   },
   {
    "duration": 22,
    "start_time": "2022-10-01T12:07:24.706Z"
   },
   {
    "duration": 136,
    "start_time": "2022-10-01T12:07:24.738Z"
   },
   {
    "duration": 27,
    "start_time": "2022-10-01T12:07:24.876Z"
   },
   {
    "duration": 185,
    "start_time": "2022-10-01T12:07:24.905Z"
   },
   {
    "duration": 37,
    "start_time": "2022-10-01T12:09:32.502Z"
   },
   {
    "duration": 42,
    "start_time": "2022-10-01T12:09:50.938Z"
   },
   {
    "duration": 28,
    "start_time": "2022-10-01T12:10:00.737Z"
   },
   {
    "duration": 26,
    "start_time": "2022-10-01T12:10:06.372Z"
   },
   {
    "duration": 32,
    "start_time": "2022-10-01T12:10:15.672Z"
   },
   {
    "duration": 1145,
    "start_time": "2022-10-01T12:10:21.594Z"
   },
   {
    "duration": 13,
    "start_time": "2022-10-01T12:10:22.741Z"
   },
   {
    "duration": 1789,
    "start_time": "2022-10-01T12:10:22.755Z"
   },
   {
    "duration": 5,
    "start_time": "2022-10-01T12:10:24.546Z"
   },
   {
    "duration": 15,
    "start_time": "2022-10-01T12:10:24.552Z"
   },
   {
    "duration": 5,
    "start_time": "2022-10-01T12:10:24.568Z"
   },
   {
    "duration": 13,
    "start_time": "2022-10-01T12:10:24.574Z"
   },
   {
    "duration": 4,
    "start_time": "2022-10-01T12:10:24.588Z"
   },
   {
    "duration": 216,
    "start_time": "2022-10-01T12:10:24.593Z"
   },
   {
    "duration": 11,
    "start_time": "2022-10-01T12:10:24.811Z"
   },
   {
    "duration": 22,
    "start_time": "2022-10-01T12:10:24.823Z"
   },
   {
    "duration": 6,
    "start_time": "2022-10-01T12:10:24.847Z"
   },
   {
    "duration": 8,
    "start_time": "2022-10-01T12:10:24.854Z"
   },
   {
    "duration": 4,
    "start_time": "2022-10-01T12:10:24.864Z"
   },
   {
    "duration": 6,
    "start_time": "2022-10-01T12:10:24.870Z"
   },
   {
    "duration": 275,
    "start_time": "2022-10-01T12:10:24.877Z"
   },
   {
    "duration": 16,
    "start_time": "2022-10-01T12:10:25.153Z"
   },
   {
    "duration": 2,
    "start_time": "2022-10-01T12:10:25.170Z"
   },
   {
    "duration": 27,
    "start_time": "2022-10-01T12:10:25.174Z"
   },
   {
    "duration": 16,
    "start_time": "2022-10-01T12:10:25.203Z"
   },
   {
    "duration": 64,
    "start_time": "2022-10-01T12:10:25.221Z"
   },
   {
    "duration": 7,
    "start_time": "2022-10-01T12:10:25.287Z"
   },
   {
    "duration": 271,
    "start_time": "2022-10-01T12:10:25.296Z"
   },
   {
    "duration": 270,
    "start_time": "2022-10-01T12:10:25.569Z"
   },
   {
    "duration": 42,
    "start_time": "2022-10-01T12:10:25.841Z"
   },
   {
    "duration": 13,
    "start_time": "2022-10-01T12:10:25.885Z"
   },
   {
    "duration": 4,
    "start_time": "2022-10-01T12:10:25.900Z"
   },
   {
    "duration": 36,
    "start_time": "2022-10-01T12:10:25.908Z"
   },
   {
    "duration": 396,
    "start_time": "2022-10-01T12:10:25.946Z"
   },
   {
    "duration": 4,
    "start_time": "2022-10-01T12:10:26.343Z"
   },
   {
    "duration": 17,
    "start_time": "2022-10-01T12:10:26.349Z"
   },
   {
    "duration": 302,
    "start_time": "2022-10-01T12:10:26.367Z"
   },
   {
    "duration": 13,
    "start_time": "2022-10-01T12:10:26.670Z"
   },
   {
    "duration": 14,
    "start_time": "2022-10-01T12:10:26.685Z"
   },
   {
    "duration": 3,
    "start_time": "2022-10-01T12:10:26.701Z"
   },
   {
    "duration": 223,
    "start_time": "2022-10-01T12:10:26.705Z"
   },
   {
    "duration": 144,
    "start_time": "2022-10-01T12:10:26.929Z"
   },
   {
    "duration": 3,
    "start_time": "2022-10-01T12:10:27.075Z"
   },
   {
    "duration": 131,
    "start_time": "2022-10-01T12:10:27.079Z"
   },
   {
    "duration": 162,
    "start_time": "2022-10-01T12:10:27.212Z"
   },
   {
    "duration": 156,
    "start_time": "2022-10-01T12:10:27.376Z"
   },
   {
    "duration": 210,
    "start_time": "2022-10-01T12:10:27.538Z"
   },
   {
    "duration": 143,
    "start_time": "2022-10-01T12:10:27.749Z"
   },
   {
    "duration": 107,
    "start_time": "2022-10-01T12:10:27.893Z"
   },
   {
    "duration": 126,
    "start_time": "2022-10-01T12:10:28.002Z"
   },
   {
    "duration": 136,
    "start_time": "2022-10-01T12:10:28.129Z"
   },
   {
    "duration": 160,
    "start_time": "2022-10-01T12:10:28.267Z"
   },
   {
    "duration": 149,
    "start_time": "2022-10-01T12:10:28.429Z"
   },
   {
    "duration": 139,
    "start_time": "2022-10-01T12:10:28.580Z"
   },
   {
    "duration": 135,
    "start_time": "2022-10-01T12:10:28.721Z"
   },
   {
    "duration": 17,
    "start_time": "2022-10-01T12:10:28.857Z"
   },
   {
    "duration": 181,
    "start_time": "2022-10-01T12:10:28.875Z"
   },
   {
    "duration": 136,
    "start_time": "2022-10-01T12:10:29.058Z"
   },
   {
    "duration": 14,
    "start_time": "2022-10-01T12:10:29.195Z"
   },
   {
    "duration": 290,
    "start_time": "2022-10-01T12:10:29.211Z"
   },
   {
    "duration": 221,
    "start_time": "2022-10-01T12:10:29.502Z"
   },
   {
    "duration": 207,
    "start_time": "2022-10-01T12:10:29.725Z"
   },
   {
    "duration": 138,
    "start_time": "2022-10-01T12:10:29.933Z"
   },
   {
    "duration": 246,
    "start_time": "2022-10-01T12:10:30.072Z"
   },
   {
    "duration": 134,
    "start_time": "2022-10-01T12:10:30.320Z"
   },
   {
    "duration": 157,
    "start_time": "2022-10-01T12:10:30.456Z"
   },
   {
    "duration": 168,
    "start_time": "2022-10-01T12:10:30.614Z"
   },
   {
    "duration": 155,
    "start_time": "2022-10-01T12:10:30.783Z"
   },
   {
    "duration": 22,
    "start_time": "2022-10-01T12:10:30.939Z"
   },
   {
    "duration": 153,
    "start_time": "2022-10-01T12:10:30.963Z"
   },
   {
    "duration": 30,
    "start_time": "2022-10-01T12:10:31.118Z"
   },
   {
    "duration": 178,
    "start_time": "2022-10-01T12:10:31.150Z"
   },
   {
    "duration": 50,
    "start_time": "2022-10-01T12:12:41.138Z"
   },
   {
    "duration": 1137,
    "start_time": "2022-10-01T12:12:55.097Z"
   },
   {
    "duration": 13,
    "start_time": "2022-10-01T12:12:56.236Z"
   },
   {
    "duration": 1882,
    "start_time": "2022-10-01T12:12:56.250Z"
   },
   {
    "duration": 4,
    "start_time": "2022-10-01T12:12:58.134Z"
   },
   {
    "duration": 9,
    "start_time": "2022-10-01T12:12:58.139Z"
   },
   {
    "duration": 5,
    "start_time": "2022-10-01T12:12:58.149Z"
   },
   {
    "duration": 11,
    "start_time": "2022-10-01T12:12:58.155Z"
   },
   {
    "duration": 3,
    "start_time": "2022-10-01T12:12:58.168Z"
   },
   {
    "duration": 254,
    "start_time": "2022-10-01T12:12:58.173Z"
   },
   {
    "duration": 17,
    "start_time": "2022-10-01T12:12:58.429Z"
   },
   {
    "duration": 10,
    "start_time": "2022-10-01T12:12:58.447Z"
   },
   {
    "duration": 7,
    "start_time": "2022-10-01T12:12:58.459Z"
   },
   {
    "duration": 6,
    "start_time": "2022-10-01T12:12:58.468Z"
   },
   {
    "duration": 6,
    "start_time": "2022-10-01T12:12:58.475Z"
   },
   {
    "duration": 5,
    "start_time": "2022-10-01T12:12:58.483Z"
   },
   {
    "duration": 321,
    "start_time": "2022-10-01T12:12:58.490Z"
   },
   {
    "duration": 17,
    "start_time": "2022-10-01T12:12:58.812Z"
   },
   {
    "duration": 2,
    "start_time": "2022-10-01T12:12:58.838Z"
   },
   {
    "duration": 26,
    "start_time": "2022-10-01T12:12:58.842Z"
   },
   {
    "duration": 18,
    "start_time": "2022-10-01T12:12:58.870Z"
   },
   {
    "duration": 63,
    "start_time": "2022-10-01T12:12:58.890Z"
   },
   {
    "duration": 8,
    "start_time": "2022-10-01T12:12:58.954Z"
   },
   {
    "duration": 278,
    "start_time": "2022-10-01T12:12:58.963Z"
   },
   {
    "duration": 272,
    "start_time": "2022-10-01T12:12:59.242Z"
   },
   {
    "duration": 52,
    "start_time": "2022-10-01T12:12:59.515Z"
   },
   {
    "duration": 12,
    "start_time": "2022-10-01T12:12:59.569Z"
   },
   {
    "duration": 4,
    "start_time": "2022-10-01T12:12:59.583Z"
   },
   {
    "duration": 14,
    "start_time": "2022-10-01T12:12:59.590Z"
   },
   {
    "duration": 417,
    "start_time": "2022-10-01T12:12:59.605Z"
   },
   {
    "duration": 3,
    "start_time": "2022-10-01T12:13:00.024Z"
   },
   {
    "duration": 5,
    "start_time": "2022-10-01T12:13:00.038Z"
   },
   {
    "duration": 311,
    "start_time": "2022-10-01T12:13:00.044Z"
   },
   {
    "duration": 13,
    "start_time": "2022-10-01T12:13:00.357Z"
   },
   {
    "duration": 16,
    "start_time": "2022-10-01T12:13:00.371Z"
   },
   {
    "duration": 5,
    "start_time": "2022-10-01T12:13:00.389Z"
   },
   {
    "duration": 225,
    "start_time": "2022-10-01T12:13:00.395Z"
   },
   {
    "duration": 145,
    "start_time": "2022-10-01T12:13:00.622Z"
   },
   {
    "duration": 4,
    "start_time": "2022-10-01T12:13:00.768Z"
   },
   {
    "duration": 128,
    "start_time": "2022-10-01T12:13:00.773Z"
   },
   {
    "duration": 128,
    "start_time": "2022-10-01T12:13:00.903Z"
   },
   {
    "duration": 123,
    "start_time": "2022-10-01T12:13:01.038Z"
   },
   {
    "duration": 225,
    "start_time": "2022-10-01T12:13:01.163Z"
   },
   {
    "duration": 143,
    "start_time": "2022-10-01T12:13:01.389Z"
   },
   {
    "duration": 108,
    "start_time": "2022-10-01T12:13:01.537Z"
   },
   {
    "duration": 145,
    "start_time": "2022-10-01T12:13:01.647Z"
   },
   {
    "duration": 132,
    "start_time": "2022-10-01T12:13:01.795Z"
   },
   {
    "duration": 154,
    "start_time": "2022-10-01T12:13:01.929Z"
   },
   {
    "duration": 142,
    "start_time": "2022-10-01T12:13:02.085Z"
   },
   {
    "duration": 123,
    "start_time": "2022-10-01T12:13:02.229Z"
   },
   {
    "duration": 128,
    "start_time": "2022-10-01T12:13:02.354Z"
   },
   {
    "duration": 17,
    "start_time": "2022-10-01T12:13:02.484Z"
   },
   {
    "duration": 176,
    "start_time": "2022-10-01T12:13:02.502Z"
   },
   {
    "duration": 131,
    "start_time": "2022-10-01T12:13:02.679Z"
   },
   {
    "duration": 14,
    "start_time": "2022-10-01T12:13:02.812Z"
   },
   {
    "duration": 274,
    "start_time": "2022-10-01T12:13:02.838Z"
   },
   {
    "duration": 199,
    "start_time": "2022-10-01T12:13:03.114Z"
   },
   {
    "duration": 196,
    "start_time": "2022-10-01T12:13:03.315Z"
   },
   {
    "duration": 136,
    "start_time": "2022-10-01T12:13:03.512Z"
   },
   {
    "duration": 243,
    "start_time": "2022-10-01T12:13:03.650Z"
   },
   {
    "duration": 123,
    "start_time": "2022-10-01T12:13:03.894Z"
   },
   {
    "duration": 153,
    "start_time": "2022-10-01T12:13:04.019Z"
   },
   {
    "duration": 170,
    "start_time": "2022-10-01T12:13:04.174Z"
   },
   {
    "duration": 178,
    "start_time": "2022-10-01T12:13:04.345Z"
   },
   {
    "duration": 26,
    "start_time": "2022-10-01T12:13:04.525Z"
   },
   {
    "duration": 158,
    "start_time": "2022-10-01T12:13:04.552Z"
   },
   {
    "duration": 37,
    "start_time": "2022-10-01T12:13:04.711Z"
   },
   {
    "duration": 163,
    "start_time": "2022-10-01T12:13:04.749Z"
   },
   {
    "duration": 52,
    "start_time": "2022-10-01T12:13:41.804Z"
   },
   {
    "duration": 1245,
    "start_time": "2022-10-01T12:13:57.618Z"
   },
   {
    "duration": 14,
    "start_time": "2022-10-01T12:13:58.865Z"
   },
   {
    "duration": 1783,
    "start_time": "2022-10-01T12:13:58.880Z"
   },
   {
    "duration": 3,
    "start_time": "2022-10-01T12:14:00.665Z"
   },
   {
    "duration": 21,
    "start_time": "2022-10-01T12:14:00.670Z"
   },
   {
    "duration": 4,
    "start_time": "2022-10-01T12:14:00.693Z"
   },
   {
    "duration": 21,
    "start_time": "2022-10-01T12:14:00.698Z"
   },
   {
    "duration": 30,
    "start_time": "2022-10-01T12:14:00.720Z"
   },
   {
    "duration": 220,
    "start_time": "2022-10-01T12:14:00.752Z"
   },
   {
    "duration": 11,
    "start_time": "2022-10-01T12:14:00.974Z"
   },
   {
    "duration": 11,
    "start_time": "2022-10-01T12:14:00.987Z"
   },
   {
    "duration": 8,
    "start_time": "2022-10-01T12:14:00.999Z"
   },
   {
    "duration": 31,
    "start_time": "2022-10-01T12:14:01.009Z"
   },
   {
    "duration": 18,
    "start_time": "2022-10-01T12:14:01.044Z"
   },
   {
    "duration": 14,
    "start_time": "2022-10-01T12:14:01.063Z"
   },
   {
    "duration": 277,
    "start_time": "2022-10-01T12:14:01.078Z"
   },
   {
    "duration": 19,
    "start_time": "2022-10-01T12:14:01.357Z"
   },
   {
    "duration": 2,
    "start_time": "2022-10-01T12:14:01.378Z"
   },
   {
    "duration": 25,
    "start_time": "2022-10-01T12:14:01.382Z"
   },
   {
    "duration": 45,
    "start_time": "2022-10-01T12:14:01.409Z"
   },
   {
    "duration": 51,
    "start_time": "2022-10-01T12:14:01.456Z"
   },
   {
    "duration": 31,
    "start_time": "2022-10-01T12:14:01.508Z"
   },
   {
    "duration": 276,
    "start_time": "2022-10-01T12:14:01.541Z"
   },
   {
    "duration": 284,
    "start_time": "2022-10-01T12:14:01.819Z"
   },
   {
    "duration": 53,
    "start_time": "2022-10-01T12:14:02.105Z"
   },
   {
    "duration": 14,
    "start_time": "2022-10-01T12:14:02.159Z"
   },
   {
    "duration": 5,
    "start_time": "2022-10-01T12:14:02.174Z"
   },
   {
    "duration": 16,
    "start_time": "2022-10-01T12:14:02.180Z"
   },
   {
    "duration": 426,
    "start_time": "2022-10-01T12:14:02.197Z"
   },
   {
    "duration": 4,
    "start_time": "2022-10-01T12:14:02.625Z"
   },
   {
    "duration": 11,
    "start_time": "2022-10-01T12:14:02.631Z"
   },
   {
    "duration": 315,
    "start_time": "2022-10-01T12:14:02.644Z"
   },
   {
    "duration": 15,
    "start_time": "2022-10-01T12:14:02.961Z"
   },
   {
    "duration": 17,
    "start_time": "2022-10-01T12:14:02.977Z"
   },
   {
    "duration": 4,
    "start_time": "2022-10-01T12:14:02.995Z"
   },
   {
    "duration": 231,
    "start_time": "2022-10-01T12:14:03.001Z"
   },
   {
    "duration": 144,
    "start_time": "2022-10-01T12:14:03.234Z"
   },
   {
    "duration": 4,
    "start_time": "2022-10-01T12:14:03.380Z"
   },
   {
    "duration": 133,
    "start_time": "2022-10-01T12:14:03.386Z"
   },
   {
    "duration": 125,
    "start_time": "2022-10-01T12:14:03.520Z"
   },
   {
    "duration": 191,
    "start_time": "2022-10-01T12:14:03.649Z"
   },
   {
    "duration": 134,
    "start_time": "2022-10-01T12:14:03.841Z"
   },
   {
    "duration": 141,
    "start_time": "2022-10-01T12:14:03.976Z"
   },
   {
    "duration": 105,
    "start_time": "2022-10-01T12:14:04.119Z"
   },
   {
    "duration": 149,
    "start_time": "2022-10-01T12:14:04.226Z"
   },
   {
    "duration": 142,
    "start_time": "2022-10-01T12:14:04.377Z"
   },
   {
    "duration": 151,
    "start_time": "2022-10-01T12:14:04.521Z"
   },
   {
    "duration": 135,
    "start_time": "2022-10-01T12:14:04.673Z"
   },
   {
    "duration": 119,
    "start_time": "2022-10-01T12:14:04.809Z"
   },
   {
    "duration": 132,
    "start_time": "2022-10-01T12:14:04.929Z"
   },
   {
    "duration": 15,
    "start_time": "2022-10-01T12:14:05.062Z"
   },
   {
    "duration": 162,
    "start_time": "2022-10-01T12:14:05.079Z"
   },
   {
    "duration": 203,
    "start_time": "2022-10-01T12:14:05.243Z"
   },
   {
    "duration": 14,
    "start_time": "2022-10-01T12:14:05.447Z"
   },
   {
    "duration": 202,
    "start_time": "2022-10-01T12:14:05.462Z"
   },
   {
    "duration": 191,
    "start_time": "2022-10-01T12:14:05.665Z"
   },
   {
    "duration": 191,
    "start_time": "2022-10-01T12:14:05.857Z"
   },
   {
    "duration": 135,
    "start_time": "2022-10-01T12:14:06.049Z"
   },
   {
    "duration": 232,
    "start_time": "2022-10-01T12:14:06.186Z"
   },
   {
    "duration": 145,
    "start_time": "2022-10-01T12:14:06.419Z"
   },
   {
    "duration": 179,
    "start_time": "2022-10-01T12:14:06.566Z"
   },
   {
    "duration": 166,
    "start_time": "2022-10-01T12:14:06.746Z"
   },
   {
    "duration": 157,
    "start_time": "2022-10-01T12:14:06.914Z"
   },
   {
    "duration": 22,
    "start_time": "2022-10-01T12:14:07.072Z"
   },
   {
    "duration": 184,
    "start_time": "2022-10-01T12:14:07.095Z"
   },
   {
    "duration": 34,
    "start_time": "2022-10-01T12:14:07.281Z"
   },
   {
    "duration": 199,
    "start_time": "2022-10-01T12:14:07.317Z"
   },
   {
    "duration": 396,
    "start_time": "2022-10-01T12:15:55.253Z"
   },
   {
    "duration": 307,
    "start_time": "2022-10-01T12:16:02.658Z"
   },
   {
    "duration": 252,
    "start_time": "2022-10-01T12:16:29.590Z"
   },
   {
    "duration": 165,
    "start_time": "2022-10-01T12:17:46.706Z"
   },
   {
    "duration": 1179,
    "start_time": "2022-10-01T12:18:08.767Z"
   },
   {
    "duration": 14,
    "start_time": "2022-10-01T12:18:09.947Z"
   },
   {
    "duration": 1820,
    "start_time": "2022-10-01T12:18:09.963Z"
   },
   {
    "duration": 4,
    "start_time": "2022-10-01T12:18:11.786Z"
   },
   {
    "duration": 9,
    "start_time": "2022-10-01T12:18:11.791Z"
   },
   {
    "duration": 4,
    "start_time": "2022-10-01T12:18:11.801Z"
   },
   {
    "duration": 10,
    "start_time": "2022-10-01T12:18:11.806Z"
   },
   {
    "duration": 4,
    "start_time": "2022-10-01T12:18:11.817Z"
   },
   {
    "duration": 217,
    "start_time": "2022-10-01T12:18:11.822Z"
   },
   {
    "duration": 11,
    "start_time": "2022-10-01T12:18:12.041Z"
   },
   {
    "duration": 9,
    "start_time": "2022-10-01T12:18:12.054Z"
   },
   {
    "duration": 7,
    "start_time": "2022-10-01T12:18:12.064Z"
   },
   {
    "duration": 5,
    "start_time": "2022-10-01T12:18:12.072Z"
   },
   {
    "duration": 5,
    "start_time": "2022-10-01T12:18:12.079Z"
   },
   {
    "duration": 6,
    "start_time": "2022-10-01T12:18:12.085Z"
   },
   {
    "duration": 306,
    "start_time": "2022-10-01T12:18:12.092Z"
   },
   {
    "duration": 18,
    "start_time": "2022-10-01T12:18:12.399Z"
   },
   {
    "duration": 2,
    "start_time": "2022-10-01T12:18:12.419Z"
   },
   {
    "duration": 22,
    "start_time": "2022-10-01T12:18:12.438Z"
   },
   {
    "duration": 18,
    "start_time": "2022-10-01T12:18:12.462Z"
   },
   {
    "duration": 68,
    "start_time": "2022-10-01T12:18:12.482Z"
   },
   {
    "duration": 8,
    "start_time": "2022-10-01T12:18:12.552Z"
   },
   {
    "duration": 285,
    "start_time": "2022-10-01T12:18:12.562Z"
   },
   {
    "duration": 274,
    "start_time": "2022-10-01T12:18:12.848Z"
   },
   {
    "duration": 170,
    "start_time": "2022-10-01T12:18:13.124Z"
   },
   {
    "duration": 12,
    "start_time": "2022-10-01T12:18:13.296Z"
   },
   {
    "duration": 8,
    "start_time": "2022-10-01T12:18:13.310Z"
   },
   {
    "duration": 23,
    "start_time": "2022-10-01T12:18:13.321Z"
   },
   {
    "duration": 381,
    "start_time": "2022-10-01T12:18:13.346Z"
   },
   {
    "duration": 3,
    "start_time": "2022-10-01T12:18:13.729Z"
   },
   {
    "duration": 13,
    "start_time": "2022-10-01T12:18:13.738Z"
   },
   {
    "duration": 354,
    "start_time": "2022-10-01T12:18:13.752Z"
   },
   {
    "duration": 13,
    "start_time": "2022-10-01T12:18:14.108Z"
   },
   {
    "duration": 22,
    "start_time": "2022-10-01T12:18:14.123Z"
   },
   {
    "duration": 4,
    "start_time": "2022-10-01T12:18:14.147Z"
   },
   {
    "duration": 223,
    "start_time": "2022-10-01T12:18:14.152Z"
   },
   {
    "duration": 147,
    "start_time": "2022-10-01T12:18:14.376Z"
   },
   {
    "duration": 4,
    "start_time": "2022-10-01T12:18:14.525Z"
   },
   {
    "duration": 127,
    "start_time": "2022-10-01T12:18:14.530Z"
   },
   {
    "duration": 120,
    "start_time": "2022-10-01T12:18:14.659Z"
   },
   {
    "duration": 199,
    "start_time": "2022-10-01T12:18:14.781Z"
   },
   {
    "duration": 136,
    "start_time": "2022-10-01T12:18:14.982Z"
   },
   {
    "duration": 142,
    "start_time": "2022-10-01T12:18:15.120Z"
   },
   {
    "duration": 117,
    "start_time": "2022-10-01T12:18:15.263Z"
   },
   {
    "duration": 133,
    "start_time": "2022-10-01T12:18:15.381Z"
   },
   {
    "duration": 136,
    "start_time": "2022-10-01T12:18:15.516Z"
   },
   {
    "duration": 159,
    "start_time": "2022-10-01T12:18:15.654Z"
   },
   {
    "duration": 138,
    "start_time": "2022-10-01T12:18:15.814Z"
   },
   {
    "duration": 122,
    "start_time": "2022-10-01T12:18:15.954Z"
   },
   {
    "duration": 133,
    "start_time": "2022-10-01T12:18:16.078Z"
   },
   {
    "duration": 16,
    "start_time": "2022-10-01T12:18:16.212Z"
   },
   {
    "duration": 177,
    "start_time": "2022-10-01T12:18:16.229Z"
   },
   {
    "duration": 206,
    "start_time": "2022-10-01T12:18:16.407Z"
   },
   {
    "duration": 24,
    "start_time": "2022-10-01T12:18:16.614Z"
   },
   {
    "duration": 213,
    "start_time": "2022-10-01T12:18:16.640Z"
   },
   {
    "duration": 191,
    "start_time": "2022-10-01T12:18:16.855Z"
   },
   {
    "duration": 216,
    "start_time": "2022-10-01T12:18:17.047Z"
   },
   {
    "duration": 166,
    "start_time": "2022-10-01T12:18:17.265Z"
   },
   {
    "duration": 250,
    "start_time": "2022-10-01T12:18:17.432Z"
   },
   {
    "duration": 133,
    "start_time": "2022-10-01T12:18:17.683Z"
   },
   {
    "duration": 167,
    "start_time": "2022-10-01T12:18:17.818Z"
   },
   {
    "duration": 163,
    "start_time": "2022-10-01T12:18:17.987Z"
   },
   {
    "duration": 147,
    "start_time": "2022-10-01T12:18:18.151Z"
   },
   {
    "duration": 23,
    "start_time": "2022-10-01T12:18:18.300Z"
   },
   {
    "duration": 153,
    "start_time": "2022-10-01T12:18:18.324Z"
   },
   {
    "duration": 27,
    "start_time": "2022-10-01T12:18:18.478Z"
   },
   {
    "duration": 204,
    "start_time": "2022-10-01T12:18:18.507Z"
   },
   {
    "duration": 170,
    "start_time": "2022-10-01T12:18:45.733Z"
   },
   {
    "duration": 1276,
    "start_time": "2022-10-01T12:18:52.499Z"
   },
   {
    "duration": 15,
    "start_time": "2022-10-01T12:18:53.777Z"
   },
   {
    "duration": 2030,
    "start_time": "2022-10-01T12:18:53.794Z"
   },
   {
    "duration": 5,
    "start_time": "2022-10-01T12:18:55.826Z"
   },
   {
    "duration": 12,
    "start_time": "2022-10-01T12:18:55.833Z"
   },
   {
    "duration": 5,
    "start_time": "2022-10-01T12:18:55.847Z"
   },
   {
    "duration": 10,
    "start_time": "2022-10-01T12:18:55.854Z"
   },
   {
    "duration": 4,
    "start_time": "2022-10-01T12:18:55.866Z"
   },
   {
    "duration": 266,
    "start_time": "2022-10-01T12:18:55.872Z"
   },
   {
    "duration": 13,
    "start_time": "2022-10-01T12:18:56.142Z"
   },
   {
    "duration": 11,
    "start_time": "2022-10-01T12:18:56.158Z"
   },
   {
    "duration": 9,
    "start_time": "2022-10-01T12:18:56.171Z"
   },
   {
    "duration": 5,
    "start_time": "2022-10-01T12:18:56.182Z"
   },
   {
    "duration": 11,
    "start_time": "2022-10-01T12:18:56.189Z"
   },
   {
    "duration": 42,
    "start_time": "2022-10-01T12:18:56.201Z"
   },
   {
    "duration": 258,
    "start_time": "2022-10-01T12:18:56.244Z"
   },
   {
    "duration": 18,
    "start_time": "2022-10-01T12:18:56.504Z"
   },
   {
    "duration": 15,
    "start_time": "2022-10-01T12:18:56.524Z"
   },
   {
    "duration": 25,
    "start_time": "2022-10-01T12:18:56.541Z"
   },
   {
    "duration": 19,
    "start_time": "2022-10-01T12:18:56.568Z"
   },
   {
    "duration": 73,
    "start_time": "2022-10-01T12:18:56.589Z"
   },
   {
    "duration": 9,
    "start_time": "2022-10-01T12:18:56.664Z"
   },
   {
    "duration": 291,
    "start_time": "2022-10-01T12:18:56.674Z"
   },
   {
    "duration": 283,
    "start_time": "2022-10-01T12:18:56.966Z"
   },
   {
    "duration": 208,
    "start_time": "2022-10-01T12:18:57.251Z"
   },
   {
    "duration": 14,
    "start_time": "2022-10-01T12:18:57.460Z"
   },
   {
    "duration": 4,
    "start_time": "2022-10-01T12:18:57.475Z"
   },
   {
    "duration": 11,
    "start_time": "2022-10-01T12:18:57.483Z"
   },
   {
    "duration": 418,
    "start_time": "2022-10-01T12:18:57.495Z"
   },
   {
    "duration": 4,
    "start_time": "2022-10-01T12:18:57.914Z"
   },
   {
    "duration": 20,
    "start_time": "2022-10-01T12:18:57.919Z"
   },
   {
    "duration": 329,
    "start_time": "2022-10-01T12:18:57.940Z"
   },
   {
    "duration": 12,
    "start_time": "2022-10-01T12:18:58.271Z"
   },
   {
    "duration": 10,
    "start_time": "2022-10-01T12:18:58.285Z"
   },
   {
    "duration": 3,
    "start_time": "2022-10-01T12:18:58.296Z"
   },
   {
    "duration": 239,
    "start_time": "2022-10-01T12:18:58.301Z"
   },
   {
    "duration": 171,
    "start_time": "2022-10-01T12:18:58.541Z"
   },
   {
    "duration": 4,
    "start_time": "2022-10-01T12:18:58.714Z"
   },
   {
    "duration": 135,
    "start_time": "2022-10-01T12:18:58.719Z"
   },
   {
    "duration": 127,
    "start_time": "2022-10-01T12:18:58.855Z"
   },
   {
    "duration": 216,
    "start_time": "2022-10-01T12:18:58.983Z"
   },
   {
    "duration": 134,
    "start_time": "2022-10-01T12:18:59.200Z"
   },
   {
    "duration": 144,
    "start_time": "2022-10-01T12:18:59.335Z"
   },
   {
    "duration": 118,
    "start_time": "2022-10-01T12:18:59.480Z"
   },
   {
    "duration": 112,
    "start_time": "2022-10-01T12:18:59.600Z"
   },
   {
    "duration": 138,
    "start_time": "2022-10-01T12:18:59.713Z"
   },
   {
    "duration": 163,
    "start_time": "2022-10-01T12:18:59.853Z"
   },
   {
    "duration": 147,
    "start_time": "2022-10-01T12:19:00.017Z"
   },
   {
    "duration": 121,
    "start_time": "2022-10-01T12:19:00.165Z"
   },
   {
    "duration": 131,
    "start_time": "2022-10-01T12:19:00.288Z"
   },
   {
    "duration": 25,
    "start_time": "2022-10-01T12:19:00.421Z"
   },
   {
    "duration": 168,
    "start_time": "2022-10-01T12:19:00.448Z"
   },
   {
    "duration": 219,
    "start_time": "2022-10-01T12:19:00.619Z"
   },
   {
    "duration": 15,
    "start_time": "2022-10-01T12:19:00.840Z"
   },
   {
    "duration": 198,
    "start_time": "2022-10-01T12:19:00.856Z"
   },
   {
    "duration": 232,
    "start_time": "2022-10-01T12:19:01.056Z"
   },
   {
    "duration": 189,
    "start_time": "2022-10-01T12:19:01.290Z"
   },
   {
    "duration": 138,
    "start_time": "2022-10-01T12:19:01.481Z"
   },
   {
    "duration": 235,
    "start_time": "2022-10-01T12:19:01.621Z"
   },
   {
    "duration": 123,
    "start_time": "2022-10-01T12:19:01.858Z"
   },
   {
    "duration": 157,
    "start_time": "2022-10-01T12:19:01.983Z"
   },
   {
    "duration": 157,
    "start_time": "2022-10-01T12:19:02.141Z"
   },
   {
    "duration": 156,
    "start_time": "2022-10-01T12:19:02.299Z"
   },
   {
    "duration": 20,
    "start_time": "2022-10-01T12:19:02.456Z"
   },
   {
    "duration": 141,
    "start_time": "2022-10-01T12:19:02.478Z"
   },
   {
    "duration": 38,
    "start_time": "2022-10-01T12:19:02.620Z"
   },
   {
    "duration": 167,
    "start_time": "2022-10-01T12:19:02.659Z"
   },
   {
    "duration": 177,
    "start_time": "2022-10-01T12:20:34.162Z"
   },
   {
    "duration": 49,
    "start_time": "2022-10-01T12:20:54.416Z"
   },
   {
    "duration": 48,
    "start_time": "2022-10-01T12:21:11.825Z"
   },
   {
    "duration": 159,
    "start_time": "2022-10-01T12:21:52.909Z"
   },
   {
    "duration": 48,
    "start_time": "2022-10-01T12:22:24.203Z"
   },
   {
    "duration": 47,
    "start_time": "2022-10-01T12:24:08.291Z"
   },
   {
    "duration": 49,
    "start_time": "2022-10-01T12:24:17.688Z"
   },
   {
    "duration": 62,
    "start_time": "2022-10-01T12:27:32.892Z"
   },
   {
    "duration": 51,
    "start_time": "2022-10-01T12:32:06.937Z"
   },
   {
    "duration": 55,
    "start_time": "2022-10-01T12:32:15.070Z"
   },
   {
    "duration": 1192,
    "start_time": "2022-10-01T12:32:23.304Z"
   },
   {
    "duration": 15,
    "start_time": "2022-10-01T12:32:24.498Z"
   },
   {
    "duration": 1782,
    "start_time": "2022-10-01T12:32:24.514Z"
   },
   {
    "duration": 4,
    "start_time": "2022-10-01T12:32:26.297Z"
   },
   {
    "duration": 12,
    "start_time": "2022-10-01T12:32:26.303Z"
   },
   {
    "duration": 23,
    "start_time": "2022-10-01T12:32:26.317Z"
   },
   {
    "duration": 17,
    "start_time": "2022-10-01T12:32:26.342Z"
   },
   {
    "duration": 5,
    "start_time": "2022-10-01T12:32:26.361Z"
   },
   {
    "duration": 221,
    "start_time": "2022-10-01T12:32:26.368Z"
   },
   {
    "duration": 11,
    "start_time": "2022-10-01T12:32:26.590Z"
   },
   {
    "duration": 8,
    "start_time": "2022-10-01T12:32:26.603Z"
   },
   {
    "duration": 25,
    "start_time": "2022-10-01T12:32:26.613Z"
   },
   {
    "duration": 7,
    "start_time": "2022-10-01T12:32:26.640Z"
   },
   {
    "duration": 6,
    "start_time": "2022-10-01T12:32:26.649Z"
   },
   {
    "duration": 8,
    "start_time": "2022-10-01T12:32:26.657Z"
   },
   {
    "duration": 266,
    "start_time": "2022-10-01T12:32:26.667Z"
   },
   {
    "duration": 17,
    "start_time": "2022-10-01T12:32:26.935Z"
   },
   {
    "duration": 2,
    "start_time": "2022-10-01T12:32:26.954Z"
   },
   {
    "duration": 27,
    "start_time": "2022-10-01T12:32:26.957Z"
   },
   {
    "duration": 17,
    "start_time": "2022-10-01T12:32:26.986Z"
   },
   {
    "duration": 69,
    "start_time": "2022-10-01T12:32:27.005Z"
   },
   {
    "duration": 8,
    "start_time": "2022-10-01T12:32:27.075Z"
   },
   {
    "duration": 364,
    "start_time": "2022-10-01T12:32:27.084Z"
   },
   {
    "duration": 285,
    "start_time": "2022-10-01T12:32:27.450Z"
   },
   {
    "duration": 47,
    "start_time": "2022-10-01T12:32:27.738Z"
   },
   {
    "duration": 13,
    "start_time": "2022-10-01T12:32:27.786Z"
   },
   {
    "duration": 4,
    "start_time": "2022-10-01T12:32:27.800Z"
   },
   {
    "duration": 34,
    "start_time": "2022-10-01T12:32:27.805Z"
   },
   {
    "duration": 393,
    "start_time": "2022-10-01T12:32:27.841Z"
   },
   {
    "duration": 4,
    "start_time": "2022-10-01T12:32:28.239Z"
   },
   {
    "duration": 14,
    "start_time": "2022-10-01T12:32:28.244Z"
   },
   {
    "duration": 336,
    "start_time": "2022-10-01T12:32:28.260Z"
   },
   {
    "duration": 18,
    "start_time": "2022-10-01T12:32:28.597Z"
   },
   {
    "duration": 26,
    "start_time": "2022-10-01T12:32:28.617Z"
   },
   {
    "duration": 6,
    "start_time": "2022-10-01T12:32:28.647Z"
   },
   {
    "duration": 230,
    "start_time": "2022-10-01T12:32:28.655Z"
   },
   {
    "duration": 147,
    "start_time": "2022-10-01T12:32:28.886Z"
   },
   {
    "duration": 3,
    "start_time": "2022-10-01T12:32:29.038Z"
   },
   {
    "duration": 126,
    "start_time": "2022-10-01T12:32:29.043Z"
   },
   {
    "duration": 133,
    "start_time": "2022-10-01T12:32:29.171Z"
   },
   {
    "duration": 197,
    "start_time": "2022-10-01T12:32:29.308Z"
   },
   {
    "duration": 145,
    "start_time": "2022-10-01T12:32:29.506Z"
   },
   {
    "duration": 139,
    "start_time": "2022-10-01T12:32:29.652Z"
   },
   {
    "duration": 106,
    "start_time": "2022-10-01T12:32:29.792Z"
   },
   {
    "duration": 111,
    "start_time": "2022-10-01T12:32:29.899Z"
   },
   {
    "duration": 137,
    "start_time": "2022-10-01T12:32:30.012Z"
   },
   {
    "duration": 144,
    "start_time": "2022-10-01T12:32:30.150Z"
   },
   {
    "duration": 125,
    "start_time": "2022-10-01T12:32:30.295Z"
   },
   {
    "duration": 125,
    "start_time": "2022-10-01T12:32:30.422Z"
   },
   {
    "duration": 145,
    "start_time": "2022-10-01T12:32:30.549Z"
   },
   {
    "duration": 16,
    "start_time": "2022-10-01T12:32:30.696Z"
   },
   {
    "duration": 203,
    "start_time": "2022-10-01T12:32:30.713Z"
   },
   {
    "duration": 230,
    "start_time": "2022-10-01T12:32:30.918Z"
   },
   {
    "duration": 16,
    "start_time": "2022-10-01T12:32:31.149Z"
   },
   {
    "duration": 235,
    "start_time": "2022-10-01T12:32:31.167Z"
   },
   {
    "duration": 268,
    "start_time": "2022-10-01T12:32:31.404Z"
   },
   {
    "duration": 198,
    "start_time": "2022-10-01T12:32:31.674Z"
   },
   {
    "duration": 142,
    "start_time": "2022-10-01T12:32:31.873Z"
   },
   {
    "duration": 240,
    "start_time": "2022-10-01T12:32:32.017Z"
   },
   {
    "duration": 126,
    "start_time": "2022-10-01T12:32:32.258Z"
   },
   {
    "duration": 163,
    "start_time": "2022-10-01T12:32:32.386Z"
   },
   {
    "duration": 169,
    "start_time": "2022-10-01T12:32:32.550Z"
   },
   {
    "duration": 151,
    "start_time": "2022-10-01T12:32:32.720Z"
   },
   {
    "duration": 22,
    "start_time": "2022-10-01T12:32:32.872Z"
   },
   {
    "duration": 156,
    "start_time": "2022-10-01T12:32:32.896Z"
   },
   {
    "duration": 28,
    "start_time": "2022-10-01T12:32:33.054Z"
   },
   {
    "duration": 198,
    "start_time": "2022-10-01T12:32:33.083Z"
   },
   {
    "duration": 52,
    "start_time": "2022-10-01T12:37:03.010Z"
   },
   {
    "duration": 358,
    "start_time": "2022-10-01T12:37:15.603Z"
   },
   {
    "duration": 26,
    "start_time": "2022-10-01T12:39:03.910Z"
   },
   {
    "duration": 18,
    "start_time": "2022-10-01T12:39:13.050Z"
   },
   {
    "duration": 20,
    "start_time": "2022-10-01T12:40:04.222Z"
   },
   {
    "duration": 22,
    "start_time": "2022-10-01T12:45:59.787Z"
   },
   {
    "duration": 64,
    "start_time": "2022-10-01T12:48:52.871Z"
   },
   {
    "duration": 53,
    "start_time": "2022-10-01T12:49:08.184Z"
   },
   {
    "duration": 389,
    "start_time": "2022-10-01T12:52:58.101Z"
   },
   {
    "duration": 1434,
    "start_time": "2022-10-01T12:54:07.552Z"
   },
   {
    "duration": 358,
    "start_time": "2022-10-01T12:59:22.494Z"
   },
   {
    "duration": 284,
    "start_time": "2022-10-01T12:59:41.656Z"
   },
   {
    "duration": 347,
    "start_time": "2022-10-01T13:00:32.441Z"
   },
   {
    "duration": 271,
    "start_time": "2022-10-01T13:08:41.414Z"
   },
   {
    "duration": 5,
    "start_time": "2022-10-01T13:10:01.633Z"
   },
   {
    "duration": 5,
    "start_time": "2022-10-01T13:10:02.901Z"
   },
   {
    "duration": 5,
    "start_time": "2022-10-01T13:10:46.443Z"
   },
   {
    "duration": 5,
    "start_time": "2022-10-01T13:10:49.415Z"
   },
   {
    "duration": 6,
    "start_time": "2022-10-01T13:10:59.322Z"
   },
   {
    "duration": 16,
    "start_time": "2022-10-01T13:14:39.945Z"
   },
   {
    "duration": 15,
    "start_time": "2022-10-01T13:17:01.237Z"
   },
   {
    "duration": 15,
    "start_time": "2022-10-01T13:18:08.167Z"
   },
   {
    "duration": 256,
    "start_time": "2022-10-01T13:22:48.075Z"
   },
   {
    "duration": 18,
    "start_time": "2022-10-01T13:25:40.645Z"
   },
   {
    "duration": 4,
    "start_time": "2022-10-01T13:25:47.155Z"
   },
   {
    "duration": 6,
    "start_time": "2022-10-01T13:26:03.073Z"
   },
   {
    "duration": 5,
    "start_time": "2022-10-01T13:26:15.193Z"
   },
   {
    "duration": 13,
    "start_time": "2022-10-01T13:31:19.036Z"
   },
   {
    "duration": 13,
    "start_time": "2022-10-01T13:32:28.891Z"
   },
   {
    "duration": 13,
    "start_time": "2022-10-01T13:32:40.075Z"
   },
   {
    "duration": 13,
    "start_time": "2022-10-01T13:33:04.544Z"
   },
   {
    "duration": 13,
    "start_time": "2022-10-01T13:33:10.216Z"
   },
   {
    "duration": 10,
    "start_time": "2022-10-01T13:36:12.966Z"
   },
   {
    "duration": 8,
    "start_time": "2022-10-01T13:36:30.872Z"
   },
   {
    "duration": 1245,
    "start_time": "2022-10-01T13:36:39.593Z"
   },
   {
    "duration": 14,
    "start_time": "2022-10-01T13:36:40.840Z"
   },
   {
    "duration": 1871,
    "start_time": "2022-10-01T13:36:40.856Z"
   },
   {
    "duration": 4,
    "start_time": "2022-10-01T13:36:42.729Z"
   },
   {
    "duration": 7,
    "start_time": "2022-10-01T13:36:42.738Z"
   },
   {
    "duration": 4,
    "start_time": "2022-10-01T13:36:42.746Z"
   },
   {
    "duration": 11,
    "start_time": "2022-10-01T13:36:42.751Z"
   },
   {
    "duration": 4,
    "start_time": "2022-10-01T13:36:42.763Z"
   },
   {
    "duration": 232,
    "start_time": "2022-10-01T13:36:42.768Z"
   },
   {
    "duration": 12,
    "start_time": "2022-10-01T13:36:43.002Z"
   },
   {
    "duration": 24,
    "start_time": "2022-10-01T13:36:43.015Z"
   },
   {
    "duration": 7,
    "start_time": "2022-10-01T13:36:43.041Z"
   },
   {
    "duration": 12,
    "start_time": "2022-10-01T13:36:43.050Z"
   },
   {
    "duration": 12,
    "start_time": "2022-10-01T13:36:43.065Z"
   },
   {
    "duration": 8,
    "start_time": "2022-10-01T13:36:43.079Z"
   },
   {
    "duration": 252,
    "start_time": "2022-10-01T13:36:43.088Z"
   },
   {
    "duration": 18,
    "start_time": "2022-10-01T13:36:43.342Z"
   },
   {
    "duration": 3,
    "start_time": "2022-10-01T13:36:43.361Z"
   },
   {
    "duration": 26,
    "start_time": "2022-10-01T13:36:43.365Z"
   },
   {
    "duration": 18,
    "start_time": "2022-10-01T13:36:43.392Z"
   },
   {
    "duration": 71,
    "start_time": "2022-10-01T13:36:43.412Z"
   },
   {
    "duration": 8,
    "start_time": "2022-10-01T13:36:43.484Z"
   },
   {
    "duration": 274,
    "start_time": "2022-10-01T13:36:43.493Z"
   },
   {
    "duration": 278,
    "start_time": "2022-10-01T13:36:43.769Z"
   },
   {
    "duration": 53,
    "start_time": "2022-10-01T13:36:44.048Z"
   },
   {
    "duration": 13,
    "start_time": "2022-10-01T13:36:44.103Z"
   },
   {
    "duration": 4,
    "start_time": "2022-10-01T13:36:44.117Z"
   },
   {
    "duration": 11,
    "start_time": "2022-10-01T13:36:44.138Z"
   },
   {
    "duration": 413,
    "start_time": "2022-10-01T13:36:44.150Z"
   },
   {
    "duration": 6,
    "start_time": "2022-10-01T13:36:44.565Z"
   },
   {
    "duration": 7,
    "start_time": "2022-10-01T13:36:44.573Z"
   },
   {
    "duration": 314,
    "start_time": "2022-10-01T13:36:44.581Z"
   },
   {
    "duration": 14,
    "start_time": "2022-10-01T13:36:44.896Z"
   },
   {
    "duration": 10,
    "start_time": "2022-10-01T13:36:44.911Z"
   },
   {
    "duration": 4,
    "start_time": "2022-10-01T13:36:44.937Z"
   },
   {
    "duration": 222,
    "start_time": "2022-10-01T13:36:44.943Z"
   },
   {
    "duration": 155,
    "start_time": "2022-10-01T13:36:45.166Z"
   },
   {
    "duration": 3,
    "start_time": "2022-10-01T13:36:45.322Z"
   },
   {
    "duration": 124,
    "start_time": "2022-10-01T13:36:45.338Z"
   },
   {
    "duration": 123,
    "start_time": "2022-10-01T13:36:45.464Z"
   },
   {
    "duration": 208,
    "start_time": "2022-10-01T13:36:45.591Z"
   },
   {
    "duration": 140,
    "start_time": "2022-10-01T13:36:45.800Z"
   },
   {
    "duration": 141,
    "start_time": "2022-10-01T13:36:45.942Z"
   },
   {
    "duration": 110,
    "start_time": "2022-10-01T13:36:46.085Z"
   },
   {
    "duration": 113,
    "start_time": "2022-10-01T13:36:46.197Z"
   },
   {
    "duration": 148,
    "start_time": "2022-10-01T13:36:46.312Z"
   },
   {
    "duration": 158,
    "start_time": "2022-10-01T13:36:46.461Z"
   },
   {
    "duration": 118,
    "start_time": "2022-10-01T13:36:46.620Z"
   },
   {
    "duration": 118,
    "start_time": "2022-10-01T13:36:46.740Z"
   },
   {
    "duration": 130,
    "start_time": "2022-10-01T13:36:46.859Z"
   },
   {
    "duration": 16,
    "start_time": "2022-10-01T13:36:46.990Z"
   },
   {
    "duration": 197,
    "start_time": "2022-10-01T13:36:47.007Z"
   },
   {
    "duration": 225,
    "start_time": "2022-10-01T13:36:47.207Z"
   },
   {
    "duration": 15,
    "start_time": "2022-10-01T13:36:47.434Z"
   },
   {
    "duration": 197,
    "start_time": "2022-10-01T13:36:47.450Z"
   },
   {
    "duration": 257,
    "start_time": "2022-10-01T13:36:47.648Z"
   },
   {
    "duration": 197,
    "start_time": "2022-10-01T13:36:47.907Z"
   },
   {
    "duration": 146,
    "start_time": "2022-10-01T13:36:48.106Z"
   },
   {
    "duration": 236,
    "start_time": "2022-10-01T13:36:48.254Z"
   },
   {
    "duration": 140,
    "start_time": "2022-10-01T13:36:48.491Z"
   },
   {
    "duration": 156,
    "start_time": "2022-10-01T13:36:48.639Z"
   },
   {
    "duration": 171,
    "start_time": "2022-10-01T13:36:48.797Z"
   },
   {
    "duration": 152,
    "start_time": "2022-10-01T13:36:48.970Z"
   },
   {
    "duration": 25,
    "start_time": "2022-10-01T13:36:49.124Z"
   },
   {
    "duration": 155,
    "start_time": "2022-10-01T13:36:49.151Z"
   },
   {
    "duration": 30,
    "start_time": "2022-10-01T13:36:49.308Z"
   },
   {
    "duration": 147,
    "start_time": "2022-10-01T13:36:49.340Z"
   },
   {
    "duration": 8,
    "start_time": "2022-10-01T13:37:26.599Z"
   },
   {
    "duration": 6,
    "start_time": "2022-10-01T13:37:30.291Z"
   },
   {
    "duration": 1224,
    "start_time": "2022-10-01T13:37:38.559Z"
   },
   {
    "duration": 17,
    "start_time": "2022-10-01T13:37:39.785Z"
   },
   {
    "duration": 1823,
    "start_time": "2022-10-01T13:37:39.804Z"
   },
   {
    "duration": 5,
    "start_time": "2022-10-01T13:37:41.629Z"
   },
   {
    "duration": 10,
    "start_time": "2022-10-01T13:37:41.636Z"
   },
   {
    "duration": 8,
    "start_time": "2022-10-01T13:37:41.648Z"
   },
   {
    "duration": 16,
    "start_time": "2022-10-01T13:37:41.657Z"
   },
   {
    "duration": 4,
    "start_time": "2022-10-01T13:37:41.675Z"
   },
   {
    "duration": 260,
    "start_time": "2022-10-01T13:37:41.681Z"
   },
   {
    "duration": 11,
    "start_time": "2022-10-01T13:37:41.943Z"
   },
   {
    "duration": 12,
    "start_time": "2022-10-01T13:37:41.956Z"
   },
   {
    "duration": 7,
    "start_time": "2022-10-01T13:37:41.969Z"
   },
   {
    "duration": 8,
    "start_time": "2022-10-01T13:37:41.977Z"
   },
   {
    "duration": 5,
    "start_time": "2022-10-01T13:37:41.988Z"
   },
   {
    "duration": 8,
    "start_time": "2022-10-01T13:37:41.994Z"
   },
   {
    "duration": 272,
    "start_time": "2022-10-01T13:37:42.003Z"
   },
   {
    "duration": 17,
    "start_time": "2022-10-01T13:37:42.276Z"
   },
   {
    "duration": 3,
    "start_time": "2022-10-01T13:37:42.294Z"
   },
   {
    "duration": 41,
    "start_time": "2022-10-01T13:37:42.298Z"
   },
   {
    "duration": 20,
    "start_time": "2022-10-01T13:37:42.341Z"
   },
   {
    "duration": 48,
    "start_time": "2022-10-01T13:37:42.363Z"
   },
   {
    "duration": 30,
    "start_time": "2022-10-01T13:37:42.413Z"
   },
   {
    "duration": 276,
    "start_time": "2022-10-01T13:37:42.445Z"
   },
   {
    "duration": 307,
    "start_time": "2022-10-01T13:37:42.723Z"
   },
   {
    "duration": 58,
    "start_time": "2022-10-01T13:37:43.032Z"
   },
   {
    "duration": 12,
    "start_time": "2022-10-01T13:37:43.092Z"
   },
   {
    "duration": 4,
    "start_time": "2022-10-01T13:37:43.106Z"
   },
   {
    "duration": 30,
    "start_time": "2022-10-01T13:37:43.111Z"
   },
   {
    "duration": 406,
    "start_time": "2022-10-01T13:37:43.143Z"
   },
   {
    "duration": 8,
    "start_time": "2022-10-01T13:37:43.550Z"
   },
   {
    "duration": 16,
    "start_time": "2022-10-01T13:37:43.559Z"
   },
   {
    "duration": 330,
    "start_time": "2022-10-01T13:37:43.577Z"
   },
   {
    "duration": 15,
    "start_time": "2022-10-01T13:37:43.910Z"
   },
   {
    "duration": 11,
    "start_time": "2022-10-01T13:37:43.939Z"
   },
   {
    "duration": 3,
    "start_time": "2022-10-01T13:37:43.951Z"
   },
   {
    "duration": 215,
    "start_time": "2022-10-01T13:37:43.956Z"
   },
   {
    "duration": 154,
    "start_time": "2022-10-01T13:37:44.172Z"
   },
   {
    "duration": 15,
    "start_time": "2022-10-01T13:37:44.328Z"
   },
   {
    "duration": 146,
    "start_time": "2022-10-01T13:37:44.345Z"
   },
   {
    "duration": 133,
    "start_time": "2022-10-01T13:37:44.492Z"
   },
   {
    "duration": 219,
    "start_time": "2022-10-01T13:37:44.638Z"
   },
   {
    "duration": 150,
    "start_time": "2022-10-01T13:37:44.859Z"
   },
   {
    "duration": 159,
    "start_time": "2022-10-01T13:37:45.010Z"
   },
   {
    "duration": 139,
    "start_time": "2022-10-01T13:37:45.171Z"
   },
   {
    "duration": 128,
    "start_time": "2022-10-01T13:37:45.312Z"
   },
   {
    "duration": 155,
    "start_time": "2022-10-01T13:37:45.442Z"
   },
   {
    "duration": 158,
    "start_time": "2022-10-01T13:37:45.599Z"
   },
   {
    "duration": 130,
    "start_time": "2022-10-01T13:37:45.759Z"
   },
   {
    "duration": 120,
    "start_time": "2022-10-01T13:37:45.890Z"
   },
   {
    "duration": 144,
    "start_time": "2022-10-01T13:37:46.012Z"
   },
   {
    "duration": 18,
    "start_time": "2022-10-01T13:37:46.157Z"
   },
   {
    "duration": 174,
    "start_time": "2022-10-01T13:37:46.176Z"
   },
   {
    "duration": 205,
    "start_time": "2022-10-01T13:37:46.352Z"
   },
   {
    "duration": 14,
    "start_time": "2022-10-01T13:37:46.559Z"
   },
   {
    "duration": 209,
    "start_time": "2022-10-01T13:37:46.575Z"
   },
   {
    "duration": 253,
    "start_time": "2022-10-01T13:37:46.785Z"
   },
   {
    "duration": 312,
    "start_time": "2022-10-01T13:37:47.040Z"
   },
   {
    "duration": 233,
    "start_time": "2022-10-01T13:37:47.353Z"
   },
   {
    "duration": 518,
    "start_time": "2022-10-01T13:37:47.638Z"
   },
   {
    "duration": 227,
    "start_time": "2022-10-01T13:37:48.158Z"
   },
   {
    "duration": 321,
    "start_time": "2022-10-01T13:37:48.438Z"
   },
   {
    "duration": 222,
    "start_time": "2022-10-01T13:37:48.760Z"
   },
   {
    "duration": 155,
    "start_time": "2022-10-01T13:37:48.983Z"
   },
   {
    "duration": 21,
    "start_time": "2022-10-01T13:37:49.140Z"
   },
   {
    "duration": 147,
    "start_time": "2022-10-01T13:37:49.163Z"
   },
   {
    "duration": 30,
    "start_time": "2022-10-01T13:37:49.312Z"
   },
   {
    "duration": 146,
    "start_time": "2022-10-01T13:37:49.344Z"
   },
   {
    "duration": 10,
    "start_time": "2022-10-01T13:38:36.597Z"
   },
   {
    "duration": 5,
    "start_time": "2022-10-01T13:38:39.005Z"
   },
   {
    "duration": 7,
    "start_time": "2022-10-01T13:39:42.491Z"
   },
   {
    "duration": 8,
    "start_time": "2022-10-01T13:40:13.506Z"
   },
   {
    "duration": 100,
    "start_time": "2022-10-01T13:42:37.765Z"
   },
   {
    "duration": 8,
    "start_time": "2022-10-01T13:45:42.248Z"
   },
   {
    "duration": 11,
    "start_time": "2022-10-01T13:46:01.526Z"
   },
   {
    "duration": 6,
    "start_time": "2022-10-01T13:46:13.164Z"
   },
   {
    "duration": 11,
    "start_time": "2022-10-01T13:46:27.747Z"
   },
   {
    "duration": 6,
    "start_time": "2022-10-01T13:46:31.391Z"
   },
   {
    "duration": 12,
    "start_time": "2022-10-01T13:49:06.324Z"
   },
   {
    "duration": 11,
    "start_time": "2022-10-01T13:49:27.652Z"
   },
   {
    "duration": 13,
    "start_time": "2022-10-01T13:49:43.004Z"
   },
   {
    "duration": 14,
    "start_time": "2022-10-01T13:51:28.724Z"
   },
   {
    "duration": 1179,
    "start_time": "2022-10-01T13:51:40.161Z"
   },
   {
    "duration": 14,
    "start_time": "2022-10-01T13:51:41.342Z"
   },
   {
    "duration": 1861,
    "start_time": "2022-10-01T13:51:41.358Z"
   },
   {
    "duration": 4,
    "start_time": "2022-10-01T13:51:43.221Z"
   },
   {
    "duration": 10,
    "start_time": "2022-10-01T13:51:43.227Z"
   },
   {
    "duration": 4,
    "start_time": "2022-10-01T13:51:43.239Z"
   },
   {
    "duration": 11,
    "start_time": "2022-10-01T13:51:43.245Z"
   },
   {
    "duration": 4,
    "start_time": "2022-10-01T13:51:43.258Z"
   },
   {
    "duration": 234,
    "start_time": "2022-10-01T13:51:43.263Z"
   },
   {
    "duration": 12,
    "start_time": "2022-10-01T13:51:43.498Z"
   },
   {
    "duration": 28,
    "start_time": "2022-10-01T13:51:43.511Z"
   },
   {
    "duration": 7,
    "start_time": "2022-10-01T13:51:43.541Z"
   },
   {
    "duration": 8,
    "start_time": "2022-10-01T13:51:43.549Z"
   },
   {
    "duration": 5,
    "start_time": "2022-10-01T13:51:43.560Z"
   },
   {
    "duration": 10,
    "start_time": "2022-10-01T13:51:43.566Z"
   },
   {
    "duration": 272,
    "start_time": "2022-10-01T13:51:43.578Z"
   },
   {
    "duration": 20,
    "start_time": "2022-10-01T13:51:43.851Z"
   },
   {
    "duration": 2,
    "start_time": "2022-10-01T13:51:43.873Z"
   },
   {
    "duration": 23,
    "start_time": "2022-10-01T13:51:43.877Z"
   },
   {
    "duration": 42,
    "start_time": "2022-10-01T13:51:43.902Z"
   },
   {
    "duration": 57,
    "start_time": "2022-10-01T13:51:43.946Z"
   },
   {
    "duration": 7,
    "start_time": "2022-10-01T13:51:44.005Z"
   },
   {
    "duration": 288,
    "start_time": "2022-10-01T13:51:44.014Z"
   },
   {
    "duration": 288,
    "start_time": "2022-10-01T13:51:44.303Z"
   },
   {
    "duration": 56,
    "start_time": "2022-10-01T13:51:44.593Z"
   },
   {
    "duration": 13,
    "start_time": "2022-10-01T13:51:44.651Z"
   },
   {
    "duration": 4,
    "start_time": "2022-10-01T13:51:44.665Z"
   },
   {
    "duration": 14,
    "start_time": "2022-10-01T13:51:44.671Z"
   },
   {
    "duration": 422,
    "start_time": "2022-10-01T13:51:44.687Z"
   },
   {
    "duration": 13,
    "start_time": "2022-10-01T13:51:45.110Z"
   },
   {
    "duration": 50,
    "start_time": "2022-10-01T13:51:45.125Z"
   },
   {
    "duration": 321,
    "start_time": "2022-10-01T13:51:45.176Z"
   },
   {
    "duration": 15,
    "start_time": "2022-10-01T13:51:45.499Z"
   },
   {
    "duration": 28,
    "start_time": "2022-10-01T13:51:45.515Z"
   },
   {
    "duration": 4,
    "start_time": "2022-10-01T13:51:45.545Z"
   },
   {
    "duration": 217,
    "start_time": "2022-10-01T13:51:45.550Z"
   },
   {
    "duration": 160,
    "start_time": "2022-10-01T13:51:45.769Z"
   },
   {
    "duration": 9,
    "start_time": "2022-10-01T13:51:45.931Z"
   },
   {
    "duration": 131,
    "start_time": "2022-10-01T13:51:45.941Z"
   },
   {
    "duration": 125,
    "start_time": "2022-10-01T13:51:46.073Z"
   },
   {
    "duration": 203,
    "start_time": "2022-10-01T13:51:46.202Z"
   },
   {
    "duration": 141,
    "start_time": "2022-10-01T13:51:46.407Z"
   },
   {
    "duration": 140,
    "start_time": "2022-10-01T13:51:46.550Z"
   },
   {
    "duration": 115,
    "start_time": "2022-10-01T13:51:46.691Z"
   },
   {
    "duration": 114,
    "start_time": "2022-10-01T13:51:46.808Z"
   },
   {
    "duration": 141,
    "start_time": "2022-10-01T13:51:46.923Z"
   },
   {
    "duration": 189,
    "start_time": "2022-10-01T13:51:47.066Z"
   },
   {
    "duration": 157,
    "start_time": "2022-10-01T13:51:47.257Z"
   },
   {
    "duration": 125,
    "start_time": "2022-10-01T13:51:47.415Z"
   },
   {
    "duration": 134,
    "start_time": "2022-10-01T13:51:47.541Z"
   },
   {
    "duration": 16,
    "start_time": "2022-10-01T13:51:47.677Z"
   },
   {
    "duration": 169,
    "start_time": "2022-10-01T13:51:47.694Z"
   },
   {
    "duration": 208,
    "start_time": "2022-10-01T13:51:47.864Z"
   },
   {
    "duration": 14,
    "start_time": "2022-10-01T13:51:48.073Z"
   },
   {
    "duration": 205,
    "start_time": "2022-10-01T13:51:48.088Z"
   },
   {
    "duration": 276,
    "start_time": "2022-10-01T13:51:48.295Z"
   },
   {
    "duration": 211,
    "start_time": "2022-10-01T13:51:48.573Z"
   },
   {
    "duration": 142,
    "start_time": "2022-10-01T13:51:48.785Z"
   },
   {
    "duration": 230,
    "start_time": "2022-10-01T13:51:48.928Z"
   },
   {
    "duration": 123,
    "start_time": "2022-10-01T13:51:49.160Z"
   },
   {
    "duration": 164,
    "start_time": "2022-10-01T13:51:49.284Z"
   },
   {
    "duration": 191,
    "start_time": "2022-10-01T13:51:49.450Z"
   },
   {
    "duration": 154,
    "start_time": "2022-10-01T13:51:49.643Z"
   },
   {
    "duration": 22,
    "start_time": "2022-10-01T13:51:49.799Z"
   },
   {
    "duration": 150,
    "start_time": "2022-10-01T13:51:49.822Z"
   },
   {
    "duration": 23,
    "start_time": "2022-10-01T13:51:49.973Z"
   },
   {
    "duration": 170,
    "start_time": "2022-10-01T13:51:49.997Z"
   },
   {
    "duration": 13,
    "start_time": "2022-10-01T13:53:42.709Z"
   },
   {
    "duration": 12,
    "start_time": "2022-10-01T13:54:23.437Z"
   },
   {
    "duration": 16,
    "start_time": "2022-10-01T13:55:09.128Z"
   },
   {
    "duration": 16,
    "start_time": "2022-10-01T13:56:18.212Z"
   },
   {
    "duration": 15,
    "start_time": "2022-10-01T13:57:31.562Z"
   },
   {
    "duration": 17,
    "start_time": "2022-10-01T13:57:43.498Z"
   },
   {
    "duration": 18,
    "start_time": "2022-10-01T13:58:52.519Z"
   },
   {
    "duration": 15,
    "start_time": "2022-10-01T14:00:03.777Z"
   },
   {
    "duration": 20,
    "start_time": "2022-10-01T14:02:12.637Z"
   },
   {
    "duration": 8,
    "start_time": "2022-10-01T14:02:43.607Z"
   },
   {
    "duration": 6,
    "start_time": "2022-10-01T14:02:57.307Z"
   },
   {
    "duration": 8,
    "start_time": "2022-10-01T14:03:10.838Z"
   },
   {
    "duration": 7,
    "start_time": "2022-10-01T14:03:31.619Z"
   },
   {
    "duration": 4,
    "start_time": "2022-10-01T14:03:35.287Z"
   },
   {
    "duration": 8,
    "start_time": "2022-10-01T14:03:43.228Z"
   },
   {
    "duration": 5,
    "start_time": "2022-10-01T14:03:44.357Z"
   },
   {
    "duration": 4,
    "start_time": "2022-10-01T14:06:03.377Z"
   },
   {
    "duration": 5,
    "start_time": "2022-10-01T14:06:04.247Z"
   },
   {
    "duration": 55,
    "start_time": "2022-10-01T14:09:56.251Z"
   },
   {
    "duration": 1283,
    "start_time": "2022-10-01T14:10:05.264Z"
   },
   {
    "duration": 14,
    "start_time": "2022-10-01T14:10:06.549Z"
   },
   {
    "duration": 1943,
    "start_time": "2022-10-01T14:10:06.565Z"
   },
   {
    "duration": 5,
    "start_time": "2022-10-01T14:10:08.510Z"
   },
   {
    "duration": 54,
    "start_time": "2022-10-01T14:10:08.518Z"
   },
   {
    "duration": 30,
    "start_time": "2022-10-01T14:10:08.576Z"
   },
   {
    "duration": 48,
    "start_time": "2022-10-01T14:10:08.607Z"
   },
   {
    "duration": 28,
    "start_time": "2022-10-01T14:10:08.656Z"
   },
   {
    "duration": 226,
    "start_time": "2022-10-01T14:10:08.685Z"
   },
   {
    "duration": 12,
    "start_time": "2022-10-01T14:10:08.912Z"
   },
   {
    "duration": 29,
    "start_time": "2022-10-01T14:10:08.925Z"
   },
   {
    "duration": 9,
    "start_time": "2022-10-01T14:10:08.955Z"
   },
   {
    "duration": 22,
    "start_time": "2022-10-01T14:10:08.965Z"
   },
   {
    "duration": 18,
    "start_time": "2022-10-01T14:10:08.991Z"
   },
   {
    "duration": 24,
    "start_time": "2022-10-01T14:10:09.010Z"
   },
   {
    "duration": 290,
    "start_time": "2022-10-01T14:10:09.036Z"
   },
   {
    "duration": 35,
    "start_time": "2022-10-01T14:10:09.329Z"
   },
   {
    "duration": 3,
    "start_time": "2022-10-01T14:10:09.366Z"
   },
   {
    "duration": 52,
    "start_time": "2022-10-01T14:10:09.371Z"
   },
   {
    "duration": 23,
    "start_time": "2022-10-01T14:10:09.425Z"
   },
   {
    "duration": 56,
    "start_time": "2022-10-01T14:10:09.450Z"
   },
   {
    "duration": 8,
    "start_time": "2022-10-01T14:10:09.508Z"
   },
   {
    "duration": 322,
    "start_time": "2022-10-01T14:10:09.518Z"
   },
   {
    "duration": 299,
    "start_time": "2022-10-01T14:10:09.842Z"
   },
   {
    "duration": 51,
    "start_time": "2022-10-01T14:10:10.143Z"
   },
   {
    "duration": 8,
    "start_time": "2022-10-01T14:10:10.196Z"
   },
   {
    "duration": 123,
    "start_time": "2022-10-01T14:10:10.206Z"
   },
   {
    "duration": 0,
    "start_time": "2022-10-01T14:10:10.333Z"
   },
   {
    "duration": 0,
    "start_time": "2022-10-01T14:10:10.334Z"
   },
   {
    "duration": 0,
    "start_time": "2022-10-01T14:10:10.335Z"
   },
   {
    "duration": 0,
    "start_time": "2022-10-01T14:10:10.336Z"
   },
   {
    "duration": 0,
    "start_time": "2022-10-01T14:10:10.337Z"
   },
   {
    "duration": 0,
    "start_time": "2022-10-01T14:10:10.337Z"
   },
   {
    "duration": 0,
    "start_time": "2022-10-01T14:10:10.340Z"
   },
   {
    "duration": 0,
    "start_time": "2022-10-01T14:10:10.341Z"
   },
   {
    "duration": 0,
    "start_time": "2022-10-01T14:10:10.342Z"
   },
   {
    "duration": 0,
    "start_time": "2022-10-01T14:10:10.345Z"
   },
   {
    "duration": 0,
    "start_time": "2022-10-01T14:10:10.347Z"
   },
   {
    "duration": 0,
    "start_time": "2022-10-01T14:10:10.349Z"
   },
   {
    "duration": 0,
    "start_time": "2022-10-01T14:10:10.352Z"
   },
   {
    "duration": 0,
    "start_time": "2022-10-01T14:10:10.354Z"
   },
   {
    "duration": 0,
    "start_time": "2022-10-01T14:10:10.355Z"
   },
   {
    "duration": 0,
    "start_time": "2022-10-01T14:10:10.357Z"
   },
   {
    "duration": 0,
    "start_time": "2022-10-01T14:10:10.359Z"
   },
   {
    "duration": 0,
    "start_time": "2022-10-01T14:10:10.360Z"
   },
   {
    "duration": 0,
    "start_time": "2022-10-01T14:10:10.361Z"
   },
   {
    "duration": 0,
    "start_time": "2022-10-01T14:10:10.363Z"
   },
   {
    "duration": 0,
    "start_time": "2022-10-01T14:10:10.364Z"
   },
   {
    "duration": 0,
    "start_time": "2022-10-01T14:10:10.365Z"
   },
   {
    "duration": 0,
    "start_time": "2022-10-01T14:10:10.367Z"
   },
   {
    "duration": 0,
    "start_time": "2022-10-01T14:10:10.369Z"
   },
   {
    "duration": 0,
    "start_time": "2022-10-01T14:10:10.370Z"
   },
   {
    "duration": 0,
    "start_time": "2022-10-01T14:10:10.372Z"
   },
   {
    "duration": 0,
    "start_time": "2022-10-01T14:10:10.373Z"
   },
   {
    "duration": 0,
    "start_time": "2022-10-01T14:10:10.375Z"
   },
   {
    "duration": 0,
    "start_time": "2022-10-01T14:10:10.376Z"
   },
   {
    "duration": 0,
    "start_time": "2022-10-01T14:10:10.377Z"
   },
   {
    "duration": 0,
    "start_time": "2022-10-01T14:10:10.379Z"
   },
   {
    "duration": 0,
    "start_time": "2022-10-01T14:10:10.380Z"
   },
   {
    "duration": 0,
    "start_time": "2022-10-01T14:10:10.381Z"
   },
   {
    "duration": 0,
    "start_time": "2022-10-01T14:10:10.382Z"
   },
   {
    "duration": 0,
    "start_time": "2022-10-01T14:10:10.440Z"
   },
   {
    "duration": 0,
    "start_time": "2022-10-01T14:10:10.441Z"
   },
   {
    "duration": 0,
    "start_time": "2022-10-01T14:10:10.442Z"
   },
   {
    "duration": 0,
    "start_time": "2022-10-01T14:10:10.444Z"
   },
   {
    "duration": 0,
    "start_time": "2022-10-01T14:10:10.446Z"
   },
   {
    "duration": 0,
    "start_time": "2022-10-01T14:10:10.446Z"
   },
   {
    "duration": 19,
    "start_time": "2022-10-01T14:16:57.909Z"
   },
   {
    "duration": 34,
    "start_time": "2022-10-01T14:20:42.573Z"
   },
   {
    "duration": 1234,
    "start_time": "2022-10-01T14:20:54.626Z"
   },
   {
    "duration": 15,
    "start_time": "2022-10-01T14:20:55.862Z"
   },
   {
    "duration": 1880,
    "start_time": "2022-10-01T14:20:55.879Z"
   },
   {
    "duration": 4,
    "start_time": "2022-10-01T14:20:57.761Z"
   },
   {
    "duration": 12,
    "start_time": "2022-10-01T14:20:57.767Z"
   },
   {
    "duration": 12,
    "start_time": "2022-10-01T14:20:57.780Z"
   },
   {
    "duration": 12,
    "start_time": "2022-10-01T14:20:57.793Z"
   },
   {
    "duration": 4,
    "start_time": "2022-10-01T14:20:57.807Z"
   },
   {
    "duration": 220,
    "start_time": "2022-10-01T14:20:57.812Z"
   },
   {
    "duration": 11,
    "start_time": "2022-10-01T14:20:58.038Z"
   },
   {
    "duration": 18,
    "start_time": "2022-10-01T14:20:58.050Z"
   },
   {
    "duration": 13,
    "start_time": "2022-10-01T14:20:58.070Z"
   },
   {
    "duration": 12,
    "start_time": "2022-10-01T14:20:58.084Z"
   },
   {
    "duration": 26,
    "start_time": "2022-10-01T14:20:58.097Z"
   },
   {
    "duration": 14,
    "start_time": "2022-10-01T14:20:58.124Z"
   },
   {
    "duration": 265,
    "start_time": "2022-10-01T14:20:58.140Z"
   },
   {
    "duration": 19,
    "start_time": "2022-10-01T14:20:58.406Z"
   },
   {
    "duration": 3,
    "start_time": "2022-10-01T14:20:58.438Z"
   },
   {
    "duration": 36,
    "start_time": "2022-10-01T14:20:58.442Z"
   },
   {
    "duration": 19,
    "start_time": "2022-10-01T14:20:58.480Z"
   },
   {
    "duration": 64,
    "start_time": "2022-10-01T14:20:58.501Z"
   },
   {
    "duration": 12,
    "start_time": "2022-10-01T14:20:58.567Z"
   },
   {
    "duration": 297,
    "start_time": "2022-10-01T14:20:58.580Z"
   },
   {
    "duration": 282,
    "start_time": "2022-10-01T14:20:58.878Z"
   },
   {
    "duration": 59,
    "start_time": "2022-10-01T14:20:59.162Z"
   },
   {
    "duration": 26,
    "start_time": "2022-10-01T14:20:59.222Z"
   },
   {
    "duration": 4,
    "start_time": "2022-10-01T14:20:59.250Z"
   },
   {
    "duration": 13,
    "start_time": "2022-10-01T14:20:59.258Z"
   },
   {
    "duration": 411,
    "start_time": "2022-10-01T14:20:59.272Z"
   },
   {
    "duration": 5,
    "start_time": "2022-10-01T14:20:59.684Z"
   },
   {
    "duration": 10,
    "start_time": "2022-10-01T14:20:59.691Z"
   },
   {
    "duration": 327,
    "start_time": "2022-10-01T14:20:59.703Z"
   },
   {
    "duration": 14,
    "start_time": "2022-10-01T14:21:00.038Z"
   },
   {
    "duration": 10,
    "start_time": "2022-10-01T14:21:00.053Z"
   },
   {
    "duration": 7,
    "start_time": "2022-10-01T14:21:00.064Z"
   },
   {
    "duration": 224,
    "start_time": "2022-10-01T14:21:00.072Z"
   },
   {
    "duration": 154,
    "start_time": "2022-10-01T14:21:00.297Z"
   },
   {
    "duration": 4,
    "start_time": "2022-10-01T14:21:00.452Z"
   },
   {
    "duration": 137,
    "start_time": "2022-10-01T14:21:00.457Z"
   },
   {
    "duration": 116,
    "start_time": "2022-10-01T14:21:00.595Z"
   },
   {
    "duration": 207,
    "start_time": "2022-10-01T14:21:00.713Z"
   },
   {
    "duration": 143,
    "start_time": "2022-10-01T14:21:00.922Z"
   },
   {
    "duration": 149,
    "start_time": "2022-10-01T14:21:01.067Z"
   },
   {
    "duration": 121,
    "start_time": "2022-10-01T14:21:01.217Z"
   },
   {
    "duration": 117,
    "start_time": "2022-10-01T14:21:01.339Z"
   },
   {
    "duration": 136,
    "start_time": "2022-10-01T14:21:01.458Z"
   },
   {
    "duration": 151,
    "start_time": "2022-10-01T14:21:01.595Z"
   },
   {
    "duration": 122,
    "start_time": "2022-10-01T14:21:01.748Z"
   },
   {
    "duration": 116,
    "start_time": "2022-10-01T14:21:01.871Z"
   },
   {
    "duration": 131,
    "start_time": "2022-10-01T14:21:01.989Z"
   },
   {
    "duration": 24,
    "start_time": "2022-10-01T14:21:02.122Z"
   },
   {
    "duration": 181,
    "start_time": "2022-10-01T14:21:02.147Z"
   },
   {
    "duration": 191,
    "start_time": "2022-10-01T14:21:02.329Z"
   },
   {
    "duration": 26,
    "start_time": "2022-10-01T14:21:02.521Z"
   },
   {
    "duration": 203,
    "start_time": "2022-10-01T14:21:02.549Z"
   },
   {
    "duration": 264,
    "start_time": "2022-10-01T14:21:02.754Z"
   },
   {
    "duration": 200,
    "start_time": "2022-10-01T14:21:03.020Z"
   },
   {
    "duration": 145,
    "start_time": "2022-10-01T14:21:03.221Z"
   },
   {
    "duration": 225,
    "start_time": "2022-10-01T14:21:03.368Z"
   },
   {
    "duration": 123,
    "start_time": "2022-10-01T14:21:03.595Z"
   },
   {
    "duration": 150,
    "start_time": "2022-10-01T14:21:03.719Z"
   },
   {
    "duration": 162,
    "start_time": "2022-10-01T14:21:03.870Z"
   },
   {
    "duration": 143,
    "start_time": "2022-10-01T14:21:04.038Z"
   },
   {
    "duration": 22,
    "start_time": "2022-10-01T14:21:04.182Z"
   },
   {
    "duration": 166,
    "start_time": "2022-10-01T14:21:04.205Z"
   },
   {
    "duration": 23,
    "start_time": "2022-10-01T14:21:04.372Z"
   },
   {
    "duration": 160,
    "start_time": "2022-10-01T14:21:04.397Z"
   },
   {
    "duration": 55,
    "start_time": "2022-10-01T14:22:32.274Z"
   },
   {
    "duration": 64,
    "start_time": "2022-10-01T14:22:51.911Z"
   },
   {
    "duration": 54,
    "start_time": "2022-10-01T14:23:11.828Z"
   },
   {
    "duration": 1179,
    "start_time": "2022-10-01T14:23:20.656Z"
   },
   {
    "duration": 15,
    "start_time": "2022-10-01T14:23:21.839Z"
   },
   {
    "duration": 1804,
    "start_time": "2022-10-01T14:23:21.855Z"
   },
   {
    "duration": 4,
    "start_time": "2022-10-01T14:23:23.661Z"
   },
   {
    "duration": 9,
    "start_time": "2022-10-01T14:23:23.667Z"
   },
   {
    "duration": 4,
    "start_time": "2022-10-01T14:23:23.677Z"
   },
   {
    "duration": 11,
    "start_time": "2022-10-01T14:23:23.682Z"
   },
   {
    "duration": 3,
    "start_time": "2022-10-01T14:23:23.695Z"
   },
   {
    "duration": 218,
    "start_time": "2022-10-01T14:23:23.700Z"
   },
   {
    "duration": 19,
    "start_time": "2022-10-01T14:23:23.920Z"
   },
   {
    "duration": 10,
    "start_time": "2022-10-01T14:23:23.940Z"
   },
   {
    "duration": 7,
    "start_time": "2022-10-01T14:23:23.952Z"
   },
   {
    "duration": 9,
    "start_time": "2022-10-01T14:23:23.960Z"
   },
   {
    "duration": 8,
    "start_time": "2022-10-01T14:23:23.973Z"
   },
   {
    "duration": 6,
    "start_time": "2022-10-01T14:23:23.983Z"
   },
   {
    "duration": 296,
    "start_time": "2022-10-01T14:23:23.990Z"
   },
   {
    "duration": 17,
    "start_time": "2022-10-01T14:23:24.288Z"
   },
   {
    "duration": 6,
    "start_time": "2022-10-01T14:23:24.306Z"
   },
   {
    "duration": 40,
    "start_time": "2022-10-01T14:23:24.313Z"
   },
   {
    "duration": 19,
    "start_time": "2022-10-01T14:23:24.355Z"
   },
   {
    "duration": 48,
    "start_time": "2022-10-01T14:23:24.375Z"
   },
   {
    "duration": 8,
    "start_time": "2022-10-01T14:23:24.439Z"
   },
   {
    "duration": 326,
    "start_time": "2022-10-01T14:23:24.449Z"
   },
   {
    "duration": 268,
    "start_time": "2022-10-01T14:23:24.776Z"
   },
   {
    "duration": 50,
    "start_time": "2022-10-01T14:23:25.045Z"
   },
   {
    "duration": 13,
    "start_time": "2022-10-01T14:23:25.096Z"
   },
   {
    "duration": 4,
    "start_time": "2022-10-01T14:23:25.110Z"
   },
   {
    "duration": 14,
    "start_time": "2022-10-01T14:23:25.115Z"
   },
   {
    "duration": 401,
    "start_time": "2022-10-01T14:23:25.131Z"
   },
   {
    "duration": 4,
    "start_time": "2022-10-01T14:23:25.538Z"
   },
   {
    "duration": 13,
    "start_time": "2022-10-01T14:23:25.543Z"
   },
   {
    "duration": 498,
    "start_time": "2022-10-01T14:23:25.558Z"
   },
   {
    "duration": 14,
    "start_time": "2022-10-01T14:23:26.057Z"
   },
   {
    "duration": 10,
    "start_time": "2022-10-01T14:23:26.072Z"
   },
   {
    "duration": 3,
    "start_time": "2022-10-01T14:23:26.084Z"
   },
   {
    "duration": 236,
    "start_time": "2022-10-01T14:23:26.088Z"
   },
   {
    "duration": 170,
    "start_time": "2022-10-01T14:23:26.325Z"
   },
   {
    "duration": 3,
    "start_time": "2022-10-01T14:23:26.496Z"
   },
   {
    "duration": 140,
    "start_time": "2022-10-01T14:23:26.500Z"
   },
   {
    "duration": 128,
    "start_time": "2022-10-01T14:23:26.641Z"
   },
   {
    "duration": 203,
    "start_time": "2022-10-01T14:23:26.772Z"
   },
   {
    "duration": 143,
    "start_time": "2022-10-01T14:23:26.976Z"
   },
   {
    "duration": 181,
    "start_time": "2022-10-01T14:23:27.120Z"
   },
   {
    "duration": 140,
    "start_time": "2022-10-01T14:23:27.303Z"
   },
   {
    "duration": 115,
    "start_time": "2022-10-01T14:23:27.444Z"
   },
   {
    "duration": 132,
    "start_time": "2022-10-01T14:23:27.561Z"
   },
   {
    "duration": 152,
    "start_time": "2022-10-01T14:23:27.695Z"
   },
   {
    "duration": 124,
    "start_time": "2022-10-01T14:23:27.849Z"
   },
   {
    "duration": 117,
    "start_time": "2022-10-01T14:23:27.975Z"
   },
   {
    "duration": 136,
    "start_time": "2022-10-01T14:23:28.094Z"
   },
   {
    "duration": 20,
    "start_time": "2022-10-01T14:23:28.231Z"
   },
   {
    "duration": 186,
    "start_time": "2022-10-01T14:23:28.252Z"
   },
   {
    "duration": 225,
    "start_time": "2022-10-01T14:23:28.440Z"
   },
   {
    "duration": 17,
    "start_time": "2022-10-01T14:23:28.667Z"
   },
   {
    "duration": 197,
    "start_time": "2022-10-01T14:23:28.686Z"
   },
   {
    "duration": 276,
    "start_time": "2022-10-01T14:23:28.884Z"
   },
   {
    "duration": 381,
    "start_time": "2022-10-01T14:23:29.162Z"
   },
   {
    "duration": 241,
    "start_time": "2022-10-01T14:23:29.545Z"
   },
   {
    "duration": 431,
    "start_time": "2022-10-01T14:23:29.838Z"
   },
   {
    "duration": 283,
    "start_time": "2022-10-01T14:23:30.270Z"
   },
   {
    "duration": 303,
    "start_time": "2022-10-01T14:23:30.554Z"
   },
   {
    "duration": 217,
    "start_time": "2022-10-01T14:23:30.859Z"
   },
   {
    "duration": 147,
    "start_time": "2022-10-01T14:23:31.077Z"
   },
   {
    "duration": 25,
    "start_time": "2022-10-01T14:23:31.225Z"
   },
   {
    "duration": 141,
    "start_time": "2022-10-01T14:23:31.251Z"
   },
   {
    "duration": 23,
    "start_time": "2022-10-01T14:23:31.394Z"
   },
   {
    "duration": 162,
    "start_time": "2022-10-01T14:23:31.418Z"
   },
   {
    "duration": 59,
    "start_time": "2022-10-01T14:23:47.375Z"
   },
   {
    "duration": 65,
    "start_time": "2022-10-01T14:24:54.820Z"
   },
   {
    "duration": 58,
    "start_time": "2022-10-01T14:25:07.794Z"
   },
   {
    "duration": 1217,
    "start_time": "2022-10-01T14:25:22.619Z"
   },
   {
    "duration": 15,
    "start_time": "2022-10-01T14:25:23.839Z"
   },
   {
    "duration": 1882,
    "start_time": "2022-10-01T14:25:23.856Z"
   },
   {
    "duration": 4,
    "start_time": "2022-10-01T14:25:25.740Z"
   },
   {
    "duration": 8,
    "start_time": "2022-10-01T14:25:25.746Z"
   },
   {
    "duration": 4,
    "start_time": "2022-10-01T14:25:25.755Z"
   },
   {
    "duration": 10,
    "start_time": "2022-10-01T14:25:25.761Z"
   },
   {
    "duration": 4,
    "start_time": "2022-10-01T14:25:25.772Z"
   },
   {
    "duration": 327,
    "start_time": "2022-10-01T14:25:25.777Z"
   },
   {
    "duration": 11,
    "start_time": "2022-10-01T14:25:26.106Z"
   },
   {
    "duration": 9,
    "start_time": "2022-10-01T14:25:26.119Z"
   },
   {
    "duration": 12,
    "start_time": "2022-10-01T14:25:26.129Z"
   },
   {
    "duration": 5,
    "start_time": "2022-10-01T14:25:26.143Z"
   },
   {
    "duration": 6,
    "start_time": "2022-10-01T14:25:26.150Z"
   },
   {
    "duration": 7,
    "start_time": "2022-10-01T14:25:26.157Z"
   },
   {
    "duration": 381,
    "start_time": "2022-10-01T14:25:26.165Z"
   },
   {
    "duration": 17,
    "start_time": "2022-10-01T14:25:26.548Z"
   },
   {
    "duration": 2,
    "start_time": "2022-10-01T14:25:26.566Z"
   },
   {
    "duration": 20,
    "start_time": "2022-10-01T14:25:26.570Z"
   },
   {
    "duration": 50,
    "start_time": "2022-10-01T14:25:26.593Z"
   },
   {
    "duration": 52,
    "start_time": "2022-10-01T14:25:26.645Z"
   },
   {
    "duration": 8,
    "start_time": "2022-10-01T14:25:26.699Z"
   },
   {
    "duration": 287,
    "start_time": "2022-10-01T14:25:26.708Z"
   },
   {
    "duration": 352,
    "start_time": "2022-10-01T14:25:26.997Z"
   },
   {
    "duration": 91,
    "start_time": "2022-10-01T14:25:27.352Z"
   },
   {
    "duration": 18,
    "start_time": "2022-10-01T14:25:27.445Z"
   },
   {
    "duration": 6,
    "start_time": "2022-10-01T14:25:27.465Z"
   },
   {
    "duration": 17,
    "start_time": "2022-10-01T14:25:27.474Z"
   },
   {
    "duration": 408,
    "start_time": "2022-10-01T14:25:27.493Z"
   },
   {
    "duration": 4,
    "start_time": "2022-10-01T14:25:27.903Z"
   },
   {
    "duration": 8,
    "start_time": "2022-10-01T14:25:27.908Z"
   },
   {
    "duration": 362,
    "start_time": "2022-10-01T14:25:27.918Z"
   },
   {
    "duration": 13,
    "start_time": "2022-10-01T14:25:28.282Z"
   },
   {
    "duration": 10,
    "start_time": "2022-10-01T14:25:28.297Z"
   },
   {
    "duration": 31,
    "start_time": "2022-10-01T14:25:28.309Z"
   },
   {
    "duration": 242,
    "start_time": "2022-10-01T14:25:28.342Z"
   },
   {
    "duration": 176,
    "start_time": "2022-10-01T14:25:28.587Z"
   },
   {
    "duration": 3,
    "start_time": "2022-10-01T14:25:28.765Z"
   },
   {
    "duration": 135,
    "start_time": "2022-10-01T14:25:28.770Z"
   },
   {
    "duration": 125,
    "start_time": "2022-10-01T14:25:28.907Z"
   },
   {
    "duration": 201,
    "start_time": "2022-10-01T14:25:29.039Z"
   },
   {
    "duration": 133,
    "start_time": "2022-10-01T14:25:29.242Z"
   },
   {
    "duration": 153,
    "start_time": "2022-10-01T14:25:29.376Z"
   },
   {
    "duration": 122,
    "start_time": "2022-10-01T14:25:29.530Z"
   },
   {
    "duration": 114,
    "start_time": "2022-10-01T14:25:29.654Z"
   },
   {
    "duration": 148,
    "start_time": "2022-10-01T14:25:29.769Z"
   },
   {
    "duration": 148,
    "start_time": "2022-10-01T14:25:29.918Z"
   },
   {
    "duration": 125,
    "start_time": "2022-10-01T14:25:30.067Z"
   },
   {
    "duration": 117,
    "start_time": "2022-10-01T14:25:30.193Z"
   },
   {
    "duration": 144,
    "start_time": "2022-10-01T14:25:30.312Z"
   },
   {
    "duration": 15,
    "start_time": "2022-10-01T14:25:30.458Z"
   },
   {
    "duration": 185,
    "start_time": "2022-10-01T14:25:30.475Z"
   },
   {
    "duration": 212,
    "start_time": "2022-10-01T14:25:30.662Z"
   },
   {
    "duration": 16,
    "start_time": "2022-10-01T14:25:30.876Z"
   },
   {
    "duration": 206,
    "start_time": "2022-10-01T14:25:30.894Z"
   },
   {
    "duration": 257,
    "start_time": "2022-10-01T14:25:31.102Z"
   },
   {
    "duration": 210,
    "start_time": "2022-10-01T14:25:31.361Z"
   },
   {
    "duration": 139,
    "start_time": "2022-10-01T14:25:31.573Z"
   },
   {
    "duration": 234,
    "start_time": "2022-10-01T14:25:31.714Z"
   },
   {
    "duration": 128,
    "start_time": "2022-10-01T14:25:31.950Z"
   },
   {
    "duration": 160,
    "start_time": "2022-10-01T14:25:32.080Z"
   },
   {
    "duration": 215,
    "start_time": "2022-10-01T14:25:32.242Z"
   },
   {
    "duration": 144,
    "start_time": "2022-10-01T14:25:32.458Z"
   },
   {
    "duration": 22,
    "start_time": "2022-10-01T14:25:32.603Z"
   },
   {
    "duration": 150,
    "start_time": "2022-10-01T14:25:32.627Z"
   },
   {
    "duration": 25,
    "start_time": "2022-10-01T14:25:32.778Z"
   },
   {
    "duration": 172,
    "start_time": "2022-10-01T14:25:32.804Z"
   },
   {
    "duration": 126,
    "start_time": "2022-10-01T14:42:47.225Z"
   },
   {
    "duration": 22,
    "start_time": "2022-10-01T14:43:28.093Z"
   },
   {
    "duration": 45,
    "start_time": "2022-10-01T14:48:55.839Z"
   },
   {
    "duration": 7,
    "start_time": "2022-10-01T14:54:00.668Z"
   },
   {
    "duration": 1423,
    "start_time": "2022-10-01T14:54:08.621Z"
   },
   {
    "duration": 14,
    "start_time": "2022-10-01T14:54:10.046Z"
   },
   {
    "duration": 1783,
    "start_time": "2022-10-01T14:54:10.061Z"
   },
   {
    "duration": 4,
    "start_time": "2022-10-01T14:54:11.846Z"
   },
   {
    "duration": 8,
    "start_time": "2022-10-01T14:54:11.852Z"
   },
   {
    "duration": 4,
    "start_time": "2022-10-01T14:54:11.861Z"
   },
   {
    "duration": 9,
    "start_time": "2022-10-01T14:54:11.867Z"
   },
   {
    "duration": 3,
    "start_time": "2022-10-01T14:54:11.878Z"
   },
   {
    "duration": 232,
    "start_time": "2022-10-01T14:54:11.883Z"
   },
   {
    "duration": 21,
    "start_time": "2022-10-01T14:54:12.118Z"
   },
   {
    "duration": 9,
    "start_time": "2022-10-01T14:54:12.141Z"
   },
   {
    "duration": 7,
    "start_time": "2022-10-01T14:54:12.151Z"
   },
   {
    "duration": 6,
    "start_time": "2022-10-01T14:54:12.159Z"
   },
   {
    "duration": 4,
    "start_time": "2022-10-01T14:54:12.167Z"
   },
   {
    "duration": 5,
    "start_time": "2022-10-01T14:54:12.173Z"
   },
   {
    "duration": 293,
    "start_time": "2022-10-01T14:54:12.179Z"
   },
   {
    "duration": 16,
    "start_time": "2022-10-01T14:54:12.473Z"
   },
   {
    "duration": 5,
    "start_time": "2022-10-01T14:54:12.491Z"
   },
   {
    "duration": 26,
    "start_time": "2022-10-01T14:54:12.497Z"
   },
   {
    "duration": 28,
    "start_time": "2022-10-01T14:54:12.524Z"
   },
   {
    "duration": 46,
    "start_time": "2022-10-01T14:54:12.553Z"
   },
   {
    "duration": 7,
    "start_time": "2022-10-01T14:54:12.601Z"
   },
   {
    "duration": 271,
    "start_time": "2022-10-01T14:54:12.609Z"
   },
   {
    "duration": 273,
    "start_time": "2022-10-01T14:54:12.881Z"
   },
   {
    "duration": 49,
    "start_time": "2022-10-01T14:54:13.155Z"
   },
   {
    "duration": 13,
    "start_time": "2022-10-01T14:54:13.205Z"
   },
   {
    "duration": 22,
    "start_time": "2022-10-01T14:54:13.219Z"
   },
   {
    "duration": 11,
    "start_time": "2022-10-01T14:54:13.244Z"
   },
   {
    "duration": 389,
    "start_time": "2022-10-01T14:54:13.257Z"
   },
   {
    "duration": 4,
    "start_time": "2022-10-01T14:54:13.648Z"
   },
   {
    "duration": 9,
    "start_time": "2022-10-01T14:54:13.653Z"
   },
   {
    "duration": 323,
    "start_time": "2022-10-01T14:54:13.663Z"
   },
   {
    "duration": 20,
    "start_time": "2022-10-01T14:54:13.988Z"
   },
   {
    "duration": 28,
    "start_time": "2022-10-01T14:54:14.010Z"
   },
   {
    "duration": 5,
    "start_time": "2022-10-01T14:54:14.040Z"
   },
   {
    "duration": 242,
    "start_time": "2022-10-01T14:54:14.047Z"
   },
   {
    "duration": 155,
    "start_time": "2022-10-01T14:54:14.290Z"
   },
   {
    "duration": 3,
    "start_time": "2022-10-01T14:54:14.447Z"
   },
   {
    "duration": 126,
    "start_time": "2022-10-01T14:54:14.452Z"
   },
   {
    "duration": 134,
    "start_time": "2022-10-01T14:54:14.580Z"
   },
   {
    "duration": 199,
    "start_time": "2022-10-01T14:54:14.716Z"
   },
   {
    "duration": 147,
    "start_time": "2022-10-01T14:54:14.916Z"
   },
   {
    "duration": 167,
    "start_time": "2022-10-01T14:54:15.065Z"
   },
   {
    "duration": 114,
    "start_time": "2022-10-01T14:54:15.237Z"
   },
   {
    "duration": 114,
    "start_time": "2022-10-01T14:54:15.353Z"
   },
   {
    "duration": 139,
    "start_time": "2022-10-01T14:54:15.468Z"
   },
   {
    "duration": 173,
    "start_time": "2022-10-01T14:54:15.608Z"
   },
   {
    "duration": 126,
    "start_time": "2022-10-01T14:54:15.782Z"
   },
   {
    "duration": 113,
    "start_time": "2022-10-01T14:54:15.909Z"
   },
   {
    "duration": 153,
    "start_time": "2022-10-01T14:54:16.023Z"
   },
   {
    "duration": 16,
    "start_time": "2022-10-01T14:54:16.177Z"
   },
   {
    "duration": 174,
    "start_time": "2022-10-01T14:54:16.194Z"
   },
   {
    "duration": 197,
    "start_time": "2022-10-01T14:54:16.370Z"
   },
   {
    "duration": 14,
    "start_time": "2022-10-01T14:54:16.569Z"
   },
   {
    "duration": 199,
    "start_time": "2022-10-01T14:54:16.584Z"
   },
   {
    "duration": 256,
    "start_time": "2022-10-01T14:54:16.784Z"
   },
   {
    "duration": 216,
    "start_time": "2022-10-01T14:54:17.042Z"
   },
   {
    "duration": 183,
    "start_time": "2022-10-01T14:54:17.260Z"
   },
   {
    "duration": 232,
    "start_time": "2022-10-01T14:54:17.445Z"
   },
   {
    "duration": 128,
    "start_time": "2022-10-01T14:54:17.679Z"
   },
   {
    "duration": 177,
    "start_time": "2022-10-01T14:54:17.808Z"
   },
   {
    "duration": 172,
    "start_time": "2022-10-01T14:54:17.986Z"
   },
   {
    "duration": 155,
    "start_time": "2022-10-01T14:54:18.160Z"
   },
   {
    "duration": 29,
    "start_time": "2022-10-01T14:54:18.317Z"
   },
   {
    "duration": 143,
    "start_time": "2022-10-01T14:54:18.348Z"
   },
   {
    "duration": 26,
    "start_time": "2022-10-01T14:54:18.492Z"
   },
   {
    "duration": 184,
    "start_time": "2022-10-01T14:54:18.520Z"
   },
   {
    "duration": 349,
    "start_time": "2022-10-01T15:04:54.650Z"
   },
   {
    "duration": 265,
    "start_time": "2022-10-01T15:05:02.927Z"
   },
   {
    "duration": 340,
    "start_time": "2022-10-01T15:09:45.257Z"
   },
   {
    "duration": 45,
    "start_time": "2022-10-01T15:11:35.055Z"
   },
   {
    "duration": 212,
    "start_time": "2022-10-01T15:12:30.116Z"
   },
   {
    "duration": 222,
    "start_time": "2022-10-01T15:12:36.429Z"
   },
   {
    "duration": 190,
    "start_time": "2022-10-01T15:12:52.896Z"
   },
   {
    "duration": 295,
    "start_time": "2022-10-01T15:13:50.209Z"
   },
   {
    "duration": 208,
    "start_time": "2022-10-01T15:14:24.007Z"
   },
   {
    "duration": 334,
    "start_time": "2022-10-01T15:15:10.263Z"
   },
   {
    "duration": 209,
    "start_time": "2022-10-01T15:16:18.907Z"
   },
   {
    "duration": 251,
    "start_time": "2022-10-01T15:16:59.059Z"
   },
   {
    "duration": 55,
    "start_time": "2022-10-01T15:18:48.103Z"
   },
   {
    "duration": 204,
    "start_time": "2022-10-01T15:21:11.197Z"
   },
   {
    "duration": 305,
    "start_time": "2022-10-01T15:23:14.007Z"
   },
   {
    "duration": 278,
    "start_time": "2022-10-01T15:24:30.981Z"
   },
   {
    "duration": 4,
    "start_time": "2022-10-01T15:24:41.237Z"
   },
   {
    "duration": 6,
    "start_time": "2022-10-01T15:28:39.689Z"
   },
   {
    "duration": 59,
    "start_time": "2022-10-01T15:29:08.745Z"
   },
   {
    "duration": 50,
    "start_time": "2022-10-01T15:29:32.966Z"
   },
   {
    "duration": 1263,
    "start_time": "2022-10-01T15:29:41.282Z"
   },
   {
    "duration": 22,
    "start_time": "2022-10-01T15:29:42.547Z"
   },
   {
    "duration": 1869,
    "start_time": "2022-10-01T15:29:42.571Z"
   },
   {
    "duration": 5,
    "start_time": "2022-10-01T15:29:44.442Z"
   },
   {
    "duration": 8,
    "start_time": "2022-10-01T15:29:44.449Z"
   },
   {
    "duration": 5,
    "start_time": "2022-10-01T15:29:44.458Z"
   },
   {
    "duration": 10,
    "start_time": "2022-10-01T15:29:44.465Z"
   },
   {
    "duration": 6,
    "start_time": "2022-10-01T15:29:44.476Z"
   },
   {
    "duration": 281,
    "start_time": "2022-10-01T15:29:44.484Z"
   },
   {
    "duration": 11,
    "start_time": "2022-10-01T15:29:44.767Z"
   },
   {
    "duration": 12,
    "start_time": "2022-10-01T15:29:44.779Z"
   },
   {
    "duration": 8,
    "start_time": "2022-10-01T15:29:44.792Z"
   },
   {
    "duration": 38,
    "start_time": "2022-10-01T15:29:44.802Z"
   },
   {
    "duration": 117,
    "start_time": "2022-10-01T15:29:44.842Z"
   },
   {
    "duration": 7,
    "start_time": "2022-10-01T15:29:44.960Z"
   },
   {
    "duration": 276,
    "start_time": "2022-10-01T15:29:44.968Z"
   },
   {
    "duration": 26,
    "start_time": "2022-10-01T15:29:45.246Z"
   },
   {
    "duration": 3,
    "start_time": "2022-10-01T15:29:45.273Z"
   },
   {
    "duration": 23,
    "start_time": "2022-10-01T15:29:45.277Z"
   },
   {
    "duration": 39,
    "start_time": "2022-10-01T15:29:45.301Z"
   },
   {
    "duration": 56,
    "start_time": "2022-10-01T15:29:45.341Z"
   },
   {
    "duration": 9,
    "start_time": "2022-10-01T15:29:45.398Z"
   },
   {
    "duration": 342,
    "start_time": "2022-10-01T15:29:45.409Z"
   },
   {
    "duration": 336,
    "start_time": "2022-10-01T15:29:45.756Z"
   },
   {
    "duration": 71,
    "start_time": "2022-10-01T15:29:46.094Z"
   },
   {
    "duration": 14,
    "start_time": "2022-10-01T15:29:46.166Z"
   },
   {
    "duration": 5,
    "start_time": "2022-10-01T15:29:46.182Z"
   },
   {
    "duration": 17,
    "start_time": "2022-10-01T15:29:46.191Z"
   },
   {
    "duration": 533,
    "start_time": "2022-10-01T15:29:46.210Z"
   },
   {
    "duration": 12,
    "start_time": "2022-10-01T15:29:46.751Z"
   },
   {
    "duration": 10,
    "start_time": "2022-10-01T15:29:46.765Z"
   },
   {
    "duration": 413,
    "start_time": "2022-10-01T15:29:46.777Z"
   },
   {
    "duration": 22,
    "start_time": "2022-10-01T15:29:47.192Z"
   },
   {
    "duration": 30,
    "start_time": "2022-10-01T15:29:47.216Z"
   },
   {
    "duration": 27,
    "start_time": "2022-10-01T15:29:47.248Z"
   },
   {
    "duration": 388,
    "start_time": "2022-10-01T15:29:47.277Z"
   },
   {
    "duration": 244,
    "start_time": "2022-10-01T15:29:47.668Z"
   },
   {
    "duration": 5,
    "start_time": "2022-10-01T15:29:47.913Z"
   },
   {
    "duration": 190,
    "start_time": "2022-10-01T15:29:47.920Z"
   },
   {
    "duration": 186,
    "start_time": "2022-10-01T15:29:48.112Z"
   },
   {
    "duration": 257,
    "start_time": "2022-10-01T15:29:48.300Z"
   },
   {
    "duration": 187,
    "start_time": "2022-10-01T15:29:48.559Z"
   },
   {
    "duration": 170,
    "start_time": "2022-10-01T15:29:48.748Z"
   },
   {
    "duration": 146,
    "start_time": "2022-10-01T15:29:48.919Z"
   },
   {
    "duration": 143,
    "start_time": "2022-10-01T15:29:49.067Z"
   },
   {
    "duration": 164,
    "start_time": "2022-10-01T15:29:49.212Z"
   },
   {
    "duration": 243,
    "start_time": "2022-10-01T15:29:49.377Z"
   },
   {
    "duration": 185,
    "start_time": "2022-10-01T15:29:49.623Z"
   },
   {
    "duration": 153,
    "start_time": "2022-10-01T15:29:49.810Z"
   },
   {
    "duration": 190,
    "start_time": "2022-10-01T15:29:49.965Z"
   },
   {
    "duration": 20,
    "start_time": "2022-10-01T15:29:50.157Z"
   },
   {
    "duration": 217,
    "start_time": "2022-10-01T15:29:50.178Z"
   },
   {
    "duration": 235,
    "start_time": "2022-10-01T15:29:50.397Z"
   },
   {
    "duration": 20,
    "start_time": "2022-10-01T15:29:50.638Z"
   },
   {
    "duration": 283,
    "start_time": "2022-10-01T15:29:50.660Z"
   },
   {
    "duration": 249,
    "start_time": "2022-10-01T15:29:50.945Z"
   },
   {
    "duration": 221,
    "start_time": "2022-10-01T15:29:51.195Z"
   },
   {
    "duration": 219,
    "start_time": "2022-10-01T15:29:51.418Z"
   },
   {
    "duration": 349,
    "start_time": "2022-10-01T15:29:51.639Z"
   },
   {
    "duration": 177,
    "start_time": "2022-10-01T15:29:51.990Z"
   },
   {
    "duration": 222,
    "start_time": "2022-10-01T15:29:52.171Z"
   },
   {
    "duration": 224,
    "start_time": "2022-10-01T15:29:52.396Z"
   },
   {
    "duration": 199,
    "start_time": "2022-10-01T15:29:52.622Z"
   },
   {
    "duration": 41,
    "start_time": "2022-10-01T15:29:52.822Z"
   },
   {
    "duration": 191,
    "start_time": "2022-10-01T15:29:52.865Z"
   },
   {
    "duration": 27,
    "start_time": "2022-10-01T15:29:53.058Z"
   },
   {
    "duration": 222,
    "start_time": "2022-10-01T15:29:53.087Z"
   },
   {
    "duration": 55,
    "start_time": "2022-10-01T15:30:22.826Z"
   },
   {
    "duration": 41,
    "start_time": "2022-10-01T15:31:13.205Z"
   },
   {
    "duration": 1189,
    "start_time": "2022-10-01T15:31:34.401Z"
   },
   {
    "duration": 16,
    "start_time": "2022-10-01T15:31:35.593Z"
   },
   {
    "duration": 1926,
    "start_time": "2022-10-01T15:31:35.610Z"
   },
   {
    "duration": 4,
    "start_time": "2022-10-01T15:31:37.538Z"
   },
   {
    "duration": 11,
    "start_time": "2022-10-01T15:31:37.544Z"
   },
   {
    "duration": 5,
    "start_time": "2022-10-01T15:31:37.556Z"
   },
   {
    "duration": 11,
    "start_time": "2022-10-01T15:31:37.562Z"
   },
   {
    "duration": 4,
    "start_time": "2022-10-01T15:31:37.574Z"
   },
   {
    "duration": 247,
    "start_time": "2022-10-01T15:31:37.579Z"
   },
   {
    "duration": 15,
    "start_time": "2022-10-01T15:31:37.838Z"
   },
   {
    "duration": 12,
    "start_time": "2022-10-01T15:31:37.855Z"
   },
   {
    "duration": 6,
    "start_time": "2022-10-01T15:31:37.869Z"
   },
   {
    "duration": 5,
    "start_time": "2022-10-01T15:31:37.877Z"
   },
   {
    "duration": 5,
    "start_time": "2022-10-01T15:31:37.883Z"
   },
   {
    "duration": 5,
    "start_time": "2022-10-01T15:31:37.890Z"
   },
   {
    "duration": 281,
    "start_time": "2022-10-01T15:31:37.896Z"
   },
   {
    "duration": 17,
    "start_time": "2022-10-01T15:31:38.178Z"
   },
   {
    "duration": 3,
    "start_time": "2022-10-01T15:31:38.196Z"
   },
   {
    "duration": 39,
    "start_time": "2022-10-01T15:31:38.200Z"
   },
   {
    "duration": 18,
    "start_time": "2022-10-01T15:31:38.240Z"
   },
   {
    "duration": 47,
    "start_time": "2022-10-01T15:31:38.260Z"
   },
   {
    "duration": 9,
    "start_time": "2022-10-01T15:31:38.309Z"
   },
   {
    "duration": 297,
    "start_time": "2022-10-01T15:31:38.344Z"
   },
   {
    "duration": 277,
    "start_time": "2022-10-01T15:31:38.644Z"
   },
   {
    "duration": 47,
    "start_time": "2022-10-01T15:31:38.922Z"
   },
   {
    "duration": 8,
    "start_time": "2022-10-01T15:31:38.970Z"
   },
   {
    "duration": 7,
    "start_time": "2022-10-01T15:31:38.979Z"
   },
   {
    "duration": 5,
    "start_time": "2022-10-01T15:31:38.990Z"
   },
   {
    "duration": 1041,
    "start_time": "2022-10-01T15:31:38.997Z"
   },
   {
    "duration": 0,
    "start_time": "2022-10-01T15:31:40.040Z"
   },
   {
    "duration": 0,
    "start_time": "2022-10-01T15:31:40.042Z"
   },
   {
    "duration": 0,
    "start_time": "2022-10-01T15:31:40.043Z"
   },
   {
    "duration": 1,
    "start_time": "2022-10-01T15:31:40.043Z"
   },
   {
    "duration": 0,
    "start_time": "2022-10-01T15:31:40.045Z"
   },
   {
    "duration": 0,
    "start_time": "2022-10-01T15:31:40.046Z"
   },
   {
    "duration": 0,
    "start_time": "2022-10-01T15:31:40.047Z"
   },
   {
    "duration": 0,
    "start_time": "2022-10-01T15:31:40.049Z"
   },
   {
    "duration": 0,
    "start_time": "2022-10-01T15:31:40.050Z"
   },
   {
    "duration": 0,
    "start_time": "2022-10-01T15:31:40.051Z"
   },
   {
    "duration": 0,
    "start_time": "2022-10-01T15:31:40.053Z"
   },
   {
    "duration": 0,
    "start_time": "2022-10-01T15:31:40.054Z"
   },
   {
    "duration": 0,
    "start_time": "2022-10-01T15:31:40.055Z"
   },
   {
    "duration": 0,
    "start_time": "2022-10-01T15:31:40.056Z"
   },
   {
    "duration": 0,
    "start_time": "2022-10-01T15:31:40.057Z"
   },
   {
    "duration": 0,
    "start_time": "2022-10-01T15:31:40.059Z"
   },
   {
    "duration": 0,
    "start_time": "2022-10-01T15:31:40.060Z"
   },
   {
    "duration": 0,
    "start_time": "2022-10-01T15:31:40.062Z"
   },
   {
    "duration": 0,
    "start_time": "2022-10-01T15:31:40.063Z"
   },
   {
    "duration": 0,
    "start_time": "2022-10-01T15:31:40.064Z"
   },
   {
    "duration": 0,
    "start_time": "2022-10-01T15:31:40.065Z"
   },
   {
    "duration": 0,
    "start_time": "2022-10-01T15:31:40.066Z"
   },
   {
    "duration": 0,
    "start_time": "2022-10-01T15:31:40.067Z"
   },
   {
    "duration": 0,
    "start_time": "2022-10-01T15:31:40.068Z"
   },
   {
    "duration": 0,
    "start_time": "2022-10-01T15:31:40.069Z"
   },
   {
    "duration": 0,
    "start_time": "2022-10-01T15:31:40.070Z"
   },
   {
    "duration": 0,
    "start_time": "2022-10-01T15:31:40.071Z"
   },
   {
    "duration": 0,
    "start_time": "2022-10-01T15:31:40.072Z"
   },
   {
    "duration": 0,
    "start_time": "2022-10-01T15:31:40.072Z"
   },
   {
    "duration": 0,
    "start_time": "2022-10-01T15:31:40.073Z"
   },
   {
    "duration": 0,
    "start_time": "2022-10-01T15:31:40.074Z"
   },
   {
    "duration": 0,
    "start_time": "2022-10-01T15:31:40.076Z"
   },
   {
    "duration": 0,
    "start_time": "2022-10-01T15:31:40.139Z"
   },
   {
    "duration": 0,
    "start_time": "2022-10-01T15:31:40.140Z"
   },
   {
    "duration": 0,
    "start_time": "2022-10-01T15:31:40.141Z"
   },
   {
    "duration": 0,
    "start_time": "2022-10-01T15:31:40.143Z"
   },
   {
    "duration": 0,
    "start_time": "2022-10-01T15:31:40.144Z"
   },
   {
    "duration": 0,
    "start_time": "2022-10-01T15:31:40.145Z"
   },
   {
    "duration": 41,
    "start_time": "2022-10-01T15:33:11.740Z"
   },
   {
    "duration": 36,
    "start_time": "2022-10-01T15:33:21.955Z"
   },
   {
    "duration": 37,
    "start_time": "2022-10-01T15:33:44.224Z"
   },
   {
    "duration": 1220,
    "start_time": "2022-10-01T15:33:50.951Z"
   },
   {
    "duration": 15,
    "start_time": "2022-10-01T15:33:52.173Z"
   },
   {
    "duration": 1865,
    "start_time": "2022-10-01T15:33:52.190Z"
   },
   {
    "duration": 4,
    "start_time": "2022-10-01T15:33:54.058Z"
   },
   {
    "duration": 9,
    "start_time": "2022-10-01T15:33:54.064Z"
   },
   {
    "duration": 9,
    "start_time": "2022-10-01T15:33:54.074Z"
   },
   {
    "duration": 11,
    "start_time": "2022-10-01T15:33:54.084Z"
   },
   {
    "duration": 4,
    "start_time": "2022-10-01T15:33:54.097Z"
   },
   {
    "duration": 230,
    "start_time": "2022-10-01T15:33:54.102Z"
   },
   {
    "duration": 11,
    "start_time": "2022-10-01T15:33:54.339Z"
   },
   {
    "duration": 9,
    "start_time": "2022-10-01T15:33:54.352Z"
   },
   {
    "duration": 6,
    "start_time": "2022-10-01T15:33:54.363Z"
   },
   {
    "duration": 16,
    "start_time": "2022-10-01T15:33:54.370Z"
   },
   {
    "duration": 6,
    "start_time": "2022-10-01T15:33:54.388Z"
   },
   {
    "duration": 8,
    "start_time": "2022-10-01T15:33:54.396Z"
   },
   {
    "duration": 311,
    "start_time": "2022-10-01T15:33:54.406Z"
   },
   {
    "duration": 20,
    "start_time": "2022-10-01T15:33:54.719Z"
   },
   {
    "duration": 3,
    "start_time": "2022-10-01T15:33:54.740Z"
   },
   {
    "duration": 21,
    "start_time": "2022-10-01T15:33:54.744Z"
   },
   {
    "duration": 18,
    "start_time": "2022-10-01T15:33:54.766Z"
   },
   {
    "duration": 71,
    "start_time": "2022-10-01T15:33:54.785Z"
   },
   {
    "duration": 8,
    "start_time": "2022-10-01T15:33:54.857Z"
   },
   {
    "duration": 289,
    "start_time": "2022-10-01T15:33:54.866Z"
   },
   {
    "duration": 287,
    "start_time": "2022-10-01T15:33:55.156Z"
   },
   {
    "duration": 46,
    "start_time": "2022-10-01T15:33:55.444Z"
   },
   {
    "duration": 13,
    "start_time": "2022-10-01T15:33:55.491Z"
   },
   {
    "duration": 4,
    "start_time": "2022-10-01T15:33:55.506Z"
   },
   {
    "duration": 36,
    "start_time": "2022-10-01T15:33:55.513Z"
   },
   {
    "duration": 414,
    "start_time": "2022-10-01T15:33:55.550Z"
   },
   {
    "duration": 4,
    "start_time": "2022-10-01T15:33:55.965Z"
   },
   {
    "duration": 8,
    "start_time": "2022-10-01T15:33:55.970Z"
   },
   {
    "duration": 365,
    "start_time": "2022-10-01T15:33:55.979Z"
   },
   {
    "duration": 17,
    "start_time": "2022-10-01T15:33:56.347Z"
   },
   {
    "duration": 11,
    "start_time": "2022-10-01T15:33:56.365Z"
   },
   {
    "duration": 4,
    "start_time": "2022-10-01T15:33:56.377Z"
   },
   {
    "duration": 244,
    "start_time": "2022-10-01T15:33:56.383Z"
   },
   {
    "duration": 161,
    "start_time": "2022-10-01T15:33:56.628Z"
   },
   {
    "duration": 3,
    "start_time": "2022-10-01T15:33:56.791Z"
   },
   {
    "duration": 135,
    "start_time": "2022-10-01T15:33:56.796Z"
   },
   {
    "duration": 141,
    "start_time": "2022-10-01T15:33:56.933Z"
   },
   {
    "duration": 222,
    "start_time": "2022-10-01T15:33:57.075Z"
   },
   {
    "duration": 213,
    "start_time": "2022-10-01T15:33:57.300Z"
   },
   {
    "duration": 147,
    "start_time": "2022-10-01T15:33:57.516Z"
   },
   {
    "duration": 121,
    "start_time": "2022-10-01T15:33:57.665Z"
   },
   {
    "duration": 121,
    "start_time": "2022-10-01T15:33:57.788Z"
   },
   {
    "duration": 141,
    "start_time": "2022-10-01T15:33:57.911Z"
   },
   {
    "duration": 154,
    "start_time": "2022-10-01T15:33:58.054Z"
   },
   {
    "duration": 136,
    "start_time": "2022-10-01T15:33:58.209Z"
   },
   {
    "duration": 131,
    "start_time": "2022-10-01T15:33:58.347Z"
   },
   {
    "duration": 162,
    "start_time": "2022-10-01T15:33:58.480Z"
   },
   {
    "duration": 22,
    "start_time": "2022-10-01T15:33:58.644Z"
   },
   {
    "duration": 189,
    "start_time": "2022-10-01T15:33:58.668Z"
   },
   {
    "duration": 209,
    "start_time": "2022-10-01T15:33:58.859Z"
   },
   {
    "duration": 15,
    "start_time": "2022-10-01T15:33:59.070Z"
   },
   {
    "duration": 234,
    "start_time": "2022-10-01T15:33:59.086Z"
   },
   {
    "duration": 218,
    "start_time": "2022-10-01T15:33:59.322Z"
   },
   {
    "duration": 188,
    "start_time": "2022-10-01T15:33:59.542Z"
   },
   {
    "duration": 159,
    "start_time": "2022-10-01T15:33:59.738Z"
   },
   {
    "duration": 229,
    "start_time": "2022-10-01T15:33:59.899Z"
   },
   {
    "duration": 125,
    "start_time": "2022-10-01T15:34:00.130Z"
   },
   {
    "duration": 181,
    "start_time": "2022-10-01T15:34:00.257Z"
   },
   {
    "duration": 173,
    "start_time": "2022-10-01T15:34:00.441Z"
   },
   {
    "duration": 152,
    "start_time": "2022-10-01T15:34:00.615Z"
   },
   {
    "duration": 22,
    "start_time": "2022-10-01T15:34:00.769Z"
   },
   {
    "duration": 162,
    "start_time": "2022-10-01T15:34:00.792Z"
   },
   {
    "duration": 23,
    "start_time": "2022-10-01T15:34:00.956Z"
   },
   {
    "duration": 177,
    "start_time": "2022-10-01T15:34:00.981Z"
   },
   {
    "duration": 48,
    "start_time": "2022-10-01T15:34:41.633Z"
   },
   {
    "duration": 101,
    "start_time": "2022-10-01T15:35:15.597Z"
   },
   {
    "duration": 58,
    "start_time": "2022-10-01T15:35:58.148Z"
   },
   {
    "duration": 11,
    "start_time": "2022-10-01T15:36:15.980Z"
   },
   {
    "duration": 11,
    "start_time": "2022-10-01T15:36:26.804Z"
   },
   {
    "duration": 10,
    "start_time": "2022-10-01T15:36:33.830Z"
   },
   {
    "duration": 1176,
    "start_time": "2022-10-01T15:36:42.557Z"
   },
   {
    "duration": 17,
    "start_time": "2022-10-01T15:36:43.739Z"
   },
   {
    "duration": 1779,
    "start_time": "2022-10-01T15:36:43.757Z"
   },
   {
    "duration": 5,
    "start_time": "2022-10-01T15:36:45.538Z"
   },
   {
    "duration": 8,
    "start_time": "2022-10-01T15:36:45.546Z"
   },
   {
    "duration": 4,
    "start_time": "2022-10-01T15:36:45.556Z"
   },
   {
    "duration": 13,
    "start_time": "2022-10-01T15:36:45.562Z"
   },
   {
    "duration": 5,
    "start_time": "2022-10-01T15:36:45.576Z"
   },
   {
    "duration": 239,
    "start_time": "2022-10-01T15:36:45.582Z"
   },
   {
    "duration": 20,
    "start_time": "2022-10-01T15:36:45.823Z"
   },
   {
    "duration": 10,
    "start_time": "2022-10-01T15:36:45.845Z"
   },
   {
    "duration": 7,
    "start_time": "2022-10-01T15:36:45.857Z"
   },
   {
    "duration": 6,
    "start_time": "2022-10-01T15:36:45.866Z"
   },
   {
    "duration": 5,
    "start_time": "2022-10-01T15:36:45.875Z"
   },
   {
    "duration": 6,
    "start_time": "2022-10-01T15:36:45.882Z"
   },
   {
    "duration": 290,
    "start_time": "2022-10-01T15:36:45.889Z"
   },
   {
    "duration": 17,
    "start_time": "2022-10-01T15:36:46.181Z"
   },
   {
    "duration": 2,
    "start_time": "2022-10-01T15:36:46.200Z"
   },
   {
    "duration": 37,
    "start_time": "2022-10-01T15:36:46.203Z"
   },
   {
    "duration": 18,
    "start_time": "2022-10-01T15:36:46.242Z"
   },
   {
    "duration": 46,
    "start_time": "2022-10-01T15:36:46.261Z"
   },
   {
    "duration": 30,
    "start_time": "2022-10-01T15:36:46.309Z"
   },
   {
    "duration": 274,
    "start_time": "2022-10-01T15:36:46.341Z"
   },
   {
    "duration": 286,
    "start_time": "2022-10-01T15:36:46.616Z"
   },
   {
    "duration": 53,
    "start_time": "2022-10-01T15:36:46.904Z"
   },
   {
    "duration": 13,
    "start_time": "2022-10-01T15:36:46.959Z"
   },
   {
    "duration": 4,
    "start_time": "2022-10-01T15:36:46.974Z"
   },
   {
    "duration": 15,
    "start_time": "2022-10-01T15:36:46.979Z"
   },
   {
    "duration": 486,
    "start_time": "2022-10-01T15:36:46.995Z"
   },
   {
    "duration": 5,
    "start_time": "2022-10-01T15:36:47.483Z"
   },
   {
    "duration": 8,
    "start_time": "2022-10-01T15:36:47.489Z"
   },
   {
    "duration": 343,
    "start_time": "2022-10-01T15:36:47.498Z"
   },
   {
    "duration": 13,
    "start_time": "2022-10-01T15:36:47.843Z"
   },
   {
    "duration": 10,
    "start_time": "2022-10-01T15:36:47.857Z"
   },
   {
    "duration": 3,
    "start_time": "2022-10-01T15:36:47.868Z"
   },
   {
    "duration": 247,
    "start_time": "2022-10-01T15:36:47.873Z"
   },
   {
    "duration": 160,
    "start_time": "2022-10-01T15:36:48.122Z"
   },
   {
    "duration": 4,
    "start_time": "2022-10-01T15:36:48.283Z"
   },
   {
    "duration": 131,
    "start_time": "2022-10-01T15:36:48.288Z"
   },
   {
    "duration": 140,
    "start_time": "2022-10-01T15:36:48.421Z"
   },
   {
    "duration": 221,
    "start_time": "2022-10-01T15:36:48.566Z"
   },
   {
    "duration": 135,
    "start_time": "2022-10-01T15:36:48.789Z"
   },
   {
    "duration": 144,
    "start_time": "2022-10-01T15:36:48.925Z"
   },
   {
    "duration": 116,
    "start_time": "2022-10-01T15:36:49.070Z"
   },
   {
    "duration": 128,
    "start_time": "2022-10-01T15:36:49.188Z"
   },
   {
    "duration": 132,
    "start_time": "2022-10-01T15:36:49.317Z"
   },
   {
    "duration": 168,
    "start_time": "2022-10-01T15:36:49.450Z"
   },
   {
    "duration": 127,
    "start_time": "2022-10-01T15:36:49.619Z"
   },
   {
    "duration": 131,
    "start_time": "2022-10-01T15:36:49.747Z"
   },
   {
    "duration": 129,
    "start_time": "2022-10-01T15:36:49.879Z"
   },
   {
    "duration": 29,
    "start_time": "2022-10-01T15:36:50.009Z"
   },
   {
    "duration": 179,
    "start_time": "2022-10-01T15:36:50.040Z"
   },
   {
    "duration": 192,
    "start_time": "2022-10-01T15:36:50.221Z"
   },
   {
    "duration": 14,
    "start_time": "2022-10-01T15:36:50.415Z"
   },
   {
    "duration": 213,
    "start_time": "2022-10-01T15:36:50.439Z"
   },
   {
    "duration": 219,
    "start_time": "2022-10-01T15:36:50.653Z"
   },
   {
    "duration": 183,
    "start_time": "2022-10-01T15:36:50.874Z"
   },
   {
    "duration": 140,
    "start_time": "2022-10-01T15:36:51.059Z"
   },
   {
    "duration": 228,
    "start_time": "2022-10-01T15:36:51.201Z"
   },
   {
    "duration": 122,
    "start_time": "2022-10-01T15:36:51.431Z"
   },
   {
    "duration": 177,
    "start_time": "2022-10-01T15:36:51.554Z"
   },
   {
    "duration": 182,
    "start_time": "2022-10-01T15:36:51.733Z"
   },
   {
    "duration": 164,
    "start_time": "2022-10-01T15:36:51.917Z"
   },
   {
    "duration": 23,
    "start_time": "2022-10-01T15:36:52.083Z"
   },
   {
    "duration": 170,
    "start_time": "2022-10-01T15:36:52.107Z"
   },
   {
    "duration": 25,
    "start_time": "2022-10-01T15:36:52.279Z"
   },
   {
    "duration": 182,
    "start_time": "2022-10-01T15:36:52.305Z"
   },
   {
    "duration": 54,
    "start_time": "2022-10-01T15:37:19.244Z"
   },
   {
    "duration": 61,
    "start_time": "2022-10-01T15:43:58.451Z"
   },
   {
    "duration": 1293,
    "start_time": "2022-10-01T15:44:26.528Z"
   },
   {
    "duration": 19,
    "start_time": "2022-10-01T15:44:27.823Z"
   },
   {
    "duration": 1820,
    "start_time": "2022-10-01T15:44:27.843Z"
   },
   {
    "duration": 4,
    "start_time": "2022-10-01T15:44:29.665Z"
   },
   {
    "duration": 9,
    "start_time": "2022-10-01T15:44:29.671Z"
   },
   {
    "duration": 4,
    "start_time": "2022-10-01T15:44:29.681Z"
   },
   {
    "duration": 10,
    "start_time": "2022-10-01T15:44:29.686Z"
   },
   {
    "duration": 4,
    "start_time": "2022-10-01T15:44:29.697Z"
   },
   {
    "duration": 226,
    "start_time": "2022-10-01T15:44:29.702Z"
   },
   {
    "duration": 15,
    "start_time": "2022-10-01T15:44:29.929Z"
   },
   {
    "duration": 9,
    "start_time": "2022-10-01T15:44:29.945Z"
   },
   {
    "duration": 6,
    "start_time": "2022-10-01T15:44:29.956Z"
   },
   {
    "duration": 6,
    "start_time": "2022-10-01T15:44:29.963Z"
   },
   {
    "duration": 5,
    "start_time": "2022-10-01T15:44:29.972Z"
   },
   {
    "duration": 6,
    "start_time": "2022-10-01T15:44:29.978Z"
   },
   {
    "duration": 278,
    "start_time": "2022-10-01T15:44:29.986Z"
   },
   {
    "duration": 17,
    "start_time": "2022-10-01T15:44:30.265Z"
   },
   {
    "duration": 6,
    "start_time": "2022-10-01T15:44:30.284Z"
   },
   {
    "duration": 27,
    "start_time": "2022-10-01T15:44:30.291Z"
   },
   {
    "duration": 29,
    "start_time": "2022-10-01T15:44:30.319Z"
   },
   {
    "duration": 46,
    "start_time": "2022-10-01T15:44:30.350Z"
   },
   {
    "duration": 8,
    "start_time": "2022-10-01T15:44:30.397Z"
   },
   {
    "duration": 302,
    "start_time": "2022-10-01T15:44:30.407Z"
   },
   {
    "duration": 290,
    "start_time": "2022-10-01T15:44:30.711Z"
   },
   {
    "duration": 71,
    "start_time": "2022-10-01T15:44:31.003Z"
   },
   {
    "duration": 16,
    "start_time": "2022-10-01T15:44:31.076Z"
   },
   {
    "duration": 8,
    "start_time": "2022-10-01T15:44:31.093Z"
   },
   {
    "duration": 17,
    "start_time": "2022-10-01T15:44:31.102Z"
   },
   {
    "duration": 454,
    "start_time": "2022-10-01T15:44:31.122Z"
   },
   {
    "duration": 6,
    "start_time": "2022-10-01T15:44:31.578Z"
   },
   {
    "duration": 11,
    "start_time": "2022-10-01T15:44:31.585Z"
   },
   {
    "duration": 396,
    "start_time": "2022-10-01T15:44:31.598Z"
   },
   {
    "duration": 15,
    "start_time": "2022-10-01T15:44:31.996Z"
   },
   {
    "duration": 32,
    "start_time": "2022-10-01T15:44:32.013Z"
   },
   {
    "duration": 4,
    "start_time": "2022-10-01T15:44:32.047Z"
   },
   {
    "duration": 255,
    "start_time": "2022-10-01T15:44:32.053Z"
   },
   {
    "duration": 198,
    "start_time": "2022-10-01T15:44:32.310Z"
   },
   {
    "duration": 4,
    "start_time": "2022-10-01T15:44:32.510Z"
   },
   {
    "duration": 148,
    "start_time": "2022-10-01T15:44:32.516Z"
   },
   {
    "duration": 151,
    "start_time": "2022-10-01T15:44:32.666Z"
   },
   {
    "duration": 217,
    "start_time": "2022-10-01T15:44:32.823Z"
   },
   {
    "duration": 157,
    "start_time": "2022-10-01T15:44:33.041Z"
   },
   {
    "duration": 169,
    "start_time": "2022-10-01T15:44:33.200Z"
   },
   {
    "duration": 129,
    "start_time": "2022-10-01T15:44:33.371Z"
   },
   {
    "duration": 137,
    "start_time": "2022-10-01T15:44:33.502Z"
   },
   {
    "duration": 197,
    "start_time": "2022-10-01T15:44:33.641Z"
   },
   {
    "duration": 182,
    "start_time": "2022-10-01T15:44:33.840Z"
   },
   {
    "duration": 137,
    "start_time": "2022-10-01T15:44:34.024Z"
   },
   {
    "duration": 143,
    "start_time": "2022-10-01T15:44:34.163Z"
   },
   {
    "duration": 160,
    "start_time": "2022-10-01T15:44:34.308Z"
   },
   {
    "duration": 24,
    "start_time": "2022-10-01T15:44:34.470Z"
   },
   {
    "duration": 194,
    "start_time": "2022-10-01T15:44:34.496Z"
   },
   {
    "duration": 216,
    "start_time": "2022-10-01T15:44:34.691Z"
   },
   {
    "duration": 14,
    "start_time": "2022-10-01T15:44:34.909Z"
   },
   {
    "duration": 263,
    "start_time": "2022-10-01T15:44:34.925Z"
   },
   {
    "duration": 227,
    "start_time": "2022-10-01T15:44:35.189Z"
   },
   {
    "duration": 233,
    "start_time": "2022-10-01T15:44:35.418Z"
   },
   {
    "duration": 168,
    "start_time": "2022-10-01T15:44:35.653Z"
   },
   {
    "duration": 270,
    "start_time": "2022-10-01T15:44:35.823Z"
   },
   {
    "duration": 143,
    "start_time": "2022-10-01T15:44:36.095Z"
   },
   {
    "duration": 200,
    "start_time": "2022-10-01T15:44:36.240Z"
   },
   {
    "duration": 236,
    "start_time": "2022-10-01T15:44:36.442Z"
   },
   {
    "duration": 178,
    "start_time": "2022-10-01T15:44:36.680Z"
   },
   {
    "duration": 25,
    "start_time": "2022-10-01T15:44:36.859Z"
   },
   {
    "duration": 184,
    "start_time": "2022-10-01T15:44:36.885Z"
   },
   {
    "duration": 26,
    "start_time": "2022-10-01T15:44:37.070Z"
   },
   {
    "duration": 253,
    "start_time": "2022-10-01T15:44:37.098Z"
   },
   {
    "duration": 53,
    "start_time": "2022-10-01T15:45:37.805Z"
   },
   {
    "duration": 59,
    "start_time": "2022-10-01T15:45:59.358Z"
   },
   {
    "duration": 57,
    "start_time": "2022-10-01T15:46:10.422Z"
   },
   {
    "duration": 48,
    "start_time": "2022-10-01T15:46:44.895Z"
   },
   {
    "duration": 1289,
    "start_time": "2022-10-01T15:46:57.751Z"
   },
   {
    "duration": 16,
    "start_time": "2022-10-01T15:46:59.041Z"
   },
   {
    "duration": 1780,
    "start_time": "2022-10-01T15:46:59.059Z"
   },
   {
    "duration": 5,
    "start_time": "2022-10-01T15:47:00.841Z"
   },
   {
    "duration": 14,
    "start_time": "2022-10-01T15:47:00.849Z"
   },
   {
    "duration": 17,
    "start_time": "2022-10-01T15:47:00.865Z"
   },
   {
    "duration": 16,
    "start_time": "2022-10-01T15:47:00.884Z"
   },
   {
    "duration": 16,
    "start_time": "2022-10-01T15:47:00.902Z"
   },
   {
    "duration": 233,
    "start_time": "2022-10-01T15:47:00.919Z"
   },
   {
    "duration": 12,
    "start_time": "2022-10-01T15:47:01.154Z"
   },
   {
    "duration": 10,
    "start_time": "2022-10-01T15:47:01.168Z"
   },
   {
    "duration": 23,
    "start_time": "2022-10-01T15:47:01.180Z"
   },
   {
    "duration": 8,
    "start_time": "2022-10-01T15:47:01.205Z"
   },
   {
    "duration": 22,
    "start_time": "2022-10-01T15:47:01.217Z"
   },
   {
    "duration": 11,
    "start_time": "2022-10-01T15:47:01.241Z"
   },
   {
    "duration": 249,
    "start_time": "2022-10-01T15:47:01.254Z"
   },
   {
    "duration": 18,
    "start_time": "2022-10-01T15:47:01.505Z"
   },
   {
    "duration": 14,
    "start_time": "2022-10-01T15:47:01.524Z"
   },
   {
    "duration": 21,
    "start_time": "2022-10-01T15:47:01.540Z"
   },
   {
    "duration": 18,
    "start_time": "2022-10-01T15:47:01.562Z"
   },
   {
    "duration": 73,
    "start_time": "2022-10-01T15:47:01.582Z"
   },
   {
    "duration": 8,
    "start_time": "2022-10-01T15:47:01.657Z"
   },
   {
    "duration": 280,
    "start_time": "2022-10-01T15:47:01.667Z"
   },
   {
    "duration": 262,
    "start_time": "2022-10-01T15:47:01.949Z"
   },
   {
    "duration": 54,
    "start_time": "2022-10-01T15:47:02.212Z"
   },
   {
    "duration": 14,
    "start_time": "2022-10-01T15:47:02.267Z"
   },
   {
    "duration": 16,
    "start_time": "2022-10-01T15:47:02.282Z"
   },
   {
    "duration": 17,
    "start_time": "2022-10-01T15:47:02.300Z"
   },
   {
    "duration": 419,
    "start_time": "2022-10-01T15:47:02.319Z"
   },
   {
    "duration": 5,
    "start_time": "2022-10-01T15:47:02.739Z"
   },
   {
    "duration": 9,
    "start_time": "2022-10-01T15:47:02.745Z"
   },
   {
    "duration": 326,
    "start_time": "2022-10-01T15:47:02.756Z"
   },
   {
    "duration": 13,
    "start_time": "2022-10-01T15:47:03.084Z"
   },
   {
    "duration": 12,
    "start_time": "2022-10-01T15:47:03.099Z"
   },
   {
    "duration": 3,
    "start_time": "2022-10-01T15:47:03.113Z"
   },
   {
    "duration": 235,
    "start_time": "2022-10-01T15:47:03.117Z"
   },
   {
    "duration": 190,
    "start_time": "2022-10-01T15:47:03.354Z"
   },
   {
    "duration": 4,
    "start_time": "2022-10-01T15:47:03.545Z"
   },
   {
    "duration": 139,
    "start_time": "2022-10-01T15:47:03.551Z"
   },
   {
    "duration": 158,
    "start_time": "2022-10-01T15:47:03.692Z"
   },
   {
    "duration": 244,
    "start_time": "2022-10-01T15:47:03.855Z"
   },
   {
    "duration": 164,
    "start_time": "2022-10-01T15:47:04.100Z"
   },
   {
    "duration": 150,
    "start_time": "2022-10-01T15:47:04.266Z"
   },
   {
    "duration": 109,
    "start_time": "2022-10-01T15:47:04.417Z"
   },
   {
    "duration": 127,
    "start_time": "2022-10-01T15:47:04.539Z"
   },
   {
    "duration": 150,
    "start_time": "2022-10-01T15:47:04.668Z"
   },
   {
    "duration": 147,
    "start_time": "2022-10-01T15:47:04.820Z"
   },
   {
    "duration": 129,
    "start_time": "2022-10-01T15:47:04.969Z"
   },
   {
    "duration": 119,
    "start_time": "2022-10-01T15:47:05.100Z"
   },
   {
    "duration": 134,
    "start_time": "2022-10-01T15:47:05.221Z"
   },
   {
    "duration": 17,
    "start_time": "2022-10-01T15:47:05.357Z"
   },
   {
    "duration": 181,
    "start_time": "2022-10-01T15:47:05.375Z"
   },
   {
    "duration": 198,
    "start_time": "2022-10-01T15:47:05.557Z"
   },
   {
    "duration": 14,
    "start_time": "2022-10-01T15:47:05.757Z"
   },
   {
    "duration": 232,
    "start_time": "2022-10-01T15:47:05.772Z"
   },
   {
    "duration": 225,
    "start_time": "2022-10-01T15:47:06.006Z"
   },
   {
    "duration": 208,
    "start_time": "2022-10-01T15:47:06.233Z"
   },
   {
    "duration": 206,
    "start_time": "2022-10-01T15:47:06.443Z"
   },
   {
    "duration": 615,
    "start_time": "2022-10-01T15:47:06.651Z"
   },
   {
    "duration": 300,
    "start_time": "2022-10-01T15:47:07.268Z"
   },
   {
    "duration": 392,
    "start_time": "2022-10-01T15:47:07.570Z"
   },
   {
    "duration": 390,
    "start_time": "2022-10-01T15:47:07.964Z"
   },
   {
    "duration": 236,
    "start_time": "2022-10-01T15:47:08.356Z"
   },
   {
    "duration": 30,
    "start_time": "2022-10-01T15:47:08.594Z"
   },
   {
    "duration": 159,
    "start_time": "2022-10-01T15:47:08.626Z"
   },
   {
    "duration": 24,
    "start_time": "2022-10-01T15:47:08.786Z"
   },
   {
    "duration": 177,
    "start_time": "2022-10-01T15:47:08.811Z"
   },
   {
    "duration": 95,
    "start_time": "2022-10-01T15:49:32.404Z"
   },
   {
    "duration": 15,
    "start_time": "2022-10-01T15:50:34.003Z"
   },
   {
    "duration": 12,
    "start_time": "2022-10-01T15:52:41.954Z"
   },
   {
    "duration": 11,
    "start_time": "2022-10-01T15:56:17.136Z"
   },
   {
    "duration": 10,
    "start_time": "2022-10-01T15:56:30.161Z"
   },
   {
    "duration": 10,
    "start_time": "2022-10-01T15:56:51.241Z"
   },
   {
    "duration": 51,
    "start_time": "2022-10-01T15:58:49.256Z"
   },
   {
    "duration": 1171,
    "start_time": "2022-10-01T15:59:28.359Z"
   },
   {
    "duration": 15,
    "start_time": "2022-10-01T15:59:29.531Z"
   },
   {
    "duration": 1809,
    "start_time": "2022-10-01T15:59:29.547Z"
   },
   {
    "duration": 3,
    "start_time": "2022-10-01T15:59:31.358Z"
   },
   {
    "duration": 15,
    "start_time": "2022-10-01T15:59:31.363Z"
   },
   {
    "duration": 10,
    "start_time": "2022-10-01T15:59:31.379Z"
   },
   {
    "duration": 11,
    "start_time": "2022-10-01T15:59:31.391Z"
   },
   {
    "duration": 4,
    "start_time": "2022-10-01T15:59:31.403Z"
   },
   {
    "duration": 223,
    "start_time": "2022-10-01T15:59:31.408Z"
   },
   {
    "duration": 14,
    "start_time": "2022-10-01T15:59:31.633Z"
   },
   {
    "duration": 10,
    "start_time": "2022-10-01T15:59:31.648Z"
   },
   {
    "duration": 6,
    "start_time": "2022-10-01T15:59:31.659Z"
   },
   {
    "duration": 10,
    "start_time": "2022-10-01T15:59:31.666Z"
   },
   {
    "duration": 17,
    "start_time": "2022-10-01T15:59:31.678Z"
   },
   {
    "duration": 6,
    "start_time": "2022-10-01T15:59:31.697Z"
   },
   {
    "duration": 273,
    "start_time": "2022-10-01T15:59:31.704Z"
   },
   {
    "duration": 16,
    "start_time": "2022-10-01T15:59:31.978Z"
   },
   {
    "duration": 2,
    "start_time": "2022-10-01T15:59:31.995Z"
   },
   {
    "duration": 19,
    "start_time": "2022-10-01T15:59:31.999Z"
   },
   {
    "duration": 17,
    "start_time": "2022-10-01T15:59:32.038Z"
   },
   {
    "duration": 45,
    "start_time": "2022-10-01T15:59:32.057Z"
   },
   {
    "duration": 7,
    "start_time": "2022-10-01T15:59:32.103Z"
   },
   {
    "duration": 294,
    "start_time": "2022-10-01T15:59:32.112Z"
   },
   {
    "duration": 271,
    "start_time": "2022-10-01T15:59:32.408Z"
   },
   {
    "duration": 40,
    "start_time": "2022-10-01T15:59:32.681Z"
   },
   {
    "duration": 25,
    "start_time": "2022-10-01T15:59:32.723Z"
   },
   {
    "duration": 4,
    "start_time": "2022-10-01T15:59:32.749Z"
   },
   {
    "duration": 10,
    "start_time": "2022-10-01T15:59:32.757Z"
   },
   {
    "duration": 399,
    "start_time": "2022-10-01T15:59:32.769Z"
   },
   {
    "duration": 4,
    "start_time": "2022-10-01T15:59:33.169Z"
   },
   {
    "duration": 17,
    "start_time": "2022-10-01T15:59:33.175Z"
   },
   {
    "duration": 325,
    "start_time": "2022-10-01T15:59:33.194Z"
   },
   {
    "duration": 21,
    "start_time": "2022-10-01T15:59:33.521Z"
   },
   {
    "duration": 9,
    "start_time": "2022-10-01T15:59:33.543Z"
   },
   {
    "duration": 3,
    "start_time": "2022-10-01T15:59:33.554Z"
   },
   {
    "duration": 225,
    "start_time": "2022-10-01T15:59:33.558Z"
   },
   {
    "duration": 151,
    "start_time": "2022-10-01T15:59:33.784Z"
   },
   {
    "duration": 3,
    "start_time": "2022-10-01T15:59:33.939Z"
   },
   {
    "duration": 135,
    "start_time": "2022-10-01T15:59:33.944Z"
   },
   {
    "duration": 123,
    "start_time": "2022-10-01T15:59:34.080Z"
   },
   {
    "duration": 197,
    "start_time": "2022-10-01T15:59:34.205Z"
   },
   {
    "duration": 137,
    "start_time": "2022-10-01T15:59:34.403Z"
   },
   {
    "duration": 138,
    "start_time": "2022-10-01T15:59:34.541Z"
   },
   {
    "duration": 118,
    "start_time": "2022-10-01T15:59:34.680Z"
   },
   {
    "duration": 118,
    "start_time": "2022-10-01T15:59:34.800Z"
   },
   {
    "duration": 136,
    "start_time": "2022-10-01T15:59:34.920Z"
   },
   {
    "duration": 150,
    "start_time": "2022-10-01T15:59:35.058Z"
   },
   {
    "duration": 121,
    "start_time": "2022-10-01T15:59:35.210Z"
   },
   {
    "duration": 120,
    "start_time": "2022-10-01T15:59:35.338Z"
   },
   {
    "duration": 137,
    "start_time": "2022-10-01T15:59:35.459Z"
   },
   {
    "duration": 18,
    "start_time": "2022-10-01T15:59:35.597Z"
   },
   {
    "duration": 174,
    "start_time": "2022-10-01T15:59:35.617Z"
   },
   {
    "duration": 185,
    "start_time": "2022-10-01T15:59:35.792Z"
   },
   {
    "duration": 13,
    "start_time": "2022-10-01T15:59:35.979Z"
   },
   {
    "duration": 236,
    "start_time": "2022-10-01T15:59:35.993Z"
   },
   {
    "duration": 221,
    "start_time": "2022-10-01T15:59:36.238Z"
   },
   {
    "duration": 193,
    "start_time": "2022-10-01T15:59:36.461Z"
   },
   {
    "duration": 141,
    "start_time": "2022-10-01T15:59:36.655Z"
   },
   {
    "duration": 222,
    "start_time": "2022-10-01T15:59:36.798Z"
   },
   {
    "duration": 133,
    "start_time": "2022-10-01T15:59:37.022Z"
   },
   {
    "duration": 196,
    "start_time": "2022-10-01T15:59:37.157Z"
   },
   {
    "duration": 176,
    "start_time": "2022-10-01T15:59:37.355Z"
   },
   {
    "duration": 149,
    "start_time": "2022-10-01T15:59:37.533Z"
   },
   {
    "duration": 21,
    "start_time": "2022-10-01T15:59:37.684Z"
   },
   {
    "duration": 156,
    "start_time": "2022-10-01T15:59:37.707Z"
   },
   {
    "duration": 21,
    "start_time": "2022-10-01T15:59:37.864Z"
   },
   {
    "duration": 156,
    "start_time": "2022-10-01T15:59:37.887Z"
   },
   {
    "duration": 56,
    "start_time": "2022-10-01T16:00:39.507Z"
   },
   {
    "duration": 50,
    "start_time": "2022-10-01T16:00:46.611Z"
   },
   {
    "duration": 65,
    "start_time": "2022-10-01T16:01:17.436Z"
   },
   {
    "duration": 52,
    "start_time": "2022-10-01T16:01:22.112Z"
   },
   {
    "duration": 114,
    "start_time": "2022-10-01T16:02:14.780Z"
   },
   {
    "duration": 9,
    "start_time": "2022-10-01T16:02:48.315Z"
   },
   {
    "duration": 13,
    "start_time": "2022-10-01T16:04:07.854Z"
   },
   {
    "duration": 42,
    "start_time": "2022-10-01T16:07:04.975Z"
   },
   {
    "duration": 6,
    "start_time": "2022-10-01T16:07:37.872Z"
   },
   {
    "duration": 41,
    "start_time": "2022-10-01T16:07:51.217Z"
   },
   {
    "duration": 1154,
    "start_time": "2022-10-01T16:08:05.999Z"
   },
   {
    "duration": 17,
    "start_time": "2022-10-01T16:08:07.155Z"
   },
   {
    "duration": 1857,
    "start_time": "2022-10-01T16:08:07.174Z"
   },
   {
    "duration": 4,
    "start_time": "2022-10-01T16:08:09.034Z"
   },
   {
    "duration": 10,
    "start_time": "2022-10-01T16:08:09.040Z"
   },
   {
    "duration": 4,
    "start_time": "2022-10-01T16:08:09.051Z"
   },
   {
    "duration": 14,
    "start_time": "2022-10-01T16:08:09.056Z"
   },
   {
    "duration": 4,
    "start_time": "2022-10-01T16:08:09.071Z"
   },
   {
    "duration": 221,
    "start_time": "2022-10-01T16:08:09.076Z"
   },
   {
    "duration": 10,
    "start_time": "2022-10-01T16:08:09.300Z"
   },
   {
    "duration": 9,
    "start_time": "2022-10-01T16:08:09.311Z"
   },
   {
    "duration": 20,
    "start_time": "2022-10-01T16:08:09.322Z"
   },
   {
    "duration": 7,
    "start_time": "2022-10-01T16:08:09.343Z"
   },
   {
    "duration": 5,
    "start_time": "2022-10-01T16:08:09.352Z"
   },
   {
    "duration": 6,
    "start_time": "2022-10-01T16:08:09.358Z"
   },
   {
    "duration": 272,
    "start_time": "2022-10-01T16:08:09.366Z"
   },
   {
    "duration": 16,
    "start_time": "2022-10-01T16:08:09.640Z"
   },
   {
    "duration": 2,
    "start_time": "2022-10-01T16:08:09.658Z"
   },
   {
    "duration": 23,
    "start_time": "2022-10-01T16:08:09.661Z"
   },
   {
    "duration": 17,
    "start_time": "2022-10-01T16:08:09.686Z"
   },
   {
    "duration": 72,
    "start_time": "2022-10-01T16:08:09.705Z"
   },
   {
    "duration": 8,
    "start_time": "2022-10-01T16:08:09.778Z"
   },
   {
    "duration": 271,
    "start_time": "2022-10-01T16:08:09.787Z"
   },
   {
    "duration": 267,
    "start_time": "2022-10-01T16:08:10.059Z"
   },
   {
    "duration": 47,
    "start_time": "2022-10-01T16:08:10.328Z"
   },
   {
    "duration": 13,
    "start_time": "2022-10-01T16:08:10.376Z"
   },
   {
    "duration": 5,
    "start_time": "2022-10-01T16:08:10.390Z"
   },
   {
    "duration": 11,
    "start_time": "2022-10-01T16:08:10.399Z"
   },
   {
    "duration": 405,
    "start_time": "2022-10-01T16:08:10.411Z"
   },
   {
    "duration": 4,
    "start_time": "2022-10-01T16:08:10.817Z"
   },
   {
    "duration": 8,
    "start_time": "2022-10-01T16:08:10.822Z"
   },
   {
    "duration": 326,
    "start_time": "2022-10-01T16:08:10.838Z"
   },
   {
    "duration": 13,
    "start_time": "2022-10-01T16:08:11.165Z"
   },
   {
    "duration": 9,
    "start_time": "2022-10-01T16:08:11.180Z"
   },
   {
    "duration": 3,
    "start_time": "2022-10-01T16:08:11.191Z"
   },
   {
    "duration": 231,
    "start_time": "2022-10-01T16:08:11.195Z"
   },
   {
    "duration": 173,
    "start_time": "2022-10-01T16:08:11.428Z"
   },
   {
    "duration": 4,
    "start_time": "2022-10-01T16:08:11.603Z"
   },
   {
    "duration": 136,
    "start_time": "2022-10-01T16:08:11.608Z"
   },
   {
    "duration": 129,
    "start_time": "2022-10-01T16:08:11.746Z"
   },
   {
    "duration": 203,
    "start_time": "2022-10-01T16:08:11.877Z"
   },
   {
    "duration": 141,
    "start_time": "2022-10-01T16:08:12.081Z"
   },
   {
    "duration": 147,
    "start_time": "2022-10-01T16:08:12.223Z"
   },
   {
    "duration": 114,
    "start_time": "2022-10-01T16:08:12.372Z"
   },
   {
    "duration": 120,
    "start_time": "2022-10-01T16:08:12.488Z"
   },
   {
    "duration": 134,
    "start_time": "2022-10-01T16:08:12.610Z"
   },
   {
    "duration": 148,
    "start_time": "2022-10-01T16:08:12.746Z"
   },
   {
    "duration": 117,
    "start_time": "2022-10-01T16:08:12.895Z"
   },
   {
    "duration": 133,
    "start_time": "2022-10-01T16:08:13.013Z"
   },
   {
    "duration": 132,
    "start_time": "2022-10-01T16:08:13.147Z"
   },
   {
    "duration": 18,
    "start_time": "2022-10-01T16:08:13.281Z"
   },
   {
    "duration": 172,
    "start_time": "2022-10-01T16:08:13.300Z"
   },
   {
    "duration": 196,
    "start_time": "2022-10-01T16:08:13.474Z"
   },
   {
    "duration": 13,
    "start_time": "2022-10-01T16:08:13.671Z"
   },
   {
    "duration": 225,
    "start_time": "2022-10-01T16:08:13.685Z"
   },
   {
    "duration": 226,
    "start_time": "2022-10-01T16:08:13.912Z"
   },
   {
    "duration": 200,
    "start_time": "2022-10-01T16:08:14.140Z"
   },
   {
    "duration": 143,
    "start_time": "2022-10-01T16:08:14.342Z"
   },
   {
    "duration": 225,
    "start_time": "2022-10-01T16:08:14.487Z"
   },
   {
    "duration": 113,
    "start_time": "2022-10-01T16:08:14.714Z"
   },
   {
    "duration": 157,
    "start_time": "2022-10-01T16:08:14.828Z"
   },
   {
    "duration": 164,
    "start_time": "2022-10-01T16:08:14.987Z"
   },
   {
    "duration": 155,
    "start_time": "2022-10-01T16:08:15.152Z"
   },
   {
    "duration": 21,
    "start_time": "2022-10-01T16:08:15.308Z"
   },
   {
    "duration": 145,
    "start_time": "2022-10-01T16:08:15.339Z"
   },
   {
    "duration": 22,
    "start_time": "2022-10-01T16:08:15.485Z"
   },
   {
    "duration": 164,
    "start_time": "2022-10-01T16:08:15.509Z"
   },
   {
    "duration": 44,
    "start_time": "2022-10-01T16:09:32.840Z"
   },
   {
    "duration": 48,
    "start_time": "2022-10-01T16:09:42.457Z"
   },
   {
    "duration": 46,
    "start_time": "2022-10-01T16:10:14.734Z"
   },
   {
    "duration": 50,
    "start_time": "2022-10-01T16:10:33.784Z"
   },
   {
    "duration": 1210,
    "start_time": "2022-10-01T16:10:47.660Z"
   },
   {
    "duration": 15,
    "start_time": "2022-10-01T16:10:48.872Z"
   },
   {
    "duration": 1923,
    "start_time": "2022-10-01T16:10:48.888Z"
   },
   {
    "duration": 5,
    "start_time": "2022-10-01T16:10:50.813Z"
   },
   {
    "duration": 15,
    "start_time": "2022-10-01T16:10:50.821Z"
   },
   {
    "duration": 5,
    "start_time": "2022-10-01T16:10:50.838Z"
   },
   {
    "duration": 12,
    "start_time": "2022-10-01T16:10:50.845Z"
   },
   {
    "duration": 4,
    "start_time": "2022-10-01T16:10:50.859Z"
   },
   {
    "duration": 229,
    "start_time": "2022-10-01T16:10:50.865Z"
   },
   {
    "duration": 14,
    "start_time": "2022-10-01T16:10:51.097Z"
   },
   {
    "duration": 26,
    "start_time": "2022-10-01T16:10:51.113Z"
   },
   {
    "duration": 6,
    "start_time": "2022-10-01T16:10:51.141Z"
   },
   {
    "duration": 10,
    "start_time": "2022-10-01T16:10:51.149Z"
   },
   {
    "duration": 19,
    "start_time": "2022-10-01T16:10:51.163Z"
   },
   {
    "duration": 8,
    "start_time": "2022-10-01T16:10:51.184Z"
   },
   {
    "duration": 288,
    "start_time": "2022-10-01T16:10:51.193Z"
   },
   {
    "duration": 17,
    "start_time": "2022-10-01T16:10:51.483Z"
   },
   {
    "duration": 3,
    "start_time": "2022-10-01T16:10:51.502Z"
   },
   {
    "duration": 46,
    "start_time": "2022-10-01T16:10:51.507Z"
   },
   {
    "duration": 24,
    "start_time": "2022-10-01T16:10:51.556Z"
   },
   {
    "duration": 88,
    "start_time": "2022-10-01T16:10:51.583Z"
   },
   {
    "duration": 10,
    "start_time": "2022-10-01T16:10:51.673Z"
   },
   {
    "duration": 328,
    "start_time": "2022-10-01T16:10:51.684Z"
   },
   {
    "duration": 319,
    "start_time": "2022-10-01T16:10:52.014Z"
   },
   {
    "duration": 69,
    "start_time": "2022-10-01T16:10:52.335Z"
   },
   {
    "duration": 34,
    "start_time": "2022-10-01T16:10:52.406Z"
   },
   {
    "duration": 5,
    "start_time": "2022-10-01T16:10:52.442Z"
   },
   {
    "duration": 15,
    "start_time": "2022-10-01T16:10:52.449Z"
   },
   {
    "duration": 488,
    "start_time": "2022-10-01T16:10:52.466Z"
   },
   {
    "duration": 6,
    "start_time": "2022-10-01T16:10:52.955Z"
   },
   {
    "duration": 36,
    "start_time": "2022-10-01T16:10:52.963Z"
   },
   {
    "duration": 366,
    "start_time": "2022-10-01T16:10:53.001Z"
   },
   {
    "duration": 14,
    "start_time": "2022-10-01T16:10:53.369Z"
   },
   {
    "duration": 28,
    "start_time": "2022-10-01T16:10:53.385Z"
   },
   {
    "duration": 9,
    "start_time": "2022-10-01T16:10:53.414Z"
   },
   {
    "duration": 250,
    "start_time": "2022-10-01T16:10:53.424Z"
   },
   {
    "duration": 158,
    "start_time": "2022-10-01T16:10:53.676Z"
   },
   {
    "duration": 3,
    "start_time": "2022-10-01T16:10:53.838Z"
   },
   {
    "duration": 129,
    "start_time": "2022-10-01T16:10:53.843Z"
   },
   {
    "duration": 138,
    "start_time": "2022-10-01T16:10:53.974Z"
   },
   {
    "duration": 223,
    "start_time": "2022-10-01T16:10:54.117Z"
   },
   {
    "duration": 141,
    "start_time": "2022-10-01T16:10:54.342Z"
   },
   {
    "duration": 147,
    "start_time": "2022-10-01T16:10:54.484Z"
   },
   {
    "duration": 114,
    "start_time": "2022-10-01T16:10:54.632Z"
   },
   {
    "duration": 121,
    "start_time": "2022-10-01T16:10:54.748Z"
   },
   {
    "duration": 142,
    "start_time": "2022-10-01T16:10:54.870Z"
   },
   {
    "duration": 168,
    "start_time": "2022-10-01T16:10:55.014Z"
   },
   {
    "duration": 128,
    "start_time": "2022-10-01T16:10:55.184Z"
   },
   {
    "duration": 126,
    "start_time": "2022-10-01T16:10:55.314Z"
   },
   {
    "duration": 135,
    "start_time": "2022-10-01T16:10:55.442Z"
   },
   {
    "duration": 17,
    "start_time": "2022-10-01T16:10:55.578Z"
   },
   {
    "duration": 173,
    "start_time": "2022-10-01T16:10:55.597Z"
   },
   {
    "duration": 204,
    "start_time": "2022-10-01T16:10:55.772Z"
   },
   {
    "duration": 16,
    "start_time": "2022-10-01T16:10:55.978Z"
   },
   {
    "duration": 213,
    "start_time": "2022-10-01T16:10:55.995Z"
   },
   {
    "duration": 237,
    "start_time": "2022-10-01T16:10:56.210Z"
   },
   {
    "duration": 204,
    "start_time": "2022-10-01T16:10:56.449Z"
   },
   {
    "duration": 150,
    "start_time": "2022-10-01T16:10:56.654Z"
   },
   {
    "duration": 225,
    "start_time": "2022-10-01T16:10:56.806Z"
   },
   {
    "duration": 124,
    "start_time": "2022-10-01T16:10:57.032Z"
   },
   {
    "duration": 217,
    "start_time": "2022-10-01T16:10:57.158Z"
   },
   {
    "duration": 177,
    "start_time": "2022-10-01T16:10:57.377Z"
   },
   {
    "duration": 144,
    "start_time": "2022-10-01T16:10:57.556Z"
   },
   {
    "duration": 22,
    "start_time": "2022-10-01T16:10:57.702Z"
   },
   {
    "duration": 148,
    "start_time": "2022-10-01T16:10:57.739Z"
   },
   {
    "duration": 23,
    "start_time": "2022-10-01T16:10:57.888Z"
   },
   {
    "duration": 159,
    "start_time": "2022-10-01T16:10:57.912Z"
   },
   {
    "duration": 49,
    "start_time": "2022-10-01T16:12:19.059Z"
   },
   {
    "duration": 64,
    "start_time": "2022-10-01T16:13:40.204Z"
   },
   {
    "duration": 68,
    "start_time": "2022-10-01T16:13:47.311Z"
   },
   {
    "duration": 5,
    "start_time": "2022-10-01T16:14:40.537Z"
   },
   {
    "duration": 60,
    "start_time": "2022-10-01T16:14:45.971Z"
   },
   {
    "duration": 121,
    "start_time": "2022-10-01T16:22:22.462Z"
   },
   {
    "duration": 410,
    "start_time": "2022-10-01T16:24:05.476Z"
   },
   {
    "duration": 207,
    "start_time": "2022-10-01T16:24:38.981Z"
   },
   {
    "duration": 151,
    "start_time": "2022-10-01T16:24:51.058Z"
   },
   {
    "duration": 126,
    "start_time": "2022-10-01T16:25:18.739Z"
   },
   {
    "duration": 214,
    "start_time": "2022-10-01T16:26:51.456Z"
   },
   {
    "duration": 217,
    "start_time": "2022-10-01T16:27:01.606Z"
   },
   {
    "duration": 208,
    "start_time": "2022-10-01T16:27:34.442Z"
   },
   {
    "duration": 131,
    "start_time": "2022-10-01T16:28:08.084Z"
   },
   {
    "duration": 270,
    "start_time": "2022-10-01T16:28:55.254Z"
   },
   {
    "duration": 131,
    "start_time": "2022-10-01T16:29:22.113Z"
   },
   {
    "duration": 142,
    "start_time": "2022-10-01T16:31:18.569Z"
   },
   {
    "duration": 129,
    "start_time": "2022-10-01T16:32:01.048Z"
   },
   {
    "duration": 152,
    "start_time": "2022-10-01T16:32:30.832Z"
   },
   {
    "duration": 153,
    "start_time": "2022-10-01T16:33:39.602Z"
   },
   {
    "duration": 240,
    "start_time": "2022-10-01T16:34:11.759Z"
   },
   {
    "duration": 166,
    "start_time": "2022-10-01T16:34:29.518Z"
   },
   {
    "duration": 168,
    "start_time": "2022-10-01T16:34:37.058Z"
   },
   {
    "duration": 142,
    "start_time": "2022-10-01T16:35:09.120Z"
   },
   {
    "duration": 120,
    "start_time": "2022-10-01T16:36:47.429Z"
   },
   {
    "duration": 112,
    "start_time": "2022-10-01T16:37:34.608Z"
   },
   {
    "duration": 115,
    "start_time": "2022-10-01T16:40:23.069Z"
   },
   {
    "duration": 120,
    "start_time": "2022-10-01T16:41:12.146Z"
   },
   {
    "duration": 252,
    "start_time": "2022-10-01T16:42:44.405Z"
   },
   {
    "duration": 224,
    "start_time": "2022-10-01T16:44:05.123Z"
   },
   {
    "duration": 153,
    "start_time": "2022-10-01T16:44:16.579Z"
   },
   {
    "duration": 191,
    "start_time": "2022-10-01T16:45:57.491Z"
   },
   {
    "duration": 122,
    "start_time": "2022-10-01T16:46:33.317Z"
   },
   {
    "duration": 210,
    "start_time": "2022-10-01T16:48:56.353Z"
   },
   {
    "duration": 122,
    "start_time": "2022-10-01T16:49:13.168Z"
   },
   {
    "duration": 133,
    "start_time": "2022-10-01T16:50:44.131Z"
   },
   {
    "duration": 16,
    "start_time": "2022-10-01T16:51:32.033Z"
   },
   {
    "duration": 64,
    "start_time": "2022-10-01T16:52:48.727Z"
   },
   {
    "duration": 22,
    "start_time": "2022-10-01T16:53:15.710Z"
   },
   {
    "duration": 78,
    "start_time": "2022-10-01T16:55:14.381Z"
   },
   {
    "duration": 20,
    "start_time": "2022-10-01T16:55:52.126Z"
   },
   {
    "duration": 71,
    "start_time": "2022-10-01T16:57:54.525Z"
   },
   {
    "duration": 17,
    "start_time": "2022-10-01T16:58:09.079Z"
   },
   {
    "duration": 17,
    "start_time": "2022-10-01T16:58:13.838Z"
   },
   {
    "duration": 61,
    "start_time": "2022-10-01T16:58:48.838Z"
   },
   {
    "duration": 17,
    "start_time": "2022-10-01T16:59:15.266Z"
   },
   {
    "duration": 1185,
    "start_time": "2022-10-01T16:59:21.053Z"
   },
   {
    "duration": 15,
    "start_time": "2022-10-01T16:59:22.240Z"
   },
   {
    "duration": 1795,
    "start_time": "2022-10-01T16:59:22.256Z"
   },
   {
    "duration": 4,
    "start_time": "2022-10-01T16:59:24.053Z"
   },
   {
    "duration": 10,
    "start_time": "2022-10-01T16:59:24.058Z"
   },
   {
    "duration": 4,
    "start_time": "2022-10-01T16:59:24.070Z"
   },
   {
    "duration": 12,
    "start_time": "2022-10-01T16:59:24.075Z"
   },
   {
    "duration": 3,
    "start_time": "2022-10-01T16:59:24.088Z"
   },
   {
    "duration": 226,
    "start_time": "2022-10-01T16:59:24.093Z"
   },
   {
    "duration": 17,
    "start_time": "2022-10-01T16:59:24.322Z"
   },
   {
    "duration": 12,
    "start_time": "2022-10-01T16:59:24.340Z"
   },
   {
    "duration": 9,
    "start_time": "2022-10-01T16:59:24.353Z"
   },
   {
    "duration": 8,
    "start_time": "2022-10-01T16:59:24.363Z"
   },
   {
    "duration": 6,
    "start_time": "2022-10-01T16:59:24.373Z"
   },
   {
    "duration": 5,
    "start_time": "2022-10-01T16:59:24.381Z"
   },
   {
    "duration": 281,
    "start_time": "2022-10-01T16:59:24.388Z"
   },
   {
    "duration": 16,
    "start_time": "2022-10-01T16:59:24.671Z"
   },
   {
    "duration": 3,
    "start_time": "2022-10-01T16:59:24.688Z"
   },
   {
    "duration": 25,
    "start_time": "2022-10-01T16:59:24.692Z"
   },
   {
    "duration": 35,
    "start_time": "2022-10-01T16:59:24.718Z"
   },
   {
    "duration": 48,
    "start_time": "2022-10-01T16:59:24.754Z"
   },
   {
    "duration": 7,
    "start_time": "2022-10-01T16:59:24.804Z"
   },
   {
    "duration": 288,
    "start_time": "2022-10-01T16:59:24.813Z"
   },
   {
    "duration": 282,
    "start_time": "2022-10-01T16:59:25.102Z"
   },
   {
    "duration": 63,
    "start_time": "2022-10-01T16:59:25.386Z"
   },
   {
    "duration": 13,
    "start_time": "2022-10-01T16:59:25.451Z"
   },
   {
    "duration": 5,
    "start_time": "2022-10-01T16:59:25.465Z"
   },
   {
    "duration": 12,
    "start_time": "2022-10-01T16:59:25.474Z"
   },
   {
    "duration": 423,
    "start_time": "2022-10-01T16:59:25.487Z"
   },
   {
    "duration": 5,
    "start_time": "2022-10-01T16:59:25.911Z"
   },
   {
    "duration": 8,
    "start_time": "2022-10-01T16:59:25.917Z"
   },
   {
    "duration": 331,
    "start_time": "2022-10-01T16:59:25.927Z"
   },
   {
    "duration": 13,
    "start_time": "2022-10-01T16:59:26.260Z"
   },
   {
    "duration": 9,
    "start_time": "2022-10-01T16:59:26.275Z"
   },
   {
    "duration": 4,
    "start_time": "2022-10-01T16:59:26.285Z"
   },
   {
    "duration": 238,
    "start_time": "2022-10-01T16:59:26.290Z"
   },
   {
    "duration": 158,
    "start_time": "2022-10-01T16:59:26.530Z"
   },
   {
    "duration": 4,
    "start_time": "2022-10-01T16:59:26.690Z"
   },
   {
    "duration": 141,
    "start_time": "2022-10-01T16:59:26.695Z"
   },
   {
    "duration": 134,
    "start_time": "2022-10-01T16:59:26.838Z"
   },
   {
    "duration": 206,
    "start_time": "2022-10-01T16:59:26.974Z"
   },
   {
    "duration": 184,
    "start_time": "2022-10-01T16:59:27.182Z"
   },
   {
    "duration": 208,
    "start_time": "2022-10-01T16:59:27.367Z"
   },
   {
    "duration": 133,
    "start_time": "2022-10-01T16:59:27.577Z"
   },
   {
    "duration": 134,
    "start_time": "2022-10-01T16:59:27.712Z"
   },
   {
    "duration": 151,
    "start_time": "2022-10-01T16:59:27.848Z"
   },
   {
    "duration": 162,
    "start_time": "2022-10-01T16:59:28.000Z"
   },
   {
    "duration": 144,
    "start_time": "2022-10-01T16:59:28.164Z"
   },
   {
    "duration": 148,
    "start_time": "2022-10-01T16:59:28.310Z"
   },
   {
    "duration": 168,
    "start_time": "2022-10-01T16:59:28.459Z"
   },
   {
    "duration": 31,
    "start_time": "2022-10-01T16:59:28.629Z"
   },
   {
    "duration": 172,
    "start_time": "2022-10-01T16:59:28.661Z"
   },
   {
    "duration": 208,
    "start_time": "2022-10-01T16:59:28.838Z"
   },
   {
    "duration": 14,
    "start_time": "2022-10-01T16:59:29.047Z"
   },
   {
    "duration": 230,
    "start_time": "2022-10-01T16:59:29.062Z"
   },
   {
    "duration": 250,
    "start_time": "2022-10-01T16:59:29.293Z"
   },
   {
    "duration": 195,
    "start_time": "2022-10-01T16:59:29.545Z"
   },
   {
    "duration": 143,
    "start_time": "2022-10-01T16:59:29.741Z"
   },
   {
    "duration": 235,
    "start_time": "2022-10-01T16:59:29.885Z"
   },
   {
    "duration": 131,
    "start_time": "2022-10-01T16:59:30.122Z"
   },
   {
    "duration": 169,
    "start_time": "2022-10-01T16:59:30.255Z"
   },
   {
    "duration": 186,
    "start_time": "2022-10-01T16:59:30.425Z"
   },
   {
    "duration": 157,
    "start_time": "2022-10-01T16:59:30.613Z"
   },
   {
    "duration": 23,
    "start_time": "2022-10-01T16:59:30.772Z"
   },
   {
    "duration": 162,
    "start_time": "2022-10-01T16:59:30.797Z"
   },
   {
    "duration": 22,
    "start_time": "2022-10-01T16:59:30.960Z"
   },
   {
    "duration": 264,
    "start_time": "2022-10-01T16:59:30.984Z"
   },
   {
    "duration": 83,
    "start_time": "2022-10-01T17:03:16.339Z"
   },
   {
    "duration": 17,
    "start_time": "2022-10-01T17:03:25.909Z"
   },
   {
    "duration": 65,
    "start_time": "2022-10-01T17:06:19.637Z"
   },
   {
    "duration": 61,
    "start_time": "2022-10-01T17:06:31.093Z"
   },
   {
    "duration": 64,
    "start_time": "2022-10-01T17:07:11.304Z"
   },
   {
    "duration": 53,
    "start_time": "2022-10-01T17:07:47.073Z"
   },
   {
    "duration": 19,
    "start_time": "2022-10-01T17:08:11.643Z"
   },
   {
    "duration": 155,
    "start_time": "2022-10-01T17:09:09.731Z"
   },
   {
    "duration": 177,
    "start_time": "2022-10-01T17:10:32.345Z"
   },
   {
    "duration": 1246,
    "start_time": "2022-10-01T17:10:49.317Z"
   },
   {
    "duration": 16,
    "start_time": "2022-10-01T17:10:50.565Z"
   },
   {
    "duration": 1962,
    "start_time": "2022-10-01T17:10:50.582Z"
   },
   {
    "duration": 5,
    "start_time": "2022-10-01T17:10:52.546Z"
   },
   {
    "duration": 30,
    "start_time": "2022-10-01T17:10:52.552Z"
   },
   {
    "duration": 16,
    "start_time": "2022-10-01T17:10:52.583Z"
   },
   {
    "duration": 31,
    "start_time": "2022-10-01T17:10:52.600Z"
   },
   {
    "duration": 6,
    "start_time": "2022-10-01T17:10:52.632Z"
   },
   {
    "duration": 273,
    "start_time": "2022-10-01T17:10:52.640Z"
   },
   {
    "duration": 12,
    "start_time": "2022-10-01T17:10:52.915Z"
   },
   {
    "duration": 11,
    "start_time": "2022-10-01T17:10:52.938Z"
   },
   {
    "duration": 9,
    "start_time": "2022-10-01T17:10:52.951Z"
   },
   {
    "duration": 9,
    "start_time": "2022-10-01T17:10:52.962Z"
   },
   {
    "duration": 15,
    "start_time": "2022-10-01T17:10:52.973Z"
   },
   {
    "duration": 17,
    "start_time": "2022-10-01T17:10:52.990Z"
   },
   {
    "duration": 323,
    "start_time": "2022-10-01T17:10:53.009Z"
   },
   {
    "duration": 20,
    "start_time": "2022-10-01T17:10:53.334Z"
   },
   {
    "duration": 17,
    "start_time": "2022-10-01T17:10:53.356Z"
   },
   {
    "duration": 43,
    "start_time": "2022-10-01T17:10:53.375Z"
   },
   {
    "duration": 28,
    "start_time": "2022-10-01T17:10:53.420Z"
   },
   {
    "duration": 60,
    "start_time": "2022-10-01T17:10:53.450Z"
   },
   {
    "duration": 8,
    "start_time": "2022-10-01T17:10:53.512Z"
   },
   {
    "duration": 285,
    "start_time": "2022-10-01T17:10:53.538Z"
   },
   {
    "duration": 304,
    "start_time": "2022-10-01T17:10:53.825Z"
   },
   {
    "duration": 65,
    "start_time": "2022-10-01T17:10:54.131Z"
   },
   {
    "duration": 14,
    "start_time": "2022-10-01T17:10:54.198Z"
   },
   {
    "duration": 24,
    "start_time": "2022-10-01T17:10:54.214Z"
   },
   {
    "duration": 12,
    "start_time": "2022-10-01T17:10:54.243Z"
   },
   {
    "duration": 445,
    "start_time": "2022-10-01T17:10:54.256Z"
   },
   {
    "duration": 5,
    "start_time": "2022-10-01T17:10:54.703Z"
   },
   {
    "duration": 6,
    "start_time": "2022-10-01T17:10:54.710Z"
   },
   {
    "duration": 336,
    "start_time": "2022-10-01T17:10:54.718Z"
   },
   {
    "duration": 15,
    "start_time": "2022-10-01T17:10:55.056Z"
   },
   {
    "duration": 11,
    "start_time": "2022-10-01T17:10:55.072Z"
   },
   {
    "duration": 4,
    "start_time": "2022-10-01T17:10:55.085Z"
   },
   {
    "duration": 263,
    "start_time": "2022-10-01T17:10:55.091Z"
   },
   {
    "duration": 163,
    "start_time": "2022-10-01T17:10:55.355Z"
   },
   {
    "duration": 4,
    "start_time": "2022-10-01T17:10:55.520Z"
   },
   {
    "duration": 127,
    "start_time": "2022-10-01T17:10:55.538Z"
   },
   {
    "duration": 143,
    "start_time": "2022-10-01T17:10:55.667Z"
   },
   {
    "duration": 219,
    "start_time": "2022-10-01T17:10:55.811Z"
   },
   {
    "duration": 157,
    "start_time": "2022-10-01T17:10:56.032Z"
   },
   {
    "duration": 173,
    "start_time": "2022-10-01T17:10:56.191Z"
   },
   {
    "duration": 127,
    "start_time": "2022-10-01T17:10:56.366Z"
   },
   {
    "duration": 132,
    "start_time": "2022-10-01T17:10:56.497Z"
   },
   {
    "duration": 151,
    "start_time": "2022-10-01T17:10:56.631Z"
   },
   {
    "duration": 181,
    "start_time": "2022-10-01T17:10:56.784Z"
   },
   {
    "duration": 142,
    "start_time": "2022-10-01T17:10:56.966Z"
   },
   {
    "duration": 174,
    "start_time": "2022-10-01T17:10:57.110Z"
   },
   {
    "duration": 195,
    "start_time": "2022-10-01T17:10:57.286Z"
   },
   {
    "duration": 23,
    "start_time": "2022-10-01T17:10:57.483Z"
   },
   {
    "duration": 113,
    "start_time": "2022-10-01T17:10:57.508Z"
   },
   {
    "duration": 0,
    "start_time": "2022-10-01T17:10:57.622Z"
   },
   {
    "duration": 0,
    "start_time": "2022-10-01T17:10:57.623Z"
   },
   {
    "duration": 0,
    "start_time": "2022-10-01T17:10:57.624Z"
   },
   {
    "duration": 0,
    "start_time": "2022-10-01T17:10:57.625Z"
   },
   {
    "duration": 0,
    "start_time": "2022-10-01T17:10:57.638Z"
   },
   {
    "duration": 0,
    "start_time": "2022-10-01T17:10:57.639Z"
   },
   {
    "duration": 0,
    "start_time": "2022-10-01T17:10:57.640Z"
   },
   {
    "duration": 0,
    "start_time": "2022-10-01T17:10:57.641Z"
   },
   {
    "duration": 0,
    "start_time": "2022-10-01T17:10:57.641Z"
   },
   {
    "duration": 0,
    "start_time": "2022-10-01T17:10:57.642Z"
   },
   {
    "duration": 0,
    "start_time": "2022-10-01T17:10:57.643Z"
   },
   {
    "duration": 0,
    "start_time": "2022-10-01T17:10:57.645Z"
   },
   {
    "duration": 0,
    "start_time": "2022-10-01T17:10:57.645Z"
   },
   {
    "duration": 0,
    "start_time": "2022-10-01T17:10:57.647Z"
   },
   {
    "duration": 0,
    "start_time": "2022-10-01T17:10:57.647Z"
   },
   {
    "duration": 287,
    "start_time": "2022-10-01T17:11:38.483Z"
   },
   {
    "duration": 253,
    "start_time": "2022-10-01T17:13:12.171Z"
   },
   {
    "duration": 171,
    "start_time": "2022-10-01T17:14:51.548Z"
   },
   {
    "duration": 153,
    "start_time": "2022-10-01T17:20:09.088Z"
   },
   {
    "duration": 17,
    "start_time": "2022-10-01T17:32:47.694Z"
   },
   {
    "duration": 216,
    "start_time": "2022-10-01T17:32:56.113Z"
   },
   {
    "duration": 215,
    "start_time": "2022-10-01T17:33:05.029Z"
   },
   {
    "duration": 177,
    "start_time": "2022-10-01T17:33:10.648Z"
   },
   {
    "duration": 130,
    "start_time": "2022-10-01T17:33:22.886Z"
   },
   {
    "duration": 270,
    "start_time": "2022-10-01T17:33:28.255Z"
   },
   {
    "duration": 131,
    "start_time": "2022-10-01T17:33:39.155Z"
   },
   {
    "duration": 163,
    "start_time": "2022-10-01T17:34:12.716Z"
   },
   {
    "duration": 191,
    "start_time": "2022-10-01T17:34:23.230Z"
   },
   {
    "duration": 280,
    "start_time": "2022-10-01T17:34:27.520Z"
   },
   {
    "duration": 206,
    "start_time": "2022-10-01T17:39:55.689Z"
   },
   {
    "duration": 13,
    "start_time": "2022-10-01T17:40:34.450Z"
   },
   {
    "duration": 13,
    "start_time": "2022-10-01T17:40:56.803Z"
   },
   {
    "duration": 134,
    "start_time": "2022-10-01T17:42:05.686Z"
   },
   {
    "duration": 197,
    "start_time": "2022-10-01T17:44:45.793Z"
   },
   {
    "duration": 383,
    "start_time": "2022-10-01T17:45:31.558Z"
   },
   {
    "duration": 192,
    "start_time": "2022-10-01T17:45:37.965Z"
   },
   {
    "duration": 164,
    "start_time": "2022-10-01T17:46:34.075Z"
   },
   {
    "duration": 163,
    "start_time": "2022-10-01T17:48:09.205Z"
   },
   {
    "duration": 138,
    "start_time": "2022-10-01T17:49:04.926Z"
   },
   {
    "duration": 30,
    "start_time": "2022-10-01T17:59:16.419Z"
   },
   {
    "duration": 794,
    "start_time": "2022-10-01T17:59:32.138Z"
   },
   {
    "duration": 1055,
    "start_time": "2022-10-01T18:03:03.064Z"
   },
   {
    "duration": 175,
    "start_time": "2022-10-01T18:04:03.365Z"
   },
   {
    "duration": 148,
    "start_time": "2022-10-01T18:05:34.159Z"
   },
   {
    "duration": 22,
    "start_time": "2022-10-01T18:06:14.390Z"
   },
   {
    "duration": 135,
    "start_time": "2022-10-01T18:06:40.320Z"
   },
   {
    "duration": 33,
    "start_time": "2022-10-01T18:06:50.615Z"
   },
   {
    "duration": 158,
    "start_time": "2022-10-01T18:06:59.882Z"
   },
   {
    "duration": 54,
    "start_time": "2022-10-02T09:34:06.572Z"
   },
   {
    "duration": 1778,
    "start_time": "2022-10-02T09:34:15.599Z"
   },
   {
    "duration": 27,
    "start_time": "2022-10-02T09:34:17.379Z"
   },
   {
    "duration": 2059,
    "start_time": "2022-10-02T09:34:17.408Z"
   },
   {
    "duration": 5,
    "start_time": "2022-10-02T09:34:19.470Z"
   },
   {
    "duration": 10,
    "start_time": "2022-10-02T09:34:19.478Z"
   },
   {
    "duration": 5,
    "start_time": "2022-10-02T09:34:19.490Z"
   },
   {
    "duration": 11,
    "start_time": "2022-10-02T09:34:19.500Z"
   },
   {
    "duration": 7,
    "start_time": "2022-10-02T09:34:19.513Z"
   },
   {
    "duration": 262,
    "start_time": "2022-10-02T09:34:19.523Z"
   },
   {
    "duration": 20,
    "start_time": "2022-10-02T09:34:19.788Z"
   },
   {
    "duration": 15,
    "start_time": "2022-10-02T09:34:19.810Z"
   },
   {
    "duration": 8,
    "start_time": "2022-10-02T09:34:19.826Z"
   },
   {
    "duration": 6,
    "start_time": "2022-10-02T09:34:19.836Z"
   },
   {
    "duration": 6,
    "start_time": "2022-10-02T09:34:19.844Z"
   },
   {
    "duration": 5,
    "start_time": "2022-10-02T09:34:19.852Z"
   },
   {
    "duration": 305,
    "start_time": "2022-10-02T09:34:19.859Z"
   },
   {
    "duration": 37,
    "start_time": "2022-10-02T09:34:20.165Z"
   },
   {
    "duration": 4,
    "start_time": "2022-10-02T09:34:20.204Z"
   },
   {
    "duration": 38,
    "start_time": "2022-10-02T09:34:20.211Z"
   },
   {
    "duration": 18,
    "start_time": "2022-10-02T09:34:20.251Z"
   },
   {
    "duration": 67,
    "start_time": "2022-10-02T09:34:20.270Z"
   },
   {
    "duration": 9,
    "start_time": "2022-10-02T09:34:20.338Z"
   },
   {
    "duration": 318,
    "start_time": "2022-10-02T09:34:20.349Z"
   },
   {
    "duration": 319,
    "start_time": "2022-10-02T09:34:20.670Z"
   },
   {
    "duration": 61,
    "start_time": "2022-10-02T09:34:20.991Z"
   },
   {
    "duration": 13,
    "start_time": "2022-10-02T09:34:21.053Z"
   },
   {
    "duration": 7,
    "start_time": "2022-10-02T09:34:21.068Z"
   },
   {
    "duration": 32,
    "start_time": "2022-10-02T09:34:21.079Z"
   },
   {
    "duration": 460,
    "start_time": "2022-10-02T09:34:21.112Z"
   },
   {
    "duration": 5,
    "start_time": "2022-10-02T09:34:21.574Z"
   },
   {
    "duration": 23,
    "start_time": "2022-10-02T09:34:21.580Z"
   },
   {
    "duration": 363,
    "start_time": "2022-10-02T09:34:21.604Z"
   },
   {
    "duration": 16,
    "start_time": "2022-10-02T09:34:21.969Z"
   },
   {
    "duration": 24,
    "start_time": "2022-10-02T09:34:21.986Z"
   },
   {
    "duration": 4,
    "start_time": "2022-10-02T09:34:22.014Z"
   },
   {
    "duration": 259,
    "start_time": "2022-10-02T09:34:22.020Z"
   },
   {
    "duration": 171,
    "start_time": "2022-10-02T09:34:22.281Z"
   },
   {
    "duration": 3,
    "start_time": "2022-10-02T09:34:22.454Z"
   },
   {
    "duration": 162,
    "start_time": "2022-10-02T09:34:22.459Z"
   },
   {
    "duration": 166,
    "start_time": "2022-10-02T09:34:22.624Z"
   },
   {
    "duration": 268,
    "start_time": "2022-10-02T09:34:22.792Z"
   },
   {
    "duration": 169,
    "start_time": "2022-10-02T09:34:23.062Z"
   },
   {
    "duration": 189,
    "start_time": "2022-10-02T09:34:23.233Z"
   },
   {
    "duration": 152,
    "start_time": "2022-10-02T09:34:23.423Z"
   },
   {
    "duration": 148,
    "start_time": "2022-10-02T09:34:23.578Z"
   },
   {
    "duration": 166,
    "start_time": "2022-10-02T09:34:23.728Z"
   },
   {
    "duration": 203,
    "start_time": "2022-10-02T09:34:23.896Z"
   },
   {
    "duration": 168,
    "start_time": "2022-10-02T09:34:24.102Z"
   },
   {
    "duration": 173,
    "start_time": "2022-10-02T09:34:24.272Z"
   },
   {
    "duration": 199,
    "start_time": "2022-10-02T09:34:24.448Z"
   },
   {
    "duration": 19,
    "start_time": "2022-10-02T09:34:24.649Z"
   },
   {
    "duration": 196,
    "start_time": "2022-10-02T09:34:24.669Z"
   },
   {
    "duration": 235,
    "start_time": "2022-10-02T09:34:24.867Z"
   },
   {
    "duration": 16,
    "start_time": "2022-10-02T09:34:25.104Z"
   },
   {
    "duration": 222,
    "start_time": "2022-10-02T09:34:25.123Z"
   },
   {
    "duration": 219,
    "start_time": "2022-10-02T09:34:25.347Z"
   },
   {
    "duration": 207,
    "start_time": "2022-10-02T09:34:25.568Z"
   },
   {
    "duration": 174,
    "start_time": "2022-10-02T09:34:25.777Z"
   },
   {
    "duration": 263,
    "start_time": "2022-10-02T09:34:25.953Z"
   },
   {
    "duration": 148,
    "start_time": "2022-10-02T09:34:26.218Z"
   },
   {
    "duration": 187,
    "start_time": "2022-10-02T09:34:26.368Z"
   },
   {
    "duration": 178,
    "start_time": "2022-10-02T09:34:26.557Z"
   },
   {
    "duration": 176,
    "start_time": "2022-10-02T09:34:26.737Z"
   },
   {
    "duration": 28,
    "start_time": "2022-10-02T09:34:26.915Z"
   },
   {
    "duration": 180,
    "start_time": "2022-10-02T09:34:26.946Z"
   },
   {
    "duration": 125,
    "start_time": "2022-10-02T09:34:27.127Z"
   },
   {
    "duration": 173,
    "start_time": "2022-10-02T09:34:27.254Z"
   },
   {
    "duration": 25,
    "start_time": "2022-10-02T09:35:25.247Z"
   },
   {
    "duration": 175,
    "start_time": "2022-10-02T09:35:46.267Z"
   },
   {
    "duration": 9,
    "start_time": "2022-10-02T09:47:53.812Z"
   },
   {
    "duration": 176,
    "start_time": "2022-10-02T09:47:59.410Z"
   },
   {
    "duration": 169,
    "start_time": "2022-10-02T09:48:20.060Z"
   },
   {
    "duration": 161,
    "start_time": "2022-10-02T09:49:55.796Z"
   },
   {
    "duration": 157,
    "start_time": "2022-10-02T09:58:24.667Z"
   },
   {
    "duration": 166,
    "start_time": "2022-10-02T09:58:33.048Z"
   },
   {
    "duration": 164,
    "start_time": "2022-10-02T09:58:47.628Z"
   },
   {
    "duration": 157,
    "start_time": "2022-10-02T09:58:55.747Z"
   },
   {
    "duration": 141,
    "start_time": "2022-10-02T10:02:38.640Z"
   },
   {
    "duration": 141,
    "start_time": "2022-10-02T10:03:55.149Z"
   },
   {
    "duration": 1240,
    "start_time": "2022-10-02T10:04:24.048Z"
   },
   {
    "duration": 17,
    "start_time": "2022-10-02T10:04:25.290Z"
   },
   {
    "duration": 2074,
    "start_time": "2022-10-02T10:04:25.309Z"
   },
   {
    "duration": 4,
    "start_time": "2022-10-02T10:04:27.385Z"
   },
   {
    "duration": 8,
    "start_time": "2022-10-02T10:04:27.391Z"
   },
   {
    "duration": 4,
    "start_time": "2022-10-02T10:04:27.400Z"
   },
   {
    "duration": 10,
    "start_time": "2022-10-02T10:04:27.406Z"
   },
   {
    "duration": 5,
    "start_time": "2022-10-02T10:04:27.417Z"
   },
   {
    "duration": 220,
    "start_time": "2022-10-02T10:04:27.423Z"
   },
   {
    "duration": 12,
    "start_time": "2022-10-02T10:04:27.644Z"
   },
   {
    "duration": 10,
    "start_time": "2022-10-02T10:04:27.657Z"
   },
   {
    "duration": 6,
    "start_time": "2022-10-02T10:04:27.668Z"
   },
   {
    "duration": 26,
    "start_time": "2022-10-02T10:04:27.675Z"
   },
   {
    "duration": 6,
    "start_time": "2022-10-02T10:04:27.704Z"
   },
   {
    "duration": 8,
    "start_time": "2022-10-02T10:04:27.711Z"
   },
   {
    "duration": 277,
    "start_time": "2022-10-02T10:04:27.720Z"
   },
   {
    "duration": 15,
    "start_time": "2022-10-02T10:04:27.999Z"
   },
   {
    "duration": 13,
    "start_time": "2022-10-02T10:04:28.016Z"
   },
   {
    "duration": 25,
    "start_time": "2022-10-02T10:04:28.031Z"
   },
   {
    "duration": 18,
    "start_time": "2022-10-02T10:04:28.057Z"
   },
   {
    "duration": 61,
    "start_time": "2022-10-02T10:04:28.076Z"
   },
   {
    "duration": 8,
    "start_time": "2022-10-02T10:04:28.138Z"
   },
   {
    "duration": 302,
    "start_time": "2022-10-02T10:04:28.147Z"
   },
   {
    "duration": 275,
    "start_time": "2022-10-02T10:04:28.451Z"
   },
   {
    "duration": 44,
    "start_time": "2022-10-02T10:04:28.727Z"
   },
   {
    "duration": 28,
    "start_time": "2022-10-02T10:04:28.772Z"
   },
   {
    "duration": 5,
    "start_time": "2022-10-02T10:04:28.801Z"
   },
   {
    "duration": 17,
    "start_time": "2022-10-02T10:04:28.807Z"
   },
   {
    "duration": 393,
    "start_time": "2022-10-02T10:04:28.826Z"
   },
   {
    "duration": 3,
    "start_time": "2022-10-02T10:04:29.221Z"
   },
   {
    "duration": 8,
    "start_time": "2022-10-02T10:04:29.226Z"
   },
   {
    "duration": 325,
    "start_time": "2022-10-02T10:04:29.235Z"
   },
   {
    "duration": 13,
    "start_time": "2022-10-02T10:04:29.561Z"
   },
   {
    "duration": 24,
    "start_time": "2022-10-02T10:04:29.576Z"
   },
   {
    "duration": 3,
    "start_time": "2022-10-02T10:04:29.602Z"
   },
   {
    "duration": 217,
    "start_time": "2022-10-02T10:04:29.606Z"
   },
   {
    "duration": 163,
    "start_time": "2022-10-02T10:04:29.824Z"
   },
   {
    "duration": 11,
    "start_time": "2022-10-02T10:04:29.989Z"
   },
   {
    "duration": 141,
    "start_time": "2022-10-02T10:04:30.002Z"
   },
   {
    "duration": 152,
    "start_time": "2022-10-02T10:04:30.145Z"
   },
   {
    "duration": 216,
    "start_time": "2022-10-02T10:04:30.300Z"
   },
   {
    "duration": 156,
    "start_time": "2022-10-02T10:04:30.518Z"
   },
   {
    "duration": 177,
    "start_time": "2022-10-02T10:04:30.676Z"
   },
   {
    "duration": 120,
    "start_time": "2022-10-02T10:04:30.854Z"
   },
   {
    "duration": 125,
    "start_time": "2022-10-02T10:04:30.975Z"
   },
   {
    "duration": 140,
    "start_time": "2022-10-02T10:04:31.101Z"
   },
   {
    "duration": 151,
    "start_time": "2022-10-02T10:04:31.242Z"
   },
   {
    "duration": 130,
    "start_time": "2022-10-02T10:04:31.400Z"
   },
   {
    "duration": 128,
    "start_time": "2022-10-02T10:04:31.532Z"
   },
   {
    "duration": 134,
    "start_time": "2022-10-02T10:04:31.661Z"
   },
   {
    "duration": 19,
    "start_time": "2022-10-02T10:04:31.796Z"
   },
   {
    "duration": 160,
    "start_time": "2022-10-02T10:04:31.817Z"
   },
   {
    "duration": 202,
    "start_time": "2022-10-02T10:04:31.979Z"
   },
   {
    "duration": 23,
    "start_time": "2022-10-02T10:04:32.183Z"
   },
   {
    "duration": 181,
    "start_time": "2022-10-02T10:04:32.208Z"
   },
   {
    "duration": 181,
    "start_time": "2022-10-02T10:04:32.390Z"
   },
   {
    "duration": 173,
    "start_time": "2022-10-02T10:04:32.572Z"
   },
   {
    "duration": 181,
    "start_time": "2022-10-02T10:04:32.747Z"
   },
   {
    "duration": 236,
    "start_time": "2022-10-02T10:04:32.930Z"
   },
   {
    "duration": 129,
    "start_time": "2022-10-02T10:04:33.167Z"
   },
   {
    "duration": 163,
    "start_time": "2022-10-02T10:04:33.300Z"
   },
   {
    "duration": 165,
    "start_time": "2022-10-02T10:04:33.464Z"
   },
   {
    "duration": 151,
    "start_time": "2022-10-02T10:04:33.631Z"
   },
   {
    "duration": 29,
    "start_time": "2022-10-02T10:04:33.783Z"
   },
   {
    "duration": 154,
    "start_time": "2022-10-02T10:04:33.814Z"
   },
   {
    "duration": 101,
    "start_time": "2022-10-02T10:04:33.970Z"
   },
   {
    "duration": 177,
    "start_time": "2022-10-02T10:04:34.072Z"
   },
   {
    "duration": 149,
    "start_time": "2022-10-02T10:06:50.844Z"
   },
   {
    "duration": 150,
    "start_time": "2022-10-02T10:06:57.654Z"
   },
   {
    "duration": 1730,
    "start_time": "2022-10-02T10:08:08.538Z"
   },
   {
    "duration": 1303,
    "start_time": "2022-10-02T10:08:19.076Z"
   },
   {
    "duration": 18,
    "start_time": "2022-10-02T10:09:03.137Z"
   },
   {
    "duration": 18,
    "start_time": "2022-10-02T10:09:15.183Z"
   },
   {
    "duration": 16,
    "start_time": "2022-10-02T10:09:19.575Z"
   },
   {
    "duration": 167,
    "start_time": "2022-10-02T10:09:35.586Z"
   },
   {
    "duration": 17,
    "start_time": "2022-10-02T10:18:19.477Z"
   },
   {
    "duration": 16,
    "start_time": "2022-10-02T10:18:34.358Z"
   },
   {
    "duration": 16,
    "start_time": "2022-10-02T10:18:46.165Z"
   },
   {
    "duration": 31,
    "start_time": "2022-10-02T10:19:08.828Z"
   },
   {
    "duration": 63,
    "start_time": "2022-10-02T10:37:12.802Z"
   },
   {
    "duration": 30,
    "start_time": "2022-10-02T10:37:25.507Z"
   },
   {
    "duration": 30,
    "start_time": "2022-10-02T10:37:52.430Z"
   },
   {
    "duration": 30,
    "start_time": "2022-10-02T10:38:11.132Z"
   },
   {
    "duration": 31,
    "start_time": "2022-10-02T10:38:28.660Z"
   },
   {
    "duration": 27,
    "start_time": "2022-10-02T10:38:48.440Z"
   },
   {
    "duration": 30,
    "start_time": "2022-10-02T10:39:36.758Z"
   },
   {
    "duration": 31,
    "start_time": "2022-10-02T10:39:51.008Z"
   },
   {
    "duration": 23,
    "start_time": "2022-10-02T10:40:09.936Z"
   },
   {
    "duration": 202,
    "start_time": "2022-10-02T10:43:34.295Z"
   },
   {
    "duration": 63,
    "start_time": "2022-10-02T10:43:42.921Z"
   },
   {
    "duration": 55,
    "start_time": "2022-10-02T10:45:46.585Z"
   },
   {
    "duration": 18,
    "start_time": "2022-10-02T10:45:58.122Z"
   },
   {
    "duration": 144,
    "start_time": "2022-10-02T10:46:22.151Z"
   },
   {
    "duration": 1267,
    "start_time": "2022-10-02T10:46:40.623Z"
   },
   {
    "duration": 950,
    "start_time": "2022-10-02T10:53:39.499Z"
   },
   {
    "duration": 1042,
    "start_time": "2022-10-02T10:54:07.451Z"
   },
   {
    "duration": 1549,
    "start_time": "2022-10-02T10:54:17.688Z"
   },
   {
    "duration": 188,
    "start_time": "2022-10-02T10:54:52.732Z"
   },
   {
    "duration": 181,
    "start_time": "2022-10-02T10:56:08.468Z"
   },
   {
    "duration": 1709,
    "start_time": "2022-10-03T09:45:02.974Z"
   },
   {
    "duration": 25,
    "start_time": "2022-10-03T09:45:04.686Z"
   },
   {
    "duration": 1872,
    "start_time": "2022-10-03T09:45:04.715Z"
   },
   {
    "duration": 4,
    "start_time": "2022-10-03T09:45:06.589Z"
   },
   {
    "duration": 11,
    "start_time": "2022-10-03T09:45:06.596Z"
   },
   {
    "duration": 5,
    "start_time": "2022-10-03T09:45:06.609Z"
   },
   {
    "duration": 10,
    "start_time": "2022-10-03T09:45:06.616Z"
   },
   {
    "duration": 4,
    "start_time": "2022-10-03T09:45:06.628Z"
   },
   {
    "duration": 228,
    "start_time": "2022-10-03T09:45:06.633Z"
   },
   {
    "duration": 11,
    "start_time": "2022-10-03T09:45:06.863Z"
   },
   {
    "duration": 24,
    "start_time": "2022-10-03T09:45:06.876Z"
   },
   {
    "duration": 36,
    "start_time": "2022-10-03T09:45:06.902Z"
   },
   {
    "duration": 7,
    "start_time": "2022-10-03T09:45:06.940Z"
   },
   {
    "duration": 8,
    "start_time": "2022-10-03T09:45:06.950Z"
   },
   {
    "duration": 8,
    "start_time": "2022-10-03T09:45:06.959Z"
   },
   {
    "duration": 32,
    "start_time": "2022-10-03T09:45:06.969Z"
   },
   {
    "duration": 272,
    "start_time": "2022-10-03T09:45:07.003Z"
   },
   {
    "duration": 16,
    "start_time": "2022-10-03T09:45:07.276Z"
   },
   {
    "duration": 2,
    "start_time": "2022-10-03T09:45:07.300Z"
   },
   {
    "duration": 22,
    "start_time": "2022-10-03T09:45:07.305Z"
   },
   {
    "duration": 19,
    "start_time": "2022-10-03T09:45:07.329Z"
   },
   {
    "duration": 72,
    "start_time": "2022-10-03T09:45:07.349Z"
   },
   {
    "duration": 10,
    "start_time": "2022-10-03T09:45:07.422Z"
   },
   {
    "duration": 308,
    "start_time": "2022-10-03T09:45:07.434Z"
   },
   {
    "duration": 299,
    "start_time": "2022-10-03T09:45:07.744Z"
   },
   {
    "duration": 57,
    "start_time": "2022-10-03T09:45:08.044Z"
   },
   {
    "duration": 28,
    "start_time": "2022-10-03T09:45:08.105Z"
   },
   {
    "duration": 9,
    "start_time": "2022-10-03T09:45:08.139Z"
   },
   {
    "duration": 34,
    "start_time": "2022-10-03T09:45:08.150Z"
   },
   {
    "duration": 404,
    "start_time": "2022-10-03T09:45:08.186Z"
   },
   {
    "duration": 8,
    "start_time": "2022-10-03T09:45:08.592Z"
   },
   {
    "duration": 7,
    "start_time": "2022-10-03T09:45:08.602Z"
   },
   {
    "duration": 357,
    "start_time": "2022-10-03T09:45:08.611Z"
   },
   {
    "duration": 14,
    "start_time": "2022-10-03T09:45:08.970Z"
   },
   {
    "duration": 24,
    "start_time": "2022-10-03T09:45:08.985Z"
   },
   {
    "duration": 4,
    "start_time": "2022-10-03T09:45:09.010Z"
   },
   {
    "duration": 239,
    "start_time": "2022-10-03T09:45:09.015Z"
   },
   {
    "duration": 166,
    "start_time": "2022-10-03T09:45:09.256Z"
   },
   {
    "duration": 4,
    "start_time": "2022-10-03T09:45:09.424Z"
   },
   {
    "duration": 142,
    "start_time": "2022-10-03T09:45:09.429Z"
   },
   {
    "duration": 163,
    "start_time": "2022-10-03T09:45:09.577Z"
   },
   {
    "duration": 217,
    "start_time": "2022-10-03T09:45:09.742Z"
   },
   {
    "duration": 148,
    "start_time": "2022-10-03T09:45:09.960Z"
   },
   {
    "duration": 162,
    "start_time": "2022-10-03T09:45:10.110Z"
   },
   {
    "duration": 136,
    "start_time": "2022-10-03T09:45:10.274Z"
   },
   {
    "duration": 147,
    "start_time": "2022-10-03T09:45:10.412Z"
   },
   {
    "duration": 163,
    "start_time": "2022-10-03T09:45:10.561Z"
   },
   {
    "duration": 184,
    "start_time": "2022-10-03T09:45:10.726Z"
   },
   {
    "duration": 139,
    "start_time": "2022-10-03T09:45:10.912Z"
   },
   {
    "duration": 150,
    "start_time": "2022-10-03T09:45:11.053Z"
   },
   {
    "duration": 150,
    "start_time": "2022-10-03T09:45:11.204Z"
   },
   {
    "duration": 17,
    "start_time": "2022-10-03T09:45:11.356Z"
   },
   {
    "duration": 185,
    "start_time": "2022-10-03T09:45:11.375Z"
   },
   {
    "duration": 235,
    "start_time": "2022-10-03T09:45:11.562Z"
   },
   {
    "duration": 19,
    "start_time": "2022-10-03T09:45:11.801Z"
   },
   {
    "duration": 209,
    "start_time": "2022-10-03T09:45:11.822Z"
   },
   {
    "duration": 192,
    "start_time": "2022-10-03T09:45:12.032Z"
   },
   {
    "duration": 179,
    "start_time": "2022-10-03T09:45:12.226Z"
   },
   {
    "duration": 146,
    "start_time": "2022-10-03T09:45:12.407Z"
   },
   {
    "duration": 252,
    "start_time": "2022-10-03T09:45:12.555Z"
   },
   {
    "duration": 134,
    "start_time": "2022-10-03T09:45:12.808Z"
   },
   {
    "duration": 189,
    "start_time": "2022-10-03T09:45:12.944Z"
   },
   {
    "duration": 12,
    "start_time": "2022-10-03T09:45:13.135Z"
   },
   {
    "duration": 194,
    "start_time": "2022-10-03T09:45:13.149Z"
   },
   {
    "duration": 9,
    "start_time": "2022-10-03T09:45:13.344Z"
   },
   {
    "duration": 176,
    "start_time": "2022-10-03T09:45:13.355Z"
   },
   {
    "duration": 24,
    "start_time": "2022-10-03T09:45:13.533Z"
   },
   {
    "duration": 166,
    "start_time": "2022-10-03T09:45:13.558Z"
   },
   {
    "duration": 129,
    "start_time": "2022-10-03T09:45:13.725Z"
   },
   {
    "duration": 327,
    "start_time": "2022-10-03T09:45:13.856Z"
   },
   {
    "duration": 18,
    "start_time": "2022-10-03T09:45:14.184Z"
   },
   {
    "duration": 6,
    "start_time": "2022-10-03T09:52:46.544Z"
   },
   {
    "duration": 16,
    "start_time": "2022-10-03T09:53:21.561Z"
   },
   {
    "duration": 315,
    "start_time": "2022-10-03T09:58:52.681Z"
   },
   {
    "duration": 2,
    "start_time": "2022-10-03T10:00:38.773Z"
   },
   {
    "duration": 3261,
    "start_time": "2022-10-03T10:00:39.782Z"
   },
   {
    "duration": 363,
    "start_time": "2022-10-03T10:00:48.381Z"
   },
   {
    "duration": 104,
    "start_time": "2022-10-03T10:01:19.686Z"
   },
   {
    "duration": 107,
    "start_time": "2022-10-03T10:01:28.270Z"
   },
   {
    "duration": 1155,
    "start_time": "2022-10-03T10:01:36.453Z"
   },
   {
    "duration": 14,
    "start_time": "2022-10-03T10:01:37.610Z"
   },
   {
    "duration": 1834,
    "start_time": "2022-10-03T10:01:37.625Z"
   },
   {
    "duration": 5,
    "start_time": "2022-10-03T10:01:39.461Z"
   },
   {
    "duration": 12,
    "start_time": "2022-10-03T10:01:39.468Z"
   },
   {
    "duration": 12,
    "start_time": "2022-10-03T10:01:39.482Z"
   },
   {
    "duration": 9,
    "start_time": "2022-10-03T10:01:39.496Z"
   },
   {
    "duration": 3,
    "start_time": "2022-10-03T10:01:39.507Z"
   },
   {
    "duration": 219,
    "start_time": "2022-10-03T10:01:39.512Z"
   },
   {
    "duration": 11,
    "start_time": "2022-10-03T10:01:39.732Z"
   },
   {
    "duration": 9,
    "start_time": "2022-10-03T10:01:39.745Z"
   },
   {
    "duration": 48,
    "start_time": "2022-10-03T10:01:39.755Z"
   },
   {
    "duration": 7,
    "start_time": "2022-10-03T10:01:39.804Z"
   },
   {
    "duration": 28,
    "start_time": "2022-10-03T10:01:39.813Z"
   },
   {
    "duration": 32,
    "start_time": "2022-10-03T10:01:39.843Z"
   },
   {
    "duration": 39,
    "start_time": "2022-10-03T10:01:39.876Z"
   },
   {
    "duration": 248,
    "start_time": "2022-10-03T10:01:39.916Z"
   },
   {
    "duration": 16,
    "start_time": "2022-10-03T10:01:40.166Z"
   },
   {
    "duration": 9,
    "start_time": "2022-10-03T10:01:40.183Z"
   },
   {
    "duration": 22,
    "start_time": "2022-10-03T10:01:40.193Z"
   },
   {
    "duration": 16,
    "start_time": "2022-10-03T10:01:40.217Z"
   },
   {
    "duration": 65,
    "start_time": "2022-10-03T10:01:40.235Z"
   },
   {
    "duration": 8,
    "start_time": "2022-10-03T10:01:40.302Z"
   },
   {
    "duration": 274,
    "start_time": "2022-10-03T10:01:40.311Z"
   },
   {
    "duration": 284,
    "start_time": "2022-10-03T10:01:40.586Z"
   },
   {
    "duration": 45,
    "start_time": "2022-10-03T10:01:40.872Z"
   },
   {
    "duration": 21,
    "start_time": "2022-10-03T10:01:40.919Z"
   },
   {
    "duration": 15,
    "start_time": "2022-10-03T10:01:40.942Z"
   },
   {
    "duration": 4,
    "start_time": "2022-10-03T10:01:40.959Z"
   },
   {
    "duration": 39,
    "start_time": "2022-10-03T10:01:40.965Z"
   },
   {
    "duration": 401,
    "start_time": "2022-10-03T10:01:41.006Z"
   },
   {
    "duration": 4,
    "start_time": "2022-10-03T10:01:41.409Z"
   },
   {
    "duration": 9,
    "start_time": "2022-10-03T10:01:41.415Z"
   },
   {
    "duration": 360,
    "start_time": "2022-10-03T10:01:41.426Z"
   },
   {
    "duration": 19,
    "start_time": "2022-10-03T10:01:41.787Z"
   },
   {
    "duration": 9,
    "start_time": "2022-10-03T10:01:41.808Z"
   },
   {
    "duration": 3,
    "start_time": "2022-10-03T10:01:41.819Z"
   },
   {
    "duration": 233,
    "start_time": "2022-10-03T10:01:41.823Z"
   },
   {
    "duration": 162,
    "start_time": "2022-10-03T10:01:42.057Z"
   },
   {
    "duration": 4,
    "start_time": "2022-10-03T10:01:42.221Z"
   },
   {
    "duration": 135,
    "start_time": "2022-10-03T10:01:42.229Z"
   },
   {
    "duration": 156,
    "start_time": "2022-10-03T10:01:42.366Z"
   },
   {
    "duration": 218,
    "start_time": "2022-10-03T10:01:42.523Z"
   },
   {
    "duration": 153,
    "start_time": "2022-10-03T10:01:42.743Z"
   },
   {
    "duration": 160,
    "start_time": "2022-10-03T10:01:42.900Z"
   },
   {
    "duration": 125,
    "start_time": "2022-10-03T10:01:43.062Z"
   },
   {
    "duration": 125,
    "start_time": "2022-10-03T10:01:43.189Z"
   },
   {
    "duration": 151,
    "start_time": "2022-10-03T10:01:43.316Z"
   },
   {
    "duration": 159,
    "start_time": "2022-10-03T10:01:43.469Z"
   },
   {
    "duration": 138,
    "start_time": "2022-10-03T10:01:43.629Z"
   },
   {
    "duration": 142,
    "start_time": "2022-10-03T10:01:43.769Z"
   },
   {
    "duration": 150,
    "start_time": "2022-10-03T10:01:43.912Z"
   },
   {
    "duration": 20,
    "start_time": "2022-10-03T10:01:44.063Z"
   },
   {
    "duration": 198,
    "start_time": "2022-10-03T10:01:44.085Z"
   },
   {
    "duration": 253,
    "start_time": "2022-10-03T10:01:44.284Z"
   },
   {
    "duration": 302,
    "start_time": "2022-10-03T10:01:44.539Z"
   },
   {
    "duration": 15,
    "start_time": "2022-10-03T10:01:44.842Z"
   },
   {
    "duration": 189,
    "start_time": "2022-10-03T10:01:44.859Z"
   },
   {
    "duration": 181,
    "start_time": "2022-10-03T10:01:45.049Z"
   },
   {
    "duration": 176,
    "start_time": "2022-10-03T10:01:45.231Z"
   },
   {
    "duration": 149,
    "start_time": "2022-10-03T10:01:45.409Z"
   },
   {
    "duration": 222,
    "start_time": "2022-10-03T10:01:45.559Z"
   },
   {
    "duration": 122,
    "start_time": "2022-10-03T10:01:45.783Z"
   },
   {
    "duration": 173,
    "start_time": "2022-10-03T10:01:45.907Z"
   },
   {
    "duration": 9,
    "start_time": "2022-10-03T10:01:46.081Z"
   },
   {
    "duration": 158,
    "start_time": "2022-10-03T10:01:46.100Z"
   },
   {
    "duration": 9,
    "start_time": "2022-10-03T10:01:46.260Z"
   },
   {
    "duration": 155,
    "start_time": "2022-10-03T10:01:46.270Z"
   },
   {
    "duration": 25,
    "start_time": "2022-10-03T10:01:46.426Z"
   },
   {
    "duration": 252,
    "start_time": "2022-10-03T10:01:46.452Z"
   },
   {
    "duration": 29,
    "start_time": "2022-10-03T10:01:46.705Z"
   },
   {
    "duration": 285,
    "start_time": "2022-10-03T10:01:46.736Z"
   },
   {
    "duration": 2,
    "start_time": "2022-10-03T10:01:47.023Z"
   },
   {
    "duration": 3123,
    "start_time": "2022-10-03T10:01:47.027Z"
   },
   {
    "duration": 372,
    "start_time": "2022-10-03T10:01:50.152Z"
   },
   {
    "duration": 104,
    "start_time": "2022-10-03T10:01:50.526Z"
   },
   {
    "duration": 84,
    "start_time": "2022-10-03T10:01:50.632Z"
   },
   {
    "duration": 11,
    "start_time": "2022-10-03T10:01:50.717Z"
   },
   {
    "duration": 9,
    "start_time": "2023-02-20T12:24:59.621Z"
   },
   {
    "duration": 47,
    "start_time": "2023-04-09T11:27:24.092Z"
   }
  ],
  "kernelspec": {
   "display_name": "Python 3 (ipykernel)",
   "language": "python",
   "name": "python3"
  },
  "language_info": {
   "codemirror_mode": {
    "name": "ipython",
    "version": 3
   },
   "file_extension": ".py",
   "mimetype": "text/x-python",
   "name": "python",
   "nbconvert_exporter": "python",
   "pygments_lexer": "ipython3",
   "version": "3.9.12"
  },
  "toc": {
   "base_numbering": 1,
   "nav_menu": {},
   "number_sections": true,
   "sideBar": true,
   "skip_h1_title": true,
   "title_cell": "Table of Contents",
   "title_sidebar": "Contents",
   "toc_cell": false,
   "toc_position": {
    "height": "441.091px",
    "left": "360px",
    "top": "111.136px",
    "width": "202.396px"
   },
   "toc_section_display": true,
   "toc_window_display": true
  }
 },
 "nbformat": 4,
 "nbformat_minor": 2
}
