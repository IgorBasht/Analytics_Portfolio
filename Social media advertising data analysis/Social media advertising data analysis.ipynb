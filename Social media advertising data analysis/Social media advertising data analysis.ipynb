{
 "cells": [
  {
   "cell_type": "markdown",
   "id": "a00444cf",
   "metadata": {},
   "source": [
    "# Анализ данных рекламы в социальных сетях.\n",
    "\n",
    "Нам нужно проанализировать данные рекламы в социальных сетях.\n",
    "\n",
    "-   Первый этап - изучение общий информации.\n",
    "-   Второй этап - предобработка данных.\n",
    "-   Третий этап - анализ данных.\n",
    "-   Четвертый этап - общий вывод. \n",
    "\n",
    "Среди данных у нас есть возраст, ориентировочная зарплата, купли или нет товар."
   ]
  },
  {
   "cell_type": "markdown",
   "id": "e561f1e4",
   "metadata": {},
   "source": [
    "## Изучение общий информации."
   ]
  },
  {
   "cell_type": "code",
   "execution_count": 1,
   "id": "1c2107e0",
   "metadata": {},
   "outputs": [],
   "source": [
    "import pandas as pd\n",
    "import seaborn as sns\n",
    "import matplotlib.pyplot as plt"
   ]
  },
  {
   "cell_type": "code",
   "execution_count": 2,
   "id": "7f3df55f",
   "metadata": {
    "scrolled": false
   },
   "outputs": [
    {
     "data": {
      "text/html": [
       "<div>\n",
       "<style scoped>\n",
       "    .dataframe tbody tr th:only-of-type {\n",
       "        vertical-align: middle;\n",
       "    }\n",
       "\n",
       "    .dataframe tbody tr th {\n",
       "        vertical-align: top;\n",
       "    }\n",
       "\n",
       "    .dataframe thead th {\n",
       "        text-align: right;\n",
       "    }\n",
       "</style>\n",
       "<table border=\"1\" class=\"dataframe\">\n",
       "  <thead>\n",
       "    <tr style=\"text-align: right;\">\n",
       "      <th></th>\n",
       "      <th>Age</th>\n",
       "      <th>EstimatedSalary</th>\n",
       "      <th>Purchased</th>\n",
       "    </tr>\n",
       "  </thead>\n",
       "  <tbody>\n",
       "    <tr>\n",
       "      <th>0</th>\n",
       "      <td>19</td>\n",
       "      <td>19000</td>\n",
       "      <td>0</td>\n",
       "    </tr>\n",
       "    <tr>\n",
       "      <th>1</th>\n",
       "      <td>35</td>\n",
       "      <td>20000</td>\n",
       "      <td>0</td>\n",
       "    </tr>\n",
       "    <tr>\n",
       "      <th>2</th>\n",
       "      <td>26</td>\n",
       "      <td>43000</td>\n",
       "      <td>0</td>\n",
       "    </tr>\n",
       "    <tr>\n",
       "      <th>3</th>\n",
       "      <td>27</td>\n",
       "      <td>57000</td>\n",
       "      <td>0</td>\n",
       "    </tr>\n",
       "    <tr>\n",
       "      <th>4</th>\n",
       "      <td>19</td>\n",
       "      <td>76000</td>\n",
       "      <td>0</td>\n",
       "    </tr>\n",
       "    <tr>\n",
       "      <th>5</th>\n",
       "      <td>27</td>\n",
       "      <td>58000</td>\n",
       "      <td>0</td>\n",
       "    </tr>\n",
       "    <tr>\n",
       "      <th>6</th>\n",
       "      <td>27</td>\n",
       "      <td>84000</td>\n",
       "      <td>0</td>\n",
       "    </tr>\n",
       "    <tr>\n",
       "      <th>7</th>\n",
       "      <td>32</td>\n",
       "      <td>150000</td>\n",
       "      <td>1</td>\n",
       "    </tr>\n",
       "    <tr>\n",
       "      <th>8</th>\n",
       "      <td>25</td>\n",
       "      <td>33000</td>\n",
       "      <td>0</td>\n",
       "    </tr>\n",
       "    <tr>\n",
       "      <th>9</th>\n",
       "      <td>35</td>\n",
       "      <td>65000</td>\n",
       "      <td>0</td>\n",
       "    </tr>\n",
       "  </tbody>\n",
       "</table>\n",
       "</div>"
      ],
      "text/plain": [
       "   Age  EstimatedSalary  Purchased\n",
       "0   19            19000          0\n",
       "1   35            20000          0\n",
       "2   26            43000          0\n",
       "3   27            57000          0\n",
       "4   19            76000          0\n",
       "5   27            58000          0\n",
       "6   27            84000          0\n",
       "7   32           150000          1\n",
       "8   25            33000          0\n",
       "9   35            65000          0"
      ]
     },
     "execution_count": 2,
     "metadata": {},
     "output_type": "execute_result"
    }
   ],
   "source": [
    "try:\n",
    "    data = pd.read_csv(\"C:\\\\Users\\\\User\\\\Documents\\\\Phyton\\\\Social_Network_Ads.csv\")\n",
    "except: \n",
    "    data = pd.read_csv('C:\\\\Users\\\\User\\\\Desktop\\\\Social_Network_Ads.csv')\n",
    "  \n",
    "data.head(10)"
   ]
  },
  {
   "cell_type": "code",
   "execution_count": 3,
   "id": "d821b1bb",
   "metadata": {},
   "outputs": [],
   "source": [
    "data=data.rename(columns={'EstimatedSalary' : 'estimated_salary', 'Age' : 'age', 'Purchased' : 'purchased'})"
   ]
  },
  {
   "cell_type": "code",
   "execution_count": 4,
   "id": "686f39d5",
   "metadata": {
    "scrolled": false
   },
   "outputs": [
    {
     "name": "stdout",
     "output_type": "stream",
     "text": [
      "<class 'pandas.core.frame.DataFrame'>\n",
      "RangeIndex: 400 entries, 0 to 399\n",
      "Data columns (total 3 columns):\n",
      " #   Column            Non-Null Count  Dtype\n",
      "---  ------            --------------  -----\n",
      " 0   age               400 non-null    int64\n",
      " 1   estimated_salary  400 non-null    int64\n",
      " 2   purchased         400 non-null    int64\n",
      "dtypes: int64(3)\n",
      "memory usage: 9.5 KB\n"
     ]
    }
   ],
   "source": [
    "data.info();"
   ]
  },
  {
   "cell_type": "code",
   "execution_count": 5,
   "id": "8ff81811",
   "metadata": {},
   "outputs": [],
   "source": [
    "try:\n",
    "    data_corr = pd.read_csv(\"C:\\\\Users\\\\User\\\\Documents\\\\Phyton\\\\Social_Network_Ads.csv\")\n",
    "except: \n",
    "    data_corr = pd.read_csv('C:\\\\Users\\\\User\\\\Desktop\\\\Social_Network_Ads.csv')\n",
    "    \n",
    "data_corr=data.rename(columns={'EstimatedSalary' : 'estimated_salary', 'Age' : 'age', 'Purchased' : 'purchased'})"
   ]
  },
  {
   "cell_type": "markdown",
   "id": "1b237567",
   "metadata": {},
   "source": [
    "## Предобработка данных."
   ]
  },
  {
   "cell_type": "markdown",
   "id": "0713a6a5",
   "metadata": {},
   "source": [
    "Проверим данные на наличие пропущенных значений. Оценим объем пропущенных данных и решим, как их обработать если это потребуется."
   ]
  },
  {
   "cell_type": "code",
   "execution_count": 6,
   "id": "a4febf69",
   "metadata": {
    "scrolled": true
   },
   "outputs": [
    {
     "name": "stdout",
     "output_type": "stream",
     "text": [
      "age                 0\n",
      "estimated_salary    0\n",
      "purchased           0\n",
      "dtype: int64\n"
     ]
    }
   ],
   "source": [
    "print(data.isna().sum());"
   ]
  },
  {
   "cell_type": "markdown",
   "id": "8f791704",
   "metadata": {},
   "source": [
    "Пропусков нет."
   ]
  },
  {
   "cell_type": "markdown",
   "id": "2fcd2995",
   "metadata": {},
   "source": [
    "Оценим качество данных, проверим наличие выбросов или необычных значений, проверим данные на аномалии."
   ]
  },
  {
   "cell_type": "code",
   "execution_count": 7,
   "id": "df60dc3b",
   "metadata": {},
   "outputs": [
    {
     "name": "stdout",
     "output_type": "stream",
     "text": [
      "Минимальный возраст: 18\n",
      "Максимальный возраст: 60\n"
     ]
    },
    {
     "data": {
      "image/png": "[encoded data removed]",
      "text/plain": [
       "<Figure size 432x288 with 1 Axes>"
      ]
     },
     "metadata": {
      "needs_background": "light"
     },
     "output_type": "display_data"
    }
   ],
   "source": [
    "data['age'].hist()\n",
    "print('Минимальный возраст:',data['age'].min())\n",
    "print('Максимальный возраст:',data['age'].max())"
   ]
  },
  {
   "cell_type": "code",
   "execution_count": 8,
   "id": "bf9ef935",
   "metadata": {},
   "outputs": [
    {
     "name": "stdout",
     "output_type": "stream",
     "text": [
      "Минимальная зарплата: 15000\n",
      "Минимальная зарплата: 150000\n"
     ]
    },
    {
     "data": {
      "image/png": "[encoded data removed]",
      "text/plain": [
       "<Figure size 432x288 with 1 Axes>"
      ]
     },
     "metadata": {
      "needs_background": "light"
     },
     "output_type": "display_data"
    }
   ],
   "source": [
    "data['estimated_salary'].hist()\n",
    "print('Минимальная зарплата:', data['estimated_salary'].min())\n",
    "print('Минимальная зарплата:', data['estimated_salary'].max())"
   ]
  },
  {
   "cell_type": "code",
   "execution_count": 9,
   "id": "880e6d54",
   "metadata": {},
   "outputs": [
    {
     "name": "stdout",
     "output_type": "stream",
     "text": [
      "[0 1]\n"
     ]
    },
    {
     "data": {
      "image/png": "[encoded data removed]",
      "text/plain": [
       "<Figure size 432x288 with 1 Axes>"
      ]
     },
     "metadata": {
      "needs_background": "light"
     },
     "output_type": "display_data"
    }
   ],
   "source": [
    "print(data['purchased'].unique());\n",
    "data['purchased'].hist(bins=4);"
   ]
  },
  {
   "cell_type": "markdown",
   "id": "5bf0f239",
   "metadata": {},
   "source": [
    "Аномалий в данных нет."
   ]
  },
  {
   "cell_type": "markdown",
   "id": "67d5af56",
   "metadata": {},
   "source": [
    "Проведем анализ дубликатов в данных."
   ]
  },
  {
   "cell_type": "code",
   "execution_count": 10,
   "id": "049860bb",
   "metadata": {
    "scrolled": true
   },
   "outputs": [
    {
     "name": "stdout",
     "output_type": "stream",
     "text": [
      "Количество дубликатов: 33\n"
     ]
    }
   ],
   "source": [
    "print('Количество дубликатов:', data.duplicated().sum());"
   ]
  },
  {
   "cell_type": "code",
   "execution_count": 11,
   "id": "a427d38b",
   "metadata": {
    "scrolled": false
   },
   "outputs": [
    {
     "name": "stdout",
     "output_type": "stream",
     "text": [
      "Процент дубликатов от общего числа: 2.7 %\n"
     ]
    }
   ],
   "source": [
    "x = (data.duplicated().sum()) * 33 / (len(data))\n",
    "print('Процент дубликатов от общего числа:', x.round(1),'%')"
   ]
  },
  {
   "cell_type": "markdown",
   "id": "5e1a79b5",
   "metadata": {},
   "source": [
    "Удалим дубликаты."
   ]
  },
  {
   "cell_type": "code",
   "execution_count": 12,
   "id": "399d9cb7",
   "metadata": {},
   "outputs": [],
   "source": [
    "data=data.drop_duplicates()"
   ]
  },
  {
   "cell_type": "code",
   "execution_count": 13,
   "id": "b40b269b",
   "metadata": {
    "scrolled": true
   },
   "outputs": [
    {
     "name": "stdout",
     "output_type": "stream",
     "text": [
      "Количество дубликатов: 0\n"
     ]
    }
   ],
   "source": [
    "print('Количество дубликатов:', data.duplicated().sum());"
   ]
  },
  {
   "cell_type": "markdown",
   "id": "220b1120",
   "metadata": {},
   "source": [
    "Сделаем данные некоторых категорий более понятными, заменим в колонке Purchased нули и единицы на подходящие текстовые категории."
   ]
  },
  {
   "cell_type": "code",
   "execution_count": 14,
   "id": "df569664",
   "metadata": {},
   "outputs": [],
   "source": [
    "data['purchased'] = data['purchased'].apply(lambda x: 'покупка' if x == 1 else 'не куплено')"
   ]
  },
  {
   "cell_type": "code",
   "execution_count": 15,
   "id": "fd86d8b4",
   "metadata": {},
   "outputs": [
    {
     "data": {
      "text/html": [
       "<div>\n",
       "<style scoped>\n",
       "    .dataframe tbody tr th:only-of-type {\n",
       "        vertical-align: middle;\n",
       "    }\n",
       "\n",
       "    .dataframe tbody tr th {\n",
       "        vertical-align: top;\n",
       "    }\n",
       "\n",
       "    .dataframe thead th {\n",
       "        text-align: right;\n",
       "    }\n",
       "</style>\n",
       "<table border=\"1\" class=\"dataframe\">\n",
       "  <thead>\n",
       "    <tr style=\"text-align: right;\">\n",
       "      <th></th>\n",
       "      <th>age</th>\n",
       "      <th>estimated_salary</th>\n",
       "      <th>purchased</th>\n",
       "    </tr>\n",
       "  </thead>\n",
       "  <tbody>\n",
       "    <tr>\n",
       "      <th>0</th>\n",
       "      <td>19</td>\n",
       "      <td>19000</td>\n",
       "      <td>не куплено</td>\n",
       "    </tr>\n",
       "    <tr>\n",
       "      <th>1</th>\n",
       "      <td>35</td>\n",
       "      <td>20000</td>\n",
       "      <td>не куплено</td>\n",
       "    </tr>\n",
       "    <tr>\n",
       "      <th>2</th>\n",
       "      <td>26</td>\n",
       "      <td>43000</td>\n",
       "      <td>не куплено</td>\n",
       "    </tr>\n",
       "    <tr>\n",
       "      <th>3</th>\n",
       "      <td>27</td>\n",
       "      <td>57000</td>\n",
       "      <td>не куплено</td>\n",
       "    </tr>\n",
       "    <tr>\n",
       "      <th>4</th>\n",
       "      <td>19</td>\n",
       "      <td>76000</td>\n",
       "      <td>не куплено</td>\n",
       "    </tr>\n",
       "    <tr>\n",
       "      <th>5</th>\n",
       "      <td>27</td>\n",
       "      <td>58000</td>\n",
       "      <td>не куплено</td>\n",
       "    </tr>\n",
       "    <tr>\n",
       "      <th>6</th>\n",
       "      <td>27</td>\n",
       "      <td>84000</td>\n",
       "      <td>не куплено</td>\n",
       "    </tr>\n",
       "    <tr>\n",
       "      <th>7</th>\n",
       "      <td>32</td>\n",
       "      <td>150000</td>\n",
       "      <td>покупка</td>\n",
       "    </tr>\n",
       "    <tr>\n",
       "      <th>8</th>\n",
       "      <td>25</td>\n",
       "      <td>33000</td>\n",
       "      <td>не куплено</td>\n",
       "    </tr>\n",
       "    <tr>\n",
       "      <th>9</th>\n",
       "      <td>35</td>\n",
       "      <td>65000</td>\n",
       "      <td>не куплено</td>\n",
       "    </tr>\n",
       "  </tbody>\n",
       "</table>\n",
       "</div>"
      ],
      "text/plain": [
       "   age  estimated_salary   purchased\n",
       "0   19             19000  не куплено\n",
       "1   35             20000  не куплено\n",
       "2   26             43000  не куплено\n",
       "3   27             57000  не куплено\n",
       "4   19             76000  не куплено\n",
       "5   27             58000  не куплено\n",
       "6   27             84000  не куплено\n",
       "7   32            150000     покупка\n",
       "8   25             33000  не куплено\n",
       "9   35             65000  не куплено"
      ]
     },
     "execution_count": 15,
     "metadata": {},
     "output_type": "execute_result"
    }
   ],
   "source": [
    "data.head(10)"
   ]
  },
  {
   "cell_type": "markdown",
   "id": "43d9a521",
   "metadata": {},
   "source": [
    "## Анализ данных."
   ]
  },
  {
   "cell_type": "markdown",
   "id": "9303f982",
   "metadata": {},
   "source": [
    "Посмотрим медианную зарплату  и распределение количества клиент по возрастам."
   ]
  },
  {
   "cell_type": "code",
   "execution_count": 16,
   "id": "20a8290d",
   "metadata": {},
   "outputs": [],
   "source": [
    "data_pivot = data.pivot_table(index='age', values='estimated_salary', aggfunc='median')\n",
    "data_count_01 = data.pivot_table(index='age', values='estimated_salary', aggfunc='count').reset_index()\n",
    "#x = data_count_01['estimated_salary'].sum()"
   ]
  },
  {
   "cell_type": "code",
   "execution_count": 17,
   "id": "53105c48",
   "metadata": {
    "scrolled": true
   },
   "outputs": [
    {
     "data": {
      "text/html": [
       "<div>\n",
       "<style scoped>\n",
       "    .dataframe tbody tr th:only-of-type {\n",
       "        vertical-align: middle;\n",
       "    }\n",
       "\n",
       "    .dataframe tbody tr th {\n",
       "        vertical-align: top;\n",
       "    }\n",
       "\n",
       "    .dataframe thead th {\n",
       "        text-align: right;\n",
       "    }\n",
       "</style>\n",
       "<table border=\"1\" class=\"dataframe\">\n",
       "  <thead>\n",
       "    <tr style=\"text-align: right;\">\n",
       "      <th></th>\n",
       "      <th>estimated_salary</th>\n",
       "    </tr>\n",
       "    <tr>\n",
       "      <th>age</th>\n",
       "      <th></th>\n",
       "    </tr>\n",
       "  </thead>\n",
       "  <tbody>\n",
       "    <tr>\n",
       "      <th>18</th>\n",
       "      <td>68000</td>\n",
       "    </tr>\n",
       "    <tr>\n",
       "      <th>19</th>\n",
       "      <td>26000</td>\n",
       "    </tr>\n",
       "    <tr>\n",
       "      <th>20</th>\n",
       "      <td>61500</td>\n",
       "    </tr>\n",
       "    <tr>\n",
       "      <th>21</th>\n",
       "      <td>70000</td>\n",
       "    </tr>\n",
       "    <tr>\n",
       "      <th>22</th>\n",
       "      <td>55000</td>\n",
       "    </tr>\n",
       "    <tr>\n",
       "      <th>23</th>\n",
       "      <td>55500</td>\n",
       "    </tr>\n",
       "    <tr>\n",
       "      <th>24</th>\n",
       "      <td>43500</td>\n",
       "    </tr>\n",
       "    <tr>\n",
       "      <th>25</th>\n",
       "      <td>79500</td>\n",
       "    </tr>\n",
       "    <tr>\n",
       "      <th>26</th>\n",
       "      <td>47500</td>\n",
       "    </tr>\n",
       "    <tr>\n",
       "      <th>27</th>\n",
       "      <td>71000</td>\n",
       "    </tr>\n",
       "  </tbody>\n",
       "</table>\n",
       "</div>"
      ],
      "text/plain": [
       "     estimated_salary\n",
       "age                  \n",
       "18              68000\n",
       "19              26000\n",
       "20              61500\n",
       "21              70000\n",
       "22              55000\n",
       "23              55500\n",
       "24              43500\n",
       "25              79500\n",
       "26              47500\n",
       "27              71000"
      ]
     },
     "execution_count": 17,
     "metadata": {},
     "output_type": "execute_result"
    }
   ],
   "source": [
    "data_pivot.head(10)"
   ]
  },
  {
   "cell_type": "code",
   "execution_count": 18,
   "id": "cff18ff6",
   "metadata": {},
   "outputs": [
    {
     "data": {
      "text/html": [
       "<div>\n",
       "<style scoped>\n",
       "    .dataframe tbody tr th:only-of-type {\n",
       "        vertical-align: middle;\n",
       "    }\n",
       "\n",
       "    .dataframe tbody tr th {\n",
       "        vertical-align: top;\n",
       "    }\n",
       "\n",
       "    .dataframe thead th {\n",
       "        text-align: right;\n",
       "    }\n",
       "</style>\n",
       "<table border=\"1\" class=\"dataframe\">\n",
       "  <thead>\n",
       "    <tr style=\"text-align: right;\">\n",
       "      <th></th>\n",
       "      <th>age</th>\n",
       "      <th>estimated_salary</th>\n",
       "    </tr>\n",
       "  </thead>\n",
       "  <tbody>\n",
       "    <tr>\n",
       "      <th>0</th>\n",
       "      <td>18</td>\n",
       "      <td>5</td>\n",
       "    </tr>\n",
       "    <tr>\n",
       "      <th>1</th>\n",
       "      <td>19</td>\n",
       "      <td>7</td>\n",
       "    </tr>\n",
       "    <tr>\n",
       "      <th>2</th>\n",
       "      <td>20</td>\n",
       "      <td>6</td>\n",
       "    </tr>\n",
       "    <tr>\n",
       "      <th>3</th>\n",
       "      <td>21</td>\n",
       "      <td>4</td>\n",
       "    </tr>\n",
       "    <tr>\n",
       "      <th>4</th>\n",
       "      <td>22</td>\n",
       "      <td>5</td>\n",
       "    </tr>\n",
       "    <tr>\n",
       "      <th>5</th>\n",
       "      <td>23</td>\n",
       "      <td>6</td>\n",
       "    </tr>\n",
       "    <tr>\n",
       "      <th>6</th>\n",
       "      <td>24</td>\n",
       "      <td>8</td>\n",
       "    </tr>\n",
       "    <tr>\n",
       "      <th>7</th>\n",
       "      <td>25</td>\n",
       "      <td>6</td>\n",
       "    </tr>\n",
       "    <tr>\n",
       "      <th>8</th>\n",
       "      <td>26</td>\n",
       "      <td>14</td>\n",
       "    </tr>\n",
       "    <tr>\n",
       "      <th>9</th>\n",
       "      <td>27</td>\n",
       "      <td>12</td>\n",
       "    </tr>\n",
       "  </tbody>\n",
       "</table>\n",
       "</div>"
      ],
      "text/plain": [
       "   age  estimated_salary\n",
       "0   18                 5\n",
       "1   19                 7\n",
       "2   20                 6\n",
       "3   21                 4\n",
       "4   22                 5\n",
       "5   23                 6\n",
       "6   24                 8\n",
       "7   25                 6\n",
       "8   26                14\n",
       "9   27                12"
      ]
     },
     "execution_count": 18,
     "metadata": {},
     "output_type": "execute_result"
    }
   ],
   "source": [
    "data_count_01.head(10)"
   ]
  },
  {
   "cell_type": "code",
   "execution_count": 19,
   "id": "39cb8997",
   "metadata": {
    "scrolled": false
   },
   "outputs": [
    {
     "data": {
      "image/png": "[encoded data removed]",
      "text/plain": [
       "<Figure size 720x432 with 1 Axes>"
      ]
     },
     "metadata": {
      "needs_background": "light"
     },
     "output_type": "display_data"
    }
   ],
   "source": [
    "sns.barplot(x = data['age'], y = data['estimated_salary'])\n",
    "plt.xticks(rotation=45)\n",
    "plt.grid()\n",
    "plt.gcf().set_size_inches(10, 6)\n",
    "plt.title('Распределение по возрасту медианной зарплаты')\n",
    "plt.xlabel('Возраст')\n",
    "plt.ylabel('Зарплата');"
   ]
  },
  {
   "cell_type": "code",
   "execution_count": 20,
   "id": "8a9281d6",
   "metadata": {},
   "outputs": [
    {
     "data": {
      "image/png": "[encoded data removed]",
      "text/plain": [
       "<Figure size 720x432 with 1 Axes>"
      ]
     },
     "metadata": {
      "needs_background": "light"
     },
     "output_type": "display_data"
    }
   ],
   "source": [
    "sns.barplot(x = data_count_01['age'], y = data_count_01['estimated_salary'])\n",
    "plt.xticks(rotation=45)\n",
    "plt.grid()\n",
    "plt.gcf().set_size_inches(10, 6)\n",
    "plt.title('Распределение по возрасту количество клиентов')\n",
    "plt.xlabel('Возраст')\n",
    "plt.ylabel('Количество');"
   ]
  },
  {
   "cell_type": "markdown",
   "id": "cc620a64",
   "metadata": {},
   "source": [
    "Разделим на категории для удобства возраста. Разобьем их на три категории молодые, средний возраст, возрастные "
   ]
  },
  {
   "cell_type": "code",
   "execution_count": 21,
   "id": "0cbfdf49",
   "metadata": {},
   "outputs": [],
   "source": [
    "def categorize(income):\n",
    "    try:\n",
    "        if 17 <= income <= 32:\n",
    "            return 'молодой'\n",
    "        elif 33 <= income <= 42:\n",
    "            return 'средний возраст'\n",
    "        elif  income >= 43:\n",
    "            return 'возрастной'\n",
    "    except:\n",
    "        pass\n",
    "data['category_age'] = data['age'].apply(categorize)        "
   ]
  },
  {
   "cell_type": "code",
   "execution_count": 22,
   "id": "16097503",
   "metadata": {},
   "outputs": [
    {
     "data": {
      "text/html": [
       "<div>\n",
       "<style scoped>\n",
       "    .dataframe tbody tr th:only-of-type {\n",
       "        vertical-align: middle;\n",
       "    }\n",
       "\n",
       "    .dataframe tbody tr th {\n",
       "        vertical-align: top;\n",
       "    }\n",
       "\n",
       "    .dataframe thead th {\n",
       "        text-align: right;\n",
       "    }\n",
       "</style>\n",
       "<table border=\"1\" class=\"dataframe\">\n",
       "  <thead>\n",
       "    <tr style=\"text-align: right;\">\n",
       "      <th></th>\n",
       "      <th>age</th>\n",
       "      <th>estimated_salary</th>\n",
       "      <th>purchased</th>\n",
       "      <th>category_age</th>\n",
       "    </tr>\n",
       "  </thead>\n",
       "  <tbody>\n",
       "    <tr>\n",
       "      <th>0</th>\n",
       "      <td>19</td>\n",
       "      <td>19000</td>\n",
       "      <td>не куплено</td>\n",
       "      <td>молодой</td>\n",
       "    </tr>\n",
       "    <tr>\n",
       "      <th>1</th>\n",
       "      <td>35</td>\n",
       "      <td>20000</td>\n",
       "      <td>не куплено</td>\n",
       "      <td>средний возраст</td>\n",
       "    </tr>\n",
       "    <tr>\n",
       "      <th>2</th>\n",
       "      <td>26</td>\n",
       "      <td>43000</td>\n",
       "      <td>не куплено</td>\n",
       "      <td>молодой</td>\n",
       "    </tr>\n",
       "    <tr>\n",
       "      <th>3</th>\n",
       "      <td>27</td>\n",
       "      <td>57000</td>\n",
       "      <td>не куплено</td>\n",
       "      <td>молодой</td>\n",
       "    </tr>\n",
       "    <tr>\n",
       "      <th>4</th>\n",
       "      <td>19</td>\n",
       "      <td>76000</td>\n",
       "      <td>не куплено</td>\n",
       "      <td>молодой</td>\n",
       "    </tr>\n",
       "    <tr>\n",
       "      <th>5</th>\n",
       "      <td>27</td>\n",
       "      <td>58000</td>\n",
       "      <td>не куплено</td>\n",
       "      <td>молодой</td>\n",
       "    </tr>\n",
       "    <tr>\n",
       "      <th>6</th>\n",
       "      <td>27</td>\n",
       "      <td>84000</td>\n",
       "      <td>не куплено</td>\n",
       "      <td>молодой</td>\n",
       "    </tr>\n",
       "    <tr>\n",
       "      <th>7</th>\n",
       "      <td>32</td>\n",
       "      <td>150000</td>\n",
       "      <td>покупка</td>\n",
       "      <td>молодой</td>\n",
       "    </tr>\n",
       "    <tr>\n",
       "      <th>8</th>\n",
       "      <td>25</td>\n",
       "      <td>33000</td>\n",
       "      <td>не куплено</td>\n",
       "      <td>молодой</td>\n",
       "    </tr>\n",
       "    <tr>\n",
       "      <th>9</th>\n",
       "      <td>35</td>\n",
       "      <td>65000</td>\n",
       "      <td>не куплено</td>\n",
       "      <td>средний возраст</td>\n",
       "    </tr>\n",
       "  </tbody>\n",
       "</table>\n",
       "</div>"
      ],
      "text/plain": [
       "   age  estimated_salary   purchased     category_age\n",
       "0   19             19000  не куплено          молодой\n",
       "1   35             20000  не куплено  средний возраст\n",
       "2   26             43000  не куплено          молодой\n",
       "3   27             57000  не куплено          молодой\n",
       "4   19             76000  не куплено          молодой\n",
       "5   27             58000  не куплено          молодой\n",
       "6   27             84000  не куплено          молодой\n",
       "7   32            150000     покупка          молодой\n",
       "8   25             33000  не куплено          молодой\n",
       "9   35             65000  не куплено  средний возраст"
      ]
     },
     "execution_count": 22,
     "metadata": {},
     "output_type": "execute_result"
    }
   ],
   "source": [
    "data.head(10)\n",
    "#data['category_age'].count()\n",
    "\n",
    "#check = data.groupby(['category_age'],as_index = False)[['age']].count()\n",
    "#check"
   ]
  },
  {
   "cell_type": "code",
   "execution_count": 23,
   "id": "5f9e10c8",
   "metadata": {
    "scrolled": false
   },
   "outputs": [
    {
     "data": {
      "image/png": "[encoded data removed]",
      "text/plain": [
       "<Figure size 720x432 with 1 Axes>"
      ]
     },
     "metadata": {
      "needs_background": "light"
     },
     "output_type": "display_data"
    }
   ],
   "source": [
    "sns.barplot(x = data['category_age'], y = data['estimated_salary'])\n",
    "plt.xticks(rotation=45)\n",
    "plt.grid()\n",
    "plt.gcf().set_size_inches(10, 6)\n",
    "plt.title('Распределение по возрастным категориям медианной зарплаты')\n",
    "plt.xlabel('Возраст')\n",
    "plt.ylabel('Зарплата');"
   ]
  },
  {
   "cell_type": "markdown",
   "id": "de46536c",
   "metadata": {},
   "source": [
    "Медийная заработная плата потенциальных клиентов повышается с возрастом. "
   ]
  },
  {
   "cell_type": "markdown",
   "id": "836f3b68",
   "metadata": {},
   "source": [
    "Посмотрим распределение среди клиентов которые покупают рекламированный товар и тех что не покупают."
   ]
  },
  {
   "cell_type": "code",
   "execution_count": 24,
   "id": "da3801e7",
   "metadata": {},
   "outputs": [],
   "source": [
    "group_data = data.groupby(['category_age', 'purchased'], \\\n",
    "                       as_index = False)[['age']].count().sort_values(by='category_age', ascending=False)"
   ]
  },
  {
   "cell_type": "code",
   "execution_count": 25,
   "id": "dcf492fe",
   "metadata": {},
   "outputs": [
    {
     "data": {
      "text/html": [
       "<div>\n",
       "<style scoped>\n",
       "    .dataframe tbody tr th:only-of-type {\n",
       "        vertical-align: middle;\n",
       "    }\n",
       "\n",
       "    .dataframe tbody tr th {\n",
       "        vertical-align: top;\n",
       "    }\n",
       "\n",
       "    .dataframe thead th {\n",
       "        text-align: right;\n",
       "    }\n",
       "</style>\n",
       "<table border=\"1\" class=\"dataframe\">\n",
       "  <thead>\n",
       "    <tr style=\"text-align: right;\">\n",
       "      <th></th>\n",
       "      <th>category_age</th>\n",
       "      <th>purchased</th>\n",
       "      <th>age</th>\n",
       "    </tr>\n",
       "  </thead>\n",
       "  <tbody>\n",
       "    <tr>\n",
       "      <th>4</th>\n",
       "      <td>средний возраст</td>\n",
       "      <td>не куплено</td>\n",
       "      <td>101</td>\n",
       "    </tr>\n",
       "    <tr>\n",
       "      <th>5</th>\n",
       "      <td>средний возраст</td>\n",
       "      <td>покупка</td>\n",
       "      <td>33</td>\n",
       "    </tr>\n",
       "    <tr>\n",
       "      <th>2</th>\n",
       "      <td>молодой</td>\n",
       "      <td>не куплено</td>\n",
       "      <td>110</td>\n",
       "    </tr>\n",
       "    <tr>\n",
       "      <th>3</th>\n",
       "      <td>молодой</td>\n",
       "      <td>покупка</td>\n",
       "      <td>12</td>\n",
       "    </tr>\n",
       "    <tr>\n",
       "      <th>0</th>\n",
       "      <td>возрастной</td>\n",
       "      <td>не куплено</td>\n",
       "      <td>18</td>\n",
       "    </tr>\n",
       "    <tr>\n",
       "      <th>1</th>\n",
       "      <td>возрастной</td>\n",
       "      <td>покупка</td>\n",
       "      <td>93</td>\n",
       "    </tr>\n",
       "  </tbody>\n",
       "</table>\n",
       "</div>"
      ],
      "text/plain": [
       "      category_age   purchased  age\n",
       "4  средний возраст  не куплено  101\n",
       "5  средний возраст     покупка   33\n",
       "2          молодой  не куплено  110\n",
       "3          молодой     покупка   12\n",
       "0       возрастной  не куплено   18\n",
       "1       возрастной     покупка   93"
      ]
     },
     "execution_count": 25,
     "metadata": {},
     "output_type": "execute_result"
    }
   ],
   "source": [
    "group_data"
   ]
  },
  {
   "cell_type": "code",
   "execution_count": 26,
   "id": "d64c8adb",
   "metadata": {
    "scrolled": false
   },
   "outputs": [
    {
     "data": {
      "image/png": "[encoded data removed]",
      "text/plain": [
       "<Figure size 720x432 with 1 Axes>"
      ]
     },
     "metadata": {
      "needs_background": "light"
     },
     "output_type": "display_data"
    }
   ],
   "source": [
    "sns.barplot(data=group_data, x='category_age', y='age', hue='purchased')\n",
    "plt.xticks(rotation=45)\n",
    "plt.grid()\n",
    "plt.legend(fontsize=10)\n",
    "plt.gcf().set_size_inches(10, 6)\n",
    "plt.title('Соотношение клиентов по возрастным категориям')\n",
    "plt.xlabel('Категория')\n",
    "plt.ylabel('Количество');"
   ]
  },
  {
   "cell_type": "markdown",
   "id": "a1f1eb9d",
   "metadata": {},
   "source": [
    "Здесь можно увидеть  что чем более возрастной клиент тем больше вероятность что он приобретет товар. "
   ]
  },
  {
   "cell_type": "code",
   "execution_count": 27,
   "id": "abdddf85",
   "metadata": {},
   "outputs": [],
   "source": [
    "group_salary = data.groupby(['category_age', 'purchased'], \\\n",
    "                       as_index = False)[['estimated_salary']].median()"
   ]
  },
  {
   "cell_type": "code",
   "execution_count": 28,
   "id": "997c0ae0",
   "metadata": {},
   "outputs": [
    {
     "data": {
      "text/html": [
       "<div>\n",
       "<style scoped>\n",
       "    .dataframe tbody tr th:only-of-type {\n",
       "        vertical-align: middle;\n",
       "    }\n",
       "\n",
       "    .dataframe tbody tr th {\n",
       "        vertical-align: top;\n",
       "    }\n",
       "\n",
       "    .dataframe thead th {\n",
       "        text-align: right;\n",
       "    }\n",
       "</style>\n",
       "<table border=\"1\" class=\"dataframe\">\n",
       "  <thead>\n",
       "    <tr style=\"text-align: right;\">\n",
       "      <th></th>\n",
       "      <th>category_age</th>\n",
       "      <th>purchased</th>\n",
       "      <th>estimated_salary</th>\n",
       "    </tr>\n",
       "  </thead>\n",
       "  <tbody>\n",
       "    <tr>\n",
       "      <th>0</th>\n",
       "      <td>возрастной</td>\n",
       "      <td>не куплено</td>\n",
       "      <td>74000.0</td>\n",
       "    </tr>\n",
       "    <tr>\n",
       "      <th>1</th>\n",
       "      <td>возрастной</td>\n",
       "      <td>покупка</td>\n",
       "      <td>74000.0</td>\n",
       "    </tr>\n",
       "    <tr>\n",
       "      <th>2</th>\n",
       "      <td>молодой</td>\n",
       "      <td>не куплено</td>\n",
       "      <td>61500.0</td>\n",
       "    </tr>\n",
       "    <tr>\n",
       "      <th>3</th>\n",
       "      <td>молодой</td>\n",
       "      <td>покупка</td>\n",
       "      <td>121500.0</td>\n",
       "    </tr>\n",
       "    <tr>\n",
       "      <th>4</th>\n",
       "      <td>средний возраст</td>\n",
       "      <td>не куплено</td>\n",
       "      <td>60000.0</td>\n",
       "    </tr>\n",
       "    <tr>\n",
       "      <th>5</th>\n",
       "      <td>средний возраст</td>\n",
       "      <td>покупка</td>\n",
       "      <td>107000.0</td>\n",
       "    </tr>\n",
       "  </tbody>\n",
       "</table>\n",
       "</div>"
      ],
      "text/plain": [
       "      category_age   purchased  estimated_salary\n",
       "0       возрастной  не куплено           74000.0\n",
       "1       возрастной     покупка           74000.0\n",
       "2          молодой  не куплено           61500.0\n",
       "3          молодой     покупка          121500.0\n",
       "4  средний возраст  не куплено           60000.0\n",
       "5  средний возраст     покупка          107000.0"
      ]
     },
     "execution_count": 28,
     "metadata": {},
     "output_type": "execute_result"
    }
   ],
   "source": [
    "group_salary"
   ]
  },
  {
   "cell_type": "code",
   "execution_count": 29,
   "id": "708e6a20",
   "metadata": {
    "scrolled": false
   },
   "outputs": [
    {
     "data": {
      "image/png": "[encoded data removed]",
      "text/plain": [
       "<Figure size 720x432 with 1 Axes>"
      ]
     },
     "metadata": {
      "needs_background": "light"
     },
     "output_type": "display_data"
    }
   ],
   "source": [
    "sns.barplot(data=group_salary, x='category_age', y='estimated_salary', hue='purchased')\n",
    "plt.xticks(rotation=45)\n",
    "plt.grid()\n",
    "plt.legend(fontsize=10)\n",
    "plt.gcf().set_size_inches(10, 6)\n",
    "plt.title('Соотношение медианной зарплаты по возрастным категориям')\n",
    "plt.xlabel('Категория')\n",
    "plt.ylabel('Количество');"
   ]
  },
  {
   "cell_type": "markdown",
   "id": "e3f14202",
   "metadata": {},
   "source": [
    "Зарплата сильно влияет на молодой и средний возраст, но у возрастных клиентов разнице в медийной заработанной плате в категории купивших и не купивших разницы нет. "
   ]
  },
  {
   "cell_type": "markdown",
   "id": "9f76c017",
   "metadata": {},
   "source": [
    "Разобьем заработанную плату на три категории:\n",
    "- A - до 50000; \n",
    "- B - от 50001 до 80000; \n",
    "- C - от 80001."
   ]
  },
  {
   "cell_type": "code",
   "execution_count": 30,
   "id": "5a30b28b",
   "metadata": {},
   "outputs": [],
   "source": [
    "def estimated_income(income):\n",
    "    try:\n",
    "        if 0 <= income <= 50000:\n",
    "            return 'A'\n",
    "        elif 50001 <= income <= 80000:\n",
    "            return 'B'\n",
    "        elif income >= 80001:\n",
    "            return 'C'\n",
    "    except:\n",
    "        pass"
   ]
  },
  {
   "cell_type": "code",
   "execution_count": 31,
   "id": "09bf2053",
   "metadata": {
    "scrolled": true
   },
   "outputs": [
    {
     "data": {
      "text/html": [
       "<div>\n",
       "<style scoped>\n",
       "    .dataframe tbody tr th:only-of-type {\n",
       "        vertical-align: middle;\n",
       "    }\n",
       "\n",
       "    .dataframe tbody tr th {\n",
       "        vertical-align: top;\n",
       "    }\n",
       "\n",
       "    .dataframe thead th {\n",
       "        text-align: right;\n",
       "    }\n",
       "</style>\n",
       "<table border=\"1\" class=\"dataframe\">\n",
       "  <thead>\n",
       "    <tr style=\"text-align: right;\">\n",
       "      <th></th>\n",
       "      <th>age</th>\n",
       "      <th>estimated_salary</th>\n",
       "      <th>purchased</th>\n",
       "      <th>category_age</th>\n",
       "      <th>estimated_category</th>\n",
       "    </tr>\n",
       "  </thead>\n",
       "  <tbody>\n",
       "    <tr>\n",
       "      <th>0</th>\n",
       "      <td>19</td>\n",
       "      <td>19000</td>\n",
       "      <td>не куплено</td>\n",
       "      <td>молодой</td>\n",
       "      <td>A</td>\n",
       "    </tr>\n",
       "    <tr>\n",
       "      <th>1</th>\n",
       "      <td>35</td>\n",
       "      <td>20000</td>\n",
       "      <td>не куплено</td>\n",
       "      <td>средний возраст</td>\n",
       "      <td>A</td>\n",
       "    </tr>\n",
       "    <tr>\n",
       "      <th>2</th>\n",
       "      <td>26</td>\n",
       "      <td>43000</td>\n",
       "      <td>не куплено</td>\n",
       "      <td>молодой</td>\n",
       "      <td>A</td>\n",
       "    </tr>\n",
       "    <tr>\n",
       "      <th>3</th>\n",
       "      <td>27</td>\n",
       "      <td>57000</td>\n",
       "      <td>не куплено</td>\n",
       "      <td>молодой</td>\n",
       "      <td>B</td>\n",
       "    </tr>\n",
       "    <tr>\n",
       "      <th>4</th>\n",
       "      <td>19</td>\n",
       "      <td>76000</td>\n",
       "      <td>не куплено</td>\n",
       "      <td>молодой</td>\n",
       "      <td>B</td>\n",
       "    </tr>\n",
       "  </tbody>\n",
       "</table>\n",
       "</div>"
      ],
      "text/plain": [
       "   age  estimated_salary   purchased     category_age estimated_category\n",
       "0   19             19000  не куплено          молодой                  A\n",
       "1   35             20000  не куплено  средний возраст                  A\n",
       "2   26             43000  не куплено          молодой                  A\n",
       "3   27             57000  не куплено          молодой                  B\n",
       "4   19             76000  не куплено          молодой                  B"
      ]
     },
     "execution_count": 31,
     "metadata": {},
     "output_type": "execute_result"
    }
   ],
   "source": [
    "data['estimated_category'] = data['estimated_salary'].apply(estimated_income)\n",
    "data.head()"
   ]
  },
  {
   "cell_type": "code",
   "execution_count": 32,
   "id": "a3634060",
   "metadata": {},
   "outputs": [
    {
     "data": {
      "text/html": [
       "<div>\n",
       "<style scoped>\n",
       "    .dataframe tbody tr th:only-of-type {\n",
       "        vertical-align: middle;\n",
       "    }\n",
       "\n",
       "    .dataframe tbody tr th {\n",
       "        vertical-align: top;\n",
       "    }\n",
       "\n",
       "    .dataframe thead th {\n",
       "        text-align: right;\n",
       "    }\n",
       "</style>\n",
       "<table border=\"1\" class=\"dataframe\">\n",
       "  <thead>\n",
       "    <tr style=\"text-align: right;\">\n",
       "      <th></th>\n",
       "      <th>estimated_category</th>\n",
       "      <th>purchased</th>\n",
       "      <th>age</th>\n",
       "    </tr>\n",
       "  </thead>\n",
       "  <tbody>\n",
       "    <tr>\n",
       "      <th>0</th>\n",
       "      <td>A</td>\n",
       "      <td>покупка</td>\n",
       "      <td>40</td>\n",
       "    </tr>\n",
       "    <tr>\n",
       "      <th>1</th>\n",
       "      <td>B</td>\n",
       "      <td>покупка</td>\n",
       "      <td>16</td>\n",
       "    </tr>\n",
       "    <tr>\n",
       "      <th>2</th>\n",
       "      <td>C</td>\n",
       "      <td>покупка</td>\n",
       "      <td>82</td>\n",
       "    </tr>\n",
       "    <tr>\n",
       "      <th>3</th>\n",
       "      <td>A</td>\n",
       "      <td>не куплено</td>\n",
       "      <td>73</td>\n",
       "    </tr>\n",
       "    <tr>\n",
       "      <th>4</th>\n",
       "      <td>B</td>\n",
       "      <td>не куплено</td>\n",
       "      <td>113</td>\n",
       "    </tr>\n",
       "    <tr>\n",
       "      <th>5</th>\n",
       "      <td>C</td>\n",
       "      <td>не куплено</td>\n",
       "      <td>43</td>\n",
       "    </tr>\n",
       "  </tbody>\n",
       "</table>\n",
       "</div>"
      ],
      "text/plain": [
       "  estimated_category   purchased  age\n",
       "0                  A     покупка   40\n",
       "1                  B     покупка   16\n",
       "2                  C     покупка   82\n",
       "3                  A  не куплено   73\n",
       "4                  B  не куплено  113\n",
       "5                  C  не куплено   43"
      ]
     },
     "execution_count": 32,
     "metadata": {},
     "output_type": "execute_result"
    }
   ],
   "source": [
    "estimated = (data.pivot_table(index=['estimated_category', 'purchased'], values='age', aggfunc='count')\n",
    "              .sort_values(by='purchased', ascending=False)\n",
    "              .reset_index()\n",
    "             )\n",
    "\n",
    "estimated"
   ]
  },
  {
   "cell_type": "code",
   "execution_count": 33,
   "id": "a46016bd",
   "metadata": {
    "scrolled": false
   },
   "outputs": [
    {
     "data": {
      "image/png": "[encoded data removed]",
      "text/plain": [
       "<Figure size 720x432 with 1 Axes>"
      ]
     },
     "metadata": {
      "needs_background": "light"
     },
     "output_type": "display_data"
    }
   ],
   "source": [
    "sns.barplot(data=estimated, x='estimated_category', y='age', hue='purchased')\n",
    "plt.xticks(rotation=45)\n",
    "plt.grid()\n",
    "plt.legend(fontsize=10)\n",
    "plt.gcf().set_size_inches(10, 6)\n",
    "plt.title('Соотношение клиентов по категориям зарплат')\n",
    "plt.xlabel('Категория')\n",
    "plt.ylabel('Количество');"
   ]
  },
  {
   "cell_type": "markdown",
   "id": "519164dc",
   "metadata": {},
   "source": [
    "В категории \"B\" есть явная просадка по клиентам, а в категории \"С\" идет резкий подъем и количество купивших превышает категории не купивших товар.  "
   ]
  },
  {
   "cell_type": "markdown",
   "id": "0c0ba06a",
   "metadata": {},
   "source": [
    "Посмотрим на корреляцию данных."
   ]
  },
  {
   "cell_type": "code",
   "execution_count": 34,
   "id": "faa2d463",
   "metadata": {
    "scrolled": false
   },
   "outputs": [
    {
     "data": {
      "image/png": "[encoded data removed]",
      "text/plain": [
       "<Figure size 720x432 with 2 Axes>"
      ]
     },
     "metadata": {
      "needs_background": "light"
     },
     "output_type": "display_data"
    }
   ],
   "source": [
    "(sns.heatmap(data_corr.corr().loc[:,['purchased']].drop('purchased')\n",
    "             .sort_values('purchased')\n",
    "             ,annot=True, vmin=-1, vmax=1, center= 0, cmap= 'jet', linewidths=1, linecolor='grey'))\n",
    "plt.gcf().set_size_inches(10, 6)\n",
    "plt.show()"
   ]
  },
  {
   "cell_type": "markdown",
   "id": "de4ac5c6",
   "metadata": {},
   "source": [
    "На тепловой карте видно что и зарплата и возраст коррелируют с количеством покупок продуктов, но возраст имеет большое влияние. "
   ]
  },
  {
   "cell_type": "markdown",
   "id": "9c23d293",
   "metadata": {},
   "source": [
    "## Вывод."
   ]
  },
  {
   "cell_type": "markdown",
   "id": "8fa2591e",
   "metadata": {},
   "source": [
    "По данным анализа можна подвести итоги:\n",
    "\n",
    "- Чем более возрастной клиент тем больше вероятность что он приобретет товар. \n",
    "- Зарплата сильно влияет на молодой и средний возраст, но у возрастных клиентов разнице в медийной заработанной плате в категории купивших и не купивших нет. \n",
    "- У клиентов с доходом от 50001 до 80000 есть явная просадка по клиентам там покупают меньше чем люди с доходом меньше 50000, а у клиентов с доходом выше 80000 идет резкий подъем и количество купивших превышает категории не купивших товар в отличии от людей с более низкими доходами. \n",
    "- Доходы клиентов и возраст коррелируют с покупками после рекламы в социальных сетях, но возраст имеет большее значение. "
   ]
  },
  {
   "cell_type": "code",
   "execution_count": null,
   "id": "a9c8b3bd",
   "metadata": {},
   "outputs": [],
   "source": []
  }
 ],
 "metadata": {
  "kernelspec": {
   "display_name": "Python 3 (ipykernel)",
   "language": "python",
   "name": "python3"
  },
  "language_info": {
   "codemirror_mode": {
    "name": "ipython",
    "version": 3
   },
   "file_extension": ".py",
   "mimetype": "text/x-python",
   "name": "python",
   "nbconvert_exporter": "python",
   "pygments_lexer": "ipython3",
   "version": "3.9.12"
  }
 },
 "nbformat": 4,
 "nbformat_minor": 5
}
