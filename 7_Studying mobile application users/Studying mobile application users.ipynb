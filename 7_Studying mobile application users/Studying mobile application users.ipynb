{
 "cells": [
  {
   "cell_type": "markdown",
   "metadata": {},
   "source": [
    "# Изучение поведения пользователей мобильного приложения продаж продуктов питания\n",
    "\n",
    "Задача — разобраться как ведут себя пользователи мобильного приложения. Изучите воронку продаж и после этого исследовать результаты A/A/B-эксперимента.\n",
    "\n",
    "- Первый этап - изучение общий информации.\n",
    "- Второй этап - предобработка данных.\n",
    "- Третий этап - изучение воронки событий.\n",
    "- Четвертый этап - изучение результатов эксперимента.\n",
    "- Пятый этап - общий вывод. \n",
    "\n",
    "Среди данных у нас есть — название события, уникальный идентификатор пользователя, время события, номер эксперимента."
   ]
  },
  {
   "cell_type": "markdown",
   "metadata": {},
   "source": [
    "##   Изучение общий информации. "
   ]
  },
  {
   "cell_type": "code",
   "execution_count": 1,
   "metadata": {},
   "outputs": [],
   "source": [
    "import pandas as pd\n",
    "import datetime as dt\n",
    "from scipy import stats as st\n",
    "import numpy as np\n",
    "import matplotlib.pyplot as plt\n",
    "from pandas.plotting import register_matplotlib_converters\n",
    "import warnings\n",
    "import scipy.stats as stats\n",
    "import math as mth\n",
    "import plotly.express as px\n",
    "from plotly import graph_objects as go"
   ]
  },
  {
   "cell_type": "code",
   "execution_count": 2,
   "metadata": {},
   "outputs": [
    {
     "data": {
      "text/html": [
       "<div>\n",
       "<style scoped>\n",
       "    .dataframe tbody tr th:only-of-type {\n",
       "        vertical-align: middle;\n",
       "    }\n",
       "\n",
       "    .dataframe tbody tr th {\n",
       "        vertical-align: top;\n",
       "    }\n",
       "\n",
       "    .dataframe thead th {\n",
       "        text-align: right;\n",
       "    }\n",
       "</style>\n",
       "<table border=\"1\" class=\"dataframe\">\n",
       "  <thead>\n",
       "    <tr style=\"text-align: right;\">\n",
       "      <th></th>\n",
       "      <th>EventName</th>\n",
       "      <th>DeviceIDHash</th>\n",
       "      <th>EventTimestamp</th>\n",
       "      <th>ExpId</th>\n",
       "    </tr>\n",
       "  </thead>\n",
       "  <tbody>\n",
       "    <tr>\n",
       "      <th>0</th>\n",
       "      <td>MainScreenAppear</td>\n",
       "      <td>4575588528974610257</td>\n",
       "      <td>1564029816</td>\n",
       "      <td>246</td>\n",
       "    </tr>\n",
       "    <tr>\n",
       "      <th>1</th>\n",
       "      <td>MainScreenAppear</td>\n",
       "      <td>7416695313311560658</td>\n",
       "      <td>1564053102</td>\n",
       "      <td>246</td>\n",
       "    </tr>\n",
       "    <tr>\n",
       "      <th>2</th>\n",
       "      <td>PaymentScreenSuccessful</td>\n",
       "      <td>3518123091307005509</td>\n",
       "      <td>1564054127</td>\n",
       "      <td>248</td>\n",
       "    </tr>\n",
       "    <tr>\n",
       "      <th>3</th>\n",
       "      <td>CartScreenAppear</td>\n",
       "      <td>3518123091307005509</td>\n",
       "      <td>1564054127</td>\n",
       "      <td>248</td>\n",
       "    </tr>\n",
       "    <tr>\n",
       "      <th>4</th>\n",
       "      <td>PaymentScreenSuccessful</td>\n",
       "      <td>6217807653094995999</td>\n",
       "      <td>1564055322</td>\n",
       "      <td>248</td>\n",
       "    </tr>\n",
       "    <tr>\n",
       "      <th>5</th>\n",
       "      <td>CartScreenAppear</td>\n",
       "      <td>6217807653094995999</td>\n",
       "      <td>1564055323</td>\n",
       "      <td>248</td>\n",
       "    </tr>\n",
       "    <tr>\n",
       "      <th>6</th>\n",
       "      <td>OffersScreenAppear</td>\n",
       "      <td>8351860793733343758</td>\n",
       "      <td>1564066242</td>\n",
       "      <td>246</td>\n",
       "    </tr>\n",
       "    <tr>\n",
       "      <th>7</th>\n",
       "      <td>MainScreenAppear</td>\n",
       "      <td>5682100281902512875</td>\n",
       "      <td>1564085677</td>\n",
       "      <td>246</td>\n",
       "    </tr>\n",
       "    <tr>\n",
       "      <th>8</th>\n",
       "      <td>MainScreenAppear</td>\n",
       "      <td>1850981295691852772</td>\n",
       "      <td>1564086702</td>\n",
       "      <td>247</td>\n",
       "    </tr>\n",
       "    <tr>\n",
       "      <th>9</th>\n",
       "      <td>MainScreenAppear</td>\n",
       "      <td>5407636962369102641</td>\n",
       "      <td>1564112112</td>\n",
       "      <td>246</td>\n",
       "    </tr>\n",
       "  </tbody>\n",
       "</table>\n",
       "</div>"
      ],
      "text/plain": [
       "                 EventName         DeviceIDHash  EventTimestamp  ExpId\n",
       "0         MainScreenAppear  4575588528974610257      1564029816    246\n",
       "1         MainScreenAppear  7416695313311560658      1564053102    246\n",
       "2  PaymentScreenSuccessful  3518123091307005509      1564054127    248\n",
       "3         CartScreenAppear  3518123091307005509      1564054127    248\n",
       "4  PaymentScreenSuccessful  6217807653094995999      1564055322    248\n",
       "5         CartScreenAppear  6217807653094995999      1564055323    248\n",
       "6       OffersScreenAppear  8351860793733343758      1564066242    246\n",
       "7         MainScreenAppear  5682100281902512875      1564085677    246\n",
       "8         MainScreenAppear  1850981295691852772      1564086702    247\n",
       "9         MainScreenAppear  5407636962369102641      1564112112    246"
      ]
     },
     "metadata": {},
     "output_type": "display_data"
    }
   ],
   "source": [
    "try:\n",
    "    data = pd.read_csv('/datasets/logs_exp.csv', sep='\\t')\n",
    "except:\n",
    "     data = pd.read_csv('C:\\\\Users\\\\User\\\\Documents\\\\Phyton\\\\logs_exp.csv', sep='\\t')\n",
    "            \n",
    "display(data.head(10))"
   ]
  },
  {
   "cell_type": "code",
   "execution_count": 3,
   "metadata": {
    "scrolled": true
   },
   "outputs": [
    {
     "name": "stdout",
     "output_type": "stream",
     "text": [
      "<class 'pandas.core.frame.DataFrame'>\n",
      "RangeIndex: 244126 entries, 0 to 244125\n",
      "Data columns (total 4 columns):\n",
      " #   Column          Non-Null Count   Dtype \n",
      "---  ------          --------------   ----- \n",
      " 0   EventName       244126 non-null  object\n",
      " 1   DeviceIDHash    244126 non-null  int64 \n",
      " 2   EventTimestamp  244126 non-null  int64 \n",
      " 3   ExpId           244126 non-null  int64 \n",
      "dtypes: int64(3), object(1)\n",
      "memory usage: 7.5+ MB\n"
     ]
    }
   ],
   "source": [
    "data.info()"
   ]
  },
  {
   "cell_type": "markdown",
   "metadata": {},
   "source": [
    "Пропусков нет, нужно изменить названия колонок для большего удобства и тип даты и времени."
   ]
  },
  {
   "cell_type": "markdown",
   "metadata": {},
   "source": [
    "## Предобработка данных."
   ]
  },
  {
   "cell_type": "markdown",
   "metadata": {},
   "source": [
    "### Подготовка данных"
   ]
  },
  {
   "cell_type": "code",
   "execution_count": 4,
   "metadata": {},
   "outputs": [],
   "source": [
    "data = data.rename(                   \n",
    "    columns={'EventName' : 'event_name', 'DeviceIDHash' : 'device_id_hash', \n",
    "            'EventTimestamp' : 'event_timestamp', 'ExpId' : 'exp_id'}\n",
    "    )"
   ]
  },
  {
   "cell_type": "code",
   "execution_count": 5,
   "metadata": {},
   "outputs": [
    {
     "name": "stdout",
     "output_type": "stream",
     "text": [
      "event_name         0\n",
      "device_id_hash     0\n",
      "event_timestamp    0\n",
      "exp_id             0\n",
      "dtype: int64\n",
      "Количество дубликатов: 413\n"
     ]
    }
   ],
   "source": [
    "print(data.isna().sum())\n",
    "print('Количество дубликатов:', data.duplicated().sum())"
   ]
  },
  {
   "cell_type": "code",
   "execution_count": 6,
   "metadata": {},
   "outputs": [],
   "source": [
    "data = data.drop_duplicates().reset_index()\n",
    "data = data.iloc[: , 1:]"
   ]
  },
  {
   "cell_type": "code",
   "execution_count": 7,
   "metadata": {},
   "outputs": [
    {
     "name": "stdout",
     "output_type": "stream",
     "text": [
      "<class 'pandas.core.frame.DataFrame'>\n",
      "RangeIndex: 243713 entries, 0 to 243712\n",
      "Data columns (total 4 columns):\n",
      " #   Column           Non-Null Count   Dtype \n",
      "---  ------           --------------   ----- \n",
      " 0   event_name       243713 non-null  object\n",
      " 1   device_id_hash   243713 non-null  int64 \n",
      " 2   event_timestamp  243713 non-null  int64 \n",
      " 3   exp_id           243713 non-null  int64 \n",
      "dtypes: int64(3), object(1)\n",
      "memory usage: 7.4+ MB\n",
      "None\n",
      "Количество дубликатов: 0\n"
     ]
    }
   ],
   "source": [
    "print(data.info())\n",
    "print('Количество дубликатов:', data.duplicated().sum());"
   ]
  },
  {
   "cell_type": "code",
   "execution_count": 8,
   "metadata": {},
   "outputs": [],
   "source": [
    "data['event_timestamp'] = data['event_timestamp'].astype(int)"
   ]
  },
  {
   "cell_type": "code",
   "execution_count": 9,
   "metadata": {},
   "outputs": [],
   "source": [
    "data['event_timestamp'] = pd.to_datetime(data['event_timestamp'], unit='s')\n",
    "data['event_timestamp'].dtype;\n",
    "#data.info()"
   ]
  },
  {
   "cell_type": "code",
   "execution_count": 10,
   "metadata": {},
   "outputs": [],
   "source": [
    "#print(data)"
   ]
  },
  {
   "cell_type": "code",
   "execution_count": 11,
   "metadata": {
    "scrolled": false
   },
   "outputs": [
    {
     "data": {
      "text/html": [
       "<div>\n",
       "<style scoped>\n",
       "    .dataframe tbody tr th:only-of-type {\n",
       "        vertical-align: middle;\n",
       "    }\n",
       "\n",
       "    .dataframe tbody tr th {\n",
       "        vertical-align: top;\n",
       "    }\n",
       "\n",
       "    .dataframe thead th {\n",
       "        text-align: right;\n",
       "    }\n",
       "</style>\n",
       "<table border=\"1\" class=\"dataframe\">\n",
       "  <thead>\n",
       "    <tr style=\"text-align: right;\">\n",
       "      <th></th>\n",
       "      <th>event_name</th>\n",
       "      <th>device_id_hash</th>\n",
       "      <th>event_timestamp</th>\n",
       "      <th>exp_id</th>\n",
       "      <th>date</th>\n",
       "    </tr>\n",
       "  </thead>\n",
       "  <tbody>\n",
       "    <tr>\n",
       "      <th>0</th>\n",
       "      <td>MainScreenAppear</td>\n",
       "      <td>4575588528974610257</td>\n",
       "      <td>2019-07-25 04:43:36</td>\n",
       "      <td>246</td>\n",
       "      <td>2019-07-25</td>\n",
       "    </tr>\n",
       "    <tr>\n",
       "      <th>1</th>\n",
       "      <td>MainScreenAppear</td>\n",
       "      <td>7416695313311560658</td>\n",
       "      <td>2019-07-25 11:11:42</td>\n",
       "      <td>246</td>\n",
       "      <td>2019-07-25</td>\n",
       "    </tr>\n",
       "    <tr>\n",
       "      <th>2</th>\n",
       "      <td>PaymentScreenSuccessful</td>\n",
       "      <td>3518123091307005509</td>\n",
       "      <td>2019-07-25 11:28:47</td>\n",
       "      <td>248</td>\n",
       "      <td>2019-07-25</td>\n",
       "    </tr>\n",
       "    <tr>\n",
       "      <th>3</th>\n",
       "      <td>CartScreenAppear</td>\n",
       "      <td>3518123091307005509</td>\n",
       "      <td>2019-07-25 11:28:47</td>\n",
       "      <td>248</td>\n",
       "      <td>2019-07-25</td>\n",
       "    </tr>\n",
       "    <tr>\n",
       "      <th>4</th>\n",
       "      <td>PaymentScreenSuccessful</td>\n",
       "      <td>6217807653094995999</td>\n",
       "      <td>2019-07-25 11:48:42</td>\n",
       "      <td>248</td>\n",
       "      <td>2019-07-25</td>\n",
       "    </tr>\n",
       "    <tr>\n",
       "      <th>...</th>\n",
       "      <td>...</td>\n",
       "      <td>...</td>\n",
       "      <td>...</td>\n",
       "      <td>...</td>\n",
       "      <td>...</td>\n",
       "    </tr>\n",
       "    <tr>\n",
       "      <th>243708</th>\n",
       "      <td>MainScreenAppear</td>\n",
       "      <td>4599628364049201812</td>\n",
       "      <td>2019-08-07 21:12:25</td>\n",
       "      <td>247</td>\n",
       "      <td>2019-08-07</td>\n",
       "    </tr>\n",
       "    <tr>\n",
       "      <th>243709</th>\n",
       "      <td>MainScreenAppear</td>\n",
       "      <td>5849806612437486590</td>\n",
       "      <td>2019-08-07 21:13:59</td>\n",
       "      <td>246</td>\n",
       "      <td>2019-08-07</td>\n",
       "    </tr>\n",
       "    <tr>\n",
       "      <th>243710</th>\n",
       "      <td>MainScreenAppear</td>\n",
       "      <td>5746969938801999050</td>\n",
       "      <td>2019-08-07 21:14:43</td>\n",
       "      <td>246</td>\n",
       "      <td>2019-08-07</td>\n",
       "    </tr>\n",
       "    <tr>\n",
       "      <th>243711</th>\n",
       "      <td>MainScreenAppear</td>\n",
       "      <td>5746969938801999050</td>\n",
       "      <td>2019-08-07 21:14:58</td>\n",
       "      <td>246</td>\n",
       "      <td>2019-08-07</td>\n",
       "    </tr>\n",
       "    <tr>\n",
       "      <th>243712</th>\n",
       "      <td>OffersScreenAppear</td>\n",
       "      <td>5746969938801999050</td>\n",
       "      <td>2019-08-07 21:15:17</td>\n",
       "      <td>246</td>\n",
       "      <td>2019-08-07</td>\n",
       "    </tr>\n",
       "  </tbody>\n",
       "</table>\n",
       "<p>243713 rows × 5 columns</p>\n",
       "</div>"
      ],
      "text/plain": [
       "                     event_name       device_id_hash     event_timestamp  \\\n",
       "0              MainScreenAppear  4575588528974610257 2019-07-25 04:43:36   \n",
       "1              MainScreenAppear  7416695313311560658 2019-07-25 11:11:42   \n",
       "2       PaymentScreenSuccessful  3518123091307005509 2019-07-25 11:28:47   \n",
       "3              CartScreenAppear  3518123091307005509 2019-07-25 11:28:47   \n",
       "4       PaymentScreenSuccessful  6217807653094995999 2019-07-25 11:48:42   \n",
       "...                         ...                  ...                 ...   \n",
       "243708         MainScreenAppear  4599628364049201812 2019-08-07 21:12:25   \n",
       "243709         MainScreenAppear  5849806612437486590 2019-08-07 21:13:59   \n",
       "243710         MainScreenAppear  5746969938801999050 2019-08-07 21:14:43   \n",
       "243711         MainScreenAppear  5746969938801999050 2019-08-07 21:14:58   \n",
       "243712       OffersScreenAppear  5746969938801999050 2019-08-07 21:15:17   \n",
       "\n",
       "        exp_id        date  \n",
       "0          246  2019-07-25  \n",
       "1          246  2019-07-25  \n",
       "2          248  2019-07-25  \n",
       "3          248  2019-07-25  \n",
       "4          248  2019-07-25  \n",
       "...        ...         ...  \n",
       "243708     247  2019-08-07  \n",
       "243709     246  2019-08-07  \n",
       "243710     246  2019-08-07  \n",
       "243711     246  2019-08-07  \n",
       "243712     246  2019-08-07  \n",
       "\n",
       "[243713 rows x 5 columns]"
      ]
     },
     "metadata": {},
     "output_type": "display_data"
    }
   ],
   "source": [
    "#convert datetime column to just date\n",
    "data['date'] = pd.to_datetime(data['event_timestamp']).dt.date\n",
    "display(data)"
   ]
  },
  {
   "cell_type": "code",
   "execution_count": 12,
   "metadata": {
    "scrolled": false
   },
   "outputs": [
    {
     "data": {
      "text/html": [
       "<div>\n",
       "<style scoped>\n",
       "    .dataframe tbody tr th:only-of-type {\n",
       "        vertical-align: middle;\n",
       "    }\n",
       "\n",
       "    .dataframe tbody tr th {\n",
       "        vertical-align: top;\n",
       "    }\n",
       "\n",
       "    .dataframe thead th {\n",
       "        text-align: right;\n",
       "    }\n",
       "</style>\n",
       "<table border=\"1\" class=\"dataframe\">\n",
       "  <thead>\n",
       "    <tr style=\"text-align: right;\">\n",
       "      <th></th>\n",
       "      <th>device_id_hash_x</th>\n",
       "      <th>exp_id</th>\n",
       "      <th>device_id_hash_y</th>\n",
       "      <th>device_id_hash</th>\n",
       "    </tr>\n",
       "  </thead>\n",
       "  <tbody>\n",
       "  </tbody>\n",
       "</table>\n",
       "</div>"
      ],
      "text/plain": [
       "Empty DataFrame\n",
       "Columns: [device_id_hash_x, exp_id, device_id_hash_y, device_id_hash]\n",
       "Index: []"
      ]
     },
     "metadata": {},
     "output_type": "display_data"
    },
    {
     "data": {
      "text/html": [
       "<div>\n",
       "<style scoped>\n",
       "    .dataframe tbody tr th:only-of-type {\n",
       "        vertical-align: middle;\n",
       "    }\n",
       "\n",
       "    .dataframe tbody tr th {\n",
       "        vertical-align: top;\n",
       "    }\n",
       "\n",
       "    .dataframe thead th {\n",
       "        text-align: right;\n",
       "    }\n",
       "</style>\n",
       "<table border=\"1\" class=\"dataframe\">\n",
       "  <thead>\n",
       "    <tr style=\"text-align: right;\">\n",
       "      <th></th>\n",
       "      <th>device_id_hash_x</th>\n",
       "      <th>exp_id</th>\n",
       "      <th>device_id_hash_y</th>\n",
       "      <th>device_id_hash</th>\n",
       "    </tr>\n",
       "  </thead>\n",
       "  <tbody>\n",
       "  </tbody>\n",
       "</table>\n",
       "</div>"
      ],
      "text/plain": [
       "Empty DataFrame\n",
       "Columns: [device_id_hash_x, exp_id, device_id_hash_y, device_id_hash]\n",
       "Index: []"
      ]
     },
     "metadata": {},
     "output_type": "display_data"
    },
    {
     "data": {
      "text/html": [
       "<div>\n",
       "<style scoped>\n",
       "    .dataframe tbody tr th:only-of-type {\n",
       "        vertical-align: middle;\n",
       "    }\n",
       "\n",
       "    .dataframe tbody tr th {\n",
       "        vertical-align: top;\n",
       "    }\n",
       "\n",
       "    .dataframe thead th {\n",
       "        text-align: right;\n",
       "    }\n",
       "</style>\n",
       "<table border=\"1\" class=\"dataframe\">\n",
       "  <thead>\n",
       "    <tr style=\"text-align: right;\">\n",
       "      <th></th>\n",
       "      <th>device_id_hash_x</th>\n",
       "      <th>exp_id</th>\n",
       "      <th>device_id_hash_y</th>\n",
       "      <th>device_id_hash</th>\n",
       "    </tr>\n",
       "  </thead>\n",
       "  <tbody>\n",
       "  </tbody>\n",
       "</table>\n",
       "</div>"
      ],
      "text/plain": [
       "Empty DataFrame\n",
       "Columns: [device_id_hash_x, exp_id, device_id_hash_y, device_id_hash]\n",
       "Index: []"
      ]
     },
     "metadata": {},
     "output_type": "display_data"
    }
   ],
   "source": [
    "#создаем таблицу с группами и id пользователей\n",
    "intersections=data.pivot_table(index=['device_id_hash'], values='exp_id')\n",
    "#разбиваем их на отдельные таблицы по группам\n",
    "a246 = intersections.query('exp_id == 246').reset_index()\n",
    "a247 = intersections.query('exp_id == 247').reset_index()\n",
    "b248 = intersections.query('exp_id == 248').reset_index()\n",
    "#соеденяем чтобы у каждой группы были свои колонки с пользователями \n",
    "intersections_data = a246.merge(a247, on='exp_id', how='outer')\n",
    "intersections_data=intersections_data.merge(b248, on='exp_id', how='outer')\n",
    "#смотрим совпадения по столбцам\n",
    "s1 = intersections_data.query('device_id_hash == device_id_hash_y')\n",
    "s2 = intersections_data.query('device_id_hash == device_id_hash_x')\n",
    "s3 = intersections_data.query('device_id_hash_x == device_id_hash_y')\n",
    "display(s1, s2, s3);"
   ]
  },
  {
   "cell_type": "markdown",
   "metadata": {},
   "source": [
    "Пересечения пользователей в группах отсутствует."
   ]
  },
  {
   "cell_type": "markdown",
   "metadata": {},
   "source": [
    "Данные проверены на пропуски, изменены названия колонок, скорректирован тип данных даты и времени в event_timestamp. Создан отдельный столбец с датами date. Данные проверены и очищены от дубликатов."
   ]
  },
  {
   "cell_type": "markdown",
   "metadata": {},
   "source": [
    "### Изучение и проверка данных"
   ]
  },
  {
   "cell_type": "code",
   "execution_count": 13,
   "metadata": {},
   "outputs": [
    {
     "name": "stdout",
     "output_type": "stream",
     "text": [
      "Всего событий в логе: 243713\n"
     ]
    }
   ],
   "source": [
    "print('Всего событий в логе:',len(data['event_name']))\n",
    "#print(len(data['event_name'].unique())) "
   ]
  },
  {
   "cell_type": "code",
   "execution_count": 14,
   "metadata": {},
   "outputs": [
    {
     "name": "stdout",
     "output_type": "stream",
     "text": [
      "Всего пользователей в логе: 7551\n"
     ]
    }
   ],
   "source": [
    "print('Всего пользователей в логе:',len(data['device_id_hash'].unique()))    "
   ]
  },
  {
   "cell_type": "code",
   "execution_count": 15,
   "metadata": {
    "scrolled": true
   },
   "outputs": [
    {
     "name": "stdout",
     "output_type": "stream",
     "text": [
      "        event_name\n",
      "count  7551.000000\n",
      "mean     32.275593\n",
      "std      65.154219\n",
      "min       1.000000\n",
      "25%       9.000000\n",
      "50%      20.000000\n",
      "75%      37.000000\n",
      "max    2307.000000\n",
      "В среднем 32 события приходится на одного пользователя, медиана равна 20.\n"
     ]
    }
   ],
   "source": [
    "data_mean=data.pivot_table(index=['device_id_hash'], values='event_name', aggfunc='count')\n",
    "print(data_mean.describe())\n",
    "print('В среднем', int(243713/7551), 'события приходится на одного пользователя, медиана равна 20.')"
   ]
  },
  {
   "cell_type": "code",
   "execution_count": 16,
   "metadata": {
    "scrolled": true
   },
   "outputs": [
    {
     "name": "stdout",
     "output_type": "stream",
     "text": [
      "Максимальная дата: 2019-08-07\n",
      "Минимальная дата: 2019-07-25\n"
     ]
    }
   ],
   "source": [
    "#2.2.4\n",
    "print('Максимальная дата:', data['date'].max())\n",
    "print('Минимальная дата:', data['date'].min())\n",
    "#data.hist(figsize=(10, 10)); 7"
   ]
  },
  {
   "cell_type": "code",
   "execution_count": 17,
   "metadata": {
    "scrolled": true
   },
   "outputs": [
    {
     "data": {
      "image/png": "[encoded data removed]",
      "text/plain": [
       "<Figure size 1440x360 with 1 Axes>"
      ]
     },
     "metadata": {
      "needs_background": "light"
     },
     "output_type": "display_data"
    }
   ],
   "source": [
    "data['event_timestamp'].hist(figsize=(20, 5), bins=14)\n",
    "plt.title('Количество событий распределённых по дате и времени')\n",
    "plt.xlabel('Период проведения эксперимента')\n",
    "plt.ylabel('Количество событий')\n",
    "plt.show()"
   ]
  },
  {
   "cell_type": "markdown",
   "metadata": {},
   "source": [
    "Данные не полные, в первую неделю число событий было очень мало, для изучения лучше взять вторую неделю с наибольшим количеством данных. "
   ]
  },
  {
   "cell_type": "code",
   "execution_count": 18,
   "metadata": {},
   "outputs": [],
   "source": [
    "data['date'] = data['date'].astype('datetime64')\n",
    "data_1 = data.query('date > \"2019-07-31\"')"
   ]
  },
  {
   "cell_type": "code",
   "execution_count": 19,
   "metadata": {},
   "outputs": [
    {
     "name": "stdout",
     "output_type": "stream",
     "text": [
      "<class 'pandas.core.frame.DataFrame'>\n",
      "Int64Index: 240887 entries, 2826 to 243712\n",
      "Data columns (total 5 columns):\n",
      " #   Column           Non-Null Count   Dtype         \n",
      "---  ------           --------------   -----         \n",
      " 0   event_name       240887 non-null  object        \n",
      " 1   device_id_hash   240887 non-null  int64         \n",
      " 2   event_timestamp  240887 non-null  datetime64[ns]\n",
      " 3   exp_id           240887 non-null  int64         \n",
      " 4   date             240887 non-null  datetime64[ns]\n",
      "dtypes: datetime64[ns](2), int64(2), object(1)\n",
      "memory usage: 11.0+ MB\n"
     ]
    }
   ],
   "source": [
    "data_1.info()"
   ]
  },
  {
   "cell_type": "code",
   "execution_count": 20,
   "metadata": {},
   "outputs": [
    {
     "name": "stdout",
     "output_type": "stream",
     "text": [
      "Данных осталось: 98.67 %\n",
      "Данных удалили: 1.33 %\n",
      "Всего пользователей в логе осталось: 7534\n",
      "Всего пользователей удалили: 0.2 %\n"
     ]
    }
   ],
   "source": [
    "print('Данных осталось:', (data_1['event_name'].count()*100/244126).round(2),'%')\n",
    "print('Данных удалили:', (100 - (data_1['event_name'].count()*100/244126)).round(2),'%')\n",
    "print('Всего пользователей в логе осталось:',len(data_1['device_id_hash'].unique())) \n",
    "x = 100-(7534 * 100 / 7551)\n",
    "print('Всего пользователей удалили: 0.2 %')"
   ]
  },
  {
   "cell_type": "markdown",
   "metadata": {},
   "source": [
    "Не полные данные и дубликаты событий и пользователей составляют менее 2% от начальных данных их можно удалить."
   ]
  },
  {
   "cell_type": "code",
   "execution_count": 21,
   "metadata": {
    "scrolled": true
   },
   "outputs": [
    {
     "data": {
      "text/html": [
       "<div>\n",
       "<style scoped>\n",
       "    .dataframe tbody tr th:only-of-type {\n",
       "        vertical-align: middle;\n",
       "    }\n",
       "\n",
       "    .dataframe tbody tr th {\n",
       "        vertical-align: top;\n",
       "    }\n",
       "\n",
       "    .dataframe thead th {\n",
       "        text-align: right;\n",
       "    }\n",
       "</style>\n",
       "<table border=\"1\" class=\"dataframe\">\n",
       "  <thead>\n",
       "    <tr style=\"text-align: right;\">\n",
       "      <th></th>\n",
       "      <th>device_id_hash</th>\n",
       "    </tr>\n",
       "    <tr>\n",
       "      <th>exp_id</th>\n",
       "      <th></th>\n",
       "    </tr>\n",
       "  </thead>\n",
       "  <tbody>\n",
       "    <tr>\n",
       "      <th>246</th>\n",
       "      <td>2484</td>\n",
       "    </tr>\n",
       "    <tr>\n",
       "      <th>247</th>\n",
       "      <td>2513</td>\n",
       "    </tr>\n",
       "    <tr>\n",
       "      <th>248</th>\n",
       "      <td>2537</td>\n",
       "    </tr>\n",
       "  </tbody>\n",
       "</table>\n",
       "</div>"
      ],
      "text/plain": [
       "        device_id_hash\n",
       "exp_id                \n",
       "246               2484\n",
       "247               2513\n",
       "248               2537"
      ]
     },
     "metadata": {},
     "output_type": "display_data"
    }
   ],
   "source": [
    "#2.2.6 Проверьте, что у вас есть пользователи из всех трёх экспериментальных групп.\n",
    "groop = data_1.pivot_table(index=['exp_id'], values='device_id_hash', aggfunc='nunique')#.reset_index()\n",
    "display(groop)"
   ]
  },
  {
   "cell_type": "markdown",
   "metadata": {},
   "source": [
    "## Изучение воронки событий."
   ]
  },
  {
   "cell_type": "code",
   "execution_count": 22,
   "metadata": {},
   "outputs": [
    {
     "name": "stdout",
     "output_type": "stream",
     "text": [
      "Количество событий в логах\n",
      "\n",
      "MainScreenAppear           117328\n",
      "OffersScreenAppear          46333\n",
      "CartScreenAppear            42303\n",
      "PaymentScreenSuccessful     33918\n",
      "Tutorial                     1005\n",
      "Name: event_name, dtype: int64\n"
     ]
    }
   ],
   "source": [
    "print('Количество событий в логах')\n",
    "print( )\n",
    "print(data_1['event_name'].value_counts());"
   ]
  },
  {
   "cell_type": "code",
   "execution_count": 23,
   "metadata": {},
   "outputs": [],
   "source": [
    "#event = data.groupby('event_name')['device_id_hash'].nunique().sort_values(ascending=False)\n",
    "event = (data_1.pivot_table(index=['event_name'], values='device_id_hash', aggfunc='nunique')\n",
    "         .sort_values(by ='device_id_hash',  ascending=False)\n",
    "        )"
   ]
  },
  {
   "cell_type": "code",
   "execution_count": 24,
   "metadata": {
    "scrolled": true
   },
   "outputs": [
    {
     "data": {
      "text/html": [
       "<style  type=\"text/css\" >\n",
       "    #T_84384_ caption {\n",
       "          color: black;\n",
       "          font-size: 15px;\n",
       "    }</style><table id=\"T_84384_\" ><caption>Количество пользователей совершивших событие</caption><thead>    <tr>        <th class=\"blank level0\" ></th>        <th class=\"col_heading level0 col0\" >device_id_hash</th>        <th class=\"col_heading level0 col1\" >share</th>    </tr>    <tr>        <th class=\"index_name level0\" >event_name</th>        <th class=\"blank\" ></th>        <th class=\"blank\" ></th>    </tr></thead><tbody>\n",
       "                <tr>\n",
       "                        <th id=\"T_84384_level0_row0\" class=\"row_heading level0 row0\" >MainScreenAppear</th>\n",
       "                        <td id=\"T_84384_row0_col0\" class=\"data row0 col0\" >7419</td>\n",
       "                        <td id=\"T_84384_row0_col1\" class=\"data row0 col1\" >1.000000</td>\n",
       "            </tr>\n",
       "            <tr>\n",
       "                        <th id=\"T_84384_level0_row1\" class=\"row_heading level0 row1\" >OffersScreenAppear</th>\n",
       "                        <td id=\"T_84384_row1_col0\" class=\"data row1 col0\" >4593</td>\n",
       "                        <td id=\"T_84384_row1_col1\" class=\"data row1 col1\" >0.620000</td>\n",
       "            </tr>\n",
       "            <tr>\n",
       "                        <th id=\"T_84384_level0_row2\" class=\"row_heading level0 row2\" >CartScreenAppear</th>\n",
       "                        <td id=\"T_84384_row2_col0\" class=\"data row2 col0\" >3734</td>\n",
       "                        <td id=\"T_84384_row2_col1\" class=\"data row2 col1\" >0.500000</td>\n",
       "            </tr>\n",
       "            <tr>\n",
       "                        <th id=\"T_84384_level0_row3\" class=\"row_heading level0 row3\" >PaymentScreenSuccessful</th>\n",
       "                        <td id=\"T_84384_row3_col0\" class=\"data row3 col0\" >3539</td>\n",
       "                        <td id=\"T_84384_row3_col1\" class=\"data row3 col1\" >0.480000</td>\n",
       "            </tr>\n",
       "            <tr>\n",
       "                        <th id=\"T_84384_level0_row4\" class=\"row_heading level0 row4\" >Tutorial</th>\n",
       "                        <td id=\"T_84384_row4_col0\" class=\"data row4 col0\" >840</td>\n",
       "                        <td id=\"T_84384_row4_col1\" class=\"data row4 col1\" >0.110000</td>\n",
       "            </tr>\n",
       "    </tbody></table>"
      ],
      "text/plain": [
       "<pandas.io.formats.style.Styler at 0x7f80e76301c0>"
      ]
     },
     "execution_count": 24,
     "metadata": {},
     "output_type": "execute_result"
    }
   ],
   "source": [
    "event['share'] = (event['device_id_hash'] / 7419).round(2)\n",
    "event['share'] = event['share'].round(2)\n",
    "(\n",
    "    event.style.set_caption('Количество пользователей совершивших событие')\n",
    "    .set_table_styles([{'selector': 'caption', 'props': [('color', 'black'), ('font-size', '15px')]}])\n",
    ")"
   ]
  },
  {
   "cell_type": "code",
   "execution_count": 25,
   "metadata": {},
   "outputs": [],
   "source": [
    "event['share_by_steps(%)'] = [100, 61.9, 81.3, 94.8, 11.3]"
   ]
  },
  {
   "cell_type": "code",
   "execution_count": 26,
   "metadata": {},
   "outputs": [
    {
     "data": {
      "text/html": [
       "<style  type=\"text/css\" >\n",
       "    #T_992f4_ caption {\n",
       "          color: black;\n",
       "          font-size: 15px;\n",
       "    }</style><table id=\"T_992f4_\" ><caption>Количество пользователей совершивших событие</caption><thead>    <tr>        <th class=\"blank level0\" ></th>        <th class=\"col_heading level0 col0\" >device_id_hash</th>        <th class=\"col_heading level0 col1\" >share</th>        <th class=\"col_heading level0 col2\" >share_by_steps(%)</th>    </tr>    <tr>        <th class=\"index_name level0\" >event_name</th>        <th class=\"blank\" ></th>        <th class=\"blank\" ></th>        <th class=\"blank\" ></th>    </tr></thead><tbody>\n",
       "                <tr>\n",
       "                        <th id=\"T_992f4_level0_row0\" class=\"row_heading level0 row0\" >MainScreenAppear</th>\n",
       "                        <td id=\"T_992f4_row0_col0\" class=\"data row0 col0\" >7419</td>\n",
       "                        <td id=\"T_992f4_row0_col1\" class=\"data row0 col1\" >1.000000</td>\n",
       "                        <td id=\"T_992f4_row0_col2\" class=\"data row0 col2\" >100.000000</td>\n",
       "            </tr>\n",
       "            <tr>\n",
       "                        <th id=\"T_992f4_level0_row1\" class=\"row_heading level0 row1\" >OffersScreenAppear</th>\n",
       "                        <td id=\"T_992f4_row1_col0\" class=\"data row1 col0\" >4593</td>\n",
       "                        <td id=\"T_992f4_row1_col1\" class=\"data row1 col1\" >0.620000</td>\n",
       "                        <td id=\"T_992f4_row1_col2\" class=\"data row1 col2\" >61.900000</td>\n",
       "            </tr>\n",
       "            <tr>\n",
       "                        <th id=\"T_992f4_level0_row2\" class=\"row_heading level0 row2\" >CartScreenAppear</th>\n",
       "                        <td id=\"T_992f4_row2_col0\" class=\"data row2 col0\" >3734</td>\n",
       "                        <td id=\"T_992f4_row2_col1\" class=\"data row2 col1\" >0.500000</td>\n",
       "                        <td id=\"T_992f4_row2_col2\" class=\"data row2 col2\" >81.300000</td>\n",
       "            </tr>\n",
       "            <tr>\n",
       "                        <th id=\"T_992f4_level0_row3\" class=\"row_heading level0 row3\" >PaymentScreenSuccessful</th>\n",
       "                        <td id=\"T_992f4_row3_col0\" class=\"data row3 col0\" >3539</td>\n",
       "                        <td id=\"T_992f4_row3_col1\" class=\"data row3 col1\" >0.480000</td>\n",
       "                        <td id=\"T_992f4_row3_col2\" class=\"data row3 col2\" >94.800000</td>\n",
       "            </tr>\n",
       "    </tbody></table>"
      ],
      "text/plain": [
       "<pandas.io.formats.style.Styler at 0x7f80e7490b20>"
      ]
     },
     "execution_count": 26,
     "metadata": {},
     "output_type": "execute_result"
    }
   ],
   "source": [
    "(\n",
    "event.head(4).style.set_caption('Количество пользователей совершивших событие')\n",
    "    .set_table_styles([{'selector': 'caption', 'props': [('color', 'black'), ('font-size', '15px')]}])\n",
    "    \n",
    ")"
   ]
  },
  {
   "cell_type": "markdown",
   "metadata": {},
   "source": [
    "На втором этапе теряется около 38% пользователей, больше чем у остальных событий. Событие Tutorial не является частью воронки, он служит только как обучающее руководство по пользованию приложением и этот этап многие пользователи пропускают."
   ]
  },
  {
   "cell_type": "code",
   "execution_count": null,
   "metadata": {},
   "outputs": [],
   "source": [
    "y = [\"Payment Screen Successful\", \"Cart Screen Appear\", \"Offers Screen Appear\", \"Main Screen Appear\"] \n",
    "x = [95, 81, 62, 100]\n",
    "x_max = 110\n",
    "x_min = 0\n",
    "for idx, val in enumerate(x):\n",
    "    plt.barh(y[idx], x[idx], left = idx-3)\n",
    "plt.xlim(x_min, x_max)\n",
    "plt.title('График воронки пользователей доходящих от первого события до оплаты на каждом шаге в %.');\n",
    "share_data = dict(\n",
    "    number=[100, 62, 50, 48],\n",
    "    share=[\"Main Screen Appear\", \"Offers Screen Appear\", \"Cart Screen Appear\", \"Payment Screen Successful\"])\n",
    "\n",
    "fig = px.funnel(share_data, x='number', y='share',\n",
    "                title='Beskar Forging Services Inc.')\n",
    "fig = px.funnel(share_data, y='share', x='number', \n",
    "                template=\"simple_white\",\n",
    "                title='График воронки пользователей доходящих от первого события до оплаты в %.',\n",
    "                labels={\"Stage\": \"\"})    \n",
    "fig.show()\n",
    "print(3539 / 7419 * 100, '% пользователей доходит от первого события до оплаты.')"
   ]
  },
  {
   "cell_type": "markdown",
   "metadata": {},
   "source": [
    "Вывод: От первого события до последнего доходит около 48% пользователей, при этом на втором этапе теряется наибольшие их количество 38%,  на остальных теряется по 12% пользователей."
   ]
  },
  {
   "cell_type": "markdown",
   "metadata": {},
   "source": [
    "## Изучение результатов эксперимента"
   ]
  },
  {
   "cell_type": "code",
   "execution_count": 29,
   "metadata": {
    "scrolled": false
   },
   "outputs": [
    {
     "data": {
      "text/html": [
       "<div>\n",
       "<style scoped>\n",
       "    .dataframe tbody tr th:only-of-type {\n",
       "        vertical-align: middle;\n",
       "    }\n",
       "\n",
       "    .dataframe tbody tr th {\n",
       "        vertical-align: top;\n",
       "    }\n",
       "\n",
       "    .dataframe thead th {\n",
       "        text-align: right;\n",
       "    }\n",
       "</style>\n",
       "<table border=\"1\" class=\"dataframe\">\n",
       "  <thead>\n",
       "    <tr style=\"text-align: right;\">\n",
       "      <th></th>\n",
       "      <th>device_id_hash</th>\n",
       "    </tr>\n",
       "    <tr>\n",
       "      <th>exp_id</th>\n",
       "      <th></th>\n",
       "    </tr>\n",
       "  </thead>\n",
       "  <tbody>\n",
       "    <tr>\n",
       "      <th>246</th>\n",
       "      <td>2484</td>\n",
       "    </tr>\n",
       "    <tr>\n",
       "      <th>247</th>\n",
       "      <td>2513</td>\n",
       "    </tr>\n",
       "    <tr>\n",
       "      <th>248</th>\n",
       "      <td>2537</td>\n",
       "    </tr>\n",
       "  </tbody>\n",
       "</table>\n",
       "</div>"
      ],
      "text/plain": [
       "        device_id_hash\n",
       "exp_id                \n",
       "246               2484\n",
       "247               2513\n",
       "248               2537"
      ]
     },
     "metadata": {},
     "output_type": "display_data"
    },
    {
     "data": {
      "image/png": "[encoded data removed]",
      "text/plain": [
       "<Figure size 864x432 with 1 Axes>"
      ]
     },
     "metadata": {
      "needs_background": "light"
     },
     "output_type": "display_data"
    }
   ],
   "source": [
    "display(groop)\n",
    "groop.plot(kind='bar', y='device_id_hash', figsize=(12, 6),  rot = 0)\n",
    "plt.title('Количество пользователей в экспериментальных группах')\n",
    "plt.xlabel('Группы')\n",
    "plt.ylabel('Количество пользователей')\n",
    "plt.show()"
   ]
  },
  {
   "cell_type": "markdown",
   "metadata": {},
   "source": [
    "Группы 246 и 247 являются контрольными, в 246 находятся 2484, а 247 около 2513 пользователей. В группе 248 пользователи использовавшие приложения с изменёнными шрифтами, в ней 2537 пользователей."
   ]
  },
  {
   "cell_type": "code",
   "execution_count": 30,
   "metadata": {},
   "outputs": [
    {
     "name": "stdout",
     "output_type": "stream",
     "text": [
      "Количество пользователей в различных группах различается не более чем на 1 %.\n"
     ]
    }
   ],
   "source": [
    "print('Количество пользователей в различных группах различается не более чем на', int(2513/2484),'%.')"
   ]
  },
  {
   "cell_type": "code",
   "execution_count": 31,
   "metadata": {},
   "outputs": [
    {
     "data": {
      "text/html": [
       "<div>\n",
       "<style scoped>\n",
       "    .dataframe tbody tr th:only-of-type {\n",
       "        vertical-align: middle;\n",
       "    }\n",
       "\n",
       "    .dataframe tbody tr th {\n",
       "        vertical-align: top;\n",
       "    }\n",
       "\n",
       "    .dataframe thead th {\n",
       "        text-align: right;\n",
       "    }\n",
       "</style>\n",
       "<table border=\"1\" class=\"dataframe\">\n",
       "  <thead>\n",
       "    <tr style=\"text-align: right;\">\n",
       "      <th></th>\n",
       "      <th>device_id_hash</th>\n",
       "      <th>share</th>\n",
       "    </tr>\n",
       "    <tr>\n",
       "      <th>event_name</th>\n",
       "      <th></th>\n",
       "      <th></th>\n",
       "    </tr>\n",
       "  </thead>\n",
       "  <tbody>\n",
       "    <tr>\n",
       "      <th>MainScreenAppear</th>\n",
       "      <td>2450</td>\n",
       "      <td>1.00</td>\n",
       "    </tr>\n",
       "    <tr>\n",
       "      <th>OffersScreenAppear</th>\n",
       "      <td>1542</td>\n",
       "      <td>0.63</td>\n",
       "    </tr>\n",
       "    <tr>\n",
       "      <th>CartScreenAppear</th>\n",
       "      <td>1266</td>\n",
       "      <td>0.52</td>\n",
       "    </tr>\n",
       "    <tr>\n",
       "      <th>PaymentScreenSuccessful</th>\n",
       "      <td>1200</td>\n",
       "      <td>0.49</td>\n",
       "    </tr>\n",
       "    <tr>\n",
       "      <th>Tutorial</th>\n",
       "      <td>278</td>\n",
       "      <td>0.11</td>\n",
       "    </tr>\n",
       "  </tbody>\n",
       "</table>\n",
       "</div>"
      ],
      "text/plain": [
       "                         device_id_hash  share\n",
       "event_name                                    \n",
       "MainScreenAppear                   2450   1.00\n",
       "OffersScreenAppear                 1542   0.63\n",
       "CartScreenAppear                   1266   0.52\n",
       "PaymentScreenSuccessful            1200   0.49\n",
       "Tutorial                            278   0.11"
      ]
     },
     "execution_count": 31,
     "metadata": {},
     "output_type": "execute_result"
    }
   ],
   "source": [
    "a1 = data_1.query('exp_id == 246')\n",
    "\n",
    "event_a1 = (a1.pivot_table(index=['event_name'], values='device_id_hash', aggfunc='nunique')\n",
    "         .sort_values(by ='device_id_hash',  ascending=False)\n",
    "        )\n",
    "#event_a1['share'] = (event_a1['device_id_hash'] / event_a1['device_id_hash'].sum())\n",
    "event_a1['share'] = (event_a1['device_id_hash'] / 2450)\n",
    "event_a1['share'] = event_a1['share'].round(2)\n",
    "event_a1"
   ]
  },
  {
   "cell_type": "code",
   "execution_count": 32,
   "metadata": {},
   "outputs": [
    {
     "data": {
      "text/html": [
       "<div>\n",
       "<style scoped>\n",
       "    .dataframe tbody tr th:only-of-type {\n",
       "        vertical-align: middle;\n",
       "    }\n",
       "\n",
       "    .dataframe tbody tr th {\n",
       "        vertical-align: top;\n",
       "    }\n",
       "\n",
       "    .dataframe thead th {\n",
       "        text-align: right;\n",
       "    }\n",
       "</style>\n",
       "<table border=\"1\" class=\"dataframe\">\n",
       "  <thead>\n",
       "    <tr style=\"text-align: right;\">\n",
       "      <th></th>\n",
       "      <th>device_id_hash</th>\n",
       "      <th>share</th>\n",
       "    </tr>\n",
       "    <tr>\n",
       "      <th>event_name</th>\n",
       "      <th></th>\n",
       "      <th></th>\n",
       "    </tr>\n",
       "  </thead>\n",
       "  <tbody>\n",
       "    <tr>\n",
       "      <th>MainScreenAppear</th>\n",
       "      <td>2476</td>\n",
       "      <td>1.00</td>\n",
       "    </tr>\n",
       "    <tr>\n",
       "      <th>OffersScreenAppear</th>\n",
       "      <td>1520</td>\n",
       "      <td>0.61</td>\n",
       "    </tr>\n",
       "    <tr>\n",
       "      <th>CartScreenAppear</th>\n",
       "      <td>1238</td>\n",
       "      <td>0.50</td>\n",
       "    </tr>\n",
       "    <tr>\n",
       "      <th>PaymentScreenSuccessful</th>\n",
       "      <td>1158</td>\n",
       "      <td>0.47</td>\n",
       "    </tr>\n",
       "    <tr>\n",
       "      <th>Tutorial</th>\n",
       "      <td>283</td>\n",
       "      <td>0.11</td>\n",
       "    </tr>\n",
       "  </tbody>\n",
       "</table>\n",
       "</div>"
      ],
      "text/plain": [
       "                         device_id_hash  share\n",
       "event_name                                    \n",
       "MainScreenAppear                   2476   1.00\n",
       "OffersScreenAppear                 1520   0.61\n",
       "CartScreenAppear                   1238   0.50\n",
       "PaymentScreenSuccessful            1158   0.47\n",
       "Tutorial                            283   0.11"
      ]
     },
     "execution_count": 32,
     "metadata": {},
     "output_type": "execute_result"
    }
   ],
   "source": [
    "a2 = data_1.query('exp_id == 247')\n",
    "\n",
    "event_a2 = (a2.pivot_table(index=['event_name'], values='device_id_hash', aggfunc='nunique')\n",
    "         .sort_values(by ='device_id_hash',  ascending=False)\n",
    "        )\n",
    "#event_a2['share'] = (event_a2['device_id_hash'] / event_a2['device_id_hash'].sum())\n",
    "event_a2['share'] = (event_a2['device_id_hash'] / 2476)\n",
    "event_a2['share'] = event_a2['share'].round(2)\n",
    "event_a2"
   ]
  },
  {
   "cell_type": "code",
   "execution_count": 33,
   "metadata": {
    "scrolled": true
   },
   "outputs": [
    {
     "data": {
      "text/html": [
       "<div>\n",
       "<style scoped>\n",
       "    .dataframe tbody tr th:only-of-type {\n",
       "        vertical-align: middle;\n",
       "    }\n",
       "\n",
       "    .dataframe tbody tr th {\n",
       "        vertical-align: top;\n",
       "    }\n",
       "\n",
       "    .dataframe thead th {\n",
       "        text-align: right;\n",
       "    }\n",
       "</style>\n",
       "<table border=\"1\" class=\"dataframe\">\n",
       "  <thead>\n",
       "    <tr style=\"text-align: right;\">\n",
       "      <th></th>\n",
       "      <th>device_id_hash</th>\n",
       "      <th>share</th>\n",
       "    </tr>\n",
       "    <tr>\n",
       "      <th>event_name</th>\n",
       "      <th></th>\n",
       "      <th></th>\n",
       "    </tr>\n",
       "  </thead>\n",
       "  <tbody>\n",
       "    <tr>\n",
       "      <th>MainScreenAppear</th>\n",
       "      <td>2493</td>\n",
       "      <td>1.00</td>\n",
       "    </tr>\n",
       "    <tr>\n",
       "      <th>OffersScreenAppear</th>\n",
       "      <td>1531</td>\n",
       "      <td>0.61</td>\n",
       "    </tr>\n",
       "    <tr>\n",
       "      <th>CartScreenAppear</th>\n",
       "      <td>1230</td>\n",
       "      <td>0.49</td>\n",
       "    </tr>\n",
       "    <tr>\n",
       "      <th>PaymentScreenSuccessful</th>\n",
       "      <td>1181</td>\n",
       "      <td>0.47</td>\n",
       "    </tr>\n",
       "    <tr>\n",
       "      <th>Tutorial</th>\n",
       "      <td>279</td>\n",
       "      <td>0.11</td>\n",
       "    </tr>\n",
       "  </tbody>\n",
       "</table>\n",
       "</div>"
      ],
      "text/plain": [
       "                         device_id_hash  share\n",
       "event_name                                    \n",
       "MainScreenAppear                   2493   1.00\n",
       "OffersScreenAppear                 1531   0.61\n",
       "CartScreenAppear                   1230   0.49\n",
       "PaymentScreenSuccessful            1181   0.47\n",
       "Tutorial                            279   0.11"
      ]
     },
     "execution_count": 33,
     "metadata": {},
     "output_type": "execute_result"
    }
   ],
   "source": [
    "b = data_1.query('exp_id == 248')\n",
    "event_b = (b.pivot_table(index=['event_name'], values='device_id_hash', aggfunc='nunique')\n",
    "         .sort_values(by ='device_id_hash',  ascending=False)\n",
    "        )\n",
    "#event_b['share'] = (event_b['device_id_hash'] / event_b['device_id_hash'].sum())\n",
    "event_b['share'] = (event_b['device_id_hash'] / 2493)\n",
    "event_b['share'] = event_b['share'].round(2)\n",
    "event_b"
   ]
  },
  {
   "cell_type": "code",
   "execution_count": 34,
   "metadata": {},
   "outputs": [],
   "source": [
    "share_event  = pd.DataFrame(\n",
    "({\n",
    "'event_name': ['MainScreenAppear','OffersScreenAppear', 'CartScreenAppear', 'PaymentScreenSuccessful'], \n",
    "'share_246': [100, 63, 52, 49],\n",
    "'share_247': [100, 61, 50, 47],\n",
    "'share_248': [100, 61, 49, 47]})\n",
    "    );"
   ]
  },
  {
   "cell_type": "code",
   "execution_count": 35,
   "metadata": {
    "scrolled": false
   },
   "outputs": [
    {
     "data": {
      "text/html": [
       "<style  type=\"text/css\" >\n",
       "    #T_b1353_ caption {\n",
       "          color: black;\n",
       "          font-size: 15px;\n",
       "    }#T_b1353_row0_col1,#T_b1353_row0_col2,#T_b1353_row0_col3{\n",
       "            background-color:  #08306b;\n",
       "            color:  #f1f1f1;\n",
       "        }#T_b1353_row1_col1{\n",
       "            background-color:  #bed8ec;\n",
       "            color:  #000000;\n",
       "        }#T_b1353_row1_col2,#T_b1353_row1_col3{\n",
       "            background-color:  #c2d9ee;\n",
       "            color:  #000000;\n",
       "        }#T_b1353_row2_col1{\n",
       "            background-color:  #ebf3fb;\n",
       "            color:  #000000;\n",
       "        }#T_b1353_row2_col2{\n",
       "            background-color:  #ecf4fb;\n",
       "            color:  #000000;\n",
       "        }#T_b1353_row2_col3{\n",
       "            background-color:  #f0f6fd;\n",
       "            color:  #000000;\n",
       "        }#T_b1353_row3_col1,#T_b1353_row3_col2,#T_b1353_row3_col3{\n",
       "            background-color:  #f7fbff;\n",
       "            color:  #000000;\n",
       "        }</style><table id=\"T_b1353_\" ><caption>Сравнение воронок пользователей в событиях по группам в %.</caption><thead>    <tr>        <th class=\"col_heading level0 col0\" >event_name</th>        <th class=\"col_heading level0 col1\" >share_246</th>        <th class=\"col_heading level0 col2\" >share_247</th>        <th class=\"col_heading level0 col3\" >share_248</th>    </tr></thead><tbody>\n",
       "                <tr>\n",
       "                                <td id=\"T_b1353_row0_col0\" class=\"data row0 col0\" >MainScreenAppear</td>\n",
       "                        <td id=\"T_b1353_row0_col1\" class=\"data row0 col1\" >100</td>\n",
       "                        <td id=\"T_b1353_row0_col2\" class=\"data row0 col2\" >100</td>\n",
       "                        <td id=\"T_b1353_row0_col3\" class=\"data row0 col3\" >100</td>\n",
       "            </tr>\n",
       "            <tr>\n",
       "                                <td id=\"T_b1353_row1_col0\" class=\"data row1 col0\" >OffersScreenAppear</td>\n",
       "                        <td id=\"T_b1353_row1_col1\" class=\"data row1 col1\" >63</td>\n",
       "                        <td id=\"T_b1353_row1_col2\" class=\"data row1 col2\" >61</td>\n",
       "                        <td id=\"T_b1353_row1_col3\" class=\"data row1 col3\" >61</td>\n",
       "            </tr>\n",
       "            <tr>\n",
       "                                <td id=\"T_b1353_row2_col0\" class=\"data row2 col0\" >CartScreenAppear</td>\n",
       "                        <td id=\"T_b1353_row2_col1\" class=\"data row2 col1\" >52</td>\n",
       "                        <td id=\"T_b1353_row2_col2\" class=\"data row2 col2\" >50</td>\n",
       "                        <td id=\"T_b1353_row2_col3\" class=\"data row2 col3\" >49</td>\n",
       "            </tr>\n",
       "            <tr>\n",
       "                                <td id=\"T_b1353_row3_col0\" class=\"data row3 col0\" >PaymentScreenSuccessful</td>\n",
       "                        <td id=\"T_b1353_row3_col1\" class=\"data row3 col1\" >49</td>\n",
       "                        <td id=\"T_b1353_row3_col2\" class=\"data row3 col2\" >47</td>\n",
       "                        <td id=\"T_b1353_row3_col3\" class=\"data row3 col3\" >47</td>\n",
       "            </tr>\n",
       "    </tbody></table>"
      ],
      "text/plain": [
       "<pandas.io.formats.style.Styler at 0x7f80a4a09a90>"
      ]
     },
     "metadata": {},
     "output_type": "display_data"
    }
   ],
   "source": [
    "display(\n",
    "    (share_event.style.background_gradient(subset=['share_246', 'share_247', 'share_248'], cmap='Blues')\n",
    "     .set_caption('Сравнение воронок пользователей в событиях по группам в %.')\n",
    "      .set_table_styles([{'selector': 'caption', 'props': [('color', 'black'), ('font-size', '15px')]}])\n",
    "     .hide_index())\n",
    "    )"
   ]
  },
  {
   "cell_type": "markdown",
   "metadata": {},
   "source": [
    "Вывод: При сравнении воронок групп можно сделать вывод что большой разницы между старыми и новыми шрифтами нет. В 246 контрольной группе на всех этапах есть 2% отличие от 247 контрольной группы и 248 экспериментальной, у 247 отличие от экспериментальной практически нет."
   ]
  },
  {
   "cell_type": "code",
   "execution_count": 36,
   "metadata": {},
   "outputs": [],
   "source": [
    "def stat_krit(msa1, x1, mas2, x2):\n",
    "    \n",
    "    alpha = 0.05  # критический уровень статистической значимости\n",
    "    \n",
    "    purchases = np.array([x1, x2])\n",
    "    leads = np.array([msa1, mas2])\n",
    "\n",
    "    p1 = purchases[0] / leads[0]\n",
    "    p2=  purchases[1] / leads[1]\n",
    "    p_combined = (purchases[0] + purchases[1]) / (leads[0] + leads[1])\n",
    "    difference = p1 - p2\n",
    "\n",
    "    z_value = difference / mth.sqrt(p_combined * (1 - p_combined) * (1/leads[0] + 1/leads[1]))\n",
    "\n",
    "    distr = st.norm(0, 1)\n",
    "\n",
    "    p_value = (1-distr.cdf(abs(z_value))) * 2\n",
    "\n",
    "    print('p-значение: ', p_value)\n",
    "\n",
    "    if p_value < alpha:\n",
    "        print('Отвергаем нулевую гипотезу: между долями есть значимая разница')\n",
    "    else:\n",
    "        print(\n",
    "             'Не получилось отвергнуть нулевую гипотезу, нет оснований считать доли разными'\n",
    "        )"
   ]
  },
  {
   "cell_type": "markdown",
   "metadata": {
    "scrolled": true
   },
   "source": [
    "### Сравниваем контрольные группы друг с другом, группу 246 с группой 247. "
   ]
  },
  {
   "cell_type": "markdown",
   "metadata": {},
   "source": [
    "Сформулируем гипотезы:\n",
    "\n",
    "- Нулевая: различий между контрольными группами 246 и 247 в событии Offers Screen Appear нет.\n",
    "- Альтернативная: различия между контрольными группами 246 и 247 в событии Offers Screen Appear есть."
   ]
  },
  {
   "cell_type": "code",
   "execution_count": 37,
   "metadata": {},
   "outputs": [
    {
     "name": "stdout",
     "output_type": "stream",
     "text": [
      "p-значение:  0.2622344959255778\n",
      "Не получилось отвергнуть нулевую гипотезу, нет оснований считать доли разными\n"
     ]
    }
   ],
   "source": [
    "#OffersScreenAppear\n",
    "stat_krit(2450, 1542, 2476, 1520)"
   ]
  },
  {
   "cell_type": "markdown",
   "metadata": {},
   "source": [
    "- Нулевая: различий между контрольными группами 246 и 247 в событии Cart Screen Appear нет.\n",
    "- Альтернативная: различия между контрольными группами 246 и 247 в событии Cart Screen Appear есть."
   ]
  },
  {
   "cell_type": "code",
   "execution_count": 38,
   "metadata": {},
   "outputs": [
    {
     "name": "stdout",
     "output_type": "stream",
     "text": [
      "p-значение:  0.24012327015939383\n",
      "Не получилось отвергнуть нулевую гипотезу, нет оснований считать доли разными\n"
     ]
    }
   ],
   "source": [
    "#CartScreenAppear\n",
    "stat_krit(2450, 1266, 2476, 1238)"
   ]
  },
  {
   "cell_type": "markdown",
   "metadata": {},
   "source": [
    "- Нулевая: различий между контрольными группами 246 и 247 в событии Payment Screen Successful нет.\n",
    "- Альтернативная: различия между контрольными группами 246 и 247 в событии Payment Screen Successful есть."
   ]
  },
  {
   "cell_type": "code",
   "execution_count": 39,
   "metadata": {
    "scrolled": false
   },
   "outputs": [
    {
     "name": "stdout",
     "output_type": "stream",
     "text": [
      "p-значение:  0.12044299485641763\n",
      "Не получилось отвергнуть нулевую гипотезу, нет оснований считать доли разными\n"
     ]
    }
   ],
   "source": [
    "#PaymentScreenSuccessful\n",
    "stat_krit(2450, 1200, 2476, 1158)"
   ]
  },
  {
   "cell_type": "markdown",
   "metadata": {},
   "source": [
    "Вывод: Причин отвергать нулевую гипотезу и считать, что между контрольными группами 246 и 247 есть различия, нет."
   ]
  },
  {
   "cell_type": "markdown",
   "metadata": {},
   "source": [
    "### Сравниваем контрольную группу 246 с исследуемой группой 248."
   ]
  },
  {
   "cell_type": "markdown",
   "metadata": {},
   "source": [
    "Сформулируем гипотезы:\n",
    "\n",
    "- Нулевая: различий между контрольной группой 246 и исследуемой группой 248 в событии Offers Screen Appear нет.\n",
    "- Альтернативная: различия между  контрольной группой  246 и исследуемой группой 248 в событии Offers Screen Appear есть."
   ]
  },
  {
   "cell_type": "code",
   "execution_count": 40,
   "metadata": {},
   "outputs": [
    {
     "name": "stdout",
     "output_type": "stream",
     "text": [
      "p-значение:  0.2684281587249231\n",
      "Не получилось отвергнуть нулевую гипотезу, нет оснований считать доли разными\n"
     ]
    }
   ],
   "source": [
    "#OffersScreenAppear\n",
    "stat_krit(2493, 1531, 2450, 1542)"
   ]
  },
  {
   "cell_type": "markdown",
   "metadata": {},
   "source": [
    "- Нулевая: различий между  контрольной группой  246 и исследуемой группой 248  в событии Cart Screen Appear нет.\n",
    "- Альтернативная: различия между контрольной группой  246 и исследуемой группой 248 в событии Cart Screen Appear есть."
   ]
  },
  {
   "cell_type": "code",
   "execution_count": 41,
   "metadata": {
    "scrolled": true
   },
   "outputs": [
    {
     "name": "stdout",
     "output_type": "stream",
     "text": [
      "p-значение:  0.6844103115682585\n",
      "Не получилось отвергнуть нулевую гипотезу, нет оснований считать доли разными\n"
     ]
    }
   ],
   "source": [
    "#CartScreenAppear \n",
    "stat_krit(2493, 1266, 2450, 1230)"
   ]
  },
  {
   "cell_type": "markdown",
   "metadata": {},
   "source": [
    "- Нулевая: различий между  контрольной группой  246 и исследуемой группой 248 в  событии Payment Screen Successful нет.\n",
    "- Альтернативная: различия между  контрольной группой  246 и исследуемой группой 248 в  событии Payment Screen Successful есть."
   ]
  },
  {
   "cell_type": "code",
   "execution_count": 42,
   "metadata": {
    "scrolled": true
   },
   "outputs": [
    {
     "name": "stdout",
     "output_type": "stream",
     "text": [
      "p-значение:  0.2582638437556217\n",
      "Не получилось отвергнуть нулевую гипотезу, нет оснований считать доли разными\n"
     ]
    }
   ],
   "source": [
    "#PaymentScreenSuccessful\n",
    "stat_krit(2493, 1181, 2450, 1200)"
   ]
  },
  {
   "cell_type": "markdown",
   "metadata": {},
   "source": [
    "Вывод: Причин отвергать нулевую гипотезу и считать, что между контрольной группой 246 и исследуемой группой 248 есть различия, нет."
   ]
  },
  {
   "cell_type": "markdown",
   "metadata": {
    "scrolled": false
   },
   "source": [
    "### Сравниваем контрольную группу 247 с исследуемой группой 248."
   ]
  },
  {
   "cell_type": "markdown",
   "metadata": {},
   "source": [
    "Сформулируем гипотезы:\n",
    "\n",
    "- Нулевая: различий между контрольной группой 247 и исследуемой группой 248 в событии Offers Screen Appear нет.\n",
    "- Альтернативная: различия между контрольной группой 247 и исследуемой группой 248 в событии Offers Screen Appear есть"
   ]
  },
  {
   "cell_type": "code",
   "execution_count": 43,
   "metadata": {},
   "outputs": [
    {
     "name": "stdout",
     "output_type": "stream",
     "text": [
      "p-значение:  0.9869365252844515\n",
      "Не получилось отвергнуть нулевую гипотезу, нет оснований считать доли разными\n"
     ]
    }
   ],
   "source": [
    "#OffersScreenAppear\n",
    "stat_krit(2493, 1531, 2476, 1520)"
   ]
  },
  {
   "cell_type": "markdown",
   "metadata": {},
   "source": [
    "- Нулевая: различий между  контрольной группой  247 и исследуемой группой 248  в событии Cart Screen Appear нет.\n",
    "- Альтернативная: различия между контрольной группой  247 и исследуемой группой 248 в событии Cart Screen Appear есть."
   ]
  },
  {
   "cell_type": "code",
   "execution_count": 44,
   "metadata": {},
   "outputs": [
    {
     "name": "stdout",
     "output_type": "stream",
     "text": [
      "p-значение:  0.6408180183192491\n",
      "Не получилось отвергнуть нулевую гипотезу, нет оснований считать доли разными\n"
     ]
    }
   ],
   "source": [
    "#CartScreenAppear \n",
    "stat_krit(2493, 1230, 2476, 1238)"
   ]
  },
  {
   "cell_type": "markdown",
   "metadata": {},
   "source": [
    "- Нулевая: различий между  контрольной группой  247 и исследуемой группой 248 в  событии Payment Screen Successful нет.\n",
    "- Альтернативная: различия между  контрольной группой  247 и исследуемой группой 248 в  событии Payment Screen Successful есть."
   ]
  },
  {
   "cell_type": "code",
   "execution_count": 45,
   "metadata": {
    "scrolled": true
   },
   "outputs": [
    {
     "name": "stdout",
     "output_type": "stream",
     "text": [
      "p-значение:  0.6699208079332859\n",
      "Не получилось отвергнуть нулевую гипотезу, нет оснований считать доли разными\n"
     ]
    }
   ],
   "source": [
    "#PaymentScreenSuccessful\n",
    "stat_krit(2493, 1181, 2476, 1158)"
   ]
  },
  {
   "cell_type": "markdown",
   "metadata": {},
   "source": [
    "Вывод: Причин отвергать нулевую гипотезу и считать, что между контрольной группой 247 и исследуемой группой 248 есть различия, нет."
   ]
  },
  {
   "cell_type": "markdown",
   "metadata": {},
   "source": [
    "### Сравниваем обобщённую контрольную группу с исследуемой группой."
   ]
  },
  {
   "cell_type": "markdown",
   "metadata": {},
   "source": [
    "Сформулируем гипотезы:\n",
    "\n",
    "- Нулевая: различий между контрольной группой исследуемой группой в событии Offers Screen Appear нет.\n",
    "- Альтернативная: различия между контрольной группой и исследуемой группой в событии Offers Screen Appear есть"
   ]
  },
  {
   "cell_type": "code",
   "execution_count": 46,
   "metadata": {},
   "outputs": [
    {
     "name": "stdout",
     "output_type": "stream",
     "text": [
      "p-значение:  0.5308589432077624\n",
      "Не получилось отвергнуть нулевую гипотезу, нет оснований считать доли разными\n"
     ]
    }
   ],
   "source": [
    "#OffersScreenAppear\n",
    "stat_krit(2493, 1531, 4926,  3062)"
   ]
  },
  {
   "cell_type": "markdown",
   "metadata": {},
   "source": [
    "- Нулевая: различий между контрольной группой и исследуемой группой в событии Cart Screen Appear нет.\n",
    "- Альтернативная: различия между контрольной группой и исследуемой группой в событии Cart Screen Appear есть."
   ]
  },
  {
   "cell_type": "code",
   "execution_count": 47,
   "metadata": {},
   "outputs": [
    {
     "name": "stdout",
     "output_type": "stream",
     "text": [
      "p-значение:  0.21781510823139483\n",
      "Не получилось отвергнуть нулевую гипотезу, нет оснований считать доли разными\n"
     ]
    }
   ],
   "source": [
    "#CartScreenAppear\n",
    "stat_krit(2493, 1230, 4926,  2505)"
   ]
  },
  {
   "cell_type": "markdown",
   "metadata": {},
   "source": [
    "- Нулевая: различий между контрольной группой и исследуемой группой в событии Payment Screen Successful нет.\n",
    "- Альтернативная: различия между контрольной группой и исследуемой группой в событии Payment Screen Successful есть."
   ]
  },
  {
   "cell_type": "code",
   "execution_count": 48,
   "metadata": {},
   "outputs": [
    {
     "name": "stdout",
     "output_type": "stream",
     "text": [
      "p-значение:  0.6863094718086811\n",
      "Не получилось отвергнуть нулевую гипотезу, нет оснований считать доли разными\n"
     ]
    }
   ],
   "source": [
    "#PaymentScreenSuccessful             \n",
    "stat_krit(4926, 2358, 2493, 1181)"
   ]
  },
  {
   "cell_type": "markdown",
   "metadata": {},
   "source": [
    "Вывод: Причин отвергать нулевую гипотезу и считать, что между объединенной контрольной группой и исследуемой группой есть различия, нет."
   ]
  },
  {
   "cell_type": "markdown",
   "metadata": {},
   "source": [
    "Было проведено 12 проверок статистических гипотез. При критерии в 5 % различий в полученных данных нет."
   ]
  },
  {
   "cell_type": "code",
   "execution_count": 49,
   "metadata": {},
   "outputs": [
    {
     "name": "stdout",
     "output_type": "stream",
     "text": [
      "Вероятность того, что хотя бы в одном из сравнений будет зафиксирован ложнопозитивный результат равна:\n",
      "0.041666666666666664\n"
     ]
    }
   ],
   "source": [
    "print(\n",
    "    'Вероятность того, что хотя бы в одном из сравнений будет зафиксирован ложнопозитивный результат равна:',\n",
    ")\n",
    "print(0.5/12)"
   ]
  },
  {
   "cell_type": "markdown",
   "metadata": {},
   "source": [
    "Критерий ниже 0.05 обычна используют в областях связанных с жизнью и здоровьем людей для большей надежности, но тут можно упустить связь между явлениями, а взяв критерий больше наоборот можно найти закономерность там где ее нет, поэтому 0.05 наиболее подходящий критерий в данной ситуации."
   ]
  },
  {
   "cell_type": "markdown",
   "metadata": {
    "scrolled": true
   },
   "source": [
    "## Общий вывод.\n",
    "\n",
    "По данным проведённых исследований можно подвести итоги:\n",
    "\n",
    "- От главного экрана до экрана предложений доходят 62% пользователей, на этом этапе теряется наибольшее их количество 38%, на переходах к следующим этапов событий(экрана корзины и оплаты) теряется примерно по 12% пользователей. От начального количества пользователей приложением до оплаты остается 48%.\n",
    "- Воронки контрольных и экспериментальной группы имеют не значительное различие на событии оплаты (Payment Screen Successful).\n",
    "- Изменение шрифтов на потерю пользователей не влияет и при условии что есть свободные люди и ресурсы, а шрифты являются усторевшыми их можно заменить на новые, значимого влияния(положительного или отрицательного) на метрики эти изменения не окажут. \n",
    "\n",
    "По итогу шрифты менять можно к потери покупателей продукта это не приведет."
   ]
  }
 ],
 "metadata": {
  "ExecuteTimeLog": [
   {
    "duration": 72,
    "start_time": "2023-01-07T13:10:53.841Z"
   },
   {
    "duration": 47,
    "start_time": "2023-01-07T13:11:05.794Z"
   },
   {
    "duration": 7,
    "start_time": "2023-01-07T13:11:24.442Z"
   },
   {
    "duration": 418,
    "start_time": "2023-01-07T13:11:30.521Z"
   },
   {
    "duration": 884,
    "start_time": "2023-01-07T13:11:31.058Z"
   },
   {
    "duration": 309,
    "start_time": "2023-01-07T13:12:00.160Z"
   },
   {
    "duration": 66,
    "start_time": "2023-01-07T13:12:13.371Z"
   },
   {
    "duration": 292,
    "start_time": "2023-01-07T13:12:18.790Z"
   },
   {
    "duration": 307,
    "start_time": "2023-01-07T13:14:45.991Z"
   },
   {
    "duration": 72,
    "start_time": "2023-01-07T13:14:59.558Z"
   },
   {
    "duration": 306,
    "start_time": "2023-01-07T13:15:07.931Z"
   },
   {
    "duration": 271,
    "start_time": "2023-01-07T13:15:23.667Z"
   },
   {
    "duration": 290,
    "start_time": "2023-01-07T13:16:54.381Z"
   },
   {
    "duration": 196,
    "start_time": "2023-01-07T13:18:26.001Z"
   },
   {
    "duration": 69,
    "start_time": "2023-01-07T13:18:48.861Z"
   },
   {
    "duration": 164,
    "start_time": "2023-01-07T13:18:55.953Z"
   },
   {
    "duration": 187,
    "start_time": "2023-01-07T13:19:12.460Z"
   },
   {
    "duration": 175,
    "start_time": "2023-01-07T13:19:20.362Z"
   },
   {
    "duration": 4,
    "start_time": "2023-01-07T13:21:30.951Z"
   },
   {
    "duration": 156,
    "start_time": "2023-01-07T13:21:36.003Z"
   },
   {
    "duration": 22,
    "start_time": "2023-01-07T13:23:38.230Z"
   },
   {
    "duration": 70,
    "start_time": "2023-01-07T13:30:09.110Z"
   },
   {
    "duration": 6,
    "start_time": "2023-01-07T13:31:02.511Z"
   },
   {
    "duration": 19,
    "start_time": "2023-01-07T13:31:04.821Z"
   },
   {
    "duration": 16,
    "start_time": "2023-01-07T13:36:02.722Z"
   },
   {
    "duration": 65,
    "start_time": "2023-01-07T13:36:49.590Z"
   },
   {
    "duration": 5,
    "start_time": "2023-01-07T13:38:33.171Z"
   },
   {
    "duration": 86,
    "start_time": "2023-01-07T14:37:47.465Z"
   },
   {
    "duration": 87,
    "start_time": "2023-01-07T14:38:05.082Z"
   },
   {
    "duration": 90,
    "start_time": "2023-01-07T14:38:34.015Z"
   },
   {
    "duration": 87,
    "start_time": "2023-01-07T14:39:09.550Z"
   },
   {
    "duration": 97,
    "start_time": "2023-01-07T14:44:06.977Z"
   },
   {
    "duration": 12,
    "start_time": "2023-01-07T14:47:11.013Z"
   },
   {
    "duration": 11,
    "start_time": "2023-01-07T14:52:30.726Z"
   },
   {
    "duration": 1122,
    "start_time": "2023-01-07T14:52:39.500Z"
   },
   {
    "duration": 290,
    "start_time": "2023-01-07T14:52:52.408Z"
   },
   {
    "duration": 957,
    "start_time": "2023-01-07T14:53:04.739Z"
   },
   {
    "duration": 164,
    "start_time": "2023-01-07T14:53:06.942Z"
   },
   {
    "duration": 19,
    "start_time": "2023-01-07T14:53:07.133Z"
   },
   {
    "duration": 6,
    "start_time": "2023-01-07T14:53:07.358Z"
   },
   {
    "duration": 55,
    "start_time": "2023-01-07T14:53:07.527Z"
   },
   {
    "duration": 65,
    "start_time": "2023-01-07T14:53:07.698Z"
   },
   {
    "duration": 80,
    "start_time": "2023-01-07T14:53:08.018Z"
   },
   {
    "duration": 329,
    "start_time": "2023-01-07T14:53:08.211Z"
   },
   {
    "duration": 4,
    "start_time": "2023-01-07T14:59:32.512Z"
   },
   {
    "duration": 61,
    "start_time": "2023-01-07T15:00:34.194Z"
   },
   {
    "duration": 9,
    "start_time": "2023-01-07T15:00:52.330Z"
   },
   {
    "duration": 14,
    "start_time": "2023-01-07T15:00:58.114Z"
   },
   {
    "duration": 13,
    "start_time": "2023-01-07T15:01:36.244Z"
   },
   {
    "duration": 11,
    "start_time": "2023-01-07T15:05:08.681Z"
   },
   {
    "duration": 8,
    "start_time": "2023-01-07T15:05:10.714Z"
   },
   {
    "duration": 58,
    "start_time": "2023-01-08T13:00:56.093Z"
   },
   {
    "duration": 7,
    "start_time": "2023-01-08T13:00:56.611Z"
   },
   {
    "duration": 1558,
    "start_time": "2023-01-08T13:01:06.469Z"
   },
   {
    "duration": 830,
    "start_time": "2023-01-08T13:01:08.030Z"
   },
   {
    "duration": 40,
    "start_time": "2023-01-08T13:01:08.862Z"
   },
   {
    "duration": 14,
    "start_time": "2023-01-08T13:01:08.906Z"
   },
   {
    "duration": 125,
    "start_time": "2023-01-08T13:01:08.923Z"
   },
   {
    "duration": 116,
    "start_time": "2023-01-08T13:01:09.050Z"
   },
   {
    "duration": 142,
    "start_time": "2023-01-08T13:01:09.168Z"
   },
   {
    "duration": 4,
    "start_time": "2023-01-08T13:01:09.312Z"
   },
   {
    "duration": 11,
    "start_time": "2023-01-08T13:01:09.318Z"
   },
   {
    "duration": 14,
    "start_time": "2023-01-08T13:01:09.339Z"
   },
   {
    "duration": 14,
    "start_time": "2023-01-08T13:01:09.354Z"
   },
   {
    "duration": 12,
    "start_time": "2023-01-08T13:01:35.808Z"
   },
   {
    "duration": 25,
    "start_time": "2023-01-08T13:02:49.924Z"
   },
   {
    "duration": 104,
    "start_time": "2023-01-08T13:06:03.281Z"
   },
   {
    "duration": 109,
    "start_time": "2023-01-08T13:06:03.685Z"
   },
   {
    "duration": 8,
    "start_time": "2023-01-08T13:06:54.075Z"
   },
   {
    "duration": 104,
    "start_time": "2023-01-08T13:06:54.449Z"
   },
   {
    "duration": 105,
    "start_time": "2023-01-08T13:06:54.800Z"
   },
   {
    "duration": 99,
    "start_time": "2023-01-08T13:06:55.223Z"
   },
   {
    "duration": 98,
    "start_time": "2023-01-08T13:07:10.041Z"
   },
   {
    "duration": 142,
    "start_time": "2023-01-08T13:07:11.006Z"
   },
   {
    "duration": 101,
    "start_time": "2023-01-08T13:07:59.309Z"
   },
   {
    "duration": 96,
    "start_time": "2023-01-08T13:07:59.671Z"
   },
   {
    "duration": 86,
    "start_time": "2023-01-08T13:08:06.179Z"
   },
   {
    "duration": 115,
    "start_time": "2023-01-08T13:08:06.445Z"
   },
   {
    "duration": 8,
    "start_time": "2023-01-08T13:08:33.452Z"
   },
   {
    "duration": 78,
    "start_time": "2023-01-08T13:08:34.365Z"
   },
   {
    "duration": 98,
    "start_time": "2023-01-08T13:08:44.589Z"
   },
   {
    "duration": 79,
    "start_time": "2023-01-08T13:08:45.665Z"
   },
   {
    "duration": 35,
    "start_time": "2023-01-08T13:10:29.704Z"
   },
   {
    "duration": 168,
    "start_time": "2023-01-08T13:12:00.685Z"
   },
   {
    "duration": 21,
    "start_time": "2023-01-08T13:12:01.151Z"
   },
   {
    "duration": 5,
    "start_time": "2023-01-08T13:12:01.688Z"
   },
   {
    "duration": 72,
    "start_time": "2023-01-08T13:12:02.075Z"
   },
   {
    "duration": 73,
    "start_time": "2023-01-08T13:12:02.480Z"
   },
   {
    "duration": 23,
    "start_time": "2023-01-08T13:12:02.799Z"
   },
   {
    "duration": 5,
    "start_time": "2023-01-08T13:12:03.142Z"
   },
   {
    "duration": 10,
    "start_time": "2023-01-08T13:12:03.580Z"
   },
   {
    "duration": 91,
    "start_time": "2023-01-08T13:12:38.771Z"
   },
   {
    "duration": 3,
    "start_time": "2023-01-08T13:12:52.605Z"
   },
   {
    "duration": 163,
    "start_time": "2023-01-08T13:12:52.803Z"
   },
   {
    "duration": 24,
    "start_time": "2023-01-08T13:12:52.997Z"
   },
   {
    "duration": 5,
    "start_time": "2023-01-08T13:12:53.191Z"
   },
   {
    "duration": 88,
    "start_time": "2023-01-08T13:12:54.030Z"
   },
   {
    "duration": 93,
    "start_time": "2023-01-08T13:12:54.218Z"
   },
   {
    "duration": 112,
    "start_time": "2023-01-08T13:12:54.403Z"
   },
   {
    "duration": 4,
    "start_time": "2023-01-08T13:12:54.601Z"
   },
   {
    "duration": 9,
    "start_time": "2023-01-08T13:12:54.880Z"
   },
   {
    "duration": 9,
    "start_time": "2023-01-08T13:22:14.655Z"
   },
   {
    "duration": 3,
    "start_time": "2023-01-08T13:37:43.950Z"
   },
   {
    "duration": 122,
    "start_time": "2023-01-08T13:38:45.765Z"
   },
   {
    "duration": 11,
    "start_time": "2023-01-08T13:39:06.951Z"
   },
   {
    "duration": 3,
    "start_time": "2023-01-08T13:39:11.693Z"
   },
   {
    "duration": 179,
    "start_time": "2023-01-08T13:39:12.445Z"
   },
   {
    "duration": 24,
    "start_time": "2023-01-08T13:39:12.996Z"
   },
   {
    "duration": 8,
    "start_time": "2023-01-08T13:39:13.474Z"
   },
   {
    "duration": 71,
    "start_time": "2023-01-08T13:39:13.924Z"
   },
   {
    "duration": 65,
    "start_time": "2023-01-08T13:39:14.397Z"
   },
   {
    "duration": 82,
    "start_time": "2023-01-08T13:39:15.047Z"
   },
   {
    "duration": 6,
    "start_time": "2023-01-08T13:39:15.539Z"
   },
   {
    "duration": 8,
    "start_time": "2023-01-08T13:39:15.910Z"
   },
   {
    "duration": 3,
    "start_time": "2023-01-08T13:39:16.176Z"
   },
   {
    "duration": 11,
    "start_time": "2023-01-08T13:39:16.387Z"
   },
   {
    "duration": 83,
    "start_time": "2023-01-08T13:41:44.317Z"
   },
   {
    "duration": 85,
    "start_time": "2023-01-08T13:42:00.177Z"
   },
   {
    "duration": 11,
    "start_time": "2023-01-08T13:57:29.742Z"
   },
   {
    "duration": 23,
    "start_time": "2023-01-08T13:57:46.927Z"
   },
   {
    "duration": 24,
    "start_time": "2023-01-08T13:58:46.277Z"
   },
   {
    "duration": 21,
    "start_time": "2023-01-08T13:59:02.911Z"
   },
   {
    "duration": 29,
    "start_time": "2023-01-08T14:00:00.007Z"
   },
   {
    "duration": 14,
    "start_time": "2023-01-08T14:02:25.169Z"
   },
   {
    "duration": 42,
    "start_time": "2023-01-08T14:02:33.184Z"
   },
   {
    "duration": 12,
    "start_time": "2023-01-08T14:09:21.717Z"
   },
   {
    "duration": 9,
    "start_time": "2023-01-08T14:09:42.964Z"
   },
   {
    "duration": 5,
    "start_time": "2023-01-08T14:09:55.617Z"
   },
   {
    "duration": 10,
    "start_time": "2023-01-08T14:15:47.789Z"
   },
   {
    "duration": 7,
    "start_time": "2023-01-08T14:16:15.127Z"
   },
   {
    "duration": 7,
    "start_time": "2023-01-08T14:16:24.854Z"
   },
   {
    "duration": 5,
    "start_time": "2023-01-08T14:16:45.301Z"
   },
   {
    "duration": 6,
    "start_time": "2023-01-08T14:16:59.791Z"
   },
   {
    "duration": 10,
    "start_time": "2023-01-08T14:17:20.489Z"
   },
   {
    "duration": 3,
    "start_time": "2023-01-08T14:19:27.695Z"
   },
   {
    "duration": 5,
    "start_time": "2023-01-08T14:19:43.991Z"
   },
   {
    "duration": 55,
    "start_time": "2023-01-08T14:20:08.032Z"
   },
   {
    "duration": 54,
    "start_time": "2023-01-08T14:25:48.908Z"
   },
   {
    "duration": 36,
    "start_time": "2023-01-08T14:34:26.238Z"
   },
   {
    "duration": 52,
    "start_time": "2023-01-08T14:36:01.510Z"
   },
   {
    "duration": 44,
    "start_time": "2023-01-08T14:36:14.229Z"
   },
   {
    "duration": 466,
    "start_time": "2023-01-08T14:37:09.356Z"
   },
   {
    "duration": 422,
    "start_time": "2023-01-08T14:37:33.323Z"
   },
   {
    "duration": 579,
    "start_time": "2023-01-08T14:43:21.848Z"
   },
   {
    "duration": 624,
    "start_time": "2023-01-08T14:43:31.666Z"
   },
   {
    "duration": 5,
    "start_time": "2023-01-08T14:49:09.014Z"
   },
   {
    "duration": 4,
    "start_time": "2023-01-08T14:49:14.397Z"
   },
   {
    "duration": 452,
    "start_time": "2023-01-08T14:49:24.862Z"
   },
   {
    "duration": 179,
    "start_time": "2023-01-08T14:49:43.052Z"
   },
   {
    "duration": 298,
    "start_time": "2023-01-08T14:49:56.388Z"
   },
   {
    "duration": 36,
    "start_time": "2023-01-08T14:50:19.693Z"
   },
   {
    "duration": 215,
    "start_time": "2023-01-08T14:50:20.108Z"
   },
   {
    "duration": 247,
    "start_time": "2023-01-08T14:54:29.510Z"
   },
   {
    "duration": 197,
    "start_time": "2023-01-08T14:55:05.394Z"
   },
   {
    "duration": 199,
    "start_time": "2023-01-08T14:55:20.367Z"
   },
   {
    "duration": 188,
    "start_time": "2023-01-08T14:55:27.697Z"
   },
   {
    "duration": 188,
    "start_time": "2023-01-08T14:55:36.895Z"
   },
   {
    "duration": 197,
    "start_time": "2023-01-08T14:55:43.208Z"
   },
   {
    "duration": 200,
    "start_time": "2023-01-08T14:55:58.295Z"
   },
   {
    "duration": 186,
    "start_time": "2023-01-08T14:56:22.560Z"
   },
   {
    "duration": 209,
    "start_time": "2023-01-08T14:56:32.040Z"
   },
   {
    "duration": 201,
    "start_time": "2023-01-08T14:56:36.896Z"
   },
   {
    "duration": 206,
    "start_time": "2023-01-08T14:56:46.544Z"
   },
   {
    "duration": 196,
    "start_time": "2023-01-08T14:56:54.289Z"
   },
   {
    "duration": 197,
    "start_time": "2023-01-08T14:57:13.416Z"
   },
   {
    "duration": 194,
    "start_time": "2023-01-08T14:57:26.345Z"
   },
   {
    "duration": 195,
    "start_time": "2023-01-08T14:57:37.415Z"
   },
   {
    "duration": 211,
    "start_time": "2023-01-08T14:57:50.826Z"
   },
   {
    "duration": 215,
    "start_time": "2023-01-08T15:00:47.577Z"
   },
   {
    "duration": 222,
    "start_time": "2023-01-08T15:01:22.418Z"
   },
   {
    "duration": 204,
    "start_time": "2023-01-08T15:01:29.537Z"
   },
   {
    "duration": 215,
    "start_time": "2023-01-08T15:01:39.962Z"
   },
   {
    "duration": 310,
    "start_time": "2023-01-08T15:12:57.416Z"
   },
   {
    "duration": 36,
    "start_time": "2023-01-08T15:13:30.880Z"
   },
   {
    "duration": 86,
    "start_time": "2023-01-08T15:15:15.065Z"
   },
   {
    "duration": 96,
    "start_time": "2023-01-08T15:15:39.769Z"
   },
   {
    "duration": 226,
    "start_time": "2023-01-08T15:21:12.066Z"
   },
   {
    "duration": 130,
    "start_time": "2023-01-08T15:21:20.452Z"
   },
   {
    "duration": 1149,
    "start_time": "2023-01-08T15:21:36.266Z"
   },
   {
    "duration": 289,
    "start_time": "2023-01-08T15:21:37.417Z"
   },
   {
    "duration": 29,
    "start_time": "2023-01-08T15:21:37.708Z"
   },
   {
    "duration": 9,
    "start_time": "2023-01-08T15:21:37.740Z"
   },
   {
    "duration": 114,
    "start_time": "2023-01-08T15:21:37.751Z"
   },
   {
    "duration": 97,
    "start_time": "2023-01-08T15:21:37.868Z"
   },
   {
    "duration": 97,
    "start_time": "2023-01-08T15:21:37.967Z"
   },
   {
    "duration": 5,
    "start_time": "2023-01-08T15:21:38.066Z"
   },
   {
    "duration": 14,
    "start_time": "2023-01-08T15:21:38.073Z"
   },
   {
    "duration": 8,
    "start_time": "2023-01-08T15:21:38.088Z"
   },
   {
    "duration": 166,
    "start_time": "2023-01-08T15:21:38.098Z"
   },
   {
    "duration": 47,
    "start_time": "2023-01-08T15:21:38.265Z"
   },
   {
    "duration": 24,
    "start_time": "2023-01-08T15:21:38.314Z"
   },
   {
    "duration": 2,
    "start_time": "2023-01-08T15:21:38.341Z"
   },
   {
    "duration": 15,
    "start_time": "2023-01-08T15:21:38.346Z"
   },
   {
    "duration": 334,
    "start_time": "2023-01-08T15:21:38.363Z"
   },
   {
    "duration": 61,
    "start_time": "2023-01-08T15:21:38.698Z"
   },
   {
    "duration": 47,
    "start_time": "2023-01-08T15:21:38.761Z"
   },
   {
    "duration": 25,
    "start_time": "2023-01-08T15:21:38.810Z"
   },
   {
    "duration": 47,
    "start_time": "2023-01-08T15:21:38.837Z"
   },
   {
    "duration": 21,
    "start_time": "2023-01-08T15:22:09.492Z"
   },
   {
    "duration": 21,
    "start_time": "2023-01-08T15:24:42.008Z"
   },
   {
    "duration": 40,
    "start_time": "2023-01-08T15:25:24.637Z"
   },
   {
    "duration": 23,
    "start_time": "2023-01-08T15:25:43.697Z"
   },
   {
    "duration": 50,
    "start_time": "2023-01-08T15:39:15.706Z"
   },
   {
    "duration": 8,
    "start_time": "2023-01-08T15:41:00.081Z"
   },
   {
    "duration": 0,
    "start_time": "2023-01-08T15:43:35.449Z"
   },
   {
    "duration": 0,
    "start_time": "2023-01-08T15:43:35.452Z"
   },
   {
    "duration": 0,
    "start_time": "2023-01-08T15:43:35.456Z"
   },
   {
    "duration": 1345,
    "start_time": "2023-01-08T15:43:35.584Z"
   },
   {
    "duration": 732,
    "start_time": "2023-01-08T15:43:36.931Z"
   },
   {
    "duration": 23,
    "start_time": "2023-01-08T15:43:37.665Z"
   },
   {
    "duration": 7,
    "start_time": "2023-01-08T15:43:37.690Z"
   },
   {
    "duration": 91,
    "start_time": "2023-01-08T15:43:37.700Z"
   },
   {
    "duration": 85,
    "start_time": "2023-01-08T15:43:37.793Z"
   },
   {
    "duration": 91,
    "start_time": "2023-01-08T15:43:37.880Z"
   },
   {
    "duration": 4,
    "start_time": "2023-01-08T15:43:37.973Z"
   },
   {
    "duration": 10,
    "start_time": "2023-01-08T15:43:37.978Z"
   },
   {
    "duration": 2,
    "start_time": "2023-01-08T15:43:37.991Z"
   },
   {
    "duration": 164,
    "start_time": "2023-01-08T15:43:37.994Z"
   },
   {
    "duration": 57,
    "start_time": "2023-01-08T15:43:38.161Z"
   },
   {
    "duration": 6,
    "start_time": "2023-01-08T15:43:38.220Z"
   },
   {
    "duration": 2,
    "start_time": "2023-01-08T15:43:38.252Z"
   },
   {
    "duration": 17,
    "start_time": "2023-01-08T15:43:38.256Z"
   },
   {
    "duration": 313,
    "start_time": "2023-01-08T15:43:38.274Z"
   },
   {
    "duration": 18,
    "start_time": "2023-01-08T15:43:38.589Z"
   },
   {
    "duration": 26,
    "start_time": "2023-01-08T15:43:38.608Z"
   },
   {
    "duration": 21,
    "start_time": "2023-01-08T15:43:38.651Z"
   },
   {
    "duration": 3,
    "start_time": "2023-01-08T15:43:38.674Z"
   },
   {
    "duration": 25,
    "start_time": "2023-01-08T15:43:38.679Z"
   },
   {
    "duration": 85,
    "start_time": "2023-01-08T15:44:07.358Z"
   },
   {
    "duration": 42,
    "start_time": "2023-01-08T15:44:08.589Z"
   },
   {
    "duration": 9,
    "start_time": "2023-01-08T15:44:09.055Z"
   },
   {
    "duration": 3,
    "start_time": "2023-01-08T15:44:09.478Z"
   },
   {
    "duration": 31,
    "start_time": "2023-01-08T15:44:09.877Z"
   },
   {
    "duration": 223,
    "start_time": "2023-01-08T15:44:11.703Z"
   },
   {
    "duration": 402,
    "start_time": "2023-01-08T15:44:20.471Z"
   },
   {
    "duration": 71,
    "start_time": "2023-01-08T15:44:28.919Z"
   },
   {
    "duration": 28,
    "start_time": "2023-01-08T15:44:29.826Z"
   },
   {
    "duration": 20,
    "start_time": "2023-01-08T15:44:41.777Z"
   },
   {
    "duration": 23,
    "start_time": "2023-01-08T15:44:42.344Z"
   },
   {
    "duration": 21,
    "start_time": "2023-01-08T15:44:45.069Z"
   },
   {
    "duration": 4,
    "start_time": "2023-01-08T15:45:33.510Z"
   },
   {
    "duration": 5,
    "start_time": "2023-01-08T15:46:02.535Z"
   },
   {
    "duration": 6,
    "start_time": "2023-01-08T15:46:23.087Z"
   },
   {
    "duration": 24,
    "start_time": "2023-01-08T15:49:44.657Z"
   },
   {
    "duration": 27,
    "start_time": "2023-01-08T15:56:02.405Z"
   },
   {
    "duration": 75,
    "start_time": "2023-01-08T15:56:22.534Z"
   },
   {
    "duration": 45,
    "start_time": "2023-01-08T15:56:34.373Z"
   },
   {
    "duration": 26,
    "start_time": "2023-01-08T15:56:43.260Z"
   },
   {
    "duration": 25,
    "start_time": "2023-01-08T15:57:07.461Z"
   },
   {
    "duration": 38,
    "start_time": "2023-01-08T15:57:30.660Z"
   },
   {
    "duration": 191,
    "start_time": "2023-01-08T15:59:30.639Z"
   },
   {
    "duration": 18,
    "start_time": "2023-01-08T15:59:42.902Z"
   },
   {
    "duration": 171,
    "start_time": "2023-01-08T15:59:53.557Z"
   },
   {
    "duration": 1212,
    "start_time": "2023-01-08T16:07:10.735Z"
   },
   {
    "duration": 732,
    "start_time": "2023-01-08T16:07:11.949Z"
   },
   {
    "duration": 23,
    "start_time": "2023-01-08T16:07:12.682Z"
   },
   {
    "duration": 8,
    "start_time": "2023-01-08T16:07:12.706Z"
   },
   {
    "duration": 92,
    "start_time": "2023-01-08T16:07:12.716Z"
   },
   {
    "duration": 87,
    "start_time": "2023-01-08T16:07:12.810Z"
   },
   {
    "duration": 98,
    "start_time": "2023-01-08T16:07:12.898Z"
   },
   {
    "duration": 4,
    "start_time": "2023-01-08T16:07:12.999Z"
   },
   {
    "duration": 17,
    "start_time": "2023-01-08T16:07:13.006Z"
   },
   {
    "duration": 3,
    "start_time": "2023-01-08T16:07:13.025Z"
   },
   {
    "duration": 89,
    "start_time": "2023-01-08T16:07:13.052Z"
   },
   {
    "duration": 65,
    "start_time": "2023-01-08T16:07:13.150Z"
   },
   {
    "duration": 36,
    "start_time": "2023-01-08T16:07:13.217Z"
   },
   {
    "duration": 3,
    "start_time": "2023-01-08T16:07:13.256Z"
   },
   {
    "duration": 37,
    "start_time": "2023-01-08T16:07:13.260Z"
   },
   {
    "duration": 347,
    "start_time": "2023-01-08T16:07:13.299Z"
   },
   {
    "duration": 91,
    "start_time": "2023-01-08T16:07:13.651Z"
   },
   {
    "duration": 28,
    "start_time": "2023-01-08T16:07:13.744Z"
   },
   {
    "duration": 37,
    "start_time": "2023-01-08T16:07:13.775Z"
   },
   {
    "duration": 51,
    "start_time": "2023-01-08T16:14:27.135Z"
   },
   {
    "duration": 1173,
    "start_time": "2023-01-08T16:14:33.281Z"
   },
   {
    "duration": 746,
    "start_time": "2023-01-08T16:14:34.456Z"
   },
   {
    "duration": 30,
    "start_time": "2023-01-08T16:14:35.204Z"
   },
   {
    "duration": 15,
    "start_time": "2023-01-08T16:14:35.235Z"
   },
   {
    "duration": 81,
    "start_time": "2023-01-08T16:14:35.253Z"
   },
   {
    "duration": 89,
    "start_time": "2023-01-08T16:14:35.335Z"
   },
   {
    "duration": 92,
    "start_time": "2023-01-08T16:14:35.426Z"
   },
   {
    "duration": 4,
    "start_time": "2023-01-08T16:14:35.519Z"
   },
   {
    "duration": 32,
    "start_time": "2023-01-08T16:14:35.525Z"
   },
   {
    "duration": 4,
    "start_time": "2023-01-08T16:14:35.559Z"
   },
   {
    "duration": 106,
    "start_time": "2023-01-08T16:14:35.565Z"
   },
   {
    "duration": 39,
    "start_time": "2023-01-08T16:14:35.673Z"
   },
   {
    "duration": 6,
    "start_time": "2023-01-08T16:14:35.714Z"
   },
   {
    "duration": 29,
    "start_time": "2023-01-08T16:14:35.722Z"
   },
   {
    "duration": 37,
    "start_time": "2023-01-08T16:14:35.753Z"
   },
   {
    "duration": 313,
    "start_time": "2023-01-08T16:14:35.791Z"
   },
   {
    "duration": 74,
    "start_time": "2023-01-08T16:14:36.106Z"
   },
   {
    "duration": 25,
    "start_time": "2023-01-08T16:14:36.182Z"
   },
   {
    "duration": 54,
    "start_time": "2023-01-08T16:14:36.209Z"
   },
   {
    "duration": 178,
    "start_time": "2023-01-08T16:14:36.264Z"
   },
   {
    "duration": 168,
    "start_time": "2023-01-08T16:14:50.780Z"
   },
   {
    "duration": 169,
    "start_time": "2023-01-08T16:15:03.913Z"
   },
   {
    "duration": 70,
    "start_time": "2023-01-08T16:20:16.208Z"
   },
   {
    "duration": 73,
    "start_time": "2023-01-08T16:20:26.175Z"
   },
   {
    "duration": 71,
    "start_time": "2023-01-08T16:20:32.402Z"
   },
   {
    "duration": 21,
    "start_time": "2023-01-08T16:20:50.435Z"
   },
   {
    "duration": 1239,
    "start_time": "2023-01-08T16:21:43.612Z"
   },
   {
    "duration": 168,
    "start_time": "2023-01-08T16:22:23.506Z"
   },
   {
    "duration": 182,
    "start_time": "2023-01-08T16:24:28.482Z"
   },
   {
    "duration": 9,
    "start_time": "2023-01-08T16:30:50.964Z"
   },
   {
    "duration": 1132,
    "start_time": "2023-01-08T16:30:58.404Z"
   },
   {
    "duration": 218,
    "start_time": "2023-01-08T16:30:59.538Z"
   },
   {
    "duration": 29,
    "start_time": "2023-01-08T16:30:59.758Z"
   },
   {
    "duration": 10,
    "start_time": "2023-01-08T16:30:59.790Z"
   },
   {
    "duration": 120,
    "start_time": "2023-01-08T16:30:59.802Z"
   },
   {
    "duration": 93,
    "start_time": "2023-01-08T16:30:59.923Z"
   },
   {
    "duration": 99,
    "start_time": "2023-01-08T16:31:00.018Z"
   },
   {
    "duration": 5,
    "start_time": "2023-01-08T16:31:00.119Z"
   },
   {
    "duration": 36,
    "start_time": "2023-01-08T16:31:00.127Z"
   },
   {
    "duration": 6,
    "start_time": "2023-01-08T16:31:00.167Z"
   },
   {
    "duration": 103,
    "start_time": "2023-01-08T16:31:00.175Z"
   },
   {
    "duration": 9,
    "start_time": "2023-01-08T16:31:00.281Z"
   },
   {
    "duration": 64,
    "start_time": "2023-01-08T16:31:00.292Z"
   },
   {
    "duration": 11,
    "start_time": "2023-01-08T16:31:00.358Z"
   },
   {
    "duration": 21,
    "start_time": "2023-01-08T16:31:00.372Z"
   },
   {
    "duration": 52,
    "start_time": "2023-01-08T16:31:00.395Z"
   },
   {
    "duration": 342,
    "start_time": "2023-01-08T16:31:00.449Z"
   },
   {
    "duration": 82,
    "start_time": "2023-01-08T16:31:00.793Z"
   },
   {
    "duration": 30,
    "start_time": "2023-01-08T16:31:00.876Z"
   },
   {
    "duration": 24,
    "start_time": "2023-01-08T16:31:00.908Z"
   },
   {
    "duration": 194,
    "start_time": "2023-01-08T16:31:00.934Z"
   },
   {
    "duration": 13,
    "start_time": "2023-01-08T16:32:07.442Z"
   },
   {
    "duration": 73,
    "start_time": "2023-01-08T16:38:39.336Z"
   },
   {
    "duration": 68,
    "start_time": "2023-01-08T16:38:44.196Z"
   },
   {
    "duration": 154,
    "start_time": "2023-01-08T16:38:49.601Z"
   },
   {
    "duration": 72,
    "start_time": "2023-01-08T16:39:08.333Z"
   },
   {
    "duration": 80,
    "start_time": "2023-01-08T16:39:59.421Z"
   },
   {
    "duration": 284,
    "start_time": "2023-01-08T16:40:07.470Z"
   },
   {
    "duration": 99,
    "start_time": "2023-01-08T16:40:19.245Z"
   },
   {
    "duration": 4,
    "start_time": "2023-01-08T16:41:19.545Z"
   },
   {
    "duration": 9,
    "start_time": "2023-01-08T16:41:39.837Z"
   },
   {
    "duration": 10,
    "start_time": "2023-01-08T16:42:15.583Z"
   },
   {
    "duration": 3,
    "start_time": "2023-01-08T16:42:37.248Z"
   },
   {
    "duration": 4,
    "start_time": "2023-01-08T16:42:57.080Z"
   },
   {
    "duration": 3,
    "start_time": "2023-01-08T16:43:08.494Z"
   },
   {
    "duration": 4,
    "start_time": "2023-01-08T16:43:27.385Z"
   },
   {
    "duration": 3,
    "start_time": "2023-01-08T16:43:41.447Z"
   },
   {
    "duration": 4,
    "start_time": "2023-01-08T16:44:03.473Z"
   },
   {
    "duration": 69,
    "start_time": "2023-01-08T16:44:34.880Z"
   },
   {
    "duration": 4,
    "start_time": "2023-01-08T16:44:45.167Z"
   },
   {
    "duration": 4,
    "start_time": "2023-01-08T16:44:58.522Z"
   },
   {
    "duration": 20,
    "start_time": "2023-01-08T16:45:57.368Z"
   },
   {
    "duration": 24,
    "start_time": "2023-01-08T16:46:05.592Z"
   },
   {
    "duration": 1405,
    "start_time": "2023-01-09T10:31:06.951Z"
   },
   {
    "duration": 776,
    "start_time": "2023-01-09T10:31:08.358Z"
   },
   {
    "duration": 26,
    "start_time": "2023-01-09T10:31:09.137Z"
   },
   {
    "duration": 10,
    "start_time": "2023-01-09T10:31:09.165Z"
   },
   {
    "duration": 110,
    "start_time": "2023-01-09T10:31:09.178Z"
   },
   {
    "duration": 88,
    "start_time": "2023-01-09T10:31:09.291Z"
   },
   {
    "duration": 93,
    "start_time": "2023-01-09T10:31:09.381Z"
   },
   {
    "duration": 5,
    "start_time": "2023-01-09T10:31:09.477Z"
   },
   {
    "duration": 11,
    "start_time": "2023-01-09T10:31:09.484Z"
   },
   {
    "duration": 3,
    "start_time": "2023-01-09T10:31:09.497Z"
   },
   {
    "duration": 125,
    "start_time": "2023-01-09T10:31:09.503Z"
   },
   {
    "duration": 30,
    "start_time": "2023-01-09T10:31:09.631Z"
   },
   {
    "duration": 14,
    "start_time": "2023-01-09T10:31:09.664Z"
   },
   {
    "duration": 13,
    "start_time": "2023-01-09T10:31:09.682Z"
   },
   {
    "duration": 63,
    "start_time": "2023-01-09T10:31:09.698Z"
   },
   {
    "duration": 390,
    "start_time": "2023-01-09T10:31:09.763Z"
   },
   {
    "duration": 78,
    "start_time": "2023-01-09T10:31:10.155Z"
   },
   {
    "duration": 42,
    "start_time": "2023-01-09T10:31:10.235Z"
   },
   {
    "duration": 31,
    "start_time": "2023-01-09T10:31:10.280Z"
   },
   {
    "duration": 196,
    "start_time": "2023-01-09T10:31:10.313Z"
   },
   {
    "duration": 25,
    "start_time": "2023-01-09T10:31:10.512Z"
   },
   {
    "duration": 8,
    "start_time": "2023-01-09T10:31:10.550Z"
   },
   {
    "duration": 111,
    "start_time": "2023-01-09T10:45:33.307Z"
   },
   {
    "duration": 41,
    "start_time": "2023-01-09T10:45:54.855Z"
   },
   {
    "duration": 6,
    "start_time": "2023-01-09T10:46:23.303Z"
   },
   {
    "duration": 37,
    "start_time": "2023-01-09T10:47:06.655Z"
   },
   {
    "duration": 5,
    "start_time": "2023-01-09T10:47:10.676Z"
   },
   {
    "duration": 67,
    "start_time": "2023-01-09T11:00:40.220Z"
   },
   {
    "duration": 6,
    "start_time": "2023-01-09T11:00:47.262Z"
   },
   {
    "duration": 56,
    "start_time": "2023-01-09T11:01:23.076Z"
   },
   {
    "duration": 104,
    "start_time": "2023-01-09T11:01:40.448Z"
   },
   {
    "duration": 12,
    "start_time": "2023-01-09T11:01:44.337Z"
   },
   {
    "duration": 79,
    "start_time": "2023-01-09T11:07:03.367Z"
   },
   {
    "duration": 69,
    "start_time": "2023-01-09T11:07:19.211Z"
   },
   {
    "duration": 4,
    "start_time": "2023-01-09T11:07:21.621Z"
   },
   {
    "duration": 7,
    "start_time": "2023-01-09T11:07:22.429Z"
   },
   {
    "duration": 119,
    "start_time": "2023-01-09T11:08:32.494Z"
   },
   {
    "duration": 6,
    "start_time": "2023-01-09T11:08:38.171Z"
   },
   {
    "duration": 55,
    "start_time": "2023-01-09T11:09:32.065Z"
   },
   {
    "duration": 5,
    "start_time": "2023-01-09T11:09:42.220Z"
   },
   {
    "duration": 59,
    "start_time": "2023-01-09T11:12:05.649Z"
   },
   {
    "duration": 59,
    "start_time": "2023-01-09T11:12:24.193Z"
   },
   {
    "duration": 5,
    "start_time": "2023-01-09T11:12:26.939Z"
   },
   {
    "duration": 147,
    "start_time": "2023-01-09T11:16:49.949Z"
   },
   {
    "duration": 146,
    "start_time": "2023-01-09T11:17:22.807Z"
   },
   {
    "duration": 142,
    "start_time": "2023-01-09T11:17:56.650Z"
   },
   {
    "duration": 9,
    "start_time": "2023-01-09T11:21:07.069Z"
   },
   {
    "duration": 4,
    "start_time": "2023-01-09T11:21:17.729Z"
   },
   {
    "duration": 7,
    "start_time": "2023-01-09T11:21:28.374Z"
   },
   {
    "duration": 1240,
    "start_time": "2023-01-09T11:22:47.693Z"
   },
   {
    "duration": 180,
    "start_time": "2023-01-09T11:23:00.378Z"
   },
   {
    "duration": 171,
    "start_time": "2023-01-09T11:23:06.347Z"
   },
   {
    "duration": 275,
    "start_time": "2023-01-09T11:23:33.669Z"
   },
   {
    "duration": 27,
    "start_time": "2023-01-09T11:25:32.068Z"
   },
   {
    "duration": 47,
    "start_time": "2023-01-09T11:25:50.325Z"
   },
   {
    "duration": 12,
    "start_time": "2023-01-09T11:25:58.013Z"
   },
   {
    "duration": 8,
    "start_time": "2023-01-09T11:26:10.975Z"
   },
   {
    "duration": 73,
    "start_time": "2023-01-09T11:27:04.576Z"
   },
   {
    "duration": 8,
    "start_time": "2023-01-09T11:27:05.065Z"
   },
   {
    "duration": 261,
    "start_time": "2023-01-09T11:27:19.978Z"
   },
   {
    "duration": 96,
    "start_time": "2023-01-09T11:28:32.668Z"
   },
   {
    "duration": 106,
    "start_time": "2023-01-09T11:28:45.826Z"
   },
   {
    "duration": 12,
    "start_time": "2023-01-09T11:28:49.820Z"
   },
   {
    "duration": 6,
    "start_time": "2023-01-09T11:28:56.301Z"
   },
   {
    "duration": 78,
    "start_time": "2023-01-09T11:30:29.267Z"
   },
   {
    "duration": 81,
    "start_time": "2023-01-09T11:30:40.406Z"
   },
   {
    "duration": 85,
    "start_time": "2023-01-09T11:30:45.700Z"
   },
   {
    "duration": 73,
    "start_time": "2023-01-09T11:31:14.631Z"
   },
   {
    "duration": 73,
    "start_time": "2023-01-09T11:31:47.053Z"
   },
   {
    "duration": 68,
    "start_time": "2023-01-09T11:32:10.977Z"
   },
   {
    "duration": 105,
    "start_time": "2023-01-09T11:32:28.446Z"
   },
   {
    "duration": 69,
    "start_time": "2023-01-09T11:32:37.731Z"
   },
   {
    "duration": 10,
    "start_time": "2023-01-09T11:32:39.938Z"
   },
   {
    "duration": 227,
    "start_time": "2023-01-09T11:32:45.576Z"
   },
   {
    "duration": 75,
    "start_time": "2023-01-09T11:33:32.102Z"
   },
   {
    "duration": 7,
    "start_time": "2023-01-09T11:33:32.726Z"
   },
   {
    "duration": 240,
    "start_time": "2023-01-09T11:33:34.937Z"
   },
   {
    "duration": 68,
    "start_time": "2023-01-09T11:34:19.287Z"
   },
   {
    "duration": 9,
    "start_time": "2023-01-09T11:34:19.852Z"
   },
   {
    "duration": 236,
    "start_time": "2023-01-09T11:34:20.630Z"
   },
   {
    "duration": 315,
    "start_time": "2023-01-09T11:36:18.256Z"
   },
   {
    "duration": 297,
    "start_time": "2023-01-09T11:38:36.786Z"
   },
   {
    "duration": 10,
    "start_time": "2023-01-09T11:40:10.445Z"
   },
   {
    "duration": 297,
    "start_time": "2023-01-09T11:40:24.685Z"
   },
   {
    "duration": 237,
    "start_time": "2023-01-09T11:41:38.933Z"
   },
   {
    "duration": 243,
    "start_time": "2023-01-09T11:41:53.746Z"
   },
   {
    "duration": 256,
    "start_time": "2023-01-09T11:42:00.529Z"
   },
   {
    "duration": 345,
    "start_time": "2023-01-09T11:42:06.426Z"
   },
   {
    "duration": 238,
    "start_time": "2023-01-09T11:42:12.788Z"
   },
   {
    "duration": 11,
    "start_time": "2023-01-09T11:43:50.475Z"
   },
   {
    "duration": 237,
    "start_time": "2023-01-09T11:44:03.618Z"
   },
   {
    "duration": 229,
    "start_time": "2023-01-09T11:48:29.385Z"
   },
   {
    "duration": 4,
    "start_time": "2023-01-09T11:51:03.138Z"
   },
   {
    "duration": 9,
    "start_time": "2023-01-09T11:51:15.588Z"
   },
   {
    "duration": 9,
    "start_time": "2023-01-09T11:51:36.845Z"
   },
   {
    "duration": 8,
    "start_time": "2023-01-09T11:51:55.005Z"
   },
   {
    "duration": 8,
    "start_time": "2023-01-09T11:52:08.288Z"
   },
   {
    "duration": 11,
    "start_time": "2023-01-09T11:52:30.651Z"
   },
   {
    "duration": 12,
    "start_time": "2023-01-09T11:52:47.277Z"
   },
   {
    "duration": 9,
    "start_time": "2023-01-09T11:54:34.419Z"
   },
   {
    "duration": 11,
    "start_time": "2023-01-09T11:55:39.675Z"
   },
   {
    "duration": 11,
    "start_time": "2023-01-09T11:57:26.281Z"
   },
   {
    "duration": 242,
    "start_time": "2023-01-09T11:57:39.046Z"
   },
   {
    "duration": 10,
    "start_time": "2023-01-09T12:22:56.334Z"
   },
   {
    "duration": 1211,
    "start_time": "2023-01-09T12:23:10.023Z"
   },
   {
    "duration": 187,
    "start_time": "2023-01-09T12:23:11.236Z"
   },
   {
    "duration": 29,
    "start_time": "2023-01-09T12:23:11.424Z"
   },
   {
    "duration": 8,
    "start_time": "2023-01-09T12:23:11.455Z"
   },
   {
    "duration": 93,
    "start_time": "2023-01-09T12:23:11.466Z"
   },
   {
    "duration": 73,
    "start_time": "2023-01-09T12:23:11.561Z"
   },
   {
    "duration": 89,
    "start_time": "2023-01-09T12:23:11.636Z"
   },
   {
    "duration": 4,
    "start_time": "2023-01-09T12:23:11.728Z"
   },
   {
    "duration": 23,
    "start_time": "2023-01-09T12:23:11.734Z"
   },
   {
    "duration": 11,
    "start_time": "2023-01-09T12:23:11.759Z"
   },
   {
    "duration": 90,
    "start_time": "2023-01-09T12:23:11.772Z"
   },
   {
    "duration": 20,
    "start_time": "2023-01-09T12:23:11.864Z"
   },
   {
    "duration": 6,
    "start_time": "2023-01-09T12:23:11.886Z"
   },
   {
    "duration": 4,
    "start_time": "2023-01-09T12:23:11.895Z"
   },
   {
    "duration": 58,
    "start_time": "2023-01-09T12:23:11.901Z"
   },
   {
    "duration": 347,
    "start_time": "2023-01-09T12:23:11.960Z"
   },
   {
    "duration": 78,
    "start_time": "2023-01-09T12:23:12.309Z"
   },
   {
    "duration": 23,
    "start_time": "2023-01-09T12:23:12.389Z"
   },
   {
    "duration": 46,
    "start_time": "2023-01-09T12:23:12.414Z"
   },
   {
    "duration": 203,
    "start_time": "2023-01-09T12:23:12.462Z"
   },
   {
    "duration": 24,
    "start_time": "2023-01-09T12:23:12.667Z"
   },
   {
    "duration": 76,
    "start_time": "2023-01-09T12:23:12.692Z"
   },
   {
    "duration": 10,
    "start_time": "2023-01-09T12:23:12.770Z"
   },
   {
    "duration": 230,
    "start_time": "2023-01-09T12:23:12.782Z"
   },
   {
    "duration": 109,
    "start_time": "2023-01-09T13:01:36.835Z"
   },
   {
    "duration": 3,
    "start_time": "2023-01-09T13:03:05.318Z"
   },
   {
    "duration": 8,
    "start_time": "2023-01-09T13:03:13.166Z"
   },
   {
    "duration": 9,
    "start_time": "2023-01-09T13:03:44.875Z"
   },
   {
    "duration": 1163,
    "start_time": "2023-01-09T13:03:54.669Z"
   },
   {
    "duration": 181,
    "start_time": "2023-01-09T13:03:55.834Z"
   },
   {
    "duration": 34,
    "start_time": "2023-01-09T13:03:56.017Z"
   },
   {
    "duration": 14,
    "start_time": "2023-01-09T13:03:56.053Z"
   },
   {
    "duration": 108,
    "start_time": "2023-01-09T13:03:56.070Z"
   },
   {
    "duration": 86,
    "start_time": "2023-01-09T13:03:56.180Z"
   },
   {
    "duration": 96,
    "start_time": "2023-01-09T13:03:56.269Z"
   },
   {
    "duration": 4,
    "start_time": "2023-01-09T13:03:56.366Z"
   },
   {
    "duration": 48,
    "start_time": "2023-01-09T13:03:56.372Z"
   },
   {
    "duration": 35,
    "start_time": "2023-01-09T13:03:56.422Z"
   },
   {
    "duration": 115,
    "start_time": "2023-01-09T13:03:56.459Z"
   },
   {
    "duration": 18,
    "start_time": "2023-01-09T13:03:56.576Z"
   },
   {
    "duration": 22,
    "start_time": "2023-01-09T13:03:56.596Z"
   },
   {
    "duration": 25,
    "start_time": "2023-01-09T13:03:56.622Z"
   },
   {
    "duration": 57,
    "start_time": "2023-01-09T13:03:56.649Z"
   },
   {
    "duration": 308,
    "start_time": "2023-01-09T13:03:56.708Z"
   },
   {
    "duration": 75,
    "start_time": "2023-01-09T13:03:57.018Z"
   },
   {
    "duration": 23,
    "start_time": "2023-01-09T13:03:57.094Z"
   },
   {
    "duration": 39,
    "start_time": "2023-01-09T13:03:57.119Z"
   },
   {
    "duration": 220,
    "start_time": "2023-01-09T13:03:57.160Z"
   },
   {
    "duration": 25,
    "start_time": "2023-01-09T13:03:57.382Z"
   },
   {
    "duration": 82,
    "start_time": "2023-01-09T13:03:57.409Z"
   },
   {
    "duration": 10,
    "start_time": "2023-01-09T13:03:57.493Z"
   },
   {
    "duration": 240,
    "start_time": "2023-01-09T13:03:57.505Z"
   },
   {
    "duration": 5,
    "start_time": "2023-01-09T13:03:57.747Z"
   },
   {
    "duration": 29,
    "start_time": "2023-01-09T13:03:57.754Z"
   },
   {
    "duration": 10,
    "start_time": "2023-01-09T13:04:15.150Z"
   },
   {
    "duration": 1298,
    "start_time": "2023-01-09T13:04:23.476Z"
   },
   {
    "duration": 195,
    "start_time": "2023-01-09T13:04:24.776Z"
   },
   {
    "duration": 24,
    "start_time": "2023-01-09T13:04:24.972Z"
   },
   {
    "duration": 8,
    "start_time": "2023-01-09T13:04:24.999Z"
   },
   {
    "duration": 113,
    "start_time": "2023-01-09T13:04:25.010Z"
   },
   {
    "duration": 95,
    "start_time": "2023-01-09T13:04:25.125Z"
   },
   {
    "duration": 106,
    "start_time": "2023-01-09T13:04:25.222Z"
   },
   {
    "duration": 5,
    "start_time": "2023-01-09T13:04:25.330Z"
   },
   {
    "duration": 25,
    "start_time": "2023-01-09T13:04:25.338Z"
   },
   {
    "duration": 3,
    "start_time": "2023-01-09T13:04:25.365Z"
   },
   {
    "duration": 101,
    "start_time": "2023-01-09T13:04:25.369Z"
   },
   {
    "duration": 23,
    "start_time": "2023-01-09T13:04:25.471Z"
   },
   {
    "duration": 6,
    "start_time": "2023-01-09T13:04:25.496Z"
   },
   {
    "duration": 4,
    "start_time": "2023-01-09T13:04:25.505Z"
   },
   {
    "duration": 63,
    "start_time": "2023-01-09T13:04:25.510Z"
   },
   {
    "duration": 339,
    "start_time": "2023-01-09T13:04:25.575Z"
   },
   {
    "duration": 77,
    "start_time": "2023-01-09T13:04:25.915Z"
   },
   {
    "duration": 23,
    "start_time": "2023-01-09T13:04:25.995Z"
   },
   {
    "duration": 44,
    "start_time": "2023-01-09T13:04:26.020Z"
   },
   {
    "duration": 240,
    "start_time": "2023-01-09T13:04:26.066Z"
   },
   {
    "duration": 27,
    "start_time": "2023-01-09T13:04:26.308Z"
   },
   {
    "duration": 108,
    "start_time": "2023-01-09T13:04:26.337Z"
   },
   {
    "duration": 11,
    "start_time": "2023-01-09T13:04:26.446Z"
   },
   {
    "duration": 254,
    "start_time": "2023-01-09T13:04:26.459Z"
   },
   {
    "duration": 5,
    "start_time": "2023-01-09T13:04:26.715Z"
   },
   {
    "duration": 25,
    "start_time": "2023-01-09T13:04:26.722Z"
   },
   {
    "duration": 10,
    "start_time": "2023-01-09T13:05:27.395Z"
   },
   {
    "duration": 1176,
    "start_time": "2023-01-09T13:05:34.451Z"
   },
   {
    "duration": 198,
    "start_time": "2023-01-09T13:05:35.629Z"
   },
   {
    "duration": 37,
    "start_time": "2023-01-09T13:05:35.829Z"
   },
   {
    "duration": 9,
    "start_time": "2023-01-09T13:05:35.868Z"
   },
   {
    "duration": 104,
    "start_time": "2023-01-09T13:05:35.880Z"
   },
   {
    "duration": 84,
    "start_time": "2023-01-09T13:05:35.986Z"
   },
   {
    "duration": 96,
    "start_time": "2023-01-09T13:05:36.072Z"
   },
   {
    "duration": 5,
    "start_time": "2023-01-09T13:05:36.170Z"
   },
   {
    "duration": 14,
    "start_time": "2023-01-09T13:05:36.177Z"
   },
   {
    "duration": 2,
    "start_time": "2023-01-09T13:05:36.193Z"
   },
   {
    "duration": 105,
    "start_time": "2023-01-09T13:05:36.197Z"
   },
   {
    "duration": 19,
    "start_time": "2023-01-09T13:05:36.303Z"
   },
   {
    "duration": 6,
    "start_time": "2023-01-09T13:05:36.324Z"
   },
   {
    "duration": 21,
    "start_time": "2023-01-09T13:05:36.332Z"
   },
   {
    "duration": 41,
    "start_time": "2023-01-09T13:05:36.355Z"
   },
   {
    "duration": 332,
    "start_time": "2023-01-09T13:05:36.398Z"
   },
   {
    "duration": 84,
    "start_time": "2023-01-09T13:05:36.732Z"
   },
   {
    "duration": 39,
    "start_time": "2023-01-09T13:05:36.818Z"
   },
   {
    "duration": 24,
    "start_time": "2023-01-09T13:05:36.860Z"
   },
   {
    "duration": 221,
    "start_time": "2023-01-09T13:05:36.885Z"
   },
   {
    "duration": 24,
    "start_time": "2023-01-09T13:05:37.107Z"
   },
   {
    "duration": 79,
    "start_time": "2023-01-09T13:05:37.133Z"
   },
   {
    "duration": 9,
    "start_time": "2023-01-09T13:05:37.214Z"
   },
   {
    "duration": 239,
    "start_time": "2023-01-09T13:05:37.225Z"
   },
   {
    "duration": 4,
    "start_time": "2023-01-09T13:05:37.466Z"
   },
   {
    "duration": 15,
    "start_time": "2023-01-09T13:05:37.471Z"
   },
   {
    "duration": 4,
    "start_time": "2023-01-09T13:07:10.452Z"
   },
   {
    "duration": 8,
    "start_time": "2023-01-09T13:07:10.805Z"
   },
   {
    "duration": 4,
    "start_time": "2023-01-09T13:09:54.376Z"
   },
   {
    "duration": 9,
    "start_time": "2023-01-09T13:09:59.598Z"
   },
   {
    "duration": 10,
    "start_time": "2023-01-09T15:32:21.879Z"
   },
   {
    "duration": 4,
    "start_time": "2023-01-09T15:39:36.773Z"
   },
   {
    "duration": 4,
    "start_time": "2023-01-09T15:40:01.413Z"
   },
   {
    "duration": 106,
    "start_time": "2023-01-09T15:40:34.503Z"
   },
   {
    "duration": 10,
    "start_time": "2023-01-09T15:40:57.365Z"
   },
   {
    "duration": 4,
    "start_time": "2023-01-09T15:41:14.822Z"
   },
   {
    "duration": 4,
    "start_time": "2023-01-09T15:42:17.272Z"
   },
   {
    "duration": 4,
    "start_time": "2023-01-09T15:44:09.784Z"
   },
   {
    "duration": 50,
    "start_time": "2023-01-09T16:03:45.955Z"
   },
   {
    "duration": 185,
    "start_time": "2023-01-09T16:04:10.143Z"
   },
   {
    "duration": 3,
    "start_time": "2023-01-09T16:10:29.943Z"
   },
   {
    "duration": 3,
    "start_time": "2023-01-09T16:10:45.381Z"
   },
   {
    "duration": 3,
    "start_time": "2023-01-09T16:12:28.507Z"
   },
   {
    "duration": 4,
    "start_time": "2023-01-09T16:12:54.197Z"
   },
   {
    "duration": 4,
    "start_time": "2023-01-09T16:13:06.676Z"
   },
   {
    "duration": 1218,
    "start_time": "2023-01-09T16:22:10.766Z"
   },
   {
    "duration": 228,
    "start_time": "2023-01-09T16:22:11.986Z"
   },
   {
    "duration": 36,
    "start_time": "2023-01-09T16:22:12.215Z"
   },
   {
    "duration": 9,
    "start_time": "2023-01-09T16:22:12.253Z"
   },
   {
    "duration": 99,
    "start_time": "2023-01-09T16:22:12.264Z"
   },
   {
    "duration": 90,
    "start_time": "2023-01-09T16:22:12.365Z"
   },
   {
    "duration": 94,
    "start_time": "2023-01-09T16:22:12.457Z"
   },
   {
    "duration": 5,
    "start_time": "2023-01-09T16:22:12.553Z"
   },
   {
    "duration": 10,
    "start_time": "2023-01-09T16:22:12.560Z"
   },
   {
    "duration": 3,
    "start_time": "2023-01-09T16:22:12.574Z"
   },
   {
    "duration": 113,
    "start_time": "2023-01-09T16:22:12.579Z"
   },
   {
    "duration": 20,
    "start_time": "2023-01-09T16:22:12.694Z"
   },
   {
    "duration": 6,
    "start_time": "2023-01-09T16:22:12.716Z"
   },
   {
    "duration": 28,
    "start_time": "2023-01-09T16:22:12.724Z"
   },
   {
    "duration": 34,
    "start_time": "2023-01-09T16:22:12.754Z"
   },
   {
    "duration": 336,
    "start_time": "2023-01-09T16:22:12.790Z"
   },
   {
    "duration": 72,
    "start_time": "2023-01-09T16:22:13.127Z"
   },
   {
    "duration": 22,
    "start_time": "2023-01-09T16:22:13.201Z"
   },
   {
    "duration": 41,
    "start_time": "2023-01-09T16:22:13.224Z"
   },
   {
    "duration": 49,
    "start_time": "2023-01-09T16:22:13.267Z"
   },
   {
    "duration": 46,
    "start_time": "2023-01-09T16:22:13.318Z"
   },
   {
    "duration": 67,
    "start_time": "2023-01-09T16:22:13.366Z"
   },
   {
    "duration": 22,
    "start_time": "2023-01-09T16:22:13.435Z"
   },
   {
    "duration": 236,
    "start_time": "2023-01-09T16:22:13.458Z"
   },
   {
    "duration": 3,
    "start_time": "2023-01-09T16:22:13.696Z"
   },
   {
    "duration": 16,
    "start_time": "2023-01-09T16:22:13.701Z"
   },
   {
    "duration": 7,
    "start_time": "2023-01-09T16:22:13.719Z"
   },
   {
    "duration": 174,
    "start_time": "2023-01-09T16:22:13.730Z"
   },
   {
    "duration": 4,
    "start_time": "2023-01-09T16:22:13.906Z"
   },
   {
    "duration": 116,
    "start_time": "2023-01-09T16:29:41.724Z"
   },
   {
    "duration": 21,
    "start_time": "2023-01-09T16:31:04.745Z"
   },
   {
    "duration": 23,
    "start_time": "2023-01-09T16:31:28.113Z"
   },
   {
    "duration": 18,
    "start_time": "2023-01-09T16:31:42.383Z"
   },
   {
    "duration": 13,
    "start_time": "2023-01-09T16:32:45.641Z"
   },
   {
    "duration": 10,
    "start_time": "2023-01-09T16:34:17.819Z"
   },
   {
    "duration": 88,
    "start_time": "2023-01-09T16:34:36.127Z"
   },
   {
    "duration": 88,
    "start_time": "2023-01-09T16:34:40.132Z"
   },
   {
    "duration": 15,
    "start_time": "2023-01-09T16:34:47.873Z"
   },
   {
    "duration": 21,
    "start_time": "2023-01-09T16:35:50.944Z"
   },
   {
    "duration": 30,
    "start_time": "2023-01-09T16:36:50.255Z"
   },
   {
    "duration": 77,
    "start_time": "2023-01-09T16:37:02.672Z"
   },
   {
    "duration": 71,
    "start_time": "2023-01-09T16:37:06.329Z"
   },
   {
    "duration": 1121,
    "start_time": "2023-01-09T16:37:14.711Z"
   },
   {
    "duration": 207,
    "start_time": "2023-01-09T16:37:15.834Z"
   },
   {
    "duration": 27,
    "start_time": "2023-01-09T16:37:16.042Z"
   },
   {
    "duration": 7,
    "start_time": "2023-01-09T16:37:16.071Z"
   },
   {
    "duration": 105,
    "start_time": "2023-01-09T16:37:16.081Z"
   },
   {
    "duration": 90,
    "start_time": "2023-01-09T16:37:16.187Z"
   },
   {
    "duration": 95,
    "start_time": "2023-01-09T16:37:16.279Z"
   },
   {
    "duration": 5,
    "start_time": "2023-01-09T16:37:16.375Z"
   },
   {
    "duration": 11,
    "start_time": "2023-01-09T16:37:16.382Z"
   },
   {
    "duration": 6,
    "start_time": "2023-01-09T16:37:16.395Z"
   },
   {
    "duration": 110,
    "start_time": "2023-01-09T16:37:16.402Z"
   },
   {
    "duration": 21,
    "start_time": "2023-01-09T16:37:16.515Z"
   },
   {
    "duration": 6,
    "start_time": "2023-01-09T16:37:16.551Z"
   },
   {
    "duration": 4,
    "start_time": "2023-01-09T16:37:16.560Z"
   },
   {
    "duration": 35,
    "start_time": "2023-01-09T16:37:16.566Z"
   },
   {
    "duration": 339,
    "start_time": "2023-01-09T16:37:16.603Z"
   },
   {
    "duration": 67,
    "start_time": "2023-01-09T16:37:16.951Z"
   },
   {
    "duration": 33,
    "start_time": "2023-01-09T16:37:17.020Z"
   },
   {
    "duration": 26,
    "start_time": "2023-01-09T16:37:17.055Z"
   },
   {
    "duration": 77,
    "start_time": "2023-01-09T16:37:17.083Z"
   },
   {
    "duration": 24,
    "start_time": "2023-01-09T16:37:17.161Z"
   },
   {
    "duration": 81,
    "start_time": "2023-01-09T16:37:17.187Z"
   },
   {
    "duration": 10,
    "start_time": "2023-01-09T16:37:17.270Z"
   },
   {
    "duration": 242,
    "start_time": "2023-01-09T16:37:17.282Z"
   },
   {
    "duration": 4,
    "start_time": "2023-01-09T16:37:17.526Z"
   },
   {
    "duration": 21,
    "start_time": "2023-01-09T16:37:17.531Z"
   },
   {
    "duration": 7,
    "start_time": "2023-01-09T16:37:17.554Z"
   },
   {
    "duration": 174,
    "start_time": "2023-01-09T16:37:17.563Z"
   },
   {
    "duration": 3,
    "start_time": "2023-01-09T16:37:17.739Z"
   },
   {
    "duration": 38,
    "start_time": "2023-01-09T16:37:17.751Z"
   },
   {
    "duration": 35,
    "start_time": "2023-01-09T16:37:17.791Z"
   },
   {
    "duration": 30,
    "start_time": "2023-01-09T16:37:17.828Z"
   },
   {
    "duration": 36,
    "start_time": "2023-01-09T16:38:09.363Z"
   },
   {
    "duration": 33,
    "start_time": "2023-01-09T16:38:17.865Z"
   },
   {
    "duration": 32,
    "start_time": "2023-01-09T16:38:20.108Z"
   },
   {
    "duration": 9,
    "start_time": "2023-01-09T16:38:20.724Z"
   },
   {
    "duration": 38,
    "start_time": "2023-01-09T16:38:37.930Z"
   },
   {
    "duration": 37,
    "start_time": "2023-01-09T16:39:11.909Z"
   },
   {
    "duration": 40,
    "start_time": "2023-01-09T16:40:01.404Z"
   },
   {
    "duration": 101,
    "start_time": "2023-01-09T16:56:34.131Z"
   },
   {
    "duration": 1083,
    "start_time": "2023-01-09T16:57:11.816Z"
   },
   {
    "duration": 236,
    "start_time": "2023-01-09T16:57:12.901Z"
   },
   {
    "duration": 25,
    "start_time": "2023-01-09T16:57:13.138Z"
   },
   {
    "duration": 20,
    "start_time": "2023-01-09T16:57:13.165Z"
   },
   {
    "duration": 85,
    "start_time": "2023-01-09T16:57:13.188Z"
   },
   {
    "duration": 83,
    "start_time": "2023-01-09T16:57:13.276Z"
   },
   {
    "duration": 91,
    "start_time": "2023-01-09T16:57:13.361Z"
   },
   {
    "duration": 4,
    "start_time": "2023-01-09T16:57:13.454Z"
   },
   {
    "duration": 19,
    "start_time": "2023-01-09T16:57:13.460Z"
   },
   {
    "duration": 2,
    "start_time": "2023-01-09T16:57:13.481Z"
   },
   {
    "duration": 98,
    "start_time": "2023-01-09T16:57:13.486Z"
   },
   {
    "duration": 18,
    "start_time": "2023-01-09T16:57:13.586Z"
   },
   {
    "duration": 6,
    "start_time": "2023-01-09T16:57:13.606Z"
   },
   {
    "duration": 5,
    "start_time": "2023-01-09T16:57:13.615Z"
   },
   {
    "duration": 54,
    "start_time": "2023-01-09T16:57:13.621Z"
   },
   {
    "duration": 311,
    "start_time": "2023-01-09T16:57:13.676Z"
   },
   {
    "duration": 82,
    "start_time": "2023-01-09T16:57:13.989Z"
   },
   {
    "duration": 20,
    "start_time": "2023-01-09T16:57:14.073Z"
   },
   {
    "duration": 24,
    "start_time": "2023-01-09T16:57:14.095Z"
   },
   {
    "duration": 83,
    "start_time": "2023-01-09T16:57:14.121Z"
   },
   {
    "duration": 23,
    "start_time": "2023-01-09T16:57:14.206Z"
   },
   {
    "duration": 75,
    "start_time": "2023-01-09T16:57:14.231Z"
   },
   {
    "duration": 9,
    "start_time": "2023-01-09T16:57:14.308Z"
   },
   {
    "duration": 238,
    "start_time": "2023-01-09T16:57:14.319Z"
   },
   {
    "duration": 5,
    "start_time": "2023-01-09T16:57:14.558Z"
   },
   {
    "duration": 12,
    "start_time": "2023-01-09T16:57:14.565Z"
   },
   {
    "duration": 19,
    "start_time": "2023-01-09T16:57:14.578Z"
   },
   {
    "duration": 158,
    "start_time": "2023-01-09T16:57:14.598Z"
   },
   {
    "duration": 4,
    "start_time": "2023-01-09T16:57:14.757Z"
   },
   {
    "duration": 45,
    "start_time": "2023-01-09T16:57:14.762Z"
   },
   {
    "duration": 63,
    "start_time": "2023-01-09T16:57:14.809Z"
   },
   {
    "duration": 41,
    "start_time": "2023-01-09T16:57:14.874Z"
   },
   {
    "duration": 8,
    "start_time": "2023-01-09T16:57:14.916Z"
   },
   {
    "duration": 1075,
    "start_time": "2023-01-09T17:49:24.757Z"
   },
   {
    "duration": 246,
    "start_time": "2023-01-09T17:49:25.835Z"
   },
   {
    "duration": 24,
    "start_time": "2023-01-09T17:49:26.082Z"
   },
   {
    "duration": 9,
    "start_time": "2023-01-09T17:49:26.108Z"
   },
   {
    "duration": 122,
    "start_time": "2023-01-09T17:49:26.120Z"
   },
   {
    "duration": 88,
    "start_time": "2023-01-09T17:49:26.251Z"
   },
   {
    "duration": 101,
    "start_time": "2023-01-09T17:49:26.350Z"
   },
   {
    "duration": 4,
    "start_time": "2023-01-09T17:49:26.454Z"
   },
   {
    "duration": 14,
    "start_time": "2023-01-09T17:49:26.461Z"
   },
   {
    "duration": 3,
    "start_time": "2023-01-09T17:49:26.477Z"
   },
   {
    "duration": 111,
    "start_time": "2023-01-09T17:49:26.481Z"
   },
   {
    "duration": 22,
    "start_time": "2023-01-09T17:49:26.594Z"
   },
   {
    "duration": 34,
    "start_time": "2023-01-09T17:49:26.618Z"
   },
   {
    "duration": 3,
    "start_time": "2023-01-09T17:49:26.657Z"
   },
   {
    "duration": 38,
    "start_time": "2023-01-09T17:49:26.662Z"
   },
   {
    "duration": 334,
    "start_time": "2023-01-09T17:49:26.702Z"
   },
   {
    "duration": 76,
    "start_time": "2023-01-09T17:49:27.038Z"
   },
   {
    "duration": 23,
    "start_time": "2023-01-09T17:49:27.115Z"
   },
   {
    "duration": 25,
    "start_time": "2023-01-09T17:49:27.151Z"
   },
   {
    "duration": 58,
    "start_time": "2023-01-09T17:49:27.177Z"
   },
   {
    "duration": 36,
    "start_time": "2023-01-09T17:49:27.236Z"
   },
   {
    "duration": 78,
    "start_time": "2023-01-09T17:49:27.274Z"
   },
   {
    "duration": 11,
    "start_time": "2023-01-09T17:49:27.354Z"
   },
   {
    "duration": 258,
    "start_time": "2023-01-09T17:49:27.367Z"
   },
   {
    "duration": 4,
    "start_time": "2023-01-09T17:49:27.627Z"
   },
   {
    "duration": 22,
    "start_time": "2023-01-09T17:49:27.633Z"
   },
   {
    "duration": 7,
    "start_time": "2023-01-09T17:49:27.657Z"
   },
   {
    "duration": 191,
    "start_time": "2023-01-09T17:49:27.665Z"
   },
   {
    "duration": 5,
    "start_time": "2023-01-09T17:49:27.858Z"
   },
   {
    "duration": 59,
    "start_time": "2023-01-09T17:49:27.865Z"
   },
   {
    "duration": 53,
    "start_time": "2023-01-09T17:49:27.926Z"
   },
   {
    "duration": 44,
    "start_time": "2023-01-09T17:49:27.981Z"
   },
   {
    "duration": 8,
    "start_time": "2023-01-09T17:49:28.027Z"
   },
   {
    "duration": 9,
    "start_time": "2023-01-09T17:49:28.051Z"
   },
   {
    "duration": 13,
    "start_time": "2023-01-09T17:49:28.062Z"
   },
   {
    "duration": 8,
    "start_time": "2023-01-09T17:53:47.004Z"
   },
   {
    "duration": 1346,
    "start_time": "2023-01-11T09:40:38.538Z"
   },
   {
    "duration": 355,
    "start_time": "2023-01-11T09:40:39.886Z"
   },
   {
    "duration": 23,
    "start_time": "2023-01-11T09:40:40.242Z"
   },
   {
    "duration": 8,
    "start_time": "2023-01-11T09:40:40.267Z"
   },
   {
    "duration": 93,
    "start_time": "2023-01-11T09:40:40.276Z"
   },
   {
    "duration": 93,
    "start_time": "2023-01-11T09:40:40.371Z"
   },
   {
    "duration": 89,
    "start_time": "2023-01-11T09:40:40.465Z"
   },
   {
    "duration": 4,
    "start_time": "2023-01-11T09:40:40.557Z"
   },
   {
    "duration": 15,
    "start_time": "2023-01-11T09:40:40.562Z"
   },
   {
    "duration": 12,
    "start_time": "2023-01-11T09:40:40.579Z"
   },
   {
    "duration": 95,
    "start_time": "2023-01-11T09:40:40.592Z"
   },
   {
    "duration": 18,
    "start_time": "2023-01-11T09:40:40.689Z"
   },
   {
    "duration": 27,
    "start_time": "2023-01-11T09:40:40.709Z"
   },
   {
    "duration": 6,
    "start_time": "2023-01-11T09:40:40.738Z"
   },
   {
    "duration": 55,
    "start_time": "2023-01-11T09:40:40.746Z"
   },
   {
    "duration": 309,
    "start_time": "2023-01-11T09:40:40.803Z"
   },
   {
    "duration": 74,
    "start_time": "2023-01-11T09:40:41.114Z"
   },
   {
    "duration": 21,
    "start_time": "2023-01-11T09:40:41.190Z"
   },
   {
    "duration": 60,
    "start_time": "2023-01-11T09:40:41.213Z"
   },
   {
    "duration": 79,
    "start_time": "2023-01-11T09:40:41.275Z"
   },
   {
    "duration": 28,
    "start_time": "2023-01-11T09:40:41.356Z"
   },
   {
    "duration": 79,
    "start_time": "2023-01-11T09:40:41.386Z"
   },
   {
    "duration": 11,
    "start_time": "2023-01-11T09:40:41.466Z"
   },
   {
    "duration": 239,
    "start_time": "2023-01-11T09:40:41.479Z"
   },
   {
    "duration": 4,
    "start_time": "2023-01-11T09:40:41.719Z"
   },
   {
    "duration": 15,
    "start_time": "2023-01-11T09:40:41.725Z"
   },
   {
    "duration": 13,
    "start_time": "2023-01-11T09:40:41.742Z"
   },
   {
    "duration": 192,
    "start_time": "2023-01-11T09:40:41.759Z"
   },
   {
    "duration": 5,
    "start_time": "2023-01-11T09:40:41.953Z"
   },
   {
    "duration": 132,
    "start_time": "2023-01-11T09:40:41.960Z"
   },
   {
    "duration": 37,
    "start_time": "2023-01-11T09:40:42.094Z"
   },
   {
    "duration": 38,
    "start_time": "2023-01-11T09:40:42.133Z"
   },
   {
    "duration": 13,
    "start_time": "2023-01-11T09:40:42.173Z"
   },
   {
    "duration": 46,
    "start_time": "2023-01-11T09:40:42.188Z"
   },
   {
    "duration": 13,
    "start_time": "2023-01-11T09:40:42.236Z"
   },
   {
    "duration": 33,
    "start_time": "2023-01-11T09:40:42.251Z"
   },
   {
    "duration": 8,
    "start_time": "2023-01-11T09:45:44.923Z"
   },
   {
    "duration": 8,
    "start_time": "2023-01-11T09:45:45.328Z"
   },
   {
    "duration": 8,
    "start_time": "2023-01-11T09:45:45.672Z"
   },
   {
    "duration": 9,
    "start_time": "2023-01-11T09:45:46.074Z"
   },
   {
    "duration": 8,
    "start_time": "2023-01-11T09:46:43.959Z"
   },
   {
    "duration": 9,
    "start_time": "2023-01-11T09:46:44.649Z"
   },
   {
    "duration": 8,
    "start_time": "2023-01-11T09:46:45.260Z"
   },
   {
    "duration": 9,
    "start_time": "2023-01-11T09:46:45.796Z"
   },
   {
    "duration": 101,
    "start_time": "2023-01-11T10:39:32.748Z"
   },
   {
    "duration": 53,
    "start_time": "2023-01-11T10:42:17.645Z"
   },
   {
    "duration": 58,
    "start_time": "2023-01-11T10:42:38.944Z"
   },
   {
    "duration": 57,
    "start_time": "2023-01-11T10:42:45.384Z"
   },
   {
    "duration": 64,
    "start_time": "2023-01-11T10:49:45.548Z"
   },
   {
    "duration": 11,
    "start_time": "2023-01-11T10:49:46.794Z"
   },
   {
    "duration": 1130,
    "start_time": "2023-01-11T10:58:19.695Z"
   },
   {
    "duration": 252,
    "start_time": "2023-01-11T10:58:20.827Z"
   },
   {
    "duration": 22,
    "start_time": "2023-01-11T10:58:21.080Z"
   },
   {
    "duration": 7,
    "start_time": "2023-01-11T10:58:21.104Z"
   },
   {
    "duration": 86,
    "start_time": "2023-01-11T10:58:21.135Z"
   },
   {
    "duration": 95,
    "start_time": "2023-01-11T10:58:21.223Z"
   },
   {
    "duration": 115,
    "start_time": "2023-01-11T10:58:21.320Z"
   },
   {
    "duration": 5,
    "start_time": "2023-01-11T10:58:21.438Z"
   },
   {
    "duration": 21,
    "start_time": "2023-01-11T10:58:21.445Z"
   },
   {
    "duration": 4,
    "start_time": "2023-01-11T10:58:21.468Z"
   },
   {
    "duration": 115,
    "start_time": "2023-01-11T10:58:21.474Z"
   },
   {
    "duration": 44,
    "start_time": "2023-01-11T10:58:21.591Z"
   },
   {
    "duration": 6,
    "start_time": "2023-01-11T10:58:21.637Z"
   },
   {
    "duration": 23,
    "start_time": "2023-01-11T10:58:21.644Z"
   },
   {
    "duration": 38,
    "start_time": "2023-01-11T10:58:21.668Z"
   },
   {
    "duration": 358,
    "start_time": "2023-01-11T10:58:21.708Z"
   },
   {
    "duration": 92,
    "start_time": "2023-01-11T10:58:22.068Z"
   },
   {
    "duration": 23,
    "start_time": "2023-01-11T10:58:22.161Z"
   },
   {
    "duration": 24,
    "start_time": "2023-01-11T10:58:22.185Z"
   },
   {
    "duration": 53,
    "start_time": "2023-01-11T10:58:22.240Z"
   },
   {
    "duration": 25,
    "start_time": "2023-01-11T10:58:22.295Z"
   },
   {
    "duration": 95,
    "start_time": "2023-01-11T10:58:22.335Z"
   },
   {
    "duration": 15,
    "start_time": "2023-01-11T10:58:22.433Z"
   },
   {
    "duration": 335,
    "start_time": "2023-01-11T10:58:22.450Z"
   },
   {
    "duration": 5,
    "start_time": "2023-01-11T10:58:22.786Z"
   },
   {
    "duration": 11,
    "start_time": "2023-01-11T10:58:22.792Z"
   },
   {
    "duration": 10,
    "start_time": "2023-01-11T10:58:22.805Z"
   },
   {
    "duration": 173,
    "start_time": "2023-01-11T10:58:22.840Z"
   },
   {
    "duration": 4,
    "start_time": "2023-01-11T10:58:23.014Z"
   },
   {
    "duration": 48,
    "start_time": "2023-01-11T10:58:23.035Z"
   },
   {
    "duration": 62,
    "start_time": "2023-01-11T10:58:23.085Z"
   },
   {
    "duration": 42,
    "start_time": "2023-01-11T10:58:23.149Z"
   },
   {
    "duration": 7,
    "start_time": "2023-01-11T10:58:23.193Z"
   },
   {
    "duration": 37,
    "start_time": "2023-01-11T10:58:23.201Z"
   },
   {
    "duration": 11,
    "start_time": "2023-01-11T10:58:23.241Z"
   },
   {
    "duration": 34,
    "start_time": "2023-01-11T10:58:23.255Z"
   },
   {
    "duration": 55,
    "start_time": "2023-01-11T10:58:23.291Z"
   },
   {
    "duration": 0,
    "start_time": "2023-01-11T10:58:23.348Z"
   },
   {
    "duration": 104,
    "start_time": "2023-01-11T10:58:29.352Z"
   },
   {
    "duration": 66,
    "start_time": "2023-01-11T11:00:42.256Z"
   },
   {
    "duration": 66,
    "start_time": "2023-01-11T11:06:29.195Z"
   },
   {
    "duration": 70,
    "start_time": "2023-01-11T11:37:10.400Z"
   },
   {
    "duration": 9,
    "start_time": "2023-01-11T11:37:15.894Z"
   },
   {
    "duration": 49,
    "start_time": "2023-01-11T11:38:05.822Z"
   },
   {
    "duration": 87,
    "start_time": "2023-01-11T11:38:15.051Z"
   },
   {
    "duration": 66,
    "start_time": "2023-01-11T11:40:25.948Z"
   },
   {
    "duration": 7,
    "start_time": "2023-01-11T11:40:47.154Z"
   },
   {
    "duration": 53,
    "start_time": "2023-01-11T11:40:47.647Z"
   },
   {
    "duration": 10,
    "start_time": "2023-01-11T11:40:48.448Z"
   },
   {
    "duration": 56,
    "start_time": "2023-01-11T11:50:47.439Z"
   },
   {
    "duration": 6,
    "start_time": "2023-01-11T11:50:55.699Z"
   },
   {
    "duration": 5,
    "start_time": "2023-01-11T11:51:04.599Z"
   },
   {
    "duration": 4,
    "start_time": "2023-01-11T11:52:51.956Z"
   },
   {
    "duration": 8,
    "start_time": "2023-01-11T11:54:59.377Z"
   },
   {
    "duration": 6,
    "start_time": "2023-01-11T11:55:04.384Z"
   },
   {
    "duration": 11,
    "start_time": "2023-01-11T11:55:04.946Z"
   },
   {
    "duration": 59,
    "start_time": "2023-01-11T11:56:59.739Z"
   },
   {
    "duration": 6,
    "start_time": "2023-01-11T12:02:19.975Z"
   },
   {
    "duration": 5,
    "start_time": "2023-01-11T12:02:26.374Z"
   },
   {
    "duration": 6,
    "start_time": "2023-01-11T12:02:28.745Z"
   },
   {
    "duration": 5,
    "start_time": "2023-01-11T12:04:13.947Z"
   },
   {
    "duration": 5,
    "start_time": "2023-01-11T12:04:30.342Z"
   },
   {
    "duration": 5,
    "start_time": "2023-01-11T12:04:31.244Z"
   },
   {
    "duration": 5,
    "start_time": "2023-01-11T12:05:37.739Z"
   },
   {
    "duration": 5,
    "start_time": "2023-01-11T12:05:38.668Z"
   },
   {
    "duration": 5,
    "start_time": "2023-01-11T12:10:14.497Z"
   },
   {
    "duration": 56,
    "start_time": "2023-01-11T12:19:36.295Z"
   },
   {
    "duration": 5,
    "start_time": "2023-01-11T12:19:37.709Z"
   },
   {
    "duration": 6,
    "start_time": "2023-01-11T12:19:42.780Z"
   },
   {
    "duration": 4,
    "start_time": "2023-01-11T12:19:43.568Z"
   },
   {
    "duration": 5,
    "start_time": "2023-01-11T12:20:09.292Z"
   },
   {
    "duration": 5,
    "start_time": "2023-01-11T12:20:10.413Z"
   },
   {
    "duration": 5,
    "start_time": "2023-01-11T12:20:24.216Z"
   },
   {
    "duration": 5,
    "start_time": "2023-01-11T12:20:25.122Z"
   },
   {
    "duration": 7,
    "start_time": "2023-01-11T12:20:32.638Z"
   },
   {
    "duration": 14,
    "start_time": "2023-01-11T12:20:33.116Z"
   },
   {
    "duration": 6,
    "start_time": "2023-01-11T12:20:56.440Z"
   },
   {
    "duration": 4,
    "start_time": "2023-01-11T12:20:57.675Z"
   },
   {
    "duration": 5,
    "start_time": "2023-01-11T12:26:50.277Z"
   },
   {
    "duration": 6,
    "start_time": "2023-01-11T12:39:34.598Z"
   },
   {
    "duration": 5,
    "start_time": "2023-01-11T12:39:36.068Z"
   },
   {
    "duration": 5,
    "start_time": "2023-01-11T12:39:50.645Z"
   },
   {
    "duration": 62,
    "start_time": "2023-01-11T14:14:26.711Z"
   },
   {
    "duration": 10,
    "start_time": "2023-01-11T14:20:56.879Z"
   },
   {
    "duration": 4,
    "start_time": "2023-01-11T14:21:39.433Z"
   },
   {
    "duration": 6,
    "start_time": "2023-01-11T14:21:40.123Z"
   },
   {
    "duration": 5,
    "start_time": "2023-01-11T14:21:40.844Z"
   },
   {
    "duration": 5,
    "start_time": "2023-01-11T14:21:41.445Z"
   },
   {
    "duration": 5,
    "start_time": "2023-01-11T14:24:17.852Z"
   },
   {
    "duration": 6,
    "start_time": "2023-01-11T14:24:29.707Z"
   },
   {
    "duration": 4,
    "start_time": "2023-01-11T14:24:35.520Z"
   },
   {
    "duration": 5,
    "start_time": "2023-01-11T14:24:44.723Z"
   },
   {
    "duration": 5,
    "start_time": "2023-01-11T14:33:23.032Z"
   },
   {
    "duration": 1128,
    "start_time": "2023-01-12T11:30:43.977Z"
   },
   {
    "duration": 1167,
    "start_time": "2023-01-12T11:30:45.107Z"
   },
   {
    "duration": 18,
    "start_time": "2023-01-12T11:30:46.276Z"
   },
   {
    "duration": 7,
    "start_time": "2023-01-12T11:30:46.296Z"
   },
   {
    "duration": 67,
    "start_time": "2023-01-12T11:30:46.305Z"
   },
   {
    "duration": 70,
    "start_time": "2023-01-12T11:30:46.373Z"
   },
   {
    "duration": 62,
    "start_time": "2023-01-12T11:30:46.445Z"
   },
   {
    "duration": 19,
    "start_time": "2023-01-12T11:30:46.509Z"
   },
   {
    "duration": 12,
    "start_time": "2023-01-12T11:30:46.529Z"
   },
   {
    "duration": 3,
    "start_time": "2023-01-12T11:30:46.543Z"
   },
   {
    "duration": 86,
    "start_time": "2023-01-12T11:30:46.548Z"
   },
   {
    "duration": 17,
    "start_time": "2023-01-12T11:30:46.636Z"
   },
   {
    "duration": 5,
    "start_time": "2023-01-12T11:30:46.654Z"
   },
   {
    "duration": 6,
    "start_time": "2023-01-12T11:30:46.661Z"
   },
   {
    "duration": 32,
    "start_time": "2023-01-12T11:30:46.669Z"
   },
   {
    "duration": 312,
    "start_time": "2023-01-12T11:30:46.703Z"
   },
   {
    "duration": 62,
    "start_time": "2023-01-12T11:30:47.017Z"
   },
   {
    "duration": 17,
    "start_time": "2023-01-12T11:30:47.081Z"
   },
   {
    "duration": 31,
    "start_time": "2023-01-12T11:30:47.100Z"
   },
   {
    "duration": 44,
    "start_time": "2023-01-12T11:30:47.133Z"
   },
   {
    "duration": 18,
    "start_time": "2023-01-12T11:30:47.179Z"
   },
   {
    "duration": 74,
    "start_time": "2023-01-12T11:30:47.199Z"
   },
   {
    "duration": 9,
    "start_time": "2023-01-12T11:30:47.275Z"
   },
   {
    "duration": 204,
    "start_time": "2023-01-12T11:30:47.285Z"
   },
   {
    "duration": 4,
    "start_time": "2023-01-12T11:30:47.490Z"
   },
   {
    "duration": 24,
    "start_time": "2023-01-12T11:30:47.496Z"
   },
   {
    "duration": 23,
    "start_time": "2023-01-12T11:30:47.522Z"
   },
   {
    "duration": 152,
    "start_time": "2023-01-12T11:30:47.547Z"
   },
   {
    "duration": 4,
    "start_time": "2023-01-12T11:30:47.701Z"
   },
   {
    "duration": 46,
    "start_time": "2023-01-12T11:30:47.706Z"
   },
   {
    "duration": 34,
    "start_time": "2023-01-12T11:30:47.754Z"
   },
   {
    "duration": 55,
    "start_time": "2023-01-12T11:30:47.789Z"
   },
   {
    "duration": 101,
    "start_time": "2023-01-12T11:30:47.845Z"
   },
   {
    "duration": 0,
    "start_time": "2023-01-12T11:30:47.947Z"
   },
   {
    "duration": 0,
    "start_time": "2023-01-12T11:30:47.948Z"
   },
   {
    "duration": 0,
    "start_time": "2023-01-12T11:30:47.949Z"
   },
   {
    "duration": 3,
    "start_time": "2023-01-12T11:32:15.018Z"
   },
   {
    "duration": 6,
    "start_time": "2023-01-12T11:35:04.313Z"
   },
   {
    "duration": 1010,
    "start_time": "2023-01-12T11:37:43.524Z"
   },
   {
    "duration": 198,
    "start_time": "2023-01-12T11:37:44.536Z"
   },
   {
    "duration": 21,
    "start_time": "2023-01-12T11:37:44.735Z"
   },
   {
    "duration": 9,
    "start_time": "2023-01-12T11:37:44.759Z"
   },
   {
    "duration": 116,
    "start_time": "2023-01-12T11:37:44.770Z"
   },
   {
    "duration": 79,
    "start_time": "2023-01-12T11:37:44.889Z"
   },
   {
    "duration": 83,
    "start_time": "2023-01-12T11:37:44.970Z"
   },
   {
    "duration": 4,
    "start_time": "2023-01-12T11:37:45.055Z"
   },
   {
    "duration": 12,
    "start_time": "2023-01-12T11:37:45.061Z"
   },
   {
    "duration": 3,
    "start_time": "2023-01-12T11:37:45.076Z"
   },
   {
    "duration": 116,
    "start_time": "2023-01-12T11:37:45.081Z"
   },
   {
    "duration": 16,
    "start_time": "2023-01-12T11:37:45.199Z"
   },
   {
    "duration": 9,
    "start_time": "2023-01-12T11:37:45.226Z"
   },
   {
    "duration": 11,
    "start_time": "2023-01-12T11:37:45.237Z"
   },
   {
    "duration": 41,
    "start_time": "2023-01-12T11:37:45.250Z"
   },
   {
    "duration": 321,
    "start_time": "2023-01-12T11:37:45.292Z"
   },
   {
    "duration": 98,
    "start_time": "2023-01-12T11:37:45.615Z"
   },
   {
    "duration": 39,
    "start_time": "2023-01-12T11:37:45.715Z"
   },
   {
    "duration": 25,
    "start_time": "2023-01-12T11:37:45.756Z"
   },
   {
    "duration": 67,
    "start_time": "2023-01-12T11:37:45.783Z"
   },
   {
    "duration": 20,
    "start_time": "2023-01-12T11:37:45.851Z"
   },
   {
    "duration": 75,
    "start_time": "2023-01-12T11:37:45.873Z"
   },
   {
    "duration": 10,
    "start_time": "2023-01-12T11:37:45.950Z"
   },
   {
    "duration": 205,
    "start_time": "2023-01-12T11:37:45.961Z"
   },
   {
    "duration": 4,
    "start_time": "2023-01-12T11:37:46.168Z"
   },
   {
    "duration": 13,
    "start_time": "2023-01-12T11:37:46.173Z"
   },
   {
    "duration": 6,
    "start_time": "2023-01-12T11:37:46.187Z"
   },
   {
    "duration": 182,
    "start_time": "2023-01-12T11:37:46.195Z"
   },
   {
    "duration": 4,
    "start_time": "2023-01-12T11:37:46.378Z"
   },
   {
    "duration": 50,
    "start_time": "2023-01-12T11:37:46.383Z"
   },
   {
    "duration": 32,
    "start_time": "2023-01-12T11:37:46.435Z"
   },
   {
    "duration": 35,
    "start_time": "2023-01-12T11:37:46.468Z"
   },
   {
    "duration": 107,
    "start_time": "2023-01-12T11:37:46.504Z"
   },
   {
    "duration": 0,
    "start_time": "2023-01-12T11:37:46.613Z"
   },
   {
    "duration": 0,
    "start_time": "2023-01-12T11:37:46.614Z"
   },
   {
    "duration": 0,
    "start_time": "2023-01-12T11:37:46.626Z"
   },
   {
    "duration": 0,
    "start_time": "2023-01-12T11:37:46.627Z"
   },
   {
    "duration": 6,
    "start_time": "2023-01-12T11:45:28.457Z"
   },
   {
    "duration": 5,
    "start_time": "2023-01-12T11:45:29.862Z"
   },
   {
    "duration": 4,
    "start_time": "2023-01-12T11:45:31.497Z"
   },
   {
    "duration": 5,
    "start_time": "2023-01-12T11:45:32.273Z"
   },
   {
    "duration": 5,
    "start_time": "2023-01-12T11:46:16.177Z"
   },
   {
    "duration": 5,
    "start_time": "2023-01-12T11:46:17.044Z"
   },
   {
    "duration": 6,
    "start_time": "2023-01-12T11:46:18.167Z"
   },
   {
    "duration": 4,
    "start_time": "2023-01-12T11:46:18.998Z"
   },
   {
    "duration": 4,
    "start_time": "2023-01-12T11:46:57.024Z"
   },
   {
    "duration": 1000,
    "start_time": "2023-01-12T11:47:33.929Z"
   },
   {
    "duration": 197,
    "start_time": "2023-01-12T11:47:34.930Z"
   },
   {
    "duration": 26,
    "start_time": "2023-01-12T11:47:35.129Z"
   },
   {
    "duration": 9,
    "start_time": "2023-01-12T11:47:35.158Z"
   },
   {
    "duration": 109,
    "start_time": "2023-01-12T11:47:35.169Z"
   },
   {
    "duration": 72,
    "start_time": "2023-01-12T11:47:35.280Z"
   },
   {
    "duration": 105,
    "start_time": "2023-01-12T11:47:35.353Z"
   },
   {
    "duration": 5,
    "start_time": "2023-01-12T11:47:35.460Z"
   },
   {
    "duration": 13,
    "start_time": "2023-01-12T11:47:35.466Z"
   },
   {
    "duration": 2,
    "start_time": "2023-01-12T11:47:35.482Z"
   },
   {
    "duration": 120,
    "start_time": "2023-01-12T11:47:35.486Z"
   },
   {
    "duration": 27,
    "start_time": "2023-01-12T11:47:35.608Z"
   },
   {
    "duration": 12,
    "start_time": "2023-01-12T11:47:35.637Z"
   },
   {
    "duration": 9,
    "start_time": "2023-01-12T11:47:35.651Z"
   },
   {
    "duration": 49,
    "start_time": "2023-01-12T11:47:35.663Z"
   },
   {
    "duration": 332,
    "start_time": "2023-01-12T11:47:35.727Z"
   },
   {
    "duration": 89,
    "start_time": "2023-01-12T11:47:36.061Z"
   },
   {
    "duration": 26,
    "start_time": "2023-01-12T11:47:36.151Z"
   },
   {
    "duration": 49,
    "start_time": "2023-01-12T11:47:36.179Z"
   },
   {
    "duration": 48,
    "start_time": "2023-01-12T11:47:36.229Z"
   },
   {
    "duration": 18,
    "start_time": "2023-01-12T11:47:36.279Z"
   },
   {
    "duration": 83,
    "start_time": "2023-01-12T11:47:36.298Z"
   },
   {
    "duration": 10,
    "start_time": "2023-01-12T11:47:36.383Z"
   },
   {
    "duration": 211,
    "start_time": "2023-01-12T11:47:36.395Z"
   },
   {
    "duration": 4,
    "start_time": "2023-01-12T11:47:36.607Z"
   },
   {
    "duration": 17,
    "start_time": "2023-01-12T11:47:36.613Z"
   },
   {
    "duration": 8,
    "start_time": "2023-01-12T11:47:36.631Z"
   },
   {
    "duration": 164,
    "start_time": "2023-01-12T11:47:36.642Z"
   },
   {
    "duration": 4,
    "start_time": "2023-01-12T11:47:36.808Z"
   },
   {
    "duration": 59,
    "start_time": "2023-01-12T11:47:36.814Z"
   },
   {
    "duration": 32,
    "start_time": "2023-01-12T11:47:36.874Z"
   },
   {
    "duration": 65,
    "start_time": "2023-01-12T11:47:36.908Z"
   },
   {
    "duration": 7,
    "start_time": "2023-01-12T11:47:36.975Z"
   },
   {
    "duration": 9,
    "start_time": "2023-01-12T11:47:36.984Z"
   },
   {
    "duration": 10,
    "start_time": "2023-01-12T11:47:36.994Z"
   },
   {
    "duration": 28,
    "start_time": "2023-01-12T11:47:37.005Z"
   },
   {
    "duration": 7,
    "start_time": "2023-01-12T11:47:37.035Z"
   },
   {
    "duration": 7,
    "start_time": "2023-01-12T11:47:37.044Z"
   },
   {
    "duration": 4,
    "start_time": "2023-01-12T12:40:01.074Z"
   },
   {
    "duration": 4,
    "start_time": "2023-01-12T12:40:38.475Z"
   },
   {
    "duration": 6,
    "start_time": "2023-01-12T12:41:08.036Z"
   },
   {
    "duration": 5,
    "start_time": "2023-01-12T14:03:07.568Z"
   },
   {
    "duration": 133,
    "start_time": "2023-01-12T14:03:29.287Z"
   },
   {
    "duration": 5,
    "start_time": "2023-01-12T14:03:39.880Z"
   },
   {
    "duration": 3,
    "start_time": "2023-01-12T14:03:46.860Z"
   },
   {
    "duration": 5,
    "start_time": "2023-01-12T14:04:36.738Z"
   },
   {
    "duration": 19,
    "start_time": "2023-01-12T14:07:41.222Z"
   },
   {
    "duration": 164,
    "start_time": "2023-01-12T14:07:41.243Z"
   },
   {
    "duration": 24,
    "start_time": "2023-01-12T14:07:41.409Z"
   },
   {
    "duration": 5,
    "start_time": "2023-01-12T14:07:41.434Z"
   },
   {
    "duration": 63,
    "start_time": "2023-01-12T14:07:41.441Z"
   },
   {
    "duration": 100,
    "start_time": "2023-01-12T14:07:41.506Z"
   },
   {
    "duration": 80,
    "start_time": "2023-01-12T14:07:41.608Z"
   },
   {
    "duration": 4,
    "start_time": "2023-01-12T14:07:41.690Z"
   },
   {
    "duration": 32,
    "start_time": "2023-01-12T14:07:41.696Z"
   },
   {
    "duration": 3,
    "start_time": "2023-01-12T14:07:41.730Z"
   },
   {
    "duration": 80,
    "start_time": "2023-01-12T14:07:41.735Z"
   },
   {
    "duration": 4,
    "start_time": "2023-01-12T14:07:41.827Z"
   },
   {
    "duration": 12,
    "start_time": "2023-01-12T14:07:41.833Z"
   },
   {
    "duration": 4,
    "start_time": "2023-01-12T14:07:41.847Z"
   },
   {
    "duration": 27,
    "start_time": "2023-01-12T14:07:41.852Z"
   },
   {
    "duration": 230,
    "start_time": "2023-01-12T14:07:41.881Z"
   },
   {
    "duration": 66,
    "start_time": "2023-01-12T14:07:42.112Z"
   },
   {
    "duration": 18,
    "start_time": "2023-01-12T14:07:42.180Z"
   },
   {
    "duration": 36,
    "start_time": "2023-01-12T14:07:42.199Z"
   },
   {
    "duration": 36,
    "start_time": "2023-01-12T14:07:42.236Z"
   },
   {
    "duration": 18,
    "start_time": "2023-01-12T14:07:42.274Z"
   },
   {
    "duration": 74,
    "start_time": "2023-01-12T14:07:42.294Z"
   },
   {
    "duration": 9,
    "start_time": "2023-01-12T14:07:42.369Z"
   },
   {
    "duration": 240,
    "start_time": "2023-01-12T14:07:42.381Z"
   },
   {
    "duration": 5,
    "start_time": "2023-01-12T14:07:42.623Z"
   },
   {
    "duration": 14,
    "start_time": "2023-01-12T14:07:42.629Z"
   },
   {
    "duration": 5,
    "start_time": "2023-01-12T14:07:42.646Z"
   },
   {
    "duration": 160,
    "start_time": "2023-01-12T14:07:42.654Z"
   },
   {
    "duration": 12,
    "start_time": "2023-01-12T14:07:42.815Z"
   },
   {
    "duration": 37,
    "start_time": "2023-01-12T14:07:42.829Z"
   },
   {
    "duration": 32,
    "start_time": "2023-01-12T14:07:42.867Z"
   },
   {
    "duration": 56,
    "start_time": "2023-01-12T14:07:42.901Z"
   },
   {
    "duration": 4,
    "start_time": "2023-01-12T14:07:42.959Z"
   },
   {
    "duration": 12,
    "start_time": "2023-01-12T14:07:42.965Z"
   },
   {
    "duration": 7,
    "start_time": "2023-01-12T14:07:42.978Z"
   },
   {
    "duration": 8,
    "start_time": "2023-01-12T14:07:42.987Z"
   },
   {
    "duration": 6,
    "start_time": "2023-01-12T14:07:42.996Z"
   },
   {
    "duration": 5,
    "start_time": "2023-01-12T14:07:43.026Z"
   },
   {
    "duration": 7,
    "start_time": "2023-01-12T14:07:43.032Z"
   },
   {
    "duration": 8,
    "start_time": "2023-01-12T14:07:43.041Z"
   },
   {
    "duration": 7,
    "start_time": "2023-01-12T14:07:43.050Z"
   },
   {
    "duration": 5,
    "start_time": "2023-01-12T14:07:43.059Z"
   },
   {
    "duration": 7,
    "start_time": "2023-01-12T14:33:12.938Z"
   },
   {
    "duration": 7,
    "start_time": "2023-01-12T14:33:29.700Z"
   },
   {
    "duration": 64,
    "start_time": "2023-01-12T14:33:41.235Z"
   },
   {
    "duration": 79,
    "start_time": "2023-01-12T14:34:09.869Z"
   },
   {
    "duration": 99,
    "start_time": "2023-01-12T14:34:25.059Z"
   },
   {
    "duration": 78,
    "start_time": "2023-01-12T14:34:38.508Z"
   },
   {
    "duration": 10,
    "start_time": "2023-01-12T14:35:00.554Z"
   },
   {
    "duration": 4,
    "start_time": "2023-01-12T14:39:55.310Z"
   },
   {
    "duration": 6,
    "start_time": "2023-01-12T14:39:55.749Z"
   },
   {
    "duration": 5,
    "start_time": "2023-01-12T14:39:56.361Z"
   },
   {
    "duration": 2,
    "start_time": "2023-01-12T14:40:05.709Z"
   },
   {
    "duration": 13,
    "start_time": "2023-01-12T14:40:22.279Z"
   },
   {
    "duration": 11,
    "start_time": "2023-01-12T14:40:46.680Z"
   },
   {
    "duration": 5,
    "start_time": "2023-01-12T14:47:13.556Z"
   },
   {
    "duration": 4,
    "start_time": "2023-01-12T14:47:14.038Z"
   },
   {
    "duration": 3,
    "start_time": "2023-01-12T14:47:14.761Z"
   },
   {
    "duration": 2,
    "start_time": "2023-01-12T14:47:39.699Z"
   },
   {
    "duration": 2,
    "start_time": "2023-01-12T15:18:22.895Z"
   },
   {
    "duration": 7,
    "start_time": "2023-01-12T15:18:39.286Z"
   },
   {
    "duration": 5,
    "start_time": "2023-01-12T15:19:07.344Z"
   },
   {
    "duration": 5,
    "start_time": "2023-01-12T15:19:08.233Z"
   },
   {
    "duration": 3,
    "start_time": "2023-01-12T15:20:23.586Z"
   },
   {
    "duration": 4,
    "start_time": "2023-01-12T15:20:32.253Z"
   },
   {
    "duration": 5,
    "start_time": "2023-01-12T15:20:39.482Z"
   },
   {
    "duration": 8,
    "start_time": "2023-01-12T15:48:25.056Z"
   },
   {
    "duration": 5,
    "start_time": "2023-01-12T15:48:29.617Z"
   },
   {
    "duration": 2,
    "start_time": "2023-01-12T15:48:30.215Z"
   },
   {
    "duration": 5,
    "start_time": "2023-01-12T15:48:31.765Z"
   },
   {
    "duration": 5,
    "start_time": "2023-01-12T15:49:06.366Z"
   },
   {
    "duration": 1085,
    "start_time": "2023-01-12T19:32:43.554Z"
   },
   {
    "duration": 1459,
    "start_time": "2023-01-12T19:32:44.641Z"
   },
   {
    "duration": 34,
    "start_time": "2023-01-12T19:32:46.102Z"
   },
   {
    "duration": 78,
    "start_time": "2023-01-12T19:32:46.139Z"
   },
   {
    "duration": 147,
    "start_time": "2023-01-12T19:32:46.220Z"
   },
   {
    "duration": 124,
    "start_time": "2023-01-12T19:32:46.369Z"
   },
   {
    "duration": 152,
    "start_time": "2023-01-12T19:32:46.496Z"
   },
   {
    "duration": 28,
    "start_time": "2023-01-12T19:32:46.651Z"
   },
   {
    "duration": 12,
    "start_time": "2023-01-12T19:32:46.685Z"
   },
   {
    "duration": 19,
    "start_time": "2023-01-12T19:32:46.703Z"
   },
   {
    "duration": 197,
    "start_time": "2023-01-12T19:32:46.724Z"
   },
   {
    "duration": 20,
    "start_time": "2023-01-12T19:32:46.927Z"
   },
   {
    "duration": 39,
    "start_time": "2023-01-12T19:32:46.954Z"
   },
   {
    "duration": 6,
    "start_time": "2023-01-12T19:32:46.995Z"
   },
   {
    "duration": 56,
    "start_time": "2023-01-12T19:32:47.003Z"
   },
   {
    "duration": 384,
    "start_time": "2023-01-12T19:32:47.069Z"
   },
   {
    "duration": 109,
    "start_time": "2023-01-12T19:32:47.455Z"
   },
   {
    "duration": 31,
    "start_time": "2023-01-12T19:32:47.566Z"
   },
   {
    "duration": 34,
    "start_time": "2023-01-12T19:32:47.601Z"
   },
   {
    "duration": 95,
    "start_time": "2023-01-12T19:32:47.640Z"
   },
   {
    "duration": 42,
    "start_time": "2023-01-12T19:32:47.738Z"
   },
   {
    "duration": 113,
    "start_time": "2023-01-12T19:32:47.784Z"
   },
   {
    "duration": 13,
    "start_time": "2023-01-12T19:32:47.899Z"
   },
   {
    "duration": 287,
    "start_time": "2023-01-12T19:32:47.913Z"
   },
   {
    "duration": 5,
    "start_time": "2023-01-12T19:32:48.202Z"
   },
   {
    "duration": 27,
    "start_time": "2023-01-12T19:32:48.209Z"
   },
   {
    "duration": 36,
    "start_time": "2023-01-12T19:32:48.238Z"
   },
   {
    "duration": 179,
    "start_time": "2023-01-12T19:32:48.275Z"
   },
   {
    "duration": 4,
    "start_time": "2023-01-12T19:32:48.460Z"
   },
   {
    "duration": 43,
    "start_time": "2023-01-12T19:32:48.465Z"
   },
   {
    "duration": 49,
    "start_time": "2023-01-12T19:32:48.510Z"
   },
   {
    "duration": 48,
    "start_time": "2023-01-12T19:32:48.563Z"
   },
   {
    "duration": 14,
    "start_time": "2023-01-12T19:32:48.613Z"
   },
   {
    "duration": 32,
    "start_time": "2023-01-12T19:32:48.629Z"
   },
   {
    "duration": 8,
    "start_time": "2023-01-12T19:32:48.664Z"
   },
   {
    "duration": 11,
    "start_time": "2023-01-12T19:32:48.674Z"
   },
   {
    "duration": 13,
    "start_time": "2023-01-12T19:32:48.687Z"
   },
   {
    "duration": 7,
    "start_time": "2023-01-12T19:32:48.702Z"
   },
   {
    "duration": 9,
    "start_time": "2023-01-12T19:32:48.711Z"
   },
   {
    "duration": 10,
    "start_time": "2023-01-12T19:32:48.721Z"
   },
   {
    "duration": 26,
    "start_time": "2023-01-12T19:32:48.737Z"
   },
   {
    "duration": 13,
    "start_time": "2023-01-12T19:32:48.765Z"
   },
   {
    "duration": 15,
    "start_time": "2023-01-12T19:32:48.780Z"
   },
   {
    "duration": 11,
    "start_time": "2023-01-12T19:32:48.797Z"
   },
   {
    "duration": 7,
    "start_time": "2023-01-12T19:32:48.810Z"
   },
   {
    "duration": 5,
    "start_time": "2023-01-12T19:32:48.819Z"
   },
   {
    "duration": 31,
    "start_time": "2023-01-12T19:32:48.828Z"
   },
   {
    "duration": 13,
    "start_time": "2023-01-12T19:32:48.860Z"
   },
   {
    "duration": 12,
    "start_time": "2023-01-12T19:32:48.874Z"
   },
   {
    "duration": 8,
    "start_time": "2023-01-12T19:32:48.887Z"
   },
   {
    "duration": 8,
    "start_time": "2023-01-12T19:32:48.896Z"
   },
   {
    "duration": 1215,
    "start_time": "2023-01-13T09:41:03.323Z"
   },
   {
    "duration": 746,
    "start_time": "2023-01-13T09:41:04.540Z"
   },
   {
    "duration": 25,
    "start_time": "2023-01-13T09:41:05.287Z"
   },
   {
    "duration": 7,
    "start_time": "2023-01-13T09:41:05.315Z"
   },
   {
    "duration": 76,
    "start_time": "2023-01-13T09:41:05.324Z"
   },
   {
    "duration": 73,
    "start_time": "2023-01-13T09:41:05.403Z"
   },
   {
    "duration": 83,
    "start_time": "2023-01-13T09:41:05.478Z"
   },
   {
    "duration": 4,
    "start_time": "2023-01-13T09:41:05.562Z"
   },
   {
    "duration": 13,
    "start_time": "2023-01-13T09:41:05.567Z"
   },
   {
    "duration": 2,
    "start_time": "2023-01-13T09:41:05.583Z"
   },
   {
    "duration": 118,
    "start_time": "2023-01-13T09:41:05.597Z"
   },
   {
    "duration": 4,
    "start_time": "2023-01-13T09:41:05.717Z"
   },
   {
    "duration": 12,
    "start_time": "2023-01-13T09:41:05.723Z"
   },
   {
    "duration": 6,
    "start_time": "2023-01-13T09:41:05.737Z"
   },
   {
    "duration": 43,
    "start_time": "2023-01-13T09:41:05.745Z"
   },
   {
    "duration": 312,
    "start_time": "2023-01-13T09:41:05.789Z"
   },
   {
    "duration": 58,
    "start_time": "2023-01-13T09:41:06.110Z"
   },
   {
    "duration": 18,
    "start_time": "2023-01-13T09:41:06.170Z"
   },
   {
    "duration": 34,
    "start_time": "2023-01-13T09:41:06.190Z"
   },
   {
    "duration": 39,
    "start_time": "2023-01-13T09:41:06.225Z"
   },
   {
    "duration": 44,
    "start_time": "2023-01-13T09:41:06.265Z"
   },
   {
    "duration": 51,
    "start_time": "2023-01-13T09:41:06.311Z"
   },
   {
    "duration": 9,
    "start_time": "2023-01-13T09:41:06.363Z"
   },
   {
    "duration": 206,
    "start_time": "2023-01-13T09:41:06.373Z"
   },
   {
    "duration": 3,
    "start_time": "2023-01-13T09:41:06.581Z"
   },
   {
    "duration": 20,
    "start_time": "2023-01-13T09:41:06.585Z"
   },
   {
    "duration": 5,
    "start_time": "2023-01-13T09:41:06.611Z"
   },
   {
    "duration": 129,
    "start_time": "2023-01-13T09:41:06.619Z"
   },
   {
    "duration": 3,
    "start_time": "2023-01-13T09:41:06.749Z"
   },
   {
    "duration": 57,
    "start_time": "2023-01-13T09:41:06.753Z"
   },
   {
    "duration": 32,
    "start_time": "2023-01-13T09:41:06.813Z"
   },
   {
    "duration": 45,
    "start_time": "2023-01-13T09:41:06.846Z"
   },
   {
    "duration": 6,
    "start_time": "2023-01-13T09:41:06.892Z"
   },
   {
    "duration": 16,
    "start_time": "2023-01-13T09:41:06.902Z"
   },
   {
    "duration": 9,
    "start_time": "2023-01-13T09:41:06.919Z"
   },
   {
    "duration": 8,
    "start_time": "2023-01-13T09:41:06.929Z"
   },
   {
    "duration": 11,
    "start_time": "2023-01-13T09:41:06.938Z"
   },
   {
    "duration": 7,
    "start_time": "2023-01-13T09:41:06.951Z"
   },
   {
    "duration": 8,
    "start_time": "2023-01-13T09:41:06.959Z"
   },
   {
    "duration": 11,
    "start_time": "2023-01-13T09:41:06.968Z"
   },
   {
    "duration": 5,
    "start_time": "2023-01-13T09:41:06.981Z"
   },
   {
    "duration": 4,
    "start_time": "2023-01-13T09:41:06.988Z"
   },
   {
    "duration": 15,
    "start_time": "2023-01-13T09:41:06.993Z"
   },
   {
    "duration": 11,
    "start_time": "2023-01-13T09:41:07.011Z"
   },
   {
    "duration": 9,
    "start_time": "2023-01-13T09:41:07.023Z"
   },
   {
    "duration": 5,
    "start_time": "2023-01-13T09:41:07.034Z"
   },
   {
    "duration": 7,
    "start_time": "2023-01-13T09:41:07.040Z"
   },
   {
    "duration": 7,
    "start_time": "2023-01-13T09:41:07.048Z"
   },
   {
    "duration": 6,
    "start_time": "2023-01-13T09:41:07.056Z"
   },
   {
    "duration": 11,
    "start_time": "2023-01-13T09:41:07.064Z"
   },
   {
    "duration": 7,
    "start_time": "2023-01-13T09:41:07.077Z"
   },
   {
    "duration": 4,
    "start_time": "2023-01-13T11:32:15.839Z"
   },
   {
    "duration": 5,
    "start_time": "2023-01-13T11:32:18.868Z"
   },
   {
    "duration": 984,
    "start_time": "2023-01-13T11:32:28.213Z"
   },
   {
    "duration": 220,
    "start_time": "2023-01-13T11:32:29.199Z"
   },
   {
    "duration": 26,
    "start_time": "2023-01-13T11:32:29.421Z"
   },
   {
    "duration": 7,
    "start_time": "2023-01-13T11:32:29.449Z"
   },
   {
    "duration": 89,
    "start_time": "2023-01-13T11:32:29.458Z"
   },
   {
    "duration": 74,
    "start_time": "2023-01-13T11:32:29.549Z"
   },
   {
    "duration": 78,
    "start_time": "2023-01-13T11:32:29.625Z"
   },
   {
    "duration": 4,
    "start_time": "2023-01-13T11:32:29.704Z"
   },
   {
    "duration": 10,
    "start_time": "2023-01-13T11:32:29.710Z"
   },
   {
    "duration": 2,
    "start_time": "2023-01-13T11:32:29.722Z"
   },
   {
    "duration": 94,
    "start_time": "2023-01-13T11:32:29.726Z"
   },
   {
    "duration": 4,
    "start_time": "2023-01-13T11:32:29.822Z"
   },
   {
    "duration": 12,
    "start_time": "2023-01-13T11:32:29.827Z"
   },
   {
    "duration": 3,
    "start_time": "2023-01-13T11:32:29.842Z"
   },
   {
    "duration": 51,
    "start_time": "2023-01-13T11:32:29.847Z"
   },
   {
    "duration": 329,
    "start_time": "2023-01-13T11:32:29.900Z"
   },
   {
    "duration": 67,
    "start_time": "2023-01-13T11:32:30.230Z"
   },
   {
    "duration": 48,
    "start_time": "2023-01-13T11:32:30.300Z"
   },
   {
    "duration": 67,
    "start_time": "2023-01-13T11:32:30.351Z"
   },
   {
    "duration": 48,
    "start_time": "2023-01-13T11:32:30.420Z"
   },
   {
    "duration": 36,
    "start_time": "2023-01-13T11:32:30.469Z"
   },
   {
    "duration": 94,
    "start_time": "2023-01-13T11:32:30.506Z"
   },
   {
    "duration": 9,
    "start_time": "2023-01-13T11:32:30.601Z"
   },
   {
    "duration": 221,
    "start_time": "2023-01-13T11:32:30.612Z"
   },
   {
    "duration": 4,
    "start_time": "2023-01-13T11:32:30.834Z"
   },
   {
    "duration": 27,
    "start_time": "2023-01-13T11:32:30.840Z"
   },
   {
    "duration": 29,
    "start_time": "2023-01-13T11:32:30.868Z"
   },
   {
    "duration": 152,
    "start_time": "2023-01-13T11:32:30.898Z"
   },
   {
    "duration": 4,
    "start_time": "2023-01-13T11:32:31.052Z"
   },
   {
    "duration": 55,
    "start_time": "2023-01-13T11:32:31.057Z"
   },
   {
    "duration": 35,
    "start_time": "2023-01-13T11:32:31.114Z"
   },
   {
    "duration": 55,
    "start_time": "2023-01-13T11:32:31.151Z"
   },
   {
    "duration": 5,
    "start_time": "2023-01-13T11:32:31.207Z"
   },
   {
    "duration": 38,
    "start_time": "2023-01-13T11:32:31.214Z"
   },
   {
    "duration": 44,
    "start_time": "2023-01-13T11:32:31.254Z"
   },
   {
    "duration": 44,
    "start_time": "2023-01-13T11:32:31.300Z"
   },
   {
    "duration": 54,
    "start_time": "2023-01-13T11:32:31.345Z"
   },
   {
    "duration": 26,
    "start_time": "2023-01-13T11:32:31.401Z"
   },
   {
    "duration": 34,
    "start_time": "2023-01-13T11:32:31.428Z"
   },
   {
    "duration": 12,
    "start_time": "2023-01-13T11:32:31.464Z"
   },
   {
    "duration": 18,
    "start_time": "2023-01-13T11:32:31.479Z"
   },
   {
    "duration": 20,
    "start_time": "2023-01-13T11:32:31.498Z"
   },
   {
    "duration": 12,
    "start_time": "2023-01-13T11:32:31.520Z"
   },
   {
    "duration": 11,
    "start_time": "2023-01-13T11:32:31.533Z"
   },
   {
    "duration": 8,
    "start_time": "2023-01-13T11:32:31.546Z"
   },
   {
    "duration": 7,
    "start_time": "2023-01-13T11:32:31.555Z"
   },
   {
    "duration": 7,
    "start_time": "2023-01-13T11:32:31.563Z"
   },
   {
    "duration": 6,
    "start_time": "2023-01-13T11:32:31.572Z"
   },
   {
    "duration": 6,
    "start_time": "2023-01-13T11:32:31.580Z"
   },
   {
    "duration": 6,
    "start_time": "2023-01-13T11:32:31.587Z"
   },
   {
    "duration": 54,
    "start_time": "2023-01-13T11:32:31.594Z"
   },
   {
    "duration": 4,
    "start_time": "2023-01-13T11:34:53.439Z"
   },
   {
    "duration": 3,
    "start_time": "2023-01-13T11:42:42.975Z"
   },
   {
    "duration": 3,
    "start_time": "2023-01-13T11:42:59.028Z"
   },
   {
    "duration": 4,
    "start_time": "2023-01-13T11:46:24.216Z"
   },
   {
    "duration": 4,
    "start_time": "2023-01-13T11:46:28.409Z"
   },
   {
    "duration": 3,
    "start_time": "2023-01-13T11:46:32.258Z"
   },
   {
    "duration": 3,
    "start_time": "2023-01-13T11:46:38.147Z"
   },
   {
    "duration": 4,
    "start_time": "2023-01-13T11:46:47.955Z"
   },
   {
    "duration": 3,
    "start_time": "2023-01-13T11:47:03.383Z"
   },
   {
    "duration": 3,
    "start_time": "2023-01-13T11:47:33.461Z"
   },
   {
    "duration": 3,
    "start_time": "2023-01-13T11:49:04.247Z"
   },
   {
    "duration": 3,
    "start_time": "2023-01-13T11:57:32.159Z"
   },
   {
    "duration": 3,
    "start_time": "2023-01-13T11:57:43.136Z"
   },
   {
    "duration": 105,
    "start_time": "2023-01-13T12:00:49.231Z"
   },
   {
    "duration": 27,
    "start_time": "2023-01-13T12:00:58.297Z"
   },
   {
    "duration": 25,
    "start_time": "2023-01-13T12:04:17.041Z"
   },
   {
    "duration": 52,
    "start_time": "2023-01-13T12:06:33.153Z"
   },
   {
    "duration": 47,
    "start_time": "2023-01-13T12:06:38.811Z"
   },
   {
    "duration": 25,
    "start_time": "2023-01-13T12:06:48.232Z"
   },
   {
    "duration": 49,
    "start_time": "2023-01-13T12:07:14.782Z"
   },
   {
    "duration": 26,
    "start_time": "2023-01-13T12:07:59.141Z"
   },
   {
    "duration": 13,
    "start_time": "2023-01-13T12:08:14.165Z"
   },
   {
    "duration": 49,
    "start_time": "2023-01-13T12:08:25.575Z"
   },
   {
    "duration": 21,
    "start_time": "2023-01-13T12:08:55.230Z"
   },
   {
    "duration": 20,
    "start_time": "2023-01-13T12:14:12.911Z"
   },
   {
    "duration": 20,
    "start_time": "2023-01-13T12:14:20.721Z"
   },
   {
    "duration": 21,
    "start_time": "2023-01-13T12:14:39.700Z"
   },
   {
    "duration": 26,
    "start_time": "2023-01-13T12:14:52.560Z"
   },
   {
    "duration": 54,
    "start_time": "2023-01-13T12:16:04.870Z"
   },
   {
    "duration": 49,
    "start_time": "2023-01-13T12:16:25.733Z"
   },
   {
    "duration": 16,
    "start_time": "2023-01-13T12:16:46.229Z"
   },
   {
    "duration": 12,
    "start_time": "2023-01-13T12:17:38.663Z"
   },
   {
    "duration": 8,
    "start_time": "2023-01-13T12:17:54.552Z"
   },
   {
    "duration": 7,
    "start_time": "2023-01-13T12:18:46.987Z"
   },
   {
    "duration": 8,
    "start_time": "2023-01-13T12:21:27.349Z"
   },
   {
    "duration": 7,
    "start_time": "2023-01-13T12:23:32.731Z"
   },
   {
    "duration": 12,
    "start_time": "2023-01-13T12:25:00.608Z"
   },
   {
    "duration": 23,
    "start_time": "2023-01-13T12:27:27.194Z"
   },
   {
    "duration": 74,
    "start_time": "2023-01-13T12:27:33.345Z"
   },
   {
    "duration": 13,
    "start_time": "2023-01-13T12:27:33.876Z"
   },
   {
    "duration": 8,
    "start_time": "2023-01-13T12:28:56.206Z"
   },
   {
    "duration": 220,
    "start_time": "2023-01-13T12:28:57.679Z"
   },
   {
    "duration": 8,
    "start_time": "2023-01-13T12:30:27.415Z"
   },
   {
    "duration": 986,
    "start_time": "2023-01-13T12:30:49.720Z"
   },
   {
    "duration": 213,
    "start_time": "2023-01-13T12:30:50.708Z"
   },
   {
    "duration": 20,
    "start_time": "2023-01-13T12:30:50.923Z"
   },
   {
    "duration": 7,
    "start_time": "2023-01-13T12:30:50.945Z"
   },
   {
    "duration": 89,
    "start_time": "2023-01-13T12:30:50.953Z"
   },
   {
    "duration": 79,
    "start_time": "2023-01-13T12:30:51.044Z"
   },
   {
    "duration": 77,
    "start_time": "2023-01-13T12:30:51.125Z"
   },
   {
    "duration": 4,
    "start_time": "2023-01-13T12:30:51.204Z"
   },
   {
    "duration": 12,
    "start_time": "2023-01-13T12:30:51.210Z"
   },
   {
    "duration": 3,
    "start_time": "2023-01-13T12:30:51.224Z"
   },
   {
    "duration": 104,
    "start_time": "2023-01-13T12:30:51.228Z"
   },
   {
    "duration": 4,
    "start_time": "2023-01-13T12:30:51.334Z"
   },
   {
    "duration": 13,
    "start_time": "2023-01-13T12:30:51.340Z"
   },
   {
    "duration": 7,
    "start_time": "2023-01-13T12:30:51.355Z"
   },
   {
    "duration": 55,
    "start_time": "2023-01-13T12:30:51.363Z"
   },
   {
    "duration": 278,
    "start_time": "2023-01-13T12:30:51.420Z"
   },
   {
    "duration": 60,
    "start_time": "2023-01-13T12:30:51.700Z"
   },
   {
    "duration": 19,
    "start_time": "2023-01-13T12:30:51.761Z"
   },
   {
    "duration": 38,
    "start_time": "2023-01-13T12:30:51.781Z"
   },
   {
    "duration": 43,
    "start_time": "2023-01-13T12:30:51.820Z"
   },
   {
    "duration": 41,
    "start_time": "2023-01-13T12:30:51.864Z"
   },
   {
    "duration": 62,
    "start_time": "2023-01-13T12:30:51.907Z"
   },
   {
    "duration": 55,
    "start_time": "2023-01-13T12:30:51.971Z"
   },
   {
    "duration": 229,
    "start_time": "2023-01-13T12:30:52.028Z"
   },
   {
    "duration": 4,
    "start_time": "2023-01-13T12:30:52.259Z"
   },
   {
    "duration": 16,
    "start_time": "2023-01-13T12:30:52.265Z"
   },
   {
    "duration": 11,
    "start_time": "2023-01-13T12:30:52.283Z"
   },
   {
    "duration": 158,
    "start_time": "2023-01-13T12:30:52.299Z"
   },
   {
    "duration": 4,
    "start_time": "2023-01-13T12:30:52.459Z"
   },
   {
    "duration": 59,
    "start_time": "2023-01-13T12:30:52.465Z"
   },
   {
    "duration": 33,
    "start_time": "2023-01-13T12:30:52.526Z"
   },
   {
    "duration": 45,
    "start_time": "2023-01-13T12:30:52.561Z"
   },
   {
    "duration": 5,
    "start_time": "2023-01-13T12:30:52.607Z"
   },
   {
    "duration": 8,
    "start_time": "2023-01-13T12:30:52.613Z"
   },
   {
    "duration": 8,
    "start_time": "2023-01-13T12:30:52.622Z"
   },
   {
    "duration": 10,
    "start_time": "2023-01-13T12:30:52.631Z"
   },
   {
    "duration": 18,
    "start_time": "2023-01-13T12:30:52.642Z"
   },
   {
    "duration": 13,
    "start_time": "2023-01-13T12:30:52.661Z"
   },
   {
    "duration": 12,
    "start_time": "2023-01-13T12:30:52.675Z"
   },
   {
    "duration": 10,
    "start_time": "2023-01-13T12:30:52.688Z"
   },
   {
    "duration": 16,
    "start_time": "2023-01-13T12:30:52.699Z"
   },
   {
    "duration": 5,
    "start_time": "2023-01-13T12:30:52.716Z"
   },
   {
    "duration": 13,
    "start_time": "2023-01-13T12:30:52.722Z"
   },
   {
    "duration": 7,
    "start_time": "2023-01-13T12:30:52.736Z"
   },
   {
    "duration": 6,
    "start_time": "2023-01-13T12:30:52.744Z"
   },
   {
    "duration": 6,
    "start_time": "2023-01-13T12:30:52.752Z"
   },
   {
    "duration": 7,
    "start_time": "2023-01-13T12:30:52.759Z"
   },
   {
    "duration": 8,
    "start_time": "2023-01-13T12:30:52.768Z"
   },
   {
    "duration": 21,
    "start_time": "2023-01-13T12:30:52.777Z"
   },
   {
    "duration": 8,
    "start_time": "2023-01-13T12:30:52.799Z"
   },
   {
    "duration": 5,
    "start_time": "2023-01-13T12:30:52.808Z"
   },
   {
    "duration": 1231,
    "start_time": "2023-01-15T10:00:51.624Z"
   },
   {
    "duration": 789,
    "start_time": "2023-01-15T10:00:52.857Z"
   },
   {
    "duration": 21,
    "start_time": "2023-01-15T10:00:53.647Z"
   },
   {
    "duration": 12,
    "start_time": "2023-01-15T10:00:53.670Z"
   },
   {
    "duration": 75,
    "start_time": "2023-01-15T10:00:53.683Z"
   },
   {
    "duration": 83,
    "start_time": "2023-01-15T10:00:53.760Z"
   },
   {
    "duration": 83,
    "start_time": "2023-01-15T10:00:53.845Z"
   },
   {
    "duration": 4,
    "start_time": "2023-01-15T10:00:53.930Z"
   },
   {
    "duration": 14,
    "start_time": "2023-01-15T10:00:53.935Z"
   },
   {
    "duration": 5,
    "start_time": "2023-01-15T10:00:53.951Z"
   },
   {
    "duration": 99,
    "start_time": "2023-01-15T10:00:53.957Z"
   },
   {
    "duration": 3,
    "start_time": "2023-01-15T10:00:54.059Z"
   },
   {
    "duration": 22,
    "start_time": "2023-01-15T10:00:54.064Z"
   },
   {
    "duration": 26,
    "start_time": "2023-01-15T10:00:54.088Z"
   },
   {
    "duration": 30,
    "start_time": "2023-01-15T10:00:54.116Z"
   },
   {
    "duration": 320,
    "start_time": "2023-01-15T10:00:54.148Z"
   },
   {
    "duration": 73,
    "start_time": "2023-01-15T10:00:54.470Z"
   },
   {
    "duration": 19,
    "start_time": "2023-01-15T10:00:54.545Z"
   },
   {
    "duration": 33,
    "start_time": "2023-01-15T10:00:54.566Z"
   },
   {
    "duration": 78,
    "start_time": "2023-01-15T10:00:54.601Z"
   },
   {
    "duration": 28,
    "start_time": "2023-01-15T10:00:54.681Z"
   },
   {
    "duration": 66,
    "start_time": "2023-01-15T10:00:54.711Z"
   },
   {
    "duration": 42,
    "start_time": "2023-01-15T10:00:54.779Z"
   },
   {
    "duration": 236,
    "start_time": "2023-01-15T10:00:54.822Z"
   },
   {
    "duration": 3,
    "start_time": "2023-01-15T10:00:55.060Z"
   },
   {
    "duration": 68,
    "start_time": "2023-01-15T10:00:55.065Z"
   },
   {
    "duration": 33,
    "start_time": "2023-01-15T10:00:55.135Z"
   },
   {
    "duration": 175,
    "start_time": "2023-01-15T10:00:55.172Z"
   },
   {
    "duration": 4,
    "start_time": "2023-01-15T10:00:55.349Z"
   },
   {
    "duration": 51,
    "start_time": "2023-01-15T10:00:55.355Z"
   },
   {
    "duration": 51,
    "start_time": "2023-01-15T10:00:55.412Z"
   },
   {
    "duration": 59,
    "start_time": "2023-01-15T10:00:55.465Z"
   },
   {
    "duration": 7,
    "start_time": "2023-01-15T10:00:55.526Z"
   },
   {
    "duration": 30,
    "start_time": "2023-01-15T10:00:55.535Z"
   },
   {
    "duration": 11,
    "start_time": "2023-01-15T10:00:55.567Z"
   },
   {
    "duration": 12,
    "start_time": "2023-01-15T10:00:55.580Z"
   },
   {
    "duration": 10,
    "start_time": "2023-01-15T10:00:55.595Z"
   },
   {
    "duration": 9,
    "start_time": "2023-01-15T10:00:55.607Z"
   },
   {
    "duration": 14,
    "start_time": "2023-01-15T10:00:55.619Z"
   },
   {
    "duration": 9,
    "start_time": "2023-01-15T10:00:55.635Z"
   },
   {
    "duration": 13,
    "start_time": "2023-01-15T10:00:55.646Z"
   },
   {
    "duration": 9,
    "start_time": "2023-01-15T10:00:55.661Z"
   },
   {
    "duration": 21,
    "start_time": "2023-01-15T10:00:55.672Z"
   },
   {
    "duration": 9,
    "start_time": "2023-01-15T10:00:55.695Z"
   },
   {
    "duration": 8,
    "start_time": "2023-01-15T10:00:55.705Z"
   },
   {
    "duration": 8,
    "start_time": "2023-01-15T10:00:55.714Z"
   },
   {
    "duration": 11,
    "start_time": "2023-01-15T10:00:55.724Z"
   },
   {
    "duration": 10,
    "start_time": "2023-01-15T10:00:55.737Z"
   },
   {
    "duration": 20,
    "start_time": "2023-01-15T10:00:55.749Z"
   },
   {
    "duration": 8,
    "start_time": "2023-01-15T10:00:55.771Z"
   },
   {
    "duration": 9,
    "start_time": "2023-01-15T10:00:55.781Z"
   },
   {
    "duration": 998,
    "start_time": "2023-01-15T10:01:18.744Z"
   },
   {
    "duration": 215,
    "start_time": "2023-01-15T10:01:19.744Z"
   },
   {
    "duration": 21,
    "start_time": "2023-01-15T10:01:19.960Z"
   },
   {
    "duration": 40,
    "start_time": "2023-01-15T10:01:19.982Z"
   },
   {
    "duration": 85,
    "start_time": "2023-01-15T10:01:20.024Z"
   },
   {
    "duration": 73,
    "start_time": "2023-01-15T10:01:20.111Z"
   },
   {
    "duration": 103,
    "start_time": "2023-01-15T10:01:20.186Z"
   },
   {
    "duration": 5,
    "start_time": "2023-01-15T10:01:20.291Z"
   },
   {
    "duration": 41,
    "start_time": "2023-01-15T10:01:20.298Z"
   },
   {
    "duration": 13,
    "start_time": "2023-01-15T10:01:20.341Z"
   },
   {
    "duration": 119,
    "start_time": "2023-01-15T10:01:20.356Z"
   },
   {
    "duration": 4,
    "start_time": "2023-01-15T10:01:20.476Z"
   },
   {
    "duration": 21,
    "start_time": "2023-01-15T10:01:20.482Z"
   },
   {
    "duration": 8,
    "start_time": "2023-01-15T10:01:20.506Z"
   },
   {
    "duration": 31,
    "start_time": "2023-01-15T10:01:20.515Z"
   },
   {
    "duration": 316,
    "start_time": "2023-01-15T10:01:20.548Z"
   },
   {
    "duration": 69,
    "start_time": "2023-01-15T10:01:20.866Z"
   },
   {
    "duration": 21,
    "start_time": "2023-01-15T10:01:20.937Z"
   },
   {
    "duration": 20,
    "start_time": "2023-01-15T10:01:20.960Z"
   },
   {
    "duration": 68,
    "start_time": "2023-01-15T10:01:20.982Z"
   },
   {
    "duration": 20,
    "start_time": "2023-01-15T10:01:21.051Z"
   },
   {
    "duration": 76,
    "start_time": "2023-01-15T10:01:21.073Z"
   },
   {
    "duration": 43,
    "start_time": "2023-01-15T10:01:21.151Z"
   },
   {
    "duration": 235,
    "start_time": "2023-01-15T10:01:21.196Z"
   },
   {
    "duration": 4,
    "start_time": "2023-01-15T10:01:21.433Z"
   },
   {
    "duration": 16,
    "start_time": "2023-01-15T10:01:21.438Z"
   },
   {
    "duration": 24,
    "start_time": "2023-01-15T10:01:21.455Z"
   },
   {
    "duration": 153,
    "start_time": "2023-01-15T10:01:21.481Z"
   },
   {
    "duration": 4,
    "start_time": "2023-01-15T10:01:21.636Z"
   },
   {
    "duration": 57,
    "start_time": "2023-01-15T10:01:21.641Z"
   },
   {
    "duration": 42,
    "start_time": "2023-01-15T10:01:21.700Z"
   },
   {
    "duration": 38,
    "start_time": "2023-01-15T10:01:21.743Z"
   },
   {
    "duration": 12,
    "start_time": "2023-01-15T10:01:21.783Z"
   },
   {
    "duration": 29,
    "start_time": "2023-01-15T10:01:21.797Z"
   },
   {
    "duration": 11,
    "start_time": "2023-01-15T10:01:21.828Z"
   },
   {
    "duration": 23,
    "start_time": "2023-01-15T10:01:21.841Z"
   },
   {
    "duration": 25,
    "start_time": "2023-01-15T10:01:21.865Z"
   },
   {
    "duration": 12,
    "start_time": "2023-01-15T10:01:21.892Z"
   },
   {
    "duration": 23,
    "start_time": "2023-01-15T10:01:21.905Z"
   },
   {
    "duration": 16,
    "start_time": "2023-01-15T10:01:21.929Z"
   },
   {
    "duration": 22,
    "start_time": "2023-01-15T10:01:21.949Z"
   },
   {
    "duration": 14,
    "start_time": "2023-01-15T10:01:21.973Z"
   },
   {
    "duration": 23,
    "start_time": "2023-01-15T10:01:21.989Z"
   },
   {
    "duration": 9,
    "start_time": "2023-01-15T10:01:22.014Z"
   },
   {
    "duration": 11,
    "start_time": "2023-01-15T10:01:22.025Z"
   },
   {
    "duration": 7,
    "start_time": "2023-01-15T10:01:22.038Z"
   },
   {
    "duration": 33,
    "start_time": "2023-01-15T10:01:22.046Z"
   },
   {
    "duration": 20,
    "start_time": "2023-01-15T10:01:22.080Z"
   },
   {
    "duration": 23,
    "start_time": "2023-01-15T10:01:22.101Z"
   },
   {
    "duration": 9,
    "start_time": "2023-01-15T10:01:22.126Z"
   },
   {
    "duration": 21,
    "start_time": "2023-01-15T10:01:22.136Z"
   },
   {
    "duration": 1048,
    "start_time": "2023-01-15T10:04:56.901Z"
   },
   {
    "duration": 194,
    "start_time": "2023-01-15T10:04:57.950Z"
   },
   {
    "duration": 20,
    "start_time": "2023-01-15T10:04:58.145Z"
   },
   {
    "duration": 7,
    "start_time": "2023-01-15T10:04:58.167Z"
   },
   {
    "duration": 86,
    "start_time": "2023-01-15T10:04:58.176Z"
   },
   {
    "duration": 77,
    "start_time": "2023-01-15T10:04:58.264Z"
   },
   {
    "duration": 84,
    "start_time": "2023-01-15T10:04:58.342Z"
   },
   {
    "duration": 4,
    "start_time": "2023-01-15T10:04:58.428Z"
   },
   {
    "duration": 15,
    "start_time": "2023-01-15T10:04:58.434Z"
   },
   {
    "duration": 2,
    "start_time": "2023-01-15T10:04:58.451Z"
   },
   {
    "duration": 105,
    "start_time": "2023-01-15T10:04:58.454Z"
   },
   {
    "duration": 4,
    "start_time": "2023-01-15T10:04:58.560Z"
   },
   {
    "duration": 10,
    "start_time": "2023-01-15T10:04:58.565Z"
   },
   {
    "duration": 19,
    "start_time": "2023-01-15T10:04:58.578Z"
   },
   {
    "duration": 38,
    "start_time": "2023-01-15T10:04:58.598Z"
   },
   {
    "duration": 296,
    "start_time": "2023-01-15T10:04:58.638Z"
   },
   {
    "duration": 64,
    "start_time": "2023-01-15T10:04:58.935Z"
   },
   {
    "duration": 27,
    "start_time": "2023-01-15T10:04:59.000Z"
   },
   {
    "duration": 20,
    "start_time": "2023-01-15T10:04:59.029Z"
   },
   {
    "duration": 65,
    "start_time": "2023-01-15T10:04:59.050Z"
   },
   {
    "duration": 21,
    "start_time": "2023-01-15T10:04:59.117Z"
   },
   {
    "duration": 76,
    "start_time": "2023-01-15T10:04:59.141Z"
   },
   {
    "duration": 42,
    "start_time": "2023-01-15T10:04:59.218Z"
   },
   {
    "duration": 229,
    "start_time": "2023-01-15T10:04:59.262Z"
   },
   {
    "duration": 4,
    "start_time": "2023-01-15T10:04:59.492Z"
   },
   {
    "duration": 20,
    "start_time": "2023-01-15T10:04:59.497Z"
   },
   {
    "duration": 42,
    "start_time": "2023-01-15T10:04:59.518Z"
   },
   {
    "duration": 149,
    "start_time": "2023-01-15T10:04:59.561Z"
   },
   {
    "duration": 4,
    "start_time": "2023-01-15T10:04:59.712Z"
   },
   {
    "duration": 49,
    "start_time": "2023-01-15T10:04:59.718Z"
   },
   {
    "duration": 54,
    "start_time": "2023-01-15T10:04:59.769Z"
   },
   {
    "duration": 45,
    "start_time": "2023-01-15T10:04:59.825Z"
   },
   {
    "duration": 6,
    "start_time": "2023-01-15T10:04:59.872Z"
   },
   {
    "duration": 14,
    "start_time": "2023-01-15T10:04:59.880Z"
   },
   {
    "duration": 18,
    "start_time": "2023-01-15T10:04:59.896Z"
   },
   {
    "duration": 15,
    "start_time": "2023-01-15T10:04:59.916Z"
   },
   {
    "duration": 15,
    "start_time": "2023-01-15T10:04:59.933Z"
   },
   {
    "duration": 20,
    "start_time": "2023-01-15T10:04:59.950Z"
   },
   {
    "duration": 17,
    "start_time": "2023-01-15T10:04:59.971Z"
   },
   {
    "duration": 32,
    "start_time": "2023-01-15T10:04:59.990Z"
   },
   {
    "duration": 59,
    "start_time": "2023-01-15T10:05:00.026Z"
   },
   {
    "duration": 62,
    "start_time": "2023-01-15T10:05:00.087Z"
   },
   {
    "duration": 21,
    "start_time": "2023-01-15T10:05:00.152Z"
   },
   {
    "duration": 39,
    "start_time": "2023-01-15T10:05:00.175Z"
   },
   {
    "duration": 26,
    "start_time": "2023-01-15T10:05:00.216Z"
   },
   {
    "duration": 13,
    "start_time": "2023-01-15T10:05:00.245Z"
   },
   {
    "duration": 32,
    "start_time": "2023-01-15T10:05:00.260Z"
   },
   {
    "duration": 36,
    "start_time": "2023-01-15T10:05:00.294Z"
   },
   {
    "duration": 54,
    "start_time": "2023-01-15T10:05:00.332Z"
   },
   {
    "duration": 42,
    "start_time": "2023-01-15T10:05:00.388Z"
   },
   {
    "duration": 29,
    "start_time": "2023-01-15T10:05:00.432Z"
   },
   {
    "duration": 99,
    "start_time": "2023-01-15T10:38:35.619Z"
   },
   {
    "duration": 7,
    "start_time": "2023-01-15T10:39:03.264Z"
   },
   {
    "duration": 11,
    "start_time": "2023-01-15T10:39:13.464Z"
   },
   {
    "duration": 151,
    "start_time": "2023-01-15T11:01:00.629Z"
   },
   {
    "duration": 167,
    "start_time": "2023-01-15T11:01:28.985Z"
   },
   {
    "duration": 145,
    "start_time": "2023-01-15T11:02:21.741Z"
   },
   {
    "duration": 48,
    "start_time": "2023-01-15T11:10:47.275Z"
   },
   {
    "duration": 35,
    "start_time": "2023-01-15T11:10:48.903Z"
   },
   {
    "duration": 83,
    "start_time": "2023-01-15T11:10:55.167Z"
   },
   {
    "duration": 11,
    "start_time": "2023-01-15T11:10:56.399Z"
   },
   {
    "duration": 281,
    "start_time": "2023-01-15T11:10:57.103Z"
   },
   {
    "duration": 4,
    "start_time": "2023-01-15T11:10:59.825Z"
   },
   {
    "duration": 9,
    "start_time": "2023-01-15T11:11:02.349Z"
   },
   {
    "duration": 4,
    "start_time": "2023-01-15T11:11:18.990Z"
   },
   {
    "duration": 1211,
    "start_time": "2023-01-15T11:11:20.835Z"
   },
   {
    "duration": 226,
    "start_time": "2023-01-15T11:11:41.429Z"
   },
   {
    "duration": 155,
    "start_time": "2023-01-15T11:11:53.269Z"
   },
   {
    "duration": 46,
    "start_time": "2023-01-15T11:15:57.543Z"
   },
   {
    "duration": 1030,
    "start_time": "2023-01-15T11:16:02.636Z"
   },
   {
    "duration": 225,
    "start_time": "2023-01-15T11:16:03.667Z"
   },
   {
    "duration": 20,
    "start_time": "2023-01-15T11:16:03.893Z"
   },
   {
    "duration": 17,
    "start_time": "2023-01-15T11:16:03.915Z"
   },
   {
    "duration": 82,
    "start_time": "2023-01-15T11:16:03.934Z"
   },
   {
    "duration": 97,
    "start_time": "2023-01-15T11:16:04.018Z"
   },
   {
    "duration": 78,
    "start_time": "2023-01-15T11:16:04.116Z"
   },
   {
    "duration": 17,
    "start_time": "2023-01-15T11:16:04.196Z"
   },
   {
    "duration": 9,
    "start_time": "2023-01-15T11:16:04.216Z"
   },
   {
    "duration": 6,
    "start_time": "2023-01-15T11:16:04.227Z"
   },
   {
    "duration": 101,
    "start_time": "2023-01-15T11:16:04.235Z"
   },
   {
    "duration": 3,
    "start_time": "2023-01-15T11:16:04.338Z"
   },
   {
    "duration": 16,
    "start_time": "2023-01-15T11:16:04.343Z"
   },
   {
    "duration": 7,
    "start_time": "2023-01-15T11:16:04.361Z"
   },
   {
    "duration": 42,
    "start_time": "2023-01-15T11:16:04.370Z"
   },
   {
    "duration": 301,
    "start_time": "2023-01-15T11:16:04.414Z"
   },
   {
    "duration": 68,
    "start_time": "2023-01-15T11:16:04.723Z"
   },
   {
    "duration": 29,
    "start_time": "2023-01-15T11:16:04.793Z"
   },
   {
    "duration": 19,
    "start_time": "2023-01-15T11:16:04.823Z"
   },
   {
    "duration": 44,
    "start_time": "2023-01-15T11:16:04.843Z"
   },
   {
    "duration": 42,
    "start_time": "2023-01-15T11:16:04.889Z"
   },
   {
    "duration": 79,
    "start_time": "2023-01-15T11:16:04.933Z"
   },
   {
    "duration": 46,
    "start_time": "2023-01-15T11:16:05.013Z"
   },
   {
    "duration": 225,
    "start_time": "2023-01-15T11:16:05.061Z"
   },
   {
    "duration": 5,
    "start_time": "2023-01-15T11:16:05.287Z"
   },
   {
    "duration": 21,
    "start_time": "2023-01-15T11:16:05.293Z"
   },
   {
    "duration": 9,
    "start_time": "2023-01-15T11:16:05.316Z"
   },
   {
    "duration": 164,
    "start_time": "2023-01-15T11:16:05.329Z"
   },
   {
    "duration": 3,
    "start_time": "2023-01-15T11:16:05.495Z"
   },
   {
    "duration": 65,
    "start_time": "2023-01-15T11:16:05.512Z"
   },
   {
    "duration": 51,
    "start_time": "2023-01-15T11:16:05.579Z"
   },
   {
    "duration": 58,
    "start_time": "2023-01-15T11:16:05.631Z"
   },
   {
    "duration": 23,
    "start_time": "2023-01-15T11:16:05.691Z"
   },
   {
    "duration": 25,
    "start_time": "2023-01-15T11:16:05.716Z"
   },
   {
    "duration": 14,
    "start_time": "2023-01-15T11:16:05.744Z"
   },
   {
    "duration": 21,
    "start_time": "2023-01-15T11:16:05.760Z"
   },
   {
    "duration": 20,
    "start_time": "2023-01-15T11:16:05.783Z"
   },
   {
    "duration": 17,
    "start_time": "2023-01-15T11:16:05.805Z"
   },
   {
    "duration": 10,
    "start_time": "2023-01-15T11:16:05.825Z"
   },
   {
    "duration": 17,
    "start_time": "2023-01-15T11:16:05.837Z"
   },
   {
    "duration": 12,
    "start_time": "2023-01-15T11:16:05.856Z"
   },
   {
    "duration": 7,
    "start_time": "2023-01-15T11:16:05.870Z"
   },
   {
    "duration": 9,
    "start_time": "2023-01-15T11:16:05.879Z"
   },
   {
    "duration": 12,
    "start_time": "2023-01-15T11:16:05.890Z"
   },
   {
    "duration": 26,
    "start_time": "2023-01-15T11:16:05.904Z"
   },
   {
    "duration": 12,
    "start_time": "2023-01-15T11:16:05.932Z"
   },
   {
    "duration": 17,
    "start_time": "2023-01-15T11:16:05.946Z"
   },
   {
    "duration": 14,
    "start_time": "2023-01-15T11:16:05.965Z"
   },
   {
    "duration": 17,
    "start_time": "2023-01-15T11:16:05.981Z"
   },
   {
    "duration": 15,
    "start_time": "2023-01-15T11:16:06.000Z"
   },
   {
    "duration": 23,
    "start_time": "2023-01-15T11:16:06.017Z"
   },
   {
    "duration": 4,
    "start_time": "2023-01-15T11:29:03.357Z"
   },
   {
    "duration": 4,
    "start_time": "2023-01-15T11:29:15.351Z"
   },
   {
    "duration": 4,
    "start_time": "2023-01-15T11:29:27.011Z"
   },
   {
    "duration": 3,
    "start_time": "2023-01-15T11:29:34.809Z"
   },
   {
    "duration": 3,
    "start_time": "2023-01-15T11:29:41.010Z"
   },
   {
    "duration": 3,
    "start_time": "2023-01-15T11:29:58.609Z"
   },
   {
    "duration": 67,
    "start_time": "2023-01-15T11:39:19.686Z"
   },
   {
    "duration": 1210,
    "start_time": "2023-01-15T16:35:08.208Z"
   },
   {
    "duration": 581,
    "start_time": "2023-01-15T16:35:09.421Z"
   },
   {
    "duration": 22,
    "start_time": "2023-01-15T16:35:10.004Z"
   },
   {
    "duration": 8,
    "start_time": "2023-01-15T16:35:10.028Z"
   },
   {
    "duration": 96,
    "start_time": "2023-01-15T16:35:10.038Z"
   },
   {
    "duration": 79,
    "start_time": "2023-01-15T16:35:10.136Z"
   },
   {
    "duration": 82,
    "start_time": "2023-01-15T16:35:10.217Z"
   },
   {
    "duration": 4,
    "start_time": "2023-01-15T16:35:10.302Z"
   },
   {
    "duration": 11,
    "start_time": "2023-01-15T16:35:10.308Z"
   },
   {
    "duration": 9,
    "start_time": "2023-01-15T16:35:10.321Z"
   },
   {
    "duration": 99,
    "start_time": "2023-01-15T16:35:10.332Z"
   },
   {
    "duration": 4,
    "start_time": "2023-01-15T16:35:10.433Z"
   },
   {
    "duration": 7,
    "start_time": "2023-01-15T16:35:10.439Z"
   },
   {
    "duration": 3,
    "start_time": "2023-01-15T16:35:10.450Z"
   },
   {
    "duration": 52,
    "start_time": "2023-01-15T16:35:10.454Z"
   },
   {
    "duration": 294,
    "start_time": "2023-01-15T16:35:10.508Z"
   },
   {
    "duration": 62,
    "start_time": "2023-01-15T16:35:10.803Z"
   },
   {
    "duration": 36,
    "start_time": "2023-01-15T16:35:10.866Z"
   },
   {
    "duration": 20,
    "start_time": "2023-01-15T16:35:10.903Z"
   },
   {
    "duration": 53,
    "start_time": "2023-01-15T16:35:10.925Z"
   },
   {
    "duration": 22,
    "start_time": "2023-01-15T16:35:10.998Z"
   },
   {
    "duration": 75,
    "start_time": "2023-01-15T16:35:11.021Z"
   },
   {
    "duration": 47,
    "start_time": "2023-01-15T16:35:11.098Z"
   },
   {
    "duration": 229,
    "start_time": "2023-01-15T16:35:11.147Z"
   },
   {
    "duration": 4,
    "start_time": "2023-01-15T16:35:11.377Z"
   },
   {
    "duration": 19,
    "start_time": "2023-01-15T16:35:11.383Z"
   },
   {
    "duration": 7,
    "start_time": "2023-01-15T16:35:11.404Z"
   },
   {
    "duration": 155,
    "start_time": "2023-01-15T16:35:11.413Z"
   },
   {
    "duration": 3,
    "start_time": "2023-01-15T16:35:11.569Z"
   },
   {
    "duration": 49,
    "start_time": "2023-01-15T16:35:11.574Z"
   },
   {
    "duration": 35,
    "start_time": "2023-01-15T16:35:11.625Z"
   },
   {
    "duration": 52,
    "start_time": "2023-01-15T16:35:11.661Z"
   },
   {
    "duration": 4,
    "start_time": "2023-01-15T16:35:11.715Z"
   },
   {
    "duration": 9,
    "start_time": "2023-01-15T16:35:11.721Z"
   },
   {
    "duration": 5,
    "start_time": "2023-01-15T16:35:11.731Z"
   },
   {
    "duration": 12,
    "start_time": "2023-01-15T16:35:11.738Z"
   },
   {
    "duration": 7,
    "start_time": "2023-01-15T16:35:11.752Z"
   },
   {
    "duration": 13,
    "start_time": "2023-01-15T16:35:11.761Z"
   },
   {
    "duration": 23,
    "start_time": "2023-01-15T16:35:11.776Z"
   },
   {
    "duration": 7,
    "start_time": "2023-01-15T16:35:11.801Z"
   },
   {
    "duration": 7,
    "start_time": "2023-01-15T16:35:11.812Z"
   },
   {
    "duration": 9,
    "start_time": "2023-01-15T16:35:11.820Z"
   },
   {
    "duration": 11,
    "start_time": "2023-01-15T16:35:11.830Z"
   },
   {
    "duration": 8,
    "start_time": "2023-01-15T16:35:11.842Z"
   },
   {
    "duration": 7,
    "start_time": "2023-01-15T16:35:11.852Z"
   },
   {
    "duration": 9,
    "start_time": "2023-01-15T16:35:11.861Z"
   },
   {
    "duration": 2,
    "start_time": "2023-01-21T15:10:25.352Z"
   },
   {
    "duration": 12,
    "start_time": "2023-01-21T15:10:30.254Z"
   },
   {
    "duration": 56,
    "start_time": "2023-01-21T16:18:00.255Z"
   },
   {
    "duration": 9,
    "start_time": "2023-01-21T16:19:14.400Z"
   },
   {
    "duration": 237,
    "start_time": "2023-01-21T16:20:36.738Z"
   },
   {
    "duration": 24,
    "start_time": "2023-01-21T16:21:47.558Z"
   },
   {
    "duration": 8,
    "start_time": "2023-01-21T16:23:34.265Z"
   },
   {
    "duration": 209,
    "start_time": "2023-01-21T16:24:14.506Z"
   },
   {
    "duration": 4,
    "start_time": "2023-01-21T16:24:46.607Z"
   },
   {
    "duration": 7,
    "start_time": "2023-01-21T16:24:47.118Z"
   },
   {
    "duration": 204,
    "start_time": "2023-01-21T16:26:29.296Z"
   },
   {
    "duration": 37,
    "start_time": "2023-01-21T16:29:03.995Z"
   },
   {
    "duration": 37,
    "start_time": "2023-01-21T16:29:26.081Z"
   },
   {
    "duration": 35,
    "start_time": "2023-01-21T16:29:45.569Z"
   },
   {
    "duration": 4,
    "start_time": "2023-01-21T16:30:54.308Z"
   },
   {
    "duration": 12,
    "start_time": "2023-01-21T16:30:55.039Z"
   },
   {
    "duration": 4,
    "start_time": "2023-01-21T16:42:40.276Z"
   },
   {
    "duration": 1188,
    "start_time": "2023-01-21T16:50:58.259Z"
   },
   {
    "duration": 155,
    "start_time": "2023-01-21T16:50:59.449Z"
   },
   {
    "duration": 18,
    "start_time": "2023-01-21T16:50:59.605Z"
   },
   {
    "duration": 7,
    "start_time": "2023-01-21T16:50:59.625Z"
   },
   {
    "duration": 90,
    "start_time": "2023-01-21T16:50:59.634Z"
   },
   {
    "duration": 84,
    "start_time": "2023-01-21T16:50:59.726Z"
   },
   {
    "duration": 86,
    "start_time": "2023-01-21T16:50:59.812Z"
   },
   {
    "duration": 4,
    "start_time": "2023-01-21T16:50:59.900Z"
   },
   {
    "duration": 9,
    "start_time": "2023-01-21T16:50:59.906Z"
   },
   {
    "duration": 8,
    "start_time": "2023-01-21T16:50:59.917Z"
   },
   {
    "duration": 98,
    "start_time": "2023-01-21T16:50:59.926Z"
   },
   {
    "duration": 68,
    "start_time": "2023-01-21T16:51:00.026Z"
   },
   {
    "duration": 4,
    "start_time": "2023-01-21T16:51:00.096Z"
   },
   {
    "duration": 12,
    "start_time": "2023-01-21T16:51:00.102Z"
   },
   {
    "duration": 117,
    "start_time": "2023-01-21T16:51:00.115Z"
   },
   {
    "duration": 0,
    "start_time": "2023-01-21T16:51:00.234Z"
   },
   {
    "duration": 0,
    "start_time": "2023-01-21T16:51:00.236Z"
   },
   {
    "duration": 0,
    "start_time": "2023-01-21T16:51:00.237Z"
   },
   {
    "duration": 0,
    "start_time": "2023-01-21T16:51:00.238Z"
   },
   {
    "duration": 0,
    "start_time": "2023-01-21T16:51:00.239Z"
   },
   {
    "duration": 0,
    "start_time": "2023-01-21T16:51:00.240Z"
   },
   {
    "duration": 0,
    "start_time": "2023-01-21T16:51:00.241Z"
   },
   {
    "duration": 0,
    "start_time": "2023-01-21T16:51:00.242Z"
   },
   {
    "duration": 0,
    "start_time": "2023-01-21T16:51:00.243Z"
   },
   {
    "duration": 0,
    "start_time": "2023-01-21T16:51:00.244Z"
   },
   {
    "duration": 0,
    "start_time": "2023-01-21T16:51:00.245Z"
   },
   {
    "duration": 0,
    "start_time": "2023-01-21T16:51:00.246Z"
   },
   {
    "duration": 0,
    "start_time": "2023-01-21T16:51:00.247Z"
   },
   {
    "duration": 0,
    "start_time": "2023-01-21T16:51:00.248Z"
   },
   {
    "duration": 0,
    "start_time": "2023-01-21T16:51:00.249Z"
   },
   {
    "duration": 0,
    "start_time": "2023-01-21T16:51:00.250Z"
   },
   {
    "duration": 0,
    "start_time": "2023-01-21T16:51:00.251Z"
   },
   {
    "duration": 0,
    "start_time": "2023-01-21T16:51:00.252Z"
   },
   {
    "duration": 0,
    "start_time": "2023-01-21T16:51:00.253Z"
   },
   {
    "duration": 0,
    "start_time": "2023-01-21T16:51:00.254Z"
   },
   {
    "duration": 0,
    "start_time": "2023-01-21T16:51:00.255Z"
   },
   {
    "duration": 0,
    "start_time": "2023-01-21T16:51:00.255Z"
   },
   {
    "duration": 0,
    "start_time": "2023-01-21T16:51:00.256Z"
   },
   {
    "duration": 0,
    "start_time": "2023-01-21T16:51:00.293Z"
   },
   {
    "duration": 0,
    "start_time": "2023-01-21T16:51:00.294Z"
   },
   {
    "duration": 0,
    "start_time": "2023-01-21T16:51:00.295Z"
   },
   {
    "duration": 0,
    "start_time": "2023-01-21T16:51:00.296Z"
   },
   {
    "duration": 0,
    "start_time": "2023-01-21T16:51:00.297Z"
   },
   {
    "duration": 0,
    "start_time": "2023-01-21T16:51:00.298Z"
   },
   {
    "duration": 0,
    "start_time": "2023-01-21T16:51:00.299Z"
   },
   {
    "duration": 0,
    "start_time": "2023-01-21T16:51:00.301Z"
   },
   {
    "duration": 0,
    "start_time": "2023-01-21T16:51:00.302Z"
   },
   {
    "duration": 0,
    "start_time": "2023-01-21T16:51:00.302Z"
   },
   {
    "duration": 0,
    "start_time": "2023-01-21T16:51:00.304Z"
   },
   {
    "duration": 0,
    "start_time": "2023-01-21T16:51:00.305Z"
   },
   {
    "duration": 0,
    "start_time": "2023-01-21T16:51:00.305Z"
   },
   {
    "duration": 50,
    "start_time": "2023-01-23T12:43:52.633Z"
   },
   {
    "duration": 6,
    "start_time": "2023-01-23T12:43:53.011Z"
   },
   {
    "duration": 7,
    "start_time": "2023-01-23T12:43:53.400Z"
   },
   {
    "duration": 1340,
    "start_time": "2023-01-23T12:44:03.925Z"
   },
   {
    "duration": 747,
    "start_time": "2023-01-23T12:44:05.268Z"
   },
   {
    "duration": 20,
    "start_time": "2023-01-23T12:44:06.017Z"
   },
   {
    "duration": 7,
    "start_time": "2023-01-23T12:44:06.039Z"
   },
   {
    "duration": 82,
    "start_time": "2023-01-23T12:44:06.048Z"
   },
   {
    "duration": 87,
    "start_time": "2023-01-23T12:44:06.132Z"
   },
   {
    "duration": 91,
    "start_time": "2023-01-23T12:44:06.221Z"
   },
   {
    "duration": 4,
    "start_time": "2023-01-23T12:44:06.314Z"
   },
   {
    "duration": 23,
    "start_time": "2023-01-23T12:44:06.319Z"
   },
   {
    "duration": 4,
    "start_time": "2023-01-23T12:44:06.343Z"
   },
   {
    "duration": 92,
    "start_time": "2023-01-23T12:44:06.348Z"
   },
   {
    "duration": 64,
    "start_time": "2023-01-23T12:44:06.442Z"
   },
   {
    "duration": 3,
    "start_time": "2023-01-23T12:44:06.508Z"
   },
   {
    "duration": 6,
    "start_time": "2023-01-23T12:44:06.514Z"
   },
   {
    "duration": 118,
    "start_time": "2023-01-23T12:44:06.522Z"
   },
   {
    "duration": 0,
    "start_time": "2023-01-23T12:44:06.643Z"
   },
   {
    "duration": 0,
    "start_time": "2023-01-23T12:44:06.644Z"
   },
   {
    "duration": 0,
    "start_time": "2023-01-23T12:44:06.646Z"
   },
   {
    "duration": 0,
    "start_time": "2023-01-23T12:44:06.647Z"
   },
   {
    "duration": 0,
    "start_time": "2023-01-23T12:44:06.649Z"
   },
   {
    "duration": 0,
    "start_time": "2023-01-23T12:44:06.650Z"
   },
   {
    "duration": 0,
    "start_time": "2023-01-23T12:44:06.652Z"
   },
   {
    "duration": 0,
    "start_time": "2023-01-23T12:44:06.653Z"
   },
   {
    "duration": 0,
    "start_time": "2023-01-23T12:44:06.655Z"
   },
   {
    "duration": 0,
    "start_time": "2023-01-23T12:44:06.656Z"
   },
   {
    "duration": 0,
    "start_time": "2023-01-23T12:44:06.657Z"
   },
   {
    "duration": 0,
    "start_time": "2023-01-23T12:44:06.681Z"
   },
   {
    "duration": 0,
    "start_time": "2023-01-23T12:44:06.683Z"
   },
   {
    "duration": 0,
    "start_time": "2023-01-23T12:44:06.684Z"
   },
   {
    "duration": 0,
    "start_time": "2023-01-23T12:44:06.685Z"
   },
   {
    "duration": 0,
    "start_time": "2023-01-23T12:44:06.686Z"
   },
   {
    "duration": 0,
    "start_time": "2023-01-23T12:44:06.687Z"
   },
   {
    "duration": 0,
    "start_time": "2023-01-23T12:44:06.688Z"
   },
   {
    "duration": 0,
    "start_time": "2023-01-23T12:44:06.689Z"
   },
   {
    "duration": 0,
    "start_time": "2023-01-23T12:44:06.691Z"
   },
   {
    "duration": 0,
    "start_time": "2023-01-23T12:44:06.692Z"
   },
   {
    "duration": 0,
    "start_time": "2023-01-23T12:44:06.693Z"
   },
   {
    "duration": 0,
    "start_time": "2023-01-23T12:44:06.694Z"
   },
   {
    "duration": 0,
    "start_time": "2023-01-23T12:44:06.695Z"
   },
   {
    "duration": 0,
    "start_time": "2023-01-23T12:44:06.696Z"
   },
   {
    "duration": 0,
    "start_time": "2023-01-23T12:44:06.698Z"
   },
   {
    "duration": 0,
    "start_time": "2023-01-23T12:44:06.699Z"
   },
   {
    "duration": 0,
    "start_time": "2023-01-23T12:44:06.700Z"
   },
   {
    "duration": 0,
    "start_time": "2023-01-23T12:44:06.701Z"
   },
   {
    "duration": 0,
    "start_time": "2023-01-23T12:44:06.702Z"
   },
   {
    "duration": 0,
    "start_time": "2023-01-23T12:44:06.703Z"
   },
   {
    "duration": 0,
    "start_time": "2023-01-23T12:44:06.705Z"
   },
   {
    "duration": 0,
    "start_time": "2023-01-23T12:44:06.706Z"
   },
   {
    "duration": 0,
    "start_time": "2023-01-23T12:44:06.707Z"
   },
   {
    "duration": 0,
    "start_time": "2023-01-23T12:44:06.708Z"
   },
   {
    "duration": 0,
    "start_time": "2023-01-23T12:44:06.709Z"
   },
   {
    "duration": 9,
    "start_time": "2023-01-23T12:45:27.910Z"
   },
   {
    "duration": 35,
    "start_time": "2023-01-23T12:48:40.064Z"
   },
   {
    "duration": 42,
    "start_time": "2023-01-23T12:48:44.661Z"
   },
   {
    "duration": 329,
    "start_time": "2023-01-23T12:48:45.300Z"
   },
   {
    "duration": 1316,
    "start_time": "2023-01-23T12:48:52.075Z"
   },
   {
    "duration": 184,
    "start_time": "2023-01-23T12:48:53.394Z"
   },
   {
    "duration": 22,
    "start_time": "2023-01-23T12:48:53.580Z"
   },
   {
    "duration": 7,
    "start_time": "2023-01-23T12:48:53.604Z"
   },
   {
    "duration": 92,
    "start_time": "2023-01-23T12:48:53.613Z"
   },
   {
    "duration": 86,
    "start_time": "2023-01-23T12:48:53.707Z"
   },
   {
    "duration": 98,
    "start_time": "2023-01-23T12:48:53.795Z"
   },
   {
    "duration": 4,
    "start_time": "2023-01-23T12:48:53.895Z"
   },
   {
    "duration": 12,
    "start_time": "2023-01-23T12:48:53.901Z"
   },
   {
    "duration": 3,
    "start_time": "2023-01-23T12:48:53.914Z"
   },
   {
    "duration": 118,
    "start_time": "2023-01-23T12:48:53.920Z"
   },
   {
    "duration": 68,
    "start_time": "2023-01-23T12:48:54.040Z"
   },
   {
    "duration": 4,
    "start_time": "2023-01-23T12:48:54.110Z"
   },
   {
    "duration": 10,
    "start_time": "2023-01-23T12:48:54.118Z"
   },
   {
    "duration": 60,
    "start_time": "2023-01-23T12:48:54.130Z"
   },
   {
    "duration": 26,
    "start_time": "2023-01-23T12:48:54.193Z"
   },
   {
    "duration": 353,
    "start_time": "2023-01-23T12:48:54.221Z"
   },
   {
    "duration": 65,
    "start_time": "2023-01-23T12:48:54.581Z"
   },
   {
    "duration": 33,
    "start_time": "2023-01-23T12:48:54.648Z"
   },
   {
    "duration": 24,
    "start_time": "2023-01-23T12:48:54.683Z"
   },
   {
    "duration": 48,
    "start_time": "2023-01-23T12:48:54.709Z"
   },
   {
    "duration": 20,
    "start_time": "2023-01-23T12:48:54.782Z"
   },
   {
    "duration": 77,
    "start_time": "2023-01-23T12:48:54.804Z"
   },
   {
    "duration": 50,
    "start_time": "2023-01-23T12:48:54.884Z"
   },
   {
    "duration": 268,
    "start_time": "2023-01-23T12:48:54.937Z"
   },
   {
    "duration": 4,
    "start_time": "2023-01-23T12:48:55.207Z"
   },
   {
    "duration": 14,
    "start_time": "2023-01-23T12:48:55.213Z"
   },
   {
    "duration": 20,
    "start_time": "2023-01-23T12:48:55.229Z"
   },
   {
    "duration": 742,
    "start_time": "2023-01-23T12:48:55.252Z"
   },
   {
    "duration": 201,
    "start_time": "2023-01-23T12:48:55.996Z"
   },
   {
    "duration": 4,
    "start_time": "2023-01-23T12:48:56.201Z"
   },
   {
    "duration": 79,
    "start_time": "2023-01-23T12:48:56.207Z"
   },
   {
    "duration": 43,
    "start_time": "2023-01-23T12:48:56.287Z"
   },
   {
    "duration": 58,
    "start_time": "2023-01-23T12:48:56.332Z"
   },
   {
    "duration": 4,
    "start_time": "2023-01-23T12:48:56.392Z"
   },
   {
    "duration": 30,
    "start_time": "2023-01-23T12:48:56.397Z"
   },
   {
    "duration": 17,
    "start_time": "2023-01-23T12:48:56.429Z"
   },
   {
    "duration": 13,
    "start_time": "2023-01-23T12:48:56.449Z"
   },
   {
    "duration": 10,
    "start_time": "2023-01-23T12:48:56.465Z"
   },
   {
    "duration": 6,
    "start_time": "2023-01-23T12:48:56.481Z"
   },
   {
    "duration": 19,
    "start_time": "2023-01-23T12:48:56.500Z"
   },
   {
    "duration": 31,
    "start_time": "2023-01-23T12:48:56.524Z"
   },
   {
    "duration": 24,
    "start_time": "2023-01-23T12:48:56.557Z"
   },
   {
    "duration": 20,
    "start_time": "2023-01-23T12:48:56.584Z"
   },
   {
    "duration": 26,
    "start_time": "2023-01-23T12:48:56.607Z"
   },
   {
    "duration": 15,
    "start_time": "2023-01-23T12:48:56.635Z"
   },
   {
    "duration": 14,
    "start_time": "2023-01-23T12:48:56.653Z"
   },
   {
    "duration": 22,
    "start_time": "2023-01-23T12:48:56.669Z"
   },
   {
    "duration": 11,
    "start_time": "2023-01-23T12:48:56.693Z"
   },
   {
    "duration": 40,
    "start_time": "2023-01-23T12:48:56.706Z"
   },
   {
    "duration": 26,
    "start_time": "2023-01-23T12:48:56.748Z"
   },
   {
    "duration": 5,
    "start_time": "2023-01-23T12:56:04.820Z"
   },
   {
    "duration": 6,
    "start_time": "2023-01-23T12:56:06.186Z"
   },
   {
    "duration": 225,
    "start_time": "2023-01-23T13:15:06.562Z"
   },
   {
    "duration": 2,
    "start_time": "2023-01-23T13:16:27.244Z"
   },
   {
    "duration": 3,
    "start_time": "2023-01-23T13:16:49.624Z"
   },
   {
    "duration": 7,
    "start_time": "2023-01-23T13:16:50.030Z"
   },
   {
    "duration": 45,
    "start_time": "2023-01-23T13:45:41.042Z"
   },
   {
    "duration": 1412,
    "start_time": "2023-01-23T13:45:46.993Z"
   },
   {
    "duration": 735,
    "start_time": "2023-01-23T13:45:48.407Z"
   },
   {
    "duration": 21,
    "start_time": "2023-01-23T13:45:49.144Z"
   },
   {
    "duration": 6,
    "start_time": "2023-01-23T13:45:49.168Z"
   },
   {
    "duration": 77,
    "start_time": "2023-01-23T13:45:49.176Z"
   },
   {
    "duration": 82,
    "start_time": "2023-01-23T13:45:49.254Z"
   },
   {
    "duration": 83,
    "start_time": "2023-01-23T13:45:49.338Z"
   },
   {
    "duration": 4,
    "start_time": "2023-01-23T13:45:49.422Z"
   },
   {
    "duration": 19,
    "start_time": "2023-01-23T13:45:49.427Z"
   },
   {
    "duration": 29,
    "start_time": "2023-01-23T13:45:49.449Z"
   },
   {
    "duration": 109,
    "start_time": "2023-01-23T13:45:49.480Z"
   },
   {
    "duration": 49,
    "start_time": "2023-01-23T13:45:49.591Z"
   },
   {
    "duration": 3,
    "start_time": "2023-01-23T13:45:49.642Z"
   },
   {
    "duration": 36,
    "start_time": "2023-01-23T13:45:49.647Z"
   },
   {
    "duration": 77,
    "start_time": "2023-01-23T13:45:49.685Z"
   },
   {
    "duration": 39,
    "start_time": "2023-01-23T13:45:49.764Z"
   },
   {
    "duration": 320,
    "start_time": "2023-01-23T13:45:49.805Z"
   },
   {
    "duration": 84,
    "start_time": "2023-01-23T13:45:50.126Z"
   },
   {
    "duration": 38,
    "start_time": "2023-01-23T13:45:50.212Z"
   },
   {
    "duration": 61,
    "start_time": "2023-01-23T13:45:50.253Z"
   },
   {
    "duration": 53,
    "start_time": "2023-01-23T13:45:50.316Z"
   },
   {
    "duration": 54,
    "start_time": "2023-01-23T13:45:50.371Z"
   },
   {
    "duration": 80,
    "start_time": "2023-01-23T13:45:50.427Z"
   },
   {
    "duration": 60,
    "start_time": "2023-01-23T13:45:50.509Z"
   },
   {
    "duration": 4,
    "start_time": "2023-01-23T13:45:50.571Z"
   },
   {
    "duration": 29,
    "start_time": "2023-01-23T13:45:50.576Z"
   },
   {
    "duration": 8,
    "start_time": "2023-01-23T13:45:50.607Z"
   },
   {
    "duration": 696,
    "start_time": "2023-01-23T13:45:50.619Z"
   },
   {
    "duration": 182,
    "start_time": "2023-01-23T13:45:51.317Z"
   },
   {
    "duration": 4,
    "start_time": "2023-01-23T13:45:51.500Z"
   },
   {
    "duration": 76,
    "start_time": "2023-01-23T13:45:51.506Z"
   },
   {
    "duration": 39,
    "start_time": "2023-01-23T13:45:51.584Z"
   },
   {
    "duration": 53,
    "start_time": "2023-01-23T13:45:51.624Z"
   },
   {
    "duration": 4,
    "start_time": "2023-01-23T13:45:51.679Z"
   },
   {
    "duration": 58,
    "start_time": "2023-01-23T13:45:51.686Z"
   },
   {
    "duration": 34,
    "start_time": "2023-01-23T13:45:51.746Z"
   },
   {
    "duration": 59,
    "start_time": "2023-01-23T13:45:51.781Z"
   },
   {
    "duration": 23,
    "start_time": "2023-01-23T13:45:51.842Z"
   },
   {
    "duration": 31,
    "start_time": "2023-01-23T13:45:51.868Z"
   },
   {
    "duration": 37,
    "start_time": "2023-01-23T13:45:51.901Z"
   },
   {
    "duration": 53,
    "start_time": "2023-01-23T13:45:51.940Z"
   },
   {
    "duration": 48,
    "start_time": "2023-01-23T13:45:51.995Z"
   },
   {
    "duration": 57,
    "start_time": "2023-01-23T13:45:52.045Z"
   },
   {
    "duration": 47,
    "start_time": "2023-01-23T13:45:52.104Z"
   },
   {
    "duration": 30,
    "start_time": "2023-01-23T13:45:52.153Z"
   },
   {
    "duration": 24,
    "start_time": "2023-01-23T13:45:52.185Z"
   },
   {
    "duration": 39,
    "start_time": "2023-01-23T13:45:52.211Z"
   },
   {
    "duration": 22,
    "start_time": "2023-01-23T13:45:52.252Z"
   },
   {
    "duration": 38,
    "start_time": "2023-01-23T13:45:52.276Z"
   },
   {
    "duration": 37,
    "start_time": "2023-01-23T13:45:52.316Z"
   },
   {
    "duration": 3,
    "start_time": "2023-01-23T14:06:26.988Z"
   },
   {
    "duration": 2,
    "start_time": "2023-01-23T14:17:41.230Z"
   },
   {
    "duration": 9,
    "start_time": "2023-01-23T14:17:45.593Z"
   },
   {
    "duration": 2,
    "start_time": "2023-01-23T14:17:56.875Z"
   },
   {
    "duration": 12,
    "start_time": "2023-01-23T14:38:20.262Z"
   },
   {
    "duration": 3,
    "start_time": "2023-01-23T14:56:20.342Z"
   },
   {
    "duration": 1190,
    "start_time": "2023-01-24T10:15:56.485Z"
   },
   {
    "duration": 155,
    "start_time": "2023-01-24T10:15:57.678Z"
   },
   {
    "duration": 19,
    "start_time": "2023-01-24T10:15:57.835Z"
   },
   {
    "duration": 36,
    "start_time": "2023-01-24T10:15:57.855Z"
   },
   {
    "duration": 85,
    "start_time": "2023-01-24T10:15:57.893Z"
   },
   {
    "duration": 78,
    "start_time": "2023-01-24T10:15:57.980Z"
   },
   {
    "duration": 81,
    "start_time": "2023-01-24T10:15:58.059Z"
   },
   {
    "duration": 4,
    "start_time": "2023-01-24T10:15:58.142Z"
   },
   {
    "duration": 36,
    "start_time": "2023-01-24T10:15:58.148Z"
   },
   {
    "duration": 14,
    "start_time": "2023-01-24T10:15:58.186Z"
   },
   {
    "duration": 136,
    "start_time": "2023-01-24T10:15:58.202Z"
   },
   {
    "duration": 66,
    "start_time": "2023-01-24T10:15:58.340Z"
   },
   {
    "duration": 4,
    "start_time": "2023-01-24T10:15:58.408Z"
   },
   {
    "duration": 30,
    "start_time": "2023-01-24T10:15:58.416Z"
   },
   {
    "duration": 70,
    "start_time": "2023-01-24T10:15:58.448Z"
   },
   {
    "duration": 40,
    "start_time": "2023-01-24T10:15:58.520Z"
   },
   {
    "duration": 304,
    "start_time": "2023-01-24T10:15:58.562Z"
   },
   {
    "duration": 62,
    "start_time": "2023-01-24T10:15:58.868Z"
   },
   {
    "duration": 39,
    "start_time": "2023-01-24T10:15:58.932Z"
   },
   {
    "duration": 30,
    "start_time": "2023-01-24T10:15:58.973Z"
   },
   {
    "duration": 54,
    "start_time": "2023-01-24T10:15:59.005Z"
   },
   {
    "duration": 35,
    "start_time": "2023-01-24T10:15:59.060Z"
   },
   {
    "duration": 100,
    "start_time": "2023-01-24T10:15:59.096Z"
   },
   {
    "duration": 38,
    "start_time": "2023-01-24T10:15:59.198Z"
   },
   {
    "duration": 11,
    "start_time": "2023-01-24T10:15:59.238Z"
   },
   {
    "duration": 50,
    "start_time": "2023-01-24T10:15:59.251Z"
   },
   {
    "duration": 33,
    "start_time": "2023-01-24T10:15:59.303Z"
   },
   {
    "duration": 697,
    "start_time": "2023-01-24T10:15:59.337Z"
   },
   {
    "duration": 182,
    "start_time": "2023-01-24T10:16:00.036Z"
   },
   {
    "duration": 3,
    "start_time": "2023-01-24T10:16:00.220Z"
   },
   {
    "duration": 74,
    "start_time": "2023-01-24T10:16:00.225Z"
   },
   {
    "duration": 37,
    "start_time": "2023-01-24T10:16:00.300Z"
   },
   {
    "duration": 52,
    "start_time": "2023-01-24T10:16:00.338Z"
   },
   {
    "duration": 7,
    "start_time": "2023-01-24T10:16:00.393Z"
   },
   {
    "duration": 67,
    "start_time": "2023-01-24T10:16:00.402Z"
   },
   {
    "duration": 37,
    "start_time": "2023-01-24T10:16:00.471Z"
   },
   {
    "duration": 66,
    "start_time": "2023-01-24T10:16:00.510Z"
   },
   {
    "duration": 75,
    "start_time": "2023-01-24T10:16:00.578Z"
   },
   {
    "duration": 40,
    "start_time": "2023-01-24T10:16:00.655Z"
   },
   {
    "duration": 87,
    "start_time": "2023-01-24T10:16:00.696Z"
   },
   {
    "duration": 62,
    "start_time": "2023-01-24T10:16:00.787Z"
   },
   {
    "duration": 45,
    "start_time": "2023-01-24T10:16:00.851Z"
   },
   {
    "duration": 39,
    "start_time": "2023-01-24T10:16:00.897Z"
   },
   {
    "duration": 43,
    "start_time": "2023-01-24T10:16:00.938Z"
   },
   {
    "duration": 50,
    "start_time": "2023-01-24T10:16:00.983Z"
   },
   {
    "duration": 68,
    "start_time": "2023-01-24T10:16:01.036Z"
   },
   {
    "duration": 56,
    "start_time": "2023-01-24T10:16:01.105Z"
   },
   {
    "duration": 64,
    "start_time": "2023-01-24T10:16:01.163Z"
   },
   {
    "duration": 90,
    "start_time": "2023-01-24T10:16:01.230Z"
   },
   {
    "duration": 68,
    "start_time": "2023-01-24T10:16:01.322Z"
   },
   {
    "duration": 1384,
    "start_time": "2023-01-24T14:44:32.056Z"
   },
   {
    "duration": 555,
    "start_time": "2023-01-24T14:44:33.444Z"
   },
   {
    "duration": 33,
    "start_time": "2023-01-24T14:44:34.001Z"
   },
   {
    "duration": 11,
    "start_time": "2023-01-24T14:44:34.037Z"
   },
   {
    "duration": 80,
    "start_time": "2023-01-24T14:44:34.050Z"
   },
   {
    "duration": 74,
    "start_time": "2023-01-24T14:44:34.132Z"
   },
   {
    "duration": 83,
    "start_time": "2023-01-24T14:44:34.208Z"
   },
   {
    "duration": 4,
    "start_time": "2023-01-24T14:44:34.293Z"
   },
   {
    "duration": 23,
    "start_time": "2023-01-24T14:44:34.298Z"
   },
   {
    "duration": 17,
    "start_time": "2023-01-24T14:44:34.323Z"
   },
   {
    "duration": 90,
    "start_time": "2023-01-24T14:44:34.342Z"
   },
   {
    "duration": 52,
    "start_time": "2023-01-24T14:44:34.434Z"
   },
   {
    "duration": 4,
    "start_time": "2023-01-24T14:44:34.488Z"
   },
   {
    "duration": 22,
    "start_time": "2023-01-24T14:44:34.494Z"
   },
   {
    "duration": 89,
    "start_time": "2023-01-24T14:44:34.518Z"
   },
   {
    "duration": 65,
    "start_time": "2023-01-24T14:44:34.609Z"
   },
   {
    "duration": 391,
    "start_time": "2023-01-24T14:44:34.676Z"
   },
   {
    "duration": 59,
    "start_time": "2023-01-24T14:44:35.070Z"
   },
   {
    "duration": 19,
    "start_time": "2023-01-24T14:44:35.130Z"
   },
   {
    "duration": 35,
    "start_time": "2023-01-24T14:44:35.151Z"
   },
   {
    "duration": 43,
    "start_time": "2023-01-24T14:44:35.188Z"
   },
   {
    "duration": 39,
    "start_time": "2023-01-24T14:44:35.233Z"
   },
   {
    "duration": 55,
    "start_time": "2023-01-24T14:44:35.273Z"
   },
   {
    "duration": 51,
    "start_time": "2023-01-24T14:44:35.330Z"
   },
   {
    "duration": 3,
    "start_time": "2023-01-24T14:44:35.382Z"
   },
   {
    "duration": 10,
    "start_time": "2023-01-24T14:44:35.386Z"
   },
   {
    "duration": 8,
    "start_time": "2023-01-24T14:44:35.397Z"
   },
   {
    "duration": 868,
    "start_time": "2023-01-24T14:44:35.408Z"
   },
   {
    "duration": 170,
    "start_time": "2023-01-24T14:44:36.278Z"
   },
   {
    "duration": 5,
    "start_time": "2023-01-24T14:44:36.450Z"
   },
   {
    "duration": 51,
    "start_time": "2023-01-24T14:44:36.457Z"
   },
   {
    "duration": 38,
    "start_time": "2023-01-24T14:44:36.510Z"
   },
   {
    "duration": 59,
    "start_time": "2023-01-24T14:44:36.550Z"
   },
   {
    "duration": 5,
    "start_time": "2023-01-24T14:44:36.611Z"
   },
   {
    "duration": 22,
    "start_time": "2023-01-24T14:44:36.618Z"
   },
   {
    "duration": 12,
    "start_time": "2023-01-24T14:44:36.642Z"
   },
   {
    "duration": 45,
    "start_time": "2023-01-24T14:44:36.656Z"
   },
   {
    "duration": 16,
    "start_time": "2023-01-24T14:44:36.703Z"
   },
   {
    "duration": 24,
    "start_time": "2023-01-24T14:44:36.721Z"
   },
   {
    "duration": 20,
    "start_time": "2023-01-24T14:44:36.747Z"
   },
   {
    "duration": 8,
    "start_time": "2023-01-24T14:44:36.769Z"
   },
   {
    "duration": 33,
    "start_time": "2023-01-24T14:44:36.782Z"
   },
   {
    "duration": 21,
    "start_time": "2023-01-24T14:44:36.816Z"
   },
   {
    "duration": 12,
    "start_time": "2023-01-24T14:44:36.838Z"
   },
   {
    "duration": 9,
    "start_time": "2023-01-24T14:44:36.852Z"
   },
   {
    "duration": 8,
    "start_time": "2023-01-24T14:44:36.863Z"
   },
   {
    "duration": 9,
    "start_time": "2023-01-24T14:44:36.873Z"
   },
   {
    "duration": 13,
    "start_time": "2023-01-24T14:44:36.884Z"
   },
   {
    "duration": 16,
    "start_time": "2023-01-24T14:44:36.898Z"
   },
   {
    "duration": 11,
    "start_time": "2023-01-24T14:44:36.915Z"
   },
   {
    "duration": 1376,
    "start_time": "2023-02-16T09:54:15.127Z"
   },
   {
    "duration": 538,
    "start_time": "2023-02-16T09:54:16.506Z"
   },
   {
    "duration": 21,
    "start_time": "2023-02-16T09:54:17.046Z"
   },
   {
    "duration": 10,
    "start_time": "2023-02-16T09:54:17.069Z"
   },
   {
    "duration": 82,
    "start_time": "2023-02-16T09:54:17.081Z"
   },
   {
    "duration": 82,
    "start_time": "2023-02-16T09:54:17.165Z"
   },
   {
    "duration": 91,
    "start_time": "2023-02-16T09:54:17.249Z"
   },
   {
    "duration": 116,
    "start_time": "2023-02-16T09:54:17.342Z"
   },
   {
    "duration": 41,
    "start_time": "2023-02-16T09:54:17.460Z"
   },
   {
    "duration": 15,
    "start_time": "2023-02-16T09:54:17.502Z"
   },
   {
    "duration": 107,
    "start_time": "2023-02-16T09:54:17.519Z"
   },
   {
    "duration": 55,
    "start_time": "2023-02-16T09:54:17.628Z"
   },
   {
    "duration": 4,
    "start_time": "2023-02-16T09:54:17.684Z"
   },
   {
    "duration": 29,
    "start_time": "2023-02-16T09:54:17.691Z"
   },
   {
    "duration": 51,
    "start_time": "2023-02-16T09:54:17.722Z"
   },
   {
    "duration": 33,
    "start_time": "2023-02-16T09:54:17.775Z"
   },
   {
    "duration": 340,
    "start_time": "2023-02-16T09:54:17.810Z"
   },
   {
    "duration": 74,
    "start_time": "2023-02-16T09:54:18.152Z"
   },
   {
    "duration": 26,
    "start_time": "2023-02-16T09:54:18.227Z"
   },
   {
    "duration": 33,
    "start_time": "2023-02-16T09:54:18.254Z"
   },
   {
    "duration": 54,
    "start_time": "2023-02-16T09:54:18.289Z"
   },
   {
    "duration": 25,
    "start_time": "2023-02-16T09:54:18.345Z"
   },
   {
    "duration": 87,
    "start_time": "2023-02-16T09:54:18.372Z"
   },
   {
    "duration": 45,
    "start_time": "2023-02-16T09:54:18.461Z"
   },
   {
    "duration": 15,
    "start_time": "2023-02-16T09:54:18.508Z"
   },
   {
    "duration": 13,
    "start_time": "2023-02-16T09:54:18.525Z"
   },
   {
    "duration": 4,
    "start_time": "2023-02-16T09:54:18.540Z"
   },
   {
    "duration": 728,
    "start_time": "2023-02-16T09:54:18.545Z"
   },
   {
    "duration": 187,
    "start_time": "2023-02-16T09:54:19.274Z"
   },
   {
    "duration": 4,
    "start_time": "2023-02-16T09:54:19.462Z"
   },
   {
    "duration": 54,
    "start_time": "2023-02-16T09:54:19.468Z"
   },
   {
    "duration": 39,
    "start_time": "2023-02-16T09:54:19.524Z"
   },
   {
    "duration": 37,
    "start_time": "2023-02-16T09:54:19.565Z"
   },
   {
    "duration": 4,
    "start_time": "2023-02-16T09:54:19.620Z"
   },
   {
    "duration": 16,
    "start_time": "2023-02-16T09:54:19.626Z"
   },
   {
    "duration": 5,
    "start_time": "2023-02-16T09:54:19.644Z"
   },
   {
    "duration": 11,
    "start_time": "2023-02-16T09:54:19.650Z"
   },
   {
    "duration": 7,
    "start_time": "2023-02-16T09:54:19.663Z"
   },
   {
    "duration": 9,
    "start_time": "2023-02-16T09:54:19.672Z"
   },
   {
    "duration": 11,
    "start_time": "2023-02-16T09:54:19.682Z"
   },
   {
    "duration": 5,
    "start_time": "2023-02-16T09:54:19.720Z"
   },
   {
    "duration": 11,
    "start_time": "2023-02-16T09:54:19.727Z"
   },
   {
    "duration": 11,
    "start_time": "2023-02-16T09:54:19.739Z"
   },
   {
    "duration": 6,
    "start_time": "2023-02-16T09:54:19.752Z"
   },
   {
    "duration": 6,
    "start_time": "2023-02-16T09:54:19.760Z"
   },
   {
    "duration": 5,
    "start_time": "2023-02-16T09:54:19.768Z"
   },
   {
    "duration": 11,
    "start_time": "2023-02-16T09:54:19.775Z"
   },
   {
    "duration": 6,
    "start_time": "2023-02-16T09:54:19.788Z"
   },
   {
    "duration": 4,
    "start_time": "2023-02-16T09:54:19.822Z"
   },
   {
    "duration": 5,
    "start_time": "2023-02-16T09:54:19.828Z"
   }
  ],
  "kernelspec": {
   "display_name": "Python 3 (ipykernel)",
   "language": "python",
   "name": "python3"
  },
  "language_info": {
   "codemirror_mode": {
    "name": "ipython",
    "version": 3
   },
   "file_extension": ".py",
   "mimetype": "text/x-python",
   "name": "python",
   "nbconvert_exporter": "python",
   "pygments_lexer": "ipython3",
   "version": "3.9.12"
  },
  "toc": {
   "base_numbering": 1,
   "nav_menu": {},
   "number_sections": true,
   "sideBar": true,
   "skip_h1_title": true,
   "title_cell": "Table of Contents",
   "title_sidebar": "Contents",
   "toc_cell": false,
   "toc_position": {
    "height": "calc(100% - 180px)",
    "left": "10px",
    "top": "150px",
    "width": "190.375px"
   },
   "toc_section_display": true,
   "toc_window_display": true
  }
 },
 "nbformat": 4,
 "nbformat_minor": 2
}
