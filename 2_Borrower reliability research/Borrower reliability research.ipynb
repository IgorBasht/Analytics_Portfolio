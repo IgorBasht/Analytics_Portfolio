{
 "cells": [
  {
   "cell_type": "markdown",
   "id": "8f5c0bc9",
   "metadata": {},
   "source": [
    "<div style=\"border:solid Chocolate 2px; padding: 40px\">\n",
    "\n",
    "<b>Привет!👋</b>\n",
    "\n",
    "Меня зовут Огурлиев Анзор, я буду ревьюером твоего проекта. Сразу хочу предложить тебе общаться на \"ты\", если тебе это неудобно, скажи мне об этом. Нам предстоит пройти с тобой через тернистый и от того интересный путь анализа данных! Можешь не переживать, я всегда помогу тебе, если у тебя возникнут вопросы)\n",
    "\n",
    "По ходу твоей работы я буду оставлять свои комментарии, по выполненным тобой шагам. Попрошу тебя не удалять их, так мне будет проще отслеживать твой прогресс в случае повторной проверки. \n",
    "    \n",
    "Очень важно вести диалог и обсуждать те пункты, которые у тебя могли не получиться, поэтому, ты можешь оставлять свои комментарии, и мы обязательно во всем разберемся! Самое главное - выделяй свои комментарии удобным для тебя способом (цвет, рамка), но так, чтобы они отчетлитво отличались от моих комментариев. Так мы ни в чем не запутаемся)\n",
    "\n",
    "Свои комментарии я буду выделять так: <font color='green'>зеленый</font>, <font color='gold'>желтый</font> и <font color='red'>красный</font> цвет, например:\n",
    "\n",
    "<br/>\n",
    "\n",
    "<div class=\"alert alert-success\">\n",
    "<h2> Комментарий ревьюера V1<a class=\"tocSkip\"> </h2>\n",
    "\n",
    "<b>Все отлично!👍:</b> Этот комментарий я буду оставлять, если твое решение оптимально для данного шага.\n",
    "</div>\n",
    "\n",
    "<br/>\n",
    "\n",
    "<div class=\"alert alert-warning\">\n",
    "    <h2> Комментарий ревьюера V1<a class=\"tocSkip\"> </h2>\n",
    "    \n",
    "<b>Некоторые замечания и рекомендации💡:</b> Это не означает, что ты совершил ошибку. Такими комментариями я буду отмечать места, где ты справился с задачей, но её можно решить ещё лучше. Также в таких комментариях я буду оставлять для тебя другие советы.\n",
    "</div>\n",
    "\n",
    "\n",
    "<br/>\n",
    "<div class=\"alert alert-block alert-danger\">\n",
    "<h2> Комментарий ревьюера V1<a class=\"tocSkip\"></h2>\n",
    "\n",
    "    \n",
    "<b>На доработку🤔:</b>\n",
    "Если решение, которое ты применил на определенном шаге, требует значительных изменений, то я буду оставлять такой комментарий. Тебе нужно будет подумать еще раз как правильным образом решить данный этап. Если ревью содержит такие комментарии, то я не смогу принять проект с первого раза.\n",
    "</div>\n",
    "    \n",
    "P.S. В оглавлении комментария ты увидишь `V1` (`V1`, `V2`, `V3`) - это версия моего комментария, которая понадобится нам с тобой, чтобы не запутаться, если потребуется оставить тебе комментарии после первой проверки."
   ]
  },
  {
   "cell_type": "markdown",
   "id": "e45bf06f",
   "metadata": {
    "deletable": false,
    "editable": false,
    "id": "c81daeeb"
   },
   "source": [
    "# Исследование надежности заемщиков\n"
   ]
  },
  {
   "cell_type": "markdown",
   "id": "0b1b910f",
   "metadata": {
    "deletable": false,
    "editable": false,
    "id": "827c20bf"
   },
   "source": [
    "Во второй части проекта вы выполните шаги 3 и 4. Их вручную проверит ревьюер.\n",
    "Чтобы вам не пришлось писать код заново для шагов 1 и 2, мы добавили авторские решения в ячейки с кодом. \n",
    "\n"
   ]
  },
  {
   "cell_type": "markdown",
   "id": "a5eb7e05",
   "metadata": {
    "deletable": false,
    "editable": false,
    "id": "744d7639"
   },
   "source": [
    "## Откройте таблицу и изучите общую информацию о данных"
   ]
  },
  {
   "cell_type": "markdown",
   "id": "b074f8e4",
   "metadata": {
    "deletable": false,
    "editable": false,
    "id": "e7a14c31"
   },
   "source": [
    "**Задание 1. Импортируйте библиотеку pandas. Считайте данные из csv-файла в датафрейм и сохраните в переменную `data`. Путь к файлу:**\n",
    "\n",
    "`/datasets/data.csv`"
   ]
  },
  {
   "cell_type": "code",
   "execution_count": 1,
   "id": "0c2d38a6",
   "metadata": {
    "deletable": false,
    "id": "7bcf75c9"
   },
   "outputs": [],
   "source": [
    "import pandas as pd\n",
    "\n",
    "try:\n",
    "    data = pd.read_csv('/datasets/data.csv')\n",
    "except:\n",
    "    data = pd.read_csv('https://code.s3.yandex.net/datasets/data.csv')"
   ]
  },
  {
   "cell_type": "markdown",
   "id": "69d3dd66",
   "metadata": {
    "deletable": false,
    "editable": false,
    "id": "b8038fe3"
   },
   "source": [
    "**Задание 2. Выведите первые 20 строчек датафрейма `data` на экран.**"
   ]
  },
  {
   "cell_type": "code",
   "execution_count": 2,
   "id": "a85f1f5b",
   "metadata": {
    "deletable": false,
    "id": "2a7cab99",
    "outputId": "1a8f3ef2-d323-4ec2-ddf7-89670b5944c4"
   },
   "outputs": [
    {
     "data": {
      "text/html": [
       "<div>\n",
       "<style scoped>\n",
       "    .dataframe tbody tr th:only-of-type {\n",
       "        vertical-align: middle;\n",
       "    }\n",
       "\n",
       "    .dataframe tbody tr th {\n",
       "        vertical-align: top;\n",
       "    }\n",
       "\n",
       "    .dataframe thead th {\n",
       "        text-align: right;\n",
       "    }\n",
       "</style>\n",
       "<table border=\"1\" class=\"dataframe\">\n",
       "  <thead>\n",
       "    <tr style=\"text-align: right;\">\n",
       "      <th></th>\n",
       "      <th>children</th>\n",
       "      <th>days_employed</th>\n",
       "      <th>dob_years</th>\n",
       "      <th>education</th>\n",
       "      <th>education_id</th>\n",
       "      <th>family_status</th>\n",
       "      <th>family_status_id</th>\n",
       "      <th>gender</th>\n",
       "      <th>income_type</th>\n",
       "      <th>debt</th>\n",
       "      <th>total_income</th>\n",
       "      <th>purpose</th>\n",
       "    </tr>\n",
       "  </thead>\n",
       "  <tbody>\n",
       "    <tr>\n",
       "      <th>0</th>\n",
       "      <td>1</td>\n",
       "      <td>-8437.673028</td>\n",
       "      <td>42</td>\n",
       "      <td>высшее</td>\n",
       "      <td>0</td>\n",
       "      <td>женат / замужем</td>\n",
       "      <td>0</td>\n",
       "      <td>F</td>\n",
       "      <td>сотрудник</td>\n",
       "      <td>0</td>\n",
       "      <td>253875.639453</td>\n",
       "      <td>покупка жилья</td>\n",
       "    </tr>\n",
       "    <tr>\n",
       "      <th>1</th>\n",
       "      <td>1</td>\n",
       "      <td>-4024.803754</td>\n",
       "      <td>36</td>\n",
       "      <td>среднее</td>\n",
       "      <td>1</td>\n",
       "      <td>женат / замужем</td>\n",
       "      <td>0</td>\n",
       "      <td>F</td>\n",
       "      <td>сотрудник</td>\n",
       "      <td>0</td>\n",
       "      <td>112080.014102</td>\n",
       "      <td>приобретение автомобиля</td>\n",
       "    </tr>\n",
       "    <tr>\n",
       "      <th>2</th>\n",
       "      <td>0</td>\n",
       "      <td>-5623.422610</td>\n",
       "      <td>33</td>\n",
       "      <td>Среднее</td>\n",
       "      <td>1</td>\n",
       "      <td>женат / замужем</td>\n",
       "      <td>0</td>\n",
       "      <td>M</td>\n",
       "      <td>сотрудник</td>\n",
       "      <td>0</td>\n",
       "      <td>145885.952297</td>\n",
       "      <td>покупка жилья</td>\n",
       "    </tr>\n",
       "    <tr>\n",
       "      <th>3</th>\n",
       "      <td>3</td>\n",
       "      <td>-4124.747207</td>\n",
       "      <td>32</td>\n",
       "      <td>среднее</td>\n",
       "      <td>1</td>\n",
       "      <td>женат / замужем</td>\n",
       "      <td>0</td>\n",
       "      <td>M</td>\n",
       "      <td>сотрудник</td>\n",
       "      <td>0</td>\n",
       "      <td>267628.550329</td>\n",
       "      <td>дополнительное образование</td>\n",
       "    </tr>\n",
       "    <tr>\n",
       "      <th>4</th>\n",
       "      <td>0</td>\n",
       "      <td>340266.072047</td>\n",
       "      <td>53</td>\n",
       "      <td>среднее</td>\n",
       "      <td>1</td>\n",
       "      <td>гражданский брак</td>\n",
       "      <td>1</td>\n",
       "      <td>F</td>\n",
       "      <td>пенсионер</td>\n",
       "      <td>0</td>\n",
       "      <td>158616.077870</td>\n",
       "      <td>сыграть свадьбу</td>\n",
       "    </tr>\n",
       "    <tr>\n",
       "      <th>5</th>\n",
       "      <td>0</td>\n",
       "      <td>-926.185831</td>\n",
       "      <td>27</td>\n",
       "      <td>высшее</td>\n",
       "      <td>0</td>\n",
       "      <td>гражданский брак</td>\n",
       "      <td>1</td>\n",
       "      <td>M</td>\n",
       "      <td>компаньон</td>\n",
       "      <td>0</td>\n",
       "      <td>255763.565419</td>\n",
       "      <td>покупка жилья</td>\n",
       "    </tr>\n",
       "    <tr>\n",
       "      <th>6</th>\n",
       "      <td>0</td>\n",
       "      <td>-2879.202052</td>\n",
       "      <td>43</td>\n",
       "      <td>высшее</td>\n",
       "      <td>0</td>\n",
       "      <td>женат / замужем</td>\n",
       "      <td>0</td>\n",
       "      <td>F</td>\n",
       "      <td>компаньон</td>\n",
       "      <td>0</td>\n",
       "      <td>240525.971920</td>\n",
       "      <td>операции с жильем</td>\n",
       "    </tr>\n",
       "    <tr>\n",
       "      <th>7</th>\n",
       "      <td>0</td>\n",
       "      <td>-152.779569</td>\n",
       "      <td>50</td>\n",
       "      <td>СРЕДНЕЕ</td>\n",
       "      <td>1</td>\n",
       "      <td>женат / замужем</td>\n",
       "      <td>0</td>\n",
       "      <td>M</td>\n",
       "      <td>сотрудник</td>\n",
       "      <td>0</td>\n",
       "      <td>135823.934197</td>\n",
       "      <td>образование</td>\n",
       "    </tr>\n",
       "    <tr>\n",
       "      <th>8</th>\n",
       "      <td>2</td>\n",
       "      <td>-6929.865299</td>\n",
       "      <td>35</td>\n",
       "      <td>ВЫСШЕЕ</td>\n",
       "      <td>0</td>\n",
       "      <td>гражданский брак</td>\n",
       "      <td>1</td>\n",
       "      <td>F</td>\n",
       "      <td>сотрудник</td>\n",
       "      <td>0</td>\n",
       "      <td>95856.832424</td>\n",
       "      <td>на проведение свадьбы</td>\n",
       "    </tr>\n",
       "    <tr>\n",
       "      <th>9</th>\n",
       "      <td>0</td>\n",
       "      <td>-2188.756445</td>\n",
       "      <td>41</td>\n",
       "      <td>среднее</td>\n",
       "      <td>1</td>\n",
       "      <td>женат / замужем</td>\n",
       "      <td>0</td>\n",
       "      <td>M</td>\n",
       "      <td>сотрудник</td>\n",
       "      <td>0</td>\n",
       "      <td>144425.938277</td>\n",
       "      <td>покупка жилья для семьи</td>\n",
       "    </tr>\n",
       "    <tr>\n",
       "      <th>10</th>\n",
       "      <td>2</td>\n",
       "      <td>-4171.483647</td>\n",
       "      <td>36</td>\n",
       "      <td>высшее</td>\n",
       "      <td>0</td>\n",
       "      <td>женат / замужем</td>\n",
       "      <td>0</td>\n",
       "      <td>M</td>\n",
       "      <td>компаньон</td>\n",
       "      <td>0</td>\n",
       "      <td>113943.491460</td>\n",
       "      <td>покупка недвижимости</td>\n",
       "    </tr>\n",
       "    <tr>\n",
       "      <th>11</th>\n",
       "      <td>0</td>\n",
       "      <td>-792.701887</td>\n",
       "      <td>40</td>\n",
       "      <td>среднее</td>\n",
       "      <td>1</td>\n",
       "      <td>женат / замужем</td>\n",
       "      <td>0</td>\n",
       "      <td>F</td>\n",
       "      <td>сотрудник</td>\n",
       "      <td>0</td>\n",
       "      <td>77069.234271</td>\n",
       "      <td>покупка коммерческой недвижимости</td>\n",
       "    </tr>\n",
       "    <tr>\n",
       "      <th>12</th>\n",
       "      <td>0</td>\n",
       "      <td>NaN</td>\n",
       "      <td>65</td>\n",
       "      <td>среднее</td>\n",
       "      <td>1</td>\n",
       "      <td>гражданский брак</td>\n",
       "      <td>1</td>\n",
       "      <td>M</td>\n",
       "      <td>пенсионер</td>\n",
       "      <td>0</td>\n",
       "      <td>NaN</td>\n",
       "      <td>сыграть свадьбу</td>\n",
       "    </tr>\n",
       "    <tr>\n",
       "      <th>13</th>\n",
       "      <td>0</td>\n",
       "      <td>-1846.641941</td>\n",
       "      <td>54</td>\n",
       "      <td>неоконченное высшее</td>\n",
       "      <td>2</td>\n",
       "      <td>женат / замужем</td>\n",
       "      <td>0</td>\n",
       "      <td>F</td>\n",
       "      <td>сотрудник</td>\n",
       "      <td>0</td>\n",
       "      <td>130458.228857</td>\n",
       "      <td>приобретение автомобиля</td>\n",
       "    </tr>\n",
       "    <tr>\n",
       "      <th>14</th>\n",
       "      <td>0</td>\n",
       "      <td>-1844.956182</td>\n",
       "      <td>56</td>\n",
       "      <td>высшее</td>\n",
       "      <td>0</td>\n",
       "      <td>гражданский брак</td>\n",
       "      <td>1</td>\n",
       "      <td>F</td>\n",
       "      <td>компаньон</td>\n",
       "      <td>1</td>\n",
       "      <td>165127.911772</td>\n",
       "      <td>покупка жилой недвижимости</td>\n",
       "    </tr>\n",
       "    <tr>\n",
       "      <th>15</th>\n",
       "      <td>1</td>\n",
       "      <td>-972.364419</td>\n",
       "      <td>26</td>\n",
       "      <td>среднее</td>\n",
       "      <td>1</td>\n",
       "      <td>женат / замужем</td>\n",
       "      <td>0</td>\n",
       "      <td>F</td>\n",
       "      <td>сотрудник</td>\n",
       "      <td>0</td>\n",
       "      <td>116820.904450</td>\n",
       "      <td>строительство собственной недвижимости</td>\n",
       "    </tr>\n",
       "    <tr>\n",
       "      <th>16</th>\n",
       "      <td>0</td>\n",
       "      <td>-1719.934226</td>\n",
       "      <td>35</td>\n",
       "      <td>среднее</td>\n",
       "      <td>1</td>\n",
       "      <td>женат / замужем</td>\n",
       "      <td>0</td>\n",
       "      <td>F</td>\n",
       "      <td>сотрудник</td>\n",
       "      <td>0</td>\n",
       "      <td>289202.704229</td>\n",
       "      <td>недвижимость</td>\n",
       "    </tr>\n",
       "    <tr>\n",
       "      <th>17</th>\n",
       "      <td>0</td>\n",
       "      <td>-2369.999720</td>\n",
       "      <td>33</td>\n",
       "      <td>высшее</td>\n",
       "      <td>0</td>\n",
       "      <td>гражданский брак</td>\n",
       "      <td>1</td>\n",
       "      <td>M</td>\n",
       "      <td>сотрудник</td>\n",
       "      <td>0</td>\n",
       "      <td>90410.586745</td>\n",
       "      <td>строительство недвижимости</td>\n",
       "    </tr>\n",
       "    <tr>\n",
       "      <th>18</th>\n",
       "      <td>0</td>\n",
       "      <td>400281.136913</td>\n",
       "      <td>53</td>\n",
       "      <td>среднее</td>\n",
       "      <td>1</td>\n",
       "      <td>вдовец / вдова</td>\n",
       "      <td>2</td>\n",
       "      <td>F</td>\n",
       "      <td>пенсионер</td>\n",
       "      <td>0</td>\n",
       "      <td>56823.777243</td>\n",
       "      <td>на покупку подержанного автомобиля</td>\n",
       "    </tr>\n",
       "    <tr>\n",
       "      <th>19</th>\n",
       "      <td>0</td>\n",
       "      <td>-10038.818549</td>\n",
       "      <td>48</td>\n",
       "      <td>СРЕДНЕЕ</td>\n",
       "      <td>1</td>\n",
       "      <td>в разводе</td>\n",
       "      <td>3</td>\n",
       "      <td>F</td>\n",
       "      <td>сотрудник</td>\n",
       "      <td>0</td>\n",
       "      <td>242831.107982</td>\n",
       "      <td>на покупку своего автомобиля</td>\n",
       "    </tr>\n",
       "  </tbody>\n",
       "</table>\n",
       "</div>"
      ],
      "text/plain": [
       "    children  days_employed  dob_years            education  education_id  \\\n",
       "0          1   -8437.673028         42               высшее             0   \n",
       "1          1   -4024.803754         36              среднее             1   \n",
       "2          0   -5623.422610         33              Среднее             1   \n",
       "3          3   -4124.747207         32              среднее             1   \n",
       "4          0  340266.072047         53              среднее             1   \n",
       "5          0    -926.185831         27               высшее             0   \n",
       "6          0   -2879.202052         43               высшее             0   \n",
       "7          0    -152.779569         50              СРЕДНЕЕ             1   \n",
       "8          2   -6929.865299         35               ВЫСШЕЕ             0   \n",
       "9          0   -2188.756445         41              среднее             1   \n",
       "10         2   -4171.483647         36               высшее             0   \n",
       "11         0    -792.701887         40              среднее             1   \n",
       "12         0            NaN         65              среднее             1   \n",
       "13         0   -1846.641941         54  неоконченное высшее             2   \n",
       "14         0   -1844.956182         56               высшее             0   \n",
       "15         1    -972.364419         26              среднее             1   \n",
       "16         0   -1719.934226         35              среднее             1   \n",
       "17         0   -2369.999720         33               высшее             0   \n",
       "18         0  400281.136913         53              среднее             1   \n",
       "19         0  -10038.818549         48              СРЕДНЕЕ             1   \n",
       "\n",
       "       family_status  family_status_id gender income_type  debt  \\\n",
       "0    женат / замужем                 0      F   сотрудник     0   \n",
       "1    женат / замужем                 0      F   сотрудник     0   \n",
       "2    женат / замужем                 0      M   сотрудник     0   \n",
       "3    женат / замужем                 0      M   сотрудник     0   \n",
       "4   гражданский брак                 1      F   пенсионер     0   \n",
       "5   гражданский брак                 1      M   компаньон     0   \n",
       "6    женат / замужем                 0      F   компаньон     0   \n",
       "7    женат / замужем                 0      M   сотрудник     0   \n",
       "8   гражданский брак                 1      F   сотрудник     0   \n",
       "9    женат / замужем                 0      M   сотрудник     0   \n",
       "10   женат / замужем                 0      M   компаньон     0   \n",
       "11   женат / замужем                 0      F   сотрудник     0   \n",
       "12  гражданский брак                 1      M   пенсионер     0   \n",
       "13   женат / замужем                 0      F   сотрудник     0   \n",
       "14  гражданский брак                 1      F   компаньон     1   \n",
       "15   женат / замужем                 0      F   сотрудник     0   \n",
       "16   женат / замужем                 0      F   сотрудник     0   \n",
       "17  гражданский брак                 1      M   сотрудник     0   \n",
       "18    вдовец / вдова                 2      F   пенсионер     0   \n",
       "19         в разводе                 3      F   сотрудник     0   \n",
       "\n",
       "     total_income                                 purpose  \n",
       "0   253875.639453                           покупка жилья  \n",
       "1   112080.014102                 приобретение автомобиля  \n",
       "2   145885.952297                           покупка жилья  \n",
       "3   267628.550329              дополнительное образование  \n",
       "4   158616.077870                         сыграть свадьбу  \n",
       "5   255763.565419                           покупка жилья  \n",
       "6   240525.971920                       операции с жильем  \n",
       "7   135823.934197                             образование  \n",
       "8    95856.832424                   на проведение свадьбы  \n",
       "9   144425.938277                 покупка жилья для семьи  \n",
       "10  113943.491460                    покупка недвижимости  \n",
       "11   77069.234271       покупка коммерческой недвижимости  \n",
       "12            NaN                         сыграть свадьбу  \n",
       "13  130458.228857                 приобретение автомобиля  \n",
       "14  165127.911772              покупка жилой недвижимости  \n",
       "15  116820.904450  строительство собственной недвижимости  \n",
       "16  289202.704229                            недвижимость  \n",
       "17   90410.586745              строительство недвижимости  \n",
       "18   56823.777243      на покупку подержанного автомобиля  \n",
       "19  242831.107982            на покупку своего автомобиля  "
      ]
     },
     "execution_count": 2,
     "metadata": {},
     "output_type": "execute_result"
    }
   ],
   "source": [
    "data.head(20)"
   ]
  },
  {
   "cell_type": "markdown",
   "id": "c1cf25ba",
   "metadata": {
    "deletable": false,
    "editable": false,
    "id": "1c12e233"
   },
   "source": [
    "**Задание 3. Выведите основную информацию о датафрейме с помощью метода `info()`.**"
   ]
  },
  {
   "cell_type": "code",
   "execution_count": 3,
   "id": "6b621367",
   "metadata": {
    "deletable": false,
    "id": "2b757bca",
    "outputId": "15376089-8dad-46c9-b520-c05248d43158"
   },
   "outputs": [
    {
     "name": "stdout",
     "output_type": "stream",
     "text": [
      "<class 'pandas.core.frame.DataFrame'>\n",
      "RangeIndex: 21525 entries, 0 to 21524\n",
      "Data columns (total 12 columns):\n",
      " #   Column            Non-Null Count  Dtype  \n",
      "---  ------            --------------  -----  \n",
      " 0   children          21525 non-null  int64  \n",
      " 1   days_employed     19351 non-null  float64\n",
      " 2   dob_years         21525 non-null  int64  \n",
      " 3   education         21525 non-null  object \n",
      " 4   education_id      21525 non-null  int64  \n",
      " 5   family_status     21525 non-null  object \n",
      " 6   family_status_id  21525 non-null  int64  \n",
      " 7   gender            21525 non-null  object \n",
      " 8   income_type       21525 non-null  object \n",
      " 9   debt              21525 non-null  int64  \n",
      " 10  total_income      19351 non-null  float64\n",
      " 11  purpose           21525 non-null  object \n",
      "dtypes: float64(2), int64(5), object(5)\n",
      "memory usage: 2.0+ MB\n"
     ]
    }
   ],
   "source": [
    "data.info()"
   ]
  },
  {
   "cell_type": "markdown",
   "id": "d73aeb2f",
   "metadata": {
    "deletable": false,
    "editable": false,
    "id": "333ec665"
   },
   "source": [
    "## Предобработка данных"
   ]
  },
  {
   "cell_type": "markdown",
   "id": "2fb78a0b",
   "metadata": {
    "deletable": false,
    "editable": false,
    "id": "02d92d53"
   },
   "source": [
    "### Удаление пропусков"
   ]
  },
  {
   "cell_type": "markdown",
   "id": "3a58f68f",
   "metadata": {
    "deletable": false,
    "editable": false,
    "id": "cd84967c"
   },
   "source": [
    "**Задание 4. Выведите количество пропущенных значений для каждого столбца. Используйте комбинацию двух методов.**"
   ]
  },
  {
   "cell_type": "code",
   "execution_count": 4,
   "id": "4564db3d",
   "metadata": {
    "deletable": false,
    "id": "7f9b2309",
    "outputId": "81f4d817-781c-465c-ed15-91ce4446810d"
   },
   "outputs": [
    {
     "data": {
      "text/plain": [
       "children               0\n",
       "days_employed       2174\n",
       "dob_years              0\n",
       "education              0\n",
       "education_id           0\n",
       "family_status          0\n",
       "family_status_id       0\n",
       "gender                 0\n",
       "income_type            0\n",
       "debt                   0\n",
       "total_income        2174\n",
       "purpose                0\n",
       "dtype: int64"
      ]
     },
     "execution_count": 4,
     "metadata": {},
     "output_type": "execute_result"
    }
   ],
   "source": [
    "data.isna().sum()"
   ]
  },
  {
   "cell_type": "markdown",
   "id": "d01af68c",
   "metadata": {
    "deletable": false,
    "editable": false,
    "id": "db86e27b"
   },
   "source": [
    "**Задание 5. В двух столбцах есть пропущенные значения. Один из них — `days_employed`. Пропуски в этом столбце вы обработаете на следующем этапе. Другой столбец с пропущенными значениями — `total_income` — хранит данные о доходах. На сумму дохода сильнее всего влияет тип занятости, поэтому заполнить пропуски в этом столбце нужно медианным значением по каждому типу из столбца `income_type`. Например, у человека с типом занятости `сотрудник` пропуск в столбце `total_income` должен быть заполнен медианным доходом среди всех записей с тем же типом.**"
   ]
  },
  {
   "cell_type": "code",
   "execution_count": 5,
   "id": "d27926f4",
   "metadata": {
    "deletable": false,
    "id": "42006a93"
   },
   "outputs": [],
   "source": [
    "for t in data['income_type'].unique():\n",
    "    data.loc[(data['income_type'] == t) & (data['total_income'].isna()), 'total_income'] = \\\n",
    "    data.loc[(data['income_type'] == t), 'total_income'].median()"
   ]
  },
  {
   "cell_type": "markdown",
   "id": "2b31e612",
   "metadata": {
    "deletable": false,
    "editable": false,
    "id": "89da5ece"
   },
   "source": [
    "### Обработка аномальных значений"
   ]
  },
  {
   "cell_type": "markdown",
   "id": "bb9beaea",
   "metadata": {
    "deletable": false,
    "editable": false,
    "id": "57964554"
   },
   "source": [
    "**Задание 6. В данных могут встречаться артефакты (аномалии) — значения, которые не отражают действительность и появились по какой-то ошибке. таким артефактом будет отрицательное количество дней трудового стажа в столбце `days_employed`. Для реальных данных это нормально. Обработайте значения в этом столбце: замените все отрицательные значения положительными с помощью метода `abs()`.**"
   ]
  },
  {
   "cell_type": "code",
   "execution_count": 6,
   "id": "064b504b",
   "metadata": {
    "deletable": false,
    "id": "f6f055bf"
   },
   "outputs": [],
   "source": [
    "data['days_employed'] = data['days_employed'].abs()"
   ]
  },
  {
   "cell_type": "markdown",
   "id": "2ba6d62e",
   "metadata": {
    "deletable": false,
    "editable": false,
    "id": "6107dd2f"
   },
   "source": [
    "**Задание 7. Для каждого типа занятости выведите медианное значение трудового стажа `days_employed` в днях.**"
   ]
  },
  {
   "cell_type": "code",
   "execution_count": 7,
   "id": "b1ba4633",
   "metadata": {
    "deletable": false,
    "id": "85a5faf6",
    "outputId": "801ef80e-522b-4668-f34e-565af7432bcf"
   },
   "outputs": [
    {
     "data": {
      "text/plain": [
       "income_type\n",
       "безработный        366413.652744\n",
       "в декрете            3296.759962\n",
       "госслужащий          2689.368353\n",
       "компаньон            1547.382223\n",
       "пенсионер          365213.306266\n",
       "предприниматель       520.848083\n",
       "сотрудник            1574.202821\n",
       "студент               578.751554\n",
       "Name: days_employed, dtype: float64"
      ]
     },
     "execution_count": 7,
     "metadata": {},
     "output_type": "execute_result"
    }
   ],
   "source": [
    "data.groupby('income_type')['days_employed'].agg('median')"
   ]
  },
  {
   "cell_type": "markdown",
   "id": "d15de7ac",
   "metadata": {
    "deletable": false,
    "editable": false,
    "id": "38d1a030"
   },
   "source": [
    "У двух типов (безработные и пенсионеры) получатся аномально большие значения. Исправить такие значения сложно, поэтому оставьте их как есть. Тем более этот столбец не понадобится вам для исследования."
   ]
  },
  {
   "cell_type": "markdown",
   "id": "1e54e648",
   "metadata": {
    "deletable": false,
    "editable": false,
    "id": "d8a9f147"
   },
   "source": [
    "**Задание 8. Выведите перечень уникальных значений столбца `children`.**"
   ]
  },
  {
   "cell_type": "code",
   "execution_count": 8,
   "id": "4ef07e15",
   "metadata": {
    "deletable": false,
    "id": "ef5056eb",
    "outputId": "6975b15c-7f95-4697-d16d-a0c79b657b03"
   },
   "outputs": [
    {
     "data": {
      "text/plain": [
       "array([ 1,  0,  3,  2, -1,  4, 20,  5])"
      ]
     },
     "execution_count": 8,
     "metadata": {},
     "output_type": "execute_result"
    }
   ],
   "source": [
    "data['children'].unique()"
   ]
  },
  {
   "cell_type": "markdown",
   "id": "38a4026f",
   "metadata": {
    "deletable": false,
    "editable": false,
    "id": "40b9ebf2"
   },
   "source": [
    "**Задание 9. В столбце `children` есть два аномальных значения. Удалите строки, в которых встречаются такие аномальные значения из датафрейма `data`.**"
   ]
  },
  {
   "cell_type": "code",
   "execution_count": 9,
   "id": "045ce5ab",
   "metadata": {
    "deletable": false,
    "id": "3ff9801d"
   },
   "outputs": [],
   "source": [
    "data = data[(data['children'] != -1) & (data['children'] != 20)]"
   ]
  },
  {
   "cell_type": "markdown",
   "id": "9a00e121",
   "metadata": {
    "deletable": false,
    "editable": false,
    "id": "bbc4d0ce"
   },
   "source": [
    "**Задание 10. Ещё раз выведите перечень уникальных значений столбца `children`, чтобы убедиться, что артефакты удалены.**"
   ]
  },
  {
   "cell_type": "code",
   "execution_count": 10,
   "id": "bb67e63b",
   "metadata": {
    "deletable": false,
    "id": "ad4fa8b7",
    "outputId": "b2097101-d49d-44d9-901b-32a65c9463d1"
   },
   "outputs": [
    {
     "data": {
      "text/plain": [
       "array([1, 0, 3, 2, 4, 5])"
      ]
     },
     "execution_count": 10,
     "metadata": {},
     "output_type": "execute_result"
    }
   ],
   "source": [
    "data['children'].unique()"
   ]
  },
  {
   "cell_type": "markdown",
   "id": "c0057c8a",
   "metadata": {
    "deletable": false,
    "editable": false,
    "id": "75440b63"
   },
   "source": [
    "### Удаление пропусков (продолжение)"
   ]
  },
  {
   "cell_type": "markdown",
   "id": "4bf66bbf",
   "metadata": {
    "deletable": false,
    "editable": false,
    "id": "f4ea573f"
   },
   "source": [
    "**Задание 11. Заполните пропуски в столбце `days_employed` медианными значениями по каждого типа занятости `income_type`.**"
   ]
  },
  {
   "cell_type": "code",
   "execution_count": 11,
   "id": "080bb48d",
   "metadata": {
    "deletable": false,
    "id": "af6b1a7e"
   },
   "outputs": [],
   "source": [
    "for t in data['income_type'].unique():\n",
    "    data.loc[(data['income_type'] == t) & (data['days_employed'].isna()), 'days_employed'] = \\\n",
    "    data.loc[(data['income_type'] == t), 'days_employed'].median()"
   ]
  },
  {
   "cell_type": "markdown",
   "id": "cc9649ea",
   "metadata": {
    "deletable": false,
    "editable": false,
    "id": "2753f40d"
   },
   "source": [
    "**Задание 12. Убедитесь, что все пропуски заполнены. Проверьте себя и ещё раз выведите количество пропущенных значений для каждого столбца с помощью двух методов.**"
   ]
  },
  {
   "cell_type": "code",
   "execution_count": 12,
   "id": "fe16e202",
   "metadata": {
    "deletable": false,
    "id": "55f78bc2",
    "outputId": "8da1e4e1-358e-4e87-98c9-f261bce0a7b2"
   },
   "outputs": [
    {
     "data": {
      "text/plain": [
       "children            0\n",
       "days_employed       0\n",
       "dob_years           0\n",
       "education           0\n",
       "education_id        0\n",
       "family_status       0\n",
       "family_status_id    0\n",
       "gender              0\n",
       "income_type         0\n",
       "debt                0\n",
       "total_income        0\n",
       "purpose             0\n",
       "dtype: int64"
      ]
     },
     "execution_count": 12,
     "metadata": {},
     "output_type": "execute_result"
    }
   ],
   "source": [
    "data.isna().sum()"
   ]
  },
  {
   "cell_type": "markdown",
   "id": "d03bc559",
   "metadata": {
    "deletable": false,
    "editable": false,
    "id": "ddc81e43"
   },
   "source": [
    "### Изменение типов данных"
   ]
  },
  {
   "cell_type": "markdown",
   "id": "41b46b66",
   "metadata": {
    "deletable": false,
    "editable": false,
    "id": "42d19d24"
   },
   "source": [
    "**Задание 13. Замените вещественный тип данных в столбце `total_income` на целочисленный с помощью метода `astype()`.**"
   ]
  },
  {
   "cell_type": "code",
   "execution_count": 13,
   "id": "fe0be946",
   "metadata": {
    "deletable": false,
    "id": "920b65ad"
   },
   "outputs": [],
   "source": [
    "data['total_income'] = data['total_income'].astype(int)"
   ]
  },
  {
   "cell_type": "markdown",
   "id": "71d56206",
   "metadata": {
    "deletable": false,
    "editable": false,
    "id": "80c420ba"
   },
   "source": [
    "### Обработка дубликатов"
   ]
  },
  {
   "cell_type": "markdown",
   "id": "5c89bf42",
   "metadata": {
    "deletable": false,
    "editable": false
   },
   "source": [
    "**Задание 14. Обработайте неявные дубликаты в столбце `education`. В этом столбце есть одни и те же значения, но записанные по-разному: с использованием заглавных и строчных букв. Приведите их к нижнему регистру. Проверьте остальные столбцы.**"
   ]
  },
  {
   "cell_type": "code",
   "execution_count": 14,
   "id": "c1dfefed",
   "metadata": {
    "deletable": false
   },
   "outputs": [],
   "source": [
    "data['education'] = data['education'].str.lower()"
   ]
  },
  {
   "cell_type": "markdown",
   "id": "f75a4d5a",
   "metadata": {
    "deletable": false,
    "editable": false,
    "id": "dc587695"
   },
   "source": [
    "**Задание 15. Выведите на экран количество строк-дубликатов в данных. Если такие строки присутствуют, удалите их.**"
   ]
  },
  {
   "cell_type": "code",
   "execution_count": 15,
   "id": "39601f72",
   "metadata": {
    "deletable": false,
    "id": "3ee445e4",
    "outputId": "9684deba-1934-42d1-99e1-cda61740f822"
   },
   "outputs": [
    {
     "data": {
      "text/plain": [
       "71"
      ]
     },
     "execution_count": 15,
     "metadata": {},
     "output_type": "execute_result"
    }
   ],
   "source": [
    "data.duplicated().sum()"
   ]
  },
  {
   "cell_type": "code",
   "execution_count": 16,
   "id": "347a9205",
   "metadata": {
    "deletable": false,
    "id": "8575fe05"
   },
   "outputs": [
    {
     "data": {
      "text/plain": [
       "0"
      ]
     },
     "execution_count": 16,
     "metadata": {},
     "output_type": "execute_result"
    }
   ],
   "source": [
    "data = data.drop_duplicates()\n",
    "data.duplicated().sum()"
   ]
  },
  {
   "cell_type": "markdown",
   "id": "e218996e",
   "metadata": {
    "deletable": false,
    "editable": false,
    "id": "9904cf55"
   },
   "source": [
    "### Категоризация данных"
   ]
  },
  {
   "cell_type": "markdown",
   "id": "d9f870d9",
   "metadata": {
    "deletable": false,
    "editable": false,
    "id": "72fcc8a2"
   },
   "source": [
    "**Задание 16. На основании диапазонов, указанных ниже, создайте в датафрейме `data` столбец `total_income_category` с категориями:**\n",
    "\n",
    "- 0–30000 — `'E'`;\n",
    "- 30001–50000 — `'D'`;\n",
    "- 50001–200000 — `'C'`;\n",
    "- 200001–1000000 — `'B'`;\n",
    "- 1000001 и выше — `'A'`.\n",
    "\n",
    "\n",
    "**Например, кредитополучателю с доходом 25000 нужно назначить категорию `'E'`, а клиенту, получающему 235000, — `'B'`. Используйте собственную функцию с именем `categorize_income()` и метод `apply()`.**"
   ]
  },
  {
   "cell_type": "code",
   "execution_count": 17,
   "id": "183615ae",
   "metadata": {
    "deletable": false,
    "id": "e1771346"
   },
   "outputs": [],
   "source": [
    "def categorize_income(income):\n",
    "    try:\n",
    "        if 0 <= income <= 30000:\n",
    "            return 'E'\n",
    "        elif 30001 <= income <= 50000:\n",
    "            return 'D'\n",
    "        elif 50001 <= income <= 200000:\n",
    "            return 'C'\n",
    "        elif 200001 <= income <= 1000000:\n",
    "            return 'B'\n",
    "        elif income >= 1000001:\n",
    "            return 'A'\n",
    "    except:\n",
    "        pass"
   ]
  },
  {
   "cell_type": "code",
   "execution_count": 18,
   "id": "53cd1226",
   "metadata": {
    "deletable": false,
    "id": "d5f3586d"
   },
   "outputs": [],
   "source": [
    "data['total_income_category'] = data['total_income'].apply(categorize_income)"
   ]
  },
  {
   "cell_type": "markdown",
   "id": "93867e24",
   "metadata": {
    "deletable": false,
    "editable": false,
    "id": "dde49b5c"
   },
   "source": [
    "**Задание 17. Выведите на экран перечень уникальных целей взятия кредита из столбца `purpose`.**"
   ]
  },
  {
   "cell_type": "code",
   "execution_count": 19,
   "id": "c2c26ef9",
   "metadata": {
    "deletable": false,
    "id": "f67ce9b3",
    "outputId": "673c12d9-7d7e-4ae0-9812-c622c89dd244"
   },
   "outputs": [
    {
     "data": {
      "text/plain": [
       "array(['покупка жилья', 'приобретение автомобиля',\n",
       "       'дополнительное образование', 'сыграть свадьбу',\n",
       "       'операции с жильем', 'образование', 'на проведение свадьбы',\n",
       "       'покупка жилья для семьи', 'покупка недвижимости',\n",
       "       'покупка коммерческой недвижимости', 'покупка жилой недвижимости',\n",
       "       'строительство собственной недвижимости', 'недвижимость',\n",
       "       'строительство недвижимости', 'на покупку подержанного автомобиля',\n",
       "       'на покупку своего автомобиля',\n",
       "       'операции с коммерческой недвижимостью',\n",
       "       'строительство жилой недвижимости', 'жилье',\n",
       "       'операции со своей недвижимостью', 'автомобили',\n",
       "       'заняться образованием', 'сделка с подержанным автомобилем',\n",
       "       'получение образования', 'автомобиль', 'свадьба',\n",
       "       'получение дополнительного образования', 'покупка своего жилья',\n",
       "       'операции с недвижимостью', 'получение высшего образования',\n",
       "       'свой автомобиль', 'сделка с автомобилем',\n",
       "       'профильное образование', 'высшее образование',\n",
       "       'покупка жилья для сдачи', 'на покупку автомобиля', 'ремонт жилью',\n",
       "       'заняться высшим образованием'], dtype=object)"
      ]
     },
     "execution_count": 19,
     "metadata": {},
     "output_type": "execute_result"
    }
   ],
   "source": [
    "data['purpose'].unique()"
   ]
  },
  {
   "cell_type": "markdown",
   "id": "ca9cd0b2",
   "metadata": {
    "deletable": false,
    "editable": false,
    "id": "85d0aef0"
   },
   "source": [
    "**Задание 18. Создайте функцию, которая на основании данных из столбца `purpose` сформирует новый столбец `purpose_category`, в который войдут следующие категории:**\n",
    "\n",
    "- `'операции с автомобилем'`,\n",
    "- `'операции с недвижимостью'`,\n",
    "- `'проведение свадьбы'`,\n",
    "- `'получение образования'`.\n",
    "\n",
    "**Например, если в столбце `purpose` находится подстрока `'на покупку автомобиля'`, то в столбце `purpose_category` должна появиться строка `'операции с автомобилем'`.**\n",
    "\n",
    "**Используйте собственную функцию с именем `categorize_purpose()` и метод `apply()`. Изучите данные в столбце `purpose` и определите, какие подстроки помогут вам правильно определить категорию.**"
   ]
  },
  {
   "cell_type": "code",
   "execution_count": 20,
   "id": "036cbd34",
   "metadata": {
    "deletable": false,
    "id": "e149fab4"
   },
   "outputs": [],
   "source": [
    "def categorize_purpose(row):\n",
    "    try:\n",
    "        if 'автом' in row:\n",
    "            return 'операции с автомобилем'\n",
    "        elif 'жил' in row or 'недвиж' in row:\n",
    "            return 'операции с недвижимостью'\n",
    "        elif 'свад' in row:\n",
    "            return 'проведение свадьбы'\n",
    "        elif 'образов' in row:\n",
    "            return 'получение образования'\n",
    "    except:\n",
    "        return 'нет категории'"
   ]
  },
  {
   "cell_type": "code",
   "execution_count": 21,
   "id": "84f06685",
   "metadata": {
    "deletable": false,
    "id": "bf36e69b"
   },
   "outputs": [],
   "source": [
    "data['purpose_category'] = data['purpose'].apply(categorize_purpose)"
   ]
  },
  {
   "cell_type": "markdown",
   "id": "3691925c",
   "metadata": {
    "deletable": false,
    "editable": false,
    "id": "09b242bf"
   },
   "source": [
    "### Шаг 3. Исследуйте данные и ответьте на вопросы"
   ]
  },
  {
   "cell_type": "markdown",
   "id": "99449d70",
   "metadata": {
    "deletable": false,
    "editable": false,
    "id": "c5d66278"
   },
   "source": [
    "#### 3.1 Есть ли зависимость между количеством детей и возвратом кредита в срок?"
   ]
  },
  {
   "cell_type": "code",
   "execution_count": 22,
   "id": "602709db",
   "metadata": {
    "deletable": false,
    "id": "2cacfc4a"
   },
   "outputs": [
    {
     "name": "stdout",
     "output_type": "stream",
     "text": [
      "   children  number_clients  clients_arrears  probability_delay\n",
      "0         0           14091             1063           0.075438\n",
      "1         1            4808              444           0.092346\n",
      "2         2            2052              194           0.094542\n",
      "3         3             330              303           0.918182\n",
      "4         4              41               37           0.902439\n",
      "5         5               9                0           0.000000\n"
     ]
    },
    {
     "data": {
      "image/png": "[encoded data removed]",
      "text/plain": [
       "<Figure size 432x288 with 1 Axes>"
      ]
     },
     "metadata": {
      "needs_background": "light"
     },
     "output_type": "display_data"
    }
   ],
   "source": [
    "import seaborn as sns\n",
    "sns.lineplot(x = data['children'], y = data['debt'])\n",
    "#print(data.groupby('children')['debt'].value_counts())\n",
    "#print(data['children'].value_counts().sort_values())\n",
    "data_pt = data.pivot_table(index=['children'], values ='debt', aggfunc='count')\n",
    "data_pt['clients_arrears'] = [1063, 444, 194, 303, 37, 0]\n",
    "data_pt['probability_delay'] = data_pt['clients_arrears'] / data_pt['debt']\n",
    "data_pt = data_pt.rename(columns={'debt' : 'number_clients'})\n",
    "print(data_pt.reset_index())\n",
    "# Ваш код будет здесь. Вы можете создавать новые ячейки."
   ]
  },
  {
   "cell_type": "markdown",
   "id": "8d4ace65",
   "metadata": {},
   "source": [
    "<div class=\"alert alert-warning\">\n",
    "    <h2> Комментарий ревьюера V1<a class=\"tocSkip\"> </h2>\n",
    "    \n",
    "<b>Некоторые замечания и рекомендации💡:</b> Отлично, что ты визуализировал зависимость! Вместо использования метода `value_counts()` стоило построить сводную таблицу, в которой по группам ты бы написал количество клиентов, просрочек, вероятность просрочки. Это было бы намного информативнее.\n",
    "        "
   ]
  },
  {
   "cell_type": "markdown",
   "id": "f13f7ffc",
   "metadata": {},
   "source": [
    "<div class=\"alert alert-success\">\n",
    "<h2> Комментарий ревьюера V2<a class=\"tocSkip\"> </h2>\n",
    "\n",
    "<b>Все отлично!👍:</b> Вижу, что ты умеешь правильно использовать метод построения сводных таблиц, все правильно сделал.\n",
    "</div>"
   ]
  },
  {
   "cell_type": "markdown",
   "id": "76d93b06",
   "metadata": {
    "deletable": false,
    "id": "3a6b99ec"
   },
   "source": [
    "**Вывод:** \n",
    "Судя по данным зависимость между количеством детей и возвратом кредитов в срок является не большой, клиенты с 1-2 детьми немного чаще задерживают выплаты чем клиенты у которых нет детей или имеющих троих детей, резкие перепады там где количество детей четверо и пятеро можно объяснить малым количеством выборки (для четырех детей количество клиентов взявших кредит составляет 41, а для пяти равняется 9) делать по ним выводы нельзя."
   ]
  },
  {
   "cell_type": "markdown",
   "id": "22bed8d4",
   "metadata": {},
   "source": [
    "<div class=\"alert alert-success\">\n",
    "<h2> Комментарий ревьюера V1<a class=\"tocSkip\"> </h2>\n",
    "\n",
    "<b>Все отлично!👍:</b> Абсолютно верный вывод!\n",
    "</div>"
   ]
  },
  {
   "cell_type": "markdown",
   "id": "9d58b09e",
   "metadata": {
    "deletable": false,
    "editable": false,
    "id": "97be82ca"
   },
   "source": [
    "#### 3.2 Есть ли зависимость между семейным положением и возвратом кредита в срок?"
   ]
  },
  {
   "cell_type": "code",
   "execution_count": 23,
   "id": "e65db5a9",
   "metadata": {
    "deletable": false,
    "id": "dc3f7ee8"
   },
   "outputs": [
    {
     "name": "stdout",
     "output_type": "stream",
     "text": [
      "   family_status_id      debt  number_clients\n",
      "0                 0  0.075606           12261\n",
      "1                 1  0.093130            4134\n",
      "2                 2  0.066246             951\n",
      "3                 3  0.070648            1189\n",
      "4                 4  0.097639            2796\n"
     ]
    },
    {
     "data": {
      "image/png": "[encoded data removed]",
      "text/plain": [
       "<Figure size 432x288 with 1 Axes>"
      ]
     },
     "metadata": {
      "needs_background": "light"
     },
     "output_type": "display_data"
    }
   ],
   "source": [
    "sns.barplot(x = data['family_status_id'], y = data['debt'])\n",
    "data_f_id = data.pivot_table(index=['family_status_id'], values ='debt')\n",
    "data_f_id['number_clients'] = data['family_status_id'].value_counts()\n",
    "print(data_f_id.reset_index())\n",
    "#print(data.groupby('family_status_id')['children'].value_counts()) #разбивка по количеству детей и семейному положению для проверки связи возврата кредитов\n",
    "#print(data['family_status_id'].value_counts().sort_values()) #количество выборки по категориям \n",
    "#print(data.groupby('family_status_id')['total_income'].median())#медиана дохода по семейному положению\n",
    "#print(data.head(10))\n",
    "#print(data.groupby('family_status_id')['dob_years'].median()) #медиана по возрасту \n",
    "#print(data.groupby('purpose_category')['family_status_id'].value_counts()) # цели кредита по категориям\n",
    "#print(data.groupby('family_status_id')['total_income_category'].value_counts()) #разбивка по категориям дохода \n",
    "# Ваш код будет здесь. Вы можете создавать новые ячейки.\n"
   ]
  },
  {
   "cell_type": "markdown",
   "id": "bcc8561c",
   "metadata": {},
   "source": [
    " **Семейным положением (family_status_id)** \n",
    "- женат / замужем - 0\n",
    "- гражданский брак - 1\n",
    "- вдовец / вдова - 2\n",
    "- в разводе - 3\n",
    "- не женат / не замужем - 4"
   ]
  },
  {
   "cell_type": "markdown",
   "id": "c1e79a9d",
   "metadata": {},
   "source": [
    "<div class=\"alert alert-warning\">\n",
    "    <h2> Комментарий ревьюера V1<a class=\"tocSkip\"> </h2>\n",
    "    \n",
    "<b>Некоторые замечания и рекомендации💡:</b> Снова хвалю, что построил столбчатую диаграмму. Однако стоит также вывести сводную таблицу, чтобы понять особенности групп и другие признаки."
   ]
  },
  {
   "cell_type": "markdown",
   "id": "9006c206",
   "metadata": {},
   "source": [
    "<div class=\"alert alert-success\">\n",
    "<h2> Комментарий ревьюера V2<a class=\"tocSkip\"> </h2>\n",
    "\n",
    "<b>Все отлично!👍:</b> Сводная таблица построена правильно. Согласись, когда в ней отражено больше признаков групп, можно сделать более корректный вывод.\n",
    "</div>"
   ]
  },
  {
   "cell_type": "markdown",
   "id": "3e4a3665",
   "metadata": {
    "deletable": false,
    "id": "1cef7837"
   },
   "source": [
    "**Вывод:** Люди в категории \"гражданский брак\" и \"не женат / не замужем\" чаще задерживают выплаты по кредитам чем остальные."
   ]
  },
  {
   "cell_type": "markdown",
   "id": "3dbb5313",
   "metadata": {},
   "source": [
    "<div class=\"alert alert-success\">\n",
    "<h2> Комментарий ревьюера V1<a class=\"tocSkip\"> </h2>\n",
    "\n",
    "<b>Все отлично!👍:</b> Все верно, клиенты, побывавшие в браке, реже допускают просрочки.\n",
    "</div>"
   ]
  },
  {
   "cell_type": "markdown",
   "id": "6d929c9f",
   "metadata": {
    "deletable": false,
    "editable": false,
    "id": "1e8b2fca"
   },
   "source": [
    "#### 3.3 Есть ли зависимость между уровнем дохода и возвратом кредита в срок?"
   ]
  },
  {
   "cell_type": "code",
   "execution_count": 24,
   "id": "cff70acb",
   "metadata": {
    "deletable": false,
    "id": "cd7e3720"
   },
   "outputs": [
    {
     "name": "stdout",
     "output_type": "stream",
     "text": [
      "   debt   total_income\n",
      "0     0  165713.065105\n",
      "1     1  161152.278868\n",
      "  total_income_category      debt  total_income_median  number_clients\n",
      "0                     A  0.080000              1223042              25\n",
      "1                     B  0.070602               257558            5014\n",
      "2                     C  0.084982               130355           15921\n",
      "3                     D  0.060172                43929             349\n",
      "4                     E  0.090909                26431              22\n"
     ]
    },
    {
     "data": {
      "image/png": "[encoded data removed]",
      "text/plain": [
       "<Figure size 432x288 with 1 Axes>"
      ]
     },
     "metadata": {
      "needs_background": "light"
     },
     "output_type": "display_data"
    }
   ],
   "source": [
    "#print(data.groupby('debt')['total_income'].median()) # медиана по возвратам кредитов \n",
    "data_m = data.pivot_table(index=['debt'], values='total_income')\n",
    "print(data_m.reset_index())\n",
    "#print(data.groupby('total_income_category')['total_income'].median())#медиана по доходу \n",
    "#print(data['total_income_category'].value_counts().sort_values()) #кол.выборки по категориям \n",
    "sns.barplot(x = data['total_income_category'], y = data['debt'])\n",
    "data_pivot = data.pivot_table(index=['total_income_category'], values='debt')\n",
    "data_pivot['total_income_median'] = [1223042, 257558, 130355, 43929, 26431]\n",
    "data_pivot['number_clients'] = data['total_income_category'].value_counts()\n",
    "print(data_pivot.reset_index())"
   ]
  },
  {
   "cell_type": "code",
   "execution_count": 25,
   "id": "c74495d3",
   "metadata": {},
   "outputs": [
    {
     "name": "stdout",
     "output_type": "stream",
     "text": [
      "  total_income_category  days_employed  median_years\n",
      "0                     A    2577.664662            43\n",
      "1                     B    2082.452571            42\n",
      "2                     C    1928.497368            43\n",
      "3                     D    6700.810373            51\n",
      "4                     E  347804.940429            56\n"
     ]
    }
   ],
   "source": [
    "data_de_m = data.pivot_table(index=['total_income_category'], values='days_employed', aggfunc='median')\n",
    "data_de_m['median_years'] = [43, 42, 43, 51, 56]\n",
    "print(data_de_m.reset_index())"
   ]
  },
  {
   "cell_type": "markdown",
   "id": "68dc1c0b",
   "metadata": {
    "deletable": false,
    "id": "e8593def"
   },
   "source": [
    "**Вывод:**  Если смотреть на общие показатели разделив людей на группы есть или нет задолженности то разницу в среднем доходе мы почти не увидим. Если разбить их на категории по доходу то категории \"B\" реже задерживают выплаты чем в категории \"С\"  здесь скорее всего имеет значения разница в доходе.  Категория \"D\" имеет выборку горазда меньше чем категория \"B\" и \"C\" и вероятность ошибки в них больше, это могло повлиять на значения общего стажа работы и среднего возраста клиента, тут значения куда выше чем у клиентов со средним доходом и выше. Категория \"А\" и \"Е\" имеет не значительное количество выборки, делать даже приблизительные выводы нельзя."
   ]
  },
  {
   "cell_type": "markdown",
   "id": "8ae7f43e",
   "metadata": {},
   "source": [
    "<div class=\"alert alert-block alert-danger\">\n",
    "<h2> Комментарий ревьюера V1<a class=\"tocSkip\"></h2>\n",
    "\n",
    "    \n",
    "<b>На доработку🤔:</b>\n",
    "Стоит построить сводную таблицу, чтобы легче было смотреть на данные в группах. Обрати внимание на особенность данных, как клиенты распределены по группам. Может ли это повлиять на результаты исследования?\n",
    "</div>"
   ]
  },
  {
   "cell_type": "markdown",
   "id": "e8110844",
   "metadata": {},
   "source": [
    "<div class=\"alert alert-warning\">\n",
    "    <h2> Комментарий ревьюера V2<a class=\"tocSkip\"> </h2>\n",
    "    \n",
    "<b>Некоторые замечания и рекомендации💡:</b> Хорошо, что ты провел дополнительный анализ. Когда я написал про особенность данных, я имел в виду, что в группах А, Е всего 25 клиентов, а группе D - 350. Это означает, что количества наблюдений недостаточно, чтобы сравнивать эти группы с группами В и С, где наблюдений значительно больше. Поэтому при формировании какого-либо вывода, учитывать эти 3 группы нельзя, так как они сильно искажают наличие зависимости."
   ]
  },
  {
   "cell_type": "markdown",
   "id": "34ea5381",
   "metadata": {},
   "source": [
    "<div class=\"alert alert-success\">\n",
    "<h2> Комментарий ревьюера V3<a class=\"tocSkip\"> </h2>\n",
    "\n",
    "<b>Все отлично!👍:</b> Абсолютно верно!\n",
    "</div>"
   ]
  },
  {
   "cell_type": "markdown",
   "id": "cb3e5f8e",
   "metadata": {
    "deletable": false,
    "editable": false,
    "id": "99ecbd1f"
   },
   "source": [
    "#### 3.4 Как разные цели кредита влияют на его возврат в срок?"
   ]
  },
  {
   "cell_type": "code",
   "execution_count": 26,
   "id": "b031a0ff",
   "metadata": {
    "deletable": false,
    "id": "2b687290"
   },
   "outputs": [
    {
     "data": {
      "text/plain": [
       "<AxesSubplot:xlabel='debt', ylabel='purpose_category'>"
      ]
     },
     "execution_count": 26,
     "metadata": {},
     "output_type": "execute_result"
    },
    {
     "data": {
      "image/png": "[encoded data removed]",
      "text/plain": [
       "<Figure size 432x288 with 1 Axes>"
      ]
     },
     "metadata": {
      "needs_background": "light"
     },
     "output_type": "display_data"
    }
   ],
   "source": [
    "x = data['debt']\n",
    "y = data['purpose_category']\n",
    "sns.barplot(x = x, y = y)\n",
    "#print(data.groupby('purpose_category')['debt'].value_counts()) \n",
    "#print(data.groupby('purpose_category')['total_income'].median()) # медианный доход по цели кредита \n",
    "#print(data.groupby('purpose_category')['total_income_category'].value_counts()) #выборка по категориям дохода\n",
    "#print(data.head())  # Ваш код будет здесь. Вы можете создавать новые ячейки."
   ]
  },
  {
   "cell_type": "markdown",
   "id": "c016e94b",
   "metadata": {
    "deletable": false,
    "id": "b4bb2ce6"
   },
   "source": [
    "**Вывод:**  Люди берущие кредиты для улучшения жилищных условий и проведения свадьбы чаще возвращают кредиты в срок чем клиенты покупающие автомобиль и оплачивающие образование. Возможна здесь значение имеет сумма кредита, так для проведения свадьбы медиана кредита может быть наименьшей из всех, а для приобретения недвижимости наибольшей. Первые не имеют больших трудностей с выплатой в срок, вторые предпочитают не задерживать выплаты из-за больших штрафов. Но для уточнения этого нужны дополнительные данные и исследования."
   ]
  },
  {
   "cell_type": "markdown",
   "id": "89b685e3",
   "metadata": {},
   "source": [
    "<div class=\"alert alert-success\">\n",
    "<h2> Комментарий ревьюера V1<a class=\"tocSkip\"> </h2>\n",
    "\n",
    "<b>Все отлично!👍:</b> Именно так, клиенты, которые берут кредита на недвижимость, реже допускают просрочки.\n",
    "</div>"
   ]
  },
  {
   "cell_type": "markdown",
   "id": "3f982cab",
   "metadata": {
    "deletable": false,
    "editable": false,
    "id": "09c3ac4c"
   },
   "source": [
    "#### 3.5 Приведите возможные причины появления пропусков в исходных данных."
   ]
  },
  {
   "cell_type": "markdown",
   "id": "21b7b631",
   "metadata": {
    "deletable": false,
    "id": "9da2ceda"
   },
   "source": [
    "*Ответ:* Причины пропусков могут быть:\n",
    "- Полностью случайными, например из-за невнимательности человека или сбоя компьютера. Часто такие данные можно восстановить по другим характеристикам.\n",
    "- Могут быть случайными, если категория отсутствует. Например, иностранец не указал отчество при регистрации, так как в его стране отчеством не пользуются.\n",
    "- Неслучайными, где пропуски зависят от категории или значений столбца, например из-за профессиональных причин человек не может назвать свою заработанную плату так как эта прописана у него в контракте."
   ]
  },
  {
   "cell_type": "markdown",
   "id": "4e528643",
   "metadata": {},
   "source": [
    "<div class=\"alert alert-success\">\n",
    "<h2> Комментарий ревьюера V1<a class=\"tocSkip\"> </h2>\n",
    "\n",
    "<b>Все отлично!👍:</b> Согласен, эти причины вполне могут возникнуть в реальной жизни.\n",
    "</div>"
   ]
  },
  {
   "cell_type": "markdown",
   "id": "a8bf19ff",
   "metadata": {
    "deletable": false,
    "editable": false,
    "id": "7b0487d6"
   },
   "source": [
    "#### 3.6 Объясните, почему заполнить пропуски медианным значением — лучшее решение для количественных переменных."
   ]
  },
  {
   "cell_type": "markdown",
   "id": "3a54851b",
   "metadata": {
    "deletable": false,
    "id": "7ecf2b8e"
   },
   "source": [
    "*Ответ:* Медиана куда более точна отражают средние значение если в выборки есть небольшое количество аномальна больших или малых чисел.  Она помогают заполнить количественные данные там где есть пропуски чтобы примерно оценить значение выборки. "
   ]
  },
  {
   "cell_type": "markdown",
   "id": "699fcbaf",
   "metadata": {},
   "source": [
    "<div class=\"alert alert-success\">\n",
    "<h2> Комментарий ревьюера V1<a class=\"tocSkip\"> </h2>\n",
    "\n",
    "<b>Все отлично!👍:</b> В точку 🎯. Если в выборке есть выбросы, то они не повлияют на значение медианы и результат исследования.\n",
    "</div>"
   ]
  },
  {
   "cell_type": "markdown",
   "id": "8fc330c4",
   "metadata": {
    "deletable": false,
    "editable": false,
    "id": "6db5255a"
   },
   "source": [
    "### Шаг 4: общий вывод."
   ]
  },
  {
   "cell_type": "markdown",
   "id": "2dd6f06b",
   "metadata": {
    "deletable": false,
    "id": "bad65432"
   },
   "source": [
    "Из данных где достаточное количество выборки мы видим:\n",
    "-  Так клиенты не имеющие детей чаще возвращают кредиты вовремя, эта возможно по причине что они реже сталкиваются с непредвиденными сложностями в финансовом плане когда люди воспитывающие трех детей в семье по-видимому  не готовы задерживать выплаты из за больших штрафов.  Люди которые имеют от 1 до 2х детей в семье меньше беспокоятся о задолженностях по кредиту, но чаще сталкиваются с трудностями в его выплате чем люди не имеющие детей. \n",
    "- Посмотрев на зависимость уровнем дохода и возвратом кредита в срок то тут можно сравнивать только категорию \"B\" и \"C\", в категории \"D\" данные могут иметь значимую ошибку, а категории \"A\" и \"E\" нельзя использовать из-за очень малой выборки даже для приблизительной оценки. Что бы ориентироваться на эти показатели нужна большее количество наблюдений.\n",
    "- Если же смотреть по семейному положению то люди состоящие в браке на данный момент или состоявшие ранее чаще выплачивают кредиты чем те что не когда в браке не состояли. Я бы хотел здесь отметить категорию \"гражданский брак\" по своим характеристикам (ср. доходе, кол. детей, ср. возрасту) они ближе к “женат / замужем“ чем к категории людей не состоящих в семейных отношениях, но при этом также имущие трудности с выплатой займов.\n",
    "- В целях кредита также можно предположить что средняя сумма кредита на недвижимость более высокая чем в остальных категориях и пеня там наиболее высокие поэтому люди более ответственно подходят к таким кредитам и стараются выплатить их в срок, а середине у цели проведения свадьбы будет ниже остальных и люди реже сталкиваются с проблемами выплат по ним.\n",
    "\n",
    "Для подтверждения этих предположений нужны  дополнительные исследования и новые данные по сумме кредита, времени задержки кредита и доходу чтобы проверить какие группы склонны наиболее задерживать выплаты или не возвращать их вовсе. \n"
   ]
  },
  {
   "cell_type": "markdown",
   "id": "f20c4abc",
   "metadata": {},
   "source": [
    "<div class=\"alert alert-warning\">\n",
    "    <h2> Комментарий ревьюера V1<a class=\"tocSkip\"> </h2>\n",
    "    \n",
    "<b>Некоторые замечания и рекомендации💡:</b> Отличный вывод, все структурировано и понятно. Стоит доработать итоговый вывод с учетом моих комментариев, написанных ранее (зависимость уровня дохода и вероятности просрочки)."
   ]
  },
  {
   "cell_type": "markdown",
   "id": "08ec5bce",
   "metadata": {},
   "source": [
    "<div class=\"alert alert-warning\">\n",
    "    <h2> Комментарий ревьюера V2<a class=\"tocSkip\"> </h2>\n",
    "    \n",
    "<b>Некоторые замечания и рекомендации💡:</b> Опять же отмечу, что ты очень хорошо составил итоговый вывод. В пункте с зависимостью просрочки от уровня дохода стоит внести изменения."
   ]
  },
  {
   "cell_type": "markdown",
   "id": "9795be5f",
   "metadata": {},
   "source": [
    "<div class=\"alert alert-success\">\n",
    "<h2> Комментарий ревьюера V3<a class=\"tocSkip\"> </h2>\n",
    "\n",
    "<b>Все отлично!👍:</b> Превосходный вывод, самое главное, что он соответствует действительности. Так держать!\n",
    "</div>"
   ]
  },
  {
   "cell_type": "markdown",
   "id": "8cc19c72",
   "metadata": {},
   "source": [
    "<div style=\"border:solid Chocolate 2px; padding: 40px\">\n",
    "\n",
    "**Общий вывод по проекту**\n",
    "\n",
    "Спасибо за твой проект! Я уверен, что ты приложил все усилия, чтобы сделать этот проект. Это видно по твоей работе, а сформулированные выводы отражают, насколько успешно ты осваиваешь материал. \n",
    "\n",
    "**Отмечу отдельные положительные моменты проекта🙂**:\n",
    " \n",
    "* Ты полностью следовал всем этапам выполнения задания и справился почти со всем. Хорошая работа!\n",
    "* Отдельно выделю некоторые выводы, которые ты смог сформулировать абсолютно точно!\n",
    "* У тебя опрятный и читаемый код. Возможно это звучит банально, однако при работе с чужим кодом это крайне важно)\n",
    "\n",
    "\n",
    "**На что стоит обратить внимание🤓**:\n",
    "    \n",
    "* Важно доработать итоговый вывод.\n",
    "* Какая особенность данных не позволяет сходу дать ответ на вопрос: \"Есть ли зависимость между уровнем дохода и возвратом кредита в срок?\"\n",
    "* Остальные рекомендации ты найдешь в моих комментариях!\n",
    "\n",
    "\n",
    "**Желаю удачи и жду твой проект на повторное ревью!**😉"
   ]
  },
  {
   "cell_type": "markdown",
   "id": "696fce5e",
   "metadata": {},
   "source": [
    "<div style=\"border:solid Chocolate 2px; padding: 40px\">\n",
    "\n",
    "**Общий вывод по проекту**\n",
    "\n",
    "**На что стоит обратить внимание🤓**:\n",
    "    \n",
    "* Важно доработать промежуточный вывод об уровне дохода.\n",
    "* Остальные рекомендации ты найдешь в моих комментариях!\n",
    "\n",
    "\n",
    "**Желаю удачи и жду твой проект на повторное ревью!**😉"
   ]
  },
  {
   "cell_type": "markdown",
   "id": "62723f69",
   "metadata": {},
   "source": [
    "<div style=\"border:solid Chocolate 2px; padding: 40px\">\n",
    "\n",
    "Ты отлично справился с данной работой! Видно, как ты успешно осваиваешь материал, применяешь полученные знания на практике. Мне было очень приятно проверять твою работу, надеюсь, мои комментарии и советы были для тебя полезными.\n",
    "\n",
    "**Желаю удачи в последующем обучении и исследованиях!**😉"
   ]
  },
  {
   "cell_type": "code",
   "execution_count": null,
   "id": "15f468fa",
   "metadata": {},
   "outputs": [],
   "source": []
  }
 ],
 "metadata": {
  "ExecuteTimeLog": [
   {
    "duration": 459,
    "start_time": "2022-09-07T14:02:12.226Z"
   },
   {
    "duration": 20,
    "start_time": "2022-09-07T14:02:12.687Z"
   },
   {
    "duration": 14,
    "start_time": "2022-09-07T14:02:12.709Z"
   },
   {
    "duration": 17,
    "start_time": "2022-09-07T14:02:12.725Z"
   },
   {
    "duration": 33,
    "start_time": "2022-09-07T14:02:12.744Z"
   },
   {
    "duration": 4,
    "start_time": "2022-09-07T14:02:12.779Z"
   },
   {
    "duration": 26,
    "start_time": "2022-09-07T14:02:12.785Z"
   },
   {
    "duration": 4,
    "start_time": "2022-09-07T14:02:12.813Z"
   },
   {
    "duration": 24,
    "start_time": "2022-09-07T14:02:12.819Z"
   },
   {
    "duration": 6,
    "start_time": "2022-09-07T14:02:12.845Z"
   },
   {
    "duration": 43,
    "start_time": "2022-09-07T14:02:12.852Z"
   },
   {
    "duration": 14,
    "start_time": "2022-09-07T14:02:12.896Z"
   },
   {
    "duration": 4,
    "start_time": "2022-09-07T14:02:12.912Z"
   },
   {
    "duration": 12,
    "start_time": "2022-09-07T14:02:12.919Z"
   },
   {
    "duration": 21,
    "start_time": "2022-09-07T14:02:12.933Z"
   },
   {
    "duration": 17,
    "start_time": "2022-09-07T14:02:12.955Z"
   },
   {
    "duration": 4,
    "start_time": "2022-09-07T14:02:12.974Z"
   },
   {
    "duration": 38,
    "start_time": "2022-09-07T14:02:12.979Z"
   },
   {
    "duration": 12,
    "start_time": "2022-09-07T14:02:13.019Z"
   },
   {
    "duration": 4,
    "start_time": "2022-09-07T14:02:13.033Z"
   },
   {
    "duration": 17,
    "start_time": "2022-09-07T14:02:13.038Z"
   },
   {
    "duration": 6,
    "start_time": "2022-09-07T14:02:13.056Z"
   },
   {
    "duration": 5,
    "start_time": "2022-09-07T14:02:13.063Z"
   },
   {
    "duration": 7,
    "start_time": "2022-09-07T14:02:13.070Z"
   },
   {
    "duration": 5,
    "start_time": "2022-09-07T14:02:13.079Z"
   },
   {
    "duration": 821,
    "start_time": "2022-09-08T10:23:57.918Z"
   },
   {
    "duration": 21,
    "start_time": "2022-09-08T10:23:58.740Z"
   },
   {
    "duration": 14,
    "start_time": "2022-09-08T10:23:58.763Z"
   },
   {
    "duration": 9,
    "start_time": "2022-09-08T10:23:58.779Z"
   },
   {
    "duration": 47,
    "start_time": "2022-09-08T10:23:58.791Z"
   },
   {
    "duration": 3,
    "start_time": "2022-09-08T10:23:58.839Z"
   },
   {
    "duration": 9,
    "start_time": "2022-09-08T10:23:58.844Z"
   },
   {
    "duration": 5,
    "start_time": "2022-09-08T10:23:58.854Z"
   },
   {
    "duration": 6,
    "start_time": "2022-09-08T10:23:58.861Z"
   },
   {
    "duration": 5,
    "start_time": "2022-09-08T10:23:58.868Z"
   },
   {
    "duration": 63,
    "start_time": "2022-09-08T10:23:58.875Z"
   },
   {
    "duration": 9,
    "start_time": "2022-09-08T10:23:58.939Z"
   },
   {
    "duration": 9,
    "start_time": "2022-09-08T10:23:58.950Z"
   },
   {
    "duration": 16,
    "start_time": "2022-09-08T10:23:58.962Z"
   },
   {
    "duration": 20,
    "start_time": "2022-09-08T10:23:58.980Z"
   },
   {
    "duration": 19,
    "start_time": "2022-09-08T10:23:59.015Z"
   },
   {
    "duration": 4,
    "start_time": "2022-09-08T10:23:59.035Z"
   },
   {
    "duration": 17,
    "start_time": "2022-09-08T10:23:59.041Z"
   },
   {
    "duration": 7,
    "start_time": "2022-09-08T10:23:59.060Z"
   },
   {
    "duration": 5,
    "start_time": "2022-09-08T10:23:59.068Z"
   },
   {
    "duration": 16,
    "start_time": "2022-09-08T10:23:59.074Z"
   },
   {
    "duration": 1264,
    "start_time": "2022-09-08T10:23:59.115Z"
   },
   {
    "duration": 3,
    "start_time": "2022-09-08T10:24:00.380Z"
   },
   {
    "duration": 38,
    "start_time": "2022-09-08T10:24:00.384Z"
   },
   {
    "duration": 20,
    "start_time": "2022-09-08T10:24:00.424Z"
   },
   {
    "duration": 378,
    "start_time": "2022-09-08T10:25:06.528Z"
   },
   {
    "duration": 403,
    "start_time": "2022-09-08T10:25:23.680Z"
   },
   {
    "duration": 363,
    "start_time": "2022-09-08T10:26:14.637Z"
   },
   {
    "duration": 259,
    "start_time": "2022-09-08T10:28:02.579Z"
   },
   {
    "duration": 367,
    "start_time": "2022-09-08T10:28:47.070Z"
   },
   {
    "duration": 334,
    "start_time": "2022-09-08T10:32:21.079Z"
   },
   {
    "duration": 117,
    "start_time": "2022-09-08T10:33:17.899Z"
   },
   {
    "duration": 482,
    "start_time": "2022-09-08T10:33:34.361Z"
   },
   {
    "duration": 5,
    "start_time": "2022-09-08T10:36:48.697Z"
   },
   {
    "duration": 6,
    "start_time": "2022-09-08T10:39:13.200Z"
   },
   {
    "duration": 7,
    "start_time": "2022-09-08T10:40:10.038Z"
   },
   {
    "duration": 8,
    "start_time": "2022-09-08T10:40:50.088Z"
   },
   {
    "duration": 6,
    "start_time": "2022-09-08T10:41:09.136Z"
   },
   {
    "duration": 6,
    "start_time": "2022-09-08T10:41:18.187Z"
   },
   {
    "duration": 9,
    "start_time": "2022-09-08T10:41:27.621Z"
   },
   {
    "duration": 4,
    "start_time": "2022-09-08T10:45:06.682Z"
   },
   {
    "duration": 5,
    "start_time": "2022-09-08T10:45:31.907Z"
   },
   {
    "duration": 36,
    "start_time": "2022-09-08T10:46:38.438Z"
   },
   {
    "duration": 13,
    "start_time": "2022-09-08T10:46:55.337Z"
   },
   {
    "duration": 14,
    "start_time": "2022-09-08T10:47:34.367Z"
   },
   {
    "duration": 90,
    "start_time": "2022-09-08T10:47:54.657Z"
   },
   {
    "duration": 96,
    "start_time": "2022-09-08T10:48:03.427Z"
   },
   {
    "duration": 5,
    "start_time": "2022-09-08T10:48:37.936Z"
   },
   {
    "duration": 9,
    "start_time": "2022-09-08T10:48:52.680Z"
   },
   {
    "duration": 5,
    "start_time": "2022-09-08T10:49:08.759Z"
   },
   {
    "duration": 4,
    "start_time": "2022-09-08T10:49:15.969Z"
   },
   {
    "duration": 4,
    "start_time": "2022-09-08T10:49:21.749Z"
   },
   {
    "duration": 9,
    "start_time": "2022-09-08T10:52:40.198Z"
   },
   {
    "duration": 7,
    "start_time": "2022-09-08T10:52:58.357Z"
   },
   {
    "duration": 14,
    "start_time": "2022-09-08T10:54:08.205Z"
   },
   {
    "duration": 15,
    "start_time": "2022-09-08T10:54:26.464Z"
   },
   {
    "duration": 13,
    "start_time": "2022-09-08T10:54:43.968Z"
   },
   {
    "duration": 6,
    "start_time": "2022-09-08T10:55:02.272Z"
   },
   {
    "duration": 7,
    "start_time": "2022-09-08T10:56:04.362Z"
   },
   {
    "duration": 6,
    "start_time": "2022-09-08T10:56:17.559Z"
   },
   {
    "duration": 6,
    "start_time": "2022-09-08T10:56:30.522Z"
   },
   {
    "duration": 5,
    "start_time": "2022-09-08T10:56:48.376Z"
   },
   {
    "duration": 6,
    "start_time": "2022-09-08T10:59:00.007Z"
   },
   {
    "duration": 6,
    "start_time": "2022-09-08T10:59:10.634Z"
   },
   {
    "duration": 5,
    "start_time": "2022-09-08T10:59:21.603Z"
   },
   {
    "duration": 119,
    "start_time": "2022-09-08T11:00:10.743Z"
   },
   {
    "duration": 5,
    "start_time": "2022-09-08T11:00:18.388Z"
   },
   {
    "duration": 16,
    "start_time": "2022-09-08T11:01:21.906Z"
   },
   {
    "duration": 12,
    "start_time": "2022-09-08T11:01:48.600Z"
   },
   {
    "duration": 13,
    "start_time": "2022-09-08T11:02:22.536Z"
   },
   {
    "duration": 14,
    "start_time": "2022-09-08T11:02:32.378Z"
   },
   {
    "duration": 1139,
    "start_time": "2022-09-08T11:02:40.211Z"
   },
   {
    "duration": 12,
    "start_time": "2022-09-08T11:03:03.100Z"
   },
   {
    "duration": 17,
    "start_time": "2022-09-08T11:03:34.557Z"
   },
   {
    "duration": 713,
    "start_time": "2022-09-08T11:03:42.969Z"
   },
   {
    "duration": 6,
    "start_time": "2022-09-08T11:03:52.672Z"
   },
   {
    "duration": 233,
    "start_time": "2022-09-08T11:04:12.791Z"
   },
   {
    "duration": 1501,
    "start_time": "2022-09-08T11:04:53.460Z"
   },
   {
    "duration": 72,
    "start_time": "2022-09-08T11:12:27.568Z"
   },
   {
    "duration": 48,
    "start_time": "2022-09-08T11:12:45.020Z"
   },
   {
    "duration": 344,
    "start_time": "2022-09-08T11:13:21.094Z"
   },
   {
    "duration": 11,
    "start_time": "2022-09-08T11:30:06.239Z"
   },
   {
    "duration": 322,
    "start_time": "2022-09-08T11:31:02.791Z"
   },
   {
    "duration": 347,
    "start_time": "2022-09-08T11:31:19.680Z"
   },
   {
    "duration": 327,
    "start_time": "2022-09-08T11:33:15.974Z"
   },
   {
    "duration": 342,
    "start_time": "2022-09-08T11:33:21.118Z"
   },
   {
    "duration": 319,
    "start_time": "2022-09-08T11:33:32.679Z"
   },
   {
    "duration": 345,
    "start_time": "2022-09-08T11:35:33.194Z"
   },
   {
    "duration": 326,
    "start_time": "2022-09-08T11:35:50.189Z"
   },
   {
    "duration": 368,
    "start_time": "2022-09-08T11:36:34.125Z"
   },
   {
    "duration": 352,
    "start_time": "2022-09-08T11:37:02.009Z"
   },
   {
    "duration": 221,
    "start_time": "2022-09-08T11:37:34.592Z"
   },
   {
    "duration": 378,
    "start_time": "2022-09-08T11:38:21.322Z"
   },
   {
    "duration": 371,
    "start_time": "2022-09-08T11:38:49.930Z"
   },
   {
    "duration": 401,
    "start_time": "2022-09-08T11:39:11.425Z"
   },
   {
    "duration": 714,
    "start_time": "2022-09-08T11:39:38.926Z"
   },
   {
    "duration": 360,
    "start_time": "2022-09-08T11:40:01.860Z"
   },
   {
    "duration": 353,
    "start_time": "2022-09-08T11:40:16.977Z"
   },
   {
    "duration": 352,
    "start_time": "2022-09-08T11:40:40.822Z"
   },
   {
    "duration": 352,
    "start_time": "2022-09-08T11:40:46.673Z"
   },
   {
    "duration": 4,
    "start_time": "2022-09-08T11:46:36.903Z"
   },
   {
    "duration": 4,
    "start_time": "2022-09-08T11:46:58.991Z"
   },
   {
    "duration": 4,
    "start_time": "2022-09-08T11:47:13.107Z"
   },
   {
    "duration": 337,
    "start_time": "2022-09-08T11:47:26.941Z"
   },
   {
    "duration": 635,
    "start_time": "2022-09-08T11:47:33.520Z"
   },
   {
    "duration": 345,
    "start_time": "2022-09-08T11:47:41.409Z"
   },
   {
    "duration": 341,
    "start_time": "2022-09-08T11:48:27.802Z"
   },
   {
    "duration": 386,
    "start_time": "2022-09-08T11:56:17.200Z"
   },
   {
    "duration": 375,
    "start_time": "2022-09-08T11:57:26.679Z"
   },
   {
    "duration": 356,
    "start_time": "2022-09-08T11:59:53.879Z"
   },
   {
    "duration": 354,
    "start_time": "2022-09-08T12:00:15.161Z"
   },
   {
    "duration": 327,
    "start_time": "2022-09-08T12:27:20.354Z"
   },
   {
    "duration": 331,
    "start_time": "2022-09-08T12:27:31.409Z"
   },
   {
    "duration": 116,
    "start_time": "2022-09-10T07:46:02.398Z"
   },
   {
    "duration": 682,
    "start_time": "2022-09-10T07:46:33.140Z"
   },
   {
    "duration": 20,
    "start_time": "2022-09-10T07:46:33.824Z"
   },
   {
    "duration": 14,
    "start_time": "2022-09-10T07:46:33.845Z"
   },
   {
    "duration": 15,
    "start_time": "2022-09-10T07:46:33.860Z"
   },
   {
    "duration": 32,
    "start_time": "2022-09-10T07:46:33.877Z"
   },
   {
    "duration": 4,
    "start_time": "2022-09-10T07:46:33.922Z"
   },
   {
    "duration": 10,
    "start_time": "2022-09-10T07:46:33.927Z"
   },
   {
    "duration": 3,
    "start_time": "2022-09-10T07:46:33.939Z"
   },
   {
    "duration": 8,
    "start_time": "2022-09-10T07:46:33.944Z"
   },
   {
    "duration": 4,
    "start_time": "2022-09-10T07:46:33.953Z"
   },
   {
    "duration": 35,
    "start_time": "2022-09-10T07:46:33.958Z"
   },
   {
    "duration": 36,
    "start_time": "2022-09-10T07:46:33.994Z"
   },
   {
    "duration": 9,
    "start_time": "2022-09-10T07:46:34.032Z"
   },
   {
    "duration": 15,
    "start_time": "2022-09-10T07:46:34.044Z"
   },
   {
    "duration": 17,
    "start_time": "2022-09-10T07:46:34.060Z"
   },
   {
    "duration": 14,
    "start_time": "2022-09-10T07:46:34.078Z"
   },
   {
    "duration": 3,
    "start_time": "2022-09-10T07:46:34.094Z"
   },
   {
    "duration": 11,
    "start_time": "2022-09-10T07:46:34.098Z"
   },
   {
    "duration": 5,
    "start_time": "2022-09-10T07:46:34.110Z"
   },
   {
    "duration": 4,
    "start_time": "2022-09-10T07:46:34.117Z"
   },
   {
    "duration": 12,
    "start_time": "2022-09-10T07:46:34.122Z"
   },
   {
    "duration": 1265,
    "start_time": "2022-09-10T07:46:34.136Z"
   },
   {
    "duration": 307,
    "start_time": "2022-09-10T07:46:35.403Z"
   },
   {
    "duration": 2,
    "start_time": "2022-09-10T07:46:35.712Z"
   },
   {
    "duration": 3,
    "start_time": "2022-09-10T07:46:35.722Z"
   },
   {
    "duration": 373,
    "start_time": "2022-09-10T07:46:58.026Z"
   },
   {
    "duration": 5,
    "start_time": "2022-09-10T07:47:25.582Z"
   },
   {
    "duration": 310,
    "start_time": "2022-09-10T07:47:52.878Z"
   },
   {
    "duration": 327,
    "start_time": "2022-09-10T07:57:08.995Z"
   },
   {
    "duration": 282,
    "start_time": "2022-09-10T07:58:29.615Z"
   },
   {
    "duration": 92,
    "start_time": "2022-09-10T08:03:07.705Z"
   },
   {
    "duration": 6,
    "start_time": "2022-09-10T08:03:21.052Z"
   },
   {
    "duration": 303,
    "start_time": "2022-09-10T08:03:36.876Z"
   },
   {
    "duration": 12,
    "start_time": "2022-09-10T08:04:57.584Z"
   },
   {
    "duration": 471,
    "start_time": "2022-09-10T08:05:16.816Z"
   },
   {
    "duration": 21,
    "start_time": "2022-09-10T08:05:17.289Z"
   },
   {
    "duration": 16,
    "start_time": "2022-09-10T08:05:17.311Z"
   },
   {
    "duration": 9,
    "start_time": "2022-09-10T08:05:17.328Z"
   },
   {
    "duration": 36,
    "start_time": "2022-09-10T08:05:17.339Z"
   },
   {
    "duration": 3,
    "start_time": "2022-09-10T08:05:17.377Z"
   },
   {
    "duration": 10,
    "start_time": "2022-09-10T08:05:17.381Z"
   },
   {
    "duration": 5,
    "start_time": "2022-09-10T08:05:17.392Z"
   },
   {
    "duration": 30,
    "start_time": "2022-09-10T08:05:17.398Z"
   },
   {
    "duration": 4,
    "start_time": "2022-09-10T08:05:17.430Z"
   },
   {
    "duration": 36,
    "start_time": "2022-09-10T08:05:17.435Z"
   },
   {
    "duration": 14,
    "start_time": "2022-09-10T08:05:17.472Z"
   },
   {
    "duration": 7,
    "start_time": "2022-09-10T08:05:17.487Z"
   },
   {
    "duration": 36,
    "start_time": "2022-09-10T08:05:17.497Z"
   },
   {
    "duration": 20,
    "start_time": "2022-09-10T08:05:17.534Z"
   },
   {
    "duration": 15,
    "start_time": "2022-09-10T08:05:17.555Z"
   },
   {
    "duration": 3,
    "start_time": "2022-09-10T08:05:17.572Z"
   },
   {
    "duration": 12,
    "start_time": "2022-09-10T08:05:17.576Z"
   },
   {
    "duration": 9,
    "start_time": "2022-09-10T08:05:17.589Z"
   },
   {
    "duration": 3,
    "start_time": "2022-09-10T08:05:17.622Z"
   },
   {
    "duration": 10,
    "start_time": "2022-09-10T08:05:17.627Z"
   },
   {
    "duration": 1092,
    "start_time": "2022-09-10T08:05:17.638Z"
   },
   {
    "duration": 365,
    "start_time": "2022-09-10T08:05:18.731Z"
   },
   {
    "duration": 107,
    "start_time": "2022-09-10T08:05:19.098Z"
   },
   {
    "duration": 0,
    "start_time": "2022-09-10T08:05:19.206Z"
   },
   {
    "duration": 10,
    "start_time": "2022-09-10T08:06:05.375Z"
   },
   {
    "duration": 13,
    "start_time": "2022-09-10T08:08:04.314Z"
   },
   {
    "duration": 7,
    "start_time": "2022-09-10T08:08:17.027Z"
   },
   {
    "duration": 10,
    "start_time": "2022-09-10T08:08:32.936Z"
   },
   {
    "duration": 12,
    "start_time": "2022-09-10T08:09:28.498Z"
   },
   {
    "duration": 13,
    "start_time": "2022-09-10T08:09:57.788Z"
   },
   {
    "duration": 9,
    "start_time": "2022-09-10T08:10:11.846Z"
   },
   {
    "duration": 10,
    "start_time": "2022-09-10T08:10:26.301Z"
   },
   {
    "duration": 13,
    "start_time": "2022-09-10T08:11:44.646Z"
   },
   {
    "duration": 312,
    "start_time": "2022-09-10T08:15:33.542Z"
   },
   {
    "duration": 292,
    "start_time": "2022-09-10T08:38:49.868Z"
   },
   {
    "duration": 286,
    "start_time": "2022-09-10T08:39:05.869Z"
   },
   {
    "duration": 75,
    "start_time": "2022-09-10T10:14:09.637Z"
   },
   {
    "duration": 316,
    "start_time": "2022-09-10T10:14:22.317Z"
   },
   {
    "duration": 302,
    "start_time": "2022-09-10T10:15:08.548Z"
   },
   {
    "duration": 292,
    "start_time": "2022-09-10T10:24:44.253Z"
   },
   {
    "duration": 360,
    "start_time": "2022-09-10T10:28:09.550Z"
   },
   {
    "duration": 348,
    "start_time": "2022-09-10T10:28:29.298Z"
   },
   {
    "duration": 368,
    "start_time": "2022-09-10T10:31:58.667Z"
   },
   {
    "duration": 310,
    "start_time": "2022-09-10T10:44:25.437Z"
   },
   {
    "duration": 504,
    "start_time": "2022-09-10T11:33:50.807Z"
   },
   {
    "duration": 296,
    "start_time": "2022-09-10T11:34:19.349Z"
   },
   {
    "duration": 307,
    "start_time": "2022-09-10T11:35:15.486Z"
   },
   {
    "duration": 297,
    "start_time": "2022-09-10T11:35:55.216Z"
   },
   {
    "duration": 304,
    "start_time": "2022-09-10T11:38:01.034Z"
   },
   {
    "duration": 301,
    "start_time": "2022-09-10T11:39:27.567Z"
   },
   {
    "duration": 323,
    "start_time": "2022-09-10T11:39:52.856Z"
   },
   {
    "duration": 317,
    "start_time": "2022-09-10T11:41:10.867Z"
   },
   {
    "duration": 376,
    "start_time": "2022-09-10T11:42:29.570Z"
   },
   {
    "duration": 290,
    "start_time": "2022-09-10T11:43:25.902Z"
   },
   {
    "duration": 296,
    "start_time": "2022-09-10T13:25:34.973Z"
   },
   {
    "duration": 315,
    "start_time": "2022-09-10T13:26:22.722Z"
   },
   {
    "duration": 291,
    "start_time": "2022-09-10T13:27:18.523Z"
   },
   {
    "duration": 344,
    "start_time": "2022-09-10T14:05:30.124Z"
   },
   {
    "duration": 1112,
    "start_time": "2022-09-11T11:36:44.287Z"
   },
   {
    "duration": 21,
    "start_time": "2022-09-11T11:36:45.401Z"
   },
   {
    "duration": 14,
    "start_time": "2022-09-11T11:36:45.423Z"
   },
   {
    "duration": 9,
    "start_time": "2022-09-11T11:36:45.439Z"
   },
   {
    "duration": 39,
    "start_time": "2022-09-11T11:36:45.449Z"
   },
   {
    "duration": 4,
    "start_time": "2022-09-11T11:36:45.509Z"
   },
   {
    "duration": 12,
    "start_time": "2022-09-11T11:36:45.514Z"
   },
   {
    "duration": 4,
    "start_time": "2022-09-11T11:36:45.527Z"
   },
   {
    "duration": 8,
    "start_time": "2022-09-11T11:36:45.532Z"
   },
   {
    "duration": 4,
    "start_time": "2022-09-11T11:36:45.543Z"
   },
   {
    "duration": 35,
    "start_time": "2022-09-11T11:36:45.549Z"
   },
   {
    "duration": 30,
    "start_time": "2022-09-11T11:36:45.586Z"
   },
   {
    "duration": 4,
    "start_time": "2022-09-11T11:36:45.618Z"
   },
   {
    "duration": 16,
    "start_time": "2022-09-11T11:36:45.623Z"
   },
   {
    "duration": 20,
    "start_time": "2022-09-11T11:36:45.640Z"
   },
   {
    "duration": 16,
    "start_time": "2022-09-11T11:36:45.662Z"
   },
   {
    "duration": 4,
    "start_time": "2022-09-11T11:36:45.679Z"
   },
   {
    "duration": 10,
    "start_time": "2022-09-11T11:36:45.708Z"
   },
   {
    "duration": 10,
    "start_time": "2022-09-11T11:36:45.720Z"
   },
   {
    "duration": 6,
    "start_time": "2022-09-11T11:36:45.732Z"
   },
   {
    "duration": 14,
    "start_time": "2022-09-11T11:36:45.739Z"
   },
   {
    "duration": 1412,
    "start_time": "2022-09-11T11:36:45.755Z"
   },
   {
    "duration": 312,
    "start_time": "2022-09-11T11:36:47.169Z"
   },
   {
    "duration": 332,
    "start_time": "2022-09-11T11:36:47.483Z"
   },
   {
    "duration": 321,
    "start_time": "2022-09-11T11:36:47.817Z"
   },
   {
    "duration": 312,
    "start_time": "2022-09-11T11:50:56.678Z"
   },
   {
    "duration": 434,
    "start_time": "2022-09-11T11:51:08.434Z"
   },
   {
    "duration": 19,
    "start_time": "2022-09-11T11:51:08.870Z"
   },
   {
    "duration": 13,
    "start_time": "2022-09-11T11:51:08.890Z"
   },
   {
    "duration": 8,
    "start_time": "2022-09-11T11:51:08.904Z"
   },
   {
    "duration": 29,
    "start_time": "2022-09-11T11:51:08.914Z"
   },
   {
    "duration": 3,
    "start_time": "2022-09-11T11:51:08.944Z"
   },
   {
    "duration": 9,
    "start_time": "2022-09-11T11:51:08.949Z"
   },
   {
    "duration": 4,
    "start_time": "2022-09-11T11:51:08.960Z"
   },
   {
    "duration": 7,
    "start_time": "2022-09-11T11:51:08.966Z"
   },
   {
    "duration": 35,
    "start_time": "2022-09-11T11:51:08.975Z"
   },
   {
    "duration": 32,
    "start_time": "2022-09-11T11:51:09.011Z"
   },
   {
    "duration": 10,
    "start_time": "2022-09-11T11:51:09.044Z"
   },
   {
    "duration": 4,
    "start_time": "2022-09-11T11:51:09.055Z"
   },
   {
    "duration": 11,
    "start_time": "2022-09-11T11:51:09.062Z"
   },
   {
    "duration": 51,
    "start_time": "2022-09-11T11:51:09.074Z"
   },
   {
    "duration": 17,
    "start_time": "2022-09-11T11:51:09.126Z"
   },
   {
    "duration": 3,
    "start_time": "2022-09-11T11:51:09.144Z"
   },
   {
    "duration": 14,
    "start_time": "2022-09-11T11:51:09.148Z"
   },
   {
    "duration": 5,
    "start_time": "2022-09-11T11:51:09.163Z"
   },
   {
    "duration": 6,
    "start_time": "2022-09-11T11:51:09.169Z"
   },
   {
    "duration": 18,
    "start_time": "2022-09-11T11:51:09.176Z"
   },
   {
    "duration": 1021,
    "start_time": "2022-09-11T11:51:09.195Z"
   },
   {
    "duration": 314,
    "start_time": "2022-09-11T11:51:10.217Z"
   },
   {
    "duration": 313,
    "start_time": "2022-09-11T11:51:10.533Z"
   },
   {
    "duration": 295,
    "start_time": "2022-09-11T11:51:10.848Z"
   },
   {
    "duration": 300,
    "start_time": "2022-09-11T11:52:08.592Z"
   },
   {
    "duration": 333,
    "start_time": "2022-09-11T12:02:25.901Z"
   },
   {
    "duration": 321,
    "start_time": "2022-09-11T12:03:08.462Z"
   },
   {
    "duration": 315,
    "start_time": "2022-09-11T12:03:37.349Z"
   },
   {
    "duration": 339,
    "start_time": "2022-09-11T12:05:06.053Z"
   },
   {
    "duration": 102,
    "start_time": "2022-09-11T12:06:03.475Z"
   },
   {
    "duration": 166,
    "start_time": "2022-09-11T12:06:13.696Z"
   },
   {
    "duration": 129,
    "start_time": "2022-09-11T12:06:25.868Z"
   },
   {
    "duration": 117,
    "start_time": "2022-09-11T12:11:59.439Z"
   },
   {
    "duration": 384,
    "start_time": "2022-09-11T12:14:36.191Z"
   },
   {
    "duration": 327,
    "start_time": "2022-09-11T12:14:58.595Z"
   },
   {
    "duration": 7,
    "start_time": "2022-09-11T12:15:43.373Z"
   },
   {
    "duration": 336,
    "start_time": "2022-09-11T12:15:51.610Z"
   },
   {
    "duration": 290,
    "start_time": "2022-09-11T12:31:30.293Z"
   },
   {
    "duration": 368,
    "start_time": "2022-09-11T14:36:00.474Z"
   },
   {
    "duration": 355,
    "start_time": "2022-09-11T14:36:44.339Z"
   },
   {
    "duration": 313,
    "start_time": "2022-09-11T14:36:59.007Z"
   },
   {
    "duration": 297,
    "start_time": "2022-09-11T14:41:05.549Z"
   },
   {
    "duration": 302,
    "start_time": "2022-09-11T14:42:24.688Z"
   },
   {
    "duration": 287,
    "start_time": "2022-09-11T14:43:43.541Z"
   },
   {
    "duration": 372,
    "start_time": "2022-09-11T14:45:14.909Z"
   },
   {
    "duration": 324,
    "start_time": "2022-09-11T14:46:44.471Z"
   },
   {
    "duration": 304,
    "start_time": "2022-09-11T14:47:57.375Z"
   },
   {
    "duration": 297,
    "start_time": "2022-09-11T14:48:41.932Z"
   },
   {
    "duration": 309,
    "start_time": "2022-09-11T14:52:48.348Z"
   },
   {
    "duration": 305,
    "start_time": "2022-09-11T14:53:15.384Z"
   },
   {
    "duration": 401,
    "start_time": "2022-09-11T14:53:54.369Z"
   },
   {
    "duration": 354,
    "start_time": "2022-09-11T14:54:45.969Z"
   },
   {
    "duration": 309,
    "start_time": "2022-09-11T14:55:01.257Z"
   },
   {
    "duration": 322,
    "start_time": "2022-09-11T14:56:00.305Z"
   },
   {
    "duration": 315,
    "start_time": "2022-09-11T14:56:55.353Z"
   },
   {
    "duration": 314,
    "start_time": "2022-09-11T15:15:29.052Z"
   },
   {
    "duration": 288,
    "start_time": "2022-09-11T15:38:04.900Z"
   },
   {
    "duration": 298,
    "start_time": "2022-09-11T15:38:43.783Z"
   },
   {
    "duration": 676,
    "start_time": "2022-09-12T17:13:19.523Z"
   },
   {
    "duration": 25,
    "start_time": "2022-09-12T17:13:20.201Z"
   },
   {
    "duration": 16,
    "start_time": "2022-09-12T17:13:20.227Z"
   },
   {
    "duration": 7,
    "start_time": "2022-09-12T17:13:20.245Z"
   },
   {
    "duration": 56,
    "start_time": "2022-09-12T17:13:20.254Z"
   },
   {
    "duration": 3,
    "start_time": "2022-09-12T17:13:20.312Z"
   },
   {
    "duration": 12,
    "start_time": "2022-09-12T17:13:20.317Z"
   },
   {
    "duration": 8,
    "start_time": "2022-09-12T17:13:20.331Z"
   },
   {
    "duration": 8,
    "start_time": "2022-09-12T17:13:20.340Z"
   },
   {
    "duration": 5,
    "start_time": "2022-09-12T17:13:20.352Z"
   },
   {
    "duration": 72,
    "start_time": "2022-09-12T17:13:20.358Z"
   },
   {
    "duration": 13,
    "start_time": "2022-09-12T17:13:20.432Z"
   },
   {
    "duration": 7,
    "start_time": "2022-09-12T17:13:20.447Z"
   },
   {
    "duration": 21,
    "start_time": "2022-09-12T17:13:20.455Z"
   },
   {
    "duration": 33,
    "start_time": "2022-09-12T17:13:20.477Z"
   },
   {
    "duration": 22,
    "start_time": "2022-09-12T17:13:20.512Z"
   },
   {
    "duration": 6,
    "start_time": "2022-09-12T17:13:20.536Z"
   },
   {
    "duration": 14,
    "start_time": "2022-09-12T17:13:20.544Z"
   },
   {
    "duration": 8,
    "start_time": "2022-09-12T17:13:20.560Z"
   },
   {
    "duration": 30,
    "start_time": "2022-09-12T17:13:20.570Z"
   },
   {
    "duration": 14,
    "start_time": "2022-09-12T17:13:20.602Z"
   },
   {
    "duration": 1288,
    "start_time": "2022-09-12T17:13:20.618Z"
   },
   {
    "duration": 307,
    "start_time": "2022-09-12T17:13:21.909Z"
   },
   {
    "duration": 327,
    "start_time": "2022-09-12T17:13:22.217Z"
   },
   {
    "duration": 312,
    "start_time": "2022-09-12T17:13:22.546Z"
   },
   {
    "duration": 46,
    "start_time": "2022-09-12T20:41:10.123Z"
   },
   {
    "duration": 757,
    "start_time": "2022-09-12T20:41:16.622Z"
   },
   {
    "duration": 20,
    "start_time": "2022-09-12T20:41:17.381Z"
   },
   {
    "duration": 13,
    "start_time": "2022-09-12T20:41:17.402Z"
   },
   {
    "duration": 9,
    "start_time": "2022-09-12T20:41:17.416Z"
   },
   {
    "duration": 33,
    "start_time": "2022-09-12T20:41:17.427Z"
   },
   {
    "duration": 4,
    "start_time": "2022-09-12T20:41:17.462Z"
   },
   {
    "duration": 7,
    "start_time": "2022-09-12T20:41:17.470Z"
   },
   {
    "duration": 9,
    "start_time": "2022-09-12T20:41:17.478Z"
   },
   {
    "duration": 10,
    "start_time": "2022-09-12T20:41:17.488Z"
   },
   {
    "duration": 24,
    "start_time": "2022-09-12T20:41:17.500Z"
   },
   {
    "duration": 57,
    "start_time": "2022-09-12T20:41:17.526Z"
   },
   {
    "duration": 9,
    "start_time": "2022-09-12T20:41:17.586Z"
   },
   {
    "duration": 6,
    "start_time": "2022-09-12T20:41:17.596Z"
   },
   {
    "duration": 27,
    "start_time": "2022-09-12T20:41:17.604Z"
   },
   {
    "duration": 23,
    "start_time": "2022-09-12T20:41:17.632Z"
   },
   {
    "duration": 15,
    "start_time": "2022-09-12T20:41:17.656Z"
   },
   {
    "duration": 3,
    "start_time": "2022-09-12T20:41:17.672Z"
   },
   {
    "duration": 15,
    "start_time": "2022-09-12T20:41:17.677Z"
   },
   {
    "duration": 13,
    "start_time": "2022-09-12T20:41:17.694Z"
   },
   {
    "duration": 4,
    "start_time": "2022-09-12T20:41:17.721Z"
   },
   {
    "duration": 19,
    "start_time": "2022-09-12T20:41:17.727Z"
   },
   {
    "duration": 1197,
    "start_time": "2022-09-12T20:41:17.748Z"
   },
   {
    "duration": 347,
    "start_time": "2022-09-12T20:41:18.947Z"
   },
   {
    "duration": 318,
    "start_time": "2022-09-12T20:41:19.296Z"
   },
   {
    "duration": 290,
    "start_time": "2022-09-12T20:41:19.623Z"
   },
   {
    "duration": 51,
    "start_time": "2022-09-14T08:20:10.833Z"
   },
   {
    "duration": 692,
    "start_time": "2022-09-14T08:20:16.609Z"
   },
   {
    "duration": 20,
    "start_time": "2022-09-14T08:20:17.303Z"
   },
   {
    "duration": 13,
    "start_time": "2022-09-14T08:20:17.324Z"
   },
   {
    "duration": 9,
    "start_time": "2022-09-14T08:20:17.340Z"
   },
   {
    "duration": 51,
    "start_time": "2022-09-14T08:20:17.350Z"
   },
   {
    "duration": 4,
    "start_time": "2022-09-14T08:20:17.402Z"
   },
   {
    "duration": 34,
    "start_time": "2022-09-14T08:20:17.407Z"
   },
   {
    "duration": 7,
    "start_time": "2022-09-14T08:20:17.443Z"
   },
   {
    "duration": 35,
    "start_time": "2022-09-14T08:20:17.452Z"
   },
   {
    "duration": 5,
    "start_time": "2022-09-14T08:20:17.490Z"
   },
   {
    "duration": 31,
    "start_time": "2022-09-14T08:20:17.497Z"
   },
   {
    "duration": 10,
    "start_time": "2022-09-14T08:20:17.529Z"
   },
   {
    "duration": 5,
    "start_time": "2022-09-14T08:20:17.541Z"
   },
   {
    "duration": 11,
    "start_time": "2022-09-14T08:20:17.547Z"
   },
   {
    "duration": 19,
    "start_time": "2022-09-14T08:20:17.560Z"
   },
   {
    "duration": 34,
    "start_time": "2022-09-14T08:20:17.581Z"
   },
   {
    "duration": 3,
    "start_time": "2022-09-14T08:20:17.616Z"
   },
   {
    "duration": 18,
    "start_time": "2022-09-14T08:20:17.621Z"
   },
   {
    "duration": 13,
    "start_time": "2022-09-14T08:20:17.640Z"
   },
   {
    "duration": 6,
    "start_time": "2022-09-14T08:20:17.655Z"
   },
   {
    "duration": 12,
    "start_time": "2022-09-14T08:20:17.662Z"
   },
   {
    "duration": 1189,
    "start_time": "2022-09-14T08:20:17.675Z"
   },
   {
    "duration": 305,
    "start_time": "2022-09-14T08:20:18.865Z"
   },
   {
    "duration": 328,
    "start_time": "2022-09-14T08:20:19.172Z"
   },
   {
    "duration": 290,
    "start_time": "2022-09-14T08:20:19.502Z"
   },
   {
    "duration": 344,
    "start_time": "2022-09-14T08:20:55.830Z"
   },
   {
    "duration": 382,
    "start_time": "2022-09-14T08:24:21.351Z"
   },
   {
    "duration": 364,
    "start_time": "2022-09-14T08:24:44.089Z"
   },
   {
    "duration": 361,
    "start_time": "2022-09-14T08:25:08.813Z"
   },
   {
    "duration": 335,
    "start_time": "2022-09-14T08:27:59.258Z"
   },
   {
    "duration": 431,
    "start_time": "2022-09-14T08:28:19.396Z"
   },
   {
    "duration": 334,
    "start_time": "2022-09-14T08:31:23.688Z"
   },
   {
    "duration": 333,
    "start_time": "2022-09-14T08:31:55.545Z"
   },
   {
    "duration": 331,
    "start_time": "2022-09-14T08:32:07.223Z"
   },
   {
    "duration": 541,
    "start_time": "2022-09-14T08:40:52.219Z"
   },
   {
    "duration": 451,
    "start_time": "2022-09-14T08:41:14.939Z"
   },
   {
    "duration": 116,
    "start_time": "2022-09-14T08:43:05.479Z"
   },
   {
    "duration": 336,
    "start_time": "2022-09-14T08:43:13.331Z"
   },
   {
    "duration": 347,
    "start_time": "2022-09-14T08:44:48.980Z"
   },
   {
    "duration": 331,
    "start_time": "2022-09-14T08:45:06.259Z"
   },
   {
    "duration": 374,
    "start_time": "2022-09-14T08:46:09.701Z"
   },
   {
    "duration": 5,
    "start_time": "2022-09-14T08:48:23.948Z"
   },
   {
    "duration": 434,
    "start_time": "2022-09-14T08:48:31.856Z"
   },
   {
    "duration": 381,
    "start_time": "2022-09-14T08:49:13.922Z"
   },
   {
    "duration": 337,
    "start_time": "2022-09-14T08:50:25.246Z"
   },
   {
    "duration": 341,
    "start_time": "2022-09-14T08:52:48.778Z"
   },
   {
    "duration": 341,
    "start_time": "2022-09-14T08:53:30.727Z"
   },
   {
    "duration": 444,
    "start_time": "2022-09-14T08:54:14.257Z"
   },
   {
    "duration": 367,
    "start_time": "2022-09-14T08:54:58.549Z"
   },
   {
    "duration": 336,
    "start_time": "2022-09-14T08:57:51.528Z"
   },
   {
    "duration": 2970,
    "start_time": "2022-09-14T09:00:02.348Z"
   },
   {
    "duration": 1821,
    "start_time": "2022-09-14T09:01:01.176Z"
   },
   {
    "duration": 1751,
    "start_time": "2022-09-14T09:02:06.229Z"
   },
   {
    "duration": 1232,
    "start_time": "2022-09-14T09:02:51.646Z"
   },
   {
    "duration": 449,
    "start_time": "2022-09-14T09:03:51.005Z"
   },
   {
    "duration": 9153,
    "start_time": "2022-09-14T09:05:21.943Z"
   },
   {
    "duration": 389,
    "start_time": "2022-09-14T09:06:21.077Z"
   },
   {
    "duration": 422,
    "start_time": "2022-09-14T09:15:07.818Z"
   },
   {
    "duration": 419,
    "start_time": "2022-09-14T09:15:35.420Z"
   },
   {
    "duration": 430,
    "start_time": "2022-09-14T09:16:33.779Z"
   },
   {
    "duration": 442,
    "start_time": "2022-09-14T09:17:22.627Z"
   },
   {
    "duration": 460,
    "start_time": "2022-09-14T09:17:56.517Z"
   },
   {
    "duration": 417,
    "start_time": "2022-09-14T09:18:39.926Z"
   },
   {
    "duration": 473,
    "start_time": "2022-09-14T09:19:00.878Z"
   },
   {
    "duration": 1744,
    "start_time": "2022-09-14T09:22:30.985Z"
   },
   {
    "duration": 450,
    "start_time": "2022-09-14T09:22:40.363Z"
   },
   {
    "duration": 22,
    "start_time": "2022-09-14T09:22:40.816Z"
   },
   {
    "duration": 17,
    "start_time": "2022-09-14T09:22:40.839Z"
   },
   {
    "duration": 11,
    "start_time": "2022-09-14T09:22:40.858Z"
   },
   {
    "duration": 45,
    "start_time": "2022-09-14T09:22:40.900Z"
   },
   {
    "duration": 6,
    "start_time": "2022-09-14T09:22:40.947Z"
   },
   {
    "duration": 11,
    "start_time": "2022-09-14T09:22:40.955Z"
   },
   {
    "duration": 5,
    "start_time": "2022-09-14T09:22:40.968Z"
   },
   {
    "duration": 29,
    "start_time": "2022-09-14T09:22:40.975Z"
   },
   {
    "duration": 5,
    "start_time": "2022-09-14T09:22:41.007Z"
   },
   {
    "duration": 37,
    "start_time": "2022-09-14T09:22:41.013Z"
   },
   {
    "duration": 14,
    "start_time": "2022-09-14T09:22:41.051Z"
   },
   {
    "duration": 3,
    "start_time": "2022-09-14T09:22:41.067Z"
   },
   {
    "duration": 43,
    "start_time": "2022-09-14T09:22:41.073Z"
   },
   {
    "duration": 26,
    "start_time": "2022-09-14T09:22:41.118Z"
   },
   {
    "duration": 24,
    "start_time": "2022-09-14T09:22:41.146Z"
   },
   {
    "duration": 31,
    "start_time": "2022-09-14T09:22:41.172Z"
   },
   {
    "duration": 20,
    "start_time": "2022-09-14T09:22:41.204Z"
   },
   {
    "duration": 8,
    "start_time": "2022-09-14T09:22:41.231Z"
   },
   {
    "duration": 6,
    "start_time": "2022-09-14T09:22:41.241Z"
   },
   {
    "duration": 15,
    "start_time": "2022-09-14T09:22:41.248Z"
   },
   {
    "duration": 2812,
    "start_time": "2022-09-14T09:22:41.265Z"
   },
   {
    "duration": 0,
    "start_time": "2022-09-14T09:22:44.079Z"
   },
   {
    "duration": 0,
    "start_time": "2022-09-14T09:22:44.081Z"
   },
   {
    "duration": 0,
    "start_time": "2022-09-14T09:22:44.082Z"
   },
   {
    "duration": 1658,
    "start_time": "2022-09-14T09:23:14.922Z"
   },
   {
    "duration": 361,
    "start_time": "2022-09-14T09:24:37.660Z"
   },
   {
    "duration": 359,
    "start_time": "2022-09-14T09:24:47.323Z"
   },
   {
    "duration": 101,
    "start_time": "2022-09-14T09:49:05.201Z"
   },
   {
    "duration": 62,
    "start_time": "2022-09-14T09:49:09.299Z"
   },
   {
    "duration": 500,
    "start_time": "2022-09-14T09:49:25.985Z"
   },
   {
    "duration": 23,
    "start_time": "2022-09-14T09:49:26.486Z"
   },
   {
    "duration": 16,
    "start_time": "2022-09-14T09:49:26.511Z"
   },
   {
    "duration": 15,
    "start_time": "2022-09-14T09:49:26.529Z"
   },
   {
    "duration": 60,
    "start_time": "2022-09-14T09:49:26.546Z"
   },
   {
    "duration": 4,
    "start_time": "2022-09-14T09:49:26.607Z"
   },
   {
    "duration": 11,
    "start_time": "2022-09-14T09:49:26.612Z"
   },
   {
    "duration": 4,
    "start_time": "2022-09-14T09:49:26.625Z"
   },
   {
    "duration": 13,
    "start_time": "2022-09-14T09:49:26.631Z"
   },
   {
    "duration": 5,
    "start_time": "2022-09-14T09:49:26.647Z"
   },
   {
    "duration": 59,
    "start_time": "2022-09-14T09:49:26.654Z"
   },
   {
    "duration": 8,
    "start_time": "2022-09-14T09:49:26.715Z"
   },
   {
    "duration": 5,
    "start_time": "2022-09-14T09:49:26.724Z"
   },
   {
    "duration": 14,
    "start_time": "2022-09-14T09:49:26.731Z"
   },
   {
    "duration": 19,
    "start_time": "2022-09-14T09:49:26.746Z"
   },
   {
    "duration": 41,
    "start_time": "2022-09-14T09:49:26.767Z"
   },
   {
    "duration": 3,
    "start_time": "2022-09-14T09:49:26.809Z"
   },
   {
    "duration": 12,
    "start_time": "2022-09-14T09:49:26.814Z"
   },
   {
    "duration": 5,
    "start_time": "2022-09-14T09:49:26.828Z"
   },
   {
    "duration": 5,
    "start_time": "2022-09-14T09:49:26.834Z"
   },
   {
    "duration": 11,
    "start_time": "2022-09-14T09:49:26.840Z"
   },
   {
    "duration": 162,
    "start_time": "2022-09-14T09:49:26.852Z"
   },
   {
    "duration": 0,
    "start_time": "2022-09-14T09:49:27.016Z"
   },
   {
    "duration": 0,
    "start_time": "2022-09-14T09:49:27.017Z"
   },
   {
    "duration": 0,
    "start_time": "2022-09-14T09:49:27.018Z"
   },
   {
    "duration": 1144,
    "start_time": "2022-09-14T09:49:58.592Z"
   },
   {
    "duration": 362,
    "start_time": "2022-09-14T09:50:29.008Z"
   },
   {
    "duration": 343,
    "start_time": "2022-09-14T09:52:14.657Z"
   },
   {
    "duration": 346,
    "start_time": "2022-09-14T09:52:35.225Z"
   },
   {
    "duration": 382,
    "start_time": "2022-09-14T09:53:24.529Z"
   },
   {
    "duration": 352,
    "start_time": "2022-09-14T09:54:00.111Z"
   },
   {
    "duration": 513,
    "start_time": "2022-09-14T09:55:54.313Z"
   },
   {
    "duration": 345,
    "start_time": "2022-09-14T09:56:06.592Z"
   },
   {
    "duration": 391,
    "start_time": "2022-09-14T09:56:29.489Z"
   },
   {
    "duration": 482,
    "start_time": "2022-09-14T10:01:36.852Z"
   },
   {
    "duration": 2003,
    "start_time": "2022-09-14T10:05:55.659Z"
   },
   {
    "duration": 2465,
    "start_time": "2022-09-14T10:06:19.529Z"
   },
   {
    "duration": 1768,
    "start_time": "2022-09-14T10:06:41.090Z"
   },
   {
    "duration": 423,
    "start_time": "2022-09-14T10:13:09.301Z"
   },
   {
    "duration": 372,
    "start_time": "2022-09-14T10:13:21.219Z"
   },
   {
    "duration": 379,
    "start_time": "2022-09-14T10:13:30.746Z"
   },
   {
    "duration": 366,
    "start_time": "2022-09-14T10:13:37.734Z"
   },
   {
    "duration": 349,
    "start_time": "2022-09-14T10:25:13.212Z"
   },
   {
    "duration": 397,
    "start_time": "2022-09-14T10:25:30.340Z"
   },
   {
    "duration": 354,
    "start_time": "2022-09-14T10:27:44.679Z"
   },
   {
    "duration": 457,
    "start_time": "2022-09-14T10:28:21.051Z"
   },
   {
    "duration": 322,
    "start_time": "2022-09-14T10:34:38.682Z"
   },
   {
    "duration": 331,
    "start_time": "2022-09-14T10:34:51.699Z"
   },
   {
    "duration": 1770,
    "start_time": "2022-09-14T10:35:20.738Z"
   },
   {
    "duration": 2011,
    "start_time": "2022-09-14T10:36:19.971Z"
   },
   {
    "duration": 1473,
    "start_time": "2022-09-14T10:36:35.116Z"
   },
   {
    "duration": 333,
    "start_time": "2022-09-14T10:36:53.490Z"
   },
   {
    "duration": 337,
    "start_time": "2022-09-14T10:37:10.368Z"
   },
   {
    "duration": 321,
    "start_time": "2022-09-14T10:37:28.084Z"
   },
   {
    "duration": 343,
    "start_time": "2022-09-14T10:37:41.012Z"
   },
   {
    "duration": 360,
    "start_time": "2022-09-14T10:37:54.556Z"
   },
   {
    "duration": 437,
    "start_time": "2022-09-14T10:38:38.141Z"
   },
   {
    "duration": 395,
    "start_time": "2022-09-14T10:38:51.492Z"
   },
   {
    "duration": 399,
    "start_time": "2022-09-14T10:39:51.417Z"
   },
   {
    "duration": 353,
    "start_time": "2022-09-14T10:41:46.236Z"
   },
   {
    "duration": 358,
    "start_time": "2022-09-14T10:42:42.505Z"
   },
   {
    "duration": 359,
    "start_time": "2022-09-14T10:42:56.968Z"
   },
   {
    "duration": 518,
    "start_time": "2022-09-14T10:44:10.578Z"
   },
   {
    "duration": 324,
    "start_time": "2022-09-14T10:46:28.443Z"
   },
   {
    "duration": 329,
    "start_time": "2022-09-14T10:46:59.331Z"
   },
   {
    "duration": 516,
    "start_time": "2022-09-14T10:47:31.363Z"
   },
   {
    "duration": 431,
    "start_time": "2022-09-14T10:47:58.898Z"
   },
   {
    "duration": 554,
    "start_time": "2022-09-14T10:48:43.300Z"
   },
   {
    "duration": 326,
    "start_time": "2022-09-14T10:49:51.424Z"
   },
   {
    "duration": 433,
    "start_time": "2022-09-14T10:50:52.286Z"
   },
   {
    "duration": 492,
    "start_time": "2022-09-14T11:47:22.643Z"
   },
   {
    "duration": 403,
    "start_time": "2022-09-14T11:48:25.084Z"
   },
   {
    "duration": 373,
    "start_time": "2022-09-14T11:48:37.936Z"
   },
   {
    "duration": 375,
    "start_time": "2022-09-14T11:49:06.815Z"
   },
   {
    "duration": 372,
    "start_time": "2022-09-14T11:54:27.961Z"
   },
   {
    "duration": 410,
    "start_time": "2022-09-14T12:00:33.443Z"
   },
   {
    "duration": 398,
    "start_time": "2022-09-14T12:00:47.490Z"
   },
   {
    "duration": 387,
    "start_time": "2022-09-14T12:01:18.099Z"
   },
   {
    "duration": 255,
    "start_time": "2022-09-14T12:23:34.860Z"
   },
   {
    "duration": 827,
    "start_time": "2022-09-14T12:24:01.174Z"
   },
   {
    "duration": 480,
    "start_time": "2022-09-14T12:24:18.654Z"
   },
   {
    "duration": 613,
    "start_time": "2022-09-14T12:25:42.199Z"
   },
   {
    "duration": 559,
    "start_time": "2022-09-14T12:27:29.851Z"
   },
   {
    "duration": 367,
    "start_time": "2022-09-14T12:32:15.522Z"
   },
   {
    "duration": 8,
    "start_time": "2022-09-14T12:33:01.479Z"
   },
   {
    "duration": 185,
    "start_time": "2022-09-14T12:35:35.812Z"
   },
   {
    "duration": 21,
    "start_time": "2022-09-14T12:36:07.174Z"
   },
   {
    "duration": 36,
    "start_time": "2022-09-14T12:36:51.280Z"
   },
   {
    "duration": 24,
    "start_time": "2022-09-14T12:36:56.542Z"
   },
   {
    "duration": 26,
    "start_time": "2022-09-14T12:38:12.486Z"
   },
   {
    "duration": 36,
    "start_time": "2022-09-14T12:38:47.483Z"
   },
   {
    "duration": 32,
    "start_time": "2022-09-14T12:39:04.180Z"
   },
   {
    "duration": 219,
    "start_time": "2022-09-14T12:39:26.944Z"
   },
   {
    "duration": 186,
    "start_time": "2022-09-14T12:42:48.178Z"
   },
   {
    "duration": 124,
    "start_time": "2022-09-14T12:44:09.574Z"
   },
   {
    "duration": 282,
    "start_time": "2022-09-14T12:44:35.234Z"
   },
   {
    "duration": 140,
    "start_time": "2022-09-14T12:44:43.929Z"
   },
   {
    "duration": 277,
    "start_time": "2022-09-14T12:46:24.722Z"
   },
   {
    "duration": 1169,
    "start_time": "2022-09-14T12:47:27.250Z"
   },
   {
    "duration": 1518,
    "start_time": "2022-09-14T12:47:52.380Z"
   },
   {
    "duration": 1265,
    "start_time": "2022-09-14T12:48:57.528Z"
   },
   {
    "duration": 1166,
    "start_time": "2022-09-14T12:49:19.105Z"
   },
   {
    "duration": 206,
    "start_time": "2022-09-14T12:53:34.615Z"
   },
   {
    "duration": 164,
    "start_time": "2022-09-14T12:54:18.054Z"
   },
   {
    "duration": 1528,
    "start_time": "2022-09-14T12:56:00.341Z"
   },
   {
    "duration": 2125,
    "start_time": "2022-09-14T12:56:31.848Z"
   },
   {
    "duration": 56,
    "start_time": "2022-09-14T12:57:17.169Z"
   },
   {
    "duration": 20,
    "start_time": "2022-09-14T12:57:45.371Z"
   },
   {
    "duration": 150,
    "start_time": "2022-09-14T12:58:09.038Z"
   },
   {
    "duration": 20,
    "start_time": "2022-09-14T12:58:49.121Z"
   },
   {
    "duration": 313,
    "start_time": "2022-09-14T13:04:32.634Z"
   },
   {
    "duration": 15,
    "start_time": "2022-09-14T13:04:48.770Z"
   },
   {
    "duration": 15,
    "start_time": "2022-09-14T13:06:52.139Z"
   },
   {
    "duration": 12,
    "start_time": "2022-09-14T13:08:10.229Z"
   },
   {
    "duration": 18,
    "start_time": "2022-09-14T13:27:43.080Z"
   },
   {
    "duration": 31,
    "start_time": "2022-09-14T13:27:50.794Z"
   },
   {
    "duration": 472,
    "start_time": "2022-09-14T13:27:59.464Z"
   },
   {
    "duration": 22,
    "start_time": "2022-09-14T13:27:59.938Z"
   },
   {
    "duration": 19,
    "start_time": "2022-09-14T13:27:59.961Z"
   },
   {
    "duration": 39,
    "start_time": "2022-09-14T13:27:59.982Z"
   },
   {
    "duration": 36,
    "start_time": "2022-09-14T13:28:00.026Z"
   },
   {
    "duration": 4,
    "start_time": "2022-09-14T13:28:00.064Z"
   },
   {
    "duration": 32,
    "start_time": "2022-09-14T13:28:00.069Z"
   },
   {
    "duration": 45,
    "start_time": "2022-09-14T13:28:00.107Z"
   },
   {
    "duration": 30,
    "start_time": "2022-09-14T13:28:00.154Z"
   },
   {
    "duration": 48,
    "start_time": "2022-09-14T13:28:00.187Z"
   },
   {
    "duration": 55,
    "start_time": "2022-09-14T13:28:00.237Z"
   },
   {
    "duration": 46,
    "start_time": "2022-09-14T13:28:00.294Z"
   },
   {
    "duration": 28,
    "start_time": "2022-09-14T13:28:00.341Z"
   },
   {
    "duration": 57,
    "start_time": "2022-09-14T13:28:00.371Z"
   },
   {
    "duration": 32,
    "start_time": "2022-09-14T13:28:00.430Z"
   },
   {
    "duration": 53,
    "start_time": "2022-09-14T13:28:00.463Z"
   },
   {
    "duration": 36,
    "start_time": "2022-09-14T13:28:00.523Z"
   },
   {
    "duration": 26,
    "start_time": "2022-09-14T13:28:00.561Z"
   },
   {
    "duration": 69,
    "start_time": "2022-09-14T13:28:00.588Z"
   },
   {
    "duration": 16,
    "start_time": "2022-09-14T13:28:00.659Z"
   },
   {
    "duration": 59,
    "start_time": "2022-09-14T13:28:00.677Z"
   },
   {
    "duration": 1259,
    "start_time": "2022-09-14T13:28:00.738Z"
   },
   {
    "duration": 419,
    "start_time": "2022-09-14T13:28:02.003Z"
   },
   {
    "duration": 365,
    "start_time": "2022-09-14T13:28:02.426Z"
   },
   {
    "duration": 139,
    "start_time": "2022-09-14T13:28:02.793Z"
   },
   {
    "duration": 0,
    "start_time": "2022-09-14T13:28:02.934Z"
   },
   {
    "duration": 26,
    "start_time": "2022-09-14T13:28:29.290Z"
   },
   {
    "duration": 17,
    "start_time": "2022-09-14T13:29:55.854Z"
   },
   {
    "duration": 16,
    "start_time": "2022-09-14T13:30:13.752Z"
   },
   {
    "duration": 17,
    "start_time": "2022-09-14T13:33:59.725Z"
   },
   {
    "duration": 17,
    "start_time": "2022-09-14T13:34:40.633Z"
   },
   {
    "duration": 12,
    "start_time": "2022-09-14T13:35:16.555Z"
   },
   {
    "duration": 111,
    "start_time": "2022-09-14T13:43:37.312Z"
   },
   {
    "duration": 81,
    "start_time": "2022-09-14T13:43:53.923Z"
   },
   {
    "duration": 472,
    "start_time": "2022-09-14T13:44:08.213Z"
   },
   {
    "duration": 30,
    "start_time": "2022-09-14T13:44:08.687Z"
   },
   {
    "duration": 16,
    "start_time": "2022-09-14T13:44:08.719Z"
   },
   {
    "duration": 8,
    "start_time": "2022-09-14T13:44:08.736Z"
   },
   {
    "duration": 29,
    "start_time": "2022-09-14T13:44:08.745Z"
   },
   {
    "duration": 4,
    "start_time": "2022-09-14T13:44:08.775Z"
   },
   {
    "duration": 27,
    "start_time": "2022-09-14T13:44:08.780Z"
   },
   {
    "duration": 9,
    "start_time": "2022-09-14T13:44:08.809Z"
   },
   {
    "duration": 13,
    "start_time": "2022-09-14T13:44:08.820Z"
   },
   {
    "duration": 5,
    "start_time": "2022-09-14T13:44:08.835Z"
   },
   {
    "duration": 34,
    "start_time": "2022-09-14T13:44:08.842Z"
   },
   {
    "duration": 36,
    "start_time": "2022-09-14T13:44:08.877Z"
   },
   {
    "duration": 12,
    "start_time": "2022-09-14T13:44:08.915Z"
   },
   {
    "duration": 12,
    "start_time": "2022-09-14T13:44:08.930Z"
   },
   {
    "duration": 23,
    "start_time": "2022-09-14T13:44:08.944Z"
   },
   {
    "duration": 14,
    "start_time": "2022-09-14T13:44:08.969Z"
   },
   {
    "duration": 18,
    "start_time": "2022-09-14T13:44:08.984Z"
   },
   {
    "duration": 16,
    "start_time": "2022-09-14T13:44:09.004Z"
   },
   {
    "duration": 6,
    "start_time": "2022-09-14T13:44:09.022Z"
   },
   {
    "duration": 16,
    "start_time": "2022-09-14T13:44:09.029Z"
   },
   {
    "duration": 18,
    "start_time": "2022-09-14T13:44:09.046Z"
   },
   {
    "duration": 1160,
    "start_time": "2022-09-14T13:44:09.066Z"
   },
   {
    "duration": 318,
    "start_time": "2022-09-14T13:44:10.227Z"
   },
   {
    "duration": 331,
    "start_time": "2022-09-14T13:44:10.547Z"
   },
   {
    "duration": 108,
    "start_time": "2022-09-14T13:44:10.879Z"
   },
   {
    "duration": 0,
    "start_time": "2022-09-14T13:44:10.989Z"
   },
   {
    "duration": 74,
    "start_time": "2022-09-14T13:44:46.889Z"
   },
   {
    "duration": 239,
    "start_time": "2022-09-14T13:45:01.247Z"
   },
   {
    "duration": 63,
    "start_time": "2022-09-14T13:45:13.717Z"
   },
   {
    "duration": 55,
    "start_time": "2022-09-14T13:45:19.482Z"
   },
   {
    "duration": 120,
    "start_time": "2022-09-14T13:45:32.385Z"
   },
   {
    "duration": 21,
    "start_time": "2022-09-14T13:45:43.220Z"
   },
   {
    "duration": 12,
    "start_time": "2022-09-14T13:46:45.473Z"
   },
   {
    "duration": 103,
    "start_time": "2022-09-15T05:15:03.708Z"
   },
   {
    "duration": 44,
    "start_time": "2022-09-15T11:06:18.542Z"
   },
   {
    "duration": 483,
    "start_time": "2022-09-15T11:06:27.937Z"
   },
   {
    "duration": 21,
    "start_time": "2022-09-15T11:06:28.422Z"
   },
   {
    "duration": 14,
    "start_time": "2022-09-15T11:06:28.445Z"
   },
   {
    "duration": 9,
    "start_time": "2022-09-15T11:06:28.460Z"
   },
   {
    "duration": 34,
    "start_time": "2022-09-15T11:06:28.470Z"
   },
   {
    "duration": 3,
    "start_time": "2022-09-15T11:06:28.506Z"
   },
   {
    "duration": 12,
    "start_time": "2022-09-15T11:06:28.510Z"
   },
   {
    "duration": 4,
    "start_time": "2022-09-15T11:06:28.523Z"
   },
   {
    "duration": 8,
    "start_time": "2022-09-15T11:06:28.528Z"
   },
   {
    "duration": 4,
    "start_time": "2022-09-15T11:06:28.540Z"
   },
   {
    "duration": 51,
    "start_time": "2022-09-15T11:06:28.545Z"
   },
   {
    "duration": 8,
    "start_time": "2022-09-15T11:06:28.598Z"
   },
   {
    "duration": 5,
    "start_time": "2022-09-15T11:06:28.607Z"
   },
   {
    "duration": 10,
    "start_time": "2022-09-15T11:06:28.613Z"
   },
   {
    "duration": 19,
    "start_time": "2022-09-15T11:06:28.624Z"
   },
   {
    "duration": 34,
    "start_time": "2022-09-15T11:06:28.644Z"
   },
   {
    "duration": 6,
    "start_time": "2022-09-15T11:06:28.680Z"
   },
   {
    "duration": 9,
    "start_time": "2022-09-15T11:06:28.687Z"
   },
   {
    "duration": 9,
    "start_time": "2022-09-15T11:06:28.697Z"
   },
   {
    "duration": 3,
    "start_time": "2022-09-15T11:06:28.707Z"
   },
   {
    "duration": 8,
    "start_time": "2022-09-15T11:06:28.712Z"
   },
   {
    "duration": 1270,
    "start_time": "2022-09-15T11:06:28.721Z"
   },
   {
    "duration": 321,
    "start_time": "2022-09-15T11:06:29.993Z"
   },
   {
    "duration": 375,
    "start_time": "2022-09-15T11:06:30.316Z"
   },
   {
    "duration": 13,
    "start_time": "2022-09-15T11:06:30.693Z"
   },
   {
    "duration": 316,
    "start_time": "2022-09-15T11:06:30.708Z"
   },
   {
    "duration": 43,
    "start_time": "2022-10-10T13:05:10.682Z"
   },
   {
    "duration": 673,
    "start_time": "2022-10-10T13:05:16.082Z"
   },
   {
    "duration": 20,
    "start_time": "2022-10-10T13:05:16.756Z"
   },
   {
    "duration": 13,
    "start_time": "2022-10-10T13:05:16.778Z"
   },
   {
    "duration": 9,
    "start_time": "2022-10-10T13:05:16.793Z"
   },
   {
    "duration": 41,
    "start_time": "2022-10-10T13:05:16.803Z"
   },
   {
    "duration": 3,
    "start_time": "2022-10-10T13:05:16.845Z"
   },
   {
    "duration": 9,
    "start_time": "2022-10-10T13:05:16.850Z"
   },
   {
    "duration": 5,
    "start_time": "2022-10-10T13:05:16.861Z"
   },
   {
    "duration": 8,
    "start_time": "2022-10-10T13:05:16.868Z"
   },
   {
    "duration": 5,
    "start_time": "2022-10-10T13:05:16.878Z"
   },
   {
    "duration": 50,
    "start_time": "2022-10-10T13:05:16.884Z"
   },
   {
    "duration": 9,
    "start_time": "2022-10-10T13:05:16.936Z"
   },
   {
    "duration": 5,
    "start_time": "2022-10-10T13:05:16.947Z"
   },
   {
    "duration": 12,
    "start_time": "2022-10-10T13:05:16.954Z"
   },
   {
    "duration": 19,
    "start_time": "2022-10-10T13:05:16.967Z"
   },
   {
    "duration": 47,
    "start_time": "2022-10-10T13:05:16.987Z"
   },
   {
    "duration": 3,
    "start_time": "2022-10-10T13:05:17.036Z"
   },
   {
    "duration": 12,
    "start_time": "2022-10-10T13:05:17.040Z"
   },
   {
    "duration": 5,
    "start_time": "2022-10-10T13:05:17.054Z"
   },
   {
    "duration": 9,
    "start_time": "2022-10-10T13:05:17.060Z"
   },
   {
    "duration": 37,
    "start_time": "2022-10-10T13:05:17.071Z"
   },
   {
    "duration": 1048,
    "start_time": "2022-10-10T13:05:17.110Z"
   },
   {
    "duration": 335,
    "start_time": "2022-10-10T13:05:18.159Z"
   },
   {
    "duration": 318,
    "start_time": "2022-10-10T13:05:18.496Z"
   },
   {
    "duration": 16,
    "start_time": "2022-10-10T13:05:18.815Z"
   },
   {
    "duration": 368,
    "start_time": "2022-10-10T13:05:18.833Z"
   }
  ],
  "colab": {
   "name": "dpp_template_part2.ipynb",
   "provenance": []
  },
  "kernelspec": {
   "display_name": "Python 3 (ipykernel)",
   "language": "python",
   "name": "python3"
  },
  "language_info": {
   "codemirror_mode": {
    "name": "ipython",
    "version": 3
   },
   "file_extension": ".py",
   "mimetype": "text/x-python",
   "name": "python",
   "nbconvert_exporter": "python",
   "pygments_lexer": "ipython3",
   "version": "3.9.5"
  },
  "toc": {
   "base_numbering": 1,
   "nav_menu": {},
   "number_sections": true,
   "sideBar": true,
   "skip_h1_title": true,
   "title_cell": "Table of Contents",
   "title_sidebar": "Contents",
   "toc_cell": false,
   "toc_position": {},
   "toc_section_display": true,
   "toc_window_display": false
  }
 },
 "nbformat": 4,
 "nbformat_minor": 5
}
